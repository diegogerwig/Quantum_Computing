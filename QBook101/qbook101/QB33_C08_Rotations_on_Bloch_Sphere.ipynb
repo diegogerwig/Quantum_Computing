{
 "cells": [
  {
   "cell_type": "markdown",
   "metadata": {},
   "source": [
    "<a href=\"https://qworld.net\" target=\"_blank\" align=\"left\"><img src=\"https://gitlab.com/qworld/qeducation/qbook101/raw/main/qworld/images/header.jpg\" align=\"left\"></a>\n",
    "$ \\newcommand{\\bra}[1]{\\langle #1|} $\n",
    "$ \\newcommand{\\ket}[1]{|#1\\rangle} $\n",
    "$ \\newcommand{\\braket}[2]{\\langle #1|#2\\rangle} $\n",
    "$ \\newcommand{\\dot}[2]{ #1 \\cdot #2} $\n",
    "$ \\newcommand{\\biginner}[2]{\\left\\langle #1,#2\\right\\rangle} $\n",
    "$ \\newcommand{\\mymatrix}[2]{\\left( \\begin{array}{#1} #2\\end{array} \\right)} $\n",
    "$ \\newcommand{\\myvector}[1]{\\mymatrix{c}{#1}} $\n",
    "$ \\newcommand{\\myrvector}[1]{\\mymatrix{r}{#1}} $\n",
    "$ \\newcommand{\\mypar}[1]{\\left( #1 \\right)} $\n",
    "$ \\newcommand{\\mybigpar}[1]{ \\Big( #1 \\Big)} $\n",
    "$ \\newcommand{\\sqrttwo}{\\frac{1}{\\sqrt{2}}} $\n",
    "$ \\newcommand{\\dsqrttwo}{\\dfrac{1}{\\sqrt{2}}} $\n",
    "$ \\newcommand{\\onehalf}{\\frac{1}{2}} $\n",
    "$ \\newcommand{\\donehalf}{\\dfrac{1}{2}} $\n",
    "$ \\newcommand{\\hadamard}{ \\mymatrix{rr}{ \\sqrttwo & \\sqrttwo \\\\ \\sqrttwo & -\\sqrttwo }} $\n",
    "$ \\newcommand{\\vzero}{\\myvector{1\\\\0}} $\n",
    "$ \\newcommand{\\vone}{\\myvector{0\\\\1}} $\n",
    "$ \\newcommand{\\stateplus}{\\myvector{ \\sqrttwo \\\\  \\sqrttwo } } $\n",
    "$ \\newcommand{\\stateminus}{ \\myrvector{ \\sqrttwo \\\\ -\\sqrttwo } } $\n",
    "$ \\newcommand{\\myarray}[2]{ \\begin{array}{#1}#2\\end{array}} $\n",
    "$ \\newcommand{\\X}{ \\mymatrix{cc}{0 & 1 \\\\ 1 & 0}  } $\n",
    "$ \\newcommand{\\Z}{ \\mymatrix{rr}{1 & 0 \\\\ 0 & -1}  } $\n",
    "$ \\newcommand{\\Htwo}{ \\mymatrix{rrrr}{ \\frac{1}{2} & \\frac{1}{2} & \\frac{1}{2} & \\frac{1}{2} \\\\ \\frac{1}{2} & -\\frac{1}{2} & \\frac{1}{2} & -\\frac{1}{2} \\\\ \\frac{1}{2} & \\frac{1}{2} & -\\frac{1}{2} & -\\frac{1}{2} \\\\ \\frac{1}{2} & -\\frac{1}{2} & -\\frac{1}{2} & \\frac{1}{2} } } $\n",
    "$ \\newcommand{\\CNOT}{ \\mymatrix{cccc}{1 & 0 & 0 & 0 \\\\ 0 & 1 & 0 & 0 \\\\ 0 & 0 & 0 & 1 \\\\ 0 & 0 & 1 & 0} } $\n",
    "$ \\newcommand{\\norm}[1]{ \\left\\lVert #1 \\right\\rVert } $\n",
    "$ \\newcommand{\\pstate}[1]{ \\lceil \\mspace{-1mu} #1 \\mspace{-1.5mu} \\rfloor } $\n",
    "$ \\newcommand{\\Y}{ \\mymatrix{rr}{0 & -i \\\\ i & 0} } $\n",
    "$ \\newcommand{\\S}{ \\mymatrix{rr}{1 & 0 \\\\ 0 & i} } $\n",
    "$ \\newcommand{\\T}{ \\mymatrix{rr}{1 & 0 \\\\ 0 & e^{i \\frac{\\pi}{4}}} } $\n",
    "$ \\newcommand{\\Sdg}{ \\mymatrix{rr}{1 & 0 \\\\ 0 & -i} } $ \n",
    "$ \\newcommand{\\Tdg}{ \\mymatrix{rr}{1 & 0 \\\\ 0 & e^{-i \\frac{\\pi}{4}}} } $\n",
    "$ \\newcommand{\\qgate}[1]{ \\mathop{\\\\textit{#1} } }$"
   ]
  },
  {
   "cell_type": "markdown",
   "metadata": {},
   "source": [
    "_prepared by Maksim Dimitrijev and Abuzer Yakaryilmaz_\n",
    "<br><br>\n",
    "_Cirq adaptation by Claudia Zendejas-Morales_"
   ]
  },
  {
   "cell_type": "markdown",
   "metadata": {},
   "source": [
    "<font size=\"28px\" style=\"font-size:28px;\" align=\"left\"><b>Rotations on Bloch sphere</b></font>\n",
    "<br>\n",
    "<br><br>"
   ]
  },
  {
   "cell_type": "markdown",
   "metadata": {
    "jp-MarkdownHeadingCollapsed": true
   },
   "source": [
    "##### <font color=\"#08b806\">Please execute the following cell, it is necessary to distinguish between your local environment and Google Colab's"
   ]
  },
  {
   "cell_type": "code",
   "execution_count": null,
   "metadata": {},
   "outputs": [],
   "source": [
    "import IPython\n",
    "\n",
    "def in_colab():\n",
    "    try:\n",
    "        import google.colab\n",
    "        return True\n",
    "    except:\n",
    "        return False\n",
    "\n",
    "path_files = \"./\" if in_colab() else \"../qworld/include/\"\n",
    "\n",
    "SolutionToTask3 = lambda: IPython.display.display(IPython.display.Javascript('window.open(\"{url}\");'.format(url='https://colab.research.google.com/drive/1cqtsdajkDAOCf_nKMSSbqSP0-olhU5oK?usp=sharing#scrollTo=_5H7WqZMDiaq' if in_colab() else 'QB33_C08_Rotations_on_Bloch_Sphere_Solutions.ipynb#task3')))\n",
    "SolutionToTask4 = lambda: IPython.display.display(IPython.display.Javascript('window.open(\"{url}\");'.format(url='https://colab.research.google.com/drive/1cqtsdajkDAOCf_nKMSSbqSP0-olhU5oK?usp=sharing#scrollTo=p6dCloS9Diar' if in_colab() else 'QB33_C08_Rotations_on_Bloch_Sphere_Solutions.ipynb#task4')))\n",
    "SolutionToTask5 = lambda: IPython.display.display(IPython.display.Javascript('window.open(\"{url}\");'.format(url='https://colab.research.google.com/drive/1cqtsdajkDAOCf_nKMSSbqSP0-olhU5oK?usp=sharing#scrollTo=WdYBAZQaDias' if in_colab() else 'QB33_C08_Rotations_on_Bloch_Sphere_Solutions.ipynb#task5')))\n",
    "SolutionToTask6 = lambda: IPython.display.display(IPython.display.Javascript('window.open(\"{url}\");'.format(url='https://colab.research.google.com/drive/1cqtsdajkDAOCf_nKMSSbqSP0-olhU5oK?usp=sharing#scrollTo=a7JbkXyTDias' if in_colab() else 'QB33_C08_Rotations_on_Bloch_Sphere_Solutions.ipynb#task6')))\n",
    "SolutionToTask7 = lambda: IPython.display.display(IPython.display.Javascript('window.open(\"{url}\");'.format(url='https://colab.research.google.com/drive/1cqtsdajkDAOCf_nKMSSbqSP0-olhU5oK?usp=sharing#scrollTo=_HMVF8i3Dias' if in_colab() else 'QB33_C08_Rotations_on_Bloch_Sphere_Solutions.ipynb#task7')))\n",
    "\n",
    "if in_colab():\n",
    "    url = \"https://gitlab.com/qworld/qeducation/qbook101/raw/main/qworld/include/quantum.py\"\n",
    "    !wget --no-cache -O quantum.py {url}\n",
    "\n",
    "    url = \"https://gitlab.com/qworld/qeducation/qbook101/raw/main/qworld/include/drawing.py\"\n",
    "    !wget --no-cache -O drawing.py {url}\n",
    "\n",
    "    url = \"https://gitlab.com/qworld/qeducation/qbook101/raw/main/qworld/include/quantum_state.py\"\n",
    "    !wget --no-cache -O quantum_state.py {url}\n",
    "\n",
    "    url = \"https://gitlab.com/qworld/qeducation/qbook101/raw/main/qworld/include/grover.py\"\n",
    "    !wget --no-cache -O grover.py {url}\n",
    "\n",
    "    !pip install cirq"
   ]
  },
  {
   "cell_type": "markdown",
   "metadata": {},
   "source": [
    "##### All core single-qubit gates are rotatios on the Bloch sphere."
   ]
  },
  {
   "cell_type": "markdown",
   "metadata": {},
   "source": [
    "## Generic rotation gate\n",
    "\n",
    "We start with the generic single-qubit rotation gate with three angles:\n",
    "\n",
    "$ U_3(\\theta,\\phi,\\lambda) = \\mymatrix{cc}{\\cos \\mypar{\\frac{\\theta}{2}} & -e^{i\\lambda}\\sin \\mypar{\\frac{\\theta}{2}} \\\\ e^{i\\phi}\\sin \\mypar{\\frac{\\theta}{2}} & e^{i\\lambda + i\\phi}\\cos \\mypar{\\frac{\\theta}{2}}}, $\n",
    "\n",
    "where $0 \\leq \\theta \\leq \\pi$ and $0 \\leq \\phi, \\lambda < 2\\pi$. \n",
    "\n",
    "Here $ U_3 \\ket{0} $ gives us any arbitrary state $ \\ket{u} = \\cos{\\frac{\\theta}{2}} \\ket{0} + e^{i\\phi} \\sin{\\frac{\\theta}{2}} \\ket{1} $. This also refers to the first column of $ U_3 $."
   ]
  },
  {
   "cell_type": "markdown",
   "metadata": {},
   "source": [
    "To be a unitary operator, the second column must be orthogonal to the first column. To pick the second column arbitrary, we use $ e^{i\\lambda} $ as an arbitrary co-efficient:\n",
    "\n",
    "$ e^{i\\lambda} \\myvector{  -\\sin \\mypar{\\frac{\\theta}{2}} \\\\ e^{i\\phi} \\cos{\\frac{\\theta}{2}}  } $.\n",
    "\n",
    "Then, the inner product of both columns is \n",
    "\n",
    "$ \\begin{array}{rcl}\n",
    "\\braket{c_1}{c_2} & = & \\myvector{ \\cos{\\frac{\\theta}{2}} ~~~~ e^{-i\\phi} \\sin{\\frac{\\theta}{2}} } \\cdot e^{i\\lambda} \\myvector{  -\\sin \\mypar{\\frac{\\theta}{2}} \\\\ e^{i\\phi} \\cos{\\frac{\\theta}{2}}  } \\\\\n",
    "& = & e^{i\\lambda} \\mypar{ -\\cos{\\frac{\\theta}{2}}\\sin{\\frac{\\theta}{2}} + e^{-i\\phi+i\\phi} \\cos{\\frac{\\theta}{2}}\\sin{\\frac{\\theta}{2}}  } \\\\\n",
    "& = & 0. \\end{array} $\n",
    "\n",
    "Up to a global phase every one-qubit unitary can be expressed in this form."
   ]
  },
  {
   "cell_type": "markdown",
   "metadata": {},
   "source": [
    "_In Cirq, the `U3` gate can be implemented with the `QasmUGate` class, however it does not receive the parameters in terms of angles, so we will not use it._\n",
    "\n",
    "We define a function called `myU3(⋯)` to apply `U3(theta,phi,lam)` to the specified `qubit` of the specified `circuit`: \n",
    "\n",
    "    MyU3(circuit,theta,phi,lam,qubit)\n",
    "\n",
    "We `run quantum.py` to access `myU3(⋯)`\n",
    "\n",
    "    %run quantum.py"
   ]
  },
  {
   "cell_type": "markdown",
   "metadata": {},
   "source": [
    "## Random quantum states\n",
    "\n",
    "Below we randomly pick three quantum states and draw them on the Bloch sphere.\n",
    "\n",
    "When starting in $ \\ket{0} $, it is enough to specify $ \\theta $ and $ \\phi $ to define an arbitrary state. So, we can set $ \\lambda = 0 $."
   ]
  },
  {
   "cell_type": "code",
   "execution_count": null,
   "metadata": {},
   "outputs": [],
   "source": [
    "# draw the quantum state on Bloch sphere\n",
    "import cirq\n",
    "from cirq_web import BlochSphere\n",
    "from math import pi\n",
    "from random import randrange\n",
    "\n",
    "quantum_file = path_files+\"quantum.py\"\n",
    "%run $quantum_file\n",
    "\n",
    "for i in range(3):\n",
    "    theta = randrange(18000)/18000*pi # in [0,π]\n",
    "    phi = randrange(36000)/18000*pi # in [0,2π]\n",
    "    \n",
    "    print(\"theta is\",round(theta/pi,3),\"π\")\n",
    "    print(\"phi is\",round(phi/pi,3),\"π\")\n",
    "\n",
    "    circuit = cirq.Circuit()\n",
    "    q0 = cirq.LineQubit(0)\n",
    "    myU3(circuit,theta,phi,0,q0)\n",
    "\n",
    "    # Simulate the circuit\n",
    "    s = cirq.Simulator()\n",
    "    results = s.simulate(circuit)\n",
    "    sphere = BlochSphere(state_vector=results.state_vector())\n",
    "    display(sphere)\n",
    "    "
   ]
  },
  {
   "cell_type": "markdown",
   "metadata": {},
   "source": [
    "## Pauli operators\n",
    "\n",
    "The label of each Pauli matrix comes from the axis around which the operator rotates.\n",
    "\n",
    "The operators $ X = \\X, ~~~~ Y=\\Y,~~~~ Z = \\Z $ are the rotations with $\\pi$ around the `x`, `y`, and `z` axes, respectively:\n",
    "\n",
    "\n",
    "We start in a randomly picked quantum state, and then apply `X` gate. \n",
    "\n",
    "We draw both states on the Bloch sphere. \n"
   ]
  },
  {
   "cell_type": "code",
   "execution_count": null,
   "metadata": {},
   "outputs": [],
   "source": [
    "# draw the quantum state on Bloch sphere\n",
    "import cirq\n",
    "from cirq import X\n",
    "from cirq_web import BlochSphere\n",
    "from math import pi\n",
    "from random import randrange\n",
    "\n",
    "quantum_file = path_files+\"quantum.py\"\n",
    "%run $quantum_file\n",
    "\n",
    "theta = randrange(18000)/18000*pi # in [0,π]\n",
    "phi = randrange(36000)/18000*pi # in [0,2π]\n",
    "\n",
    "#### Bloch sphere 1 ####\n",
    "\n",
    "circuit = cirq.Circuit()\n",
    "q0 = cirq.LineQubit(0)\n",
    "# randomly pick a quantum state\n",
    "myU3(circuit,theta,phi,0,q0)\n",
    "# Simulate the circuit\n",
    "s = cirq.Simulator()\n",
    "results = s.simulate(circuit)\n",
    "state = results.state_vector()\n",
    "print(\"the randomly picked state is\",state)\n",
    "\n",
    "# draw the randomly picked quantum state\n",
    "sphere = BlochSphere(state_vector=state)\n",
    "display(sphere)\n",
    "\n",
    "\n",
    "#### Bloch sphere 2 ####\n",
    "\n",
    "circuit = cirq.Circuit()\n",
    "q0 = cirq.LineQubit(0)\n",
    "# randomly pick a quantum state\n",
    "myU3(circuit,theta,phi,0,q0)\n",
    "# apply X gate\n",
    "circuit.append(X(q0))\n",
    "# Simulate the circuit\n",
    "s = cirq.Simulator()\n",
    "results = s.simulate(circuit)\n",
    "state = results.state_vector()\n",
    "print(\"the state after X gate is\",state)\n",
    "\n",
    "# draw the randomly picked quantum state\n",
    "sphere = BlochSphere(state_vector=state)\n",
    "display(sphere)"
   ]
  },
  {
   "cell_type": "markdown",
   "metadata": {},
   "source": [
    "It is easy to verify the rotations around the $x$-axis by checking the projections of the states.\n",
    "\n",
    "The projection on $ x $-axis will not change, but the other projections will flip the sign."
   ]
  },
  {
   "cell_type": "markdown",
   "metadata": {},
   "source": [
    "### Task 1\n",
    "\n",
    "Replace `X` gate with `Y` and `Z` gates in the above code, and visually verify that the randomly picked state is rotated around the $y$-axis and $z$-axis, respectively."
   ]
  },
  {
   "cell_type": "markdown",
   "metadata": {},
   "source": [
    "## Rotation around the axes\n",
    "\n",
    "Pauli matrices rotate with $ \\pi $ degree. By using rotation gates, we can replace $ \\pi $ with an arbitrary angle."
   ]
  },
  {
   "cell_type": "markdown",
   "metadata": {},
   "source": [
    "### RX gate\n",
    "\n",
    "Rotation gate around $x$-axis:\n",
    "\n",
    "$ RX(\\theta) = \\mymatrix{cc}{\\cos \\mypar{\\frac{\\theta}{2}} & -i\\sin \\mypar{\\frac{\\theta}{2}} \\\\ -i\\sin \\mypar{\\frac{\\theta}{2}} & \\cos \\mypar{\\frac{\\theta}{2}}} $.\n",
    "\n",
    "We use it in Cirq as\n",
    "\n",
    "    circuit.append(rx(theta).on(q0))\n",
    "\n",
    "We start in a randomly picked quantum state, and then apply `rx(t)` gate for (randomly picked) angle `t`. \n",
    "\n",
    "We draw both states on the Bloch sphere. \n",
    "\n",
    "Remember that the projection on the $ x $-axis will not change. The others will change depending on the value of `t`."
   ]
  },
  {
   "cell_type": "code",
   "execution_count": null,
   "metadata": {},
   "outputs": [],
   "source": [
    "# draw the quantum state on Bloch sphere\n",
    "import cirq\n",
    "from cirq import rx\n",
    "from cirq_web import BlochSphere\n",
    "from math import pi\n",
    "from random import randrange \n",
    "\n",
    "quantum_file = path_files+\"quantum.py\"\n",
    "%run $quantum_file\n",
    "\n",
    "theta = randrange(18000)/18000*pi # in [0,π]\n",
    "phi = randrange(36000)/18000*pi # in [0,2π]\n",
    "\n",
    "#### Bloch sphere 1 ####\n",
    "\n",
    "circuit = cirq.Circuit()\n",
    "q0 = cirq.LineQubit(0)\n",
    "# randomly pick a quantum state\n",
    "myU3(circuit,theta,phi,0,q0)\n",
    "# Simulate the circuit\n",
    "s = cirq.Simulator()\n",
    "results = s.simulate(circuit)\n",
    "state = results.state_vector()\n",
    "print(\"the randomly picked state is\",state)\n",
    "\n",
    "# draw the randomly picked quantum state\n",
    "sphere = BlochSphere(state_vector=state)\n",
    "display(sphere)\n",
    "\n",
    "\n",
    "#### Bloch sphere 2 ####\n",
    "\n",
    "# randomly pick an angle for RX\n",
    "t = randrange(36000)/18000*pi\n",
    "print(\"the angle of RX is\",round(t/pi,3),\"π\")\n",
    "\n",
    "circuit = cirq.Circuit()\n",
    "q0 = cirq.LineQubit(0)\n",
    "# randomly pick a quantum state\n",
    "myU3(circuit,theta,phi,0,q0)\n",
    "# apply RX(t) gate\n",
    "circuit.append(rx(t).on(q0))\n",
    "# Simulate the circuit\n",
    "s = cirq.Simulator()\n",
    "results = s.simulate(circuit)\n",
    "state = results.state_vector()\n",
    "print(\"the state after RX(t) gate is\",state)\n",
    "\n",
    "# draw the randomly picked quantum state\n",
    "sphere = BlochSphere(state_vector=state)\n",
    "display(sphere)"
   ]
  },
  {
   "cell_type": "markdown",
   "metadata": {},
   "source": [
    "### RY and RZ gates\n",
    "\n",
    "Rotations around $y$-axis and $z$-axis:\n",
    "\n",
    "$\n",
    "RY(\\theta) = \\mymatrix{cc}{\\cos \\mypar{\\frac{\\theta}{2}} & -\\sin \\mypar{\\frac{\\theta}{2}} \\\\ \\sin \\mypar{\\frac{\\theta}{2}} & \\cos \\mypar{\\frac{\\theta}{2}}}\n",
    "~~~~\\mbox{and}~~~\n",
    "RZ(\\theta) = \\mymatrix{cc}{e^{\\frac{-i \\theta}{2}} & 0 \\\\ 0 & e^{\\frac{i \\theta}{2}}}.\n",
    "$\n",
    "\n"
   ]
  },
  {
   "cell_type": "markdown",
   "metadata": {},
   "source": [
    "### Task 2\n",
    "\n",
    "Replace `rx(t)` gate with `ry(t)` and `rz(t)` gates in the above code, and visually verify that the randomly picked state is rotated around the $y$-axis and $z$-axis with specified angles, respectively."
   ]
  },
  {
   "cell_type": "markdown",
   "metadata": {},
   "source": [
    "### Task 3\n",
    "\n",
    "If the relative phase is 0 or $ \\pi $, quantum state will be on $x$-$z$ plane. Then, applying $ RY(\\theta) $ gate, rotates this quantum state on $x$-$z$ plane.\n",
    "\n",
    "_In other words, it rotates between $ \\ket{0} $ and $ \\ket{1} $ having only real-valued amplitudes._\n",
    "\n",
    "Start in state $ \\ket{0} $.\n",
    "\n",
    "Apply $ RY(\\pi/6) $ five times and draw final quantum state on the Bloch sphere.\n",
    "\n",
    "Apply $ RY(\\pi/6) $ nine times and draw final quantum state on the Bloch sphere."
   ]
  },
  {
   "cell_type": "code",
   "execution_count": null,
   "metadata": {},
   "outputs": [],
   "source": [
    "#\n",
    "# your solution is here\n",
    "#\n"
   ]
  },
  {
   "cell_type": "markdown",
   "metadata": {},
   "source": [
    "To check out our solution, run the next cell:"
   ]
  },
  {
   "cell_type": "code",
   "execution_count": null,
   "metadata": {},
   "outputs": [],
   "source": [
    "SolutionToTask3()  # show solution for task 3"
   ]
  },
  {
   "cell_type": "markdown",
   "metadata": {},
   "source": [
    "## Phase gates"
   ]
  },
  {
   "cell_type": "markdown",
   "metadata": {},
   "source": [
    "We can re-write the matrix of $ RZ(\\phi) $ as\n",
    "\n",
    "$ RZ(\\phi) = \\mymatrix{cc}{e^{\\frac{-i \\phi}{2}} & 0 \\\\ 0 & e^{\\frac{i \\phi}{2}}} =  e^{\\frac{-i \\phi}{2}} \\mymatrix{cc}{1 & 0 \\\\ 0 & e^{i \\phi}} $.\n",
    "\n",
    "The gate $ RZ(\\phi) $ indeed changes only the phase.\n",
    "\n",
    "If we start in state $ \\ket{+} $, then the rotations occur on $x$-$y$ plane."
   ]
  },
  {
   "cell_type": "markdown",
   "metadata": {},
   "source": [
    "### Task 4\n",
    "\n",
    "Start in state $ \\ket{+} $.\n",
    "\n",
    "Apply $ RZ(\\pi/6) $ five times and draw final quantum state on the Bloch sphere.\n",
    "\n",
    "Apply $ RZ(\\pi/6) $ nine times and draw final quantum state on the Bloch sphere."
   ]
  },
  {
   "cell_type": "code",
   "execution_count": null,
   "metadata": {},
   "outputs": [],
   "source": [
    "#\n",
    "# your solution is here\n",
    "#\n"
   ]
  },
  {
   "cell_type": "markdown",
   "metadata": {},
   "source": [
    "To check out our solution, run the next cell:"
   ]
  },
  {
   "cell_type": "code",
   "execution_count": null,
   "metadata": {},
   "outputs": [],
   "source": [
    "SolutionToTask4()  # show solution for task 4"
   ]
  },
  {
   "cell_type": "markdown",
   "metadata": {},
   "source": [
    "### Task 5\n",
    "\n",
    "The following phase gates are special cases of $ RZ(\\theta) $ gate.\n",
    "\n",
    "Determine $ \\theta $ values for each of them:\n",
    "\n",
    "- $ Z = \\Z $\n",
    "- $ S = \\S $\n",
    "- $ S^\\dagger = \\Sdg $\n",
    "- $ T = \\T $\n",
    "- $ T^\\dagger = \\Tdg $"
   ]
  },
  {
   "cell_type": "markdown",
   "metadata": {},
   "source": [
    "To check out our solution, run the next cell:"
   ]
  },
  {
   "cell_type": "code",
   "execution_count": null,
   "metadata": {},
   "outputs": [],
   "source": [
    "SolutionToTask5()  # show solution for task 5"
   ]
  },
  {
   "cell_type": "markdown",
   "metadata": {},
   "source": [
    "### Task 6\n",
    "\n",
    "Start in state $ \\ket{i} = \\frac{1}{\\sqrt{2}} \\ket{0} + \\frac{i}{\\sqrt{2}}\\ket{1} $.\n",
    "\n",
    "Apply $ RX(\\pi/6) $ three times and draw final quantum state on the Bloch sphere.\n",
    "\n",
    "Apply $ RX(\\pi/6) $ seven times and draw final quantum state on the Bloch sphere."
   ]
  },
  {
   "cell_type": "code",
   "execution_count": null,
   "metadata": {},
   "outputs": [],
   "source": [
    "#\n",
    "# your solution is here\n",
    "#\n"
   ]
  },
  {
   "cell_type": "markdown",
   "metadata": {},
   "source": [
    "To check out our solution, run the next cell:"
   ]
  },
  {
   "cell_type": "code",
   "execution_count": null,
   "metadata": {},
   "outputs": [],
   "source": [
    "SolutionToTask6()  # show solution for task 6"
   ]
  },
  {
   "cell_type": "markdown",
   "metadata": {},
   "source": [
    "## Arbitrary quantum state\n",
    "\n",
    "Any arbitrary quantum state is represented as $ \\ket{u} = \\cos{\\frac{\\theta}{2}} \\ket{0} + e^{i\\phi} \\sin{\\frac{\\theta}{2}} \\ket{1} $. \n",
    "\n",
    "We can set a qubit in $ \\ket{0} $ to $ \\ket{u} $ with two rotations: $ RY(\\theta) $ and then $ RZ(\\phi) $.\n",
    "\n",
    "This is simplier than applying `U3()` gate."
   ]
  },
  {
   "cell_type": "markdown",
   "metadata": {},
   "source": [
    "### Task 7\n",
    "\n",
    "A qubit is in state $ \\ket{u_1} = \\cos{\\frac{\\theta_1}{2}} \\ket{0} + e^{i\\phi_1} \\sin{\\frac{\\theta_1}{2}} \\ket{1} $. \n",
    "\n",
    "Which rotation gate or gates can we apply to set the state of qubit to $ \\ket{u_2} = \\cos{\\frac{\\theta_2}{2}} \\ket{0} + e^{i\\phi_2} \\sin{\\frac{\\theta_2}{2}} \\ket{1} $?"
   ]
  },
  {
   "cell_type": "markdown",
   "metadata": {},
   "source": [
    "To check out our solution, run the next cell:"
   ]
  },
  {
   "cell_type": "code",
   "execution_count": null,
   "metadata": {},
   "outputs": [],
   "source": [
    "SolutionToTask7()  # show solution for task 7"
   ]
  },
  {
   "cell_type": "markdown",
   "metadata": {},
   "source": [
    "## Hadamard gate\n",
    "\n",
    "Hadamard gate $ H = \\hadamard $ is also a rotation on the Bloch sphere.\n",
    "\n",
    "It is a 90 degree rotation around the $y$-axis, followed by a 180 degree rotation around the $x$-axis.\n",
    "\n",
    "We can test this in Cirq."
   ]
  },
  {
   "cell_type": "code",
   "execution_count": null,
   "metadata": {},
   "outputs": [],
   "source": [
    "# draw the quantum state on Bloch sphere\n",
    "import cirq\n",
    "from cirq import ry, rx, X\n",
    "from math import pi\n",
    "\n",
    "circuit = cirq.Circuit()\n",
    "q0 = cirq.LineQubit(0)\n",
    "\n",
    "# 90 degree rotation around the 𝑦-axis\n",
    "circuit.append(ry(pi/2).on(q0))\n",
    "\n",
    "# 180 degree rotation around the 𝑥-axis\n",
    "#circuit.append(rx(pi).on(q0))\n",
    "# this is X gate\n",
    "circuit.append(X(q0))\n",
    "\n",
    "print(\"Matrix is\")\n",
    "print(cirq.unitary(circuit))"
   ]
  },
  {
   "cell_type": "markdown",
   "metadata": {},
   "source": [
    "### Task 8\n",
    "\n",
    "A 180 degree rotation around the $x$-axis can be implemented by applying $ X $ gate or $ RX(\\pi) $.\n",
    "\n",
    "In the above code, we use $ X $.\n",
    "\n",
    "Replace it with $ RX(\\pi) $ and check the result.\n",
    "\n",
    "Do we obtain the same matrix? If not, is this new matrix Hadamard operator or not?"
   ]
  }
 ],
 "metadata": {
  "kernelspec": {
   "display_name": "Python 3 (ipykernel)",
   "language": "python",
   "name": "python3"
  },
  "language_info": {
   "codemirror_mode": {
    "name": "ipython",
    "version": 3
   },
   "file_extension": ".py",
   "mimetype": "text/x-python",
   "name": "python",
   "nbconvert_exporter": "python",
   "pygments_lexer": "ipython3",
   "version": "3.11.4"
  }
 },
 "nbformat": 4,
 "nbformat_minor": 4
}
