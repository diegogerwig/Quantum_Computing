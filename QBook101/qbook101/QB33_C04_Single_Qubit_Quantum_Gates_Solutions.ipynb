{
 "cells": [
  {
   "cell_type": "markdown",
   "metadata": {},
   "source": [
    "<a href=\"https://qworld.net\" target=\"_blank\" align=\"left\"><img src=\"https://gitlab.com/qworld/qeducation/qbook101/raw/main/qworld/images/header.jpg\" align=\"left\"></a>\n",
    "$ \\newcommand{\\bra}[1]{\\langle #1|} $\n",
    "$ \\newcommand{\\ket}[1]{|#1\\rangle} $\n",
    "$ \\newcommand{\\braket}[2]{\\langle #1|#2\\rangle} $\n",
    "$ \\newcommand{\\dot}[2]{ #1 \\cdot #2} $\n",
    "$ \\newcommand{\\biginner}[2]{\\left\\langle #1,#2\\right\\rangle} $\n",
    "$ \\newcommand{\\mymatrix}[2]{\\left( \\begin{array}{#1} #2\\end{array} \\right)} $\n",
    "$ \\newcommand{\\myvector}[1]{\\mymatrix{c}{#1}} $\n",
    "$ \\newcommand{\\myrvector}[1]{\\mymatrix{r}{#1}} $\n",
    "$ \\newcommand{\\mypar}[1]{\\left( #1 \\right)} $\n",
    "$ \\newcommand{\\mybigpar}[1]{ \\Big( #1 \\Big)} $\n",
    "$ \\newcommand{\\sqrttwo}{\\frac{1}{\\sqrt{2}}} $\n",
    "$ \\newcommand{\\dsqrttwo}{\\dfrac{1}{\\sqrt{2}}} $\n",
    "$ \\newcommand{\\onehalf}{\\frac{1}{2}} $\n",
    "$ \\newcommand{\\donehalf}{\\dfrac{1}{2}} $\n",
    "$ \\newcommand{\\hadamard}{ \\mymatrix{rr}{ \\sqrttwo & \\sqrttwo \\\\ \\sqrttwo & -\\sqrttwo }} $\n",
    "$ \\newcommand{\\vzero}{\\myvector{1\\\\0}} $\n",
    "$ \\newcommand{\\vone}{\\myvector{0\\\\1}} $\n",
    "$ \\newcommand{\\stateplus}{\\myvector{ \\sqrttwo \\\\  \\sqrttwo } } $\n",
    "$ \\newcommand{\\stateminus}{ \\myrvector{ \\sqrttwo \\\\ -\\sqrttwo } } $\n",
    "$ \\newcommand{\\myarray}[2]{ \\begin{array}{#1}#2\\end{array}} $\n",
    "$ \\newcommand{\\X}{ \\mymatrix{cc}{0 & 1 \\\\ 1 & 0}  } $\n",
    "$ \\newcommand{\\Z}{ \\mymatrix{rr}{1 & 0 \\\\ 0 & -1}  } $\n",
    "$ \\newcommand{\\Htwo}{ \\mymatrix{rrrr}{ \\frac{1}{2} & \\frac{1}{2} & \\frac{1}{2} & \\frac{1}{2} \\\\ \\frac{1}{2} & -\\frac{1}{2} & \\frac{1}{2} & -\\frac{1}{2} \\\\ \\frac{1}{2} & \\frac{1}{2} & -\\frac{1}{2} & -\\frac{1}{2} \\\\ \\frac{1}{2} & -\\frac{1}{2} & -\\frac{1}{2} & \\frac{1}{2} } } $\n",
    "$ \\newcommand{\\CNOT}{ \\mymatrix{cccc}{1 & 0 & 0 & 0 \\\\ 0 & 1 & 0 & 0 \\\\ 0 & 0 & 0 & 1 \\\\ 0 & 0 & 1 & 0} } $\n",
    "$ \\newcommand{\\norm}[1]{ \\left\\lVert #1 \\right\\rVert } $\n",
    "$ \\newcommand{\\pstate}[1]{ \\lceil \\mspace{-1mu} #1 \\mspace{-1.5mu} \\rfloor } $\n",
    "$ \\newcommand{\\Y}{ \\mymatrix{rr}{0 & -i \\\\ i & 0} } $\n",
    "$ \\newcommand{\\S}{ \\mymatrix{rr}{1 & 0 \\\\ 0 & i} } $\n",
    "$ \\newcommand{\\T}{ \\mymatrix{rr}{1 & 0 \\\\ 0 & e^{i \\frac{\\pi}{4}}} } $\n",
    "$ \\newcommand{\\Sdg}{ \\mymatrix{rr}{1 & 0 \\\\ 0 & -i} } $ \n",
    "$ \\newcommand{\\Tdg}{ \\mymatrix{rr}{1 & 0 \\\\ 0 & e^{-i \\frac{\\pi}{4}}} } $\n",
    "$ \\newcommand{\\qgate}[1]{ \\mathop{\\\\textit{#1} } }$"
   ]
  },
  {
   "cell_type": "markdown",
   "metadata": {},
   "source": [
    "_prepared by Maksim Dimitrijev and Abuzer Yakaryilmaz_\n",
    "<br><br>\n",
    "_Cirq adaptation by Claudia Zendejas-Morales_"
   ]
  },
  {
   "cell_type": "markdown",
   "metadata": {},
   "source": [
    "<font size=\"28px\" style=\"font-size:28px;\" align=\"left\"><b> <font color=\"blue\"> Solutions for </font>Singe qubit quantum gates</b></font>\n",
    "<br>\n",
    "<br><br>"
   ]
  },
  {
   "cell_type": "markdown",
   "metadata": {
    "jp-MarkdownHeadingCollapsed": true
   },
   "source": [
    "##### <font color=\"#08b806\">Please execute the following cell, it is necessary to distinguish between your local environment and Google Colab's"
   ]
  },
  {
   "cell_type": "code",
   "execution_count": null,
   "metadata": {},
   "outputs": [],
   "source": [
    "import IPython\n",
    "\n",
    "def in_colab():\n",
    "    try:\n",
    "        import google.colab\n",
    "        return True\n",
    "    except:\n",
    "        return False\n",
    "\n",
    "if in_colab():\n",
    "    !pip install cirq"
   ]
  },
  {
   "cell_type": "markdown",
   "metadata": {},
   "source": [
    "<a name=\"task1\"></a>\n",
    "### Task 1\n",
    "\n",
    "We design two circuits in Cirq.\n",
    "\n",
    "Circuit I:\n",
    "- Start in $ \\ket{0} $.\n",
    "- Apply `H` gate and obtain $ \\ket{+} $\n",
    "- Apply `Y` gate\n",
    "\n",
    "Circuit II:\n",
    "- Start in $ \\ket{0} $.\n",
    "- Apply `H` gate and obtain $ \\ket{+} $\n",
    "- Apply `X` gate\n",
    "\n",
    "Visualize the final states on the Bloch sphere.\n",
    "\n",
    "Do they differ by a global phase? Or, are they separable states?\n",
    "\n",
    "Caclulate the inner product of the final states."
   ]
  },
  {
   "cell_type": "markdown",
   "metadata": {},
   "source": [
    "<h3> Solution </h3>"
   ]
  },
  {
   "cell_type": "code",
   "execution_count": null,
   "metadata": {},
   "outputs": [],
   "source": [
    "import cirq\n",
    "from cirq import H, X, Y\n",
    "from cirq_web import BlochSphere\n",
    "import numpy as np\n",
    "\n",
    "s = cirq.Simulator()\n",
    "\n",
    "circuit = cirq.Circuit() # create a circuit\n",
    "q0 = cirq.LineQubit(0)\n",
    "circuit.append(H(q0))\n",
    "circuit.append(Y(q0))\n",
    "results = s.simulate(circuit)\n",
    "stateY = results.state_vector()\n",
    "sphere_I = BlochSphere(state_vector=stateY)\n",
    "\n",
    "circuit = cirq.Circuit() # create a circuit\n",
    "q0 = cirq.LineQubit(0)\n",
    "circuit.append(H(q0))\n",
    "circuit.append(X(q0))\n",
    "results = s.simulate(circuit)\n",
    "stateX = results.state_vector()\n",
    "sphere_II = BlochSphere(state_vector=stateX)\n",
    "\n",
    "\n",
    "display(sphere_I, sphere_II)"
   ]
  },
  {
   "cell_type": "markdown",
   "metadata": {},
   "source": [
    "The final states are on the opposite side of the Bloch sphere, and so, they are expected to be orthogonal to each other, i.e., $ \\braket{u}{v} = 0 $."
   ]
  },
  {
   "cell_type": "code",
   "execution_count": null,
   "metadata": {},
   "outputs": [],
   "source": [
    "print(\"the first final state is\",stateY)\n",
    "print(\"the second final state is\",stateX)\n",
    "print(\"the innner product of final states is\",np.inner(stateY,stateX))"
   ]
  },
  {
   "cell_type": "markdown",
   "metadata": {},
   "source": [
    "<a name=\"task2\"></a>\n",
    "<h3> Task 2 </h3>\n",
    "\n",
    "We design two circuits in Cirq.\n",
    "\n",
    "Circuit I:\n",
    "- Start in $ \\ket{0} $.\n",
    "- Apply `X` gate\n",
    "- Apply `H` gate and obtain $ \\ket{+} $\n",
    "- Apply `Y` gate\n",
    "\n",
    "Circuit II:\n",
    "- Start in $ \\ket{0} $.\n",
    "- Apply `X` gate\n",
    "- Apply `H` gate and obtain $ \\ket{+} $\n",
    "- Apply `X` gate\n",
    "\n",
    "Visualize the final states on the Bloch sphere.\n",
    "\n",
    "Do they differ by a global phase? Or, are they separable states?\n",
    "\n",
    "Caclulate the inner product of the final states."
   ]
  },
  {
   "cell_type": "markdown",
   "metadata": {},
   "source": [
    "<h3> Solution </h3>"
   ]
  },
  {
   "cell_type": "code",
   "execution_count": null,
   "metadata": {},
   "outputs": [],
   "source": [
    "import cirq\n",
    "from cirq import H, X, Y\n",
    "from cirq_web import BlochSphere\n",
    "import numpy as np\n",
    "\n",
    "s = cirq.Simulator()\n",
    "\n",
    "circuit = cirq.Circuit() # create a circuit\n",
    "q0 = cirq.LineQubit(0)\n",
    "circuit.append(X(q0))\n",
    "circuit.append(H(q0))\n",
    "circuit.append(Y(q0))\n",
    "results = s.simulate(circuit)\n",
    "stateY = results.state_vector()\n",
    "sphere_I = BlochSphere(state_vector=stateY)\n",
    "\n",
    "circuit = cirq.Circuit() # create a circuit\n",
    "q0 = cirq.LineQubit(0)\n",
    "circuit.append(X(q0))\n",
    "circuit.append(H(q0))\n",
    "circuit.append(X(q0))\n",
    "results = s.simulate(circuit)\n",
    "stateX = results.state_vector()\n",
    "sphere_II = BlochSphere(state_vector=stateX)\n",
    "\n",
    "\n",
    "display(sphere_I, sphere_II)"
   ]
  },
  {
   "cell_type": "markdown",
   "metadata": {},
   "source": [
    "The final states are on the opposite side of the Bloch sphere, and so, they are expected to be orthogonal to each other, i.e., $ \\braket{u}{v} = 0 $."
   ]
  },
  {
   "cell_type": "code",
   "execution_count": null,
   "metadata": {},
   "outputs": [],
   "source": [
    "print(\"the first final state is\",stateY)\n",
    "print(\"the second final state is\",stateX)\n",
    "print(\"the innner product of final states is\",np.inner(stateY,stateX))"
   ]
  },
  {
   "cell_type": "markdown",
   "metadata": {},
   "source": [
    "<a name=\"task3\"></a>\n",
    "<h3> Task 3 </h3>\n",
    "\n",
    "Verify that $ S^2 = Z $ and $ T^2 = S $.\n",
    "\n",
    "What are the relations between $ T^\\dagger $, $ S^\\dagger $, and $ Z^\\dagger $?"
   ]
  },
  {
   "cell_type": "markdown",
   "metadata": {},
   "source": [
    "<h3> Solution </h3>"
   ]
  },
  {
   "cell_type": "markdown",
   "metadata": {},
   "source": [
    "We verify the equalities by performing the matrix multiplications.\n",
    "\n",
    "$ S^2 = S \\cdot S = \\S \\S = \\mymatrix{cc}{1 & 0 \\\\ 0 & i^2} = \\Z = Z $\n",
    "\n",
    "$ T^2 = T \\cdot T = \\T \\T = \\mymatrix{cc}{1 & 0 \\\\ 0 & e^{ i\\frac{\\pi}{4} }e^{ i\\frac{\\pi}{4} } } = \\mymatrix{cc}{1 & 0 \\\\ 0 & e^{ i\\frac{\\pi}{2} } } = \\S = S $, \n",
    "\n",
    "where $ e^{i\\frac{\\pi}{2}} = \\cos \\mypar{\\frac{\\pi}{2}} + i \\sin \\mypar{\\frac{\\pi}{2}}  = 0 + i \\cdot 1 = i $.\n",
    "\n",
    "In the same way, we can show that $ \\mypar{ S^\\dagger }^2 = Z^\\dagger = Z $ and $ \\mypar{ T^\\dagger }^2 = S^\\dagger $."
   ]
  },
  {
   "cell_type": "markdown",
   "metadata": {},
   "source": [
    "<a name=\"task4\"></a>\n",
    "<h3> Task 4 </h3>\n",
    "\n",
    "For each $ G \\in \\{ S, S^\\dagger,T,T^\\dagger \\} $:\n",
    "\n",
    "- design a circuit implementing $ HGH\\ket{0} $ followed by a measurement\n",
    "- print the circuit\n",
    "- run the circuit 1000 times and print the outcomes"
   ]
  },
  {
   "cell_type": "markdown",
   "metadata": {},
   "source": [
    "<h3> Solution </h3>"
   ]
  },
  {
   "cell_type": "code",
   "execution_count": null,
   "metadata": {},
   "outputs": [],
   "source": [
    "import cirq\n",
    "from cirq import H, S, T, measure\n",
    "\n",
    "phase_gates = [\n",
    "    [\"S\",S],\n",
    "    [\"Sdagger\",cirq.inverse(S)],\n",
    "    [\"T\",T],\n",
    "    [\"Tdagger\",cirq.inverse(T)]\n",
    "]\n",
    "\n",
    "for [name,G] in phase_gates:\n",
    "    print(\"the phase gate\",name)\n",
    "\n",
    "    circuit = cirq.Circuit()\n",
    "    q0 = cirq.LineQubit(0)\n",
    "    # Apply H\n",
    "    circuit.append(H(q0))\n",
    "    # apply phase gate\n",
    "    circuit.append(G(q0))\n",
    "    # Apply H\n",
    "    circuit.append(H(q0))\n",
    "    circuit.append(measure(q0, key='result'))\n",
    "\n",
    "    print(circuit)\n",
    "\n",
    "    sim = cirq.Simulator()\n",
    "    samples = sim.run(circuit, repetitions=1000)\n",
    "    print(\"outcomes:\", samples.histogram(key='result'))\n",
    "    print()"
   ]
  }
 ],
 "metadata": {
  "kernelspec": {
   "display_name": "Python 3 (ipykernel)",
   "language": "python",
   "name": "python3"
  },
  "language_info": {
   "codemirror_mode": {
    "name": "ipython",
    "version": 3
   },
   "file_extension": ".py",
   "mimetype": "text/x-python",
   "name": "python",
   "nbconvert_exporter": "python",
   "pygments_lexer": "ipython3",
   "version": "3.11.4"
  }
 },
 "nbformat": 4,
 "nbformat_minor": 4
}
