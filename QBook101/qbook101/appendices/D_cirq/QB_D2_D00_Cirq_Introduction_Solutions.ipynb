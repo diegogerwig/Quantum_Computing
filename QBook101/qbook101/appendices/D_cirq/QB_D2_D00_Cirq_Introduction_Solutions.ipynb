{
 "cells": [
  {
   "cell_type": "markdown",
   "id": "84e7b85a",
   "metadata": {},
   "source": [
    "<a href=\"https://qworld.net\" target=\"_blank\" align=\"left\"><img src=\"https://gitlab.com/qworld/qeducation/qbook101/raw/main/qworld/images/header.jpg\"  align=\"left\"></a>\n",
    "$ \\newcommand{\\bra}[1]{\\langle #1|} $\n",
    "$ \\newcommand{\\ket}[1]{|#1\\rangle} $\n",
    "$ \\newcommand{\\braket}[2]{\\langle #1|#2\\rangle} $\n",
    "$ \\newcommand{\\dot}[2]{ #1 \\cdot #2} $\n",
    "$ \\newcommand{\\biginner}[2]{\\left\\langle #1,#2\\right\\rangle} $\n",
    "$ \\newcommand{\\mymatrix}[2]{\\left( \\begin{array}{#1} #2\\end{array} \\right)} $\n",
    "$ \\newcommand{\\myvector}[1]{\\mymatrix{c}{#1}} $\n",
    "$ \\newcommand{\\myrvector}[1]{\\mymatrix{r}{#1}} $\n",
    "$ \\newcommand{\\mypar}[1]{\\left( #1 \\right)} $\n",
    "$ \\newcommand{\\mybigpar}[1]{ \\Big( #1 \\Big)} $\n",
    "$ \\newcommand{\\sqrttwo}{\\frac{1}{\\sqrt{2}}} $\n",
    "$ \\newcommand{\\dsqrttwo}{\\dfrac{1}{\\sqrt{2}}} $\n",
    "$ \\newcommand{\\onehalf}{\\frac{1}{2}} $\n",
    "$ \\newcommand{\\donehalf}{\\dfrac{1}{2}} $\n",
    "$ \\newcommand{\\hadamard}{ \\mymatrix{rr}{ \\sqrttwo & \\sqrttwo \\\\ \\sqrttwo & -\\sqrttwo }} $\n",
    "$ \\newcommand{\\vzero}{\\myvector{1\\\\0}} $\n",
    "$ \\newcommand{\\vone}{\\myvector{0\\\\1}} $\n",
    "$ \\newcommand{\\stateplus}{\\myvector{ \\sqrttwo \\\\  \\sqrttwo } } $\n",
    "$ \\newcommand{\\stateminus}{ \\myrvector{ \\sqrttwo \\\\ -\\sqrttwo } } $\n",
    "$ \\newcommand{\\myarray}[2]{ \\begin{array}{#1}#2\\end{array}} $\n",
    "$ \\newcommand{\\X}{ \\mymatrix{cc}{0 & 1 \\\\ 1 & 0}  } $\n",
    "$ \\newcommand{\\Z}{ \\mymatrix{rr}{1 & 0 \\\\ 0 & -1}  } $\n",
    "$ \\newcommand{\\Htwo}{ \\mymatrix{rrrr}{ \\frac{1}{2} & \\frac{1}{2} & \\frac{1}{2} & \\frac{1}{2} \\\\ \\frac{1}{2} & -\\frac{1}{2} & \\frac{1}{2} & -\\frac{1}{2} \\\\ \\frac{1}{2} & \\frac{1}{2} & -\\frac{1}{2} & -\\frac{1}{2} \\\\ \\frac{1}{2} & -\\frac{1}{2} & -\\frac{1}{2} & \\frac{1}{2} } } $\n",
    "$ \\newcommand{\\CNOT}{ \\mymatrix{cccc}{1 & 0 & 0 & 0 \\\\ 0 & 1 & 0 & 0 \\\\ 0 & 0 & 0 & 1 \\\\ 0 & 0 & 1 & 0} } $\n",
    "$ \\newcommand{\\norm}[1]{ \\left\\lVert #1 \\right\\rVert } $\n",
    "$ \\newcommand{\\pstate}[1]{ \\lceil \\mspace{-1mu} #1 \\mspace{-1.5mu} \\rfloor } $"
   ]
  },
  {
   "cell_type": "markdown",
   "id": "a2861e3e-c2fe-4c28-b0ee-7fe597057c65",
   "metadata": {},
   "source": [
    "_prepared by Özlem Salehi_"
   ]
  },
  {
   "cell_type": "markdown",
   "id": "dietary-chocolate",
   "metadata": {},
   "source": [
    "<font size=\"28px\" style=\"font-size:28px;\" align=\"left\"><b> <font color=\"blue\"> Solution for </font>Cirq Introduction </b></font>\n",
    "<br><br><br>"
   ]
  },
  {
   "cell_type": "markdown",
   "id": "96ad3dca-c004-457a-a053-ae8ab88a6e6f",
   "metadata": {
    "jp-MarkdownHeadingCollapsed": true
   },
   "source": [
    "##### <font color=\"#08b806\">Please execute the following cell, it is necessary to distinguish between your local environment and Google Colab's"
   ]
  },
  {
   "cell_type": "code",
   "execution_count": null,
   "id": "0eb68ddb-2e69-4731-b962-58f9a321f236",
   "metadata": {},
   "outputs": [],
   "source": [
    "import IPython\n",
    "\n",
    "def in_colab():\n",
    "    try:\n",
    "        import google.colab\n",
    "        return True\n",
    "    except:\n",
    "        return False\n",
    "\n",
    "if in_colab():\n",
    "    !pip install cirq"
   ]
  },
  {
   "cell_type": "markdown",
   "id": "matched-system",
   "metadata": {},
   "source": [
    "<a name=\"task1\"></a>\n",
    "### Task 1\n",
    "    \n",
    "Create a quantum circuit with 10 qubits. \n",
    "\n",
    "1. Apply $H$ gate to qubit 0. \n",
    "2. Apply nine $CNOT$ gates where qubit $0$ is the control and qubit $i$ is the target for $i=1,\\dots,9$.\n",
    "\n",
    "Draw your circuit."
   ]
  },
  {
   "cell_type": "markdown",
   "id": "eastern-player",
   "metadata": {},
   "source": [
    "<h3> Solution </h3>"
   ]
  },
  {
   "cell_type": "code",
   "execution_count": null,
   "id": "frank-landscape",
   "metadata": {},
   "outputs": [],
   "source": [
    "import cirq\n",
    "from cirq import H, CX\n",
    "\n",
    "# Create quantum and classical registers with 10 qubits\n",
    "qlist = cirq.LineQubit.range(10)\n",
    "\n",
    "# Create a new circuit\n",
    "circuit = cirq.Circuit()\n",
    "\n",
    "# Apply H gate\n",
    "circuit.append(H(qlist[0]))\n",
    "\n",
    "for i in range(1,10):\n",
    "    circuit.append(CX(qlist[0],qlist[i]))\n",
    "\n",
    "# Single line solution\n",
    "# circuit.append(CX(qlist[0],qlist[i]) for i in range(1,10))\n",
    "    \n",
    "print(circuit)"
   ]
  },
  {
   "cell_type": "markdown",
   "id": "urban-hebrew",
   "metadata": {},
   "source": [
    "<a name=\"task2\"></a>\n",
    "### Task 2\n",
    "    \n",
    "Create a quantum circuit with 10 qubits. \n",
    "\n",
    "1. Apply $H$ gates to all qubits.\n",
    "2. Apply $X$ gate to qubit 0 controlled by qubits 1-9\n",
    "2. Apply $H$ gates to all qubits.\n",
    "\n",
    "Draw your circuit."
   ]
  },
  {
   "cell_type": "markdown",
   "id": "regulation-leader",
   "metadata": {},
   "source": [
    "<h3> Solution </h3>"
   ]
  },
  {
   "cell_type": "code",
   "execution_count": null,
   "id": "internal-disclaimer",
   "metadata": {},
   "outputs": [],
   "source": [
    "import cirq\n",
    "from cirq import H, X\n",
    "\n",
    "# Create quantum and classical registers with 10 qubits\n",
    "qlist = cirq.LineQubit.range(10)\n",
    "\n",
    "# Create a new circuit\n",
    "circuit = cirq.Circuit()\n",
    "\n",
    "# Apply H to all qubits\n",
    "circuit.append(H.on_each(*qlist))\n",
    "\n",
    "# Qubits 1-9 are the control and qubit 0 is the target\n",
    "# Using controlled by is more convenient in this case\n",
    "circuit.append(X(qlist[0]).controlled_by(*qlist[1:10]))\n",
    "\n",
    "# Apply H to all qubits\n",
    "circuit.append(H.on_each(*qlist))\n",
    "\n",
    "# Draw circuit\n",
    "print(circuit)"
   ]
  },
  {
   "cell_type": "markdown",
   "id": "proved-wednesday",
   "metadata": {},
   "source": [
    "<a name=\"task3\"></a>\n",
    "### Task 3\n",
    "    \n",
    "Implement the circuit in Task 1. Measure all the qubits and simulate your circuit for 1000 times."
   ]
  },
  {
   "cell_type": "markdown",
   "id": "engaged-coordination",
   "metadata": {},
   "source": [
    "<h3> Solution </h3>"
   ]
  },
  {
   "cell_type": "code",
   "execution_count": null,
   "id": "assured-atlantic",
   "metadata": {},
   "outputs": [],
   "source": [
    "import cirq\n",
    "from cirq import H, CX, measure\n",
    "\n",
    "# Create quantum and classical registers with 10 qubits\n",
    "qlist = cirq.LineQubit.range(10)\n",
    "\n",
    "# Create a new circuit\n",
    "circuit = cirq.Circuit()\n",
    "\n",
    "# Apply H gate\n",
    "circuit.append(H(qlist[0]))\n",
    "\n",
    "# Apply CNOT\n",
    "circuit.append(CX(qlist[0],qlist[i]) for i in range(1,10))\n",
    "\n",
    "# Measure both qubits, result is the label\n",
    "circuit.append(measure(*qlist, key='result'))\n",
    "\n",
    "# This is the local simulator \n",
    "s = cirq.Simulator()\n",
    "\n",
    "# circuit is the circuit to be simulated\n",
    "# repetition is the how many times we want to run the circuit\n",
    "samples=s.run(circuit, repetitions=1000)\n",
    "\n",
    "def bitstring(bits):\n",
    "    return \"\".join(str(int(b)) for b in bits)\n",
    "\n",
    "counts = samples.histogram(key=\"result\",fold_func=bitstring)\n",
    "print(counts)"
   ]
  },
  {
   "cell_type": "markdown",
   "id": "moved-bracket",
   "metadata": {},
   "source": [
    "<a name=\"task4\"></a>\n",
    "### Task 4\n",
    "    \n",
    "Create a quantum circuit with 4 qubits. Apply Hadamard gate to each qubit and $CZ$ gate to qubits 0 and 1. Use the simulator without measuring the circuit. Check the entries with negative sign."
   ]
  },
  {
   "cell_type": "markdown",
   "id": "composite-embassy",
   "metadata": {},
   "source": [
    "<h3> Solution </h3>"
   ]
  },
  {
   "cell_type": "code",
   "execution_count": null,
   "id": "auburn-health",
   "metadata": {},
   "outputs": [],
   "source": [
    "import cirq\n",
    "from cirq import H, CZ\n",
    "\n",
    "# Create 4 quantum bits\n",
    "qlist = cirq.LineQubit.range(4)\n",
    "\n",
    "# Create a new circuit\n",
    "circuit = cirq.Circuit()\n",
    "\n",
    "# Apply H gate\n",
    "circuit.append(H.on_each(*qlist))\n",
    "\n",
    "# Apply CZ\n",
    "circuit.append(CZ(qlist[0],qlist[1]))\n",
    "\n",
    "s = cirq.Simulator()\n",
    "results=s.simulate(circuit)\n",
    "print(results)"
   ]
  },
  {
   "cell_type": "markdown",
   "id": "sonic-enzyme",
   "metadata": {},
   "source": [
    "The states $\\ket{1100}$, $\\ket{1101}$, $\\ket{1110}$, $\\ket{1111}$ have the negative sign."
   ]
  }
 ],
 "metadata": {
  "kernelspec": {
   "display_name": "Python 3 (ipykernel)",
   "language": "python",
   "name": "python3"
  },
  "language_info": {
   "codemirror_mode": {
    "name": "ipython",
    "version": 3
   },
   "file_extension": ".py",
   "mimetype": "text/x-python",
   "name": "python",
   "nbconvert_exporter": "python",
   "pygments_lexer": "ipython3",
   "version": "3.11.4"
  }
 },
 "nbformat": 4,
 "nbformat_minor": 5
}
