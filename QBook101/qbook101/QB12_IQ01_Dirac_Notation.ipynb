{
 "cells": [
  {
   "cell_type": "markdown",
   "metadata": {},
   "source": [
    "<a href=\"https://qworld.net\" target=\"_blank\" align=\"left\"><img src=\"https://gitlab.com/qworld/qeducation/qbook101/raw/main/qworld/images/header.jpg\" align=\"left\"></a>\n",
    "$ \\newcommand{\\bra}[1]{\\langle #1|} $\n",
    "$ \\newcommand{\\ket}[1]{|#1\\rangle} $\n",
    "$ \\newcommand{\\braket}[2]{\\langle #1|#2\\rangle} $\n",
    "$ \\newcommand{\\dot}[2]{ #1 \\cdot #2} $\n",
    "$ \\newcommand{\\biginner}[2]{\\left\\langle #1,#2\\right\\rangle} $\n",
    "$ \\newcommand{\\mymatrix}[2]{\\left( \\begin{array}{#1} #2\\end{array} \\right)} $\n",
    "$ \\newcommand{\\myvector}[1]{\\mymatrix{c}{#1}} $\n",
    "$ \\newcommand{\\myrvector}[1]{\\mymatrix{r}{#1}} $\n",
    "$ \\newcommand{\\mypar}[1]{\\left( #1 \\right)} $\n",
    "$ \\newcommand{\\mybigpar}[1]{ \\Big( #1 \\Big)} $\n",
    "$ \\newcommand{\\sqrttwo}{\\frac{1}{\\sqrt{2}}} $\n",
    "$ \\newcommand{\\dsqrttwo}{\\dfrac{1}{\\sqrt{2}}} $\n",
    "$ \\newcommand{\\onehalf}{\\frac{1}{2}} $\n",
    "$ \\newcommand{\\donehalf}{\\dfrac{1}{2}} $\n",
    "$ \\newcommand{\\hadamard}{ \\mymatrix{rr}{ \\sqrttwo & \\sqrttwo \\\\ \\sqrttwo & -\\sqrttwo }} $\n",
    "$ \\newcommand{\\vzero}{\\myvector{1\\\\0}} $\n",
    "$ \\newcommand{\\vone}{\\myvector{0\\\\1}} $\n",
    "$ \\newcommand{\\stateplus}{\\myvector{ \\sqrttwo \\\\  \\sqrttwo } } $\n",
    "$ \\newcommand{\\stateminus}{ \\myrvector{ \\sqrttwo \\\\ -\\sqrttwo } } $\n",
    "$ \\newcommand{\\myarray}[2]{ \\begin{array}{#1}#2\\end{array}} $\n",
    "$ \\newcommand{\\X}{ \\mymatrix{cc}{0 & 1 \\\\ 1 & 0}  } $\n",
    "$ \\newcommand{\\Z}{ \\mymatrix{rr}{1 & 0 \\\\ 0 & -1}  } $\n",
    "$ \\newcommand{\\Htwo}{ \\mymatrix{rrrr}{ \\frac{1}{2} & \\frac{1}{2} & \\frac{1}{2} & \\frac{1}{2} \\\\ \\frac{1}{2} & -\\frac{1}{2} & \\frac{1}{2} & -\\frac{1}{2} \\\\ \\frac{1}{2} & \\frac{1}{2} & -\\frac{1}{2} & -\\frac{1}{2} \\\\ \\frac{1}{2} & -\\frac{1}{2} & -\\frac{1}{2} & \\frac{1}{2} } } $\n",
    "$ \\newcommand{\\CNOT}{ \\mymatrix{cccc}{1 & 0 & 0 & 0 \\\\ 0 & 1 & 0 & 0 \\\\ 0 & 0 & 0 & 1 \\\\ 0 & 0 & 1 & 0} } $\n",
    "$ \\newcommand{\\norm}[1]{ \\left\\lVert #1 \\right\\rVert } $\n",
    "$ \\newcommand{\\pstate}[1]{ \\lceil \\mspace{-1mu} #1 \\mspace{-1.5mu} \\rfloor } $"
   ]
  },
  {
   "cell_type": "markdown",
   "metadata": {},
   "source": [
    "_prepared by Claudia Zendejas-Morales_"
   ]
  },
  {
   "cell_type": "markdown",
   "metadata": {},
   "source": [
    "<font size=\"28px\" style=\"font-size:28px;\" align=\"left\"><b> Dirac Notation (bra-ket notation) </b></font>\n",
    "<br>\n",
    "<br><br>"
   ]
  },
  {
   "cell_type": "markdown",
   "metadata": {
    "jp-MarkdownHeadingCollapsed": true
   },
   "source": [
    "##### <font color=\"#08b806\">Please execute the following cell, it is necessary to distinguish between your local environment and Google Colab's"
   ]
  },
  {
   "cell_type": "code",
   "execution_count": null,
   "metadata": {},
   "outputs": [],
   "source": [
    "import IPython\n",
    "\n",
    "def in_colab():\n",
    "    try:\n",
    "        import google.colab\n",
    "        return True\n",
    "    except:\n",
    "        return False\n",
    "\n",
    "SolutionToTask1 = lambda: IPython.display.display(IPython.display.Javascript('window.open(\"{url}\");'.format(url='https://colab.research.google.com/drive/1f41-gxtKku1mOASvoUqiwWo1-lnUDAkh?usp=sharing#scrollTo=cjvUdAAz2AWC' if in_colab() else 'QB12_IQ01_Dirac_Notation_Solutions.ipynb#task1')))\n",
    "SolutionToTask2 = lambda: IPython.display.display(IPython.display.Javascript('window.open(\"{url}\");'.format(url='https://colab.research.google.com/drive/1f41-gxtKku1mOASvoUqiwWo1-lnUDAkh?usp=sharing#scrollTo=wImB1x3h2AWC' if in_colab() else 'QB12_IQ01_Dirac_Notation_Solutions.ipynb#task2')))\n",
    "SolutionToTask3 = lambda: IPython.display.display(IPython.display.Javascript('window.open(\"{url}\");'.format(url='https://colab.research.google.com/drive/1f41-gxtKku1mOASvoUqiwWo1-lnUDAkh?usp=sharing#scrollTo=24vbei-b2AWE' if in_colab() else 'QB12_IQ01_Dirac_Notation_Solutions.ipynb#task3')))\n",
    "SolutionToTask4 = lambda: IPython.display.display(IPython.display.Javascript('window.open(\"{url}\");'.format(url='https://colab.research.google.com/drive/1f41-gxtKku1mOASvoUqiwWo1-lnUDAkh?usp=sharing#scrollTo=evZUuAZc2AWE' if in_colab() else 'QB12_IQ01_Dirac_Notation_Solutions.ipynb#task4')))"
   ]
  },
  {
   "cell_type": "markdown",
   "metadata": {},
   "source": [
    "##### &nbsp;\n",
    "\n",
    "**Dirac notation** or bra-ket notation, is used in linear algebra on complex **vector spaces** along with their dual space in both the finite-dimensional and infinite-dimensional cases. It is specifically designed to facilitate the types of calculations that frequently arise in quantum mechanics. Bra-ket notation was created by Paul Dirac in 1939.\n",
    "\n",
    "In mathematics and physics textbooks, vectors are often distinguished from scalars by writing an arrow over the identifying symbol: $\\vec{a}$. Sometimes boldface is used for this purpose: $\\mathbf{a}$. In the Dirac notation, the symbol identifying a **vector** is written inside a _**ket**_,\n",
    "\n",
    "$$\\ket{a}$$\n",
    "\n",
    "We denote the **dual vector** for $a$ with a _**bra**_,\n",
    "\n",
    "$$\\bra{a}$$\n",
    "\n",
    "Then, inner products will be written as _**bra-kets**_,\n",
    "\n",
    "$$\\braket{a}{b}$$\n",
    "\n",
    "The _dual vector_ $\\bra{a}$ is obtained by taking the transpose of $\\ket{a}$ and taking the complex conjugate of each element (the [Hermitian transpose](https://en.wikipedia.org/wiki/Conjugate_transpose)), that is,\n",
    "\n",
    "$$\\ket{a}=\\mymatrix{r}{a_1 \\\\ a_2 \\\\ a_3 \\\\ \\vdots \\\\ a_n}~~~~~~\\Rightarrow~~~~~~\\bra{a}=\\mymatrix{r}{a_1^* & a_2^* & a_3^* & \\cdots & a_n^*}$$\n",
    "\n",
    "The collection of all _bras_ constitutes another vector space, the so-called **dual space**."
   ]
  },
  {
   "cell_type": "markdown",
   "metadata": {},
   "source": [
    "<h3>Task 1 (on paper)</h3>\n",
    "\n",
    "Find the _bra_ of the _ket_ $\\ket{w}$.\n",
    "\n",
    "$$\\ket{w}=\\mymatrix{c}{3+4i \\\\ -5 \\\\ 2-i \\\\ 6i \\\\ -0.3-3i}$$"
   ]
  },
  {
   "cell_type": "markdown",
   "metadata": {},
   "source": [
    "To check out our solution, run the next cell:"
   ]
  },
  {
   "cell_type": "code",
   "execution_count": null,
   "metadata": {},
   "outputs": [],
   "source": [
    "SolutionToTask1()  # show solution for task 1"
   ]
  },
  {
   "cell_type": "markdown",
   "metadata": {},
   "source": [
    "<h3>Task 2</h3>\n",
    "\n",
    "Do the same as in Task 1, but using Python code."
   ]
  },
  {
   "cell_type": "code",
   "execution_count": null,
   "metadata": {},
   "outputs": [],
   "source": [
    "#\n",
    "# your code goes here\n",
    "#"
   ]
  },
  {
   "cell_type": "markdown",
   "metadata": {},
   "source": [
    "To check out our solution, run the next cell:"
   ]
  },
  {
   "cell_type": "code",
   "execution_count": null,
   "metadata": {},
   "outputs": [],
   "source": [
    "SolutionToTask2()  # show solution for task 2"
   ]
  },
  {
   "cell_type": "markdown",
   "metadata": {},
   "source": [
    "<br><br>\n",
    "\n",
    "If $\\ket{a}$ is a normalized vector, the operator $\\hat{P\\,}$, called **projection operator**,\n",
    "\n",
    "$$\\hat{P\\,}=\\ket{a}\\bra{a}$$\n",
    "\n",
    "picks out the portion of any other vector that 'lies along' $\\ket{a}$:\n",
    "\n",
    "$$\\hat{P\\,}\\ket{b}=\\ket{a}\\bra{a} \\; \\ket{b}=\\left(\\braket{a}{b}\\right) \\; \\ket{a}$$\n"
   ]
  },
  {
   "cell_type": "markdown",
   "metadata": {},
   "source": [
    "<h3>Task 3 (on paper)</h3>\n",
    "\n",
    "Find the projection operator of $\\ket{v}$.\n",
    "\n",
    "$$\\ket{v}=\\mymatrix{c}{-9i \\\\ 3+i \\\\ -7-7i \\\\ 6 \\\\ -4i}$$\n",
    "\n",
    "What do you observe in the diagonal values?"
   ]
  },
  {
   "cell_type": "markdown",
   "metadata": {},
   "source": [
    "To check out our solution, run the next cell:"
   ]
  },
  {
   "cell_type": "code",
   "execution_count": null,
   "metadata": {},
   "outputs": [],
   "source": [
    "SolutionToTask3()  # show solution for task 3"
   ]
  },
  {
   "cell_type": "markdown",
   "metadata": {},
   "source": [
    "<h3>Task 4 (on paper)</h3>\n",
    "\n",
    "Find the _bra-kets_ (or inner products): $\\braket{x}{y}$ and $\\braket{y}{x}$.\n",
    "\n",
    "$$\\ket{x}=\\mymatrix{c}{\\dfrac{3+4i}{2} \\\\ 2-i \\\\ -8i \\\\ \\dfrac{i}{2}}~~~~~~,~~~~~~\\ket{y}=\\mymatrix{c}{-i \\\\ \\dfrac{-2-i}{2} \\\\ 3 \\\\ \\dfrac{1+i}{2}}$$\n",
    "\n",
    "What can be said about the results?"
   ]
  },
  {
   "cell_type": "markdown",
   "metadata": {},
   "source": [
    "To check out our solution, run the next cell:"
   ]
  },
  {
   "cell_type": "code",
   "execution_count": null,
   "metadata": {},
   "outputs": [],
   "source": [
    "SolutionToTask4()  # show solution for task 4"
   ]
  }
 ],
 "metadata": {
  "kernelspec": {
   "display_name": "Python 3 (ipykernel)",
   "language": "python",
   "name": "python3"
  },
  "language_info": {
   "codemirror_mode": {
    "name": "ipython",
    "version": 3
   },
   "file_extension": ".py",
   "mimetype": "text/x-python",
   "name": "python",
   "nbconvert_exporter": "python",
   "pygments_lexer": "ipython3",
   "version": "3.11.4"
  }
 },
 "nbformat": 4,
 "nbformat_minor": 4
}
