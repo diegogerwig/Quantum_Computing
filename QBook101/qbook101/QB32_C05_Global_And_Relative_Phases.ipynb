{
 "cells": [
  {
   "cell_type": "markdown",
   "metadata": {},
   "source": [
    "<a href=\"https://qworld.net\" target=\"_blank\" align=\"left\"><img src=\"https://gitlab.com/qworld/qeducation/qbook101/raw/main/qworld/images/header.jpg\" align=\"left\"></a>\n",
    "$ \\newcommand{\\bra}[1]{\\langle #1|} $\n",
    "$ \\newcommand{\\ket}[1]{|#1\\rangle} $\n",
    "$ \\newcommand{\\braket}[2]{\\langle #1|#2\\rangle} $\n",
    "$ \\newcommand{\\dot}[2]{ #1 \\cdot #2} $\n",
    "$ \\newcommand{\\inner}[2]{\\langle #1,#2\\rangle} $\n",
    "$ \\newcommand{\\biginner}[2]{\\left\\langle #1,#2\\right\\rangle} $\n",
    "$ \\newcommand{\\mymatrix}[2]{\\left( \\begin{array}{#1} #2\\end{array} \\right)} $\n",
    "$ \\newcommand{\\myvector}[1]{\\mymatrix{c}{#1}} $\n",
    "$ \\newcommand{\\myrvector}[1]{\\mymatrix{r}{#1}} $\n",
    "$ \\newcommand{\\mypar}[1]{\\left( #1 \\right)} $\n",
    "$ \\newcommand{\\mybigpar}[1]{ \\Big( #1 \\Big)} $\n",
    "$ \\newcommand{\\sqrttwo}{\\frac{1}{\\sqrt{2}}} $\n",
    "$ \\newcommand{\\dsqrttwo}{\\dfrac{1}{\\sqrt{2}}} $\n",
    "$ \\newcommand{\\onehalf}{\\frac{1}{2}} $\n",
    "$ \\newcommand{\\donehalf}{\\dfrac{1}{2}} $\n",
    "$ \\newcommand{\\hadamard}{ \\mymatrix{rr}{ \\sqrttwo & \\sqrttwo \\\\ \\sqrttwo & -\\sqrttwo }} $\n",
    "$ \\newcommand{\\vzero}{\\myvector{1\\\\0}} $\n",
    "$ \\newcommand{\\vone}{\\myvector{0\\\\1}} $\n",
    "$ \\newcommand{\\stateplus}{\\myvector{ \\sqrttwo \\\\  \\sqrttwo } } $\n",
    "$ \\newcommand{\\stateminus}{ \\myrvector{ \\sqrttwo \\\\ -\\sqrttwo } } $\n",
    "$ \\newcommand{\\myarray}[2]{ \\begin{array}{#1}#2\\end{array}} $\n",
    "$ \\newcommand{\\X}{ \\mymatrix{cc}{0 & 1 \\\\ 1 & 0}  } $\n",
    "$ \\newcommand{\\Z}{ \\mymatrix{rr}{1 & 0 \\\\ 0 & -1}  } $\n",
    "$ \\newcommand{\\Htwo}{ \\mymatrix{rrrr}{ \\frac{1}{2} & \\frac{1}{2} & \\frac{1}{2} & \\frac{1}{2} \\\\ \\frac{1}{2} & -\\frac{1}{2} & \\frac{1}{2} & -\\frac{1}{2} \\\\ \\frac{1}{2} & \\frac{1}{2} & -\\frac{1}{2} & -\\frac{1}{2} \\\\ \\frac{1}{2} & -\\frac{1}{2} & -\\frac{1}{2} & \\frac{1}{2} } } $\n",
    "$ \\newcommand{\\CNOT}{ \\mymatrix{cccc}{1 & 0 & 0 & 0 \\\\ 0 & 1 & 0 & 0 \\\\ 0 & 0 & 0 & 1 \\\\ 0 & 0 & 1 & 0} } $\n",
    "$ \\newcommand{\\norm}[1]{ \\left\\lVert #1 \\right\\rVert } $\n",
    "$ \\newcommand{\\pstate}[1]{ \\lceil \\mspace{-1mu} #1 \\mspace{-1.5mu} \\rfloor } $\n",
    "$ \\newcommand{\\len}[1]{\\|#1\\|} $"
   ]
  },
  {
   "cell_type": "markdown",
   "metadata": {},
   "source": [
    "_prepared by Maksim Dimitrijev and Abuzer Yakaryilmaz_"
   ]
  },
  {
   "cell_type": "markdown",
   "metadata": {},
   "source": [
    "<font size=\"28px\" style=\"font-size:28px;\" align=\"left\"><b>Global and relative phase</b></font>\n",
    "<br>\n",
    "<br><br>"
   ]
  },
  {
   "cell_type": "markdown",
   "metadata": {
    "jp-MarkdownHeadingCollapsed": true
   },
   "source": [
    "##### <font color=\"#08b806\">Please execute the following cell, it is necessary to distinguish between your local environment and Google Colab's"
   ]
  },
  {
   "cell_type": "code",
   "execution_count": null,
   "metadata": {},
   "outputs": [],
   "source": [
    "import IPython\n",
    "\n",
    "def in_colab():\n",
    "    try:\n",
    "        import google.colab\n",
    "        return True\n",
    "    except:\n",
    "        return False\n",
    "\n",
    "SolutionToTask1 = lambda: IPython.display.display(IPython.display.Javascript('window.open(\"{url}\");'.format(url='https://colab.research.google.com/drive/1RiA7Mct0B4WnInIZkhijglTMw7YhIvl2?usp=sharing#scrollTo=Gcj5dDs213s9' if in_colab() else 'QB32_C05_Global_And_Relative_Phases_Solutions.ipynb#task1')))\n",
    "SolutionToTask2 = lambda: IPython.display.display(IPython.display.Javascript('window.open(\"{url}\");'.format(url='https://colab.research.google.com/drive/1RiA7Mct0B4WnInIZkhijglTMw7YhIvl2?usp=sharing#scrollTo=TgLKZtMM13s-' if in_colab() else 'QB32_C05_Global_And_Relative_Phases_Solutions.ipynb#task2')))"
   ]
  },
  {
   "cell_type": "markdown",
   "metadata": {},
   "source": [
    "##### The state of a single qubit can be represented as $\\ket{\\psi} = \\alpha \\ket{0} + \\beta \\ket{1}$, where $\\alpha, \\beta \\in \\mathbb{C}$ and $\\mathopen|\\alpha\\mathclose|^2 + \\mathopen|\\beta\\mathclose|^2 = 1$.\n",
    "\n",
    "Each amplitude is a complex number with real and imaginary parts. Therefore, we have four numbers to describe the state of a qubit:\n",
    "\n",
    "    (alpha.real, alpha.imag, beta.real, beta.imag)\n",
    "\n",
    "These four numbers can be represented as a point or a vector on a four dimensional space.\n",
    "\n",
    "Can we have more concise way to represent the state of a qubit?\n",
    "\n",
    "To have a positive answer, first we should introduce global phase."
   ]
  },
  {
   "cell_type": "markdown",
   "metadata": {},
   "source": [
    "## Global phase\n",
    "\n",
    "We explain \"global phase\" through some discussions. We start with a very simple case. "
   ]
  },
  {
   "cell_type": "markdown",
   "metadata": {},
   "source": [
    "### $\\ket{0}$ versus $-\\ket{0}$\n",
    "\n",
    "We are given a qubit, and it is either in state $ \\ket{0} $ or state $ -\\ket{0} $. How can we determine which one is the case?\n",
    "\n",
    "Indeed, we cannot! Although $ \\ket{0} $ and $ -\\ket{0} $ are different vectors, they represent the same quantum state. More pricesely, we cannot distinguish them.\n",
    "\n",
    "Any quantum operation on this qubit will be some linear operators. We may apply a series of linear operators (including tensoring) in order to distinguishing the cases. However, if the final state is $ \\ket{v} $ when starting $ \\ket{0} $, then the final state will be $ -\\ket{v} $ when starting in $ -\\ket{0} $.\n",
    "\n",
    "When we measure $ \\ket{v} $ or $ -\\ket{v} $, we have the same statistics, and so, we cannot know if it is $ \\ket{v} $ or $ -\\ket{v} $.\n",
    "\n",
    "Thus, the set $ \\{ \\ket{0},-\\ket{0} \\} $ represents a single quantum state. Then, we say that $ -\\ket{0} $ differs from $ \\ket{0} $ by a _global phase_ $-1$."
   ]
  },
  {
   "cell_type": "markdown",
   "metadata": {},
   "source": [
    "### Infinitely many complex numbers with length 1\n",
    "\n",
    "There are only two real numbers with length (absolute value) 1: 1 and -1. \n",
    "\n",
    "On the other hand, there are infinitely many complex numbers with length (absolute value/modulus/magnitude) 1: \n",
    "\n",
    "$$ \\cos \\phi + i \\sin \\phi ~~~\\mbox{ for some } \\phi \\in [0,2\\pi) ~~~ \\mbox{ or eqivalently } e^{i\\phi} \\mbox{ by Euler formula.} $$\n",
    "\n",
    "Then, we can easily observe that $ e^{i\\phi} \\ket{0} $ is differ from $ \\ket{0} $ by a global phase $ e^{i\\phi} $.\n",
    "\n",
    "Moreover, we can say that  $ \\{ e^{i\\phi} \\ket{0} \\mid 0 \\leq \\phi < 2\\pi \\} $ represents a single quantum state.\n",
    "\n",
    "A global phase does not affect the computation and so the outcomes. It may be removed."
   ]
  },
  {
   "cell_type": "markdown",
   "metadata": {},
   "source": [
    "### How to find the global phase\n",
    "\n",
    "Let $ \\ket{u} = \\dfrac{1+i}{2}\\ket{0} + \\dfrac{1-i}{2} \\ket{1} $ and $ \\ket{v} = \\dfrac{i-1}{2} \\ket{0} + \\dfrac{i+1}{2} \\ket{1} $ be given two quantum states.\n",
    "\n",
    "How can we determine whether they differ by a global phase or not?"
   ]
  },
  {
   "cell_type": "markdown",
   "metadata": {},
   "source": [
    "#### Measurement\n",
    "\n",
    "Having the same measurement outcomes is a necessary condition but not sufficient.\n",
    "\n",
    "A trivial example is the pair of states $ \\ket{+} $ and $ \\ket{-} $. The probabilities of observing the basis states $ \\ket{0} $ and $ \\ket{1} $ are $ \\dfrac{1}{2} $ for both $ \\ket{+} $ and $ \\ket{-} $, but they are perfectly distinguishable states. If we apply Hadamard and then measure, we observe only $ \\ket{0} $ (resp., $\\ket{1}$) for $ \\ket{+} $ (resp., $\\ket{-}$)."
   ]
  },
  {
   "cell_type": "markdown",
   "metadata": {},
   "source": [
    "#### Inner product\n",
    "\n",
    "\n",
    "The perfect distinguishability of the states $ \\ket{+} $ and $ \\ket{-} $ can be easily shown by using inner product, as well. We know that $ \\ket{u} $ and $ \\ket{v} $ are orthogonal to each other if and only if $ \\braket{u}{v} = \\braket{v}{u} = 0 $.\n",
    "\n",
    "Can the inner product be used to find the global phase? \n",
    "\n",
    "We know that $ \\braket{u}{u} = 1  $ if $\\ket{u} $ is a quantum state. Thus, if $ \\ket{v} $ differs from $ \\ket{u} $ by a global phase $ e^{i\\theta} $, we have:\n",
    "\n",
    "$ \\braket{u}{v} = \\braket{u}{e^{i\\theta}u} = e^{i\\theta} \\braket{u}{u} = e^{i\\theta} $."
   ]
  },
  {
   "cell_type": "markdown",
   "metadata": {},
   "source": [
    "### Task 1\n",
    "\n",
    "Calculate $ \\braket{u}{v} $."
   ]
  },
  {
   "cell_type": "markdown",
   "metadata": {},
   "source": [
    "To check out our solution, run the next cell:"
   ]
  },
  {
   "cell_type": "code",
   "execution_count": null,
   "metadata": {},
   "outputs": [],
   "source": [
    "SolutionToTask1()  # show solution for task 1"
   ]
  },
  {
   "cell_type": "markdown",
   "metadata": {},
   "source": [
    "## Unique representation of \"equivalent\" quantum states"
   ]
  },
  {
   "cell_type": "markdown",
   "metadata": {},
   "source": [
    "We continue with $ \\ket{u} = \\dfrac{1+i}{2}\\ket{0} + \\dfrac{1-i}{2} \\ket{1} $.\n",
    "\n",
    "We know that even though $ \\{ e^{i\\phi} \\ket{u} \\mid \\phi \\in [0,2\\pi) \\} $ has infinitely many elements, they all represent the same single quantum state.\n",
    "\n",
    "We may consider to pick one of them as the representative quantum state. \n",
    "\n",
    "There is already a method in the literature to take any vector in $ \\{ e^{i\\phi} \\ket{u} \\mid \\phi \\in [0,2\\pi) \\} $ and leave it in _a unique representation_."
   ]
  },
  {
   "cell_type": "markdown",
   "metadata": {},
   "source": [
    "### Making the amplitude of $\\ket{0}$ a real number\n",
    "\n",
    "We start with a simple rule: The amplitude of $ \\ket{0} $ will always be a real number.\n",
    "\n",
    "By using Euler formula, we can simplify the calculations.\n",
    "\n",
    "We have $ 1+i = \\sqrt{2}e^{i \\pi /4} $ and $ 1-i = \\sqrt{2} e^{-i \\pi / 4} $, and so $ \\ket{u} = \\frac{1}{\\sqrt{2}} e^{i \\pi \\over 4} \\ket{0} +  \\frac{1}{\\sqrt{2}} e^{- i \\pi \\over 4} \\ket{1} $. \n",
    "\n",
    "By factoring out $ e^{i \\pi \\over 4} $, the amplitude of $ \\ket{0} $ will be only real number:\n",
    "\n",
    "$ \\ket{u} = e^{i \\pi \\over 4} \\mypar{ \\frac{1}{\\sqrt{2}} \\ket{0} + \\frac{1}{\\sqrt{2}} e^{-i \\pi / 2 } \\ket{1} } $.\n",
    "\n",
    "As the length of $ e^{i \\pi \\over 4} $ is 1, it is a global phase and we can remove it. Thus, we have\n",
    "\n",
    "$ \\ket{u'} = \\frac{1}{\\sqrt{2}} \\ket{0} + \\frac{1}{\\sqrt{2}} e^{-i \\pi / 2 } \\ket{1}  $. $~~~~$ ($ \\ket{u} $ differs from $ \\ket{u'} $ by a global phase $ e^{i \\pi \\over 4} $)."
   ]
  },
  {
   "cell_type": "markdown",
   "metadata": {},
   "source": [
    "### Euler formula\n",
    "\n",
    "Using Euler formula indeed already gives us the unique representation:\n",
    "\n",
    "$ r_1 \\ket{0} + r_2 e^{i\\phi} \\ket{1},  $\n",
    "\n",
    "where \n",
    "- $ r_1 $ and $ r_2 $ are non-negative real numbers,\n",
    "- $ r_1^2 + r_2^2 = 1 $, and\n",
    "- $ |e^{i\\phi}| = 1 $.\n",
    "\n",
    "The probability of being in states $ \\ket{0} $ and $ \\ket{1} $ are respectively $ r_1^2 $ and $ 1 - r_1^2 $ ($= r_2^2$).\n",
    "\n",
    "Remark that $ (r_1,r_2) $ is a point on the unit circle in the first quadrant. Soon, we will parameterize them with an angle, say $\\theta$, and so the unique representation will be determined by two angles: $ \\theta $ and $ \\phi $.\n",
    "\n",
    "This representation is concise as well as practical especially when visualizing the state of a qubit."
   ]
  },
  {
   "cell_type": "markdown",
   "metadata": {},
   "source": [
    "## Relative phase\n",
    "\n",
    "One may notice that $ \\ket{u'} = \\frac{1}{\\sqrt{2}} \\ket{0} + \\frac{-i}{\\sqrt{2}} \\ket{1} $ as $ e^{-i \\pi / 2 } = -i $.\n",
    "\n",
    "But, we refer only the form $ r_1 \\ket{0} + r_2 e^{i\\phi} \\ket{1} $ as the unique representation. Then, we call $ \\phi $ _the relative phase_. \n",
    "\n",
    "Remember that we started with two complex numbers. Both $r_1$ and $ r_2 $ are only the magnitudes, and so all the remaining information stored in the relative phase. Therefore, the relative phase is important."
   ]
  },
  {
   "cell_type": "markdown",
   "metadata": {},
   "source": [
    "### Task 2\n",
    "\n",
    "What are the unique representations of the states $ \\ket{+} $ and $ \\ket{-} $.\n",
    "\n",
    "What are the relative phases?\n",
    "\n",
    "Observe that $ \\ket{-} $ differs from $ \\ket{+} $ only by a relative phase, but this is significant as $ \\ket{+} $ and $ \\ket{-} $ are orthogonal to each other and so perfectly distinguishable."
   ]
  },
  {
   "cell_type": "markdown",
   "metadata": {},
   "source": [
    "To check out our solution, run the next cell:"
   ]
  },
  {
   "cell_type": "code",
   "execution_count": null,
   "metadata": {},
   "outputs": [],
   "source": [
    "SolutionToTask2()  # show solution for task 2"
   ]
  }
 ],
 "metadata": {
  "kernelspec": {
   "display_name": "Python 3 (ipykernel)",
   "language": "python",
   "name": "python3"
  },
  "language_info": {
   "codemirror_mode": {
    "name": "ipython",
    "version": 3
   },
   "file_extension": ".py",
   "mimetype": "text/x-python",
   "name": "python",
   "nbconvert_exporter": "python",
   "pygments_lexer": "ipython3",
   "version": "3.11.4"
  }
 },
 "nbformat": 4,
 "nbformat_minor": 4
}
