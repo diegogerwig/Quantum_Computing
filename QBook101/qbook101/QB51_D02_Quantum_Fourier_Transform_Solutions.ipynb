{
 "cells": [
  {
   "cell_type": "markdown",
   "metadata": {},
   "source": [
    "<a href=\"https://qworld.net\" target=\"_blank\" align=\"left\"><img src=\"https://gitlab.com/qworld/qeducation/qbook101/raw/main/qworld/images/header.jpg\" align=\"left\"></a>\n",
    "$ \\newcommand{\\bra}[1]{\\langle #1|} $\n",
    "$ \\newcommand{\\ket}[1]{|#1\\rangle} $\n",
    "$ \\newcommand{\\braket}[2]{\\langle #1|#2\\rangle} $\n",
    "$ \\newcommand{\\dot}[2]{ #1 \\cdot #2} $\n",
    "$ \\newcommand{\\biginner}[2]{\\left\\langle #1,#2\\right\\rangle} $\n",
    "$ \\newcommand{\\mymatrix}[2]{\\left( \\begin{array}{#1} #2\\end{array} \\right)} $\n",
    "$ \\newcommand{\\myvector}[1]{\\mymatrix{c}{#1}} $\n",
    "$ \\newcommand{\\myrvector}[1]{\\mymatrix{r}{#1}} $\n",
    "$ \\newcommand{\\mypar}[1]{\\left( #1 \\right)} $\n",
    "$ \\newcommand{\\mybigpar}[1]{ \\Big( #1 \\Big)} $\n",
    "$ \\newcommand{\\sqrttwo}{\\frac{1}{\\sqrt{2}}} $\n",
    "$ \\newcommand{\\dsqrttwo}{\\dfrac{1}{\\sqrt{2}}} $\n",
    "$ \\newcommand{\\onehalf}{\\frac{1}{2}} $\n",
    "$ \\newcommand{\\donehalf}{\\dfrac{1}{2}} $\n",
    "$ \\newcommand{\\hadamard}{ \\mymatrix{rr}{ \\sqrttwo & \\sqrttwo \\\\ \\sqrttwo & -\\sqrttwo }} $\n",
    "$ \\newcommand{\\vzero}{\\myvector{1\\\\0}} $\n",
    "$ \\newcommand{\\vone}{\\myvector{0\\\\1}} $\n",
    "$ \\newcommand{\\stateplus}{\\myvector{ \\sqrttwo \\\\  \\sqrttwo } } $\n",
    "$ \\newcommand{\\stateminus}{ \\myrvector{ \\sqrttwo \\\\ -\\sqrttwo } } $\n",
    "$ \\newcommand{\\myarray}[2]{ \\begin{array}{#1}#2\\end{array}} $\n",
    "$ \\newcommand{\\X}{ \\mymatrix{cc}{0 & 1 \\\\ 1 & 0}  } $\n",
    "$ \\newcommand{\\Z}{ \\mymatrix{rr}{1 & 0 \\\\ 0 & -1}  } $\n",
    "$ \\newcommand{\\Htwo}{ \\mymatrix{rrrr}{ \\frac{1}{2} & \\frac{1}{2} & \\frac{1}{2} & \\frac{1}{2} \\\\ \\frac{1}{2} & -\\frac{1}{2} & \\frac{1}{2} & -\\frac{1}{2} \\\\ \\frac{1}{2} & \\frac{1}{2} & -\\frac{1}{2} & -\\frac{1}{2} \\\\ \\frac{1}{2} & -\\frac{1}{2} & -\\frac{1}{2} & \\frac{1}{2} } } $\n",
    "$ \\newcommand{\\CNOT}{ \\mymatrix{cccc}{1 & 0 & 0 & 0 \\\\ 0 & 1 & 0 & 0 \\\\ 0 & 0 & 0 & 1 \\\\ 0 & 0 & 1 & 0} } $\n",
    "$ \\newcommand{\\norm}[1]{ \\left\\lVert #1 \\right\\rVert } $\n",
    "$ \\newcommand{\\pstate}[1]{ \\lceil \\mspace{-1mu} #1 \\mspace{-1.5mu} \\rfloor } $\n",
    "$ \\newcommand{\\Y}{ \\mymatrix{rr}{0 & -i \\\\ i & 0} } $\n",
    "$ \\newcommand{\\S}{ \\mymatrix{rr}{1 & 0 \\\\ 0 & i} } $\n",
    "$ \\newcommand{\\T}{ \\mymatrix{rr}{1 & 0 \\\\ 0 & e^{i \\frac{\\pi}{4}}} } $\n",
    "$ \\newcommand{\\Sdg}{ \\mymatrix{rr}{1 & 0 \\\\ 0 & -i} } $ \n",
    "$ \\newcommand{\\Tdg}{ \\mymatrix{rr}{1 & 0 \\\\ 0 & e^{-i \\frac{\\pi}{4}}} } $\n",
    "$ \\newcommand{\\qgate}[1]{ \\mathop{\\\\textit{#1} } }$"
   ]
  },
  {
   "cell_type": "markdown",
   "metadata": {},
   "source": [
    "_prepared by Özlem Salehi and Abuzer Yakaryilmaz_\n",
    "<br><br>\n",
    "_Cirq adaptation by Claudia Zendejas-Morales_"
   ]
  },
  {
   "cell_type": "markdown",
   "metadata": {},
   "source": [
    "<font size=\"28px\" style=\"font-size:28px;\" align=\"left\"><b><font color=\"blue\"> Solutions for </font>Quantum Fourier Transform</b></font>\n",
    "<br>\n",
    "<br><br>"
   ]
  },
  {
   "cell_type": "markdown",
   "metadata": {
    "jp-MarkdownHeadingCollapsed": true
   },
   "source": [
    "##### <font color=\"#08b806\">Please execute the following cell, it is necessary to distinguish between your local environment and Google Colab's"
   ]
  },
  {
   "cell_type": "code",
   "execution_count": null,
   "metadata": {},
   "outputs": [],
   "source": [
    "import IPython\n",
    "\n",
    "def in_colab():\n",
    "    try:\n",
    "        import google.colab\n",
    "        return True\n",
    "    except:\n",
    "        return False\n",
    "\n",
    "if in_colab():\n",
    "    !pip install cirq"
   ]
  },
  {
   "cell_type": "markdown",
   "metadata": {},
   "source": [
    "<a name=\"task1\"></a>\n",
    "### Task 1 (on paper)\n",
    "\n",
    "\n",
    "Apply $QFT$ to the basis state $\\ket{10}$ and find the new quantum state."
   ]
  },
  {
   "cell_type": "markdown",
   "metadata": {},
   "source": [
    "<h3>Solution </h3>"
   ]
  },
  {
   "cell_type": "markdown",
   "metadata": {},
   "source": [
    "We have $n=2$ qubits and $N=4$. $\\omega = e^{\\frac{2 \\pi i} { 4}} =i$. Note that $\\ket{10}$ is the binary representation for 2. Letting $j=2$,"
   ]
  },
  {
   "cell_type": "markdown",
   "metadata": {},
   "source": [
    "\\begin{align*}\n",
    " \\frac{1}{\\sqrt{N}} \\sum_{k=0}^{N-1}\\omega^{jk} \\ket{k} &= \\frac{1}{\\sqrt{4}} \\biggl ( \\omega^{2\\cdot0 } \\ket{00}+ \\omega^{2\\cdot1} \\ket{01} + \\omega^{2\\cdot2} \\ket{10} + \\omega^{2\\cdot3} \\ket{11} \\biggr ) \\\\\n",
    "&= \\frac{1}{2} \\bigl ( \\ket{00}- \\ket{01} + \\ket{10} - \\ket{11} \\bigr )\n",
    "\\end{align*}"
   ]
  },
  {
   "cell_type": "markdown",
   "metadata": {},
   "source": [
    "We can also directly calculate the coefficients $y_k$. The vector representation for the state $\\ket{10} = \\myvector{0~0~1~0}^T$. Since $x_2=1$ and the remaining coefficients are 0, the formula reduces to \n",
    "\n",
    "$$y_k=\\frac{1}{\\sqrt{N}} \\sum_{j=0}^{N-1} \\omega^{jk} x_j= \\frac{1}{2} \\omega^{2k} x_2 = \\frac{1}{2} (-1)^k.$$"
   ]
  },
  {
   "cell_type": "markdown",
   "metadata": {},
   "source": [
    "Hence we get $y_0= \\frac{1}{2}$, $y_1=\\frac{-1}{2}$, $y_2=\\frac{1}{2}, y_3=\\frac{-1}{2}$ and \n",
    "$$\n",
    "y= \\myvector{\\frac{1}{2}\\\\-\\frac{1}{2}\\\\\\frac{1}{2}\\\\-\\frac{1}{2}}\n",
    "$$"
   ]
  },
  {
   "cell_type": "markdown",
   "metadata": {},
   "source": [
    "<a name=\"task2\"></a>\n",
    "### Task 2 (on paper)\n",
    "\n",
    "Apply $QFT$ to the quantum state $ \\ket \\psi=\\frac{1}{\\sqrt{2}} \\ket {01}+\\frac{1}{\\sqrt{2}} \\ket {10} $. "
   ]
  },
  {
   "cell_type": "markdown",
   "metadata": {},
   "source": [
    "<h3>Solution </h3>"
   ]
  },
  {
   "cell_type": "markdown",
   "metadata": {},
   "source": [
    "We have $n=2$ qubits and $N=4$. Note that $ x_0=0, x_1=\\frac{1}{\\sqrt{2}}, x_2= \\frac{1}{\\sqrt{2}}, x_3=0 $.\n",
    "\n",
    "\\begin{align*}\n",
    "\t\\ket{\\phi}&=\\sum_{k=0}^{3} \\frac{1}{\\sqrt{4}} \\sum_{j=0}^{3} e^{\\frac{2 \\pi i j k}{4}} x_{j} \\ket{k} \\\\\n",
    "\t&=\\sum_{k=0}^{3} \\frac{1}{2\\sqrt{2}}  \\left(e^{\\frac{\\pi i k}{ 2}}|k\\rangle+e^{\\pi i k}|k\\rangle\\right)\\\\\n",
    "\t&= \\frac{1}{2\\sqrt{2}}\\left(2\\ket{00}+e^{\\frac{\\pi i}{2}} \\ket {01}+e^{ \\pi i}\\ket {01}+e^{ \\pi i}\\ket {10}+e^{\\pi i 2}\\ket {10} +e^{\\frac{3 \\pi i}{2}}\\ket {11}+e^{3 \\pi i}\\ket {11} \\right) \\\\\n",
    "\t&= \\frac{1}{2\\sqrt{2}}\\left(2\\ket{00}+i \\ket {01}-\\ket {01}-\\ket {10} + \\ket{10} -i\\ket {11}-\\ket {11} \\right) \\\\\t\n",
    "\t&= \\frac{1}{\\sqrt{2}} \\ket {00}+\\frac{i-1}{2\\sqrt{2}}\\ket {01}+\\frac{-i-1}{2\\sqrt{2}} \\ket {11}\n",
    "\t\t\\end{align*}\n"
   ]
  },
  {
   "cell_type": "markdown",
   "metadata": {},
   "source": [
    "Note that since we have already found $QFT$ of the state $\\ket{10}$, we can find $QFT\\ket{01}$ and take the linear combination."
   ]
  },
  {
   "cell_type": "markdown",
   "metadata": {},
   "source": [
    "<a name=\"task3\"></a>\n",
    "### Task 3 (on paper)\n",
    "\n",
    "Apply $QFT$ to the quantum state $\\ket{\\psi}=\\alpha \\ket{0} + \\beta \\ket{1}$ and find the new quantum state.\n",
    "\n",
    "Conclude that applying 1 qubit $QFT$ is equivalent to applying Hadamard gate."
   ]
  },
  {
   "cell_type": "markdown",
   "metadata": {},
   "source": [
    "<h3>Solution </h3>"
   ]
  },
  {
   "cell_type": "markdown",
   "metadata": {},
   "source": [
    "The quantum state $\\ket{\\psi}$ is represented by $\\myvector{\\alpha\\\\\\beta}$ where $x_0=\\alpha$ and $x_1=\\beta$."
   ]
  },
  {
   "cell_type": "markdown",
   "metadata": {},
   "source": [
    "$$y_0=\\frac{1}{\\sqrt{2}} \\sum_{j=0}^{1}e^{\\frac{2\\pi i j \\cdot 0}{2}}x_j = \\frac{ \\alpha + \\beta }{\\sqrt{2}}  .$$"
   ]
  },
  {
   "cell_type": "markdown",
   "metadata": {},
   "source": [
    "$$y_1=\\frac{1}{\\sqrt{2}} \\sum_{j=0}^{1}e^{\\frac{2\\pi i \\cdot j \\cdot 1}{2}}x_j = \\frac{1}{\\sqrt{2}} \\biggl (e^{\\frac{2\\pi i \\cdot 1 \\cdot 0}{2}}  x_0 + e^{\\frac{2\\pi i\\cdot 1\\cdot 1}{2}}x_1 \\biggr )=\\frac{ \\alpha - \\beta }{\\sqrt{2}}  .$$"
   ]
  },
  {
   "cell_type": "markdown",
   "metadata": {},
   "source": [
    "Hence the new state is $  \\frac{\\alpha+\\beta}{\\sqrt{2}} \\ket{0} + \\frac{\\alpha-\\beta}{\\sqrt{2}} \\ket{1}.$"
   ]
  },
  {
   "cell_type": "markdown",
   "metadata": {},
   "source": [
    "<a name=\"task4\"></a>\n",
    "### Task 4 (on paper)\n",
    "\n",
    "Apply $QFT$ to the basis state $\\ket{10}$ using the matrix representaiton and find the new quantum state."
   ]
  },
  {
   "cell_type": "markdown",
   "metadata": {},
   "source": [
    "<h3>Solution </h3>"
   ]
  },
  {
   "cell_type": "markdown",
   "metadata": {},
   "source": [
    "Let's first find the $QFT$ matrix for 2 qubits. \n",
    "\n",
    "$$\\frac{1}{2} \\mymatrix{rrrr}{1 & 1 & 1 &1 \\\\ 1 & \\omega & \\omega^2 & \\omega^3 \\\\ 1 & \\omega^2 &\\omega^4 & \\omega^6 \\\\ 1 & \\omega^3 & \\omega^6 & \\omega^9 }$$\n",
    "\n",
    "Since $\\omega = i$ for $N=4$, the matrix becomes\n",
    "\n",
    "$$\\frac{1}{2} \\mymatrix{rrrr}{1 & 1 & 1 &1 \\\\ 1 & i & -1 & -i \\\\ 1 & -1 &1 & -1 \\\\ 1 & -i & -1 & i }$$\n"
   ]
  },
  {
   "cell_type": "markdown",
   "metadata": {},
   "source": [
    "The vector representation for the state $\\ket{10}$ is given by $\\myvector{0\\\\0\\\\1\\\\0}$. Let's multiply it with the above matrix to find its $QFT$."
   ]
  },
  {
   "cell_type": "markdown",
   "metadata": {},
   "source": [
    "$$ \\frac{1}{2} \\mymatrix{rrrr}{1 & 1 & 1 & 1 \\\\ 1 & i & -1 & -i \\\\ 1 & -1 &1 & -1 \\\\ 1 & -i & -1 & i } \\myvector{0\\\\0\\\\1\\\\0} = \\frac{1}{2} \\myvector{1 \\\\ -1 \\\\ 1 \\\\ -1}$$"
   ]
  },
  {
   "cell_type": "markdown",
   "metadata": {},
   "source": [
    "Hence, we obtain the state $ \\frac{1}{2} \\bigl ( \\ket{00}- \\ket{01} + \\ket{10} - \\ket{11} \\bigr )$."
   ]
  },
  {
   "cell_type": "markdown",
   "metadata": {},
   "source": [
    "<a name=\"task5\"></a>\n",
    "### Task 5 (on paper)\n",
    "\n",
    "What is the quantum state obtained after applying $QFT$ to the state $\\ket{11}$? Find using Task 4 and the linear shift property. "
   ]
  },
  {
   "cell_type": "markdown",
   "metadata": {},
   "source": [
    "<h3>Solution </h3>"
   ]
  },
  {
   "cell_type": "markdown",
   "metadata": {},
   "source": [
    "Note that the vector representation for the state $\\ket{11}$ is $\\myvector{0\\\\0\\\\0\\\\1}$. Since $QFT$ $ \\myvector{0 \\\\ 0 \\\\ 1 \\\\ 0} = \\frac{1}{2} \\myvector{1 \\\\ -1 \\\\ 1 \\\\ -1}$, using the linear shift property\n",
    "\n",
    "$$\n",
    "QFT \\myvector{0\\\\0\\\\0\\\\1} = \\frac{1}{2} \\myvector{1 \\\\ -\\omega \\\\ \\omega^2 \\\\ -\\omega^3} = \\frac{1}{2} \\myvector{1 \\\\ -i \\\\ -1 \\\\ i}. \n",
    "$$"
   ]
  },
  {
   "cell_type": "markdown",
   "metadata": {},
   "source": [
    "<a name=\"task6\"></a>\n",
    "### Task 6\n",
    "\n",
    "Write a method named `myQFT` that takes a list of qubits and then returns the circuit implementing QFT on those qubits.\n",
    "\n",
    "Test your method with three and four qubits.\n",
    "\n",
    "Print your circuits and compare them with our solutions."
   ]
  },
  {
   "cell_type": "markdown",
   "metadata": {},
   "source": [
    "<h3>Solution </h3>"
   ]
  },
  {
   "cell_type": "code",
   "execution_count": null,
   "metadata": {},
   "outputs": [],
   "source": [
    "import cirq\n",
    "from cirq import H, SWAP\n",
    "from cirq.circuits import InsertStrategy\n",
    "from math import pi\n",
    "\n",
    "def myQFT(qubits):\n",
    "\n",
    "    circuit = cirq.Circuit() # create a circuit\n",
    "    \n",
    "    n = len(qubits)\n",
    "    for i in range(n):\n",
    "        #Apply Hadamard\n",
    "        circuit.append(H(qubits[i]), strategy = InsertStrategy.NEW) # strategy is for the circuit to look neat\n",
    "        \n",
    "        # apply Controlled-PhaseShift \n",
    "        phase_divisor = 4 # 4,8,16,...\n",
    "        for j in range(i+1,n):\n",
    "            circuit.append(cirq.CZPowGate(exponent = 2/phase_divisor).on(qubits[j],qubits[i]))\n",
    "            phase_divisor = 2 * phase_divisor\n",
    " \n",
    "    # swap the qubits\n",
    "    for j in range(n//2): # integer division\n",
    "        circuit.append(SWAP.on(qubits[j],qubits[n-j-1]), strategy = InsertStrategy.NEW)  \n",
    "    \n",
    "    return circuit"
   ]
  },
  {
   "cell_type": "code",
   "execution_count": null,
   "metadata": {},
   "outputs": [],
   "source": [
    "qubits = cirq.LineQubit.range(3) #create 3 qubits\n",
    "\n",
    "my_circuit = myQFT(qubits)\n",
    "\n",
    "print(\"=========== Three qubits ===========\")\n",
    "print()\n",
    "print(my_circuit)\n",
    "print()\n",
    "\n",
    "qubits = cirq.LineQubit.range(4) #create 4 qubits\n",
    "my_circuit = myQFT(qubits)\n",
    "\n",
    "print()\n",
    "print()\n",
    "print(\"=========== Four qubits ===========\")\n",
    "print()\n",
    "print(my_circuit)\n",
    "print()"
   ]
  },
  {
   "cell_type": "markdown",
   "metadata": {},
   "source": [
    "<a name=\"task7\"></a>\n",
    "### Task 7\n",
    "\n",
    "Write down the matrix of QFT for $ n =3 $ by using Python.\n",
    "\n",
    "Write down the matrix of circuit $ n =3 $ by using `myQFT`.\n",
    "\n",
    "Compare both results."
   ]
  },
  {
   "cell_type": "markdown",
   "metadata": {},
   "source": [
    "<h3>Solution </h3>"
   ]
  },
  {
   "cell_type": "code",
   "execution_count": null,
   "metadata": {},
   "outputs": [],
   "source": [
    "from math import pi, sin, cos\n",
    "\n",
    "n = 3\n",
    "N = 2**n\n",
    "\n",
    "phi = 2 * pi / N\n",
    "\n",
    "coefficient = 1/(N**0.5)\n",
    "omega = complex(cos(phi),sin(phi))\n",
    "\n",
    "print(\"QFT matrix directly calculated by Python:\")\n",
    "for i in range(N):\n",
    "    row_str = \"\"\n",
    "    for j in range(N):\n",
    "        val = coefficient*omega**(i*j)\n",
    "        R = round(val.real,2)\n",
    "        I = round(val.imag,2)\n",
    "        row_str += str(R)+\"+i(\"+str(I)+\")  \"\n",
    "    print(row_str)\n",
    "\n",
    "print()\n",
    "print()\n",
    "\n",
    "print(\"QFT matrix by myQFT:\")\n",
    "qubits = cirq.LineQubit.range(n)\n",
    "QFT = myQFT(qubits)\n",
    "matrix = cirq.unitary(QFT)\n",
    "\n",
    "for row in matrix:\n",
    "    row_str = \"\"\n",
    "    for val in row:\n",
    "        R = round(val.real,2)\n",
    "        I = round(val.imag,2)\n",
    "        row_str += str(R)+\"+i(\"+str(I)+\")  \"\n",
    "    print(row_str)"
   ]
  },
  {
   "cell_type": "markdown",
   "metadata": {},
   "source": [
    "<a name=\"task8\"></a>\n",
    "### Task 8\n",
    "\n",
    "Let $ n = 3 $.\n",
    "\n",
    "On all possible input states\n",
    "- Run your QFT circuit\n",
    "- Run the built-in QFT circuit of Cirq\n",
    "\n",
    "Write down final quantum states for each input, and compare them."
   ]
  },
  {
   "cell_type": "markdown",
   "metadata": {},
   "source": [
    "<h3>Solution </h3>"
   ]
  },
  {
   "cell_type": "code",
   "execution_count": null,
   "metadata": {},
   "outputs": [],
   "source": [
    "import cirq\n",
    "from cirq import H, SWAP, X\n",
    "from cirq.circuits import InsertStrategy\n",
    "from math import pi\n",
    "\n",
    "def myQFT(qubits):\n",
    "\n",
    "    circuit = cirq.Circuit() # create a circuit\n",
    "    \n",
    "    n = len(qubits)\n",
    "    for i in range(n):\n",
    "        #Apply Hadamard\n",
    "        circuit.append(H(qubits[i]), strategy = InsertStrategy.NEW) # strategy is for the circuit to look neat\n",
    "        \n",
    "        # apply Controlled-PhaseShift \n",
    "        phase_divisor = 4 # 4,8,16,...\n",
    "        for j in range(i+1,n):\n",
    "            circuit.append(cirq.CZPowGate(exponent = 2/phase_divisor).on(qubits[j],qubits[i]))\n",
    "            phase_divisor = 2 * phase_divisor\n",
    " \n",
    "    # swap the qubits\n",
    "    for j in range(n//2): # integer division\n",
    "        circuit.append(SWAP.on(qubits[j],qubits[n-j-1]), strategy = InsertStrategy.NEW)\n",
    "    \n",
    "    return circuit"
   ]
  },
  {
   "cell_type": "code",
   "execution_count": null,
   "metadata": {},
   "outputs": [],
   "source": [
    "n = 3 \n",
    "\n",
    "inputs = ['000','001','010','011','100','101','110','111']\n",
    "\n",
    "for input in inputs:\n",
    "    print(\"========= input is\",input,\" ==========\")\n",
    "    \n",
    "    qubits = cirq.LineQubit.range(n) #create n=3 qubits\n",
    "   \n",
    "    circuit = cirq.Circuit()\n",
    "    \n",
    "    if input[0] == '1': circuit.append(X.on(qubits[0]))\n",
    "    if input[1] == '1': circuit.append(X.on(qubits[1]))\n",
    "    if input[2] == '1': circuit.append(X.on(qubits[2]))\n",
    "\n",
    "    my_circuit = circuit + myQFT(qubits)\n",
    "    builtin_circuit = circuit + cirq.qft(*qubits,without_reverse=False)\n",
    "    \n",
    "    # simulate the circuits\n",
    "    results = cirq.Simulator().simulate(my_circuit)\n",
    "    my_circuit_state = results.dirac_notation()\n",
    "    results = cirq.Simulator().simulate(builtin_circuit)\n",
    "    builtin_circuit_state = results.dirac_notation()\n",
    "    \n",
    "    # Print the final statevectors\n",
    "    print(\"the final state by our circuit:\")\n",
    "    print(my_circuit_state)\n",
    "    print()\n",
    "    print(\"the final state by built-in circuit\")\n",
    "    print(builtin_circuit_state)\n",
    "    print()\n",
    "    print()"
   ]
  },
  {
   "cell_type": "markdown",
   "metadata": {},
   "source": [
    "<a name=\"task9\"></a>\n",
    "### Task 9\n",
    "\n",
    "Write an explicit method named `myInvQFT` for desgining the circuit of inverse QFT on the given list of qubits.\n",
    "\n",
    "Test it for $ n=4 $ by comparing your circuit matrix with the circuit matrix generated with built-in inverse QFT."
   ]
  },
  {
   "cell_type": "markdown",
   "metadata": {},
   "source": [
    "<h3>Solution </h3>"
   ]
  },
  {
   "cell_type": "code",
   "execution_count": null,
   "metadata": {},
   "outputs": [],
   "source": [
    "import cirq\n",
    "from cirq import H, SWAP\n",
    "from cirq.circuits import InsertStrategy\n",
    "from math import pi\n",
    "\n",
    "def myInvQFT(qubits):\n",
    "\n",
    "    circuit = cirq.Circuit() # create a circuit\n",
    "    \n",
    "    n = len(qubits)\n",
    "    \n",
    "    # swap the qubits\n",
    "    for j in range(n//2): # integer division\n",
    "        circuit.append(SWAP.on(qubits[j],qubits[n-j-1]), strategy = InsertStrategy.NEW)\n",
    "    \n",
    "    \n",
    "    # inverted phase gates are applied in reverse order and before the hadamard gate\n",
    "    \n",
    "    for i in range(n-1,-1,-1):\n",
    "        \n",
    "        phase_divisor = 2**(n-i)\n",
    "        for j in range(n-1,i,-1):\n",
    "            circuit.append(cirq.CZPowGate(exponent = -2/phase_divisor).on(qubits[j],qubits[i]),\n",
    "                           strategy = InsertStrategy.NEW)\n",
    "            phase_divisor = phase_divisor / 2\n",
    "        \n",
    "        circuit.append(H(qubits[i]), strategy = InsertStrategy.NEW) # strategy is for the circuit to look neat\n",
    "    \n",
    "    return circuit"
   ]
  },
  {
   "cell_type": "code",
   "execution_count": null,
   "metadata": {},
   "outputs": [],
   "source": [
    "import numpy as np\n",
    "\n",
    "qubits = cirq.LineQubit.range(4) #create 4 qubits\n",
    "\n",
    "myInvQFT_circuit = myInvQFT(qubits)\n",
    "\n",
    "InvQFT_circuit = cirq.Circuit(cirq.qft(*qubits, without_reverse=False, inverse=True))\n",
    "\n",
    "print(\"n = 4 \")\n",
    "print()\n",
    "print(\"my circuit for IQFT:\")\n",
    "print(myInvQFT_circuit)\n",
    "print()\n",
    "\n",
    "\n",
    "# Check equality of the 'manual' and 'built-in' QFTs.\n",
    "myInvQFT_matrix = cirq.unitary(myInvQFT_circuit)\n",
    "InvQFT_matrix = cirq.unitary(InvQFT_circuit)\n",
    "print()\n",
    "print(\"Are the two matrices of the inverse of QFT equal?\")\n",
    "print(np.allclose(myInvQFT_matrix, InvQFT_matrix))  # element-wise equal within a tolerance"
   ]
  }
 ],
 "metadata": {
  "kernelspec": {
   "display_name": "Python 3 (ipykernel)",
   "language": "python",
   "name": "python3"
  },
  "language_info": {
   "codemirror_mode": {
    "name": "ipython",
    "version": 3
   },
   "file_extension": ".py",
   "mimetype": "text/x-python",
   "name": "python",
   "nbconvert_exporter": "python",
   "pygments_lexer": "ipython3",
   "version": "3.11.4"
  }
 },
 "nbformat": 4,
 "nbformat_minor": 4
}
