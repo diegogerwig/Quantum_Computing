{
 "cells": [
  {
   "cell_type": "markdown",
   "metadata": {},
   "source": [
    "<a href=\"https://qworld.net\" target=\"_blank\" align=\"left\"><img src=\"https://gitlab.com/qworld/qeducation/qbook101/raw/main/qworld/images/header.jpg\" align=\"left\"></a>\n",
    "$ \\newcommand{\\bra}[1]{\\langle #1|} $\n",
    "$ \\newcommand{\\ket}[1]{|#1\\rangle} $\n",
    "$ \\newcommand{\\braket}[2]{\\langle #1|#2\\rangle} $\n",
    "$ \\newcommand{\\dot}[2]{ #1 \\cdot #2} $\n",
    "$ \\newcommand{\\biginner}[2]{\\left\\langle #1,#2\\right\\rangle} $\n",
    "$ \\newcommand{\\mymatrix}[2]{\\left( \\begin{array}{#1} #2\\end{array} \\right)} $\n",
    "$ \\newcommand{\\myvector}[1]{\\mymatrix{c}{#1}} $\n",
    "$ \\newcommand{\\myrvector}[1]{\\mymatrix{r}{#1}} $\n",
    "$ \\newcommand{\\mypar}[1]{\\left( #1 \\right)} $\n",
    "$ \\newcommand{\\mybigpar}[1]{ \\Big( #1 \\Big)} $\n",
    "$ \\newcommand{\\sqrttwo}{\\frac{1}{\\sqrt{2}}} $\n",
    "$ \\newcommand{\\dsqrttwo}{\\dfrac{1}{\\sqrt{2}}} $\n",
    "$ \\newcommand{\\onehalf}{\\frac{1}{2}} $\n",
    "$ \\newcommand{\\donehalf}{\\dfrac{1}{2}} $\n",
    "$ \\newcommand{\\hadamard}{ \\mymatrix{rr}{ \\sqrttwo & \\sqrttwo \\\\ \\sqrttwo & -\\sqrttwo }} $\n",
    "$ \\newcommand{\\vzero}{\\myvector{1\\\\0}} $\n",
    "$ \\newcommand{\\vone}{\\myvector{0\\\\1}} $\n",
    "$ \\newcommand{\\stateplus}{\\myvector{ \\sqrttwo \\\\  \\sqrttwo } } $\n",
    "$ \\newcommand{\\stateminus}{ \\myrvector{ \\sqrttwo \\\\ -\\sqrttwo } } $\n",
    "$ \\newcommand{\\myarray}[2]{ \\begin{array}{#1}#2\\end{array}} $\n",
    "$ \\newcommand{\\X}{ \\mymatrix{cc}{0 & 1 \\\\ 1 & 0}  } $\n",
    "$ \\newcommand{\\Z}{ \\mymatrix{rr}{1 & 0 \\\\ 0 & -1}  } $\n",
    "$ \\newcommand{\\Htwo}{ \\mymatrix{rrrr}{ \\frac{1}{2} & \\frac{1}{2} & \\frac{1}{2} & \\frac{1}{2} \\\\ \\frac{1}{2} & -\\frac{1}{2} & \\frac{1}{2} & -\\frac{1}{2} \\\\ \\frac{1}{2} & \\frac{1}{2} & -\\frac{1}{2} & -\\frac{1}{2} \\\\ \\frac{1}{2} & -\\frac{1}{2} & -\\frac{1}{2} & \\frac{1}{2} } } $\n",
    "$ \\newcommand{\\CNOT}{ \\mymatrix{cccc}{1 & 0 & 0 & 0 \\\\ 0 & 1 & 0 & 0 \\\\ 0 & 0 & 0 & 1 \\\\ 0 & 0 & 1 & 0} } $\n",
    "$ \\newcommand{\\norm}[1]{ \\left\\lVert #1 \\right\\rVert } $\n",
    "$ \\newcommand{\\pstate}[1]{ \\lceil \\mspace{-1mu} #1 \\mspace{-1.5mu} \\rfloor } $"
   ]
  },
  {
   "cell_type": "markdown",
   "metadata": {},
   "source": [
    "_prepared by Claudia Zendejas-Morales_"
   ]
  },
  {
   "cell_type": "markdown",
   "metadata": {},
   "source": [
    "<font size=\"28px\" style=\"font-size:28px;\" align=\"left\"><b> How to Run the Notebooks </b></font>\n",
    "<br>\n",
    "<br><br>"
   ]
  },
  {
   "cell_type": "markdown",
   "metadata": {},
   "source": [
    "In order to access the content of the QBook101, you have two main options: through Google Colab or by installing a local Jupyter environment; both options are described below, as well as the use of alternative platforms/tools.\n",
    "\n",
    "An overview of how Jupyter notebooks work can be found in _'Appendix A - Jupyter notebooks'_ of the QBook101.\n",
    "\n",
    "- [Google Colab](#colab)\n",
    "- [Local Environment](#local)\n",
    "- [Other Platforms](#other)"
   ]
  },
  {
   "cell_type": "markdown",
   "metadata": {},
   "source": [
    "<a name=\"colab\"></a>\n",
    "# Google Colab"
   ]
  },
  {
   "cell_type": "markdown",
   "metadata": {},
   "source": [
    "The notebooks that constitute the QBook101 are ready to be used on the Google Colab platform; the links to access each of them can be found on this webpage that shows the content: https://qworld.net/qbook101/\n",
    "\n",
    "Once you choose the notebook you want to study, a window like the following will open:\n",
    "\n",
    "<img src=\"https://gitlab.com/qworld/qeducation/qbook101/raw/main/qbook101/images/ch1/colab1.png\" width=\"500px\" align=\"center\">"
   ]
  },
  {
   "cell_type": "markdown",
   "metadata": {},
   "source": [
    "We strongly recommend that you keep a copy of the notebook in your personal account, for that choose the option `Save a copy in Drive` (note that you need a Gmail account for doing this):\n",
    "\n",
    "<img src=\"https://gitlab.com/qworld/qeducation/qbook101/raw/main/qbook101/images/ch1/colab2.png\" width=\"500px\" align=\"center\">"
   ]
  },
  {
   "cell_type": "markdown",
   "metadata": {},
   "source": [
    "If you decide to run the notebook's contents without saving a copy, you will get the following warning: it is entirely safe to click `Run anyway`; if in doubt, check the code that will be executed carefully.\n",
    "\n",
    "<img src=\"https://gitlab.com/qworld/qeducation/qbook101/raw/main/qbook101/images/ch1/colab3.png\" width=\"400px\" align=\"center\">"
   ]
  },
  {
   "cell_type": "markdown",
   "metadata": {},
   "source": [
    "Several of the notebooks contain a preamble cell, which indicates in <font color=\"#08b806\">green letters</font> that it is necessary to run it to establish the environment to run the rest of the notebook; it is defined if the notebook is being run from Google Colab or a local environment, and if it is in Colab, it could also download files or do necessary installations (like Qiskit or Cirq):\n",
    "\n",
    "<img src=\"https://gitlab.com/qworld/qeducation/qbook101/raw/main/qbook101/images/ch1/colab4.png\" width=\"500px\" align=\"center\">"
   ]
  },
  {
   "cell_type": "markdown",
   "metadata": {},
   "source": [
    "Now, you can continue with the rest of the notebook content and run the sample code.\n",
    "\n",
    "To open the solution of a task, you must execute the corresponding cell:\n",
    "\n",
    "<img src=\"https://gitlab.com/qworld/qeducation/qbook101/raw/main/qbook101/images/ch1/colab5.png\" width=\"500px\" align=\"center\">"
   ]
  },
  {
   "cell_type": "markdown",
   "metadata": {},
   "source": [
    "<a name=\"local\"></a>\n",
    "# Local Environment"
   ]
  },
  {
   "cell_type": "markdown",
   "metadata": {},
   "source": [
    "To run QBook101 notebooks locally (on your computer), you must install [Python](https://www.python.org/downloads/) and [Jupyter](https://pypi.org/project/jupyter/) and optionally (although highly recommended) [Anaconda](https://www.anaconda.com/download); the latter to have an environment dedicated to the QBook101 notebooks.\n",
    "\n",
    "The content of QBook101 is in the repository: https://gitlab.com/qworld/qeducation/qbook101 (the starting point is the notebook **START.ipynb**)\n",
    "\n",
    "You can download it as a compressed file:\n",
    "\n",
    "<img src=\"https://gitlab.com/qworld/qeducation/qbook101/raw/main/qbook101/images/ch1/local1.png\" width=\"300px\" align=\"center\">\n",
    "\n",
    "or by doing clone with git (it can be from your [fork](https://docs.gitlab.com/ee/user/project/repository/forking_workflow.html)) in your command line:\n",
    "\n",
    "    git clone https://gitlab.com/qworld/qeducation/qbook101.git\n",
    "\n",
    "\n",
    "For details of the installation of Anaconda, the creation of a dedicated environment, and the subsequent execution of the notebooks, you can watch [this video](https://www.youtube.com/watch?v=1TNteRBWtq0&ab_channel=QWorld)."
   ]
  },
  {
   "cell_type": "markdown",
   "metadata": {},
   "source": [
    "<a name=\"other\"></a>\n",
    "# Other Platforms"
   ]
  },
  {
   "cell_type": "markdown",
   "metadata": {},
   "source": [
    "We recommend running the QBook101 notebooks in either of the abovementioned ways.\n",
    "\n",
    "You can run the notebooks on other platforms, but in most cases, the directory structure is not taken into account by other platforms, which leads to confusion when finding the notebooks you want to study, so please be careful.\n",
    "\n",
    "Alternatives like _VS Code_ can cause issues in the rendering of LaTeX code. Other online platforms like _IBM Quantum_ have shown problems with the links between notebooks. Also note that if you want to upload the notebooks from your local copy to Google Colab, the internal links will send you to the notebooks residing in the QBook101/QWorld account, as they are written within the files."
   ]
  }
 ],
 "metadata": {
  "kernelspec": {
   "display_name": "Python 3 (ipykernel)",
   "language": "python",
   "name": "python3"
  },
  "language_info": {
   "codemirror_mode": {
    "name": "ipython",
    "version": 3
   },
   "file_extension": ".py",
   "mimetype": "text/x-python",
   "name": "python",
   "nbconvert_exporter": "python",
   "pygments_lexer": "ipython3",
   "version": "3.11.4"
  }
 },
 "nbformat": 4,
 "nbformat_minor": 4
}
