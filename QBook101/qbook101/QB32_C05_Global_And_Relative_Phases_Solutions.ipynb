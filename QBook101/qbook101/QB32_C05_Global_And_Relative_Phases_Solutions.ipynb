{
 "cells": [
  {
   "cell_type": "markdown",
   "metadata": {},
   "source": [
    "<a href=\"https://qworld.net\" target=\"_blank\" align=\"left\"><img src=\"https://gitlab.com/qworld/qeducation/qbook101/raw/main/qworld/images/header.jpg\" align=\"left\"></a>\n",
    "$ \\newcommand{\\bra}[1]{\\langle #1|} $\n",
    "$ \\newcommand{\\ket}[1]{|#1\\rangle} $\n",
    "$ \\newcommand{\\braket}[2]{\\langle #1|#2\\rangle} $\n",
    "$ \\newcommand{\\dot}[2]{ #1 \\cdot #2} $\n",
    "$ \\newcommand{\\inner}[2]{\\langle #1,#2\\rangle} $\n",
    "$ \\newcommand{\\biginner}[2]{\\left\\langle #1,#2\\right\\rangle} $\n",
    "$ \\newcommand{\\mymatrix}[2]{\\left( \\begin{array}{#1} #2\\end{array} \\right)} $\n",
    "$ \\newcommand{\\myvector}[1]{\\mymatrix{c}{#1}} $\n",
    "$ \\newcommand{\\myrvector}[1]{\\mymatrix{r}{#1}} $\n",
    "$ \\newcommand{\\mypar}[1]{\\left( #1 \\right)} $\n",
    "$ \\newcommand{\\mybigpar}[1]{ \\Big( #1 \\Big)} $\n",
    "$ \\newcommand{\\sqrttwo}{\\frac{1}{\\sqrt{2}}} $\n",
    "$ \\newcommand{\\dsqrttwo}{\\dfrac{1}{\\sqrt{2}}} $\n",
    "$ \\newcommand{\\onehalf}{\\frac{1}{2}} $\n",
    "$ \\newcommand{\\donehalf}{\\dfrac{1}{2}} $\n",
    "$ \\newcommand{\\hadamard}{ \\mymatrix{rr}{ \\sqrttwo & \\sqrttwo \\\\ \\sqrttwo & -\\sqrttwo }} $\n",
    "$ \\newcommand{\\vzero}{\\myvector{1\\\\0}} $\n",
    "$ \\newcommand{\\vone}{\\myvector{0\\\\1}} $\n",
    "$ \\newcommand{\\stateplus}{\\myvector{ \\sqrttwo \\\\  \\sqrttwo } } $\n",
    "$ \\newcommand{\\stateminus}{ \\myrvector{ \\sqrttwo \\\\ -\\sqrttwo } } $\n",
    "$ \\newcommand{\\myarray}[2]{ \\begin{array}{#1}#2\\end{array}} $\n",
    "$ \\newcommand{\\X}{ \\mymatrix{cc}{0 & 1 \\\\ 1 & 0}  } $\n",
    "$ \\newcommand{\\Z}{ \\mymatrix{rr}{1 & 0 \\\\ 0 & -1}  } $\n",
    "$ \\newcommand{\\Htwo}{ \\mymatrix{rrrr}{ \\frac{1}{2} & \\frac{1}{2} & \\frac{1}{2} & \\frac{1}{2} \\\\ \\frac{1}{2} & -\\frac{1}{2} & \\frac{1}{2} & -\\frac{1}{2} \\\\ \\frac{1}{2} & \\frac{1}{2} & -\\frac{1}{2} & -\\frac{1}{2} \\\\ \\frac{1}{2} & -\\frac{1}{2} & -\\frac{1}{2} & \\frac{1}{2} } } $\n",
    "$ \\newcommand{\\CNOT}{ \\mymatrix{cccc}{1 & 0 & 0 & 0 \\\\ 0 & 1 & 0 & 0 \\\\ 0 & 0 & 0 & 1 \\\\ 0 & 0 & 1 & 0} } $\n",
    "$ \\newcommand{\\norm}[1]{ \\left\\lVert #1 \\right\\rVert } $\n",
    "$ \\newcommand{\\pstate}[1]{ \\lceil \\mspace{-1mu} #1 \\mspace{-1.5mu} \\rfloor } $\n",
    "$ \\newcommand{\\len}[1]{\\|#1\\|} $"
   ]
  },
  {
   "cell_type": "markdown",
   "metadata": {},
   "source": [
    "_prepared by Maksim Dimitrijev and Abuzer Yakaryilmaz_"
   ]
  },
  {
   "cell_type": "markdown",
   "metadata": {},
   "source": [
    "<font size=\"28px\" style=\"font-size:28px;\" align=\"left\"><b> <font color=\"blue\"> Solutions for </font>Global and local phase</b></font>\n",
    "<br>\n",
    "<br><br>"
   ]
  },
  {
   "cell_type": "markdown",
   "metadata": {},
   "source": [
    "<a name=\"task1\"></a>\n",
    "### Task 1\n",
    "\n",
    "Calculate $ \\braket{u}{v} $."
   ]
  },
  {
   "cell_type": "markdown",
   "metadata": {},
   "source": [
    "<h3> Solution </h3>"
   ]
  },
  {
   "cell_type": "markdown",
   "metadata": {},
   "source": [
    "Remember that $ \\ket{u} = \\dfrac{1+i}{2}\\ket{0} + \\dfrac{1-i}{2} \\ket{1} $ and $ \\ket{v} = \\dfrac{i-1}{2} \\ket{0} + \\dfrac{i+1}{2} \\ket{1} $.\n",
    "\n",
    "$\n",
    "\\begin{array}{rcl}\n",
    "\\braket{u}{v} & = & \\mypar{ \\dfrac{1-i}{2}\\bra{0} + \\dfrac{1+i}{2} \\bra{1} } \\mypar{ \\dfrac{i-1}{2} \\ket{0} + \\dfrac{i+1}{2} \\ket{1} } \\\\\n",
    " & = & \\dfrac{-(1-i)^2}{4} \\braket{0}{0} + \\dfrac{1-i^2}{4} \\braket{0}{1} + \\dfrac{i^2-1}{4} \\braket{1}{0} + \\dfrac{(1+i)^2}{4} \\braket{1}{1} \\\\\n",
    " & = & \\dfrac{ (-1+2i-i^2) + (1+2i+i^2) }{4} = \\dfrac{4i}{4} = i.\n",
    "\\end{array}\n",
    "$ \n",
    "\n",
    "Note that:\n",
    "- $ \\braket{0}{0} = \\braket{1}{1} = 1  $\n",
    "- $ \\braket{0}{1} = \\braket{1}{0} = 0 $\n",
    "- $ i^2 = -1 $\n",
    "\n",
    "Thus, $ \\ket{v} $ differs from $ \\ket{u} $ by a global phase $ i $."
   ]
  },
  {
   "cell_type": "markdown",
   "metadata": {},
   "source": [
    "We can calculate $ \\ket{v} = i \\ket{u} $:\n",
    "\n",
    "$ i \\mypar{ \\dfrac{1+i}{2}\\ket{0} + \\dfrac{1-i}{2} \\ket{1} } =  \\dfrac{i+i^2}{2} \\ket{0} + \\dfrac{i-i^2}{2} \\ket{1} \n",
    "= \\dfrac{i-1}{2} \\ket{0} + \\dfrac{i+1}{2} \\ket{1} = \\ket{v}. $"
   ]
  },
  {
   "cell_type": "markdown",
   "metadata": {},
   "source": [
    "<a name=\"task2\"></a>\n",
    "### Task 2\n",
    "\n",
    "What are the unique representations of the states $ \\ket{+} $ and $ \\ket{-} $.\n",
    "\n",
    "What are the relative phases?\n",
    "\n",
    "Observe that $ \\ket{-} $ differs from $ \\ket{+} $ only by a relative phase, but this is significant as $ \\ket{+} $ and $ \\ket{-} $ are orthogonal to each other and so perfectly distinguishable."
   ]
  },
  {
   "cell_type": "markdown",
   "metadata": {},
   "source": [
    "### Solution"
   ]
  },
  {
   "cell_type": "markdown",
   "metadata": {},
   "source": [
    "$ \\ket{+} = \\dfrac{1}{\\sqrt{2}} \\ket{0} + \\dfrac{1}{\\sqrt{2}} \\ket{1} = \\dfrac{1}{\\sqrt{2}} \\ket{0} + \\dfrac{1}{\\sqrt{2}} e^0 \\ket{1} $, and so the relative phase is zero.\n",
    "<br><br>\n",
    "$ \\ket{-} = \\dfrac{1}{\\sqrt{2}} \\ket{0} - \\dfrac{1}{\\sqrt{2}} \\ket{1} = \\dfrac{1}{\\sqrt{2}} \\ket{0} + \\dfrac{1}{\\sqrt{2}} e^{i\\pi} \\ket{1} $, and so the relative phase is $\\pi$.\n",
    "<br><br>\n",
    "Even though $ \\ket{-} $ differs from $ \\ket{+} $ by a relative phase $ \\pi $, they are orthogonal to each other, i.e., $ \\braket{+}{-} = \\braket{-}{+} = 0 $."
   ]
  }
 ],
 "metadata": {
  "kernelspec": {
   "display_name": "Python 3 (ipykernel)",
   "language": "python",
   "name": "python3"
  },
  "language_info": {
   "codemirror_mode": {
    "name": "ipython",
    "version": 3
   },
   "file_extension": ".py",
   "mimetype": "text/x-python",
   "name": "python",
   "nbconvert_exporter": "python",
   "pygments_lexer": "ipython3",
   "version": "3.11.4"
  }
 },
 "nbformat": 4,
 "nbformat_minor": 4
}
