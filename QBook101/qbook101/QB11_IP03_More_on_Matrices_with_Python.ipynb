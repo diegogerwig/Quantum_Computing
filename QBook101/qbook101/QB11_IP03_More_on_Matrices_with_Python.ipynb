{
 "cells": [
  {
   "cell_type": "markdown",
   "metadata": {},
   "source": [
    "<a href=\"https://qworld.net\" target=\"_blank\" align=\"left\"><img src=\"https://gitlab.com/qworld/qeducation/qbook101/raw/main/qworld/images/header.jpg\" align=\"left\"></a>\n",
    "$ \\newcommand{\\bra}[1]{\\langle #1|} $\n",
    "$ \\newcommand{\\ket}[1]{|#1\\rangle} $\n",
    "$ \\newcommand{\\braket}[2]{\\langle #1|#2\\rangle} $\n",
    "$ \\newcommand{\\dot}[2]{ #1 \\cdot #2} $\n",
    "$ \\newcommand{\\biginner}[2]{\\left\\langle #1,#2\\right\\rangle} $\n",
    "$ \\newcommand{\\mymatrix}[2]{\\left( \\begin{array}{#1} #2\\end{array} \\right)} $\n",
    "$ \\newcommand{\\myvector}[1]{\\mymatrix{c}{#1}} $\n",
    "$ \\newcommand{\\myrvector}[1]{\\mymatrix{r}{#1}} $\n",
    "$ \\newcommand{\\mypar}[1]{\\left( #1 \\right)} $\n",
    "$ \\newcommand{\\mybigpar}[1]{ \\Big( #1 \\Big)} $\n",
    "$ \\newcommand{\\sqrttwo}{\\frac{1}{\\sqrt{2}}} $\n",
    "$ \\newcommand{\\dsqrttwo}{\\dfrac{1}{\\sqrt{2}}} $\n",
    "$ \\newcommand{\\onehalf}{\\frac{1}{2}} $\n",
    "$ \\newcommand{\\donehalf}{\\dfrac{1}{2}} $\n",
    "$ \\newcommand{\\hadamard}{ \\mymatrix{rr}{ \\sqrttwo & \\sqrttwo \\\\ \\sqrttwo & -\\sqrttwo }} $\n",
    "$ \\newcommand{\\vzero}{\\myvector{1\\\\0}} $\n",
    "$ \\newcommand{\\vone}{\\myvector{0\\\\1}} $\n",
    "$ \\newcommand{\\stateplus}{\\myvector{ \\sqrttwo \\\\  \\sqrttwo } } $\n",
    "$ \\newcommand{\\stateminus}{ \\myrvector{ \\sqrttwo \\\\ -\\sqrttwo } } $\n",
    "$ \\newcommand{\\myarray}[2]{ \\begin{array}{#1}#2\\end{array}} $\n",
    "$ \\newcommand{\\X}{ \\mymatrix{cc}{0 & 1 \\\\ 1 & 0}  } $\n",
    "$ \\newcommand{\\Z}{ \\mymatrix{rr}{1 & 0 \\\\ 0 & -1}  } $\n",
    "$ \\newcommand{\\Htwo}{ \\mymatrix{rrrr}{ \\frac{1}{2} & \\frac{1}{2} & \\frac{1}{2} & \\frac{1}{2} \\\\ \\frac{1}{2} & -\\frac{1}{2} & \\frac{1}{2} & -\\frac{1}{2} \\\\ \\frac{1}{2} & \\frac{1}{2} & -\\frac{1}{2} & -\\frac{1}{2} \\\\ \\frac{1}{2} & -\\frac{1}{2} & -\\frac{1}{2} & \\frac{1}{2} } } $\n",
    "$ \\newcommand{\\CNOT}{ \\mymatrix{cccc}{1 & 0 & 0 & 0 \\\\ 0 & 1 & 0 & 0 \\\\ 0 & 0 & 0 & 1 \\\\ 0 & 0 & 1 & 0} } $\n",
    "$ \\newcommand{\\norm}[1]{ \\left\\lVert #1 \\right\\rVert } $\n",
    "$ \\newcommand{\\pstate}[1]{ \\lceil \\mspace{-1mu} #1 \\mspace{-1.5mu} \\rfloor } $"
   ]
  },
  {
   "cell_type": "markdown",
   "metadata": {},
   "source": [
    "_prepared by Claudia Zendejas-Morales_"
   ]
  },
  {
   "cell_type": "markdown",
   "metadata": {},
   "source": [
    "<font size=\"28px\" style=\"font-size:28px;\" align=\"left\"><b> More on Matrices with Pyhton </b></font>\n",
    "<br>\n",
    "<br><br>"
   ]
  },
  {
   "cell_type": "markdown",
   "metadata": {
    "jp-MarkdownHeadingCollapsed": true
   },
   "source": [
    "##### <font color=\"#08b806\">Please execute the following cell, it is necessary to distinguish between your local environment and Google Colab's"
   ]
  },
  {
   "cell_type": "code",
   "execution_count": null,
   "metadata": {},
   "outputs": [],
   "source": [
    "import IPython\n",
    "\n",
    "def in_colab():\n",
    "    try:\n",
    "        import google.colab\n",
    "        return True\n",
    "    except:\n",
    "        return False\n",
    "\n",
    "SolutionToTask1 = lambda: IPython.display.display(IPython.display.Javascript('window.open(\"{url}\");'.format(url='https://colab.research.google.com/drive/1-mjkL8174TkDaOAd34B1QWqLSskLir6j?usp=sharing#scrollTo=izotQuwuT93w' if in_colab() else 'QB11_IP03_More_on_Matrices_with_Python_Solutions.ipynb#task1')))\n",
    "SolutionToTask2 = lambda: IPython.display.display(IPython.display.Javascript('window.open(\"{url}\");'.format(url='https://colab.research.google.com/drive/1-mjkL8174TkDaOAd34B1QWqLSskLir6j?usp=sharing#scrollTo=jyfq4i-wT93x' if in_colab() else 'QB11_IP03_More_on_Matrices_with_Python_Solutions.ipynb#task2')))\n",
    "SolutionToTask3 = lambda: IPython.display.display(IPython.display.Javascript('window.open(\"{url}\");'.format(url='https://colab.research.google.com/drive/1-mjkL8174TkDaOAd34B1QWqLSskLir6j?usp=sharing#scrollTo=5b9yiIEdT93y' if in_colab() else 'QB11_IP03_More_on_Matrices_with_Python_Solutions.ipynb#task3')))"
   ]
  },
  {
   "cell_type": "markdown",
   "metadata": {},
   "source": [
    "# Eigenvalues and Eigenvectors"
   ]
  },
  {
   "cell_type": "markdown",
   "metadata": {},
   "source": [
    "Let's consider the matrix $\\mathbf{A}$ and the vectors $\\vec{u}$ and $\\vec{v}$:\n",
    "\n",
    "$$\\mathbf{A}=\\mymatrix{rr}{1 & 6 \\\\ 5 & 2}~~~~~,~~~~~\\vec{u}=\\mymatrix{r}{1 \\\\ 1}~~~~~,~~~~~\\vec{v}=\\mymatrix{r}{-6 \\\\ 5}$$\n",
    "\n",
    "By performing the $\\mathbf{A}\\vec{u}$ and $\\mathbf{A}\\vec{v}$ multiplications, we obtain that:\n",
    "\n",
    "$$\\mathbf{A}\\vec{u}=\\mymatrix{r}{7 \\\\ 7}~~~~~,~~~~~\\mathbf{A}\\vec{v}=\\mymatrix{r}{24 \\\\ -20}$$\n",
    "\n",
    "Note that $\\mathbf{A}\\vec{u}=7\\vec{u}$, and that $\\mathbf{A}\\vec{v}=-4\\vec{v}$"
   ]
  },
  {
   "cell_type": "markdown",
   "metadata": {},
   "source": [
    "<br>\n",
    "\n",
    "An **eigenvector** of a ($n\\times n$)-dimensional matrix $\\mathbf{M}$ is a non-zero vector $\\vec{x}$ such that $\\mathbf{M}\\vec{x}=\\lambda\\vec{x}$ for some scalar $\\lambda$. A scalar $\\lambda$ is an **eigenvalue** of $\\mathbf{M}$ if there exists a non-trivial solution $\\vec{x}$ of $\\mathbf{M}\\vec{x}=\\lambda\\vec{x}$; such $\\vec{x}$ is the corresponding eigenvector of $\\lambda$.\n",
    "\n",
    "In quantum mechanics, and therefore in quantum computing, the eigenvectors are also called **eigenstates**.\n",
    "\n",
    "<br>\n",
    "\n",
    "From the previous example, notice that $7$ and $-4$ are the eigenvalues of $\\mathbf{A}$ and their corresponding eigenvectors are $\\vec{u}$ and $\\vec{v}$.\n",
    "\n",
    "<br>"
   ]
  },
  {
   "cell_type": "markdown",
   "metadata": {},
   "source": [
    "To find the eigenvalues and eigenvectors of a matrix, there is a well-defined process, which we will not see here, but we can obtain these values with the [`linalg.eig()`](https://numpy.org/doc/stable/reference/generated/numpy.linalg.eig.html) function of the `numpy` package:"
   ]
  },
  {
   "cell_type": "code",
   "execution_count": null,
   "metadata": {},
   "outputs": [],
   "source": [
    "import numpy as np\n",
    "\n",
    "A = np.array([[1, 6],\n",
    "              [5, 2]])\n",
    "  \n",
    "# finding eigenvalues and eigenvectors\n",
    "vals, vecs = np.linalg.eig(A)         # use of a function\n",
    "\n",
    "print(\"The eigenvalues of A are:\", vals)\n",
    "\n",
    "# the eigenvectors are the columns of the matrix 'vecs'\n",
    "# to obtain the columns of a matrix contained in an np.array, \n",
    "# we use the index [:, i] that gives us the 'i' values of each column\n",
    "print(\"The eigenvectors of A are:\")\n",
    "print(vecs[:, 0])\n",
    "print(vecs[:, 1])"
   ]
  },
  {
   "cell_type": "markdown",
   "metadata": {},
   "source": [
    "<br>\n",
    "\n",
    "Let's note that the vectors that [`linalg.eig()`](https://numpy.org/doc/stable/reference/generated/numpy.linalg.eig.html) gives us are normalized and multiplied by a factor of $-1$, which does not affect the result because both the ones calculated by hand and the ones calculated with `numpy` are [linearly dependent vectors](https://en.wikipedia.org/wiki/Linear_independence)."
   ]
  },
  {
   "cell_type": "markdown",
   "metadata": {},
   "source": [
    "<h3> Task 1</h3>\n",
    "\n",
    "Find the eigenvalues and eigenvectors of the matrix $\\mathbf{B}$, then check the results using the definition: $\\mathbf{B}\\vec{x}=\\lambda\\vec{x}$.\n",
    "\n",
    "$$\\mathbf{B}=\\mymatrix{rrr}{-4 & 3 & 3 \\\\ 2 & -3 & -2 \\\\ -1 & 0 & -2}$$"
   ]
  },
  {
   "cell_type": "code",
   "execution_count": null,
   "metadata": {},
   "outputs": [],
   "source": [
    "import numpy as np\n",
    "\n",
    "#\n",
    "# your code goes here\n",
    "#"
   ]
  },
  {
   "cell_type": "markdown",
   "metadata": {},
   "source": [
    "To check out our solution, run the next cell:"
   ]
  },
  {
   "cell_type": "code",
   "execution_count": null,
   "metadata": {},
   "outputs": [],
   "source": [
    "SolutionToTask1()  # show solution for task 1"
   ]
  },
  {
   "cell_type": "markdown",
   "metadata": {},
   "source": [
    "# Linear Operators"
   ]
  },
  {
   "cell_type": "markdown",
   "metadata": {},
   "source": [
    "An operator is generally a mapping or function that acts on elements of one space to produce elements of another space. A **linear operator** acts on _vector spaces_ and is mathematically written: $\\mathbf{O}: U \\rightarrow V$.\n",
    "\n",
    "Where $\\mathbf{O}$ is the map that sends the elements of the vector space $U$ to elements of the vector space $V$, both vector spaces must have the same field $F$ (for example, the real numbers or the complex numbers).\n",
    "\n",
    "The most convenient way to understand linear operators is in termns of their **matrix representations**.\n",
    "\n",
    "For example, consider the following operator $\\mathbf{O}$, the vector space $U$ as the space of $3$-dimensional vectors, then one of its elements would be $\\vec{u}$, and the vector space $V$ as the space of 2-dimensional vectors.\n",
    "\n",
    "$$\\mathbf{O}=\\mymatrix{rrr}{2 & -3 & 4 \\\\ 1 & 7 & -5}~~~~~~,~~~~~~\\vec{u}=\\mymatrix{r}{6 \\\\ -1 \\\\ 2}$$\n",
    "\n",
    "To find the mapping of $\\mathbf{O}$ onto $\\vec{u}$, we apply the operator on this vector, and we will obtain an element of the vector space $V$,\n",
    "\n",
    "$$\\mathbf{O}\\vec{u}=\\mymatrix{rrr}{2 & -3 & 4 \\\\ 1 & 7 & -5}\\mymatrix{r}{6 \\\\ -1 \\\\ 2}=\\mymatrix{r}{23 \\\\ -11 }=\\vec{v}$$\n",
    "\n",
    "where $\\vec{v}$ is an element of $V$."
   ]
  },
  {
   "cell_type": "markdown",
   "metadata": {},
   "source": [
    "Let's consider the operator $R(\\theta)$, this operator is parameterized, which means that it receives a parameter, a value that can change with each use of the operator.\n",
    "\n",
    "$$\\mathbf{R(\\theta)}=\\mymatrix{rr}{\\cos(\\theta) & -\\sin(\\theta) \\\\ \\sin(\\theta) & \\cos(\\theta)}$$\n",
    "\n",
    "Now, let's create a Python function that receives the parameter $\\theta$ and returns the operator $R(\\theta)$.\n",
    "\n",
    "A **function** in programming is a block of code which only runs when it is called. You can pass data, known as parameters, into a function. A function can return data as a result."
   ]
  },
  {
   "cell_type": "code",
   "execution_count": null,
   "metadata": {},
   "outputs": [],
   "source": [
    "from math import cos, sin, pi\n",
    "import numpy as np\n",
    "\n",
    "def operatorR(theta):       # use of special word \"def\"\n",
    "                            # receives the parameter called \"theta\", a variable\n",
    "\n",
    "    R = np.array([[cos(theta), -sin(theta)],\n",
    "                  [sin(theta),  cos(theta)]])\n",
    "\n",
    "    return R                # returns the R(theta) operator in matrix form for the specified \"theta\" value"
   ]
  },
  {
   "cell_type": "code",
   "execution_count": null,
   "metadata": {},
   "outputs": [],
   "source": [
    "# let's try with theta = pi\n",
    "\n",
    "operatorR(pi)"
   ]
  },
  {
   "cell_type": "markdown",
   "metadata": {},
   "source": [
    "Note that the values of the antidiagonal are very small, so they can be considered as zeros, so, when $\\theta=\\pi$ we have that,\n",
    "\n",
    "$$\\mathbf{R(\\pi)}=\\mymatrix{rr}{-1 & 0 \\\\ 0 & -1}$$"
   ]
  },
  {
   "cell_type": "markdown",
   "metadata": {},
   "source": [
    "<h3> Task 2</h3>\n",
    "\n",
    "Create a function, called `applyOp`, which receives the operator $\\mathbf{R(\\theta)}$ and a 2-dimensional vector, internally applies $\\mathbf{R(\\theta)}$ to that vector, returning the result of that mapping.\n",
    "\n",
    "$$\\mathbf{R(\\theta)}=\\mymatrix{rr}{\\cos(\\theta) & -\\sin(\\theta) \\\\ \\sin(\\theta) & \\cos(\\theta)}$$\n",
    "\n",
    "Test your function with different values of $\\theta$ and different vectors."
   ]
  },
  {
   "cell_type": "code",
   "execution_count": null,
   "metadata": {},
   "outputs": [],
   "source": [
    "from math import cos, sin, pi\n",
    "import numpy as np\n",
    "\n",
    "#\n",
    "# your code goes here\n",
    "#"
   ]
  },
  {
   "cell_type": "markdown",
   "metadata": {},
   "source": [
    "To check out our solution, run the next cell:"
   ]
  },
  {
   "cell_type": "code",
   "execution_count": null,
   "metadata": {},
   "outputs": [],
   "source": [
    "SolutionToTask2()  # show solution for task 2"
   ]
  },
  {
   "cell_type": "markdown",
   "metadata": {},
   "source": [
    "# Hermitian and Unitary Operators"
   ]
  },
  {
   "cell_type": "markdown",
   "metadata": {},
   "source": [
    "An _complex square matrix_ $\\mathbf{U}$, that is also [invertible](https://en.wikipedia.org/wiki/Invertible_matrix), is **unitary** if its conjugate transpose $\\mathbf{U^*}$ is also its inverse ($\\mathbf{U^{-1}}$), that is,\n",
    "\n",
    "$$\\mathbf{U^*}\\mathbf{U}=\\mathbf{U}\\mathbf{U^*}=\\mathbf{U}\\mathbf{U^{-1}}=\\mathbf{I}$$\n",
    "\n",
    "where $\\mathbf{I}$ is the identity matrix.\n",
    "\n",
    "In quantum mechanics, the conjugate transpose is referred as the **Hermitian** of a matrix and is denoted with the dagger symbol ($\\dagger$),\n",
    "\n",
    "$$\\mathbf{U^{\\dagger}}\\mathbf{U}=\\mathbf{U}\\mathbf{U^{\\dagger}}=\\mathbf{I}$$\n",
    "\n",
    "This definition for matrices is extended to linear operators, calling them **unitary operators**. A unitary operator preserves the _lengths_ and _angles_ between vectors, and it can be considered as a type of rotation operator."
   ]
  },
  {
   "cell_type": "markdown",
   "metadata": {},
   "source": [
    "<h3> Task 3</h3>\n",
    "\n",
    "Make a function that takes a parameter representing an matrix and returns `True` if the matrix is unitary, and `False` otherwise.\n",
    "\n",
    "Use the `numpy` functions called [`allclose`](https://numpy.org/doc/stable/reference/generated/numpy.allclose.html) and [`eye`](https://numpy.org/devdocs/reference/generated/numpy.eye.html) (click on each one to go to its documentation).\n",
    "\n",
    "Test your function with the matrices $\\mathbf{M_1}$, $\\mathbf{M_2}$ and $\\mathbf{R(\\theta)}$ with different values of $\\theta$.\n",
    "\n",
    "$$\\mathbf{M_1}=\\mymatrix{rr}{\\frac{1}{\\sqrt{2}} & \\frac{1}{\\sqrt{2}} \\\\ \\frac{1}{\\sqrt{2}} & -\\frac{1}{\\sqrt{2}}}~~~~~,~~~~~\\mathbf{M_2}=\\mymatrix{rr}{3 & 0 \\\\ 0 & 3}~~~~~,~~~~~\\mathbf{R(\\theta)}=\\mymatrix{rr}{\\cos(\\theta) & -\\sin(\\theta) \\\\ \\sin(\\theta) & \\cos(\\theta)}$$"
   ]
  },
  {
   "cell_type": "code",
   "execution_count": null,
   "metadata": {},
   "outputs": [],
   "source": [
    "from math import cos, sin, pi, sqrt\n",
    "import numpy as np\n",
    "\n",
    "def operatorR(theta):       # use of special word \"def\"\n",
    "                            # receives the parameter called \"theta\", a variable\n",
    "\n",
    "    R = np.array([[cos(theta), -sin(theta)],\n",
    "                  [sin(theta),  cos(theta)]])\n",
    "\n",
    "    return R                # returns the R(theta) operator in matrix form for the specified \"theta\" value"
   ]
  },
  {
   "cell_type": "code",
   "execution_count": null,
   "metadata": {},
   "outputs": [],
   "source": [
    "#\n",
    "# your code goes here\n",
    "#"
   ]
  },
  {
   "cell_type": "markdown",
   "metadata": {},
   "source": [
    "To check out our solution, run the next cell:"
   ]
  },
  {
   "cell_type": "code",
   "execution_count": null,
   "metadata": {},
   "outputs": [],
   "source": [
    "SolutionToTask3()  # show solution for task 3"
   ]
  },
  {
   "cell_type": "markdown",
   "metadata": {},
   "source": [
    "# Tensor Product"
   ]
  },
  {
   "cell_type": "markdown",
   "metadata": {},
   "source": [
    "The **tensor product**, denoted by $\\otimes$, is an operation between elements of two vector spaces, although it can be the same vector space for both factors."
   ]
  },
  {
   "cell_type": "markdown",
   "metadata": {},
   "source": [
    "An overview of the tensor product with Python can be found in _'Appendix B - Tensor Product'_."
   ]
  },
  {
   "cell_type": "markdown",
   "metadata": {},
   "source": [
    "If the factors are matrices, then it is known as the **Kronecker product** and in general it behaves like this:\n",
    "\n",
    "$$\\mathbf{A}\\otimes\\mathbf{B}=\\mymatrix{ccc}{a_{11}\\mathbf{B} & \\cdots & a_{1n}\\mathbf{B}\\\\ \\vdots & \\ddots & \\vdots \\\\ a_{m1}\\mathbf{B} & \\cdots & a_{mn}\\mathbf{B}}$$\n",
    "\n",
    "where $a_{ij}$ are the elements of the matrix $\\mathbf{A}$."
   ]
  },
  {
   "cell_type": "markdown",
   "metadata": {},
   "source": [
    "In Python we can use the `kron` method from the `numpy` package to perform this operation:"
   ]
  },
  {
   "cell_type": "code",
   "execution_count": null,
   "metadata": {},
   "outputs": [],
   "source": [
    "import numpy as np\n",
    "\n",
    "A = np.array([[1, 0], [0, 1]])\n",
    "B = np.array([[1, 3], [4, 2]])\n",
    "\n",
    "np.kron(A, B)"
   ]
  },
  {
   "cell_type": "code",
   "execution_count": null,
   "metadata": {},
   "outputs": [],
   "source": [
    "np.kron(B, A)"
   ]
  }
 ],
 "metadata": {
  "kernelspec": {
   "display_name": "Python 3 (ipykernel)",
   "language": "python",
   "name": "python3"
  },
  "language_info": {
   "codemirror_mode": {
    "name": "ipython",
    "version": 3
   },
   "file_extension": ".py",
   "mimetype": "text/x-python",
   "name": "python",
   "nbconvert_exporter": "python",
   "pygments_lexer": "ipython3",
   "version": "3.11.4"
  }
 },
 "nbformat": 4,
 "nbformat_minor": 4
}
