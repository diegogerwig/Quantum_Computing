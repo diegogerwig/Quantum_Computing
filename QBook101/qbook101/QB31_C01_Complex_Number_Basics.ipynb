{
 "cells": [
  {
   "cell_type": "markdown",
   "metadata": {},
   "source": [
    "<a href=\"https://qworld.net\" target=\"_blank\" align=\"left\"><img src=\"https://gitlab.com/qworld/qeducation/qbook101/raw/main/qworld/images/header.jpg\"  align=\"left\"></a>\n",
    "$ \\newcommand{\\bra}[1]{\\langle #1|} $\n",
    "$ \\newcommand{\\ket}[1]{|#1\\rangle} $\n",
    "$ \\newcommand{\\braket}[2]{\\langle #1|#2\\rangle} $\n",
    "$ \\newcommand{\\dot}[2]{ #1 \\cdot #2} $\n",
    "$ \\newcommand{\\biginner}[2]{\\left\\langle #1,#2\\right\\rangle} $\n",
    "$ \\newcommand{\\mymatrix}[2]{\\left( \\begin{array}{#1} #2\\end{array} \\right)} $\n",
    "$ \\newcommand{\\myvector}[1]{\\mymatrix{c}{#1}} $\n",
    "$ \\newcommand{\\myrvector}[1]{\\mymatrix{r}{#1}} $\n",
    "$ \\newcommand{\\mypar}[1]{\\left( #1 \\right)} $\n",
    "$ \\newcommand{\\mybigpar}[1]{ \\Big( #1 \\Big)} $\n",
    "$ \\newcommand{\\sqrttwo}{\\frac{1}{\\sqrt{2}}} $\n",
    "$ \\newcommand{\\dsqrttwo}{\\dfrac{1}{\\sqrt{2}}} $\n",
    "$ \\newcommand{\\onehalf}{\\frac{1}{2}} $\n",
    "$ \\newcommand{\\donehalf}{\\dfrac{1}{2}} $\n",
    "$ \\newcommand{\\hadamard}{ \\mymatrix{rr}{ \\sqrttwo & \\sqrttwo \\\\ \\sqrttwo & -\\sqrttwo }} $\n",
    "$ \\newcommand{\\vzero}{\\myvector{1\\\\0}} $\n",
    "$ \\newcommand{\\vone}{\\myvector{0\\\\1}} $\n",
    "$ \\newcommand{\\stateplus}{\\myvector{ \\sqrttwo \\\\  \\sqrttwo } } $\n",
    "$ \\newcommand{\\stateminus}{ \\myrvector{ \\sqrttwo \\\\ -\\sqrttwo } } $\n",
    "$ \\newcommand{\\myarray}[2]{ \\begin{array}{#1}#2\\end{array}} $\n",
    "$ \\newcommand{\\X}{ \\mymatrix{cc}{0 & 1 \\\\ 1 & 0}  } $\n",
    "$ \\newcommand{\\Z}{ \\mymatrix{rr}{1 & 0 \\\\ 0 & -1}  } $\n",
    "$ \\newcommand{\\Htwo}{ \\mymatrix{rrrr}{ \\frac{1}{2} & \\frac{1}{2} & \\frac{1}{2} & \\frac{1}{2} \\\\ \\frac{1}{2} & -\\frac{1}{2} & \\frac{1}{2} & -\\frac{1}{2} \\\\ \\frac{1}{2} & \\frac{1}{2} & -\\frac{1}{2} & -\\frac{1}{2} \\\\ \\frac{1}{2} & -\\frac{1}{2} & -\\frac{1}{2} & \\frac{1}{2} } } $\n",
    "$ \\newcommand{\\CNOT}{ \\mymatrix{cccc}{1 & 0 & 0 & 0 \\\\ 0 & 1 & 0 & 0 \\\\ 0 & 0 & 0 & 1 \\\\ 0 & 0 & 1 & 0} } $\n",
    "$ \\newcommand{\\norm}[1]{ \\left\\lVert #1 \\right\\rVert } $\n",
    "$ \\newcommand{\\pstate}[1]{ \\lceil \\mspace{-1mu} #1 \\mspace{-1.5mu} \\rfloor } $"
   ]
  },
  {
   "cell_type": "markdown",
   "metadata": {},
   "source": [
    "_prepared by Maksim Dimitrijev_"
   ]
  },
  {
   "cell_type": "markdown",
   "metadata": {},
   "source": [
    "<font size=\"28px\" style=\"font-size:28px;\" align=\"left\"><b>Basics of complex numbers</b></font>\n",
    "<br><br>"
   ]
  },
  {
   "cell_type": "markdown",
   "metadata": {
    "jp-MarkdownHeadingCollapsed": true
   },
   "source": [
    "##### <font color=\"#08b806\">Please execute the following cell, it is necessary to distinguish between your local environment and Google Colab's"
   ]
  },
  {
   "cell_type": "code",
   "execution_count": null,
   "metadata": {},
   "outputs": [],
   "source": [
    "import IPython\n",
    "\n",
    "def in_colab():\n",
    "    try:\n",
    "        import google.colab\n",
    "        return True\n",
    "    except:\n",
    "        return False\n",
    "\n",
    "SolutionToTask1 = lambda: IPython.display.display(IPython.display.Javascript('window.open(\"{url}\");'.format(url='https://colab.research.google.com/drive/1hpb48FDW2omO4Vg9m67wEy3TU4L4vLwX?usp=sharing#scrollTo=KqOaEAc678VQ' if in_colab() else 'QB31_C01_Complex_Number_Basics_Solutions.ipynb#task1')))\n",
    "SolutionToTask2 = lambda: IPython.display.display(IPython.display.Javascript('window.open(\"{url}\");'.format(url='https://colab.research.google.com/drive/1hpb48FDW2omO4Vg9m67wEy3TU4L4vLwX?usp=sharing#scrollTo=WXz7ifXX78VR' if in_colab() else 'QB31_C01_Complex_Number_Basics_Solutions.ipynb#task2')))\n",
    "SolutionToTask3 = lambda: IPython.display.display(IPython.display.Javascript('window.open(\"{url}\");'.format(url='https://colab.research.google.com/drive/1hpb48FDW2omO4Vg9m67wEy3TU4L4vLwX?usp=sharing#scrollTo=i2btXkOe78VR' if in_colab() else 'QB31_C01_Complex_Number_Basics_Solutions.ipynb#task3')))\n",
    "SolutionToTask4 = lambda: IPython.display.display(IPython.display.Javascript('window.open(\"{url}\");'.format(url='https://colab.research.google.com/drive/1hpb48FDW2omO4Vg9m67wEy3TU4L4vLwX?usp=sharing#scrollTo=5b1H199m78VS' if in_colab() else 'QB31_C01_Complex_Number_Basics_Solutions.ipynb#task4')))\n",
    "SolutionToTask5 = lambda: IPython.display.display(IPython.display.Javascript('window.open(\"{url}\");'.format(url='https://colab.research.google.com/drive/1hpb48FDW2omO4Vg9m67wEy3TU4L4vLwX?usp=sharing#scrollTo=QLVQvdCT78VS' if in_colab() else 'QB31_C01_Complex_Number_Basics_Solutions.ipynb#task5')))"
   ]
  },
  {
   "cell_type": "markdown",
   "metadata": {},
   "source": [
    "##### &nbsp;\n",
    "\n",
    "Complex numbers are used in mathematics and physics (including electrical engineering and quantum mechanics). In fact, in the mathematical sciences complex numbers are just as \"real\" as the real numbers, and are fundamental in many aspects of the scientific description of the natural world. When we describe a quantum system, each quantum state has an amplitude (the amplitude is equal to zero if the state is not observed). Amplitudes of quantum states can be complex values, therefore, we need to understand the basics of complex numbers to see how complex amplitudes affect quantum computation. Some people state that in quantum mechanics, complex numbers are unavoidable and carry the entire essence of physics."
   ]
  },
  {
   "cell_type": "markdown",
   "metadata": {},
   "source": [
    "<h2>The structure of complex numbers</h2>\n",
    "\n",
    "Complex numbers are the generalization of real numbers. Real numbers are one dimensional (on a line), and any real number has one component. But, complex numbers are two dimensional (in a plane), and any complex number has two components.\n",
    "\n",
    "A complex number can be expressed in the form $a + bi$, where $a$ and $b$ are real numbers. The number $i$ is a solution to the equation $x^2+1=0$, and is called an imaginary unit. From this fact we can conclude that $i^2 = -1$, and it can also be assumed that $i = \\sqrt{-1}$.\n",
    "\n",
    "Suppose that we have a complex number $a + bi$. For this complex number, $a$ is called the real part, and $b$ is called the imaginary part. If $b=0$, then we have a real number $a$. If $a=0$, then we have a pure imaginary number $bi$. In the specific case when $a=b=0$, we have number zero. The set of complex numbers is denoted by $\\mathbb{C}$. Below you can check how real numbers correspond to complex numbers.\n",
    "\n",
    "<img src=\"https://gitlab.com/qworld/qeducation/qbook101/raw/main/qbook101/images/ch3/complex_numbers.png\" width=\"20%\">\n",
    "\n",
    "Here are few examples of complex numbers: $2+3i$, $5-2i$, $7i$. Note that $1i$ can be also written like $i$."
   ]
  },
  {
   "cell_type": "markdown",
   "metadata": {},
   "source": [
    "<h2>Basic operations</h2>\n",
    "\n",
    "Let's check how to do basic mathematical operations with complex numbers. Suppose that we have two complex numbers: $a+bi$, $c+di$. Note how we group the real and imaginary parts.\n",
    "\n",
    "<strong>Addition:</strong> $(a+bi) + (c+di) = (a+c) + (b+d)i$.\n",
    "\n",
    "<strong>Subtraction:</strong> $(a+bi) - (c+di) = (a-c) + (b-d)i$. Subtracting the number $(c+di)$ is the same as adding the number $-(c+di) = -c-di$.\n",
    "\n",
    "<strong>Multiplication:</strong> $(a+bi) \\cdot (c+di) = ac + adi + bci + bdi^2 = ac + adi + bci - bd = (ac-bd)+(ad+bc)i$.\n",
    "\n",
    "<strong>Absolute value:</strong> $\\mathopen|a+bi\\mathclose| = \\sqrt{a^2+b^2}$.\n",
    "\n",
    "<strong>Conjugate value:</strong> For a complex number $z = a+bi$, $\\overline{z} = \\overline{a+bi} = a-bi$ denotes its conjugate. Conjugate is also denoted by $z^*$\n",
    "\n",
    "<strong>Division:</strong> To divide $a+bi$ by $c+di$, we will use the conjugate values:\n",
    "\n",
    "$\\dfrac{a+bi}{c+di} = \\dfrac{(a+bi)\\overline{(c+di)}}{(c+di)\\overline{(c+di)}} = \\dfrac{(a+bi)(c-di)}{(c+di)(c-di)} = \\dfrac{(ac+bd) + (bc-ad)i}{c^2+d^2}$."
   ]
  },
  {
   "cell_type": "markdown",
   "metadata": {},
   "source": [
    "<h3>Examples</h3>\n",
    "\n",
    "$(1+2i) + (3+4i) = (1+3) + (2+4)i = 4+6i$.\n",
    "\n",
    "$(1+2i) - (3+4i) = (1-3) + (2-4)i = -2-2i$.\n",
    "\n",
    "$(1+2i) \\cdot (3+4i) = 1 \\cdot 3 + 1 \\cdot 4i + 2 \\cdot 3i + 2 \\cdot 4i^2 = 3 + 4i + 6i - 8 = (3-8)+(4+6)i = -5 + 10i$.\n",
    "\n",
    "$\\mathopen|1+2i\\mathclose| = \\sqrt{1^2+2^2} = \\sqrt{5}$.\n",
    "\n",
    "$z = 1+2i$ => $\\overline{z} = 1-2i$.\n",
    "\n",
    "$\\dfrac{1+2i}{3+4i} = \\dfrac{(1 \\cdot 3 + 2 \\cdot 4) + (2 \\cdot 3 - 1 \\cdot 4)i}{3^2+4^2} = \\dfrac{11+2i}{25} = 0.44 + 0.08i$."
   ]
  },
  {
   "cell_type": "markdown",
   "metadata": {},
   "source": [
    "<h3> Task 1 </h3>\n",
    "\n",
    "Calculate the following values on the paper.\n",
    "\n",
    "$(3-2i) + (7+i)$;\n",
    "\n",
    "$(4+5i) - (2+2i)$;\n",
    "\n",
    "$(2+i) \\cdot (8-4i)$;\n",
    "\n",
    "$\\mathopen|4+3i\\mathclose|$;\n",
    "\n",
    "$\\overline{5-6i}$."
   ]
  },
  {
   "cell_type": "markdown",
   "metadata": {},
   "source": [
    "To check out our solution, run the next cell:"
   ]
  },
  {
   "cell_type": "code",
   "execution_count": null,
   "metadata": {},
   "outputs": [],
   "source": [
    "SolutionToTask1()  # show solution for task 1"
   ]
  },
  {
   "cell_type": "markdown",
   "metadata": {},
   "source": [
    "<h2>Geometric representation</h2>\n",
    "\n",
    "Since a complex number is representable by two real numbers, it is possible to represent any complex number in two-dimensional plane. There also exists other notation of complex numbers: $a+bi = (a,b)$. \n",
    "\n",
    "Let's check how it looks like on two-dimensional plane. Horizontal axis is used to represent the real part of a complex number, while vertical axis is used to represent the imaginary part of a complex number. Therefore, the number $(a,b)$ can be represented by a vector on a complex plane pointing at $a$ coordinate on x-axis and at $b$ coordinate on y-axis. On the image below you can see a representation of the number $1+2i$ and its conjugate $1-2i$.\n",
    "\n",
    "<img src=\"https://gitlab.com/qworld/qeducation/qbook101/raw/main/qbook101/images/ch3/2d_complex_number.png\" width=\"40%\">\n",
    "\n",
    "The absolute value of a complex number is equal to the length of the vector representing it. If we have a real number, then its representing vector will be on x-axis, while pure imaginary number will be represented by a vector on y-axis. the conjugate of a number is its reflection over x-axis."
   ]
  },
  {
   "cell_type": "markdown",
   "metadata": {},
   "source": [
    "<h2>Polar form</h2>\n",
    "\n",
    "The ordinary form $a+bi$ for a complex number is also called the rectangular form. Now we will check another widely used representation of a complex number, inspired by geometrical representation. This form reminds the reasoning behind the representation of the real-value qubit on two dimensions. Our complex number can be defined by the length of its vector representation and the angle between the vector and x-axis counterclockwise. Let's check how it looks like. On the image below you can see the complex number $3+3i$.\n",
    "\n",
    "<img src=\"https://gitlab.com/qworld/qeducation/qbook101/raw/main/qbook101/images/ch3/complex_polar_form.png\" width=\"20%\">"
   ]
  },
  {
   "cell_type": "markdown",
   "metadata": {},
   "source": [
    "In case of this complex number, its angle - which is also called phase or argument - is $\\alpha = \\frac{\\pi}{4}$, and length is $\\sqrt{3^2+3^2} = 3\\sqrt{2}$. As you can see, the coordinates of this number are related to its length and angle, and so it can be written as $(r \\cdot \\cos{\\alpha}) + (r \\cdot \\sin{\\alpha})i = r(\\cos{\\alpha} + \\sin{\\alpha} \\cdot i)$. And now very interesting and important alternative form:\n",
    "\n",
    "$$\\cos{\\alpha} + \\sin{\\alpha} \\cdot i = e^{i\\alpha}$$.\n",
    "\n",
    "Therefore, any complex number can also be represented in the following form: $r \\cdot e^{i\\alpha}$. This is also called Euler form of a complex number.\n",
    "\n",
    "Let's check when this representation makes life much easier. Here we will check the multiplication of two complex numbers.\n",
    "\n",
    "\\begin{align*}\n",
    "r(\\cos{\\alpha} + \\sin{\\alpha} \\cdot i) \\cdot s(\\cos{\\beta} + \\sin{\\beta} \\cdot i) &= r \\cdot s (\\cos{\\alpha} + \\sin{\\alpha} \\cdot i)(\\cos{\\beta} + \\sin{\\beta} \\cdot i) \\\\\n",
    "&= r \\cdot s ((\\cos{\\alpha} \\cos{\\beta} - \\sin{\\alpha} \\sin{\\beta}) +(\\cos{\\alpha} \\sin{\\beta} + \\sin{\\alpha} \\cos{\\beta})i)\\\\\n",
    "&= r \\cdot s (\\cos{(\\alpha + \\beta)} + \\sin{(\\alpha + \\beta)}i).\n",
    "\\end{align*}\n",
    "\n",
    "\n",
    "In Euler form: $r \\cdot e^{i\\alpha} \\cdot s \\cdot e^{i\\beta} = r \\cdot s \\cdot e^{i(\\alpha + \\beta)}$.\n",
    "\n",
    "By reasoning in a similar way, we can check another useful example:\n",
    "\n",
    "$(r \\cdot e^{i\\alpha})^k = r^k \\cdot e^{i(k\\alpha)}$.\n",
    "\n",
    "Now you will not feel confused when seeing the matrices like this one:\n",
    "\n",
    "$ \\mymatrix{cc}{ 1 & 0 \\\\ 0 & e^{i \\frac{\\pi}{4}} } $."
   ]
  },
  {
   "cell_type": "markdown",
   "metadata": {},
   "source": [
    "<h3> Task 2 </h3>\n",
    "\n",
    "Convert $4-4i$ to polar form.\n",
    "\n",
    "Convert $2 \\cdot e^{i \\pi}$ from polar form to the rectangular form."
   ]
  },
  {
   "cell_type": "markdown",
   "metadata": {},
   "source": [
    "To check out our solution, run the next cell:"
   ]
  },
  {
   "cell_type": "code",
   "execution_count": null,
   "metadata": {},
   "outputs": [],
   "source": [
    "SolutionToTask2()  # show solution for task 2"
   ]
  },
  {
   "cell_type": "markdown",
   "metadata": {},
   "source": [
    "<h3> Task 3 </h3>\n",
    "\n",
    "Recreate famous Euler formula. Please use:\n",
    "\n",
    "- =, + or -;</li>\n",
    "- one instance of each of the following constants: 0, 1, $i$, $\\pi$, $e$."
   ]
  },
  {
   "cell_type": "markdown",
   "metadata": {},
   "source": [
    "To check out our solution, run the next cell:"
   ]
  },
  {
   "cell_type": "code",
   "execution_count": null,
   "metadata": {},
   "outputs": [],
   "source": [
    "SolutionToTask3()  # show solution for task 3"
   ]
  },
  {
   "cell_type": "markdown",
   "metadata": {},
   "source": [
    "<h2>Complex numbers in Python</h2>\n",
    "\n",
    "There are two basic ways how to initialize a complex number in Python. First way - to explicitly create an imaginary number. For imaginary number $bi$ (where $b$ is real number), you need to write in Python <italic>$bj$</italic>. Therefore, in Python $j$ represents the imaginary unit $i$. The reason for this is that Python follows the electrical engineering convention, where $i$ is regularly used to represent a current. Just keep in mind that from now on we will use and see $j$ in our code and program outputs to represent the imaginary unit.\n",
    "\n",
    "Another way to initialize a complex number is to define it with the function _complex_: the number $a+bi$ is initialized by `complex(a,b)`.\n",
    "\n",
    "Let's check few examples."
   ]
  },
  {
   "cell_type": "code",
   "execution_count": null,
   "metadata": {},
   "outputs": [],
   "source": [
    "z1 = 3+2j\n",
    "print(z1)\n",
    "z2 = complex(3,2)\n",
    "print(z2)\n",
    "z3 = 5j\n",
    "print(z3)\n",
    "z4 = complex(0,5)\n",
    "print(z4)"
   ]
  },
  {
   "cell_type": "markdown",
   "metadata": {},
   "source": [
    "We can use basic mathematical operations in our code."
   ]
  },
  {
   "cell_type": "code",
   "execution_count": null,
   "metadata": {},
   "outputs": [],
   "source": [
    "z1 = 3+2j\n",
    "z2 = 4+5j\n",
    "print('z1=',z1,'z2=',z2)\n",
    "print('z1+z2=',z1+z2)\n",
    "print('z1-z2=',z1-z2)\n",
    "print('z1*z2=',z1*z2)\n",
    "print('z1/z2=',z1/z2)"
   ]
  },
  {
   "cell_type": "markdown",
   "metadata": {},
   "source": [
    "Python has also many useful methods to work with complex numbers. Some standard methods also support complex numbers."
   ]
  },
  {
   "cell_type": "code",
   "execution_count": null,
   "metadata": {},
   "outputs": [],
   "source": [
    "z = 3+2j\n",
    "print('real part of 3+2j:',z.real)\n",
    "print('imaginary part of 3+2j:',z.imag)\n",
    "print('conjugate of 3+2j:',z.conjugate())\n",
    "print('absolute value of 3+2j:',abs(z))\n",
    "print('(3+2j)^3:',pow(z,3))"
   ]
  },
  {
   "cell_type": "markdown",
   "metadata": {},
   "source": [
    "<h3> Task 4 </h3>\n",
    "\n",
    "Please calculate the following values in Python:\n",
    "\n",
    "- $\\dfrac{3+4i}{2-i} \\cdot (7+2i) + 3i$\n",
    "<br><br>\n",
    "- $(1-2i)^5$\n",
    "<br><br>\n",
    "- $\\dfrac{8-4i}{\\mathopen|4+3i\\mathclose|}$"
   ]
  },
  {
   "cell_type": "code",
   "execution_count": null,
   "metadata": {},
   "outputs": [],
   "source": [
    "#\n",
    "# your solution is here\n",
    "#\n"
   ]
  },
  {
   "cell_type": "markdown",
   "metadata": {},
   "source": [
    "To check out our solution, run the next cell:"
   ]
  },
  {
   "cell_type": "code",
   "execution_count": null,
   "metadata": {},
   "outputs": [],
   "source": [
    "SolutionToTask4()  # show solution for task 4"
   ]
  },
  {
   "cell_type": "markdown",
   "metadata": {},
   "source": [
    "<h3> Task 5 </h3>\n",
    "\n",
    "Use Python to convert\n",
    "\n",
    "- $3 - 3i$ to polar form and\n",
    "- $5 \\cdot e^{i \\cdot \\frac{pi}{3}}$ from polar form"
   ]
  },
  {
   "cell_type": "code",
   "execution_count": null,
   "metadata": {},
   "outputs": [],
   "source": [
    "#\n",
    "# your solution is here\n",
    "#\n"
   ]
  },
  {
   "cell_type": "markdown",
   "metadata": {},
   "source": [
    "To check out our solution, run the next cell:"
   ]
  },
  {
   "cell_type": "code",
   "execution_count": null,
   "metadata": {},
   "outputs": [],
   "source": [
    "SolutionToTask5()  # show solution for task 5"
   ]
  }
 ],
 "metadata": {
  "kernelspec": {
   "display_name": "Python 3 (ipykernel)",
   "language": "python",
   "name": "python3"
  },
  "language_info": {
   "codemirror_mode": {
    "name": "ipython",
    "version": 3
   },
   "file_extension": ".py",
   "mimetype": "text/x-python",
   "name": "python",
   "nbconvert_exporter": "python",
   "pygments_lexer": "ipython3",
   "version": "3.11.4"
  }
 },
 "nbformat": 4,
 "nbformat_minor": 4
}
