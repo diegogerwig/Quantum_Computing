{
 "cells": [
  {
   "cell_type": "markdown",
   "metadata": {},
   "source": [
    "<a href=\"https://qworld.net\" target=\"_blank\" align=\"left\"><img src=\"https://gitlab.com/qworld/qeducation/qbook101/raw/main/qworld/images/header.jpg\" align=\"left\"></a>\n",
    "$ \\newcommand{\\bra}[1]{\\langle #1|} $\n",
    "$ \\newcommand{\\ket}[1]{|#1\\rangle} $\n",
    "$ \\newcommand{\\braket}[2]{\\langle #1|#2\\rangle} $\n",
    "$ \\newcommand{\\dot}[2]{ #1 \\cdot #2} $\n",
    "$ \\newcommand{\\biginner}[2]{\\left\\langle #1,#2\\right\\rangle} $\n",
    "$ \\newcommand{\\mymatrix}[2]{\\left( \\begin{array}{#1} #2\\end{array} \\right)} $\n",
    "$ \\newcommand{\\myvector}[1]{\\mymatrix{c}{#1}} $\n",
    "$ \\newcommand{\\myrvector}[1]{\\mymatrix{r}{#1}} $\n",
    "$ \\newcommand{\\mypar}[1]{\\left( #1 \\right)} $\n",
    "$ \\newcommand{\\mybigpar}[1]{ \\Big( #1 \\Big)} $\n",
    "$ \\newcommand{\\sqrttwo}{\\frac{1}{\\sqrt{2}}} $\n",
    "$ \\newcommand{\\dsqrttwo}{\\dfrac{1}{\\sqrt{2}}} $\n",
    "$ \\newcommand{\\onehalf}{\\frac{1}{2}} $\n",
    "$ \\newcommand{\\donehalf}{\\dfrac{1}{2}} $\n",
    "$ \\newcommand{\\hadamard}{ \\mymatrix{rr}{ \\sqrttwo & \\sqrttwo \\\\ \\sqrttwo & -\\sqrttwo }} $\n",
    "$ \\newcommand{\\vzero}{\\myvector{1\\\\0}} $\n",
    "$ \\newcommand{\\vone}{\\myvector{0\\\\1}} $\n",
    "$ \\newcommand{\\stateplus}{\\myvector{ \\sqrttwo \\\\  \\sqrttwo } } $\n",
    "$ \\newcommand{\\stateminus}{ \\myrvector{ \\sqrttwo \\\\ -\\sqrttwo } } $\n",
    "$ \\newcommand{\\myarray}[2]{ \\begin{array}{#1}#2\\end{array}} $\n",
    "$ \\newcommand{\\X}{ \\mymatrix{cc}{0 & 1 \\\\ 1 & 0}  } $\n",
    "$ \\newcommand{\\Z}{ \\mymatrix{rr}{1 & 0 \\\\ 0 & -1}  } $\n",
    "$ \\newcommand{\\Htwo}{ \\mymatrix{rrrr}{ \\frac{1}{2} & \\frac{1}{2} & \\frac{1}{2} & \\frac{1}{2} \\\\ \\frac{1}{2} & -\\frac{1}{2} & \\frac{1}{2} & -\\frac{1}{2} \\\\ \\frac{1}{2} & \\frac{1}{2} & -\\frac{1}{2} & -\\frac{1}{2} \\\\ \\frac{1}{2} & -\\frac{1}{2} & -\\frac{1}{2} & \\frac{1}{2} } } $\n",
    "$ \\newcommand{\\CNOT}{ \\mymatrix{cccc}{1 & 0 & 0 & 0 \\\\ 0 & 1 & 0 & 0 \\\\ 0 & 0 & 0 & 1 \\\\ 0 & 0 & 1 & 0} } $\n",
    "$ \\newcommand{\\norm}[1]{ \\left\\lVert #1 \\right\\rVert } $\n",
    "$ \\newcommand{\\pstate}[1]{ \\lceil \\mspace{-1mu} #1 \\mspace{-1.5mu} \\rfloor } $\n",
    "$ \\newcommand{\\Y}{ \\mymatrix{rr}{0 & -i \\\\ i & 0} } $\n",
    "$ \\newcommand{\\S}{ \\mymatrix{rr}{1 & 0 \\\\ 0 & i} } $\n",
    "$ \\newcommand{\\T}{ \\mymatrix{rr}{1 & 0 \\\\ 0 & e^{i \\frac{\\pi}{4}}} } $\n",
    "$ \\newcommand{\\Sdg}{ \\mymatrix{rr}{1 & 0 \\\\ 0 & -i} } $ \n",
    "$ \\newcommand{\\Tdg}{ \\mymatrix{rr}{1 & 0 \\\\ 0 & e^{-i \\frac{\\pi}{4}}} } $\n",
    "$ \\newcommand{\\qgate}[1]{ \\mathop{\\\\textit{#1} } }$"
   ]
  },
  {
   "cell_type": "markdown",
   "metadata": {},
   "source": [
    "_prepared by Özlem Salehi and Abuzer Yakaryilmaz_\n",
    "<br><br>\n",
    "_Cirq adaptation by Claudia Zendejas-Morales_"
   ]
  },
  {
   "cell_type": "markdown",
   "metadata": {},
   "source": [
    "<font size=\"28px\" style=\"font-size:28px;\" align=\"left\"><b> Quantum Fourier Transform </b></font>\n",
    "<br>\n",
    "<br><br>"
   ]
  },
  {
   "cell_type": "markdown",
   "metadata": {
    "jp-MarkdownHeadingCollapsed": true
   },
   "source": [
    "##### <font color=\"#08b806\">Please execute the following cell, it is necessary to distinguish between your local environment and Google Colab's"
   ]
  },
  {
   "cell_type": "code",
   "execution_count": null,
   "metadata": {},
   "outputs": [],
   "source": [
    "import IPython\n",
    "\n",
    "def in_colab():\n",
    "    try:\n",
    "        import google.colab\n",
    "        return True\n",
    "    except:\n",
    "        return False\n",
    "\n",
    "path_files = \"./\" if in_colab() else \"../qworld/include/\"\n",
    "\n",
    "SolutionToTask1 = lambda: IPython.display.display(IPython.display.Javascript('window.open(\"{url}\");'.format(url='https://colab.research.google.com/drive/1C0_tK9KD7iHrsmwqdsHtG6i_J0CYs85o?usp=sharing#scrollTo=_EP0yy5vA7mY' if in_colab() else 'QB51_D02_Quantum_Fourier_Transform_Solutions.ipynb#task1')))\n",
    "SolutionToTask2 = lambda: IPython.display.display(IPython.display.Javascript('window.open(\"{url}\");'.format(url='https://colab.research.google.com/drive/1C0_tK9KD7iHrsmwqdsHtG6i_J0CYs85o?usp=sharing#scrollTo=dbFt5U2RA7mZ' if in_colab() else 'QB51_D02_Quantum_Fourier_Transform_Solutions.ipynb#task2')))\n",
    "SolutionToTask3 = lambda: IPython.display.display(IPython.display.Javascript('window.open(\"{url}\");'.format(url='https://colab.research.google.com/drive/1C0_tK9KD7iHrsmwqdsHtG6i_J0CYs85o?usp=sharing#scrollTo=REQnur6WA7mZ' if in_colab() else 'QB51_D02_Quantum_Fourier_Transform_Solutions.ipynb#task3')))\n",
    "SolutionToTask4 = lambda: IPython.display.display(IPython.display.Javascript('window.open(\"{url}\");'.format(url='https://colab.research.google.com/drive/1C0_tK9KD7iHrsmwqdsHtG6i_J0CYs85o?usp=sharing#scrollTo=9c3dm32UA7mZ' if in_colab() else 'QB51_D02_Quantum_Fourier_Transform_Solutions.ipynb#task4')))\n",
    "SolutionToTask5 = lambda: IPython.display.display(IPython.display.Javascript('window.open(\"{url}\");'.format(url='https://colab.research.google.com/drive/1C0_tK9KD7iHrsmwqdsHtG6i_J0CYs85o?usp=sharing#scrollTo=WvGsyKzpA7ma' if in_colab() else 'QB51_D02_Quantum_Fourier_Transform_Solutions.ipynb#task5')))\n",
    "SolutionToTask6 = lambda: IPython.display.display(IPython.display.Javascript('window.open(\"{url}\");'.format(url='https://colab.research.google.com/drive/1C0_tK9KD7iHrsmwqdsHtG6i_J0CYs85o?usp=sharing#scrollTo=YUgR-6JFA7ma' if in_colab() else 'QB51_D02_Quantum_Fourier_Transform_Solutions.ipynb#task6')))\n",
    "SolutionToTask7 = lambda: IPython.display.display(IPython.display.Javascript('window.open(\"{url}\");'.format(url='https://colab.research.google.com/drive/1C0_tK9KD7iHrsmwqdsHtG6i_J0CYs85o?usp=sharing#scrollTo=M6o51_q5A7ma' if in_colab() else 'QB51_D02_Quantum_Fourier_Transform_Solutions.ipynb#task7')))\n",
    "SolutionToTask8 = lambda: IPython.display.display(IPython.display.Javascript('window.open(\"{url}\");'.format(url='https://colab.research.google.com/drive/1C0_tK9KD7iHrsmwqdsHtG6i_J0CYs85o?usp=sharing#scrollTo=OlMzjNIPA7ma' if in_colab() else 'QB51_D02_Quantum_Fourier_Transform_Solutions.ipynb#task8')))\n",
    "SolutionToTask9 = lambda: IPython.display.display(IPython.display.Javascript('window.open(\"{url}\");'.format(url='https://colab.research.google.com/drive/1C0_tK9KD7iHrsmwqdsHtG6i_J0CYs85o?usp=sharing#scrollTo=leUvkPgoA7mb' if in_colab() else 'QB51_D02_Quantum_Fourier_Transform_Solutions.ipynb#task9')))\n",
    "\n",
    "if in_colab():\n",
    "    !pip install cirq"
   ]
  },
  {
   "cell_type": "markdown",
   "metadata": {},
   "source": [
    "##### What makes Fourier Transform special is that it can be computed faster on a quantum computer than on a classical computer. In this notebook, we will learn about the quantum analogue of Discrete Fourier Transform. "
   ]
  },
  {
   "cell_type": "markdown",
   "metadata": {},
   "source": [
    "Let's recall the definition for $DFT$. $DFT$ of the vector $x=\\myvector{x_0~x_1\\dots~x_{N-1}}^T$ is the complex vector $y=\\myvector{y_0~y_1\\dots y_{N-1}}^T$ where\n",
    "\n",
    "\n",
    "$$\n",
    "y_k=\\frac{1}{\\sqrt{N}} \\sum_{j=0}^{N-1}e^{\\frac{2\\pi i j k }{N}}x_j.\n",
    "$$"
   ]
  },
  {
   "cell_type": "markdown",
   "metadata": {},
   "source": [
    "Now suppose that we have an $N=2^n$-dimensional quantum state vector $x=\\myvector{x_0~x_1\\dots~x_{N-1}}^T$ representing the state\n",
    "$$\n",
    "\\ket{\\psi} = \\sum_{j=0}^{N-1} x_j \\ket{j}.\n",
    "$$"
   ]
  },
  {
   "cell_type": "markdown",
   "metadata": {},
   "source": [
    "Quantum Fourier Transform $QFT$ of state $\\ket{\\psi}$ is given by\n",
    "$$\n",
    "\\ket{\\phi}=\\sum_{k=0}^{N-1}y_k \\ket{k} = \\frac{1}{\\sqrt{N}} \\sum_{k=0}^{N-1} \\sum_{j=0}^{N-1}e^{\\frac{2\\pi i j k }{N}}x_j \\ket{k},\n",
    "$$\n",
    "where $y_k$ is defined as above for $k=0,\\dots,N-1$."
   ]
  },
  {
   "cell_type": "markdown",
   "metadata": {},
   "source": [
    "Hence for a basis state $\\ket{j}$ represented by the vector $\\myvector{x_0~x_1\\dots~x_{N-1}}^T$ where $x_j=1$ and the rest of the entries are 0, its $QFT$ is given by \n",
    "\n",
    "$$\n",
    " \\frac{1}{\\sqrt{N}} \\sum_{k=0}^{N-1}e^{\\frac{2\\pi i j k }{N}} \\ket{k} = \\frac{1}{\\sqrt{N}} \\sum_{k=0}^{N-1}{\\omega^{ j k} } \\ket{k},\n",
    "$$\n",
    "where $ \\omega = e^{\\frac{2\\pi i}{N}} $. Alternatively:\n",
    "$$ \\ket{j} =  \\myvector{0 \\\\ \\vdots \\\\ 0 \\\\ 1 \\\\ 0 \\\\ \\vdots \\\\ 0}  \\xrightarrow{QFT}\n",
    " \\frac{1}{\\sqrt{N}} \\mypar{ \n",
    "     \\omega^{0} \\ket{0} + \\omega^{j} \\ket{1} + \\omega^{2j}\\ket{2} + \\cdots + \\omega^{j(N-1)} \\ket{N-1}\n",
    "     } =\n",
    "      \\frac{1}{\\sqrt{N}}\n",
    "\\myvector{ 1 \\\\ \\omega^j \\\\ \\omega^{2j} \\\\ \\vdots \\\\ \\omega^{j(N-1)} }.\n",
    "$$"
   ]
  },
  {
   "cell_type": "markdown",
   "metadata": {},
   "source": [
    "## QFT matrix\n",
    "\n",
    "QFT is a linear transformation and represented by $ N \\times N $ dimensional matrix.\n",
    "\n",
    "Observe that $ QFT \\ket{j} $ gives the $ (j+1) $-th column of $ QFT $, where $ j \\in \\{0,\\ldots, N-1 \\} $.\n",
    "\n",
    "Then, the matrix form of QFT is given by\n",
    "\n",
    "$$QFT =  \\frac{1}{\\sqrt{N}} \\mymatrix{rrrrrr}{1 & 1 & 1 &1  & \\cdots & 1 \\\\ 1 & \\omega & \\omega^2 & \\omega^3 & \\cdots& \\omega^{N-1} \\\\ 1 & \\omega^2 &\\omega^4 & \\omega^6  & \\cdots& \\omega^{2N-2} \\\\ 1 & \\omega^3 & \\omega^6 & \\omega^9 & \\cdots& \\omega^{3N-3} \\\\ \\vdots &  \\vdots &  \\vdots &  \\vdots &  \\ddots &  \\vdots \\\\ 1 & \\omega^{N-1} & \\omega^{2N-2} & \\omega^{3N-3} & \\cdots& \\omega^{(N-1)(N-1)}}$$ \n",
    "\n",
    "\n",
    "Observe that the $(j+1)$-th row and the $(j+1)$-th columns are identical."
   ]
  },
  {
   "cell_type": "markdown",
   "metadata": {},
   "source": [
    "<h3>Task 1 (on paper)</h3>\n",
    "\n",
    "Apply $QFT$ to the basis state $\\ket{10}$ and find the new quantum state."
   ]
  },
  {
   "cell_type": "markdown",
   "metadata": {},
   "source": [
    "To check out our solution, run the next cell:"
   ]
  },
  {
   "cell_type": "code",
   "execution_count": null,
   "metadata": {},
   "outputs": [],
   "source": [
    "SolutionToTask1()  # show solution for task 1"
   ]
  },
  {
   "cell_type": "markdown",
   "metadata": {},
   "source": [
    "<h3>Task 2 (on paper)</h3>\n",
    "\n",
    "Apply $QFT$ to the state $ \\ket \\psi=\\frac{1}{\\sqrt{2}} \\ket {01}+\\frac{1}{\\sqrt{2}} \\ket {10} $. "
   ]
  },
  {
   "cell_type": "markdown",
   "metadata": {},
   "source": [
    "To check out our solution, run the next cell:"
   ]
  },
  {
   "cell_type": "code",
   "execution_count": null,
   "metadata": {},
   "outputs": [],
   "source": [
    "SolutionToTask2()  # show solution for task 2"
   ]
  },
  {
   "cell_type": "markdown",
   "metadata": {},
   "source": [
    "<h3>Task 3 (on paper)</h3>\n",
    "\n",
    "Apply $QFT$ to the quantum state $\\ket{\\psi}=\\alpha \\ket{0} + \\beta \\ket{1}$ and find the new quantum state.\n",
    "\n",
    "Conclude that applying 1 qubit $QFT$ is equivalent to applying Hadamard gate."
   ]
  },
  {
   "cell_type": "markdown",
   "metadata": {},
   "source": [
    "To check out our solution, run the next cell:"
   ]
  },
  {
   "cell_type": "code",
   "execution_count": null,
   "metadata": {},
   "outputs": [],
   "source": [
    "SolutionToTask3()  # show solution for task 3"
   ]
  },
  {
   "cell_type": "markdown",
   "metadata": {},
   "source": [
    "<h3>Task 4 (on paper)</h3>\n",
    "\n",
    "Apply $QFT$ to the basis state $\\ket{10}$ using the matrix representation and find the new quantum state."
   ]
  },
  {
   "cell_type": "markdown",
   "metadata": {},
   "source": [
    "To check out our solution, run the next cell:"
   ]
  },
  {
   "cell_type": "code",
   "execution_count": null,
   "metadata": {},
   "outputs": [],
   "source": [
    "SolutionToTask4()  # show solution for task 4"
   ]
  },
  {
   "cell_type": "markdown",
   "metadata": {},
   "source": [
    "<h2>QFT Operator</h2>"
   ]
  },
  {
   "cell_type": "markdown",
   "metadata": {},
   "source": [
    "QFT is a unitary operator. \n",
    "\n",
    "Its $ (j+1) $-th row is $ \\frac{1}{\\sqrt{N}} \\myvector{ 1 ~~ \\omega^{j} ~~ \\omega^{2j}~~~ \\cdots ~~~ \\omega^{jN-j} } $. \n",
    "The magnitude of each entry is 1, and so, the length is 1 $(= \\frac{ \\overbrace{1+\\cdots+1}^{N~~terms} }{N})$. \n",
    "\n",
    "The summation of terms of the 1st row is $ \\dfrac{1}{\\sqrt{N}}\\overbrace{1+\\cdots+1}^{N~~terms} = \\sqrt{N} $.\n",
    "\n",
    "The summation of terms of any other row is \n",
    "\n",
    "$ \\dfrac{1}{\\sqrt{N}} \\mypar{ 1 + \\omega^j + \\mypar{\\omega^{j}}^2 + \\cdots + \\mypar{\\omega^{j}}^{(N-1)} }\n",
    "= \\dfrac{1}{\\sqrt{N}} \\dfrac{1- \\mypar{ \\omega^{j} }^N }{1-\\omega^{j}} = \\dfrac{1}{\\sqrt{N}} \\dfrac{ 1 - e^{\\frac{2 \\pi i j N}{N}} }{1-\\omega^{j}} = \\dfrac{1}{\\sqrt{N}} \\dfrac{1-1}{1-\\omega^{j}} = 0  $.\n",
    "\n",
    "Observe that:\n",
    "- the conjugate of $ \\omega^{jk} $, denoted $ \\overline{\\omega^{jk}} $, is equal to $ \\omega^{-jk} $.\n",
    "- $  \\omega^{j_1k}  \\cdot \\omega^{j_2k} = \\omega^{(j_1+j_2)k} $\n",
    "- $ \\overline{ \\omega^{j_1k} } \\cdot \\omega^{j_2k} = \\omega^{(j_2-j_1)k} $\n",
    "\n",
    "The inner product of the $(j_1+1)$-th row and $(j_2+1)$-th row ($ j_1 < j_2 $) is the summation of the entries of  $ (j+1) $-th row:\n",
    "\n",
    "$ 1 + \\omega^j + \\omega^{2j}+\\cdots+\\omega^{(N-1)j} = 0 $, where $ j = j_2 - j_1 $.\n",
    "\n",
    "Thus, the rows (columns) of the QFT matrix form an orthonormal set."
   ]
  },
  {
   "cell_type": "markdown",
   "metadata": {},
   "source": [
    "## Inverse QFT\n",
    "\n",
    "Inverse QFT is also a unitary operator and equal to $ QFT^{\\dagger} $. As $ \\overline{\\omega} = \\omega^{-1} $, its matrix form is\n",
    "\n",
    "$$QFT^{-1} = QFT^\\dagger =  \\frac{1}{\\sqrt{N}} \\mymatrix{rrrrrr}{1 & 1 & 1 &1  & \\cdots & 1\\\\ 1 & \\omega^{-1} & \\omega^{-2} & \\omega^{-3} & \\cdots& \\omega^{-(N-1)} \\\\ 1 & \\omega^{-2} &\\omega^{-4} & \\omega^{-6}  & \\cdots& \\omega^{-(2N-2)} \\\\ 1 & \\omega^{-3} & \\omega^{-6} & \\omega^{-9} & \\cdots& \\omega^{-(3N-3)} \\\\ \\vdots &  \\vdots &  \\vdots &  \\vdots &  \\ddots &  \\vdots \\\\ 1 & \\omega^{-(N-1)} & \\omega^{-(2N-2)} & \\omega^{-(3N-3)} & \\cdots& \\omega^{-(N-1)(N-1)}}$$ \n",
    "\n",
    "\n",
    "Observe that $ \\overline{\\omega^j} = \\omega^{-j} = \\dfrac{1}{\\omega^j} = \\dfrac{\\omega^N}{\\omega^j} = \\omega^{N-j} $. Thus, we may also replace each entry of $QFT^{-1}$ with non-negative exponents."
   ]
  },
  {
   "cell_type": "markdown",
   "metadata": {},
   "source": [
    "<h2> Linear shift </h2> \n",
    "\n",
    "Linear shift of a state vector causes relative phase shift of its $QFT$. The converse is also true."
   ]
  },
  {
   "cell_type": "markdown",
   "metadata": {},
   "source": [
    "If  $QFT$ $\\myvector{\\alpha_0 \\\\ \\alpha_1 \\\\ \\vdots \\\\ \\alpha_{N-1} } = \\myvector{\\beta_0 \\\\ \\beta_1 \\\\ \\vdots \\\\ \\beta_{N-1}}$, then $QFT$ $\\myvector{\\alpha_{N-1} \\\\ \\alpha_0 \\\\ \\vdots \\\\ \\alpha_{N-2} } = \\myvector{\\beta_0 \\\\ \\omega \\beta_1 \\\\ \\vdots \\\\ \\omega^{N-1}\\beta_{N-1}}$ and $QFT$  $\\myvector{\\alpha_0 \\\\ \\omega  \\alpha_1 \\\\ \\vdots \\\\ \\omega^{N-1}\\alpha_{N-1} } = \\myvector{\\beta_1 \\\\ \\beta_2 \\\\ \\vdots \\\\ \\beta_{0}}$."
   ]
  },
  {
   "cell_type": "markdown",
   "metadata": {},
   "source": [
    "<h3>Task 5 (on paper)</h3>\n",
    "\n",
    "What is the quantum state obtained after applying $QFT$ to the state $\\ket{11}$? Find using Task 4 and the linear shift property. "
   ]
  },
  {
   "cell_type": "markdown",
   "metadata": {},
   "source": [
    "To check out our solution, run the next cell:"
   ]
  },
  {
   "cell_type": "code",
   "execution_count": null,
   "metadata": {},
   "outputs": [],
   "source": [
    "SolutionToTask5()  # show solution for task 5"
   ]
  },
  {
   "cell_type": "markdown",
   "metadata": {},
   "source": [
    "<h2> Circuit implementation of $QFT$ </h2>"
   ]
  },
  {
   "cell_type": "markdown",
   "metadata": {},
   "source": [
    "Recall that after applying $QFT$ to the state $\\ket{\\psi}=\\alpha\\ket{0} + \\beta \\ket{1}$, we get  $\\frac{\\alpha+\\beta}{\\sqrt{2}} \\ket{0} + \\frac{\\alpha-\\beta}{\\sqrt{2}} \\ket{1}$, which is the state obtained after applying Hadamard to the state $\\ket{\\psi}$. Hence, the effect of applying $QFT$ to a single qubit is equivalent to applying Hadamard."
   ]
  },
  {
   "cell_type": "markdown",
   "metadata": {},
   "source": [
    "Now let us look at the effect of applying $QFT$ to a $n$-qubit system. Let $N=2^n$."
   ]
  },
  {
   "cell_type": "markdown",
   "metadata": {},
   "source": [
    "Let $\\ket{j}$ be a basis state in $ \\{ \\ket{0},\\ldots,\\ket{N-1} \\} $. \n",
    "\n",
    "Note that $ \\ket{j} = \\ket{j_1 j_2 \\cdots j_n } = \\ket{j_1} \\otimes \\ket{j_2} \\otimes \\cdots \\otimes \\ket{j_n}$, where $ (j_1 j_2\\cdots j_n) $ is the $n$-digit binary representation of $ j $:\n",
    "\n",
    "$$ \\begin{array}{rcl} j & = &  j_1 2^{n-1} + j_2 2^{n-2} + \\cdots + j_n 2^0 \\\\ j & = & 2^n \\sum_{l=1}^n 2^{-l} j_l \\\\  j & = & 2^{n}(0.j_1 j_2 \\cdots j_n) \\\\ \\dfrac{j}{N} & = & 0.j_1 j_2 \\cdots j_n \\end{array}$$"
   ]
  },
  {
   "cell_type": "markdown",
   "metadata": {},
   "source": [
    "### Transformation of $ \\ket{j} $\n",
    "\n",
    "We know that $ QFT \\ket{j} $ gives its $ (j+1) $-th columns:\n",
    "$$ \\ket{j} =  \\myvector{0 \\\\ \\vdots \\\\ 0 \\\\ 1 \\\\ 0 \\\\ \\vdots \\\\ 0}  \\xrightarrow{QFT}\n",
    " \\frac{1}{\\sqrt{N}} \\mypar{ \n",
    "     \\omega^{0} \\ket{0} + \\omega^{j} \\ket{1} + \\omega^{2j}\\ket{2} + \\cdots + \\omega^{j(N-1)} \\ket{N-1}\n",
    "     } =\n",
    "      \\frac{1}{\\sqrt{N}}\n",
    "\\myvector{ 1 \\\\ \\omega^j \\\\ \\omega^{2j} \\\\ \\vdots \\\\ \\omega^{j(N-1)} } = \\ket{u_j}.\n",
    "$$\n",
    "\n",
    "The $ (k+1) $-th term of this summation is $ \\omega^{j\\cdot k} \\ket{k} = \\omega^{j\\cdot k} \\ket{k_1k_2\\cdots k_n}. $"
   ]
  },
  {
   "cell_type": "markdown",
   "metadata": {},
   "source": [
    "### Concise representation for 5 qubits\n",
    "\n",
    "As an example, we pick $ n = 5 $, and so $ N=32 $.\n",
    "\n",
    "$ \\ket{j} \\xrightarrow{QFT} \\dfrac{1}{\\sqrt{32}} \\mypar{ \\omega^0 \\ket{0} + \\omega^j \\ket{1} + \\omega^{2j} \\ket{2} + \\cdots + \\omega^{31j} \\ket{ 31 } } . $\n",
    "\n",
    "Let $ k=13 $. Then, the 14th term of this summation is $ \\dfrac{\\omega^{j\\cdot 13}}{\\sqrt{32}} \\ket{01101} $, where $ 13 = 2^3 + 2^2+ 2^0 $.\n",
    "\n",
    "We decompose $ \\dfrac{\\omega^{j\\cdot 13}}{\\sqrt{32}} \\ket{01101} $ as $ \\dfrac{1}{\\sqrt{32}} \\mypar{ \\ket{0} \\otimes \\omega^{j2^3}\\ket{1} \\otimes \\omega^{j2^2} \\ket{1} \\otimes \\ket{0} \\otimes \\omega^{j2^0} \\ket{1} } $, where\n",
    "-  the amplitude of each $ \\ket{0} $ is 1, and, \n",
    "- $ \\omega^{j\\cdot 13} $ is distributed among states $ \\ket{1} $'s based on $ 13 = 2^3 + 2^2 + 2^0 $.\n",
    "\n",
    "As the binary representation is unique, our decomposition is also unique. \n",
    "\n",
    "For $ k= 23 = 2^4 + 2^2 + 2^1 + 2^ 0 $, the 24th term is $ \\dfrac{1}{\\sqrt{32}} \\mypar{ \\omega^{j2^4} \\ket{1} \\otimes \\ket{0} \\otimes \\omega^{j2^2} \\ket{1} \\otimes \\omega^{j2^1} \\ket{1} \\otimes \\omega^{j2^0} \\ket{1}} $."
   ]
  },
  {
   "cell_type": "markdown",
   "metadata": {},
   "source": [
    "In this way, we can decompose each term uniquely.\n",
    "- For the 1st digit, a term has either $ \\ket{0} $ or $ \\omega^{j2^4} \\ket{1} $.\n",
    "- For the 2nd digit, it has either $ \\ket{0} $ or $ \\omega^{j2^3} \\ket{1} $.\n",
    "- For the 3rd digit, it has either $ \\ket{0} $ or $ \\omega^{j2^2} \\ket{1} $.\n",
    "- For the 4th digit, it has either $ \\ket{0} $ or $ \\omega^{j2^1} \\ket{1} $.\n",
    "- For the 5th digit, it has either $ \\ket{0} $ or $ \\omega^{j2^0} \\ket{1} $.\n",
    "\n",
    "So, we can put the whole summation \n",
    "\n",
    "$ \\dfrac{1}{\\sqrt{32}} \\mypar{ \\omega^0 \\ket{0} + \\omega^j \\ket{1} + \\omega^{2j} \\ket{2} + \\cdots + \\omega^{31j} \\ket{ 31 } } $\n",
    "\n",
    "into this concise form\n",
    "\n",
    "$\\dfrac{1}{\\sqrt{32}} \\underbrace{ \\mypar{\\ket{0} + \\omega^{j2^4} \\ket{1}} }_{1st~digit} \\otimes \\underbrace{ \\mypar{\\ket{0} + \\omega^{j2^3} \\ket{1}} }_{2nd~digit} \\otimes \\underbrace{ \\mypar{\\ket{0} + \\omega^{j2^2} \\ket{1}} }_{3rd~digit} \\otimes \\underbrace{ \\mypar{\\ket{0} + \\omega^{j2^1} \\ket{1}} }_{4th~digit} \\otimes \\underbrace{ \\mypar{\\ket{0} + \\omega^{j2^0} \\ket{1}} }_{5th~digit}$.\n",
    "\n",
    "By taking one component from each parathesis, we obtain every term in the summation, i.e., there are five paratheses, and so, $ 2 \\cdot 2 \\cdot 2 \\cdot 2 \\cdot 2 = 2^5 = 32 $ different terms are obtained."
   ]
  },
  {
   "cell_type": "markdown",
   "metadata": {},
   "source": [
    "### Concise representation for $n$ qubits\n",
    "\n",
    "The concise representation presented for $ n=5 $ is valid for any positive integer $ n $.\n",
    "\n",
    "$QFT\\ket{j} = \\dfrac{1}{\\sqrt{N}} \\underbrace{ \\mypar{ \\ket{0}+\\omega^{j2^{n-1}} \\ket{1} } }_{1st~digit} \\otimes \\underbrace{ \\mypar{\\ket{0}+\\omega^{j2^{n-2}} \\ket{1} } }_{2nd~digit}  \\otimes \\cdots \\otimes \\underbrace{ \\mypar{\\ket{0}+\\omega^{j2^{0}} \\ket{1} } }_{nth~digit}$"
   ]
  },
  {
   "cell_type": "markdown",
   "metadata": {},
   "source": [
    "In this concise representation, we closely look at relative phases:\n",
    "$ \\{ \\omega^{j2^t} \\mid 0 \\leq t < n \\} $.\n",
    "\n",
    "We start with the first relative phase: \n",
    "$ \\omega^{j2^{n-1}} = \n",
    "e^{\\mypar{ \\frac{2\\pi i}{N}\\cdot j \\cdot 2^{n-1} }}\n",
    "=  e^{\\mypar{ 2\\pi i \\cdot \\frac{j}{N} \\cdot 2^{n-1} }}.\n",
    "$\n",
    "\n",
    "The exponent is $  2\\pi i \\cdot \\mathbf{\\frac{j}{N}} \\cdot 2^{n-1} $.\n",
    "\n",
    "Remember that $ \\dfrac{j}{N}  = 0.j_1 j_2 \\cdots j_n$ . Then, the exponent is $ 2\\pi i \\cdot \\mathbf{ [0.j_1 j_2 \\cdots j_n] } \\cdot 2^{n-1} $.\n",
    "\n",
    "Note that multiplying $ [0.j_1 j_2 \\cdots j_n] $ by 2 shifts the decimal point one digit to the right:\n",
    "\n",
    "$ 2 \\cdot [0.j_1 j_2 \\cdots j_n] = [j_1 . j_2 \\cdots j_n] $.\n",
    "\n",
    "So, if we multiple it with $ 2^{n-1} $, then the decimal point shifts $ (n-1) $ digits to the right:\n",
    "\n",
    "$ 2^{n-1} \\cdot [ 0.j_1 j_2 \\cdots j_n ] =  \\mathbf{ [ j_1 j_2 \\cdots j_{n-1} . j_n ] } $.\n",
    "\n",
    "For any positive integer $ m $, $ e^{i 2\\pi \\cdot m } $ is equal to $ e^{i 2 \\pi} $. _The value of any  angle does not change when shifted by $ 2 \\pi $._\n",
    "\n",
    "Thus, the exponent is simplified as $ 2\\pi i \\cdot \\mathbf{ [0.j_n] } $ by removing the integer part of $ \\mathbf{ [ j_1 j_2 \\cdots j_{n-1} . j_n ] } $.\n",
    "\n",
    "In the same way, we can simplify all relative phases except the last one.\n",
    "\n",
    "$ QFT\\ket{j} = \\dfrac{1}{\\sqrt{N}}  \n",
    "    \\mypar{\\ket{0}+e^{2\\pi i \\mathbf{[ 0.j_n ]} } \\ket{1} } \\otimes  \n",
    "    \\mypar{\\ket{0}+e^{2\\pi i \\mathbf{[ 0.j_{n-1}j_n ]} } \\ket{1} } \\otimes \n",
    "    \\cdots  \\otimes \n",
    "    \\mypar{\\ket{0}+e^{2\\pi i \\mathbf{[ 0.j_1\\cdots j_n]} } \\ket{1} } .\n",
    "$"
   ]
  },
  {
   "cell_type": "markdown",
   "metadata": {},
   "source": [
    "### Circuit design\n",
    "\n",
    "Remember that $ \\ket{j} = \\ket{j_1}\\ket{j_2}\\cdots \\ket{j_n} $. Due to this order, we design a circuit calculating the desired state above in reverse order:\n",
    "\n",
    "$\\dfrac{1}{\\sqrt{N}} \\underbrace{\\mypar{\\ket{0}+e^{2\\pi i \\mathbf{[ 0.j_1\\cdots j_n]} } \\ket{1} }}_{q_1} \\otimes \\underbrace{\\mypar{\\ket{0}+e^{2\\pi i \\mathbf{[ 0.j_2\\cdots j_n]} } \\ket{1} }}_{q_2} \\otimes \\cdots  \\otimes \\underbrace{\\mypar{\\ket{0}+e^{2\\pi i \\mathbf{[ 0.j_{n-1}j_n]} } \\ket{1} }}_{q_{n-1}} \\otimes \\underbrace{\\mypar{\\ket{0}+e^{2\\pi i \\mathbf{[ 0.j_n]} } \\ket{1} }}_{q_n}$\n",
    "\n",
    "_After having this, we will reverse the outcome by using SWAP operators._\n",
    "\n",
    "We enumarate the qubits from the left to the right as $ q_1, q_2, \\ldots, q_n $."
   ]
  },
  {
   "cell_type": "markdown",
   "metadata": {},
   "source": [
    "At the beginning $ q_1 \\otimes \\cdots \\otimes q_n $ is in $ \\ket{j_1} \\otimes \\cdots \\otimes \\ket{j_n} $, i.e., $ q_t $ is in $ \\ket{j_t} $ for $ t \\in \\{1,\\ldots,n\\} $.\n",
    "\n",
    "#### The first qubit\n",
    "\n",
    "We set the state of $ q_1 $ to $ \\frac{1}{\\sqrt{2}}\\mypar{\\ket{0}+e^{2\\pi i \\mathbf{[ 0.j_1\\cdots j_n]} } \\ket{1} } $ by applying $ n $ gates:\n",
    "\n",
    "$ \\ket{j_1} \\xrightarrow{n~~gates} \\frac{1}{\\sqrt{2}}\\mypar{\\ket{0}+e^{2\\pi i \\mathbf{[ 0.j_1\\cdots j_n]} } \\ket{1} } .$\n",
    "\n",
    "We start with applying a Hadamard gate to $ q_1 $:\n",
    "- If $ q_1 $ is in $ \\ket{0} $, then its state is set to $ \\ket{+} = \\frac{1}{\\sqrt{2}} \\mypar{ \\ket{0} + \\ket{1} } $.\n",
    "- If $ q_1 $ is in $ \\ket{1} $, then its state is set to $ \\ket{-} = \\frac{1}{\\sqrt{2}} \\mypar{ \\ket{0} - \\ket{1} } $.\n",
    "\n",
    "Here, the relative phase is as follows: \n",
    "- In the first case, the amplitude of $ \\ket{1} $ is $ 1 = e^{2 \\pi i \\cdot \\mathbf{1}} = e^{2 \\pi i \\cdot \\mathbf{[0.0]} } $.\n",
    "- In the second case, the amplitude of $ \\ket{1} $ is $-1 = e^{2 \\pi i \\cdot \\mathbf{\\frac{1}{2}}} = e^{2 \\pi i \\cdot \\mathbf{[0.1]} }$.\n",
    "    \n",
    "Shortly, the relative phase is $ e^{2 \\pi i \\cdot \\mathbf{[0.j_1]} } $.\n",
    "\n",
    "Observe that $ j_1 $ appears on the binary fraction of the exponent. Now, we set the binary fraction to $ \\mathbf{[0.j_1j_2]} $.\n",
    "- If $ j_2 $ is 0, then we do nothing (zero is added).\n",
    "- If $ j_2 $ is 1, then $ \\frac{1}{4} $ should be added to the binary fraction. For this, we apply the phase gate $ R_m = \\mymatrix{cc}{1 & 0 \\\\ 0 & e^{\\frac{2 \\pi i}{2^m}}} $ to $ q_1 $ for $ m=2 $.\n",
    "\n",
    "To handle with both cases, we apply $ R_2 $ to $ q_1 $ controlled by $ q_2 $: \n",
    "$ CR_m = \\mymatrix{cccc}{ 1 & 0 & 0 & 0 \\\\ 0 & 1 & 0 & 0 \\\\ 0 & 0 & 1 & 0 \\\\ 0 & 0 & 0 & e^{ \\frac{ 2\\pi i}{2^m} } }  $ for $ m = 2 $.\n",
    "\n",
    "Similarly, for setting the binary fraction to $ \\mathbf{[0.j_1j_2j_3]} $, we apply the phase gate $ R_3 $ to $ q_1 $ controlled by $ q_3 $. \n",
    "\n",
    "We do the same for $ j_4,\\ldots,j_n $, and we apply $ R_4,\\ldots,R_n $ to $ q_1 $ controlled by $ q_4,\\ldots,q_n $, respectively."
   ]
  },
  {
   "cell_type": "markdown",
   "metadata": {},
   "source": [
    "#### The second qubit\n",
    "\n",
    "We start with applying a Hadamard gate to $q_2 $ and set the state to $ e^{2 \\pi i \\cdot \\mathbf{[0.j_2]} } $.\n",
    "\n",
    "Then, for  $ j_3,\\ldots,j_n $, and we apply $ R_2,\\ldots,R_{n-1} $ to $ q_2 $ controlled by $ q_3,\\ldots,q_n $, respectively.\n",
    "\n",
    "Thus, the state of $ q_2 $ is set to $ e^{2 \\pi i \\cdot \\mathbf{[0.j_2\\cdots j_n]} } $."
   ]
  },
  {
   "cell_type": "markdown",
   "metadata": {},
   "source": [
    "#### The rest of qubits\n",
    "\n",
    "We use the same procedure iteratively for the qubits $ q_3, \\ldots, q_n $. \n",
    "\n",
    "In each iteration, we apply one less controlled phase gate, and we do not apply any phase gate to $ q_n $.\n",
    "\n",
    "Thus, at the end of iteration, the state of circuit is set to \n",
    "\n",
    "$\\dfrac{1}{\\sqrt{N}}  \\underbrace{\\mypar{\\ket{0}+e^{2\\pi i \\mathbf{[ 0.j_1\\cdots j_n]} } \\ket{1} }}_{q_1} \\otimes \\underbrace{\\mypar{\\ket{0}+e^{2\\pi i \\mathbf{[ 0.j_2\\cdots j_n]} } \\ket{1} }}_{q_2} \\otimes \\cdots  \\otimes \\underbrace{\\mypar{\\ket{0}+e^{2\\pi i \\mathbf{[ 0.j_{n-1}j_n]} } \\ket{1} }}_{q_{n-1}} \\otimes   \\underbrace{\\mypar{\\ket{0}+e^{2\\pi i \\mathbf{[ 0.j_n]} } \\ket{1} }}_{q_n}$"
   ]
  },
  {
   "cell_type": "markdown",
   "metadata": {},
   "source": [
    "### Swapping\n",
    "\n",
    "The desired final state is \n",
    "\n",
    "$ QFT\\ket{j} = \\dfrac{1}{\\sqrt{N}}  \n",
    "    \\mypar{\\ket{0}+e^{2\\pi i \\mathbf{[ 0.j_n ]} } \\ket{1} } \\otimes  \n",
    "    \\mypar{\\ket{0}+e^{2\\pi i \\mathbf{[ 0.j_{n-1}j_n ]} } \\ket{1} } \\otimes \n",
    "    \\cdots  \\otimes \n",
    "    \\mypar{\\ket{0}+e^{2\\pi i \\mathbf{[ 0.j_1\\cdots j_n]} } \\ket{1} } .\n",
    "$\n",
    "\n",
    "Therefore, we apply SWAP gates on $ [q_1,q_n], [q_2,q_{n-1}], [q_3,q_{n-2}], $ and so on."
   ]
  },
  {
   "cell_type": "markdown",
   "metadata": {},
   "source": [
    "### The overall circuit\n",
    "\n",
    "Here is the overall circuit.\n",
    "\n",
    "<img src=\"https://gitlab.com/qworld/qeducation/qbook101/raw/main/qbook101/images/ch5/qft.png\" width=\"80%\" align=\"left\">"
   ]
  },
  {
   "cell_type": "markdown",
   "metadata": {},
   "source": [
    "Before swapping operators, we set the state of $ q_1 $, and then the state of $ q_2 $, and so on."
   ]
  },
  {
   "cell_type": "markdown",
   "metadata": {},
   "source": [
    "### Implementing QFT in Cirq\n",
    "\n",
    "We design our own QFT circuits.\n",
    "\n",
    "For phase gate, Cirq has `CZPowGate`:\n",
    "\n",
    "    cirq.CZPowGate(exponent=t).on(control_qubit, target_qubit)\n",
    "    \n",
    "which is defined by the following unitary matrix:\n",
    "\n",
    "$$ \\text{CZPowGate(t)} = \\mymatrix{cccc}{1 & 0 & 0 & 0 \\\\ 0 & 1 & 0 & 0 \\\\ 0 & 0 & 1 & 0 \\\\ 0 & 0 & 0 & e^{\\pi i t} } $$\n",
    "\n",
    "In our case, by letting $t=2/2^m$ we can create the gate $CR_m$."
   ]
  },
  {
   "cell_type": "markdown",
   "metadata": {},
   "source": [
    "<h3>Task 6</h3>\n",
    "\n",
    "Write a method named `myQFT` that takes a list of qubits and then returns the circuit implementing QFT on those qubits.\n",
    "\n",
    "Test your method with three and four qubits.\n",
    "\n",
    "Print your circuits and compare them with our solutions."
   ]
  },
  {
   "cell_type": "code",
   "execution_count": null,
   "metadata": {},
   "outputs": [],
   "source": [
    "import cirq\n",
    "from cirq import H, SWAP\n",
    "from math import pi\n",
    "\n",
    "def myQFT(qubits):\n",
    "    \n",
    "    circuit = cirq.Circuit()\n",
    "    \n",
    "    #\n",
    "    #Your code here\n",
    "    #\n",
    "    \n",
    "    return circuit"
   ]
  },
  {
   "cell_type": "code",
   "execution_count": null,
   "metadata": {},
   "outputs": [],
   "source": [
    "#\n",
    "# our test code here\n",
    "#\n"
   ]
  },
  {
   "cell_type": "markdown",
   "metadata": {},
   "source": [
    "To check out our solution, run the next cell:"
   ]
  },
  {
   "cell_type": "code",
   "execution_count": null,
   "metadata": {},
   "outputs": [],
   "source": [
    "SolutionToTask6()  # show solution for task 6"
   ]
  },
  {
   "cell_type": "markdown",
   "metadata": {},
   "source": [
    "<h3>Task 7</h3>\n",
    "\n",
    "Write down the matrix of QFT for $ n =3 $ by using Python.\n",
    "\n",
    "Write down the matrix of circuit $ n =3 $ by using `myQFT`.\n",
    "\n",
    "Compare both results."
   ]
  },
  {
   "cell_type": "code",
   "execution_count": null,
   "metadata": {},
   "outputs": [],
   "source": [
    "from math import pi, sin, cos\n",
    "#\n",
    "# our code here\n",
    "#\n"
   ]
  },
  {
   "cell_type": "markdown",
   "metadata": {},
   "source": [
    "To check out our solution, run the next cell:"
   ]
  },
  {
   "cell_type": "code",
   "execution_count": null,
   "metadata": {},
   "outputs": [],
   "source": [
    "SolutionToTask7()  # show solution for task 7"
   ]
  },
  {
   "cell_type": "markdown",
   "metadata": {},
   "source": [
    "### Built-in QFT method\n",
    "\n",
    "Here is a built-in QFT method in Cirq:"
   ]
  },
  {
   "cell_type": "code",
   "execution_count": null,
   "metadata": {},
   "outputs": [],
   "source": [
    "import cirq\n",
    "qubits = cirq.LineQubit.range(3)\n",
    "circuit = cirq.Circuit()\n",
    "builtin_qft = circuit + cirq.qft(*qubits,without_reverse=False)\n",
    "print(builtin_qft)"
   ]
  },
  {
   "cell_type": "markdown",
   "metadata": {},
   "source": [
    "<h3>Task 8 </h3> \n",
    "\n",
    "Let $ n = 3 $.\n",
    "\n",
    "On all possible input states\n",
    "- Run your QFT circuit\n",
    "- Run the built-in QFT circuit of Cirq\n",
    "\n",
    "Write down final quantum states for each input, and compare them."
   ]
  },
  {
   "cell_type": "code",
   "execution_count": null,
   "metadata": {},
   "outputs": [],
   "source": [
    "n=3 \n",
    "\n",
    "inputs = ['000','001','010','011','100','101','110','111']\n",
    "\n",
    "for input in inputs:\n",
    "    #\n",
    "    # Your code here\n",
    "    #\n",
    "    "
   ]
  },
  {
   "cell_type": "markdown",
   "metadata": {},
   "source": [
    "To check out our solution, run the next cell:"
   ]
  },
  {
   "cell_type": "code",
   "execution_count": null,
   "metadata": {},
   "outputs": [],
   "source": [
    "SolutionToTask8()  # show solution for task 8"
   ]
  },
  {
   "cell_type": "markdown",
   "metadata": {},
   "source": [
    "### Implementing inverse-QFT in Cirq"
   ]
  },
  {
   "cell_type": "markdown",
   "metadata": {},
   "source": [
    "QFT is a unitary operator, and so its inverse is also a unitary operator. \n",
    "\n",
    "$$ QFT^{-1} = QFT^\\dagger =  \\frac{1}{\\sqrt{N}} \\mymatrix{rrrrrr}{1 & 1 & 1 &1  & \\cdots & 1\\\\ 1 & \\omega^{-1} & \\omega^{-2} & \\omega^{-3} & \\cdots& \\omega^{-(N-1)} \\\\ 1 & \\omega^{-2} &\\omega^{-4} & \\omega^{-6}  & \\cdots& \\omega^{-(2N-2)} \\\\ 1 & \\omega^{-3} & \\omega^{-6} & \\omega^{-9} & \\cdots& \\omega^{-(3N-3)} \\\\ \\vdots &  \\vdots &  \\vdots &  \\vdots &  \\ddots &  \\vdots \\\\ 1 & \\omega^{-(N-1)} & \\omega^{-(2N-2)} & \\omega^{-(3N-3)} & \\cdots& \\omega^{-(N-1)(N-1)}}$$\n",
    "\n",
    "_Cirq has a method called `inverse()`, which takes conjugate transpose of a gate or circuit._\n",
    "\n",
    "Based on our solutions, here are the circuit diagram of QFT and inverse QFT (IQFT) with four qubits."
   ]
  },
  {
   "cell_type": "code",
   "execution_count": null,
   "metadata": {},
   "outputs": [],
   "source": [
    "print()\n",
    "print(\"=========== QFT with four qubits ===========\")\n",
    "print()\n",
    "print(myQFT(cirq.LineQubit.range(4)))\n",
    "print()\n",
    "print(\"=========== inverse-QFT with four qubits ===========\")\n",
    "print()\n",
    "print(cirq.inverse(myQFT(cirq.LineQubit.range(4))))"
   ]
  },
  {
   "cell_type": "markdown",
   "metadata": {},
   "source": [
    "Remark that:\n",
    "- $ H^\\dagger = H $.\n",
    "- $ SWAP([i,j])^\\dagger = SWAP([i,j]) $.\n",
    "- $ CR_m^\\dagger = CR_{-m} $."
   ]
  },
  {
   "cell_type": "markdown",
   "metadata": {},
   "source": [
    "Here is the built-in inverse QFT in Cirq:"
   ]
  },
  {
   "cell_type": "code",
   "execution_count": null,
   "metadata": {},
   "outputs": [],
   "source": [
    "import cirq\n",
    "qubits = cirq.LineQubit.range(3)\n",
    "circuit = cirq.Circuit()\n",
    "builtin_iqft = circuit + cirq.qft(*qubits,without_reverse=False,inverse=True)\n",
    "print(builtin_iqft)"
   ]
  },
  {
   "cell_type": "markdown",
   "metadata": {},
   "source": [
    "<a name=\"task9\"></a>\n",
    "<h3>Task 9</h3> \n",
    "\n",
    "Write an explicit method named `myInvQFT` for desgining the circuit of inverse QFT on the given list of qubits.\n",
    "\n",
    "Test it for $ n=4 $ by comparing your circuit matrix with the circuit matrix generated with built-in inverse QFT."
   ]
  },
  {
   "cell_type": "code",
   "execution_count": null,
   "metadata": {},
   "outputs": [],
   "source": [
    "def MyInvQFT(qubits):\n",
    "    \n",
    "    circuit = Circuit()\n",
    "    #\n",
    "    #Your code here\n",
    "    #\n",
    "    \n",
    "    return circuit"
   ]
  },
  {
   "cell_type": "code",
   "execution_count": null,
   "metadata": {},
   "outputs": [],
   "source": [
    "import numpy as np\n",
    "\n",
    "qubits = cirq.LineQubit.range(4) #create 4 qubits\n",
    "\n",
    "myInvQFT_circuit = myInvQFT(qubits)\n",
    "\n",
    "InvQFT_circuit = cirq.Circuit(cirq.qft(*qubits, without_reverse=False, inverse=True))\n",
    "\n",
    "print(\"n = 4 \")\n",
    "print()\n",
    "print(\"my circuit for IQFT:\")\n",
    "print(myInvQFT_circuit)\n",
    "print()\n",
    "\n",
    "\n",
    "# Check equality of the 'manual' and 'built-in' QFTs.\n",
    "myInvQFT_matrix = cirq.unitary(myInvQFT_circuit)\n",
    "InvQFT_matrix = cirq.unitary(InvQFT_circuit)\n",
    "print()\n",
    "print(\"Are the two matrices of the inverse of QFT equal?\")\n",
    "print(np.allclose(myInvQFT_matrix, InvQFT_matrix))  # element-wise equal within a tolerance"
   ]
  },
  {
   "cell_type": "markdown",
   "metadata": {},
   "source": [
    "To check out our solution, run the next cell:"
   ]
  },
  {
   "cell_type": "code",
   "execution_count": null,
   "metadata": {},
   "outputs": [],
   "source": [
    "SolutionToTask9()  # show solution for task 9"
   ]
  },
  {
   "cell_type": "markdown",
   "metadata": {},
   "source": [
    "<h2> Discussion on the number of gates </h2>"
   ]
  },
  {
   "cell_type": "markdown",
   "metadata": {},
   "source": [
    "For the first qubit, we apply a single Hadamard gate followed by $n-1$ controlled rotation gates, which makes $n$ gates in total.\n",
    "\n",
    "For the second qubit we apply a single Hadamard gate followed by $n-2$ controlled rotation gates, which makes $n-1$ gates in total.\n",
    "\n",
    "Overall, $n + (n-1) + \\cdots + 1 = \\frac{(n)(n+1)}{2}$ gates are required.\n",
    "\n",
    "Furthermore, $\\frac{n}{2}$ $SWAP$ gates are required, each of which can be implemented using three $CNOT$ gates.\n",
    "\n",
    "To sum up, $\\Theta(n^2)$ gates are required for applying $QFT$ to an $n$-qubit system represented by a vector of size $N=2^n$.\n",
    "\n",
    "The best known classical algorithm for computing the Discrete Fourier Transform of $2^n$ entries, such as Fast Fourier Transform (FFT) requires $\\Theta(n2^n)$, equivalently $\\Theta(N \\log N)$ gates, which means that the classical algorithm requires exponentially many more operations to compute $DFT$ (Note that the obvious algorithm for computing $DFT$ requires ${2}^{2n}$ gates). An improved algorithm presented [here](https://ieeexplore.ieee.org/document/892139) provides a circuit for computing $QFT$ with $O(n \\log n)$ gates.\n",
    "\n",
    "Nevertheless, this does not mean that we can use $QFT$ directly to accelerate the classical computation process. There are two reasons for this: The first reason is that the amplitudes can not be accessed directly after applying $QFT$. The second reason is that we may not know how to efficiently prepare the input state to $QFT$. \n",
    "\n",
    "Next, we will see some applications of $QFT$."
   ]
  }
 ],
 "metadata": {
  "kernelspec": {
   "display_name": "Python 3 (ipykernel)",
   "language": "python",
   "name": "python3"
  },
  "language_info": {
   "codemirror_mode": {
    "name": "ipython",
    "version": 3
   },
   "file_extension": ".py",
   "mimetype": "text/x-python",
   "name": "python",
   "nbconvert_exporter": "python",
   "pygments_lexer": "ipython3",
   "version": "3.11.4"
  }
 },
 "nbformat": 4,
 "nbformat_minor": 4
}
