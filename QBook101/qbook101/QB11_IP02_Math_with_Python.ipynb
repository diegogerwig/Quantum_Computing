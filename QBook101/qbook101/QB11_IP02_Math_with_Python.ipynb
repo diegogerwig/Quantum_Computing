{
 "cells": [
  {
   "cell_type": "markdown",
   "metadata": {},
   "source": [
    "<a href=\"https://qworld.net\" target=\"_blank\" align=\"left\"><img src=\"https://gitlab.com/qworld/qeducation/qbook101/raw/main/qworld/images/header.jpg\" align=\"left\"></a>\n",
    "$ \\newcommand{\\bra}[1]{\\langle #1|} $\n",
    "$ \\newcommand{\\ket}[1]{|#1\\rangle} $\n",
    "$ \\newcommand{\\braket}[2]{\\langle #1|#2\\rangle} $\n",
    "$ \\newcommand{\\dot}[2]{ #1 \\cdot #2} $\n",
    "$ \\newcommand{\\biginner}[2]{\\left\\langle #1,#2\\right\\rangle} $\n",
    "$ \\newcommand{\\mymatrix}[2]{\\left( \\begin{array}{#1} #2\\end{array} \\right)} $\n",
    "$ \\newcommand{\\myvector}[1]{\\mymatrix{c}{#1}} $\n",
    "$ \\newcommand{\\myrvector}[1]{\\mymatrix{r}{#1}} $\n",
    "$ \\newcommand{\\mypar}[1]{\\left( #1 \\right)} $\n",
    "$ \\newcommand{\\mybigpar}[1]{ \\Big( #1 \\Big)} $\n",
    "$ \\newcommand{\\sqrttwo}{\\frac{1}{\\sqrt{2}}} $\n",
    "$ \\newcommand{\\dsqrttwo}{\\dfrac{1}{\\sqrt{2}}} $\n",
    "$ \\newcommand{\\onehalf}{\\frac{1}{2}} $\n",
    "$ \\newcommand{\\donehalf}{\\dfrac{1}{2}} $\n",
    "$ \\newcommand{\\hadamard}{ \\mymatrix{rr}{ \\sqrttwo & \\sqrttwo \\\\ \\sqrttwo & -\\sqrttwo }} $\n",
    "$ \\newcommand{\\vzero}{\\myvector{1\\\\0}} $\n",
    "$ \\newcommand{\\vone}{\\myvector{0\\\\1}} $\n",
    "$ \\newcommand{\\stateplus}{\\myvector{ \\sqrttwo \\\\  \\sqrttwo } } $\n",
    "$ \\newcommand{\\stateminus}{ \\myrvector{ \\sqrttwo \\\\ -\\sqrttwo } } $\n",
    "$ \\newcommand{\\myarray}[2]{ \\begin{array}{#1}#2\\end{array}} $\n",
    "$ \\newcommand{\\X}{ \\mymatrix{cc}{0 & 1 \\\\ 1 & 0}  } $\n",
    "$ \\newcommand{\\Z}{ \\mymatrix{rr}{1 & 0 \\\\ 0 & -1}  } $\n",
    "$ \\newcommand{\\Htwo}{ \\mymatrix{rrrr}{ \\frac{1}{2} & \\frac{1}{2} & \\frac{1}{2} & \\frac{1}{2} \\\\ \\frac{1}{2} & -\\frac{1}{2} & \\frac{1}{2} & -\\frac{1}{2} \\\\ \\frac{1}{2} & \\frac{1}{2} & -\\frac{1}{2} & -\\frac{1}{2} \\\\ \\frac{1}{2} & -\\frac{1}{2} & -\\frac{1}{2} & \\frac{1}{2} } } $\n",
    "$ \\newcommand{\\CNOT}{ \\mymatrix{cccc}{1 & 0 & 0 & 0 \\\\ 0 & 1 & 0 & 0 \\\\ 0 & 0 & 0 & 1 \\\\ 0 & 0 & 1 & 0} } $\n",
    "$ \\newcommand{\\norm}[1]{ \\left\\lVert #1 \\right\\rVert } $\n",
    "$ \\newcommand{\\pstate}[1]{ \\lceil \\mspace{-1mu} #1 \\mspace{-1.5mu} \\rfloor } $"
   ]
  },
  {
   "cell_type": "markdown",
   "metadata": {},
   "source": [
    "_prepared by Claudia Zendejas-Morales_"
   ]
  },
  {
   "cell_type": "markdown",
   "metadata": {},
   "source": [
    "<font size=\"28px\" style=\"font-size:28px;\" align=\"left\"><b> Math with Python </b></font>\n",
    "<br>\n",
    "<br><br>"
   ]
  },
  {
   "cell_type": "markdown",
   "metadata": {
    "jp-MarkdownHeadingCollapsed": true
   },
   "source": [
    "##### <font color=\"#08b806\">Please execute the following cell, it is necessary to distinguish between your local environment and Google Colab's"
   ]
  },
  {
   "cell_type": "code",
   "execution_count": null,
   "metadata": {},
   "outputs": [],
   "source": [
    "import IPython\n",
    "\n",
    "def in_colab():\n",
    "    try:\n",
    "        import google.colab\n",
    "        return True\n",
    "    except:\n",
    "        return False\n",
    "\n",
    "SolutionToTask1 = lambda: IPython.display.display(IPython.display.Javascript('window.open(\"{url}\");'.format(url='https://colab.research.google.com/drive/1arpai4KkBE7FvHIu3YMu8Tfs2vYVVuSY?usp=sharing#scrollTo=67EZHJs06l70' if in_colab() else 'QB11_IP02_Math_with_Python_Solutions.ipynb#task1')))\n",
    "SolutionToTask2 = lambda: IPython.display.display(IPython.display.Javascript('window.open(\"{url}\");'.format(url='https://colab.research.google.com/drive/1arpai4KkBE7FvHIu3YMu8Tfs2vYVVuSY?usp=sharing#scrollTo=Z6w6pyYw6l71' if in_colab() else 'QB11_IP02_Math_with_Python_Solutions.ipynb#task2')))\n",
    "SolutionToTask3 = lambda: IPython.display.display(IPython.display.Javascript('window.open(\"{url}\");'.format(url='https://colab.research.google.com/drive/1arpai4KkBE7FvHIu3YMu8Tfs2vYVVuSY?usp=sharing#scrollTo=kymYuLB66l71' if in_colab() else 'QB11_IP02_Math_with_Python_Solutions.ipynb#task3')))\n",
    "SolutionToTask4 = lambda: IPython.display.display(IPython.display.Javascript('window.open(\"{url}\");'.format(url='https://colab.research.google.com/drive/1arpai4KkBE7FvHIu3YMu8Tfs2vYVVuSY?usp=sharing#scrollTo=GPOF3B6l6l72' if in_colab() else 'QB11_IP02_Math_with_Python_Solutions.ipynb#task4')))\n",
    "SolutionToTask5 = lambda: IPython.display.display(IPython.display.Javascript('window.open(\"{url}\");'.format(url='https://colab.research.google.com/drive/1arpai4KkBE7FvHIu3YMu8Tfs2vYVVuSY?usp=sharing#scrollTo=7BkqghRC6l73' if in_colab() else 'QB11_IP02_Math_with_Python_Solutions.ipynb#task5')))"
   ]
  },
  {
   "cell_type": "markdown",
   "metadata": {},
   "source": [
    "# Trigonometry review"
   ]
  },
  {
   "cell_type": "markdown",
   "metadata": {},
   "source": [
    "The **trigonometric ratios** are the ratios between the edges of a right triangle:\n",
    "\n",
    "<img src=\"https://gitlab.com/qworld/qeducation/qbook101/raw/main/qbook101/images/ch1/Trigonometry_triangle.svg\" width=\"250\" align=\"center\">\n",
    "<p style=\"font-size:10px;font-style:italic;text-align:right\">\n",
    "<a href=\"https://en.wikipedia.org/wiki/Trigonometry#/media/File:Trigonometry_triangle.svg\" target=\"_blank\">source of image</a> (license CC BY-SA 3.0)</p>"
   ]
  },
  {
   "cell_type": "markdown",
   "metadata": {},
   "source": [
    "Where:\n",
    "$$\\sin \\; A = \\frac{a}{h} ~~~~;~~~~ \\cos \\; A = \\frac{b}{h} ~~~~;~~~~ \\tan \\; A = \\frac{a}{b}$$"
   ]
  },
  {
   "cell_type": "markdown",
   "metadata": {},
   "source": [
    "Example: if the _hypotenuse_ is equal to $12$ and the angle $A$ is equal to $70^\\circ$, then we can find the _opposite_ side using Python as follows:"
   ]
  },
  {
   "cell_type": "code",
   "execution_count": null,
   "metadata": {},
   "outputs": [],
   "source": [
    "# Python code     <- this a comment, therefore is ignored by Python\n",
    "\n",
    "# first we define two variables\n",
    "hypotenuse = 12\n",
    "A = 70"
   ]
  },
  {
   "cell_type": "markdown",
   "metadata": {},
   "source": [
    "We know that the ratio $\\sin \\; A = a/h$, therefore $a = h \\; \\sin \\; A$.\n",
    "\n",
    "In Python, we can use code written by others through the import of packages; for example, the `math` package includes lots of predefined functions that we can use, for instance, the `sin()` function and the variable `pi`:"
   ]
  },
  {
   "cell_type": "code",
   "execution_count": null,
   "metadata": {},
   "outputs": [],
   "source": [
    "# import the 'sin' function and the 'pi' variable contained in the 'math' package\n",
    "from math import sin, pi\n",
    "\n",
    "\n",
    "# convert the angle A to radians because the sin() function expects radians\n",
    "A_radians = A * pi / 180\n",
    "\n",
    "# calculate the opposite side\n",
    "opposite = hypotenuse * sin(A_radians)\n",
    "\n",
    "# use the 'print()' function to show values in variables\n",
    "print(opposite)"
   ]
  },
  {
   "cell_type": "markdown",
   "metadata": {},
   "source": [
    "An overview of variables in Python can be found in _'Appendix A - Variables'_."
   ]
  },
  {
   "cell_type": "markdown",
   "metadata": {},
   "source": [
    "<h3> Task 1</h3>\n",
    "\n",
    "Define the variables `opposite=8` and `A=25` (degrees) and find:\n",
    "\n",
    "- the `hypotenuse` side\n",
    "- the `adjacent`side\n",
    "- the angle `B`"
   ]
  },
  {
   "cell_type": "code",
   "execution_count": null,
   "metadata": {},
   "outputs": [],
   "source": [
    "from math import sin, cos, pi\n",
    "\n",
    "#\n",
    "# your code goes here\n",
    "#\n",
    "\n",
    "\n",
    "\n",
    "\n",
    "\n",
    "\n"
   ]
  },
  {
   "cell_type": "markdown",
   "metadata": {},
   "source": [
    "To check out our solution, run the next cell:"
   ]
  },
  {
   "cell_type": "code",
   "execution_count": null,
   "metadata": {},
   "outputs": [],
   "source": [
    "SolutionToTask1()  # show solution for task 1"
   ]
  },
  {
   "cell_type": "markdown",
   "metadata": {},
   "source": [
    "# Complex Numbers"
   ]
  },
  {
   "cell_type": "markdown",
   "metadata": {},
   "source": [
    "A **complex number** $z\\in\\mathbb{C}$ is composed by two real numbers $x,y\\in\\mathbb{R}$:\n",
    "$$z=x+yi$$\n",
    "where the element $i$ is called the imaginary unit and satifies the equation $i^2=-1$; $x$ is known as the real part, and $y$ is known as the imaginary part, which may be interpreted as coordinates of a point in a two-dimensional space:\n",
    "\n",
    "<img src=\"https://gitlab.com/qworld/qeducation/qbook101/raw/main/qbook101/images/ch1/Complex_number.svg\" width=\"250\" align=\"center\">\n",
    "<p style=\"font-size:10px;font-style:italic;text-align:right\">\n",
    "<a href=\"https://en.wikipedia.org/wiki/Complex_number#/media/File:Complex_number_illustration_modarg.svg\" target=\"_blank\">source of image</a> (license CC BY-SA 3.0)</p>\n",
    "\n",
    "If we want to refer to the real part, we can write: $Re(z)$, and for the imaginary part: $Im(z)$. For example, let's take the complex number $z_1=2+3i$, therefore $Re(z_1)=2$ and $Im(z_1)=3$.\n",
    "\n",
    "\n",
    "In python, we can write complex numbers with the `complex()` function as follows:"
   ]
  },
  {
   "cell_type": "code",
   "execution_count": null,
   "metadata": {},
   "outputs": [],
   "source": [
    "z1 = complex(2, 3)\n",
    "\n",
    "print(z1)         # print the complex number 'z1'\n",
    "\n",
    "print(z1.real)    # get the real part\n",
    "\n",
    "print(z1.imag)    # get the imaginary part"
   ]
  },
  {
   "cell_type": "markdown",
   "metadata": {},
   "source": [
    "In the previous example we write the complex number $z_1=2+3i$ in Python, and we can see that the first argument specifies the real part, and the second the imaginary part. Note that when printing the variable `z1` the imaginary part uses a `j`, this is how Python refers to the complex element $i$."
   ]
  },
  {
   "cell_type": "markdown",
   "metadata": {},
   "source": [
    "An overview of loops in Python can be found in _'Appendix A - Loops'_."
   ]
  },
  {
   "cell_type": "markdown",
   "metadata": {},
   "source": [
    "<h3> Task 2</h3>\n",
    "\n",
    "Using a loop, find the result of $i^2,i^3,\\cdot,i^{10}$, what can you say about the observed behaviour?"
   ]
  },
  {
   "cell_type": "code",
   "execution_count": null,
   "metadata": {},
   "outputs": [],
   "source": [
    "#\n",
    "# your code goes here\n",
    "#\n",
    "\n",
    "\n",
    "\n",
    "\n",
    "\n",
    "\n"
   ]
  },
  {
   "cell_type": "markdown",
   "metadata": {},
   "source": [
    "To check out our solution, run the next cell:"
   ]
  },
  {
   "cell_type": "code",
   "execution_count": null,
   "metadata": {},
   "outputs": [],
   "source": [
    "SolutionToTask2()  # show solution for task 2"
   ]
  },
  {
   "cell_type": "markdown",
   "metadata": {},
   "source": [
    "The usual operations with complex numbers can be performed:"
   ]
  },
  {
   "cell_type": "code",
   "execution_count": null,
   "metadata": {},
   "outputs": [],
   "source": [
    "z2 = complex(8, 9)\n",
    "z3 = complex(3, -4)\n",
    "\n",
    "print(3 * z2)\n",
    "print(z2 + z3)\n",
    "print(z2 * z3)\n",
    "print(z3 / z2)"
   ]
  },
  {
   "cell_type": "markdown",
   "metadata": {},
   "source": [
    "The **conjugate of a complex number** ($z$) is another complex number that inverts the sign of the imaginary part of the first, usually denoted with $z^*$ or with $\\bar{z}$.\n",
    "\n",
    "$$z=x+iy~~~~~\\Rightarrow~~~~~z^*=x-iy$$\n",
    "\n",
    "In Python we can obtain the conjugate of a complex number with the `conjugate()` method:"
   ]
  },
  {
   "cell_type": "code",
   "execution_count": null,
   "metadata": {},
   "outputs": [],
   "source": [
    "z4 = complex(2, -5)\n",
    "\n",
    "z5 = z4.conjugate()\n",
    "\n",
    "print(z4)\n",
    "print(z5)"
   ]
  },
  {
   "cell_type": "markdown",
   "metadata": {},
   "source": [
    "# Vectors and Matrices"
   ]
  },
  {
   "cell_type": "markdown",
   "metadata": {},
   "source": [
    "A **vector** is a geometric entity characterized by its magnitude and direction, that is, it is a directed line segment, or arrow, in a [Euclidean space](https://en.wikipedia.org/wiki/Euclidean_space) of $n$ dimensions; Thus, if the vector belongs to a 2-dimensional space, then it can be expressed as a list of 2 numbers, but if the vector belongs to an 8-dimensional space, then the 8 numbers that define it in that space must be specified. We say that a vector over a field $F$ is a list of elements of $F$. The field $F$ can be, for example, the real numbers ($\\mathbb{R}$) or the complex numbers ($\\mathbb{C}$).\n",
    "\n",
    "Throughout QBook101 we will be using column vectors, which are those that are written vertically, for example the 4-dimensional vector $\\vec{a}$:\n",
    "\n",
    "$$\\vec{a}=\\mymatrix{r}{3 \\\\ -1 \\\\ 5 \\\\ -8}$$\n",
    "\n",
    "Which in Python we can write with a list, as follows:"
   ]
  },
  {
   "cell_type": "code",
   "execution_count": null,
   "metadata": {},
   "outputs": [],
   "source": [
    "a = [3, -1, 5, -8]\n",
    "print(\"a is\", a)"
   ]
  },
  {
   "cell_type": "markdown",
   "metadata": {},
   "source": [
    "Note that when printing the list, the vector appears as a row vector, but it is important to remember that for us, the code that defines the variable `a` represents a column vector."
   ]
  },
  {
   "cell_type": "markdown",
   "metadata": {},
   "source": [
    "An overview of vectors with Python can be found in _'Appendix B - Vectors'_.\n",
    "<br><br><br>"
   ]
  },
  {
   "cell_type": "markdown",
   "metadata": {},
   "source": [
    "A **matrix** is a rectangular array of numbers, called *entries*. We say that a matrix over a field $F$ is a rectangular array of elements of $F$. The field $F$ can be, for example, the real numbers ($\\mathbb{R}$) or the complex numbers ($\\mathbb{C}$). For example, the matrix $\\mathbf{A}$:\n",
    "\n",
    "$$\\mathbf{A} = \\mymatrix{rrr}{-2 & 3 & 5 \\\\ -3 & -3 & 4 \\\\ 1 & 5 & 6}$$\n",
    "\n",
    "Keep in mind that the matrices are not necessarily square, that is, have the same number of rows and columns; however, in the QBook101 we will use the matrices that are square.\n",
    "\n",
    "A matrix is said to be ($n \\times m$)-dimensional, where $n$ is the number of rows and $m$ is the number of columns that make up the matrix.\n",
    "\n",
    "In Python we can define an matrix as a list of lists, as follows:"
   ]
  },
  {
   "cell_type": "code",
   "execution_count": null,
   "metadata": {},
   "outputs": [],
   "source": [
    "# we may break lines when defining our list\n",
    "A = [ \n",
    "     [-2 ,  3 , 5], \n",
    "     [-3 , -3 , 4], \n",
    "     [ 1 ,  5 , 6],\n",
    "    ] \n",
    "\n",
    "# let's print matrix A\n",
    "print(A)"
   ]
  },
  {
   "cell_type": "markdown",
   "metadata": {},
   "source": [
    "which when printing, visually makes it difficult to interpret the set of numbers as a matrix, so we can print the matrix using a loop:"
   ]
  },
  {
   "cell_type": "code",
   "execution_count": null,
   "metadata": {},
   "outputs": [],
   "source": [
    "for i in range(3): # there are 3 rows\n",
    "    print(A[i])"
   ]
  },
  {
   "cell_type": "markdown",
   "metadata": {},
   "source": [
    "An overview of matrices with Python can be found in _'Appendix B - Matrices'_."
   ]
  },
  {
   "cell_type": "markdown",
   "metadata": {},
   "source": [
    "# Vector and Matrix Operations"
   ]
  },
  {
   "cell_type": "markdown",
   "metadata": {},
   "source": [
    "We can perform different operations between the mathematical entities: vectors and matrices. For more details, visit _Appendix B_."
   ]
  },
  {
   "cell_type": "markdown",
   "metadata": {},
   "source": [
    "An overview of loops in Python can be found in _'Appendix A - Loops'_."
   ]
  },
  {
   "cell_type": "markdown",
   "metadata": {},
   "source": [
    "<h3> Task 3</h3>\n",
    "\n",
    "Consider the vector $b$ and the matrices $B$ and $C$ defined as follows:\n",
    "\n",
    "$$\\vec{b}=\\mymatrix{r}{-3i \\\\ 4+i \\\\ -3-5i \\\\ 8-7i} ~~~~~,~~~~~ \\mathbf{B} = \\mymatrix{rrr}{1 & 2 & -3 \\\\ -6 & 5 & 4 \\\\ 9 & 10 & 11 \\\\ 7 & -8 & 3} ~~~~~,~~~~~ \\mathbf{C} = \\mymatrix{rrrr}{3.3 & 2.5 & 8.1 & -1.3 \\\\ 9.2 & -7.5 & 10.6 & 2.8 \\\\ 4.9 & 6.7 & -12.1 & 0.3} $$\n",
    "\n",
    "Find:\n",
    "- $\\mathbf{C}\\cdot \\vec{b}$\n",
    "- $\\mathbf{B}\\cdot \\mathbf{C}$\n",
    "- $\\mathbf{B}\\cdot \\vec{b}$\n",
    "\n",
    "What happens to the dimensions of the result for each case?\n",
    "\n",
    "What happens with the last case?"
   ]
  },
  {
   "cell_type": "code",
   "execution_count": null,
   "metadata": {},
   "outputs": [],
   "source": [
    "#\n",
    "# your code goes here\n",
    "#\n"
   ]
  },
  {
   "cell_type": "markdown",
   "metadata": {},
   "source": [
    "To check out our solution, run the next cell:"
   ]
  },
  {
   "cell_type": "code",
   "execution_count": null,
   "metadata": {},
   "outputs": [],
   "source": [
    "SolutionToTask3()  # show solution for task 3"
   ]
  },
  {
   "cell_type": "markdown",
   "metadata": {},
   "source": [
    "<h3> Task 4</h3>\n",
    "\n",
    "Perform the same cases of _Task 3_, but using the `numpy` package.\n",
    "\n",
    "If you don't have it installed, do so by running the following command in a new cell:\n",
    "\n",
    "    !pip install numpy\n",
    "\n",
    "You can consult the `numpy` documentation [here](https://numpy.org/doc/)."
   ]
  },
  {
   "cell_type": "code",
   "execution_count": null,
   "metadata": {},
   "outputs": [],
   "source": [
    "import numpy as np\n",
    "\n",
    "#\n",
    "# your code goes here\n",
    "#"
   ]
  },
  {
   "cell_type": "markdown",
   "metadata": {},
   "source": [
    "To check out our solution, run the next cell:"
   ]
  },
  {
   "cell_type": "code",
   "execution_count": null,
   "metadata": {},
   "outputs": [],
   "source": [
    "SolutionToTask4()  # show solution for task 4"
   ]
  },
  {
   "cell_type": "markdown",
   "metadata": {},
   "source": [
    "# Orthogonal Vectors"
   ]
  },
  {
   "cell_type": "markdown",
   "metadata": {},
   "source": [
    "Two vectors are **orthogonal** if they are perpendicular to each other, i.e., the **dot product** of the two vectors is zero. It is also called **scalar product** because the result is a scalar value (also known as **inner product**).\n",
    "\n",
    "The dot product can be found by multiplying the two vectors element-wise and taking the sum of those results. Let the vectors be $\\vec{x}$ and $\\vec{y}$:\n",
    "\n",
    "$$\\vec{x}=\\mymatrix{c}{x_1 \\\\ x_2 \\\\ x_3 \\\\ \\vdots \\\\ x_n} ~~~~~~,~~~~~~ \\vec{y}=\\mymatrix{c}{y_1 \\\\ y_2 \\\\ y_3 \\\\ \\vdots \\\\ y_n}$$\n",
    "\n",
    "Then their dot product is given by:\n",
    "\n",
    "$$\\vec{x}\\cdot \\vec{y}=\\sum_{i=1}^nx_iy_i=x_1y_1+x_2y_2+x_3y_3+\\cdots+x_ny_n$$\n",
    "\n",
    "If the vectors are normalized (their length equals 1) and are orthogonal to each other, then they are called **orthonormal**.\n",
    "\n",
    "To determine the length of a vector, we can calculate its **norm**. The norm of the vector $x$ (specifically the [$L^2$ norm](https://en.wikipedia.org/wiki/Norm_(mathematics)#Euclidean_norm)) can be calculated as follows:\n",
    "\n",
    "$$||\\vec{x}||=|\\vec{x}|_2=|\\vec{x}|=\\sqrt{x_1x_1+x_2x_2+x_3x_3+\\cdots+x_nx_n}=\\sqrt{\\vec{x}\\cdot \\vec{x}}$$\n",
    "\n",
    "To normalize the vector $\\vec{x}$, we do:\n",
    "\n",
    "$$\\vec{x}_{normalized}=\\frac{\\vec{x}}{|\\vec{x}|}$$"
   ]
  },
  {
   "cell_type": "markdown",
   "metadata": {},
   "source": [
    "An overview of conditionals in Python can be found in _'Appendix A - Conditionals'_."
   ]
  },
  {
   "cell_type": "markdown",
   "metadata": {},
   "source": [
    "<h3> Task 5</h3>\n",
    "\n",
    "Given the vectors $\\vec{u}$ and $\\vec{v}$:\n",
    "\n",
    "$$\\vec{u}=\\mymatrix{r}{3 \\\\ 4 \\\\ 0} ~~~~~~,~~~~~~ \\vec{v}=\\mymatrix{r}{-4 \\\\ 3 \\\\ 2}$$\n",
    "\n",
    "\n",
    "- Write all the code yourself to:\n",
    "  -  normalize the vector $\\vec{u}$\n",
    "  -  normalize the vector $\\vec{v}$\n",
    "  -  determine if they are orthogonal to each other\n",
    "- Using the `numpy` package:\n",
    "  -  normalize the vector $\\vec{u}$\n",
    "  -  normalize the vector $\\vec{v}$\n",
    "  -  determine if they are orthogonal to each other"
   ]
  },
  {
   "cell_type": "code",
   "execution_count": null,
   "metadata": {},
   "outputs": [],
   "source": [
    "#\n",
    "# your code goes here\n",
    "#"
   ]
  },
  {
   "cell_type": "code",
   "execution_count": null,
   "metadata": {},
   "outputs": [],
   "source": [
    "import numpy as np\n",
    "\n",
    "#\n",
    "# your code goes here\n",
    "#\n",
    "\n",
    "\n",
    "\n",
    "\n"
   ]
  },
  {
   "cell_type": "markdown",
   "metadata": {},
   "source": [
    "To check out our solution, run the next cell:"
   ]
  },
  {
   "cell_type": "code",
   "execution_count": null,
   "metadata": {},
   "outputs": [],
   "source": [
    "SolutionToTask5()  # show solution for task 5"
   ]
  },
  {
   "cell_type": "markdown",
   "metadata": {},
   "source": [
    "# Vector Space"
   ]
  },
  {
   "cell_type": "markdown",
   "metadata": {},
   "source": [
    "In linear algebra, a **vector space** (also called a linear space) is an algebraic structure created from a non-empty set of elements, often called **vectors**, an internal operation (called addition, defined for the elements of the set) and an external operation (called product by a scalar, defined between said set and another set) that satisfies certain [fundamental properties](https://en.wikipedia.org/wiki/Vector_space#Definition_and_basic_properties).\n",
    "\n",
    "Vector spaces are characterized by their [dimension](https://en.wikipedia.org/wiki/Dimension_(vector_space)), which, roughly speaking, specifies the number of independent directions in the space. This means that, for two vector spaces over a given field and with the same dimension, the properties that depend only on the vector-space structure are exactly the same (technically the vector spaces are [isomorphic](https://en.wikipedia.org/wiki/Isomorphism)). A vector space is finite-dimensional if its dimension is a natural number; otherwise, it is infinite-dimensional."
   ]
  }
 ],
 "metadata": {
  "kernelspec": {
   "display_name": "Python 3 (ipykernel)",
   "language": "python",
   "name": "python3"
  },
  "language_info": {
   "codemirror_mode": {
    "name": "ipython",
    "version": 3
   },
   "file_extension": ".py",
   "mimetype": "text/x-python",
   "name": "python",
   "nbconvert_exporter": "python",
   "pygments_lexer": "ipython3",
   "version": "3.11.0"
  }
 },
 "nbformat": 4,
 "nbformat_minor": 4
}
