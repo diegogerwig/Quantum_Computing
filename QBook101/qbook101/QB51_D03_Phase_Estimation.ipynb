{
 "cells": [
  {
   "cell_type": "markdown",
   "metadata": {},
   "source": [
    "<a href=\"https://qworld.net\" target=\"_blank\" align=\"left\"><img src=\"https://gitlab.com/qworld/qeducation/qbook101/raw/main/qworld/images/header.jpg\" align=\"left\"></a>\n",
    "$ \\newcommand{\\bra}[1]{\\langle #1|} $\n",
    "$ \\newcommand{\\ket}[1]{|#1\\rangle} $\n",
    "$ \\newcommand{\\braket}[2]{\\langle #1|#2\\rangle} $\n",
    "$ \\newcommand{\\dot}[2]{ #1 \\cdot #2} $\n",
    "$ \\newcommand{\\biginner}[2]{\\left\\langle #1,#2\\right\\rangle} $\n",
    "$ \\newcommand{\\mymatrix}[2]{\\left( \\begin{array}{#1} #2\\end{array} \\right)} $\n",
    "$ \\newcommand{\\myvector}[1]{\\mymatrix{c}{#1}} $\n",
    "$ \\newcommand{\\myrvector}[1]{\\mymatrix{r}{#1}} $\n",
    "$ \\newcommand{\\mypar}[1]{\\left( #1 \\right)} $\n",
    "$ \\newcommand{\\mybigpar}[1]{ \\Big( #1 \\Big)} $\n",
    "$ \\newcommand{\\sqrttwo}{\\frac{1}{\\sqrt{2}}} $\n",
    "$ \\newcommand{\\dsqrttwo}{\\dfrac{1}{\\sqrt{2}}} $\n",
    "$ \\newcommand{\\onehalf}{\\frac{1}{2}} $\n",
    "$ \\newcommand{\\donehalf}{\\dfrac{1}{2}} $\n",
    "$ \\newcommand{\\hadamard}{ \\mymatrix{rr}{ \\sqrttwo & \\sqrttwo \\\\ \\sqrttwo & -\\sqrttwo }} $\n",
    "$ \\newcommand{\\vzero}{\\myvector{1\\\\0}} $\n",
    "$ \\newcommand{\\vone}{\\myvector{0\\\\1}} $\n",
    "$ \\newcommand{\\stateplus}{\\myvector{ \\sqrttwo \\\\  \\sqrttwo } } $\n",
    "$ \\newcommand{\\stateminus}{ \\myrvector{ \\sqrttwo \\\\ -\\sqrttwo } } $\n",
    "$ \\newcommand{\\myarray}[2]{ \\begin{array}{#1}#2\\end{array}} $\n",
    "$ \\newcommand{\\X}{ \\mymatrix{cc}{0 & 1 \\\\ 1 & 0}  } $\n",
    "$ \\newcommand{\\Z}{ \\mymatrix{rr}{1 & 0 \\\\ 0 & -1}  } $\n",
    "$ \\newcommand{\\Htwo}{ \\mymatrix{rrrr}{ \\frac{1}{2} & \\frac{1}{2} & \\frac{1}{2} & \\frac{1}{2} \\\\ \\frac{1}{2} & -\\frac{1}{2} & \\frac{1}{2} & -\\frac{1}{2} \\\\ \\frac{1}{2} & \\frac{1}{2} & -\\frac{1}{2} & -\\frac{1}{2} \\\\ \\frac{1}{2} & -\\frac{1}{2} & -\\frac{1}{2} & \\frac{1}{2} } } $\n",
    "$ \\newcommand{\\CNOT}{ \\mymatrix{cccc}{1 & 0 & 0 & 0 \\\\ 0 & 1 & 0 & 0 \\\\ 0 & 0 & 0 & 1 \\\\ 0 & 0 & 1 & 0} } $\n",
    "$ \\newcommand{\\norm}[1]{ \\left\\lVert #1 \\right\\rVert } $\n",
    "$ \\newcommand{\\pstate}[1]{ \\lceil \\mspace{-1mu} #1 \\mspace{-1.5mu} \\rfloor } $\n",
    "$ \\newcommand{\\Y}{ \\mymatrix{rr}{0 & -i \\\\ i & 0} } $\n",
    "$ \\newcommand{\\S}{ \\mymatrix{rr}{1 & 0 \\\\ 0 & i} } $\n",
    "$ \\newcommand{\\T}{ \\mymatrix{rr}{1 & 0 \\\\ 0 & e^{i \\frac{\\pi}{4}}} } $\n",
    "$ \\newcommand{\\Sdg}{ \\mymatrix{rr}{1 & 0 \\\\ 0 & -i} } $ \n",
    "$ \\newcommand{\\Tdg}{ \\mymatrix{rr}{1 & 0 \\\\ 0 & e^{-i \\frac{\\pi}{4}}} } $\n",
    "$ \\newcommand{\\qgate}[1]{ \\mathop{\\\\textit{#1} } }$"
   ]
  },
  {
   "cell_type": "markdown",
   "metadata": {},
   "source": [
    "_prepared by Özlem Salehi and Abuzer Yakaryilmaz_\n",
    "<br><br>\n",
    "_Cirq adaptation by Claudia Zendejas-Morales_"
   ]
  },
  {
   "cell_type": "markdown",
   "metadata": {},
   "source": [
    "<font size=\"28px\" style=\"font-size:28px;\" align=\"left\"><b> Phase Estimation </b></font>\n",
    "<br>\n",
    "<br><br>"
   ]
  },
  {
   "cell_type": "markdown",
   "metadata": {
    "jp-MarkdownHeadingCollapsed": true
   },
   "source": [
    "##### <font color=\"#08b806\">Please execute the following cell, it is necessary to distinguish between your local environment and Google Colab's"
   ]
  },
  {
   "cell_type": "code",
   "execution_count": null,
   "metadata": {},
   "outputs": [],
   "source": [
    "import IPython\n",
    "\n",
    "def in_colab():\n",
    "    try:\n",
    "        import google.colab\n",
    "        return True\n",
    "    except:\n",
    "        return False\n",
    "\n",
    "SolutionToTask1 = lambda: IPython.display.display(IPython.display.Javascript('window.open(\"{url}\");'.format(url='https://colab.research.google.com/drive/1aNp8lg_xZHChORPJ3eE489n0Qb7IvOWk?usp=sharing#scrollTo=Ft_63GcZRq63' if in_colab() else 'QB51_D03_Phase_Estimation_Solutions.ipynb#task1')))\n",
    "SolutionToTask2 = lambda: IPython.display.display(IPython.display.Javascript('window.open(\"{url}\");'.format(url='https://colab.research.google.com/drive/1aNp8lg_xZHChORPJ3eE489n0Qb7IvOWk?usp=sharing#scrollTo=BJE3dO1TRq64' if in_colab() else 'QB51_D03_Phase_Estimation_Solutions.ipynb#task2')))\n",
    "SolutionToTask3 = lambda: IPython.display.display(IPython.display.Javascript('window.open(\"{url}\");'.format(url='https://colab.research.google.com/drive/1aNp8lg_xZHChORPJ3eE489n0Qb7IvOWk?usp=sharing#scrollTo=nvLVe9RVRq64' if in_colab() else 'QB51_D03_Phase_Estimation_Solutions.ipynb#task3')))\n",
    "SolutionToTask4 = lambda: IPython.display.display(IPython.display.Javascript('window.open(\"{url}\");'.format(url='https://colab.research.google.com/drive/1aNp8lg_xZHChORPJ3eE489n0Qb7IvOWk?usp=sharing#scrollTo=cVVnekP1Rq65' if in_colab() else 'QB51_D03_Phase_Estimation_Solutions.ipynb#task4')))\n",
    "SolutionToTask5 = lambda: IPython.display.display(IPython.display.Javascript('window.open(\"{url}\");'.format(url='https://colab.research.google.com/drive/1aNp8lg_xZHChORPJ3eE489n0Qb7IvOWk?usp=sharing#scrollTo=4gv-pQLURq65' if in_colab() else 'QB51_D03_Phase_Estimation_Solutions.ipynb#task5')))\n",
    "SolutionToTask6 = lambda: IPython.display.display(IPython.display.Javascript('window.open(\"{url}\");'.format(url='https://colab.research.google.com/drive/1aNp8lg_xZHChORPJ3eE489n0Qb7IvOWk?usp=sharing#scrollTo=Vb0ZtEHtRq66' if in_colab() else 'QB51_D03_Phase_Estimation_Solutions.ipynb#task6')))\n",
    "\n",
    "if in_colab():\n",
    "    !pip install cirq"
   ]
  },
  {
   "cell_type": "markdown",
   "metadata": {},
   "source": [
    "##### In this section we will talk about an application of Quantum Fourier Transform, which will lead us in the way to Shor's Algorithm."
   ]
  },
  {
   "cell_type": "markdown",
   "metadata": {},
   "source": [
    "For a given matrix $ A $, a nonzero $ v $ vector is called its eigenvector if there is a scalar value $ \\lambda $ called eigenvalue satisfying\n",
    "\n",
    "$ A \\cdot v = \\lambda \\cdot v $.\n",
    "\n",
    "\n",
    "Unitary matrices are length preserving. Therefore, their eigenvalues must have length 1, and so they are in the form of $ e^{2 \\pi i \\phi} $ for some $ \\phi \\in [0,1) $.\n",
    "\n",
    "Our goal is, for a given unitary matrix $ U $ and its eigenvector $ \\ket{u} $, to estimate the phase $ \\phi $ of the corresponding eigenvalue $ e^{2 \\pi i \\phi} $. \n",
    "\n",
    "The matrix $ U^k $ is the $ k $-th power of $ U $. As $ U \\ket{u} = e^{2 \\pi i \\phi} \\ket{u} $, we can observe that\n",
    "\n",
    "$ U^k \\ket{u} =  \\mypar{ e^{2 \\pi i \\phi} }^k \\ket{u}  = e^{2 \\pi i \\phi k} \\ket{u} $."
   ]
  },
  {
   "cell_type": "markdown",
   "metadata": {},
   "source": [
    "<h3>Task 1 (on paper)</h3>\n",
    "\n",
    "Show that $\\ket{-}$ and $\\ket{+}$ are eigenvectors for the $X$ operator with eigenvalues -1 and 1 respectively."
   ]
  },
  {
   "cell_type": "markdown",
   "metadata": {},
   "source": [
    "To check out our solution, run the next cell:"
   ]
  },
  {
   "cell_type": "code",
   "execution_count": null,
   "metadata": {},
   "outputs": [],
   "source": [
    "SolutionToTask1()  # show solution for task 1"
   ]
  },
  {
   "cell_type": "markdown",
   "metadata": {},
   "source": [
    "## Controlled-$U$ operator"
   ]
  },
  {
   "cell_type": "markdown",
   "metadata": {},
   "source": [
    "Let $ U $ be a unitary operator with eigenstate $ \\ket{\\psi} $ and eigenvalue $ e^{2\\pi i \\phi} $ such that $ U\\ket{\\psi} =  e^{2{\\pi}i{\\phi}} \\ket{\\psi}$. \n",
    "\n",
    "We check the effect of controlled-$ U $ ($CU$) operator on the control qubit.\n",
    "\n",
    "Below are the cases in which the control qubit is in state $ \\ket{0} $ or $ \\ket{1} $."
   ]
  },
  {
   "cell_type": "markdown",
   "metadata": {},
   "source": [
    "<img src=\"https://gitlab.com/qworld/qeducation/qbook101/raw/main/qbook101/images/ch5/cu.png\" width=\"40%\" align=\"left\">"
   ]
  },
  {
   "cell_type": "markdown",
   "metadata": {},
   "source": [
    "In the first case, the operator $ U $ is not applied as the control qubit is in $ \\ket{0} $. Thus, we have:\n",
    "\n",
    "$ CU(\\ket{0}\\ket{\\psi}) \\rightarrow \\ket{0}\\ket{\\psi} $.\n",
    "\n",
    "In the second case, the operator $ U $ is applied to the state $ \\ket{\\psi} $ as the control qubit is in $ \\ket{1} $. Thus, we have:\n",
    "\n",
    "$ CU(\\ket{1}\\ket{\\psi}) \\rightarrow  e^{2{\\pi}i{\\phi}}\\ket{1}\\ket{\\psi} $."
   ]
  },
  {
   "cell_type": "markdown",
   "metadata": {},
   "source": [
    "$ CU $ operator puts a phase of $ e^{2\\pi i \\phi} $ in front of state $ \\ket{1} $ when the control qubit is in superposition of the states $ \\ket{0} $ and $ \\ket{1} $."
   ]
  },
  {
   "cell_type": "markdown",
   "metadata": {},
   "source": [
    "$ \\begin{array}{rcl}\n",
    "CU \\mypar{ \\mypar{ \\dfrac{ \\ket{0} + \\ket{1} }{ \\sqrt{2} } }  \\ket{\\psi} } & = &  \\dfrac{1}{\\sqrt{2}} \\mypar{ CU \\mypar{ \\ket{0}\\ket{\\psi} + \\ket{1}\\ket{\\psi} } } \\\\\n",
    "& = & \\dfrac{1}{\\sqrt{2}} \\mypar{ CU\\ket{0}\\ket{\\psi} + CU \\ket{1}\\ket{\\psi} } \\\\\n",
    "& = & \\dfrac{1}{\\sqrt{2}} \\mypar{ \\ket{0} \\ket{\\psi} + e^{2{\\pi}i{\\phi}}\\ket{1}\\ket{\\psi} } \\\\\n",
    "& = & \\dfrac{1}{\\sqrt{2}} \\mypar{ \\mypar{ \\ket{0} + e^{2{\\pi}i{\\phi}}\\ket{1} } \\ket{\\psi} } \\\\\n",
    "& = & \\mypar{ \\dfrac{ \\ket{0} + e^{2{\\pi}i{\\phi}} \\ket{1} }{\\sqrt{2}} } \\ket{\\psi}\n",
    "\\end{array}$"
   ]
  },
  {
   "cell_type": "markdown",
   "metadata": {},
   "source": [
    "Hence, for an arbitrary state, $\\alpha \\ket{0}\\ket{\\psi} + \\beta \\ket{1}\\ket{\\psi} \\xrightarrow{CU} \\alpha \\ket{0}\\ket{\\psi} ~+~ e^{2{\\pi}i{\\phi}}  \\beta \\ket{1}\\ket{\\psi} = (\\alpha \\ket{0} ~+~ e^{2{\\pi}i{\\phi}} \\beta \\ket{1})\\ket{\\psi}$."
   ]
  },
  {
   "cell_type": "markdown",
   "metadata": {},
   "source": [
    "<img src=\"https://gitlab.com/qworld/qeducation/qbook101/raw/main/qbook101/images/ch5/phase_kickback_cu.png\" width=\"35%\" align=\"center\">"
   ]
  },
  {
   "cell_type": "markdown",
   "metadata": {},
   "source": [
    "<h3>Task 2</h3>\n",
    "\n",
    "Consider the following quantum state where $ x=0 $ or $ 1 $. How can you find out the value of $x$ by applying a single operator?\n",
    "\n",
    "$$ \n",
    "\\frac {\\ket{0} + (-1)^x \\ket{1}} {\\sqrt{2}}\n",
    "$$\n"
   ]
  },
  {
   "cell_type": "markdown",
   "metadata": {},
   "source": [
    "To check out our solution, run the next cell:"
   ]
  },
  {
   "cell_type": "code",
   "execution_count": null,
   "metadata": {},
   "outputs": [],
   "source": [
    "SolutionToTask2()  # show solution for task 2"
   ]
  },
  {
   "cell_type": "markdown",
   "metadata": {},
   "source": [
    "<h2> Estimating eigenvalues of the $X$ operator </h2>"
   ]
  },
  {
   "cell_type": "markdown",
   "metadata": {},
   "source": [
    "Recall that $ \\ket{+} $ and $ \\ket{-} $ are the eigenstates of the operator $X$. If we apply $ CX $ operator to the following quantum state where $ \\ket{\\psi} $ is either $ \\ket{+} $ or $ \\ket{-} $, then by Task 2 we know how to find out the value of $x$.\n",
    "\n",
    "\\begin{align*}\n",
    "CX \\left(\\frac {\\ket{0} + \\ket{1}} {\\sqrt{2}} \\ket{\\psi} \\right) \\rightarrow \\frac {\\ket{0} + (-1)^x \\ket{1}} {\\sqrt{2}}\\ket{\\psi}\n",
    "\\end{align*}\n",
    "\n"
   ]
  },
  {
   "cell_type": "markdown",
   "metadata": {},
   "source": [
    "Note that this is a special case of the phase estimation problem where we are trying to estimate eigenvalues of the operator $ X $. In this case, $ \\phi $ is either $ 0 $ or $ \\frac{1}{2} $ which can be determined by an Hadamard operator. Next we will see how to accomplish this in general."
   ]
  },
  {
   "cell_type": "markdown",
   "metadata": {},
   "source": [
    "<h2>Algorithm</h2>\n",
    "\n",
    "Our unitary matrix $ U $ and $\\ket{\\psi} $ is the given eigenvector.\n",
    "\n",
    "We use two registers.\n",
    "\n",
    "The first register contains $ t $ qubits which are in state $ \\ket{0} $. \n",
    "- $ t $ depends on the number of digits of accuracy and the probability of success while estimating $ \\phi $. We will come to details of $ t $ later on. \n",
    "- We name these qubits as $q_1,q_2,\\ldots,q_t$.\n",
    "\n",
    "The second register stores $ \\ket{\\psi} $.\n",
    "\n",
    "We apply a series of controlled-$ U^{2^j} $ operators for $ j \\in \\{0,\\ldots,t-1 \\} $."
   ]
  },
  {
   "cell_type": "markdown",
   "metadata": {},
   "source": [
    "### Initial state\n",
    "\n",
    "We start in state $\\underbrace{\\mypar{\\ket{0}\\otimes\\cdots\\otimes\\ket{0}}}_{1st~register}\\underbrace{\\ket{\\psi}}_{2nd~register}$."
   ]
  },
  {
   "cell_type": "markdown",
   "metadata": {},
   "source": [
    "### Hadamard operators\n",
    "\n",
    "First we apply a Hadamard operator to each qubit on the first register.\n",
    "\n",
    "The new quantum state is \n",
    "\n",
    "$ \\underbrace{\\dfrac {1}{2^{t/2}} \\big( \\mypar{\\ket{0}+\\ket{1}} \\otimes \\cdots \\otimes  \\mypar{\\ket{0}+\\ket{1}} \\big) }_{1st~register} \\; \\underbrace{ \\ket{\\psi} }_{2nd~register} $."
   ]
  },
  {
   "cell_type": "markdown",
   "metadata": {},
   "source": [
    "### Controlled-$U^{2^j}$ operators\n",
    "\n",
    "We apply $ U^{2^j} $ operator to the second register, controlled by $ q_{t-j} $ on the first register, where $j \\in \\{ 0,\\ldots, t-1 \\}$.\n",
    "\n",
    "As explained above, after applying each $ CU^{2^j} $, the relative phase of the control qubit will be updated accordingly.\n",
    "\n",
    "**$j=0$:** Apply $CU^{2^0}$ to the second register, where $q_t$ is the control qubit. Then, the state is \n",
    "\n",
    "$ \\underbrace{\\dfrac {1}{2^{t/2}} \\big( \\mypar{\\ket{0}+\\ket{1}} \\otimes \\cdots \\otimes  \\mypar{\\ket{0}+\\mathbf{e^{2{\\pi}i\\phi 2^0}}\\ket{1}} \\big) }_{1st~register} \\; \\underbrace{ \\ket{\\psi} }_{2nd~register} $.\n",
    "\n",
    "**$j=1$:** Apply $CU^{2^1}$ to the second register, where $ q_{t-1} $ is the control qubit. Then, the state is\n",
    "\n",
    "$ \\underbrace{\\dfrac {1}{2^{t/2}} \\big( \\mypar{\\ket{0}+\\ket{1}} \\otimes \\cdots \\otimes  \\mypar{\\ket{0}+\\mathbf{e^{2{\\pi}i\\phi 2^1}}\\ket{1}} \\otimes \\mypar{\\ket{0}+\\mathbf{e^{2{\\pi}i\\phi 2^0}}\\ket{1}} \\big) }_{1st~register} \\; \\underbrace{ \\ket{\\psi} }_{2nd~register} $.\n",
    "\n",
    "$ ~~~~  \\vdots $\n",
    "\n",
    "**$j=t-1$:** Apply $CU^{2^{t-1}}$ to the second register, where $q_1$ is the control qubit. Then, the state is\n",
    "\n",
    "$ \\underbrace{\\dfrac {1}{2^{t/2}} \\big( \\mypar{\\ket{0}+\\mathbf{e^{2{\\pi}i\\phi 2^{t-1}}}\\ket{1}} \\otimes \\cdots \\otimes  \\mypar{\\ket{0}+\\mathbf{e^{2{\\pi}i\\phi 2^1}}\\ket{1}} \\otimes \\mypar{\\ket{0}+\\mathbf{e^{2{\\pi}i\\phi 2^0}}\\ket{1}} \\big) }_{1st~register} \\; \\underbrace{ \\ket{\\psi} }_{2nd~register} $."
   ]
  },
  {
   "cell_type": "markdown",
   "metadata": {},
   "source": [
    "### Inverse QFT\n",
    "\n",
    "We are done with the second register, and we may remove or discard it.\n",
    "\n",
    "The state of the first register is \n",
    "\n",
    "$\\ket{u} = \\dfrac {1}{2^{t/2}} \\underbrace{\\mypar{\\ket{0}+\\mathbf{e^{2{\\pi}i\\phi 2^{t-1}}}\\ket{1}}}_{q_1} \\otimes \\cdots \\otimes \\underbrace{\\mypar{\\ket{0}+\\mathbf{e^{2{\\pi}i\\phi 2^1}}\\ket{1}}}_{q_{t-1}} \\otimes \\underbrace{\\mypar{\\ket{0}+\\mathbf{e^{2{\\pi}i\\phi 2^0}}\\ket{1}}}_{q_t}$."
   ]
  },
  {
   "cell_type": "markdown",
   "metadata": {},
   "source": [
    "This state is indeed the same as the state obtained by $ QFT\\ket{j} $:\n",
    "\n",
    "$ QFT\\ket{j} = \\dfrac{1}{\\sqrt{N}}  \n",
    "    \\underbrace{ \\mypar{\\ket{0}+e^{2\\pi i \\mathbf{[ 0.j_n ]} } \\ket{1} } }_{q_1} \\otimes  \n",
    "    \\underbrace{ \\mypar{\\ket{0}+e^{2\\pi i \\mathbf{[ 0.j_{n-1}j_n ]} } \\ket{1} } }_{q_{n-1}}  \\otimes \n",
    "    \\cdots  \\otimes \n",
    "    \\underbrace{ \\mypar{\\ket{0}+e^{2\\pi i \\mathbf{[ 0.j_1\\cdots j_n]} } \\ket{1} } }_{q_n} ,\n",
    "$\n",
    "\n",
    "where $ N = 2^n $ and $ \\ket{j} \\in \\{ \\ket{0},\\ldots,\\ket{N-1} \\} $.\n",
    "\n",
    "The only difference is that $ j $ is an integer and so the binary fraction component of a relative phase is stored on $ n $ bits. On the other hand, $ \\phi $ may use arbitrary number of bits or have infinitely many digits."
   ]
  },
  {
   "cell_type": "markdown",
   "metadata": {},
   "source": [
    "To show that $ \\ket{u} $ and $ QFT\\ket{j} $ are (almost) the same, we re-formed the relative phases in $ \\ket{u} $.\n",
    "\n",
    "Both $ t $ and $ n $ are the number of qubits. We can use them interchangeably.\n",
    "\n",
    "The value $ \\phi \\in [0,1) $ is represented in binary as $ [ 0.\\phi_1 \\phi_2 \\cdots \\phi_n \\phi_{n+1} \\cdots ] $.\n",
    "\n",
    "Multiplying $\\phi$ with the powers of 2 shifts the decimal point to the right:\n",
    "- $ \\phi 2^0 = [ 0 \\mathbf{.}\\phi_1 \\phi_2 \\cdots \\phi_n \\phi_{n+1} \\cdots ]  $\n",
    "- $ \\phi 2^1 = [\\phi_1 \\mathbf{.} \\phi_2 \\cdots \\phi_n \\phi_{n+1} \\cdots ]  $\n",
    "<br> $ ~~~ \\vdots $\n",
    "- $ \\phi 2^{n-1} = [ \\phi_1 \\phi_2 \\cdots \\phi_{n-1} \\mathbf{.} \\phi_n \\phi_{n+1} \\cdots ]  $\n",
    "\n",
    "These values are in the exponent of $ e $ and in multiplication with $ 2\\pi $. Thus, we can remove the integer parts.\n",
    "\n",
    "$ \\ket{u} = \\dfrac {1}{\\sqrt{N}} \\underbrace{\\mypar{\\ket{0}+e^{2{\\pi}i  \\mathbf{[0.\\phi_n\\cdots]} }}\\ket{1} }_{q_1} \\otimes \\underbrace{\\mypar{\\ket{0}+e^{2{\\pi}i \\mathbf{[0.\\phi_{n-1}\\phi_n\\cdots]} }}\\ket{1} }_{q_2} \\otimes \\cdots \\otimes \\underbrace{\\mypar{\\ket{0}+e^{2{\\pi}i \\mathbf{[0.\\phi_1 \\cdots \\phi_n\\cdots]} }}\\ket{1} }_{q_{n-1}} $."
   ]
  },
  {
   "cell_type": "markdown",
   "metadata": {},
   "source": [
    "It is clear that $ QFT^\\dagger QFT \\ket{j} = \\ket{j} $.\n",
    "\n",
    "So, to estimate $ \\phi $, we can simply apply $ QFT^\\dagger $ to $ \\ket{u} $ and then measure all qubits (on the first register)."
   ]
  },
  {
   "cell_type": "markdown",
   "metadata": {},
   "source": [
    "### Circuit\n",
    "\n",
    "Here is the whole circuit for quantum phase estimation algorithm."
   ]
  },
  {
   "cell_type": "markdown",
   "metadata": {},
   "source": [
    "<img src=\"https://gitlab.com/qworld/qeducation/qbook101/raw/main/qbook101/images/ch5/phase.png\" width=\"60%\" align=\"center\">"
   ]
  },
  {
   "cell_type": "markdown",
   "metadata": {},
   "source": [
    "The circuit uses $ O(t^2) $ gates with $ t $ calls of $ CU^{2^j} $s."
   ]
  },
  {
   "cell_type": "markdown",
   "metadata": {},
   "source": [
    "### Outcomes"
   ]
  },
  {
   "cell_type": "markdown",
   "metadata": {},
   "source": [
    "If there is $ \\ket{j} \\in \\{ \\ket{0},\\ldots,\\ket{N-1} \\} $ satisfying that $ j = N \\cdot \\phi $, then the outcome is $ \\ket{j} $ with probability 1 and so $ \\phi = \\dfrac{j}{N} $.\n",
    "\n",
    "Otherwise, $   N \\cdot \\phi $ is between integers $ j $ and $ j+1 $ ($ 0 \\leq j < j+1 \\leq N-1 $), then the outcome will be $ \\ket{j} $ or $ \\ket{j+1} $ with high probability. In either case, we will have an estimation of $ \\phi $: $ \\dfrac{j}{N} < \\phi < \\dfrac{j+1}{N} $. \n",
    "\n",
    "To have better estimation, more qubits can be used on the first register, i.e., choosing $ t = m + \\left \\lceil \\log \\left (2 + \\frac{1}{2\\varepsilon} \\right) \\right \\rceil $, we can approximate $\\phi$ accurate to $ m $ bits with probability of success at least $1 - \\epsilon$."
   ]
  },
  {
   "cell_type": "markdown",
   "metadata": {},
   "source": [
    "If we take any arbitrary state instead of $\\ket{\\psi}$, then we obtain an approximation to one of the eigenvalues with some probability. The reason behind is that we can express any quantum state as a linear combination of the eigenvectors.\n",
    "\n",
    "As we know how to implement $QFT^{\\dagger}$ efficiently, we have obtained an efficient algorithm for phase estimation as well. Many interesting problems reduce to phase estimation problem. "
   ]
  },
  {
   "cell_type": "markdown",
   "metadata": {},
   "source": [
    "## Examples"
   ]
  },
  {
   "cell_type": "markdown",
   "metadata": {},
   "source": [
    "### Single qubit unitary operator"
   ]
  },
  {
   "cell_type": "markdown",
   "metadata": {},
   "source": [
    "We consider a single qubit unitary operator $ U $ that has eigenvector $ \\ket{1} $ and eigenvalue $e^{2\\pi i \\phi}$ where $\\phi = \\frac{5}{16}$. \n",
    "\n",
    "The gate `CZPowGate(2*5/16)` in Cirq is a good candidate of $ U $ as we take its exponents easily."
   ]
  },
  {
   "cell_type": "code",
   "execution_count": null,
   "metadata": {},
   "outputs": [],
   "source": [
    "import cirq\n",
    "from cirq import CZPowGate\n",
    "\n",
    "def CU(power, qcontrol, target):\n",
    "    circuit = cirq.Circuit()\n",
    "    \n",
    "    circuit.append(CZPowGate(exponent = (2*5/16)*(2**power)).on(qcontrol, *target))\n",
    "    return circuit"
   ]
  },
  {
   "cell_type": "markdown",
   "metadata": {},
   "source": [
    "<h3>Task 3</h3>\n",
    "\n",
    "Pick $t=4$ and implement the phase estimation circuit to estimate $\\phi$.\n",
    "\n",
    "Use your `myInvQFT` method ([see previous notebook](D02_Quantum_Fourier_Transform.ipynb#task9)) for $ QFT^\\dagger $.\n",
    "\n",
    "\n",
    "Note that you should get an exact result since $t=4$ is precise enough."
   ]
  },
  {
   "cell_type": "code",
   "execution_count": null,
   "metadata": {},
   "outputs": [],
   "source": [
    "import cirq\n",
    "from cirq import X, H, SWAP, CZPowGate, measure\n",
    "\n",
    "#\n",
    "# your code here\n",
    "#\n"
   ]
  },
  {
   "cell_type": "markdown",
   "metadata": {},
   "source": [
    "To check out our solution, run the next cell:"
   ]
  },
  {
   "cell_type": "code",
   "execution_count": null,
   "metadata": {},
   "outputs": [],
   "source": [
    "SolutionToTask3()  # show solution for task 3"
   ]
  },
  {
   "cell_type": "markdown",
   "metadata": {},
   "source": [
    "<h3>Task 4</h3>\n",
    "\n",
    "Repeat Task 3 by using only three qubits on the first register ($t=3$).\n",
    "\n",
    "What do you expect to see?"
   ]
  },
  {
   "cell_type": "code",
   "execution_count": null,
   "metadata": {
    "scrolled": true
   },
   "outputs": [],
   "source": [
    "import cirq\n",
    "from cirq import X, H, SWAP, CZPowGate, measure\n",
    "\n",
    "#\n",
    "# your code here\n",
    "#\n"
   ]
  },
  {
   "cell_type": "markdown",
   "metadata": {},
   "source": [
    "To check out our solution, run the next cell:"
   ]
  },
  {
   "cell_type": "code",
   "execution_count": null,
   "metadata": {},
   "outputs": [],
   "source": [
    "SolutionToTask4()  # show solution for task 4"
   ]
  },
  {
   "cell_type": "markdown",
   "metadata": {},
   "source": [
    "<h3>Task 5</h3>\n",
    "\n",
    "Update $ CU $ with $\\phi=0.685$.\n",
    "\n",
    "Repeat Task 3 for different $t$ values between 1 and 10.\n",
    "- Execute your circuits 1000 times.\n",
    "- Pick the outcome with highest frequency. "
   ]
  },
  {
   "cell_type": "code",
   "execution_count": null,
   "metadata": {},
   "outputs": [],
   "source": [
    "import cirq\n",
    "from cirq import X, H, SWAP, CZPowGate, measure\n",
    "\n",
    "#\n",
    "# your code here\n",
    "#\n"
   ]
  },
  {
   "cell_type": "markdown",
   "metadata": {},
   "source": [
    "To check out our solution, run the next cell:"
   ]
  },
  {
   "cell_type": "code",
   "execution_count": null,
   "metadata": {},
   "outputs": [],
   "source": [
    "SolutionToTask5()  # show solution for task 5"
   ]
  },
  {
   "cell_type": "markdown",
   "metadata": {},
   "source": [
    "### Two-qubit unitary operator"
   ]
  },
  {
   "cell_type": "markdown",
   "metadata": {},
   "source": [
    "By using controlled `CZPowGate`, we can obtian a simple two-qubit operator. \n",
    "\n",
    "We set $ \\phi = 0.31415926535 $. Thus,  $ \\ket{11} $ is an eigenvector with eigenvalue $ \\phi $."
   ]
  },
  {
   "cell_type": "code",
   "execution_count": null,
   "metadata": {},
   "outputs": [],
   "source": [
    "import cirq\n",
    "from cirq import CZPowGate\n",
    "\n",
    "def CU2(power, qcontrol, target):\n",
    "    circuit = cirq.Circuit()\n",
    "    \n",
    "    circuit.append(CZPowGate(exponent = (2*0.31415926535)*(2**power)).controlled().on(qcontrol, *target))\n",
    "    return circuit"
   ]
  },
  {
   "cell_type": "markdown",
   "metadata": {},
   "source": [
    "<h3>Task 6</h3>\n",
    "\n",
    "Repeat Task 5 for $ CU2 $ and $ \\ket{11} $.  \n",
    "\n",
    "_The unknown $ \\phi = 0.31415926535 $._"
   ]
  },
  {
   "cell_type": "code",
   "execution_count": null,
   "metadata": {},
   "outputs": [],
   "source": [
    "import cirq\n",
    "from cirq import X, H, SWAP, CZPowGate, measure\n",
    "\n",
    "#\n",
    "# your code here\n",
    "#\n"
   ]
  },
  {
   "cell_type": "markdown",
   "metadata": {},
   "source": [
    "To check out our solution, run the next cell:"
   ]
  },
  {
   "cell_type": "code",
   "execution_count": null,
   "metadata": {},
   "outputs": [],
   "source": [
    "SolutionToTask6()  # show solution for task 6"
   ]
  }
 ],
 "metadata": {
  "kernelspec": {
   "display_name": "Python 3 (ipykernel)",
   "language": "python",
   "name": "python3"
  },
  "language_info": {
   "codemirror_mode": {
    "name": "ipython",
    "version": 3
   },
   "file_extension": ".py",
   "mimetype": "text/x-python",
   "name": "python",
   "nbconvert_exporter": "python",
   "pygments_lexer": "ipython3",
   "version": "3.11.4"
  }
 },
 "nbformat": 4,
 "nbformat_minor": 4
}
