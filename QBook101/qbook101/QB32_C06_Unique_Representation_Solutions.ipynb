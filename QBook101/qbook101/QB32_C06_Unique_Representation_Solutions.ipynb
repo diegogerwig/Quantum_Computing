{
 "cells": [
  {
   "cell_type": "markdown",
   "metadata": {},
   "source": [
    "<a href=\"https://qworld.net\" target=\"_blank\" align=\"left\"><img src=\"https://gitlab.com/qworld/qeducation/qbook101/raw/main/qworld/images/header.jpg\" align=\"left\"></a>\n",
    "$ \\newcommand{\\bra}[1]{\\langle #1|} $\n",
    "$ \\newcommand{\\ket}[1]{|#1\\rangle} $\n",
    "$ \\newcommand{\\braket}[2]{\\langle #1|#2\\rangle} $\n",
    "$ \\newcommand{\\dot}[2]{ #1 \\cdot #2} $\n",
    "$ \\newcommand{\\inner}[2]{\\langle #1,#2\\rangle} $\n",
    "$ \\newcommand{\\biginner}[2]{\\left\\langle #1,#2\\right\\rangle} $\n",
    "$ \\newcommand{\\mymatrix}[2]{\\left( \\begin{array}{#1} #2\\end{array} \\right)} $\n",
    "$ \\newcommand{\\myvector}[1]{\\mymatrix{c}{#1}} $\n",
    "$ \\newcommand{\\myrvector}[1]{\\mymatrix{r}{#1}} $\n",
    "$ \\newcommand{\\mypar}[1]{\\left( #1 \\right)} $\n",
    "$ \\newcommand{\\mybigpar}[1]{ \\Big( #1 \\Big)} $\n",
    "$ \\newcommand{\\sqrttwo}{\\frac{1}{\\sqrt{2}}} $\n",
    "$ \\newcommand{\\dsqrttwo}{\\dfrac{1}{\\sqrt{2}}} $\n",
    "$ \\newcommand{\\onehalf}{\\frac{1}{2}} $\n",
    "$ \\newcommand{\\donehalf}{\\dfrac{1}{2}} $\n",
    "$ \\newcommand{\\hadamard}{ \\mymatrix{rr}{ \\sqrttwo & \\sqrttwo \\\\ \\sqrttwo & -\\sqrttwo }} $\n",
    "$ \\newcommand{\\vzero}{\\myvector{1\\\\0}} $\n",
    "$ \\newcommand{\\vone}{\\myvector{0\\\\1}} $\n",
    "$ \\newcommand{\\stateplus}{\\myvector{ \\sqrttwo \\\\  \\sqrttwo } } $\n",
    "$ \\newcommand{\\stateminus}{ \\myrvector{ \\sqrttwo \\\\ -\\sqrttwo } } $\n",
    "$ \\newcommand{\\myarray}[2]{ \\begin{array}{#1}#2\\end{array}} $\n",
    "$ \\newcommand{\\X}{ \\mymatrix{cc}{0 & 1 \\\\ 1 & 0}  } $\n",
    "$ \\newcommand{\\Z}{ \\mymatrix{rr}{1 & 0 \\\\ 0 & -1}  } $\n",
    "$ \\newcommand{\\Htwo}{ \\mymatrix{rrrr}{ \\frac{1}{2} & \\frac{1}{2} & \\frac{1}{2} & \\frac{1}{2} \\\\ \\frac{1}{2} & -\\frac{1}{2} & \\frac{1}{2} & -\\frac{1}{2} \\\\ \\frac{1}{2} & \\frac{1}{2} & -\\frac{1}{2} & -\\frac{1}{2} \\\\ \\frac{1}{2} & -\\frac{1}{2} & -\\frac{1}{2} & \\frac{1}{2} } } $\n",
    "$ \\newcommand{\\CNOT}{ \\mymatrix{cccc}{1 & 0 & 0 & 0 \\\\ 0 & 1 & 0 & 0 \\\\ 0 & 0 & 0 & 1 \\\\ 0 & 0 & 1 & 0} } $\n",
    "$ \\newcommand{\\norm}[1]{ \\left\\lVert #1 \\right\\rVert } $\n",
    "$ \\newcommand{\\pstate}[1]{ \\lceil \\mspace{-1mu} #1 \\mspace{-1.5mu} \\rfloor } $\n",
    "$ \\newcommand{\\len}[1]{\\|#1\\|} $\n",
    "$ \\newcommand{\\uniquerep}{\\cos\\mypar{\\frac{\\theta}{2}} \\ket{0} + e^{i\\phi} \\sin\\mypar{\\frac{\\theta}{2}} \\ket{1}} $"
   ]
  },
  {
   "cell_type": "markdown",
   "metadata": {},
   "source": [
    "_prepared by Maksim Dimitrijev and Abuzer Yakaryilmaz_"
   ]
  },
  {
   "cell_type": "markdown",
   "metadata": {},
   "source": [
    "<font size=\"28px\" style=\"font-size:28px;\" align=\"left\"><b> <font color=\"blue\"> Solutions for </font>Unique representation</b></font>\n",
    "<br>\n",
    "<br><br>"
   ]
  },
  {
   "cell_type": "markdown",
   "metadata": {},
   "source": [
    "<a name=\"task1\"></a>\n",
    "<h3> Task 1 </h3>\n",
    "\n",
    "What is the unique representation for the quantum state $ \\ket{u} = \\dfrac{-i}{\\sqrt{6}} \\ket{0} - \\dfrac{1-2i}{\\sqrt{6}} \\ket{1} $?\n",
    "\n",
    "You may define the relative phase as an inverse trigonometric function or find its value by using Python."
   ]
  },
  {
   "cell_type": "markdown",
   "metadata": {},
   "source": [
    "### Solution"
   ]
  },
  {
   "cell_type": "markdown",
   "metadata": {},
   "source": [
    "We start with factoring out $ -i $:\n",
    "\n",
    "$ \\ket{u} = -i \\mypar{ \\dfrac{1}{\\sqrt{6}} \\ket{0} + \\dfrac{\\sqrt{5}}{\\sqrt{6}} \n",
    "\\mypar{ \\dfrac{2i-1}{-i\\sqrt{5}} } \\ket{1} } $.\n",
    "\n",
    "We will remove the global phase $ -i $. \n",
    "\n",
    "We put $ \\dfrac{2i-1}{-i\\sqrt{5}}  $ in the form $ e^{i\\phi} $:\n",
    "\n",
    "$ \\dfrac{2i-1}{-i\\sqrt{5}} = \\dfrac{2i+i^2}{-i\\sqrt{5}} = \\dfrac{-2-i}{\\sqrt{5}}  $. So, $ \\phi $ is in the third quadrant, and it is $ \\phi = \\sin^{-1} \\mypar{ \\dfrac{1}{\\sqrt{5}} } + \\pi $.\n",
    "\n",
    "$ \\ket{u'} = \\dfrac{1}{\\sqrt{6}} \\ket{0} + \\dfrac{\\sqrt{5}}{\\sqrt{6}} e^{i\\phi} \\ket{1} $."
   ]
  },
  {
   "cell_type": "code",
   "execution_count": null,
   "metadata": {
    "scrolled": true
   },
   "outputs": [],
   "source": [
    "from math import asin, sqrt, pi\n",
    "\n",
    "# we can find phi for sin(phi) = 1/sqrt(5) and then add pi\n",
    "\n",
    "# first quadrant\n",
    "phi = asin(1/sqrt(5))\n",
    "print(phi)\n",
    "\n",
    "# third quadrant\n",
    "phi = phi + pi\n",
    "print(phi)\n",
    "\n",
    "# multiple of pi\n",
    "phi = phi/pi\n",
    "print(phi)\n",
    "\n",
    "print()\n",
    "print(\"r1 =\",round(1/sqrt(6),3))\n",
    "print(\"r2 =\",round(sqrt(5)/sqrt(6),3))\n",
    "print(\"phi ≈\",round(phi,3),\"pi\")"
   ]
  },
  {
   "cell_type": "markdown",
   "metadata": {},
   "source": [
    "<a name=\"task2\"></a>\n",
    "<h3> Task 2 </h3>\n",
    "\n",
    "Write a python function called \"euler_formula\" that takes a complex number $c$ and returns $ (r,\\theta) $ such that $ c = r e^{i\\theta} $.\n",
    "\n",
    "Test your function with the following complex numbers ($r$ and $\\theta$ values are given for the verification):\n",
    "\n",
    "$ \\begin{array}{lll}\n",
    "    c_1 = 1 + i & r=\\sqrt{2} & \\theta = \\frac{\\pi}{4} \\\\\n",
    "    c_2 = -1 + i\\sqrt{3} &  r=2 & \\theta = \\frac{2\\pi}{3}\\\\\n",
    "    c_3 = -\\sqrt{3} - i & r = 2 & \\theta = \\frac{7\\pi}{6} \\\\\n",
    "    c_4 = 1 - i & r=\\sqrt{2} &  \\theta = -\\frac{\\pi}{4}\n",
    "\\end{array}$"
   ]
  },
  {
   "cell_type": "markdown",
   "metadata": {},
   "source": [
    "### Solution"
   ]
  },
  {
   "cell_type": "code",
   "execution_count": null,
   "metadata": {},
   "outputs": [],
   "source": [
    "from math import asin, pi, sqrt\n",
    "\n",
    "def euler_formula(c):\n",
    "    Re = c.real\n",
    "    Im = c.imag\n",
    "    r = sqrt(Re*Re+Im*Im)\n",
    "    \n",
    "    theta = asin(Im/r)\n",
    "    \n",
    "    if Re<0: # second or third quadrant\n",
    "        theta = pi-theta\n",
    "    return(r,theta)"
   ]
  },
  {
   "cell_type": "markdown",
   "metadata": {},
   "source": [
    "<a name=\"task3\"></a>\n",
    "### Task 3\n",
    "\n",
    "Write a python function \"unique_representation\" that takes the amplitudes of $ \\ket{0} $ and $ \\ket{1} $ as complex numbers and then return the components of unique representation $r_1 $, $r_2$, and $\\phi$.\n",
    "\n",
    "Test your function with the following quantum states (check our solutions for the verification of results).\n",
    "\n",
    "- $ \\ket{u_1} = \\dfrac{-i}{\\sqrt{6}} \\ket{0} - \\dfrac{1-2i}{\\sqrt{6}} \\ket{1} $\n",
    "- $ \\ket{u_2} = \\dfrac{1}{\\sqrt{2}} \\ket{0} - \\dfrac{1}{\\sqrt{2}} \\ket{1} $\n",
    "- $ \\ket{u_3} = \\dfrac{i}{\\sqrt{2}} \\ket{0} - \\dfrac{i}{\\sqrt{2}} \\ket{1} $\n",
    "- $ \\ket{u_4} = \\dfrac{1-2i}{\\sqrt{5}} \\ket{0} $\n",
    "- $ \\ket{u_5} = \\dfrac{2i-3}{\\sqrt{13}} \\ket{1} $"
   ]
  },
  {
   "cell_type": "markdown",
   "metadata": {},
   "source": [
    "### Solution"
   ]
  },
  {
   "cell_type": "code",
   "execution_count": null,
   "metadata": {},
   "outputs": [],
   "source": [
    "from math import asin, pi, sqrt\n",
    "\n",
    "def euler_formula(c):\n",
    "    Re = c.real\n",
    "    Im = c.imag\n",
    "    r = sqrt(Re*Re+Im*Im)\n",
    "    \n",
    "    theta = asin(Im/r)\n",
    "    \n",
    "    if Re<0: # second or third quadrant\n",
    "        theta = pi-theta\n",
    "    return(r,theta)\n",
    "\n",
    "def unique_representation(c1,c2):\n",
    "    if c1==0:\n",
    "        r1 = theta1 = 0\n",
    "    else:\n",
    "        [r1,theta1] = euler_formula(c1)\n",
    "    if c2==0:\n",
    "        r2=theta2 = 0\n",
    "    else:\n",
    "        [r2,theta2] = euler_formula(c2)\n",
    "        \n",
    "    return [r1,r2,theta2-theta1]"
   ]
  },
  {
   "cell_type": "code",
   "execution_count": null,
   "metadata": {},
   "outputs": [],
   "source": [
    "from math import sqrt\n",
    "#\n",
    "# your solution is here\n",
    "#\n",
    "states = [\n",
    "    [ complex(0,-1/sqrt(6)) , complex(-1/sqrt(6),2/sqrt(6))],\n",
    "    [ complex(1/sqrt(2),0) , complex(-1/sqrt(2),0) ],\n",
    "    [ complex(0,1/sqrt(2)) , complex(0,-1/sqrt(2)) ],\n",
    "    [ complex(1/sqrt(5),-2/sqrt(5)) , 0 ],\n",
    "    [ 0 , complex(-3/sqrt(13),2/sqrt(13)) ]\n",
    "]\n",
    "\n",
    "for state in states:\n",
    "    [alpha, beta] = state\n",
    "    [r1,r2,phi] = unique_representation(alpha,beta)\n",
    "    print(\"the state is\")\n",
    "    c1 = complex( round(state[0].real,3) , round(state[0].imag,3) )\n",
    "    c2 = complex( round(state[1].real,3) , round(state[1].imag,3) )\n",
    "    print(c1,\"|0> + \",c2,\"|1>\")\n",
    "    r1 = round(r1,3)\n",
    "    r2 = round(r2,3)\n",
    "    multiple_of_pi = round(phi/pi,3)\n",
    "    phi = round(phi,3)\n",
    "    print(\"the unique representation is\")\n",
    "    print(r1,\"|0> +\",r2,\"exp(i(\",multiple_of_pi,\")π) |1>\")\n",
    "    print()"
   ]
  },
  {
   "cell_type": "code",
   "execution_count": null,
   "metadata": {
    "scrolled": true
   },
   "outputs": [],
   "source": [
    "complex_numbers = [complex(1,1), complex(-1,sqrt(3)), complex(-1*sqrt(3),-1),  complex(1,-1)]\n",
    "\n",
    "for c in complex_numbers:\n",
    "    E = euler_formula(c)\n",
    "    r = E[0]\n",
    "    theta = E[1]\n",
    "    multiple_of_pi = theta/pi\n",
    "    print(c,\"=>\",\"r =\",round(r,3),\"theta =\",round(multiple_of_pi,3))\n",
    "    print()"
   ]
  },
  {
   "cell_type": "markdown",
   "metadata": {},
   "source": [
    "<a name=\"task4\"></a>\n",
    "### Task 4\n",
    "\n",
    "What is the exception of the uniquie representation? \n",
    "\n",
    "It is a set of infinetely many quantum states in the form of unique representation, but any pair of states from this set is not distinguishable. \n",
    "\n",
    "_Hint: In which case does the relative phase turns out to be a global phase?_"
   ]
  },
  {
   "cell_type": "markdown",
   "metadata": {},
   "source": [
    "### Solution\n",
    "\n",
    "Let's closely look at the unique representation $ \\uniquerep$.\n",
    "\n",
    "For $ \\theta = \\pi $, the relative phase turns our to be a global phase: $ e^{i\\phi} \\ket{1} $.\n",
    "\n",
    "So, the set $ \\{e^{i\\phi} \\ket{1} \\mid \\phi \\in [0,2\\pi)\\} $ has infinitely many different states, and each of them is in the form of unique representation, however, the overall set represents the singe state equivalent to $ \\ket{1} $."
   ]
  },
  {
   "cell_type": "markdown",
   "metadata": {},
   "source": [
    "<a name=\"task5\"></a>\n",
    "### Task 5\n",
    "\n",
    "What are the exceptions if we define the uniquie representation with the pair of angles $ (\\theta,\\phi) $?"
   ]
  },
  {
   "cell_type": "markdown",
   "metadata": {},
   "source": [
    "### Solution\n",
    "\n",
    "The extreme cases for $ \\theta $ are the exceptions according this definition.\n",
    "\n",
    "- $ \\{(0,\\phi) \\mid \\phi \\in [0,2\\pi) $: all states are equvalent to $ \\ket{0} $.\n",
    "- $ \\{(\\pi,\\phi) \\mid \\phi \\in [0,2\\pi) $: all states are equvalent to $ \\ket{1} $"
   ]
  }
 ],
 "metadata": {
  "kernelspec": {
   "display_name": "Python 3 (ipykernel)",
   "language": "python",
   "name": "python3"
  },
  "language_info": {
   "codemirror_mode": {
    "name": "ipython",
    "version": 3
   },
   "file_extension": ".py",
   "mimetype": "text/x-python",
   "name": "python",
   "nbconvert_exporter": "python",
   "pygments_lexer": "ipython3",
   "version": "3.11.4"
  }
 },
 "nbformat": 4,
 "nbformat_minor": 4
}
