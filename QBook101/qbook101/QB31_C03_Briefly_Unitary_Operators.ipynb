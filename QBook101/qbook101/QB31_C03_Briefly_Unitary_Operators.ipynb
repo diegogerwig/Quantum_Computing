{
 "cells": [
  {
   "cell_type": "markdown",
   "metadata": {},
   "source": [
    "<a href=\"https://qworld.net\" target=\"_blank\" align=\"left\"><img src=\"https://gitlab.com/qworld/qeducation/qbook101/raw/main/qworld/images/header.jpg\" align=\"left\"></a>\n",
    "$ \\newcommand{\\bra}[1]{\\langle #1|} $\n",
    "$ \\newcommand{\\ket}[1]{|#1\\rangle} $\n",
    "$ \\newcommand{\\braket}[2]{\\langle #1|#2\\rangle} $\n",
    "$ \\newcommand{\\dot}[2]{ #1 \\cdot #2} $\n",
    "$ \\newcommand{\\biginner}[2]{\\left\\langle #1,#2\\right\\rangle} $\n",
    "$ \\newcommand{\\mymatrix}[2]{\\left( \\begin{array}{#1} #2\\end{array} \\right)} $\n",
    "$ \\newcommand{\\myvector}[1]{\\mymatrix{c}{#1}} $\n",
    "$ \\newcommand{\\myrvector}[1]{\\mymatrix{r}{#1}} $\n",
    "$ \\newcommand{\\mypar}[1]{\\left( #1 \\right)} $\n",
    "$ \\newcommand{\\mybigpar}[1]{ \\Big( #1 \\Big)} $\n",
    "$ \\newcommand{\\sqrttwo}{\\frac{1}{\\sqrt{2}}} $\n",
    "$ \\newcommand{\\dsqrttwo}{\\dfrac{1}{\\sqrt{2}}} $\n",
    "$ \\newcommand{\\onehalf}{\\frac{1}{2}} $\n",
    "$ \\newcommand{\\donehalf}{\\dfrac{1}{2}} $\n",
    "$ \\newcommand{\\hadamard}{ \\mymatrix{rr}{ \\sqrttwo & \\sqrttwo \\\\ \\sqrttwo & -\\sqrttwo }} $\n",
    "$ \\newcommand{\\vzero}{\\myvector{1\\\\0}} $\n",
    "$ \\newcommand{\\vone}{\\myvector{0\\\\1}} $\n",
    "$ \\newcommand{\\stateplus}{\\myvector{ \\sqrttwo \\\\  \\sqrttwo } } $\n",
    "$ \\newcommand{\\stateminus}{ \\myrvector{ \\sqrttwo \\\\ -\\sqrttwo } } $\n",
    "$ \\newcommand{\\myarray}[2]{ \\begin{array}{#1}#2\\end{array}} $\n",
    "$ \\newcommand{\\X}{ \\mymatrix{cc}{0 & 1 \\\\ 1 & 0}  } $\n",
    "$ \\newcommand{\\Z}{ \\mymatrix{rr}{1 & 0 \\\\ 0 & -1}  } $\n",
    "$ \\newcommand{\\Htwo}{ \\mymatrix{rrrr}{ \\frac{1}{2} & \\frac{1}{2} & \\frac{1}{2} & \\frac{1}{2} \\\\ \\frac{1}{2} & -\\frac{1}{2} & \\frac{1}{2} & -\\frac{1}{2} \\\\ \\frac{1}{2} & \\frac{1}{2} & -\\frac{1}{2} & -\\frac{1}{2} \\\\ \\frac{1}{2} & -\\frac{1}{2} & -\\frac{1}{2} & \\frac{1}{2} } } $\n",
    "$ \\newcommand{\\CNOT}{ \\mymatrix{cccc}{1 & 0 & 0 & 0 \\\\ 0 & 1 & 0 & 0 \\\\ 0 & 0 & 0 & 1 \\\\ 0 & 0 & 1 & 0} } $\n",
    "$ \\newcommand{\\norm}[1]{ \\left\\lVert #1 \\right\\rVert } $\n",
    "$ \\newcommand{\\pstate}[1]{ \\lceil \\mspace{-1mu} #1 \\mspace{-1.5mu} \\rfloor } $\n",
    "$ \\newcommand{\\Y}{ \\mymatrix{rr}{0 & -i \\\\ i & 0} } $\n",
    "$ \\newcommand{\\S}{ \\mymatrix{rr}{1 & 0 \\\\ 0 & i} } $\n",
    "$ \\newcommand{\\T}{ \\mymatrix{rr}{1 & 0 \\\\ 0 & e^{i \\frac{\\pi}{4}}} } $\n",
    "$ \\newcommand{\\Sdg}{ \\mymatrix{rr}{1 & 0 \\\\ 0 & -i} } $ \n",
    "$ \\newcommand{\\Tdg}{ \\mymatrix{rr}{1 & 0 \\\\ 0 & e^{-i \\frac{\\pi}{4}}} } $\n",
    "$ \\newcommand{\\qgate}[1]{ \\mathop{\\\\textit{#1} } }$"
   ]
  },
  {
   "cell_type": "markdown",
   "metadata": {},
   "source": [
    "_prepared by Maksim Dimitrijev and Abuzer Yakaryilmaz_"
   ]
  },
  {
   "cell_type": "markdown",
   "metadata": {},
   "source": [
    "<font size=\"28px\" style=\"font-size:28px;\" align=\"left\"><b>Briefly unitary operators</b></font>\n",
    "<br>\n",
    "<br><br>"
   ]
  },
  {
   "cell_type": "markdown",
   "metadata": {
    "jp-MarkdownHeadingCollapsed": true
   },
   "source": [
    "##### <font color=\"#08b806\">Please execute the following cell, it is necessary to distinguish between your local environment and Google Colab's"
   ]
  },
  {
   "cell_type": "code",
   "execution_count": null,
   "metadata": {},
   "outputs": [],
   "source": [
    "import IPython\n",
    "\n",
    "def in_colab():\n",
    "    try:\n",
    "        import google.colab\n",
    "        return True\n",
    "    except:\n",
    "        return False\n",
    "\n",
    "path_files = \"./\" if in_colab() else \"../qworld/include/\"\n",
    "\n",
    "SolutionToTask1 = lambda: IPython.display.display(IPython.display.Javascript('window.open(\"{url}\");'.format(url='https://colab.research.google.com/drive/1jynmgQ7ejXKuIaunzriQgqH0UJ3edZXZ?usp=sharing#scrollTo=agzOJ-EGtOcH' if in_colab() else 'QB31_C03_Briefly_Unitary_Operators_Solutions.ipynb#task1')))\n",
    "SolutionToTask2 = lambda: IPython.display.display(IPython.display.Javascript('window.open(\"{url}\");'.format(url='https://colab.research.google.com/drive/1jynmgQ7ejXKuIaunzriQgqH0UJ3edZXZ?usp=sharing#scrollTo=g2n_RuHTtOcI' if in_colab() else 'QB31_C03_Briefly_Unitary_Operators_Solutions.ipynb#task2')))\n",
    "SolutionToTask3 = lambda: IPython.display.display(IPython.display.Javascript('window.open(\"{url}\");'.format(url='https://colab.research.google.com/drive/1jynmgQ7ejXKuIaunzriQgqH0UJ3edZXZ?usp=sharing#scrollTo=LcGuNRL6tOcJ' if in_colab() else 'QB31_C03_Briefly_Unitary_Operators_Solutions.ipynb#task3')))\n",
    "SolutionToTask4 = lambda: IPython.display.display(IPython.display.Javascript('window.open(\"{url}\");'.format(url='https://colab.research.google.com/drive/1jynmgQ7ejXKuIaunzriQgqH0UJ3edZXZ?usp=sharing#scrollTo=bJAtlsaetOcK' if in_colab() else 'QB31_C03_Briefly_Unitary_Operators_Solutions.ipynb#task4')))\n",
    "\n",
    "if in_colab():\n",
    "    url = \"https://gitlab.com/qworld/qeducation/qbook101/raw/main/qworld/include/random_complex_quantum_state.py\"\n",
    "    !wget --no-cache -O random_complex_quantum_state.py {url}\n",
    "\n",
    "    url = \"https://gitlab.com/qworld/qeducation/qbook101/raw/main/qworld/include/is_quantum_state.py\"\n",
    "    !wget --no-cache -O is_quantum_state.py {url}"
   ]
  },
  {
   "cell_type": "markdown",
   "metadata": {},
   "source": [
    "##### We have different and equivalent definitions of unitary matrices. Let $ U \\in \\mathbb{C}^{n \\times n} $ be a unitary matrix. Then:\n",
    "\n",
    "- $ U $ is length preserving.\n",
    "- The columns of $ U $ form an orthonormal set.\n",
    "- $ U^{\\dagger}U=I $ and $ U^{-1} = U^{\\dagger} $. (Remember that $ U^\\dagger $ is the conjugate transpose of $U$.)\n",
    "- The rows of $ U $ form an orthonormal set.\n",
    "\n",
    "Remark that $ U^\\dagger $ is unitary, as well, and $ U $ is a reversible operator."
   ]
  },
  {
   "cell_type": "markdown",
   "metadata": {},
   "source": [
    "## Conjugate transpose of a matrix"
   ]
  },
  {
   "cell_type": "markdown",
   "metadata": {},
   "source": [
    "Here we explicitly represent the conjugate transpose of a matrix.\n",
    "\n",
    "Let $ U $ be the unitary matrix \n",
    "$ \n",
    "U = \\mymatrix{cccc}{\n",
    "    a_{11} & a_{12} & \\ldots & a_{1n} \\\\\n",
    "    a_{21} & a_{22} & \\ldots & a_{2n} \\\\\n",
    "    \\vdots & \\vdots & \\ddots & \\vdots \\\\\n",
    "    a_{n1} & a_{n2} & \\ldots & a_{nn}\n",
    "    } .\n",
    "$\n",
    "\n",
    "To obtain $ U^\\dagger $, we exchange the rows and columns (the $k$th row becomes the $k$th column) as well as conjugate each value:\n",
    "\n",
    "$ \n",
    "U^\\dagger = \\mymatrix{cccc}{\n",
    "    a_{11}^* & a_{21}^* & \\ldots & a_{n1}^* \\\\\n",
    "    a_{12}^* & a_{22}^* & \\ldots & a_{n2}^* \\\\\n",
    "    \\vdots & \\vdots & \\ddots & \\vdots \\\\\n",
    "    a_{1n}^* & a_{2n}^* & \\ldots & a_{nn}^*\n",
    "    } .\n",
    "$"
   ]
  },
  {
   "cell_type": "markdown",
   "metadata": {},
   "source": [
    "## One qubit unitary operators\n",
    "\n",
    "We review a few one-qubit unitary operators for warming up."
   ]
  },
  {
   "cell_type": "markdown",
   "metadata": {},
   "source": [
    "### Hadamard\n",
    "\n",
    "We start with Hadamard operator.\n",
    "\n",
    "$\n",
    "    H = \\hadamard.\n",
    "$\n",
    "\n",
    "It is easy to see that $H^{\\dagger} = H$, and $ HH= I $. Thus, $ H $ is a unitary operator, and so, a length preserving operator.\n",
    "\n",
    "Let $ \\ket{u} = \\myvector{ \\frac{1+i}{\\sqrt{3}} \\\\ -\\frac{1}{\\sqrt{3}} } $ be a quantum state.\n",
    "Observe that $ \\norm{u}^2 = \\braket{u}{u} = \\mypar{ \\frac{1-i}{\\sqrt{3}} ~~~ -\\frac{1}{\\sqrt{3}}  }  \\myvector{ \\frac{1+i}{\\sqrt{3}} \\\\ -\\frac{1}{\\sqrt{3}} } = \\frac{1-i^2}{3} + \\frac{1}{3} = \\frac{1-(-1)+1}{3} = 1 $."
   ]
  },
  {
   "cell_type": "markdown",
   "metadata": {},
   "source": [
    "We calculate $ \\ket{u'} = H \\ket{u} $.\n",
    "\n",
    "$ \\ket{u'} = \\hadamard \\myvector{ \\frac{1+i}{\\sqrt{3}} \\\\ -\\frac{1}{\\sqrt{3}} } = \\myvector{ \\left (\\frac{1+i}{\\sqrt{3}} \\cdot \\frac{1}{\\sqrt{2}} \\right ) + \n",
    "\\left(-\\frac{1}{\\sqrt{3}} \\cdot \\frac{1}{\\sqrt{2}} \\right ) \\\\ \\left ( \\frac{1+i}{\\sqrt{3}} \\cdot \\frac{1}{\\sqrt{2}} \\right ) +\n",
    "\\left ( -\\frac{1}{\\sqrt{3}} \\cdot -\\frac{1}{\\sqrt{2}} \\right ) } = \\myvector{ \\frac{1+i-1}{\\sqrt{6}} \\\\ \\frac{1+i+1}{\\sqrt{6}} } = \\myvector{ \\frac{i}{\\sqrt{6}} \\\\ \\frac{2+i}{\\sqrt{6}} }.\n",
    " $\n",
    "\n",
    "Then, we check $ \\norm{u'}^2 = \\braket{u'}{u'} = \\mypar{\\frac{-i}{\\sqrt{6}} ~~~ \\frac{2-i}{\\sqrt{6}} } \\myvector{ \\frac{i}{\\sqrt{6}} \\\\ \\frac{2+i}{\\sqrt{6}} } = \\frac{-i^2}{6} + \\frac{4-i^2}{6} \\ \\frac{-(-1)+4-(-1)}{6} = 1 $."
   ]
  },
  {
   "cell_type": "markdown",
   "metadata": {},
   "source": [
    "### Pauli matrices\n",
    "\n",
    "Pauli matrices are well-known and fundamental single-qubit unitary operators.\n",
    "\n",
    "There are three Pauli matrices: $ X $, $ Y $, and $ Z $, which are rotations by $ \\pi $ respectively over the $ x $-axis, the $ y $-axis, and the $z$-axis.\n",
    "\n",
    "In our tutorial Bronze, we introduce $ X = \\X $ and $ Z = \\Z $, which do not have any entry with imaginary numbers.\n",
    "\n",
    "On the other hand, $ Y = \\Y $ has imaginary numbers in its off-diagonal entries.\n",
    "\n",
    "Similar to $ H $, $ X^\\dagger = X $, $ Y^\\dagger = Y $, and $ Z^\\dagger = Z $."
   ]
  },
  {
   "cell_type": "markdown",
   "metadata": {},
   "source": [
    "<h3> Task 1 </h3>\n",
    "\n",
    "Verify that $Y^{\\dagger} = Y$ and that $YY = I$.\n",
    "\n"
   ]
  },
  {
   "cell_type": "markdown",
   "metadata": {},
   "source": [
    "To check out our solution, run the next cell:"
   ]
  },
  {
   "cell_type": "code",
   "execution_count": null,
   "metadata": {},
   "outputs": [],
   "source": [
    "SolutionToTask1()  # show solution for task 1"
   ]
  },
  {
   "cell_type": "markdown",
   "metadata": {},
   "source": [
    "We calculate $ \\ket{v} = Y \\ket{u} $.\n",
    "\n",
    "$ \\ket{v} = \\Y  \\myvector{ \\frac{1+i}{\\sqrt{3}} \\\\ -\\frac{1}{\\sqrt{3}} } = \\myvector{ \\frac{i}{\\sqrt{3}} \\\\ \\frac{i-1}{\\sqrt{3}} } $.\n",
    "\n",
    "We check $ \\norm{v}^2 = \\braket{v}{v} = \\myvector{ \\frac{-i}{\\sqrt{3}} ~~~ \\frac{-i-1}{\\sqrt{3}} } \\myvector{ \\frac{i}{\\sqrt{3}} \\\\ \\frac{i-1}{\\sqrt{3}} } = \\frac{-i^2}{3} + \\frac{1-i^2}{3} = \\frac{-(-1)+1-(-1)}{3} = 1 $."
   ]
  },
  {
   "cell_type": "markdown",
   "metadata": {},
   "source": [
    "### A unitary operator\n",
    "\n",
    "Here is an ordinary single-qubit unitary operator:\n",
    "\n",
    "$\n",
    "M = \\mymatrix{cc}{ \\frac{1+i}{2} & \\frac{1-i}{2} \\\\ \\frac{1-i}{2} & \\frac{1+i}{2} }.\n",
    "$"
   ]
  },
  {
   "cell_type": "markdown",
   "metadata": {},
   "source": [
    "<h3> Task 2</h3>\n",
    "\n",
    "Randomly create a 2-dimensional quantum state, where both amplitudes are complex number.\n",
    "\n",
    "_You may use your solution for <a href=\"QB31_C02_Quantum_States_With_Complex_Numbers.ipynb#task3\" target=\"_blank\">Task 3 on the notebook `Quantum states`</a>._\n",
    "\n",
    "Apply $ M $ to the randomly created state, and then verify the result to be a quantum state by checking its length.\n",
    "\n",
    "<b>Repeat several times:</b>\n",
    "<ul>\n",
    "    <li> Randomly pick a quantum state. </li>\n",
    "    <li> Apply the unitary operator $ M $ to this quantum state. </li>\n",
    "    <li> Check whether the length of the result vector is 1. </li>"
   ]
  },
  {
   "cell_type": "code",
   "execution_count": null,
   "metadata": {},
   "outputs": [],
   "source": [
    "random_complex_quantum_state_file = path_files+\"random_complex_quantum_state.py\"\n",
    "%run $random_complex_quantum_state_file\n",
    "#Run this cell to load the function random_complex_quantum_state()"
   ]
  },
  {
   "cell_type": "code",
   "execution_count": null,
   "metadata": {},
   "outputs": [],
   "source": [
    "is_quantum_state_file = path_files+\"is_quantum_state.py\"\n",
    "%run $is_quantum_state_file\n",
    "#Run this cell to load the function is_quantum_state()"
   ]
  },
  {
   "cell_type": "code",
   "execution_count": null,
   "metadata": {},
   "outputs": [],
   "source": [
    "#\n",
    "# your code is here\n",
    "#\n"
   ]
  },
  {
   "cell_type": "markdown",
   "metadata": {},
   "source": [
    "To check out our solution, run the next cell:"
   ]
  },
  {
   "cell_type": "code",
   "execution_count": null,
   "metadata": {},
   "outputs": [],
   "source": [
    "SolutionToTask2()  # show solution for task 2"
   ]
  },
  {
   "cell_type": "markdown",
   "metadata": {},
   "source": [
    "<h3> Task 3</h3>\n",
    "\n",
    "Repeat Task 2, but with Hadamard operator."
   ]
  },
  {
   "cell_type": "code",
   "execution_count": 3,
   "metadata": {},
   "outputs": [],
   "source": [
    "#\n",
    "# your code is here\n",
    "#\n"
   ]
  },
  {
   "cell_type": "markdown",
   "metadata": {},
   "source": [
    "To check out our solution, run the next cell:"
   ]
  },
  {
   "cell_type": "code",
   "execution_count": null,
   "metadata": {},
   "outputs": [],
   "source": [
    "SolutionToTask3()  # show solution for task 3"
   ]
  },
  {
   "cell_type": "markdown",
   "metadata": {},
   "source": [
    "<h3> Task 4</h3>\n",
    "\n",
    "Repeat Task 2 with the following two basic single-qubit unitary operators.\n",
    "\n",
    "$\n",
    "S = \\S ~~ \\mbox{ and } ~~ T = \\T.\n",
    "$"
   ]
  },
  {
   "cell_type": "code",
   "execution_count": 2,
   "metadata": {},
   "outputs": [],
   "source": [
    "#\n",
    "# your code is here\n",
    "#\n"
   ]
  },
  {
   "cell_type": "markdown",
   "metadata": {},
   "source": [
    "To check out our solution, run the next cell:"
   ]
  },
  {
   "cell_type": "code",
   "execution_count": null,
   "metadata": {},
   "outputs": [],
   "source": [
    "SolutionToTask4()  # show solution for task 4"
   ]
  }
 ],
 "metadata": {
  "kernelspec": {
   "display_name": "Python 3 (ipykernel)",
   "language": "python",
   "name": "python3"
  },
  "language_info": {
   "codemirror_mode": {
    "name": "ipython",
    "version": 3
   },
   "file_extension": ".py",
   "mimetype": "text/x-python",
   "name": "python",
   "nbconvert_exporter": "python",
   "pygments_lexer": "ipython3",
   "version": "3.11.4"
  }
 },
 "nbformat": 4,
 "nbformat_minor": 4
}
