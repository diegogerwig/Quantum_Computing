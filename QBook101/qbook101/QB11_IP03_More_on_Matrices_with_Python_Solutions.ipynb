{
 "cells": [
  {
   "cell_type": "markdown",
   "metadata": {},
   "source": [
    "<a href=\"https://qworld.net\" target=\"_blank\" align=\"left\"><img src=\"https://gitlab.com/qworld/qeducation/qbook101/raw/main/qworld/images/header.jpg\" align=\"left\"></a>\n",
    "$ \\newcommand{\\bra}[1]{\\langle #1|} $\n",
    "$ \\newcommand{\\ket}[1]{|#1\\rangle} $\n",
    "$ \\newcommand{\\braket}[2]{\\langle #1|#2\\rangle} $\n",
    "$ \\newcommand{\\dot}[2]{ #1 \\cdot #2} $\n",
    "$ \\newcommand{\\biginner}[2]{\\left\\langle #1,#2\\right\\rangle} $\n",
    "$ \\newcommand{\\mymatrix}[2]{\\left( \\begin{array}{#1} #2\\end{array} \\right)} $\n",
    "$ \\newcommand{\\myvector}[1]{\\mymatrix{c}{#1}} $\n",
    "$ \\newcommand{\\myrvector}[1]{\\mymatrix{r}{#1}} $\n",
    "$ \\newcommand{\\mypar}[1]{\\left( #1 \\right)} $\n",
    "$ \\newcommand{\\mybigpar}[1]{ \\Big( #1 \\Big)} $\n",
    "$ \\newcommand{\\sqrttwo}{\\frac{1}{\\sqrt{2}}} $\n",
    "$ \\newcommand{\\dsqrttwo}{\\dfrac{1}{\\sqrt{2}}} $\n",
    "$ \\newcommand{\\onehalf}{\\frac{1}{2}} $\n",
    "$ \\newcommand{\\donehalf}{\\dfrac{1}{2}} $\n",
    "$ \\newcommand{\\hadamard}{ \\mymatrix{rr}{ \\sqrttwo & \\sqrttwo \\\\ \\sqrttwo & -\\sqrttwo }} $\n",
    "$ \\newcommand{\\vzero}{\\myvector{1\\\\0}} $\n",
    "$ \\newcommand{\\vone}{\\myvector{0\\\\1}} $\n",
    "$ \\newcommand{\\stateplus}{\\myvector{ \\sqrttwo \\\\  \\sqrttwo } } $\n",
    "$ \\newcommand{\\stateminus}{ \\myrvector{ \\sqrttwo \\\\ -\\sqrttwo } } $\n",
    "$ \\newcommand{\\myarray}[2]{ \\begin{array}{#1}#2\\end{array}} $\n",
    "$ \\newcommand{\\X}{ \\mymatrix{cc}{0 & 1 \\\\ 1 & 0}  } $\n",
    "$ \\newcommand{\\Z}{ \\mymatrix{rr}{1 & 0 \\\\ 0 & -1}  } $\n",
    "$ \\newcommand{\\Htwo}{ \\mymatrix{rrrr}{ \\frac{1}{2} & \\frac{1}{2} & \\frac{1}{2} & \\frac{1}{2} \\\\ \\frac{1}{2} & -\\frac{1}{2} & \\frac{1}{2} & -\\frac{1}{2} \\\\ \\frac{1}{2} & \\frac{1}{2} & -\\frac{1}{2} & -\\frac{1}{2} \\\\ \\frac{1}{2} & -\\frac{1}{2} & -\\frac{1}{2} & \\frac{1}{2} } } $\n",
    "$ \\newcommand{\\CNOT}{ \\mymatrix{cccc}{1 & 0 & 0 & 0 \\\\ 0 & 1 & 0 & 0 \\\\ 0 & 0 & 0 & 1 \\\\ 0 & 0 & 1 & 0} } $\n",
    "$ \\newcommand{\\norm}[1]{ \\left\\lVert #1 \\right\\rVert } $\n",
    "$ \\newcommand{\\pstate}[1]{ \\lceil \\mspace{-1mu} #1 \\mspace{-1.5mu} \\rfloor } $"
   ]
  },
  {
   "cell_type": "markdown",
   "metadata": {},
   "source": [
    "_prepared by Claudia Zendejas-Morales_"
   ]
  },
  {
   "cell_type": "markdown",
   "metadata": {},
   "source": [
    "<font size=\"28px\" style=\"font-size:28px;\" align=\"left\"><b> <font color=\"blue\"> Solutions for </font>More on Matrices with Pyhton</b></font>\n",
    "<br>\n",
    "<br><br>"
   ]
  },
  {
   "cell_type": "markdown",
   "metadata": {},
   "source": [
    "<a nale=\"task1\"></a>\n",
    "<h3> Task 1</h3>\n",
    "\n",
    "Find the eigenvalues and eigenvectors of the matrix $\\mathbf{B}$, then check the results using the definition: $\\mathbf{B}\\vec{x}=\\lambda\\vec{x}$.\n",
    "\n",
    "$$\\mathbf{B}=\\mymatrix{rrr}{-4 & 3 & 3 \\\\ 2 & -3 & -2 \\\\ -1 & 0 & -2}$$"
   ]
  },
  {
   "cell_type": "code",
   "execution_count": null,
   "metadata": {},
   "outputs": [],
   "source": [
    "import numpy as np\n",
    "\n",
    "B = np.array([[-4,  3,  3],\n",
    "              [ 2, -3, -2],\n",
    "              [-1,  0, -2]])\n",
    "\n",
    "vals, vecs = np.linalg.eig(B)\n",
    "\n",
    "print(\"The eigenvalues of A are:\", vals)\n",
    "\n",
    "# the eigenvectors are the columns of the matrix 'vecs'\n",
    "# to obtain the columns of a matrix contained in an np.array, \n",
    "# we use the index [:, i] that gives us the 'i' values of each column\n",
    "print(\"The eigenvectors of A are:\")\n",
    "print(vecs[:, 0])\n",
    "print(vecs[:, 1])\n",
    "print(vecs[:, 2])\n",
    "\n",
    "print()\n",
    "print(\"Checking A x_1 = L_1 x_1:\")\n",
    "print(\"\\t\", B.dot(vecs[:, 0]))\n",
    "print(\"\\t\", vals[0]*vecs[:, 0])     # both results are equal\n",
    "\n",
    "print()\n",
    "print(\"Checking A x_2 = L_2 x_2:\")\n",
    "print(\"\\t\", B.dot(vecs[:, 1]))\n",
    "print(\"\\t\", vals[1]*vecs[:, 1])     # both results are equal\n",
    "\n",
    "print()\n",
    "print(\"Checking A x_3 = L_3 x_3:\")\n",
    "print(\"\\t\", B.dot(vecs[:, 2]))\n",
    "print(\"\\t\", vals[2]*vecs[:, 2])     # both results are equal"
   ]
  },
  {
   "cell_type": "markdown",
   "metadata": {},
   "source": [
    "<a nale=\"task2\"></a>\n",
    "<h3> Task 2</h3>\n",
    "\n",
    "Create a function, called `applyOp`, which receives the operator $R(\\theta)$ and a 2-dimensional vector, internally applies $R(\\theta)$ to that vector, returning the result of that mapping.\n",
    "\n",
    "$$\\mathbf{R(\\theta)}=\\mymatrix{rr}{\\cos(\\theta) & -\\sin(\\theta) \\\\ \\sin(\\theta) & \\cos(\\theta)}$$\n",
    "\n",
    "Test your function with different values of $\\theta$ and different vectors."
   ]
  },
  {
   "cell_type": "code",
   "execution_count": null,
   "metadata": {},
   "outputs": [],
   "source": [
    "from math import cos, sin, pi\n",
    "import numpy as np\n",
    "\n",
    "def operatorR(theta):       # use of special word \"def\"\n",
    "                            # receives the parameter called \"theta\", a variable\n",
    "\n",
    "    R = np.array([[cos(theta), -sin(theta)],\n",
    "                  [sin(theta),  cos(theta)]])\n",
    "\n",
    "    return R                # returns the R(theta) operator in matrix form for the specified \"theta\" value"
   ]
  },
  {
   "cell_type": "code",
   "execution_count": null,
   "metadata": {},
   "outputs": [],
   "source": [
    "def applyOp(operator, vector):\n",
    "\n",
    "    mapping = operator.dot(vector)  # matrix-vector multiplication: Rv\n",
    "\n",
    "    return mapping"
   ]
  },
  {
   "cell_type": "code",
   "execution_count": null,
   "metadata": {},
   "outputs": [],
   "source": [
    "thetas = [pi, pi/2, pi/3]\n",
    "\n",
    "v1 = np.array([ 2, 3])\n",
    "v2 = np.array([ 1, 0])\n",
    "v3 = np.array([-1, 4])\n",
    "\n",
    "vectors = [v1, v2, v3]\n",
    "\n",
    "for vector in vectors:\n",
    "    print(\"\\nVector:\", vector)\n",
    "    for theta in thetas:\n",
    "        operator = operatorR(theta)\n",
    "        res = applyOp(operator, vector)\n",
    "        print(\"\\tR(\",theta,\") =\", res)"
   ]
  },
  {
   "cell_type": "markdown",
   "metadata": {},
   "source": [
    "<a nale=\"task3\"></a>\n",
    "<h3> Task 3</h3>\n",
    "\n",
    "Make a function that takes a parameter representing an matrix and returns `True` if the matrix is unitary, and `False` otherwise.\n",
    "\n",
    "Use the `numpy` functions called [`allclose`](https://numpy.org/doc/stable/reference/generated/numpy.allclose.html) and [`eye`](https://numpy.org/devdocs/reference/generated/numpy.eye.html) (click on each one to go to its documentation).\n",
    "\n",
    "Test your function with the matrices $\\mathbf{M_1}$, $\\mathbf{M_2}$ and $\\mathbf{R(\\theta)}$ with different values of $\\theta$.\n",
    "\n",
    "$$\\mathbf{M_1}=\\mymatrix{rr}{\\frac{1}{\\sqrt{2}} & \\frac{1}{\\sqrt{2}} \\\\ \\frac{1}{\\sqrt{2}} & -\\frac{1}{\\sqrt{2}}}~~~~~,~~~~~\\mathbf{M_2}=\\mymatrix{rr}{3 & 0 \\\\ 0 & 3}~~~~~,~~~~~\\mathbf{R(\\theta)}=\\mymatrix{rr}{\\cos(\\theta) & -\\sin(\\theta) \\\\ \\sin(\\theta) & \\cos(\\theta)}$$"
   ]
  },
  {
   "cell_type": "code",
   "execution_count": null,
   "metadata": {},
   "outputs": [],
   "source": [
    "from math import cos, sin, pi, sqrt\n",
    "import numpy as np\n",
    "\n",
    "def operatorR(theta):       # use of special word \"def\"\n",
    "                            # receives the parameter called \"theta\", a variable\n",
    "\n",
    "    R = np.array([[cos(theta), -sin(theta)],\n",
    "                  [sin(theta),  cos(theta)]])\n",
    "\n",
    "    return R                # returns the R(theta) operator in matrix form for the specified \"theta\" value"
   ]
  },
  {
   "cell_type": "code",
   "execution_count": null,
   "metadata": {},
   "outputs": [],
   "source": [
    "def is_unitary(matrix):\n",
    "\n",
    "    # we assume it is a square matrix\n",
    "\n",
    "    # find the conjugate transpose of 'matrix'\n",
    "    matrix_dagger = matrix.T.conj()\n",
    "\n",
    "    # multiply the matrix by its conjugate transpose\n",
    "    res_mul = matrix.dot(matrix_dagger)\n",
    "\n",
    "    # define the identity matrix of the appropriate size\n",
    "    identity = np.eye(len(matrix))\n",
    "    \n",
    "    # compare the result of the multiplication with the identity matrix\n",
    "    are_equal = np.allclose(identity, res_mul)\n",
    "\n",
    "    # return the result\n",
    "    return are_equal"
   ]
  },
  {
   "cell_type": "code",
   "execution_count": null,
   "metadata": {},
   "outputs": [],
   "source": [
    "M1 = np.array([[1/sqrt(2),  1/sqrt(2)],\n",
    "               [1/sqrt(2), -1/sqrt(2)]])\n",
    "\n",
    "is_unitary(M1)"
   ]
  },
  {
   "cell_type": "code",
   "execution_count": null,
   "metadata": {},
   "outputs": [],
   "source": [
    "M2 = np.array([[3, 0],\n",
    "               [0, 3]])\n",
    "\n",
    "is_unitary(M2)"
   ]
  },
  {
   "cell_type": "code",
   "execution_count": null,
   "metadata": {},
   "outputs": [],
   "source": [
    "thetas = [pi, pi/2, pi/3]\n",
    "\n",
    "for theta in thetas:\n",
    "    operator = operatorR(theta)\n",
    "    res = is_unitary(operator)\n",
    "    print(\"Is the oprator R(\",theta,\") unitary?\", res)"
   ]
  }
 ],
 "metadata": {
  "kernelspec": {
   "display_name": "Python 3 (ipykernel)",
   "language": "python",
   "name": "python3"
  },
  "language_info": {
   "codemirror_mode": {
    "name": "ipython",
    "version": 3
   },
   "file_extension": ".py",
   "mimetype": "text/x-python",
   "name": "python",
   "nbconvert_exporter": "python",
   "pygments_lexer": "ipython3",
   "version": "3.11.4"
  }
 },
 "nbformat": 4,
 "nbformat_minor": 4
}
