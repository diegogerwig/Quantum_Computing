{
 "cells": [
  {
   "cell_type": "markdown",
   "metadata": {},
   "source": [
    "<table width=\"100%\"><tr style=\"background-color:white;\">\n",
    "    <td style=\"text-align:left;padding:0px;width:142px'\">\n",
    "        <a href=\"https://qworld.net\" target=\"_blank\">\n",
    "            <img src=\"images/QWorld.png\"></a></td>\n",
    "    <td width=\"*\">&nbsp;&nbsp;&nbsp;&nbsp;&nbsp;&nbsp;</td>\n",
    "    <!-- ############################################# -->\n",
    "    <td style=\"padding:0px;width:90px;\">\n",
    "        <img align=\"right\" src=\"images/follow_us.png\" height=\"40px\"></td>\n",
    "    <td style=\"padding:0px;width:40px;\">\n",
    "        <a href=\"https://twitter.com/QWorld19\" target=\"_blank\">\n",
    "        <img align=\"right\" src=\"images/Twitter.png\" width=\"40px\"></a> </td>\n",
    "    <td style=\"padding:0px;width:5px;\"></td>\n",
    "    <td style=\"padding:0px;width:40px;\">\n",
    "        <a href=\"https://www.facebook.com/qworld19/\" target=\"_blank\">\n",
    "        <img align=\"right\" src=\"images/Fb.png\"></a></td>\n",
    "    <td style=\"padding:0px;width:5px;\"></td>\n",
    "    <td style=\"padding:0px;width:40px;\">\n",
    "        <a href=\"https://www.linkedin.com/company/qworld19\" target=\"_blank\">\n",
    "        <img align=\"right\" src=\"images/LinkedIn.png\"></a></td>\n",
    "    <td style=\"padding:0px;width:5px;\"></td>\n",
    "    <td style=\"padding:0px;width:40px;\">\n",
    "        <a href=\"https://www.youtube.com/qworld19\" target=\"_blank\">\n",
    "        <img align=\"right\" src=\"images/YT.png\"></a></td>\n",
    "    <!-- ############################################# -->\n",
    "    <td style=\"padding:0px;width:60px;\">\n",
    "        <img align=\"right\" src=\"images/join.png\" height=\"40px\"></td>\n",
    "    <td style=\"padding:0px;width:40px;\">\n",
    "        <a href=\"https://discord.gg/akCvr7U87g\"\n",
    "           target=\"_blank\">\n",
    "        <img align=\"right\" src=\"images/Discord.png\"></a></td>\n",
    "    <!-- ############################################# -->\n",
    "    <td style=\"padding:0px;width:72px;\">\n",
    "        <img align=\"right\" src=\"images/w3.png\" height=\"40px\"></td>\n",
    "    <td style=\"padding:0px;width:40px;\">\n",
    "        <a href=\"https://qworld.net\" target=\"_blank\">\n",
    "        <img align=\"right\" src=\"images/www.png\"></a></td>\n",
    "</tr></table>\n",
    "\n",
    "<table width = \"100%\">\n",
    "  <tr style=\"background-color:white;\">\n",
    "    <td style=\"text-align:right;vertical-align:bottom;font-size:12px;\"> \n",
    "        Prepared by Anastasija Trizna (QPoland, QLatvia) & <a href=\"https://www.linkedin.com/in/sabah-ud-din-ahmad\" target=\"_blank\"> Sabah Ud Din Ahmad</a> (QPakistan)</td>\n",
    "    </tr>\n",
    " </table>\n",
    " \n",
    " ---"
   ]
  },
  {
   "cell_type": "markdown",
   "metadata": {},
   "source": [
    "<h1 align=\"left\" style=\"color: #e99b0b;\"> Welcome </h1>\n",
    "    \n",
    "**Quantum Cryptography** uses quantum mechanics for cryptography. The best application of this is **Quantum Key Distribution** which offers an information-theoretically secure solution to the problem of exchanging keys. This tutorial focuses on **Quantum Cryptography** & **Quantum Key Distribution**. \n",
    "\n",
    "**Prerequisites**\n",
    "* Completion of QBronze\n",
    "* Basic knowledge about Quantum Mechanics and Qiskit library in Python\n",
    "\n",
    "**Software requirements**\n",
    "\n",
    "Jupyter Notebook, Python 3, Qiskit\n",
    "\n",
    "\n",
    "To install or update Qiskit, click [here](notebooks/qiskit_installation.ipynb).\n",
    "\n",
    "---"
   ]
  },
  {
   "cell_type": "markdown",
   "metadata": {},
   "source": [
    "<h1 align=\"left\" style=\"color: #e99b0b;\"> Content </h1>"
   ]
  },
  {
   "cell_type": "markdown",
   "metadata": {},
   "source": [
    "<h3>Classical Cryptography</h3>\n",
    "\n",
    "[Classical Cryptography](notebooks/QC01_Classical_Cryptography.ipynb)   &nbsp;|&nbsp;\n",
    "[One-Time Pad (Symmetric Cryptography)](notebooks/QC02_OneTimePad.ipynb)  &nbsp;|&nbsp;\n",
    "[RSA (Asymmetric Cryptography)](notebooks/QC03_RSA.ipynb) "
   ]
  },
  {
   "cell_type": "markdown",
   "metadata": {},
   "source": [
    "<h3>Quantum Cryptography</h3>\n",
    "\n",
    "[Quantum Cryptography](notebooks/QC04_Quantum_Cryptography.ipynb)  &nbsp;|&nbsp;\n",
    "[Quantum One-Time Pad](notebooks/QC05_Quantum_One-Time_Pad.ipynb)  &nbsp;|&nbsp;\n",
    "[No-Cloning Theorem](notebooks/QC06_No-Cloning_Theorem.ipynb) &nbsp;|&nbsp;\n",
    "[Quantum Communication in Qiskit](notebooks/QC07_Quantum_communication_in_Qiskit.ipynb)\n"
   ]
  },
  {
   "cell_type": "markdown",
   "metadata": {},
   "source": [
    "<h3>BB84 Protocol</h3>\n",
    "\n",
    "Based on Heisenberg's Uncertainty Principle.\n",
    "\n",
    "<b>Noise-free</b>\n",
    "\n",
    "[QKD & BB84 Protocol](notebooks/QC08_BB84_Protocol.ipynb)  &nbsp;|&nbsp;\n",
    "[Distributing Quantum States](notebooks/QC09_Distributing_quantum_states.ipynb)  &nbsp;|&nbsp;\n",
    "[Sifting and Quantum Bit Error Rate (QBER)](notebooks/QC10_Sifting_and_QBER_calculation.ipynb) &nbsp;|&nbsp;\n",
    "[Privacy Amplification](notebooks/QC11_Privacy_Amplification.ipynb)\n"
   ]
  },
  {
   "cell_type": "markdown",
   "metadata": {},
   "source": [
    "<b>Handling Noise</b>\n",
    "\n",
    "[Updating BB84 Protocol](notebooks/QC12_Updating_BB84_protocol.ipynb)  &nbsp;|&nbsp;\n",
    "[Noisy Channel](notebooks/QC13_Noisy_channel.ipynb)  &nbsp;|&nbsp;\n",
    "[Information Reconciliation](notebooks/QC14_Information_reconciliation.ipynb) &nbsp;|&nbsp;\n",
    "[Complete BB84 Protocol](notebooks/QC15_Complete_BB84_protocol_implementation.ipynb)\n",
    "\n"
   ]
  },
  {
   "cell_type": "markdown",
   "metadata": {},
   "source": [
    "<b>Attacks & Security</b>\n",
    "\n",
    "Introducing an Eavesdropper!\n",
    "\n",
    "[Man-in-the-middle Attack](notebooks/QC16_Man-in-the-Middle.ipynb)  &nbsp;|&nbsp;\n",
    "[Intercept-resend Attack](notebooks/QC17_Intercept-resend_attack.ipynb)\n"
   ]
  },
  {
   "cell_type": "markdown",
   "metadata": {},
   "source": [
    "<h3>E91 Protocol</h3>\n",
    "\n",
    "Based on Quantum Entanglement.\n",
    "\n",
    "[Quantum Entanglement & Bell Test](notebooks/QC18_Bell_test.ipynb)  &nbsp;|&nbsp;\n",
    "[CHSH Inequality](notebooks/QC19_CHSH_inequality.ipynb)  &nbsp;|&nbsp;\n",
    "[E91 Protocol Workflow](notebooks/QC20_E91_protocol_workflow.ipynb) &nbsp;|&nbsp;\n",
    "[E91 Protocol Implementation](notebooks/QC21_E91_implementation.ipynb)\n",
    "\n"
   ]
  },
  {
   "cell_type": "markdown",
   "metadata": {},
   "source": [
    "<b>Attack & Security</b>\n",
    "\n",
    "[Security of E91 Protocol](notebooks/QC22_Security_of_E91_protocol.ipynb) \n"
   ]
  }
 ],
 "metadata": {
  "kernelspec": {
   "display_name": "Python 3",
   "language": "python",
   "name": "python3"
  },
  "language_info": {
   "codemirror_mode": {
    "name": "ipython",
    "version": 3
   },
   "file_extension": ".py",
   "mimetype": "text/x-python",
   "name": "python",
   "nbconvert_exporter": "python",
   "pygments_lexer": "ipython3",
   "version": "3.8.10"
  }
 },
 "nbformat": 4,
 "nbformat_minor": 2
}
