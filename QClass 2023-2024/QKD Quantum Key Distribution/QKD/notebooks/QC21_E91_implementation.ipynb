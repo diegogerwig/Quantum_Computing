{
 "cells": [
  {
   "cell_type": "markdown",
   "metadata": {},
   "source": [
    "<table width=\"100%\"><tr style=\"background-color:white;\">\n",
    "    <td style=\"text-align:left;padding:0px;width:142px'\">\n",
    "        <a href=\"https://qworld.net\" target=\"_blank\">\n",
    "            <img src=\"../images/QWorld.png\"></a></td>\n",
    "    <td width=\"*\">&nbsp;&nbsp;&nbsp;&nbsp;&nbsp;&nbsp;</td>\n",
    "    <!-- ############################################# -->\n",
    "    <td style=\"padding:0px;width:90px;\">\n",
    "        <img align=\"right\" src=\"../images/follow_us.png\" height=\"40px\"></td>\n",
    "    <td style=\"padding:0px;width:40px;\">\n",
    "        <a href=\"https://twitter.com/QWorld19\" target=\"_blank\">\n",
    "        <img align=\"right\" src=\"../images/Twitter.png\" width=\"40px\"></a> </td>\n",
    "    <td style=\"padding:0px;width:5px;\"></td>\n",
    "    <td style=\"padding:0px;width:40px;\">\n",
    "        <a href=\"https://www.facebook.com/qworld19/\" target=\"_blank\">\n",
    "        <img align=\"right\" src=\"../images/Fb.png\"></a></td>\n",
    "    <td style=\"padding:0px;width:5px;\"></td>\n",
    "    <td style=\"padding:0px;width:40px;\">\n",
    "        <a href=\"https://www.linkedin.com/company/qworld19\" target=\"_blank\">\n",
    "        <img align=\"right\" src=\"../images/LinkedIn.png\"></a></td>\n",
    "    <td style=\"padding:0px;width:5px;\"></td>\n",
    "    <td style=\"padding:0px;width:40px;\">\n",
    "        <a href=\"https://www.youtube.com/qworld19\" target=\"_blank\">\n",
    "        <img align=\"right\" src=\"../images/YT.png\"></a></td>\n",
    "    <!-- ############################################# -->\n",
    "    <td style=\"padding:0px;width:60px;\">\n",
    "        <img align=\"right\" src=\"../images/join.png\" height=\"40px\"></td>\n",
    "    <td style=\"padding:0px;width:40px;\">\n",
    "        <a href=\"https://discord.gg/akCvr7U87g\"\n",
    "           target=\"_blank\">\n",
    "        <img align=\"right\" src=\"../images/Discord.png\"></a></td>\n",
    "    <!-- ############################################# -->\n",
    "    <td style=\"padding:0px;width:72px;\">\n",
    "        <img align=\"right\" src=\"../images/w3.png\" height=\"40px\"></td>\n",
    "    <td style=\"padding:0px;width:40px;\">\n",
    "        <a href=\"https://qworld.net\" target=\"_blank\">\n",
    "        <img align=\"right\" src=\"../images/www.png\"></a></td>\n",
    "</tr></table>\n",
    "\n",
    "<table width = \"100%\">\n",
    "  <tr style=\"background-color:white;\">\n",
    "    <td style=\"text-align:right;vertical-align:bottom;font-size:12px;\"> \n",
    "        Prepared by Anastasija Trizna (QPoland, QLatvia)</td>\n",
    "    </tr>\n",
    "    <tr><td align=\"right\" style=\"color:#bbbbbb;background-color:#ffffff;font-size:11px;font-style:italic;\">\n",
    "        This cell contains some macros. If there is a problem with displaying mathematical formulas, please run this cell to load these macros.\n",
    "    </td></tr>\n",
    " </table>\n",
    " \n",
    "$ \\newcommand{\\bra}[1]{\\langle #1|} $\n",
    "$ \\newcommand{\\ket}[1]{|#1\\rangle} $\n",
    "$ \\newcommand{\\braket}[2]{\\langle #1|#2\\rangle} $\n",
    "$ \\newcommand{\\dot}[2]{ #1 \\cdot #2} $\n",
    "$ \\newcommand{\\biginner}[2]{\\left\\langle #1,#2\\right\\rangle} $\n",
    "$ \\newcommand{\\mymatrix}[2]{\\left( \\begin{array}{#1} #2\\end{array} \\right)} $\n",
    "$ \\newcommand{\\myvector}[1]{\\mymatrix{c}{#1}} $\n",
    "$ \\newcommand{\\myrvector}[1]{\\mymatrix{r}{#1}} $\n",
    "$ \\newcommand{\\mypar}[1]{\\left( #1 \\right)} $\n",
    "$ \\newcommand{\\mybigpar}[1]{ \\Big( #1 \\Big)} $\n",
    "$ \\newcommand{\\sqrttwo}{\\frac{1}{\\sqrt{2}}} $\n",
    "$ \\newcommand{\\dsqrttwo}{\\dfrac{1}{\\sqrt{2}}} $\n",
    "$ \\newcommand{\\onehalf}{\\frac{1}{2}} $\n",
    "$ \\newcommand{\\donehalf}{\\dfrac{1}{2}} $\n",
    "$ \\newcommand{\\hadamard}{ \\mymatrix{rr}{ \\sqrttwo & \\sqrttwo \\\\ \\sqrttwo & -\\sqrttwo }} $\n",
    "$ \\newcommand{\\vzero}{\\myvector{1\\\\0}} $\n",
    "$ \\newcommand{\\vone}{\\myvector{0\\\\1}} $\n",
    "$ \\newcommand{\\vhadamardzero}{\\myvector{ \\sqrttwo \\\\  \\sqrttwo } } $\n",
    "$ \\newcommand{\\vhadamardone}{ \\myrvector{ \\sqrttwo \\\\ -\\sqrttwo } } $\n",
    "$ \\newcommand{\\myarray}[2]{ \\begin{array}{#1}#2\\end{array}} $\n",
    "$ \\newcommand{\\X}{ \\mymatrix{cc}{0 & 1 \\\\ 1 & 0}  } $\n",
    "$ \\newcommand{\\Z}{ \\mymatrix{rr}{1 & 0 \\\\ 0 & -1}  } $\n",
    "$ \\newcommand{\\Htwo}{ \\mymatrix{rrrr}{ \\frac{1}{2} & \\frac{1}{2} & \\frac{1}{2} & \\frac{1}{2} \\\\ \\frac{1}{2} & -\\frac{1}{2} & \\frac{1}{2} & -\\frac{1}{2} \\\\ \\frac{1}{2} & \\frac{1}{2} & -\\frac{1}{2} & -\\frac{1}{2} \\\\ \\frac{1}{2} & -\\frac{1}{2} & -\\frac{1}{2} & \\frac{1}{2} } } $\n",
    "$ \\newcommand{\\CNOT}{ \\mymatrix{cccc}{1 & 0 & 0 & 0 \\\\ 0 & 1 & 0 & 0 \\\\ 0 & 0 & 0 & 1 \\\\ 0 & 0 & 1 & 0} } $\n",
    "$ \\newcommand{\\norm}[1]{ \\left\\lVert #1 \\right\\rVert } $\n",
    "\n",
    " ---"
   ]
  },
  {
   "cell_type": "markdown",
   "metadata": {},
   "source": [
    "## E91 Protocol Implementation\n",
    "\n",
    "At the beginning of E91 protocol, Asja prepares EPR pairs:\n",
    "$$\\ket{\\psi}=\\frac{1}{\\sqrt{2}}\\ket{00} \\pm \\frac{1}{\\sqrt{2}}\\ket{11}$$\n",
    "\n",
    "**Note:** There is no need to choose random bit sequence or encoding bases as we did in BB84. One of the properties of EPR pairs is a random outcome as a result of performed measurement.\n",
    "\n",
    "For the measurements, our users use four bases: $Z$, $X$, $W$, $V$.\n",
    "\n",
    "<b>Asja will choose between - $Z$, $X$, $W$.\\\n",
    "Balvis will choose between - $Z$, $W$, $V$.</b>\n",
    "\n",
    "They need to choose measurement basis for each qubit independently and randomly."
   ]
  },
  {
   "cell_type": "markdown",
   "metadata": {},
   "source": [
    "<h3>Step 1: Distributing quantum states</h3>\n",
    "\n",
    "<ul>\n",
    "    <li>Asja prepares 200 EPR pairs.\n",
    "    <li>Asja keeps one qubit of EPR pair and sends second to Balvis.\n",
    "    <li>Asja randomly chooses measurement basis ($Z$,$X$ or $W$) and measures first qubit (qreg[0]).\n",
    "    <li>Asja saves information about measurement basis that she used for each qubit.\n",
    "    <li>Balvis randomly chooses measurement basis ($Z$, $W$ or $V$) and measures second qubit (qreg[1]).\n",
    "    <li>Balvis saves information about measurement basis that he used for each qubit."
   ]
  },
  {
   "cell_type": "code",
   "execution_count": 1,
   "metadata": {},
   "outputs": [],
   "source": [
    "# import all necessary objects and methods for quantum circuits\n",
    "from qiskit import QuantumRegister, ClassicalRegister, QuantumCircuit, execute, Aer\n",
    "from random import randrange"
   ]
  },
  {
   "cell_type": "code",
   "execution_count": 9,
   "metadata": {},
   "outputs": [],
   "source": [
    "#Registers for measurement bases and keys\n",
    "basesAsja, keyAsja = [],[]\n",
    "basesBalvis, keyBalvis = [],[]\n",
    "\n",
    "for i in range(200):  #Asja prepares 200 EPR pairs\n",
    "    qreg = QuantumRegister(2)\n",
    "    creg = ClassicalRegister(2) \n",
    "    mycircuit = QuantumCircuit(qreg, creg)\n",
    "\n",
    "    #Creating entanglement\n",
    "    mycircuit.h(qreg[0])\n",
    "    mycircuit.cx(qreg[0], qreg[1])\n",
    "\n",
    "    #Asja chooses measurement basis\n",
    "    choiceAsja=randrange(3)\n",
    "    if choiceAsja==0:#measurement in Z basis\n",
    "        basesAsja.append('Z')\n",
    "    if choiceAsja==1:#measurement in X basis\n",
    "        mycircuit.h(qreg[0])\n",
    "        basesAsja.append('X')\n",
    "    if choiceAsja==2:#measurement in W basis\n",
    "        mycircuit.s(qreg[0])\n",
    "        mycircuit.h(qreg[0])\n",
    "        mycircuit.t(qreg[0])\n",
    "        mycircuit.h(qreg[0])\n",
    "        basesAsja.append('W')\n",
    "\n",
    "    #Balvis chooses measurement basis\n",
    "    choiceBalvis=randrange(3)\n",
    "    if choiceBalvis==0:#measurement in Z basis\n",
    "        basesBalvis.append('Z')\n",
    "    if choiceBalvis==1:#measurement in W basis\n",
    "        mycircuit.s(qreg[1])\n",
    "        mycircuit.h(qreg[1])\n",
    "        mycircuit.t(qreg[1])\n",
    "        mycircuit.h(qreg[1])\n",
    "        basesBalvis.append('W')\n",
    "    if choiceBalvis==2:#measurement in V basis\n",
    "        mycircuit.s(qreg[1])\n",
    "        mycircuit.h(qreg[1])\n",
    "        mycircuit.tdg(qreg[1])\n",
    "        mycircuit.h(qreg[1])\n",
    "        basesBalvis.append('V')\n",
    "\n",
    "    mycircuit.measure(qreg,creg) #applying final measurement\n",
    "    job = execute(mycircuit,Aer.get_backend('qasm_simulator'),shots=1)\n",
    "    counts = job.result().get_counts(mycircuit)\n",
    "    \n",
    "    #Saving results\n",
    "    result=list(counts.keys())[0] #retrieve key from dictionary\n",
    "    keyAsja.append(int(result[0])) #saving first qubit value in Asja's key register \n",
    "    keyBalvis.append(int(result[1])) #and second to Balvis"
   ]
  },
  {
   "cell_type": "markdown",
   "metadata": {},
   "source": [
    "<h3>Step 2: Sifting</h3>\n",
    "\n",
    "Let's implement sifting phase.\\\n",
    "Asja and Balvis compare bases.\\\n",
    "If they used same measurement bases, they save corresponding bits to their final key strings.\\\n",
    "If bases mismatch, they keep corresponding bits and information about basis they used in separate registers."
   ]
  },
  {
   "cell_type": "code",
   "execution_count": 10,
   "metadata": {},
   "outputs": [],
   "source": [
    "#Registers\n",
    "finalKeyAsja, finalKeyBalvis = [],[] #for matching rounds\n",
    "diffAsja, diffBalvis = [],[] #missmatched rounds\n",
    "diffBasesA, diffBasesB = [],[] #bases of missmatched rounds\n",
    "for i in range(0, len(basesAsja)):\n",
    "    if basesAsja[i] == basesBalvis[i]: #When used same bases\n",
    "        finalKeyAsja.append(keyAsja[i])\n",
    "        finalKeyBalvis.append(keyBalvis[i]) \n",
    "    else: #When used different\n",
    "        diffAsja.append(keyAsja[i])\n",
    "        diffBalvis.append(keyBalvis[i])\n",
    "        diffBasesA.append(basesAsja[i])\n",
    "        diffBasesB.append(basesBalvis[i])"
   ]
  },
  {
   "cell_type": "markdown",
   "metadata": {},
   "source": [
    "<h3>QBER - CHSH Violation Test</h3>\n",
    "\n",
    "When users measure qubits using same bases, the outcome is perfect correlation.\n",
    "When they use different bases, the outcomes are completely random (uncorrelated).\n",
    "\n",
    "To detect eavesdropping, Asja and Balvis can compute the test statistic $S$ using the correlation coefficients between Asja's bases and Balvis':\n",
    "$$S=ZW+XW-XV+ZV$$"
   ]
  },
  {
   "cell_type": "markdown",
   "metadata": {},
   "source": [
    "From previous notebook, we know that to calculate $S$ we will need correlation values for four cases:\n",
    "<center> $ZW$ - Asja used $Z$ basis, Balvis used $W$\n",
    "<center> $XW$ - Asja used $X$ basis, Balvis used $W$\n",
    "<center> $XV$ - Asja used $X$ basis, Balvis used $V$\n",
    "<center> $ZV$ - Asja used $Z$ basis, Balvis used $V$"
   ]
  },
  {
   "cell_type": "markdown",
   "metadata": {},
   "source": [
    "For each case, correlation value can be calculated using formula:\n",
    "<center>$⟨A\\otimes B⟩=P(1,1)+P(0,0)-P(1,0)-P(0,1)$</center>\n",
    "\n",
    "Here, $P(1,1)$ and $P(0,0)$ are probabilities: numbers of rounds where Asja and Balvis obtained identical bits after measurement ($11$ and $00$) divided by total number of rounds where measurement is done with these two bases.\\\n",
    "$P(1,0)$ and $P(0,1)$ are probabilities: numbers of rounds where Asja and Balvis obtained different bits ($10$ and $01$) divided by total number of rounds where measurement is done with these two bases."
   ]
  },
  {
   "cell_type": "markdown",
   "metadata": {},
   "source": [
    "<h3>Step 3: CHSH inequality violation test</h3>\n",
    "\n",
    "Calculate correlation values and $S$."
   ]
  },
  {
   "cell_type": "code",
   "execution_count": 11,
   "metadata": {},
   "outputs": [],
   "source": [
    "#ZW\n",
    "sameZW = 0\n",
    "diffZW = 0\n",
    "for i, (bA, bB) in enumerate(zip(diffBasesA, diffBasesB)):\n",
    "    if (bA == 'Z' and bB == 'W'):\n",
    "        if diffAsja[i]==diffBalvis[i]:\n",
    "            sameZW=sameZW+1\n",
    "        else:\n",
    "            diffZW=diffZW+1\n",
    "\n",
    "totalZW=sameZW+diffZW\n",
    "if totalZW!=0:\n",
    "    ZW=(sameZW-diffZW)/totalZW\n",
    "else:\n",
    "    ZW=0"
   ]
  },
  {
   "cell_type": "code",
   "execution_count": 12,
   "metadata": {},
   "outputs": [],
   "source": [
    "#XW\n",
    "sameXW = 0\n",
    "diffXW = 0\n",
    "for i, (bA, bB) in enumerate(zip(diffBasesA, diffBasesB)):\n",
    "    if (bA == 'X' and bB == 'W'):\n",
    "        if diffAsja[i]==diffBalvis[i]:\n",
    "            sameXW=sameXW+1\n",
    "        else:\n",
    "            diffXW=diffXW+1\n",
    "\n",
    "totalXW=sameXW+diffXW\n",
    "if totalXW!=0:\n",
    "    XW=(sameXW-diffXW)/totalXW\n",
    "else:\n",
    "    XW=0"
   ]
  },
  {
   "cell_type": "code",
   "execution_count": 13,
   "metadata": {},
   "outputs": [],
   "source": [
    "#XV\n",
    "sameXV = 0\n",
    "diffXV = 0\n",
    "for i, (bA, bB) in enumerate(zip(diffBasesA, diffBasesB)):\n",
    "    if (bA == 'X' and bB == 'V'):\n",
    "        if diffAsja[i]==diffBalvis[i]:\n",
    "            sameXV=sameXV+1\n",
    "        else:\n",
    "            diffXV=diffXV+1\n",
    "\n",
    "totalXV=sameXV+diffXV\n",
    "if totalXV!=0:\n",
    "    XV=(sameXV-diffXV)/totalXV\n",
    "else:\n",
    "    XV=0"
   ]
  },
  {
   "cell_type": "code",
   "execution_count": 14,
   "metadata": {},
   "outputs": [],
   "source": [
    "#ZV\n",
    "sameZV = 0\n",
    "diffZV = 0\n",
    "for i, (bA, bB) in enumerate(zip(diffBasesA, diffBasesB)):\n",
    "    if (bA == 'Z' and bB == 'V'):\n",
    "        if diffAsja[i]==diffBalvis[i]:\n",
    "            sameZV=sameZV+1\n",
    "        else:\n",
    "            diffZV=diffZV+1\n",
    "\n",
    "totalZV=sameZV+diffZV\n",
    "if totalZV!=0:\n",
    "    ZV=(sameZV-diffZV)/totalZV\n",
    "\n",
    "else:\n",
    "    ZV=0"
   ]
  },
  {
   "cell_type": "code",
   "execution_count": 15,
   "metadata": {},
   "outputs": [
    {
     "name": "stdout",
     "output_type": "stream",
     "text": [
      "CHSH inequality value is 2.9161111111111113\n"
     ]
    }
   ],
   "source": [
    "S=ZW+XW-XV+ZV\n",
    "\n",
    "print(\"CHSH inequality value is\", S)"
   ]
  },
  {
   "cell_type": "markdown",
   "metadata": {},
   "source": [
    "Maximally entangled photons would result in $S= ± 2\\sqrt{2}$.\n",
    "\n",
    "If this were not the case, then Asja and Balvis can conclude Espian has introduced errors to the system. \n",
    "\n",
    "If $S$ value corresponds to quantum system, Asja and Balvis can use bits from matching round as a secret key!"
   ]
  },
  {
   "cell_type": "code",
   "execution_count": 16,
   "metadata": {},
   "outputs": [
    {
     "name": "stdout",
     "output_type": "stream",
     "text": [
      "[1, 0, 1, 0, 0, 1, 1, 0, 0, 1, 0, 0, 1, 0, 1, 1, 0, 0, 0, 0, 0, 0, 1, 0, 0, 0, 1, 1, 1, 1, 1, 0, 0, 1, 0, 0, 1, 1, 1, 0, 1, 1, 0, 1, 0, 0, 1, 0, 1, 0, 1]\n",
      "[1, 0, 1, 0, 0, 1, 1, 0, 0, 1, 0, 0, 1, 0, 1, 1, 0, 0, 0, 0, 0, 0, 1, 0, 0, 0, 1, 1, 1, 1, 1, 0, 0, 1, 0, 0, 1, 1, 1, 0, 1, 1, 0, 1, 0, 0, 1, 0, 1, 0, 1]\n"
     ]
    }
   ],
   "source": [
    "print(finalKeyAsja)\n",
    "print(finalKeyBalvis)"
   ]
  },
  {
   "cell_type": "markdown",
   "metadata": {},
   "source": [
    "<font style=\"color:darkorange;font-weight:bold;\"> <h2>Task 1</h2> </font>\n",
    "\n",
    "Re-run this program for different number of EPR pairs.\n",
    "\n",
    "Hint: You only need to change the number of loop iterations at the very start."
   ]
  },
  {
   "cell_type": "markdown",
   "metadata": {},
   "source": [
    "Next: [Security of E91 Protocol](QC22_Security_of_E91_protocol.ipynb)"
   ]
  }
 ],
 "metadata": {
  "kernelspec": {
   "display_name": "Python 3",
   "language": "python",
   "name": "python3"
  },
  "language_info": {
   "codemirror_mode": {
    "name": "ipython",
    "version": 3
   },
   "file_extension": ".py",
   "mimetype": "text/x-python",
   "name": "python",
   "nbconvert_exporter": "python",
   "pygments_lexer": "ipython3",
   "version": "3.8.10"
  }
 },
 "nbformat": 4,
 "nbformat_minor": 2
}
