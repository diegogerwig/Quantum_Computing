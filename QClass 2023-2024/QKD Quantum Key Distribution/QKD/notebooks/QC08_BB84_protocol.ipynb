{
 "cells": [
  {
   "cell_type": "markdown",
   "metadata": {},
   "source": [
    "<table width=\"100%\"><tr style=\"background-color:white;\">\n",
    "    <td style=\"text-align:left;padding:0px;width:142px'\">\n",
    "        <a href=\"https://qworld.net\" target=\"_blank\">\n",
    "            <img src=\"../images/QWorld.png\"></a></td>\n",
    "    <td width=\"*\">&nbsp;&nbsp;&nbsp;&nbsp;&nbsp;&nbsp;</td>\n",
    "    <!-- ############################################# -->\n",
    "    <td style=\"padding:0px;width:90px;\">\n",
    "        <img align=\"right\" src=\"../images/follow_us.png\" height=\"40px\"></td>\n",
    "    <td style=\"padding:0px;width:40px;\">\n",
    "        <a href=\"https://twitter.com/QWorld19\" target=\"_blank\">\n",
    "        <img align=\"right\" src=\"../images/Twitter.png\" width=\"40px\"></a> </td>\n",
    "    <td style=\"padding:0px;width:5px;\"></td>\n",
    "    <td style=\"padding:0px;width:40px;\">\n",
    "        <a href=\"https://www.facebook.com/qworld19/\" target=\"_blank\">\n",
    "        <img align=\"right\" src=\"../images/Fb.png\"></a></td>\n",
    "    <td style=\"padding:0px;width:5px;\"></td>\n",
    "    <td style=\"padding:0px;width:40px;\">\n",
    "        <a href=\"https://www.linkedin.com/company/qworld19\" target=\"_blank\">\n",
    "        <img align=\"right\" src=\"../images/LinkedIn.png\"></a></td>\n",
    "    <td style=\"padding:0px;width:5px;\"></td>\n",
    "    <td style=\"padding:0px;width:40px;\">\n",
    "        <a href=\"https://www.youtube.com/qworld19\" target=\"_blank\">\n",
    "        <img align=\"right\" src=\"../images/YT.png\"></a></td>\n",
    "    <!-- ############################################# -->\n",
    "    <td style=\"padding:0px;width:60px;\">\n",
    "        <img align=\"right\" src=\"../images/join.png\" height=\"40px\"></td>\n",
    "    <td style=\"padding:0px;width:40px;\">\n",
    "        <a href=\"https://discord.gg/akCvr7U87g\"\n",
    "           target=\"_blank\">\n",
    "        <img align=\"right\" src=\"../images/Discord.png\"></a></td>\n",
    "    <!-- ############################################# -->\n",
    "    <td style=\"padding:0px;width:72px;\">\n",
    "        <img align=\"right\" src=\"../images/w3.png\" height=\"40px\"></td>\n",
    "    <td style=\"padding:0px;width:40px;\">\n",
    "        <a href=\"https://qworld.net\" target=\"_blank\">\n",
    "        <img align=\"right\" src=\"../images/www.png\"></a></td>\n",
    "</tr></table>\n",
    "\n",
    "<table width = \"100%\">\n",
    "  <tr style=\"background-color:white;\">\n",
    "    <td style=\"text-align:right;vertical-align:bottom;font-size:12px;\"> \n",
    "        Prepared by Anastasija Trizna (QPoland, QLatvia) & <a href=\"https://www.linkedin.com/in/sabah-ud-din-ahmad\" target=\"_blank\"> Sabah Ud Din Ahmad</a> (QPakistan)</td>\n",
    "    </tr>\n",
    "    <tr><td align=\"right\" style=\"color:#bbbbbb;background-color:#ffffff;font-size:11px;font-style:italic;\">\n",
    "        This cell contains some macros. If there is a problem with displaying mathematical formulas, please run this cell to load these macros.\n",
    "    </td></tr>\n",
    " </table>\n",
    " \n",
    "$ \\newcommand{\\bra}[1]{\\langle #1|} $\n",
    "$ \\newcommand{\\ket}[1]{|#1\\rangle} $\n",
    "$ \\newcommand{\\braket}[2]{\\langle #1|#2\\rangle} $\n",
    "$ \\newcommand{\\dot}[2]{ #1 \\cdot #2} $\n",
    "$ \\newcommand{\\biginner}[2]{\\left\\langle #1,#2\\right\\rangle} $\n",
    "$ \\newcommand{\\mymatrix}[2]{\\left( \\begin{array}{#1} #2\\end{array} \\right)} $\n",
    "$ \\newcommand{\\myvector}[1]{\\mymatrix{c}{#1}} $\n",
    "$ \\newcommand{\\myrvector}[1]{\\mymatrix{r}{#1}} $\n",
    "$ \\newcommand{\\mypar}[1]{\\left( #1 \\right)} $\n",
    "$ \\newcommand{\\mybigpar}[1]{ \\Big( #1 \\Big)} $\n",
    "$ \\newcommand{\\sqrttwo}{\\frac{1}{\\sqrt{2}}} $\n",
    "$ \\newcommand{\\dsqrttwo}{\\dfrac{1}{\\sqrt{2}}} $\n",
    "$ \\newcommand{\\onehalf}{\\frac{1}{2}} $\n",
    "$ \\newcommand{\\donehalf}{\\dfrac{1}{2}} $\n",
    "$ \\newcommand{\\hadamard}{ \\mymatrix{rr}{ \\sqrttwo & \\sqrttwo \\\\ \\sqrttwo & -\\sqrttwo }} $\n",
    "$ \\newcommand{\\vzero}{\\myvector{1\\\\0}} $\n",
    "$ \\newcommand{\\vone}{\\myvector{0\\\\1}} $\n",
    "$ \\newcommand{\\vhadamardzero}{\\myvector{ \\sqrttwo \\\\  \\sqrttwo } } $\n",
    "$ \\newcommand{\\vhadamardone}{ \\myrvector{ \\sqrttwo \\\\ -\\sqrttwo } } $\n",
    "$ \\newcommand{\\myarray}[2]{ \\begin{array}{#1}#2\\end{array}} $\n",
    "$ \\newcommand{\\X}{ \\mymatrix{cc}{0 & 1 \\\\ 1 & 0}  } $\n",
    "$ \\newcommand{\\Z}{ \\mymatrix{rr}{1 & 0 \\\\ 0 & -1}  } $\n",
    "$ \\newcommand{\\Htwo}{ \\mymatrix{rrrr}{ \\frac{1}{2} & \\frac{1}{2} & \\frac{1}{2} & \\frac{1}{2} \\\\ \\frac{1}{2} & -\\frac{1}{2} & \\frac{1}{2} & -\\frac{1}{2} \\\\ \\frac{1}{2} & \\frac{1}{2} & -\\frac{1}{2} & -\\frac{1}{2} \\\\ \\frac{1}{2} & -\\frac{1}{2} & -\\frac{1}{2} & \\frac{1}{2} } } $\n",
    "$ \\newcommand{\\CNOT}{ \\mymatrix{cccc}{1 & 0 & 0 & 0 \\\\ 0 & 1 & 0 & 0 \\\\ 0 & 0 & 0 & 1 \\\\ 0 & 0 & 1 & 0} } $\n",
    "$ \\newcommand{\\norm}[1]{ \\left\\lVert #1 \\right\\rVert } $\n",
    "\n",
    " ---"
   ]
  },
  {
   "cell_type": "markdown",
   "metadata": {},
   "source": [
    "## Quantum Key Distribution"
   ]
  },
  {
   "cell_type": "markdown",
   "metadata": {},
   "source": [
    "Quantum Key Distribution (<b>QKD</b>) is the best-known application of quantum cryptography which offers an information-theoretically secure solution to the problem of exchanging keys in secure communications.\n",
    "\n",
    "The security of QKD is measured with respect to a perfect key distribution scheme where two or more users share a randomly generated secret key.\n",
    "\n",
    "Recall, key is a very valuable commodity in secure communication even though it conveys no useful information itself."
   ]
  },
  {
   "cell_type": "markdown",
   "metadata": {},
   "source": [
    "<div class=\"alert alert-block alert-info\">\n",
    "<center>The security of algorithms is based in the key (or keys) and none is based in the details of the algorithm.</center>\n",
    "</div>"
   ]
  },
  {
   "cell_type": "markdown",
   "metadata": {},
   "source": [
    "<h3>QKD Structure</h3>\n",
    "\n",
    "Let's first define the configuration. \n",
    "\n",
    "<b>Quantum channel</b>: Our users will need to share a quantum channel to distribute qubits. \n",
    "\n",
    "<b>Authenticated classical channel</b>: In parallel, users need to share authenticated classical channel, so that everyone can listen and/or acquire a copy of the transmitted information but cannot meddle and modify messages which are transmitted during the communication session."
   ]
  },
  {
   "cell_type": "markdown",
   "metadata": {},
   "source": [
    "Most QKDs have a common underlying structure, that include five steps. Four out of five steps are performed using classical communication channel."
   ]
  },
  {
   "cell_type": "markdown",
   "metadata": {},
   "source": [
    "<td style=\"background-color:#ffffff;\"><img src=\"../images/structure.jpg\" width=\"70%\" align=\"middle\"></td> "
   ]
  },
  {
   "cell_type": "markdown",
   "metadata": {},
   "source": [
    "> 1. <b>Distributing quantum states</b> - Asja prepares and encodes her qubits, then sends those to Balvis.\n",
    "> 2. <b>Sifting</b> - Asja and Balvis compare encoding and decoding information.\n",
    "> 3. <b>Quantum Bit Error Rate (QBER)</b> - Asja and Balvis compare part of their key string to verify error rate.\n",
    "> 4. <b>Information Reconciliation</b> - If previous step showed that error value $≠0$, then users apply error correction techniques to ensure that their key is identical. \n",
    "> 5. <b>Privacy Amplification</b> - Users generate final key string."
   ]
  },
  {
   "cell_type": "markdown",
   "metadata": {},
   "source": [
    "### Types of QKD Protocols <sup>[1]</sup>\n",
    "\n",
    "1. **BB84 and variants (Based on Heisenberg's Uncertainty Principle)**\n",
    "> A single-photon pulse is passed through a polarizer. Asja can use a particular polarizer to polarize a single-photon pulse and encode binary value bits to the outcome of a particular type (vertical, horizontal, circular, etc) of a polarizer. On receiving the photon beam, Balvis would guess the polarizer, and he can thus match the cases with Asja and know the correctness of his guesses. If Espian would have been trying to decode, then due to polarization by Espian’s polarizer, there would be discrepancies in match cases of Asja & Balvis and thus they would know about eavesdropping.\n",
    "Examples are BB84, B92, SARG04.\n",
    "\n",
    "2. **E91 and variants (Based on Quantum Entanglement)**\n",
    "> There is a single source that emits a pair of entangled photons with Asja & Balvis receiving each particle. Similar to the BB84 scheme, Asja & Balvis would exchange encoded bits and match cases for each photon transferred. But in this scenario, the outcome of the results of the match cases of Asja & Balvis will be the opposite as a consequence of the Entanglement principle. Either of them will have complement bits in bit strings interpreted. One of them can then invert bits to agree upon a key. Since Bell’s Inequality should not hold for entangled particles, thus this test can confirm the absence of eavesdroppers. Since practically it is not possible to have a third photon in entanglement with energy levels sufficient for nondetect ability, thus this system is fully secure. "
   ]
  },
  {
   "cell_type": "markdown",
   "metadata": {},
   "source": [
    "### Introduction to BB84 Protocol\n",
    "\n",
    "<b>BB84</b>, is the first in the history of QKD protocols, published in 1984 by Charles H. Bennett and Gilles Brassard. The idea introduced by BB84 has been inherited by many other QKD protocols. \n",
    "\n",
    "The protocol is secure, relying on two conditions: \n",
    "> 1. Information gain is only possible at the expense of disturbing the states (if the two states are not orthogonal)\n",
    "> 2. An authenticated public classical channel should exist. \n",
    "\n",
    "BB84 is a method of securely communicating a private key from one party to another for use in one-time pad encryption.\n",
    "\n",
    "Thus, we will review BB84 in detail, create its program step-by-step and verify its security."
   ]
  },
  {
   "cell_type": "markdown",
   "metadata": {},
   "source": [
    "<h3>BB84 Protocol (Noise-free Version)</h3>"
   ]
  },
  {
   "cell_type": "markdown",
   "metadata": {},
   "source": [
    "<td style=\"background-color:#ffffff;\"><img src=\"../images/BB84.jpg\" width=\"70%\" align=\"middle\"></td> "
   ]
  },
  {
   "cell_type": "markdown",
   "metadata": {},
   "source": [
    "**We are currently assuming that there is no eavesdropper (for example, Espian) in the communication channel.**\n",
    "\n",
    "Now, we will look at each of these steps in more detail in next notebooks. "
   ]
  },
  {
   "cell_type": "markdown",
   "metadata": {},
   "source": [
    "#### References\n",
    "\n",
    "1. https://www.geeksforgeeks.org/quantum-cryptography/?ref=rp"
   ]
  },
  {
   "cell_type": "markdown",
   "metadata": {},
   "source": [
    "Next: [Distributing Quantum States](QC09_Distributing_quantum_states.ipynb)"
   ]
  }
 ],
 "metadata": {
  "kernelspec": {
   "display_name": "Python 3",
   "language": "python",
   "name": "python3"
  },
  "language_info": {
   "codemirror_mode": {
    "name": "ipython",
    "version": 3
   },
   "file_extension": ".py",
   "mimetype": "text/x-python",
   "name": "python",
   "nbconvert_exporter": "python",
   "pygments_lexer": "ipython3",
   "version": "3.8.10"
  }
 },
 "nbformat": 4,
 "nbformat_minor": 2
}
