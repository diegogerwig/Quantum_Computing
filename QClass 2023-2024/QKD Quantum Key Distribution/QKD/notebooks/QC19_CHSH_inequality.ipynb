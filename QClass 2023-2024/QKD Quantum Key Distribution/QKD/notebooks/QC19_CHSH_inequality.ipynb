{
 "cells": [
  {
   "cell_type": "markdown",
   "metadata": {},
   "source": [
    "<table width=\"100%\"><tr style=\"background-color:white;\">\n",
    "    <td style=\"text-align:left;padding:0px;width:142px'\">\n",
    "        <a href=\"https://qworld.net\" target=\"_blank\">\n",
    "            <img src=\"../images/QWorld.png\"></a></td>\n",
    "    <td width=\"*\">&nbsp;&nbsp;&nbsp;&nbsp;&nbsp;&nbsp;</td>\n",
    "    <!-- ############################################# -->\n",
    "    <td style=\"padding:0px;width:90px;\">\n",
    "        <img align=\"right\" src=\"../images/follow_us.png\" height=\"40px\"></td>\n",
    "    <td style=\"padding:0px;width:40px;\">\n",
    "        <a href=\"https://twitter.com/QWorld19\" target=\"_blank\">\n",
    "        <img align=\"right\" src=\"../images/Twitter.png\" width=\"40px\"></a> </td>\n",
    "    <td style=\"padding:0px;width:5px;\"></td>\n",
    "    <td style=\"padding:0px;width:40px;\">\n",
    "        <a href=\"https://www.facebook.com/qworld19/\" target=\"_blank\">\n",
    "        <img align=\"right\" src=\"../images/Fb.png\"></a></td>\n",
    "    <td style=\"padding:0px;width:5px;\"></td>\n",
    "    <td style=\"padding:0px;width:40px;\">\n",
    "        <a href=\"https://www.linkedin.com/company/qworld19\" target=\"_blank\">\n",
    "        <img align=\"right\" src=\"../images/LinkedIn.png\"></a></td>\n",
    "    <td style=\"padding:0px;width:5px;\"></td>\n",
    "    <td style=\"padding:0px;width:40px;\">\n",
    "        <a href=\"https://www.youtube.com/qworld19\" target=\"_blank\">\n",
    "        <img align=\"right\" src=\"../images/YT.png\"></a></td>\n",
    "    <!-- ############################################# -->\n",
    "    <td style=\"padding:0px;width:60px;\">\n",
    "        <img align=\"right\" src=\"../images/join.png\" height=\"40px\"></td>\n",
    "    <td style=\"padding:0px;width:40px;\">\n",
    "        <a href=\"https://discord.gg/akCvr7U87g\"\n",
    "           target=\"_blank\">\n",
    "        <img align=\"right\" src=\"../images/Discord.png\"></a></td>\n",
    "    <!-- ############################################# -->\n",
    "    <td style=\"padding:0px;width:72px;\">\n",
    "        <img align=\"right\" src=\"../images/w3.png\" height=\"40px\"></td>\n",
    "    <td style=\"padding:0px;width:40px;\">\n",
    "        <a href=\"https://qworld.net\" target=\"_blank\">\n",
    "        <img align=\"right\" src=\"../images/www.png\"></a></td>\n",
    "</tr></table>\n",
    "\n",
    "<table width = \"100%\">\n",
    "  <tr style=\"background-color:white;\">\n",
    "    <td style=\"text-align:right;vertical-align:bottom;font-size:12px;\"> \n",
    "        Prepared by Anastasija Trizna (QPoland, QLatvia) & <a href=\"https://www.linkedin.com/in/sabah-ud-din-ahmad\" target=\"_blank\"> Sabah Ud Din Ahmad</a> (QPakistan)</td>\n",
    "    </tr>\n",
    "    <tr><td align=\"right\" style=\"color:#bbbbbb;background-color:#ffffff;font-size:11px;font-style:italic;\">\n",
    "        This cell contains some macros. If there is a problem with displaying mathematical formulas, please run this cell to load these macros.\n",
    "    </td></tr>\n",
    " </table>\n",
    " \n",
    "$ \\newcommand{\\bra}[1]{\\langle #1|} $\n",
    "$ \\newcommand{\\ket}[1]{|#1\\rangle} $\n",
    "$ \\newcommand{\\braket}[2]{\\langle #1|#2\\rangle} $\n",
    "$ \\newcommand{\\dot}[2]{ #1 \\cdot #2} $\n",
    "$ \\newcommand{\\biginner}[2]{\\left\\langle #1,#2\\right\\rangle} $\n",
    "$ \\newcommand{\\mymatrix}[2]{\\left( \\begin{array}{#1} #2\\end{array} \\right)} $\n",
    "$ \\newcommand{\\myvector}[1]{\\mymatrix{c}{#1}} $\n",
    "$ \\newcommand{\\myrvector}[1]{\\mymatrix{r}{#1}} $\n",
    "$ \\newcommand{\\mypar}[1]{\\left( #1 \\right)} $\n",
    "$ \\newcommand{\\mybigpar}[1]{ \\Big( #1 \\Big)} $\n",
    "$ \\newcommand{\\sqrttwo}{\\frac{1}{\\sqrt{2}}} $\n",
    "$ \\newcommand{\\dsqrttwo}{\\dfrac{1}{\\sqrt{2}}} $\n",
    "$ \\newcommand{\\onehalf}{\\frac{1}{2}} $\n",
    "$ \\newcommand{\\donehalf}{\\dfrac{1}{2}} $\n",
    "$ \\newcommand{\\hadamard}{ \\mymatrix{rr}{ \\sqrttwo & \\sqrttwo \\\\ \\sqrttwo & -\\sqrttwo }} $\n",
    "$ \\newcommand{\\vzero}{\\myvector{1\\\\0}} $\n",
    "$ \\newcommand{\\vone}{\\myvector{0\\\\1}} $\n",
    "$ \\newcommand{\\vhadamardzero}{\\myvector{ \\sqrttwo \\\\  \\sqrttwo } } $\n",
    "$ \\newcommand{\\vhadamardone}{ \\myrvector{ \\sqrttwo \\\\ -\\sqrttwo } } $\n",
    "$ \\newcommand{\\myarray}[2]{ \\begin{array}{#1}#2\\end{array}} $\n",
    "$ \\newcommand{\\X}{ \\mymatrix{cc}{0 & 1 \\\\ 1 & 0}  } $\n",
    "$ \\newcommand{\\Z}{ \\mymatrix{rr}{1 & 0 \\\\ 0 & -1}  } $\n",
    "$ \\newcommand{\\Htwo}{ \\mymatrix{rrrr}{ \\frac{1}{2} & \\frac{1}{2} & \\frac{1}{2} & \\frac{1}{2} \\\\ \\frac{1}{2} & -\\frac{1}{2} & \\frac{1}{2} & -\\frac{1}{2} \\\\ \\frac{1}{2} & \\frac{1}{2} & -\\frac{1}{2} & -\\frac{1}{2} \\\\ \\frac{1}{2} & -\\frac{1}{2} & -\\frac{1}{2} & \\frac{1}{2} } } $\n",
    "$ \\newcommand{\\CNOT}{ \\mymatrix{cccc}{1 & 0 & 0 & 0 \\\\ 0 & 1 & 0 & 0 \\\\ 0 & 0 & 0 & 1 \\\\ 0 & 0 & 1 & 0} } $\n",
    "$ \\newcommand{\\norm}[1]{ \\left\\lVert #1 \\right\\rVert } $\n",
    "\n",
    " ---"
   ]
  },
  {
   "cell_type": "markdown",
   "metadata": {},
   "source": [
    "## CHSH Inequality\n",
    "\n",
    "To understand CHSH inequality, we will consider a slightly modified experiment.\n",
    "\n",
    "Espian will create an EPR pair and send one qubit to Asja, and second qubit to Balvis.\n",
    "\n",
    "Asja chooses between two detectors and performs a measurement: \n",
    "<center>$Z$ or $X$</center>\n",
    "Balvis chooses between two detectors and performs a measurement:\n",
    "<center>$W=\\frac{X+Z}{\\sqrt{2}}$ or $V=\\frac{-X+Z}{\\sqrt{2}}$</center>\n",
    "\n",
    "We suppose, for simplicity, that the measurements can each have one of two outcomes $+1$ or $−1$.\n",
    "\n",
    "The timing of the experiment is arranged so that Asja and Balvis do their measurements at the same time."
   ]
  },
  {
   "cell_type": "markdown",
   "metadata": {},
   "source": [
    "<div class=\"alert alert-block alert-info\">\n",
    "    John <b>C</b>lauser, Michael <b>H</b>orne, Abner <b>S</b>himony and Richard <b>H</b>olt derived <b>CHSH inequality</b>, that can be used in the proof of Bell's theorem:\n",
    "\n",
    "$$S=ZW+XW-XV+ZV$$ \n",
    "</div>"
   ]
  },
  {
   "cell_type": "markdown",
   "metadata": {},
   "source": [
    "Applying simple algebra,\n",
    "\n",
    "$$ZW+XW-XV+ZV = (Z+X)W+(Z-X)V$$"
   ]
  },
  {
   "cell_type": "markdown",
   "metadata": {},
   "source": [
    "#### Classical Correlation\n",
    "\n",
    "Because measurement outcomes can either be $+1$ or $-1$, $(Z+X)W=0$ and $(Z-X)V=\\pm 2$ or $(Z-X)V=0$ and $(Z+X)W=\\pm 2$.\n",
    "\n",
    "We can conclude that,\n",
    "$S=\\pm 2$"
   ]
  },
  {
   "cell_type": "markdown",
   "metadata": {},
   "source": [
    "<h4>Quantum correlation</h4>"
   ]
  },
  {
   "cell_type": "markdown",
   "metadata": {},
   "source": [
    "\n",
    "Let initial state be,\n",
    "$$\\ket{\\psi}=\\frac{\\ket{00}+\\ket{11}}{\\sqrt{2}}$$\n",
    "\n",
    "The four expectation values for observables, written in the quantum mechanical ⟨S⟩ notation are,\n",
    "<center>$\\langle Z\\otimes W\\rangle = \\frac{1}{\\sqrt{2}}$\n",
    "<center>$\\langle X\\otimes W\\rangle = \\frac{1}{\\sqrt{2}}$\n",
    "<center>$\\langle X\\otimes V\\rangle = -\\frac{1}{\\sqrt{2}}$\n",
    "<center>$\\langle Z\\otimes V\\rangle = \\frac{1}{\\sqrt{2}}$"
   ]
  },
  {
   "cell_type": "markdown",
   "metadata": {},
   "source": [
    "Now, let's calculate CHSH quantum correlation value,\n",
    "\n",
    "<center>$S=\\frac{1}{\\sqrt{2}}+\\frac{1}{\\sqrt{2}}-(-\\frac{1}{\\sqrt{2}})+\\frac{1}{\\sqrt{2}} = 2{\\sqrt{2}}$"
   ]
  },
  {
   "cell_type": "markdown",
   "metadata": {},
   "source": [
    "<center>$2≠2{\\sqrt{2}}$\n",
    "    \n",
    "**The violation of CHSH inequality serve as an indicator of quantum entanglement!**"
   ]
  },
  {
   "cell_type": "markdown",
   "metadata": {},
   "source": [
    "<div class=\"alert alert-block alert-warning\">\n",
    "    <h3>Example 1: Quantum Correlation </h3>\n",
    "    Let's run four experiments, each 100 times and collect statistics.\n",
    "\n",
    "<b>1st experiment</b> - $⟨Z\\otimes W⟩$:\\\n",
    "Start with EPR pair, where Asja will measure first qubit (qreg[0]) and Balvis will measure second qubit (qreg[1]).\\\n",
    "Asja measures in $Z$-basis, Balvis measures in $W$-basis.\\\n",
    "To rotate the measurement basis to $W$-axis, use sequence of gates: $S-H-T-H$.\n",
    "\n",
    "<b>2nd experiment</b> - $⟨X\\otimes W⟩$:\\\n",
    "Start with EPR pair, where Asja will measure first qubit (qreg[0]) and Balvis will measure second qubit (qreg[1]).\\\n",
    "Asja measures in $X$-basis, Balvis measures in $W$-basis.\n",
    "\n",
    "<b>3rd experiment</b> - $⟨X\\otimes V⟩$:\\\n",
    "Start with EPR pair, where Asja will measure first qubit (qreg[0]) and Balvis will measure second qubit (qreg[1]).\\\n",
    "Asja measures in $X$-basis, Balvis measures in $V$-basis.\\\n",
    "To rotate the measurement basis to $V$-axis, use sequence of gates: $S-H-T\\dagger-H$.\n",
    "\n",
    "<b>4th experiment</b> - $⟨Z\\otimes V⟩$:\\\n",
    "Start with EPR pair, where Asja will measure first qubit (qreg[0]) and Balvis will measure second qubit (qreg[1]).\\\n",
    "Asja measures in $Z$-basis, Balvis measures in $V$-basis.\n",
    "</div> "
   ]
  },
  {
   "cell_type": "code",
   "execution_count": 1,
   "metadata": {},
   "outputs": [],
   "source": [
    "# import all necessary objects and methods for quantum circuits\n",
    "from qiskit import QuantumRegister, ClassicalRegister, QuantumCircuit, execute, Aer\n",
    "from random import randrange"
   ]
  },
  {
   "cell_type": "code",
   "execution_count": 2,
   "metadata": {},
   "outputs": [
    {
     "data": {
      "image/png": "[encoded data removed]",
      "text/plain": [
       "<Figure size 460.633x204.68 with 1 Axes>"
      ]
     },
     "execution_count": 2,
     "metadata": {},
     "output_type": "execute_result"
    }
   ],
   "source": [
    "#1st experiment - ZW\n",
    "qreg = QuantumRegister(2)\n",
    "creg = ClassicalRegister(2) \n",
    "mycircuit1 = QuantumCircuit(qreg, creg)\n",
    "\n",
    "#Creating entanglement\n",
    "mycircuit1.h(qreg[0])\n",
    "mycircuit1.cx(qreg[0], qreg[1])\n",
    "\n",
    "#Asja measure 1st qubit qreg[0] in Z basis, thus do nothing\n",
    "\n",
    "#Balvis measure 2nd qubit qreg[1] in W basis, thus applies S-H-T-H gates first\n",
    "mycircuit1.s(qreg[1])\n",
    "mycircuit1.h(qreg[1])\n",
    "mycircuit1.t(qreg[1])\n",
    "mycircuit1.h(qreg[1])\n",
    "\n",
    "mycircuit1.draw(output='mpl')"
   ]
  },
  {
   "cell_type": "code",
   "execution_count": 3,
   "metadata": {},
   "outputs": [
    {
     "name": "stdout",
     "output_type": "stream",
     "text": [
      "{'11': 51, '10': 7, '00': 35, '01': 7}\n"
     ]
    }
   ],
   "source": [
    "mycircuit1.measure(qreg,creg)\n",
    "\n",
    "job = execute(mycircuit1,Aer.get_backend('qasm_simulator'),shots=100)\n",
    "countsZW = job.result().get_counts(mycircuit1)\n",
    "print(countsZW) # counts is a dictionary"
   ]
  },
  {
   "cell_type": "code",
   "execution_count": 4,
   "metadata": {},
   "outputs": [
    {
     "data": {
      "image/png": "[encoded data removed]",
      "text/plain": [
       "<Figure size 473.904x204.68 with 1 Axes>"
      ]
     },
     "execution_count": 4,
     "metadata": {},
     "output_type": "execute_result"
    }
   ],
   "source": [
    "#2nd experiment - XW\n",
    "qreg = QuantumRegister(2)\n",
    "creg = ClassicalRegister(2) \n",
    "mycircuit2 = QuantumCircuit(qreg, creg)\n",
    "\n",
    "#Creating entanglement\n",
    "mycircuit2.h(qreg[0])\n",
    "mycircuit2.cx(qreg[0], qreg[1])\n",
    "\n",
    "#Asja measure 1st qubit qreg[0] in X basis\n",
    "mycircuit2.h(qreg[0])\n",
    "\n",
    "#Balvis measure 2nd qubit qreg[1] in W basis\n",
    "mycircuit2.s(qreg[1])\n",
    "mycircuit2.h(qreg[1])\n",
    "mycircuit2.t(qreg[1])\n",
    "mycircuit2.h(qreg[1])\n",
    "\n",
    "mycircuit2.draw(output='mpl')"
   ]
  },
  {
   "cell_type": "code",
   "execution_count": 5,
   "metadata": {},
   "outputs": [
    {
     "name": "stdout",
     "output_type": "stream",
     "text": [
      "{'01': 6, '00': 40, '10': 10, '11': 44}\n"
     ]
    }
   ],
   "source": [
    "mycircuit2.measure(qreg,creg)\n",
    "\n",
    "job = execute(mycircuit2,Aer.get_backend('qasm_simulator'),shots=100)\n",
    "countsXW = job.result().get_counts(mycircuit2)\n",
    "print(countsXW) # counts is a dictionary"
   ]
  },
  {
   "cell_type": "code",
   "execution_count": 6,
   "metadata": {},
   "outputs": [
    {
     "data": {
      "image/png": "[encoded data removed]",
      "text/plain": [
       "<Figure size 473.904x204.68 with 1 Axes>"
      ]
     },
     "execution_count": 6,
     "metadata": {},
     "output_type": "execute_result"
    }
   ],
   "source": [
    "#3rd experiment - XV\n",
    "qreg = QuantumRegister(2)\n",
    "creg = ClassicalRegister(2) \n",
    "mycircuit3 = QuantumCircuit(qreg, creg)\n",
    "\n",
    "#Creating entanglement\n",
    "mycircuit3.h(qreg[0])\n",
    "mycircuit3.cx(qreg[0], qreg[1])\n",
    "\n",
    "#Asja measure 1st qubit qreg[0] in X basis\n",
    "mycircuit3.h(qreg[0])\n",
    "\n",
    "#Balvis measure 2nd qubit qreg[1] in V basis\n",
    "mycircuit3.s(qreg[1])\n",
    "mycircuit3.h(qreg[1])\n",
    "mycircuit3.tdg(qreg[1])\n",
    "mycircuit3.h(qreg[1])\n",
    "\n",
    "mycircuit3.draw(output='mpl')"
   ]
  },
  {
   "cell_type": "code",
   "execution_count": 7,
   "metadata": {},
   "outputs": [
    {
     "name": "stdout",
     "output_type": "stream",
     "text": [
      "{'01': 43, '00': 11, '10': 37, '11': 9}\n"
     ]
    }
   ],
   "source": [
    "mycircuit3.measure(qreg,creg)\n",
    "\n",
    "job = execute(mycircuit3,Aer.get_backend('qasm_simulator'),shots=100)\n",
    "countsXV = job.result().get_counts(mycircuit3)\n",
    "print(countsXV) # counts is a dictionary"
   ]
  },
  {
   "cell_type": "code",
   "execution_count": 8,
   "metadata": {},
   "outputs": [
    {
     "data": {
      "image/png": "[encoded data removed]",
      "text/plain": [
       "<Figure size 473.759x204.68 with 1 Axes>"
      ]
     },
     "execution_count": 8,
     "metadata": {},
     "output_type": "execute_result"
    }
   ],
   "source": [
    "#3rd experiment - ZV\n",
    "qreg = QuantumRegister(2)\n",
    "creg = ClassicalRegister(2) \n",
    "mycircuit4 = QuantumCircuit(qreg, creg)\n",
    "\n",
    "#Creating entanglement\n",
    "mycircuit4.h(qreg[0])\n",
    "mycircuit4.cx(qreg[0], qreg[1])\n",
    "\n",
    "#Asja measure 1st qubit qreg[0] in Z basis\n",
    "\n",
    "#Balvis measure 2nd qubit qreg[1] in V basis\n",
    "mycircuit4.s(qreg[1])\n",
    "mycircuit4.h(qreg[1])\n",
    "mycircuit4.tdg(qreg[1])\n",
    "mycircuit4.h(qreg[1])\n",
    "\n",
    "mycircuit4.draw(output='mpl')"
   ]
  },
  {
   "cell_type": "code",
   "execution_count": 9,
   "metadata": {},
   "outputs": [
    {
     "name": "stdout",
     "output_type": "stream",
     "text": [
      "{'00': 50, '11': 40, '10': 5, '01': 5}\n"
     ]
    }
   ],
   "source": [
    "mycircuit4.measure(qreg,creg)\n",
    "\n",
    "job = execute(mycircuit4,Aer.get_backend('qasm_simulator'),shots=100)\n",
    "countsZV = job.result().get_counts(mycircuit4)\n",
    "print(countsZV) # counts is a dictionary"
   ]
  },
  {
   "cell_type": "markdown",
   "metadata": {},
   "source": [
    "<font style=\"color:darkorange;font-weight:bold;\"> <h2>Task 1: Calculating correlation values</h2> </font>\n",
    "\n",
    "Calculate correlation value for each experiment using the formula:\n",
    "\n",
    "<center>$⟨A\\otimes B⟩=P(1,1)+P(0,0)-P(1,0)-P(0,1)$</center>\n",
    "\n",
    "where $P(1,1)$ and $P(0,0)$ are probabilities of correlated results.\\\n",
    "They can be calculated as number of rounds where Asja and Balvis obtained identical bits after measurement ($11$ and $00$) divided by 100 (all rounds);\n",
    "\n",
    "$P(1,0)$ and $P(0,1)$ are probabilities of uncorrelated results.\\\n",
    "They can be calculated as number of rounds where Asja and Balvis obtained different bits ($10$ and $01$) divided by 100 (all rounds)."
   ]
  },
  {
   "cell_type": "code",
   "execution_count": null,
   "metadata": {},
   "outputs": [],
   "source": [
    "ZW= ### YOUR CODE HERE ###\n",
    "XW= ### YOUR CODE HERE ###\n",
    "XV= ### YOUR CODE HERE ###\n",
    "ZV= ### YOUR CODE HERE ###\n",
    "\n",
    "print(ZW, XW, XV, ZV)"
   ]
  },
  {
   "cell_type": "markdown",
   "metadata": {},
   "source": [
    "[Click here for solution](QC19_CHSH_inequality_Solutions.ipynb#task1)\n",
    "\n",
    "***"
   ]
  },
  {
   "cell_type": "markdown",
   "metadata": {},
   "source": [
    "<font style=\"color:darkorange;font-weight:bold;\"> <h2>Task 2: CHSH inequality value</h2> </font>\n",
    "\n",
    "Calculate CHSH inequality value using formula $S=ZW+XW-XV+ZV$ and correlation values calculated previously."
   ]
  },
  {
   "cell_type": "code",
   "execution_count": null,
   "metadata": {},
   "outputs": [],
   "source": [
    "S= ### YOUR CODE HERE ###\n",
    "\n",
    "print(\"CHSH inequality value is\", S)"
   ]
  },
  {
   "cell_type": "markdown",
   "metadata": {},
   "source": [
    "[Click here for solution](QC19_CHSH_inequality_Solutions.ipynb#task2)\n",
    "\n",
    "***"
   ]
  },
  {
   "cell_type": "markdown",
   "metadata": {},
   "source": [
    "CHSH inequality result describes the system and can serve as an indicator of quantum entanglement:\n",
    "<center>$S=±2$ → Classical system</center>\n",
    "<center>$S=±2{\\sqrt{2}}$ → Quantum system</center>\n",
    "    \n",
    "<b>This fact finds its application in the E91 QKD protocol!</b>\n",
    "    \n",
    "Next: [E91 Protocol](QC20_E91_protocol_workflow.ipynb)"
   ]
  }
 ],
 "metadata": {
  "kernelspec": {
   "display_name": "Python 3",
   "language": "python",
   "name": "python3"
  },
  "language_info": {
   "codemirror_mode": {
    "name": "ipython",
    "version": 3
   },
   "file_extension": ".py",
   "mimetype": "text/x-python",
   "name": "python",
   "nbconvert_exporter": "python",
   "pygments_lexer": "ipython3",
   "version": "3.8.10"
  }
 },
 "nbformat": 4,
 "nbformat_minor": 2
}
