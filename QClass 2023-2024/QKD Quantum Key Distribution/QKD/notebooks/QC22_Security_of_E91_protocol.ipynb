{
 "cells": [
  {
   "cell_type": "markdown",
   "metadata": {},
   "source": [
    "<table width=\"100%\"><tr style=\"background-color:white;\">\n",
    "    <td style=\"text-align:left;padding:0px;width:142px'\">\n",
    "        <a href=\"https://qworld.net\" target=\"_blank\">\n",
    "            <img src=\"../images/QWorld.png\"></a></td>\n",
    "    <td width=\"*\">&nbsp;&nbsp;&nbsp;&nbsp;&nbsp;&nbsp;</td>\n",
    "    <!-- ############################################# -->\n",
    "    <td style=\"padding:0px;width:90px;\">\n",
    "        <img align=\"right\" src=\"../images/follow_us.png\" height=\"40px\"></td>\n",
    "    <td style=\"padding:0px;width:40px;\">\n",
    "        <a href=\"https://twitter.com/QWorld19\" target=\"_blank\">\n",
    "        <img align=\"right\" src=\"../images/Twitter.png\" width=\"40px\"></a> </td>\n",
    "    <td style=\"padding:0px;width:5px;\"></td>\n",
    "    <td style=\"padding:0px;width:40px;\">\n",
    "        <a href=\"https://www.facebook.com/qworld19/\" target=\"_blank\">\n",
    "        <img align=\"right\" src=\"../images/Fb.png\"></a></td>\n",
    "    <td style=\"padding:0px;width:5px;\"></td>\n",
    "    <td style=\"padding:0px;width:40px;\">\n",
    "        <a href=\"https://www.linkedin.com/company/qworld19\" target=\"_blank\">\n",
    "        <img align=\"right\" src=\"../images/LinkedIn.png\"></a></td>\n",
    "    <td style=\"padding:0px;width:5px;\"></td>\n",
    "    <td style=\"padding:0px;width:40px;\">\n",
    "        <a href=\"https://www.youtube.com/qworld19\" target=\"_blank\">\n",
    "        <img align=\"right\" src=\"../images/YT.png\"></a></td>\n",
    "    <!-- ############################################# -->\n",
    "    <td style=\"padding:0px;width:60px;\">\n",
    "        <img align=\"right\" src=\"../images/join.png\" height=\"40px\"></td>\n",
    "    <td style=\"padding:0px;width:40px;\">\n",
    "        <a href=\"https://discord.gg/akCvr7U87g\"\n",
    "           target=\"_blank\">\n",
    "        <img align=\"right\" src=\"../images/Discord.png\"></a></td>\n",
    "    <!-- ############################################# -->\n",
    "    <td style=\"padding:0px;width:72px;\">\n",
    "        <img align=\"right\" src=\"../images/w3.png\" height=\"40px\"></td>\n",
    "    <td style=\"padding:0px;width:40px;\">\n",
    "        <a href=\"https://qworld.net\" target=\"_blank\">\n",
    "        <img align=\"right\" src=\"../images/www.png\"></a></td>\n",
    "</tr></table>\n",
    "\n",
    "<table width = \"100%\">\n",
    "  <tr style=\"background-color:white;\">\n",
    "    <td style=\"text-align:right;vertical-align:bottom;font-size:12px;\"> \n",
    "        Prepared by Anastasija Trizna (QPoland, QLatvia)</td>\n",
    "    </tr>\n",
    "    <tr><td align=\"right\" style=\"color:#bbbbbb;background-color:#ffffff;font-size:11px;font-style:italic;\">\n",
    "        This cell contains some macros. If there is a problem with displaying mathematical formulas, please run this cell to load these macros.\n",
    "    </td></tr>\n",
    " </table>\n",
    " \n",
    "$ \\newcommand{\\bra}[1]{\\langle #1|} $\n",
    "$ \\newcommand{\\ket}[1]{|#1\\rangle} $\n",
    "$ \\newcommand{\\braket}[2]{\\langle #1|#2\\rangle} $\n",
    "$ \\newcommand{\\dot}[2]{ #1 \\cdot #2} $\n",
    "$ \\newcommand{\\biginner}[2]{\\left\\langle #1,#2\\right\\rangle} $\n",
    "$ \\newcommand{\\mymatrix}[2]{\\left( \\begin{array}{#1} #2\\end{array} \\right)} $\n",
    "$ \\newcommand{\\myvector}[1]{\\mymatrix{c}{#1}} $\n",
    "$ \\newcommand{\\myrvector}[1]{\\mymatrix{r}{#1}} $\n",
    "$ \\newcommand{\\mypar}[1]{\\left( #1 \\right)} $\n",
    "$ \\newcommand{\\mybigpar}[1]{ \\Big( #1 \\Big)} $\n",
    "$ \\newcommand{\\sqrttwo}{\\frac{1}{\\sqrt{2}}} $\n",
    "$ \\newcommand{\\dsqrttwo}{\\dfrac{1}{\\sqrt{2}}} $\n",
    "$ \\newcommand{\\onehalf}{\\frac{1}{2}} $\n",
    "$ \\newcommand{\\donehalf}{\\dfrac{1}{2}} $\n",
    "$ \\newcommand{\\hadamard}{ \\mymatrix{rr}{ \\sqrttwo & \\sqrttwo \\\\ \\sqrttwo & -\\sqrttwo }} $\n",
    "$ \\newcommand{\\vzero}{\\myvector{1\\\\0}} $\n",
    "$ \\newcommand{\\vone}{\\myvector{0\\\\1}} $\n",
    "$ \\newcommand{\\vhadamardzero}{\\myvector{ \\sqrttwo \\\\  \\sqrttwo } } $\n",
    "$ \\newcommand{\\vhadamardone}{ \\myrvector{ \\sqrttwo \\\\ -\\sqrttwo } } $\n",
    "$ \\newcommand{\\myarray}[2]{ \\begin{array}{#1}#2\\end{array}} $\n",
    "$ \\newcommand{\\X}{ \\mymatrix{cc}{0 & 1 \\\\ 1 & 0}  } $\n",
    "$ \\newcommand{\\Z}{ \\mymatrix{rr}{1 & 0 \\\\ 0 & -1}  } $\n",
    "$ \\newcommand{\\Htwo}{ \\mymatrix{rrrr}{ \\frac{1}{2} & \\frac{1}{2} & \\frac{1}{2} & \\frac{1}{2} \\\\ \\frac{1}{2} & -\\frac{1}{2} & \\frac{1}{2} & -\\frac{1}{2} \\\\ \\frac{1}{2} & \\frac{1}{2} & -\\frac{1}{2} & -\\frac{1}{2} \\\\ \\frac{1}{2} & -\\frac{1}{2} & -\\frac{1}{2} & \\frac{1}{2} } } $\n",
    "$ \\newcommand{\\CNOT}{ \\mymatrix{cccc}{1 & 0 & 0 & 0 \\\\ 0 & 1 & 0 & 0 \\\\ 0 & 0 & 0 & 1 \\\\ 0 & 0 & 1 & 0} } $\n",
    "$ \\newcommand{\\norm}[1]{ \\left\\lVert #1 \\right\\rVert } $\n",
    "\n",
    " ---"
   ]
  },
  {
   "cell_type": "markdown",
   "metadata": {},
   "source": [
    "## Security of E91 Protocol\n",
    "\n",
    "Espian cannot gain any information from the qubits while those are in transit from the legitimate users, because there is no information encoded there. \n",
    "\n",
    "The information \"comes into being\" only after Asja and Balvis perform measurements."
   ]
  },
  {
   "cell_type": "markdown",
   "metadata": {},
   "source": [
    "However, it is common to implement E91 as a <b>device independent</b> protocol, where the source of EPR pairs is controlled by a third party (Charlie), who generates entangled qubit pairs and sends one qubit to Asja and second to Balvis."
   ]
  },
  {
   "cell_type": "markdown",
   "metadata": {},
   "source": [
    "<h2>Adversary Strategy: Man-in-the-middle attack on E91</h2>\n",
    "\n",
    "If E91 is implemented as device independent protocol, Espian can use man-in-the-middle strategy and intercept both qubits on the way to Asja and Balvis!\n",
    "\n",
    "He can measure both qubits from EPR pair and substitute them with fake states ($\\ket{00}$ or $\\ket{11}$).\n",
    "\n",
    "<b>Which measurement bases should Espian use?</b>\n",
    "\n",
    "As we know, Asja is using $Z$, $X$, $W$ bases ($θ$<sub>A</sub>), and Balvis is using $Z$, $W$, $V$ bases ($θ$<sub>B</sub>).\n",
    "\n",
    "Rounds where key bits are obtained are: $Z$<sub>A</sub>$Z$<sub>B</sub> and $W$<sub>A</sub>$W$<sub>B</sub>. \n",
    "\n",
    "Remaining rounds are used to test CHSH inequality. \n",
    "\n",
    "Thus, Espian needs to use only these bases!"
   ]
  },
  {
   "cell_type": "markdown",
   "metadata": {},
   "source": [
    "<h3>Step 1: Distributing quantum states</h3>\n",
    "\n",
    "<ul>\n",
    "<li> Charlie prepares 64 EPR pairs to send to Asja and Balvis.\n",
    "<li> Espian intercepts qubits and measures each pair using $ZZ$ or $WW$ bases. He decides, randomly and independently, which bases to use for each pair.\n",
    "<li> Espian prepares fake states and sends those to Asja and Balvis ($\\ket{00}$ or $\\ket{11}$, depending on his measurement result).\n",
    "<li> Asja randomly chooses measurement basis ($Z$,$X$ or $W$) and measures first qubit (qreg[0]).\n",
    "<li> Balvis randomly chooses measurement basis ($Z$, $W$ or $V$) and measures second qubit (qreg[1]).\n",
    "\n",
    "All users save information about bases that they picked for each round. "
   ]
  },
  {
   "cell_type": "code",
   "execution_count": 1,
   "metadata": {},
   "outputs": [],
   "source": [
    "# import all necessary objects and methods for quantum circuits\n",
    "from qiskit import QuantumRegister, ClassicalRegister, QuantumCircuit, execute, Aer\n",
    "from random import randrange"
   ]
  },
  {
   "cell_type": "code",
   "execution_count": 2,
   "metadata": {},
   "outputs": [],
   "source": [
    "#Registers for measurement bases and keys\n",
    "basesAsja, keyAsja = [],[]\n",
    "basesBalvis, keyBalvis = [],[]\n",
    "basesEspian, keyEspian = [],[]\n",
    "\n",
    "for i in range(64): #Charlie prepares 64 EPR pairs\n",
    "    qreg = QuantumRegister(2)\n",
    "    creg = ClassicalRegister(2) \n",
    "    mycircuit = QuantumCircuit(qreg, creg)\n",
    "\n",
    "    #Creating entanglement\n",
    "    mycircuit.h(qreg[0])\n",
    "    mycircuit.cx(qreg[0], qreg[1])\n",
    "\n",
    "    #Espian intercepts qubits and chooses measurement basis\n",
    "    choiceEspian=randrange(2)\n",
    "    if choiceEspian==0:#measurement in Z basis\n",
    "        basesEspian.append('Z')\n",
    "    if choiceEspian==1:#measurement in W basis\n",
    "        mycircuit.s(qreg)\n",
    "        mycircuit.h(qreg)\n",
    "        mycircuit.t(qreg)\n",
    "        mycircuit.h(qreg)\n",
    "        basesEspian.append('W')\n",
    "    \n",
    "    mycircuit.measure(qreg,creg) #applying final measurement\n",
    "    job = execute(mycircuit,Aer.get_backend('qasm_simulator'),shots=1)\n",
    "    counts = job.result().get_counts(mycircuit)\n",
    "\n",
    "    #Saving results\n",
    "    result=list(counts.keys())[0] #retrieve key from dictionary\n",
    "    keyEspian.append(int(result[0])) #saving first qubit value in Espian's key register "
   ]
  },
  {
   "cell_type": "code",
   "execution_count": 3,
   "metadata": {},
   "outputs": [],
   "source": [
    "for i in keyEspian:#Espian preparing fake states\n",
    "    qregE = QuantumRegister(2)\n",
    "    cregE = ClassicalRegister(2) \n",
    "    mycircuitE = QuantumCircuit(qregE, cregE)\n",
    "    if keyEspian=='1': #if Espian obtained result 11 or 00, she will send corresponding states to Asja and Balvis\n",
    "        mycircuitE.x(qregE[0])\n",
    "        mycircuitE.x(qregE[1])\n",
    "    if keyEspian=='0':\n",
    "        pass #preparing state 00\n",
    "       \n",
    "#Asja chooses measurement basis\n",
    "    choiceAsja=randrange(3)\n",
    "    if choiceAsja==0:#measurement in Z basis\n",
    "        basesAsja.append('Z')\n",
    "    if choiceAsja==1:#measurement in X basis\n",
    "        mycircuitE.h(qregE[0])\n",
    "        basesAsja.append('X')\n",
    "    if choiceAsja==2:#measurement in W basis\n",
    "        mycircuitE.s(qregE[0])\n",
    "        mycircuitE.h(qregE[0])\n",
    "        mycircuitE.t(qregE[0])\n",
    "        mycircuitE.h(qregE[0])\n",
    "        basesAsja.append('W')\n",
    "\n",
    "#Balvis chooses measurement basis\n",
    "    choiceBalvis=randrange(3)\n",
    "    if choiceBalvis==0:#measurement in Z basis\n",
    "        basesBalvis.append('Z')\n",
    "    if choiceBalvis==1:#measurement in W basis\n",
    "        mycircuitE.s(qregE[1])\n",
    "        mycircuitE.h(qregE[1])\n",
    "        mycircuitE.t(qregE[1])\n",
    "        mycircuitE.h(qregE[1])\n",
    "        basesBalvis.append('W')\n",
    "    if choiceBalvis==2:#measurement in V basis\n",
    "        mycircuitE.s(qregE[1])\n",
    "        mycircuitE.h(qregE[1])\n",
    "        mycircuitE.tdg(qregE[1])\n",
    "        mycircuitE.h(qregE[1])\n",
    "        basesBalvis.append('V')\n",
    "\n",
    "    mycircuitE.measure(qregE,cregE) #applying final measurement\n",
    "    job = execute(mycircuitE,Aer.get_backend('qasm_simulator'),shots=1)\n",
    "    countsE = job.result().get_counts(mycircuitE)\n",
    "        \n",
    "    #Saving results\n",
    "    resultE=list(countsE.keys())[0] #retrieve key from dictionary\n",
    "    keyAsja.append(int(resultE[0])) #saving first qubit value in Asja's key register \n",
    "    keyBalvis.append(int(resultE[1])) #and second to Balvis"
   ]
  },
  {
   "cell_type": "markdown",
   "metadata": {},
   "source": [
    "<h3>Step 2: Sifting</h3>\n",
    "\n",
    "Implement sifting phase.\\\n",
    "Asja and Balvis compare bases using classical channel. They split their key strings in two groups - group where measurement bases matched and group where bases mismatched. They store information about bases and obtained bits for rounds where bases mismatched.\\\n",
    "Espian listens to their communication and keep rounds where he picked same measurement bases as Asja and Balvis."
   ]
  },
  {
   "cell_type": "code",
   "execution_count": 5,
   "metadata": {},
   "outputs": [],
   "source": [
    "#Registers\n",
    "finalKeyAsja, finalKeyBalvis = [],[] #for matching rounds\n",
    "finalKeyEspian=[] #for matching rounds\n",
    "diffAsja, diffBalvis = [],[] #missmatched rounds\n",
    "diffBasesA, diffBasesB = [],[] #bases of missmatched rounds\n",
    "#Users comparing rounds\n",
    "for i in range(0, len(basesAsja)):\n",
    "    if basesAsja[i] == basesBalvis[i]: #When users used same bases\n",
    "        finalKeyAsja.append(keyAsja[i])\n",
    "        finalKeyBalvis.append(keyBalvis[i]) \n",
    "    else: #When used different\n",
    "        diffAsja.append(keyAsja[i])\n",
    "        diffBalvis.append(keyBalvis[i])\n",
    "        diffBasesA.append(basesAsja[i])\n",
    "        diffBasesB.append(basesBalvis[i])\n",
    "\n",
    "    if (basesAsja[i] == basesEspian[i] and basesBalvis[i] == basesEspian[i]):\n",
    "        finalKeyEspian.append(keyEspian[i])"
   ]
  },
  {
   "cell_type": "markdown",
   "metadata": {},
   "source": [
    "We can verify what percentage of the keys is known to Espian by a simple calculation."
   ]
  },
  {
   "cell_type": "code",
   "execution_count": 6,
   "metadata": {},
   "outputs": [
    {
     "name": "stdout",
     "output_type": "stream",
     "text": [
      "0.5\n"
     ]
    }
   ],
   "source": [
    "key_percent_Espian = (len(finalKeyAsja) - len(finalKeyEspian))/len(finalKeyAsja) # Espian's knowledge\n",
    "print(key_percent_Espian)"
   ]
  },
  {
   "cell_type": "markdown",
   "metadata": {},
   "source": [
    "<h3>Step 3: CHSH inequality violation test</h3>\n",
    "\n",
    "Calculate $S$ and verify if the outcome corresponds to entangled system."
   ]
  },
  {
   "cell_type": "code",
   "execution_count": 10,
   "metadata": {},
   "outputs": [
    {
     "name": "stdout",
     "output_type": "stream",
     "text": [
      "CHSH inequality value is 1.5595238095238093\n"
     ]
    }
   ],
   "source": [
    "#ZW\n",
    "sameZW = 0\n",
    "diffZW = 0\n",
    "for i, (bA, bB) in enumerate(zip(diffBasesA, diffBasesB)):\n",
    "    if (bA == 'Z' and bB == 'W'):\n",
    "        if diffAsja[i]==diffBalvis[i]:\n",
    "            sameZW=sameZW+1\n",
    "        else:\n",
    "            diffZW=diffZW+1\n",
    "\n",
    "            \n",
    "totalZW=sameZW+diffZW\n",
    "if totalZW!=0:\n",
    "    ZW=(sameZW-diffZW)/totalZW\n",
    "else:\n",
    "    ZW=0\n",
    "    \n",
    "#XW\n",
    "sameXW = 0\n",
    "diffXW = 0\n",
    "for i, (bA, bB) in enumerate(zip(diffBasesA, diffBasesB)):\n",
    "    if (bA == 'X' and bB == 'W'):\n",
    "        if diffAsja[i]==diffBalvis[i]:\n",
    "            sameXW=sameXW+1\n",
    "        else:\n",
    "            diffXW=diffXW+1\n",
    "\n",
    "totalXW=sameXW+diffXW\n",
    "if totalXW!=0:\n",
    "    XW=(sameXW-diffXW)/totalXW\n",
    "else:\n",
    "    XW=0\n",
    "\n",
    "#XV\n",
    "sameXV = 0\n",
    "diffXV = 0\n",
    "for i, (bA, bB) in enumerate(zip(diffBasesA, diffBasesB)):\n",
    "    if (bA == 'X' and bB == 'V'):\n",
    "        if diffAsja[i]==diffBalvis[i]:\n",
    "            sameXV=sameXV+1\n",
    "        else:\n",
    "            diffXV=diffXV+1\n",
    "\n",
    "totalXV=sameXV+diffXV\n",
    "if totalXV!=0:\n",
    "    XV=(sameXV-diffXV)/totalXV\n",
    "else:\n",
    "    XV=0\n",
    "    \n",
    "#ZV\n",
    "sameZV = 0\n",
    "diffZV = 0\n",
    "for i, (bA, bB) in enumerate(zip(diffBasesA, diffBasesB)):\n",
    "    if (bA == 'Z' and bB == 'V'):\n",
    "        if diffAsja[i]==diffBalvis[i]:\n",
    "            sameZV=sameZV+1\n",
    "        else:\n",
    "            diffZV=diffZV+1\n",
    "\n",
    "totalZV=sameZV+diffZV\n",
    "if totalZV!=0:\n",
    "    ZV=(sameZV-diffZV)/totalZV\n",
    "\n",
    "else:\n",
    "    ZV=0\n",
    "    \n",
    "S=ZW+XW-XV+ZV\n",
    "\n",
    "print(\"CHSH inequality value is\", S)"
   ]
  },
  {
   "cell_type": "markdown",
   "metadata": {},
   "source": [
    "Due to Espian's interference in key distribution process, CHSH inequality value is far less from $S=2\\sqrt{2}$.\n",
    "\n",
    "This way users can determine if their communication was compromised and they can abort the protocol.\n",
    "\n",
    "Espian may try to substitute his own prepared data to misguide Asja and Balvis, but he doesn't know which measurement bases they will choose."
   ]
  },
  {
   "cell_type": "markdown",
   "metadata": {},
   "source": [
    "Another impact is that there is now a mismatch in the final keys that Asja and Balvis have!"
   ]
  },
  {
   "cell_type": "code",
   "execution_count": 9,
   "metadata": {},
   "outputs": [
    {
     "name": "stdout",
     "output_type": "stream",
     "text": [
      "[0, 0, 0, 0, 0, 0, 0, 0, 0, 0, 0, 0]\n",
      "[1, 0, 0, 0, 0, 0, 0, 0, 0, 1, 0, 0]\n"
     ]
    }
   ],
   "source": [
    "print(finalKeyAsja)\n",
    "print(finalKeyBalvis)"
   ]
  },
  {
   "cell_type": "markdown",
   "metadata": {},
   "source": [
    "This mismatch is caused by $WW$ measurement performed by Asja & Balvis.\n",
    "\n",
    "Espian used $\\ket{00}$ and $\\ket{11}$ as fake states.\n",
    "\n",
    "When Asja and Balvis measured those states in $W$-basis, they obtained a probabilistic result."
   ]
  },
  {
   "cell_type": "code",
   "execution_count": 11,
   "metadata": {},
   "outputs": [
    {
     "name": "stdout",
     "output_type": "stream",
     "text": [
      "{'00': 67, '10': 15, '01': 14, '11': 4}\n"
     ]
    }
   ],
   "source": [
    "#Preparing state 00\n",
    "qregT = QuantumRegister(2)\n",
    "cregT = ClassicalRegister(2) \n",
    "mycircuitTest = QuantumCircuit(qregT, cregT)\n",
    "\n",
    "#Measuring in W-basis\n",
    "mycircuitTest.s(qregT)\n",
    "mycircuitTest.h(qregT)\n",
    "mycircuitTest.t(qregT)\n",
    "mycircuitTest.h(qregT)\n",
    "\n",
    "mycircuitTest.measure(qregT,cregT)\n",
    "\n",
    "job = execute(mycircuitTest,Aer.get_backend('qasm_simulator'),shots=100)\n",
    "counts = job.result().get_counts(mycircuitTest)\n",
    "print(counts) # counts is a dictionary"
   ]
  },
  {
   "cell_type": "markdown",
   "metadata": {},
   "source": [
    "So, we have a superposition of states."
   ]
  },
  {
   "cell_type": "markdown",
   "metadata": {},
   "source": [
    "<font style=\"color:darkorange;font-weight:bold;\"> <h2>Task 1</h2> </font>\n",
    "\n",
    "Re-run this program for different number of EPR pairs.\n",
    "\n",
    "Hint: You only need to change the number of loop iterations at the very start."
   ]
  },
  {
   "cell_type": "code",
   "execution_count": null,
   "metadata": {},
   "outputs": [],
   "source": []
  }
 ],
 "metadata": {
  "kernelspec": {
   "display_name": "Python 3",
   "language": "python",
   "name": "python3"
  },
  "language_info": {
   "codemirror_mode": {
    "name": "ipython",
    "version": 3
   },
   "file_extension": ".py",
   "mimetype": "text/x-python",
   "name": "python",
   "nbconvert_exporter": "python",
   "pygments_lexer": "ipython3",
   "version": "3.8.10"
  }
 },
 "nbformat": 4,
 "nbformat_minor": 2
}
