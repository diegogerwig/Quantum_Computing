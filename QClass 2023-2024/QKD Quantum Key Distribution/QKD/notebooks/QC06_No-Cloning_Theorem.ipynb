{
 "cells": [
  {
   "cell_type": "markdown",
   "metadata": {},
   "source": [
    "<table width=\"100%\"><tr style=\"background-color:white;\">\n",
    "    <td style=\"text-align:left;padding:0px;width:142px'\">\n",
    "        <a href=\"https://qworld.net\" target=\"_blank\">\n",
    "            <img src=\"../images/QWorld.png\"></a></td>\n",
    "    <td width=\"*\">&nbsp;&nbsp;&nbsp;&nbsp;&nbsp;&nbsp;</td>\n",
    "    <!-- ############################################# -->\n",
    "    <td style=\"padding:0px;width:90px;\">\n",
    "        <img align=\"right\" src=\"../images/follow_us.png\" height=\"40px\"></td>\n",
    "    <td style=\"padding:0px;width:40px;\">\n",
    "        <a href=\"https://twitter.com/QWorld19\" target=\"_blank\">\n",
    "        <img align=\"right\" src=\"../images/Twitter.png\" width=\"40px\"></a> </td>\n",
    "    <td style=\"padding:0px;width:5px;\"></td>\n",
    "    <td style=\"padding:0px;width:40px;\">\n",
    "        <a href=\"https://www.facebook.com/qworld19/\" target=\"_blank\">\n",
    "        <img align=\"right\" src=\"../images/Fb.png\"></a></td>\n",
    "    <td style=\"padding:0px;width:5px;\"></td>\n",
    "    <td style=\"padding:0px;width:40px;\">\n",
    "        <a href=\"https://www.linkedin.com/company/qworld19\" target=\"_blank\">\n",
    "        <img align=\"right\" src=\"../images/LinkedIn.png\"></a></td>\n",
    "    <td style=\"padding:0px;width:5px;\"></td>\n",
    "    <td style=\"padding:0px;width:40px;\">\n",
    "        <a href=\"https://www.youtube.com/qworld19\" target=\"_blank\">\n",
    "        <img align=\"right\" src=\"../images/YT.png\"></a></td>\n",
    "    <!-- ############################################# -->\n",
    "    <td style=\"padding:0px;width:60px;\">\n",
    "        <img align=\"right\" src=\"../images/join.png\" height=\"40px\"></td>\n",
    "    <td style=\"padding:0px;width:40px;\">\n",
    "        <a href=\"https://discord.gg/akCvr7U87g\"\n",
    "           target=\"_blank\">\n",
    "        <img align=\"right\" src=\"../images/Discord.png\"></a></td>\n",
    "    <!-- ############################################# -->\n",
    "    <td style=\"padding:0px;width:72px;\">\n",
    "        <img align=\"right\" src=\"../images/w3.png\" height=\"40px\"></td>\n",
    "    <td style=\"padding:0px;width:40px;\">\n",
    "        <a href=\"https://qworld.net\" target=\"_blank\">\n",
    "        <img align=\"right\" src=\"../images/www.png\"></a></td>\n",
    "</tr></table>\n",
    "\n",
    "<table width = \"100%\">\n",
    "  <tr style=\"background-color:white;\">\n",
    "    <td style=\"text-align:right;vertical-align:bottom;font-size:12px;\"> \n",
    "        Prepared by Anastasija Trizna (QPoland, QLatvia) & <a href=\"https://www.linkedin.com/in/sabah-ud-din-ahmad\" target=\"_blank\"> Sabah Ud Din Ahmad</a> (QPakistan)</td>\n",
    "    </tr>\n",
    "    <tr><td align=\"right\" style=\"color:#bbbbbb;background-color:#ffffff;font-size:11px;font-style:italic;\">\n",
    "        This cell contains some macros. If there is a problem with displaying mathematical formulas, please run this cell to load these macros.\n",
    "    </td></tr>\n",
    " </table>\n",
    " \n",
    "$ \\newcommand{\\bra}[1]{\\langle #1|} $\n",
    "$ \\newcommand{\\ket}[1]{|#1\\rangle} $\n",
    "$ \\newcommand{\\braket}[2]{\\langle #1|#2\\rangle} $\n",
    "$ \\newcommand{\\dot}[2]{ #1 \\cdot #2} $\n",
    "$ \\newcommand{\\biginner}[2]{\\left\\langle #1,#2\\right\\rangle} $\n",
    "$ \\newcommand{\\mymatrix}[2]{\\left( \\begin{array}{#1} #2\\end{array} \\right)} $\n",
    "$ \\newcommand{\\myvector}[1]{\\mymatrix{c}{#1}} $\n",
    "$ \\newcommand{\\myrvector}[1]{\\mymatrix{r}{#1}} $\n",
    "$ \\newcommand{\\mypar}[1]{\\left( #1 \\right)} $\n",
    "$ \\newcommand{\\mybigpar}[1]{ \\Big( #1 \\Big)} $\n",
    "$ \\newcommand{\\sqrttwo}{\\frac{1}{\\sqrt{2}}} $\n",
    "$ \\newcommand{\\dsqrttwo}{\\dfrac{1}{\\sqrt{2}}} $\n",
    "$ \\newcommand{\\onehalf}{\\frac{1}{2}} $\n",
    "$ \\newcommand{\\donehalf}{\\dfrac{1}{2}} $\n",
    "$ \\newcommand{\\hadamard}{ \\mymatrix{rr}{ \\sqrttwo & \\sqrttwo \\\\ \\sqrttwo & -\\sqrttwo }} $\n",
    "$ \\newcommand{\\vzero}{\\myvector{1\\\\0}} $\n",
    "$ \\newcommand{\\vone}{\\myvector{0\\\\1}} $\n",
    "$ \\newcommand{\\vhadamardzero}{\\myvector{ \\sqrttwo \\\\  \\sqrttwo } } $\n",
    "$ \\newcommand{\\vhadamardone}{ \\myrvector{ \\sqrttwo \\\\ -\\sqrttwo } } $\n",
    "$ \\newcommand{\\myarray}[2]{ \\begin{array}{#1}#2\\end{array}} $\n",
    "$ \\newcommand{\\X}{ \\mymatrix{cc}{0 & 1 \\\\ 1 & 0}  } $\n",
    "$ \\newcommand{\\Z}{ \\mymatrix{rr}{1 & 0 \\\\ 0 & -1}  } $\n",
    "$ \\newcommand{\\Htwo}{ \\mymatrix{rrrr}{ \\frac{1}{2} & \\frac{1}{2} & \\frac{1}{2} & \\frac{1}{2} \\\\ \\frac{1}{2} & -\\frac{1}{2} & \\frac{1}{2} & -\\frac{1}{2} \\\\ \\frac{1}{2} & \\frac{1}{2} & -\\frac{1}{2} & -\\frac{1}{2} \\\\ \\frac{1}{2} & -\\frac{1}{2} & -\\frac{1}{2} & \\frac{1}{2} } } $\n",
    "$ \\newcommand{\\CNOT}{ \\mymatrix{cccc}{1 & 0 & 0 & 0 \\\\ 0 & 1 & 0 & 0 \\\\ 0 & 0 & 0 & 1 \\\\ 0 & 0 & 1 & 0} } $\n",
    "$ \\newcommand{\\norm}[1]{ \\left\\lVert #1 \\right\\rVert } $\n",
    "\n",
    " ---"
   ]
  },
  {
   "cell_type": "markdown",
   "metadata": {},
   "source": [
    "## No-Cloning Theorem"
   ]
  },
  {
   "cell_type": "markdown",
   "metadata": {},
   "source": [
    "Classical information can, of course, be copied. \n",
    "\n",
    "But can we do the same with quantum states? Surprisingly, **no!** \n",
    "\n",
    "The **no-cloning theorem** states that,\n",
    "\n",
    "<div class=\"alert alert-block alert-info\" align=\"middle\">\n",
    "    <b>Given an unknown quantum state, there is no way to produce copies of that state. </b>\n",
    "</div>\n",
    "\n",
    "This is a fundamental property of quantum mechanics and has profound implications in quantum computing and related fields."
   ]
  },
  {
   "cell_type": "markdown",
   "metadata": {},
   "source": [
    "<h4> Classical circuit to copy a bit </h4>\n",
    "\n",
    "We can use $CNOT$ to make a copy of a classical bit $x$, which takes as inputs a bit to copy ($x$) and another bit initialized to zero.\n",
    "\n",
    "<td style=\"background-color:#ffffff;\"><img src=\"../images/cl_cirquit.jpg\" width=\"15%\" align=\"middle\"></td> \n",
    "\n",
    "The output is two bits, both of which are in the same state $x$."
   ]
  },
  {
   "cell_type": "markdown",
   "metadata": {},
   "source": [
    "<h4> Quantum cirquit to copy a bit </h4>\n",
    "\n",
    "Now suppose we have an unknown quantum state $\\ket{\\psi} = a \\ket{0} +b\\ket{1}$ and we put it into our copying circuit using quantum CNOT gate.\n",
    "\n",
    "<td style=\"background-color:#ffffff;\"><img src=\"../images/q_cirquit.jpg\" width=\"35%\" align=\"middle\"></td> \n",
    "\n",
    "We can see that ‘copying circuit’ above does not copy the quantum state input. \n",
    "\n",
    "Initial state: $\\ket{\\psi}\\ket{0}=(a\\ket{0} + b\\ket{1})\\ket{0}=a\\ket{00} + b\\ket{10}$\n",
    "\n",
    "Final state: $\\ket{\\phi}=a\\ket{00} + b\\ket{11}$\n",
    "\n",
    "For the copying circuit to work properly, we should have obtained $(a\\ket{0} + b\\ket{1})(a\\ket{0} + b\\ket{1})$ as the final state.  "
   ]
  },
  {
   "cell_type": "markdown",
   "metadata": {},
   "source": [
    "<h4> Mathematical Proof of No-Cloning Theorem </h4>\n",
    "\n",
    "The no-cloning theorem says that there is no such device that will take an arbitrary quantum state and map it to two copies of this state:\n",
    "\n",
    "$\\ket{\\psi} → \\ket{\\psi}\\otimes\\ket{\\psi}$ → Not possible\n",
    "\n",
    "But let's suppose we have such a device!\n",
    "\n",
    "We take two states $\\ket{\\psi}$ and $\\ket{\\phi}$ and copy those:\n",
    "\n",
    "$$\\ket{\\psi} → \\ket{\\psi}\\otimes\\ket{\\psi}$$\n",
    "\n",
    "$$\\ket{\\phi} → \\ket{\\phi}\\otimes\\ket{\\phi}$$\n",
    "\n",
    "Then, it should also work on the superposition of these two states:\n",
    "\n",
    "$$\\ket{\\psi}+\\ket{\\phi} → (\\ket{\\psi}+\\ket{\\phi})\\otimes(\\ket{\\psi}+\\ket{\\phi})$$\n",
    "\n",
    "When we expand the brackets, we get target states and cross terms (which are not equal to zero),\n",
    "$$\\ket{\\psi}\\ket{\\psi}+\\ket{\\phi}\\ket{\\phi}+\\ket{\\psi}\\ket{\\phi}+\\ket{\\phi}\\ket{\\psi}$$\n",
    "\n",
    "Since this is a contradiction, such a device or tool cannot exist.\n"
   ]
  },
  {
   "cell_type": "markdown",
   "metadata": {},
   "source": [
    "<h3>Summary</h3>\n",
    "\n",
    "<ul>\n",
    "<li> It is possible to use quantum circuits to copy classical information encoded as $\\ket{0}$ or $\\ket{1}$ since these are known states. <b>But, its impossible to make a copy of an unknown quantum state.</b>\n",
    "<li> Information encoded in quantum states is essentially unique. \n",
    "<li> While this property protects quantum information, it is also complicating the process to protect quantum information from outside influence. \n",
    "</ul>"
   ]
  },
  {
   "cell_type": "markdown",
   "metadata": {},
   "source": [
    "Next: [Quantum Communication in Qiskit](QC07_Quantum_communication_in_Qiskit.ipynb)"
   ]
  }
 ],
 "metadata": {
  "kernelspec": {
   "display_name": "Python 3",
   "language": "python",
   "name": "python3"
  },
  "language_info": {
   "codemirror_mode": {
    "name": "ipython",
    "version": 3
   },
   "file_extension": ".py",
   "mimetype": "text/x-python",
   "name": "python",
   "nbconvert_exporter": "python",
   "pygments_lexer": "ipython3",
   "version": "3.8.10"
  }
 },
 "nbformat": 4,
 "nbformat_minor": 2
}
