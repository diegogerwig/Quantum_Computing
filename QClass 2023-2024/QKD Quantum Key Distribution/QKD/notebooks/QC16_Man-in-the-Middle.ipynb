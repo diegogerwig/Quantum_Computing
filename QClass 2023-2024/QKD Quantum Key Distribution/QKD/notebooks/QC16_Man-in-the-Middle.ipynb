{
 "cells": [
  {
   "cell_type": "markdown",
   "metadata": {},
   "source": [
    "<table width=\"100%\"><tr style=\"background-color:white;\">\n",
    "    <td style=\"text-align:left;padding:0px;width:142px'\">\n",
    "        <a href=\"https://qworld.net\" target=\"_blank\">\n",
    "            <img src=\"../images/QWorld.png\"></a></td>\n",
    "    <td width=\"*\">&nbsp;&nbsp;&nbsp;&nbsp;&nbsp;&nbsp;</td>\n",
    "    <!-- ############################################# -->\n",
    "    <td style=\"padding:0px;width:90px;\">\n",
    "        <img align=\"right\" src=\"../images/follow_us.png\" height=\"40px\"></td>\n",
    "    <td style=\"padding:0px;width:40px;\">\n",
    "        <a href=\"https://twitter.com/QWorld19\" target=\"_blank\">\n",
    "        <img align=\"right\" src=\"../images/Twitter.png\" width=\"40px\"></a> </td>\n",
    "    <td style=\"padding:0px;width:5px;\"></td>\n",
    "    <td style=\"padding:0px;width:40px;\">\n",
    "        <a href=\"https://www.facebook.com/qworld19/\" target=\"_blank\">\n",
    "        <img align=\"right\" src=\"../images/Fb.png\"></a></td>\n",
    "    <td style=\"padding:0px;width:5px;\"></td>\n",
    "    <td style=\"padding:0px;width:40px;\">\n",
    "        <a href=\"https://www.linkedin.com/company/qworld19\" target=\"_blank\">\n",
    "        <img align=\"right\" src=\"../images/LinkedIn.png\"></a></td>\n",
    "    <td style=\"padding:0px;width:5px;\"></td>\n",
    "    <td style=\"padding:0px;width:40px;\">\n",
    "        <a href=\"https://www.youtube.com/qworld19\" target=\"_blank\">\n",
    "        <img align=\"right\" src=\"../images/YT.png\"></a></td>\n",
    "    <!-- ############################################# -->\n",
    "    <td style=\"padding:0px;width:60px;\">\n",
    "        <img align=\"right\" src=\"../images/join.png\" height=\"40px\"></td>\n",
    "    <td style=\"padding:0px;width:40px;\">\n",
    "        <a href=\"https://discord.gg/akCvr7U87g\"\n",
    "           target=\"_blank\">\n",
    "        <img align=\"right\" src=\"../images/Discord.png\"></a></td>\n",
    "    <!-- ############################################# -->\n",
    "    <td style=\"padding:0px;width:72px;\">\n",
    "        <img align=\"right\" src=\"../images/w3.png\" height=\"40px\"></td>\n",
    "    <td style=\"padding:0px;width:40px;\">\n",
    "        <a href=\"https://qworld.net\" target=\"_blank\">\n",
    "        <img align=\"right\" src=\"../images/www.png\"></a></td>\n",
    "</tr></table>\n",
    "\n",
    "<table width = \"100%\">\n",
    "  <tr style=\"background-color:white;\">\n",
    "    <td style=\"text-align:right;vertical-align:bottom;font-size:12px;\"> \n",
    "        Prepared by Anastasija Trizna (QPoland, QLatvia) & <a href=\"https://gitlab.com/sabahuddin.ahmad\" target=\"_blank\"> Sabah Ud Din Ahmad</a> (QPakistan)</td>\n",
    "    </tr>\n",
    "    <tr><td align=\"right\" style=\"color:#bbbbbb;background-color:#ffffff;font-size:11px;font-style:italic;\">\n",
    "        This cell contains some macros. If there is a problem with displaying mathematical formulas, please run this cell to load these macros.\n",
    "    </td></tr>\n",
    " </table>\n",
    " \n",
    "$ \\newcommand{\\bra}[1]{\\langle #1|} $\n",
    "$ \\newcommand{\\ket}[1]{|#1\\rangle} $\n",
    "$ \\newcommand{\\braket}[2]{\\langle #1|#2\\rangle} $\n",
    "$ \\newcommand{\\dot}[2]{ #1 \\cdot #2} $\n",
    "$ \\newcommand{\\biginner}[2]{\\left\\langle #1,#2\\right\\rangle} $\n",
    "$ \\newcommand{\\mymatrix}[2]{\\left( \\begin{array}{#1} #2\\end{array} \\right)} $\n",
    "$ \\newcommand{\\myvector}[1]{\\mymatrix{c}{#1}} $\n",
    "$ \\newcommand{\\myrvector}[1]{\\mymatrix{r}{#1}} $\n",
    "$ \\newcommand{\\mypar}[1]{\\left( #1 \\right)} $\n",
    "$ \\newcommand{\\mybigpar}[1]{ \\Big( #1 \\Big)} $\n",
    "$ \\newcommand{\\sqrttwo}{\\frac{1}{\\sqrt{2}}} $\n",
    "$ \\newcommand{\\dsqrttwo}{\\dfrac{1}{\\sqrt{2}}} $\n",
    "$ \\newcommand{\\onehalf}{\\frac{1}{2}} $\n",
    "$ \\newcommand{\\donehalf}{\\dfrac{1}{2}} $\n",
    "$ \\newcommand{\\hadamard}{ \\mymatrix{rr}{ \\sqrttwo & \\sqrttwo \\\\ \\sqrttwo & -\\sqrttwo }} $\n",
    "$ \\newcommand{\\vzero}{\\myvector{1\\\\0}} $\n",
    "$ \\newcommand{\\vone}{\\myvector{0\\\\1}} $\n",
    "$ \\newcommand{\\vhadamardzero}{\\myvector{ \\sqrttwo \\\\  \\sqrttwo } } $\n",
    "$ \\newcommand{\\vhadamardone}{ \\myrvector{ \\sqrttwo \\\\ -\\sqrttwo } } $\n",
    "$ \\newcommand{\\myarray}[2]{ \\begin{array}{#1}#2\\end{array}} $\n",
    "$ \\newcommand{\\X}{ \\mymatrix{cc}{0 & 1 \\\\ 1 & 0}  } $\n",
    "$ \\newcommand{\\Z}{ \\mymatrix{rr}{1 & 0 \\\\ 0 & -1}  } $\n",
    "$ \\newcommand{\\Htwo}{ \\mymatrix{rrrr}{ \\frac{1}{2} & \\frac{1}{2} & \\frac{1}{2} & \\frac{1}{2} \\\\ \\frac{1}{2} & -\\frac{1}{2} & \\frac{1}{2} & -\\frac{1}{2} \\\\ \\frac{1}{2} & \\frac{1}{2} & -\\frac{1}{2} & -\\frac{1}{2} \\\\ \\frac{1}{2} & -\\frac{1}{2} & -\\frac{1}{2} & \\frac{1}{2} } } $\n",
    "$ \\newcommand{\\CNOT}{ \\mymatrix{cccc}{1 & 0 & 0 & 0 \\\\ 0 & 1 & 0 & 0 \\\\ 0 & 0 & 0 & 1 \\\\ 0 & 0 & 1 & 0} } $\n",
    "$ \\newcommand{\\norm}[1]{ \\left\\lVert #1 \\right\\rVert } $\n",
    "\n",
    " ---"
   ]
  },
  {
   "cell_type": "markdown",
   "metadata": {},
   "source": [
    "<h3>Quantum Espian</h3>"
   ]
  },
  {
   "cell_type": "markdown",
   "metadata": {},
   "source": [
    "We will now introduce **an eavesdropper, Espian** to check the security of our BB84 protocol and prevent attacks. \n",
    "\n",
    "Our quantum Espian is well-equipped!\n",
    "\n",
    "* He has a powerful quantum computer with large quantum memory to store qubits.\n",
    "\n",
    "* He can intercept, store and resend qubits without revealing his presence.\n",
    "\n",
    "* He can access the public classical channel that Asja and Balvis use and can read all their messages.\n",
    "\n",
    "His limits are,\n",
    "\n",
    "* He cannot violate laws of physics.\n",
    "* He cannot fake messages that Asja and Balvis share over classical channel.\n",
    "\n",
    "Our classical channel is authenticated! If Espian breaks it after Asja and Balvis ended their QKD session, information in classical channel is no more relevant at that time."
   ]
  },
  {
   "cell_type": "markdown",
   "metadata": {},
   "source": [
    "### Black-hat Discussion"
   ]
  },
  {
   "cell_type": "markdown",
   "metadata": {},
   "source": [
    "We will now pretend that we are Espian and discuss an attack on BB84 protocol.\n",
    "\n",
    "Let's recall our BB84 noise-free protocol,\n",
    "\n",
    "1. Asja distributes quantum states $\\ket{x}$<sup>A</sup><sub>θ<sup>A</sup></sub>, Balvis measures states on a chosen basis $\\ket{x}$<sup>B</sup><sub>θ<sup>B</sup></sub>.\n",
    "3. Balvis sends a receipt to Asja about received states $i$ and measurement bases θ<sup>B</sup>.\n",
    "4. Asja sends to Balvis θ<sup>A</sup>, they discard rounds where θ<sup>A</sup>≠θ<sup>B</sup>.\n",
    "5. Asja randomly choses $n$ bits of remaining string:\n",
    "    - Asja tells Balvis which rounds are tested. They exchange $x$<sup>A</sup><sub>n</sub> and $x$<sup>B</sup><sub>n</sub>.\n",
    "    - Asja and Balvis calculate QBER $\\delta$: \n",
    "        - if $\\delta=0$, they continue with final rounds.\n",
    "        - if $\\delta≠0$, they abort protocol.\n",
    "    \n",
    "6. Asja chooses extractor seed and sends it to Balvis. They generate $k$<sub>A</sub> = $Ext(x$<sup>A</sup><sub>remain</sub>, $y)$ and $k$<sub>B</sub> = $Ext(x$<sup>B</sup><sub>remain</sub>, $y)$."
   ]
  },
  {
   "cell_type": "markdown",
   "metadata": {},
   "source": [
    "<div class=\"alert alert-block alert-info\">\n",
    "<center><b>Why do we need a classical authenticated channel between our legitimate users. Why don't we make BB84 to be fully quantum?</b></center>\n",
    "</div>"
   ]
  },
  {
   "cell_type": "markdown",
   "metadata": {},
   "source": [
    "<h3>Man-in-the-Middle Attack</h3>\n",
    "\n",
    "If there is no authenticated classical channel, Espian can perform the famous <b>Man-in-the-middle Attack</b> (MITM). \n",
    "\n",
    "MITM is an attack where the attacker secretly alters the communications between two parties who believe that they are directly communicating with each other. \n",
    "\n",
    "<center><td style=\"background-color:#ffffff;\"><img src=\"../images/protocol.png\" width=\"25%\" align=\"middle\"></td></center>\n",
    "\n",
    "Let's assume that there is no classical channel. How our protocol will change?"
   ]
  },
  {
   "cell_type": "markdown",
   "metadata": {},
   "source": [
    "<b>STEP 1: Asja-Espian</b>\n",
    "\n",
    "* Asja prepares a random string and encodes it in a randomly chosen basis $θ^A$.\n",
    "* Asja sends qubits to Balvis, but Espian intercepts those.\n",
    "* Espian plays Balvis' role and measures qubits in a randomly chosen basis.\n",
    "* Espian then informs Asja, pretending he is Balvis, about the basis he used $θ^E$, encoded as $\\ket{0}$ when he used Z-basis, or $\\ket{1}$ when he used X-basis.\n",
    "* Asja thinks that she received information from Balvis and sends back $θ^A$ as a sequence of qubits. Of course, Espian intercepts those.\n",
    "* Espian then compares bases and informs Asja. "
   ]
  },
  {
   "cell_type": "markdown",
   "metadata": {},
   "source": [
    "Asja now shares key $k_{AE}$ with Espian.\n",
    "But Asja doesn't know about Espian's presence and believes that she has a secret key with Balvis. "
   ]
  },
  {
   "cell_type": "markdown",
   "metadata": {},
   "source": [
    "<b>STEP 2: Espian-Balvis</b>\n",
    "\n",
    "Espian starts playing Asja's role to generate key with Balvis.\n",
    "\n",
    "* Espian prepares a random string and encodes it in a randomly chosen basis  $θ^E$.\n",
    "* Espian sends qubits to Balvis.\n",
    "* Balvis measures qubits in a randomly chosen basis and sends $θ^B$ to Asja as a sequence of qubits. Espian intercepts those. \n",
    "* Espian sends $θ^E$ to Balvis.\n",
    "* Espian and Balvis remove the errors from their key string bits, where they used different bases."
   ]
  },
  {
   "cell_type": "markdown",
   "metadata": {},
   "source": [
    "Espian and Balvis now share key $k_{BE}$. "
   ]
  },
  {
   "cell_type": "markdown",
   "metadata": {},
   "source": [
    "<b>STEP 3: Asja-Espian-Balvis</b>\n",
    "\n",
    "Now, Asja and Espian share key $k_{AE}$, while Espian and Balvis share key $k_{BE}$. \n",
    "Espian can read <b>all</b> messages they exchange by intercepting and decoding, or send fake messages by encoding using keys that he share with legitimate users."
   ]
  },
  {
   "cell_type": "markdown",
   "metadata": {},
   "source": [
    "<b>Classical authenticated channel helps users to authenticate their messages, thus secure their communication while exchanging measurement bases. Asja and Balvis can be 100% sure that they are talking to each other.</b>"
   ]
  },
  {
   "cell_type": "markdown",
   "metadata": {},
   "source": [
    "Next: [Intercept-resend Attack](QC17_Intercept-resend_attack.ipynb)"
   ]
  }
 ],
 "metadata": {
  "kernelspec": {
   "display_name": "Python 3",
   "language": "python",
   "name": "python3"
  },
  "language_info": {
   "codemirror_mode": {
    "name": "ipython",
    "version": 3
   },
   "file_extension": ".py",
   "mimetype": "text/x-python",
   "name": "python",
   "nbconvert_exporter": "python",
   "pygments_lexer": "ipython3",
   "version": "3.8.10"
  }
 },
 "nbformat": 4,
 "nbformat_minor": 2
}
