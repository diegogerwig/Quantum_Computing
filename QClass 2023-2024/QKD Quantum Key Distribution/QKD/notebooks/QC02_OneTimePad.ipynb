{
 "cells": [
  {
   "cell_type": "markdown",
   "metadata": {},
   "source": [
    "<table width=\"100%\"><tr style=\"background-color:white;\">\n",
    "    <td style=\"text-align:left;padding:0px;width:142px'\">\n",
    "        <a href=\"https://qworld.net\" target=\"_blank\">\n",
    "            <img src=\"../images/QWorld.png\"></a></td>\n",
    "    <td width=\"*\">&nbsp;&nbsp;&nbsp;&nbsp;&nbsp;&nbsp;</td>\n",
    "    <!-- ############################################# -->\n",
    "    <td style=\"padding:0px;width:90px;\">\n",
    "        <img align=\"right\" src=\"../images/follow_us.png\" height=\"40px\"></td>\n",
    "    <td style=\"padding:0px;width:40px;\">\n",
    "        <a href=\"https://twitter.com/QWorld19\" target=\"_blank\">\n",
    "        <img align=\"right\" src=\"../images/Twitter.png\" width=\"40px\"></a> </td>\n",
    "    <td style=\"padding:0px;width:5px;\"></td>\n",
    "    <td style=\"padding:0px;width:40px;\">\n",
    "        <a href=\"https://www.facebook.com/qworld19/\" target=\"_blank\">\n",
    "        <img align=\"right\" src=\"../images/Fb.png\"></a></td>\n",
    "    <td style=\"padding:0px;width:5px;\"></td>\n",
    "    <td style=\"padding:0px;width:40px;\">\n",
    "        <a href=\"https://www.linkedin.com/company/qworld19\" target=\"_blank\">\n",
    "        <img align=\"right\" src=\"../images/LinkedIn.png\"></a></td>\n",
    "    <td style=\"padding:0px;width:5px;\"></td>\n",
    "    <td style=\"padding:0px;width:40px;\">\n",
    "        <a href=\"https://www.youtube.com/qworld19\" target=\"_blank\">\n",
    "        <img align=\"right\" src=\"../images/YT.png\"></a></td>\n",
    "    <!-- ############################################# -->\n",
    "    <td style=\"padding:0px;width:60px;\">\n",
    "        <img align=\"right\" src=\"../images/join.png\" height=\"40px\"></td>\n",
    "    <td style=\"padding:0px;width:40px;\">\n",
    "        <a href=\"https://discord.gg/akCvr7U87g\"\n",
    "           target=\"_blank\">\n",
    "        <img align=\"right\" src=\"../images/Discord.png\"></a></td>\n",
    "    <!-- ############################################# -->\n",
    "    <td style=\"padding:0px;width:72px;\">\n",
    "        <img align=\"right\" src=\"../images/w3.png\" height=\"40px\"></td>\n",
    "    <td style=\"padding:0px;width:40px;\">\n",
    "        <a href=\"https://qworld.net\" target=\"_blank\">\n",
    "        <img align=\"right\" src=\"../images/www.png\"></a></td>\n",
    "</tr></table>\n",
    "\n",
    "<table width = \"100%\">\n",
    "  <tr style=\"background-color:white;\">\n",
    "    <td style=\"text-align:right;vertical-align:bottom;font-size:12px;\"> \n",
    "        Prepared by <a href=\"https://www.linkedin.com/in/sabah-ud-din-ahmad\" target=\"_blank\"> Sabah Ud Din Ahmad</a> (QPakistan)</td>\n",
    "    </tr>\n",
    "    <tr><td align=\"right\" style=\"color:#bbbbbb;background-color:#ffffff;font-size:11px;font-style:italic;\">\n",
    "        This cell contains some macros. If there is a problem with displaying mathematical formulas, please run this cell to load these macros.\n",
    "    </td></tr>\n",
    " </table>\n",
    " \n",
    "$ \\newcommand{\\bra}[1]{\\langle #1|} $\n",
    "$ \\newcommand{\\ket}[1]{|#1\\rangle} $\n",
    "$ \\newcommand{\\braket}[2]{\\langle #1|#2\\rangle} $\n",
    "$ \\newcommand{\\dot}[2]{ #1 \\cdot #2} $\n",
    "$ \\newcommand{\\biginner}[2]{\\left\\langle #1,#2\\right\\rangle} $\n",
    "$ \\newcommand{\\mymatrix}[2]{\\left( \\begin{array}{#1} #2\\end{array} \\right)} $\n",
    "$ \\newcommand{\\myvector}[1]{\\mymatrix{c}{#1}} $\n",
    "$ \\newcommand{\\myrvector}[1]{\\mymatrix{r}{#1}} $\n",
    "$ \\newcommand{\\mypar}[1]{\\left( #1 \\right)} $\n",
    "$ \\newcommand{\\mybigpar}[1]{ \\Big( #1 \\Big)} $\n",
    "$ \\newcommand{\\sqrttwo}{\\frac{1}{\\sqrt{2}}} $\n",
    "$ \\newcommand{\\dsqrttwo}{\\dfrac{1}{\\sqrt{2}}} $\n",
    "$ \\newcommand{\\onehalf}{\\frac{1}{2}} $\n",
    "$ \\newcommand{\\donehalf}{\\dfrac{1}{2}} $\n",
    "$ \\newcommand{\\hadamard}{ \\mymatrix{rr}{ \\sqrttwo & \\sqrttwo \\\\ \\sqrttwo & -\\sqrttwo }} $\n",
    "$ \\newcommand{\\vzero}{\\myvector{1\\\\0}} $\n",
    "$ \\newcommand{\\vone}{\\myvector{0\\\\1}} $\n",
    "$ \\newcommand{\\vhadamardzero}{\\myvector{ \\sqrttwo \\\\  \\sqrttwo } } $\n",
    "$ \\newcommand{\\vhadamardone}{ \\myrvector{ \\sqrttwo \\\\ -\\sqrttwo } } $\n",
    "$ \\newcommand{\\myarray}[2]{ \\begin{array}{#1}#2\\end{array}} $\n",
    "$ \\newcommand{\\X}{ \\mymatrix{cc}{0 & 1 \\\\ 1 & 0}  } $\n",
    "$ \\newcommand{\\Z}{ \\mymatrix{rr}{1 & 0 \\\\ 0 & -1}  } $\n",
    "$ \\newcommand{\\Htwo}{ \\mymatrix{rrrr}{ \\frac{1}{2} & \\frac{1}{2} & \\frac{1}{2} & \\frac{1}{2} \\\\ \\frac{1}{2} & -\\frac{1}{2} & \\frac{1}{2} & -\\frac{1}{2} \\\\ \\frac{1}{2} & \\frac{1}{2} & -\\frac{1}{2} & -\\frac{1}{2} \\\\ \\frac{1}{2} & -\\frac{1}{2} & -\\frac{1}{2} & \\frac{1}{2} } } $\n",
    "$ \\newcommand{\\CNOT}{ \\mymatrix{cccc}{1 & 0 & 0 & 0 \\\\ 0 & 1 & 0 & 0 \\\\ 0 & 0 & 0 & 1 \\\\ 0 & 0 & 1 & 0} } $\n",
    "$ \\newcommand{\\norm}[1]{ \\left\\lVert #1 \\right\\rVert } $\n",
    "\n",
    " ---"
   ]
  },
  {
   "cell_type": "markdown",
   "metadata": {},
   "source": [
    "<h2>One-Time Pad</h2>\n",
    "\n",
    "One-Time Pad is an example of **Symmetric Cryptography**.\n",
    " <img align=\"center\" src=\"../images/symmetric.png\" width=\"500px\">"
   ]
  },
  {
   "cell_type": "markdown",
   "metadata": {},
   "source": [
    "**One-Time Pad** is an encryption technique that cannot be decrypted. Each bit / character of the plaintext is encrypted using the corresponding bit / character from the paired key (one-time pad) using modular addition. \n",
    "\n",
    "Following are the necessary requirements<sup>[1]</sup> to make the ciphertext **impossible** to decrypt:\n",
    "\n",
    "1. The key must be at least as long as the plaintext.\n",
    "2. The key must be random (uniformly distributed in the set of all possible keys and independent of the plaintext), entirely sampled from a non-algorithmic source such as a hardware random number generator. \n",
    "3. The key must never be reused in whole or in part.\n",
    "4. The key must be kept completely secret by the communicating parties.\n",
    "\n",
    "Let's understand one-time pad with the help of our friends <b> Asja </b> and <b> Balvis </b>. \n",
    "\n",
    "* Asja wants to share a message with Balvis.\n",
    "* To encrypt the mesage, she rolls a 26-sided die to generate a list of random shifts, which she uses to encrypt her message. \n",
    "* Since she shared the list of shifts with Balvis, Balvis uses it to decrypt the message. \n",
    "    \n",
    "The resulting encrypted message will have two powerful properties. Firstly, the shifts never fall into a repetitive pattern and secondly, the encrypted message will have a uniform frequency distribution (refer requirement 2). Thus, it is now impossible for Espian to break the encryption. **The protocol is correct and secure.**\n",
    "\n",
    "#### Comparison of One-time Pad with Shift Cipher\n",
    "\n",
    "In order to visualize the strength of the one-time pad,\n",
    "we must understand the combinatorics. \n",
    "\n",
    "A **Shift Cipher** (for example, the Caesar Cipher) shifts every letter by the same shift (some number between 1 and 26). If Asja was to encrypt her name, it would result in one of **26** possible encryptions. This is a small number of possibilities, and all can be checked using brute force attack (checking all possibilities for a solution).\n",
    "\n",
    "Compare this to the one-time pad, where each letter would be shifted by a different number between 1 and 26. So, the total number of possible encryptions is <b>$26^N$</b> where N is the number of letters. For a 4 letter word, it's going to be $26^4$ which is 456976 possibilities (difficult to decrypt). From the perspective of Espian, every four letter encrypted word she has is equally likely to be any word among these possibilities.\n",
    "\n",
    "So this is **perfect secrecy** in action."
   ]
  },
  {
   "cell_type": "markdown",
   "metadata": {},
   "source": [
    "<font style=\"color:darkorange;font-weight:bold;\"> <h2>Task 1</h2> </font>\n",
    "\n",
    "Calculate the total number of possibilities that Espian will have to choose from if **Balvis** encrypts his name using this One-time Pad cipher. \n",
    "\n",
    "**Note:** You have to calculate a number. Do not list down all possibilities. "
   ]
  },
  {
   "cell_type": "markdown",
   "metadata": {},
   "source": [
    "[Click here for solution](QC02_OneTimePad_Solutions.ipynb#task1)\n",
    "\n",
    "***"
   ]
  },
  {
   "cell_type": "markdown",
   "metadata": {},
   "source": [
    "<h3>Shannon's Perfect Secrecy</h3>\n",
    "\n",
    "In 1946, **Claude Shannon** defined the idea of **perfect secrecy**, which means that the ciphertext $C$, gives no information about the plaintext (except the maximum possible length of the message). Given a truly random key, a ciphertext can be translated into any plaintext, and all are equally possible.\n",
    "    \n",
    "For **perfect secrecy**, the probability of Espian getting a message **m** is independent of having seen a particular ciphertext **c**. So, for all **m** and **c**,\n",
    "\n",
    "$$\n",
    "P(M=m)=P(M=m|C=c)\n",
    "$$\n",
    "\n",
    "Here, $P(M=m)$ is the information entropy of the plaintext and $P(M=m|C=c)$ is the conditional entropy of plaintext given a ciphertext $C$. This implies that for each $M$ and corresponding $C$, there must be atleast one key $K$ that binds them as a one-time pad. \n",
    "\n",
    "Mathematically,\n",
    "\n",
    "$$|K| \\geq |C| \\geq |M|$$\n",
    "\n",
    "Here, $|M|$ is the total number of possibile messages, $|C|$ is the total number of possible ciphertexts, and $|K|$ is the total number of possible keys.\n",
    "\n",
    "For the boundary case, we have a Shannon's Theorem for Perfect Secrecy. \n",
    "\n",
    "<div class=\"alert alert-block alert-success\">\n",
    "    <h4>Theorem: Shannon's Perfect Secrecy</h4>\n",
    "    <br>\n",
    "    <div class=\"panel panel-block panel-success\">\n",
    "        Suppose $|K| = |C| = |M|$. This ensures perfect secrecy if and only if:\n",
    "        \n",
    "* each key is used with equal probability $ \\dfrac{1}{|K|} $,\n",
    "* for every plaintext $M$ and ciphertext $C$, there is a unique key $K$ such that $E_K(M) = C$.\n",
    "    </div>\n",
    "</div>\n",
    "\n",
    "<div class=\"alert alert-block alert-danger\">\n",
    "Proof: https://www.cs.miami.edu/home/burt/learning/Csc609.011/Perfect/\n",
    "</div>\n",
    "\n",
    "Let's suppose we have a single bit string: $\\text{'1'}$. Since there are $2$ possibilities for a single bit message $\\{ \\text{'0','1'}\\}$, the probability of recovering the original message is $\\frac{1}{2}$.\n",
    "\n",
    "Now, suppose we have a 2-bit string: $\\text{'01'}$. Since there are $2^{2}=4$ possibilities for a 2-bit message $\\{ \\text{'00','01','10','11'}\\}$, the probability of recovering the original message is $\\frac{1}{4}$.\n",
    "\n",
    "Generalizing, suppose we have a n-bit string. Since there are $2^{n}$ possibilities for a n-bit message, the probability of recovering the original message is $\\frac{1}{2^{n}}$, which means that **all possible messages are equally likely** so it would be a totally random guess.\n",
    "\n",
    "Though we can recover the original message with probability $ \\dfrac{1}{2^n} $, this is still \"perfect secrecy\" since even if we give Espian infinite computational power, he can't decrypt the ciphertext unless he has the unique random key. \n"
   ]
  },
  {
   "cell_type": "markdown",
   "metadata": {},
   "source": [
    "<h3>Bitwise Operators in Python</h3>\n",
    "\n",
    "Following code will introduce the bitwise operators available in Python."
   ]
  },
  {
   "cell_type": "code",
   "execution_count": 34,
   "metadata": {},
   "outputs": [
    {
     "name": "stdout",
     "output_type": "stream",
     "text": [
      "a & b = 00100\n",
      "a | b = 11111\n",
      "a ^ b = 11011\n"
     ]
    }
   ],
   "source": [
    "#Note that bitwise operators in python use integers in their argument.\n",
    "#The integers are converted into binary and then operations are performed on bit by bit. \n",
    "#Then the result is returned as integers.\n",
    " \n",
    "a = '01101'\n",
    "b = '10110'\n",
    "\n",
    "#int() converts the binary to integer\n",
    "a_int = int(a, 2)\n",
    "b_int = int(b, 2)\n",
    " \n",
    "# Print bitwise AND operation\n",
    "print(\"a & b =\", bin(a_int & b_int)[2:].zfill(5))    \n",
    " \n",
    "# Print bitwise OR operation\n",
    "print(\"a | b =\", bin(a_int | b_int)[2:].zfill(5))\n",
    " \n",
    "# print bitwise XOR operation\n",
    "print(\"a ^ b =\", bin(a_int ^ b_int)[2:].zfill(5))\n",
    "\n",
    "\n",
    "#bin() converts the integer to binary\n",
    "#[2:] removes the initial \"0b\" that is added at the start of the binary string\n",
    "#zfill(n) adds back leading zeros so that length of string is equal to n"
   ]
  },
  {
   "cell_type": "markdown",
   "metadata": {},
   "source": [
    "<font style=\"color:darkorange;font-weight:bold;\"> <h2>Task 2</h2> </font>\n",
    "\n",
    "Re-run the code above with different binary strings and verify the operations. You will have to change 'a' and 'b'.\n",
    "\n",
    "***"
   ]
  },
  {
   "cell_type": "markdown",
   "metadata": {},
   "source": [
    "Let's look at a detailed example. "
   ]
  },
  {
   "cell_type": "markdown",
   "metadata": {},
   "source": [
    "<div class=\"alert alert-block alert-warning\">\n",
    "    <h3> Example </h3>\n",
    "    <br>\n",
    "    <div class=\"panel panel-block panel-warning\">\n",
    "\n",
    "Asja wants to send Balvis a message that contains information about their next meetup time, say 9AM.\n",
    "\n",
    "She encrypts this message using one-time pad. \n",
    "\n",
    "She converts the time to its binary representation using 8-bit ASCII character encoding. \n",
    "Generally, \"XY AM/PM\" requires 32 bits. \n",
    "\n",
    "So, \"09AM\" is 00000000001110010100000101001101 in binary. (Refer: [ASCII Table](https://www.ascii-code.com/))  \n",
    "\n",
    "Asja needs a random key of the same string length (32 bits) to encrypt her message.\n",
    "    </div>"
   ]
  },
  {
   "cell_type": "code",
   "execution_count": 35,
   "metadata": {},
   "outputs": [],
   "source": [
    "#Generating random key\n",
    "\n",
    "lst=[]\n",
    "i=0\n",
    "\n",
    "while i<31:\n",
    "    lst.append(randrange(2))\n",
    "    i=i+1\n",
    "    \n",
    "key=int(''.join(map(str, lst)), 2) #converting key to binary format and then as an integer"
   ]
  },
  {
   "cell_type": "code",
   "execution_count": 36,
   "metadata": {},
   "outputs": [
    {
     "name": "stdout",
     "output_type": "stream",
     "text": [
      "Message = 00000000001110010100000101001101\n",
      "Key = 00010101010000010100111101000010\n",
      "Ciphertext = 00010101011110000000111000001111\n"
     ]
    }
   ],
   "source": [
    "from random import randrange\n",
    "\n",
    "m='00000000001110010100000101001101'   #message in binary\n",
    "\n",
    "message=int(m ,2) #convert message to integer to apply xor operation\n",
    "\n",
    "#Encryption\n",
    "ciphertext=message^key #encrypt the message using generated random key by applying xor operator\n",
    "\n",
    "print('Message =', bin(message)[2:].zfill(32))\n",
    "print('Key =', bin(key)[2:].zfill(32))\n",
    "print('Ciphertext =', bin(ciphertext)[2:].zfill(32))"
   ]
  },
  {
   "cell_type": "code",
   "execution_count": 38,
   "metadata": {},
   "outputs": [
    {
     "name": "stdout",
     "output_type": "stream",
     "text": [
      "Decrypted Message = 00000000001110010100000101001101\n"
     ]
    }
   ],
   "source": [
    "#Balvis can decrypt the ciphertext by applying pre-shared secret key again\n",
    "\n",
    "decryption=ciphertext^key\n",
    "print('Decrypted Message =', bin(decryption)[2:].zfill(32))"
   ]
  },
  {
   "cell_type": "markdown",
   "metadata": {},
   "source": [
    "So, Balvis was able to decrypt the message successfully. \n",
    "\n",
    "If Espian can get access to the ciphertext, he cannot extract any information about the plaintext. By applying XOR operation, given message is equally likely to correspond to any possible plaintext message of equal size. If he cannot get access to the one-time pad key that was used to encrypt the message, this scheme is **perfectly secure**! \n",
    "   \n",
    "<b>Can we do better and achieve perfect secrecy with a smaller key?</b>\n",
    "\n",
    "As Claude Shannon discovered, for perfect secrecy, the key should be as long as the message."
   ]
  },
  {
   "cell_type": "markdown",
   "metadata": {},
   "source": [
    "<font style=\"color:darkorange;font-weight:bold;\"> <h2>Task 3</h2> </font>\n",
    "\n",
    "Try the above example using any other encoding scheme of your own and verify that you get back the original message after performing XOR operation twice. \n",
    "\n",
    "***"
   ]
  },
  {
   "cell_type": "markdown",
   "metadata": {},
   "source": [
    "#### References\n",
    "\n",
    "1. https://en.wikipedia.org/wiki/One-time_pad\n",
    "2. https://www.khanacademy.org/computing/computer-science/cryptography/crypt/v/one-time-pad\n",
    "3. https://www.cs.miami.edu/home/burt/learning/Csc609.011/Perfect/"
   ]
  },
  {
   "cell_type": "markdown",
   "metadata": {},
   "source": [
    "Next: [RSA (Asymmetric Cryptography)](QC03_RSA.ipynb)"
   ]
  }
 ],
 "metadata": {
  "kernelspec": {
   "display_name": "Python 3",
   "language": "python",
   "name": "python3"
  },
  "language_info": {
   "codemirror_mode": {
    "name": "ipython",
    "version": 3
   },
   "file_extension": ".py",
   "mimetype": "text/x-python",
   "name": "python",
   "nbconvert_exporter": "python",
   "pygments_lexer": "ipython3",
   "version": "3.8.10"
  }
 },
 "nbformat": 4,
 "nbformat_minor": 2
}
