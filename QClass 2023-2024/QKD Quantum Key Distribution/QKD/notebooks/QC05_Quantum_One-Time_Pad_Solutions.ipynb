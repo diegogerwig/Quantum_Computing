{
 "cells": [
  {
   "cell_type": "markdown",
   "metadata": {},
   "source": [
    "<table width=\"100%\"><tr style=\"background-color:white;\">\n",
    "    <td style=\"text-align:left;padding:0px;width:142px'\">\n",
    "        <a href=\"https://qworld.net\" target=\"_blank\">\n",
    "            <img src=\"../images/QWorld.png\"></a></td>\n",
    "    <td width=\"*\">&nbsp;&nbsp;&nbsp;&nbsp;&nbsp;&nbsp;</td>\n",
    "    <!-- ############################################# -->\n",
    "    <td style=\"padding:0px;width:90px;\">\n",
    "        <img align=\"right\" src=\"../images/follow_us.png\" height=\"40px\"></td>\n",
    "    <td style=\"padding:0px;width:40px;\">\n",
    "        <a href=\"https://twitter.com/QWorld19\" target=\"_blank\">\n",
    "        <img align=\"right\" src=\"../images/Twitter.png\" width=\"40px\"></a> </td>\n",
    "    <td style=\"padding:0px;width:5px;\"></td>\n",
    "    <td style=\"padding:0px;width:40px;\">\n",
    "        <a href=\"https://www.facebook.com/qworld19/\" target=\"_blank\">\n",
    "        <img align=\"right\" src=\"../images/Fb.png\"></a></td>\n",
    "    <td style=\"padding:0px;width:5px;\"></td>\n",
    "    <td style=\"padding:0px;width:40px;\">\n",
    "        <a href=\"https://www.linkedin.com/company/qworld19\" target=\"_blank\">\n",
    "        <img align=\"right\" src=\"../images/LinkedIn.png\"></a></td>\n",
    "    <td style=\"padding:0px;width:5px;\"></td>\n",
    "    <td style=\"padding:0px;width:40px;\">\n",
    "        <a href=\"https://www.youtube.com/qworld19\" target=\"_blank\">\n",
    "        <img align=\"right\" src=\"../images/YT.png\"></a></td>\n",
    "    <!-- ############################################# -->\n",
    "    <td style=\"padding:0px;width:60px;\">\n",
    "        <img align=\"right\" src=\"../images/join.png\" height=\"40px\"></td>\n",
    "    <td style=\"padding:0px;width:40px;\">\n",
    "        <a href=\"https://discord.gg/akCvr7U87g\"\n",
    "           target=\"_blank\">\n",
    "        <img align=\"right\" src=\"../images/Discord.png\"></a></td>\n",
    "    <!-- ############################################# -->\n",
    "    <td style=\"padding:0px;width:72px;\">\n",
    "        <img align=\"right\" src=\"../images/w3.png\" height=\"40px\"></td>\n",
    "    <td style=\"padding:0px;width:40px;\">\n",
    "        <a href=\"https://qworld.net\" target=\"_blank\">\n",
    "        <img align=\"right\" src=\"../images/www.png\"></a></td>\n",
    "</tr></table>\n",
    "\n",
    "<table width = \"100%\">\n",
    "  <tr style=\"background-color:white;\">\n",
    "    <td style=\"text-align:right;vertical-align:bottom;font-size:12px;\"> \n",
    "        Prepared by <a href=\"https://gitlab.com/sabahuddin.ahmad\" target=\"_blank\"> Sabah Ud Din Ahmad</a> (QPakistan)</td>\n",
    "    </tr>\n",
    "    <tr><td align=\"right\" style=\"color:#bbbbbb;background-color:#ffffff;font-size:11px;font-style:italic;\">\n",
    "        This cell contains some macros. If there is a problem with displaying mathematical formulas, please run this cell to load these macros.\n",
    "    </td></tr>\n",
    " </table>\n",
    " \n",
    "$ \\newcommand{\\bra}[1]{\\langle #1|} $\n",
    "$ \\newcommand{\\ket}[1]{|#1\\rangle} $\n",
    "$ \\newcommand{\\braket}[2]{\\langle #1|#2\\rangle} $\n",
    "$ \\newcommand{\\dot}[2]{ #1 \\cdot #2} $\n",
    "$ \\newcommand{\\biginner}[2]{\\left\\langle #1,#2\\right\\rangle} $\n",
    "$ \\newcommand{\\mymatrix}[2]{\\left( \\begin{array}{#1} #2\\end{array} \\right)} $\n",
    "$ \\newcommand{\\myvector}[1]{\\mymatrix{c}{#1}} $\n",
    "$ \\newcommand{\\myrvector}[1]{\\mymatrix{r}{#1}} $\n",
    "$ \\newcommand{\\mypar}[1]{\\left( #1 \\right)} $\n",
    "$ \\newcommand{\\mybigpar}[1]{ \\Big( #1 \\Big)} $\n",
    "$ \\newcommand{\\sqrttwo}{\\frac{1}{\\sqrt{2}}} $\n",
    "$ \\newcommand{\\dsqrttwo}{\\dfrac{1}{\\sqrt{2}}} $\n",
    "$ \\newcommand{\\onehalf}{\\frac{1}{2}} $\n",
    "$ \\newcommand{\\donehalf}{\\dfrac{1}{2}} $\n",
    "$ \\newcommand{\\hadamard}{ \\mymatrix{rr}{ \\sqrttwo & \\sqrttwo \\\\ \\sqrttwo & -\\sqrttwo }} $\n",
    "$ \\newcommand{\\vzero}{\\myvector{1\\\\0}} $\n",
    "$ \\newcommand{\\vone}{\\myvector{0\\\\1}} $\n",
    "$ \\newcommand{\\vhadamardzero}{\\myvector{ \\sqrttwo \\\\  \\sqrttwo } } $\n",
    "$ \\newcommand{\\vhadamardone}{ \\myrvector{ \\sqrttwo \\\\ -\\sqrttwo } } $\n",
    "$ \\newcommand{\\myarray}[2]{ \\begin{array}{#1}#2\\end{array}} $\n",
    "$ \\newcommand{\\X}{ \\mymatrix{cc}{0 & 1 \\\\ 1 & 0}  } $\n",
    "$ \\newcommand{\\Z}{ \\mymatrix{rr}{1 & 0 \\\\ 0 & -1}  } $\n",
    "$ \\newcommand{\\Htwo}{ \\mymatrix{rrrr}{ \\frac{1}{2} & \\frac{1}{2} & \\frac{1}{2} & \\frac{1}{2} \\\\ \\frac{1}{2} & -\\frac{1}{2} & \\frac{1}{2} & -\\frac{1}{2} \\\\ \\frac{1}{2} & \\frac{1}{2} & -\\frac{1}{2} & -\\frac{1}{2} \\\\ \\frac{1}{2} & -\\frac{1}{2} & -\\frac{1}{2} & \\frac{1}{2} } } $\n",
    "$ \\newcommand{\\CNOT}{ \\mymatrix{cccc}{1 & 0 & 0 & 0 \\\\ 0 & 1 & 0 & 0 \\\\ 0 & 0 & 0 & 1 \\\\ 0 & 0 & 1 & 0} } $\n",
    "$ \\newcommand{\\norm}[1]{ \\left\\lVert #1 \\right\\rVert } $\n",
    "\n",
    " ---"
   ]
  },
  {
   "cell_type": "markdown",
   "metadata": {},
   "source": [
    "## <font color=\"blue\"> Solutions for </font> Quantum One-Time Pad"
   ]
  },
  {
   "cell_type": "markdown",
   "metadata": {},
   "source": [
    "<a id=\"task 1\"></a>\n",
    "<font style=\"color:darkorange;font-weight:bold;\"> <h2>Task 1</h2> </font>\n",
    "\n",
    "**Decryption in Standard Basis**\n",
    "\n",
    "Using the encrypted message string and the key from the above example, create a program for Balvis to decrypt the 8-bit cipher using the same key and the standard basis ($\\ket{0}$ and $\\ket{1}$) using \n",
    "\n",
    "Check if the protocol is correct."
   ]
  },
  {
   "cell_type": "markdown",
   "metadata": {},
   "source": [
    "#### Solution"
   ]
  },
  {
   "cell_type": "markdown",
   "metadata": {},
   "source": [
    "<div class=\"alert alert-block alert-danger\">\n",
    "    <b>Note:</b> The following code won't work in this notebook since it takes as input some strings from Example 1. Complete the code in the original notebook using the following solution to check the results.  \n",
    "</div>"
   ]
  },
  {
   "cell_type": "code",
   "execution_count": 1,
   "metadata": {},
   "outputs": [
    {
     "ename": "NameError",
     "evalue": "name 'encrypted_message' is not defined",
     "output_type": "error",
     "traceback": [
      "\u001b[1;31m---------------------------------------------------------------------------\u001b[0m",
      "\u001b[1;31mNameError\u001b[0m                                 Traceback (most recent call last)",
      "Cell \u001b[1;32mIn[1], line 16\u001b[0m\n\u001b[0;32m     13\u001b[0m mycircuitB \u001b[38;5;241m=\u001b[39m QuantumCircuit(qregB,cregB) \u001b[38;5;66;03m# quantum circuit with quantum and classical registers\u001b[39;00m\n\u001b[0;32m     15\u001b[0m \u001b[38;5;66;03m# apply x-gate to change initial states from 0 to 1, preparing the state with encrypted message\u001b[39;00m\n\u001b[1;32m---> 16\u001b[0m \u001b[38;5;28;01mfor\u001b[39;00m m \u001b[38;5;129;01min\u001b[39;00m \u001b[38;5;28mrange\u001b[39m(\u001b[38;5;28mlen\u001b[39m(\u001b[43mencrypted_message\u001b[49m)):\n\u001b[0;32m     17\u001b[0m     \u001b[38;5;28;01mif\u001b[39;00m encrypted_message[m]\u001b[38;5;241m==\u001b[39m\u001b[38;5;241m1\u001b[39m:\n\u001b[0;32m     18\u001b[0m         mycircuitB\u001b[38;5;241m.\u001b[39mx(qregB[m])\n",
      "\u001b[1;31mNameError\u001b[0m: name 'encrypted_message' is not defined"
     ]
    }
   ],
   "source": [
    "# Decryption\n",
    "\n",
    "# import all necessary objects and methods for quantum circuits\n",
    "from qiskit import QuantumRegister, ClassicalRegister, QuantumCircuit, execute, Aer\n",
    "from random import randrange\n",
    "\n",
    "# create a quantum curcuit for Balvis' qubits.\n",
    "# It's initially set to |0>.\n",
    "\n",
    "# Note the use of qregB and cregB instead of qregA and cregA to distinguish.\n",
    "qregB = QuantumRegister(8) # quantum register with 8 qubits\n",
    "cregB = ClassicalRegister(8) # classical register with 8 bits\n",
    "mycircuitB = QuantumCircuit(qregB,cregB) # quantum circuit with quantum and classical registers\n",
    "\n",
    "# apply x-gate to change initial states from 0 to 1, preparing the state with encrypted message\n",
    "for m in range(len(encrypted_message)):\n",
    "    if encrypted_message[m]==1:\n",
    "        mycircuitB.x(qregB[m])\n",
    "\n",
    "# barrier for a better visualization\n",
    "mycircuitB.barrier()\n",
    "\n",
    "# use the same random key and apply x gates to decrypt message\n",
    "for n in range(len(key)):\n",
    "    if key[n]==1:\n",
    "        mycircuitB.x(qregB[n])\n",
    "        \n",
    "mycircuitB.barrier()\n",
    "# Perform Measurement\n",
    "mycircuitB.measure(qregB,cregB)\n",
    "mycircuitB.draw(output='mpl')"
   ]
  },
  {
   "cell_type": "code",
   "execution_count": null,
   "metadata": {},
   "outputs": [],
   "source": [
    "# execute the circuit\n",
    "job = execute(mycircuitB,Aer.get_backend('qasm_simulator'))\n",
    "decryption = job.result().get_counts(mycircuitB)\n",
    "\n",
    "# display the measurement results with total count\n",
    "print(\"Decryption\", decryption)\n",
    "# this converts the measurement result string into a list\n",
    "decrypted_message=list(map(int,[*list(decryption.keys())[0]]))\n",
    "\n",
    "# we reverse the list since the quantum simulator considers our MSB as LSB\n",
    "decrypted_message.reverse()\n",
    "print()\n",
    "print(\"Message:\", message)\n",
    "print(\"Decrypted Message:\", decrypted_message)\n",
    "print()  \n",
    "  \n",
    "if message == decrypted_message:  \n",
    "    print(\"Protocol is correct!\")  \n",
    "else:  \n",
    "    print(\"Protocol is incorrect!\")"
   ]
  },
  {
   "cell_type": "markdown",
   "metadata": {},
   "source": [
    "<a id=\"task 2\"></a>\n",
    "<font style=\"color:darkorange;font-weight:bold;\"> <h2>Task 2</h2> </font>\n",
    "\n",
    "Create a program where Asja encrypts a 16-bit message \"1001000110001100\" using states in standard basis  {|0⟩,|1⟩}  and a randomly generated key string (equal length).\n",
    "We will assume that  𝑞(0)  is our most-significant-bit (MSB).  \n",
    "\n",
    "Then, check if the protocol is correct."
   ]
  },
  {
   "cell_type": "markdown",
   "metadata": {},
   "source": [
    "#### Solution"
   ]
  },
  {
   "cell_type": "code",
   "execution_count": 3,
   "metadata": {},
   "outputs": [
    {
     "name": "stdout",
     "output_type": "stream",
     "text": [
      "Encryption {'1010100110110001': 1024}\n",
      "\n",
      "Message: [1, 0, 0, 1, 0, 0, 0, 1, 1, 0, 0, 0, 1, 1, 0, 0]\n",
      "Key: [0, 0, 0, 1, 1, 1, 0, 0, 0, 0, 0, 1, 1, 0, 0, 1]\n",
      "\n",
      "Encrypted Message: [1, 0, 0, 0, 1, 1, 0, 1, 1, 0, 0, 1, 0, 1, 0, 1]\n"
     ]
    }
   ],
   "source": [
    "# Encryption\n",
    "\n",
    "# import all necessary objects and methods for quantum circuits\n",
    "from qiskit import QuantumRegister, ClassicalRegister, QuantumCircuit, execute, Aer\n",
    "from random import randrange\n",
    "\n",
    "# create a quantum curcuit for Asja's qubits.\n",
    "# It's initially set to |0>.\n",
    "qregC = QuantumRegister(16) # quantum register with 16 qubits\n",
    "cregC = ClassicalRegister(16) # classical register with 16 bits\n",
    "mycircuitC = QuantumCircuit(qregC,cregC) # quantum circuit with quantum and classical registers\n",
    "\n",
    "# Enter your message as a list of numbers\n",
    "message2 = [1,0,0,1,0,0,0,1,1,0,0,0,1,1,0,0]\n",
    "# apply x-gate to change initial states from 0 to 1, preparing message \"1001000110001100\"\n",
    "for m in range(len(message2)):\n",
    "    if message2[m]==1:\n",
    "        mycircuitC.x(qregC[m])\n",
    "\n",
    "# create random key and apply x gates and encrypt message\n",
    "key2=[] \n",
    "for i in range(16):\n",
    "    a=randrange(2)\n",
    "    key2.append(a)\n",
    "    if a==1:\n",
    "        mycircuitC.x(qregC[i])\n",
    "\n",
    "        \n",
    "mycircuitC.measure(qregC,cregC)\n",
    "\n",
    "# execute the circuit\n",
    "job = execute(mycircuitC,Aer.get_backend('qasm_simulator'))\n",
    "encryption = job.result().get_counts(mycircuitC)\n",
    "\n",
    "# display the measurement results with total count\n",
    "print(\"Encryption\", encryption)\n",
    "# this converts the measurement result string into a list\n",
    "encrypted_message=list(map(int,[*list(encryption.keys())[0]]))\n",
    "\n",
    "# we reverse the list since the quantum simulator considers our MSB as LSB\n",
    "encrypted_message.reverse()\n",
    "print()\n",
    "print(\"Message:\", message2)\n",
    "print(\"Key:\", key2)\n",
    "print()\n",
    "print(\"Encrypted Message:\", encrypted_message)"
   ]
  },
  {
   "cell_type": "code",
   "execution_count": 4,
   "metadata": {},
   "outputs": [
    {
     "name": "stdout",
     "output_type": "stream",
     "text": [
      "Decryption {'0011000110001001': 1024}\n",
      "\n",
      "Message: [1, 0, 0, 1, 0, 0, 0, 1, 1, 0, 0, 0, 1, 1, 0, 0]\n",
      "Decrypted Message: [1, 0, 0, 1, 0, 0, 0, 1, 1, 0, 0, 0, 1, 1, 0, 0]\n",
      "\n",
      "Protocol is correct!\n"
     ]
    }
   ],
   "source": [
    "# Decryption\n",
    "\n",
    "# create a quantum curcuit for Balvis' qubits.\n",
    "# It's initially set to |0>.\n",
    "\n",
    "qregD = QuantumRegister(16) # quantum register with 16 qubits\n",
    "cregD = ClassicalRegister(16) # classical register with 16 bits\n",
    "mycircuitD = QuantumCircuit(qregD,cregD) # quantum circuit with quantum and classical registers\n",
    "\n",
    "# apply x-gate to change initial states from 0 to 1, preparing the state with encrypted message\n",
    "for m in range(len(encrypted_message)):\n",
    "    if encrypted_message[m]==1:\n",
    "        mycircuitD.x(qregD[m])\n",
    "\n",
    "\n",
    "# use the same random key and apply x gates to decrypt message\n",
    "for n in range(len(key2)):\n",
    "    if key2[n]==1:\n",
    "        mycircuitD.x(qregD[n])\n",
    "        \n",
    "# Perform Measurement\n",
    "mycircuitD.measure(qregD,cregD)\n",
    "\n",
    "# execute the circuit\n",
    "job = execute(mycircuitD,Aer.get_backend('qasm_simulator'))\n",
    "decryption = job.result().get_counts(mycircuitD)\n",
    "\n",
    "# display the measurement results with total count\n",
    "print(\"Decryption\", decryption)\n",
    "# this converts the measurement result string into a list\n",
    "decrypted_message=list(map(int,[*list(decryption.keys())[0]]))\n",
    "\n",
    "# we reverse the list since the quantum simulator considers our MSB as LSB\n",
    "decrypted_message.reverse()\n",
    "print()\n",
    "print(\"Message:\", message2)\n",
    "print(\"Decrypted Message:\", decrypted_message)\n",
    "print()  \n",
    "  \n",
    "if message2 == decrypted_message:  \n",
    "    print(\"Protocol is correct!\")  \n",
    "else:  \n",
    "    print(\"Protocol is incorrect!\")"
   ]
  },
  {
   "cell_type": "markdown",
   "metadata": {},
   "source": [
    "<a id=\"task 3\"></a>\n",
    "<font style=\"color:darkorange;font-weight:bold;\"> <h2>Task 3</h2> </font>\n",
    "\n",
    "Using Hadamard Basis and replacing $\\ket{0}$ with $\\ket{+}$ and $\\ket{1}$ with $\\ket{-}$, encrypt message from **Example 1** with $X$ gates and check if the protocol is correct."
   ]
  },
  {
   "cell_type": "markdown",
   "metadata": {},
   "source": [
    "#### Solution"
   ]
  },
  {
   "cell_type": "code",
   "execution_count": 1,
   "metadata": {},
   "outputs": [
    {
     "data": {
      "image/png": "[encoded data removed]",
      "text/plain": [
       "<Figure size 882.178x565.88 with 1 Axes>"
      ]
     },
     "execution_count": 1,
     "metadata": {},
     "output_type": "execute_result"
    }
   ],
   "source": [
    "# Encryption\n",
    "\n",
    "# import all necessary objects and methods for quantum circuits\n",
    "from qiskit import QuantumRegister, ClassicalRegister, QuantumCircuit, execute, Aer\n",
    "from random import randrange\n",
    "\n",
    "# create a quantum curcuit for Asja's qubits.\n",
    "# It's initially set to |0>.\n",
    "qregE = QuantumRegister(8) # quantum register with 8 qubits\n",
    "cregE = ClassicalRegister(8) # classical register with 8 bits\n",
    "mycircuitE = QuantumCircuit(qregE,cregE) # quantum circuit with quantum and classical registers\n",
    "\n",
    "# Enter your message as a list of numbers\n",
    "message = [1,0,0,0,1,1,0,0]\n",
    "\n",
    "# apply x-gate to change initial states from 0 to 1, preparing message \"10001100\"\n",
    "for m in range(len(message)):\n",
    "    if message[m]==1:\n",
    "        mycircuitE.x(qregE[m])\n",
    "        \n",
    "# apply h-gate to change basis\n",
    "mycircuitE.h(qregE)\n",
    "\n",
    "# barrier for a better visualization\n",
    "mycircuitE.barrier()\n",
    "\n",
    "# create random key and apply x gates and encrypt message\n",
    "key=[] \n",
    "for i in range(8):\n",
    "    a=randrange(2)\n",
    "    key.append(a)\n",
    "    if a==1:\n",
    "        mycircuitE.x(qregE[i])\n",
    "        \n",
    "mycircuitE.barrier()\n",
    "mycircuitE.measure(qregE,cregE)\n",
    "mycircuitE.draw(output='mpl')"
   ]
  },
  {
   "cell_type": "code",
   "execution_count": 3,
   "metadata": {},
   "outputs": [
    {
     "name": "stdout",
     "output_type": "stream",
     "text": [
      "Encryption {'11000011': 3, '11101010': 5, '10010101': 5, '00100100': 5, '00111100': 4, '10011110': 3, '11001100': 3, '11100001': 6, '11111110': 4, '01100101': 3, '10110001': 3, '01011101': 5, '10110000': 3, '01011110': 4, '10000010': 7, '10111000': 6, '10001110': 5, '01010010': 4, '01101100': 10, '00011000': 11, '00011011': 3, '01101101': 4, '10111111': 2, '01010011': 4, '00111101': 4, '00100011': 8, '00001100': 4, '10010010': 2, '01001110': 3, '01110000': 4, '10000001': 7, '01011111': 3, '10110011': 6, '00010000': 6, '01111110': 5, '01000000': 4, '00000110': 5, '11011101': 5, '11001110': 1, '11100111': 4, '00110101': 3, '00101011': 7, '01011001': 7, '00111110': 4, '00100010': 8, '11000101': 4, '11110001': 5, '10110111': 3, '01011011': 3, '01010110': 9, '10111100': 3, '10001010': 2, '10100010': 4, '10011000': 3, '00101001': 5, '00100000': 9, '10010001': 3, '11010110': 8, '10101111': 5, '11111000': 7, '00000111': 5, '11011010': 3, '00001110': 4, '10101110': 5, '10000111': 5, '11100100': 4, '11001111': 2, '00101010': 5, '00110110': 6, '01111011': 2, '01000111': 8, '11100101': 8, '01101111': 8, '10010000': 6, '11010111': 3, '10010111': 4, '10100111': 3, '10011001': 5, '10010110': 5, '11110010': 5, '01111111': 4, '01000011': 3, '10111011': 4, '01010111': 7, '00110000': 4, '11011000': 2, '11100000': 4, '11001011': 4, '00011001': 4, '01100011': 7, '01101001': 8, '01100000': 5, '01110100': 2, '01001010': 3, '01010100': 3, '10111010': 5, '11000110': 4, '11101101': 5, '10001000': 4, '00100101': 4, '00111011': 8, '10101101': 3, '10000110': 3, '01100111': 5, '11100010': 3, '10100000': 4, '00001001': 3, '00010100': 6, '01110010': 6, '10011101': 4, '01110111': 2, '01001011': 3, '01001111': 2, '01110011': 2, '11101111': 2, '11000100': 8, '00101100': 2, '00110100': 3, '01011100': 5, '10110110': 5, '00010111': 4, '10011100': 4, '11101000': 4, '00001010': 3, '11010001': 3, '00001111': 4, '10100011': 6, '00000101': 6, '10101100': 4, '10011111': 4, '01101010': 5, '00000011': 5, '00000010': 2, '00010001': 4, '11011100': 3, '10101000': 11, '00000001': 5, '10110101': 8, '11111010': 4, '00011100': 4, '00110111': 3, '10111001': 4, '01111000': 2, '11001101': 5, '11100110': 7, '00001000': 1, '10100001': 1, '11110110': 5, '00011010': 7, '00101111': 3, '00110001': 6, '11001010': 7, '11100011': 3, '01001000': 6, '11000010': 3, '11010000': 3, '10010011': 4, '11110011': 2, '10101001': 3, '00000000': 4, '00011111': 3, '00101110': 3, '00110010': 6, '00111010': 8, '00100110': 3, '00010010': 6, '01000110': 2, '01111100': 3, '01000001': 2, '00010110': 5, '11111011': 5, '01101110': 1, '10001111': 3, '11011111': 3, '01010001': 2, '10111101': 3, '01101000': 5, '11011001': 6, '01011000': 2, '01000101': 7, '01100010': 3, '00111001': 4, '11101110': 4, '11000111': 6, '00011110': 5, '00011101': 7, '10001011': 1, '01000010': 5, '10000101': 4, '00001011': 2, '11101001': 5, '10101010': 2, '01110101': 3, '11010010': 5, '11110101': 4, '11111111': 3, '11111001': 3, '10001001': 4, '10101011': 4, '11011011': 3, '10100100': 5, '11010100': 3, '11110000': 3, '01010101': 5, '01100110': 7, '01110001': 1, '10011010': 2, '10100101': 6, '11111101': 5, '01101011': 3, '00101101': 1, '00110011': 5, '00010011': 2, '11110111': 2, '00001101': 4, '10111110': 4, '10010100': 3, '00111000': 4, '11011110': 4, '01111010': 3, '01000100': 4, '01100001': 3, '11010011': 3, '10110010': 3, '01011010': 2, '10110100': 2, '11000000': 2, '11101011': 3, '01111001': 3, '10100110': 2, '00101000': 2, '10000011': 1, '11111100': 5, '10001100': 3, '10011011': 1, '10000100': 4, '00111111': 4, '00100001': 2, '00100111': 3, '00010101': 3, '11101100': 1, '11000001': 2, '11110100': 4, '11010101': 5, '01100100': 1, '01110110': 1, '01001001': 3, '11001000': 1, '10000000': 3, '00000100': 3}\n",
      "\n",
      "Message: [1, 0, 0, 0, 1, 1, 0, 0]\n",
      "Key: [1, 1, 1, 0, 1, 1, 0, 1]\n"
     ]
    }
   ],
   "source": [
    "# execute the circuit\n",
    "job = execute(mycircuitE,Aer.get_backend('qasm_simulator'))\n",
    "encryption = job.result().get_counts(mycircuitE)\n",
    "\n",
    "# display the measurement results with total count\n",
    "print(\"Encryption\", encryption)\n",
    "# this converts the measurement result string into a list\n",
    "encrypted_message=list(map(int,[*list(encryption.keys())[0]]))\n",
    "\n",
    "# we reverse the list since the quantum simulator considers our MSB as LSB\n",
    "encrypted_message.reverse()\n",
    "print()\n",
    "print(\"Message:\", message)\n",
    "print(\"Key:\", key)"
   ]
  },
  {
   "cell_type": "markdown",
   "metadata": {},
   "source": [
    "We get completely random results due to difference in measurement basis."
   ]
  },
  {
   "cell_type": "code",
   "execution_count": null,
   "metadata": {},
   "outputs": [],
   "source": []
  }
 ],
 "metadata": {
  "kernelspec": {
   "display_name": "Python 3",
   "language": "python",
   "name": "python3"
  },
  "language_info": {
   "codemirror_mode": {
    "name": "ipython",
    "version": 3
   },
   "file_extension": ".py",
   "mimetype": "text/x-python",
   "name": "python",
   "nbconvert_exporter": "python",
   "pygments_lexer": "ipython3",
   "version": "3.9.1"
  }
 },
 "nbformat": 4,
 "nbformat_minor": 2
}
