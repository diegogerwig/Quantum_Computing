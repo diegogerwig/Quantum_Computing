{
 "cells": [
  {
   "cell_type": "markdown",
   "metadata": {},
   "source": [
    "<table width=\"100%\"><tr style=\"background-color:white;\">\n",
    "    <td style=\"text-align:left;padding:0px;width:142px'\">\n",
    "        <a href=\"https://qworld.net\" target=\"_blank\">\n",
    "            <img src=\"../images/QWorld.png\"></a></td>\n",
    "    <td width=\"*\">&nbsp;&nbsp;&nbsp;&nbsp;&nbsp;&nbsp;</td>\n",
    "    <!-- ############################################# -->\n",
    "    <td style=\"padding:0px;width:90px;\">\n",
    "        <img align=\"right\" src=\"../images/follow_us.png\" height=\"40px\"></td>\n",
    "    <td style=\"padding:0px;width:40px;\">\n",
    "        <a href=\"https://twitter.com/QWorld19\" target=\"_blank\">\n",
    "        <img align=\"right\" src=\"../images/Twitter.png\" width=\"40px\"></a> </td>\n",
    "    <td style=\"padding:0px;width:5px;\"></td>\n",
    "    <td style=\"padding:0px;width:40px;\">\n",
    "        <a href=\"https://www.facebook.com/qworld19/\" target=\"_blank\">\n",
    "        <img align=\"right\" src=\"../images/Fb.png\"></a></td>\n",
    "    <td style=\"padding:0px;width:5px;\"></td>\n",
    "    <td style=\"padding:0px;width:40px;\">\n",
    "        <a href=\"https://www.linkedin.com/company/qworld19\" target=\"_blank\">\n",
    "        <img align=\"right\" src=\"../images/LinkedIn.png\"></a></td>\n",
    "    <td style=\"padding:0px;width:5px;\"></td>\n",
    "    <td style=\"padding:0px;width:40px;\">\n",
    "        <a href=\"https://www.youtube.com/qworld19\" target=\"_blank\">\n",
    "        <img align=\"right\" src=\"../images/YT.png\"></a></td>\n",
    "    <!-- ############################################# -->\n",
    "    <td style=\"padding:0px;width:60px;\">\n",
    "        <img align=\"right\" src=\"../images/join.png\" height=\"40px\"></td>\n",
    "    <td style=\"padding:0px;width:40px;\">\n",
    "        <a href=\"https://discord.gg/akCvr7U87g\"\n",
    "           target=\"_blank\">\n",
    "        <img align=\"right\" src=\"../images/Discord.png\"></a></td>\n",
    "    <!-- ############################################# -->\n",
    "    <td style=\"padding:0px;width:72px;\">\n",
    "        <img align=\"right\" src=\"../images/w3.png\" height=\"40px\"></td>\n",
    "    <td style=\"padding:0px;width:40px;\">\n",
    "        <a href=\"https://qworld.net\" target=\"_blank\">\n",
    "        <img align=\"right\" src=\"../images/www.png\"></a></td>\n",
    "</tr></table>\n",
    "\n",
    "<table width = \"100%\">\n",
    "  <tr style=\"background-color:white;\">\n",
    "    <td style=\"text-align:right;vertical-align:bottom;font-size:12px;\"> \n",
    "        Prepared by <a href=\"https://www.linkedin.com/in/sabah-ud-din-ahmad\" target=\"_blank\"> Sabah Ud Din Ahmad</a> (QPakistan)</td>\n",
    "    </tr>\n",
    "    <tr><td align=\"right\" style=\"color:#bbbbbb;background-color:#ffffff;font-size:11px;font-style:italic;\">\n",
    "        This cell contains some macros. If there is a problem with displaying mathematical formulas, please run this cell to load these macros.\n",
    "    </td></tr>\n",
    " </table>\n",
    " \n",
    "$ \\newcommand{\\bra}[1]{\\langle #1|} $\n",
    "$ \\newcommand{\\ket}[1]{|#1\\rangle} $\n",
    "$ \\newcommand{\\braket}[2]{\\langle #1|#2\\rangle} $\n",
    "$ \\newcommand{\\dot}[2]{ #1 \\cdot #2} $\n",
    "$ \\newcommand{\\biginner}[2]{\\left\\langle #1,#2\\right\\rangle} $\n",
    "$ \\newcommand{\\mymatrix}[2]{\\left( \\begin{array}{#1} #2\\end{array} \\right)} $\n",
    "$ \\newcommand{\\myvector}[1]{\\mymatrix{c}{#1}} $\n",
    "$ \\newcommand{\\myrvector}[1]{\\mymatrix{r}{#1}} $\n",
    "$ \\newcommand{\\mypar}[1]{\\left( #1 \\right)} $\n",
    "$ \\newcommand{\\mybigpar}[1]{ \\Big( #1 \\Big)} $\n",
    "$ \\newcommand{\\sqrttwo}{\\frac{1}{\\sqrt{2}}} $\n",
    "$ \\newcommand{\\dsqrttwo}{\\dfrac{1}{\\sqrt{2}}} $\n",
    "$ \\newcommand{\\onehalf}{\\frac{1}{2}} $\n",
    "$ \\newcommand{\\donehalf}{\\dfrac{1}{2}} $\n",
    "$ \\newcommand{\\hadamard}{ \\mymatrix{rr}{ \\sqrttwo & \\sqrttwo \\\\ \\sqrttwo & -\\sqrttwo }} $\n",
    "$ \\newcommand{\\vzero}{\\myvector{1\\\\0}} $\n",
    "$ \\newcommand{\\vone}{\\myvector{0\\\\1}} $\n",
    "$ \\newcommand{\\vhadamardzero}{\\myvector{ \\sqrttwo \\\\  \\sqrttwo } } $\n",
    "$ \\newcommand{\\vhadamardone}{ \\myrvector{ \\sqrttwo \\\\ -\\sqrttwo } } $\n",
    "$ \\newcommand{\\myarray}[2]{ \\begin{array}{#1}#2\\end{array}} $\n",
    "$ \\newcommand{\\X}{ \\mymatrix{cc}{0 & 1 \\\\ 1 & 0}  } $\n",
    "$ \\newcommand{\\Z}{ \\mymatrix{rr}{1 & 0 \\\\ 0 & -1}  } $\n",
    "$ \\newcommand{\\Htwo}{ \\mymatrix{rrrr}{ \\frac{1}{2} & \\frac{1}{2} & \\frac{1}{2} & \\frac{1}{2} \\\\ \\frac{1}{2} & -\\frac{1}{2} & \\frac{1}{2} & -\\frac{1}{2} \\\\ \\frac{1}{2} & \\frac{1}{2} & -\\frac{1}{2} & -\\frac{1}{2} \\\\ \\frac{1}{2} & -\\frac{1}{2} & -\\frac{1}{2} & \\frac{1}{2} } } $\n",
    "$ \\newcommand{\\CNOT}{ \\mymatrix{cccc}{1 & 0 & 0 & 0 \\\\ 0 & 1 & 0 & 0 \\\\ 0 & 0 & 0 & 1 \\\\ 0 & 0 & 1 & 0} } $\n",
    "$ \\newcommand{\\norm}[1]{ \\left\\lVert #1 \\right\\rVert } $\n",
    "\n",
    " ---"
   ]
  },
  {
   "cell_type": "markdown",
   "metadata": {},
   "source": [
    "<h2>RSA Encryption Scheme</h2>\n",
    "\n",
    "RSA encryption scheme is an example of **Asymmetric Cryptography**.\n",
    "\n",
    "A pair of keys (public key and private key) is used for encryption and decryption. A sender uses a public key to encrypt the data and receiver can decrypt the data using his or her private key. This technique overcomes the problem of key distribution as in symmetric cryptography.\n",
    " <img align=\"center\" src=\"../images/asymmetric.png\" width=\"500px\">\n",
    " \n",
    "RSA is named on the initials of its creators: Rivest, Shamir, and Adleman."
   ]
  },
  {
   "cell_type": "markdown",
   "metadata": {},
   "source": [
    "### Integer Factorization\n",
    "\n",
    "RSA encryption is based on the difficulty in factorizing a large integer. \n",
    "\n",
    "* Public key consists of two numbers where one number is a multiple of two large prime numbers.\n",
    "* Private key is also calculated using the same prime numbers. \n",
    "\n",
    "The security of the private key is compromised if somebody can factorize the number. Therefore, encryption strength totally lies on the key size and if we double or triple the key size, encryption strength increases exponentially. \n",
    "\n",
    "RSA keys are typically 1024 or 2048 bits long, but 1024-bit keys are no longer secure against all attacks.\n",
    "\n",
    "\n"
   ]
  },
  {
   "cell_type": "markdown",
   "metadata": {},
   "source": [
    "#### Generating Public Key $P=(e,n)$\n",
    "\n",
    "1. Select two large prime numbers, A and B.\n",
    "2. Calculate $n$.\n",
    "\n",
    "$$n = A\\times B$$\n",
    "\n",
    "3. Select a random number $e$, such that:\n",
    "    * $e$ must be an integer.\n",
    "    * $e$ must not be a factor of $\\phi (n)$.\n",
    "    * $1 < e < \\phi (n)$\n",
    "    \n",
    "So, public key pair is $P=(e,n)$."
   ]
  },
  {
   "cell_type": "markdown",
   "metadata": {},
   "source": [
    "#### Generating Private Key $S=(d,n)$\n",
    "\n",
    "1. Calculate $\\phi (n)$.\n",
    "\n",
    "$$\\phi (n) = (A-1)\\cdot(B-1)$$\n",
    "\n",
    "2. For some random k, calculate $d$.\n",
    "\n",
    "$$d = (k \\cdot \\phi (n) + 1) / e$$\n",
    "\n",
    "    such that\n",
    "\n",
    "$$(ed) \\mod \\phi (n) =1$$ \n",
    "    \n",
    "So, private key pair is $S=(d,n)$."
   ]
  },
  {
   "cell_type": "markdown",
   "metadata": {},
   "source": [
    "#### Encryption\n",
    "\n",
    "1. Convert your message to a number, $M$.\n",
    "\n",
    "    For example, you can replace letters in a message with their corresponding numbers. For a message \"*Hello*\", $H=8, E=5, L=12, O=15$. So, \"*Hello*\" = 85121215.\n",
    "    \n",
    "    \n",
    "2. Encrypt message.\n",
    "\n",
    "$$E = M^{e}\\mod n$$\n",
    "        \n",
    "Here, $E$ is the encrypted data. "
   ]
  },
  {
   "cell_type": "markdown",
   "metadata": {},
   "source": [
    "#### Decryption\n",
    "\n",
    "1. Decrypt message.\n",
    "\n",
    "$$M = E^{d} \\mod n$$\n",
    "\n",
    "Here, $M$ is the decrypted data.\n",
    "\n",
    "2. Convert the number, $M$, to get your original message using the same conversion technique."
   ]
  },
  {
   "cell_type": "markdown",
   "metadata": {},
   "source": [
    "<div class=\"alert alert-block alert-warning\">\n",
    "    <h4>Example 1: Encrypt the message \"5\".</h4>\n",
    "    <br>\n",
    "    <div class=\"panel panel-block panel-warning\">\n",
    "        Let's generate our keys. \n",
    "\n",
    "Let the prime numbers be, $A=3$ and $B=11$.\n",
    "$$n=3 \\times 11 = 33$$\n",
    "\n",
    "$$\\phi (33) = (3-1)\\cdot(11-1) = 20$$\n",
    "        \n",
    "Let $e=7$ (which satisfies the conditions).\n",
    "\n",
    "For $k=1$,\n",
    "\n",
    "$$d = (1 (20) + 1) / 7 = 3$$\n",
    "        \n",
    "**Note:** You need a specific k that gives an integer d.\n",
    "        \n",
    "So, our public key is $P=(7,33)$.\n",
    "Our private key is $S=(3,33)$.\n",
    "\n",
    "For our message $M = 5$,\n",
    "        \n",
    "$$E = 5^{7} \\mod 33 = 14$$\n",
    "        \n",
    "So, our encrypted data is $14$. \n",
    "    </div>\n",
    "</div>"
   ]
  },
  {
   "cell_type": "markdown",
   "metadata": {},
   "source": [
    "<div class=\"alert alert-block alert-warning\">\n",
    "    <h4>Example 2: Decrypt the message \"5\".</h4>\n",
    "    <br>\n",
    "    <div class=\"panel panel-block panel-warning\">\n",
    "        Our private key is $S=(3,33)$. \n",
    "\n",
    "Our encrypted data is $14$.\n",
    " \n",
    "$$M = 14^{3} \\mod 33 = 5$$\n",
    "        \n",
    "So, we get back our original message. \n",
    "    </div>\n",
    "</div>"
   ]
  },
  {
   "cell_type": "markdown",
   "metadata": {},
   "source": [
    "<font style=\"color:darkorange;font-weight:bold;\"> <h2>Task 1</h2> </font>\n",
    "\n",
    "Encrypt and decrypt the message \"15\" using RSA encryption scheme. Let $A=3$ & $B=7$. "
   ]
  },
  {
   "cell_type": "markdown",
   "metadata": {},
   "source": [
    "[Click here for solution](QC03_RSA_Solutions.ipynb#task1)\n",
    "\n",
    "***"
   ]
  },
  {
   "cell_type": "markdown",
   "metadata": {},
   "source": [
    "<font style=\"color:darkorange;font-weight:bold;\"> <h2>Task 2</h2> </font>\n",
    "\n",
    "Complete the following code and verify the results for Example 1 & 2."
   ]
  },
  {
   "cell_type": "code",
   "execution_count": 1,
   "metadata": {},
   "outputs": [
    {
     "name": "stdout",
     "output_type": "stream",
     "text": [
      "Encrypted Data =  14\n",
      "Decrypted Data =  5\n"
     ]
    }
   ],
   "source": [
    "import math\n",
    "\n",
    "A = 3\n",
    "B = 11\n",
    "n = A*B\n",
    "phi = (A-1)*(B-1)\n",
    "\n",
    "k = 1\n",
    "e = 7\n",
    "d = (k*phi + 1)//e\n",
    " \n",
    "M = 5\n",
    "\n",
    "# Encryption E = (M ^ e) % n\n",
    "E = (M**e) % n\n",
    "print(\"Encrypted Data = \", int(E))\n",
    " \n",
    "# Decryption\n",
    "\n",
    "M = (E ** d) % n\n",
    "\n",
    "print(\"Decrypted Data = \", int(M))"
   ]
  },
  {
   "cell_type": "markdown",
   "metadata": {},
   "source": [
    "[Click here for solution](QC03_RSA_Solutions.ipynb#task2)\n",
    "\n",
    "***"
   ]
  },
  {
   "cell_type": "markdown",
   "metadata": {},
   "source": [
    "<font style=\"color:darkorange;font-weight:bold;\"> <h2>Task 3</h2> </font>\n",
    "\n",
    "Using the code in Task 2 and changing the values, verify the results for Task 1."
   ]
  },
  {
   "cell_type": "markdown",
   "metadata": {},
   "source": [
    "[Click here for solution](QC03_RSA_Solutions.ipynb#task3)\n",
    "\n",
    "***"
   ]
  },
  {
   "cell_type": "markdown",
   "metadata": {},
   "source": [
    "#### References\n",
    "\n",
    "1. https://www.geeksforgeeks.org/rsa-algorithm-cryptography/ "
   ]
  },
  {
   "cell_type": "markdown",
   "metadata": {},
   "source": [
    "Next: [Quantum Cryptography](QC04_Quantum_Cryptography.ipynb)"
   ]
  }
 ],
 "metadata": {
  "kernelspec": {
   "display_name": "Python 3",
   "language": "python",
   "name": "python3"
  },
  "language_info": {
   "codemirror_mode": {
    "name": "ipython",
    "version": 3
   },
   "file_extension": ".py",
   "mimetype": "text/x-python",
   "name": "python",
   "nbconvert_exporter": "python",
   "pygments_lexer": "ipython3",
   "version": "3.9.1"
  }
 },
 "nbformat": 4,
 "nbformat_minor": 2
}
