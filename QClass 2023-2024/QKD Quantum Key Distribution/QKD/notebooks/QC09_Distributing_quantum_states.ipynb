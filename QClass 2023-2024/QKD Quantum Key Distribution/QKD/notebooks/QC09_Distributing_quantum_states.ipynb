{
 "cells": [
  {
   "cell_type": "markdown",
   "metadata": {},
   "source": [
    "<table width=\"100%\"><tr style=\"background-color:white;\">\n",
    "    <td style=\"text-align:left;padding:0px;width:142px'\">\n",
    "        <a href=\"https://qworld.net\" target=\"_blank\">\n",
    "            <img src=\"../images/QWorld.png\"></a></td>\n",
    "    <td width=\"*\">&nbsp;&nbsp;&nbsp;&nbsp;&nbsp;&nbsp;</td>\n",
    "    <!-- ############################################# -->\n",
    "    <td style=\"padding:0px;width:90px;\">\n",
    "        <img align=\"right\" src=\"../images/follow_us.png\" height=\"40px\"></td>\n",
    "    <td style=\"padding:0px;width:40px;\">\n",
    "        <a href=\"https://twitter.com/QWorld19\" target=\"_blank\">\n",
    "        <img align=\"right\" src=\"../images/Twitter.png\" width=\"40px\"></a> </td>\n",
    "    <td style=\"padding:0px;width:5px;\"></td>\n",
    "    <td style=\"padding:0px;width:40px;\">\n",
    "        <a href=\"https://www.facebook.com/qworld19/\" target=\"_blank\">\n",
    "        <img align=\"right\" src=\"../images/Fb.png\"></a></td>\n",
    "    <td style=\"padding:0px;width:5px;\"></td>\n",
    "    <td style=\"padding:0px;width:40px;\">\n",
    "        <a href=\"https://www.linkedin.com/company/qworld19\" target=\"_blank\">\n",
    "        <img align=\"right\" src=\"../images/LinkedIn.png\"></a></td>\n",
    "    <td style=\"padding:0px;width:5px;\"></td>\n",
    "    <td style=\"padding:0px;width:40px;\">\n",
    "        <a href=\"https://www.youtube.com/qworld19\" target=\"_blank\">\n",
    "        <img align=\"right\" src=\"../images/YT.png\"></a></td>\n",
    "    <!-- ############################################# -->\n",
    "    <td style=\"padding:0px;width:60px;\">\n",
    "        <img align=\"right\" src=\"../images/join.png\" height=\"40px\"></td>\n",
    "    <td style=\"padding:0px;width:40px;\">\n",
    "        <a href=\"https://discord.gg/akCvr7U87g\"\n",
    "           target=\"_blank\">\n",
    "        <img align=\"right\" src=\"../images/Discord.png\"></a></td>\n",
    "    <!-- ############################################# -->\n",
    "    <td style=\"padding:0px;width:72px;\">\n",
    "        <img align=\"right\" src=\"../images/w3.png\" height=\"40px\"></td>\n",
    "    <td style=\"padding:0px;width:40px;\">\n",
    "        <a href=\"https://qworld.net\" target=\"_blank\">\n",
    "        <img align=\"right\" src=\"../images/www.png\"></a></td>\n",
    "</tr></table>\n",
    "\n",
    "<table width = \"100%\">\n",
    "  <tr style=\"background-color:white;\">\n",
    "    <td style=\"text-align:right;vertical-align:bottom;font-size:12px;\"> \n",
    "        Prepared by Anastasija Trizna (QPoland, QLatvia) & <a href=\"https://www.linkedin.com/in/sabah-ud-din-ahmad\" target=\"_blank\"> Sabah Ud Din Ahmad</a> (QPakistan)</td>\n",
    "    </tr>\n",
    "    <tr><td align=\"right\" style=\"color:#bbbbbb;background-color:#ffffff;font-size:11px;font-style:italic;\">\n",
    "        This cell contains some macros. If there is a problem with displaying mathematical formulas, please run this cell to load these macros.\n",
    "    </td></tr>\n",
    " </table>\n",
    " \n",
    "$ \\newcommand{\\bra}[1]{\\langle #1|} $\n",
    "$ \\newcommand{\\ket}[1]{|#1\\rangle} $\n",
    "$ \\newcommand{\\braket}[2]{\\langle #1|#2\\rangle} $\n",
    "$ \\newcommand{\\dot}[2]{ #1 \\cdot #2} $\n",
    "$ \\newcommand{\\biginner}[2]{\\left\\langle #1,#2\\right\\rangle} $\n",
    "$ \\newcommand{\\mymatrix}[2]{\\left( \\begin{array}{#1} #2\\end{array} \\right)} $\n",
    "$ \\newcommand{\\myvector}[1]{\\mymatrix{c}{#1}} $\n",
    "$ \\newcommand{\\myrvector}[1]{\\mymatrix{r}{#1}} $\n",
    "$ \\newcommand{\\mypar}[1]{\\left( #1 \\right)} $\n",
    "$ \\newcommand{\\mybigpar}[1]{ \\Big( #1 \\Big)} $\n",
    "$ \\newcommand{\\sqrttwo}{\\frac{1}{\\sqrt{2}}} $\n",
    "$ \\newcommand{\\dsqrttwo}{\\dfrac{1}{\\sqrt{2}}} $\n",
    "$ \\newcommand{\\onehalf}{\\frac{1}{2}} $\n",
    "$ \\newcommand{\\donehalf}{\\dfrac{1}{2}} $\n",
    "$ \\newcommand{\\hadamard}{ \\mymatrix{rr}{ \\sqrttwo & \\sqrttwo \\\\ \\sqrttwo & -\\sqrttwo }} $\n",
    "$ \\newcommand{\\vzero}{\\myvector{1\\\\0}} $\n",
    "$ \\newcommand{\\vone}{\\myvector{0\\\\1}} $\n",
    "$ \\newcommand{\\vhadamardzero}{\\myvector{ \\sqrttwo \\\\  \\sqrttwo } } $\n",
    "$ \\newcommand{\\vhadamardone}{ \\myrvector{ \\sqrttwo \\\\ -\\sqrttwo } } $\n",
    "$ \\newcommand{\\myarray}[2]{ \\begin{array}{#1}#2\\end{array}} $\n",
    "$ \\newcommand{\\X}{ \\mymatrix{cc}{0 & 1 \\\\ 1 & 0}  } $\n",
    "$ \\newcommand{\\Z}{ \\mymatrix{rr}{1 & 0 \\\\ 0 & -1}  } $\n",
    "$ \\newcommand{\\Htwo}{ \\mymatrix{rrrr}{ \\frac{1}{2} & \\frac{1}{2} & \\frac{1}{2} & \\frac{1}{2} \\\\ \\frac{1}{2} & -\\frac{1}{2} & \\frac{1}{2} & -\\frac{1}{2} \\\\ \\frac{1}{2} & \\frac{1}{2} & -\\frac{1}{2} & -\\frac{1}{2} \\\\ \\frac{1}{2} & -\\frac{1}{2} & -\\frac{1}{2} & \\frac{1}{2} } } $\n",
    "$ \\newcommand{\\CNOT}{ \\mymatrix{cccc}{1 & 0 & 0 & 0 \\\\ 0 & 1 & 0 & 0 \\\\ 0 & 0 & 0 & 1 \\\\ 0 & 0 & 1 & 0} } $\n",
    "$ \\newcommand{\\norm}[1]{ \\left\\lVert #1 \\right\\rVert } $\n",
    "\n",
    " ---"
   ]
  },
  {
   "cell_type": "markdown",
   "metadata": {},
   "source": [
    "<h2>Distributing Quantum States</h2>\n",
    "    \n",
    "This is the first stage of QKD that takes place through the quantum channel.\n",
    "\n",
    "<h3>X and Z bases</h3>\n",
    "\n",
    "There are two bases that are used the most when we talk about QKD:\n",
    "\n",
    "> Orthogonal states $\\ket{0}$ and $\\ket{1}$ form a <b>Standard Basis</b>, also known as <b>Rectilinear</b>, which is $Z$ basis.\n",
    "> Orthogonal states $\\ket{+}$ and $\\ket{-}$ form a <b>Hadamard Basis</b>, also called <b>Diagonal</b>, which is $X$ basis.\n",
    "\n",
    "Representation of bases and states on two-dimensional space is as follows:"
   ]
  },
  {
   "cell_type": "markdown",
   "metadata": {},
   "source": [
    "<td style=\"background-color:#ffffff;\"><img src=\"../images/bases.jpg\" width=\"50%\" align=\"middle\"></td> "
   ]
  },
  {
   "cell_type": "markdown",
   "metadata": {},
   "source": [
    "If we decide to use Hadamard ($X$) basis, we need to apply $H$ gate to qubits to convert states $\\ket{0}$ or $\\ket{1}$ to states $\\ket{+}$ or $\\ket{-}$.\n",
    "\n",
    "$$H\\ket{0} = \\ket{+}$$\n",
    "$$H\\ket{1} = \\ket{-}$$\n",
    "\n",
    "The same is applied for the measurement. So far, we have used only Standard ($Z$) basis to measure received qubits. We can prepare measurement in a Hadamard basis by applying Hadamard operation <b>before</b> proceeding with the regular measurement."
   ]
  },
  {
   "cell_type": "markdown",
   "metadata": {},
   "source": [
    "<div class=\"alert alert-block alert-warning\">\n",
    "    <h4>Example 1: Using $X$-basis to encode and decode qubits.</h4>\n",
    "</div>"
   ]
  },
  {
   "cell_type": "code",
   "execution_count": 2,
   "metadata": {},
   "outputs": [],
   "source": [
    "# import all necessary objects and methods for quantum circuits\n",
    "from qiskit import QuantumRegister, ClassicalRegister, QuantumCircuit, execute, Aer\n",
    "from random import randrange\n",
    "\n",
    "def print_outcomes_in_reserve(counts): # takes a dictionary variable\n",
    "    for outcome in counts: # for each key-value in dictionary\n",
    "        reverse_outcome = ''\n",
    "        for i in outcome: # each string can be considered as a list of characters\n",
    "            reverse_outcome = i + reverse_outcome # each new symbol comes before the old symbol(s)\n",
    "    return reverse_outcome\n",
    "\n",
    "#Source for SendState: awards/teach_me_qiskit_2018/cryptography/Cryptography.ipynb\n",
    "\n",
    "def SendState(qc1, qc2, qc1_name):\n",
    "    ''' This function takes the output of a circuit qc1 (made up only of x and \n",
    "        h gates and initializes another circuit qc2 with the same state\n",
    "    ''' \n",
    "    \n",
    "    # Quantum state is retrieved from qasm code of qc1\n",
    "    qs = qc1.qasm().split(sep=';')[4:-1]\n",
    "\n",
    "    # Process the code to get the instructions\n",
    "    for index, instruction in enumerate(qs):\n",
    "        qs[index] = instruction.lstrip()\n",
    "\n",
    "    for instruction in qs:\n",
    "        if instruction[0] == 'x':\n",
    "            if instruction[5] == '[':\n",
    "                old_qr = int(instruction[6:-1])\n",
    "            else:\n",
    "                old_qr = int(instruction[5:-1])\n",
    "            qc2.x(qreg[old_qr])\n",
    "        elif instruction[0] == 'h':\n",
    "            if instruction[5] == '[':\n",
    "                old_qr = int(instruction[6:-1])\n",
    "            else:\n",
    "                old_qr = int(instruction[5:-1])\n",
    "            qc2.h(qreg[old_qr])\n",
    "        elif instruction[0] == 'm': # exclude measuring:\n",
    "            pass\n",
    "        else:\n",
    "            raise Exception('Unable to parse instruction')"
   ]
  },
  {
   "cell_type": "code",
   "execution_count": 6,
   "metadata": {},
   "outputs": [],
   "source": [
    "qreg = QuantumRegister(8) # quantum register with 8 qubits\n",
    "creg = ClassicalRegister(8) # classical register with 8 bits\n",
    "\n",
    "# Quantum circuit for Asja state\n",
    "asja = QuantumCircuit(qreg, creg, name='Asja')\n",
    "\n",
    "send=[] #Initial bit string to send\n",
    "\n",
    "#Creating random bit string\n",
    "for i in range(8):\n",
    "    bit = randrange(2)\n",
    "    send.append(bit)\n",
    "    \n",
    "#Apply X gate if bit is equal to 1\n",
    "for i, n in enumerate(send):\n",
    "    if n==1:\n",
    "        asja.x(qreg[i]) # apply x-gate\n",
    "\n",
    "send_str = ''.join(str(e) for e in send)"
   ]
  },
  {
   "cell_type": "markdown",
   "metadata": {},
   "source": [
    "In this code, qubits are initialized as $\\ket{0}$ and $\\ket{1}$. \n",
    "Let's switch to $X$-basis by applying $H$ gates."
   ]
  },
  {
   "cell_type": "code",
   "execution_count": 7,
   "metadata": {},
   "outputs": [
    {
     "data": {
      "text/html": [
       "<pre style=\"word-wrap: normal;white-space: pre;background: #fff0;line-height: 1.1;font-family: &quot;Courier New&quot;,Courier,monospace\">       ┌───┐┌───┐\n",
       "q12_0: ┤ X ├┤ H ├\n",
       "       ├───┤├───┤\n",
       "q12_1: ┤ X ├┤ H ├\n",
       "       ├───┤├───┤\n",
       "q12_2: ┤ X ├┤ H ├\n",
       "       ├───┤├───┤\n",
       "q12_3: ┤ X ├┤ H ├\n",
       "       ├───┤└───┘\n",
       "q12_4: ┤ H ├─────\n",
       "       ├───┤┌───┐\n",
       "q12_5: ┤ X ├┤ H ├\n",
       "       ├───┤└───┘\n",
       "q12_6: ┤ H ├─────\n",
       "       ├───┤┌───┐\n",
       "q12_7: ┤ X ├┤ H ├\n",
       "       └───┘└───┘\n",
       " c1: 8/══════════\n",
       "                 </pre>"
      ],
      "text/plain": [
       "       ┌───┐┌───┐\n",
       "q12_0: ┤ X ├┤ H ├\n",
       "       ├───┤├───┤\n",
       "q12_1: ┤ X ├┤ H ├\n",
       "       ├───┤├───┤\n",
       "q12_2: ┤ X ├┤ H ├\n",
       "       ├───┤├───┤\n",
       "q12_3: ┤ X ├┤ H ├\n",
       "       ├───┤└───┘\n",
       "q12_4: ┤ H ├─────\n",
       "       ├───┤┌───┐\n",
       "q12_5: ┤ X ├┤ H ├\n",
       "       ├───┤└───┘\n",
       "q12_6: ┤ H ├─────\n",
       "       ├───┤┌───┐\n",
       "q12_7: ┤ X ├┤ H ├\n",
       "       └───┘└───┘\n",
       " c1: 8/══════════\n",
       "                 "
      ]
     },
     "execution_count": 7,
     "metadata": {},
     "output_type": "execute_result"
    }
   ],
   "source": [
    "asja.h(qreg)\n",
    "\n",
    "asja.draw()"
   ]
  },
  {
   "cell_type": "code",
   "execution_count": 8,
   "metadata": {},
   "outputs": [
    {
     "data": {
      "text/html": [
       "<pre style=\"word-wrap: normal;white-space: pre;background: #fff0;line-height: 1.1;font-family: &quot;Courier New&quot;,Courier,monospace\">       ┌───┐┌───┐\n",
       "q12_0: ┤ X ├┤ H ├\n",
       "       ├───┤├───┤\n",
       "q12_1: ┤ X ├┤ H ├\n",
       "       ├───┤├───┤\n",
       "q12_2: ┤ X ├┤ H ├\n",
       "       ├───┤├───┤\n",
       "q12_3: ┤ X ├┤ H ├\n",
       "       ├───┤└───┘\n",
       "q12_4: ┤ H ├─────\n",
       "       ├───┤┌───┐\n",
       "q12_5: ┤ X ├┤ H ├\n",
       "       ├───┤└───┘\n",
       "q12_6: ┤ H ├─────\n",
       "       ├───┤┌───┐\n",
       "q12_7: ┤ X ├┤ H ├\n",
       "       └───┘└───┘\n",
       " c1: 8/══════════\n",
       "                 </pre>"
      ],
      "text/plain": [
       "       ┌───┐┌───┐\n",
       "q12_0: ┤ X ├┤ H ├\n",
       "       ├───┤├───┤\n",
       "q12_1: ┤ X ├┤ H ├\n",
       "       ├───┤├───┤\n",
       "q12_2: ┤ X ├┤ H ├\n",
       "       ├───┤├───┤\n",
       "q12_3: ┤ X ├┤ H ├\n",
       "       ├───┤└───┘\n",
       "q12_4: ┤ H ├─────\n",
       "       ├───┤┌───┐\n",
       "q12_5: ┤ X ├┤ H ├\n",
       "       ├───┤└───┘\n",
       "q12_6: ┤ H ├─────\n",
       "       ├───┤┌───┐\n",
       "q12_7: ┤ X ├┤ H ├\n",
       "       └───┘└───┘\n",
       " c1: 8/══════════\n",
       "                 "
      ]
     },
     "execution_count": 8,
     "metadata": {},
     "output_type": "execute_result"
    }
   ],
   "source": [
    "balvis = QuantumCircuit(qreg, creg, name='Balvis') #Defining Balvis circuit\n",
    "\n",
    "SendState(asja, balvis, 'Asja') #Asja sends states to Balvis\n",
    "\n",
    "balvis.draw()"
   ]
  },
  {
   "cell_type": "markdown",
   "metadata": {},
   "source": [
    "Balvis needs to switch to $Z$-basis, before proceeding with the measurement. "
   ]
  },
  {
   "cell_type": "code",
   "execution_count": 9,
   "metadata": {},
   "outputs": [
    {
     "name": "stdout",
     "output_type": "stream",
     "text": [
      "Asja sent: 11110101\n",
      "Balvis received: 11110101\n"
     ]
    }
   ],
   "source": [
    "balvis.h(qreg) #Applying H gate first\n",
    "balvis.measure(qreg,creg) #then continue with regular measurement\n",
    "\n",
    "job = execute(balvis,Aer.get_backend('qasm_simulator'),shots=1) #Note that Balvis only has one shot to measure qubits\n",
    "counts = job.result().get_counts(balvis) # counts is a dictionary object in python\n",
    "received = print_outcomes_in_reserve(counts)\n",
    "\n",
    "print(\"Asja sent:\", send_str)\n",
    "print(\"Balvis received:\", received)"
   ]
  },
  {
   "cell_type": "markdown",
   "metadata": {},
   "source": [
    "<font style=\"color:darkorange;font-weight:bold;\"> <h2>Task 1</h2> </font>\n",
    "\n",
    "<h4>Measuring in incorrect basis</h4>\n",
    "\n",
    "Create a program for 16 bits, where Asja sends first 8 bits encoded using $X$-basis and next 8 bits encoded in $Z$-basis, but Balvis measures first 8 qubits using $Z$-basis and next 8 qubits using $X$-basis. "
   ]
  },
  {
   "cell_type": "code",
   "execution_count": 6,
   "metadata": {},
   "outputs": [],
   "source": [
    "### YOUR CODE HERE ###\n",
    "\n"
   ]
  },
  {
   "cell_type": "markdown",
   "metadata": {},
   "source": [
    "[Click here for solution](QC09_Distributing_quantum_states_Solutions.ipynb#task1)\n",
    "\n",
    "***"
   ]
  },
  {
   "cell_type": "markdown",
   "metadata": {},
   "source": [
    "As you can see from the result, Asja and Balvis have completely different bit strings because measurement in incorrect basis randomizes the result. \n",
    "\n",
    "For example, if Asja sent state $\\ket{0}$ and Balvis measured using $X$ basis - he has equal probability of getting 0 or 1.\n",
    "\n",
    "And vice-versa, if Asja sent state $\\ket{+}$ and Balvis measured using $Z$ basis- he has equal probability of getting 0 or 1."
   ]
  },
  {
   "cell_type": "markdown",
   "metadata": {},
   "source": [
    "<div class=\"alert alert-block alert-info\">\n",
    "    <center><b>Measuring qubit with incorrect basis randomizes the outcome!</b></center>\n",
    "</div>\n",
    "\n"
   ]
  },
  {
   "cell_type": "markdown",
   "metadata": {},
   "source": [
    "Let's randomize everything!"
   ]
  },
  {
   "cell_type": "markdown",
   "metadata": {},
   "source": [
    "\n",
    "\n",
    "At this stage Asja chooses a random bit string and random sequence of encoding basis ($X$ or $Z$) and prepares qubits:\n",
    "\n",
    "<center>states $\\ket{0}$ and $\\ket{1}$ form $Z$-basis</center>\n",
    "<center>states $\\ket{+}$ and $\\ket{-}$ form $X$-basis</center>\n",
    "\n",
    "She then sends qubits to Balvis, each representing one bit of the string in the basis chosen for that bit position:\n",
    "<center>$\\ket0$ or $\\ket+$ for a binary $0$ </center>\n",
    "<center>$\\ket1$ or $\\ket-$ for a binary $1$ </center>\n",
    "\n",
    "Once Balvis receives the state (photons), he decides <b>randomly for each photon and independently from Asja</b>, whether to measure it in $Z$ or $X$-basis and interprets the result of the measurement as a binary $0$ or $1$."
   ]
  },
  {
   "cell_type": "markdown",
   "metadata": {},
   "source": [
    "<h3>Summary of Protocol</h3>\n",
    "\n",
    "For <b>Asja</b>,\n",
    "<ul>\n",
    "    <li>Asja creates a $n$-bit long random bit string and prepares qubits.\n",
    "    <li>Asja encodes qubits in a basis ($X$ or $Z$) chosen randomly (does nothing if she chose $Z$-basis, applies $H$-gate if she chose $X$-basis.\n",
    "    <li>Asja saves information about initial bit value and corresponding basis she used to encode that bit.\n",
    "    <li>Asja sends qubits to Balvis.\n",
    "    </ul>\n",
    "    \n",
    "For **Balvis**,\n",
    "<ul><li>Balvis, randomly and independently from Asja, chooses a basis in which he will measure each received qubit.\n",
    "    <li>Balvis measures qubits in chosen basis ($X$ or $Z$) (does nothing if he chose $Z$-basis, applies $H$-gate before measurement if he chose $X$-basis.\n",
    "    <li>Balvis saves information about the basis he used and corresponding measurement results.</ul>"
   ]
  },
  {
   "cell_type": "markdown",
   "metadata": {},
   "source": [
    "<div class=\"alert alert-block alert-warning\">\n",
    "    <h4>Example 2</h4>\n",
    "    Let's implement the above protocol for $n=24$ bit string.\n",
    "</div>"
   ]
  },
  {
   "cell_type": "code",
   "execution_count": 5,
   "metadata": {},
   "outputs": [
    {
     "name": "stdout",
     "output_type": "stream",
     "text": [
      "Asja sent: [0, 1, 1, 1, 0, 0, 1, 0, 0, 1, 1, 1, 0, 1, 0, 0, 0, 0, 0, 1, 1, 0, 0, 1]\n",
      "Asja encoding basis: ['X', 'Z', 'Z', 'X', 'X', 'Z', 'Z', 'Z', 'X', 'Z', 'Z', 'X', 'X', 'Z', 'Z', 'Z', 'Z', 'X', 'X', 'Z', 'X', 'X', 'Z', 'X']\n",
      "Balvis received: [1, 1, 1, 1, 0, 1, 1, 0, 0, 0, 0, 1, 1, 1, 1, 0, 0, 0, 0, 1, 1, 0, 1, 1]\n",
      "Balvis decoding basis: ['Z', 'X', 'Z', 'X', 'Z', 'X', 'Z', 'Z', 'X', 'X', 'X', 'X', 'Z', 'Z', 'X', 'Z', 'Z', 'X', 'Z', 'Z', 'Z', 'X', 'X', 'X']\n"
     ]
    }
   ],
   "source": [
    "### import all necessary objects and methods for quantum circuits\n",
    "### Run the block in Example 1 if you have skipped it\n",
    "\n",
    "qreg = QuantumRegister(24) # quantum register with 24 qubits\n",
    "creg = ClassicalRegister(24) # classical register with 24 bits\n",
    "\n",
    "# Quantum circuit for Asja state\n",
    "asja = QuantumCircuit(qreg, creg, name='Asja')\n",
    "\n",
    "send=[] #Initial bit string to send\n",
    "asja_basis=[] #Register to save information about encoding basis\n",
    "balvis_basis=[] #Register to save information about decoding basis\n",
    "\n",
    "#Creating random bit string\n",
    "for i in range(24):\n",
    "    bit = randrange(2)\n",
    "    send.append(bit)\n",
    "    \n",
    "#Preparing qubits, apply X gate if bit is equal 1\n",
    "for i, n in enumerate(send):\n",
    "    if n==1:\n",
    "        asja.x(qreg[i]) # apply x-gate\n",
    "\n",
    "#Encoding\n",
    "for i in range(24):\n",
    "    r=randrange(2) #Asja randomly pick a basis\n",
    "    if r==0: #if bit is 0, then she encodes in Z basis\n",
    "        asja_basis.append('Z')\n",
    "    else:    #if bit is 1, then she encodes in X basis\n",
    "        asja.h(qreg[i])\n",
    "        asja_basis.append('X')\n",
    "\n",
    "balvis = QuantumCircuit(qreg, creg, name='Balvis') #Defining Balvis circuit\n",
    "SendState(asja, balvis, 'Asja') #Asja sends states to Balvis\n",
    "\n",
    "#Balvis measures qubits\n",
    "for i in range(24):\n",
    "    r=randrange(2) #Balvis randomly pick a basis\n",
    "    if r==0: #if bit is 0, then measures in Z basis\n",
    "        balvis.measure(qreg[i],creg[i])\n",
    "        balvis_basis.append('Z')\n",
    "    else:    #if bit is 1, then measures in X basis\n",
    "        balvis.h(qreg[i])\n",
    "        balvis.measure(qreg[i],creg[i])\n",
    "        balvis_basis.append('X')\n",
    "\n",
    "job = execute(balvis,Aer.get_backend('qasm_simulator'),shots=1) #Note that Balvis only has one shot to measure qubits\n",
    "counts = job.result().get_counts(balvis) # counts is a dictionary object in python\n",
    "counts = print_outcomes_in_reserve(counts)\n",
    "\n",
    "#Saving Balvis received string as a list\n",
    "received = list(map(int, counts))\n",
    "\n",
    "print(\"Asja sent:\", send)\n",
    "print(\"Asja encoding basis:\", asja_basis)\n",
    "print(\"Balvis received:\", received)\n",
    "print(\"Balvis decoding basis:\", balvis_basis)"
   ]
  },
  {
   "cell_type": "markdown",
   "metadata": {},
   "source": [
    "<font style=\"color:darkorange;font-weight:bold;\"> <h2>Task 2</h2> </font>\n",
    "\n",
    "Run the above protocol for a $16$-bit string. Find the limiting length of the bit string for your computer below which the simulation doesn't fail. \n",
    "\n",
    "**Hint:** You can take help from the above example. "
   ]
  },
  {
   "cell_type": "code",
   "execution_count": 6,
   "metadata": {},
   "outputs": [],
   "source": [
    "### YOUR CODE HERE ###\n",
    "\n"
   ]
  },
  {
   "cell_type": "markdown",
   "metadata": {},
   "source": [
    "[Click here for solution](QC09_Distributing_quantum_states_Solutions.ipynb#task2)\n",
    "\n",
    "***"
   ]
  },
  {
   "cell_type": "markdown",
   "metadata": {},
   "source": [
    "Don't judge yourself for getting incorrect results. It was expected. \n",
    "\n",
    "Now, we will move to the next stage of QKD where we will remove these incorrect results (errors). "
   ]
  },
  {
   "cell_type": "markdown",
   "metadata": {},
   "source": [
    "Next: [Sifting and Quantum Bit Error Rate (QBER)](QC10_Sifting_and_QBER_calculation.ipynb)"
   ]
  }
 ],
 "metadata": {
  "kernelspec": {
   "display_name": "Python 3",
   "language": "python",
   "name": "python3"
  },
  "language_info": {
   "codemirror_mode": {
    "name": "ipython",
    "version": 3
   },
   "file_extension": ".py",
   "mimetype": "text/x-python",
   "name": "python",
   "nbconvert_exporter": "python",
   "pygments_lexer": "ipython3",
   "version": "3.8.10"
  }
 },
 "nbformat": 4,
 "nbformat_minor": 2
}
