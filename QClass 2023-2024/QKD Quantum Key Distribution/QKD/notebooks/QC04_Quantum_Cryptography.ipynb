{
 "cells": [
  {
   "cell_type": "markdown",
   "metadata": {},
   "source": [
    "<table width=\"100%\"><tr style=\"background-color:white;\">\n",
    "    <td style=\"text-align:left;padding:0px;width:142px'\">\n",
    "        <a href=\"https://qworld.net\" target=\"_blank\">\n",
    "            <img src=\"../images/QWorld.png\"></a></td>\n",
    "    <td width=\"*\">&nbsp;&nbsp;&nbsp;&nbsp;&nbsp;&nbsp;</td>\n",
    "    <!-- ############################################# -->\n",
    "    <td style=\"padding:0px;width:90px;\">\n",
    "        <img align=\"right\" src=\"../images/follow_us.png\" height=\"40px\"></td>\n",
    "    <td style=\"padding:0px;width:40px;\">\n",
    "        <a href=\"https://twitter.com/QWorld19\" target=\"_blank\">\n",
    "        <img align=\"right\" src=\"../images/Twitter.png\" width=\"40px\"></a> </td>\n",
    "    <td style=\"padding:0px;width:5px;\"></td>\n",
    "    <td style=\"padding:0px;width:40px;\">\n",
    "        <a href=\"https://www.facebook.com/qworld19/\" target=\"_blank\">\n",
    "        <img align=\"right\" src=\"../images/Fb.png\"></a></td>\n",
    "    <td style=\"padding:0px;width:5px;\"></td>\n",
    "    <td style=\"padding:0px;width:40px;\">\n",
    "        <a href=\"https://www.linkedin.com/company/qworld19\" target=\"_blank\">\n",
    "        <img align=\"right\" src=\"../images/LinkedIn.png\"></a></td>\n",
    "    <td style=\"padding:0px;width:5px;\"></td>\n",
    "    <td style=\"padding:0px;width:40px;\">\n",
    "        <a href=\"https://www.youtube.com/qworld19\" target=\"_blank\">\n",
    "        <img align=\"right\" src=\"../images/YT.png\"></a></td>\n",
    "    <!-- ############################################# -->\n",
    "    <td style=\"padding:0px;width:60px;\">\n",
    "        <img align=\"right\" src=\"../images/join.png\" height=\"40px\"></td>\n",
    "    <td style=\"padding:0px;width:40px;\">\n",
    "        <a href=\"https://discord.gg/akCvr7U87g\"\n",
    "           target=\"_blank\">\n",
    "        <img align=\"right\" src=\"../images/Discord.png\"></a></td>\n",
    "    <!-- ############################################# -->\n",
    "    <td style=\"padding:0px;width:72px;\">\n",
    "        <img align=\"right\" src=\"../images/w3.png\" height=\"40px\"></td>\n",
    "    <td style=\"padding:0px;width:40px;\">\n",
    "        <a href=\"https://qworld.net\" target=\"_blank\">\n",
    "        <img align=\"right\" src=\"../images/www.png\"></a></td>\n",
    "</tr></table>\n",
    "\n",
    "<table width = \"100%\">\n",
    "  <tr style=\"background-color:white;\">\n",
    "    <td style=\"text-align:right;vertical-align:bottom;font-size:12px;\"> \n",
    "        Prepared by Anastasija Trizna (QPoland, QLatvia) & <a href=\"https://gitlab.com/sabahuddin.ahmad\" target=\"_blank\"> Sabah Ud Din Ahmad</a> (QPakistan)</td>\n",
    "    </tr>\n",
    "    <tr><td align=\"right\" style=\"color:#bbbbbb;background-color:#ffffff;font-size:11px;font-style:italic;\">\n",
    "        This cell contains some macros. If there is a problem with displaying mathematical formulas, please run this cell to load these macros.\n",
    "    </td></tr>\n",
    " </table>\n",
    " \n",
    "$ \\newcommand{\\bra}[1]{\\langle #1|} $\n",
    "$ \\newcommand{\\ket}[1]{|#1\\rangle} $\n",
    "$ \\newcommand{\\braket}[2]{\\langle #1|#2\\rangle} $\n",
    "$ \\newcommand{\\dot}[2]{ #1 \\cdot #2} $\n",
    "$ \\newcommand{\\biginner}[2]{\\left\\langle #1,#2\\right\\rangle} $\n",
    "$ \\newcommand{\\mymatrix}[2]{\\left( \\begin{array}{#1} #2\\end{array} \\right)} $\n",
    "$ \\newcommand{\\myvector}[1]{\\mymatrix{c}{#1}} $\n",
    "$ \\newcommand{\\myrvector}[1]{\\mymatrix{r}{#1}} $\n",
    "$ \\newcommand{\\mypar}[1]{\\left( #1 \\right)} $\n",
    "$ \\newcommand{\\mybigpar}[1]{ \\Big( #1 \\Big)} $\n",
    "$ \\newcommand{\\sqrttwo}{\\frac{1}{\\sqrt{2}}} $\n",
    "$ \\newcommand{\\dsqrttwo}{\\dfrac{1}{\\sqrt{2}}} $\n",
    "$ \\newcommand{\\onehalf}{\\frac{1}{2}} $\n",
    "$ \\newcommand{\\donehalf}{\\dfrac{1}{2}} $\n",
    "$ \\newcommand{\\hadamard}{ \\mymatrix{rr}{ \\sqrttwo & \\sqrttwo \\\\ \\sqrttwo & -\\sqrttwo }} $\n",
    "$ \\newcommand{\\vzero}{\\myvector{1\\\\0}} $\n",
    "$ \\newcommand{\\vone}{\\myvector{0\\\\1}} $\n",
    "$ \\newcommand{\\vhadamardzero}{\\myvector{ \\sqrttwo \\\\  \\sqrttwo } } $\n",
    "$ \\newcommand{\\vhadamardone}{ \\myrvector{ \\sqrttwo \\\\ -\\sqrttwo } } $\n",
    "$ \\newcommand{\\myarray}[2]{ \\begin{array}{#1}#2\\end{array}} $\n",
    "$ \\newcommand{\\X}{ \\mymatrix{cc}{0 & 1 \\\\ 1 & 0}  } $\n",
    "$ \\newcommand{\\Z}{ \\mymatrix{rr}{1 & 0 \\\\ 0 & -1}  } $\n",
    "$ \\newcommand{\\Htwo}{ \\mymatrix{rrrr}{ \\frac{1}{2} & \\frac{1}{2} & \\frac{1}{2} & \\frac{1}{2} \\\\ \\frac{1}{2} & -\\frac{1}{2} & \\frac{1}{2} & -\\frac{1}{2} \\\\ \\frac{1}{2} & \\frac{1}{2} & -\\frac{1}{2} & -\\frac{1}{2} \\\\ \\frac{1}{2} & -\\frac{1}{2} & -\\frac{1}{2} & \\frac{1}{2} } } $\n",
    "$ \\newcommand{\\CNOT}{ \\mymatrix{cccc}{1 & 0 & 0 & 0 \\\\ 0 & 1 & 0 & 0 \\\\ 0 & 0 & 0 & 1 \\\\ 0 & 0 & 1 & 0} } $\n",
    "$ \\newcommand{\\norm}[1]{ \\left\\lVert #1 \\right\\rVert } $"
   ]
  },
  {
   "cell_type": "markdown",
   "metadata": {},
   "source": [
    "## Quantum Cryptography"
   ]
  },
  {
   "cell_type": "markdown",
   "metadata": {},
   "source": [
    "Quantum Cryptography is based on physics and it relies on the laws of quantum mechanics. It does not rely on mathematical hardness assumptions. \n",
    "\n",
    "It is used to establish a shared, secret and random sequence of bits for secure communication between two different parties. This is **Quantum Key Distrbution**.\n",
    "\n",
    "There are two important principles of quantum mechanics which form the basis of quantum cryptography.\n",
    "\n",
    "> #### 1. Heisenberg Uncertainty Principle\n",
    "For complementary variables, if one variable is measured accurately (zero uncertainty), then the measurement of other variable will have an associated uncertainty. \n",
    "> #### 2. Photon Polarization Principle / No-Cloning Theorem\n",
    "An eavesdropper cannot copy the unique quantum bits (unknown quantum state). If the state is measured for a certain property, it will disturb information about other properties. \n",
    "\n",
    "Quantum Cryptography establishes secure communication based on fundamental physics laws instead of mathematical algorithms. It can detect eavesdropping in QKD (Quantum Key Distribution) since it's impossible to copy the data encoded in quantum state.\n",
    "\n",
    "\n"
   ]
  },
  {
   "cell_type": "markdown",
   "metadata": {},
   "source": [
    "### Need for Quantum Cryptography\n",
    "\n",
    "We use classical public cryptography to secure data & send information securely.\n",
    "\n",
    "Classical encryption relies on the mathematical hardness and assumptions that certain mathematical problems are impossible to be solved by classical computer, due to limitation on computational power and/or lack of efficient algorithms.\n",
    "\n",
    "For example, we saw that RSA encryption is based on factorization of large integers into two large prime numbers. If we have those two numbers, we can easily multiply those  to get that large integer. But factorizing that large integer is difficult. This mathematical problem is the background of most popular public cryptography encryption protocols - RSA and ECC.\n",
    "\n",
    "Currently, things have changed with the introduction of quantum computing and quantum algorithms. \n",
    "\n",
    "#### Shor's Algorithm\n",
    "\n",
    "The computational difficulty in factoring large integers is the assumption on which RSA encryption is based on. This assumption is valid for classical computers. No classical algorithm exists currently that can factor integers in polynomial time. \n",
    "\n",
    "**Shor's algorithm is a quantum algorithm** that finds the prime factors of an integer in polynomial time. So, it's possible to break RSA encryption by constructing a large quantum computer. Any reasonably sized RSA key will be broken by a quantum computer of comparable size using Shor's algorithm.\n",
    "\n",
    "Now, when we have **Shor's algorithm** for finding prime factors of an integer, RSA and ECC cannot be considered secure."
   ]
  },
  {
   "cell_type": "markdown",
   "metadata": {},
   "source": [
    "The impact of quantum computing on classical cryptography has been evaluated by European Telecommunications Standards Institute (ETSI) in \"Quantum-Safe Cryptography and Security\" white paper. ETSI created a comparison table:\n",
    "\n",
    "<td style=\"background-color:#ffffff;\"><img src=\"../images/etsi.jpg\" width=\"60%\" align=\"middle\"></td>\n",
    "\n",
    "<font style=\"color:gray\">\n",
    "In above table, effective key strength for conventional computing is derived from NIST SP 800-57 “Recommendation for Key Management”, and evaluation is based on General Number Field Sieve (GNFS) - most efficient classical algorithm known for factoring integers larger than 10<sup>100</sup>.\n",
    "</font>\n",
    "\n",
    "Key strength can be measured as \"bits of security\". Each individual key will have its \"bits of security\" computed, then the different key types (AES, ECC, RSA) can have their relative strengths compared on a single scale.\n",
    "\n",
    "Moreover, encryption strength is described in terms of the size of the keys used to perform the encryption: in general, longer keys provide stronger encryption.\n",
    "    \n",
    "So, we can observe that Quantum Computing can easily break RSA and ECC encryptions whereas AES is the strongest encryption due to higher effective key strength."
   ]
  },
  {
   "cell_type": "markdown",
   "metadata": {},
   "source": [
    "<h4>Better classical algorithms</h4>\n",
    "\n",
    "As counter-measures, major research was done to deliver <b>post-quantum cryptography</b> protocols that are based on mathematical hardness of problems and are assumed to be quantum-safe, since no sufficient quantum algorithm for solving these exist yet. \n",
    "\n",
    "Post-quantum cryptography is considered as a valuable solution as it can be implemented on classical computers. However, it still relies on mathematical hardness, thus it can be argued that it's only a matter of time before efficient quantum algorithms are discovered that can break such protocols.\n",
    "\n",
    "Post-quantum algorithms are usually called \"quantum resistant\", because unlike quantum cryptography it is not known yet if there will be potential future quantum attacks against them or not. "
   ]
  },
  {
   "cell_type": "markdown",
   "metadata": {},
   "source": [
    "**Now, let's dive into more details about Quantum Communication & Quantum Cryptography!**"
   ]
  },
  {
   "cell_type": "markdown",
   "metadata": {},
   "source": [
    "#### References\n",
    "\n",
    "1. https://www.geeksforgeeks.org/classical-cryptography-and-quantum-cryptography/?ref=rp \n",
    "2. https://www.geeksforgeeks.org/quantum-cryptography/?ref=rp"
   ]
  },
  {
   "cell_type": "markdown",
   "metadata": {},
   "source": [
    "Next: [Quantum One-Time Pad](QC05_Quantum_One-Time_Pad.ipynb)"
   ]
  }
 ],
 "metadata": {
  "kernelspec": {
   "display_name": "Python 3",
   "language": "python",
   "name": "python3"
  },
  "language_info": {
   "codemirror_mode": {
    "name": "ipython",
    "version": 3
   },
   "file_extension": ".py",
   "mimetype": "text/x-python",
   "name": "python",
   "nbconvert_exporter": "python",
   "pygments_lexer": "ipython3",
   "version": "3.8.10"
  }
 },
 "nbformat": 4,
 "nbformat_minor": 2
}
