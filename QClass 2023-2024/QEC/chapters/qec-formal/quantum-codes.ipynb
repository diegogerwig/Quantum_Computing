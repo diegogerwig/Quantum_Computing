{
 "cells": [
  {
   "cell_type": "markdown",
   "id": "a23fe73c",
   "metadata": {
    "tags": []
   },
   "source": [
    "# Quantum codes"
   ]
  },
  {
   "cell_type": "markdown",
   "id": "b00286a1",
   "metadata": {
    "tags": [
     "remove-cell"
    ]
   },
   "source": [
    "<div style=\"width:100%;text-align:right;font-size:0.75em;opacity:0.2\">Latex macros</div>\n",
    "$ \\newcommand{\\ket}[1]{|#1\\rangle} $\n",
    "$ \\newcommand{\\bra}[1]{\\langle #1|} $\n",
    "$\\newcommand{\\iu}{{i\\mkern1mu}}$\n",
    "$ \\newcommand{\\e}{\\mathrm{e}}$\n",
    "$\\newcommand{\\bigo}{\\mathcal{O}}$\n",
    "$\\newcommand{\\set}[1]{\\{#1\\}}$\n",
    "$\\newcommand{\\oper}[1]{\\mathcal{#1}}$\n",
    "$\\newcommand{\\st}[1]{\\mathcal{#1}}$\n",
    "$\\newcommand{\\vecs}[1]{\\mathcal{#1}}$\n",
    "$\\newcommand{\\group}[1]{\\mathcal{#1}}$\n",
    "$\\newcommand{\\union}{\\hspace{0.25em}\\cup\\hspace{0.25em}}$"
   ]
  },
  {
   "cell_type": "markdown",
   "id": "a1b87c15-d95c-4692-83fb-21ac5ad65687",
   "metadata": {},
   "source": [
    "We proceed as before by defining the message space, the codespace and finally the code. The quantum message space consists of states of qubits.\n",
    "\n",
    ">  For a quantum code, the **message space** is the state space of $k$-qubits, i.e. the $2^k$-dimensional Hilbert space $\\vecs{H}_m$. Any $\\ket{\\psi} \\in \\vecs{H}^m$ is a valid message.\n",
    "\n",
    "\n",
    "The quantum codespace is constructed from the state of $n$-qubits.\n",
    "\n",
    ">  For a quantum code, the **codespace** is the state space of $n$-qubits, i.e. the $2^n$-dimensional Hilbert space $\\vecs{H}^c$. \n",
    "\n",
    "Finally, we can define the code.\n",
    "\n",
    ">  A **qubit quantum code** $\\vecs{C}$ is a $2^k$-dimensional subspace of the codespace $\\vecs{H}^c$. Such a code is labelled as $[[n,k]]$.\n",
    "\n",
    "Elements of the code are codewords, and if we choses a basis for the code, then the basis elements are also called basis codewords."
   ]
  },
  {
   "cell_type": "code",
   "execution_count": null,
   "id": "97d169da-0170-440d-81ba-3c1e75a18f3a",
   "metadata": {},
   "outputs": [],
   "source": []
  }
 ],
 "metadata": {
  "kernelspec": {
   "display_name": "Python 3 (ipykernel)",
   "language": "python",
   "name": "python3"
  },
  "language_info": {
   "codemirror_mode": {
    "name": "ipython",
    "version": 3
   },
   "file_extension": ".py",
   "mimetype": "text/x-python",
   "name": "python",
   "nbconvert_exporter": "python",
   "pygments_lexer": "ipython3",
   "version": "3.10.8"
  },
  "widgets": {
   "application/vnd.jupyter.widget-state+json": {
    "state": {},
    "version_major": 2,
    "version_minor": 0
   }
  }
 },
 "nbformat": 4,
 "nbformat_minor": 5
}
