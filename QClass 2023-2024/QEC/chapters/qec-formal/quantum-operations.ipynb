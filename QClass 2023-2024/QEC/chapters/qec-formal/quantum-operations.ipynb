{
 "cells": [
  {
   "cell_type": "markdown",
   "id": "a23fe73c",
   "metadata": {
    "tags": []
   },
   "source": [
    "# Quantum operations"
   ]
  },
  {
   "cell_type": "markdown",
   "id": "b00286a1",
   "metadata": {
    "tags": [
     "remove-cell"
    ]
   },
   "source": [
    "<div style=\"width:100%;text-align:right;font-size:0.75em;opacity:0.2\">Latex macros</div>\n",
    "$ \\newcommand{\\ket}[1]{|#1\\rangle} $\n",
    "$ \\newcommand{\\bra}[1]{\\langle #1|} $\n",
    "$\\newcommand{\\iu}{{i\\mkern1mu}}$\n",
    "$ \\newcommand{\\e}{\\mathrm{e}}$\n",
    "$\\newcommand{\\bigo}{\\mathcal{O}}$\n",
    "$\\newcommand{\\set}[1]{\\{#1\\}}$\n",
    "$\\newcommand{\\oper}[1]{\\mathcal{#1}}$\n",
    "$\\newcommand{\\st}[1]{\\mathcal{#1}}$\n",
    "$\\newcommand{\\vecs}[1]{\\mathcal{#1}}$\n",
    "$\\newcommand{\\group}[1]{\\mathcal{#1}}$\n",
    "$\\newcommand{\\union}{\\hspace{0.25em}\\cup\\hspace{0.25em}}$"
   ]
  },
  {
   "cell_type": "markdown",
   "id": "d728895f-18c2-4ef9-82e1-be8ad48b067e",
   "metadata": {},
   "source": [
    "We will start with density matrices and CPTP maps.\n",
    "\n",
    ">  Given the Hilbert space $\\vecs{H}$, let $L(\\vecs{H})$ be the set of automorphisms on this space. Then a **density operator** is such a linear operator $\\rho \\in L(\\vecs{H})$, such that $\\rho$ is\n",
    "  \n",
    "  * Hermitian: $\\rho = \\rho^\\dagger$,\n",
    "  * Normalized: $\\text{Tr}(\\rho)=1$,\n",
    "  * Positive semidefinite $\\bra{\\psi}\\rho\\ket{\\psi} \\ge 0$ (written $\\rho \\ge 0)$).\n",
    "\n",
    "A density operator is the most complete description of a quantum system. The most general evolution of density operators, including unitary operations, transient interactions with other systems and measurements, is described by quantum operations, more formally referred to as Completely-Positive Trace-Preserving (CPTP) maps.\n",
    "\n",
    "> A **quantum operation** is a CPTP map $\\oper{S}: L(\\vecs{H}) \\to L(\\vecs{H})$ that maps density operators to density operators such that $\\oper{S}$ is \n",
    "  \n",
    "  * Positive: if $\\rho \\ge 0$, then $\\oper{S}(\\rho) \\ge 0$,\n",
    "  * Completely-positive: if $\\sigma \\in L(\\vecs{H}^{AB})$ such that $\\sigma \\ge 0$ and $\\text{Tr}_B(\\sigma) = \\rho$, then $(I \\otimes S)(\\sigma) \\ge 0$.\n",
    "  * Trace-preserving: $\\text{Tr}(S(\\rho)) = \\text{Tr}(\\rho)$. \n",
    "  \n",
    "\n",
    "Any such operation has a representation, called the Kraus representation.\n",
    "\n",
    "> For any quantum operation $\\oper{S}$, there exist a non-unique set of operators $\\set{A_k}_k$, where $A_k\\in L(\\vecs{H})$, such that\n",
    "  \\begin{equation}\n",
    "    S(\\rho) = \\sum_k A_k\\rho A_k^\\dagger,\n",
    "  \\end{equation}\n",
    "  and $\\sum_k A_k^\\dagger A_k = I$. This is called the **Kraus representation**.\n",
    "\n",
    "\n",
    "\n",
    "**Example**: The dephasing channel...\n",
    "\n",
    "\n",
    "**Example**: The depolarizing channel..."
   ]
  },
  {
   "cell_type": "markdown",
   "id": "b38aa6ac-51a2-4d7f-93d7-51f17b75d7b7",
   "metadata": {},
   "source": [
    "### The noise channel model\n",
    "We are now ready to define the noise that any qubits sent through the channel experience. Suppose, Alice sends $n$-qubits to Bob via the channel. Then, the noise model is the same single-qubit channel $S$ applied to each qubit. So, to describe the noise the $n$-qubit quantum operation is\n",
    "\\begin{equation}\n",
    "  \\oper{N} = \\oper{S}^{\\otimes n}.\n",
    "\\end{equation}\n",
    "\n",
    "Given the description of noise model an the $n$-qubit operator $\\oper{N}$, we can identify a Krauss decomposition\n",
    "\\begin{equation}\n",
    " \\oper{N}(\\rho) = \\sum_i A_i\\rho A_i^\\dagger,\n",
    "\\end{equation}\n",
    "where there are some $A_i$ with weight equal to $n$. However, recall that in the classical case if the probability of error $p$ is small, then large errors are unlikely. There is a similar theorem for noise in the quantum systems.\n",
    "\n",
    "\n",
    "  A CPTP map on $n$-qubits that can be written with Krauss operators each of which is a sum of operators with weight less than $t$ is a **$t$-qubit error**.\n",
    "\n",
    "\n",
    "**Theorem**: Let $\\oper{S}$ be a single-qubit quantum channel close to the identity $||\\oper{S} - I||_\\diamond < \\epsilon$ for some $\\epsilon$. Then there exists a $t$-qubit error channel $\\oper{\\tilde E}$ such that\n",
    "  \\begin{equation}\n",
    "    ||\\oper{S}^{\\otimes n} - \\oper{\\tilde E}||_\\diamond = \\mathcal{O}\\left(\\binom{n}{t} \\epsilon^t\\right).\n",
    "  \\end{equation}\n",
    "\n",
    "In simple language the above theorem states that if each of the $n$-qubits has only a very small chance of incurring an error, then one is very likely to observe errors on not very many qubits.\n",
    "\n",
    "Suppose now that we have a $t$-qubit error channel $\\oper{E}$, with a Krauss representation given by the operators $\\set{E_i}_i$. From now on, we will refer to the $E_i$ as errors, and $\\set{E_i}_i$ as the set of errors. For instance, if $S$ is the dephasing channel, and $n = 2$, then\n",
    "\\begin{equation}\n",
    "  \\st{E} = \\set{I, Z_1, Z_2, Z_1Z_2},\n",
    "\\end{equation}\n",
    "where the $I$ is included as the no-error possibility.\n",
    "\n",
    "Our goal is to find quantum codes that are able to correct a given set of errors. Though often the research process proceeds in the opposite direction, and first a quantum code is defined and then its set of correctable errors is determined. We are now in the position to define a quantum code."
   ]
  },
  {
   "cell_type": "code",
   "execution_count": null,
   "id": "a77c58c4-2b45-4224-b7c8-64397651ea13",
   "metadata": {},
   "outputs": [],
   "source": []
  }
 ],
 "metadata": {
  "kernelspec": {
   "display_name": "Python 3 (ipykernel)",
   "language": "python",
   "name": "python3"
  },
  "language_info": {
   "codemirror_mode": {
    "name": "ipython",
    "version": 3
   },
   "file_extension": ".py",
   "mimetype": "text/x-python",
   "name": "python",
   "nbconvert_exporter": "python",
   "pygments_lexer": "ipython3",
   "version": "3.10.8"
  },
  "widgets": {
   "application/vnd.jupyter.widget-state+json": {
    "state": {},
    "version_major": 2,
    "version_minor": 0
   }
  }
 },
 "nbformat": 4,
 "nbformat_minor": 5
}
