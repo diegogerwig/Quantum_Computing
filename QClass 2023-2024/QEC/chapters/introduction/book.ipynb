{
 "cells": [
  {
   "cell_type": "markdown",
   "id": "65e2bd0f",
   "metadata": {},
   "source": [
    "# A Methods Focused Guide to Quantum Error Correction and Fault-Tolerant Quantum Computation\n",
    "\n",
    "#### Abdullah Khalid"
   ]
  },
  {
   "cell_type": "markdown",
   "id": "99daf799",
   "metadata": {},
   "source": [
    "## What will this book teach you?\n",
    "\n",
    "This mini-book limits itself to qubit stabilizer codes, which are among the most actively researched quantum error-correction codes. I wrote this mini-book more to teach myself than anyone else. The main questions that I wanted answered in this book are, how can I\n",
    "\n",
    "* Construct encoding, decoding and syndrome measurement circuits for stabilizer codes?\n",
    "\n",
    "* Algorithmically generate fault-tolerant quantum circuits for stabilizer codes?\n",
    "\n",
    "* Numerically compute the fault-tolerance thresholds of these circuits?"
   ]
  },
  {
   "cell_type": "markdown",
   "id": "5ee72334-3b40-4b05-ba3d-3a2117396fca",
   "metadata": {},
   "source": [
    "## What are the pre-requisites to this book?\n",
    "You should be familiar with the fundamentals of quantum computing model. In particular, you should be comfortable with\n",
    "\n",
    "* The quantum circuit model and aware of the action of common gates.\n",
    "* The matrix representation of quantum gates and their connection with the truth table of the gates. This includes familiarity with linear algebra.\n",
    "* Any of the quantum computing sdks (qiskit, cirq, etc). These are not directly used, but experience will help with the programming in the book."
   ]
  },
  {
   "cell_type": "markdown",
   "id": "74f2be92",
   "metadata": {},
   "source": [
    "## Why should you read this book?\n",
    "\n",
    "As an introductory guide to the subject matter, this mini-book is worth paying attention to because of two reasons:\n",
    "\n",
    "* This book focuses deeply on methods and algorithms. This is unlike many other introductions which limit themselves to abstract discussions, simple examples, and mathemtical proofs. While theorems and their proofs are an essential part of the book, the author believes that intuition and understanding cannot be built without getting one's hands dirty in algorithmic implementations and mathematical calculations.\n",
    "\n",
    "* This book is highly interactive. Each section is accompanied by mathematical or programming tasks that enhance the user's understanding of the material. Often, essential parts of the arguments are to be filled in by reader in these tasks.\n",
    "\n",
    "  While an online copy is viewable to entice potential readers, the source of this book - a set of Jupyter notebooks - should be downloaded and interactively read. \n",
    "  \n",
    "To download the Jupyter notebooks, please clone the [repository](https://github.com/abdullahkhalids/stac)\n",
    "\n",
    "```\n",
    "git clone https://github.com/abdullahkhalids/qecft.git\n",
    "```\n",
    "  \n",
    "Or download the repository as a [zip file](https://github.com/abdullahkhalids/qecft/archive/refs/heads/main.zip) and extract it. After this open `contents.ipynb`."
   ]
  },
  {
   "cell_type": "markdown",
   "id": "c8158647",
   "metadata": {},
   "source": [
    "## Stac, a software library for this book\n",
    "\n",
    "[Stac](https://github.com/abdullahkhalids/stac) stands for **Sta**bilizer **c**odes, and this library is designed to work with them. Many of the algorithms that I introduce in the book are implemented within this library. It is a very simply library and easy to pick up as you read the book. However, many of the tasks and exercises in the book can be completed in pure python and your favorite quantum SDK."
   ]
  },
  {
   "cell_type": "markdown",
   "id": "9ef93113-386e-4c9b-8960-837cf5d7c9a5",
   "metadata": {},
   "source": [
    "## Citing\n",
    "\n",
    "To cite this book, please use the following bibtex entry\n",
    "```\n",
    "@book{abdullahkhalid2023,\n",
    "  title = {A Methods Focused Guide to Quantum Error Correction and Fault-Tolerant Quantum Computation},\n",
    "  author = {Abdullah Khalid},\n",
    "  year = 2023,\n",
    "}\n",
    "```"
   ]
  },
  {
   "cell_type": "markdown",
   "id": "ade3cbee-3b46-4650-b996-cdd2956e1159",
   "metadata": {},
   "source": [
    "## Acknowledgements\n",
    "\n",
    "The initial drafts of this book were produced with the help of a grant by the [Unitary Fund](https://unitary.fund/grants.html)."
   ]
  }
 ],
 "metadata": {
  "kernelspec": {
   "display_name": "Python 3 (ipykernel)",
   "language": "python",
   "name": "python3"
  },
  "language_info": {
   "codemirror_mode": {
    "name": "ipython",
    "version": 3
   },
   "file_extension": ".py",
   "mimetype": "text/x-python",
   "name": "python",
   "nbconvert_exporter": "python",
   "pygments_lexer": "ipython3",
   "version": "3.9.15"
  }
 },
 "nbformat": 4,
 "nbformat_minor": 5
}
