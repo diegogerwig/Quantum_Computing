{
 "cells": [
  {
   "cell_type": "markdown",
   "metadata": {},
   "source": [
    "<table width=\"100%\"><tr style=\"background-color:white;\">\n",
    "    <td style=\"text-align:left;padding:0px;width:200px\">\n",
    "        <a href=\"https://qworld.net\" target=\"_blank\">\n",
    "            <img src=\"qworld/images/QWorld.png\" style=\"\"></a></td>\n",
    "    <td width=\"*\">&nbsp;&nbsp;&nbsp;&nbsp;&nbsp;&nbsp;</td>\n",
    "    <!-- ############################################# -->\n",
    "    <td style=\"text-align:right;padding:0px;width:150px\">\n",
    "        <a href=\"https://www.cqtech.org/\" target=\"_blank\">\n",
    "            <img src=\"cqtech/images/cqtech-white-logo.png\"></a></td>\n",
    "    </tr>\n",
    "   </table>"
   ]
  },
  {
   "cell_type": "markdown",
   "metadata": {},
   "source": [
    "<h1 align=\"center\" style=\"color: #A9A9A9;\"> Welcome to QEC self-study module </h1>"
   ]
  },
  {
   "cell_type": "markdown",
   "metadata": {},
   "source": [
    "<font style=\"color: #A9A9A9;size:+1;\"><b>QEC self-study module</b></font> is an introduction to quantum error correction. This course is a collection of [Jupyter notebooks](https://jupyter.org) prepared by Abdullah Khalid for [QWorld's QCourse511 “Quantum Computing and Programming](https://qworld.net/qcourse511-2/).\n",
    "\n",
    "\n",
    "**The open-source toolkits we are using:**\n",
    "- Programming language: <a href=\"https://www.python.org\" target=\"_blank\">Python</a>\n",
    "- Quantum programming libraries: <a href=\"https://github.com/abdullahkhalids/stac\" target=\"_blank\">Stac</a>, <a href=\"https://qiskit.org\" target=\"_blank\">Qiskit</a>\n"
   ]
  },
  {
   "cell_type": "markdown",
   "metadata": {},
   "source": [
    "<h3 align=\"right\"><a href=\"content.ipynb\" style=\"color:#A9A9A9;text-decoration:none;\">Proceed with the content page >></a></h3>"
   ]
  }
 ],
 "metadata": {
  "kernelspec": {
   "display_name": "Python 3 (ipykernel)",
   "language": "python",
   "name": "python3"
  },
  "language_info": {
   "codemirror_mode": {
    "name": "ipython",
    "version": 3
   },
   "file_extension": ".py",
   "mimetype": "text/x-python",
   "name": "python",
   "nbconvert_exporter": "python",
   "pygments_lexer": "ipython3",
   "version": "3.10.8"
  }
 },
 "nbformat": 4,
 "nbformat_minor": 4
}
