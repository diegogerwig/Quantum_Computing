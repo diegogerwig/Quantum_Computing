{
 "cells": [
  {
   "cell_type": "markdown",
   "id": "3f27204d",
   "metadata": {},
   "source": [
    "<a href=\"https://qworld.net\" target=\"_blank\" align=\"left\"><img src=\"../qworld/images/header.jpg\"  align=\"left\"></a>\n",
    "<table> <tr>\n",
    "\n",
    "<table width=\"100%\"><td style=\"background-color:#ffffff;font-size:14px;font-style:italic;text-align:right;\">Prepared by <a href=\"http://cqtech.org\" target=\"_blank\">CQTech</a>.</td></table>\n",
    "    \n",
    "$ \\newcommand{\\bra}[1]{\\langle #1|} $\n",
    "$ \\newcommand{\\ket}[1]{|#1\\rangle} $\n",
    "$ \\newcommand{\\braket}[2]{\\langle #1|#2\\rangle} $\n",
    "$ \\newcommand{\\dot}[2]{ #1 \\cdot #2} $\n",
    "$ \\newcommand{\\biginner}[2]{\\left\\langle #1,#2\\right\\rangle} $\n",
    "$ \\newcommand{\\mymatrix}[2]{\\left( \\begin{array}{#1} #2\\end{array} \\right)} $\n",
    "$ \\newcommand{\\myvector}[1]{\\mymatrix{c}{#1}} $\n",
    "$ \\newcommand{\\myrvector}[1]{\\mymatrix{r}{#1}} $\n",
    "$ \\newcommand{\\mypar}[1]{\\left( #1 \\right)} $\n",
    "$ \\newcommand{\\mybigpar}[1]{ \\Big( #1 \\Big)} $\n",
    "$ \\newcommand{\\sqrttwo}{\\frac{1}{\\sqrt{2}}} $\n",
    "$ \\newcommand{\\dsqrttwo}{\\dfrac{1}{\\sqrt{2}}} $\n",
    "$ \\newcommand{\\onehalf}{\\frac{1}{2}} $\n",
    "$ \\newcommand{\\donehalf}{\\dfrac{1}{2}} $\n",
    "$ \\newcommand{\\hadamard}{ \\mymatrix{rr}{ \\sqrttwo & \\sqrttwo \\\\ \\sqrttwo & -\\sqrttwo }} $\n",
    "$ \\newcommand{\\vzero}{\\myvector{1\\\\0}} $\n",
    "$ \\newcommand{\\vone}{\\myvector{0\\\\1}} $\n",
    "$ \\newcommand{\\vhadamardzero}{\\myvector{ \\sqrttwo \\\\  \\sqrttwo } } $\n",
    "$ \\newcommand{\\vhadamardone}{ \\myrvector{ \\sqrttwo \\\\ -\\sqrttwo } } $\n",
    "$ \\newcommand{\\myarray}[2]{ \\begin{array}{#1}#2\\end{array}} $\n",
    "$ \\newcommand{\\X}{ \\mymatrix{cc}{0 & 1 \\\\ 1 & 0}  } $\n",
    "$ \\newcommand{\\Z}{ \\mymatrix{rr}{1 & 0 \\\\ 0 & -1}  } $\n",
    "$ \\newcommand{\\Htwo}{ \\mymatrix{rrrr}{ \\frac{1}{2} & \\frac{1}{2} & \\frac{1}{2} & \\frac{1}{2} \\\\ \\frac{1}{2} & -\\frac{1}{2} & \\frac{1}{2} & -\\frac{1}{2} \\\\ \\frac{1}{2} & \\frac{1}{2} & -\\frac{1}{2} & -\\frac{1}{2} \\\\ \\frac{1}{2} & -\\frac{1}{2} & -\\frac{1}{2} & \\frac{1}{2} } } $\n",
    "$ \\newcommand{\\CNOT}{ \\mymatrix{cccc}{1 & 0 & 0 & 0 \\\\ 0 & 1 & 0 & 0 \\\\ 0 & 0 & 0 & 1 \\\\ 0 & 0 & 1 & 0} } $\n",
    "$ \\newcommand{\\norm}[1]{ \\left\\lVert #1 \\right\\rVert } $\n",
    "$ \\newcommand{\\pstate}[1]{ \\lceil \\mspace{-1mu} #1 \\mspace{-1.5mu} \\rfloor } $"
   ]
  },
  {
   "cell_type": "markdown",
   "id": "f9ef4394",
   "metadata": {},
   "source": [
    "# <font color=\"blue\"> Solutions for </font> Two Qubit Topological Quantum Gates\n",
    "\n",
    "<hr>"
   ]
  },
  {
   "cell_type": "markdown",
   "id": "84b06a47",
   "metadata": {},
   "source": [
    "<a id=\"task1\"></a>\n",
    "##### Task 1\n",
    "\n",
    "Draw this weaving sequence."
   ]
  },
  {
   "cell_type": "code",
   "execution_count": 5,
   "id": "2a0b4e1c",
   "metadata": {},
   "outputs": [],
   "source": [
    "# identity braiding sequence\n",
    "id_seq = [[2, 3], [1, -2], [2, -4], [1, 2], [2, 4], [1, 2], [2, -2], [1, -2], [2, -4],\n",
    "          [1, -4], [2, -2], [1, 4], [2, 2], [1, -2], [2, 2], [1, 2], [2, -2], [1, 3]]"
   ]
  },
  {
   "cell_type": "code",
   "execution_count": 6,
   "id": "86f5caf7",
   "metadata": {
    "scrolled": true
   },
   "outputs": [
    {
     "data": {
      "image/png": "[encoded data removed]",
      "text/plain": [
       "<Figure size 1764x64.8 with 1 Axes>"
      ]
     },
     "execution_count": 6,
     "metadata": {},
     "output_type": "execute_result"
    }
   ],
   "source": [
    "from tqsim import AnyonicCircuit\n",
    "\n",
    "# ---- SOLUTION ---- #\n",
    "\n",
    "id_circuit = AnyonicCircuit()\n",
    "id_circuit.braid_sequence(id_seq)\n",
    "id_circuit.drawer.anyons[3].color = \"red\"  # To highlight the 3rd anyon\n",
    "\n",
    "id_circuit.draw()"
   ]
  },
  {
   "cell_type": "markdown",
   "id": "71088050",
   "metadata": {},
   "source": [
    "<hr>\n",
    "\n",
    "<a id=\"task2\"></a>\n",
    "##### Task 2\n",
    "\n",
    "Verify that the given weaving sequence approximates the identity matrix.<br>\n",
    "Use the *to_unitary* function, and the identity matrix given in the cell bellow."
   ]
  },
  {
   "cell_type": "code",
   "execution_count": 8,
   "id": "7b05b10d",
   "metadata": {},
   "outputs": [],
   "source": [
    "# identity braiding sequence\n",
    "id_seq = [[2, 3], [1, -2], [2, -4], [1, 2], [2, 4], [1, 2], [2, -2], [1, -2], [2, -4],\n",
    "          [1, -4], [2, -2], [1, 4], [2, 2], [1, -2], [2, 2], [1, 2], [2, -2], [1, 3]]"
   ]
  },
  {
   "cell_type": "code",
   "execution_count": 9,
   "id": "8001fe90",
   "metadata": {},
   "outputs": [],
   "source": [
    "import numpy as np\n",
    "\n",
    "# sigma_1\n",
    "sigma_1 = np.array([[np.exp(-4 * 1j * np.pi / 5), 0],\n",
    "                    [0, np.exp(3 * 1j * np.pi / 5)]])\n",
    "# sigma_1 ^ -1\n",
    "sigma_1_inv = sigma_1.T.conjugate()\n",
    "\n",
    "# sigma_2\n",
    "PHI = (1 + np.sqrt(5)) / 2\n",
    "F = np.array([[1 / PHI, 1 / np.sqrt(PHI)],\n",
    "              [1 / np.sqrt(PHI), -1 / PHI]])\n",
    "R = sigma_1\n",
    "sigma_2 = F @ R @ F\n",
    "\n",
    "# sigma_2 ^ -1\n",
    "sigma_2_inv = sigma_2.T.conjugate()\n",
    "\n",
    "# Identity\n",
    "I = np.array([[1, 0],\n",
    "              [0, 1]])"
   ]
  },
  {
   "cell_type": "code",
   "execution_count": 10,
   "id": "6e9ffc7e",
   "metadata": {},
   "outputs": [],
   "source": [
    "def distance(w, u):\n",
    "    \"\"\"\n",
    "    This function calculates the spectral distance between two unitaries w and u \n",
    "    up to a global phase.\n",
    "    \"\"\"\n",
    "    global_phase_w = pow(np.cfloat(np.linalg.det(w)), 1/w.shape[0])\n",
    "    global_phase_u = pow(np.cfloat(np.linalg.det(u)), 1/u.shape[0])\n",
    "\n",
    "    diff = np.matrix(w / global_phase_w - u / global_phase_u)\n",
    "\n",
    "    return abs((max(np.linalg.eig(diff.getH() @ diff)[0]))**(1/2))\n"
   ]
  },
  {
   "cell_type": "code",
   "execution_count": 11,
   "id": "065146a3",
   "metadata": {},
   "outputs": [],
   "source": [
    "def to_unitary(braiding_sequence, target):\n",
    "    \"\"\"\n",
    "    This function claculates the unitary matrix representation of the braiding_sequence \n",
    "    and measures its distance to the target unitary.\n",
    "    \"\"\"\n",
    "    I = np.array([[1, 0],\n",
    "                  [0, 1]])\n",
    "\n",
    "    sigma = {1 : {1 : sigma_1, -1 : sigma_1_inv},\n",
    "             2 : {1 : sigma_2, -1 : sigma_2_inv}}\n",
    "\n",
    "    L = 0\n",
    "    unitary = I\n",
    "    for weave in braiding_sequence:\n",
    "        for ii in range(abs(weave[1])):\n",
    "            L += 1\n",
    "            if weave[1] > 0:\n",
    "                unitary = sigma[weave[0]][1] @ unitary\n",
    "            else:\n",
    "                unitary = sigma[weave[0]][-1] @ unitary\n",
    "\n",
    "    print(f'Length = {L}\\n')\n",
    "    print(f'Target = \\n\\n{target}')\n",
    "    print(f'\\nBraiding Sequence Unitary = \\n\\n{unitary}')\n",
    "    print(f'\\nd(Target, Braiding Sequence) = {distance(unitary, target)}')"
   ]
  },
  {
   "cell_type": "code",
   "execution_count": 12,
   "id": "85703e4a",
   "metadata": {},
   "outputs": [
    {
     "name": "stdout",
     "output_type": "stream",
     "text": [
      "Length = 48\n",
      "\n",
      "Target = \n",
      "\n",
      "[[1 0]\n",
      " [0 1]]\n",
      "\n",
      "Braiding Sequence Unitary = \n",
      "\n",
      "[[ 0.99999886-0.00073962j -0.00115795+0.00062367j]\n",
      " [ 0.00115795+0.00062367j  0.99999886+0.00073962j]]\n",
      "\n",
      "d(Target, Braiding Sequence) = 0.0015089222294907274\n"
     ]
    }
   ],
   "source": [
    "# ---- SOLUTION ---- #\n",
    "\n",
    "to_unitary(id_seq, I)"
   ]
  },
  {
   "cell_type": "markdown",
   "id": "ad57afd5",
   "metadata": {},
   "source": [
    "<hr>\n",
    "\n",
    "<a id=\"task3\"></a>\n",
    "#### Task 3\n",
    "\n",
    "Compute the unitary representation of the braiding sequence of $CNOT$, using the braiding operators that we have generated above."
   ]
  },
  {
   "cell_type": "code",
   "execution_count": 1,
   "id": "e5ea581f",
   "metadata": {},
   "outputs": [],
   "source": [
    "import numpy as np\n",
    "\n",
    "cnot_seq = [[3, 1], [4, 1], [4, 1], [3, 1], [3, 1], [4, 1], [2, -1], [3, -1], [3, -1], [2, -1], [4, -1], [3, -1], [3, -1], [4, -1], [4, -1], [3, -1], [3, -1], [4, -1], [2, 1], [3, 1], [3, 1], [2, 1], [4, 1], [3, 1], [3, 1], [4, 1], [4, 1], [3, 1], [3, 1], [4, 1], [2, 1], [3, 1], [3, 1], [2, 1], [4, -1], [3, -1], [3, -1], [4, -1], [2, -1], [3, -1], [3, -1], [2, -1], [4, -1], [3, -1], [3, -1], [4, -1], [4, -1], [3, -1], [3, -1], [4, -1], [2, -1], [3, -1], [3, -1], [2, -1], [2, -1], [3, -1], [3, -1], [2, -1], [4, -1], [3, -1], [3, -1], [4, -1], [2, 1], [3, 1], [3, 1], [2, 1], [2, 1], [3, 1], [3, 1], [2, 1], [4, 1], [3, 1], [3, 1], [4, 1], [2, -1], [3, -1], [3, -1], [2, -1], [4, 1], [3, 1], [3, 1], [4, 1], [2, 1], [3, 1], [3, 1], [2, 1], [4, -1], [3, -1], [3, -1], [4, -1], [2, 1], [3, 1], [3, 1], [2, 1], [2, 1], [3, 1], [1, -1], [2, -1], [2, -1], [1, -1], [3, -1], [2, -1], [2, -1], [3, -1], [3, -1], [2, -1], [2, -1], [3, -1], [1, 1], [2, 1], [2, 1], [1, 1], [1, 1], [2, 1], [2, 1], [1, 1], [3, -1], [2, -1], [2, -1], [3, -1], [1, 1], [2, 1], [2, 1], [1, 1], [3, 1], [2, 1], [2, 1], [3, 1], [1, -1], [2, -1], [2, -1], [1, -1], [3, 1], [2, 1], [2, 1], [3, 1], [3, 1], [2, 1], [2, 1], [3, 1], [1, -1], [2, -1], [2, -1], [1, -1], [3, 1], [2, 1], [2, 1], [3, 1], [3, 1], [2, 1], [2, 1], [3, 1], [1, 1], [2, 1], [2, 1], [1, 1], [3, -1], [2, -1], [2, -1], [3, -1], [3, -1], [2, -1], [2, -1], [3, -1], [1, 1], [2, 1], [2, 1], [1, 1], [3, -1], [2, -1], [2, -1], [3, -1], [1, 1], [2, 1], [2, 1], [1, 1], [3, -1], [2, -1], [2, -1], [3, -1], [1, -1], [2, -1], [2, -1], [1, -1], [3, -1], [2, -1], [2, -1], [3, -1], [3, -1], [2, -1], [4, 1], [3, 1], [3, 1], [4, 1], [2, -1], [3, -1], [3, -1], [2, -1], [4, -1], [3, -1], [3, -1], [4, -1], [2, 1], [3, 1], [3, 1], [2, 1], [4, -1], [3, -1], [3, -1], [4, -1], [2, -1], [3, -1], [3, -1], [2, -1], [2, -1], [3, -1], [3, -1], [2, -1], [4, 1], [3, 1], [3, 1], [4, 1], [2, 1], [3, 1], [3, 1], [2, 1], [2, 1], [3, 1], [3, 1], [2, 1], [4, 1], [3, 1], [3, 1], [4, 1], [4, 1], [3, 1], [3, 1], [4, 1], [2, 1], [3, 1], [3, 1], [2, 1], [4, 1], [3, 1], [3, 1], [4, 1], [2, -1], [3, -1], [3, -1], [2, -1], [4, -1], [3, -1], [3, -1], [4, -1], [4, -1], [3, -1], [3, -1], [4, -1], [2, -1], [3, -1], [3, -1], [2, -1], [4, 1], [3, 1], [3, 1], [4, 1], [4, 1], [3, 1], [3, 1], [4, 1], [2, 1], [3, 1], [3, 1], [2, 1], [4, -1], [3, -1], [3, -1], [4, -1], [4, -1], [3, -1]]"
   ]
  },
  {
   "cell_type": "code",
   "execution_count": 2,
   "id": "249c3bfb",
   "metadata": {
    "scrolled": false
   },
   "outputs": [],
   "source": [
    "# Braiding operations of 6 anyons\n",
    "from tqsim import generate_braiding_operator\n",
    "\n",
    "braiding_ops = []\n",
    "for ii in range(5):\n",
    "    braiding_op = generate_braiding_operator(index=ii+1, nb_qudits=2, nb_anyons_per_qudit=3)\n",
    "    braiding_ops.append(np.array(braiding_op))"
   ]
  },
  {
   "cell_type": "code",
   "execution_count": 3,
   "id": "d7b88ff9",
   "metadata": {},
   "outputs": [],
   "source": [
    "# ---- SOLUTION ---- #\n",
    "\n",
    "# Compute the unitary\n",
    "unitary = np.eye(13) * (1 + 0j)\n",
    "for braid_ in cnot_seq:\n",
    "    if braid_[1] > 0:\n",
    "        unitary = braiding_ops[braid_[0]-1] @ unitary\n",
    "    else:\n",
    "        unitary = braiding_ops[braid_[0]-1].T.conjugate() @ unitary\n"
   ]
  },
  {
   "cell_type": "code",
   "execution_count": 4,
   "id": "4784eaa6",
   "metadata": {},
   "outputs": [
    {
     "data": {
      "image/png": "[encoded data removed]",
      "text/plain": [
       "<Figure size 432x288 with 2 Axes>"
      ]
     },
     "metadata": {
      "needs_background": "light"
     },
     "output_type": "display_data"
    }
   ],
   "source": [
    "# plot the matrix\n",
    "from tqsim import cplot\n",
    "cplot(unitary, sigma=0.00003)"
   ]
  },
  {
   "cell_type": "markdown",
   "id": "c2f23bca",
   "metadata": {},
   "source": [
    "<hr>\n",
    "\n",
    "<a  id=\"task4\"></a>\n",
    "#### Task 4\n",
    "\n",
    "Compute the $CNOT$ unitary in the computational basis."
   ]
  },
  {
   "cell_type": "code",
   "execution_count": 1,
   "id": "5b1f9d07",
   "metadata": {},
   "outputs": [],
   "source": [
    "import numpy as np\n",
    "\n",
    "computational_basis = [1, 2, 3, 4]\n",
    "\n",
    "unitary = np.array([[ 9.99998803e-01+8.30404577e-07j, -7.45464829e-16-1.33935703e-15j,\n",
    "         2.12042640e-16-4.22180403e-16j,  1.16917991e-03-6.96709188e-04j,\n",
    "         7.35208389e-04+4.47061346e-05j,  0.00000000e+00+0.00000000e+00j,\n",
    "         0.00000000e+00+0.00000000e+00j,  0.00000000e+00+0.00000000e+00j,\n",
    "         0.00000000e+00+0.00000000e+00j,  0.00000000e+00+0.00000000e+00j,\n",
    "         0.00000000e+00+0.00000000e+00j,  0.00000000e+00+0.00000000e+00j,\n",
    "         0.00000000e+00+0.00000000e+00j],\n",
    "       [-4.88680092e-16+7.70680922e-16j,  1.00000000e+00-4.13949235e-16j,\n",
    "         4.56650543e-16+1.05031460e-16j, -3.96857259e-16+2.97993586e-16j,\n",
    "        -7.62355088e-16+5.79266932e-16j,  0.00000000e+00+0.00000000e+00j,\n",
    "         0.00000000e+00+0.00000000e+00j,  0.00000000e+00+0.00000000e+00j,\n",
    "         0.00000000e+00+0.00000000e+00j,  0.00000000e+00+0.00000000e+00j,\n",
    "         0.00000000e+00+0.00000000e+00j,  0.00000000e+00+0.00000000e+00j,\n",
    "         0.00000000e+00+0.00000000e+00j],\n",
    "       [ 2.79064921e-16+1.41256014e-16j,  5.58857094e-17-1.64269515e-16j,\n",
    "         1.00000000e+00+5.24556552e-17j,  6.14552824e-17-2.32892217e-16j,\n",
    "        -1.84084891e-15-3.55878124e-16j,  0.00000000e+00+0.00000000e+00j,\n",
    "         0.00000000e+00+0.00000000e+00j,  0.00000000e+00+0.00000000e+00j,\n",
    "         0.00000000e+00+0.00000000e+00j,  0.00000000e+00+0.00000000e+00j,\n",
    "         0.00000000e+00+0.00000000e+00j,  0.00000000e+00+0.00000000e+00j,\n",
    "         0.00000000e+00+0.00000000e+00j],\n",
    "       [-4.37827661e-05-7.37190764e-04j, -4.71497836e-17+5.39389247e-16j,\n",
    "         8.78846668e-16+2.19872888e-15j,  6.36136243e-04+1.27641068e-03j,\n",
    "        -1.05711093e-03+9.99998152e-01j,  0.00000000e+00+0.00000000e+00j,\n",
    "         0.00000000e+00+0.00000000e+00j,  0.00000000e+00+0.00000000e+00j,\n",
    "         0.00000000e+00+0.00000000e+00j,  0.00000000e+00+0.00000000e+00j,\n",
    "         0.00000000e+00+0.00000000e+00j,  0.00000000e+00+0.00000000e+00j,\n",
    "         0.00000000e+00+0.00000000e+00j],\n",
    "       [ 6.95061318e-04-1.16894738e-03j, -8.57767431e-16-4.84556229e-16j,\n",
    "        -2.36362985e-16-1.12520189e-16j,  1.05794084e-03+9.99997497e-01j,\n",
    "         6.36699218e-04-1.27724109e-03j,  0.00000000e+00+0.00000000e+00j,\n",
    "         0.00000000e+00+0.00000000e+00j,  0.00000000e+00+0.00000000e+00j,\n",
    "         0.00000000e+00+0.00000000e+00j,  0.00000000e+00+0.00000000e+00j,\n",
    "         0.00000000e+00+0.00000000e+00j,  0.00000000e+00+0.00000000e+00j,\n",
    "         0.00000000e+00+0.00000000e+00j],\n",
    "       [ 0.00000000e+00+0.00000000e+00j,  0.00000000e+00+0.00000000e+00j,\n",
    "         0.00000000e+00+0.00000000e+00j,  0.00000000e+00+0.00000000e+00j,\n",
    "         0.00000000e+00+0.00000000e+00j,  6.36015067e-04-1.55199530e-04j,\n",
    "        -2.67773774e-04+9.99997419e-01j,  8.90662477e-16+1.79253026e-15j,\n",
    "        -1.01014393e-16+3.90272408e-16j,  6.27180713e-16+1.36095257e-15j,\n",
    "        -3.44198819e-05-5.79543535e-04j, -1.54137560e-07-1.82103632e-03j,\n",
    "         1.00405237e-03-9.31700117e-07j],\n",
    "       [ 0.00000000e+00+0.00000000e+00j,  0.00000000e+00+0.00000000e+00j,\n",
    "         0.00000000e+00+0.00000000e+00j,  0.00000000e+00+0.00000000e+00j,\n",
    "         0.00000000e+00+0.00000000e+00j,  2.68286683e-04+9.99997015e-01j,\n",
    "         6.36363005e-04+1.54686312e-04j,  8.65157159e-17-4.14116704e-16j,\n",
    "         1.38664698e-16-7.51522291e-16j,  4.85055483e-17-5.51482381e-16j,\n",
    "         5.46423413e-04-9.18969594e-04j, -1.00445560e-03-6.13753666e-07j,\n",
    "        -4.27669651e-07+1.82143979e-03j],\n",
    "       [ 0.00000000e+00+0.00000000e+00j,  0.00000000e+00+0.00000000e+00j,\n",
    "         0.00000000e+00+0.00000000e+00j,  0.00000000e+00+0.00000000e+00j,\n",
    "         0.00000000e+00+0.00000000e+00j,  4.81601606e-16+7.41860386e-16j,\n",
    "        -1.31433422e-15-9.20995323e-17j,  1.00000000e+00+1.26105579e-16j,\n",
    "         1.03481833e-15-2.31580314e-16j,  3.04157376e-15+1.08032497e-16j,\n",
    "         5.87497249e-16-1.27381110e-16j,  9.86948741e-17+6.73760569e-16j,\n",
    "        -1.31969088e-15+4.06792655e-16j],\n",
    "       [ 0.00000000e+00+0.00000000e+00j,  0.00000000e+00+0.00000000e+00j,\n",
    "         0.00000000e+00+0.00000000e+00j,  0.00000000e+00+0.00000000e+00j,\n",
    "         0.00000000e+00+0.00000000e+00j, -3.40829975e-17+8.01510561e-16j,\n",
    "         1.92396975e-16+3.59213666e-16j,  3.18834622e-16+2.66736021e-16j,\n",
    "         1.00000000e+00-1.53752589e-16j, -8.51943592e-16-8.85383732e-17j,\n",
    "        -1.15925761e-15+1.07522184e-16j,  4.73009414e-16+3.88832322e-16j,\n",
    "         1.11022302e-16-5.55111512e-17j],\n",
    "       [ 0.00000000e+00+0.00000000e+00j,  0.00000000e+00+0.00000000e+00j,\n",
    "         0.00000000e+00+0.00000000e+00j,  0.00000000e+00+0.00000000e+00j,\n",
    "         0.00000000e+00+0.00000000e+00j, -5.59601154e-17+4.80759377e-16j,\n",
    "        -5.47078999e-16-6.76833752e-16j,  2.58939058e-15-2.65123830e-16j,\n",
    "        -8.57143274e-16+6.18981236e-17j,  1.00000000e+00+3.14197781e-16j,\n",
    "         5.60656119e-16-2.53177810e-16j, -1.19413835e-15-6.02675277e-17j,\n",
    "         1.00966327e-15+7.34357236e-16j],\n",
    "       [ 0.00000000e+00+0.00000000e+00j,  0.00000000e+00+0.00000000e+00j,\n",
    "         0.00000000e+00+0.00000000e+00j,  0.00000000e+00+0.00000000e+00j,\n",
    "         0.00000000e+00+0.00000000e+00j,  9.19152397e-04-5.47718888e-04j,\n",
    "         5.77985088e-04+3.51457893e-05j, -1.58411404e-16+1.16515334e-16j,\n",
    "        -1.93973134e-16-4.84786910e-16j,  2.58647797e-16+9.56226231e-17j,\n",
    "         9.99998803e-01+8.30404577e-07j, -7.22592924e-04+4.30589959e-04j,\n",
    "        -4.54383773e-04-2.76299107e-05j],\n",
    "       [ 0.00000000e+00+0.00000000e+00j,  0.00000000e+00+0.00000000e+00j,\n",
    "         0.00000000e+00+0.00000000e+00j,  0.00000000e+00+0.00000000e+00j,\n",
    "         0.00000000e+00+0.00000000e+00j, -1.54137560e-07-1.82103632e-03j,\n",
    "         1.00405237e-03-9.31700116e-07j, -2.00863950e-16+1.47046462e-15j,\n",
    "         3.19590602e-16-7.52697909e-16j, -4.87789863e-16-6.37697834e-17j,\n",
    "         2.70592376e-05+4.55608948e-04j,  6.35940177e-04-1.03998330e-03j,\n",
    "         2.20063418e-04+9.99996966e-01j],\n",
    "       [ 0.00000000e+00+0.00000000e+00j,  0.00000000e+00+0.00000000e+00j,\n",
    "         0.00000000e+00+0.00000000e+00j,  0.00000000e+00+0.00000000e+00j,\n",
    "         0.00000000e+00+0.00000000e+00j, -1.00445560e-03-6.13753667e-07j,\n",
    "        -4.27669652e-07+1.82143979e-03j, -1.66533454e-16+0.00000000e+00j,\n",
    "         1.44370657e-16-1.45297957e-15j,  5.41233725e-16-1.11022302e-16j,\n",
    "        -4.29571519e-04+7.22449213e-04j, -2.19746422e-04+9.99996717e-01j,\n",
    "         6.36155214e-04+1.03966611e-03j]])"
   ]
  },
  {
   "cell_type": "code",
   "execution_count": 2,
   "id": "61a46481",
   "metadata": {
    "scrolled": false
   },
   "outputs": [
    {
     "data": {
      "image/png": "[encoded data removed]",
      "text/plain": [
       "<Figure size 432x288 with 2 Axes>"
      ]
     },
     "metadata": {
      "needs_background": "light"
     },
     "output_type": "display_data"
    }
   ],
   "source": [
    "from tqsim import cplot\n",
    "\n",
    "u = np.eye(4) * (1 + 0j)\n",
    "for aa, ii in enumerate(computational_basis):\n",
    "    for bb, jj in enumerate(computational_basis):\n",
    "        u[aa][bb] = unitary[ii][jj]\n",
    "\n",
    "cplot(u, sigma=0.00003)"
   ]
  },
  {
   "cell_type": "markdown",
   "id": "1d4411f4",
   "metadata": {},
   "source": [
    "<hr>\n",
    "\n",
    "<a id=\"task5\"></a>\n",
    "#### Task 5\n",
    "\n",
    "Compute the distance between this obtained $CNOT$ and the exact $CNOT$ whose target gate is the $iX$ gate."
   ]
  },
  {
   "cell_type": "code",
   "execution_count": 1,
   "id": "5cca47fd",
   "metadata": {},
   "outputs": [],
   "source": [
    "import numpy as np\n",
    "from tqsim import cplot\n",
    "\n",
    "u = np.array([[ 1.00000000e+00-4.13949235e-16j,  4.56650543e-16+1.05031460e-16j,\n",
    "        -3.96857259e-16+2.97993586e-16j, -7.62355088e-16+5.79266932e-16j],\n",
    "       [ 5.58857094e-17-1.64269515e-16j,  1.00000000e+00+5.24556552e-17j,\n",
    "         6.14552824e-17-2.32892217e-16j, -1.84084891e-15-3.55878124e-16j],\n",
    "       [-4.71497836e-17+5.39389247e-16j,  8.78846668e-16+2.19872888e-15j,\n",
    "         6.36136243e-04+1.27641068e-03j, -1.05711093e-03+9.99998152e-01j],\n",
    "       [-8.57767431e-16-4.84556229e-16j, -2.36362985e-16-1.12520189e-16j,\n",
    "         1.05794084e-03+9.99997497e-01j,  6.36699218e-04-1.27724109e-03j]])"
   ]
  },
  {
   "cell_type": "code",
   "execution_count": 2,
   "id": "6b822a4b",
   "metadata": {},
   "outputs": [],
   "source": [
    "def distance(w, u):\n",
    "    \"\"\"\n",
    "    This function calculates the spectral distance between two unitaries w and u \n",
    "    up to a global phase.\n",
    "    \"\"\"\n",
    "    global_phase_w = pow(np.cfloat(np.linalg.det(w)), 1/w.shape[0])\n",
    "    global_phase_u = pow(np.cfloat(np.linalg.det(u)), 1/u.shape[0])\n",
    "\n",
    "    diff = np.matrix(w / global_phase_w - u / global_phase_u)\n",
    "\n",
    "    return abs((max(np.linalg.eig(diff.getH() @ diff)[0]))**(1/2))\n"
   ]
  },
  {
   "cell_type": "code",
   "execution_count": 3,
   "id": "d7736534",
   "metadata": {},
   "outputs": [
    {
     "name": "stdout",
     "output_type": "stream",
     "text": [
      "d(exact_cnot, braided_cnot) = 0.0017764778867267752\n"
     ]
    }
   ],
   "source": [
    "# ---- SOLUTION ---- #\n",
    "\n",
    "exact_cnot = np.array([[1, 0, 0, 0],\n",
    "                       [0, 1, 0, 0],\n",
    "                       [0, 0, 0, 1j],\n",
    "                       [0, 0, 1j, 0]])\n",
    "\n",
    "print('d(exact_cnot, braided_cnot) =', distance(u, exact_cnot))"
   ]
  },
  {
   "cell_type": "markdown",
   "id": "b9badfd5",
   "metadata": {},
   "source": [
    " "
   ]
  }
 ],
 "metadata": {
  "kernelspec": {
   "display_name": "Python 3 (ipykernel)",
   "language": "python",
   "name": "python3"
  },
  "language_info": {
   "codemirror_mode": {
    "name": "ipython",
    "version": 3
   },
   "file_extension": ".py",
   "mimetype": "text/x-python",
   "name": "python",
   "nbconvert_exporter": "python",
   "pygments_lexer": "ipython3",
   "version": "3.8.13"
  }
 },
 "nbformat": 4,
 "nbformat_minor": 5
}
