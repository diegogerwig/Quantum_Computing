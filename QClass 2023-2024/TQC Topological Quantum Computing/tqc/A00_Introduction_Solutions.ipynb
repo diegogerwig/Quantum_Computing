{
 "cells": [
  {
   "cell_type": "markdown",
   "id": "9ac287bd",
   "metadata": {},
   "source": [
    "<a href=\"https://qworld.net\" target=\"_blank\" align=\"left\"><img src=\"../qworld/images/header.jpg\"  align=\"left\"></a>\n",
    "<table> <tr>\n",
    "\n",
    "<table width=\"100%\"><td style=\"background-color:#ffffff;font-size:14px;font-style:italic;text-align:right;\">Prepared by <a href=\"http://cqtech.org\" target=\"_blank\">CQTech</a>.</td></table>\n",
    "    \n",
    "$ \\newcommand{\\bra}[1]{\\langle #1|} $\n",
    "$ \\newcommand{\\ket}[1]{|#1\\rangle} $\n",
    "$ \\newcommand{\\braket}[2]{\\langle #1|#2\\rangle} $\n",
    "$ \\newcommand{\\dot}[2]{ #1 \\cdot #2} $\n",
    "$ \\newcommand{\\biginner}[2]{\\left\\langle #1,#2\\right\\rangle} $\n",
    "$ \\newcommand{\\mymatrix}[2]{\\left( \\begin{array}{#1} #2\\end{array} \\right)} $\n",
    "$ \\newcommand{\\myvector}[1]{\\mymatrix{c}{#1}} $\n",
    "$ \\newcommand{\\myrvector}[1]{\\mymatrix{r}{#1}} $\n",
    "$ \\newcommand{\\mypar}[1]{\\left( #1 \\right)} $\n",
    "$ \\newcommand{\\mybigpar}[1]{ \\Big( #1 \\Big)} $\n",
    "$ \\newcommand{\\sqrttwo}{\\frac{1}{\\sqrt{2}}} $\n",
    "$ \\newcommand{\\dsqrttwo}{\\dfrac{1}{\\sqrt{2}}} $\n",
    "$ \\newcommand{\\onehalf}{\\frac{1}{2}} $\n",
    "$ \\newcommand{\\donehalf}{\\dfrac{1}{2}} $\n",
    "$ \\newcommand{\\hadamard}{ \\mymatrix{rr}{ \\sqrttwo & \\sqrttwo \\\\ \\sqrttwo & -\\sqrttwo }} $\n",
    "$ \\newcommand{\\vzero}{\\myvector{1\\\\0}} $\n",
    "$ \\newcommand{\\vone}{\\myvector{0\\\\1}} $\n",
    "$ \\newcommand{\\vhadamardzero}{\\myvector{ \\sqrttwo \\\\  \\sqrttwo } } $\n",
    "$ \\newcommand{\\vhadamardone}{ \\myrvector{ \\sqrttwo \\\\ -\\sqrttwo } } $\n",
    "$ \\newcommand{\\myarray}[2]{ \\begin{array}{#1}#2\\end{array}} $\n",
    "$ \\newcommand{\\X}{ \\mymatrix{cc}{0 & 1 \\\\ 1 & 0}  } $\n",
    "$ \\newcommand{\\Z}{ \\mymatrix{rr}{1 & 0 \\\\ 0 & -1}  } $\n",
    "$ \\newcommand{\\Htwo}{ \\mymatrix{rrrr}{ \\frac{1}{2} & \\frac{1}{2} & \\frac{1}{2} & \\frac{1}{2} \\\\ \\frac{1}{2} & -\\frac{1}{2} & \\frac{1}{2} & -\\frac{1}{2} \\\\ \\frac{1}{2} & \\frac{1}{2} & -\\frac{1}{2} & -\\frac{1}{2} \\\\ \\frac{1}{2} & -\\frac{1}{2} & -\\frac{1}{2} & \\frac{1}{2} } } $\n",
    "$ \\newcommand{\\CNOT}{ \\mymatrix{cccc}{1 & 0 & 0 & 0 \\\\ 0 & 1 & 0 & 0 \\\\ 0 & 0 & 0 & 1 \\\\ 0 & 0 & 1 & 0} } $\n",
    "$ \\newcommand{\\norm}[1]{ \\left\\lVert #1 \\right\\rVert } $\n",
    "$ \\newcommand{\\pstate}[1]{ \\lceil \\mspace{-1mu} #1 \\mspace{-1.5mu} \\rfloor } $"
   ]
  },
  {
   "cell_type": "markdown",
   "id": "a23fe73c",
   "metadata": {
    "tags": []
   },
   "source": [
    "#  <font color=\"blue\"> Solutions for </font> Introduction to quantum computing Hardware\n",
    "<hr>"
   ]
  },
  {
   "cell_type": "markdown",
   "id": "8723a5a9",
   "metadata": {},
   "source": [
    "<a id=\"task1\"></a>\n",
    "#### Task 1\n",
    "\n",
    "Calculate the commutator of $X$ and $Z$ operating on a same qubit. (On paper) "
   ]
  },
  {
   "cell_type": "markdown",
   "id": "57b78670",
   "metadata": {},
   "source": [
    "#### Solution\n",
    "\n",
    "Using the property $X_aZ_a=-Z_aX_a$, we find that the commutator of $Z$ and $X$ operating on the same qubit $a$ is given by: \n",
    "\n",
    "$$[X_a,Z_a] = X_aZ_a − Z_aX_a = 2X_aZ_a = −2Z_aX_a$$\n",
    "\n",
    "<hr>"
   ]
  },
  {
   "cell_type": "markdown",
   "id": "40dd5d8e",
   "metadata": {},
   "source": [
    "\n",
    "<a id=\"task2\"></a>\n",
    "#### Task 2\n",
    "\n",
    "Verify mathematically that the product of operators on different qubits always commutes. Namely, the product of the operators $X_aX_b$ commutes with the product of the operators $Z_aZ_b$. This property will be used later on. "
   ]
  },
  {
   "cell_type": "markdown",
   "id": "cd81e22a",
   "metadata": {},
   "source": [
    "#### Solution\n",
    "\n",
    "$$\n",
    "\\begin{aligned}\n",
    "X_aX_bZ_aZ_b &= X_aZ_aX_bZ_b\\\\\n",
    "&= (−Z_aX_a)(−Z_bX_b)\\\\\n",
    "&= Z_aX_aZ_bX_b\\\\\n",
    "&= Z_aZ_bX_aX_b\n",
    "\\end{aligned}\n",
    "$$\n",
    "\n",
    "Therefore, $$[X_aX_b, Z_aZ_b] = 0$$\n",
    "\n",
    "<hr>"
   ]
  },
  {
   "cell_type": "markdown",
   "id": "82423181",
   "metadata": {},
   "source": [
    "<a id=\"bibliography\"></a>\n",
    "### References\n",
    "- Nilesh BARDE, Deepak THAKUR, Pranav BARDAPURKAR and Sanjaykumar DALVI, *Consequences and Limitations of Conventional Computers and their Solutions through Quantum Computers*. Leonardo Electronic Journal of Practices and Technologies. **10**, 161-171 (2011).\n",
    "- Christoph Kloeffel, Daniel Loss, *Prospects for Spin-Based Quantum Computing*, Annu. Rev. Condens. Matter Phys. **4**, 51 (2013).\n",
    "- https://www.quantiki.org/wiki/quantum-error-correction-and-fault-tolerance-0\n",
    "- https://ocw.tudelft.nl/wp-content/uploads/QIP3_divincenzo_criteria.pdf"
   ]
  }
 ],
 "metadata": {
  "kernelspec": {
   "display_name": "Python 3 (ipykernel)",
   "language": "python",
   "name": "python3"
  },
  "language_info": {
   "codemirror_mode": {
    "name": "ipython",
    "version": 3
   },
   "file_extension": ".py",
   "mimetype": "text/x-python",
   "name": "python",
   "nbconvert_exporter": "python",
   "pygments_lexer": "ipython3",
   "version": "3.8.13"
  },
  "widgets": {
   "application/vnd.jupyter.widget-state+json": {
    "state": {},
    "version_major": 2,
    "version_minor": 0
   }
  }
 },
 "nbformat": 4,
 "nbformat_minor": 5
}
