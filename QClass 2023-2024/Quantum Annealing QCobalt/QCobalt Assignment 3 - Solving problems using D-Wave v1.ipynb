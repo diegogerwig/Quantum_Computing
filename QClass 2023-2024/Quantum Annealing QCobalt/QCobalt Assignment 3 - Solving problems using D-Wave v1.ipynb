{
 "cells": [
  {
   "cell_type": "markdown",
   "id": "educational-petersburg",
   "metadata": {},
   "source": [
    "# Instructions\n",
    "\n",
    "The places where you have enter code, to answer the questions, are marked with `# YOUR CODE HERE`. Once you have written your code you should remove any `raise NotImplementedError()` statements.\n"
   ]
  },
  {
   "cell_type": "markdown",
   "id": "fedb9ec3",
   "metadata": {},
   "source": [
    "## Question 1 (4 points)\n",
    "\n",
    "Suppose that we would like to minimize $f(x_1,x_2,x_3)=-5x_1-2x_1x_2 -3x_3$ which is subjected to the constraint $x_1+ x_2 + x_3 = 1$. \n",
    "\n",
    "Complete the function `constrained_bqm` so that it returns the corresponding BQM. Lagrange multiplier should be provided as a parameter.\n",
    "\n",
    "Note: Name your variables in the format `x_i` and use BQM functionalities to incorporate the constraint.\n",
    "\n",
    "The function `constrained_bqm` has\n",
    "\n",
    "- Input:\n",
    "    - `L`: a float representing the Lagrange multiplier\n",
    "- Returns:\n",
    "    - A BQM instance\n"
   ]
  },
  {
   "cell_type": "code",
   "execution_count": null,
   "id": "5e7c18e7",
   "metadata": {},
   "outputs": [],
   "source": [
    "%pip install dimod\n"
   ]
  },
  {
   "cell_type": "code",
   "execution_count": null,
   "id": "c85981ea",
   "metadata": {
    "deletable": false,
    "nbgrader": {
     "cell_type": "code",
     "checksum": "97e8e20053e7e2950626d19641baca45",
     "grade": false,
     "grade_id": "cell-76ce560ae094fde4",
     "locked": false,
     "schema_version": 3,
     "solution": true
    }
   },
   "outputs": [],
   "source": [
    "from dimod import BQM\n",
    "\n",
    "def constrained_bqm(L):\n",
    "    # YOUR CODE HERE\n",
    "\n",
    "# Create a BQM instance\n",
    "    bqm = BQM('BINARY')\n",
    "\n",
    "    # Add variables and their biases from the objective function\n",
    "    bqm.add_variable('x_1', -5)\n",
    "    bqm.add_variable('x_2', 0)  # No linear term in the objective for x_2\n",
    "    bqm.add_variable('x_3', -3)\n",
    "\n",
    "    # Add quadratic terms from the objective function\n",
    "    bqm.add_interaction('x_1', 'x_2', 2)  # Quadratic term for x_1 and x_2 with a bias of -2\n",
    "    bqm.add_interaction('x_1', 'x_3', 0)  # No quadratic term for x_1 and x_3 in the objective\n",
    "    bqm.add_interaction('x_2', 'x_3', 0)  # No quadratic term for x_2 and x_3 in the objective\n",
    "\n",
    "    # Add quadratic terms from the constraint\n",
    "    bqm.add_interaction('x_1', 'x_2', 2 * L)  # Penalty term for x_1 and x_2 with a bias of 2L\n",
    "    bqm.add_interaction('x_1', 'x_3', 2 * L)  # Penalty term for x_1 and x_3 with a bias of 2L\n",
    "    bqm.add_interaction('x_2', 'x_3', 2 * L)  # Penalty term for x_2 and x_3 with a bias of 2L\n",
    "\n",
    "    # Add linear terms from the constraint\n",
    "    bqm.add_variable('x_1', L)\n",
    "    bqm.add_variable('x_2', L)\n",
    "    bqm.add_variable('x_3', L)\n",
    "\n",
    "    # Set offset to handle the constant term in the objective function\n",
    "    bqm.offset = 0\n",
    "\n",
    "    # raise NotImplementedError()\n",
    "    # Do not modify anything below this line\n",
    "    return bqm\n"
   ]
  },
  {
   "cell_type": "code",
   "execution_count": null,
   "id": "87c8da35",
   "metadata": {},
   "outputs": [],
   "source": [
    "# You can use this cell to call and check the output of the function\n",
    "\n",
    "print(constrained_bqm(2))\n"
   ]
  },
  {
   "cell_type": "code",
   "execution_count": null,
   "id": "495b98e9",
   "metadata": {
    "deletable": false,
    "editable": false,
    "nbgrader": {
     "cell_type": "code",
     "checksum": "d287ae7cb18f2017e1c3de2f55d9eaf4",
     "grade": true,
     "grade_id": "cell-a7189debb1cd577e",
     "locked": true,
     "points": 2,
     "schema_version": 3,
     "solution": false
    }
   },
   "outputs": [],
   "source": [
    "# hidden tests will be used for grading."
   ]
  },
  {
   "cell_type": "code",
   "execution_count": null,
   "id": "764fec4a",
   "metadata": {
    "deletable": false,
    "editable": false,
    "nbgrader": {
     "cell_type": "code",
     "checksum": "cf5b0cffd9a3292f7053821181a32a88",
     "grade": true,
     "grade_id": "cell-c6e8b05639331e9f",
     "locked": true,
     "points": 2,
     "schema_version": 3,
     "solution": false
    }
   },
   "outputs": [],
   "source": [
    "# hidden tests will be used for grading."
   ]
  },
  {
   "cell_type": "markdown",
   "id": "62d82603",
   "metadata": {},
   "source": [
    "## Question 2 (4 points)\n",
    "\n",
    "Next questions are about the Knapsack Problem.\n",
    "\n",
    "Given $n$ items, each with an associated weight $w_i$ and cost $c_i$, the goal of the Knapsack problem is to pack as many items to maximize the value of the packed knapsack, while not exceeding the knapsack capacity.\n",
    "\n",
    "Let $x_i$ be a binary variable that is equal to 1 if $i$'th item is selected and 0 otherwise. \n",
    "\n",
    "In Knapsack problem, the objective is to maximize\n",
    "$$\n",
    "\\sum c_ix_i\n",
    "$$\n",
    "subject to the constraint\n",
    "$$\n",
    "\\sum w_ix_i \\leq W. \n",
    "$$\n",
    "\n",
    "However, note that when formulating a QUBO, we always consider the equivalent `minimization` problem. \n",
    "\n",
    "Complete the function `knapsack_objective` which takes as parameter a BQM instance and the list of costs and adds the objective function to be *minimized* to the input BQM.\n",
    "\n",
    "Note: Name your variables in the format `x_i` and use BQM functionalities.\n",
    "\n",
    "The function `knapsack_objective` has\n",
    "\n",
    "- Inputs:\n",
    "    - `bqm`: a BQM instance,\n",
    "    - `costs`: a list of $n$ elements corresponding to costs of the items.\n",
    "            \n",
    "- Returns:\n",
    "    - Modified `bqm`\n"
   ]
  },
  {
   "cell_type": "code",
   "execution_count": null,
   "id": "7ef0dbc0",
   "metadata": {
    "deletable": false,
    "nbgrader": {
     "cell_type": "code",
     "checksum": "9d2a94023989b64f5a5607ab29e026e4",
     "grade": false,
     "grade_id": "cell-0fb3a12dcd99d63f",
     "locked": false,
     "schema_version": 3,
     "solution": true
    }
   },
   "outputs": [],
   "source": [
    "from dimod import BQM\n",
    "\n",
    "def knapsack_objective(bqm, costs):\n",
    "    # YOUR CODE HERE\n",
    "\n",
    "    # Add the objective function to the BQM\n",
    "    for i, cost in enumerate(costs):\n",
    "        bqm.add_variable(f'x_{i}', cost)\n",
    "\n",
    "    # raise NotImplementedError()\n",
    "    # Do not modify anything below this line\n",
    "    return bqm\n"
   ]
  },
  {
   "cell_type": "code",
   "execution_count": null,
   "id": "1827ea07",
   "metadata": {},
   "outputs": [],
   "source": [
    "# You can use this cell to call and check the output of the function\n",
    "from dimod import BQM\n",
    "\n",
    "bqm = BQM(\"BINARY\")\n",
    "costs = [2, 7, 3, 4, 6]\n",
    "bqm = knapsack_objective(bqm, costs)\n",
    "print(bqm)\n"
   ]
  },
  {
   "cell_type": "code",
   "execution_count": null,
   "id": "922c38f9",
   "metadata": {
    "deletable": false,
    "editable": false,
    "nbgrader": {
     "cell_type": "code",
     "checksum": "3c1773a3777fa54a58c834a84ab29d30",
     "grade": true,
     "grade_id": "cell-3c098b4ee1fd9acd",
     "locked": true,
     "points": 2,
     "schema_version": 3,
     "solution": false
    }
   },
   "outputs": [],
   "source": [
    "# hidden tests will be used for grading."
   ]
  },
  {
   "cell_type": "code",
   "execution_count": null,
   "id": "c303b8e1",
   "metadata": {
    "deletable": false,
    "editable": false,
    "nbgrader": {
     "cell_type": "code",
     "checksum": "029fed0276314323751a46fd8021ab74",
     "grade": true,
     "grade_id": "cell-970f5a1c9bd8a60a",
     "locked": true,
     "points": 2,
     "schema_version": 3,
     "solution": false
    }
   },
   "outputs": [],
   "source": [
    "# hidden tests will be used for grading."
   ]
  },
  {
   "cell_type": "markdown",
   "id": "312cf060",
   "metadata": {},
   "source": [
    "## Question 3 (4 points)\n",
    "\n",
    "Complete the function `knapsack_constraint` which takes as parameter a BQM instance and the list of costs, weights and capacity of the knapsack and adds the constraint to the input BQM.\n",
    "\n",
    "Note: Name your variables in the format `x_i` and use BQM functionalities. Set Lagrange multiplier $L$ such that $L = \\max\\{c_i\\} + 1$. Set `label=\"c\"`.\n",
    "\n",
    "The function `knapsack_constraint` has\n",
    "\n",
    "- Inputs:\n",
    "    - `bqm`: a BQM instance,\n",
    "    - `weights`: a list of $n$ elements corresponding to the weights of the items,\n",
    "    - `costs`-a list of $n$ elements corresponding to costs of the items,\n",
    "    - `W`-capacity of Knapsack\n",
    "            \n",
    "- Returns:\n",
    "    - Modified `bqm`\n"
   ]
  },
  {
   "cell_type": "code",
   "execution_count": null,
   "id": "66e1c0c9",
   "metadata": {
    "deletable": false,
    "nbgrader": {
     "cell_type": "code",
     "checksum": "d712ec166f6c799361728aa89bb745f9",
     "grade": false,
     "grade_id": "cell-4521cce97be4e452",
     "locked": false,
     "schema_version": 3,
     "solution": true
    }
   },
   "outputs": [],
   "source": [
    "from dimod import BQM\n",
    "\n",
    "def knapsack_constraint(bqm, weights, costs, W):\n",
    "    # YOUR CODE HERE\n",
    "\n",
    "    # Calculate the Lagrange multiplier\n",
    "    L = max(costs) + 1\n",
    "\n",
    "    # Add the constraint term to the BQM\n",
    "    bqm.add_linear_equality_constraint(\n",
    "        [(f'x_{i}', weights[i]) for i in range(len(weights))],\n",
    "        constant=-W,\n",
    "        lagrange_multiplier=L\n",
    "    )\n",
    "\n",
    "    # raise NotImplementedError()\n",
    "    # Do not modify anything below this line\n",
    "    return bqm\n"
   ]
  },
  {
   "cell_type": "code",
   "execution_count": null,
   "id": "3ec171d1",
   "metadata": {},
   "outputs": [],
   "source": [
    "# You can use this cell to call and check the output of the function\n",
    "from dimod import BQM\n",
    "\n",
    "bqm = BQM(\"BINARY\")\n",
    "costs = [2, 7, 3, 4, 6]\n",
    "W = 10\n",
    "weights = [1, 4, 8, 2, 3]\n",
    "bqm = knapsack_constraint(bqm, weights, costs, W)\n",
    "print(bqm)"
   ]
  },
  {
   "cell_type": "code",
   "execution_count": null,
   "id": "32b05e24",
   "metadata": {
    "deletable": false,
    "editable": false,
    "nbgrader": {
     "cell_type": "code",
     "checksum": "58dff2ab58d374fc4285701187b848e6",
     "grade": true,
     "grade_id": "cell-7f3f5156dda3ac9e",
     "locked": true,
     "points": 2,
     "schema_version": 3,
     "solution": false
    }
   },
   "outputs": [],
   "source": [
    "# hidden tests will be used for grading."
   ]
  },
  {
   "cell_type": "code",
   "execution_count": null,
   "id": "75f131ec",
   "metadata": {
    "deletable": false,
    "editable": false,
    "nbgrader": {
     "cell_type": "code",
     "checksum": "6a89f5b3bd55e984dde53309ad54f53e",
     "grade": true,
     "grade_id": "cell-a53a038132825a9b",
     "locked": true,
     "points": 2,
     "schema_version": 3,
     "solution": false
    }
   },
   "outputs": [],
   "source": [
    "# hidden tests will be used for grading."
   ]
  },
  {
   "cell_type": "markdown",
   "id": "3f45a4da",
   "metadata": {},
   "source": [
    "## Question 4 (4 points)\n",
    "\n",
    "Complete the function `knapsack_bqm` which takes as parameter the list of costs, weights and capacity of the knapsack and returns a BQM instance for the given knapsack problem.\n",
    "\n",
    "Note: Name your variables in the format `x_i` and use the functions you have written previously.\n",
    "\n",
    "The function `knapsack_bqm` has\n",
    "\n",
    "- Inputs:\n",
    "    - `weights`: a list of $n$ elements corresponding to the weights of the items,\n",
    "    - `costs`-a list of $n$ elements corresponding to costs of the items,\n",
    "    - `W`: capacity of Knapsack.\n",
    "            \n",
    "- Returns:\n",
    "    - A BQM instance `bqm`.\n"
   ]
  },
  {
   "cell_type": "code",
   "execution_count": null,
   "id": "46d3eb5a",
   "metadata": {
    "deletable": false,
    "nbgrader": {
     "cell_type": "code",
     "checksum": "4c7473d53b12f8b43bb64e32338d02d3",
     "grade": false,
     "grade_id": "cell-1fb34786a6625342",
     "locked": false,
     "schema_version": 3,
     "solution": true
    }
   },
   "outputs": [],
   "source": [
    "from dimod import BQM\n",
    "\n",
    "def knapsack_bqm(weights, costs, W):\n",
    "    # YOUR CODE HERE\n",
    "\n",
    "    # Create a BQM instance\n",
    "    bqm = BQM('BINARY')\n",
    "\n",
    "    # Add the objective function\n",
    "    bqm = knapsack_objective(bqm, costs)\n",
    "\n",
    "    # Add the constraint\n",
    "    bqm = knapsack_constraint(bqm, weights, costs, W)\n",
    "\n",
    "    # raise NotImplementedError()\n",
    "    # Do not modify anything below this line\n",
    "    return bqm\n"
   ]
  },
  {
   "cell_type": "code",
   "execution_count": null,
   "id": "61901acf",
   "metadata": {},
   "outputs": [],
   "source": [
    "# You can use this cell to call and check the output of the function\n",
    "from dimod import BQM\n",
    "bqm = BQM(\"BINARY\")\n",
    "costs = [2, 7, 3, 4, 6]\n",
    "W = 10\n",
    "weights = [1, 4, 8, 2, 3]\n",
    "bqm = knapsack_bqm(weights, costs, W)\n",
    "print(bqm)\n"
   ]
  },
  {
   "cell_type": "code",
   "execution_count": null,
   "id": "c20ccbc7",
   "metadata": {
    "deletable": false,
    "editable": false,
    "nbgrader": {
     "cell_type": "code",
     "checksum": "d66ca3d35d15e3577189eef763b04161",
     "grade": true,
     "grade_id": "cell-bf2d74fce2ff05bd",
     "locked": true,
     "points": 2,
     "schema_version": 3,
     "solution": false
    }
   },
   "outputs": [],
   "source": [
    "# hidden tests will be used for grading."
   ]
  },
  {
   "cell_type": "code",
   "execution_count": null,
   "id": "1fa179ec",
   "metadata": {
    "deletable": false,
    "editable": false,
    "nbgrader": {
     "cell_type": "code",
     "checksum": "04967fab31ecec566ca4c37b3ba47a52",
     "grade": true,
     "grade_id": "cell-fc23d7d972230462",
     "locked": true,
     "points": 2,
     "schema_version": 3,
     "solution": false
    }
   },
   "outputs": [],
   "source": [
    "# hidden tests will be used for grading."
   ]
  },
  {
   "cell_type": "markdown",
   "id": "de3d5f84",
   "metadata": {},
   "source": [
    "## Question 5 (4 points)\n",
    "\n",
    "Complete the function `anneal` which takes as parameter a BQM instance and number of reads and returns a sampleset object after running simulated annealing. Make the necessary imports.\n",
    "\n",
    "The function `anneal` has\n",
    "\n",
    "- Inputs:\n",
    "    - `bqm`: a BQM instance,\n",
    "    - `num_reads`: an integer coresponding to the number of reads for simulated annealing experiment.\n",
    "            \n",
    "- Returns:\n",
    "    - A `SampleSet` instance \n"
   ]
  },
  {
   "cell_type": "code",
   "execution_count": null,
   "id": "b5fe3294",
   "metadata": {
    "deletable": false,
    "nbgrader": {
     "cell_type": "code",
     "checksum": "eab904406e0d5d0499487e642da3dbdd",
     "grade": false,
     "grade_id": "cell-aa591c5064be9aa5",
     "locked": false,
     "schema_version": 3,
     "solution": true
    }
   },
   "outputs": [],
   "source": [
    "from dimod import SimulatedAnnealingSampler\n",
    "\n",
    "def anneal(bqm, num_reads):\n",
    "    # YOUR CODE HERE\n",
    "\n",
    "    # Initialize the simulated annealing sampler\n",
    "    sampler = SimulatedAnnealingSampler()\n",
    "\n",
    "    # Sample from the BQM using simulated annealing\n",
    "    sampleset = sampler.sample(bqm, num_reads=num_reads)\n",
    "\n",
    "    # raise NotImplementedError()\n",
    "    # Do not modify anything below this line\n",
    "    return sampleset\n"
   ]
  },
  {
   "cell_type": "code",
   "execution_count": null,
   "id": "807fe37e",
   "metadata": {},
   "outputs": [],
   "source": [
    "# You can use this cell to call and check the output of the function\n",
    "\n",
    "linear = {'x1': 5, 'x2': -3}\n",
    "quadratic = {('x1', 'x2'): 7}\n",
    "offset = 2\n",
    "vartype = 'BINARY'\n",
    "\n",
    "bqm = BQM(linear, quadratic, offset, vartype)\n",
    "sampleset = anneal(bqm, 1000)\n",
    "print(sampleset)\n"
   ]
  },
  {
   "cell_type": "code",
   "execution_count": null,
   "id": "5cc53e75",
   "metadata": {
    "deletable": false,
    "editable": false,
    "nbgrader": {
     "cell_type": "code",
     "checksum": "3653150f4608d15517c2e04b551f2ed9",
     "grade": true,
     "grade_id": "cell-817fe3881ec5fa6c",
     "locked": true,
     "points": 2,
     "schema_version": 3,
     "solution": false
    }
   },
   "outputs": [],
   "source": [
    "# hidden tests will be used for grading."
   ]
  },
  {
   "cell_type": "code",
   "execution_count": null,
   "id": "0d52a7f7",
   "metadata": {
    "deletable": false,
    "editable": false,
    "nbgrader": {
     "cell_type": "code",
     "checksum": "3a56456681afa911ed61301c1d32fec7",
     "grade": true,
     "grade_id": "cell-d65f341bce87ff30",
     "locked": true,
     "points": 2,
     "schema_version": 3,
     "solution": false
    }
   },
   "outputs": [],
   "source": [
    "# hidden tests will be used for grading."
   ]
  },
  {
   "cell_type": "markdown",
   "id": "efcbaaac",
   "metadata": {},
   "source": [
    "## Question 6 (4 points)\n",
    "\n",
    "Complete the function `knapsack_solution` which takes as parameter number of reads, the list of costs, weights and weight of the knapsack and returns the sample with the lowest energy for the given Knapsack instance.\n",
    "\n",
    "Note: You should use the functions `anneal` and `knapsack_bqm` you have written previously.\n",
    "\n",
    "The function `knapsack_solution` has\n",
    "\n",
    "- Inputs:\n",
    "    - `num_reads`: number of reads,\n",
    "    - `weights`: a list of $n$ elements corresponding to the weights of the items,\n",
    "    - `costs`-a list of $n$ elements corresponding to costs of the items,\n",
    "    - `W`-capacity of Knapsack\n",
    "\n",
    "- Returns:\n",
    "    - `solution`: a tuple consisting of solution vector and energy\n"
   ]
  },
  {
   "cell_type": "code",
   "execution_count": null,
   "id": "b8da9aab",
   "metadata": {
    "deletable": false,
    "nbgrader": {
     "cell_type": "code",
     "checksum": "a2db20560be54f89ea4822e6bfc55e7b",
     "grade": false,
     "grade_id": "cell-365d09fdc40291fd",
     "locked": false,
     "schema_version": 3,
     "solution": true
    }
   },
   "outputs": [],
   "source": [
    "def knapsack_solution(num_reads,weights, costs, W):\n",
    "    # YOUR CODE HERE\n",
    "\n",
    "    # Create a BQM instance for the knapsack problem\n",
    "    bqm = knapsack_bqm(weights, costs, W)\n",
    "    \n",
    "    # Use simulated annealing to find the sample with the lowest energy\n",
    "    sampleset = anneal(bqm, num_reads)\n",
    "    \n",
    "    # Extract the solution vector and its corresponding energy from the sample set\n",
    "    solution = sampleset.first\n",
    "\n",
    "    # raise NotImplementedError()\n",
    "    # Do not modify anything below this line\n",
    "    return solution\n"
   ]
  },
  {
   "cell_type": "code",
   "execution_count": null,
   "id": "4ed798d9",
   "metadata": {},
   "outputs": [],
   "source": [
    "# You can use this cell to call and check the output of the function\n",
    "\n",
    "costs = [2, 7, 3, 4, 6]\n",
    "W = 10\n",
    "weights = [1, 4, 8, 2, 3]\n",
    "num_reads = 100\n",
    "solution = knapsack_solution(num_reads,weights, costs, W)\n",
    "print(solution)\n"
   ]
  },
  {
   "cell_type": "code",
   "execution_count": null,
   "id": "66f750e7",
   "metadata": {
    "deletable": false,
    "editable": false,
    "nbgrader": {
     "cell_type": "code",
     "checksum": "d652e71fb3324aa2c757f09fc3751823",
     "grade": true,
     "grade_id": "cell-c6a06fd215617cfc",
     "locked": true,
     "points": 4,
     "schema_version": 3,
     "solution": false
    }
   },
   "outputs": [],
   "source": [
    "# hidden tests will be used for grading."
   ]
  }
 ],
 "metadata": {
  "kernelspec": {
   "display_name": "Python 3 (ipykernel)",
   "language": "python",
   "name": "python3"
  },
  "language_info": {
   "codemirror_mode": {
    "name": "ipython",
    "version": 3
   },
   "file_extension": ".py",
   "mimetype": "text/x-python",
   "name": "python",
   "nbconvert_exporter": "python",
   "pygments_lexer": "ipython3",
   "version": "3.9.1"
  }
 },
 "nbformat": 4,
 "nbformat_minor": 5
}
