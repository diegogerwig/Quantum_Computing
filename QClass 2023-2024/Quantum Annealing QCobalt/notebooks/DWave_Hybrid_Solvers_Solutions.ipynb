{
 "cells": [
  {
   "cell_type": "markdown",
   "id": "attempted-prerequisite",
   "metadata": {},
   "source": [
    "<table width = \"100%\">\n",
    "  <tr style=\"background-color:white;\">\n",
    "    <!-- QWorld Logo -->\n",
    "    <td style=\"text-align:left;width:200px;\"> \n",
    "        <a href=\"https://qworld.net/\" target=\"_blank\"><img src=\"../images/QWorld.png\"> </a></td>\n",
    "    <td style=\"text-align:right;vertical-align:bottom;font-size:16px;\"> \n",
    "        Prepared by <a href=\"https://www.cmpe.boun.edu.tr/~ozlem.salehi/\" target=\"_blank\"> Özlem Salehi </a> </td>\n",
    "    </tr> \n",
    " </table>\n",
    " \n",
    "<hr>"
   ]
  },
  {
   "cell_type": "markdown",
   "id": "f3ed0311",
   "metadata": {},
   "source": [
    "# <font color=\"blue\"> Solutions for </font> D-Wave Hybrid Solvers"
   ]
  },
  {
   "cell_type": "markdown",
   "id": "46c8e74d",
   "metadata": {},
   "source": [
    "<a id=\"Task1\"></a>\n",
    "\n",
    "\n",
    "### Task 1\n",
    "\n",
    "Solve the TSP problem for the following graph with 100 nodes using the hybrid BQM solver. Interpret the results."
   ]
  },
  {
   "cell_type": "code",
   "execution_count": 2,
   "id": "683f4b2e",
   "metadata": {},
   "outputs": [],
   "source": [
    "import numpy as np\n",
    "import networkx as nx\n",
    "\n",
    "np.random.seed(45)\n",
    "N = 500\n",
    "G1 = nx.complete_graph(N)\n",
    "for u, v in G1.edges():\n",
    "    G1[u][v][\"weight\"] = np.random.randint(1, 5)"
   ]
  },
  {
   "cell_type": "markdown",
   "id": "b90bfafb",
   "metadata": {},
   "source": [
    "### Solution"
   ]
  },
  {
   "cell_type": "markdown",
   "id": "0ff356df",
   "metadata": {},
   "source": [
    "Let us copy the codes for creating BQM for TSP and checking the results."
   ]
  },
  {
   "cell_type": "code",
   "execution_count": 3,
   "id": "f281572e",
   "metadata": {},
   "outputs": [],
   "source": [
    "from dimod import BQM\n",
    "\n",
    "def tsp_bqm(G, P):\n",
    "    \n",
    "    N = len(G.nodes)\n",
    "    bqm = BQM(\"BINARY\")\n",
    "    for i in range(N):\n",
    "        for j in range(N):\n",
    "            if i!=j:\n",
    "                for t in range(N-1):\n",
    "                    bqm.add_quadratic(f\"x_{i}_{t}\", f\"x_{j}_{t+1}\", G[i][j][\"weight\"])\n",
    "\n",
    "                #Remember that we were assuming N=0 in the sum\n",
    "                bqm.add_quadratic(f\"x_{i}_{N-1}\", f\"x_{j}_{0}\", G[i][j][\"weight\"])\n",
    "    #Add the first constraint\n",
    "    for t in range(N):\n",
    "        c1 = [(f\"x_{i}_{t}\", 1) for i in range(N)] #coefficient list\n",
    "        bqm.add_linear_equality_constraint(c1, constant=-1, lagrange_multiplier=P)\n",
    "    #Add the second constraint\n",
    "    for i in range(N):\n",
    "        c2 = [(f\"x_{i}_{t}\", 1) for t in range(N)]\n",
    "        bqm.add_linear_equality_constraint(c2, constant=-1, lagrange_multiplier=P)\n",
    "    return bqm\n",
    "\n",
    "def is_sample_feasible(sample,N):\n",
    "    for i in range(N):\n",
    "        if sum(sample[f\"x_{i}_{t}\"] for t in range(N))!=1:\n",
    "            return False\n",
    "    for t in range(N):\n",
    "        if sum(sample[f\"x_{i}_{t}\"] for i in range(N))!=1:\n",
    "            return False\n",
    "    return True\n",
    "\n",
    "def sample_to_path(sample,N):\n",
    "    path = []\n",
    "    for t in range(N):\n",
    "        for i in range(N):\n",
    "            if sample[f\"x_{i}_{t}\"] == 1:\n",
    "                path.append(i)\n",
    "    return path"
   ]
  },
  {
   "cell_type": "markdown",
   "id": "bd1a4e83",
   "metadata": {},
   "source": [
    "We create the BQM and an instance of the solver."
   ]
  },
  {
   "cell_type": "code",
   "execution_count": null,
   "id": "792ffc21",
   "metadata": {},
   "outputs": [],
   "source": [
    "from dwave.system import LeapHybridBQMSampler\n",
    "\n",
    "bqm = tsp_bqm(G1, 5)\n",
    "sampler = LeapHybridBQMSampler()                         "
   ]
  },
  {
   "cell_type": "markdown",
   "id": "073d171c",
   "metadata": {},
   "source": [
    "We run the problem on the solver. "
   ]
  },
  {
   "cell_type": "code",
   "execution_count": null,
   "id": "854a98ee",
   "metadata": {},
   "outputs": [],
   "source": [
    "sampleset = sampler.sample(bqm)"
   ]
  },
  {
   "cell_type": "markdown",
   "id": "3d7c4bf0",
   "metadata": {},
   "source": [
    "We can see that it took 40 seconds to run the problem."
   ]
  },
  {
   "cell_type": "code",
   "execution_count": null,
   "id": "17560502",
   "metadata": {},
   "outputs": [],
   "source": [
    "sampleset.info"
   ]
  },
  {
   "cell_type": "markdown",
   "id": "da424900",
   "metadata": {},
   "source": [
    "Let us now check the feasibility of the sample and convert it into a route."
   ]
  },
  {
   "cell_type": "code",
   "execution_count": null,
   "id": "9564d332",
   "metadata": {
    "scrolled": true
   },
   "outputs": [],
   "source": [
    "print(is_sample_feasible(sampleset.first.sample,N))\n",
    "print(sample_to_path(sampleset.first.sample,N),sampleset.first.energy)"
   ]
  },
  {
   "cell_type": "markdown",
   "id": "f5c59efc",
   "metadata": {},
   "source": [
    "<a id=\"Task2\"></a>\n",
    "\n",
    "\n",
    "### Task 2\n",
    "\n",
    "Write a funcion named `tsp_cqm` that takes as parameter a networkx graph $G$ and returns the constrained quadratic model for TSP problem. \n"
   ]
  },
  {
   "cell_type": "markdown",
   "id": "611b6ff9",
   "metadata": {},
   "source": [
    "### Solution"
   ]
  },
  {
   "cell_type": "code",
   "execution_count": 1,
   "id": "fbc85621",
   "metadata": {},
   "outputs": [],
   "source": [
    "from dimod import BQM, CQM, Binary\n",
    "\n",
    "def tsp_cqm(G):\n",
    "    N = len(G.nodes)\n",
    "    bqm = BQM(\"BINARY\")\n",
    "    for i in range(N):\n",
    "        for j in range(N):\n",
    "            if i!=j:\n",
    "                for t in range(N-1):\n",
    "                    bqm.add_quadratic(f\"x_{i}_{t}\", f\"x_{j}_{t+1}\", G[i][j][\"weight\"])\n",
    "\n",
    "                #Remember that we were assuming N=0 in the sum\n",
    "                bqm.add_quadratic(f\"x_{i}_{N-1}\", f\"x_{j}_{0}\", G[i][j][\"weight\"])\n",
    "    cqm = CQM()\n",
    "    cqm.set_objective(bqm)\n",
    "    \n",
    "    #Add the first constraint\n",
    "    for t in range(N):\n",
    "        c1 = sum(Binary(f\"x_{i}_{t}\") for i in range(N)) \n",
    "        cqm.add_constraint(c1 == 1, label = f\"C1_{t}\")\n",
    "    #Add the second constraint\n",
    "    for i in range(N):\n",
    "        c2 = sum(Binary(f\"x_{i}_{t}\") for t in range(N)) \n",
    "        cqm.add_constraint(c2 == 1, label = f\"C2_{i}\")\n",
    "    return cqm"
   ]
  },
  {
   "cell_type": "markdown",
   "id": "b8db4049",
   "metadata": {},
   "source": [
    "<a id=\"Task3\"></a>\n",
    "\n",
    "\n",
    "### Task 3\n",
    "\n",
    "Using the function you have written in Task 2, obtain the cqm for the given graph and solve it using the hybrid CQM solver."
   ]
  },
  {
   "cell_type": "code",
   "execution_count": 2,
   "id": "55046ce2",
   "metadata": {},
   "outputs": [],
   "source": [
    "import numpy as np\n",
    "import networkx as nx\n",
    "\n",
    "np.random.seed(45)\n",
    "N = 100\n",
    "G1 = nx.complete_graph(N)\n",
    "for u, v in G1.edges():\n",
    "    G1[u][v][\"weight\"] = np.random.randint(1, 5)"
   ]
  },
  {
   "cell_type": "markdown",
   "id": "48fade83",
   "metadata": {},
   "source": [
    "### Solution"
   ]
  },
  {
   "cell_type": "markdown",
   "id": "9281c4ff",
   "metadata": {},
   "source": [
    "First we obtain the cqm."
   ]
  },
  {
   "cell_type": "code",
   "execution_count": 3,
   "id": "a765a196",
   "metadata": {},
   "outputs": [],
   "source": [
    "cqm = tsp_cqm(G1)"
   ]
  },
  {
   "cell_type": "markdown",
   "id": "1ca7109f",
   "metadata": {},
   "source": [
    "We create an instance of the sampler and run our problem."
   ]
  },
  {
   "cell_type": "code",
   "execution_count": 4,
   "id": "e57c9199",
   "metadata": {},
   "outputs": [],
   "source": [
    "from dwave.system import LeapHybridCQMSampler"
   ]
  },
  {
   "cell_type": "code",
   "execution_count": 5,
   "id": "ea726d89",
   "metadata": {},
   "outputs": [],
   "source": [
    "cqm_solver = LeapHybridCQMSampler()                         \n",
    "sampleset = cqm_solver.sample_cqm(cqm)"
   ]
  },
  {
   "cell_type": "markdown",
   "id": "a67ec24d",
   "metadata": {},
   "source": [
    "Let us check sampleset info. It took around 8 seconds to solve the problem."
   ]
  },
  {
   "cell_type": "code",
   "execution_count": 6,
   "id": "011633d2",
   "metadata": {},
   "outputs": [
    {
     "name": "stdout",
     "output_type": "stream",
     "text": [
      "{'constraint_labels': ['C1_38', 'C2_69', 'C1_94', 'C1_9', 'C2_22', 'C2_10', 'C1_14', 'C1_67', 'C1_31', 'C1_78', 'C2_64', 'C1_96', 'C1_19', 'C1_47', 'C2_81', 'C2_4', 'C2_24', 'C1_18', 'C2_16', 'C1_33', 'C2_75', 'C2_80', 'C2_19', 'C1_45', 'C1_68', 'C2_57', 'C1_49', 'C2_2', 'C1_64', 'C2_85', 'C2_37', 'C2_53', 'C1_5', 'C1_87', 'C2_14', 'C2_93', 'C1_40', 'C2_96', 'C2_0', 'C2_54', 'C2_44', 'C2_36', 'C1_95', 'C2_34', 'C1_57', 'C2_27', 'C1_72', 'C2_98', 'C1_77', 'C2_50', 'C1_0', 'C2_13', 'C1_20', 'C2_33', 'C1_43', 'C1_71', 'C2_74', 'C1_15', 'C2_92', 'C1_22', 'C1_79', 'C2_83', 'C1_52', 'C2_26', 'C2_17', 'C1_21', 'C1_73', 'C1_89', 'C1_90', 'C1_42', 'C1_63', 'C2_70', 'C2_65', 'C1_99', 'C2_6', 'C2_38', 'C1_60', 'C2_9', 'C1_1', 'C1_25', 'C2_18', 'C2_21', 'C2_42', 'C2_97', 'C1_3', 'C2_55', 'C1_70', 'C2_5', 'C1_93', 'C2_48', 'C1_23', 'C2_61', 'C1_13', 'C1_41', 'C2_35', 'C1_65', 'C1_74', 'C2_40', 'C2_88', 'C2_3', 'C1_8', 'C1_98', 'C2_94', 'C1_92', 'C2_46', 'C1_62', 'C2_25', 'C1_24', 'C1_81', 'C2_91', 'C1_54', 'C2_20', 'C1_2', 'C2_51', 'C2_72', 'C1_36', 'C2_76', 'C1_53', 'C1_46', 'C1_86', 'C1_6', 'C2_31', 'C2_1', 'C2_60', 'C1_30', 'C1_66', 'C2_59', 'C1_29', 'C1_88', 'C2_62', 'C1_12', 'C2_49', 'C2_28', 'C1_51', 'C2_73', 'C2_89', 'C1_80', 'C2_63', 'C1_82', 'C2_29', 'C2_58', 'C2_45', 'C1_11', 'C2_87', 'C1_84', 'C2_68', 'C1_27', 'C1_75', 'C2_39', 'C1_4', 'C1_32', 'C2_43', 'C2_78', 'C2_15', 'C1_17', 'C1_83', 'C1_55', 'C1_85', 'C2_12', 'C1_37', 'C1_56', 'C2_52', 'C1_69', 'C1_44', 'C2_56', 'C2_82', 'C2_71', 'C2_86', 'C1_10', 'C1_48', 'C2_32', 'C2_84', 'C1_35', 'C1_58', 'C2_30', 'C2_79', 'C1_28', 'C1_26', 'C1_59', 'C2_41', 'C2_95', 'C1_61', 'C2_67', 'C2_11', 'C1_7', 'C2_23', 'C2_77', 'C2_47', 'C1_97', 'C2_66', 'C2_8', 'C1_34', 'C2_7', 'C1_50', 'C1_91', 'C2_90', 'C1_76', 'C2_99', 'C1_39', 'C1_16'], 'qpu_access_time': 16047, 'charge_time': 6337199, 'run_time': 7766384, 'problem_id': 'f40a4479-94cc-4057-8517-962ab5ea0f49'}\n"
     ]
    }
   ],
   "source": [
    "print(sampleset.info)"
   ]
  },
  {
   "cell_type": "markdown",
   "id": "f8887f18",
   "metadata": {},
   "source": [
    "The first returned sample is not feasible as can be seen below."
   ]
  },
  {
   "cell_type": "code",
   "execution_count": 18,
   "id": "f8519fc7",
   "metadata": {},
   "outputs": [
    {
     "name": "stdout",
     "output_type": "stream",
     "text": [
      "False\n"
     ]
    }
   ],
   "source": [
    "print(sampleset.first.is_feasible)"
   ]
  },
  {
   "cell_type": "markdown",
   "id": "b711546a",
   "metadata": {},
   "source": [
    "We can filter the feasible samples and pick the lowest energy one."
   ]
  },
  {
   "cell_type": "code",
   "execution_count": 17,
   "id": "23d89ca3",
   "metadata": {},
   "outputs": [
    {
     "name": "stdout",
     "output_type": "stream",
     "text": [
      "[42, 69, 21, 29, 53, 40, 66, 14, 83, 72, 67, 6, 31, 65, 98, 89, 9, 25, 92, 12, 90, 96, 61, 34, 24, 74, 45, 13, 8, 76, 41, 97, 10, 88, 80, 95, 84, 85, 56, 48, 81, 15, 71, 54, 49, 38, 20, 60, 70, 64, 3, 73, 86, 35, 5, 55, 2, 68, 22, 75, 93, 17, 47, 36, 99, 26, 44, 18, 77, 23, 50, 4, 1, 52, 43, 82, 11, 16, 33, 51, 91, 57, 94, 62, 39, 46, 27, 37, 59, 58, 7, 28, 79, 32, 19, 0, 78, 30, 87, 63] 104.0\n"
     ]
    }
   ],
   "source": [
    "best_sample = sampleset.filter(lambda d: d.is_feasible).first\n",
    "print(sample_to_path(best_sample.sample,N),best_sample.energy)"
   ]
  },
  {
   "cell_type": "code",
   "execution_count": 19,
   "id": "155703ce",
   "metadata": {},
   "outputs": [],
   "source": [
    "sampleset_20 = cqm_solver.sample_cqm(cqm, time_limit = 20)"
   ]
  },
  {
   "cell_type": "code",
   "execution_count": 20,
   "id": "be38bd0a",
   "metadata": {},
   "outputs": [
    {
     "data": {
      "text/plain": [
       "{'constraint_labels': ['C1_38',\n",
       "  'C2_69',\n",
       "  'C1_94',\n",
       "  'C1_9',\n",
       "  'C2_22',\n",
       "  'C2_10',\n",
       "  'C1_14',\n",
       "  'C1_67',\n",
       "  'C1_31',\n",
       "  'C1_78',\n",
       "  'C2_64',\n",
       "  'C1_96',\n",
       "  'C1_19',\n",
       "  'C1_47',\n",
       "  'C2_81',\n",
       "  'C2_4',\n",
       "  'C2_24',\n",
       "  'C1_18',\n",
       "  'C2_16',\n",
       "  'C1_33',\n",
       "  'C2_75',\n",
       "  'C2_80',\n",
       "  'C2_19',\n",
       "  'C1_45',\n",
       "  'C1_68',\n",
       "  'C2_57',\n",
       "  'C1_49',\n",
       "  'C2_2',\n",
       "  'C1_64',\n",
       "  'C2_85',\n",
       "  'C2_37',\n",
       "  'C2_53',\n",
       "  'C1_5',\n",
       "  'C1_87',\n",
       "  'C2_14',\n",
       "  'C2_93',\n",
       "  'C1_40',\n",
       "  'C2_96',\n",
       "  'C2_0',\n",
       "  'C2_54',\n",
       "  'C2_44',\n",
       "  'C2_36',\n",
       "  'C1_95',\n",
       "  'C2_34',\n",
       "  'C1_57',\n",
       "  'C2_27',\n",
       "  'C1_72',\n",
       "  'C2_98',\n",
       "  'C1_77',\n",
       "  'C2_50',\n",
       "  'C1_0',\n",
       "  'C2_13',\n",
       "  'C1_20',\n",
       "  'C2_33',\n",
       "  'C1_43',\n",
       "  'C1_71',\n",
       "  'C2_74',\n",
       "  'C1_15',\n",
       "  'C2_92',\n",
       "  'C1_22',\n",
       "  'C1_79',\n",
       "  'C2_83',\n",
       "  'C1_52',\n",
       "  'C2_26',\n",
       "  'C2_17',\n",
       "  'C1_21',\n",
       "  'C1_73',\n",
       "  'C1_89',\n",
       "  'C1_90',\n",
       "  'C1_42',\n",
       "  'C1_63',\n",
       "  'C2_70',\n",
       "  'C2_65',\n",
       "  'C1_99',\n",
       "  'C2_6',\n",
       "  'C2_38',\n",
       "  'C1_60',\n",
       "  'C2_9',\n",
       "  'C1_1',\n",
       "  'C1_25',\n",
       "  'C2_18',\n",
       "  'C2_21',\n",
       "  'C2_42',\n",
       "  'C2_97',\n",
       "  'C1_3',\n",
       "  'C2_55',\n",
       "  'C1_70',\n",
       "  'C2_5',\n",
       "  'C1_93',\n",
       "  'C2_48',\n",
       "  'C1_23',\n",
       "  'C2_61',\n",
       "  'C1_13',\n",
       "  'C1_41',\n",
       "  'C2_35',\n",
       "  'C1_65',\n",
       "  'C1_74',\n",
       "  'C2_40',\n",
       "  'C2_88',\n",
       "  'C2_3',\n",
       "  'C1_8',\n",
       "  'C1_98',\n",
       "  'C2_94',\n",
       "  'C1_92',\n",
       "  'C2_46',\n",
       "  'C1_62',\n",
       "  'C2_25',\n",
       "  'C1_24',\n",
       "  'C1_81',\n",
       "  'C2_91',\n",
       "  'C1_54',\n",
       "  'C2_20',\n",
       "  'C1_2',\n",
       "  'C2_51',\n",
       "  'C2_72',\n",
       "  'C1_36',\n",
       "  'C2_76',\n",
       "  'C1_53',\n",
       "  'C1_46',\n",
       "  'C1_86',\n",
       "  'C1_6',\n",
       "  'C2_31',\n",
       "  'C2_1',\n",
       "  'C2_60',\n",
       "  'C1_30',\n",
       "  'C1_66',\n",
       "  'C2_59',\n",
       "  'C1_29',\n",
       "  'C1_88',\n",
       "  'C2_62',\n",
       "  'C1_12',\n",
       "  'C2_49',\n",
       "  'C2_28',\n",
       "  'C1_51',\n",
       "  'C2_73',\n",
       "  'C2_89',\n",
       "  'C1_80',\n",
       "  'C2_63',\n",
       "  'C1_82',\n",
       "  'C2_29',\n",
       "  'C2_58',\n",
       "  'C2_45',\n",
       "  'C1_11',\n",
       "  'C2_87',\n",
       "  'C1_84',\n",
       "  'C2_68',\n",
       "  'C1_27',\n",
       "  'C1_75',\n",
       "  'C2_39',\n",
       "  'C1_4',\n",
       "  'C1_32',\n",
       "  'C2_43',\n",
       "  'C2_78',\n",
       "  'C2_15',\n",
       "  'C1_17',\n",
       "  'C1_83',\n",
       "  'C1_55',\n",
       "  'C1_85',\n",
       "  'C2_12',\n",
       "  'C1_37',\n",
       "  'C1_56',\n",
       "  'C2_52',\n",
       "  'C1_69',\n",
       "  'C1_44',\n",
       "  'C2_56',\n",
       "  'C2_82',\n",
       "  'C2_71',\n",
       "  'C2_86',\n",
       "  'C1_10',\n",
       "  'C1_48',\n",
       "  'C2_32',\n",
       "  'C2_84',\n",
       "  'C1_35',\n",
       "  'C1_58',\n",
       "  'C2_30',\n",
       "  'C2_79',\n",
       "  'C1_28',\n",
       "  'C1_26',\n",
       "  'C1_59',\n",
       "  'C2_41',\n",
       "  'C2_95',\n",
       "  'C1_61',\n",
       "  'C2_67',\n",
       "  'C2_11',\n",
       "  'C1_7',\n",
       "  'C2_23',\n",
       "  'C2_77',\n",
       "  'C2_47',\n",
       "  'C1_97',\n",
       "  'C2_66',\n",
       "  'C2_8',\n",
       "  'C1_34',\n",
       "  'C2_7',\n",
       "  'C1_50',\n",
       "  'C1_91',\n",
       "  'C2_90',\n",
       "  'C1_76',\n",
       "  'C2_99',\n",
       "  'C1_39',\n",
       "  'C1_16'],\n",
       " 'qpu_access_time': 32105,\n",
       " 'charge_time': 19411220,\n",
       " 'run_time': 19411220,\n",
       " 'problem_id': 'b24d5a97-6c50-4637-90f5-ad959f575119'}"
      ]
     },
     "execution_count": 20,
     "metadata": {},
     "output_type": "execute_result"
    }
   ],
   "source": [
    "sampleset_20.info"
   ]
  },
  {
   "cell_type": "code",
   "execution_count": 21,
   "id": "d1d6efbc",
   "metadata": {},
   "outputs": [
    {
     "name": "stdout",
     "output_type": "stream",
     "text": [
      "[42, 69, 21, 29, 53, 40, 66, 14, 83, 72, 67, 6, 31, 65, 98, 89, 9, 25, 92, 12, 90, 96, 61, 34, 24, 74, 45, 13, 8, 76, 41, 97, 10, 88, 80, 95, 84, 85, 56, 48, 81, 15, 71, 54, 49, 38, 20, 60, 70, 64, 3, 73, 86, 35, 5, 55, 2, 68, 22, 75, 93, 17, 47, 36, 99, 26, 44, 18, 77, 23, 50, 4, 1, 52, 43, 82, 11, 16, 33, 51, 91, 57, 94, 62, 39, 46, 27, 37, 59, 58, 7, 28, 79, 32, 19, 0, 78, 30, 87, 63] 104.0\n"
     ]
    }
   ],
   "source": [
    "best_sample_20 = sampleset.filter(lambda d: d.is_feasible).first\n",
    "print(sample_to_path(best_sample.sample,N),best_sample.energy)"
   ]
  }
 ],
 "metadata": {
  "kernelspec": {
   "display_name": "Python 3",
   "language": "python",
   "name": "python3"
  },
  "language_info": {
   "codemirror_mode": {
    "name": "ipython",
    "version": 3
   },
   "file_extension": ".py",
   "mimetype": "text/x-python",
   "name": "python",
   "nbconvert_exporter": "python",
   "pygments_lexer": "ipython3",
   "version": "3.7.3"
  }
 },
 "nbformat": 4,
 "nbformat_minor": 5
}
