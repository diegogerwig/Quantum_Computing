{
 "cells": [
  {
   "cell_type": "markdown",
   "id": "attempted-prerequisite",
   "metadata": {},
   "source": [
    "<table width = \"100%\">\n",
    "  <tr style=\"background-color:white;\">\n",
    "    <!-- QWorld Logo -->\n",
    "    <td style=\"text-align:left;width:200px;\"> \n",
    "        <a href=\"https://qworld.net/\" target=\"_blank\"><img src=\"../images/QWorld.png\"> </a></td>\n",
    "    <td style=\"text-align:right;vertical-align:bottom;font-size:16px;\"> \n",
    "        Prepared by <a href=\"https://www.cmpe.boun.edu.tr/~ozlem.salehi/\" target=\"_blank\"> Özlem Salehi </a> </td>\n",
    "    </tr> \n",
    " </table>\n",
    " \n",
    "<hr>"
   ]
  },
  {
   "cell_type": "markdown",
   "id": "blessed-purse",
   "metadata": {},
   "source": [
    "# D-Wave Hybrid Solvers"
   ]
  },
  {
   "cell_type": "markdown",
   "id": "7fc4520a",
   "metadata": {},
   "source": [
    "In this notebook, we will learn about the hybrid constrained quadratic solver of D-Wave, which allows modelling problems with constraints, without the need for QUBO formulation.\n",
    "\n"
   ]
  },
  {
   "cell_type": "markdown",
   "id": "7aba3375",
   "metadata": {},
   "source": [
    "D-Wave's Leap provides quantum-classical hybrid solvers, which combine classical heuristics with quantum annealing. Those solvers allow tackling larger problem instances compared to QPUs."
   ]
  },
  {
   "cell_type": "markdown",
   "id": "a2e69c51",
   "metadata": {},
   "source": [
    "Currently, there are three different hybrid solvers: hybrid binary quadratic model (BQM) solver, hybrid constrained quadratic model (CQM) solver, hybrid discrete quadratic model (DQM) solver. We will investigate the first two."
   ]
  },
  {
   "cell_type": "markdown",
   "id": "7da0cdab",
   "metadata": {},
   "source": [
    "## Hybrid BQM solver"
   ]
  },
  {
   "cell_type": "markdown",
   "id": "662d3027",
   "metadata": {},
   "source": [
    "Hybrid BQM solver can be used to solve problems that are expressed in the form of BQM. Using the following code, we can create an instance of hybrid BQM sampler."
   ]
  },
  {
   "cell_type": "code",
   "execution_count": 1,
   "id": "a3dcc222",
   "metadata": {},
   "outputs": [],
   "source": [
    "from dwave.system import LeapHybridBQMSampler\n",
    "\n",
    "bqm_solver = LeapHybridBQMSampler()                         "
   ]
  },
  {
   "cell_type": "markdown",
   "id": "49645b98",
   "metadata": {},
   "source": [
    "### Solver properties"
   ]
  },
  {
   "cell_type": "markdown",
   "id": "d63df783",
   "metadata": {},
   "source": [
    "Let us check some of the properties of the sampler."
   ]
  },
  {
   "cell_type": "code",
   "execution_count": 5,
   "id": "c597df61",
   "metadata": {},
   "outputs": [
    {
     "data": {
      "text/plain": [
       "dict_keys(['minimum_time_limit', 'maximum_time_limit_hrs', 'maximum_number_of_variables', 'maximum_number_of_biases', 'parameters', 'supported_problem_types', 'category', 'version', 'quota_conversion_rate'])"
      ]
     },
     "execution_count": 5,
     "metadata": {},
     "output_type": "execute_result"
    }
   ],
   "source": [
    "bqm_solver.properties.keys()"
   ]
  },
  {
   "cell_type": "markdown",
   "id": "e739aa1f",
   "metadata": {},
   "source": [
    "#### Minimum time limit"
   ]
  },
  {
   "cell_type": "markdown",
   "id": "ea7a6d20",
   "metadata": {},
   "source": [
    "This parameter gives information about the minimum time solver is required to work on an instance. The first number represents the number of variables and the second one is the time limit in seconds. Linear interpolation should be performed for the number of variables in between."
   ]
  },
  {
   "cell_type": "code",
   "execution_count": 6,
   "id": "c6dcc343",
   "metadata": {},
   "outputs": [
    {
     "name": "stdout",
     "output_type": "stream",
     "text": [
      "Minimum time limit: [[1, 3.0], [1024, 3.0], [4096, 10.0], [10000, 40.0], [30000, 200.0], [100000, 600.0], [1000000, 600.0]]\n"
     ]
    }
   ],
   "source": [
    "print(\"Minimum time limit:\", bqm_solver.properties[\"minimum_time_limit\"])"
   ]
  },
  {
   "cell_type": "markdown",
   "id": "bc1fe619",
   "metadata": {},
   "source": [
    "#### Maximum time limit \n",
    "\n",
    "This is the maximum time allowed in hours."
   ]
  },
  {
   "cell_type": "code",
   "execution_count": 7,
   "id": "79ba4fcd",
   "metadata": {},
   "outputs": [
    {
     "name": "stdout",
     "output_type": "stream",
     "text": [
      "Maximum time limit: 24.0\n"
     ]
    }
   ],
   "source": [
    "print(\"Maximum time limit:\", bqm_solver.properties[\"maximum_time_limit_hrs\"])"
   ]
  },
  {
   "cell_type": "markdown",
   "id": "fd401e52",
   "metadata": {},
   "source": [
    "#### Maximum number of variables\n",
    "\n",
    "Maximum number of variables allowed for hybrid BQM solver is 1 million."
   ]
  },
  {
   "cell_type": "code",
   "execution_count": 18,
   "id": "f58c7115",
   "metadata": {},
   "outputs": [
    {
     "name": "stdout",
     "output_type": "stream",
     "text": [
      "Maximum number of variables: 1000000\n"
     ]
    }
   ],
   "source": [
    "print(\"Maximum number of variables:\", bqm_solver.properties[\"maximum_number_of_variables\"])"
   ]
  },
  {
   "cell_type": "markdown",
   "id": "0e8eb87c",
   "metadata": {},
   "source": [
    "### Running a problem instance"
   ]
  },
  {
   "cell_type": "markdown",
   "id": "23d2baa7",
   "metadata": {},
   "source": [
    "Functions for obtaining the sample, i.e. `sample`, `sample_qubo`, `sample_ising` can still be used with the BQM hybrid solver. Different than the quantum annealer, BQM hybrid solver returns only a single solution. Let's see a simple example."
   ]
  },
  {
   "cell_type": "code",
   "execution_count": 3,
   "id": "caec534e",
   "metadata": {},
   "outputs": [
    {
     "name": "stdout",
     "output_type": "stream",
     "text": [
      "  x1 x2 x3 x4 energy num_oc.\n",
      "0  1  0  0  1  -11.0       1\n",
      "['BINARY', 1 rows, 1 samples, 4 variables]\n"
     ]
    }
   ],
   "source": [
    "from dimod import BQM\n",
    "\n",
    "linear = {'x1': -5, 'x2': -3, 'x3': -8, 'x4': -6}\n",
    "quadratic = {('x1', 'x2'): 4, ('x1', 'x3'): 8, ('x2', 'x3'): 2, ('x3', 'x4'): 10}\n",
    "vartype = 'BINARY'\n",
    "\n",
    "bqm = BQM(linear, quadratic, vartype)\n",
    "\n",
    "bqm_solver = LeapHybridBQMSampler()                         \n",
    "sampleset = bqm_solver.sample(bqm)\n",
    "print(sampleset)"
   ]
  },
  {
   "cell_type": "markdown",
   "id": "873e7f60",
   "metadata": {},
   "source": [
    "We can check the time spent on QPU and the total time."
   ]
  },
  {
   "cell_type": "code",
   "execution_count": 4,
   "id": "e3cbff67",
   "metadata": {},
   "outputs": [
    {
     "data": {
      "text/plain": [
       "{'qpu_access_time': 63954,\n",
       " 'charge_time': 2992762,\n",
       " 'run_time': 2992762,\n",
       " 'problem_id': '9d7365dc-b341-4beb-af4b-7c38a88a7b84'}"
      ]
     },
     "execution_count": 4,
     "metadata": {},
     "output_type": "execute_result"
    }
   ],
   "source": [
    "sampleset.info"
   ]
  },
  {
   "cell_type": "markdown",
   "id": "5ef74b57",
   "metadata": {},
   "source": [
    "Here, `qpu_acess_time` is the time spend on QPU, `charge_time` is the time charged to the account and `run_time` is the total run time in microseconds."
   ]
  },
  {
   "cell_type": "markdown",
   "id": "e0e17ba2",
   "metadata": {},
   "source": [
    "### Time limit"
   ]
  },
  {
   "cell_type": "markdown",
   "id": "44e30a0a",
   "metadata": {},
   "source": [
    "We can provide a `time_limit` parameter, which is the maximum run time. It should be larger than the minimum time allowed. If no `time_limit` is provided, it is set to minimum time."
   ]
  },
  {
   "cell_type": "code",
   "execution_count": 5,
   "id": "ac9ecc11",
   "metadata": {},
   "outputs": [
    {
     "ename": "ValueError",
     "evalue": "time limit for problem size 4 must be at least 3.0",
     "output_type": "error",
     "traceback": [
      "\u001b[1;31m---------------------------------------------------------------------------\u001b[0m",
      "\u001b[1;31mValueError\u001b[0m                                Traceback (most recent call last)",
      "\u001b[1;32m<ipython-input-5-b8e37dd28c21>\u001b[0m in \u001b[0;36m<module>\u001b[1;34m\u001b[0m\n\u001b[1;32m----> 1\u001b[1;33m \u001b[0msampleset\u001b[0m \u001b[1;33m=\u001b[0m \u001b[0mbqm_solver\u001b[0m\u001b[1;33m.\u001b[0m\u001b[0msample\u001b[0m\u001b[1;33m(\u001b[0m\u001b[0mbqm\u001b[0m\u001b[1;33m,\u001b[0m \u001b[0mtime_limit\u001b[0m \u001b[1;33m=\u001b[0m \u001b[1;36m2\u001b[0m\u001b[1;33m)\u001b[0m\u001b[1;33m\u001b[0m\u001b[1;33m\u001b[0m\u001b[0m\n\u001b[0m\u001b[0;32m      2\u001b[0m \u001b[0mprint\u001b[0m\u001b[1;33m(\u001b[0m\u001b[0msampleset\u001b[0m\u001b[1;33m)\u001b[0m\u001b[1;33m\u001b[0m\u001b[1;33m\u001b[0m\u001b[0m\n",
      "\u001b[1;32m~\\AppData\\Roaming\\Python\\Python37\\site-packages\\dwave\\system\\samplers\\leap_hybrid_sampler.py\u001b[0m in \u001b[0;36msample\u001b[1;34m(self, bqm, time_limit, **kwargs)\u001b[0m\n\u001b[0;32m    222\u001b[0m             msg = (\"time limit for problem size {} must be at least {}\"\n\u001b[0;32m    223\u001b[0m                    ).format(num_vars, self.min_time_limit(bqm))\n\u001b[1;32m--> 224\u001b[1;33m             \u001b[1;32mraise\u001b[0m \u001b[0mValueError\u001b[0m\u001b[1;33m(\u001b[0m\u001b[0mmsg\u001b[0m\u001b[1;33m)\u001b[0m\u001b[1;33m\u001b[0m\u001b[1;33m\u001b[0m\u001b[0m\n\u001b[0m\u001b[0;32m    225\u001b[0m \u001b[1;33m\u001b[0m\u001b[0m\n\u001b[0;32m    226\u001b[0m         \u001b[1;31m# for very large BQMs, it is better to send the unlabelled version,\u001b[0m\u001b[1;33m\u001b[0m\u001b[1;33m\u001b[0m\u001b[1;33m\u001b[0m\u001b[0m\n",
      "\u001b[1;31mValueError\u001b[0m: time limit for problem size 4 must be at least 3.0"
     ]
    }
   ],
   "source": [
    "sampleset = bqm_solver.sample(bqm, time_limit = 2)\n",
    "print(sampleset)"
   ]
  },
  {
   "cell_type": "markdown",
   "id": "46c8e74d",
   "metadata": {},
   "source": [
    "### Task 1\n",
    "\n",
    "Solve the TSP problem for the following graph with 100 nodes using the hybrid BQM solver. Interpret the results."
   ]
  },
  {
   "cell_type": "code",
   "execution_count": 40,
   "id": "aa3d49af",
   "metadata": {},
   "outputs": [],
   "source": [
    "import numpy as np\n",
    "import networkx as nx\n",
    "\n",
    "np.random.seed(45)\n",
    "N = 100\n",
    "G1 = nx.complete_graph(N)\n",
    "for u, v in G1.edges():\n",
    "    G1[u][v][\"weight\"] = np.random.randint(1, 5)"
   ]
  },
  {
   "cell_type": "code",
   "execution_count": null,
   "id": "d6500f63",
   "metadata": {},
   "outputs": [],
   "source": [
    "#\n",
    "# Your code here\n",
    "#"
   ]
  },
  {
   "cell_type": "markdown",
   "id": "bf8e69cc",
   "metadata": {},
   "source": [
    "[click here for solution](DWave_Hybrid_Solvers_Solutions.ipynb#Task1)"
   ]
  },
  {
   "cell_type": "markdown",
   "id": "5edd3dc2",
   "metadata": {},
   "source": [
    "## Hybrid CQM solver"
   ]
  },
  {
   "cell_type": "markdown",
   "id": "38557e14",
   "metadata": {},
   "source": [
    "Now we move on to a more interesting solver, that accepts constrained quadratic model.  \n",
    "\n",
    "Hybrid CQM solver can be initiated as follows."
   ]
  },
  {
   "cell_type": "code",
   "execution_count": 9,
   "id": "0f38b046",
   "metadata": {},
   "outputs": [],
   "source": [
    "from dwave.system import LeapHybridCQMSampler\n",
    "\n",
    "cqm_solver = LeapHybridCQMSampler()                         "
   ]
  },
  {
   "cell_type": "markdown",
   "id": "29417f18",
   "metadata": {},
   "source": [
    "To start using the hybrid CQM solver, we should first express our problem as a constrained quadratic model"
   ]
  },
  {
   "cell_type": "markdown",
   "id": "edd2d034",
   "metadata": {},
   "source": [
    "### Constrained quadratic model\n",
    "\n",
    "Formally a **constrained quadratic model** (CQM) is defined as "
   ]
  },
  {
   "cell_type": "markdown",
   "id": "8c121198",
   "metadata": {},
   "source": [
    "$$\n",
    "minimize~~\\sum_i a_ix_i + \\sum_{i\\leq j} b_{ij}x_ix_j + c\n",
    "$$\n",
    "$$\n",
    "subject~to~~ \\sum_i a_i^mx_i^m + \\sum_{i\\leq j} b_{ij}^mx_i^mx_j^m + c^m \\circ 0~~m=1,\\dots,M\n",
    "$$\n",
    "where $x_i$ can be binary, integer or continous variables, $a_i,b_i,c$ are real values, $\\circ\\in \\{=,\\leq, \\geq\\}$ and $M$ is the total number of constraints."
   ]
  },
  {
   "cell_type": "markdown",
   "id": "2b251a55",
   "metadata": {},
   "source": [
    "In other words, we have a quadratic function to minimize that is subject to quadratic constraints. This is also known as quadratically constrained quadratic program in the literature."
   ]
  },
  {
   "cell_type": "markdown",
   "id": "c4662fa8",
   "metadata": {},
   "source": [
    "CQM has several advantages over BQM:\n",
    "- It is no longer required to obtain a QUBO.\n",
    "- Constraints are directly specified, no need for the penalty method.\n",
    "- There is no need to set the penalty values.\n",
    "- Even quadratic constraints are handled and there is no need for quadratization.\n",
    "- Integer variables are allowed."
   ]
  },
  {
   "cell_type": "markdown",
   "id": "753cf6a1",
   "metadata": {},
   "source": [
    "It is also pointed out by D-Wave that hybrid CQM solver performs better than the hybrid BQM solver for constrained problems."
   ]
  },
  {
   "cell_type": "markdown",
   "id": "4522f90b",
   "metadata": {},
   "source": [
    "### Formulating CQM using OceanSDK functions"
   ]
  },
  {
   "cell_type": "markdown",
   "id": "89dc9b18",
   "metadata": {},
   "source": [
    "To start with, we will create a simple cqm example. Suppose that we have the following problem."
   ]
  },
  {
   "cell_type": "markdown",
   "id": "252ba933",
   "metadata": {},
   "source": [
    "$$\\min.~x_1+3x_3+2x_1x_2-4x_1x_3$$\n",
    "\n",
    "$$s.t.~x_1x_2 + x_3 = 1$$\n",
    "\n",
    "$$~~x_2 + x_3 \\leq 1$$.\n",
    "$$x_1+x_3=1$$"
   ]
  },
  {
   "cell_type": "markdown",
   "id": "019fd6ec",
   "metadata": {},
   "source": [
    "### Step 1 - Define an empty CQM and add the cost function you want to minimize\n",
    "\n",
    "\n",
    "Let's first create the empty CQM."
   ]
  },
  {
   "cell_type": "code",
   "execution_count": 3,
   "id": "88ad89e1",
   "metadata": {},
   "outputs": [],
   "source": [
    "from dimod import CQM\n",
    "cqm = CQM()"
   ]
  },
  {
   "cell_type": "markdown",
   "id": "cfa52982",
   "metadata": {},
   "source": [
    "We will use the function `set_objective` to set the objective value. Objective will be a BQM. Hence, we first create a bqm and set it as our objective."
   ]
  },
  {
   "cell_type": "code",
   "execution_count": 127,
   "id": "6273871e",
   "metadata": {},
   "outputs": [],
   "source": [
    "bqm = BQM(\"BINARY\")\n",
    "bqm.add_linear(\"x_1\",1)\n",
    "bqm.add_linear(\"x_3\",3)\n",
    "bqm.add_quadratic(\"x_1\",\"x_2\", 2)\n",
    "bqm.add_quadratic(\"x_1\",\"x_3\", -4)\n",
    "\n",
    "cqm.set_objective(bqm)"
   ]
  },
  {
   "cell_type": "markdown",
   "id": "69b85867",
   "metadata": {},
   "source": [
    "Let us check our cqm."
   ]
  },
  {
   "cell_type": "code",
   "execution_count": 128,
   "id": "8fdd0024",
   "metadata": {},
   "outputs": [
    {
     "name": "stdout",
     "output_type": "stream",
     "text": [
      "Constrained quadratic model: 3 variables, 0 constraints, 5 biases\n",
      "\n",
      "Objective\n",
      "  Binary('x_1') + 3*Binary('x_3') - 4*Binary('x_1')*Binary('x_3') + 2*Binary('x_1')*Binary('x_2')\n",
      "\n",
      "Constraints\n",
      "\n",
      "Bounds\n",
      "\n"
     ]
    }
   ],
   "source": [
    "print(cqm)\n",
    "#print(cqm.variables)\n",
    "#print(cqm.objective)"
   ]
  },
  {
   "cell_type": "markdown",
   "id": "hidden-finance",
   "metadata": {},
   "source": [
    "### Step 2 - Add the Constraints to the CQM"
   ]
  },
  {
   "cell_type": "markdown",
   "id": "4c84d22d",
   "metadata": {},
   "source": [
    "There are multiple ways to add a constraint in CQM. We will use the method `add_constraint` through which you can add linear or quadratic equality or inequality constraints. \n",
    "\n",
    "The first way to define constraints is again through first defining a BQM that represents the LHS of the constraint and provide as parameter `(bqm, sense, RHS, label)`. Here, sense is either `<=`, `==` or `>=`. `label` is optional but it is strongly recommende to provide a label for the constraint."
   ]
  },
  {
   "cell_type": "code",
   "execution_count": 129,
   "id": "0c915558",
   "metadata": {},
   "outputs": [
    {
     "name": "stdout",
     "output_type": "stream",
     "text": [
      "Constrained quadratic model: 3 variables, 1 constraints, 9 biases\n",
      "\n",
      "Objective\n",
      "  Binary('x_1') + 3*Binary('x_3') - 4*Binary('x_1')*Binary('x_3') + 2*Binary('x_1')*Binary('x_2')\n",
      "\n",
      "Constraints\n",
      "  C1: Binary('x_3') + Binary('x_1')*Binary('x_2') == 1.0\n",
      "\n",
      "Bounds\n",
      "\n"
     ]
    }
   ],
   "source": [
    "bqm = BQM(\"BINARY\")\n",
    "bqm.add_quadratic(\"x_1\",\"x_2\",1)\n",
    "bqm.add_linear(\"x_3\",1)\n",
    "\n",
    "cqm.add_constraint(bqm, \"==\", 1, \"C1\")\n",
    "print(cqm)"
   ]
  },
  {
   "cell_type": "markdown",
   "id": "5c5bc954",
   "metadata": {},
   "source": [
    "Another way to add the constraint is through expressing it using a symbolic math equation where RHS is an integer or a float. This time, we can not use strings to represent variables. We need to create binary variables."
   ]
  },
  {
   "cell_type": "code",
   "execution_count": 130,
   "id": "f500a691",
   "metadata": {},
   "outputs": [
    {
     "name": "stdout",
     "output_type": "stream",
     "text": [
      "Constrained quadratic model: 3 variables, 2 constraints, 11 biases\n",
      "\n",
      "Objective\n",
      "  Binary('x_1') + 3*Binary('x_3') - 4*Binary('x_1')*Binary('x_3') + 2*Binary('x_1')*Binary('x_2')\n",
      "\n",
      "Constraints\n",
      "  C1: Binary('x_3') + Binary('x_1')*Binary('x_2') == 1.0\n",
      "  C2: Binary('x_2') + Binary('x_3') <= 1.0\n",
      "\n",
      "Bounds\n",
      "\n"
     ]
    }
   ],
   "source": [
    "x2, x3 = dimod.Binaries([\"x_2\", \"x_3\"])\n",
    "cqm.add_constraint(x2+x3<=1, \"C2\")\n",
    "print(cqm)"
   ]
  },
  {
   "cell_type": "markdown",
   "id": "7e94d15f",
   "metadata": {},
   "source": [
    "In the constrained quadratic model, you can differentiate between **hard** and **soft** constraints. \n",
    "\n",
    "Hard constraints are those which should be never violated i.e. a feasbile solution is a solution in which no hard constraint is violated. \n",
    "\n",
    "On the other hand, soft constraints may be violated in favor of better solutions overall.\n",
    "\n",
    "By default, if no parameter is provided, the constraint is a hard constraint. Using the parameter `weight`, you can provide a weight for you constraint which indicates that it is soft. (Unfortunately, no further information is provided about the weight.)\n",
    "\n",
    "Now, let us suppose that the third constraint is a soft one."
   ]
  },
  {
   "cell_type": "code",
   "execution_count": 131,
   "id": "e02bb069",
   "metadata": {},
   "outputs": [
    {
     "name": "stdout",
     "output_type": "stream",
     "text": [
      "Constrained quadratic model: 3 variables, 3 constraints, 13 biases\n",
      "\n",
      "Objective\n",
      "  Binary('x_1') + 3*Binary('x_3') - 4*Binary('x_1')*Binary('x_3') + 2*Binary('x_1')*Binary('x_2')\n",
      "\n",
      "Constraints\n",
      "  C1: Binary('x_3') + Binary('x_1')*Binary('x_2') == 1.0\n",
      "  C2: Binary('x_2') + Binary('x_3') <= 1.0\n",
      "  C3: Binary('x_1') + Binary('x_3') == 1.0\n",
      "\n",
      "Bounds\n",
      "\n"
     ]
    }
   ],
   "source": [
    "x1 = dimod.Binary(\"x_1\")\n",
    "cqm.add_constraint(x1+x3==1,\"C3\", weight = 2)\n",
    "print(cqm)"
   ]
  },
  {
   "cell_type": "code",
   "execution_count": 172,
   "id": "c48145aa",
   "metadata": {},
   "outputs": [
    {
     "name": "stdout",
     "output_type": "stream",
     "text": [
      "False\n",
      "False\n",
      "True\n"
     ]
    }
   ],
   "source": [
    "print(cqm.constraints[\"C1\"].lhs.is_soft())\n",
    "print(cqm.constraints[\"C2\"].lhs.is_soft())\n",
    "print(cqm.constraints[\"C3\"].lhs.is_soft())"
   ]
  },
  {
   "cell_type": "markdown",
   "id": "civic-counter",
   "metadata": {},
   "source": [
    "### Step 3 - Solve the CQM"
   ]
  },
  {
   "cell_type": "markdown",
   "id": "2af02733",
   "metadata": {},
   "source": [
    "We are going to use the `LeapHybridCQMSampler` to solve the CQM and we will use the method `sample_cqm`."
   ]
  },
  {
   "cell_type": "code",
   "execution_count": 136,
   "id": "wireless-patient",
   "metadata": {},
   "outputs": [
    {
     "name": "stdout",
     "output_type": "stream",
     "text": [
      "    x_1 x_2 x_3 energy num_oc. is_sat. is_fea.\n",
      "95  1.0 0.0 0.0    1.0       1 arra...   False\n",
      "96  1.0 0.0 0.0    1.0       1 arra...   False\n",
      "97  1.0 0.0 0.0    1.0       1 arra...   False\n",
      "98  1.0 0.0 0.0    1.0       1 arra...   False\n",
      "99  1.0 0.0 0.0    1.0       1 arra...   False\n",
      "100 1.0 0.0 0.0    1.0       1 arra...   False\n",
      "101 1.0 0.0 0.0    1.0       1 arra...   False\n",
      "102 1.0 0.0 0.0    1.0       1 arra...   False\n",
      "103 1.0 0.0 0.0    1.0       1 arra...   False\n",
      "104 1.0 0.0 0.0    1.0       1 arra...   False\n",
      "0   1.0 0.0 1.0    2.0       1 arra...    True\n",
      "1   1.0 0.0 1.0    2.0       1 arra...    True\n",
      "3   1.0 0.0 1.0    2.0       1 arra...    True\n",
      "4   1.0 0.0 1.0    2.0       1 arra...    True\n",
      "5   1.0 0.0 1.0    2.0       1 arra...    True\n",
      "6   1.0 0.0 1.0    2.0       1 arra...    True\n",
      "7   1.0 0.0 1.0    2.0       1 arra...    True\n",
      "9   1.0 0.0 1.0    2.0       1 arra...    True\n",
      "10  1.0 0.0 1.0    2.0       1 arra...    True\n",
      "11  1.0 0.0 1.0    2.0       1 arra...    True\n",
      "12  1.0 0.0 1.0    2.0       1 arra...    True\n",
      "13  1.0 0.0 1.0    2.0       1 arra...    True\n",
      "14  1.0 0.0 1.0    2.0       1 arra...    True\n",
      "15  1.0 0.0 1.0    2.0       1 arra...    True\n",
      "16  1.0 0.0 1.0    2.0       1 arra...    True\n",
      "17  1.0 0.0 1.0    2.0       1 arra...    True\n",
      "18  1.0 0.0 1.0    2.0       1 arra...    True\n",
      "19  1.0 0.0 1.0    2.0       1 arra...    True\n",
      "20  1.0 0.0 1.0    2.0       1 arra...    True\n",
      "21  1.0 0.0 1.0    2.0       1 arra...    True\n",
      "22  1.0 0.0 1.0    2.0       1 arra...    True\n",
      "23  1.0 0.0 1.0    2.0       1 arra...    True\n",
      "24  1.0 0.0 1.0    2.0       1 arra...    True\n",
      "25  1.0 0.0 1.0    2.0       1 arra...    True\n",
      "26  1.0 0.0 1.0    2.0       1 arra...    True\n",
      "27  1.0 0.0 1.0    2.0       1 arra...    True\n",
      "28  1.0 0.0 1.0    2.0       1 arra...    True\n",
      "29  1.0 0.0 1.0    2.0       1 arra...    True\n",
      "30  1.0 0.0 1.0    2.0       1 arra...    True\n",
      "31  1.0 0.0 1.0    2.0       1 arra...    True\n",
      "32  1.0 0.0 1.0    2.0       1 arra...    True\n",
      "33  1.0 0.0 1.0    2.0       1 arra...    True\n",
      "34  1.0 0.0 1.0    2.0       1 arra...    True\n",
      "35  1.0 0.0 1.0    2.0       1 arra...    True\n",
      "36  1.0 0.0 1.0    2.0       1 arra...    True\n",
      "37  1.0 0.0 1.0    2.0       1 arra...    True\n",
      "38  1.0 0.0 1.0    2.0       1 arra...    True\n",
      "39  1.0 0.0 1.0    2.0       1 arra...    True\n",
      "40  1.0 0.0 1.0    2.0       1 arra...    True\n",
      "41  1.0 0.0 1.0    2.0       1 arra...    True\n",
      "42  1.0 0.0 1.0    2.0       1 arra...    True\n",
      "43  1.0 0.0 1.0    2.0       1 arra...    True\n",
      "44  1.0 0.0 1.0    2.0       1 arra...    True\n",
      "45  1.0 0.0 1.0    2.0       1 arra...    True\n",
      "46  1.0 0.0 1.0    2.0       1 arra...    True\n",
      "47  1.0 0.0 1.0    2.0       1 arra...    True\n",
      "48  1.0 0.0 1.0    2.0       1 arra...    True\n",
      "49  1.0 0.0 1.0    2.0       1 arra...    True\n",
      "50  1.0 0.0 1.0    2.0       1 arra...    True\n",
      "51  1.0 0.0 1.0    2.0       1 arra...    True\n",
      "52  1.0 0.0 1.0    2.0       1 arra...    True\n",
      "53  1.0 0.0 1.0    2.0       1 arra...    True\n",
      "54  1.0 0.0 1.0    2.0       1 arra...    True\n",
      "55  1.0 0.0 1.0    2.0       1 arra...    True\n",
      "56  1.0 0.0 1.0    2.0       1 arra...    True\n",
      "57  1.0 0.0 1.0    2.0       1 arra...    True\n",
      "58  1.0 0.0 1.0    2.0       1 arra...    True\n",
      "59  1.0 0.0 1.0    2.0       1 arra...    True\n",
      "60  1.0 0.0 1.0    2.0       1 arra...    True\n",
      "61  1.0 0.0 1.0    2.0       1 arra...    True\n",
      "62  1.0 0.0 1.0    2.0       1 arra...    True\n",
      "63  1.0 0.0 1.0    2.0       1 arra...    True\n",
      "64  1.0 0.0 1.0    2.0       1 arra...    True\n",
      "65  1.0 0.0 1.0    2.0       1 arra...    True\n",
      "66  1.0 0.0 1.0    2.0       1 arra...    True\n",
      "67  1.0 0.0 1.0    2.0       1 arra...    True\n",
      "68  1.0 0.0 1.0    2.0       1 arra...    True\n",
      "69  1.0 0.0 1.0    2.0       1 arra...    True\n",
      "70  1.0 0.0 1.0    2.0       1 arra...    True\n",
      "71  1.0 0.0 1.0    2.0       1 arra...    True\n",
      "72  1.0 0.0 1.0    2.0       1 arra...    True\n",
      "73  1.0 0.0 1.0    2.0       1 arra...    True\n",
      "74  1.0 0.0 1.0    2.0       1 arra...    True\n",
      "75  1.0 0.0 1.0    2.0       1 arra...    True\n",
      "76  1.0 0.0 1.0    2.0       1 arra...    True\n",
      "77  1.0 0.0 1.0    2.0       1 arra...    True\n",
      "78  1.0 0.0 1.0    2.0       1 arra...    True\n",
      "79  1.0 0.0 1.0    2.0       1 arra...    True\n",
      "80  1.0 0.0 1.0    2.0       1 arra...    True\n",
      "81  1.0 0.0 1.0    2.0       1 arra...    True\n",
      "82  1.0 0.0 1.0    2.0       1 arra...    True\n",
      "83  1.0 0.0 1.0    2.0       1 arra...    True\n",
      "84  1.0 0.0 1.0    2.0       1 arra...    True\n",
      "85  1.0 0.0 1.0    2.0       1 arra...    True\n",
      "86  1.0 0.0 1.0    2.0       1 arra...    True\n",
      "87  1.0 0.0 1.0    2.0       1 arra...    True\n",
      "88  1.0 0.0 1.0    2.0       1 arra...    True\n",
      "89  1.0 0.0 1.0    2.0       1 arra...    True\n",
      "90  1.0 0.0 1.0    2.0       1 arra...    True\n",
      "91  1.0 0.0 1.0    2.0       1 arra...    True\n",
      "92  1.0 0.0 1.0    2.0       1 arra...    True\n",
      "93  1.0 0.0 1.0    2.0       1 arra...    True\n",
      "94  1.0 0.0 1.0    2.0       1 arra...    True\n",
      "105 0.0 1.0 0.0    2.0       1 arra...   False\n",
      "2   1.0 1.0 0.0    3.0       1 arra...    True\n",
      "8   1.0 1.0 0.0    3.0       1 arra...    True\n",
      "['INTEGER', 106 rows, 106 samples, 3 variables]\n"
     ]
    }
   ],
   "source": [
    "cqm_solver = LeapHybridCQMSampler()                         \n",
    "sampleset = cqm_solver.sample_cqm(cqm)\n",
    "print(sampleset)"
   ]
  },
  {
   "cell_type": "markdown",
   "id": "48425051",
   "metadata": {},
   "source": [
    "The number of samples returned by the solver can not be determined by the user. The next time you run the problem, you may get a sampleset with different number of samples.\n"
   ]
  },
  {
   "cell_type": "markdown",
   "id": "sapphire-quantum",
   "metadata": {},
   "source": [
    "### Step 4 -  Interpret and check the feasibility of the samples in the sampleset and find the optimum sample"
   ]
  },
  {
   "cell_type": "markdown",
   "id": "6cac0730",
   "metadata": {},
   "source": [
    "\n",
    "In a sampleset obtained from the hybrid CQM solver, note that we have additional fields. Let us start by checking those."
   ]
  },
  {
   "cell_type": "code",
   "execution_count": 182,
   "id": "2c668c63",
   "metadata": {},
   "outputs": [
    {
     "data": {
      "text/plain": [
       "{'constraint_labels': ['C3', 'C2', 'C1'],\n",
       " 'qpu_access_time': 31756,\n",
       " 'charge_time': 5000000,\n",
       " 'run_time': 5114969,\n",
       " 'problem_id': 'eabaecaa-fd3d-4880-bf9d-4d4161e5d684'}"
      ]
     },
     "execution_count": 182,
     "metadata": {},
     "output_type": "execute_result"
    }
   ],
   "source": [
    "sampleset.info"
   ]
  },
  {
   "cell_type": "code",
   "execution_count": 159,
   "id": "607ba94f",
   "metadata": {},
   "outputs": [
    {
     "name": "stdout",
     "output_type": "stream",
     "text": [
      "Sample(sample={'x_1': 1.0, 'x_2': 0.0, 'x_3': 0.0}, energy=1.0, num_occurrences=1, is_satisfied=array([ True,  True, False]), is_feasible=False)\n",
      "Sample(sample={'x_1': 1.0, 'x_2': 0.0, 'x_3': 0.0}, energy=1.0, num_occurrences=1, is_satisfied=array([ True,  True, False]), is_feasible=False)\n",
      "Sample(sample={'x_1': 1.0, 'x_2': 0.0, 'x_3': 0.0}, energy=1.0, num_occurrences=1, is_satisfied=array([ True,  True, False]), is_feasible=False)\n",
      "Sample(sample={'x_1': 1.0, 'x_2': 0.0, 'x_3': 0.0}, energy=1.0, num_occurrences=1, is_satisfied=array([ True,  True, False]), is_feasible=False)\n",
      "Sample(sample={'x_1': 1.0, 'x_2': 0.0, 'x_3': 0.0}, energy=1.0, num_occurrences=1, is_satisfied=array([ True,  True, False]), is_feasible=False)\n"
     ]
    }
   ],
   "source": [
    "for d in sampleset.truncate(5).data():\n",
    "    print(d)"
   ]
  },
  {
   "cell_type": "markdown",
   "id": "1a8e9290",
   "metadata": {},
   "source": [
    "We have a field named `is_satisfied` which returns us an array of boolean values indicating whether the constraints are satisfied or not. Note that the order is `C3`, `C2`, `C1`.\n",
    "\n",
    "We have another field named `is_feasible` which should return `True` in case all hard constraints are satisfied. "
   ]
  },
  {
   "cell_type": "markdown",
   "id": "0afc300f",
   "metadata": {},
   "source": [
    "Note that in the lowest energy samples, first constraintis not satisfied, hence the sample is infeasible."
   ]
  },
  {
   "cell_type": "markdown",
   "id": "ca928266",
   "metadata": {},
   "source": [
    "We can filter the feasible samples as follows. In some of those, you can see that the first constraint which is the soft one is not satisfied."
   ]
  },
  {
   "cell_type": "code",
   "execution_count": 183,
   "id": "d3485a49",
   "metadata": {},
   "outputs": [
    {
     "data": {
      "text/plain": [
       "SampleSet(rec.array([([1., 0., 1.], 2., 1, [False,  True,  True],  True),\n",
       "           ([1., 0., 1.], 2., 1, [False,  True,  True],  True),\n",
       "           ([1., 0., 1.], 2., 1, [False,  True,  True],  True),\n",
       "           ([1., 0., 1.], 2., 1, [False,  True,  True],  True),\n",
       "           ([1., 0., 1.], 2., 1, [False,  True,  True],  True),\n",
       "           ([1., 0., 1.], 2., 1, [False,  True,  True],  True),\n",
       "           ([1., 0., 1.], 2., 1, [False,  True,  True],  True),\n",
       "           ([1., 0., 1.], 2., 1, [False,  True,  True],  True),\n",
       "           ([1., 0., 1.], 2., 1, [False,  True,  True],  True),\n",
       "           ([1., 0., 1.], 2., 1, [False,  True,  True],  True)],\n",
       "          dtype=[('sample', '<f8', (3,)), ('energy', '<f8'), ('num_occurrences', '<i8'), ('is_satisfied', '?', (3,)), ('is_feasible', '?')]), Variables(['x_1', 'x_2', 'x_3']), {'constraint_labels': ['C3', 'C2', 'C1'], 'qpu_access_time': 31756, 'charge_time': 5000000, 'run_time': 5114969, 'problem_id': 'eabaecaa-fd3d-4880-bf9d-4d4161e5d684'}, 'INTEGER')"
      ]
     },
     "execution_count": 183,
     "metadata": {},
     "output_type": "execute_result"
    }
   ],
   "source": [
    "sampleset.filter(lambda d: d.is_feasible).truncate(10)"
   ]
  },
  {
   "cell_type": "markdown",
   "id": "f5c59efc",
   "metadata": {},
   "source": [
    "### Task 2\n",
    "\n",
    "Write a funcion named `tsp_cqm` that takes as parameter a networkx graph $G$ and returns the constrained quadratic model for TSP problem. \n"
   ]
  },
  {
   "cell_type": "code",
   "execution_count": null,
   "id": "61950c4e",
   "metadata": {},
   "outputs": [],
   "source": [
    "def tsp_cqm(G):\n",
    "    \n",
    "    \n",
    "# Your code here\n",
    "\n",
    "    "
   ]
  },
  {
   "cell_type": "markdown",
   "id": "f107060c",
   "metadata": {},
   "source": [
    "[click here for solution](DWave_Hybrid_Solvers_Solutions.ipynb#Task2)"
   ]
  },
  {
   "cell_type": "markdown",
   "id": "e90ae37a",
   "metadata": {},
   "source": [
    "### Task 3\n",
    "\n",
    "Using the function you have written in Task 2, obtain the cqm for the given graph and solve it using the hybrid CQM solver."
   ]
  },
  {
   "cell_type": "code",
   "execution_count": null,
   "id": "55046ce2",
   "metadata": {},
   "outputs": [],
   "source": [
    "import numpy as np\n",
    "import networkx as nx\n",
    "\n",
    "np.random.seed(45)\n",
    "N = 100\n",
    "G1 = nx.complete_graph(N)\n",
    "for u, v in G1.edges():\n",
    "    G1[u][v][\"weight\"] = np.random.randint(1, 5)"
   ]
  },
  {
   "cell_type": "code",
   "execution_count": null,
   "id": "38669c5d",
   "metadata": {},
   "outputs": [],
   "source": [
    "\n",
    "# Your code here\n",
    "\n"
   ]
  },
  {
   "cell_type": "markdown",
   "id": "1cbd90de",
   "metadata": {},
   "source": [
    "[click here for solution](DWave_Hybrid_Solvers_Solutions.ipynb#Task3)"
   ]
  }
 ],
 "metadata": {
  "kernelspec": {
   "display_name": "Python 3",
   "language": "python",
   "name": "python3"
  },
  "language_info": {
   "codemirror_mode": {
    "name": "ipython",
    "version": 3
   },
   "file_extension": ".py",
   "mimetype": "text/x-python",
   "name": "python",
   "nbconvert_exporter": "python",
   "pygments_lexer": "ipython3",
   "version": "3.7.3"
  }
 },
 "nbformat": 4,
 "nbformat_minor": 5
}
