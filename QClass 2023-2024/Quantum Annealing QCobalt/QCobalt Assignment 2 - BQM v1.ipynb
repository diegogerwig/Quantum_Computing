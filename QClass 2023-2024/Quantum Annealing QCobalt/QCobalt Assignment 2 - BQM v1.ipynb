{
 "cells": [
  {
   "cell_type": "markdown",
   "id": "educational-petersburg",
   "metadata": {},
   "source": [
    "# Instructions\n",
    "\n",
    "The places where you have enter code, to answer the questions, are marked with `# YOUR CODE HERE`. Once you have written your code you should remove any `raise NotImplementedError()` statements.\n",
    "\n"
   ]
  },
  {
   "cell_type": "markdown",
   "id": "fedb9ec3",
   "metadata": {},
   "source": [
    "## Question 1 (6 points)\n",
    "\n",
    "Given the following QUBO, complete the function `create_bqm` so that it returns the corresponding BQM.\n",
    "\n",
    "$$- 7x_1 - 2x_2 - 10x_3 - 4x_4 + 5x_1x_2 + 3x_1x_3 + 6x_2x_3 - 8x_3x_4 - 2$$\n",
    "\n",
    "\n",
    "The function `create_bqm` has\n",
    "\n",
    "- Input: None\n",
    "- Returns:\n",
    "    - A BQM instance\n"
   ]
  },
  {
   "cell_type": "code",
   "execution_count": 13,
   "id": "c1d135aa",
   "metadata": {},
   "outputs": [
    {
     "name": "stdout",
     "output_type": "stream",
     "text": [
      "Requirement already satisfied: dimod in c:\\python39\\lib\\site-packages (0.12.14)\n",
      "Requirement already satisfied: numpy<2.0.0,>=1.17.3 in c:\\users\\diego\\appdata\\roaming\\python\\python39\\site-packages (from dimod) (1.26.0)\n",
      "Note: you may need to restart the kernel to use updated packages.\n"
     ]
    },
    {
     "name": "stderr",
     "output_type": "stream",
     "text": [
      "WARNING: Ignoring invalid distribution -ip (c:\\users\\diego\\appdata\\roaming\\python\\python39\\site-packages)\n",
      "WARNING: Ignoring invalid distribution -ip (c:\\users\\diego\\appdata\\roaming\\python\\python39\\site-packages)\n",
      "WARNING: Ignoring invalid distribution - (c:\\python39\\lib\\site-packages)\n",
      "WARNING: Ignoring invalid distribution -ip (c:\\users\\diego\\appdata\\roaming\\python\\python39\\site-packages)\n",
      "WARNING: Ignoring invalid distribution - (c:\\python39\\lib\\site-packages)\n",
      "WARNING: Ignoring invalid distribution -ip (c:\\users\\diego\\appdata\\roaming\\python\\python39\\site-packages)\n",
      "\n",
      "[notice] A new release of pip is available: 23.3.2 -> 24.0\n",
      "[notice] To update, run: python.exe -m pip install --upgrade pip\n"
     ]
    }
   ],
   "source": [
    "%pip install dimod\n"
   ]
  },
  {
   "cell_type": "code",
   "execution_count": 14,
   "id": "e6193cdb",
   "metadata": {
    "deletable": false,
    "nbgrader": {
     "cell_type": "code",
     "checksum": "65ec4aa23d9bcebe9c7666de225af4c4",
     "grade": false,
     "grade_id": "cell-519783454f9c6523",
     "locked": false,
     "schema_version": 3,
     "solution": true
    }
   },
   "outputs": [],
   "source": [
    "from dimod import BQM\n",
    "\n",
    "def create_bqm():\n",
    "    # YOUR CODE HERE\n",
    "    \n",
    "    # Coefficients for the linear terms\n",
    "    linear_terms = {1: -7, 2: -2, 3: -10, 4: -4}\n",
    "\n",
    "    # Coefficients for the quadratic terms\n",
    "    quadratic_terms = {(1, 2): 5, (1, 3): 3, (2, 3): 6, (3, 4): -8}\n",
    "\n",
    "    # Offset term\n",
    "    offset = -2\n",
    "\n",
    "    # Create the BQM instance\n",
    "    bqm = BQM('BINARY')\n",
    "\n",
    "    # Set the linear terms\n",
    "    bqm.add_variables_from(linear_terms)\n",
    "\n",
    "    # Set the quadratic terms\n",
    "    bqm.add_interactions_from(quadratic_terms)\n",
    "\n",
    "    # Set the offset\n",
    "    bqm.offset = offset\n",
    "    \n",
    "    # raise NotImplementedError()\n",
    "    # Do not modify anything below this line\n",
    "    return bqm\n"
   ]
  },
  {
   "cell_type": "code",
   "execution_count": 15,
   "id": "8b2ef48a",
   "metadata": {},
   "outputs": [
    {
     "name": "stdout",
     "output_type": "stream",
     "text": [
      "BinaryQuadraticModel({1: -7.0, 2: -2.0, 3: -10.0, 4: -4.0}, {(2, 1): 5.0, (3, 1): 3.0, (3, 2): 6.0, (4, 3): -8.0}, -2.0, 'BINARY')\n"
     ]
    }
   ],
   "source": [
    "# You can use this cell to call and check the output of the function\n",
    "\n",
    "print(create_bqm())"
   ]
  },
  {
   "cell_type": "code",
   "execution_count": 16,
   "id": "e1587a50",
   "metadata": {
    "deletable": false,
    "editable": false,
    "nbgrader": {
     "cell_type": "code",
     "checksum": "7a286b598bbe89fab85db133ff6c0861",
     "grade": true,
     "grade_id": "cell-bfefd43bc32d56e6",
     "locked": true,
     "points": 6,
     "schema_version": 3,
     "solution": false
    }
   },
   "outputs": [],
   "source": [
    "# hidden tests will be used for grading."
   ]
  },
  {
   "cell_type": "markdown",
   "id": "6fc9152d",
   "metadata": {},
   "source": [
    "## Question 2 (6 points)\n",
    "\n",
    "Function `solve_Q` takes as input a matrix representation of a QUBO formulation. Complete the function `solve_Q` so that it returns the solution to the given problem. Use D-Wave's `ExactSolver()`.\n",
    "\n",
    "\n",
    "The function `solve_Q` has\n",
    "\n",
    "- Input:\n",
    "    - Q matrix representation of QUBO as an `numpy.array`.\n",
    "- Returns:\n",
    "    - Sample with the lowest energy (first sample of the SampleSet)\n"
   ]
  },
  {
   "cell_type": "code",
   "execution_count": 17,
   "id": "cce12dad",
   "metadata": {
    "deletable": false,
    "nbgrader": {
     "cell_type": "code",
     "checksum": "2b6571a76bcad5961d29909ca14a4d12",
     "grade": false,
     "grade_id": "cell-c6fc493496abe710",
     "locked": false,
     "schema_version": 3,
     "solution": true
    }
   },
   "outputs": [],
   "source": [
    "from dimod import BQM\n",
    "\n",
    "def solve_Q(Q):\n",
    "    # YOUR CODE HERE\n",
    "\n",
    "    # Convert the Q matrix into a BQM\n",
    "    bqm = BQM.from_numpy_matrix(Q)\n",
    "\n",
    "    # Solve the BQM using ExactSolver\n",
    "    solver = ExactSolver()\n",
    "    sampleset = solver.sample(bqm)\n",
    "\n",
    "    # raise NotImplementedError()\n",
    "    # Do not modify anything below this line\n",
    "    return sampleset.first\n"
   ]
  },
  {
   "cell_type": "code",
   "execution_count": 18,
   "id": "7e561dd7",
   "metadata": {},
   "outputs": [
    {
     "name": "stdout",
     "output_type": "stream",
     "text": [
      "Sample(sample={0: 0, 1: 0}, energy=0.0, num_occurrences=1)\n"
     ]
    },
    {
     "name": "stderr",
     "output_type": "stream",
     "text": [
      "C:\\Users\\diego\\AppData\\Local\\Temp\\ipykernel_21232\\1344169528.py:7: DeprecationWarning: BQM.from_numpy_matrix(M) is deprecated since dimod 0.10.0 and will be removed in 0.12.0. Use BQM(M, \"BINARY\") instead.\n",
      "  bqm = BQM.from_numpy_matrix(Q)\n"
     ]
    }
   ],
   "source": [
    "# You can use this cell to call and check the output of the function\n",
    "import numpy as np\n",
    "from dimod.reference.samplers import ExactSolver\n",
    "\n",
    "Q = np.array([[1, 1], [0, 1]])\n",
    "print(solve_Q(Q))\n"
   ]
  },
  {
   "cell_type": "code",
   "execution_count": 19,
   "id": "9793fb7a",
   "metadata": {
    "deletable": false,
    "editable": false,
    "nbgrader": {
     "cell_type": "code",
     "checksum": "846b0a64cace0d7572f2263fe479fe53",
     "grade": true,
     "grade_id": "cell-bddecad407041e7b",
     "locked": true,
     "points": 6,
     "schema_version": 3,
     "solution": false
    }
   },
   "outputs": [],
   "source": [
    "# hidden tests will be used for grading."
   ]
  },
  {
   "cell_type": "markdown",
   "id": "17843fc3",
   "metadata": {},
   "source": [
    "## Question 3 (6 points)\n",
    "\n",
    "You are given a graph $G$ in the next cell where the nodes are labeled $0,1,\\dots,8$. Create a BQM with `SPIN` variables to solve Max-Cut problem for the given graph. Variables should be named with the name of the correspoding node.\n",
    "\n",
    "The function `max_cut` has\n",
    "\n",
    "- Input: None \n",
    "- Returns:\n",
    "    - BQM with SPIN variables for graph `G`\n"
   ]
  },
  {
   "cell_type": "code",
   "execution_count": 20,
   "id": "a5592fb5",
   "metadata": {},
   "outputs": [
    {
     "name": "stdout",
     "output_type": "stream",
     "text": [
      "Requirement already satisfied: networkx in c:\\python39\\lib\\site-packages (3.2.1)Note: you may need to restart the kernel to use updated packages.\n",
      "\n"
     ]
    },
    {
     "name": "stderr",
     "output_type": "stream",
     "text": [
      "WARNING: Ignoring invalid distribution -ip (c:\\users\\diego\\appdata\\roaming\\python\\python39\\site-packages)\n",
      "WARNING: Ignoring invalid distribution -ip (c:\\users\\diego\\appdata\\roaming\\python\\python39\\site-packages)\n",
      "WARNING: Ignoring invalid distribution - (c:\\python39\\lib\\site-packages)\n",
      "WARNING: Ignoring invalid distribution -ip (c:\\users\\diego\\appdata\\roaming\\python\\python39\\site-packages)\n",
      "WARNING: Ignoring invalid distribution - (c:\\python39\\lib\\site-packages)\n",
      "WARNING: Ignoring invalid distribution -ip (c:\\users\\diego\\appdata\\roaming\\python\\python39\\site-packages)\n",
      "\n",
      "[notice] A new release of pip is available: 23.3.2 -> 24.0\n",
      "[notice] To update, run: python.exe -m pip install --upgrade pip\n"
     ]
    },
    {
     "data": {
      "text/plain": [
       "EdgeView([(0, 1), (0, 2), (0, 3), (1, 2), (1, 3), (2, 3), (3, 4), (4, 5), (5, 6), (6, 7), (7, 8)])"
      ]
     },
     "execution_count": 20,
     "metadata": {},
     "output_type": "execute_result"
    },
    {
     "data": {
      "image/png": "[encoded data removed]",
      "text/plain": [
       "<Figure size 640x480 with 1 Axes>"
      ]
     },
     "metadata": {},
     "output_type": "display_data"
    }
   ],
   "source": [
    "%pip install networkx\n",
    "\n",
    "import networkx as nx\n",
    "\n",
    "G = nx.lollipop_graph(4, 5)\n",
    "nx.draw(G, with_labels=True)\n",
    "G.edges\n"
   ]
  },
  {
   "cell_type": "code",
   "execution_count": 21,
   "id": "e04b999b",
   "metadata": {
    "deletable": false,
    "nbgrader": {
     "cell_type": "code",
     "checksum": "af408f948e7ff5425a4888914a563fe4",
     "grade": false,
     "grade_id": "cell-04b50f7066c6da97",
     "locked": false,
     "schema_version": 3,
     "solution": true
    }
   },
   "outputs": [],
   "source": [
    "from dimod import BQM\n",
    "\n",
    "def max_cut():\n",
    "    # YOUR CODE HERE\n",
    "\n",
    "    # Create the graph\n",
    "    G = nx.lollipop_graph(4, 5)\n",
    "    \n",
    "    # Create a BQM instance with SPIN variables\n",
    "    bqm = BQM('SPIN')\n",
    "    \n",
    "    # Add linear biases\n",
    "    for node in G.nodes:\n",
    "        bqm.add_variable(node, 0.0)  # Initialize all linear biases to 0\n",
    "    \n",
    "    # Add quadratic biases\n",
    "    for edge in G.edges:\n",
    "        bqm.add_interaction(*edge, 1.0)  # Set quadratic bias to 1 for each edge\n",
    "\n",
    "    # raise NotImplementedError()\n",
    "    # Do not modify anything below this line\n",
    "    return bqm\n"
   ]
  },
  {
   "cell_type": "code",
   "execution_count": 22,
   "id": "c19ddac9",
   "metadata": {},
   "outputs": [
    {
     "name": "stdout",
     "output_type": "stream",
     "text": [
      "BinaryQuadraticModel({0: 0.0, 1: 0.0, 2: 0.0, 3: 0.0, 4: 0.0, 5: 0.0, 6: 0.0, 7: 0.0, 8: 0.0}, {(1, 0): 1.0, (2, 0): 1.0, (2, 1): 1.0, (3, 0): 1.0, (3, 1): 1.0, (3, 2): 1.0, (4, 3): 1.0, (5, 4): 1.0, (6, 5): 1.0, (7, 6): 1.0, (8, 7): 1.0}, 0.0, 'SPIN')\n"
     ]
    }
   ],
   "source": [
    "# You can use this cell to call and check the output of the function\n",
    "print(max_cut())\n"
   ]
  },
  {
   "cell_type": "code",
   "execution_count": 23,
   "id": "42f66c03",
   "metadata": {
    "deletable": false,
    "editable": false,
    "nbgrader": {
     "cell_type": "code",
     "checksum": "4b940c935a9203e433a62eda7bd0415b",
     "grade": true,
     "grade_id": "cell-c0db5152684f0877",
     "locked": true,
     "points": 6,
     "schema_version": 3,
     "solution": false
    }
   },
   "outputs": [],
   "source": [
    "# hidden tests will be used for grading.\n",
    "# If this cell results in an error, your implementation is incorrect"
   ]
  }
 ],
 "metadata": {
  "kernelspec": {
   "display_name": "Python 3 (ipykernel)",
   "language": "python",
   "name": "python3"
  },
  "language_info": {
   "codemirror_mode": {
    "name": "ipython",
    "version": 3
   },
   "file_extension": ".py",
   "mimetype": "text/x-python",
   "name": "python",
   "nbconvert_exporter": "python",
   "pygments_lexer": "ipython3",
   "version": "3.9.1"
  }
 },
 "nbformat": 4,
 "nbformat_minor": 5
}
