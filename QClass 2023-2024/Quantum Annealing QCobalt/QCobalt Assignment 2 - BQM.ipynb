{
 "cells": [
  {
   "cell_type": "markdown",
   "id": "educational-petersburg",
   "metadata": {},
   "source": [
    "# Instructions\n",
    "\n",
    "The places where you have enter code, to answer the questions, are marked with `# YOUR CODE HERE`. Once you have written your code you should remove any `raise NotImplementedError()` statements.\n",
    "\n"
   ]
  },
  {
   "cell_type": "markdown",
   "id": "fedb9ec3",
   "metadata": {},
   "source": [
    "## Question 1 (6 points)\n",
    "\n",
    "Given the following QUBO, complete the function `create_bqm` so that it returns the corresponding BQM.\n",
    "\n",
    "$$- 7x_1 - 2x_2 - 10x_3 - 4x_4 + 5x_1x_2 + 3x_1x_3 + 6x_2x_3 - 8x_3x_4 - 2$$\n",
    "\n",
    "\n",
    "The function `create_bqm` has\n",
    "\n",
    "- Input: None\n",
    "- Returns:\n",
    "    - A BQM instance\n"
   ]
  },
  {
   "cell_type": "code",
   "execution_count": 2,
   "id": "c1d135aa",
   "metadata": {},
   "outputs": [
    {
     "name": "stdout",
     "output_type": "stream",
     "text": [
      "Collecting dimod\n",
      "  Downloading dimod-0.12.14-cp39-cp39-win_amd64.whl.metadata (4.2 kB)\n",
      "Requirement already satisfied: numpy<2.0.0,>=1.17.3 in c:\\users\\diego\\appdata\\roaming\\python\\python39\\site-packages (from dimod) (1.26.0)\n",
      "Downloading dimod-0.12.14-cp39-cp39-win_amd64.whl (5.1 MB)\n",
      "   ---------------------------------------- 0.0/5.1 MB ? eta -:--:--\n",
      "   ---------------------------------------- 0.0/5.1 MB 1.4 MB/s eta 0:00:04\n",
      "   - -------------------------------------- 0.2/5.1 MB 1.5 MB/s eta 0:00:04\n",
      "   -- ------------------------------------- 0.3/5.1 MB 1.8 MB/s eta 0:00:03\n",
      "   -- ------------------------------------- 0.4/5.1 MB 1.9 MB/s eta 0:00:03\n",
      "   --- ------------------------------------ 0.5/5.1 MB 1.9 MB/s eta 0:00:03\n",
      "   ---- ----------------------------------- 0.5/5.1 MB 1.8 MB/s eta 0:00:03\n",
      "   ---- ----------------------------------- 0.5/5.1 MB 1.8 MB/s eta 0:00:03\n",
      "   ---- ----------------------------------- 0.6/5.1 MB 1.4 MB/s eta 0:00:04\n",
      "   ------ --------------------------------- 0.8/5.1 MB 1.8 MB/s eta 0:00:03\n",
      "   ------- -------------------------------- 0.9/5.1 MB 1.8 MB/s eta 0:00:03\n",
      "   ------- -------------------------------- 1.0/5.1 MB 1.8 MB/s eta 0:00:03\n",
      "   -------- ------------------------------- 1.0/5.1 MB 1.8 MB/s eta 0:00:03\n",
      "   -------- ------------------------------- 1.1/5.1 MB 1.8 MB/s eta 0:00:03\n",
      "   --------- ------------------------------ 1.2/5.1 MB 1.7 MB/s eta 0:00:03\n",
      "   ---------- ----------------------------- 1.3/5.1 MB 1.7 MB/s eta 0:00:03\n",
      "   ---------- ----------------------------- 1.3/5.1 MB 1.7 MB/s eta 0:00:03\n",
      "   ----------- ---------------------------- 1.4/5.1 MB 1.7 MB/s eta 0:00:03\n",
      "   ----------- ---------------------------- 1.5/5.1 MB 1.7 MB/s eta 0:00:03\n",
      "   ----------- ---------------------------- 1.5/5.1 MB 1.7 MB/s eta 0:00:03\n",
      "   ------------ --------------------------- 1.6/5.1 MB 1.6 MB/s eta 0:00:03\n",
      "   ------------ --------------------------- 1.6/5.1 MB 1.6 MB/s eta 0:00:03\n",
      "   ------------- -------------------------- 1.7/5.1 MB 1.6 MB/s eta 0:00:03\n",
      "   ------------- -------------------------- 1.7/5.1 MB 1.6 MB/s eta 0:00:03\n",
      "   ------------- -------------------------- 1.8/5.1 MB 1.5 MB/s eta 0:00:03\n",
      "   -------------- ------------------------- 1.8/5.1 MB 1.5 MB/s eta 0:00:03\n",
      "   -------------- ------------------------- 1.9/5.1 MB 1.5 MB/s eta 0:00:03\n",
      "   --------------- ------------------------ 1.9/5.1 MB 1.5 MB/s eta 0:00:03\n",
      "   --------------- ------------------------ 1.9/5.1 MB 1.4 MB/s eta 0:00:03\n",
      "   --------------- ------------------------ 2.0/5.1 MB 1.4 MB/s eta 0:00:03\n",
      "   ---------------- ----------------------- 2.0/5.1 MB 1.4 MB/s eta 0:00:03\n",
      "   ---------------- ----------------------- 2.1/5.1 MB 1.4 MB/s eta 0:00:03\n",
      "   ----------------- ---------------------- 2.2/5.1 MB 1.4 MB/s eta 0:00:03\n",
      "   ----------------- ---------------------- 2.2/5.1 MB 1.4 MB/s eta 0:00:03\n",
      "   ----------------- ---------------------- 2.3/5.1 MB 1.4 MB/s eta 0:00:03\n",
      "   ------------------ --------------------- 2.3/5.1 MB 1.4 MB/s eta 0:00:02\n",
      "   ------------------ --------------------- 2.4/5.1 MB 1.3 MB/s eta 0:00:03\n",
      "   ------------------ --------------------- 2.4/5.1 MB 1.3 MB/s eta 0:00:03\n",
      "   ------------------- -------------------- 2.5/5.1 MB 1.3 MB/s eta 0:00:02\n",
      "   ------------------- -------------------- 2.5/5.1 MB 1.3 MB/s eta 0:00:02\n",
      "   ------------------- -------------------- 2.5/5.1 MB 1.3 MB/s eta 0:00:02\n",
      "   -------------------- ------------------- 2.6/5.1 MB 1.3 MB/s eta 0:00:02\n",
      "   -------------------- ------------------- 2.6/5.1 MB 1.3 MB/s eta 0:00:02\n",
      "   --------------------- ------------------ 2.7/5.1 MB 1.3 MB/s eta 0:00:02\n",
      "   --------------------- ------------------ 2.7/5.1 MB 1.3 MB/s eta 0:00:02\n",
      "   --------------------- ------------------ 2.8/5.1 MB 1.3 MB/s eta 0:00:02\n",
      "   ---------------------- ----------------- 2.8/5.1 MB 1.3 MB/s eta 0:00:02\n",
      "   ---------------------- ----------------- 2.9/5.1 MB 1.3 MB/s eta 0:00:02\n",
      "   ----------------------- ---------------- 2.9/5.1 MB 1.3 MB/s eta 0:00:02\n",
      "   ----------------------- ---------------- 3.0/5.1 MB 1.3 MB/s eta 0:00:02\n",
      "   ----------------------- ---------------- 3.0/5.1 MB 1.2 MB/s eta 0:00:02\n",
      "   ------------------------ --------------- 3.1/5.1 MB 1.2 MB/s eta 0:00:02\n",
      "   ------------------------ --------------- 3.1/5.1 MB 1.2 MB/s eta 0:00:02\n",
      "   ------------------------ --------------- 3.1/5.1 MB 1.2 MB/s eta 0:00:02\n",
      "   ------------------------- -------------- 3.2/5.1 MB 1.2 MB/s eta 0:00:02\n",
      "   ------------------------- -------------- 3.2/5.1 MB 1.2 MB/s eta 0:00:02\n",
      "   ------------------------- -------------- 3.3/5.1 MB 1.2 MB/s eta 0:00:02\n",
      "   -------------------------- ------------- 3.3/5.1 MB 1.2 MB/s eta 0:00:02\n",
      "   -------------------------- ------------- 3.3/5.1 MB 1.2 MB/s eta 0:00:02\n",
      "   -------------------------- ------------- 3.4/5.1 MB 1.2 MB/s eta 0:00:02\n",
      "   --------------------------- ------------ 3.4/5.1 MB 1.2 MB/s eta 0:00:02\n",
      "   --------------------------- ------------ 3.5/5.1 MB 1.2 MB/s eta 0:00:02\n",
      "   --------------------------- ------------ 3.5/5.1 MB 1.2 MB/s eta 0:00:02\n",
      "   --------------------------- ------------ 3.5/5.1 MB 1.2 MB/s eta 0:00:02\n",
      "   --------------------------- ------------ 3.5/5.1 MB 1.1 MB/s eta 0:00:02\n",
      "   ---------------------------- ----------- 3.6/5.1 MB 1.1 MB/s eta 0:00:02\n",
      "   ---------------------------- ----------- 3.6/5.1 MB 1.1 MB/s eta 0:00:02\n",
      "   ---------------------------- ----------- 3.6/5.1 MB 1.1 MB/s eta 0:00:02\n",
      "   ---------------------------- ----------- 3.6/5.1 MB 1.1 MB/s eta 0:00:02\n",
      "   ---------------------------- ----------- 3.7/5.1 MB 1.1 MB/s eta 0:00:02\n",
      "   ----------------------------- ---------- 3.7/5.1 MB 1.1 MB/s eta 0:00:02\n",
      "   ----------------------------- ---------- 3.7/5.1 MB 1.1 MB/s eta 0:00:02\n",
      "   ----------------------------- ---------- 3.7/5.1 MB 1.1 MB/s eta 0:00:02\n",
      "   ----------------------------- ---------- 3.7/5.1 MB 1.1 MB/s eta 0:00:02\n",
      "   ----------------------------- ---------- 3.8/5.1 MB 1.1 MB/s eta 0:00:02\n",
      "   ----------------------------- ---------- 3.8/5.1 MB 1.1 MB/s eta 0:00:02\n",
      "   ------------------------------ --------- 3.8/5.1 MB 1.0 MB/s eta 0:00:02\n",
      "   ------------------------------ --------- 3.8/5.1 MB 1.0 MB/s eta 0:00:02\n",
      "   ------------------------------ --------- 3.9/5.1 MB 1.0 MB/s eta 0:00:02\n",
      "   ------------------------------ --------- 3.9/5.1 MB 1.0 MB/s eta 0:00:02\n",
      "   ------------------------------ --------- 3.9/5.1 MB 1.0 MB/s eta 0:00:02\n",
      "   ------------------------------- -------- 3.9/5.1 MB 1.0 MB/s eta 0:00:02\n",
      "   ------------------------------- -------- 4.0/5.1 MB 1.0 MB/s eta 0:00:02\n",
      "   ------------------------------- -------- 4.0/5.1 MB 999.8 kB/s eta 0:00:02\n",
      "   ------------------------------- -------- 4.0/5.1 MB 994.7 kB/s eta 0:00:02\n",
      "   ------------------------------- -------- 4.0/5.1 MB 983.2 kB/s eta 0:00:02\n",
      "   ------------------------------- -------- 4.1/5.1 MB 980.6 kB/s eta 0:00:02\n",
      "   -------------------------------- ------- 4.1/5.1 MB 978.2 kB/s eta 0:00:02\n",
      "   -------------------------------- ------- 4.1/5.1 MB 966.2 kB/s eta 0:00:02\n",
      "   -------------------------------- ------- 4.1/5.1 MB 956.8 kB/s eta 0:00:02\n",
      "   -------------------------------- ------- 4.1/5.1 MB 948.8 kB/s eta 0:00:02\n",
      "   -------------------------------- ------- 4.1/5.1 MB 943.2 kB/s eta 0:00:02\n",
      "   -------------------------------- ------- 4.2/5.1 MB 941.3 kB/s eta 0:00:01\n",
      "   -------------------------------- ------- 4.2/5.1 MB 935.1 kB/s eta 0:00:01\n",
      "   --------------------------------- ------ 4.2/5.1 MB 930.7 kB/s eta 0:00:01\n",
      "   --------------------------------- ------ 4.2/5.1 MB 922.5 kB/s eta 0:00:01\n",
      "   --------------------------------- ------ 4.2/5.1 MB 916.6 kB/s eta 0:00:01\n",
      "   --------------------------------- ------ 4.3/5.1 MB 911.8 kB/s eta 0:00:01\n",
      "   --------------------------------- ------ 4.3/5.1 MB 911.8 kB/s eta 0:00:01\n",
      "   --------------------------------- ------ 4.3/5.1 MB 900.4 kB/s eta 0:00:01\n",
      "   ---------------------------------- ----- 4.3/5.1 MB 895.9 kB/s eta 0:00:01\n",
      "   ---------------------------------- ----- 4.3/5.1 MB 886.4 kB/s eta 0:00:01\n",
      "   ---------------------------------- ----- 4.4/5.1 MB 887.9 kB/s eta 0:00:01\n",
      "   ---------------------------------- ----- 4.4/5.1 MB 881.5 kB/s eta 0:00:01\n",
      "   ---------------------------------- ----- 4.4/5.1 MB 880.1 kB/s eta 0:00:01\n",
      "   ---------------------------------- ----- 4.4/5.1 MB 876.0 kB/s eta 0:00:01\n",
      "   ---------------------------------- ----- 4.4/5.1 MB 867.1 kB/s eta 0:00:01\n",
      "   ---------------------------------- ----- 4.4/5.1 MB 863.2 kB/s eta 0:00:01\n",
      "   ---------------------------------- ----- 4.4/5.1 MB 852.2 kB/s eta 0:00:01\n",
      "   ----------------------------------- ---- 4.5/5.1 MB 848.5 kB/s eta 0:00:01\n",
      "   ----------------------------------- ---- 4.5/5.1 MB 842.4 kB/s eta 0:00:01\n",
      "   ----------------------------------- ---- 4.5/5.1 MB 839.4 kB/s eta 0:00:01\n",
      "   ----------------------------------- ---- 4.5/5.1 MB 839.4 kB/s eta 0:00:01\n",
      "   ----------------------------------- ---- 4.5/5.1 MB 833.4 kB/s eta 0:00:01\n",
      "   ----------------------------------- ---- 4.5/5.1 MB 823.5 kB/s eta 0:00:01\n",
      "   ----------------------------------- ---- 4.5/5.1 MB 823.5 kB/s eta 0:00:01\n",
      "   ----------------------------------- ---- 4.5/5.1 MB 815.6 kB/s eta 0:00:01\n",
      "   ----------------------------------- ---- 4.6/5.1 MB 810.1 kB/s eta 0:00:01\n",
      "   ------------------------------------ --- 4.6/5.1 MB 800.8 kB/s eta 0:00:01\n",
      "   ------------------------------------ --- 4.6/5.1 MB 797.8 kB/s eta 0:00:01\n",
      "   ------------------------------------ --- 4.6/5.1 MB 791.1 kB/s eta 0:00:01\n",
      "   ------------------------------------ --- 4.6/5.1 MB 790.4 kB/s eta 0:00:01\n",
      "   ------------------------------------ --- 4.6/5.1 MB 787.6 kB/s eta 0:00:01\n",
      "   ------------------------------------ --- 4.7/5.1 MB 780.9 kB/s eta 0:00:01\n",
      "   ------------------------------------ --- 4.7/5.1 MB 778.2 kB/s eta 0:00:01\n",
      "   ------------------------------------ --- 4.7/5.1 MB 775.9 kB/s eta 0:00:01\n",
      "   ------------------------------------- -- 4.7/5.1 MB 775.3 kB/s eta 0:00:01\n",
      "   ------------------------------------- -- 4.7/5.1 MB 772.7 kB/s eta 0:00:01\n",
      "   ------------------------------------- -- 4.8/5.1 MB 768.0 kB/s eta 0:00:01\n",
      "   ------------------------------------- -- 4.8/5.1 MB 767.1 kB/s eta 0:00:01\n",
      "   ------------------------------------- -- 4.8/5.1 MB 766.6 kB/s eta 0:00:01\n",
      "   -------------------------------------- - 4.9/5.1 MB 765.4 kB/s eta 0:00:01\n",
      "   -------------------------------------- - 4.9/5.1 MB 763.0 kB/s eta 0:00:01\n",
      "   -------------------------------------- - 4.9/5.1 MB 762.2 kB/s eta 0:00:01\n",
      "   -------------------------------------- - 4.9/5.1 MB 761.5 kB/s eta 0:00:01\n",
      "   ---------------------------------------  5.0/5.1 MB 762.8 kB/s eta 0:00:01\n",
      "   ---------------------------------------  5.0/5.1 MB 761.5 kB/s eta 0:00:01\n",
      "   ---------------------------------------  5.0/5.1 MB 757.7 kB/s eta 0:00:01\n",
      "   ---------------------------------------  5.1/5.1 MB 756.6 kB/s eta 0:00:01\n",
      "   ---------------------------------------  5.1/5.1 MB 754.5 kB/s eta 0:00:01\n",
      "   ---------------------------------------  5.1/5.1 MB 754.5 kB/s eta 0:00:01\n",
      "   ---------------------------------------- 5.1/5.1 MB 747.9 kB/s eta 0:00:00\n",
      "Installing collected packages: dimod\n",
      "Successfully installed dimod-0.12.14\n",
      "Note: you may need to restart the kernel to use updated packages.\n"
     ]
    },
    {
     "name": "stderr",
     "output_type": "stream",
     "text": [
      "WARNING: Ignoring invalid distribution -ip (c:\\users\\diego\\appdata\\roaming\\python\\python39\\site-packages)\n",
      "WARNING: Ignoring invalid distribution -ip (c:\\users\\diego\\appdata\\roaming\\python\\python39\\site-packages)\n",
      "WARNING: Ignoring invalid distribution - (c:\\python39\\lib\\site-packages)\n",
      "WARNING: Ignoring invalid distribution -ip (c:\\users\\diego\\appdata\\roaming\\python\\python39\\site-packages)\n",
      "WARNING: Ignoring invalid distribution - (c:\\python39\\lib\\site-packages)\n",
      "WARNING: Ignoring invalid distribution -ip (c:\\users\\diego\\appdata\\roaming\\python\\python39\\site-packages)\n",
      "\n",
      "[notice] A new release of pip is available: 23.3.2 -> 24.0\n",
      "[notice] To update, run: python.exe -m pip install --upgrade pip\n"
     ]
    }
   ],
   "source": [
    "%pip install dimod\n"
   ]
  },
  {
   "cell_type": "code",
   "execution_count": 3,
   "id": "e6193cdb",
   "metadata": {
    "deletable": false,
    "nbgrader": {
     "cell_type": "code",
     "checksum": "65ec4aa23d9bcebe9c7666de225af4c4",
     "grade": false,
     "grade_id": "cell-519783454f9c6523",
     "locked": false,
     "schema_version": 3,
     "solution": true
    }
   },
   "outputs": [],
   "source": [
    "from dimod import BQM\n",
    "\n",
    "def create_bqm():\n",
    "    # YOUR CODE HERE\n",
    "    \n",
    "    \n",
    "    \n",
    "    \n",
    "    \n",
    "    # raise NotImplementedError()\n",
    "    # Do not modify anything below this line\n",
    "    return bqm"
   ]
  },
  {
   "cell_type": "code",
   "execution_count": null,
   "id": "8b2ef48a",
   "metadata": {},
   "outputs": [],
   "source": [
    "# You can use this cell to call and check the output of the function\n",
    "\n",
    "print(create_bqm())"
   ]
  },
  {
   "cell_type": "code",
   "execution_count": null,
   "id": "e1587a50",
   "metadata": {
    "deletable": false,
    "editable": false,
    "nbgrader": {
     "cell_type": "code",
     "checksum": "7a286b598bbe89fab85db133ff6c0861",
     "grade": true,
     "grade_id": "cell-bfefd43bc32d56e6",
     "locked": true,
     "points": 6,
     "schema_version": 3,
     "solution": false
    }
   },
   "outputs": [],
   "source": [
    "# hidden tests will be used for grading."
   ]
  },
  {
   "cell_type": "markdown",
   "id": "6fc9152d",
   "metadata": {},
   "source": [
    "## Question 2 (6 points)\n",
    "\n",
    "Function `solve_Q` takes as input a matrix representation of a QUBO formulation. Complete the function `solve_Q` so that it returns the solution to the given problem. Use D-Wave's `ExactSolver()`.\n",
    "\n",
    "\n",
    "The function `solve_Q` has\n",
    "\n",
    "- Input:\n",
    "    - Q matrix representation of QUBO as an `numpy.array`.\n",
    "- Returns:\n",
    "    - Sample with the lowest energy (first sample of the SampleSet)\n"
   ]
  },
  {
   "cell_type": "code",
   "execution_count": null,
   "id": "cce12dad",
   "metadata": {
    "deletable": false,
    "nbgrader": {
     "cell_type": "code",
     "checksum": "2b6571a76bcad5961d29909ca14a4d12",
     "grade": false,
     "grade_id": "cell-c6fc493496abe710",
     "locked": false,
     "schema_version": 3,
     "solution": true
    }
   },
   "outputs": [],
   "source": [
    "from dimod import BQM\n",
    "\n",
    "\n",
    "def solve_Q(Q):\n",
    "    # YOUR CODE HERE\n",
    "    raise NotImplementedError()\n",
    "    # Do not modify anything below this line\n",
    "    return sampleset.first"
   ]
  },
  {
   "cell_type": "code",
   "execution_count": null,
   "id": "7e561dd7",
   "metadata": {},
   "outputs": [],
   "source": [
    "# You can use this cell to call and check the output of the function\n",
    "import numpy as np\n",
    "from dimod.reference.samplers import ExactSolver\n",
    "\n",
    "\n",
    "Q = np.array([[1, 1], [0, 1]])\n",
    "print(solve_Q(Q))"
   ]
  },
  {
   "cell_type": "code",
   "execution_count": null,
   "id": "9793fb7a",
   "metadata": {
    "deletable": false,
    "editable": false,
    "nbgrader": {
     "cell_type": "code",
     "checksum": "846b0a64cace0d7572f2263fe479fe53",
     "grade": true,
     "grade_id": "cell-bddecad407041e7b",
     "locked": true,
     "points": 6,
     "schema_version": 3,
     "solution": false
    }
   },
   "outputs": [],
   "source": [
    "# hidden tests will be used for grading."
   ]
  },
  {
   "cell_type": "markdown",
   "id": "17843fc3",
   "metadata": {},
   "source": [
    "## Question 3 (6 points)\n",
    "\n",
    "You are given a graph $G$ in the next cell where the nodes are labeled $0,1,\\dots,8$. Create a BQM with `SPIN` variables to solve Max-Cut problem for the given graph. Variables should be named with the name of the correspoding node.\n",
    "\n",
    "The function `max_cut` has\n",
    "\n",
    "- Input: None \n",
    "- Returns:\n",
    "    - BQM with SPIN variables for graph `G`\n"
   ]
  },
  {
   "cell_type": "code",
   "execution_count": null,
   "id": "a5592fb5",
   "metadata": {},
   "outputs": [],
   "source": [
    "import networkx as nx\n",
    "\n",
    "G = nx.lollipop_graph(4, 5)\n",
    "nx.draw(G, with_labels=True)\n",
    "G.edges"
   ]
  },
  {
   "cell_type": "code",
   "execution_count": null,
   "id": "e04b999b",
   "metadata": {
    "deletable": false,
    "nbgrader": {
     "cell_type": "code",
     "checksum": "af408f948e7ff5425a4888914a563fe4",
     "grade": false,
     "grade_id": "cell-04b50f7066c6da97",
     "locked": false,
     "schema_version": 3,
     "solution": true
    }
   },
   "outputs": [],
   "source": [
    "from dimod import BQM\n",
    "\n",
    "\n",
    "def max_cut():\n",
    "    # YOUR CODE HERE\n",
    "    raise NotImplementedError()\n",
    "    # Do not modify anything below this line\n",
    "    return bqm"
   ]
  },
  {
   "cell_type": "code",
   "execution_count": null,
   "id": "c19ddac9",
   "metadata": {},
   "outputs": [],
   "source": [
    "# You can use this cell to call and check the output of the function\n",
    "print(max_cut())"
   ]
  },
  {
   "cell_type": "code",
   "execution_count": null,
   "id": "42f66c03",
   "metadata": {
    "deletable": false,
    "editable": false,
    "nbgrader": {
     "cell_type": "code",
     "checksum": "4b940c935a9203e433a62eda7bd0415b",
     "grade": true,
     "grade_id": "cell-c0db5152684f0877",
     "locked": true,
     "points": 6,
     "schema_version": 3,
     "solution": false
    }
   },
   "outputs": [],
   "source": [
    "# hidden tests will be used for grading.\n",
    "# If this cell results in an error, your implementation is incorrect"
   ]
  }
 ],
 "metadata": {
  "kernelspec": {
   "display_name": "Python 3 (ipykernel)",
   "language": "python",
   "name": "python3"
  },
  "language_info": {
   "codemirror_mode": {
    "name": "ipython",
    "version": 3
   },
   "file_extension": ".py",
   "mimetype": "text/x-python",
   "name": "python",
   "nbconvert_exporter": "python",
   "pygments_lexer": "ipython3",
   "version": "3.9.1"
  }
 },
 "nbformat": 4,
 "nbformat_minor": 5
}
