{
 "cells": [
  {
   "cell_type": "markdown",
   "id": "educational-petersburg",
   "metadata": {},
   "source": [
    "# Instructions\n",
    "\n",
    "The places where you have enter code, to answer the questions, are marked with `# YOUR CODE HERE`. Once you have written your code you should remove any `raise NotImplementedError()` statements.\n"
   ]
  },
  {
   "cell_type": "markdown",
   "id": "embedded-jason",
   "metadata": {},
   "source": [
    "## Question 1 (3 points)\n",
    "\n",
    "Complete the function `get_Q` that returns a $Q$ matrix for the following objective function:\n",
    "\n",
    "$$f(x_1, x_2, x_3, x_4) = 3x_1 + 2x_2 - x_3 - 4 x_4 + 2x_1x_3 - 5x_2x_4\n",
    ".$$\n",
    "\n",
    "The function `get_Q` has\n",
    "\n",
    "- Input: None\n",
    "- Returns:\n",
    "    - A `numpy.array` representing the $Q$ matrix\n"
   ]
  },
  {
   "cell_type": "code",
   "execution_count": 21,
   "id": "6d3d14bf",
   "metadata": {},
   "outputs": [
    {
     "name": "stdout",
     "output_type": "stream",
     "text": [
      "Requirement already satisfied: numpy in c:\\users\\diego\\appdata\\roaming\\python\\python39\\site-packages (1.26.0)Note: you may need to restart the kernel to use updated packages.\n"
     ]
    },
    {
     "name": "stderr",
     "output_type": "stream",
     "text": [
      "WARNING: Ignoring invalid distribution -ip (c:\\users\\diego\\appdata\\roaming\\python\\python39\\site-packages)\n",
      "WARNING: Ignoring invalid distribution -ip (c:\\users\\diego\\appdata\\roaming\\python\\python39\\site-packages)\n",
      "WARNING: Ignoring invalid distribution - (c:\\python39\\lib\\site-packages)\n",
      "WARNING: Ignoring invalid distribution -ip (c:\\users\\diego\\appdata\\roaming\\python\\python39\\site-packages)\n",
      "WARNING: Ignoring invalid distribution - (c:\\python39\\lib\\site-packages)\n",
      "WARNING: Ignoring invalid distribution -ip (c:\\users\\diego\\appdata\\roaming\\python\\python39\\site-packages)\n",
      "\n",
      "[notice] A new release of pip is available: 23.3.2 -> 24.0\n",
      "[notice] To update, run: python.exe -m pip install --upgrade pip\n"
     ]
    },
    {
     "name": "stdout",
     "output_type": "stream",
     "text": [
      "\n"
     ]
    }
   ],
   "source": [
    "%pip install numpy\n"
   ]
  },
  {
   "cell_type": "code",
   "execution_count": 22,
   "id": "f1e5b79d",
   "metadata": {
    "deletable": false,
    "nbgrader": {
     "cell_type": "code",
     "checksum": "64e2d1f3d204164297cc0a9521f86a95",
     "grade": false,
     "grade_id": "cell-38f6b069164a670f",
     "locked": false,
     "schema_version": 3,
     "solution": true
    }
   },
   "outputs": [],
   "source": [
    "import numpy as np\n",
    "\n",
    "def get_Q():\n",
    "    # YOUR CODE HERE\n",
    "    Q = np.zeros((4, 4))  # Initialize Q matrix with zeros\n",
    "    \n",
    "    # Assign coefficients of quadratic terms\n",
    "    Q[0, 0] = 0\n",
    "    Q[1, 1] = 0\n",
    "    Q[2, 2] = 0\n",
    "    Q[3, 3] = 0\n",
    "    Q[0, 2] = Q[2, 0] = 2  # Coefficient of x1*x3 term\n",
    "    Q[1, 3] = Q[3, 1] = -5  # Coefficient of x2*x4 term\n",
    "\n",
    "    # raise NotImplementedError()\n",
    "    # Do not modify anything below this line\n",
    "    return Q\n"
   ]
  },
  {
   "cell_type": "code",
   "execution_count": 23,
   "id": "1ce07a18",
   "metadata": {},
   "outputs": [
    {
     "name": "stdout",
     "output_type": "stream",
     "text": [
      "[[ 0.  0.  2.  0.]\n",
      " [ 0.  0.  0. -5.]\n",
      " [ 2.  0.  0.  0.]\n",
      " [ 0. -5.  0.  0.]]\n"
     ]
    }
   ],
   "source": [
    "# You can use this cell to call and check the output of the function\n",
    "\n",
    "print(get_Q())\n"
   ]
  },
  {
   "cell_type": "code",
   "execution_count": 24,
   "id": "5642d1af",
   "metadata": {
    "deletable": false,
    "editable": false,
    "nbgrader": {
     "cell_type": "code",
     "checksum": "646c06cd5cd654b8fe3d71489497fc8a",
     "grade": true,
     "grade_id": "cell-bbdba0df2544fae5",
     "locked": true,
     "points": 3,
     "schema_version": 3,
     "solution": false
    }
   },
   "outputs": [],
   "source": [
    "# hidden tests will be used for grading."
   ]
  },
  {
   "cell_type": "markdown",
   "id": "212a6fda",
   "metadata": {},
   "source": [
    "## Question 2 (5 points)\n",
    "\n",
    "Complete function `maximize` that takes as input a `Q` matrix and returns the vector that maximizes the objective function.\n",
    "\n",
    "The function `maximize` has\n",
    "\n",
    "- Input:\n",
    "    - A `numpy.array` representing $Q$ matrix\n",
    "- Returns:\n",
    "    - A `numpy.array` representing the vector that maximizes the objective function\n",
    "\n",
    "Hint: You can use the function `qubo_solver` given below. `qubo_solver` takes as input a `Q` matrix and returns the vector of variables that **minimizes** the corresponding function. \n"
   ]
  },
  {
   "cell_type": "code",
   "execution_count": 39,
   "id": "898526dd",
   "metadata": {},
   "outputs": [],
   "source": [
    "import itertools\n",
    "import numpy as np\n",
    "\n",
    "\n",
    "def qubo_solver(Q_matrix):\n",
    "    possible_values = {}\n",
    "    # A list of all the possible permutations for x vector\n",
    "    vec_permutations = itertools.product([0, 1], repeat=Q_matrix.shape[0])\n",
    "\n",
    "    for permutation in vec_permutations:\n",
    "        x = np.array(\n",
    "            [[var] for var in permutation]\n",
    "        )  # Converts the permutation into a column vector\n",
    "        value = (x.T).dot(Q_matrix).dot(x)\n",
    "        possible_values[\n",
    "            value[0][0]\n",
    "        ] = x  # Adds the value and its vector to the dictionary\n",
    "\n",
    "    min_value = min(possible_values.keys())  # Lowest value of the objective function\n",
    "    opt_vector = tuple(\n",
    "        possible_values[min_value].T[0]\n",
    "    )  # Optimum vector x that produces the lowest value\n",
    "\n",
    "    return opt_vector\n"
   ]
  },
  {
   "cell_type": "code",
   "execution_count": 26,
   "id": "bcee2a44",
   "metadata": {
    "deletable": false,
    "nbgrader": {
     "cell_type": "code",
     "checksum": "e2979510151a3b8cc1437bb1eddbc102",
     "grade": false,
     "grade_id": "cell-c401efc0413ae375",
     "locked": false,
     "schema_version": 3,
     "solution": true
    }
   },
   "outputs": [],
   "source": [
    "def maximize(Q):\n",
    "    # YOUR CODE HERE\n",
    "\n",
    "    # Negate the Q matrix to convert minimization to maximization\n",
    "    negated_Q = -Q.copy()\n",
    "\n",
    "    # Use the qubo_solver function to find the minimizing vector for the negated matrix\n",
    "    v = qubo_solver(negated_Q)\n",
    "\n",
    "    # raise NotImplementedError()\n",
    "    # Do not modify anything below this line\n",
    "    return v\n"
   ]
  },
  {
   "cell_type": "code",
   "execution_count": 27,
   "id": "4bd2d6fd",
   "metadata": {},
   "outputs": [
    {
     "name": "stdout",
     "output_type": "stream",
     "text": [
      "(1, 1)\n"
     ]
    }
   ],
   "source": [
    "# You can use this cell to call and check the output of the function\n",
    "\n",
    "Q = np.array([[1, 1], [0, -1]])\n",
    "\n",
    "print(maximize(Q))"
   ]
  },
  {
   "cell_type": "code",
   "execution_count": 28,
   "id": "f607822b",
   "metadata": {
    "deletable": false,
    "editable": false,
    "nbgrader": {
     "cell_type": "code",
     "checksum": "85d876fa846060258a3d5a1db75cdf9f",
     "grade": true,
     "grade_id": "cell-1b1294bdf3be4b24",
     "locked": true,
     "points": 1,
     "schema_version": 3,
     "solution": false
    }
   },
   "outputs": [],
   "source": [
    "# hidden tests will be used for grading."
   ]
  },
  {
   "cell_type": "code",
   "execution_count": 29,
   "id": "8de94169",
   "metadata": {
    "deletable": false,
    "editable": false,
    "nbgrader": {
     "cell_type": "code",
     "checksum": "4d05f2ec3b7ff8a6d0997004f483a812",
     "grade": true,
     "grade_id": "cell-d6bf539df0998547",
     "locked": true,
     "points": 2,
     "schema_version": 3,
     "solution": false
    }
   },
   "outputs": [],
   "source": [
    "# hidden tests will be used for grading."
   ]
  },
  {
   "cell_type": "code",
   "execution_count": 30,
   "id": "f5e16286",
   "metadata": {
    "deletable": false,
    "editable": false,
    "nbgrader": {
     "cell_type": "code",
     "checksum": "14bef62b3025fddc0e4120676335e853",
     "grade": true,
     "grade_id": "cell-21cc0a5109b7e29c",
     "locked": true,
     "points": 2,
     "schema_version": 3,
     "solution": false
    }
   },
   "outputs": [],
   "source": [
    "# hidden tests will be used for grading."
   ]
  },
  {
   "cell_type": "markdown",
   "id": "79e4a9b6",
   "metadata": {},
   "source": [
    "## Question 3 (5 points)\n",
    "\n",
    "Next questions are about the Knapsack Problem.\n",
    "\n",
    "Given $n$ items, each with an associated weight $w_i$ and cost $c_i$, the goal of the Knapsack problem is to pack as many items to maximize the value of the packed knapsack, while not exceeding the knapsack capacity $W$.\n",
    "\n",
    "Let $x_i$ be a binary variable that is equal to 1 if $i$'th item is selected and 0 otherwise. \n",
    "\n",
    "Complete the function `objective` so that it returns a string corresponding to the objective function\n",
    "\n",
    "$$\n",
    "\\max~~f(x_0,x_1,\\dots,x_{n-1})\n",
    "$$\n",
    "for the Knapsack Problem.\n",
    "\n",
    "The function `objective` has\n",
    "\n",
    "- Inputs:\n",
    "    - `n`: an `int` representing the number of items,\n",
    "    - `costs`: a list of $n$ elements corresponding to costs of the items,\n",
    "    - `weights`: a list of $n$ elements corresponding to the weights of the items,\n",
    "    - `W`: capacity of Knapsack\n",
    "            \n",
    "- Returns:\n",
    "    - A string representation of the objective function\n",
    "\n",
    "**String representation:** Ex: For $f(x_0,x_1)= 2x_0-3x_0x_1+x_1$, string representation is `2x_0-3x_0x_1+1x_1`. The order of the terms is not important i.e. `-3x_0x_1+1x_1+2x_0` is valid as well.\n"
   ]
  },
  {
   "cell_type": "code",
   "execution_count": 31,
   "id": "8a465407",
   "metadata": {
    "deletable": false,
    "nbgrader": {
     "cell_type": "code",
     "checksum": "38ca95f210526af55f60e8ca2d215d7a",
     "grade": false,
     "grade_id": "cell-ccc3e8211974ea3b",
     "locked": false,
     "schema_version": 3,
     "solution": true
    }
   },
   "outputs": [],
   "source": [
    "def objective(n, weights, costs, W):\n",
    "    # YOUR CODE HERE\n",
    "\n",
    "    # Initialize an empty string to build the objective function\n",
    "    objective_str = \"\"\n",
    "\n",
    "    # Iterate through each item\n",
    "    for i in range(n):\n",
    "        # Add the cost term for each item with its corresponding binary variable\n",
    "        objective_str += f\"{costs[i]}x_{i} + \"\n",
    "\n",
    "    # Add the constraint term for the knapsack capacity\n",
    "    objective_str += f\"-{W}x_{n}\"\n",
    "\n",
    "    # Remove the trailing \"+\" symbol\n",
    "    s = objective_str.replace(\" + -\", \" - \")\n",
    "\n",
    "    # raise NotImplementedError()\n",
    "    # Do not modify anything below this line\n",
    "    return s\n"
   ]
  },
  {
   "cell_type": "code",
   "execution_count": 32,
   "id": "c9460b3b",
   "metadata": {},
   "outputs": [
    {
     "name": "stdout",
     "output_type": "stream",
     "text": [
      "2x_0 + 7x_1 + 3x_2 + 4x_3 + 6x_4 - 10x_5\n"
     ]
    }
   ],
   "source": [
    "# You can use this cell to call and check the output of the function\n",
    "n = 5\n",
    "W = 10\n",
    "weights = [1, 4, 8, 2, 3]\n",
    "costs = [2, 7, 3, 4, 6]\n",
    "print(objective(n, weights, costs, W))\n"
   ]
  },
  {
   "cell_type": "code",
   "execution_count": 33,
   "id": "22641217",
   "metadata": {
    "deletable": false,
    "editable": false,
    "nbgrader": {
     "cell_type": "code",
     "checksum": "4fec8da10f90a18cd1429d65996bc7ab",
     "grade": true,
     "grade_id": "cell-81c76b781593fb55",
     "locked": true,
     "points": 2,
     "schema_version": 3,
     "solution": false
    }
   },
   "outputs": [],
   "source": [
    "# hidden tests will be used for grading."
   ]
  },
  {
   "cell_type": "code",
   "execution_count": 34,
   "id": "b0f6bcb3",
   "metadata": {
    "deletable": false,
    "editable": false,
    "nbgrader": {
     "cell_type": "code",
     "checksum": "2a094043464373f589a608e6a1c6d535",
     "grade": true,
     "grade_id": "cell-6420dcae94abbcbe",
     "locked": true,
     "points": 3,
     "schema_version": 3,
     "solution": false
    }
   },
   "outputs": [],
   "source": [
    "# hidden tests will be used for grading.\n",
    "# If this cell results in an error, your implementation is incorrect"
   ]
  },
  {
   "cell_type": "markdown",
   "id": "312cf060",
   "metadata": {},
   "source": [
    "## Question 4 (5 points)\n",
    "\n",
    "Complete the function `constraint` so that it returns a string corresponding to the constraint for the Knapsack Problem.\n",
    "\n",
    "The function `constraint` has\n",
    "\n",
    "- Inputs:\n",
    "    - `n`: an `int`, the number of items,\n",
    "    - `costs`: a list of $n$ elements corresponding to costs of the items,\n",
    "    - `weights`- a list of $n$ elements corresponding to the weights of the items,\n",
    "    - `W`-capacity of Knapsack\n",
    "            \n",
    "- Returns:\n",
    "    - A string representation of the constraint\n",
    "\n",
    "**String representation:** Ex: For constraint $1x_0+2x_2\\leq9$, string representation is `1x_0+2x_2<=9`. The order of the terms is not important i.e. `2x_2+1x_0<=9` is valid as well.\n"
   ]
  },
  {
   "cell_type": "code",
   "execution_count": 35,
   "id": "f4b2c11b",
   "metadata": {
    "deletable": false,
    "nbgrader": {
     "cell_type": "code",
     "checksum": "59350d5d5f4adacb171e02a40d2ce94a",
     "grade": false,
     "grade_id": "cell-a7461dc660168eaa",
     "locked": false,
     "schema_version": 3,
     "solution": true
    }
   },
   "outputs": [],
   "source": [
    "def constraint(n, weights, costs, W):\n",
    "    # YOUR CODE HERE\n",
    "\n",
    "    # Initialize an empty string to build the constraint\n",
    "    constraint_str = \"\"\n",
    "\n",
    "    # Iterate through each item\n",
    "    for i in range(n):\n",
    "        # Add the weight term for each item with its corresponding binary variable\n",
    "        constraint_str += f\"{weights[i]}x_{i} + \"\n",
    "\n",
    "    # Remove the trailing \"+\" symbol and add \"<=\" for the constraint\n",
    "    s = constraint_str[:-3] + f\" <= {W}\"\n",
    "\n",
    "    # raise NotImplementedError()\n",
    "    # Do not modify anything below this line\n",
    "    return s\n"
   ]
  },
  {
   "cell_type": "code",
   "execution_count": 36,
   "id": "5940eee1",
   "metadata": {},
   "outputs": [
    {
     "name": "stdout",
     "output_type": "stream",
     "text": [
      "1x_0 + 4x_1 + 8x_2 + 2x_3 + 3x_4 <= 10\n"
     ]
    }
   ],
   "source": [
    "# You can use this cell to call and check the output of the function\n",
    "n = 5\n",
    "W = 10\n",
    "weights = [1, 4, 8, 2, 3]\n",
    "costs = [2, 7, 3, 4, 6]\n",
    "print(constraint(n, weights, costs, W))\n"
   ]
  },
  {
   "cell_type": "code",
   "execution_count": 37,
   "id": "7128d6c3",
   "metadata": {
    "deletable": false,
    "editable": false,
    "nbgrader": {
     "cell_type": "code",
     "checksum": "16ae322c7cf43a7fb3ca630c90b6a560",
     "grade": true,
     "grade_id": "cell-3ad9bc7a2fa294d5",
     "locked": true,
     "points": 2,
     "schema_version": 3,
     "solution": false
    }
   },
   "outputs": [],
   "source": [
    "# hidden tests will be used for grading."
   ]
  },
  {
   "cell_type": "code",
   "execution_count": 38,
   "id": "4dba34f3",
   "metadata": {
    "deletable": false,
    "editable": false,
    "nbgrader": {
     "cell_type": "code",
     "checksum": "db94f449d76aede3ae1b75796d0a1a8b",
     "grade": true,
     "grade_id": "cell-5e470cd62589a7b2",
     "locked": true,
     "points": 3,
     "schema_version": 3,
     "solution": false
    }
   },
   "outputs": [],
   "source": [
    "# hidden tests will be used for grading."
   ]
  }
 ],
 "metadata": {
  "kernelspec": {
   "display_name": "Python 3 (ipykernel)",
   "language": "python",
   "name": "python3"
  },
  "language_info": {
   "codemirror_mode": {
    "name": "ipython",
    "version": 3
   },
   "file_extension": ".py",
   "mimetype": "text/x-python",
   "name": "python",
   "nbconvert_exporter": "python",
   "pygments_lexer": "ipython3",
   "version": "3.9.1"
  }
 },
 "nbformat": 4,
 "nbformat_minor": 5
}
