{
 "cells": [
  {
   "cell_type": "markdown",
   "id": "5bc6e963",
   "metadata": {},
   "source": [
    "<a href=\"https://qworld.net\" target=\"_blank\" align=\"left\"><img src=\"../qworld/images/header.jpg\"  align=\"left\"></a>\n",
    "<table> <tr>\n",
    "\n",
    "<table width=\"100%\"><td style=\"background-color:#ffffff;font-size:14px;font-style:italic;text-align:right;\">Prepared by <a href=\"http://cqtech.org\" target=\"_blank\"><b>CQTech</b></a>.</td></table>\n",
    "    \n",
    "$ \\newcommand{\\bra}[1]{\\langle #1|} $\n",
    "$ \\newcommand{\\ket}[1]{|#1\\rangle} $\n",
    "$ \\newcommand{\\braket}[2]{\\langle #1|#2\\rangle} $\n",
    "$ \\newcommand{\\dot}[2]{ #1 \\cdot #2} $\n",
    "$ \\newcommand{\\biginner}[2]{\\left\\langle #1,#2\\right\\rangle} $\n",
    "$ \\newcommand{\\mymatrix}[2]{\\left( \\begin{array}{#1} #2\\end{array} \\right)} $\n",
    "$ \\newcommand{\\myvector}[1]{\\mymatrix{c}{#1}} $\n",
    "$ \\newcommand{\\myrvector}[1]{\\mymatrix{r}{#1}} $\n",
    "$ \\newcommand{\\mypar}[1]{\\left( #1 \\right)} $\n",
    "$ \\newcommand{\\mybigpar}[1]{ \\Big( #1 \\Big)} $\n",
    "$ \\newcommand{\\sqrttwo}{\\frac{1}{\\sqrt{2}}} $\n",
    "$ \\newcommand{\\dsqrttwo}{\\dfrac{1}{\\sqrt{2}}} $\n",
    "$ \\newcommand{\\onehalf}{\\frac{1}{2}} $\n",
    "$ \\newcommand{\\donehalf}{\\dfrac{1}{2}} $\n",
    "$ \\newcommand{\\hadamard}{ \\mymatrix{rr}{ \\sqrttwo & \\sqrttwo \\\\ \\sqrttwo & -\\sqrttwo }} $\n",
    "$ \\newcommand{\\vzero}{\\myvector{1\\\\0}} $\n",
    "$ \\newcommand{\\vone}{\\myvector{0\\\\1}} $\n",
    "$ \\newcommand{\\vhadamardzero}{\\myvector{ \\sqrttwo \\\\  \\sqrttwo } } $\n",
    "$ \\newcommand{\\vhadamardone}{ \\myrvector{ \\sqrttwo \\\\ -\\sqrttwo } } $\n",
    "$ \\newcommand{\\myarray}[2]{ \\begin{array}{#1}#2\\end{array}} $\n",
    "$ \\newcommand{\\X}{ \\mymatrix{cc}{0 & 1 \\\\ 1 & 0}  } $\n",
    "$ \\newcommand{\\Z}{ \\mymatrix{rr}{1 & 0 \\\\ 0 & -1}  } $\n",
    "$ \\newcommand{\\Htwo}{ \\mymatrix{rrrr}{ \\frac{1}{2} & \\frac{1}{2} & \\frac{1}{2} & \\frac{1}{2} \\\\ \\frac{1}{2} & -\\frac{1}{2} & \\frac{1}{2} & -\\frac{1}{2} \\\\ \\frac{1}{2} & \\frac{1}{2} & -\\frac{1}{2} & -\\frac{1}{2} \\\\ \\frac{1}{2} & -\\frac{1}{2} & -\\frac{1}{2} & \\frac{1}{2} } } $\n",
    "$ \\newcommand{\\CNOT}{ \\mymatrix{cccc}{1 & 0 & 0 & 0 \\\\ 0 & 1 & 0 & 0 \\\\ 0 & 0 & 0 & 1 \\\\ 0 & 0 & 1 & 0} } $\n",
    "$ \\newcommand{\\norm}[1]{ \\left\\lVert #1 \\right\\rVert } $\n",
    "$ \\newcommand{\\pstate}[1]{ \\lceil \\mspace{-1mu} #1 \\mspace{-1.5mu} \\rfloor } $"
   ]
  },
  {
   "cell_type": "markdown",
   "id": "0751000c",
   "metadata": {},
   "source": [
    "# Anyons\n",
    "<hr>"
   ]
  },
  {
   "cell_type": "markdown",
   "id": "48f337aa",
   "metadata": {},
   "source": [
    "## Content\n",
    "\n",
    "1. [Topological equivalence](#100)\n",
    "1. [From 3D topology to 2D topology](#200)\n",
    "1. [Topological qubit with anyons](#300)\n",
    "    1. [Topological power of anyons](#310)\n",
    "    1. [The Fibonacci anyonic model](#320)\n",
    "        1. [Charges](#321)\n",
    "        1. [Fusion rules](#322)\n",
    "    1. [Topological qubits with 3 Fibonacci anyons](#330)\n",
    "1. [Topological quantum computation with anyons](#400)\n",
    "    1. [Braiding](#410)\n",
    "    1. [$F$ and $R$ matrices](#420)\n",
    "    \n",
    "[References](#bibliography)"
   ]
  },
  {
   "cell_type": "markdown",
   "id": "74958ec3",
   "metadata": {},
   "source": [
    "<hr>\n",
    "<a id=\"100\"></a>\n",
    "\n",
    "## 1. Topological Equivalence"
   ]
  },
  {
   "cell_type": "markdown",
   "id": "f277e2b2",
   "metadata": {},
   "source": [
    "Broadly speaking, topology is the study of geometrical shapes and their properties under continuous deformations like stretching, squeezing, or twisting. Cutting a shape or poking a hole in it do not constitute continuous deformations and, therefore, are not allowed deformations.\n",
    "\n",
    "In the famous example below, we can see how a mug (the handle on the mug is important here !) can be continuously deformed into a torus:\n"
   ]
  },
  {
   "cell_type": "markdown",
   "id": "9fd42d94",
   "metadata": {},
   "source": [
    "![](../images/Mug_and_Torus_morph.gif \"Animation by Lucas Vieira, Wikimedia. License: Public Domain.\")\n",
    "<center><i><b>Figure 1: </b> Continuous deformation of a mug into a torus.<br>\n",
    "    (Lucas Vieira, Wikimedia. License: Public Domain.)</i></center>"
   ]
  },
  {
   "cell_type": "markdown",
   "id": "1feee894",
   "metadata": {},
   "source": [
    "Having proven, at least visually, that a mug and a torus can be continuously be deformed into each other, we can then say that the two shapes are *topologically equivalent*, i.e., they have the same topological properties. In this case, the topological property shared by these two shapes is the single hole that is present in both of them. No matter how we continuously deform them, the resulting shapes will always have a single hole.\n",
    "\n",
    "\n",
    "This notion of topological equivalence between shapes is of the utmost importance in Topological Quantum Computing !"
   ]
  },
  {
   "cell_type": "markdown",
   "id": "01203551",
   "metadata": {},
   "source": [
    "<a id=\"task1\"></a>\n",
    "#### Task 1\n",
    "\n",
    "Using the definition of topological equivalence given above, classify the characters **{0, 1, 2, 5, 7, 8, D, L, M, N, B}** according to their topology, such that each character in a given class can be continuously deformed into another character in the same class."
   ]
  },
  {
   "cell_type": "markdown",
   "id": "da398159",
   "metadata": {},
   "source": [
    "[click for our solution](B00_Anyons_Solutions.ipynb#task1)"
   ]
  },
  {
   "cell_type": "markdown",
   "id": "36f3624e",
   "metadata": {},
   "source": [
    "<hr>\n",
    "<a id=\"200\"></a>\n",
    "\n",
    "## 2. From 3D Topology to 2D Topology\n",
    "\n",
    "Let's consider two indistinguishable particles, $p_1$ and $p_2$, in 3D space. Recall that in quantum mechanics, we describe particles' and systems of particles' space propagation with a wave function $\\psi(x,y,z)$ (which is an imaginary number), which we will just write as $\\psi$ for convenience. Thus, to describe our two particles, we would normally need two wave functions $\\psi_1$ and $\\psi_2$. But since the two particles are not distinguishable, we have to consider the wave function for the whole system of two particles $\\psi_{12}$.\n",
    "\n",
    "We now want to exchange the positions of our two particles. The simplest way we can do so is by taking $p_2$, and rotating it around $p_1$ by angle $\\Delta\\phi = 180°$, or $\\pi$ in radian. There are two different ways of applying this rotation:\n",
    "1. Clockwise: corresponding to $\\Delta\\phi = -\\pi$.\n",
    "1. Counterclockwise: corresponding to $\\Delta\\phi = +\\pi$."
   ]
  },
  {
   "cell_type": "markdown",
   "id": "af6cd173",
   "metadata": {},
   "source": [
    "![](../images/counterclockwise.gif \"A counterclockwise rotation.\")\n",
    "<center><i><b>Figure 2</b>: A particle rotating counterclockwise around another by $\\pi$. In a clockwise rotation, the blue path will be bellow the fixed particle instead of above it.</i></center><br>"
   ]
  },
  {
   "cell_type": "markdown",
   "id": "b6afdb0f",
   "metadata": {},
   "source": [
    "Such a rotation will change the wave function $\\psi_{12}$ to the rotated wavefunction $\\psi'_{12}$. The latter is related to the former by a global phase as follows:\n",
    "\n",
    "$$\\psi'_{12} = e^{i\\nu\\Delta\\phi}\\psi_{12}$$\n",
    "\n",
    "where $\\nu$ is a parameter which depends on the type of particles $p_1$ and $p_2$. (we will se what *'type'* means later). We can now explicitly write down the wave functions resulting from the two aforementioned possible rotations:\n",
    "\n",
    "\\begin{align}\n",
    "\\psi'_{12\\,clockwise} &= e^{-i\\nu\\pi}\\psi_{12}\\\\\n",
    "\\psi'_{12\\,counterclockwise} &= e^{+i\\nu\\pi}\\psi_{12}\n",
    "\\end{align}\n",
    "\n",
    "The two results seem to be different, each rotation yielding a different phase. *But are these rotations* ***really different*** ?\n",
    "\n",
    "If we pay close attention to what we just performed, we can clearly see that only the angle of rotation, $\\Delta\\phi$, is important, not the details of the path $p_2$ has taken around $p_1$. Therefore, to find out whether the two rotations are different or not, it is sufficient to check whether the clockwise path is ***topologically equivalent*** to the counterclockwise path.\n",
    "\n",
    "The figure below illustrates the path of the particle $p_2$. The line with an arrow attached to it, in 3D space,  starts from the initial position of $p_2$ and ends in its final position, with $p_1$ somewhere between the two ends. Let's now continuously deform this line around the $p_1-p_2$ axis: "
   ]
  },
  {
   "cell_type": "markdown",
   "id": "17ce17eb",
   "metadata": {},
   "source": [
    "![](../images/paths_equivalence.gif \"Checking the equivalance of the two paths\")\n",
    "<center><i><b>Figure 3</b>: The counterclockwise path is rotated around the $p_1-p_2$ axis. It matches the clockwise path at the end!</i></center><br>"
   ]
  },
  {
   "cell_type": "markdown",
   "id": "6a9d88c8",
   "metadata": {},
   "source": [
    "What we observe is that the clockwise and counterclockwise rotations are **equivalent** ! The first path has been *continuously deformed* into the second path, just like the mug from earlier.<br>\n",
    "Therefor,\n",
    "\n",
    "\\begin{align}\n",
    "\\psi'_{12\\,clockwise} &= \\psi'_{12\\,counterclockwise}\\\\\n",
    "\\end{align}\n",
    "From which follows\n",
    "\\begin{align}\n",
    "e^{-i\\nu\\pi}\\psi_{12} &= e^{+i\\nu\\pi}\\psi_{12}\\\\\n",
    "e^{-i\\nu\\pi} &= e^{+i\\nu\\pi}\\\\\n",
    "\\end{align}\n",
    "\n",
    "In the end, when we solve for $\\nu$, we get:\n",
    "\n",
    "$$\\nu = 0, 1$$\n",
    "\n",
    "Recall that $\\nu$ tells us what type of particles $p_1$ and $p_2$ are. In this case, we can only have two types of particles, corresponding to the two possible values of $\\nu$. These two types of particles are the well known  ***bosons*** for $\\nu=0$ (like photons) and ***fermions*** for $\\nu=1$ (like electrons)."
   ]
  },
  {
   "cell_type": "markdown",
   "id": "6628b37e",
   "metadata": {},
   "source": [
    "We have now seen how quantum mechanics allows for only bosons and fermions to exist in 3D space. But what if we were in 2D space? Would we still only have bosons and fermions?\n",
    "\n",
    "Let's go back a few steps and understand *why* we ended up with only bosons and fermions in 3D. After rotating $p_2$ around $p_1$, we had the following possible wave functions:\n",
    "\n",
    "\\begin{align}\n",
    "\\psi'_{12\\,clockwise} &= e^{-i\\nu\\pi}\\psi_{12}\\\\\n",
    "\\psi'_{12\\,counterclockwise} &= e^{+i\\nu\\pi}\\psi_{12}\n",
    "\\end{align}\n",
    "\n",
    "Then, we continuously deformed the path of $p_2$ **around** $p_1$. That is, we used the third dimension to avoid the particle $p_1$ and transform one path into the other. In 2D space, we no longer have access to that third dimension! We would then have to cut $p_2$'s path, and glue it back under $p_1$ to make the two paths equivalent. Is this allowed for the two paths to remain topologically equivalent? Of course not! We cannot continuously deform one path into the other in this case; the two paths are not topologically equivalent in two dimensions."
   ]
  },
  {
   "cell_type": "markdown",
   "id": "7c38ac54",
   "metadata": {},
   "source": [
    "![](../images/paths_inequivalence.gif \"Checking the equivalance of the two paths in 2D\")\n",
    "<center><i><b>Figure 4</b>: In 2D, the counterclockwise path cannot be continuously deformed to be superimposed on the clockwise path.</i></center><br>\n"
   ]
  },
  {
   "cell_type": "markdown",
   "id": "019f9674",
   "metadata": {},
   "source": [
    "Consequently, we no longer have a constraint on $\\nu$. In 2D, we can then have $\\nu=0$ (bosons), $\\nu=1$ (fermions), as well as *any* other value. In other words, we can have *any* type of particles. And they can behave like bosons, fermions, or *anything* in between. How shall we call these new 2D particles? *Any* ideas? Notice *any* recurring word? *Any*? **Anyons**!\n",
    "\n",
    "Anyons, unlike bosons and fermions, produce more interesting phases when rotated around each other. As we saw above, exchanging two bosons gives\n",
    "$$\\psi'_{12} = +\\psi_{12}$$\n",
    "\n",
    "And the exchange of two fermions gives\n",
    "$$\\psi'_{12} = -\\psi_{12}$$\n",
    "\n",
    "With anyons, however, the phase, $e^{\\pm i\\nu\\pi}$, is richer, thus more interesting, than just $\\pm1$. This allows us to change the state of a system of $N$ anyons into a non-trivial state (that is, not just multiplying it by $\\pm1$) by exchanging the anyons two-by-two. Therefore, **if we can make the state of these anyons change over time in a controlled way, we can perform computation!**"
   ]
  },
  {
   "cell_type": "markdown",
   "id": "41c60c7b",
   "metadata": {},
   "source": [
    "<hr>\n",
    "<a id=\"300\"></a>\n",
    "\n",
    "## 3. Topological Qubit with Anyons\n",
    "\n",
    "<a id=\"310\"></a>\n",
    "### 3.1 Topological Power of Anyons\n",
    "\n",
    "Let us take a moment to understand the implications of what we have learned in the last section.\n",
    "\n",
    "Suppose that we can somehow encode information in the state of a system of anyons. We already know that this state is only affected by the exchange of anyons within this system. As long as the anyons themselves are preserved, i.e., not destroyed, and no exchanges of anyons happen within the system, the global state in which we encoded our information remains unchanged!\n",
    "In other words, local pertubation that could affect the individual anyons do not affect the state of the total system. This is because the information was encoded in a topological property of the system. This property being the order of the anyons with respect to each others.\n"
   ]
  },
  {
   "cell_type": "markdown",
   "id": "6a2f3a0b",
   "metadata": {},
   "source": [
    "![](../images/perturbations.gif \"Local perturbations on anyons\")\n",
    "<center style=\"margin-right: 120px; margin-left: 120px;\"><i><b>Figure 5</b>: The environment causes small perturbations on individual anyons, but it's not enough to cause any exchanges. The anyons' order <b>red</b> - <b>blue</b> - <b>black</b> - <b>green</b> remains unchanged.</i></center><br>"
   ]
  },
  {
   "cell_type": "markdown",
   "id": "ade84c54",
   "metadata": {},
   "source": [
    "As we can see in the animation above, if a qubit was encoded in the local property of one of the four particles, the environment would've had a greater impact on it. This is what would happen if we had used, for example, the spin of an atom as a qubit. If the spin is flipped due to local perturbation, we lose our information.\n",
    "However, when the state of the qubit is encoded on a global property of the whole system, small perturbations from the environment have little impact on it. For perturbations to significantly affect the qubit, they would need to be strong enough to change the order of at least two anyons. Moreover, we can further protect our ***topological qubit*** just by increasing the distance between each pair of anyons."
   ]
  },
  {
   "cell_type": "markdown",
   "id": "51065b4a",
   "metadata": {},
   "source": [
    "\n",
    "With our understanding of how anyons work, let's start using them to create qubits. In the following sections, we will see how the qubit states $\\ket{0}$ and $\\ket{1}$ are encoded. After that, we will see how we can alter the qubits state by ***braiding*** anyons to perform computation.\n",
    "\n"
   ]
  },
  {
   "cell_type": "markdown",
   "id": "8ab79f84",
   "metadata": {},
   "source": [
    "<a id=\"320\"></a>\n",
    "### 3.2 The Fibonacci Anyonic Model\n",
    "\n",
    "In our description of anyons above, we have mentioned the parameter $\\nu$, called the *statistics*, and how it can take an infinite number of values. Recall that $\\nu = 0$ and $\\nu = 1$ correspond to bosons and fermions, respectively. In the case of anyons, each value of $\\nu$ corresponds to a specific type of anyons with different behaviors (like bosons and fermions behave differently). To be more rigorous, $\\nu$ is in general a matrix, but we will not delve into these mathematical details as they will be of little to no use to us for the rest of the course. In what follows, we will consider a type of anyons called **Fibonacci anyons**. These anyons have simple interaction rules, yet their behavior when exchanged is complex enough to allow for universal computation! Let's now see how Fibonacci anyons work."
   ]
  },
  {
   "cell_type": "markdown",
   "id": "5159914c",
   "metadata": {},
   "source": [
    "In particle physics, every particle is associated with an antiparticle. We have known this since the 1930s when Paul Dirac, as a result of his famous Dirac equation, predicted the existence of antimatter. It is also known that particles and their antiparticles annihilate each other when they interact, resulting in a release of energy, leaving only a vacuum where the interaction happened.\n",
    "Dirac's equation also tells us that this annihilation process can be reversed: using an amount of energy, we can create pairs of particles and antiparticles from the vacuum.\n",
    "\n",
    "Now, why are we talking about particle physics here? Well, it's because anyons also need to obey the laws of physics. Although their physics can be richer than the usual particle physics of our three dimensional world."
   ]
  },
  {
   "cell_type": "markdown",
   "id": "6aa600d6",
   "metadata": {},
   "source": [
    "<a id=\"321\"></a>\n",
    "#### Charges"
   ]
  },
  {
   "cell_type": "markdown",
   "id": "91b89305",
   "metadata": {},
   "source": [
    "Before describing the interactions of Fibanacci anyons, let us first define the notion of ***anyonic charge***: a single anyon has a charge $1$, while for the vacuum, or no anyons, the charge is $0$. The total charge of $N$ anyons is the charge of their fusion outcome, as we will see below.\n",
    "This charge is also **conserved**, i.e., in a closed system of anyons, the total charge remains constant. It is worth to mention that this notion of anyonic charge isn't a physical property, but rather a tool to simplify our notations later."
   ]
  },
  {
   "cell_type": "markdown",
   "id": "d26ca9a1",
   "metadata": {},
   "source": [
    "<img src=\"../images/charges.png\" width=\"300\"/><br>\n",
    "<center> <i><b>Figure 6:</b> Region $a$ encloses one anyon, its charge is thus $a = 1$.\n",
    "            Region $b$ encloses no anyons, so $b = 0$.<br>\n",
    "            Region $c$ encloses many anyons, so $c = 0$ or $1$, depending on their fusion outcome.</i> </center>"
   ]
  },
  {
   "cell_type": "markdown",
   "id": "9880610c",
   "metadata": {},
   "source": [
    "<a id=\"322\"></a>\n",
    "#### Fusion Rules"
   ]
  },
  {
   "cell_type": "markdown",
   "id": "b9906647",
   "metadata": {},
   "source": [
    "We can do two things with anyons: we can exchange them, and we can fuse them together. We will describe the fusion of anyons as follows:\n",
    "\n",
    "$$a \\times b = c$$\n",
    "\n",
    "This equation means that the fusion of charges $a$ and $b$, yields a charge $c$.\n",
    "\n",
    "In the Fibonacci model of anyons, the interactions, and more specifically the fusions can be summarized by the following fusion rules, where a Fibonacci anyon is designated using the charge $1$ and the vacuum using the charge $0$:\n",
    "\n",
    "\\begin{align}\n",
    "0 \\times 0 &= 0\\\\\n",
    "0 \\times 1 &= 1\\\\\n",
    "1 \\times 0 &= 1\\\\\n",
    "1 \\times 1 &= 0, 1\n",
    "\\end{align}\n",
    "\n",
    "1. The first rule states that fusing the vacuum (no anyons) with the vacuum, yields the vacuum. Trivial!\n",
    "1. The second rule states that fusing the vacuum with a Fibonacci anyon, yields an anyon.\n",
    "1. The third rule is the same as the second, and is just stated here for completeness.\n",
    "1. The fourth rule is more interesting: given two Fibonacci anyons, their fusion can result in either the vacuum or another Fibonacci anyon.\n",
    "\n",
    "The fusion of two Fibonacci anyons to the vaccum stated by the fourth rule ($1 \\times 1=0$) tells us two important things:<br>\n",
    "a. Fibonacci anyons are their own antiparticles if they fuse into a vacuum, annihilating each other.<br>\n",
    "b. If they annihilate each other, we can reverse that process and create pairs of anyons, each having a charge $1$, but both amounting to a charge $0$.\n",
    "\n",
    "Using the above stated rules, and using the last point about rule four, we have a process of creating anyons which will yield known fusion results."
   ]
  },
  {
   "cell_type": "markdown",
   "id": "cfcff56a",
   "metadata": {},
   "source": [
    "![](../images/pair_creation.gif \"Anyon pair creation\")\n",
    "<center style=\"margin-right: 120px; margin-left: 120px;\"><i><b>Figure 7:</b> A pair of anyons is created from the vacuum. Since before their creation there was a vacuum, the charge of the system of both anyons is $0$, and their fusion will yield the vacuum (charge $0$) with certainty.</i></center><br>"
   ]
  },
  {
   "cell_type": "markdown",
   "id": "f6a9fb24",
   "metadata": {},
   "source": [
    " <a id=\"330\"></a>\n",
    " ### 3.3 Topological Qubits with 3 Fibonacci Anyons"
   ]
  },
  {
   "cell_type": "markdown",
   "id": "4efd55fe",
   "metadata": {},
   "source": [
    "Now that we know how to create anyons (from the vacuum) and how to fuse them in the Fibonacci model, we can start encoding information on them, that is, creating qubits using anyons.\n",
    "\n",
    "There is a variety of ways for encoding qubits on Fibonacci anyons, and we will go with the easiest one: three-anyons qubits.\n",
    "In this case, we will use the fusion products of three anyons to represent our quantum states $\\ket{0}$ and $\\ket{1}$. So let's consider three Fibonacci anyons and, using the fusion rules described above, explore what are the possible outcomes when we fuse them.\n",
    "Recall that we can represent anyons with their charges, so the fusion of three anyons can be represented as:\n",
    "$$1 \\times 1 \\times 1$$\n",
    "\n",
    "We also need to specify which pair of anyons we fuse first. As a convention, we start by the leftmost pair:\n",
    "\n",
    "$$(1 \\times 1) \\times 1$$\n",
    "\n",
    "From the fourth fusion rule, we know that we will have multiple possible outcomes for the fusion of three anyons. In fact, we will have exactly 3 possibilities."
   ]
  },
  {
   "cell_type": "markdown",
   "id": "5e202cf6",
   "metadata": {},
   "source": [
    "<div>\n",
    "    <img src=\"../images/states.png\" width=\"300\"/><br>\n",
    "    <center style=\"margin-right: 120px; margin-left: 120px;\"><i><b>Figure 8: </b> Fusing three Fibonnacci anyons. We have three possible combinations of intermediate and final states. Qubit states are represented in function of the succession of fusion results. Only the fusions with a final state $1$ will be used for computation.</i></center><br>\n",
    "</div>"
   ]
  },
  {
   "cell_type": "markdown",
   "id": "e91bdc56",
   "metadata": {},
   "source": [
    "In the figure above, we can see all three possible successions when fusing three anyons. We will pick the two first ones with a final state 1 to use as our $\\{\\ket{0}, \\ket{1}\\}$ basis, while the last fusion scheme will be discarded. For completeness, we assign to it the state $\\ket{NC}$, for *Non-Computational* state, and we have to make sure that the quantum gates acting on a state $\\ket{\\psi} = \\alpha\\ket{0} + \\beta\\ket{1}$ give a state $\\ket{\\psi'} = \\alpha'\\ket{0} + \\beta'\\ket{1}$ which does not involve $\\ket{NC}$."
   ]
  },
  {
   "cell_type": "markdown",
   "id": "d1d736c1",
   "metadata": {},
   "source": [
    "<a id=\"task2\"></a>\n",
    "#### Task 2\n",
    "Show how to prepare the state $\\ket{0}$ using the fusion rules, and knowing that we can create anyon pairs from the vacuum."
   ]
  },
  {
   "cell_type": "markdown",
   "id": "483653c3",
   "metadata": {},
   "source": [
    "[click for our solution](B00_Anyons_Solutions.ipynb#task2)"
   ]
  },
  {
   "cell_type": "markdown",
   "id": "ac7d5e51",
   "metadata": {},
   "source": [
    "And there we have it! A topological qubit encoded using Fibonacci anyons, which can be prepared in a desired state."
   ]
  },
  {
   "cell_type": "markdown",
   "id": "eec22ae4",
   "metadata": {},
   "source": [
    "<hr>\n",
    "\n",
    "<a id=\"400\"></a>\n",
    "## 4. Topological Quantum Computation with Anyons"
   ]
  },
  {
   "cell_type": "markdown",
   "id": "e40ae5ca",
   "metadata": {},
   "source": [
    "<a id=\"410\"></a>\n",
    "### 4.1 Braiding\n",
    "\n",
    "Initializing qubits to a desired state is one of DiVincenzo's criteria that are necessary to build a quantum computer, but it's not enough to just initialize qubits and measure them. We need to be able to operate on these qubits using quantum gates.\n",
    "\n",
    "Recall that quantum gates, just like classical logic gates with bits, act on qubits to change their states in a meaningful way. We have already seen that exchanging anyons changes the overall state of the multiple-anyons system. Let's visualize how anyons exchanges happen in space-time, that is, what is the trail that anyons undergoing a series of exchanges leave behind in the $(x,t)$-plane, where $x$ is the position, and $t$ is time."
   ]
  },
  {
   "cell_type": "markdown",
   "id": "97959527",
   "metadata": {},
   "source": [
    "![](../images/braiding.gif \"Braiding anyons\")\n",
    "<center><i><b>Figure 9:</b> In this animation, we are exchanging three anyons in the $(x,y)$-plane. Time evolution of the positions is from left to right.</i></center><br>"
   ]
  },
  {
   "cell_type": "markdown",
   "id": "12380b2e",
   "metadata": {},
   "source": [
    "We can observe that exchanging anyons forms a ***braid*** in space-time, thus, the term *braiding* anyons, which we will use from now on instead of *exchanging* anyons.\n",
    "\n",
    "At this point, we need to explicitly define what we call the ***braiding operators***: these are the operators (matrices) that act on the states $\\ket{0}$ and $\\ket{1}$ when we exchange two of the three anyons that constitute the topological qubit we encoded above. The idea being that we can apply multiple braiding operators on a qubit to get it into a desired final state, such as a superposition state<br>\n",
    "$$\\ket{\\psi} = \\frac{1}{\\sqrt{2}}(\\ket{0} + \\ket{1}).$$ <br>\n",
    "In this case, the sequence of braiding operators we need to apply to get the state $\\ket{\\psi}$ would then be equivalent to a Hadamard gate.\n",
    "These braiding operators, denoted by $\\sigma$, and how they are used to approximate quantum gates will be discussed in the next notebook."
   ]
  },
  {
   "cell_type": "markdown",
   "id": "12f61883",
   "metadata": {},
   "source": [
    "<a id=\"420\"></a>\n",
    "### 4.2 $F$ and $R$ Matrices"
   ]
  },
  {
   "cell_type": "markdown",
   "id": "f0a0c9e0",
   "metadata": {},
   "source": [
    "In **Fig. 8**, we have seen that we fuse anyons from left to right, by convention. But what if we wanted to do it from right to left? How would this affect the outcome? \n",
    "The effect of changing the fusion process is illustrated by the $F$ matrix, which relates both fusion processes. This mirroring of the fusion process is called the ***F move***."
   ]
  },
  {
   "cell_type": "markdown",
   "id": "cae36969",
   "metadata": {},
   "source": [
    "<div>\n",
    "    <img src=\"../images/F_matrix.png\" width=\"350\"/><br>\n",
    "    <center style=\"margin-right: 120px; margin-left: 120px;\"><i><b>Figure 10:</b> Using the $F$ matrix, we can express the left-to-right fusion in terms of right-to-left fusions. $i$ and $j$, which are the intermediate anyons in both fusions, are also the row and column indices of $F$, respectively.</i></center><br>\n",
    "</div> "
   ]
  },
  {
   "cell_type": "markdown",
   "id": "b1e906d4",
   "metadata": {},
   "source": [
    "Given the intermediate charges $i$ and $j$, we can compute the effect of mirroring the fusion process, using the $F$ matrix, which is given as\n",
    "\n",
    "$$F = \\mymatrix{cc}{ \\frac{1}{\\Phi} & \\frac{1}{\\sqrt{\\Phi}} \\\\ \\frac{1}{\\sqrt{\\Phi}} & -\\frac{1}{\\Phi} },$$\n",
    "\n",
    "where $\\Phi$ is the golden number, which satisfies\n",
    "\n",
    "$$\\Phi^2 - \\Phi = 1,$$\n",
    "\n",
    "and is given by\n",
    "\n",
    "$$\\Phi = \\frac{1 + \\sqrt(5)}{2}.$$\n",
    "\n",
    "The computation illustrated in **Fig. 10** is done by fixing the value of $i$ to either $0$ or $1$, then summing over all possible values of $j$, which are also $0$ or $1$."
   ]
  },
  {
   "cell_type": "markdown",
   "id": "5cd36e9f",
   "metadata": {},
   "source": [
    "<a id=\"task3\"></a>\n",
    "#### Task 3\n",
    "\n",
    " Express the states $\\ket{0}$ and $\\ket{1}$, as described in **Fig. 8**, in terms of right-to-left fusions, using the $F$ matrix."
   ]
  },
  {
   "cell_type": "markdown",
   "id": "59e6bd22",
   "metadata": {},
   "source": [
    "[click for our solution](B00_Anyons_Solutions.ipynb#task3)"
   ]
  },
  {
   "cell_type": "markdown",
   "id": "8c9c5123",
   "metadata": {},
   "source": [
    "<a id=\"task4\"></a>\n",
    "#### Task 4\n",
    "\n",
    "Show that the states $\\ket{j}$, represented by the righthand side diagram in **Fig. 10**, are orthogonal to each other. That is, $\\braket{j}{j'} = 0$ if $j' \\neq j$. We will consider $\\braket{j}{j} = 1$."
   ]
  },
  {
   "cell_type": "markdown",
   "id": "793754cf",
   "metadata": {},
   "source": [
    "[click for our solution](B00_Anyons_Solutions.ipynb#task4)"
   ]
  },
  {
   "cell_type": "markdown",
   "id": "e5f54430",
   "metadata": {},
   "source": [
    "In a addition to the *F move*, we also have the ***R move***, which is simply the **clockwise** exchange of the two left most anyons of the topological qubit before their fusion."
   ]
  },
  {
   "cell_type": "markdown",
   "id": "e8ea881c",
   "metadata": {},
   "source": [
    "<div>\n",
    "    <img src=\"../images/R_matrix.png\" width=\"200\"/><br>\n",
    "    <center style=\"margin-right: 120px; margin-left: 120px;\"><i><b>Figure 11:</b> $R$ is a diagonal matrix which represents the operation corresponding to a clockwise interchanging of anyonic charges $a$ and $b$ before fusing to give $c$.</i></center><br>\n",
    "</div>  "
   ]
  },
  {
   "cell_type": "markdown",
   "id": "437ec399",
   "metadata": {},
   "source": [
    "The matrix $R_{[11]}$ needed to interchange two anyons (corresponding to two topological charges of 1) in the Fibonacci model is given by:\n",
    "\n",
    "$$R_{[11]} = \\mymatrix{cc}{e^{-\\frac{4i \\pi}{5}} & 0 \\\\ 0 & e^{\\frac{3i \\pi}{5}}}$$\n",
    "\n",
    "The counterclockwise exchange will then be given by $R^{-1}$.\n",
    "Notice that if we recall the definition of the braiding operator, we can immediately notice that $R$ represents a clockwise braiding operator of 2 anyons!\n",
    "\n",
    "Since in TQC, computation is performed by braiding anyons, and thus by application of braiding operators, the $F$ and $R$ matrices will only be necessary to us as tools to construct these operators.\n",
    "We will get to use them in the next notebook, where we will delve deeper into braiding and implementing computations with anyons."
   ]
  },
  {
   "cell_type": "markdown",
   "id": "eeecdfee",
   "metadata": {},
   "source": [
    "<hr>\n",
    "\n",
    "<a id=\"bibliography\"></a>\n",
    "## References\n",
    " * Alberto Lerda, *Anyons : quantum mechanics of particles with fractional statistics*, Springer-Verlag, (1992).\n",
    " * Jiannis K. Pachos, *Introduction to topological quantum computation*, Cambridge University Press, (2012).\n",
    " * M. T. Rouabah, N. E. Belaloui, and A. Tounsi, *Compiling single-qubit braiding gate for Fibonacci anyons topological quantum computation*,  Journal of Physics: Conference Series, **1766**, 012029 (2021)."
   ]
  },
  {
   "cell_type": "markdown",
   "id": "ebc8bd21",
   "metadata": {},
   "source": [
    " \n",
    " "
   ]
  }
 ],
 "metadata": {
  "kernelspec": {
   "display_name": "Python 3 (ipykernel)",
   "language": "python",
   "name": "python3"
  },
  "language_info": {
   "codemirror_mode": {
    "name": "ipython",
    "version": 3
   },
   "file_extension": ".py",
   "mimetype": "text/x-python",
   "name": "python",
   "nbconvert_exporter": "python",
   "pygments_lexer": "ipython3",
   "version": "3.8.13"
  }
 },
 "nbformat": 4,
 "nbformat_minor": 5
}
