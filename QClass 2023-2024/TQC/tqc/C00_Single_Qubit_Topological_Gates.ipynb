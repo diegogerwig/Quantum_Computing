{
 "cells": [
  {
   "cell_type": "markdown",
   "id": "cf7b0e87",
   "metadata": {},
   "source": [
    "<a href=\"https://qworld.net\" target=\"_blank\" align=\"left\"><img src=\"../qworld/images/header.jpg\"  align=\"left\"></a>\n",
    "<table> <tr>\n",
    "\n",
    "<table width=\"100%\"><td style=\"background-color:#ffffff;font-size:14px;font-style:italic;text-align:right;\">Prepared by <a href=\"http://cqtech.org\" target=\"_blank\"><b>CQTech</b></a>.</td></table>\n",
    "    \n",
    "$ \\newcommand{\\bra}[1]{\\langle #1|} $\n",
    "$ \\newcommand{\\ket}[1]{|#1\\rangle} $\n",
    "$ \\newcommand{\\braket}[2]{\\langle #1|#2\\rangle} $\n",
    "$ \\newcommand{\\dot}[2]{ #1 \\cdot #2} $\n",
    "$ \\newcommand{\\biginner}[2]{\\left\\langle #1,#2\\right\\rangle} $\n",
    "$ \\newcommand{\\mymatrix}[2]{\\left( \\begin{array}{#1} #2\\end{array} \\right)} $\n",
    "$ \\newcommand{\\myvector}[1]{\\mymatrix{c}{#1}} $\n",
    "$ \\newcommand{\\myrvector}[1]{\\mymatrix{r}{#1}} $\n",
    "$ \\newcommand{\\mypar}[1]{\\left( #1 \\right)} $\n",
    "$ \\newcommand{\\mybigpar}[1]{ \\Big( #1 \\Big)} $\n",
    "$ \\newcommand{\\sqrttwo}{\\frac{1}{\\sqrt{2}}} $\n",
    "$ \\newcommand{\\dsqrttwo}{\\dfrac{1}{\\sqrt{2}}} $\n",
    "$ \\newcommand{\\onehalf}{\\frac{1}{2}} $\n",
    "$ \\newcommand{\\donehalf}{\\dfrac{1}{2}} $\n",
    "$ \\newcommand{\\hadamard}{ \\mymatrix{rr}{ \\sqrttwo & \\sqrttwo \\\\ \\sqrttwo & -\\sqrttwo }} $\n",
    "$ \\newcommand{\\vzero}{\\myvector{1\\\\0}} $\n",
    "$ \\newcommand{\\vone}{\\myvector{0\\\\1}} $\n",
    "$ \\newcommand{\\vhadamardzero}{\\myvector{ \\sqrttwo \\\\  \\sqrttwo } } $\n",
    "$ \\newcommand{\\vhadamardone}{ \\myrvector{ \\sqrttwo \\\\ -\\sqrttwo } } $\n",
    "$ \\newcommand{\\myarray}[2]{ \\begin{array}{#1}#2\\end{array}} $\n",
    "$ \\newcommand{\\X}{ \\mymatrix{cc}{0 & 1 \\\\ 1 & 0}  } $\n",
    "$ \\newcommand{\\Z}{ \\mymatrix{rr}{1 & 0 \\\\ 0 & -1}  } $\n",
    "$ \\newcommand{\\Htwo}{ \\mymatrix{rrrr}{ \\frac{1}{2} & \\frac{1}{2} & \\frac{1}{2} & \\frac{1}{2} \\\\ \\frac{1}{2} & -\\frac{1}{2} & \\frac{1}{2} & -\\frac{1}{2} \\\\ \\frac{1}{2} & \\frac{1}{2} & -\\frac{1}{2} & -\\frac{1}{2} \\\\ \\frac{1}{2} & -\\frac{1}{2} & -\\frac{1}{2} & \\frac{1}{2} } } $\n",
    "$ \\newcommand{\\CNOT}{ \\mymatrix{cccc}{1 & 0 & 0 & 0 \\\\ 0 & 1 & 0 & 0 \\\\ 0 & 0 & 0 & 1 \\\\ 0 & 0 & 1 & 0} } $\n",
    "$ \\newcommand{\\norm}[1]{ \\left\\lVert #1 \\right\\rVert } $\n",
    "$ \\newcommand{\\pstate}[1]{ \\lceil \\mspace{-1mu} #1 \\mspace{-1.5mu} \\rfloor } $"
   ]
  },
  {
   "cell_type": "markdown",
   "id": "30d6e728",
   "metadata": {},
   "source": [
    "# Single Qubit Topological Quantum Gates\n",
    "\n",
    "<hr>"
   ]
  },
  {
   "cell_type": "markdown",
   "id": "af0f5877",
   "metadata": {},
   "source": [
    "Fibonacci anyons and their braiding operations are thought to be a universal quantum computer. It means that we can construct any arbitrary single qubit gate, especially, $H$ and $T$ gates in addition to the controlled $CNOT$ gate, using only the braiding operations of Fibonacci anyons.\n",
    "\n",
    "In the next two notebooks, we will see how to construct universal quantum gates using such Fibonacci anyons."
   ]
  },
  {
   "cell_type": "markdown",
   "id": "302c8e1f",
   "metadata": {},
   "source": [
    "## Content\n",
    "\n",
    "1. [Drawing Braiding Sequences (Topological quantum circuits)](#100)\n",
    "    1. [Visualizing Elementary Braiding Operations](#110)\n",
    "1. [Single Qubit Braiding Operations](#200)\n",
    "    1. [Diagrammatic Representation of Braiding Operations](#210)\n",
    "    1. [Matrix Representation of Braiding Operations](#220)\n",
    "    1. [Single Qubit Braiding Matrices as Rotations](#230)\n",
    "1. [Universality of Single Qubit Braiding Operators](#300)\n",
    "1. [Approximating Single Qubit Quantum Gates with Braiding Operations](#400)\n",
    "    1. [Properties of Single Qubit Braiding Operations](#410)\n",
    "        1. [Similarity Relation](#411)\n",
    "        1. [Yang-Baxter Relation](#412)\n",
    "        1. [Braiding Operations as Square Roots of Identity](#413)\n",
    "    1. [Weaves vs Braids](#420)\n",
    "    1. [Mini-Project](#430)\n",
    "    1. [Examples](#440)\n",
    "        1. [Distance](#4411)\n",
    "        1. [Example: Hadamard Gate](#441)\n",
    "        1. [Example: T Gate](#442)\n",
    "1. [More on the Simulator (Optional)](#500)\n",
    "\n",
    "[References](#bibliography)"
   ]
  },
  {
   "cell_type": "markdown",
   "id": "1d2d9313",
   "metadata": {},
   "source": [
    "<hr>\n",
    "\n",
    "<a id=\"100\"></a> \n",
    "## 1. Drawing Braiding Sequences (Topological quantum circuits)\n",
    "\n",
    "A topological quantum circuit is determined by the number of anyons $N$ and the sequence of braiding operations (an ordered list of braiding operations). Each braiding operator $\\sigma_i^p$ that braids between the $i$'th anyon and the $(i+1)$'th anyon is defined by the *index* $i$ and the *direction of braiding* $p=1$ if clockwise and $p= -1$ if counterclockwise."
   ]
  },
  {
   "cell_type": "markdown",
   "id": "4ce89b38",
   "metadata": {},
   "source": [
    "Let's draw our topological quantum circuits with a pre-designed Simulator.\n"
   ]
  },
  {
   "cell_type": "code",
   "execution_count": 1,
   "id": "cdd64497",
   "metadata": {},
   "outputs": [],
   "source": [
    "from tqsim import AnyonicCircuit"
   ]
  },
  {
   "cell_type": "markdown",
   "id": "9f051bb6",
   "metadata": {},
   "source": [
    "A braiding sequence with length $L$ can be written as:\n",
    "\n",
    "$$ \\sigma_{i_L}^{p_L}\\cdots \\sigma_{i_2}^{p_2} \\sigma_{i_1}^{p_1} $$"
   ]
  },
  {
   "cell_type": "markdown",
   "id": "639cd3c8",
   "metadata": {},
   "source": [
    "Notice that braiding operations are applied to the fusion state as a matrix, such that the first operation to be applied is the rightmost operation, which is $\\sigma_{i_1}^{p_1}$ in this case. \n",
    "\n",
    "If $p>0$, the braiding is in the clockwise direction. If $p<0$, the braiding is in the counterclockwise direction."
   ]
  },
  {
   "cell_type": "markdown",
   "id": "42a86c49",
   "metadata": {},
   "source": [
    "We can write this braiding sequence as a list in Python as follows:"
   ]
  },
  {
   "cell_type": "markdown",
   "id": "186b4985",
   "metadata": {},
   "source": [
    "$$\\texttt{ [[i1, p1], [i2, p2], ..., [iL, pL]]}$$"
   ]
  },
  {
   "cell_type": "markdown",
   "id": "78374185",
   "metadata": {},
   "source": [
    "<a id=\"110\"></a>\n",
    "### 1.1 Visualizing Elementary Braiding Operations\n",
    "Let's visualize $\\sigma_1$ on 3 anyons.\n",
    "\n",
    "We know that $\\sigma_1$ is the exchange operation of anyon 1 and anyon 2 in clockwise direction.\n"
   ]
  },
  {
   "cell_type": "code",
   "execution_count": 2,
   "id": "8b7c76ef",
   "metadata": {},
   "outputs": [
    {
     "data": {
      "image/png": "[encoded data removed]",
      "text/plain": [
       "<Figure size 72x64.8 with 1 Axes>"
      ]
     },
     "execution_count": 2,
     "metadata": {},
     "output_type": "execute_result"
    }
   ],
   "source": [
    "# Create a braiding circuit of 3 anyons\n",
    "circuit = AnyonicCircuit()  # By default, the circuit will have only 3 anyons.\n",
    "\n",
    "# Apply sigma_1 by braiding anyon 1 with anyon 2\n",
    "circuit.braid(1, 2)\n",
    "\n",
    "# Draw the circuit\n",
    "circuit.drawer.anyons[1].label = 1\n",
    "circuit.drawer.anyons[2].label = 2\n",
    "circuit.drawer.anyons[3].label = 3\n",
    "circuit.draw()"
   ]
  },
  {
   "cell_type": "markdown",
   "id": "10e67f38",
   "metadata": {},
   "source": [
    "<div class=\"alert alert-block alert-warning\">\n",
    "<b>Note:</b> The Time arrow in this drawing is pointing from left to right.\n",
    "</div>"
   ]
  },
  {
   "cell_type": "code",
   "execution_count": 3,
   "id": "e5fc9c33",
   "metadata": {},
   "outputs": [
    {
     "data": {
      "text/latex": [
       "$ \\sigma_{1}$"
      ],
      "text/plain": [
       "<IPython.core.display.Latex object>"
      ]
     },
     "execution_count": 3,
     "metadata": {},
     "output_type": "execute_result"
    }
   ],
   "source": [
    "# Print the braiding sequence symbolically\n",
    "from IPython.display import Latex\n",
    "Latex(circuit.history(\"latex\"))"
   ]
  },
  {
   "cell_type": "markdown",
   "id": "a02ba92f",
   "metadata": {},
   "source": [
    "To draw the counterclockwise braid such as $\\sigma_1^{-1}$, it is sufficient to flip the order of anyon numeral labels."
   ]
  },
  {
   "cell_type": "code",
   "execution_count": 4,
   "id": "0c99cb85",
   "metadata": {},
   "outputs": [
    {
     "data": {
      "image/png": "[encoded data removed]",
      "text/plain": [
       "<Figure size 72x64.8 with 1 Axes>"
      ]
     },
     "execution_count": 4,
     "metadata": {},
     "output_type": "execute_result"
    }
   ],
   "source": [
    "# Draw sigma_1^(-1)\n",
    "circuit = AnyonicCircuit()\n",
    "circuit.braid(2, 1)\n",
    "\n",
    "for i in range(1, 4):\n",
    "    circuit.drawer.anyons[i].label = i\n",
    "circuit.draw()"
   ]
  },
  {
   "cell_type": "code",
   "execution_count": 5,
   "id": "1ac2d88e",
   "metadata": {},
   "outputs": [
    {
     "data": {
      "text/latex": [
       "$ \\sigma_{1}^{-1}$"
      ],
      "text/plain": [
       "<IPython.core.display.Latex object>"
      ]
     },
     "execution_count": 5,
     "metadata": {},
     "output_type": "execute_result"
    }
   ],
   "source": [
    "Latex(circuit.history(\"latex\"))"
   ]
  },
  {
   "cell_type": "markdown",
   "id": "0e70881e",
   "metadata": {},
   "source": [
    "<a id=\"task1\"></a>\n",
    "#### Task 1\n",
    "\n",
    "Draw the following braiding sequence on 3 anyons:\n",
    "\n",
    "$$ \\sigma_{2}^{-1}\\sigma_{2}^{-1} \\sigma_{1} \\sigma_{1} $$\n",
    "\n",
    "<div class=\"alert alert-block alert-danger\"> \n",
    "<b>Caution:</b> Mind the order of the operators!\n",
    "</div>\n"
   ]
  },
  {
   "cell_type": "markdown",
   "id": "fab4a743",
   "metadata": {},
   "source": [
    "[click for our solution](C00_Single_Qubit_Topological_Gates_Solutions.ipynb#task1)"
   ]
  },
  {
   "cell_type": "markdown",
   "id": "e909c00e",
   "metadata": {},
   "source": [
    "<hr>\n",
    "\n",
    "<a id=\"200\"></a>\n",
    "<h2> 2. Single Qubit Braiding Operations </h2>\n",
    "\n"
   ]
  },
  {
   "cell_type": "markdown",
   "id": "a816bef3",
   "metadata": {},
   "source": [
    "In Fibonacci model, we can encode a single qubit in 3 anyons. Given three Fibonacci anyons, we have 4 braiding operations : $\\sigma_1$ and $\\sigma_2$ which braids anyons in clockwise direction, $\\sigma_1^{-1}$ and $\\sigma_2^{-1}$ which braids anyons in couterclockwise direction.\n"
   ]
  },
  {
   "cell_type": "markdown",
   "id": "e338a1e3",
   "metadata": {},
   "source": [
    "<a id=\"210\"></a>\n",
    "### 2.1 Diagrammatic Representation of $\\sigma_1$, $\\sigma_2$, $\\sigma_1^{-1}$ and $\\sigma_2^{-1}$"
   ]
  },
  {
   "cell_type": "markdown",
   "id": "14b30eb7",
   "metadata": {},
   "source": [
    "<a id=\"task2\"></a>\n",
    "#### Task 2\n",
    "\n",
    "Draw $\\sigma_1$, $\\sigma_2$, $\\sigma_1^{-1}$ and $\\sigma_2^{-1}$ applied on 3 anyons."
   ]
  },
  {
   "cell_type": "code",
   "execution_count": 6,
   "id": "3ad24a44",
   "metadata": {},
   "outputs": [],
   "source": [
    "# Draw sigma_1 operation on 3 anyons"
   ]
  },
  {
   "cell_type": "code",
   "execution_count": 7,
   "id": "be393a1b",
   "metadata": {},
   "outputs": [],
   "source": [
    "# Draw sigma_1^(-1) operation on 3 anyons"
   ]
  },
  {
   "cell_type": "code",
   "execution_count": 8,
   "id": "927206d9",
   "metadata": {},
   "outputs": [],
   "source": [
    "# Draw sigma_2 operation on 3 anyons"
   ]
  },
  {
   "cell_type": "code",
   "execution_count": 9,
   "id": "737473e8",
   "metadata": {},
   "outputs": [],
   "source": [
    "# Draw sigma_2^(-1) operation on 3 anyons"
   ]
  },
  {
   "cell_type": "markdown",
   "id": "efaf203b",
   "metadata": {},
   "source": [
    "[click for our solution](C00_Single_Qubit_Topological_Gates_Solutions.ipynb#task2)"
   ]
  },
  {
   "cell_type": "markdown",
   "id": "70aef5b3",
   "metadata": {},
   "source": [
    "<a id=\"220\"></a>\n",
    "### 2.2 Matrix Representation of $\\sigma_1$, $\\sigma_2$, $\\sigma_1^{-1}$ and $\\sigma_2^{-1}$"
   ]
  },
  {
   "cell_type": "markdown",
   "id": "8465215a",
   "metadata": {},
   "source": [
    "$$\\sigma_1 = R = \\mymatrix{cc}{e^{-\\frac{4i \\pi}{5}} & 0 \\\\ 0 & e^{\\frac{3i \\pi}{5}}}$$"
   ]
  },
  {
   "cell_type": "markdown",
   "id": "2a746929",
   "metadata": {},
   "source": [
    "$$\\sigma_2 = B = FRF^\\dagger = \\mymatrix{cc}{ \\frac{1}{\\Phi} & \\frac{1}{\\sqrt{\\Phi}} \\\\ \\frac{1}{\\sqrt{\\Phi}} & -\\frac{1}{\\Phi} } \\mymatrix{cc}{e^{-\\frac{4i \\pi}{5}} & 0 \\\\ 0 & e^{\\frac{3i \\pi}{5}}} \\mymatrix{cc}{ \\frac{1}{\\Phi} & \\frac{1}{\\sqrt{\\Phi}} \\\\ \\frac{1}{\\sqrt{\\Phi}} & -\\frac{1}{\\Phi} }$$"
   ]
  },
  {
   "cell_type": "markdown",
   "id": "aa330923",
   "metadata": {},
   "source": [
    "such that $\\Phi$ is the Golden number which the positive solution of the equation:\n",
    "\n",
    "$$\\Phi^2 - \\Phi = 1$$"
   ]
  },
  {
   "cell_type": "markdown",
   "id": "6622a005",
   "metadata": {},
   "source": [
    "#### Task 3"
   ]
  },
  {
   "cell_type": "markdown",
   "id": "b6d178f4",
   "metadata": {},
   "source": [
    "Using Numpy, calculate $\\sigma_1$, $\\sigma_1^{-1}$, $\\sigma_2$ and $\\sigma_2^{-1}$ explicitly."
   ]
  },
  {
   "cell_type": "code",
   "execution_count": 10,
   "id": "20bb139f",
   "metadata": {},
   "outputs": [],
   "source": [
    "import numpy as np"
   ]
  },
  {
   "cell_type": "code",
   "execution_count": null,
   "id": "f9afc9ad",
   "metadata": {},
   "outputs": [],
   "source": [
    "# Compute sigma_1\n",
    "\n",
    "### Your Code\n",
    "\n",
    "# Show sigma_1\n",
    "print(sigma_1)"
   ]
  },
  {
   "cell_type": "markdown",
   "id": "553fd428",
   "metadata": {},
   "source": [
    "**Remark**\n",
    "\n",
    "Braiding matrices are unitary:\n",
    "$$\\sigma_i^{-1} = \\sigma_i^\\dagger = \\overline{\\sigma_i}^T$$"
   ]
  },
  {
   "cell_type": "code",
   "execution_count": null,
   "id": "73c17c68",
   "metadata": {},
   "outputs": [],
   "source": [
    "# Compute sigma_1^(-1)\n",
    "\n",
    "### Your Code\n",
    "\n",
    "# show sigma_1^(-1)\n",
    "print(sigma_1_inv)"
   ]
  },
  {
   "cell_type": "code",
   "execution_count": null,
   "id": "11588277",
   "metadata": {},
   "outputs": [],
   "source": [
    "# Compute the golden number\n",
    "\n",
    "### Your Code\n",
    "\n",
    "print(PHI)"
   ]
  },
  {
   "cell_type": "code",
   "execution_count": null,
   "id": "e6736f62",
   "metadata": {},
   "outputs": [],
   "source": [
    "# Compute F matrix\n",
    "\n",
    "### Your Code\n",
    "\n",
    "print(F)"
   ]
  },
  {
   "cell_type": "code",
   "execution_count": null,
   "id": "5af73191",
   "metadata": {},
   "outputs": [],
   "source": [
    "# Compute R matrix\n",
    "\n",
    "### Your Code\n",
    "\n",
    "print(R)"
   ]
  },
  {
   "cell_type": "code",
   "execution_count": null,
   "id": "a2c10365",
   "metadata": {},
   "outputs": [],
   "source": [
    "# Compute sigma_2\n",
    "\n",
    "### Your Code\n",
    "\n",
    "# show sigma_2\n",
    "print(sigma_2)"
   ]
  },
  {
   "cell_type": "code",
   "execution_count": null,
   "id": "1bc24fed",
   "metadata": {},
   "outputs": [],
   "source": [
    "# Compute sigma_2^(-1)\n",
    "\n",
    "### Your Code\n",
    "\n",
    "# Show sigma_2^(-1)\n",
    "print(sigma_2_inv)"
   ]
  },
  {
   "cell_type": "markdown",
   "id": "72cd3a03",
   "metadata": {},
   "source": [
    "[click for our solution](C00_Single_Qubit_Topological_Gates_Solutions.ipynb#task3)"
   ]
  },
  {
   "cell_type": "markdown",
   "id": "d4bba5b5",
   "metadata": {},
   "source": [
    "#### Task 4\n",
    "\n",
    "Verify that $$\\sigma_1 \\sigma_1^{-1} = \\sigma_2 \\sigma_2^{-1} = I$$"
   ]
  },
  {
   "cell_type": "markdown",
   "id": "05db6c19",
   "metadata": {},
   "source": [
    "#### Solution"
   ]
  },
  {
   "cell_type": "code",
   "execution_count": null,
   "id": "82dc1e50",
   "metadata": {},
   "outputs": [],
   "source": [
    "### Your Code"
   ]
  },
  {
   "cell_type": "markdown",
   "id": "37bf94fc",
   "metadata": {},
   "source": [
    "[click for our solution](C00_Single_Qubit_Topological_Gates_Solutions.ipynb#task4)"
   ]
  },
  {
   "cell_type": "markdown",
   "id": "bfd400a0",
   "metadata": {},
   "source": [
    "Hence, $\\sigma_1\\sigma_1^{-1} = \\sigma_2\\sigma_2^{-1}= \\left( \\begin{array}{cc} 1 & 0\\\\ 0 & 1\\end{array}\\right)= I$"
   ]
  },
  {
   "cell_type": "markdown",
   "id": "438519ef",
   "metadata": {},
   "source": [
    "<a id=\"230\"></a>\n",
    "### 2.3 Single Qubit Braiding Matrices as Rotations"
   ]
  },
  {
   "cell_type": "markdown",
   "id": "c4fa3ee0",
   "metadata": {},
   "source": [
    "It is convenient to represent the previous single qubit braiding matrices as rotations in the Bloch sphere, since for all single qubit quantum gates $U$, \n",
    "\n",
    "$$U = e^{i\\eta} R_{\\mathbf{n}}(\\alpha) = e^{i\\eta}\\mymatrix{rr}{\\cos\\left(\\frac{\\alpha}{2}\\right)-i\\sin\\left(\\frac{\\alpha}{2}\\right)n_z & -\\sin\\left(\\frac{\\alpha}{2}\\right)n_y-i\\sin\\left(\\frac{\\alpha}{2}\\right)n_x \\\\ \\sin\\left(\\frac{\\alpha}{2}\\right)n_y-i\\sin\\left(\\frac{\\alpha}{2}\\right)n_x & \\cos\\left(\\frac{\\alpha}{2}\\right)+i\\sin\\left(\\frac{\\alpha}{2}\\right)n_z}$$"
   ]
  },
  {
   "cell_type": "markdown",
   "id": "c7db8afd",
   "metadata": {},
   "source": [
    "<img id=\"rotation\" src=\"../images/unitary_as_rotation.png\" width=\"35%\" align=\"center\">"
   ]
  },
  {
   "cell_type": "markdown",
   "id": "cf614b4b",
   "metadata": {},
   "source": [
    "such that $\\mathbf{n} = (n_x, n_y, n_z) $ and it is the **vector of rotation** and $\\alpha$ is the **angle of rotation** as shown in the [figure](#rotation) above.\n",
    "\n",
    "$$n_z = \\cos(\\theta)$$\n",
    "\n",
    "$$ n_x = \\sin(\\theta)\\cos(\\phi)$$\n",
    "\n",
    "$$n_y = \\sin(\\theta)\\sin(\\phi)$$"
   ]
  },
  {
   "cell_type": "markdown",
   "id": "6a9ec371",
   "metadata": {},
   "source": [
    "<a id=\"task5\"></a>\n",
    "##### Task 5\n",
    "\n",
    "Show that $$\\det R_\\mathbf{n}(\\alpha) = 1$$\n",
    "\n",
    "which implies that $R_\\mathbf{n}(\\alpha)$ is a *special unitary matrix*."
   ]
  },
  {
   "cell_type": "markdown",
   "id": "8a5dab45",
   "metadata": {},
   "source": [
    "<div class=\"alert alert-block alert-info\"> <b>Hint: </b> $\\det \\left( \\begin{array}{cc} a & b \\\\ c & d \\end{array}\\right) = a \\cdot d - c \\cdot b$. </div>"
   ]
  },
  {
   "cell_type": "markdown",
   "id": "5218d2b2",
   "metadata": {},
   "source": [
    "[click for our solution](C00_Single_Qubit_Topological_Gates_Solutions.ipynb#task5)"
   ]
  },
  {
   "cell_type": "markdown",
   "id": "c87ec7a3",
   "metadata": {},
   "source": [
    "<a id=\"task6\"></a>\n",
    "#### Task 6\n",
    "\n",
    "Find numerically the coordinates of the *rotation vector* $\\mathbf{n}$ and the *rotation angle* $\\alpha$ for $\\sigma_1$ and $\\sigma_2$. Consider $\\alpha > 0$."
   ]
  },
  {
   "cell_type": "markdown",
   "id": "ecaac7bf",
   "metadata": {},
   "source": [
    "<div class=\"alert alert-block alert-info\"> <b>Hint: </b> $\\det U = e^{i2\\eta}$ </div>"
   ]
  },
  {
   "cell_type": "markdown",
   "id": "73efa92a",
   "metadata": {},
   "source": [
    "<div class=\"alert alert-block alert-success\">\n",
    "<b>Tip: </b> Use 'np.linalg.det' to compute the determinant ($\\det$).\n",
    "</div>"
   ]
  },
  {
   "cell_type": "markdown",
   "id": "16bcc090",
   "metadata": {},
   "source": [
    "#### Solution"
   ]
  },
  {
   "cell_type": "markdown",
   "id": "44ba163f",
   "metadata": {},
   "source": [
    "[click for our solution](C00_Single_Qubit_Topological_Gates_Solutions.ipynb#task6)"
   ]
  },
  {
   "cell_type": "code",
   "execution_count": null,
   "id": "c91cbb34",
   "metadata": {},
   "outputs": [],
   "source": [
    "from math import acos, asin, sin"
   ]
  },
  {
   "cell_type": "code",
   "execution_count": null,
   "id": "bab02645",
   "metadata": {},
   "outputs": [],
   "source": [
    "# Calculate alpha and n for sigma_1\n",
    "\n",
    "# calculate R_n(alpha) by eliminating the phase exp(i eta)\n",
    "R_1 = sigma_1 / np.sqrt(np.linalg.det(sigma_1))\n",
    "\n",
    "# calculate alpha\n",
    "\n",
    "### Your Code\n",
    "\n",
    "# calculate n_z \n",
    "\n",
    "### Your Code\n",
    "\n",
    "# calculate n_y\n",
    "\n",
    "### Your Code\n",
    "\n",
    "# calculate n_x\n",
    "\n",
    "### Your Code"
   ]
  },
  {
   "cell_type": "code",
   "execution_count": null,
   "id": "fd2545df",
   "metadata": {},
   "outputs": [],
   "source": [
    "print(f'Angle of rotation = {alpha_1 / np.pi} {chr(0x3c0)} = {alpha_1 * 180 / np.pi} Deg ')\n",
    "print(f'Vector of rotation = {(nx_1, ny_1, nz_1)}')"
   ]
  },
  {
   "cell_type": "markdown",
   "id": "a7139568",
   "metadata": {},
   "source": [
    "Notice that $\\sigma_1$ is just a Phase Gate or $RZ$ Gate.\n",
    "<hr>"
   ]
  },
  {
   "cell_type": "code",
   "execution_count": null,
   "id": "c49c14ab",
   "metadata": {},
   "outputs": [],
   "source": [
    "# Calculate alpha and n for sigma_2\n",
    "\n",
    "# Calculate R_n(alpha) by eliminating the phase exp(i eta) (Given)\n",
    "R_2 = sigma_2 / np.sqrt(np.linalg.det(sigma_2))\n",
    "\n",
    "# calculate alpha\n",
    "\n",
    "### Your Code\n",
    "\n",
    "# calculate n_z \n",
    "\n",
    "### Your Code\n",
    "\n",
    "# calculate n_y\n",
    "\n",
    "### Your Code\n",
    "\n",
    "# calculate n_x\n",
    "\n",
    "### Your Code"
   ]
  },
  {
   "cell_type": "code",
   "execution_count": null,
   "id": "bea4796b",
   "metadata": {},
   "outputs": [],
   "source": [
    "print(f'Angle of rotation = {alpha_2 / np.pi} {chr(0x3c0)} = {alpha_2 * 180 / np.pi} Deg ')\n",
    "print(f'Vector of rotation = {(nx_2, ny_2, nz_2)}')"
   ]
  },
  {
   "cell_type": "markdown",
   "id": "f97a232a",
   "metadata": {},
   "source": [
    "Notice that $\\sigma_2$ rotation vector is on the xz plane as Hadamard Gate.\n",
    "<hr>"
   ]
  },
  {
   "cell_type": "markdown",
   "id": "22a6ead3",
   "metadata": {},
   "source": [
    "<a id=\"task7\"></a>\n",
    "#### Task 7\n",
    "\n",
    "Repeat the same procedure for $\\sigma_1^{-1}$ and $\\sigma_2^{-1}$. What do you expect about the vector and angle of rotation?"
   ]
  },
  {
   "cell_type": "code",
   "execution_count": null,
   "id": "3634ad93",
   "metadata": {},
   "outputs": [],
   "source": [
    "# Calculate alpha and n for sigma_1^(-1)\n",
    "\n",
    "# Calculate R_n(alpha) by eliminating the phase exp(i eta)\n",
    "R_1_inv = sigma_1_inv / np.sqrt(np.linalg.det(sigma_1_inv))\n",
    "\n",
    "# calculate alpha\n",
    "\n",
    "### Your Code\n",
    "\n",
    "# calculate n_z \n",
    "\n",
    "### Your Code\n",
    "\n",
    "# calculate n_y\n",
    "\n",
    "### Your Code\n",
    "\n",
    "# calculate n_x\n",
    "\n",
    "### Your Code"
   ]
  },
  {
   "cell_type": "code",
   "execution_count": null,
   "id": "5d08958f",
   "metadata": {},
   "outputs": [],
   "source": [
    "print(f'Angle of rotation = {alpha_1_inv / np.pi} {chr(0x3c0)} = {alpha_1_inv * 180 / np.pi} Deg ')\n",
    "print(f'Vector of rotation = {(nx_1_inv, ny_1_inv, nz_1_inv)}')"
   ]
  },
  {
   "cell_type": "markdown",
   "id": "3f382530",
   "metadata": {},
   "source": [
    "[click for our solution](C00_Single_Qubit_Topological_Gates_Solutions.ipynb#task7)"
   ]
  },
  {
   "cell_type": "markdown",
   "id": "f00928df",
   "metadata": {},
   "source": [
    "<hr>\n",
    "\n",
    "<a id=\"300\"></a>\n",
    "## 3. Universality of Single Qubit Braiding Operators"
   ]
  },
  {
   "cell_type": "markdown",
   "id": "6a449b1e",
   "metadata": {},
   "source": [
    "Do you think that different sequences of $\\sigma_1$, $\\sigma_1^{-1}$, $\\sigma_2$ and $\\sigma_2^{-1}$ can implement any arbitrary single qubit quantum gate?\n",
    "\n"
   ]
  },
  {
   "cell_type": "markdown",
   "id": "8f9ee582",
   "metadata": {},
   "source": [
    "In other words, starting from the state $\\ket{0} = \\mymatrix{r}{1 \\\\ 0}$, could we approximate as much as possible all the states on the [Bloch sphere](#rotation) using the right combination of braiding operations?"
   ]
  },
  {
   "cell_type": "markdown",
   "id": "85d834ab",
   "metadata": {},
   "source": [
    "In this section, we are going to verify that visually on the Bloch sphere."
   ]
  },
  {
   "cell_type": "code",
   "execution_count": 11,
   "id": "45612850",
   "metadata": {},
   "outputs": [
    {
     "name": "stderr",
     "output_type": "stream",
     "text": [
      "C:\\ProgramData\\Anaconda3\\lib\\site-packages\\scipy\\__init__.py:146: UserWarning: A NumPy version >=1.16.5 and <1.23.0 is required for this version of SciPy (detected version 1.23.4\n",
      "  warnings.warn(f\"A NumPy version >={np_minversion} and <{np_maxversion}\"\n"
     ]
    }
   ],
   "source": [
    "from qiskit.tools.visualization import plot_bloch_vector\n",
    "import math\n",
    "\n",
    "def polar(z):\n",
    "    \"\"\"\n",
    "    This function returns the polar form [r, theta] of the given complex number z = a + bj.\n",
    "    \"\"\"\n",
    "    a = z.real\n",
    "    b = z.imag\n",
    "    r = math.hypot(a, b)\n",
    "    theta = math.atan2(b, a)\n",
    "    return r, theta\n",
    "    \n",
    "def bloch_vector(state):\n",
    "    \"\"\"\n",
    "    This function returns the Cartesian coordinates [x, y, z] of the vector in the Bloch sphere that represents\n",
    "    the given quantum state (state).\n",
    "    \"\"\"\n",
    "    c, eta = polar(state[0])\n",
    "    s, phi = polar(state[1])\n",
    "    phi += -eta\n",
    "    theta = math.atan2(s, c) * 2\n",
    "    x = math.sin(theta) * math.cos(phi)\n",
    "    y = math.sin(theta) * math.sin(phi)\n",
    "    z = math.cos(theta)\n",
    "    return x, y, z\n",
    "    "
   ]
  },
  {
   "cell_type": "code",
   "execution_count": 12,
   "id": "d0b80002",
   "metadata": {},
   "outputs": [
    {
     "data": {
      "image/png": "[encoded data removed]",
      "text/plain": [
       "<Figure size 360x360 with 1 Axes>"
      ]
     },
     "execution_count": 12,
     "metadata": {},
     "output_type": "execute_result"
    }
   ],
   "source": [
    "# Plot the initial quantum state |0> on the Bloch sphere\n",
    "plot_bloch_vector(bloch_vector([1, 0]), title='Initial State')\n"
   ]
  },
  {
   "cell_type": "markdown",
   "id": "76d93cee",
   "metadata": {},
   "source": [
    "<a id=\"task8\"></a>\n",
    "#### Task 8\n",
    "\n",
    "Apply the braiding operations $\\sigma_1$, $\\sigma_1^{-1}$, $\\sigma_2$ and $\\sigma_2^{-1}$ on $\\ket{0}$ and plot the final quantum state."
   ]
  },
  {
   "cell_type": "code",
   "execution_count": null,
   "id": "8430dad1",
   "metadata": {},
   "outputs": [],
   "source": [
    "# Compute sigma_1 |0>\n",
    "\n",
    "### Your Code\n",
    "\n",
    "# Plot sigma_1 |0>\n",
    "x, y, z = bloch_vector(final_state)\n",
    "print('x = ', round(x, 2),\n",
    "      '\\ny = ', round(y, 2),\n",
    "      '\\nz = ', round(z, 2))\n",
    "\n",
    "plot_bloch_vector([[0, 0, 1], [x, y, z]])"
   ]
  },
  {
   "cell_type": "markdown",
   "id": "4859900d",
   "metadata": {},
   "source": [
    "Notice that $\\sigma_1$ does not affect the Bloch vector of $\\ket{0}$ because it is an RZ rotation."
   ]
  },
  {
   "cell_type": "code",
   "execution_count": null,
   "id": "cb85b938",
   "metadata": {},
   "outputs": [],
   "source": [
    "# compute sigma_1^(-1) |0>\n",
    "\n",
    "### Your Code\n",
    "\n",
    "# plot sigma_1 |0>\n",
    "x, y, z = bloch_vector(final_state)\n",
    "print('x = ', round(x, 2),\n",
    "      '\\ny = ', round(y, 2),\n",
    "      '\\nz = ', round(z, 2))\n",
    "\n",
    "plot_bloch_vector([[0, 0, 1], [x, y, z]])"
   ]
  },
  {
   "cell_type": "code",
   "execution_count": null,
   "id": "08df24ee",
   "metadata": {},
   "outputs": [],
   "source": [
    "# Compute sigma_2 |0>\n",
    "\n",
    "### Your Code\n",
    "\n",
    "# Plot sigma_1 |0>\n",
    "x, y, z = bloch_vector(final_state)\n",
    "print('x = ', round(x, 2),\n",
    "      '\\ny = ', round(y, 2),\n",
    "      '\\nz = ', round(z, 2))\n",
    "\n",
    "plot_bloch_vector([[0, 0, 1], [x, y, z]])"
   ]
  },
  {
   "cell_type": "code",
   "execution_count": null,
   "id": "c3391a2e",
   "metadata": {},
   "outputs": [],
   "source": [
    "# Compute sigma_2^(-1) |0>\n",
    "\n",
    "### Your Code\n",
    "\n",
    "# Plot sigma_1 |0>\n",
    "x, y, z = bloch_vector(final_state)\n",
    "print('x = ', round(x, 2),\n",
    "      '\\ny = ', round(y, 2),\n",
    "      '\\nz = ', round(z, 2))\n",
    "\n",
    "plot_bloch_vector([[0, 0, 1], [x, y, z]])"
   ]
  },
  {
   "cell_type": "markdown",
   "id": "2cd37d86",
   "metadata": {},
   "source": [
    "[click for our solution](C00_Single_Qubit_Topological_Gates_Solutions.ipynb#task8)"
   ]
  },
  {
   "cell_type": "markdown",
   "id": "82f64e31",
   "metadata": {},
   "source": [
    "<a id=\"task9\"></a>\n",
    "#### Task 9\n",
    "\n",
    "Now, show in the Bloch sphere all possible states that we can obtain by applying two elementary braiding operations ($\\sigma_i^p \\sigma_j^q$) on the state $\\ket{0}$. Here, $|p| + |q| = 2$."
   ]
  },
  {
   "cell_type": "code",
   "execution_count": null,
   "id": "9ab65e4e",
   "metadata": {},
   "outputs": [],
   "source": [
    "SIGMA = [sigma_1, sigma_1_inv, sigma_2, sigma_2_inv]\n",
    "POWER = [0, 1, 2]\n",
    "INITIAL_STATE = np.array([1, 0])\n",
    "\n",
    "final_states = []\n",
    "for p in POWER:\n",
    "    for q in POWER:\n",
    "        if p + q == 2:\n",
    "            for sigma_i in SIGMA:\n",
    "                for sigma_j in SIGMA:\n",
    "                    \n",
    "                    #  YOUR CODE\n",
    "\n",
    "# Plot \n",
    "vectors = []\n",
    "for final_state in final_states:\n",
    "    x, y, z = bloch_vector(final_state)\n",
    "    vectors.append([x, y, z])\n",
    "\n",
    "plot_bloch_vector(vectors)"
   ]
  },
  {
   "cell_type": "markdown",
   "id": "f5e33316",
   "metadata": {},
   "source": [
    "[click for our solution](C00_Single_Qubit_Topological_Gates_Solutions.ipynb#task9)"
   ]
  },
  {
   "cell_type": "markdown",
   "id": "615882d0",
   "metadata": {},
   "source": [
    "<a id=\"task10\"></a>\n",
    "#### Task 10\n",
    "\n",
    "Repeat the task 8 for sequences of 3 elementary braiding operations  ($\\sigma_i^p \\sigma_j^q \\sigma_k^r$)."
   ]
  },
  {
   "cell_type": "code",
   "execution_count": null,
   "id": "862f2492",
   "metadata": {},
   "outputs": [],
   "source": [
    "SIGMA = [sigma_1, sigma_1_inv, sigma_2, sigma_2_inv]\n",
    "POWER = [0, 1, 2, 3]\n",
    "INITIAL_STATE = np.array([1, 0])\n",
    "\n",
    "final_states = []\n",
    "for p in POWER:\n",
    "    for q in POWER:\n",
    "        for r in POWER:\n",
    "            if p + q + r == 3:\n",
    "                for sigma_i in SIGMA:\n",
    "                    for sigma_j in SIGMA:\n",
    "                        for sigma_k in SIGMA:\n",
    "\n",
    "                            #  YOUR CODE\n",
    "\n",
    "# plot \n",
    "vectors = []\n",
    "for final_state in final_states:\n",
    "    x, y, z = bloch_vector(final_state)\n",
    "    vectors.append([x, y, z])\n",
    "\n",
    "plot_bloch_vector(vectors)"
   ]
  },
  {
   "cell_type": "markdown",
   "id": "3df3c849",
   "metadata": {},
   "source": [
    "[click for our solution](C00_Single_Qubit_Topological_Gates_Solutions.ipynb#task10)"
   ]
  },
  {
   "cell_type": "code",
   "execution_count": 13,
   "id": "f7243272",
   "metadata": {},
   "outputs": [],
   "source": [
    "# it is better to use an iterator to avoid excessive nested loops\n",
    "def iterator(length, n_max):\n",
    "    vector = []\n",
    "    final_vector = []\n",
    "    for ii in range(length):\n",
    "        vector.append(0)\n",
    "        final_vector.append(n_max)\n",
    "    yield vector\n",
    "    while vector != final_vector:\n",
    "        for ii, v in enumerate(vector):\n",
    "            if v == n_max:\n",
    "                vector[ii] = 0\n",
    "            else:\n",
    "                vector[ii] += 1\n",
    "                break\n",
    "        yield vector"
   ]
  },
  {
   "cell_type": "code",
   "execution_count": 14,
   "id": "e948e944",
   "metadata": {},
   "outputs": [
    {
     "ename": "NameError",
     "evalue": "name 'sigma_1' is not defined",
     "output_type": "error",
     "traceback": [
      "\u001b[1;31m---------------------------------------------------------------------------\u001b[0m",
      "\u001b[1;31mNameError\u001b[0m                                 Traceback (most recent call last)",
      "Input \u001b[1;32mIn [14]\u001b[0m, in \u001b[0;36m<cell line: 1>\u001b[1;34m()\u001b[0m\n\u001b[1;32m----> 1\u001b[0m SIGMA \u001b[38;5;241m=\u001b[39m [\u001b[43msigma_1\u001b[49m, sigma_1_inv, sigma_2, sigma_2_inv]\n\u001b[0;32m      2\u001b[0m POWER \u001b[38;5;241m=\u001b[39m [\u001b[38;5;241m0\u001b[39m, \u001b[38;5;241m1\u001b[39m, \u001b[38;5;241m2\u001b[39m, \u001b[38;5;241m3\u001b[39m]\n\u001b[0;32m      3\u001b[0m INITIAL_STATE \u001b[38;5;241m=\u001b[39m np\u001b[38;5;241m.\u001b[39marray([\u001b[38;5;241m1\u001b[39m, \u001b[38;5;241m0\u001b[39m])\n",
      "\u001b[1;31mNameError\u001b[0m: name 'sigma_1' is not defined"
     ]
    }
   ],
   "source": [
    "SIGMA = [sigma_1, sigma_1_inv, sigma_2, sigma_2_inv]\n",
    "POWER = [0, 1, 2, 3]\n",
    "INITIAL_STATE = np.array([1, 0])\n",
    "\n",
    "final_states = []\n",
    "for powers in iterator(3, 3):\n",
    "    if sum(powers) == 3:\n",
    "        for sigmas in iterator(3, 3):\n",
    "            final_state = SIGMA[sigmas[2]]**powers[2] @ SIGMA[sigmas[1]]**powers[1] @ SIGMA[sigmas[0]]**powers[0] @INITIAL_STATE\n",
    "            final_states.append(final_state)\n",
    "\n",
    "# plot \n",
    "vectors = []\n",
    "for final_state in final_states:\n",
    "    x, y, z = bloch_vector(final_state)\n",
    "    vectors.append([x, y, z])\n",
    "\n",
    "plot_bloch_vector(vectors)"
   ]
  },
  {
   "cell_type": "markdown",
   "id": "98a889e4",
   "metadata": {},
   "source": [
    "<a id=\"task11\"></a>\n",
    "#### Task 11\n",
    "\n",
    "Repeat Task 9 for a sequence of arbitrary number $L$ of the elementary braiding operators. Try $L=4$.\n",
    "\n",
    "<div class=\"alert alert-block alert-danger\"> \n",
    "<b>CAUTION!</b> Be careful of memory crashes!\n",
    "</div>\n"
   ]
  },
  {
   "cell_type": "code",
   "execution_count": null,
   "id": "24676ad0",
   "metadata": {},
   "outputs": [],
   "source": [
    "L = 3\n",
    "SIGMA = [sigma_1, sigma_1_inv, sigma_2, sigma_2_inv]\n",
    "POWER = np.linspace(0, L, L+1)\n",
    "INITIAL_STATE = np.array([1, 0])\n",
    "\n",
    "\n",
    "final_states = []\n",
    "for powers in iterator(L, L):\n",
    "    if sum(powers) == L:\n",
    "        for sigmas in iterator(L, 3):\n",
    "            final_state = INITIAL_STATE\n",
    "            for ii in range(L):\n",
    "                final_state = SIGMA[sigmas[ii]]**powers[ii] @ final_state\n",
    "            final_states.append(final_state)\n",
    "\n",
    "# plot \n",
    "vectors = []\n",
    "for final_state in final_states:\n",
    "    x, y, z = bloch_vector(final_state)\n",
    "    vectors.append([x, y, z])\n",
    "\n",
    "plot_bloch_vector(vectors)"
   ]
  },
  {
   "cell_type": "markdown",
   "id": "1a62b574",
   "metadata": {},
   "source": [
    "<a id=\"310\"></a>\n",
    "### 3.1 Conclusion\n",
    "\n",
    "Notice that if $L$ is big enough, the states obtained by applying braiding combinations on the state $\\ket{0}$ can cover all the Bloch sphere. **As a result, we can approximate any single qubit quantum gate by using only Fibonacci elementary braiding operators.**"
   ]
  },
  {
   "cell_type": "markdown",
   "id": "6cb7c4d4",
   "metadata": {},
   "source": [
    "<hr>\n",
    "\n",
    "<a id=\"400\"></a>\n",
    "## 4.  Single Qubit Quantum Gates with Braiding Operations"
   ]
  },
  {
   "cell_type": "markdown",
   "id": "c5c237b7",
   "metadata": {},
   "source": [
    "There are many algorithms that can be used to approximate a given single-qubit quantum gate with a sequence of braiding operations:\n",
    "\n",
    "1. ##### Brute-force algorithm: [1](#ref1)\n",
    "We can search numerically all possible combinations of braiding sequences to find the best one that is close enough to a given quantum gate. Since the search space grows exponentially, the brute-force algorithm is exhaustive. However, it can be enhanced by including the properties of braiding operations. Moreover, the result of brute-forcing is optimal.\n",
    "\n",
    "2. ##### Solovay-Kitaev algorithm: [2](#ref2)\n",
    "It is an iterative algorithm. It is efficient since it can approximate a given quantum gate with braiding sequence in polylogarithmic time $O(\\log^c(1/\\epsilon)$ where $\\epsilon$ is the approximation error.\n",
    "\n",
    "3. #### Machine learning algorithms: [3](#ref3) [4](#ref4)\n",
    "\n",
    "It is based on using one of the machine learning algorithms such as evolutionary algorithm, Markov decision process, deep learning, ...etc.\n",
    "\n",
    "4. #### Systematic algorithms: [5](#ref5)\n",
    "For Fibonacci braiding matrices, there exists a systematic algorithm that can approximate some single qubit quantum gates in an exact computable method."
   ]
  },
  {
   "cell_type": "markdown",
   "id": "e69d7483",
   "metadata": {},
   "source": [
    "<a id=\"410\"></a>\n",
    "### 4.1 Properties of Single Qubit Braiding Operations"
   ]
  },
  {
   "cell_type": "markdown",
   "id": "fdd3a515",
   "metadata": {},
   "source": [
    "<a id=\"411\"></a>\n",
    "#### a. Similarity Relation \n",
    "\n",
    "<a id=\"task12\"></a>\n",
    "##### Task 12\n",
    "Using the definition of $\\sigma_2$, show that $$\\sigma_2 = F \\sigma_1 F$$"
   ]
  },
  {
   "cell_type": "markdown",
   "id": "cecbe613",
   "metadata": {},
   "source": [
    "[click for our solution](C00_Single_Qubit_Topological_Gates_Solutions.ipynb#task12)"
   ]
  },
  {
   "cell_type": "markdown",
   "id": "f73009f7",
   "metadata": {},
   "source": [
    "<a id=\"412\"></a>\n",
    "#### b. Yang-Baxter Relation\n",
    "\n",
    "Yang-Baxter equations are the algebra of braiding operations.\n",
    "\n",
    "<a id=\"task13\"></a>\n",
    "##### Task 13\n",
    "\n",
    "Prove that $$\\sigma_1 \\sigma_2 \\sigma_1 = \\sigma_2 \\sigma_1 \\sigma_2$$"
   ]
  },
  {
   "cell_type": "markdown",
   "id": "4f066aa4",
   "metadata": {},
   "source": [
    "[click for our solution](C00_Single_Qubit_Topological_Gates_Solutions.ipynb#task13)"
   ]
  },
  {
   "cell_type": "markdown",
   "id": "677c8413",
   "metadata": {},
   "source": [
    "<a id=\"413\"></a>\n",
    "#### c. Braiding Operations as Square Roots of Identity\n",
    "\n",
    "<a id=\"task14\"></a>\n",
    "##### Task 14\n",
    "\n",
    "Prove that $$\\sigma_1^{10} = \\sigma_2^{10} = I$$ "
   ]
  },
  {
   "cell_type": "markdown",
   "id": "544992ae",
   "metadata": {},
   "source": [
    "[click for our solution](C00_Single_Qubit_Topological_Gates_Solutions.ipynb#task14)"
   ]
  },
  {
   "cell_type": "markdown",
   "id": "9683d63e",
   "metadata": {},
   "source": [
    "Hence,\n",
    "\n",
    "$$\\sigma_1^{-1} = \\sigma_1^9$$"
   ]
  },
  {
   "cell_type": "markdown",
   "id": "4a601851",
   "metadata": {},
   "source": [
    "#### Remarks\n",
    "\n",
    "We should take care of the algebraic properties of braiding operations when designing algorithms to approximate quantum gates. For instance, the periodicity of braiding operations imposes constraints on the possible values of braiding powers."
   ]
  },
  {
   "cell_type": "markdown",
   "id": "f3f75907",
   "metadata": {},
   "source": [
    "<a id=\"420\"></a>\n",
    "### 4.2 Weaves vs Braids\n",
    "\n",
    "In a paper by [Simon et al.](https://journals.aps.org/prl/abstract/10.1103/PhysRevLett.96.070503), it is proven that we can move only one anyon to approximate arbitrary quantum gates. Braiding with one anyon is called weaving. The benefit of weave sequences is to make the control of anyons **technically easier** in experiment."
   ]
  },
  {
   "cell_type": "markdown",
   "id": "240b6661",
   "metadata": {},
   "source": [
    "In case of 3 Fibonacci anyons, weaves can be constructed by braiding sequences of only $\\sigma_1^2$, $\\sigma_2^2$ and their inverses. To verify this fact, let's use the Simulator again!"
   ]
  },
  {
   "cell_type": "markdown",
   "id": "f9d85c9f",
   "metadata": {},
   "source": [
    "<a id=\"task15\"></a>\n",
    "##### Task 15\n",
    "\n",
    "Check that $\\sigma_2^2 \\sigma_1^4 \\sigma_2^{-2} \\sigma_1^2   $ is a weaving sequence.\n"
   ]
  },
  {
   "cell_type": "code",
   "execution_count": null,
   "id": "9490d79d",
   "metadata": {},
   "outputs": [],
   "source": [
    "circuit = AnyonicCircuit()\n",
    "\n",
    "# Your Code\n",
    "\n",
    "circuit.draw()"
   ]
  },
  {
   "cell_type": "markdown",
   "id": "36fbdd09",
   "metadata": {},
   "source": [
    "[click for our solution](C00_Single_Qubit_Topological_Gates_Solutions.ipynb#task15)"
   ]
  },
  {
   "cell_type": "code",
   "execution_count": null,
   "id": "92cd2563",
   "metadata": {},
   "outputs": [],
   "source": [
    "Latex(circuit.history('latex'))"
   ]
  },
  {
   "cell_type": "code",
   "execution_count": null,
   "id": "5d3fb91a",
   "metadata": {},
   "outputs": [],
   "source": [
    "# To highlight the woven strand, we can use additional arguments as shown below\n",
    "circuit.drawer.anyons[2].color = \"red\"\n",
    "circuit.draw()"
   ]
  },
  {
   "cell_type": "markdown",
   "id": "684a8dd0",
   "metadata": {},
   "source": [
    "Notice that the red strand represents the path of the only moving anyon. Other anyons does not change their positions."
   ]
  },
  {
   "cell_type": "markdown",
   "id": "14879a5d",
   "metadata": {},
   "source": [
    "<div class=\"alert alert-block alert-info\"> <b>Hint: </b> For more color options, read this <a href=https://matplotlib.org/stable/gallery/color/named_colors.html>documentation</a>. </div>"
   ]
  },
  {
   "cell_type": "markdown",
   "id": "82e49223",
   "metadata": {},
   "source": [
    "<a id=\"430\"></a>\n",
    "### 4.3 Mini-Project\n",
    "\n",
    "Choose one of the algorithms mentioned above in [section 4](#400) to find Hadamard and T Gate using your favorite programming language. Try to find the best braiding sequence with length $L=10, 20, 30$.\n"
   ]
  },
  {
   "cell_type": "markdown",
   "id": "e54105f8",
   "metadata": {},
   "source": [
    "<a id=\"440\"></a>\n",
    "### 4.4 Examples\n",
    "Let's see how Hadamard and T gates are approximated by Fibonacci braiding operations! \n",
    "\n",
    "We targeted H and T gates because they can approximate any single qubit quantum gate!"
   ]
  },
  {
   "cell_type": "markdown",
   "id": "3f2597e5",
   "metadata": {},
   "source": [
    "<a id=\"441\"></a>\n",
    "#### 4.4.1 Example: Hadamard Gate"
   ]
  },
  {
   "cell_type": "markdown",
   "id": "0a3b0e4f",
   "metadata": {},
   "source": [
    "<a id=\"task16\"></a>\n",
    "##### Task 16\n",
    "\n",
    "Create a function that applies a given list of braids on _AnyonicCircuit_."
   ]
  },
  {
   "cell_type": "code",
   "execution_count": null,
   "id": "ad698d9f",
   "metadata": {},
   "outputs": [],
   "source": [
    "import numpy as np\n",
    "def braid(circuit, braids):\n",
    "    \"\"\"\n",
    "    This function applies the list of braids [[i_1, p_1], [i_2, p_2], ... [i_L, p_L]]\n",
    "    on a circuit of AnyonSimulator type.\n",
    "    \"\"\"\n",
    "    \n",
    "    ### Your Code\n",
    "    "
   ]
  },
  {
   "cell_type": "markdown",
   "id": "4f096444",
   "metadata": {},
   "source": [
    "[click for our solution](C00_Single_Qubit_Topological_Gates_Solutions.ipynb#task16)"
   ]
  },
  {
   "cell_type": "code",
   "execution_count": null,
   "id": "f3cf7116",
   "metadata": {},
   "outputs": [],
   "source": [
    "# Example\n",
    "braiding_sequence = [[1, 2], [2, 4], [1, -2]]\n",
    "circuit = AnyonicCircuit()\n",
    "braid(circuit, braiding_sequence)\n",
    "Latex(circuit.history(\"latex\"))"
   ]
  },
  {
   "cell_type": "markdown",
   "id": "dfa04804",
   "metadata": {},
   "source": [
    "<div class=\"alert alert-block alert-success\">\n",
    "<b>Tip: </b> Use 'AnyonicCircuit.braid_sequence' method to braid given sequences directly.\n",
    "</div>"
   ]
  },
  {
   "cell_type": "markdown",
   "id": "02ee6073",
   "metadata": {},
   "source": [
    "<a id=\"task17\"></a>\n",
    "#### Task 17\n",
    "\n",
    "Show that the following weaving sequence of length 30 approximates Hadamard gate up to a global phase:\n",
    "\n",
    "$$H \\approx \\sigma_1^{-2}\\sigma_2^{-2}\\sigma_1^{2} \\sigma_2^{2} \\sigma_1^{-2} \\sigma_2^{-4} \\sigma_1^{2} \\sigma_2^{-2} \\sigma_1^{-2} \\sigma_2^{2} \\sigma_1^{-2} \\sigma_2^{2} \\sigma_1^{-4}$$"
   ]
  },
  {
   "cell_type": "code",
   "execution_count": null,
   "id": "fbe860fe",
   "metadata": {},
   "outputs": [],
   "source": [
    "# Hadamard weaving sequence\n",
    "\n",
    "### Your Code\n"
   ]
  },
  {
   "cell_type": "markdown",
   "id": "676238f0",
   "metadata": {},
   "source": [
    "[click for our solution](C00_Single_Qubit_Topological_Gates_Solutions.ipynb#task17)"
   ]
  },
  {
   "cell_type": "code",
   "execution_count": null,
   "id": "59a4871e",
   "metadata": {},
   "outputs": [],
   "source": [
    "# Draw Hadamard weaving sequence\n",
    "hadamard_circuit = AnyonicCircuit()\n",
    "hadamard_circuit.braid_sequence(hadamard_seq)\n",
    "hadamard_circuit.draw()"
   ]
  },
  {
   "cell_type": "code",
   "execution_count": null,
   "id": "35a56c2c",
   "metadata": {},
   "outputs": [],
   "source": [
    "Latex(hadamard_circuit.history(\"latex\"))"
   ]
  },
  {
   "cell_type": "markdown",
   "id": "041a6dd5",
   "metadata": {},
   "source": [
    "<a id=\"4411\"></a>\n",
    "#### 4.4.1.1 Distance\n",
    "Use the following distance function to measure the distance between the braiding sequence and the target Hadamard gate. The distance measures how close is our braiding sequence to the desired quantum gate."
   ]
  },
  {
   "cell_type": "code",
   "execution_count": null,
   "id": "10668ffb",
   "metadata": {},
   "outputs": [],
   "source": [
    "# distance metric\n",
    "def distance(w, u):\n",
    "    \"\"\"\n",
    "    This function calculates the Hilbert-Schmidt distance between two unitaries w and u \n",
    "    up to a global phase.\n",
    "    \"\"\"\n",
    "    res = w.T.conjugate() @ u\n",
    "    tr = np.trace(res)\n",
    "    return 1 - ( 1 / w.shape[0]**2 ) * (tr.conjugate() * tr).real"
   ]
  },
  {
   "cell_type": "code",
   "execution_count": null,
   "id": "4ed68b87",
   "metadata": {},
   "outputs": [],
   "source": [
    "I = np.array([[1, 0],\n",
    "              [0, 1]])\n",
    "HADAMARD = np.array([[1, 1], \n",
    "                     [1, -1]]) / np.sqrt(2)\n",
    "sigma = {1 : {1 : sigma_1, -1 : sigma_1_inv},\n",
    "         2 : {1 : sigma_2, -1 : sigma_2_inv}}\n",
    "\n",
    "L = 0\n",
    "unitary = I\n",
    "for weave in hw:\n",
    "    for ii in range(abs(weave[1])):\n",
    "        L += 1\n",
    "        if weave[1] > 0:\n",
    "            unitary = sigma[weave[0]][1] @ unitary\n",
    "        else:\n",
    "            unitary = sigma[weave[0]][-1] @ unitary\n",
    "\n",
    "print(f'Hadamard = \\n\\n{HADAMARD}')\n",
    "print(f'\\nBraiding Sequence = \\n\\n{unitary}')\n",
    "print(f'\\nDistance(Hadamard, Braiding Sequence) = {distance(unitary, HADAMARD)}')"
   ]
  },
  {
   "cell_type": "markdown",
   "id": "8caf1ba2",
   "metadata": {},
   "source": [
    "<a id=\"442\"></a>\n",
    "### 4.4.2 Example: T Gate"
   ]
  },
  {
   "cell_type": "markdown",
   "id": "621201e4",
   "metadata": {},
   "source": [
    "<a id=\"task18\"></a>\n",
    "#### Task 18\n",
    "\n",
    "Show that the following weaving sequence of length 30 approximates T gate up to a global phase:\n",
    "\n",
    "$$T \\approx \\sigma_2^{-2}\\sigma_1^{4} \\sigma_2^{-2} \\sigma_1^{4} \\sigma_2^{-2} \\sigma_1^{-2} \\sigma_2^{2} \\sigma_1^{2} \\sigma_2^{4} \\sigma_1^{-2} \\sigma_2^{2} \\sigma_1^{2}$$"
   ]
  },
  {
   "cell_type": "code",
   "execution_count": null,
   "id": "246ec059",
   "metadata": {},
   "outputs": [],
   "source": [
    "# T Gate weaving sequence\n",
    "\n",
    "### Your Code"
   ]
  },
  {
   "cell_type": "code",
   "execution_count": null,
   "id": "71077bee",
   "metadata": {},
   "outputs": [],
   "source": [
    "# Draw Hadamard weaving sequence\n",
    "t_circuit = AnyonicCircuit()\n",
    "t_circuit.braid_sequence(t_sequence)\n",
    "t_circuit.draw()"
   ]
  },
  {
   "cell_type": "code",
   "execution_count": null,
   "id": "8f689b28",
   "metadata": {},
   "outputs": [],
   "source": [
    "Latex(t_circuit.history(\"latex\"))"
   ]
  },
  {
   "cell_type": "code",
   "execution_count": null,
   "id": "b8f6448e",
   "metadata": {},
   "outputs": [],
   "source": [
    "\n",
    "### Your Code\n",
    "\n",
    "print(f'length = {L}')\n",
    "print(f'T = \\n\\n{TGATE}')\n",
    "print(f'\\nBraiding Sequence = \\n\\n{unitary}')\n",
    "print(f'\\nDistance(T, Braiding Sequence) = {distance(unitary, TGATE)}')"
   ]
  },
  {
   "cell_type": "markdown",
   "id": "406ff90f",
   "metadata": {},
   "source": [
    "<hr>\n",
    "<a id=\"500\"></a>\n",
    "\n",
    "## 5. More on the Simulator (Optional)"
   ]
  },
  {
   "cell_type": "markdown",
   "id": "213ddf93",
   "metadata": {},
   "source": [
    "The simulator provides the numerical representation of the braiding matrices. However, it includes the non-computational states too! So, the braiding matrices of 3 Fibonacci anyons in the simulator are in fact 3 dimensional! Don't worry! We are interested only in the 2-dimensional matrix that acts on the computational states."
   ]
  },
  {
   "cell_type": "markdown",
   "id": "03a6f98b",
   "metadata": {},
   "source": [
    "<a id=\"510\"></a>\n",
    "### 5.1 Fusion States"
   ]
  },
  {
   "cell_type": "code",
   "execution_count": null,
   "id": "d66c2962",
   "metadata": {},
   "outputs": [],
   "source": [
    "# Get the fusion states of 3 Fibonacci anyons\n",
    "circuit = AnyonicCircuit()\n",
    "fusion_states = circuit.basis\n",
    "print(fusion_states)"
   ]
  },
  {
   "cell_type": "markdown",
   "id": "f6763b79",
   "metadata": {},
   "source": [
    "We get 3 fusion states : $[1, 0]$, $[0, 1]$ and $[1, 1]$.\n",
    "\n",
    "1. The fusion state $[1, 0]$ is the **non-computational state** since it has total charge 0.\n",
    "\n",
    "1. The fusion states $[0, 1]$ and $[1, 1]$ are the **computational states** with total charge 1."
   ]
  },
  {
   "cell_type": "markdown",
   "id": "e58c8459",
   "metadata": {},
   "source": [
    "<a id=\"520\"></a>\n",
    "### 5.1 Braiding matrices\n",
    "\n",
    "In this section, we are going to visualize the matrix representation of the braiding operations $\\sigma_1$, $\\sigma_2$ and their inverses.\n",
    "\n",
    "First of all, let us generate those matrices."
   ]
  },
  {
   "cell_type": "code",
   "execution_count": null,
   "id": "e1d2d836",
   "metadata": {},
   "outputs": [],
   "source": [
    "import numpy as np\n",
    "from tqsim import AnyonicCircuit, generate_braiding_operator\n",
    "\n",
    "# Get elementary braiding matrices of 3 anyons\n",
    "\n",
    "braiding_matrices = []\n",
    "for index in [1, 2]:\n",
    "    braiding_matrices.append(generate_braiding_operator(index, 1, 3))"
   ]
  },
  {
   "cell_type": "markdown",
   "id": "b430bf30",
   "metadata": {},
   "source": [
    "To illustrate the matrices, we use the `cplot` function."
   ]
  },
  {
   "cell_type": "code",
   "execution_count": null,
   "id": "9c864a98",
   "metadata": {},
   "outputs": [],
   "source": [
    "from tqsim import cplot"
   ]
  },
  {
   "cell_type": "markdown",
   "id": "9625f79d",
   "metadata": {},
   "source": [
    "<a id=\"521\"></a>\n",
    "### Visualising $\\sigma_1$\n"
   ]
  },
  {
   "cell_type": "code",
   "execution_count": null,
   "id": "df38485d",
   "metadata": {},
   "outputs": [],
   "source": [
    "cplot(np.array(braiding_matrices[0])[1::, 1::])"
   ]
  },
  {
   "cell_type": "markdown",
   "id": "de970a22",
   "metadata": {},
   "source": [
    "<a id=\"522\"></a>\n",
    "### Visualising $\\sigma_1^{-1}$"
   ]
  },
  {
   "cell_type": "code",
   "execution_count": null,
   "id": "4da7ef1a",
   "metadata": {},
   "outputs": [],
   "source": [
    "cplot(np.array(braiding_matrices[0])[1::, 1::].T.conjugate())"
   ]
  },
  {
   "cell_type": "markdown",
   "id": "d7ac2aa2",
   "metadata": {},
   "source": [
    "<a id=\"523\"></a>\n",
    "### Visualising $\\sigma_2$"
   ]
  },
  {
   "cell_type": "code",
   "execution_count": null,
   "id": "25a330f0",
   "metadata": {},
   "outputs": [],
   "source": [
    "cplot(np.array(braiding_matrices[1])[1::, 1::])"
   ]
  },
  {
   "cell_type": "markdown",
   "id": "378c2c69",
   "metadata": {},
   "source": [
    "<a id=\"524\"></a>\n",
    "### Visualising $\\sigma_2^{-1}$"
   ]
  },
  {
   "cell_type": "code",
   "execution_count": null,
   "id": "1f0984ad",
   "metadata": {},
   "outputs": [],
   "source": [
    "cplot(np.array(braiding_matrices[1])[1::, 1::].T.conjugate())"
   ]
  },
  {
   "cell_type": "markdown",
   "id": "0b699983",
   "metadata": {},
   "source": [
    "<hr>\n",
    "\n",
    "<a id=\"bibliography\"></a>\n",
    "## References\n",
    "\n",
    "- <a id=\"ref1\"></a> [M T Rouabah et al 2021 J. Phys.: Conf. Ser. 1766 012029](https://iopscience.iop.org/article/10.1088/1742-6596/1766/1/012029)\n",
    "- <a id=\"ref2\"></a> [C M Dawson & M A Nielsen 2005 arXiv quant-ph 0505030](https://arxiv.org/pdf/quant-ph/0505030.pdf)\n",
    "- <a id=\"ref3\"></a> [Y H Zhang et al 2020 Phys. Rev. Lett. 125 170501](https://journals.aps.org/prl/abstract/10.1103/PhysRevLett.125.170501)\n",
    "- <a id=\"ref4\"></a> [M S Alam et al 2019 arXiv 1912.12002](https://arxiv.org/abs/1912.12002)\n",
    "- <a id=\"ref5\"></a> [V Kliuchnikov et al 2014 Phys. Rev. Lett. 112, 140504](https://journals.aps.org/prl/abstract/10.1103/PhysRevLett.112.140504)"
   ]
  }
 ],
 "metadata": {
  "kernelspec": {
   "display_name": "Python 3 (ipykernel)",
   "language": "python",
   "name": "python3"
  },
  "language_info": {
   "codemirror_mode": {
    "name": "ipython",
    "version": 3
   },
   "file_extension": ".py",
   "mimetype": "text/x-python",
   "name": "python",
   "nbconvert_exporter": "python",
   "pygments_lexer": "ipython3",
   "version": "3.10.6"
  }
 },
 "nbformat": 4,
 "nbformat_minor": 5
}
