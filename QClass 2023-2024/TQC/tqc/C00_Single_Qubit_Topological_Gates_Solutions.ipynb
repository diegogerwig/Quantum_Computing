{
 "cells": [
  {
   "cell_type": "markdown",
   "id": "96de1458",
   "metadata": {},
   "source": [
    "<a href=\"https://qworld.net\" target=\"_blank\" align=\"left\"><img src=\"../qworld/images/header.jpg\"  align=\"left\"></a>\n",
    "<table> <tr>\n",
    "\n",
    "<table width=\"100%\"><td style=\"background-color:#ffffff;font-size:14px;font-style:italic;text-align:right;\">Prepared by <a href=\"http://cqtech.org\" target=\"_blank\">CQTech</a>.</td></table>\n",
    "    \n",
    "$ \\newcommand{\\bra}[1]{\\langle #1|} $\n",
    "$ \\newcommand{\\ket}[1]{|#1\\rangle} $\n",
    "$ \\newcommand{\\braket}[2]{\\langle #1|#2\\rangle} $\n",
    "$ \\newcommand{\\dot}[2]{ #1 \\cdot #2} $\n",
    "$ \\newcommand{\\biginner}[2]{\\left\\langle #1,#2\\right\\rangle} $\n",
    "$ \\newcommand{\\mymatrix}[2]{\\left( \\begin{array}{#1} #2\\end{array} \\right)} $\n",
    "$ \\newcommand{\\myvector}[1]{\\mymatrix{c}{#1}} $\n",
    "$ \\newcommand{\\myrvector}[1]{\\mymatrix{r}{#1}} $\n",
    "$ \\newcommand{\\mypar}[1]{\\left( #1 \\right)} $\n",
    "$ \\newcommand{\\mybigpar}[1]{ \\Big( #1 \\Big)} $\n",
    "$ \\newcommand{\\sqrttwo}{\\frac{1}{\\sqrt{2}}} $\n",
    "$ \\newcommand{\\dsqrttwo}{\\dfrac{1}{\\sqrt{2}}} $\n",
    "$ \\newcommand{\\onehalf}{\\frac{1}{2}} $\n",
    "$ \\newcommand{\\donehalf}{\\dfrac{1}{2}} $\n",
    "$ \\newcommand{\\hadamard}{ \\mymatrix{rr}{ \\sqrttwo & \\sqrttwo \\\\ \\sqrttwo & -\\sqrttwo }} $\n",
    "$ \\newcommand{\\vzero}{\\myvector{1\\\\0}} $\n",
    "$ \\newcommand{\\vone}{\\myvector{0\\\\1}} $\n",
    "$ \\newcommand{\\vhadamardzero}{\\myvector{ \\sqrttwo \\\\  \\sqrttwo } } $\n",
    "$ \\newcommand{\\vhadamardone}{ \\myrvector{ \\sqrttwo \\\\ -\\sqrttwo } } $\n",
    "$ \\newcommand{\\myarray}[2]{ \\begin{array}{#1}#2\\end{array}} $\n",
    "$ \\newcommand{\\X}{ \\mymatrix{cc}{0 & 1 \\\\ 1 & 0}  } $\n",
    "$ \\newcommand{\\Z}{ \\mymatrix{rr}{1 & 0 \\\\ 0 & -1}  } $\n",
    "$ \\newcommand{\\Htwo}{ \\mymatrix{rrrr}{ \\frac{1}{2} & \\frac{1}{2} & \\frac{1}{2} & \\frac{1}{2} \\\\ \\frac{1}{2} & -\\frac{1}{2} & \\frac{1}{2} & -\\frac{1}{2} \\\\ \\frac{1}{2} & \\frac{1}{2} & -\\frac{1}{2} & -\\frac{1}{2} \\\\ \\frac{1}{2} & -\\frac{1}{2} & -\\frac{1}{2} & \\frac{1}{2} } } $\n",
    "$ \\newcommand{\\CNOT}{ \\mymatrix{cccc}{1 & 0 & 0 & 0 \\\\ 0 & 1 & 0 & 0 \\\\ 0 & 0 & 0 & 1 \\\\ 0 & 0 & 1 & 0} } $\n",
    "$ \\newcommand{\\norm}[1]{ \\left\\lVert #1 \\right\\rVert } $\n",
    "$ \\newcommand{\\pstate}[1]{ \\lceil \\mspace{-1mu} #1 \\mspace{-1.5mu} \\rfloor } $"
   ]
  },
  {
   "cell_type": "markdown",
   "id": "30d6e728",
   "metadata": {},
   "source": [
    "# <font color=\"blue\"> Solutions for </font> Single Qubit Topological Quantum Gates\n",
    "\n",
    "<hr>"
   ]
  },
  {
   "cell_type": "markdown",
   "id": "0e70881e",
   "metadata": {},
   "source": [
    "<a id=\"task1\"></a>\n",
    "#### Task 1\n",
    "\n",
    "Draw the following braiding sequence on 3 anyons:\n",
    "\n",
    "$$ \\sigma_{2}^{-1}\\sigma_{2}^{-1} \\sigma_{1} \\sigma_{1} $$\n",
    "\n",
    "<div class=\"alert alert-block alert-danger\"> \n",
    "<b>Caution:</b> Be carefull to the order of operations!\n",
    "</div>\n"
   ]
  },
  {
   "cell_type": "markdown",
   "id": "4fd3c09d",
   "metadata": {},
   "source": [
    "##### Solution"
   ]
  },
  {
   "cell_type": "code",
   "execution_count": null,
   "id": "f2fdd833",
   "metadata": {},
   "outputs": [],
   "source": [
    "from tqsim import AnyonicCircuit\n",
    "\n",
    "circuit = AnyonicCircuit()\n",
    "circuit.braid(1, 2)\n",
    "circuit.braid(1, 2)\n",
    "circuit.braid(3, 2)\n",
    "circuit.braid(3, 2)\n",
    "circuit.draw()"
   ]
  },
  {
   "cell_type": "code",
   "execution_count": null,
   "id": "89e78027",
   "metadata": {},
   "outputs": [],
   "source": [
    "from IPython.display import Latex\n",
    "\n",
    "# Print the sequence\n",
    "Latex(circuit.history(\"latex\"))"
   ]
  },
  {
   "cell_type": "markdown",
   "id": "14b30eb7",
   "metadata": {},
   "source": [
    "<hr>\n",
    "\n",
    "<a id=\"task2\"></a>\n",
    "#### Task 2\n",
    "\n",
    "Draw $\\sigma_1$, $\\sigma_2$, $\\sigma_1^{-1}$ and $\\sigma_2^{-1}$ applied on 3 anyons."
   ]
  },
  {
   "cell_type": "markdown",
   "id": "0cdaa979",
   "metadata": {},
   "source": [
    "#### Solution"
   ]
  },
  {
   "cell_type": "code",
   "execution_count": null,
   "id": "13ab7837",
   "metadata": {},
   "outputs": [],
   "source": [
    "from tqsim import AnyonicCircuit\n",
    "from IPython.display import Latex\n",
    "\n",
    "# Draw sigma_1 operation on 3 anyons\n",
    "circuit = AnyonicCircuit()\n",
    "circuit.braid(1, 2)\n",
    "circuit.draw()"
   ]
  },
  {
   "cell_type": "code",
   "execution_count": null,
   "id": "f3678ea9",
   "metadata": {},
   "outputs": [],
   "source": [
    "Latex(circuit.history(\"latex\"))"
   ]
  },
  {
   "cell_type": "code",
   "execution_count": null,
   "id": "baf9f875",
   "metadata": {},
   "outputs": [],
   "source": [
    "# Draw sigma_1^(-1)\n",
    "circuit = AnyonicCircuit()\n",
    "circuit.braid(2, 1)\n",
    "circuit.draw()"
   ]
  },
  {
   "cell_type": "code",
   "execution_count": null,
   "id": "43986d39",
   "metadata": {},
   "outputs": [],
   "source": [
    "Latex(circuit.history(\"latex\"))"
   ]
  },
  {
   "cell_type": "code",
   "execution_count": null,
   "id": "6d6a7ef4",
   "metadata": {},
   "outputs": [],
   "source": [
    "# Draw sigma_2 \n",
    "circuit = AnyonicCircuit()\n",
    "circuit.braid(2, 3)\n",
    "circuit.draw()"
   ]
  },
  {
   "cell_type": "code",
   "execution_count": null,
   "id": "b830d7f6",
   "metadata": {},
   "outputs": [],
   "source": [
    "Latex(circuit.history(\"latex\"))"
   ]
  },
  {
   "cell_type": "code",
   "execution_count": null,
   "id": "66149504",
   "metadata": {},
   "outputs": [],
   "source": [
    "# Draw sigma_2^(-1)\n",
    "circuit = AnyonicCircuit()\n",
    "circuit.braid(3, 2)\n",
    "circuit.draw()"
   ]
  },
  {
   "cell_type": "code",
   "execution_count": null,
   "id": "1686d97b",
   "metadata": {},
   "outputs": [],
   "source": [
    "Latex(circuit.history(\"latex\"))"
   ]
  },
  {
   "cell_type": "markdown",
   "id": "6622a005",
   "metadata": {},
   "source": [
    "<hr>\n",
    "\n",
    "<a id=\"task3\"></a>\n",
    "#### Task 3"
   ]
  },
  {
   "cell_type": "markdown",
   "id": "b6d178f4",
   "metadata": {},
   "source": [
    "Using Numpy, calculate $\\sigma_1$, $\\sigma_1^{-1}$, $\\sigma_2$ and $\\sigma_2^{-1}$ explicitly."
   ]
  },
  {
   "cell_type": "markdown",
   "id": "b6083324",
   "metadata": {},
   "source": [
    "#### Solution"
   ]
  },
  {
   "cell_type": "code",
   "execution_count": null,
   "id": "20bb139f",
   "metadata": {},
   "outputs": [],
   "source": [
    "import numpy as np"
   ]
  },
  {
   "cell_type": "code",
   "execution_count": null,
   "id": "f9afc9ad",
   "metadata": {},
   "outputs": [],
   "source": [
    "# Compute sigma_1\n",
    "sigma_1 = np.array([[np.exp(-4 * 1j * np.pi / 5), 0],\n",
    "                    [0, np.exp(3 * 1j * np.pi / 5)]])\n",
    "\n",
    "# Show sigma_1\n",
    "print(sigma_1)"
   ]
  },
  {
   "cell_type": "markdown",
   "id": "553fd428",
   "metadata": {},
   "source": [
    "Since braiding matrices are unitary,\n",
    "$$\\sigma_i^{-1} = \\sigma_i^\\dagger = \\overline{\\sigma_i}^T$$"
   ]
  },
  {
   "cell_type": "code",
   "execution_count": null,
   "id": "73c17c68",
   "metadata": {},
   "outputs": [],
   "source": [
    "# Compute sigma_1^(-1)\n",
    "sigma_1_inv = sigma_1.conjugate().T\n",
    "\n",
    "# show sigma_1^(-1)\n",
    "print(sigma_1_inv)"
   ]
  },
  {
   "cell_type": "code",
   "execution_count": null,
   "id": "11588277",
   "metadata": {},
   "outputs": [],
   "source": [
    "# Compute the golden number\n",
    "PHI = (1 + np.sqrt(5)) / 2\n",
    "\n",
    "# Compute F matrix\n",
    "F = np.array([[1 / PHI, 1 / np.sqrt(PHI)],\n",
    "              [1 / np.sqrt(PHI), -1 / PHI]])\n",
    "\n",
    "# Compute R matrix\n",
    "R = sigma_1\n",
    "\n",
    "# Compute sigma_2\n",
    "sigma_2 = F @ R @ F\n",
    "\n",
    "# show sigma_2\n",
    "print(sigma_2)"
   ]
  },
  {
   "cell_type": "code",
   "execution_count": null,
   "id": "1bc24fed",
   "metadata": {},
   "outputs": [],
   "source": [
    "# Compute sigma_2^(-1)\n",
    "sigma_2_inv = sigma_2.conjugate().T\n",
    "\n",
    "# Show sigma_2^(-1)\n",
    "print(sigma_2_inv)"
   ]
  },
  {
   "cell_type": "markdown",
   "id": "d4bba5b5",
   "metadata": {},
   "source": [
    "<hr>\n",
    "\n",
    "<a id=\"task4\"></a>\n",
    "#### Task 4\n",
    "\n",
    "Verify that $$\\sigma_1 \\sigma_1^{-1} = \\sigma_2 \\sigma_2^{-1} = I$$"
   ]
  },
  {
   "cell_type": "markdown",
   "id": "36142906",
   "metadata": {},
   "source": [
    "#### Solution"
   ]
  },
  {
   "cell_type": "code",
   "execution_count": null,
   "id": "82dc1e50",
   "metadata": {},
   "outputs": [],
   "source": [
    "import numpy as np\n",
    "\n",
    "PHI = (1 + np.sqrt(5)) / 2\n",
    "\n",
    "sigma_1 = np.array([[np.exp(-4 * 1j * np.pi / 5), 0],\n",
    "                    [0, np.exp(3 * 1j * np.pi / 5)]])\n",
    "sigma_1_inv = sigma_1.conjugate().T\n",
    "\n",
    "F = np.array([[1 / PHI, 1 / np.sqrt(PHI)],\n",
    "              [1 / np.sqrt(PHI), -1 / PHI]])\n",
    "\n",
    "sigma_2 = F @ sigma_1 @ F\n",
    "sigma_2_inv = sigma_2.conjugate().T\n",
    "\n",
    "# Verification\n",
    "print(f'sigma_1 sigma_1^(-1) =\\n\\n {sigma_1 @ sigma_1_inv}\\n')\n",
    "print(f'sigma_2 sigma_2^(-1) =\\n\\n {sigma_2 @ sigma_2_inv}')"
   ]
  },
  {
   "cell_type": "markdown",
   "id": "bfd400a0",
   "metadata": {},
   "source": [
    "Hence, $\\sigma_1\\sigma_1^{-1} = \\sigma_2\\sigma_2^{-1}= \\left( \\begin{array}{cc} 1 & 0\\\\ 0 & 1\\end{array}\\right)= I$"
   ]
  },
  {
   "cell_type": "markdown",
   "id": "6a9ec371",
   "metadata": {},
   "source": [
    "<hr>\n",
    "\n",
    "<a id=\"task5\"></a>\n",
    "##### Task 5\n",
    "\n",
    "Show that $$\\det R_\\mathbf{n}(\\alpha) = 1$$\n",
    "\n",
    "which implies that $R_\\mathbf{n}(\\alpha)$ is a *special unitary matrix*."
   ]
  },
  {
   "cell_type": "markdown",
   "id": "8a5dab45",
   "metadata": {},
   "source": [
    "<div class=\"alert alert-block alert-info\"> <b>Hint: </b> $\\det \\left( \\begin{array}{cc} a & b \\\\ c & d \\end{array}\\right) = a \\cdot d - c \\cdot b$. </div>"
   ]
  },
  {
   "cell_type": "markdown",
   "id": "5218d2b2",
   "metadata": {},
   "source": [
    "#### Solution\n",
    "\n",
    "\\begin{align}\n",
    "\\det R_\\mathbf{n}(\\alpha) =& \\left( \\cos\\left(\\frac{\\alpha}{2}\\right)-i\\sin\\left(\\frac{\\alpha}{2}\\right)n_z \\right)\\cdot\\left( \\cos\\left(\\frac{\\alpha}{2}\\right)+i\\sin\\left(\\frac{\\alpha}{2}\\right)n_z \\right) \\\\\n",
    "&- \\left( \\sin\\left(\\frac{\\alpha}{2}\\right)n_y-i\\sin\\left(\\frac{\\alpha}{2}\\right)n_x \\right)\\cdot\\left( -\\sin\\left(\\frac{\\alpha}{2}\\right)n_y-i\\sin\\left(\\frac{\\alpha}{2}\\right)n_x \\right)\\\\\n",
    "=& \\left( \\cos\\left(\\frac{\\alpha}{2}\\right)-i\\sin\\left(\\frac{\\alpha}{2}\\right)n_z \\right)\\cdot\\left( \\cos\\left(\\frac{\\alpha}{2}\\right)+i\\sin\\left(\\frac{\\alpha}{2}\\right)n_z \\right) \\\\\n",
    "&+ \\left( \\sin\\left(\\frac{\\alpha}{2}\\right)n_y-i\\sin\\left(\\frac{\\alpha}{2}\\right)n_x \\right)\\cdot\\left( \\sin\\left(\\frac{\\alpha}{2}\\right)n_y+i\\sin\\left(\\frac{\\alpha}{2}\\right)n_x \\right)\\\\\n",
    "=& \\cos\\left(\\frac{\\alpha}{2}\\right)^2 + \\sin\\left(\\frac{\\alpha}{2}\\right)^2n_z^2 + \\sin\\left(\\frac{\\alpha}{2}\\right)^2n_y^2 + \\sin\\left(\\frac{\\alpha}{2}\\right)^2n_x^2\\\\\n",
    "=& \\cos\\left(\\frac{\\alpha}{2}\\right)^2 + \\sin\\left(\\frac{\\alpha}{2}\\right)^2\\left(n_z^2+n_y^2+n_x^2\\right)\\\\\n",
    "=& \\cos\\left(\\frac{\\alpha}{2}\\right)^2 + \\sin\\left(\\frac{\\alpha}{2}\\right)^2\\\\\n",
    "=& 1\n",
    "\\end{align}"
   ]
  },
  {
   "cell_type": "markdown",
   "id": "c87ec7a3",
   "metadata": {},
   "source": [
    "<hr>\n",
    "\n",
    "<a id=\"task6\"></a>\n",
    "#### Task 6\n",
    "\n",
    "Find numerically the coordinates of the *rotation vector* $\\mathbf{n}$ and the *rotation angle* $\\alpha$ for $\\sigma_1$ and $\\sigma_2$. Consider $\\alpha > 0$."
   ]
  },
  {
   "cell_type": "markdown",
   "id": "ecaac7bf",
   "metadata": {},
   "source": [
    "<div class=\"alert alert-block alert-info\"> <b>Hint: </b> $\\det U = e^{i2\\eta}$ </div>"
   ]
  },
  {
   "cell_type": "markdown",
   "id": "73efa92a",
   "metadata": {},
   "source": [
    "<div class=\"alert alert-block alert-success\">\n",
    "<b>Tip: </b> Use 'np.linalg.det' to compute the determinant ($\\det$).\n",
    "</div>"
   ]
  },
  {
   "cell_type": "markdown",
   "id": "16bcc090",
   "metadata": {},
   "source": [
    "#### Solution"
   ]
  },
  {
   "cell_type": "code",
   "execution_count": null,
   "id": "c91cbb34",
   "metadata": {},
   "outputs": [],
   "source": [
    "import numpy as np\n",
    "from math import acos, asin, sin\n",
    "\n",
    "PHI = (1 + np.sqrt(5)) / 2\n",
    "\n",
    "sigma_1 = np.array([[np.exp(-4 * 1j * np.pi / 5), 0],\n",
    "                    [0, np.exp(3 * 1j * np.pi / 5)]])\n",
    "sigma_1_inv = sigma_1.conjugate().T\n",
    "\n",
    "F = np.array([[1 / PHI, 1 / np.sqrt(PHI)],\n",
    "              [1 / np.sqrt(PHI), -1 / PHI]])\n",
    "\n",
    "sigma_2 = F @ sigma_1 @ F\n",
    "sigma_2_inv = sigma_2.conjugate().T"
   ]
  },
  {
   "cell_type": "code",
   "execution_count": null,
   "id": "bab02645",
   "metadata": {},
   "outputs": [],
   "source": [
    "\"\"\" Calculate alpha and n for sigma_1 \"\"\"\n",
    "\n",
    "# Calculate R_n(alpha) by eliminating the phase exp(i eta)\n",
    "R_1 = sigma_1 / np.sqrt(np.linalg.det(sigma_1))\n",
    "\n",
    "# calculate alpha\n",
    "alpha_1 = acos(R_1[0][0].real) * 2\n",
    "\n",
    "# calculate n_z \n",
    "nz_1 = - R_1[0][0].imag / sin(alpha_1 / 2)\n",
    "\n",
    "# calculate n_y\n",
    "ny_1 = - R_1[0][1].real / sin(alpha_1 / 2)\n",
    "\n",
    "# calculate n_x\n",
    "nx_1 = - R_1[0][1].imag / sin(alpha_1 / 2)"
   ]
  },
  {
   "cell_type": "code",
   "execution_count": null,
   "id": "fd2545df",
   "metadata": {},
   "outputs": [],
   "source": [
    "print(f'Angle of rotation = {alpha_1 / np.pi} {chr(0x3c0)} = {alpha_1 * 180 / np.pi} Deg ')\n",
    "print(f'Vector of rotation = {(nx_1, ny_1, nz_1)}')"
   ]
  },
  {
   "cell_type": "markdown",
   "id": "a7139568",
   "metadata": {},
   "source": [
    "Notice that $\\sigma_1$ is just a Phase Gate or $RZ$ Gate."
   ]
  },
  {
   "cell_type": "code",
   "execution_count": null,
   "id": "c49c14ab",
   "metadata": {},
   "outputs": [],
   "source": [
    "# Calculate alpha and n for sigma_2\n",
    "\n",
    "# Calculate R_n(alpha) by eliminating the phase exp(i eta) (Given)\n",
    "R_2 = sigma_2 / np.sqrt(np.linalg.det(sigma_2))\n",
    "\n",
    "# calculate alpha\n",
    "alpha_2 = acos(R_2[0][0].real) * 2\n",
    "\n",
    "# calculate n_z \n",
    "nz_2 = -R_2[0][0].imag / sin(alpha_2 / 2)\n",
    "\n",
    "# calculate n_y\n",
    "ny_2 = - R_2[0][1].real / sin(alpha_2 / 2)\n",
    "\n",
    "# calculate n_x\n",
    "nx_2 = - R_2[0][1].imag / sin(alpha_2 / 2)"
   ]
  },
  {
   "cell_type": "code",
   "execution_count": null,
   "id": "bea4796b",
   "metadata": {},
   "outputs": [],
   "source": [
    "print(f'Angle of rotation = {alpha_2 / np.pi} {chr(0x3c0)} = {alpha_2 * 180 / np.pi} Deg ')\n",
    "print(f'Vector of rotation = {(nx_2, ny_2, nz_2)}')"
   ]
  },
  {
   "cell_type": "markdown",
   "id": "f97a232a",
   "metadata": {},
   "source": [
    "Notice that $\\sigma_2$ rotation vector is on the xz plane as Hadamard Gate."
   ]
  },
  {
   "cell_type": "markdown",
   "id": "22a6ead3",
   "metadata": {},
   "source": [
    "<hr>\n",
    "\n",
    "<a id=\"task7\"></a>\n",
    "#### Task 7\n",
    "\n",
    "Repeat the same procedure for $\\sigma_1^{-1}$ and $\\sigma_2^{-1}$. What do you expect about the vector and angle of rotation?"
   ]
  },
  {
   "cell_type": "markdown",
   "id": "878199f8",
   "metadata": {},
   "source": [
    "#### Solution\n",
    "\n",
    "Since $\\alpha$ is considered positive, $\\sigma_1^{-1}$ should have the same rotation angle as $\\sigma_1$ but with minus signed vector of rotation."
   ]
  },
  {
   "cell_type": "code",
   "execution_count": null,
   "id": "45e5de6b",
   "metadata": {},
   "outputs": [],
   "source": [
    "import numpy as np\n",
    "from math import acos, asin, sin\n",
    "\n",
    "PHI = (1 + np.sqrt(5)) / 2\n",
    "\n",
    "sigma_1 = np.array([[np.exp(-4 * 1j * np.pi / 5), 0],\n",
    "                    [0, np.exp(3 * 1j * np.pi / 5)]])\n",
    "sigma_1_inv = sigma_1.conjugate().T\n",
    "\n",
    "F = np.array([[1 / PHI, 1 / np.sqrt(PHI)],\n",
    "              [1 / np.sqrt(PHI), -1 / PHI]])\n",
    "\n",
    "sigma_2 = F @ sigma_1 @ F\n",
    "sigma_2_inv = sigma_2.conjugate().T\n",
    "\n",
    "alpha_1 = 1.4 * np.pi\n",
    "alpha_2 = alpha_1"
   ]
  },
  {
   "cell_type": "code",
   "execution_count": null,
   "id": "3634ad93",
   "metadata": {},
   "outputs": [],
   "source": [
    "\"\"\" Calculate alpha and n for sigma_1^(-1) \"\"\"\n",
    "\n",
    "# Calculate R_n(alpha) by eliminating the phase exp(i eta)\n",
    "R_1_inv = sigma_1_inv / np.sqrt(np.linalg.det(sigma_1_inv))\n",
    "\n",
    "# calculate alpha\n",
    "alpha_1_inv = acos(R_1_inv[0][0].real) * 2\n",
    "\n",
    "# calculate n_z \n",
    "nz_1_inv = - R_1_inv[0][0].imag / sin(alpha_1_inv / 2)\n",
    "\n",
    "# calculate n_y\n",
    "ny_1_inv = - R_1_inv[0][1].real / sin(alpha_1_inv / 2)\n",
    "\n",
    "# calculate n_x\n",
    "nx_1_inv = - R_1_inv[0][1].imag / sin(alpha_1_inv / 2)"
   ]
  },
  {
   "cell_type": "code",
   "execution_count": null,
   "id": "5d08958f",
   "metadata": {},
   "outputs": [],
   "source": [
    "print(f'Angle of rotation = {alpha_1_inv / np.pi} {chr(0x3c0)} = {alpha_1_inv * 180 / np.pi} Deg ')\n",
    "print(f'Vector of rotation = {(nx_1_inv, ny_1_inv, nz_1_inv)}')"
   ]
  },
  {
   "cell_type": "markdown",
   "id": "044e93b1",
   "metadata": {},
   "source": [
    "<hr>\n",
    "\n",
    "<a id=\"task8\"></a>\n",
    "#### Task 8\n",
    "\n",
    "Apply the braiding operations $\\sigma_1$, $\\sigma_1^{-1}$, $\\sigma_2$ and $\\sigma_2^{-1}$ on $\\ket{0}$ and plot the final quantum state."
   ]
  },
  {
   "cell_type": "code",
   "execution_count": null,
   "id": "45612850",
   "metadata": {},
   "outputs": [],
   "source": [
    "from qiskit.tools.visualization import plot_bloch_vector\n",
    "import math\n",
    "\n",
    "def polar(z):\n",
    "    \"\"\"\n",
    "    This function returns the polar form [r, theta] of the given complex number z = a + bj.\n",
    "    \"\"\"\n",
    "    a = z.real\n",
    "    b = z.imag\n",
    "    r = math.hypot(a, b)\n",
    "    theta = math.atan2(b, a)\n",
    "    return r, theta\n",
    "    \n",
    "def bloch_vector(state):\n",
    "    \"\"\"\n",
    "    This function returns the Cartesian coordinates [x, y, z] of the vector in the Bloch sphere that represents\n",
    "    the given quantum state (state).\n",
    "    \"\"\"\n",
    "    c, eta = polar(state[0])\n",
    "    s, phi = polar(state[1])\n",
    "    phi += -eta\n",
    "    theta = math.atan2(s, c) * 2\n",
    "    x = math.sin(theta) * math.cos(phi)\n",
    "    y = math.sin(theta) * math.sin(phi)\n",
    "    z = math.cos(theta)\n",
    "    return x, y, z\n",
    "    "
   ]
  },
  {
   "cell_type": "markdown",
   "id": "d145efd2",
   "metadata": {},
   "source": [
    "#### Solution"
   ]
  },
  {
   "cell_type": "code",
   "execution_count": null,
   "id": "8430dad1",
   "metadata": {},
   "outputs": [],
   "source": [
    "# Compute sigma_1 |0>\n",
    "final_state = sigma_1 @ np.array([1, 0])\n",
    "\n",
    "# Plot sigma_1 |0>\n",
    "x, y, z = bloch_vector(final_state)\n",
    "print('x = ', round(x, 2),\n",
    "      '\\ny = ', round(y, 2),\n",
    "      '\\nz = ', round(z, 2))\n",
    "\n",
    "plot_bloch_vector([[0, 0, 1], [x, y, z]])\n"
   ]
  },
  {
   "cell_type": "markdown",
   "id": "4859900d",
   "metadata": {},
   "source": [
    "Notice that $\\sigma_1$ does not affect the Bloch vector of $\\ket{0}$ because it is an RZ rotation."
   ]
  },
  {
   "cell_type": "code",
   "execution_count": null,
   "id": "cb85b938",
   "metadata": {},
   "outputs": [],
   "source": [
    "# compute sigma_1^(-1) |0>\n",
    "final_state = sigma_1_inv @ np.array([1, 0])\n",
    "\n",
    "# plot sigma_1 |0>\n",
    "x, y, z = bloch_vector(final_state)\n",
    "print('x = ', round(x, 2),\n",
    "      '\\ny = ', round(y, 2),\n",
    "      '\\nz = ', round(z, 2))\n",
    "\n",
    "plot_bloch_vector([[0, 0, 1], [x, y, z]])"
   ]
  },
  {
   "cell_type": "code",
   "execution_count": null,
   "id": "08df24ee",
   "metadata": {},
   "outputs": [],
   "source": [
    "# Compute sigma_2 |0>\n",
    "final_state = sigma_2 @ np.array([1, 0])\n",
    "\n",
    "# Plot sigma_1 |0>\n",
    "x, y, z = bloch_vector(final_state)\n",
    "print('x = ', round(x, 2),\n",
    "      '\\ny = ', round(y, 2),\n",
    "      '\\nz = ', round(z, 2))\n",
    "\n",
    "plot_bloch_vector([[0, 0, 1], [x, y, z]])"
   ]
  },
  {
   "cell_type": "code",
   "execution_count": null,
   "id": "c3391a2e",
   "metadata": {},
   "outputs": [],
   "source": [
    "# Compute sigma_2^(-1) |0>\n",
    "final_state = sigma_2_inv @ np.array([1, 0])\n",
    "\n",
    "# Plot sigma_1 |0>\n",
    "x, y, z = bloch_vector(final_state)\n",
    "print('x = ', round(x, 2),\n",
    "      '\\ny = ', round(y, 2),\n",
    "      '\\nz = ', round(z, 2))\n",
    "\n",
    "plot_bloch_vector([[0, 0, 1], [x, y, z]])"
   ]
  },
  {
   "cell_type": "markdown",
   "id": "82f64e31",
   "metadata": {},
   "source": [
    "<hr>\n",
    "\n",
    "<a id=\"task9\"></a>\n",
    "#### Task 9\n",
    "\n",
    "Now, show in the Bloch sphere all possible states that we can obtain by applying two elementary braiding operations ($\\sigma_i^p \\sigma_j^q$) on the state $\\ket{0}$. Here, $|p| + |q| = 2$."
   ]
  },
  {
   "cell_type": "code",
   "execution_count": null,
   "id": "96a87b7d",
   "metadata": {},
   "outputs": [],
   "source": [
    "from qiskit.tools.visualization import plot_bloch_vector\n",
    "import math\n",
    "\n",
    "def polar(z):\n",
    "    \"\"\"\n",
    "    This function returns the polar form [r, theta] of the given complex number z = a + bj.\n",
    "    \"\"\"\n",
    "    a = z.real\n",
    "    b = z.imag\n",
    "    r = math.hypot(a, b)\n",
    "    theta = math.atan2(b, a)\n",
    "    return r, theta\n",
    "    \n",
    "def bloch_vector(state):\n",
    "    \"\"\"\n",
    "    This function returns the Cartesian coordinates [x, y, z] of the vector in the Bloch sphere that represents\n",
    "    the given quantum state (state).\n",
    "    \"\"\"\n",
    "    c, eta = polar(state[0])\n",
    "    s, phi = polar(state[1])\n",
    "    phi += -eta\n",
    "    theta = math.atan2(s, c) * 2\n",
    "    x = math.sin(theta) * math.cos(phi)\n",
    "    y = math.sin(theta) * math.sin(phi)\n",
    "    z = math.cos(theta)\n",
    "    return x, y, z"
   ]
  },
  {
   "cell_type": "code",
   "execution_count": null,
   "id": "9ab65e4e",
   "metadata": {},
   "outputs": [],
   "source": [
    "SIGMA = [sigma_1, sigma_1_inv, sigma_2, sigma_2_inv]\n",
    "POWER = [0, 1, 2]\n",
    "INITIAL_STATE = np.array([1, 0])\n",
    "\n",
    "final_states = []\n",
    "for p in POWER:\n",
    "    for q in POWER:\n",
    "        if p + q == 2:\n",
    "            for sigma_i in SIGMA:\n",
    "                for sigma_j in SIGMA:\n",
    "                    \n",
    "                    #  YOUR CODE\n",
    "                    final_state = sigma_i**p @ sigma_j**q @ INITIAL_STATE\n",
    "                    final_states.append(final_state)\n",
    "\n",
    "# Plot \n",
    "vectors = []\n",
    "for final_state in final_states:\n",
    "    x, y, z = bloch_vector(final_state)\n",
    "    vectors.append([x, y, z])\n",
    "\n",
    "plot_bloch_vector(vectors)"
   ]
  },
  {
   "cell_type": "markdown",
   "id": "615882d0",
   "metadata": {},
   "source": [
    "<hr>\n",
    "\n",
    "<a id=\"task10\"></a>\n",
    "#### Task 10\n",
    "\n",
    "Repeat the task 8 for sequences of 3 elementary braiding operations  ($\\sigma_i^p \\sigma_j^q \\sigma_k^r$)."
   ]
  },
  {
   "cell_type": "code",
   "execution_count": null,
   "id": "5d83b07f",
   "metadata": {},
   "outputs": [],
   "source": [
    "from qiskit.tools.visualization import plot_bloch_vector\n",
    "import math\n",
    "\n",
    "def polar(z):\n",
    "    \"\"\"\n",
    "    This function returns the polar form [r, theta] of the given complex number z = a + bj.\n",
    "    \"\"\"\n",
    "    a = z.real\n",
    "    b = z.imag\n",
    "    r = math.hypot(a, b)\n",
    "    theta = math.atan2(b, a)\n",
    "    return r, theta\n",
    "    \n",
    "def bloch_vector(state):\n",
    "    \"\"\"\n",
    "    This function returns the Cartesian coordinates [x, y, z] of the vector in the Bloch sphere that represents\n",
    "    the given quantum state (state).\n",
    "    \"\"\"\n",
    "    c, eta = polar(state[0])\n",
    "    s, phi = polar(state[1])\n",
    "    phi += -eta\n",
    "    theta = math.atan2(s, c) * 2\n",
    "    x = math.sin(theta) * math.cos(phi)\n",
    "    y = math.sin(theta) * math.sin(phi)\n",
    "    z = math.cos(theta)\n",
    "    return x, y, z"
   ]
  },
  {
   "cell_type": "code",
   "execution_count": null,
   "id": "862f2492",
   "metadata": {},
   "outputs": [],
   "source": [
    "SIGMA = [sigma_1, sigma_1_inv, sigma_2, sigma_2_inv]\n",
    "POWER = [0, 1, 2, 3]\n",
    "INITIAL_STATE = np.array([1, 0])\n",
    "\n",
    "final_states = []\n",
    "for p in POWER:\n",
    "    for q in POWER:\n",
    "        for r in POWER:\n",
    "            if p + q + r == 3:\n",
    "                for sigma_i in SIGMA:\n",
    "                    for sigma_j in SIGMA:\n",
    "                        for sigma_k in SIGMA:\n",
    "\n",
    "                            #  YOUR CODE\n",
    "                            final_state = sigma_i**p @ sigma_j**q @ INITIAL_STATE\n",
    "                            final_states.append(final_state)\n",
    "\n",
    "# plot \n",
    "vectors = []\n",
    "for final_state in final_states:\n",
    "    x, y, z = bloch_vector(final_state)\n",
    "    vectors.append([x, y, z])\n",
    "\n",
    "plot_bloch_vector(vectors)"
   ]
  },
  {
   "cell_type": "markdown",
   "id": "fdd3a515",
   "metadata": {},
   "source": [
    "<hr>\n",
    "\n",
    "<a id=\"task12\"></a>\n",
    "##### Task 12\n",
    "Using the definition of $\\sigma_2$, show that $$\\sigma_2 = F \\sigma_1 F$$"
   ]
  },
  {
   "cell_type": "markdown",
   "id": "cecbe613",
   "metadata": {},
   "source": [
    "##### Solution\n",
    "\n",
    "$\\sigma_2 = B = FRF^\\dagger$\n",
    "\n",
    "Since $R = \\sigma_1$ and $F=F^\\dagger$, then,\n",
    "\n",
    "$$\\sigma_2=𝐹\\sigma_1𝐹$$\n",
    "$$\\sigma_1=𝐹\\sigma_2𝐹$$"
   ]
  },
  {
   "cell_type": "markdown",
   "id": "f73009f7",
   "metadata": {},
   "source": [
    "<hr>\n",
    "\n",
    "<a id=\"task13\"></a>\n",
    "##### Task 13\n",
    "\n",
    "Prove that $$\\sigma_1 \\sigma_2 \\sigma_1 = \\sigma_2 \\sigma_1 \\sigma_2$$"
   ]
  },
  {
   "cell_type": "markdown",
   "id": "4f066aa4",
   "metadata": {},
   "source": [
    "##### Solution\n",
    "\n",
    "Using similarity relation between $\\sigma_1$ and $\\sigma_2$, we can prove directly Yang-Baxter relation."
   ]
  },
  {
   "cell_type": "markdown",
   "id": "677c8413",
   "metadata": {},
   "source": [
    "<hr>\n",
    "\n",
    "<a id=\"task14\"></a>\n",
    "##### Task 14\n",
    "\n",
    "Prove that $$\\sigma_1^{10} = \\sigma_2^{10} = I$$ "
   ]
  },
  {
   "cell_type": "markdown",
   "id": "544992ae",
   "metadata": {},
   "source": [
    "##### Solution \n",
    "\n",
    "$\\sigma_1 = \\mymatrix{cc}{e^{-i\\frac{4\\pi}{5}} & 0 \\\\ 0 & e^{i\\frac{3\\pi}{5}}}$\n",
    "\n",
    "Then,\n",
    "\n",
    "$\\sigma_1^{10} = \\mymatrix{cc}{e^{-i 8\\pi} & 0 \\\\ 0 & e^{i6\\pi} }= \\mymatrix{cc}{1 & 0 \\\\ 0 & 1} = I$\n",
    "\n",
    "Using the [similarity relation](#411), we conclude that:\n",
    "\n",
    "$\\sigma_2^{10} = \\sigma_1^{10} = I$"
   ]
  },
  {
   "cell_type": "markdown",
   "id": "9683d63e",
   "metadata": {},
   "source": [
    "Hence,\n",
    "\n",
    "$$\\sigma_1^{-1} = \\sigma_1^9$$"
   ]
  },
  {
   "cell_type": "markdown",
   "id": "f9d85c9f",
   "metadata": {},
   "source": [
    "<hr>\n",
    "\n",
    "<a id=\"task15\"></a>\n",
    "##### Task 15\n",
    "\n",
    "Check that $\\sigma_2^2 \\sigma_1^4 \\sigma_2^{-2} \\sigma_1^2   $ is a weaving sequence.\n"
   ]
  },
  {
   "cell_type": "markdown",
   "id": "7258465b",
   "metadata": {},
   "source": [
    "#### Solution"
   ]
  },
  {
   "cell_type": "code",
   "execution_count": null,
   "id": "9490d79d",
   "metadata": {},
   "outputs": [],
   "source": [
    "from tqsim import AnyonicCircuit\n",
    "from IPython.display import Latex\n",
    "\n",
    "circuit = AnyonicCircuit()\n",
    "circuit.braid(1, 2)\n",
    "circuit.braid(1, 2)\n",
    "circuit.braid(2, 3)\n",
    "circuit.braid(2, 3)\n",
    "circuit.braid(1, 2)\n",
    "circuit.braid(1, 2)\n",
    "circuit.braid(1, 2)\n",
    "circuit.braid(1, 2)\n",
    "circuit.braid(3, 2)\n",
    "circuit.braid(3, 2)\n",
    "\n",
    "circuit.drawer.anyons[2].color = 'r'\n",
    "circuit.draw()"
   ]
  },
  {
   "cell_type": "code",
   "execution_count": null,
   "id": "92cd2563",
   "metadata": {},
   "outputs": [],
   "source": [
    "Latex(circuit.history('latex'))"
   ]
  },
  {
   "cell_type": "markdown",
   "id": "0a3b0e4f",
   "metadata": {},
   "source": [
    "<hr>\n",
    "\n",
    "<a id=\"task16\"></a>\n",
    "##### Task 16\n",
    "\n",
    "Create a function that applies a given list of braids on _AnyonSimulator_."
   ]
  },
  {
   "cell_type": "markdown",
   "id": "7381bb90",
   "metadata": {},
   "source": [
    "#### Solution"
   ]
  },
  {
   "cell_type": "code",
   "execution_count": null,
   "id": "ad698d9f",
   "metadata": {},
   "outputs": [],
   "source": [
    "import numpy as np\n",
    "from tqsim import AnyonicCircuit\n",
    "from IPython.display import Latex\n",
    "\n",
    "def braid(circuit, braids):\n",
    "    \"\"\"\n",
    "    This function applies the list of braids [[i_1, p_1], [i_2, p_2], ... [i_L, p_L]]\n",
    "    on a circuit of AnyonSimulator type.\n",
    "    \"\"\"\n",
    "    for braid_ in braids:\n",
    "        index = braid_[0]\n",
    "        power = braid_[1]\n",
    "        power_sign = np.sign(power)\n",
    "        if power_sign > 0:\n",
    "            for ii in range(abs(power)):\n",
    "                circuit.braid(index, index + 1)\n",
    "        elif power_sign < 0:\n",
    "            for ii in range(abs(power)):\n",
    "                circuit.braid(index + 1, index)"
   ]
  },
  {
   "cell_type": "code",
   "execution_count": null,
   "id": "f3cf7116",
   "metadata": {},
   "outputs": [],
   "source": [
    "# Example\n",
    "braiding_sequence = [[1, 2], [2, 4], [1, -2]]\n",
    "circuit = AnyonicCircuit()\n",
    "braid(circuit, braiding_sequence)\n",
    "Latex(circuit.history(\"latex\"))"
   ]
  },
  {
   "cell_type": "markdown",
   "id": "02ee6073",
   "metadata": {},
   "source": [
    "<hr>\n",
    "\n",
    "<a id=\"task17\"></a>\n",
    "#### Task 17\n",
    "\n",
    "Show that the following weaving sequence of length 30 approximates Hadamard gate up to a global phase:\n",
    "\n",
    "$$H \\approx \\sigma_1^{-2}\\sigma_2^{-2}\\sigma_1^{2} \\sigma_2^{2} \\sigma_1^{-2} \\sigma_2^{-4} \\sigma_1^{2} \\sigma_2^{-2} \\sigma_1^{-2} \\sigma_2^{2} \\sigma_1^{-2} \\sigma_2^{2} \\sigma_1^{-4}$$"
   ]
  },
  {
   "cell_type": "markdown",
   "id": "465b64a9",
   "metadata": {},
   "source": [
    "#### Solution"
   ]
  },
  {
   "cell_type": "code",
   "execution_count": null,
   "id": "fbe860fe",
   "metadata": {},
   "outputs": [],
   "source": [
    "# Hadamard weaving sequence\n",
    "hadamard_seq = [[1, -4], [2, 2], [1, -2], [2, 2], [1, -2], [2, -2], [1, 2], [2, -4], [1, -2], [2, 2],\n",
    "                [1, 2], [2, -2], [1, -2]]"
   ]
  },
  {
   "cell_type": "code",
   "execution_count": null,
   "id": "59a4871e",
   "metadata": {},
   "outputs": [],
   "source": [
    "from tqsim import AnyonicCircuit\n",
    "from IPython.display import Latex\n",
    "\n",
    "# Draw Hadamard weaving sequence\n",
    "hadamard_circuit = AnyonicCircuit()\n",
    "hadamard_circuit.braid_sequence(hadamard_seq)\n",
    "hadamard_circuit.draw()"
   ]
  },
  {
   "cell_type": "code",
   "execution_count": null,
   "id": "35a56c2c",
   "metadata": {},
   "outputs": [],
   "source": [
    "Latex(hadamard_circuit.history(\"latex\"))"
   ]
  },
  {
   "cell_type": "markdown",
   "id": "621201e4",
   "metadata": {},
   "source": [
    "<hr>\n",
    "\n",
    "<a id=\"task18\"></a>\n",
    "#### Task 18\n",
    "\n",
    "Show that the following weaving sequence of length 30 approximates T gate up to a global phase:\n",
    "\n",
    "$$T \\approx \\sigma_2^{-2}\\sigma_1^{4} \\sigma_2^{-2} \\sigma_1^{4} \\sigma_2^{-2} \\sigma_1^{-2} \\sigma_2^{2} \\sigma_1^{2} \\sigma_2^{4} \\sigma_1^{-2} \\sigma_2^{2} \\sigma_1^{2}$$"
   ]
  },
  {
   "cell_type": "code",
   "execution_count": null,
   "id": "246ec059",
   "metadata": {},
   "outputs": [],
   "source": [
    "# T Gate weaving sequence\n",
    "t_sequence = [[1, 2], [2, 2], [1, -2], [2, 4], [1, 2], [2, 2], [1, -2], [2, -2], [1, 4], [2, -2],\n",
    "              [1, 4], [2, -2]]"
   ]
  },
  {
   "cell_type": "code",
   "execution_count": null,
   "id": "71077bee",
   "metadata": {},
   "outputs": [],
   "source": [
    "from tqsim import AnyonicCircuit\n",
    "from IPython.display import Latex\n",
    "\n",
    "# Draw Hadamard weaving sequence\n",
    "t_circuit = AnyonicCircuit()\n",
    "t_circuit.braid_sequence(t_sequence)\n",
    "t_circuit.draw()"
   ]
  },
  {
   "cell_type": "code",
   "execution_count": null,
   "id": "8f689b28",
   "metadata": {},
   "outputs": [],
   "source": [
    "Latex(t_circuit.history(\"latex\"))"
   ]
  },
  {
   "cell_type": "code",
   "execution_count": null,
   "id": "d6a39e0c",
   "metadata": {},
   "outputs": [],
   "source": [
    "import numpy as np\n",
    "PHI = (1 + np.sqrt(5)) / 2\n",
    "\n",
    "sigma_1 = np.array([[np.exp(-4 * 1j * np.pi / 5), 0],\n",
    "                    [0, np.exp(3 * 1j * np.pi / 5)]])\n",
    "sigma_1_inv = sigma_1.conjugate().T\n",
    "\n",
    "F = np.array([[1 / PHI, 1 / np.sqrt(PHI)],\n",
    "              [1 / np.sqrt(PHI), -1 / PHI]])\n",
    "\n",
    "sigma_2 = F @ sigma_1 @ F\n",
    "sigma_2_inv = sigma_2.conjugate().T\n",
    "\n",
    "I = np.array([[1, 0],\n",
    "              [0, 1]])\n",
    "TGATE = np.array([[1, 0], \n",
    "                  [0, np.exp(1j * np.pi / 4)]])\n",
    "sigma = {1 : {1 : sigma_1, -1 : sigma_1_inv},\n",
    "         2 : {1 : sigma_2, -1 : sigma_2_inv}}\n",
    "\n",
    "L = 0\n",
    "unitary = I\n",
    "for weave in t_sequence:\n",
    "    for ii in range(abs(weave[1])):\n",
    "        L += 1\n",
    "        if weave[1] > 0:\n",
    "            unitary = sigma[weave[0]][1] @ unitary\n",
    "        else:\n",
    "            unitary = sigma[weave[0]][-1] @ unitary\n",
    "\n",
    "print(f'length = {L}')\n",
    "print(f'T = \\n\\n{TGATE}')\n",
    "print(f'\\nBraiding Sequence = \\n\\n{unitary}')\n",
    "print(f'\\nDistance(T, Braiding Sequence) = {distance(unitary, TGATE)}')"
   ]
  },
  {
   "cell_type": "code",
   "execution_count": null,
   "id": "c4c22ff7",
   "metadata": {},
   "outputs": [],
   "source": []
  }
 ],
 "metadata": {
  "kernelspec": {
   "display_name": "Python 3 (ipykernel)",
   "language": "python",
   "name": "python3"
  },
  "language_info": {
   "codemirror_mode": {
    "name": "ipython",
    "version": 3
   },
   "file_extension": ".py",
   "mimetype": "text/x-python",
   "name": "python",
   "nbconvert_exporter": "python",
   "pygments_lexer": "ipython3",
   "version": "3.10.6"
  }
 },
 "nbformat": 4,
 "nbformat_minor": 5
}
