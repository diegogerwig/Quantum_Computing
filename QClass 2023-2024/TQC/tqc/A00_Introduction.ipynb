{
 "cells": [
  {
   "cell_type": "markdown",
   "id": "24c6aab8",
   "metadata": {},
   "source": [
    "<a href=\"https://qworld.net\" target=\"_blank\" align=\"left\"><img src=\"../qworld/images/header.jpg\"  align=\"left\"></a>\n",
    "<table> <tr>\n",
    "\n",
    "<table width=\"100%\"><td style=\"background-color:#ffffff;font-size:14px;font-style:italic;text-align:right;\">Prepared by <a href=\"http://cqtech.org\" target=\"_blank\"><b>CQTech</b></a>.</td></table>\n",
    "    \n",
    "$ \\newcommand{\\bra}[1]{\\langle #1|} $\n",
    "$ \\newcommand{\\ket}[1]{|#1\\rangle} $\n",
    "$ \\newcommand{\\braket}[2]{\\langle #1|#2\\rangle} $\n",
    "$ \\newcommand{\\dot}[2]{ #1 \\cdot #2} $\n",
    "$ \\newcommand{\\biginner}[2]{\\left\\langle #1,#2\\right\\rangle} $\n",
    "$ \\newcommand{\\mymatrix}[2]{\\left( \\begin{array}{#1} #2\\end{array} \\right)} $\n",
    "$ \\newcommand{\\myvector}[1]{\\mymatrix{c}{#1}} $\n",
    "$ \\newcommand{\\myrvector}[1]{\\mymatrix{r}{#1}} $\n",
    "$ \\newcommand{\\mypar}[1]{\\left( #1 \\right)} $\n",
    "$ \\newcommand{\\mybigpar}[1]{ \\Big( #1 \\Big)} $\n",
    "$ \\newcommand{\\sqrttwo}{\\frac{1}{\\sqrt{2}}} $\n",
    "$ \\newcommand{\\dsqrttwo}{\\dfrac{1}{\\sqrt{2}}} $\n",
    "$ \\newcommand{\\onehalf}{\\frac{1}{2}} $\n",
    "$ \\newcommand{\\donehalf}{\\dfrac{1}{2}} $\n",
    "$ \\newcommand{\\hadamard}{ \\mymatrix{rr}{ \\sqrttwo & \\sqrttwo \\\\ \\sqrttwo & -\\sqrttwo }} $\n",
    "$ \\newcommand{\\vzero}{\\myvector{1\\\\0}} $\n",
    "$ \\newcommand{\\vone}{\\myvector{0\\\\1}} $\n",
    "$ \\newcommand{\\vhadamardzero}{\\myvector{ \\sqrttwo \\\\  \\sqrttwo } } $\n",
    "$ \\newcommand{\\vhadamardone}{ \\myrvector{ \\sqrttwo \\\\ -\\sqrttwo } } $\n",
    "$ \\newcommand{\\myarray}[2]{ \\begin{array}{#1}#2\\end{array}} $\n",
    "$ \\newcommand{\\X}{ \\mymatrix{cc}{0 & 1 \\\\ 1 & 0}  } $\n",
    "$ \\newcommand{\\Z}{ \\mymatrix{rr}{1 & 0 \\\\ 0 & -1}  } $\n",
    "$ \\newcommand{\\Htwo}{ \\mymatrix{rrrr}{ \\frac{1}{2} & \\frac{1}{2} & \\frac{1}{2} & \\frac{1}{2} \\\\ \\frac{1}{2} & -\\frac{1}{2} & \\frac{1}{2} & -\\frac{1}{2} \\\\ \\frac{1}{2} & \\frac{1}{2} & -\\frac{1}{2} & -\\frac{1}{2} \\\\ \\frac{1}{2} & -\\frac{1}{2} & -\\frac{1}{2} & \\frac{1}{2} } } $\n",
    "$ \\newcommand{\\CNOT}{ \\mymatrix{cccc}{1 & 0 & 0 & 0 \\\\ 0 & 1 & 0 & 0 \\\\ 0 & 0 & 0 & 1 \\\\ 0 & 0 & 1 & 0} } $\n",
    "$ \\newcommand{\\norm}[1]{ \\left\\lVert #1 \\right\\rVert } $\n",
    "$ \\newcommand{\\pstate}[1]{ \\lceil \\mspace{-1mu} #1 \\mspace{-1.5mu} \\rfloor } $"
   ]
  },
  {
   "cell_type": "markdown",
   "id": "a23fe73c",
   "metadata": {
    "tags": []
   },
   "source": [
    "# Introduction to quantum computing Hardware\n",
    "<hr>"
   ]
  },
  {
   "cell_type": "markdown",
   "id": "6beef3f0",
   "metadata": {},
   "source": [
    "## Content\n",
    "\n",
    "1. [Limitations of classical computers](#100)\n",
    "1. [Requirements for a physical quantum computer](#200)\n",
    "    1. [Divincenzo's criteria](#210)\n",
    "    1. [Scalability with well-characterised qubits](#220)\n",
    "    1. [Universal quantum gates](#230)\n",
    "    1. [Measurements](#240)\n",
    "1. [Quantum decoherence](#300)\n",
    "1. [Fault-tolerant quantum computation vs quantum error correction](#400)\n",
    "\n",
    "[References](#bibliography)\n"
   ]
  },
  {
   "cell_type": "markdown",
   "id": "88969f6f",
   "metadata": {},
   "source": [
    "<hr>\n",
    "<a id=\"100\"></a>\n",
    "\n",
    "## 1. Limitations of Classical Computers"
   ]
  },
  {
   "cell_type": "markdown",
   "id": "3b35e4ec",
   "metadata": {},
   "source": [
    "Today in the computing world, innovations are leading to powerful miniaturized integrated circuits. In accordance with Moore’s law, the number of transistors is doubled every about two years. But as we approach the $~10$ nm scale, Moore's law becomes no longer valid. Besides that, although  classical computers have become compact and fast, they cannot solve some complex problems in a reasonable period of time.\n",
    "\n",
    "Currently, we are looking for a new solution employing the principles of quantum mechanics for building novel computers called **quantum computers**. The power of quantum computers promises to solve efficiently the most difficult problems in the theory of computer science, such as the **prime factorization of large integers** by implementing the so-called **Shor's algorithm**, or database search problems by using **Grover's algorithm**.\n",
    "These issues have been shown to be challenging to resolve with the current classical computers.\n",
    "\n",
    "Let's now see the basic requirements to build a quantum computer."
   ]
  },
  {
   "cell_type": "markdown",
   "id": "2f9174a2",
   "metadata": {},
   "source": [
    "<hr>\n",
    "<a id=\"200\"></a>\n",
    "<h2> 2. Requirements for a Physical Quantum Computer </h2>\n",
    "\n",
    "Over twenty years ago, David DiVincenzo wrote an essay in which he gave a set of basic criteria for the physical realization of a quantum computer, known nowadays as **DiVincenzo's criteria**. These criteria have become the guiding principles for researchers trying to build quantum computers over the past two decades."
   ]
  },
  {
   "cell_type": "markdown",
   "id": "d296c83c",
   "metadata": {},
   "source": [
    "<a id=\"210\"></a>\n",
    "### 2.1 Divincenzo's criteria\n",
    "\n",
    "According to DiVincenzo's criteria, constructing a quantum computer requires that the experimental setup meet five conditions necessary for quantum computation:\n",
    "\n",
    "- A **scalable** physical system with well-characterized qubit.\n",
    "- The ability to **initialize** the state of the qubits to a simple fiducial state.\n",
    "- Long relevant **decoherence times**.\n",
    "- A **universal** set of quantum gates.\n",
    "- A qubit-specific **measurement** capability.\n",
    "\n",
    "\n",
    "There have been many proposals for how to construct a quantum computer, all of which meet with varying degrees of success the different challenges of constructing quantum devices. Some of these proposals involve using **photons**, **trapped ions**, **cold (neutral) atoms**, **superconducting qubits**, **topological qubits**, ... etc., all of which show good prospects but also have drawbacks that prevent their practical implementation.\n",
    "\n",
    "Let's take a deeper look into some general concepts mentioned in the previous criteria."
   ]
  },
  {
   "cell_type": "markdown",
   "id": "f39c84d1",
   "metadata": {},
   "source": [
    "<a id=\"220\"></a>\n",
    "### 2.2 Scalability with well-characterised qubits\n",
    "\n",
    "A quantum computer requires the use of a set of inter-connected physical qubits, which can be defined quantum mechanically as quantum two-level systems with a 'defined' energy gap, with two basis states: **a ground state and an excited state**. They constitute the unit of information in analogy with bits in classical computing. Whatever the physical system we choose (superconductors, trapped ions, cold atoms,..), **we require that the system remains almost always in the subspace of these two levels**.\n",
    "\n",
    "In the following, we will write the two physical qubit states as $ \\ket{0} $ for ground state and $\\ket{1} $ for excited state. Remember that when we have a two-qubit system, then we can represent its states as  $\\ket{00}$,$\\ket{01}$,$\\ket{10}$, $\\ket{11}$ where the state $ \\ket{ab} $ means that \n",
    "<ul>\n",
    "    <li>the first qubit is in state $ \\ket{a} $ and </li>\n",
    "    <li> the second qubit is in state $ \\ket{b} $, </li>\n",
    "</ul>\n",
    "with $ a,b \\in \\{0,1\\} $ and $ \\ket{ab} = \\ket{a} \\otimes \\ket{b} $ (or shortly $\\ket{a}\\ket{b}$."
   ]
  },
  {
   "cell_type": "markdown",
   "id": "49ecdc03",
   "metadata": {},
   "source": [
    "<a id=\"230\"></a>\n",
    "\n",
    "### 2.3 Universal Quantum Gates\n",
    "\n",
    "Any physical experimental setup that manages to have well-characterised qubits must also **be capable of influencing the Hamiltonian (total energy) of the system**, in order to apply **coherent** changes capable of implementing a **universal set of gates**. A universal quantum computer can be constructed using a very small set of one- and two-qubit gates. \n",
    "The Solovay-Kitaev theorem implies that a complete set of gates to build a quantum computer comprises the single-qubit operators (gates) $I$, $X$, $Z$, $H$, $S$ and $T$. A **two-qubit entangling gate** is also needed, which is usually chosen to be the **CNOT gate**.\n",
    "\n",
    "Later, we will see in detail how to physically implement some quantum gates in a topological quantum computer using anyons.  \n",
    "\n",
    "\n",
    "\n",
    "\n",
    "The most important **single qubit operators** (gates) are most easily represented by matrices, given here in the Z basis {$\\ket{0} $, $\\ket{1}$} for completeness:\n",
    "\n",
    "$$ I = \\mymatrix{rr}{1 & 0\\\\ 0 & 1 } $$\n",
    "\n",
    "$$ X = \\mymatrix{rr}{0 & 1\\\\ 1 & 0} $$\n",
    "\n",
    "$$ Y = \\mymatrix{rr}{0 & -i\\\\ i& 0 } $$\n",
    "\n",
    "$$ Z = \\mymatrix{rr}{1 & 0\\\\ 0 & -1 } $$\n",
    "\n",
    "The **Hadamard gate**, used in general to project the ground state into a superposition of states, is defined by:\n",
    "\n",
    "$$ H = \\frac{1}{\\sqrt2}\\mymatrix{rr}{1 &1\\\\ 1 & -1 } $$\n",
    "\n",
    "In addition, there are other fundamental single-qubit gates to mention: \n",
    "- The $\\hat{S}$ gate (also called the π/4 gate). \n",
    "- The $\\hat{T}$ gate (also called the π/8 gate).\n",
    "\n",
    "Using the canonical two-qubit basis ($\\ket{00}$,$\\ket{01}$,$\\ket{10}$, $\\ket{11}$), the matrix representation of the **CNOT gate** is: \n",
    "\n",
    "$$ CNOT = \\mymatrix{rr}{1 & 0 &0 &0 \\\\ 0 & 1& 0&0 \\\\ 0&0&0&1\\\\ 0&0 &1 & 0 } $$\n",
    "\n",
    "\n",
    "\n",
    "\n",
    "\n",
    "\n",
    "**Reminder** \n",
    "\n",
    "Products of operators appear frequently. The order of a product matters, as in general\n",
    "$AB \\neq BA$ when dealing with operators (i.e. matrices).  If $AB = BA$, then $A$ and $B$ are said to commute:\n",
    "\n",
    "$$[A, B] = AB − BA = 0, $$ \n",
    "\n",
    "where $[A,B]$ is the commutator of $A$ and $B$.\n",
    "\n",
    "Qubit gates **operating on the same qubit $a$ in general do not commute**. The identity operator $I$ commutes with all operators. We can, for example, easily show by multiplying the matrices for $X_a$ and $Z_a$ that: \n",
    "$$X_aZ_a=-Z_aX_a$$\n"
   ]
  },
  {
   "cell_type": "markdown",
   "id": "8723a5a9",
   "metadata": {},
   "source": [
    "<a id=\"task1\"></a>\n",
    "#### Task 1\n",
    "\n",
    "Calculate the commutator of $X$ and $Z$ operating on a same qubit. (On paper) "
   ]
  },
  {
   "cell_type": "markdown",
   "id": "57b78670",
   "metadata": {},
   "source": [
    "[click for our solution](A00_Introduction_Solutions.ipynb#task1)"
   ]
  },
  {
   "cell_type": "markdown",
   "id": "40dd5d8e",
   "metadata": {},
   "source": [
    "\n",
    "Now, let us consider two qubits $a$ and $b$, with their $X$ and $Z$ operators $X_a$, $X_b$, and $Z_a$, $Z_b$, respectively. As shown before, $X_a$ and $Z_a$ do not commute, the same goes for $X_b$ and $Z_b$ .However, operators on different qubits always commute: for instance, $X_a$ and $Z_b$ commute. \n",
    "\n",
    "<a id=\"task2\"></a>\n",
    "#### Task 2\n",
    "\n",
    "Verify mathematically that the product of operators on different qubits always commutes. Namely, the product of the operators $X_aX_b$ commutes with the product of the operators $Z_aZ_b$."
   ]
  },
  {
   "cell_type": "markdown",
   "id": "cd81e22a",
   "metadata": {},
   "source": [
    "[click for our solution](A00_Introduction_Solutions.ipynb#task2)"
   ]
  },
  {
   "cell_type": "markdown",
   "id": "b99da5f9",
   "metadata": {},
   "source": [
    "<a id=\"240\"></a>\n",
    "\n",
    "### 2.4 Measurements\n",
    "\n",
    "For any process modifying the quantum states of qubits, the final measurement of those states is of fundamental importance when performing computations. Remember that in quantum mechanics, any measurement of an operator projects the qubit's state onto an eigenstate of the measurement operator. In other words, after measuring a quantum state, the latter collapses. "
   ]
  },
  {
   "cell_type": "markdown",
   "id": "44eccc08",
   "metadata": {},
   "source": [
    "<hr>\n",
    "<a id=\"300\"></a>\n",
    "\n",
    "## 3. Quantum Decoherence\n",
    "\n",
    "In the conventional picture of a quantum computer, we imagine a bunch of two-state systems: photons, atoms, electron spins, ... which can act as qubits. Now during our computation, if some noise, say a photon, or a phonon, enters the system and interacts with a qubit, it can cause a decoherence of the qubit, meaning it can change the state of the qubit.\n",
    "\n",
    "To illustrate that using the Bloch sphere representation, one can consider a qubit to be initially in the $\\ket{+}$ state. When left to interact with the environment, it decoheres over time and changes into an *unwanted* state.\n",
    "\n",
    "<img src=\"../images/real_decoherence_BS.gif\" align=\"center\" > \n",
    "\n",
    "Let's take as an example of a physical qubit system the spin of an electron, which can be thought of as a small magnet carried by the electron. The two eigenstates of the electron's spin are: $\\ket{↓}$ (spin down, which can be seen as our $\\ket{0}$ state) and $\\ket{↑}$ (spin up, which can be seen as our $\\ket{1}$ state).\n",
    "\n",
    "<img src=\"../images/Spin-decoherence.PNG\" width=\"400\" align=\"center\" > \n",
    "\n",
    "Decoherence in this case, refers to transitions from a superposition of the states $\\ket{↓}$ and $\\ket{↑}$ to either $\\ket{↓}$ or $\\ket{↑}$, and is translated by a loss of the relative phase information over time.\n",
    "\n",
    "\n",
    "The following video link gives an interesting animation of superposition and decoherence of quantum states in an atom as a supplementary example:\n",
    "\n",
    "https://commons.wikimedia.org/wiki/File:Quantum_superposition_of_states_and_decoherence.ogv\n",
    "\n",
    "For scalable quantum computers, long decoherence times are desired, much longer than the average gate time in a quantum circuit, so that decoherence can be overcome by the techniques of quantum error-correction and fault-tolerant quantum computation. Specifically, topological quantum computation has been seen as a promising scheme for realizing a quantum computer with **robust qubits**, based on two-dimensional quasiparticles called **anyons**. Qubits based on these quasiparticles are demonstrated to be robust against **local perturbations** due to their underlying topological nature.\n",
    "\n",
    "Later on, we will focus on **Topological Quantum Computing (TQC)** as a promising field for many reasons. We will verify throughout those notebooks, how TQC can satisfy DiVincenzo's criteria. \n"
   ]
  },
  {
   "cell_type": "markdown",
   "id": "909cd100",
   "metadata": {},
   "source": [
    "<a id=\"400\"></a>\n",
    "<hr>\n",
    "<h2> 4. Fault-tolerant quantum computation vs quantum error correction </h2>\n",
    "\n",
    "Building a quantum computer or a quantum communication device in the real world means having to deal with errors. Any unprotected qubit stored or transmitted through a communication channel will inevitably come out at least slightly changed.\n",
    "\n",
    "The theory of quantum error-correcting codes has been developed to counteract noise and correct errors if detected. By adding **extra qubits** and carefully encoding the quantum state we wish to protect, a quantum system can be protected to great extent against errors.\n",
    "\n",
    "In principle, not only the qubits can be imperfect but also can the quantum gates used to perform quantum operations. Indeed, successive operations performed on qubits will add to the error and will propagate along the quantum system. Here comes the theory of fault-tolerant quantum computation, which tells us that there exists a **physical error probability** $p_c$ below which an arbitrary quantum computation can be performed efficiently.\n",
    "\n",
    "In the case of **TQC**, the computation on anyons, where the quantum information is stored, is fault-tolerant due to the physical nature of anyons, which is an advantageous property for building a scalable quantum computer.\n"
   ]
  },
  {
   "cell_type": "markdown",
   "id": "82423181",
   "metadata": {},
   "source": [
    "<hr>\n",
    "<a id=\"bibliography\"></a>\n",
    "\n",
    "## References\n",
    "- Nilesh BARDE, Deepak THAKUR, Pranav BARDAPURKAR and Sanjaykumar DALVI, *Consequences and Limitations of Conventional Computers and their Solutions through Quantum Computers*. Leonardo Electronic Journal of Practices and Technologies. **10**, 161-171 (2011).\n",
    "- Christoph Kloeffel, Daniel Loss, *Prospects for Spin-Based Quantum Computing*, Annu. Rev. Condens. Matter Phys. **4**, 51 (2013).\n",
    "- https://www.quantiki.org/wiki/quantum-error-correction-and-fault-tolerance-0\n",
    "- https://ocw.tudelft.nl/wp-content/uploads/QIP3_divincenzo_criteria.pdf"
   ]
  },
  {
   "cell_type": "markdown",
   "id": "636de839",
   "metadata": {},
   "source": [
    " "
   ]
  }
 ],
 "metadata": {
  "kernelspec": {
   "display_name": "Python 3 (ipykernel)",
   "language": "python",
   "name": "python3"
  },
  "language_info": {
   "codemirror_mode": {
    "name": "ipython",
    "version": 3
   },
   "file_extension": ".py",
   "mimetype": "text/x-python",
   "name": "python",
   "nbconvert_exporter": "python",
   "pygments_lexer": "ipython3",
   "version": "3.8.13"
  },
  "widgets": {
   "application/vnd.jupyter.widget-state+json": {
    "state": {},
    "version_major": 2,
    "version_minor": 0
   }
  }
 },
 "nbformat": 4,
 "nbformat_minor": 5
}
