{
 "cells": [
  {
   "cell_type": "code",
   "execution_count": null,
   "metadata": {},
   "outputs": [],
   "source": [
    "!pip install nbconvert\n",
    "!pip install noformat"
   ]
  },
  {
   "cell_type": "code",
   "execution_count": 2,
   "metadata": {},
   "outputs": [
    {
     "name": "stdout",
     "output_type": "stream",
     "text": [
      "Q12_First_Quantum_Programs_with_Qiskit_Solution.ipynb: Pass\n",
      "Q20_Hadamard_Solution.ipynb: Pass\n",
      "Q28_Quantum_State_Solutions.ipynb: Pass\n",
      "Q32_Visualization_of_a_Qubit_Solutions.ipynb: Pass\n",
      "Q36_Superposition_and_Measurement_Solutions.ipynb: Pass\n",
      "Q40_Operations_on_the_Unit_Circle_Solution.ipynb: Pass\n",
      "Q44_Rotations_Solutions.ipynb: Pass\n",
      "Q48_Reflections_Solutions.ipynb: Pass\n",
      "Q52_Quantum_Tomography_Solution.ipynb: Pass\n",
      "Q60_Two_Qubits_Solutions.ipynb: Pass\n",
      "Q64_Phase_Kickback_Solutions.ipynb: Pass\n",
      "Q72_Superdense_Coding_Solutions.ipynb: Pass\n",
      "Q76_Quantum_Teleportation_Solutions.ipynb: Pass\n",
      "Q80_Multiple_Control_Constructions_Solutions.ipynb: Pass\n",
      "Q84_Inversion_About_the_Mean_Solutions.ipynb: Pass\n",
      "Q88_Grovers_Search_One_Qubit_Representation_Solutions.ipynb: Pass\n",
      "Q92_Grovers_Search_Implementation_Solutions.ipynb: Error - An error occurred while executing the following cell:\n",
      "------------------\n",
      "def oracle_00(circuit,qreg):\n",
      "  \n",
      "------------------\n",
      "\n",
      "\n",
      "\u001b[1;36m  Cell \u001b[1;32mIn[12], line 2\u001b[1;36m\u001b[0m\n",
      "\u001b[1;33m    \u001b[0m\n",
      "\u001b[1;37m    ^\u001b[0m\n",
      "\u001b[1;31mSyntaxError\u001b[0m\u001b[1;31m:\u001b[0m incomplete input\n",
      "\n",
      "\n"
     ]
    }
   ],
   "source": [
    "import nbformat\n",
    "from nbconvert.preprocessors import ExecutePreprocessor\n",
    "import os\n",
    "\n",
    "def execute_notebook(notebook_path):\n",
    "    # Load the notebook\n",
    "    with open(notebook_path, 'r', encoding='utf-8') as f:\n",
    "        notebook = nbformat.read(f, as_version=4)\n",
    "    \n",
    "    # Initialize the ExecutePreprocessor\n",
    "    executor = ExecutePreprocessor(timeout=None)\n",
    "\n",
    "    # Execute each cell in the notebook\n",
    "    try:\n",
    "        executor.preprocess(notebook, {'metadata': {'path': os.path.dirname(notebook_path)}})\n",
    "        return \"pass\", None\n",
    "    except Exception as e:\n",
    "        return \"error\", str(e)\n",
    "\n",
    "def run_all_notebooks_in_directory(directory):\n",
    "    # Get all files in the directory\n",
    "    files = os.listdir(directory)\n",
    "\n",
    "    # Filter notebook files containing \"Solution\" in their name\n",
    "    notebook_files = [file for file in files if file.endswith('.ipynb') and \"Solution\" in file]\n",
    "\n",
    "    for notebook_file in notebook_files:\n",
    "        status, error = execute_notebook(os.path.join(directory, notebook_file))\n",
    "        if status == \"pass\":\n",
    "            print(f\"{notebook_file}: Pass\")\n",
    "        else:\n",
    "            print(f\"{notebook_file}: Error - {error}\")\n",
    "\n",
    "notebook_directory = \"./\"\n",
    "run_all_notebooks_in_directory(notebook_directory)\n"
   ]
  },
  {
   "cell_type": "code",
   "execution_count": null,
   "metadata": {},
   "outputs": [],
   "source": []
  }
 ],
 "metadata": {
  "kernelspec": {
   "display_name": "bronze-qiskit",
   "language": "python",
   "name": "python3"
  },
  "language_info": {
   "codemirror_mode": {
    "name": "ipython",
    "version": 3
   },
   "file_extension": ".py",
   "mimetype": "text/x-python",
   "name": "python",
   "nbconvert_exporter": "python",
   "pygments_lexer": "ipython3",
   "version": "3.12.2"
  }
 },
 "nbformat": 4,
 "nbformat_minor": 2
}
