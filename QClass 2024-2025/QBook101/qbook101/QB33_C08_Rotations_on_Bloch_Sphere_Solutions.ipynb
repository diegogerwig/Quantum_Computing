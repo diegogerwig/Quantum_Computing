{
 "cells": [
  {
   "cell_type": "markdown",
   "metadata": {},
   "source": [
    "<a href=\"https://qworld.net\" target=\"_blank\" align=\"left\"><img src=\"https://gitlab.com/qworld/qeducation/qbook101/raw/main/qworld/images/header.jpg\" align=\"left\"></a>\n",
    "$ \\newcommand{\\bra}[1]{\\langle #1|} $\n",
    "$ \\newcommand{\\ket}[1]{|#1\\rangle} $\n",
    "$ \\newcommand{\\braket}[2]{\\langle #1|#2\\rangle} $\n",
    "$ \\newcommand{\\dot}[2]{ #1 \\cdot #2} $\n",
    "$ \\newcommand{\\biginner}[2]{\\left\\langle #1,#2\\right\\rangle} $\n",
    "$ \\newcommand{\\mymatrix}[2]{\\left( \\begin{array}{#1} #2\\end{array} \\right)} $\n",
    "$ \\newcommand{\\myvector}[1]{\\mymatrix{c}{#1}} $\n",
    "$ \\newcommand{\\myrvector}[1]{\\mymatrix{r}{#1}} $\n",
    "$ \\newcommand{\\mypar}[1]{\\left( #1 \\right)} $\n",
    "$ \\newcommand{\\mybigpar}[1]{ \\Big( #1 \\Big)} $\n",
    "$ \\newcommand{\\sqrttwo}{\\frac{1}{\\sqrt{2}}} $\n",
    "$ \\newcommand{\\dsqrttwo}{\\dfrac{1}{\\sqrt{2}}} $\n",
    "$ \\newcommand{\\onehalf}{\\frac{1}{2}} $\n",
    "$ \\newcommand{\\donehalf}{\\dfrac{1}{2}} $\n",
    "$ \\newcommand{\\hadamard}{ \\mymatrix{rr}{ \\sqrttwo & \\sqrttwo \\\\ \\sqrttwo & -\\sqrttwo }} $\n",
    "$ \\newcommand{\\vzero}{\\myvector{1\\\\0}} $\n",
    "$ \\newcommand{\\vone}{\\myvector{0\\\\1}} $\n",
    "$ \\newcommand{\\stateplus}{\\myvector{ \\sqrttwo \\\\  \\sqrttwo } } $\n",
    "$ \\newcommand{\\stateminus}{ \\myrvector{ \\sqrttwo \\\\ -\\sqrttwo } } $\n",
    "$ \\newcommand{\\myarray}[2]{ \\begin{array}{#1}#2\\end{array}} $\n",
    "$ \\newcommand{\\X}{ \\mymatrix{cc}{0 & 1 \\\\ 1 & 0}  } $\n",
    "$ \\newcommand{\\Z}{ \\mymatrix{rr}{1 & 0 \\\\ 0 & -1}  } $\n",
    "$ \\newcommand{\\Htwo}{ \\mymatrix{rrrr}{ \\frac{1}{2} & \\frac{1}{2} & \\frac{1}{2} & \\frac{1}{2} \\\\ \\frac{1}{2} & -\\frac{1}{2} & \\frac{1}{2} & -\\frac{1}{2} \\\\ \\frac{1}{2} & \\frac{1}{2} & -\\frac{1}{2} & -\\frac{1}{2} \\\\ \\frac{1}{2} & -\\frac{1}{2} & -\\frac{1}{2} & \\frac{1}{2} } } $\n",
    "$ \\newcommand{\\CNOT}{ \\mymatrix{cccc}{1 & 0 & 0 & 0 \\\\ 0 & 1 & 0 & 0 \\\\ 0 & 0 & 0 & 1 \\\\ 0 & 0 & 1 & 0} } $\n",
    "$ \\newcommand{\\norm}[1]{ \\left\\lVert #1 \\right\\rVert } $\n",
    "$ \\newcommand{\\pstate}[1]{ \\lceil \\mspace{-1mu} #1 \\mspace{-1.5mu} \\rfloor } $\n",
    "$ \\newcommand{\\Y}{ \\mymatrix{rr}{0 & -i \\\\ i & 0} } $\n",
    "$ \\newcommand{\\S}{ \\mymatrix{rr}{1 & 0 \\\\ 0 & i} } $\n",
    "$ \\newcommand{\\T}{ \\mymatrix{rr}{1 & 0 \\\\ 0 & e^{i \\frac{\\pi}{4}}} } $\n",
    "$ \\newcommand{\\Sdg}{ \\mymatrix{rr}{1 & 0 \\\\ 0 & -i} } $ \n",
    "$ \\newcommand{\\Tdg}{ \\mymatrix{rr}{1 & 0 \\\\ 0 & e^{-i \\frac{\\pi}{4}}} } $\n",
    "$ \\newcommand{\\qgate}[1]{ \\mathop{\\\\textit{#1} } }$"
   ]
  },
  {
   "cell_type": "markdown",
   "metadata": {},
   "source": [
    "_prepared by Maksim Dimitrijev and Abuzer Yakaryilmaz_\n",
    "<br><br>\n",
    "_Cirq adaptation by Claudia Zendejas-Morales_"
   ]
  },
  {
   "cell_type": "markdown",
   "metadata": {},
   "source": [
    "<font size=\"28px\" style=\"font-size:28px;\" align=\"left\"><b> <font color=\"blue\"> Solutions for </font>Rotations on a Bloch sphere</b></font>\n",
    "<br>\n",
    "<br><br>"
   ]
  },
  {
   "cell_type": "markdown",
   "metadata": {
    "jp-MarkdownHeadingCollapsed": true
   },
   "source": [
    "##### <font color=\"#08b806\">Please execute the following cell, it is necessary to distinguish between your local environment and Google Colab's"
   ]
  },
  {
   "cell_type": "code",
   "execution_count": null,
   "metadata": {},
   "outputs": [],
   "source": [
    "import IPython\n",
    "\n",
    "def in_colab():\n",
    "    try:\n",
    "        import google.colab\n",
    "        return True\n",
    "    except:\n",
    "        return False\n",
    "\n",
    "if in_colab():\n",
    "    !pip install cirq"
   ]
  },
  {
   "cell_type": "markdown",
   "metadata": {},
   "source": [
    "<a name=\"task3\"></a>\n",
    "### Task 3\n",
    "\n",
    "If the relative phase is 0 or $ \\pi $, quantum state will be on $x$-$z$ plane. Then, applying $ RY(\\theta) $ gate, rotates this quantum state on $x$-$z$ plane.\n",
    "\n",
    "_In other words, it rotates between $ \\ket{0} $ and $ \\ket{1} $ having only real-valued amplitudes._\n",
    "\n",
    "Start in state $ \\ket{0} $.\n",
    "\n",
    "Apply $ RY(\\pi/6) $ five times and draw final quantum state on the Bloch sphere.\n",
    "\n",
    "Apply $ RY(\\pi/6) $ nine times and draw final quantum state on the Bloch sphere."
   ]
  },
  {
   "cell_type": "markdown",
   "metadata": {},
   "source": [
    "<h3> Solution </h3>"
   ]
  },
  {
   "cell_type": "code",
   "execution_count": null,
   "metadata": {},
   "outputs": [],
   "source": [
    "# draw the quantum state on Bloch sphere\n",
    "import cirq\n",
    "from cirq import ry\n",
    "from cirq_web import BlochSphere\n",
    "from math import pi\n",
    "from random import randrange \n",
    "\n",
    "t = pi/6\n",
    "\n",
    "circuit = cirq.Circuit()\n",
    "q0 = cirq.LineQubit(0)\n",
    "\n",
    "# Apply ry(t) iteratively\n",
    "for i in range(5):\n",
    "#for i in range(9):\n",
    "    circuit.append(ry(t).on(q0))\n",
    "\n",
    "print(circuit)\n",
    "\n",
    "# Simulate the circuit\n",
    "s = cirq.Simulator()\n",
    "results = s.simulate(circuit)\n",
    "state = results.state_vector()\n",
    "\n",
    "# draw final state\n",
    "sphere = BlochSphere(state_vector=state)\n",
    "display(sphere)"
   ]
  },
  {
   "cell_type": "markdown",
   "metadata": {},
   "source": [
    "<a name=\"task4\"></a>\n",
    "### Task 4\n",
    "\n",
    "Start in state $ \\ket{+} $.\n",
    "\n",
    "Apply $ RZ(\\pi/6) $ five times and draw final quantum state on the Bloch sphere.\n",
    "\n",
    "Apply $ RZ(\\pi/6) $ nine times and draw final quantum state on the Bloch sphere."
   ]
  },
  {
   "cell_type": "markdown",
   "metadata": {},
   "source": [
    "<h3> Solution </h3>"
   ]
  },
  {
   "cell_type": "code",
   "execution_count": null,
   "metadata": {},
   "outputs": [],
   "source": [
    "# draw the quantum state on Bloch sphere\n",
    "import cirq\n",
    "from cirq import H, rz\n",
    "from cirq_web import BlochSphere\n",
    "from math import pi\n",
    "from random import randrange \n",
    "\n",
    "t = pi/6\n",
    "\n",
    "circuit = cirq.Circuit()\n",
    "q0 = cirq.LineQubit(0)\n",
    "\n",
    "# set the quantum state to |+>\n",
    "circuit.append(H(q0))\n",
    "\n",
    "# Apply rz(t) iteratively\n",
    "for i in range(5):\n",
    "#for i in range(9):\n",
    "    circuit.append(rz(t).on(q0))\n",
    "\n",
    "print(circuit)\n",
    "\n",
    "# Simulate the circuit\n",
    "s = cirq.Simulator()\n",
    "results = s.simulate(circuit)\n",
    "state = results.state_vector()\n",
    "\n",
    "# draw final state\n",
    "sphere = BlochSphere(state_vector=state)\n",
    "display(sphere)"
   ]
  },
  {
   "cell_type": "markdown",
   "metadata": {},
   "source": [
    "<a name=\"task5\"></a>\n",
    "### Task 5\n",
    "\n",
    "The following phase gates are special cases of $ RZ(\\theta) $ gate.\n",
    "\n",
    "Determine $ \\theta $ values for each of them:\n",
    "\n",
    "- $ Z = \\Z $\n",
    "- $ S = \\S $\n",
    "- $ S^\\dagger = \\Sdg $\n",
    "- $ T = \\T $\n",
    "- $ T^\\dagger = \\Tdg $"
   ]
  },
  {
   "cell_type": "markdown",
   "metadata": {},
   "source": [
    "<h3> Solution </h3>"
   ]
  },
  {
   "cell_type": "markdown",
   "metadata": {},
   "source": [
    "We start from bottom.\n",
    "\n",
    "It is trivial that $ \\theta = \\frac{\\pi}{4} $ for $ T $ and $ \\theta = -\\frac{\\pi}{4} $ for $ T^\\dagger $.\n",
    "\n",
    "$ S = T^2 $, and so,  $ \\theta = \\frac{\\pi}{2} $ for $ S $ and $ \\theta = -\\frac{\\pi}{2} $ for $ S^\\dagger $.\n",
    "\n",
    "$ Z = S^2 $, and so, $ \\theta = \\pi $ for $ Z $."
   ]
  },
  {
   "cell_type": "markdown",
   "metadata": {},
   "source": [
    "<a name=\"task6\"></a>\n",
    "### Task 6\n",
    "\n",
    "Start in state $ \\ket{i} = \\frac{1}{\\sqrt{2}} \\ket{0} + \\frac{i}{\\sqrt{2}}\\ket{1} $.\n",
    "\n",
    "Apply $ RX(\\pi/6) $ three times and draw all quantum states on the Bloch sphere.\n",
    "\n",
    "Apply $ RX(\\pi/6) $ seven times and draw all quantum states on the Bloch sphere."
   ]
  },
  {
   "cell_type": "markdown",
   "metadata": {},
   "source": [
    "<h3> Solution </h3>"
   ]
  },
  {
   "cell_type": "code",
   "execution_count": null,
   "metadata": {},
   "outputs": [],
   "source": [
    "# draw the quantum state on Bloch sphere\n",
    "import cirq\n",
    "from cirq import H, rx, rz\n",
    "from cirq_web import BlochSphere\n",
    "from math import pi\n",
    "from random import randrange \n",
    "\n",
    "t = pi/6\n",
    "\n",
    "circuit = cirq.Circuit()\n",
    "q0 = cirq.LineQubit(0)\n",
    "\n",
    "# set the quantum state to |i>\n",
    "circuit.append(H(q0))\n",
    "circuit.append(rz(pi/2).on(q0))\n",
    "\n",
    "# Apply rx(t) iteratively\n",
    "for i in range(3):\n",
    "#for i in range(7):\n",
    "    circuit.append(rx(t).on(q0))\n",
    "\n",
    "print(circuit)\n",
    "\n",
    "# Simulate the circuit\n",
    "s = cirq.Simulator()\n",
    "results = s.simulate(circuit)\n",
    "state = results.state_vector()\n",
    "\n",
    "# draw final state\n",
    "sphere = BlochSphere(state_vector=state)\n",
    "display(sphere)"
   ]
  },
  {
   "cell_type": "markdown",
   "metadata": {},
   "source": [
    "<a name=\"task7\"></a>\n",
    "### Task 7\n",
    "\n",
    "A qubit is in state $ \\ket{u_1} = \\cos{\\frac{\\theta_1}{2}} \\ket{0} + e^{i\\phi_1} \\sin{\\frac{\\theta_1}{2}} \\ket{1} $. \n",
    "\n",
    "Which rotation gate or gates can we apply to set the state of qubit to $ \\ket{u_2} = \\cos{\\frac{\\theta_2}{2}} \\ket{0} + e^{i\\phi_2} \\sin{\\frac{\\theta_2}{2}} \\ket{1} $?"
   ]
  },
  {
   "cell_type": "markdown",
   "metadata": {},
   "source": [
    "<h3> Solution </h3>"
   ]
  },
  {
   "cell_type": "markdown",
   "metadata": {},
   "source": [
    "We start in $ \\ket{u_1} = \\cos{\\frac{\\theta_1}{2}} \\ket{0} + e^{i\\phi_1} \\sin{\\frac{\\theta_1}{2}} \\ket{1} $.\n",
    "\n",
    "We apply $ RZ(-\\phi_1) $, and we obtain $ \\cos{\\frac{\\theta_1}{2}} \\ket{0} + \\sin{\\frac{\\theta_1}{2}} \\ket{1}  $.\n",
    "\n",
    "We apply $ RY(\\theta_2-\\theta_1)$, and we obtain $ \\cos{\\frac{\\theta_2}{2}} \\ket{0} + \\sin{\\frac{\\theta_2}{2}} \\ket{1}  $.\n",
    "\n",
    "We apply $ RZ(\\phi_2) $, and we obtain $ \\ket{u_2} = \\cos{\\frac{\\theta_2}{2}} \\ket{0} + e^{i\\phi_2} \\sin{\\frac{\\theta_2}{2}} \\ket{1} $."
   ]
  }
 ],
 "metadata": {
  "kernelspec": {
   "display_name": "Python 3 (ipykernel)",
   "language": "python",
   "name": "python3"
  },
  "language_info": {
   "codemirror_mode": {
    "name": "ipython",
    "version": 3
   },
   "file_extension": ".py",
   "mimetype": "text/x-python",
   "name": "python",
   "nbconvert_exporter": "python",
   "pygments_lexer": "ipython3",
   "version": "3.11.4"
  }
 },
 "nbformat": 4,
 "nbformat_minor": 4
}
