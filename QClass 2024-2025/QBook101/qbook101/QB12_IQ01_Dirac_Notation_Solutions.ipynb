{
 "cells": [
  {
   "cell_type": "markdown",
   "metadata": {},
   "source": [
    "<a href=\"https://qworld.net\" target=\"_blank\" align=\"left\"><img src=\"https://gitlab.com/qworld/qeducation/qbook101/raw/main/qworld/images/header.jpg\" align=\"left\"></a>\n",
    "$ \\newcommand{\\bra}[1]{\\langle #1|} $\n",
    "$ \\newcommand{\\ket}[1]{|#1\\rangle} $\n",
    "$ \\newcommand{\\braket}[2]{\\langle #1|#2\\rangle} $\n",
    "$ \\newcommand{\\dot}[2]{ #1 \\cdot #2} $\n",
    "$ \\newcommand{\\biginner}[2]{\\left\\langle #1,#2\\right\\rangle} $\n",
    "$ \\newcommand{\\mymatrix}[2]{\\left( \\begin{array}{#1} #2\\end{array} \\right)} $\n",
    "$ \\newcommand{\\myvector}[1]{\\mymatrix{c}{#1}} $\n",
    "$ \\newcommand{\\myrvector}[1]{\\mymatrix{r}{#1}} $\n",
    "$ \\newcommand{\\mypar}[1]{\\left( #1 \\right)} $\n",
    "$ \\newcommand{\\mybigpar}[1]{ \\Big( #1 \\Big)} $\n",
    "$ \\newcommand{\\sqrttwo}{\\frac{1}{\\sqrt{2}}} $\n",
    "$ \\newcommand{\\dsqrttwo}{\\dfrac{1}{\\sqrt{2}}} $\n",
    "$ \\newcommand{\\onehalf}{\\frac{1}{2}} $\n",
    "$ \\newcommand{\\donehalf}{\\dfrac{1}{2}} $\n",
    "$ \\newcommand{\\hadamard}{ \\mymatrix{rr}{ \\sqrttwo & \\sqrttwo \\\\ \\sqrttwo & -\\sqrttwo }} $\n",
    "$ \\newcommand{\\vzero}{\\myvector{1\\\\0}} $\n",
    "$ \\newcommand{\\vone}{\\myvector{0\\\\1}} $\n",
    "$ \\newcommand{\\stateplus}{\\myvector{ \\sqrttwo \\\\  \\sqrttwo } } $\n",
    "$ \\newcommand{\\stateminus}{ \\myrvector{ \\sqrttwo \\\\ -\\sqrttwo } } $\n",
    "$ \\newcommand{\\myarray}[2]{ \\begin{array}{#1}#2\\end{array}} $\n",
    "$ \\newcommand{\\X}{ \\mymatrix{cc}{0 & 1 \\\\ 1 & 0}  } $\n",
    "$ \\newcommand{\\Z}{ \\mymatrix{rr}{1 & 0 \\\\ 0 & -1}  } $\n",
    "$ \\newcommand{\\Htwo}{ \\mymatrix{rrrr}{ \\frac{1}{2} & \\frac{1}{2} & \\frac{1}{2} & \\frac{1}{2} \\\\ \\frac{1}{2} & -\\frac{1}{2} & \\frac{1}{2} & -\\frac{1}{2} \\\\ \\frac{1}{2} & \\frac{1}{2} & -\\frac{1}{2} & -\\frac{1}{2} \\\\ \\frac{1}{2} & -\\frac{1}{2} & -\\frac{1}{2} & \\frac{1}{2} } } $\n",
    "$ \\newcommand{\\CNOT}{ \\mymatrix{cccc}{1 & 0 & 0 & 0 \\\\ 0 & 1 & 0 & 0 \\\\ 0 & 0 & 0 & 1 \\\\ 0 & 0 & 1 & 0} } $\n",
    "$ \\newcommand{\\norm}[1]{ \\left\\lVert #1 \\right\\rVert } $\n",
    "$ \\newcommand{\\pstate}[1]{ \\lceil \\mspace{-1mu} #1 \\mspace{-1.5mu} \\rfloor } $"
   ]
  },
  {
   "cell_type": "markdown",
   "metadata": {},
   "source": [
    "_prepared by Claudia Zendejas-Morales_"
   ]
  },
  {
   "cell_type": "markdown",
   "metadata": {},
   "source": [
    "<font size=\"28px\" style=\"font-size:28px;\" align=\"left\"><b> <font color=\"blue\"> Solutions for </font>Dirac Notation (bra-ket notation) </b></font>\n",
    "<br>\n",
    "<br><br>"
   ]
  },
  {
   "cell_type": "markdown",
   "metadata": {},
   "source": [
    "<a name=\"task1\"></a>\n",
    "<h3>Task 1 (on paper)</h3>\n",
    "\n",
    "Find the _bra_ of the _ket_ $\\ket{w}$.\n",
    "\n",
    "$$\\ket{w}=\\mymatrix{c}{3+4i \\\\ -5 \\\\ 2-i \\\\ 6i \\\\ -0.3-3i}$$"
   ]
  },
  {
   "cell_type": "markdown",
   "metadata": {},
   "source": [
    "<h3>Solution</h3>"
   ]
  },
  {
   "cell_type": "markdown",
   "metadata": {},
   "source": [
    "The _bra_ of $\\ket{w}$ is found by taking the complex conjugate transpose, that is,\n",
    "\n",
    "$$\\bra{w}=\\mymatrix{c}{3-4i ~~~~, & -5 ~~~~, & 2+i ~~~~, & -6i ~~~~, & -0.3+3i}$$"
   ]
  },
  {
   "cell_type": "markdown",
   "metadata": {},
   "source": [
    "<a name=\"task2\"></a>\n",
    "<h3>Task 2</h3>\n",
    "\n",
    "Do the same as in Task 1, but using Python code."
   ]
  },
  {
   "cell_type": "markdown",
   "metadata": {},
   "source": [
    "<h3>Solution</h3>"
   ]
  },
  {
   "cell_type": "code",
   "execution_count": 20,
   "metadata": {},
   "outputs": [
    {
     "name": "stdout",
     "output_type": "stream",
     "text": [
      "|w> =\n",
      "\t [(3+4j)]\n",
      "\t [(-5+0j)]\n",
      "\t [(2-1j)]\n",
      "\t [6j]\n",
      "\t [(-0.3-3j)]\n",
      "\n",
      "<w| =\t [(3-4j), (-5-0j), (2+1j), -6j, (-0.3+3j)]\n"
     ]
    }
   ],
   "source": [
    "# Usig  Python lists\n",
    "\n",
    "\n",
    "# define the ket - write the column vector, as a (5x1)-dimensional matrix\n",
    "w = [\n",
    "     [complex( 3,  4)],\n",
    "     [complex(-5,  0)],\n",
    "     [complex( 2, -1)],\n",
    "     [complex( 0, 6)],\n",
    "     [complex(-0.3, -3)],\n",
    "    ]\n",
    "\n",
    "\n",
    "# get the bra (complex conjugate transpose)\n",
    "w_transpose = []\n",
    "for i in range(len(w)):\n",
    "    w_transpose.append(w[i][0].conjugate())\n",
    "    \n",
    "\n",
    "\n",
    "print(\"|w> =\")\n",
    "for i in range(len(w)):\n",
    "    print(\"\\t\",w[i])\n",
    "\n",
    "print(\"\\n<w| =\\t\", w_transpose)"
   ]
  },
  {
   "cell_type": "code",
   "execution_count": 21,
   "metadata": {},
   "outputs": [
    {
     "name": "stdout",
     "output_type": "stream",
     "text": [
      "\n",
      "<w| =\t [[ 3. -4.j -5. -0.j  2. +1.j  0. -6.j -0.3+3.j]]\n"
     ]
    }
   ],
   "source": [
    "# Using the numpy package\n",
    "\n",
    "import numpy as np\n",
    "\n",
    "# define the ket - write the column vector, as a (5x1)-dimensional matrix\n",
    "w = np.matrix([                   # use the 'matrix' type\n",
    "     [complex( 3,  4)],\n",
    "     [complex(-5,  0)],\n",
    "     [complex( 2, -1)],\n",
    "     [complex( 0, 6)],\n",
    "     [complex(-0.3, -3)],\n",
    "    ])\n",
    "\n",
    "w_transpose = w.getH()            # use method 'getH()'\n",
    "print(\"\\n<w| =\\t\", w_transpose)"
   ]
  },
  {
   "cell_type": "markdown",
   "metadata": {},
   "source": [
    "<a name=\"task3\">\n",
    "</a><h3>Task 3 (on paper)</h3>\n",
    "\n",
    "Find the projection operator of $\\ket{v}$.\n",
    "\n",
    "$$\\ket{v}=\\mymatrix{c}{-9i \\\\ 3+i \\\\ -7-7i \\\\ 6 \\\\ -4i}$$\n",
    "\n",
    "What do you observe in the diagonal values?"
   ]
  },
  {
   "cell_type": "markdown",
   "metadata": {},
   "source": [
    "<h3>Solution</h3>"
   ]
  },
  {
   "cell_type": "markdown",
   "metadata": {},
   "source": [
    "\\begin{align}\n",
    "\\hat{P\\,}_{\\ket{v}} = \\ket{v}\\bra{v} &= \\mymatrix{c}{-9i \\\\ 3+i \\\\ -7-7i \\\\ 6 \\\\ -4i}\\mymatrix{c}{9i ~~~~, & 3-i ~~~~, & -7+7i ~~~~, & 6 ~~~~, & 4i}\\\\\n",
    "&= \\mymatrix{ccccc}{\\color{green}{81} & -9-27i & 63+63i & -54i & 36\\\\\n",
    "-9+27i & \\color{green}{10} & -28+14i & 18+6i & -4+12i\\\\\n",
    "63-63i & -28-14i & \\color{green}{98} & -42-42i & 28-28i\\\\\n",
    "54i & 18-6i & -42+42i & \\color{green}{36} & 24i\\\\\n",
    "36 & -4-12i & 28+28i & -24i & \\color{green}{16}}\n",
    "\\end{align}\n",
    "\n",
    "<br><br>\n",
    "\n",
    "Note that the diagonal elements are all real numbers; this is because, for these elements, we are doing the operation $zz^*$, where $z \\in \\mathbb{C}$, that is, we multiply a complex number by its own complex conjugate, which always results in a real number.\n",
    "\n",
    "<br><br>"
   ]
  },
  {
   "cell_type": "markdown",
   "metadata": {},
   "source": [
    "<a name=\"task4\"></a>\n",
    "<h3>Task 4 (on paper)</h3>\n",
    "\n",
    "Find the _bra-kets_ (or inner products): $\\braket{x}{y}$ and $\\braket{y}{x}$.\n",
    "\n",
    "$$\\ket{x}=\\mymatrix{c}{\\dfrac{3+4i}{2} \\\\ 2-i \\\\ -8i \\\\ \\dfrac{i}{2}}~~~~~~,~~~~~~\\ket{y}=\\mymatrix{c}{-i \\\\ \\dfrac{-2-i}{2} \\\\ 3 \\\\ \\dfrac{1+i}{2}}$$\n",
    "\n",
    "What can be said about the results?"
   ]
  },
  {
   "cell_type": "markdown",
   "metadata": {},
   "source": [
    "<h3>Solution</h3>"
   ]
  },
  {
   "cell_type": "markdown",
   "metadata": {},
   "source": [
    "\\begin{align}\n",
    "\\braket{x}{y} &= \\mymatrix{c}{\\dfrac{3-4i}{2} ~~~~, & 2+i ~~~~, & 8i ~~~~, & -\\dfrac{i}{2}}\\mymatrix{c}{-i \\\\ \\dfrac{-2-i}{2} \\\\ 3 \\\\ \\dfrac{1+i}{2}}\\\\\\\\\n",
    "&= \\Bigg(\\dfrac{3-4i}{2}\\Bigg)\\Bigg(-i\\Bigg)+\\Bigg(2+i\\Bigg)\\Bigg(\\dfrac{-2-i}{2}\\Bigg)+\\Bigg(8i\\Bigg)\\Bigg(3\\Bigg)+\\Bigg(-\\dfrac{i}{2}\\Bigg)\\Bigg(\\dfrac{1+i}{2}\\Bigg)\\\\\\\\\n",
    "&= \\dfrac{-13+81i}{4}\n",
    "\\end{align}\n",
    "\n",
    "<br><br>\n",
    "\n",
    "\\begin{align}\n",
    "\\braket{y}{x} &= \\mymatrix{c}{i ~~~~, & \\dfrac{-2+i}{2} ~~~~, & 3 ~~~~, & \\dfrac{1-i}{2}}\\mymatrix{c}{\\dfrac{3+4i}{2} \\\\ 2-i \\\\ -8i \\\\ \\dfrac{i}{2}}\\\\\\\\\n",
    "&= \\Bigg(i\\Bigg)\\Bigg(\\dfrac{3+4i}{2}\\Bigg)+\\Bigg(\\dfrac{-2+i}{2}\\Bigg)\\Bigg(2-i\\Bigg)+\\Bigg(3\\Bigg)\\Bigg(-8i\\Bigg)+\\Bigg(\\dfrac{1-i}{2}\\Bigg)\\Bigg(\\dfrac{i}{2}\\Bigg)\\\\\\\\\n",
    "&= \\dfrac{-13-81i}{4}\n",
    "\\end{align}\n",
    "\n",
    "<br><br>\n",
    "\n",
    "Note that one result is the complex conjugate of the other."
   ]
  }
 ],
 "metadata": {
  "kernelspec": {
   "display_name": "Python 3 (ipykernel)",
   "language": "python",
   "name": "python3"
  },
  "language_info": {
   "codemirror_mode": {
    "name": "ipython",
    "version": 3
   },
   "file_extension": ".py",
   "mimetype": "text/x-python",
   "name": "python",
   "nbconvert_exporter": "python",
   "pygments_lexer": "ipython3",
   "version": "3.11.4"
  }
 },
 "nbformat": 4,
 "nbformat_minor": 4
}
