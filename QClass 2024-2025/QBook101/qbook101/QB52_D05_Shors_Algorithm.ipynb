{
 "cells": [
  {
   "cell_type": "markdown",
   "metadata": {},
   "source": [
    "<a href=\"https://qworld.net\" target=\"_blank\" align=\"left\"><img src=\"https://gitlab.com/qworld/qeducation/qbook101/raw/main/qworld/images/header.jpg\" align=\"left\"></a>\n",
    "$ \\newcommand{\\bra}[1]{\\langle #1|} $\n",
    "$ \\newcommand{\\ket}[1]{|#1\\rangle} $\n",
    "$ \\newcommand{\\braket}[2]{\\langle #1|#2\\rangle} $\n",
    "$ \\newcommand{\\dot}[2]{ #1 \\cdot #2} $\n",
    "$ \\newcommand{\\biginner}[2]{\\left\\langle #1,#2\\right\\rangle} $\n",
    "$ \\newcommand{\\mymatrix}[2]{\\left( \\begin{array}{#1} #2\\end{array} \\right)} $\n",
    "$ \\newcommand{\\myvector}[1]{\\mymatrix{c}{#1}} $\n",
    "$ \\newcommand{\\myrvector}[1]{\\mymatrix{r}{#1}} $\n",
    "$ \\newcommand{\\mypar}[1]{\\left( #1 \\right)} $\n",
    "$ \\newcommand{\\mybigpar}[1]{ \\Big( #1 \\Big)} $\n",
    "$ \\newcommand{\\sqrttwo}{\\frac{1}{\\sqrt{2}}} $\n",
    "$ \\newcommand{\\dsqrttwo}{\\dfrac{1}{\\sqrt{2}}} $\n",
    "$ \\newcommand{\\onehalf}{\\frac{1}{2}} $\n",
    "$ \\newcommand{\\donehalf}{\\dfrac{1}{2}} $\n",
    "$ \\newcommand{\\hadamard}{ \\mymatrix{rr}{ \\sqrttwo & \\sqrttwo \\\\ \\sqrttwo & -\\sqrttwo }} $\n",
    "$ \\newcommand{\\vzero}{\\myvector{1\\\\0}} $\n",
    "$ \\newcommand{\\vone}{\\myvector{0\\\\1}} $\n",
    "$ \\newcommand{\\stateplus}{\\myvector{ \\sqrttwo \\\\  \\sqrttwo } } $\n",
    "$ \\newcommand{\\stateminus}{ \\myrvector{ \\sqrttwo \\\\ -\\sqrttwo } } $\n",
    "$ \\newcommand{\\myarray}[2]{ \\begin{array}{#1}#2\\end{array}} $\n",
    "$ \\newcommand{\\X}{ \\mymatrix{cc}{0 & 1 \\\\ 1 & 0}  } $\n",
    "$ \\newcommand{\\Z}{ \\mymatrix{rr}{1 & 0 \\\\ 0 & -1}  } $\n",
    "$ \\newcommand{\\Htwo}{ \\mymatrix{rrrr}{ \\frac{1}{2} & \\frac{1}{2} & \\frac{1}{2} & \\frac{1}{2} \\\\ \\frac{1}{2} & -\\frac{1}{2} & \\frac{1}{2} & -\\frac{1}{2} \\\\ \\frac{1}{2} & \\frac{1}{2} & -\\frac{1}{2} & -\\frac{1}{2} \\\\ \\frac{1}{2} & -\\frac{1}{2} & -\\frac{1}{2} & \\frac{1}{2} } } $\n",
    "$ \\newcommand{\\CNOT}{ \\mymatrix{cccc}{1 & 0 & 0 & 0 \\\\ 0 & 1 & 0 & 0 \\\\ 0 & 0 & 0 & 1 \\\\ 0 & 0 & 1 & 0} } $\n",
    "$ \\newcommand{\\norm}[1]{ \\left\\lVert #1 \\right\\rVert } $\n",
    "$ \\newcommand{\\pstate}[1]{ \\lceil \\mspace{-1mu} #1 \\mspace{-1.5mu} \\rfloor } $\n",
    "$ \\newcommand{\\Y}{ \\mymatrix{rr}{0 & -i \\\\ i & 0} } $\n",
    "$ \\newcommand{\\S}{ \\mymatrix{rr}{1 & 0 \\\\ 0 & i} } $\n",
    "$ \\newcommand{\\T}{ \\mymatrix{rr}{1 & 0 \\\\ 0 & e^{i \\frac{\\pi}{4}}} } $\n",
    "$ \\newcommand{\\Sdg}{ \\mymatrix{rr}{1 & 0 \\\\ 0 & -i} } $ \n",
    "$ \\newcommand{\\Tdg}{ \\mymatrix{rr}{1 & 0 \\\\ 0 & e^{-i \\frac{\\pi}{4}}} } $\n",
    "$ \\newcommand{\\qgate}[1]{ \\mathop{\\textit{#1} } }$\n",
    "$\\newcommand{\\Mod}[1]{\\ (\\mathrm{mod}\\ #1)}$"
   ]
  },
  {
   "cell_type": "markdown",
   "metadata": {},
   "source": [
    "_prepared by Özlem Salehi_"
   ]
  },
  {
   "cell_type": "markdown",
   "metadata": {},
   "source": [
    "<font size=\"28px\" style=\"font-size:28px;\" align=\"left\"><b> Shor's Algorithm </b></font>\n",
    "<br>\n",
    "<br><br>"
   ]
  },
  {
   "cell_type": "markdown",
   "metadata": {
    "jp-MarkdownHeadingCollapsed": true
   },
   "source": [
    "##### <font color=\"#08b806\">Please execute the following cell, it is necessary to distinguish between your local environment and Google Colab's"
   ]
  },
  {
   "cell_type": "code",
   "execution_count": null,
   "metadata": {},
   "outputs": [],
   "source": [
    "import IPython\n",
    "\n",
    "def in_colab():\n",
    "    try:\n",
    "        import google.colab\n",
    "        return True\n",
    "    except:\n",
    "        return False\n",
    "\n",
    "path_files = \"./\" if in_colab() else \"../qworld/include/\"\n",
    "\n",
    "SolutionToTask1 = lambda: IPython.display.display(IPython.display.Javascript('window.open(\"{url}\");'.format(url='https://colab.research.google.com/drive/1Qk2FJIWR2g12C79r9NARSNg5vY5y7lj4?usp=sharing#scrollTo=mYXl8O3SlBwb' if in_colab() else 'QB52_D05_Shors_Algorithm_Solutions.ipynb#task1')))\n",
    "SolutionToTask2 = lambda: IPython.display.display(IPython.display.Javascript('window.open(\"{url}\");'.format(url='https://colab.research.google.com/drive/1Qk2FJIWR2g12C79r9NARSNg5vY5y7lj4?usp=sharing#scrollTo=9FrsaKWylBwc' if in_colab() else 'QB52_D05_Shors_Algorithm_Solutions.ipynb#task2')))\n",
    "SolutionToTask3 = lambda: IPython.display.display(IPython.display.Javascript('window.open(\"{url}\");'.format(url='https://colab.research.google.com/drive/1Qk2FJIWR2g12C79r9NARSNg5vY5y7lj4?usp=sharing#scrollTo=_CC6iv1ZlBwc' if in_colab() else 'QB52_D05_Shors_Algorithm_Solutions.ipynb#task3')))\n",
    "SolutionToTask4 = lambda: IPython.display.display(IPython.display.Javascript('window.open(\"{url}\");'.format(url='https://colab.research.google.com/drive/1Qk2FJIWR2g12C79r9NARSNg5vY5y7lj4?usp=sharing#scrollTo=vvLwNE1KlBwc' if in_colab() else 'QB52_D05_Shors_Algorithm_Solutions.ipynb#task4')))\n",
    "\n",
    "if in_colab():\n",
    "    url = \"https://gitlab.com/qworld/qeducation/qbook101/raw/main/qworld/include/shor.py\"\n",
    "    !wget --no-cache -O shor.py {url}\n",
    "    \n",
    "    !pip install cirq"
   ]
  },
  {
   "cell_type": "markdown",
   "metadata": {},
   "source": [
    "##### Shor's algorithm provides a polynomial time quantum algorithm for the factoring problem. The best known classical algorithm for factorizing integers is of exponential time.\n",
    "\n",
    "We have already seen the main quantum ingredient of Shor's Algorithm, which is the order finding procedure. Now, we will combine everything we have learnt so far."
   ]
  },
  {
   "cell_type": "markdown",
   "metadata": {},
   "source": [
    "<h2>Problem Definition</h2>\n",
    "\n",
    "Given a positive integer $N$, what prime numbers when multiplied together equal to $N$? \n",
    "\n",
    "It should also be noted that the converse is an easy problem. If the prime numbers are already given, they can be multiplied to check whether they are really the factors of $N$. This property of the problem lies at the center of encryption algorithms which is widely used today. Therefore, quantum computing poses a big challenge for cryptographic systems.\n",
    "\n",
    "It was already known that factorization problem can be reduced to order finding problem. Shor was able to find the polynomial time algorithm for order finding which overall resulted in a polynomial time algorithm for the factorization problem. At the background of Shor's algorithm lies the exponential speed up that comes from Quantum Fourier Transform. "
   ]
  },
  {
   "cell_type": "markdown",
   "metadata": {},
   "source": [
    "It is still not known whether $\\mathsf{P}^{[1]}$ is a proper subset of $\\mathsf{BQP}^{[2]}$. If someone one day can prove that factorizing integers cannot be solved in polynomial time classically, then this will prove that $\\mathsf{P}$ is a proper subset of $\\mathsf{BQP}$. \n",
    "\n",
    "Shor's algorithm and Quantum Fourier transform are important as being one of the first examples of quantum exponential speed up over classical algorithms.\n",
    "\n",
    "_$^1$ The class of problems that can be solved in polynimal time on a classical computer._  \n",
    "_$^2$ The class of problems that can be solved in polynimal time on a quantum computer with high probability._"
   ]
  },
  {
   "cell_type": "markdown",
   "metadata": {},
   "source": [
    "<h2>Algorithm</h2>\n",
    "\n",
    "- Pick $x$ randomly in the range $1$ to $N-1$, such that $gcd(x,N)=1$. (If $ gcd(x,N)=d>1 $, then $d$ is already a factor of $ N $.)\n",
    "- Use order finding algorithm to find order of $x\\Mod{N}$, which will be denoted by $r$.\n",
    "- If $r$ is even and $x^{r/2} \\neq -1 \\Mod{N}$, then compute $gcd(x^{r/2} -1, N)$ and  $gcd(x^{r/2}+1, N)$.\n",
    "- Test to see if one of these is a non-trivial factor. If so return, otherwise the algorithm fails. If that is the case, repeat."
   ]
  },
  {
   "cell_type": "markdown",
   "metadata": {},
   "source": [
    "<b> Remark:</b> If $r$ is even and $x^{r/2} \\neq -1 \\Mod{N}$, then it can be proven that either $gcd(x^{r/2} -1, N)$ or $gcd(x^{r/2}+1, N)$ should be a factor of $N$. Such an $r$ is found with probability greater than $1/2$. You can check the two theorems at the end of the notebook."
   ]
  },
  {
   "cell_type": "markdown",
   "metadata": {},
   "source": [
    "The main part of Shor's algorithm is step 2, in which we find the order using phase estimation circuit. Once the order satisfies the required properties, then the rest is computing the greatest common divisor. As we have already implemented order finding procedure, we have already implemented Shor's algorithm. \n",
    "\n",
    "Nevertheless, we will be examining Shor's algorithm in more detail. We will start by estimating some probabilities regarding the choice of $r$."
   ]
  },
  {
   "cell_type": "markdown",
   "metadata": {},
   "source": [
    "<h3>Task 1</h3>\n",
    "\n",
    "Let $N=111$. What percentage of the elements that are less than $N$ are relatively prime with $N$? Write a Python code to find out. (You can use gcd function of numpy)\n"
   ]
  },
  {
   "cell_type": "code",
   "execution_count": null,
   "metadata": {},
   "outputs": [],
   "source": [
    "#\n",
    "#Your code here\n",
    "#"
   ]
  },
  {
   "cell_type": "markdown",
   "metadata": {},
   "source": [
    "To check out our solution, run the next cell:"
   ]
  },
  {
   "cell_type": "code",
   "execution_count": null,
   "metadata": {},
   "outputs": [],
   "source": [
    "SolutionToTask1()  # show solution for task 1"
   ]
  },
  {
   "cell_type": "markdown",
   "metadata": {},
   "source": [
    "<h3>Task 2</h3>\n",
    "\n",
    "Calculate the order of each element $ x $ that is relatively prime with $N $. \n",
    "\n",
    "What percentage of the $ x $’s have even order and satisfy $x^{r/2} \\neq -1 \\Mod{N}$?\n",
    "\n",
    "Put the elements that satisfy the conditions in a dictionary together with their order."
   ]
  },
  {
   "cell_type": "code",
   "execution_count": null,
   "metadata": {},
   "outputs": [],
   "source": [
    "#\n",
    "#Your code here\n",
    "#"
   ]
  },
  {
   "cell_type": "markdown",
   "metadata": {},
   "source": [
    "To check out our solution, run the next cell:"
   ]
  },
  {
   "cell_type": "code",
   "execution_count": null,
   "metadata": {},
   "outputs": [],
   "source": [
    "SolutionToTask2()  # show solution for task 2"
   ]
  },
  {
   "cell_type": "markdown",
   "metadata": {},
   "source": [
    "<h3>Task 3</h3>\n",
    "\n",
    "Pick randomly one of the $x$ you found in Task 2 and calculate gcd$(x^{r/2}-1,N)$ and gcd$(x^{r/2}+1,N)$. \n"
   ]
  },
  {
   "cell_type": "code",
   "execution_count": null,
   "metadata": {},
   "outputs": [],
   "source": [
    "#\n",
    "#Your code here\n",
    "#"
   ]
  },
  {
   "cell_type": "markdown",
   "metadata": {},
   "source": [
    "To check out our solution, run the next cell:"
   ]
  },
  {
   "cell_type": "code",
   "execution_count": null,
   "metadata": {},
   "outputs": [],
   "source": [
    "SolutionToTask3()  # show solution for task 3"
   ]
  },
  {
   "cell_type": "markdown",
   "metadata": {},
   "source": [
    "In the preceeding tasks, we computed factors of $N$ using the same idea as in Shor's algorithm but we calculated $r$ classicaly. The main advantage of Shor's algorithm is to be able to calculate $r$ efficiently."
   ]
  },
  {
   "cell_type": "markdown",
   "metadata": {},
   "source": [
    "## Factoring 21"
   ]
  },
  {
   "cell_type": "markdown",
   "metadata": {},
   "source": [
    "Now we are ready to factor 21, using the phase estimaton circuit we have already implemented."
   ]
  },
  {
   "cell_type": "markdown",
   "metadata": {},
   "source": [
    "<h3>Task 4</h3>\n",
    "\n",
    "Factor 21 by using Shor's Algorithm.\n",
    "\n",
    "- Pick a random $x$ which is relatively prime with 21.\n",
    "- Apply phase estimation circuit to the operator $U_x$.\n",
    "- Use continued fractions algorithm to find out $r$.\n",
    "- Compute $gcd(x^{r/2} -1, N)$ and $gcd(x^{r/2}+1, N)$"
   ]
  },
  {
   "cell_type": "code",
   "execution_count": null,
   "metadata": {},
   "outputs": [],
   "source": [
    "N=21"
   ]
  },
  {
   "cell_type": "code",
   "execution_count": null,
   "metadata": {},
   "outputs": [],
   "source": [
    "#Pick a random x relatively prime with N\n",
    "\n"
   ]
  },
  {
   "cell_type": "markdown",
   "metadata": {},
   "source": [
    "Use your solutions for [Task 5](https://colab.research.google.com/drive/1vmO57cdCWd9MPl4K9zQ5lx2pqnwv3Zz_?usp=sharing#scrollTo=jCltmUh5g9rg) & [Task 6](https://colab.research.google.com/drive/1vmO57cdCWd9MPl4K9zQ5lx2pqnwv3Zz_?usp=sharing#scrollTo=0qR1Xnjjg9rh) in the previous notebook."
   ]
  },
  {
   "cell_type": "code",
   "execution_count": null,
   "metadata": {},
   "outputs": [],
   "source": [
    "#Check if r is even and x^{r/2} is not equal to -1 Mod N\n",
    "\n",
    "\n",
    "\n"
   ]
  },
  {
   "cell_type": "markdown",
   "metadata": {},
   "source": [
    "Note that you may not be able to get the $r$ value in your first trial. In such a case, you need to repeat the algorithm. "
   ]
  },
  {
   "cell_type": "code",
   "execution_count": null,
   "metadata": {},
   "outputs": [],
   "source": [
    "#Compute gcd to find out the factors of N\n",
    "\n",
    "\n"
   ]
  },
  {
   "cell_type": "markdown",
   "metadata": {},
   "source": [
    "To check out our solution, run the next cell:"
   ]
  },
  {
   "cell_type": "code",
   "execution_count": null,
   "metadata": {},
   "outputs": [],
   "source": [
    "SolutionToTask4()  # show solution for task 4"
   ]
  },
  {
   "cell_type": "markdown",
   "metadata": {},
   "source": [
    "### Theorems (optional)\n",
    "\n",
    "#### Theorem 1\n",
    "Suppose $N$ is an $L$ bit composite number and $x$ is a non-trivial solution to the equation $x^2 = 1 \\Mod{N}$ in the range $1\\leq x \\leq N$, that is neither $x=1 \\Mod{N}$ nor $x=N-1=-1 \\Mod{N}$. Then at least one of $gcd(x-1,N)$ and $gcd(x+1,N)$ is a non-trivial factor of $N$ that can be computed using $O(L^3)$ operations.\n",
    "\n",
    "#### Theorem 2\n",
    "Suppose $N={p_1}^{l_1} \\dots {p_m}^{l_m}$ is the prime factorization of an odd composite positive integer. Let $x$ be an integer uniformly chosen at random, such that $0 \\leq x \\leq N-1$ and $x$ is co-prime to $N$. Let $r$ be the order of $x \\Mod{N}$. In such a case,\n",
    "\t\\begin{align*}\n",
    "\tP(\\text{r is even and } {x}^{r/2} \\neq -1 \\Mod{N}) > 1- \\frac{1}{2^{m-1}}.\n",
    "\t\\end{align*}"
   ]
  }
 ],
 "metadata": {
  "kernelspec": {
   "display_name": "Python 3 (ipykernel)",
   "language": "python",
   "name": "python3"
  },
  "language_info": {
   "codemirror_mode": {
    "name": "ipython",
    "version": 3
   },
   "file_extension": ".py",
   "mimetype": "text/x-python",
   "name": "python",
   "nbconvert_exporter": "python",
   "pygments_lexer": "ipython3",
   "version": "3.11.4"
  }
 },
 "nbformat": 4,
 "nbformat_minor": 4
}
