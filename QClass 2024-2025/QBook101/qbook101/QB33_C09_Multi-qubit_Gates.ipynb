{
 "cells": [
  {
   "cell_type": "markdown",
   "metadata": {},
   "source": [
    "<a href=\"https://qworld.net\" target=\"_blank\" align=\"left\"><img src=\"https://gitlab.com/qworld/qeducation/qbook101/raw/main/qworld/images/header.jpg\" align=\"left\"></a>\n",
    "$ \\newcommand{\\bra}[1]{\\langle #1|} $\n",
    "$ \\newcommand{\\ket}[1]{|#1\\rangle} $\n",
    "$ \\newcommand{\\braket}[2]{\\langle #1|#2\\rangle} $\n",
    "$ \\newcommand{\\dot}[2]{ #1 \\cdot #2} $\n",
    "$ \\newcommand{\\biginner}[2]{\\left\\langle #1,#2\\right\\rangle} $\n",
    "$ \\newcommand{\\mymatrix}[2]{\\left( \\begin{array}{#1} #2\\end{array} \\right)} $\n",
    "$ \\newcommand{\\myvector}[1]{\\mymatrix{c}{#1}} $\n",
    "$ \\newcommand{\\myrvector}[1]{\\mymatrix{r}{#1}} $\n",
    "$ \\newcommand{\\mypar}[1]{\\left( #1 \\right)} $\n",
    "$ \\newcommand{\\mybigpar}[1]{ \\Big( #1 \\Big)} $\n",
    "$ \\newcommand{\\sqrttwo}{\\frac{1}{\\sqrt{2}}} $\n",
    "$ \\newcommand{\\dsqrttwo}{\\dfrac{1}{\\sqrt{2}}} $\n",
    "$ \\newcommand{\\onehalf}{\\frac{1}{2}} $\n",
    "$ \\newcommand{\\donehalf}{\\dfrac{1}{2}} $\n",
    "$ \\newcommand{\\hadamard}{ \\mymatrix{rr}{ \\sqrttwo & \\sqrttwo \\\\ \\sqrttwo & -\\sqrttwo }} $\n",
    "$ \\newcommand{\\vzero}{\\myvector{1\\\\0}} $\n",
    "$ \\newcommand{\\vone}{\\myvector{0\\\\1}} $\n",
    "$ \\newcommand{\\stateplus}{\\myvector{ \\sqrttwo \\\\  \\sqrttwo } } $\n",
    "$ \\newcommand{\\stateminus}{ \\myrvector{ \\sqrttwo \\\\ -\\sqrttwo } } $\n",
    "$ \\newcommand{\\myarray}[2]{ \\begin{array}{#1}#2\\end{array}} $\n",
    "$ \\newcommand{\\X}{ \\mymatrix{cc}{0 & 1 \\\\ 1 & 0}  } $\n",
    "$ \\newcommand{\\Z}{ \\mymatrix{rr}{1 & 0 \\\\ 0 & -1}  } $\n",
    "$ \\newcommand{\\Htwo}{ \\mymatrix{rrrr}{ \\frac{1}{2} & \\frac{1}{2} & \\frac{1}{2} & \\frac{1}{2} \\\\ \\frac{1}{2} & -\\frac{1}{2} & \\frac{1}{2} & -\\frac{1}{2} \\\\ \\frac{1}{2} & \\frac{1}{2} & -\\frac{1}{2} & -\\frac{1}{2} \\\\ \\frac{1}{2} & -\\frac{1}{2} & -\\frac{1}{2} & \\frac{1}{2} } } $\n",
    "$ \\newcommand{\\CNOT}{ \\mymatrix{cccc}{1 & 0 & 0 & 0 \\\\ 0 & 1 & 0 & 0 \\\\ 0 & 0 & 0 & 1 \\\\ 0 & 0 & 1 & 0} } $\n",
    "$ \\newcommand{\\norm}[1]{ \\left\\lVert #1 \\right\\rVert } $\n",
    "$ \\newcommand{\\pstate}[1]{ \\lceil \\mspace{-1mu} #1 \\mspace{-1.5mu} \\rfloor } $\n",
    "$ \\newcommand{\\Y}{ \\mymatrix{rr}{0 & -i \\\\ i & 0} } $\n",
    "$ \\newcommand{\\S}{ \\mymatrix{rr}{1 & 0 \\\\ 0 & i} } $\n",
    "$ \\newcommand{\\T}{ \\mymatrix{rr}{1 & 0 \\\\ 0 & e^{i \\frac{\\pi}{4}}} } $\n",
    "$ \\newcommand{\\Sdg}{ \\mymatrix{rr}{1 & 0 \\\\ 0 & -i} } $ \n",
    "$ \\newcommand{\\Tdg}{ \\mymatrix{rr}{1 & 0 \\\\ 0 & e^{-i \\frac{\\pi}{4}}} } $\n",
    "$ \\newcommand{\\qgate}[1]{ \\mathop{\\\\textit{#1} } }$"
   ]
  },
  {
   "cell_type": "markdown",
   "metadata": {},
   "source": [
    "_prepared by Maksim Dimitrijev and Abuzer Yakaryilmaz_\n",
    "<br><br>\n",
    "_Cirq adaptation by Claudia Zendejas-Morales_"
   ]
  },
  {
   "cell_type": "markdown",
   "metadata": {},
   "source": [
    "<font size=\"28px\" style=\"font-size:28px;\" align=\"left\"><b>Multi-qubit gates</b></font>\n",
    "<br>\n",
    "<br><br>"
   ]
  },
  {
   "cell_type": "markdown",
   "metadata": {
    "jp-MarkdownHeadingCollapsed": true
   },
   "source": [
    "##### <font color=\"#08b806\">Please execute the following cell, it is necessary to distinguish between your local environment and Google Colab's"
   ]
  },
  {
   "cell_type": "code",
   "execution_count": null,
   "metadata": {},
   "outputs": [],
   "source": [
    "import IPython\n",
    "\n",
    "def in_colab():\n",
    "    try:\n",
    "        import google.colab\n",
    "        return True\n",
    "    except:\n",
    "        return False\n",
    "\n",
    "SolutionToTask1 = lambda: IPython.display.display(IPython.display.Javascript('window.open(\"{url}\");'.format(url='https://colab.research.google.com/drive/12PzCm5Y71g3JxhKqbe9mh0PgYyybYKaH?usp=sharing#scrollTo=A62APel5L2Cq' if in_colab() else 'QB33_C09_Multi-qubit_Gates_Solutions.ipynb#task1')))\n",
    "SolutionToTask2 = lambda: IPython.display.display(IPython.display.Javascript('window.open(\"{url}\");'.format(url='https://colab.research.google.com/drive/12PzCm5Y71g3JxhKqbe9mh0PgYyybYKaH?usp=sharing#scrollTo=6bq4GNy5L2Cs' if in_colab() else 'QB33_C09_Multi-qubit_Gates_Solutions.ipynb#task2')))\n",
    "SolutionToTask3 = lambda: IPython.display.display(IPython.display.Javascript('window.open(\"{url}\");'.format(url='https://colab.research.google.com/drive/12PzCm5Y71g3JxhKqbe9mh0PgYyybYKaH?usp=sharing#scrollTo=u83vEIKqL2Cs' if in_colab() else 'QB33_C09_Multi-qubit_Gates_Solutions.ipynb#task3')))\n",
    "SolutionToTask4 = lambda: IPython.display.display(IPython.display.Javascript('window.open(\"{url}\");'.format(url='https://colab.research.google.com/drive/12PzCm5Y71g3JxhKqbe9mh0PgYyybYKaH?usp=sharing#scrollTo=ytAFNwgFL2Ct' if in_colab() else 'QB33_C09_Multi-qubit_Gates_Solutions.ipynb#task4')))\n",
    "SolutionToTask5 = lambda: IPython.display.display(IPython.display.Javascript('window.open(\"{url}\");'.format(url='https://colab.research.google.com/drive/12PzCm5Y71g3JxhKqbe9mh0PgYyybYKaH?usp=sharing#scrollTo=k3L2k9iAL2Ct' if in_colab() else 'QB33_C09_Multi-qubit_Gates_Solutions.ipynb#task5')))\n",
    "SolutionToTask6 = lambda: IPython.display.display(IPython.display.Javascript('window.open(\"{url}\");'.format(url='https://colab.research.google.com/drive/12PzCm5Y71g3JxhKqbe9mh0PgYyybYKaH?usp=sharing#scrollTo=n_rrPBlYL2Ct' if in_colab() else 'QB33_C09_Multi-qubit_Gates_Solutions.ipynb#task6')))\n",
    "SolutionToTask7 = lambda: IPython.display.display(IPython.display.Javascript('window.open(\"{url}\");'.format(url='https://colab.research.google.com/drive/12PzCm5Y71g3JxhKqbe9mh0PgYyybYKaH?usp=sharing#scrollTo=dAablgQqL2Ct' if in_colab() else 'QB33_C09_Multi-qubit_Gates_Solutions.ipynb#task7')))\n",
    "\n",
    "if in_colab():\n",
    "    !pip install cirq"
   ]
  },
  {
   "cell_type": "markdown",
   "metadata": {},
   "source": [
    "##### In this notebook we will cover several two- and three-qubit gates. \n",
    "\n",
    "One of them is SWAP gate, and the rest are controlled gates.\n",
    "\n",
    "Remember that Cirq combines qubits in ascending order of indices, as q0⊗q1⊗q2."
   ]
  },
  {
   "cell_type": "markdown",
   "metadata": {},
   "source": [
    "## SWAP gate\n",
    "\n",
    "The `SWAP` gate is defined on two qubits and it swaps the values of qubits.\n",
    "\n",
    "Its transitions are as follows:\n",
    "\n",
    "- $ SWAP \\ket{00} = \\ket{00} $\n",
    "- $ SWAP \\ket{01} = \\ket{10} $\n",
    "- $ SWAP \\ket{10} = \\ket{01} $\n",
    "- $ SWAP \\ket{11} = \\ket{11} $\n",
    "\n",
    "Then, its matrix form is\n",
    "\n",
    "$ SWAP = \\mymatrix{cccc}{1 & 0 & 0 & 0 \\\\ 0 & 0 & 1 & 0 \\\\ 0 & 1 & 0 & 0 \\\\ 0 & 0 & 0 & 1} . $\n",
    "\n",
    "It is used in Cirq as:\n",
    "\n",
    "    SWAP.on(q0, q1) # Swapping between q0 and q1\n",
    "    \n",
    "    SWAP.on(q1, q3) # Swapping between q1 and q3"
   ]
  },
  {
   "cell_type": "markdown",
   "metadata": {},
   "source": [
    "Below we define a simple two-qubit circuit, and execute it 1000 times.\n",
    "\n",
    "Later, we use the same circuit, but apply a `SWAP` gate before the measurements.\n",
    "\n",
    "Then, the outcomes should be reversed."
   ]
  },
  {
   "cell_type": "code",
   "execution_count": null,
   "metadata": {},
   "outputs": [],
   "source": [
    "import cirq\n",
    "from cirq import H, X, measure\n",
    "\n",
    "circuit = cirq.Circuit()\n",
    "\n",
    "q0, q1 = cirq.LineQubit.range(2) #create 2 qubits\n",
    "\n",
    "circuit.append(X(q0))\n",
    "circuit.append(H(q1))\n",
    "\n",
    "# the state of two qubits is |1>|+>\n",
    "\n",
    "# Simulate the circuit\n",
    "sim = cirq.Simulator()\n",
    "results = sim.simulate(circuit)\n",
    "\n",
    "print(\"the quantum state is\")\n",
    "print(results.dirac_notation())\n",
    "print()\n",
    "\n",
    "circuit.append(measure(q0, q1, key='result'))\n",
    "\n",
    "print(\"the circuit is\")\n",
    "print(circuit)\n",
    "print()\n",
    "\n",
    "\n",
    "# default representation in Cirq is with decimal numbers\n",
    "# with this function we convert the decimal numbers into binary (bitstrings)\n",
    "def bitstring(bits):\n",
    "    return \"\".join(str(int(b)) for b in bits)\n",
    "\n",
    "\n",
    "# Execute the circuit\n",
    "samples = sim.run(circuit, repetitions=1000)\n",
    "print(\"outcomes:\", samples.histogram(key='result', fold_func=bitstring))"
   ]
  },
  {
   "cell_type": "markdown",
   "metadata": {},
   "source": [
    "We observe the outcomes `10` and `11` with equal probability. The qubit `q0` outputs only 1. \n",
    "\n",
    "Now, we apply a `SWAP` gate before the measurements."
   ]
  },
  {
   "cell_type": "code",
   "execution_count": null,
   "metadata": {},
   "outputs": [],
   "source": [
    "import cirq\n",
    "from cirq import H, X, measure, SWAP\n",
    "\n",
    "circuit = cirq.Circuit()\n",
    "\n",
    "q0, q1 = cirq.LineQubit.range(2) #create 2 qubits\n",
    "\n",
    "circuit.append(X(q0))\n",
    "circuit.append(H(q1))\n",
    "\n",
    "# the state of two qubits is |1>|+>\n",
    "\n",
    "# apply a SWAP gate\n",
    "circuit.append(SWAP.on(q0, q1))\n",
    "\n",
    "# the state of two qubits is |+>|1>\n",
    "\n",
    "# Simulate the circuit\n",
    "sim = cirq.Simulator()\n",
    "results = sim.simulate(circuit)\n",
    "\n",
    "print(\"the quantum state is\")\n",
    "print(results.dirac_notation())\n",
    "print()\n",
    "\n",
    "circuit.append(measure(q0, q1, key='result'))\n",
    "\n",
    "print(\"the circuit is\")\n",
    "print(circuit)\n",
    "print()\n",
    "\n",
    "\n",
    "# default representation in Cirq is with decimal numbers\n",
    "# with this function we convert the decimal numbers into binary (bitstrings)\n",
    "def bitstring(bits):\n",
    "    return \"\".join(str(int(b)) for b in bits)\n",
    "\n",
    "\n",
    "# Execute the circuit\n",
    "samples = sim.run(circuit, repetitions=1000)\n",
    "print(\"outcomes:\", samples.histogram(key='result', fold_func=bitstring))"
   ]
  },
  {
   "cell_type": "markdown",
   "metadata": {},
   "source": [
    "We observe the outcomes `01` and `11` with equal probability. The qubit `q1` outputs only 1."
   ]
  },
  {
   "cell_type": "markdown",
   "metadata": {},
   "source": [
    "### Task 1\n",
    "\n",
    "We have three qubits as q0⊗q1⊗q2.\n",
    "\n",
    "Below is the transitions of `SWAP` operator on q0 and q2. Complete the missing parts.\n",
    "\n",
    "- $ \\ket{000} \\rightarrow \\ket{?} $\n",
    "- $ \\ket{001} \\rightarrow \\ket{?} $\n",
    "- $ \\ket{010} \\rightarrow \\ket{?} $\n",
    "- $ \\ket{011} \\rightarrow \\ket{?} $\n",
    "- $ \\ket{100} \\rightarrow \\ket{?} $\n",
    "- $ \\ket{101} \\rightarrow \\ket{?} $\n",
    "- $ \\ket{110} \\rightarrow \\ket{?} $\n",
    "- $ \\ket{111} \\rightarrow \\ket{?} $\n",
    "\n",
    "Write the matrix of this operator."
   ]
  },
  {
   "cell_type": "markdown",
   "metadata": {},
   "source": [
    "To check out our solution, run the next cell:"
   ]
  },
  {
   "cell_type": "code",
   "execution_count": null,
   "metadata": {},
   "outputs": [],
   "source": [
    "SolutionToTask1()  # show solution for task 1"
   ]
  },
  {
   "cell_type": "markdown",
   "metadata": {},
   "source": [
    "### Task 2\n",
    "\n",
    "Suppose that in Task 1 three qubits are placed on a line as q0---q1---q2, and `SWAP` operator is allowed only for neighbors, i.e., between 0 and 1 and between 1 and 2.\n",
    "\n",
    "Design a circuit swapping q0 and q2 but following neighborhood constraints for `SWAP` gates.\n",
    "\n",
    "Print the matrix of circuit and compare it with the solution of Task 1."
   ]
  },
  {
   "cell_type": "code",
   "execution_count": null,
   "metadata": {},
   "outputs": [],
   "source": [
    "#\n",
    "# Your solution here\n",
    "#\n"
   ]
  },
  {
   "cell_type": "markdown",
   "metadata": {},
   "source": [
    "To check out our solution, run the next cell:"
   ]
  },
  {
   "cell_type": "code",
   "execution_count": null,
   "metadata": {},
   "outputs": [],
   "source": [
    "SolutionToTask2()  # show solution for task 2"
   ]
  },
  {
   "cell_type": "markdown",
   "metadata": {},
   "source": [
    "## Controlled gates\n",
    "\n",
    "Any gate in Cirq can be turned into a controlled gate by using the `controlled()` method or the **`controlled_by()`** method.\n",
    "\n",
    "The parameter(s) of this methods is(are) the contol qubit(s).\n",
    "\n",
    "Here are a few examples:\n",
    "\n",
    "    cirq.X.controlled().on(q0, q1)      # q1 is the target; q0 is control\n",
    "    cirq.X(q1).controlled_by(q0)        # q1 is the target; q0 is control\n",
    "    cirq.X.on(q1).controlled_by(q0)     # q1 is the target; q0 is control\n",
    "\n",
    "    cirq.X(q0).controlled_by(q1, q2, q3)       # q0 is the target; q1, q2, and q3 are controls\n",
    "    \n",
    "    cirq.H(q1).controlled_by(q0, q3)           # q1 is the target; q0 and q3 are controls\n",
    "\n",
    "    cirq.ry(pi/3).on(q2).controlled_by(q1, q0) # q2 is the target; q0 and q1 are controls\n",
    "    \n",
    "Here we review the controlled versions of a couple different gates."
   ]
  },
  {
   "cell_type": "markdown",
   "metadata": {},
   "source": [
    "### Controlled NOT gate\n",
    "\n",
    "This is the most well-known two-qubit gate, implemented in Cirq as\n",
    "\n",
    "    X.on(q1).controlled_by(q0)\n",
    "    X.controlled().on(q0, q1)   #(control, target)\n",
    "    CX(q0, q1)                  #(control, target)\n",
    "    CNOT(q0, q1)                #(control, target)\n",
    "    \n",
    "Here q1 is the target and q0 is the control qubit. \n",
    "- Whenever q0 is in $\\ket{1}$, `X` is applied to q1.\n",
    "- Otherwise, the state of q1 does not change. (Alternatively, we can say that `I` is applied to q1.)\n",
    "\n",
    "Its transitions and matrix form are given below.\n",
    "\n",
    "- $ CNOT \\ket{00} = \\ket{00} $\n",
    "- $ CNOT \\ket{01} = \\ket{01} $\n",
    "- $ CNOT \\ket{10} = \\ket{11} $\n",
    "- $ CNOT \\ket{11} = \\ket{10} $\n",
    "\n",
    "Then, its matrix form is\n",
    "\n",
    "$ CNOT = \\mymatrix{cccc}{1 & 0 & 0 & 0 \\\\ 0 & 1 & 0 & 0 \\\\ 0 & 0 & 0 & 1 \\\\ 0 & 0 & 1 & 0} . $"
   ]
  },
  {
   "cell_type": "markdown",
   "metadata": {},
   "source": [
    "### Task 3\n",
    "\n",
    "For the gate `cirq.CX(q1, q0)`, list down the transitons and write down its matrix.\n",
    "\n",
    "Verify your matrix in Cirq, i.e., print the matrix of circuit implementing this gate."
   ]
  },
  {
   "cell_type": "code",
   "execution_count": null,
   "metadata": {},
   "outputs": [],
   "source": [
    "#\n",
    "# Your solution here\n",
    "#\n"
   ]
  },
  {
   "cell_type": "markdown",
   "metadata": {},
   "source": [
    "To check out our solution, run the next cell:"
   ]
  },
  {
   "cell_type": "code",
   "execution_count": null,
   "metadata": {},
   "outputs": [],
   "source": [
    "SolutionToTask3()  # show solution for task 3"
   ]
  },
  {
   "cell_type": "markdown",
   "metadata": {},
   "source": [
    "### Controlled Y gate"
   ]
  },
  {
   "cell_type": "markdown",
   "metadata": {},
   "source": [
    "### Task 4\n",
    "\n",
    "Remember Pauli gate $ Y = \\Y $.\n",
    "\n",
    "For the gate `Y.on(q1).controlled_by(q0)`, list down the transitons and then write down its matrix.\n",
    "\n",
    "Verify your matrix in Cirq, i.e., print the matrix of circuit implementing this gate."
   ]
  },
  {
   "cell_type": "code",
   "execution_count": null,
   "metadata": {},
   "outputs": [],
   "source": [
    "#\n",
    "# Your solution here\n",
    "#\n"
   ]
  },
  {
   "cell_type": "markdown",
   "metadata": {},
   "source": [
    "To check out our solution, run the next cell:"
   ]
  },
  {
   "cell_type": "code",
   "execution_count": null,
   "metadata": {},
   "outputs": [],
   "source": [
    "SolutionToTask4()  # show solution for task 4"
   ]
  },
  {
   "cell_type": "markdown",
   "metadata": {},
   "source": [
    "### Controlled H gate\n",
    "\n",
    "We represent the controlled Hadamard operator as $ CH $. \n",
    "\n",
    "Here is an example transition. Suppose that q1 is the target qubit. \n",
    "\n",
    "$ CH \\ket{11} = \\ket{1} \\otimes H\\ket{1} = \\ket{1}\\ket{-} = \\frac{1}{\\sqrt{2}} \\mypar{\\ket{10}-\\ket{11}}  $.\n",
    "\n",
    "$ CH \\ket{01} = \\ket{0} \\otimes I\\ket{1} = \\ket{01} $."
   ]
  },
  {
   "cell_type": "markdown",
   "metadata": {},
   "source": [
    "### Task 5\n",
    "\n",
    "For the gate `H.on(q1).controlled_by(q0)`, list down the transitons and then write down its matrix.\n",
    "\n",
    "Verify your matrix in Cirq, i.e., print the matrix of circuit implementing this gate."
   ]
  },
  {
   "cell_type": "code",
   "execution_count": null,
   "metadata": {},
   "outputs": [],
   "source": [
    "#\n",
    "# Your solution here\n",
    "#\n"
   ]
  },
  {
   "cell_type": "markdown",
   "metadata": {},
   "source": [
    "To check out our solution, run the next cell:"
   ]
  },
  {
   "cell_type": "code",
   "execution_count": null,
   "metadata": {},
   "outputs": [],
   "source": [
    "SolutionToTask5()  # show solution for task 5"
   ]
  },
  {
   "cell_type": "markdown",
   "metadata": {},
   "source": [
    "### Task 6\n",
    "\n",
    "For the gate `H.on(q0).controlled_by(q1)`, list down the transitons and then write down its matrix.\n",
    "\n",
    "Verify your matrix in Cirq, i.e., print the matrix of circuit implementing this gate."
   ]
  },
  {
   "cell_type": "code",
   "execution_count": null,
   "metadata": {},
   "outputs": [],
   "source": [
    "#\n",
    "# Your solution here\n",
    "#\n"
   ]
  },
  {
   "cell_type": "markdown",
   "metadata": {},
   "source": [
    "To check out our solution, run the next cell:"
   ]
  },
  {
   "cell_type": "code",
   "execution_count": null,
   "metadata": {},
   "outputs": [],
   "source": [
    "SolutionToTask6()  # show solution for task 6"
   ]
  },
  {
   "cell_type": "markdown",
   "metadata": {},
   "source": [
    "### Gates differ by a global phase\n",
    "\n",
    "The matrix form of $ S $ is $ \\S = \\mymatrix{cc}{ 1 & 0 \\\\ 0 & e^{i\\pi/2} }$.\n",
    "\n",
    "The matrix form of $ RZ(\\pi/2) $ is $ \\mymatrix{c}{e^{-i\\pi/4} & 0 \\\\ 0 & e^{i\\pi/4}} = e^{-i\\pi/4} \\mymatrix{cc}{ 1 & 0 \\\\ 0 & e^{i\\pi/2} } $.\n",
    "\n",
    "So, $ S $ and $ RZ(\\pi/2) $ differ by a global phase. If we apply them on a single qubit, their affects will be the same.\n",
    "\n",
    "What about their controlled versions ($CS$ and $CRZ$)?"
   ]
  },
  {
   "cell_type": "markdown",
   "metadata": {},
   "source": [
    "We assume q1 is the target qubit, and q0 is the control qubit.\n",
    "\n",
    "We will apply each twice and then print their matrices.\n",
    "\n",
    "We start with $ CRZ(\\pi/2) $."
   ]
  },
  {
   "cell_type": "code",
   "execution_count": null,
   "metadata": {},
   "outputs": [],
   "source": [
    "import cirq\n",
    "from cirq import rz\n",
    "from math import pi\n",
    "\n",
    "circuit = cirq.Circuit()\n",
    "\n",
    "q0, q1 = cirq.LineQubit.range(2) #create 2 qubits\n",
    "\n",
    "circuit.append(rz(pi/2).on(q1).controlled_by(q0))\n",
    "circuit.append(rz(pi/2).on(q1).controlled_by(q0))\n",
    "\n",
    "U = cirq.unitary(circuit) # read the matrix of circuit\n",
    "\n",
    "for row in U:\n",
    "    row_str = \"\"\n",
    "    for col in row:\n",
    "        real = round(col.real,1)\n",
    "        imag = round(col.imag,1)\n",
    "        if real == 0 and imag == 0:\n",
    "            c = \" 0 \"\n",
    "        elif real==1 and imag == 0:\n",
    "            c = \" 1 \"\n",
    "        elif real == 0 and imag == 1:\n",
    "            c = \" i \"\n",
    "        elif real == 0 and imag == -1:\n",
    "            c = \"-i \"\n",
    "        elif real == -1 and imag == 0:\n",
    "            c = \"-1 \"\n",
    "        else:\n",
    "            c = str(real)+\"+\"+str(imag)+\"i \"\n",
    "        row_str = row_str + c\n",
    "    print(row_str)"
   ]
  },
  {
   "cell_type": "markdown",
   "metadata": {},
   "source": [
    "We repeat the same code for $CS$."
   ]
  },
  {
   "cell_type": "code",
   "execution_count": null,
   "metadata": {},
   "outputs": [],
   "source": [
    "import cirq\n",
    "from cirq import S\n",
    "from math import pi\n",
    "\n",
    "circuit = cirq.Circuit()\n",
    "\n",
    "q0, q1 = cirq.LineQubit.range(2) #create 2 qubits\n",
    "\n",
    "circuit.append(S.on(q1).controlled_by(q0))\n",
    "circuit.append(S.on(q1).controlled_by(q0))\n",
    "\n",
    "U = cirq.unitary(circuit) # read the matrix of circuit\n",
    "\n",
    "for row in U:\n",
    "    row_str = \"\"\n",
    "    for col in row:\n",
    "        real = round(col.real,1)\n",
    "        imag = round(col.imag,1)\n",
    "        if real == 0 and imag == 0:\n",
    "            c = \" 0 \"\n",
    "        elif real==1 and imag == 0:\n",
    "            c = \" 1 \"\n",
    "        elif real == 0 and imag == 1:\n",
    "            c = \" i \"\n",
    "        elif real == 0 and imag == -1:\n",
    "            c = \"-i \"\n",
    "        elif real == -1 and imag == 0:\n",
    "            c = \"-1 \"\n",
    "        else:\n",
    "            c = str(real)+\"+\"+str(imag)+\"i \"\n",
    "        row_str = row_str + c\n",
    "    print(row_str)"
   ]
  },
  {
   "cell_type": "markdown",
   "metadata": {},
   "source": [
    "The matrices are different:\n",
    "$ CRZ(\\pi/2)^2 = \\mymatrix{rrrr}{\n",
    "    1 & 0 & 0 & 0 \\\\\n",
    "    0 & 1 & 0 & 0 \\\\\n",
    "    0 & 0 & -i & 0 \\\\\n",
    "    0 & 0 & 0 & i \\\\\n",
    "    } $ \n",
    "and\n",
    "$ CS^2 = \\mymatrix{rrrr}{\n",
    "    1 & 0 & 0 & 0 \\\\\n",
    "    0 & 1 & 0 & 0 \\\\\n",
    "    0 & 0 & 1 & 0 \\\\\n",
    "    0 & 0 & 0 & -1 \\\\\n",
    "    } $.\n",
    "    \n",
    "Moreover they do not differ by some global phase.\n",
    "    \n",
    "To observe the difference more clearly, we apply Hadamard operator to each qubit at the beginning. After control gates,  we check the inner product of the final states.    "
   ]
  },
  {
   "cell_type": "code",
   "execution_count": null,
   "metadata": {},
   "outputs": [],
   "source": [
    "import cirq\n",
    "from cirq import H, rz, S\n",
    "from math import pi\n",
    "import numpy as np\n",
    "\n",
    "sim = cirq.Simulator()\n",
    "\n",
    "### RZ(pi/2)\n",
    "circuit = cirq.Circuit()\n",
    "q0, q1 = cirq.LineQubit.range(2)\n",
    "circuit.append(H.on(q0))\n",
    "circuit.append(H.on(q1))\n",
    "circuit.append(rz(pi/2).on(q1).controlled_by(q0))\n",
    "circuit.append(rz(pi/2).on(q1).controlled_by(q0))\n",
    "\n",
    "results = sim.simulate(circuit)\n",
    "state1 = results.state_vector()\n",
    "\n",
    "print(\"circuit with RZ(π/2) is\")\n",
    "print(circuit)\n",
    "print()\n",
    "\n",
    "\n",
    "### S\n",
    "circuit = cirq.Circuit()\n",
    "q0, q1 = cirq.LineQubit.range(2)\n",
    "circuit.append(H.on(q0))\n",
    "circuit.append(H.on(q1))\n",
    "circuit.append(S.on(q1).controlled_by(q0))\n",
    "circuit.append(S.on(q1).controlled_by(q0))\n",
    "\n",
    "results = sim.simulate(circuit)\n",
    "state2 = results.state_vector()\n",
    "\n",
    "print(\"circuit with S is\")\n",
    "print(circuit)\n",
    "print()\n",
    "\n",
    "\n",
    "###\n",
    "\n",
    "print(\"state 1 is\", state1)\n",
    "print()\n",
    "print(\"state 2 is \", state2)\n",
    "print()\n",
    "print()\n",
    "prod = np.inner(state1, state2)\n",
    "print(\"their inner product is\", round(prod.real,2), round(prod.imag,2), \"i\")"
   ]
  },
  {
   "cell_type": "markdown",
   "metadata": {},
   "source": [
    "### Toffoli gate (`CCNOT` gate)\n",
    "\n",
    "Toffoli gate is NOT operator controlled by two qubits:\n",
    "\n",
    "    X.on(q2).controlled_by(q0, q1)\n",
    "    CCX.on(q0, q1, q2])              #(control, control, target)\n",
    "    CCNOT.on(q0, q1, q2)             #(control, control, target)\n",
    "    TOFFOLI.on(q0, q1, q2)           #(control, control, target)\n",
    "    \n",
    "If q0 and q1 are in $ \\ket{11} $, then `X` is applied to q2.\n",
    "\n",
    "Its transitons are as follows:\n",
    "\n",
    "- $ CCX \\ket{000} = \\ket{000}$\n",
    "- $ CCX \\ket{001} = \\ket{001}$\n",
    "- $ CCX \\ket{010} = \\ket{010}$\n",
    "- $ CCX \\ket{011} = \\ket{011}$\n",
    "- $ CCX \\ket{100} = \\ket{100}$\n",
    "- $ CCX \\ket{101} = \\ket{101}$\n",
    "- $ CCX \\ket{110} = \\ket{111}$\n",
    "- $ CCX \\ket{111} = \\ket{110}$\n",
    "\n",
    "Its matrix form is:\n",
    "\n",
    "$\n",
    "    CCX= \\mymatrix{cc|cc|cc|cc}{1 & 0 & 0 & 0 & 0 & 0 & 0 & 0 \\\\ 0 & 1 & 0 & 0 & 0 & 0 & 0 & 0 \\\\ \\hline 0 & 0 & 1 & 0 & 0 & 0 & 0 & 0 \\\\ 0 & 0 & 0 & 1 & 0 & 0 & 0 & 0 \\\\ \\hline 0 & 0 & 0 & 0 & 1 & 0 & 0 & 0 \\\\ 0 & 0 & 0 & 0 & 0 & 1 & 0 & 0 \\\\ \\hline 0 & 0 & 0 & 0 & 0 & 0 & 0 & 1 \\\\ 0 & 0 & 0 & 0 & 0 & 0 & 1 & 0} .\n",
    "$"
   ]
  },
  {
   "cell_type": "markdown",
   "metadata": {},
   "source": [
    "### Fredkin gate (controlled `SWAP` gate)\n",
    "\n",
    "This gate has one control qubit, and if it is in state $\\ket{1}$, then SWAP operator is applied to both target qubits.\n",
    "\n",
    "    SWAP.on(q1, q2).controlled_by(q0)\n",
    "    SWAP.controlled().on(q0, q1, q2)    #(control, target, target)\n",
    "    CSWAP.on(q0, q1, q2)                #(control, target, target)\n",
    "\n",
    "We denote it $ CSWAP $. Its transtions are as follows:\n",
    "\n",
    "- $ CSWAP \\ket{000} = \\ket{000}$\n",
    "- $ CSWAP \\ket{001} = \\ket{001}$\n",
    "- $ CSWAP \\ket{010} = \\ket{010}$\n",
    "- $ CSWAP \\ket{011} = \\ket{011}$\n",
    "- $ CSWAP \\ket{100} = \\ket{100}$\n",
    "- $ CSWAP \\ket{101} = \\ket{110}$\n",
    "- $ CSWAP \\ket{110} = \\ket{101}$\n",
    "- $ CSWAP \\ket{111} = \\ket{111}$\n",
    "\n",
    "Its matrix form is as follows:\n",
    "\n",
    "$\n",
    "    CSWAP = \\mymatrix{cccc|cccc}{1 & 0 & 0 & 0 & 0 & 0 & 0 & 0 \\\\ 0 & 1 & 0 & 0 & 0 & 0 & 0 & 0 \\\\ 0 & 0 & 1 & 0 & 0 & 0 & 0 & 0 \\\\ 0 & 0 & 0 & 1 & 0 & 0 & 0 & 0 \\\\ \\hline 0 & 0 & 0 & 0 & 1 & 0 & 0 & 0 \\\\ 0 & 0 & 0 & 0 & 0 & 0 & 1 & 0 \\\\ 0 & 0 & 0 & 0 & 0 & 1 & 0 & 0 \\\\ 0 & 0 & 0 & 0 & 0 & 0 & 0 & 1} .\n",
    "$"
   ]
  },
  {
   "cell_type": "markdown",
   "metadata": {},
   "source": [
    "### Task 7\n",
    "\n",
    "We define a gate as the multiplication of three `CSWAP` gates as follows:\n",
    "\n",
    "    SWAP.on(q0, q1).controlled_by(q2)\n",
    "    SWAP.on(q0, q2).controlled_by(q1)\n",
    "    SWAP.on(q1, q2).controlled_by(q0)\n",
    "\n",
    "For this gate, list down the transitons and then write down its matrix.\n",
    "\n",
    "Verify your matrix in Cirq, i.e., print the matrix of circuit implementing this gate."
   ]
  },
  {
   "cell_type": "code",
   "execution_count": null,
   "metadata": {},
   "outputs": [],
   "source": [
    "#\n",
    "# Your solution here\n",
    "#\n"
   ]
  },
  {
   "cell_type": "markdown",
   "metadata": {},
   "source": [
    "To check out our solution, run the next cell:"
   ]
  },
  {
   "cell_type": "code",
   "execution_count": null,
   "metadata": {},
   "outputs": [],
   "source": [
    "SolutionToTask7()  # show solution for task 7"
   ]
  }
 ],
 "metadata": {
  "kernelspec": {
   "display_name": "Python 3 (ipykernel)",
   "language": "python",
   "name": "python3"
  },
  "language_info": {
   "codemirror_mode": {
    "name": "ipython",
    "version": 3
   },
   "file_extension": ".py",
   "mimetype": "text/x-python",
   "name": "python",
   "nbconvert_exporter": "python",
   "pygments_lexer": "ipython3",
   "version": "3.11.4"
  }
 },
 "nbformat": 4,
 "nbformat_minor": 4
}
