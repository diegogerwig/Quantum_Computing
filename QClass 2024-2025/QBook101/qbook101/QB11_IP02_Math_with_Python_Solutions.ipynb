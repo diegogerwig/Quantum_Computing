{
 "cells": [
  {
   "cell_type": "markdown",
   "metadata": {},
   "source": [
    "<a href=\"https://qworld.net\" target=\"_blank\" align=\"left\"><img src=\"https://gitlab.com/qworld/qeducation/qbook101/raw/main/qworld/images/header.jpg\" align=\"left\"></a>\n",
    "$ \\newcommand{\\bra}[1]{\\langle #1|} $\n",
    "$ \\newcommand{\\ket}[1]{|#1\\rangle} $\n",
    "$ \\newcommand{\\braket}[2]{\\langle #1|#2\\rangle} $\n",
    "$ \\newcommand{\\dot}[2]{ #1 \\cdot #2} $\n",
    "$ \\newcommand{\\biginner}[2]{\\left\\langle #1,#2\\right\\rangle} $\n",
    "$ \\newcommand{\\mymatrix}[2]{\\left( \\begin{array}{#1} #2\\end{array} \\right)} $\n",
    "$ \\newcommand{\\myvector}[1]{\\mymatrix{c}{#1}} $\n",
    "$ \\newcommand{\\myrvector}[1]{\\mymatrix{r}{#1}} $\n",
    "$ \\newcommand{\\mypar}[1]{\\left( #1 \\right)} $\n",
    "$ \\newcommand{\\mybigpar}[1]{ \\Big( #1 \\Big)} $\n",
    "$ \\newcommand{\\sqrttwo}{\\frac{1}{\\sqrt{2}}} $\n",
    "$ \\newcommand{\\dsqrttwo}{\\dfrac{1}{\\sqrt{2}}} $\n",
    "$ \\newcommand{\\onehalf}{\\frac{1}{2}} $\n",
    "$ \\newcommand{\\donehalf}{\\dfrac{1}{2}} $\n",
    "$ \\newcommand{\\hadamard}{ \\mymatrix{rr}{ \\sqrttwo & \\sqrttwo \\\\ \\sqrttwo & -\\sqrttwo }} $\n",
    "$ \\newcommand{\\vzero}{\\myvector{1\\\\0}} $\n",
    "$ \\newcommand{\\vone}{\\myvector{0\\\\1}} $\n",
    "$ \\newcommand{\\stateplus}{\\myvector{ \\sqrttwo \\\\  \\sqrttwo } } $\n",
    "$ \\newcommand{\\stateminus}{ \\myrvector{ \\sqrttwo \\\\ -\\sqrttwo } } $\n",
    "$ \\newcommand{\\myarray}[2]{ \\begin{array}{#1}#2\\end{array}} $\n",
    "$ \\newcommand{\\X}{ \\mymatrix{cc}{0 & 1 \\\\ 1 & 0}  } $\n",
    "$ \\newcommand{\\Z}{ \\mymatrix{rr}{1 & 0 \\\\ 0 & -1}  } $\n",
    "$ \\newcommand{\\Htwo}{ \\mymatrix{rrrr}{ \\frac{1}{2} & \\frac{1}{2} & \\frac{1}{2} & \\frac{1}{2} \\\\ \\frac{1}{2} & -\\frac{1}{2} & \\frac{1}{2} & -\\frac{1}{2} \\\\ \\frac{1}{2} & \\frac{1}{2} & -\\frac{1}{2} & -\\frac{1}{2} \\\\ \\frac{1}{2} & -\\frac{1}{2} & -\\frac{1}{2} & \\frac{1}{2} } } $\n",
    "$ \\newcommand{\\CNOT}{ \\mymatrix{cccc}{1 & 0 & 0 & 0 \\\\ 0 & 1 & 0 & 0 \\\\ 0 & 0 & 0 & 1 \\\\ 0 & 0 & 1 & 0} } $\n",
    "$ \\newcommand{\\norm}[1]{ \\left\\lVert #1 \\right\\rVert } $\n",
    "$ \\newcommand{\\pstate}[1]{ \\lceil \\mspace{-1mu} #1 \\mspace{-1.5mu} \\rfloor } $"
   ]
  },
  {
   "cell_type": "markdown",
   "metadata": {},
   "source": [
    "_prepared by Claudia Zendejas-Morales_"
   ]
  },
  {
   "cell_type": "markdown",
   "metadata": {},
   "source": [
    "<font size=\"28px\" style=\"font-size:28px;\" align=\"left\"><b> <font color=\"blue\"> Solutions for </font>Math with Python </b></font>\n",
    "<br>\n",
    "<br><br>"
   ]
  },
  {
   "cell_type": "markdown",
   "metadata": {},
   "source": [
    "<a name=\"task1\"></a>\n",
    "<h3> Task 1</h3>\n",
    "\n",
    "Define the variables `opposite = 8` and `A = 25` (degrees) and find:\n",
    "\n",
    "- the `hypotenuse` side\n",
    "- the `adjacent`side\n",
    "- the angle `B`"
   ]
  },
  {
   "cell_type": "markdown",
   "metadata": {},
   "source": [
    "<h3>Solution</h3>"
   ]
  },
  {
   "cell_type": "code",
   "execution_count": 1,
   "metadata": {},
   "outputs": [
    {
     "name": "stdout",
     "output_type": "stream",
     "text": [
      "The hypotenuse side is 18.929612665219988\n",
      "The adjacent side is 17.15605536407647\n",
      "The angle B is 65\n"
     ]
    }
   ],
   "source": [
    "from math import sin, cos, pi\n",
    "\n",
    "opposite = 8\n",
    "A = 25\n",
    "\n",
    "A_radians = A * pi / 180\n",
    "\n",
    "hypotenuse = opposite / sin(A_radians)\n",
    "\n",
    "adjacent = hypotenuse * cos(A_radians)\n",
    "\n",
    "B = 180 - 90 - A    # use the fact that all inside angles of a triangle sum up 180°\n",
    "\n",
    "\n",
    "print(\"The hypotenuse side is\", hypotenuse)\n",
    "print(\"The adjacent side is\", adjacent)\n",
    "print(\"The angle B is\", B)"
   ]
  },
  {
   "cell_type": "markdown",
   "metadata": {},
   "source": [
    "<a name=\"task2\"></a>\n",
    "<h3> Task 2</h3>\n",
    "\n",
    "Using a loop, find the result of $i^2,i^3,\\cdot,i^{10}$, what can you say about the observed behaviour?"
   ]
  },
  {
   "cell_type": "markdown",
   "metadata": {},
   "source": [
    "<h3>Solution</h3>"
   ]
  },
  {
   "cell_type": "code",
   "execution_count": 2,
   "metadata": {},
   "outputs": [
    {
     "name": "stdout",
     "output_type": "stream",
     "text": [
      "i to the power of 2 is (-1+0j)\n",
      "i to the power of 3 is (-0-1j)\n",
      "i to the power of 4 is (1+0j)\n",
      "i to the power of 5 is 1j\n",
      "i to the power of 6 is (-1+0j)\n",
      "i to the power of 7 is (-0-1j)\n",
      "i to the power of 8 is (1+0j)\n",
      "i to the power of 9 is 1j\n",
      "i to the power of 10 is (-1+0j)\n"
     ]
    }
   ],
   "source": [
    "z = complex(0, 1)\n",
    "\n",
    "for exponent in range(2, 11):\n",
    "    new_z = z**exponent\n",
    "    print(\"i to the power of\", exponent, \"is\", new_z)"
   ]
  },
  {
   "cell_type": "markdown",
   "metadata": {},
   "source": [
    "We can observe a cyclic behavior as the value of the exponent increases, as follows:\n",
    "\n",
    "- $i^1=i$\n",
    "- $i^2=-1$\n",
    "- $i^3=-i$\n",
    "- $i^4=1$\n",
    "- $i^5=i$\n",
    "- $i^6=-1$\n",
    "- $i^7=-i$\n",
    "- $i^8=1$\n",
    "- $i^9=i$\n",
    "- $i^{10}=-1$\n"
   ]
  },
  {
   "cell_type": "markdown",
   "metadata": {},
   "source": [
    "<a name=\"task3\"></a>\n",
    "<h3> Task 3</h3>\n",
    "\n",
    "Consider the vector $b$ and the matrices $B$ and $C$ defined as follows:\n",
    "\n",
    "$$\\vec{b}=\\mymatrix{r}{-3i \\\\ 4+i \\\\ -3-5i \\\\ 8-7i} ~~~~~,~~~~~ \\mathbf{B} = \\mymatrix{rrr}{1 & 2 & -3 \\\\ -6 & 5 & 4 \\\\ 9 & 10 & 11 \\\\ 7 & -8 & 3} ~~~~~,~~~~~ \\mathbf{C} = \\mymatrix{rrrr}{3.3 & 2.5 & 8.1 & -1.3 \\\\ 9.2 & -7.5 & 10.6 & 2.8 \\\\ 4.9 & 6.7 & -12.1 & 0.3} $$\n",
    "\n",
    "Find:\n",
    "- $\\mathbf{C}\\cdot \\vec{b}$\n",
    "- $\\mathbf{B}\\cdot \\mathbf{C}$\n",
    "- $\\mathbf{B}\\cdot \\vec{b}$\n",
    "\n",
    "What happens to the dimensions of the result for each case?\n",
    "\n",
    "What happens with the last case?"
   ]
  },
  {
   "cell_type": "markdown",
   "metadata": {},
   "source": [
    "<h3>Solution</h3>"
   ]
  },
  {
   "cell_type": "code",
   "execution_count": 3,
   "metadata": {},
   "outputs": [],
   "source": [
    "# definition of the entities\n",
    "\n",
    "b = [complex(0, -3), complex(4, 1), complex(-3, -5), complex(8, -7)]\n",
    "\n",
    "B = [ \n",
    "     [ 1 ,  2 , -3], \n",
    "     [-6 ,  5 ,  4], \n",
    "     [ 9 , 10 , 11],\n",
    "     [ 7 , -8 ,  3],\n",
    "    ] \n",
    "\n",
    "C = [ \n",
    "     [3.3 ,  2.5 ,   8.1 , -1.3], \n",
    "     [9.2 , -7.5 ,  10.6 ,  2.8], \n",
    "     [4.9 ,  6.7 , -12.1 ,  0.3],\n",
    "    ] "
   ]
  },
  {
   "cell_type": "code",
   "execution_count": 4,
   "metadata": {},
   "outputs": [
    {
     "name": "stdout",
     "output_type": "stream",
     "text": [
      "(-24.699999999999996-38.8j)\n",
      "(-39.4-107.69999999999999j)\n",
      "(65.5+50.4j)\n"
     ]
    }
   ],
   "source": [
    "# C * b\n",
    "\n",
    "result_C_b = []\n",
    "\n",
    "rows_C = len(C)\n",
    "cols_C = len(C[0])\n",
    "rows_b = len(b)\n",
    "for i in range(rows_C):\n",
    "    result_C_b.append(0)   # start with value '0' to be able to perform the sum\n",
    "    for j in range(rows_b):\n",
    "        result_C_b[i] += C[i][j] * b[j]\n",
    "\n",
    "for i in range(len(result_C_b)):\n",
    "    print(result_C_b[i])"
   ]
  },
  {
   "cell_type": "code",
   "execution_count": 5,
   "metadata": {},
   "outputs": [
    {
     "name": "stdout",
     "output_type": "stream",
     "text": [
      "[6.999999999999998, -32.6, 65.6, 3.4]\n",
      "[45.800000000000004, -25.7, -43.99999999999999, 23.0]\n",
      "[175.60000000000002, 21.200000000000003, 45.79999999999998, 19.599999999999998]\n",
      "[-35.8, 97.6, -64.4, -30.6]\n"
     ]
    }
   ],
   "source": [
    "# B * C\n",
    "\n",
    "result_B_C = []\n",
    "\n",
    "rows_B = len(B)\n",
    "cols_B = len(B[0])\n",
    "rows_C = len(C)\n",
    "cols_C = len(C[0])\n",
    "for i in range(rows_B):\n",
    "    result_B_C.append([0] * len(B))   # create a list with zeros of size 'len(B)'\n",
    "    for j in range(cols_C):\n",
    "        for k in range(cols_B):\n",
    "            result_B_C[i][j] += B[i][k] * C[k][j]\n",
    "                \n",
    "for i in range(len(result_B_C)):\n",
    "    print(result_B_C[i])"
   ]
  },
  {
   "cell_type": "code",
   "execution_count": 6,
   "metadata": {},
   "outputs": [],
   "source": [
    "# B * b\n",
    "\n",
    "# it is not possible to perform this operation"
   ]
  },
  {
   "cell_type": "markdown",
   "metadata": {},
   "source": [
    "It is not possible to carry out the $\\mathbf{B}\\cdot \\vec{b}$ operation since the dimension of these matrices does not allow it, it is proposed to perform the multiplication of $(4\\times 3)\\cdot(4\\times 1)$ matrices, which does not lead to any possible resulting dimension, more details in _Appendix B_.\n",
    "\n",
    "Unlike the $\\mathbf{C}\\cdot \\vec{b}$ operation that indicates the multiplication of $(3\\times 4)\\cdot(4\\times 1)$ matrices, which leads us to the result having dimension $(3\\times 1)$.\n",
    "\n",
    "In the case of the $\\mathbf{B}\\cdot \\mathbf{C}$ operation, we have that the multiplication is done with the dimensions $(4\\times 3)\\cdot(3\\times 4)$, which results in a matrix of dimension $(4\\times 4)$."
   ]
  },
  {
   "cell_type": "markdown",
   "metadata": {},
   "source": [
    "<a name=\"task4\"></a>\n",
    "<h3> Task 4</h3>\n",
    "\n",
    "Perform the same cases of _Task 3_, but using the `numpy` package.\n",
    "\n",
    "If you don't have it installed, do so by running the following command in a new cell:\n",
    "\n",
    "    !pip install numpy\n",
    "\n",
    "You can consult the `numpy` documentation [here](https://numpy.org/doc/)."
   ]
  },
  {
   "cell_type": "markdown",
   "metadata": {},
   "source": [
    "<h3>Solution</h3>"
   ]
  },
  {
   "cell_type": "code",
   "execution_count": 7,
   "metadata": {},
   "outputs": [],
   "source": [
    "import numpy as np\n",
    "\n",
    "b = np.array([complex(0, -3), complex(4, 1), complex(-3, -5), complex(8, -7)])\n",
    "\n",
    "B = np.array([ \n",
    "     [ 1 ,  2 , -3], \n",
    "     [-6 ,  5 ,  4], \n",
    "     [ 9 , 10 , 11],\n",
    "     [ 7 , -8 ,  3],\n",
    "    ])\n",
    "\n",
    "C = np.array([ \n",
    "     [3.3 ,  2.5 ,   8.1 , -1.3], \n",
    "     [9.2 , -7.5 ,  10.6 ,  2.8], \n",
    "     [4.9 ,  6.7 , -12.1 ,  0.3],\n",
    "    ])"
   ]
  },
  {
   "cell_type": "code",
   "execution_count": 8,
   "metadata": {},
   "outputs": [
    {
     "name": "stdout",
     "output_type": "stream",
     "text": [
      "[-24.7 -38.8j -39.4-107.7j  65.5 +50.4j]\n"
     ]
    }
   ],
   "source": [
    "# C * b\n",
    "\n",
    "res_C_b = C.dot(b)\n",
    "\n",
    "print(res_C_b)  # enough to print the result, remember that this is a column vector"
   ]
  },
  {
   "cell_type": "code",
   "execution_count": 9,
   "metadata": {},
   "outputs": [
    {
     "name": "stdout",
     "output_type": "stream",
     "text": [
      "[[  7.  -32.6  65.6   3.4]\n",
      " [ 45.8 -25.7 -44.   23. ]\n",
      " [175.6  21.2  45.8  19.6]\n",
      " [-35.8  97.6 -64.4 -30.6]]\n"
     ]
    }
   ],
   "source": [
    "# B * C\n",
    "\n",
    "res_B_C = B.dot(C)\n",
    "\n",
    "print(res_B_C)  # print the result"
   ]
  },
  {
   "cell_type": "code",
   "execution_count": 10,
   "metadata": {},
   "outputs": [],
   "source": [
    "# B * b\n",
    "\n",
    "# it is not possible to perform this operation\n",
    "\n",
    "# next line will give an error regarding the dimensions (or shape)\n",
    "# (uncomment to try it)\n",
    "# res_B_b = B.dot(b)"
   ]
  },
  {
   "cell_type": "markdown",
   "metadata": {},
   "source": [
    "<a name=\"task5\"></a>\n",
    "<h3> Task 5</h3>\n",
    "\n",
    "Given the vectors $\\vec{u}$ and $\\vec{v}$:\n",
    "\n",
    "$$\\vec{u}=\\mymatrix{r}{3 \\\\ 4 \\\\ 0} ~~~~~~,~~~~~~ \\vec{v}=\\mymatrix{r}{-4 \\\\ 3 \\\\ 2}$$\n",
    "\n",
    "\n",
    "- Write all the code yourself to:\n",
    "  -  normalize the vector $\\vec{u}$\n",
    "  -  normalize the vector $\\vec{v}$\n",
    "  -  determine if they are orthogonal to each other\n",
    "- Using the `numpy` package:\n",
    "  -  normalize the vector $\\vec{u}$\n",
    "  -  normalize the vector $\\vec{v}$\n",
    "  -  determine if they are orthogonal to each other"
   ]
  },
  {
   "cell_type": "markdown",
   "metadata": {},
   "source": [
    "<h3>Solution</h3>"
   ]
  },
  {
   "cell_type": "code",
   "execution_count": 11,
   "metadata": {},
   "outputs": [
    {
     "name": "stdout",
     "output_type": "stream",
     "text": [
      "vector u normalized: [0.6, 0.8, 0.0]\n",
      "vector v normalized: [-0.7427813527082074, 0.5570860145311556, 0.3713906763541037]\n",
      "dot product = 0\n",
      "vectors u and v are orthogonal\n"
     ]
    }
   ],
   "source": [
    "from math import sqrt\n",
    "\n",
    "#define the vectors\n",
    "u = [ 3, 4, 0]\n",
    "v = [-4, 3, 2]\n",
    "\n",
    "# calculate u normalized\n",
    "u_dot_product = 0\n",
    "for i in range(len(u)):\n",
    "    u_dot_product += u[i]*u[i]\n",
    "    \n",
    "u_norm =sqrt(u_dot_product)\n",
    "\n",
    "u_normalized = []\n",
    "for i in range(len(u)):\n",
    "    u_normalized.append(u[i] / u_norm)\n",
    "\n",
    "print(\"vector u normalized:\", u_normalized)\n",
    "\n",
    "\n",
    "\n",
    "# calculate v normalized\n",
    "v_dot_product = 0\n",
    "for i in range(len(v)):\n",
    "    v_dot_product += v[i]*v[i]\n",
    "    \n",
    "v_norm =sqrt(v_dot_product)\n",
    "\n",
    "v_normalized = []\n",
    "for i in range(len(v)):\n",
    "    v_normalized.append(v[i] / v_norm)\n",
    "\n",
    "print(\"vector v normalized:\", v_normalized)\n",
    "\n",
    "\n",
    "\n",
    "# dot product u.v\n",
    "dot_product = 0\n",
    "for i in range(len(u)):\n",
    "    dot_product += u[i] * v[i]\n",
    "\n",
    "print(\"dot product =\", dot_product)\n",
    "if dot_product == 0:\n",
    "    print(\"vectors u and v are orthogonal\")\n",
    "else:\n",
    "    print(\"vectors u and v are NOT orthogonal\")"
   ]
  },
  {
   "cell_type": "code",
   "execution_count": 12,
   "metadata": {},
   "outputs": [
    {
     "name": "stdout",
     "output_type": "stream",
     "text": [
      "vector u normalized: [0.6 0.8 0. ]\n",
      "vector v normalized: [-0.74278135  0.55708601  0.37139068]\n",
      "dot product = 0\n",
      "vectors u and v are orthogonal\n"
     ]
    }
   ],
   "source": [
    "import numpy as np\n",
    "\n",
    "#define the vectors\n",
    "u = np.array([ 3, 4, 0])\n",
    "v = np.array([-4, 3, 2])\n",
    "\n",
    "\n",
    "u_normalized = u / np.linalg.norm(u)\n",
    "print(\"vector u normalized:\", u_normalized)\n",
    "\n",
    "v_normalized = v / np.linalg.norm(v)\n",
    "print(\"vector v normalized:\", v_normalized)\n",
    "\n",
    "\n",
    "dot_product = u.dot(v)\n",
    "print(\"dot product =\", dot_product)\n",
    "if dot_product == 0:\n",
    "    print(\"vectors u and v are orthogonal\")\n",
    "else:\n",
    "    print(\"vectors u and v are NOT orthogonal\")"
   ]
  }
 ],
 "metadata": {
  "kernelspec": {
   "display_name": "Python 3 (ipykernel)",
   "language": "python",
   "name": "python3"
  },
  "language_info": {
   "codemirror_mode": {
    "name": "ipython",
    "version": 3
   },
   "file_extension": ".py",
   "mimetype": "text/x-python",
   "name": "python",
   "nbconvert_exporter": "python",
   "pygments_lexer": "ipython3",
   "version": "3.10.11"
  }
 },
 "nbformat": 4,
 "nbformat_minor": 4
}
