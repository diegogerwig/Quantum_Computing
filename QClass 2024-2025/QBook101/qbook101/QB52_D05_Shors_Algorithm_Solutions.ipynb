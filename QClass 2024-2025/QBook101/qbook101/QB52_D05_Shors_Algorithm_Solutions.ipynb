{
 "cells": [
  {
   "cell_type": "markdown",
   "metadata": {},
   "source": [
    "<a href=\"https://qworld.net\" target=\"_blank\" align=\"left\"><img src=\"https://gitlab.com/qworld/qeducation/qbook101/raw/main/qworld/images/header.jpg\" align=\"left\"></a>\n",
    "$ \\newcommand{\\bra}[1]{\\langle #1|} $\n",
    "$ \\newcommand{\\ket}[1]{|#1\\rangle} $\n",
    "$ \\newcommand{\\braket}[2]{\\langle #1|#2\\rangle} $\n",
    "$ \\newcommand{\\dot}[2]{ #1 \\cdot #2} $\n",
    "$ \\newcommand{\\biginner}[2]{\\left\\langle #1,#2\\right\\rangle} $\n",
    "$ \\newcommand{\\mymatrix}[2]{\\left( \\begin{array}{#1} #2\\end{array} \\right)} $\n",
    "$ \\newcommand{\\myvector}[1]{\\mymatrix{c}{#1}} $\n",
    "$ \\newcommand{\\myrvector}[1]{\\mymatrix{r}{#1}} $\n",
    "$ \\newcommand{\\mypar}[1]{\\left( #1 \\right)} $\n",
    "$ \\newcommand{\\mybigpar}[1]{ \\Big( #1 \\Big)} $\n",
    "$ \\newcommand{\\sqrttwo}{\\frac{1}{\\sqrt{2}}} $\n",
    "$ \\newcommand{\\dsqrttwo}{\\dfrac{1}{\\sqrt{2}}} $\n",
    "$ \\newcommand{\\onehalf}{\\frac{1}{2}} $\n",
    "$ \\newcommand{\\donehalf}{\\dfrac{1}{2}} $\n",
    "$ \\newcommand{\\hadamard}{ \\mymatrix{rr}{ \\sqrttwo & \\sqrttwo \\\\ \\sqrttwo & -\\sqrttwo }} $\n",
    "$ \\newcommand{\\vzero}{\\myvector{1\\\\0}} $\n",
    "$ \\newcommand{\\vone}{\\myvector{0\\\\1}} $\n",
    "$ \\newcommand{\\stateplus}{\\myvector{ \\sqrttwo \\\\  \\sqrttwo } } $\n",
    "$ \\newcommand{\\stateminus}{ \\myrvector{ \\sqrttwo \\\\ -\\sqrttwo } } $\n",
    "$ \\newcommand{\\myarray}[2]{ \\begin{array}{#1}#2\\end{array}} $\n",
    "$ \\newcommand{\\X}{ \\mymatrix{cc}{0 & 1 \\\\ 1 & 0}  } $\n",
    "$ \\newcommand{\\Z}{ \\mymatrix{rr}{1 & 0 \\\\ 0 & -1}  } $\n",
    "$ \\newcommand{\\Htwo}{ \\mymatrix{rrrr}{ \\frac{1}{2} & \\frac{1}{2} & \\frac{1}{2} & \\frac{1}{2} \\\\ \\frac{1}{2} & -\\frac{1}{2} & \\frac{1}{2} & -\\frac{1}{2} \\\\ \\frac{1}{2} & \\frac{1}{2} & -\\frac{1}{2} & -\\frac{1}{2} \\\\ \\frac{1}{2} & -\\frac{1}{2} & -\\frac{1}{2} & \\frac{1}{2} } } $\n",
    "$ \\newcommand{\\CNOT}{ \\mymatrix{cccc}{1 & 0 & 0 & 0 \\\\ 0 & 1 & 0 & 0 \\\\ 0 & 0 & 0 & 1 \\\\ 0 & 0 & 1 & 0} } $\n",
    "$ \\newcommand{\\norm}[1]{ \\left\\lVert #1 \\right\\rVert } $\n",
    "$ \\newcommand{\\pstate}[1]{ \\lceil \\mspace{-1mu} #1 \\mspace{-1.5mu} \\rfloor } $\n",
    "$ \\newcommand{\\Y}{ \\mymatrix{rr}{0 & -i \\\\ i & 0} } $\n",
    "$ \\newcommand{\\S}{ \\mymatrix{rr}{1 & 0 \\\\ 0 & i} } $\n",
    "$ \\newcommand{\\T}{ \\mymatrix{rr}{1 & 0 \\\\ 0 & e^{i \\frac{\\pi}{4}}} } $\n",
    "$ \\newcommand{\\Sdg}{ \\mymatrix{rr}{1 & 0 \\\\ 0 & -i} } $ \n",
    "$ \\newcommand{\\Tdg}{ \\mymatrix{rr}{1 & 0 \\\\ 0 & e^{-i \\frac{\\pi}{4}}} } $\n",
    "$ \\newcommand{\\qgate}[1]{ \\mathop{\\textit{#1} } }$\n",
    "$\\newcommand{\\Mod}[1]{\\ (\\mathrm{mod}\\ #1)}$"
   ]
  },
  {
   "cell_type": "markdown",
   "metadata": {},
   "source": [
    "_prepared by Özlem Salehi and Abuzer Yakaryilmaz_\n",
    "<br><br>\n",
    "_Cirq adaptation by Claudia Zendejas-Morales_"
   ]
  },
  {
   "cell_type": "markdown",
   "metadata": {},
   "source": [
    "<font size=\"28px\" style=\"font-size:28px;\" align=\"left\"><b><font color=\"blue\"> Solutions for </font>Shor's Algorithm</b></font>\n",
    "<br>\n",
    "<br><br>"
   ]
  },
  {
   "cell_type": "markdown",
   "metadata": {
    "jp-MarkdownHeadingCollapsed": true
   },
   "source": [
    "##### <font color=\"#08b806\">Please execute the following cell, it is necessary to distinguish between your local environment and Google Colab's"
   ]
  },
  {
   "cell_type": "code",
   "execution_count": null,
   "metadata": {},
   "outputs": [],
   "source": [
    "import IPython\n",
    "\n",
    "def in_colab():\n",
    "    try:\n",
    "        import google.colab\n",
    "        return True\n",
    "    except:\n",
    "        return False\n",
    "\n",
    "path_files = \"./\" if in_colab() else \"../qworld/include/\"\n",
    "\n",
    "if in_colab():\n",
    "    url = \"https://gitlab.com/qworld/qeducation/qbook101/raw/main/qworld/include/shor.py\"\n",
    "    !wget --no-cache -O shor.py {url}\n",
    "    \n",
    "    !pip install cirq"
   ]
  },
  {
   "cell_type": "markdown",
   "metadata": {},
   "source": [
    "<a name=\"task1\"></a>\n",
    "### Task 1\n",
    "\n",
    "Let $N=111$. What percentage of the elements that are less than $N$ are relatively prime with $N$? Write a Python code to find out. (You can use gcd function of numpy.)"
   ]
  },
  {
   "cell_type": "markdown",
   "metadata": {},
   "source": [
    "<h3>Solution</h3>"
   ]
  },
  {
   "cell_type": "code",
   "execution_count": null,
   "metadata": {},
   "outputs": [],
   "source": [
    "import numpy as np  \n",
    "\n",
    "#Create an empty list\n",
    "rlist=[]\n",
    "N=111\n",
    "\n",
    "#If relatively prime with N, append to the list\n",
    "for i in range(1,N):\n",
    "    if np.gcd(N,i)==1:\n",
    "        rlist.append(i)\n",
    "        \n",
    "print(rlist)\n",
    "        \n",
    "print(len(rlist)*100/N, \"percentage of the integers are relatively prime with\", N)"
   ]
  },
  {
   "cell_type": "markdown",
   "metadata": {},
   "source": [
    "<a name=\"task2\"></a>\n",
    "### Task 2\n",
    "\n",
    "Calculate the order of each element $ x $ that is relatively prime with $N $. \n",
    "\n",
    "What percentage of the $ x $’s have even order and satisfy $x^{r/2} \\neq -1 \\Mod{N}$?\n",
    "\n",
    "Put the elements that satisfy the conditions in a dictionary together with their order."
   ]
  },
  {
   "cell_type": "markdown",
   "metadata": {},
   "source": [
    "<h3>Solution</h3>"
   ]
  },
  {
   "cell_type": "code",
   "execution_count": null,
   "metadata": {},
   "outputs": [],
   "source": [
    "import numpy as np\n",
    "counter=0\n",
    "#This will hold the list of integers that satisfy the conditions together with the order\n",
    "satisfy={}\n",
    "\n",
    "#rlist contains the relatively prime numbers with N        \n",
    "for i in range(len(rlist)):\n",
    "    r=1;\n",
    "    while(1):\n",
    "        if (rlist[i]**r)%N==1:\n",
    "            if(r%2==0 and ((rlist[i]**int(r/2))%N != N-1)):\n",
    "                counter=counter+1\n",
    "                print(\"Order of\",rlist[i],\":\",r)\n",
    "                satisfy[rlist[i]]=r\n",
    "            break\n",
    "        r=r+1\n",
    "    \n",
    "print(counter*100/N, \"percentage of the integers satisfy the conditions\")        "
   ]
  },
  {
   "cell_type": "markdown",
   "metadata": {},
   "source": [
    "<a name=\"task3\"></a>\n",
    "### Task 3\n",
    "\n",
    "Pick randomly one of the $x$ you found in Task 2 and calculate gcd$(x^{r/2}-1,N)$ and gcd$(x^{r/2}+1,N)$."
   ]
  },
  {
   "cell_type": "markdown",
   "metadata": {},
   "source": [
    "<h3>Solution</h3>"
   ]
  },
  {
   "cell_type": "code",
   "execution_count": null,
   "metadata": {},
   "outputs": [],
   "source": [
    "import random\n",
    "\n",
    "#Pick a random integer\n",
    "rand_index=random.randint(0,len(satisfy))\n",
    "\n",
    "#Pick a random x and its order from the dictionary we have created above\n",
    "x,r=random.choice(list(satisfy.items()))\n",
    "print(x, \"is picked with order\", r)\n",
    "\n",
    "#Calculate gcd\n",
    "print(\"Factors of\",N,\":\",np.gcd((x**int(r/2)-1),N), \"and\",np.gcd((x**int(r/2)+1),N))"
   ]
  },
  {
   "cell_type": "markdown",
   "metadata": {},
   "source": [
    "<a name=\"task4\"></a>\n",
    "### Task 4\n",
    "\n",
    "Factor 21 by using Shor's Algorithm.\n",
    "\n",
    "- Pick a random $x$ which is relatively prime with 21.\n",
    "- Apply phase estimation circuit to the operator $U_x$.\n",
    "- Use continued fractions algorithm to find out $r$.\n",
    "- Compute $gcd(x^{r/2} -1, N)$ and $gcd(x^{r/2}+1, N)$"
   ]
  },
  {
   "cell_type": "markdown",
   "metadata": {},
   "source": [
    "<h3>Solution</h3>"
   ]
  },
  {
   "cell_type": "code",
   "execution_count": null,
   "metadata": {},
   "outputs": [],
   "source": [
    "N=21"
   ]
  },
  {
   "cell_type": "code",
   "execution_count": null,
   "metadata": {},
   "outputs": [],
   "source": [
    "#Pick a random x relatively prime with N\n",
    "\n",
    "import random as rand\n",
    "import numpy as np\n",
    "\n",
    "counter = 0\n",
    "\n",
    "while(True):\n",
    "    x = rand.randrange(2,N)\n",
    "    counter = counter + 1\n",
    "    if np.gcd(x,N)==1:\n",
    "        break\n",
    "        \n",
    "print(x, \" is picked after \", counter, \" trials\")    "
   ]
  },
  {
   "cell_type": "code",
   "execution_count": null,
   "metadata": {},
   "outputs": [],
   "source": [
    "from math import ceil, log2, pi\n",
    "# initialize the rest of paramenters\n",
    "\n",
    "# L = ⌈log2(N)⌉\n",
    "L = ceil(log2(N))\n",
    "\n",
    "# let's pick error e=0.1\n",
    "e = 0.1\n",
    "# t = 2L + 1 + ⌈log2(2+1/(2e))⌉\n",
    "t = 2*L + 1 + ceil(log2(2+1/(2*e)))\n",
    "\n",
    "print(\"N =\",N)\n",
    "print(\"x =\",x)\n",
    "print(\"L =\",L)\n",
    "print(\"error =\",e)\n",
    "print(\"t =\",t)"
   ]
  },
  {
   "cell_type": "code",
   "execution_count": null,
   "metadata": {},
   "outputs": [],
   "source": [
    "import cirq\n",
    "from cirq import H, SWAP\n",
    "from cirq.circuits import InsertStrategy\n",
    "from math import pi\n",
    "import numpy as np\n",
    "\n",
    "\n",
    "def opUx(N, x):\n",
    "    \n",
    "    k = 1\n",
    "    while(N > 2**k):\n",
    "        k = k + 1\n",
    "    u = np.zeros([2**k, 2**k], dtype = int) \n",
    "    for i in range(N):\n",
    "        u[x*i % N][i] = 1\n",
    "    for i in range(N, 2**k):\n",
    "        u[i][i] = 1\n",
    "    return cirq.MatrixGate(u, name='Ux').controlled()\n",
    "\n",
    "\n",
    "def myInvQFT(qubits):\n",
    "\n",
    "    circuit = cirq.Circuit() # create a circuit\n",
    "    n = len(qubits)\n",
    "    # swap the qubits\n",
    "    for j in range(n//2): # integer division\n",
    "        circuit.append(SWAP.on(qubits[j],qubits[n-j-1]), strategy = InsertStrategy.NEW)\n",
    "    # inverted phase gates are applied in reverse order and before the hadamard gate\n",
    "    for i in range(n-1,-1,-1):\n",
    "        phase_divisor = 2**(n-i)\n",
    "        for j in range(n-1,i,-1):\n",
    "            circuit.append(cirq.CZPowGate(exponent = -2/phase_divisor).on(qubits[j],qubits[i]),\n",
    "                           strategy = InsertStrategy.NEW)\n",
    "            phase_divisor = phase_divisor / 2\n",
    "        circuit.append(H(qubits[i]), strategy = InsertStrategy.NEW) # strategy is for the circuit to look neat\n",
    "    \n",
    "    return circuit"
   ]
  },
  {
   "cell_type": "code",
   "execution_count": null,
   "metadata": {},
   "outputs": [],
   "source": [
    "# Quantum Phase Estimation Algorithm\n",
    "\n",
    "import cirq\n",
    "from cirq import X, measure\n",
    "\n",
    "\n",
    "circuit = cirq.Circuit()\n",
    "\n",
    "reg1 = [cirq.LineQubit(i) for i in range(t) ]\n",
    "reg2 = [cirq.LineQubit(i) for i in range(t, t+L) ]\n",
    "\n",
    "# Apply Hadamard gates to the qubits on the first register\n",
    "circuit.append(cirq.H.on_each(reg1))\n",
    "\n",
    "# set the last qubit in second register to |1>\n",
    "circuit.append(X.on_each(reg2[-1]))\n",
    "\n",
    "Ux = opUx(N, x)\n",
    "# apply CU^(2^j) operators\n",
    "for j in range(t):\n",
    "    Uxj = Ux**(2**j)\n",
    "    circuit.append(Uxj(reg1[t-j-1], *reg2))\n",
    "\n",
    "# the algorithm has been described for the qubit order q0⊗...⊗qt-1\n",
    "circuit += myInvQFT(reg1)\n",
    "\n",
    "# Measure\n",
    "circuit.append(measure(*reg1, key='result'))\n",
    "\n",
    "# Execute the circuit\n",
    "sim = cirq.Simulator()\n",
    "samples = sim.run(circuit, repetitions=1000)\n",
    "\n",
    "\n",
    "\n",
    "# default representation in Cirq is with decimal numbers\n",
    "# with this function we convert the decimal numbers into binary (bitstrings)\n",
    "def bitstring(bits):\n",
    "    return \"\".join(str(int(b)) for b in bits)\n",
    "\n",
    "\n",
    "\n",
    "print(\"outcomes in binary:\")\n",
    "print(samples.histogram(key='result', fold_func=bitstring))\n",
    "print()\n",
    "print(\"outcomes in decimal:\")\n",
    "outcomes = samples.histogram(key='result')\n",
    "print(outcomes) # output in decimal form, default in Cirq\n",
    "print()\n",
    "for outcome in outcomes:\n",
    "    print(outcome, \"\\tobserved\", outcomes[outcome], \"times\")"
   ]
  },
  {
   "cell_type": "code",
   "execution_count": null,
   "metadata": {},
   "outputs": [],
   "source": [
    "# discard 0 and the outcomes with low frequency\n",
    "\n",
    "good = []\n",
    "for outcome in outcomes:\n",
    "    if outcome == 0: continue\n",
    "    if outcomes[outcome] > 10:\n",
    "        good.append(outcome)\n",
    "print(good)"
   ]
  },
  {
   "cell_type": "code",
   "execution_count": null,
   "metadata": {},
   "outputs": [],
   "source": [
    "#Load the contFrac and convergents functions\n",
    "quantum_file = path_files+\"shor.py\"\n",
    "%run $quantum_file\n",
    "\n",
    "#Run continued fractions algorithm to find out r\n",
    "for b in good:\n",
    "    print(\"for b =\",b)\n",
    "    cf = contFrac(b/(2**t))\n",
    "    print(cf)\n",
    "    cv = convergents(cf)\n",
    "    print(cv)\n",
    "    print()"
   ]
  },
  {
   "cell_type": "markdown",
   "metadata": {},
   "source": [
    "Manually set $ r $ below.  "
   ]
  },
  {
   "cell_type": "code",
   "execution_count": null,
   "metadata": {},
   "outputs": [],
   "source": [
    "#Check if r is even, and x^{r/2} is not equal to -1 Mod N\n",
    "r = 6  #2\n",
    "if (r%2==0 and (x**(r/2))%N != -1) :\n",
    "    print(\"Proceed\")\n",
    "else:\n",
    "    print(\"Repeat the algorithm\")"
   ]
  },
  {
   "cell_type": "markdown",
   "metadata": {},
   "source": [
    "Note that you may not be able to get the $r$ value in your first trial. In such a case, you need to repeat the algorithm. "
   ]
  },
  {
   "cell_type": "markdown",
   "metadata": {},
   "source": [
    " Now let's check $gcd(x^{r/2} -1, N)$ and $gcd(x^{r/2}+1, N)$."
   ]
  },
  {
   "cell_type": "code",
   "execution_count": null,
   "metadata": {},
   "outputs": [],
   "source": [
    "#Compute gcd to find out the factors of N\n",
    "print(\"N=\",N)\n",
    "print(\"x=\",x)\n",
    "print(\"r=\",r)\n",
    "print(\"(x**int(r/2)-1)=\",(x**int(r/2)-1))\n",
    "print(\"(x**int(r/2)+1)=\",(x**int(r/2)+1))\n",
    "print(\"Factors of\",N,\":\",np.gcd((x**int(r/2)-1),N), \"and\",np.gcd((x**int(r/2)+1),N))"
   ]
  },
  {
   "cell_type": "markdown",
   "metadata": {},
   "source": [
    "We are able to identify both of the factors of 21 which are 3 and 7. \n",
    "\n",
    "_We succeeded with $(x=13,r=2)$ and $(x=2,r=6)$ !_"
   ]
  }
 ],
 "metadata": {
  "kernelspec": {
   "display_name": "Python 3 (ipykernel)",
   "language": "python",
   "name": "python3"
  },
  "language_info": {
   "codemirror_mode": {
    "name": "ipython",
    "version": 3
   },
   "file_extension": ".py",
   "mimetype": "text/x-python",
   "name": "python",
   "nbconvert_exporter": "python",
   "pygments_lexer": "ipython3",
   "version": "3.11.4"
  }
 },
 "nbformat": 4,
 "nbformat_minor": 4
}
