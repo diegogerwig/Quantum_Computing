{
 "cells": [
  {
   "cell_type": "markdown",
   "metadata": {},
   "source": [
    "<a href=\"https://qworld.net\" target=\"_blank\" align=\"left\"><img src=\"https://gitlab.com/qworld/qeducation/qbook101/raw/main/qworld/images/header.jpg\" align=\"left\"></a>\n",
    "$ \\newcommand{\\bra}[1]{\\langle #1|} $\n",
    "$ \\newcommand{\\ket}[1]{|#1\\rangle} $\n",
    "$ \\newcommand{\\braket}[2]{\\langle #1|#2\\rangle} $\n",
    "$ \\newcommand{\\dot}[2]{ #1 \\cdot #2} $\n",
    "$ \\newcommand{\\biginner}[2]{\\left\\langle #1,#2\\right\\rangle} $\n",
    "$ \\newcommand{\\mymatrix}[2]{\\left( \\begin{array}{#1} #2\\end{array} \\right)} $\n",
    "$ \\newcommand{\\myvector}[1]{\\mymatrix{c}{#1}} $\n",
    "$ \\newcommand{\\myrvector}[1]{\\mymatrix{r}{#1}} $\n",
    "$ \\newcommand{\\mypar}[1]{\\left( #1 \\right)} $\n",
    "$ \\newcommand{\\mybigpar}[1]{ \\Big( #1 \\Big)} $\n",
    "$ \\newcommand{\\sqrttwo}{\\frac{1}{\\sqrt{2}}} $\n",
    "$ \\newcommand{\\dsqrttwo}{\\dfrac{1}{\\sqrt{2}}} $\n",
    "$ \\newcommand{\\onehalf}{\\frac{1}{2}} $\n",
    "$ \\newcommand{\\donehalf}{\\dfrac{1}{2}} $\n",
    "$ \\newcommand{\\hadamard}{ \\mymatrix{rr}{ \\sqrttwo & \\sqrttwo \\\\ \\sqrttwo & -\\sqrttwo }} $\n",
    "$ \\newcommand{\\vzero}{\\myvector{1\\\\0}} $\n",
    "$ \\newcommand{\\vone}{\\myvector{0\\\\1}} $\n",
    "$ \\newcommand{\\stateplus}{\\myvector{ \\sqrttwo \\\\  \\sqrttwo } } $\n",
    "$ \\newcommand{\\stateminus}{ \\myrvector{ \\sqrttwo \\\\ -\\sqrttwo } } $\n",
    "$ \\newcommand{\\myarray}[2]{ \\begin{array}{#1}#2\\end{array}} $\n",
    "$ \\newcommand{\\X}{ \\mymatrix{cc}{0 & 1 \\\\ 1 & 0}  } $\n",
    "$ \\newcommand{\\Z}{ \\mymatrix{rr}{1 & 0 \\\\ 0 & -1}  } $\n",
    "$ \\newcommand{\\Htwo}{ \\mymatrix{rrrr}{ \\frac{1}{2} & \\frac{1}{2} & \\frac{1}{2} & \\frac{1}{2} \\\\ \\frac{1}{2} & -\\frac{1}{2} & \\frac{1}{2} & -\\frac{1}{2} \\\\ \\frac{1}{2} & \\frac{1}{2} & -\\frac{1}{2} & -\\frac{1}{2} \\\\ \\frac{1}{2} & -\\frac{1}{2} & -\\frac{1}{2} & \\frac{1}{2} } } $\n",
    "$ \\newcommand{\\CNOT}{ \\mymatrix{cccc}{1 & 0 & 0 & 0 \\\\ 0 & 1 & 0 & 0 \\\\ 0 & 0 & 0 & 1 \\\\ 0 & 0 & 1 & 0} } $\n",
    "$ \\newcommand{\\norm}[1]{ \\left\\lVert #1 \\right\\rVert } $\n",
    "$ \\newcommand{\\pstate}[1]{ \\lceil \\mspace{-1mu} #1 \\mspace{-1.5mu} \\rfloor } $"
   ]
  },
  {
   "cell_type": "markdown",
   "metadata": {},
   "source": [
    "_prepared by Claudia Zendejas-Morales_"
   ]
  },
  {
   "cell_type": "markdown",
   "metadata": {},
   "source": [
    "<font size=\"28px\" style=\"font-size:28px;\" align=\"left\"><b> <font color=\"blue\"> Solutions for </font>Qubit: Two-level Quantum System </b></font>\n",
    "<br>\n",
    "<br><br>"
   ]
  },
  {
   "cell_type": "markdown",
   "metadata": {},
   "source": [
    "<a name=\"task1\"></a>\n",
    "<h3> Task 1 (on paper)</h3>\n",
    "\n",
    "Verify that the states that form the computational basis of a qubit are orthonormal to each other."
   ]
  },
  {
   "cell_type": "markdown",
   "metadata": {},
   "source": [
    "<h3>Solution</h3>"
   ]
  },
  {
   "cell_type": "markdown",
   "metadata": {},
   "source": [
    "The computational basis states of a qubit are\n",
    "\n",
    "$$\\ket{0}=\\mymatrix{r}{1 \\\\ 0}~~~~~~,~~~~~~~\\ket{1}=\\mymatrix{r}{0 \\\\ 1}$$\n",
    "\n",
    "We check that the norm of each of them is equal to one:\n",
    "\n",
    "$$\\norm{\\ket{0}}=\\sqrt{\\braket{0}{0}}=\\sqrt{(1)(1)+(0)(0)}=1~~~~~~,~~~~~~~\\norm{\\ket{1}}=\\sqrt{\\braket{1}{1}}=\\sqrt{(0)(0)+(1)(1)}=1$$\n",
    "\n",
    "We take the dot product of both vectors:\n",
    "\n",
    "$$\\braket{0}{1}=\\mymatrix{r}{1 ~~~,& 0}\\mymatrix{r}{0 \\\\ 1}=(1)(0)+(0)(1)=0$$\n",
    "\n",
    "Both vectors are orthogonal, and since they are normalized, therefore they are _orthonormal_.\n",
    "\n",
    "<br><br>"
   ]
  },
  {
   "cell_type": "markdown",
   "metadata": {},
   "source": [
    "<a name=\"task2\"></a>\n",
    "<h3> Task 2 (on paper)</h3>\n",
    "\n",
    "Write the vectors of the $4$-dimensional Hilbert space, that is, the combinations of states for a $2$-qubit system."
   ]
  },
  {
   "cell_type": "markdown",
   "metadata": {},
   "source": [
    "<h3>Solution</h3>"
   ]
  },
  {
   "cell_type": "markdown",
   "metadata": {},
   "source": [
    "If we have two qubits\n",
    "\n",
    "$$\\ket{\\psi}=\\alpha_1\\ket{0}+\\beta_1\\ket{1}~~~~~,~~~~~\\ket{\\phi}=\\alpha_2\\ket{0}+\\beta_2\\ket{1}$$\n",
    "\n",
    "We have that there are 4 possible combinations: $\\ket{00}$, $\\ket{01}$, $\\ket{10}$, $\\ket{11}$, now we determine the vectors of each of these states:\n",
    "\n",
    "$$\\ket{00}=\\ket{0}\\otimes\\ket{0}=\\mymatrix{r}{1 \\\\ 0}\\otimes\\mymatrix{r}{1 \\\\ 0}=\\mymatrix{r}{1 \\\\ 0 \\\\ 0 \\\\ 0}$$\n",
    "\n",
    "$$\\ket{01}=\\ket{0}\\otimes\\ket{1}=\\mymatrix{r}{1 \\\\ 0}\\otimes\\mymatrix{r}{0 \\\\ 1}=\\mymatrix{r}{0 \\\\ 1 \\\\ 0 \\\\ 0}$$\n",
    "\n",
    "$$\\ket{10}=\\ket{1}\\otimes\\ket{0}=\\mymatrix{r}{0 \\\\ 1}\\otimes\\mymatrix{r}{1 \\\\ 0}=\\mymatrix{r}{0 \\\\ 0 \\\\ 1 \\\\ 0}$$\n",
    "\n",
    "$$\\ket{11}=\\ket{1}\\otimes\\ket{1}=\\mymatrix{r}{0 \\\\ 1}\\otimes\\mymatrix{r}{0 \\\\ 1}=\\mymatrix{r}{0 \\\\ 0 \\\\ 0 \\\\ 1}$$"
   ]
  }
 ],
 "metadata": {
  "kernelspec": {
   "display_name": "Python 3 (ipykernel)",
   "language": "python",
   "name": "python3"
  },
  "language_info": {
   "codemirror_mode": {
    "name": "ipython",
    "version": 3
   },
   "file_extension": ".py",
   "mimetype": "text/x-python",
   "name": "python",
   "nbconvert_exporter": "python",
   "pygments_lexer": "ipython3",
   "version": "3.11.4"
  }
 },
 "nbformat": 4,
 "nbformat_minor": 4
}
