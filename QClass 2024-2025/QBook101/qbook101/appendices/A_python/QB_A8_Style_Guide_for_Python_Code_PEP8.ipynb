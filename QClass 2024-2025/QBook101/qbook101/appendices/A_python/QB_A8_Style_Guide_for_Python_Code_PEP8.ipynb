{
 "cells": [
  {
   "cell_type": "markdown",
   "metadata": {},
   "source": [
    "<a href=\"https://qworld.net\" target=\"_blank\" align=\"left\"><img src=\"https://gitlab.com/qworld/qeducation/qbook101/raw/main/qworld/images/header.jpg\" align=\"left\"></a>\n",
    "$ \\newcommand{\\bra}[1]{\\langle #1|} $\n",
    "$ \\newcommand{\\ket}[1]{|#1\\rangle} $\n",
    "$ \\newcommand{\\braket}[2]{\\langle #1|#2\\rangle} $\n",
    "$ \\newcommand{\\dot}[2]{ #1 \\cdot #2} $\n",
    "$ \\newcommand{\\biginner}[2]{\\left\\langle #1,#2\\right\\rangle} $\n",
    "$ \\newcommand{\\mymatrix}[2]{\\left( \\begin{array}{#1} #2\\end{array} \\right)} $\n",
    "$ \\newcommand{\\myvector}[1]{\\mymatrix{c}{#1}} $\n",
    "$ \\newcommand{\\myrvector}[1]{\\mymatrix{r}{#1}} $\n",
    "$ \\newcommand{\\mypar}[1]{\\left( #1 \\right)} $\n",
    "$ \\newcommand{\\mybigpar}[1]{ \\Big( #1 \\Big)} $\n",
    "$ \\newcommand{\\sqrttwo}{\\frac{1}{\\sqrt{2}}} $\n",
    "$ \\newcommand{\\dsqrttwo}{\\dfrac{1}{\\sqrt{2}}} $\n",
    "$ \\newcommand{\\onehalf}{\\frac{1}{2}} $\n",
    "$ \\newcommand{\\donehalf}{\\dfrac{1}{2}} $\n",
    "$ \\newcommand{\\hadamard}{ \\mymatrix{rr}{ \\sqrttwo & \\sqrttwo \\\\ \\sqrttwo & -\\sqrttwo }} $\n",
    "$ \\newcommand{\\vzero}{\\myvector{1\\\\0}} $\n",
    "$ \\newcommand{\\vone}{\\myvector{0\\\\1}} $\n",
    "$ \\newcommand{\\stateplus}{\\myvector{ \\sqrttwo \\\\  \\sqrttwo } } $\n",
    "$ \\newcommand{\\stateminus}{ \\myrvector{ \\sqrttwo \\\\ -\\sqrttwo } } $\n",
    "$ \\newcommand{\\myarray}[2]{ \\begin{array}{#1}#2\\end{array}} $\n",
    "$ \\newcommand{\\X}{ \\mymatrix{cc}{0 & 1 \\\\ 1 & 0}  } $\n",
    "$ \\newcommand{\\Z}{ \\mymatrix{rr}{1 & 0 \\\\ 0 & -1}  } $\n",
    "$ \\newcommand{\\Htwo}{ \\mymatrix{rrrr}{ \\frac{1}{2} & \\frac{1}{2} & \\frac{1}{2} & \\frac{1}{2} \\\\ \\frac{1}{2} & -\\frac{1}{2} & \\frac{1}{2} & -\\frac{1}{2} \\\\ \\frac{1}{2} & \\frac{1}{2} & -\\frac{1}{2} & -\\frac{1}{2} \\\\ \\frac{1}{2} & -\\frac{1}{2} & -\\frac{1}{2} & \\frac{1}{2} } } $\n",
    "$ \\newcommand{\\CNOT}{ \\mymatrix{cccc}{1 & 0 & 0 & 0 \\\\ 0 & 1 & 0 & 0 \\\\ 0 & 0 & 0 & 1 \\\\ 0 & 0 & 1 & 0} } $\n",
    "$ \\newcommand{\\norm}[1]{ \\left\\lVert #1 \\right\\rVert } $\n",
    "$ \\newcommand{\\pstate}[1]{ \\lceil \\mspace{-1mu} #1 \\mspace{-1.5mu} \\rfloor } $"
   ]
  },
  {
   "cell_type": "markdown",
   "metadata": {},
   "source": [
    "_prepared by Claudia Zendejas-Morales_"
   ]
  },
  {
   "cell_type": "markdown",
   "metadata": {},
   "source": [
    "<font size=\"28px\" style=\"font-size:28px;\" align=\"left\"><b> Style Guide for Python code: PEP8 </b></font>\n",
    "<br>\n",
    "<br><br>"
   ]
  },
  {
   "cell_type": "markdown",
   "metadata": {},
   "source": [
    "The <a href=\"http://python.org/dev/peps/pep-0008/\" target=\"_blank\" rel=\"noreferrer noopener\" data-ol-has-click-handler=\"\">Python Enhancement Proposal number 8</a> (PEP 8) is a guide that defines how the Python code should be written to consider Python Pythonic and is a key guide that every person who wants to write code in Python must know and follow.\n",
    "\n",
    "The primary focus of PEP 8 is to improve the readability and consistency of Python code.\n",
    "\n",
    "\n",
    "### Quick overview.\n",
    "\n",
    "#### Code Layout.\n",
    "\n"
   ]
  },
  {
   "cell_type": "markdown",
   "metadata": {},
   "source": [
    "##### Indentation:\n",
    "\n",
    "* 4 Spaces, although this is up to you on continuation lines, as long as there is some form of indentation.\n",
    "* You can line up wrapped elements in parentheses vertically or with a hanging indent.\n"
   ]
  },
  {
   "cell_type": "markdown",
   "metadata": {},
   "source": [
    "    # 4 space indent\n",
    "    def hello(var):\n",
    "        print(var)\n",
    "    # vertical alignment\n",
    "    example2 = function(first_var, second_var,\n",
    "                        third_Var, fourth_var)\n",
    "    # hanging indent\n",
    "    example3 = function(\n",
    "        first_var, second_var,\n",
    "        third_var, fourth_var)"
   ]
  },
  {
   "cell_type": "markdown",
   "metadata": {},
   "source": [
    "#### Tabs & Spaces\n",
    "\n",
    "* Spaces are recommended for indentation, whereas tabs are used to keep yourself uniform with code that is using tabs to indent.\n",
    "* Python will not allow you to use both in the same code. If you are converting Python 2 that has a mix of both, redo with spaces."
   ]
  },
  {
   "cell_type": "markdown",
   "metadata": {},
   "source": [
    "#### Maximum Line Length\n",
    "* Max line length should be 79 characters long, although I find this restrictive sometimes and must go longer in those cases. In situations like this, it is okay to go up to 99 characters.\n",
    "* For comments and docstrings you should use 72 characters and should not be increased.\n",
    "* This helps when reading Python code and keeping it in editor, review, and debugging tools.\n",
    "* To help you stay on track, Python has a helper for this. You can wrap your lines in parentheses, starting with everything past the first keyword and ending before the next keyword. This is advised by PEP 8 and will auto-wrap your lines according to correct Python line styling format.\n",
    "* Backslashes can also be used, only when the parentheses wrapping does not apply, such as assert statements."
   ]
  },
  {
   "cell_type": "markdown",
   "metadata": {},
   "source": [
    "\n",
    "#### Line Breaks with Binary Operators\n",
    "* You should line break before binary operators for more readability, although this has been opposite in the past and both are acceptable if they are consistent.\n",
    "\n",
    "#### Blank Lines\n",
    "* Two blank lines should be both before and after class definitions.\n",
    "* One blank line should be both before and after method definitions.\n",
    "* You should use blank lines conservatively within your code to separate groups of functions.\n",
    "* You do not have to include blank lines between different lines if those lines are each only a line of code separate from each other."
   ]
  },
  {
   "cell_type": "markdown",
   "metadata": {},
   "source": [
    "#### Imports\n",
    "* Imports usually do not have blank lines separating them.\n",
    "* Imports usually should be separated on different lines, unless using the from keyword.\n",
    "* Imports belong at the top of your code after comments & docstrings and before your globals and constants.\n",
    "* Imports should be in this order.\n",
    "      1. Standard Library\n",
    "      2. Third Party\n",
    "      3. Local / Library Specific.\n",
    "* Absolute imports are recommended, but explicit relative imports are perfectly fine. Whichever is less verbose.\n",
    "\n",
    "* Import classes from separate class modules.\n",
    "\n",
    "* Wildcard imports (`*`) should not be used unless necessary.\n",
    "\n",
    "* Module level “dunders” are names with two trailing underscores. These names should be placed after the comments and docstrings, but before imports.\n",
    "\n",
    "* `from __future__` imports must be before any code other than comments and docstrings."
   ]
  },
  {
   "cell_type": "markdown",
   "metadata": {},
   "source": [
    "#### Strings\n",
    "* Single quotes around your strings or double quotes around your string mean the same thing. You can choose what one you like more, but stick to it, so you can use the alternative you didn’t choose instead of backslashes.\n",
    "* Triple quotes should use double quote characters. Check out PEP 257.\n",
    "\n",
    "\n",
    "#### Whitespace\n",
    "Avoid Trailing Whitespace.\n",
    "\n",
    "* Do not use excessive whitespace in your expressions and statements. You should have blank spaces after commas, colons, and semi-colons if it isn’t trailing next to the end of a bracket, brace, or parentheses.\n",
    "* With any operators you should use a space in on both sides of the operator. Colons for slicing are considered a binary operator, and should not have any spaces between them.\n",
    "* You should have parentheses with no space, directly next to the function when calling functions `function()`.\n",
    "when indexing or slicing the brackets should be directly next to the collection with no space `collection[‘index’]`.\n",
    "* Whitespace used to line up variable values is not recommended.\n",
    "* Make sure you are consistent with the formats you choose when optional choices are available.\n",
    "\n",
    "#### Trailing Commas\n",
    "* The only time a trailing comma is necessary is when you are making a single element Tuple.\n",
    "* If you do use trailing commas, use parenthesis to surround them."
   ]
  },
  {
   "cell_type": "markdown",
   "metadata": {},
   "source": [
    "#### Comments\n",
    "* Make sure your comments make sense and are useful for reading the code. Comments that are counter-productive may hurt code readability.\n",
    "* Make sure to update your comments when you update your code.\n",
    "* Make sure your comments are easy to understand for other Python programmers.\n",
    "* Block comments are a paragraph or more of single line comments, ending in an end punctuation for each line. They should start with a `#` and then a space. Also, block comments should be indented to the same amount that the code they are going to is indented. Separate paragraphs by a single comment line with nothing in it.\n",
    "* In multi-line comments, use two spaces after the sentence period, except only use one space after the final sentence.\n",
    "* Inline comments are comments that follow your code on the same line. Inline comments are to be used conservatively. They should be separated by at least two spaces following your code. They are to be used only when necessary."
   ]
  },
  {
   "cell_type": "markdown",
   "metadata": {},
   "source": [
    "#### Naming Conventions\n",
    "Although Python has some inconsistencies in the Python library with naming conventions, it is still recommended to use current naming conventions, unless what you are working with has a different convention already, then use that format.\n",
    "\n",
    "Overriding Principle is where you should reflect usage rather than implementation for your public aspects of your APIs.\n",
    "\n",
    "There are multiple Naming Styles you can choose from. Remember to be descriptive. You can also use prefixes to group names together."
   ]
  },
  {
   "cell_type": "markdown",
   "metadata": {},
   "source": [
    "#### Prescriptive Naming Conventions\n",
    "* Single leading underscore: weak and not recommended unless for internal use.\n",
    "* Single ending underscore: used to avoid issues with Python keywords.\n",
    "* Double leading underscore: for naming class attributes.\n",
    "* Double leading and trailing underscores are “magic\" objects or attributes in the user’s namespace."
   ]
  },
  {
   "cell_type": "markdown",
   "metadata": {},
   "source": [
    "#### Package and Module Names:\n",
    "\n",
    "* Packages and Modules should have lowercase and short names if possible.\n",
    "* Modules can have underscores.\n",
    "* Packages should not have underscores.\n",
    "\n",
    "#### Class Names:\n",
    "\n",
    "* Use Capital Words Convention WordExample.\n",
    "* You may use function naming conventions if it is well documented and is mainly used to be a callable.\n",
    "* Built-in names are usually a single word or two words long. They also only use the Capital Words Convention for exceptions and built-in constants.\n",
    "\n",
    "#### Type Variable Names:\n",
    "\n",
    "* Type variables should use Capital Words Convention and short names.\n",
    "* Suffix `_co` for variables with covariant behavior.\n",
    "* Suffix `_contra` for variables with contravariant behavior.\n",
    "\n",
    "#### Exception Names:\n",
    "\n",
    "* Use Class naming conventions.\n",
    "* Suffix `Error` used for exception names that error.\n",
    "\n",
    "#### Global Variable Names:\n",
    "\n",
    "Follow Function naming conventions.\n",
    "`__all__` mechanism should be used to prevent globals caused by `from M import *` or use like the prefix `globals`.\n",
    "\n",
    "#### Function & Variable Names:\n",
    "\n",
    "* Functions and Variables should be lowercase with underscores.\n",
    "* You can adopt a mixedCase style if it is already what is being used.\n",
    "\n",
    "\n",
    "#### Function & Method Arguments:\n",
    "\n",
    "* Include `self` as a first argument to instant methods.\n",
    "* Include `cls` or the first argument to class methods.\n",
    "* Better to use trailing underscore if needed, then abbreviations.\n",
    "\n",
    "\n",
    "#### Method Names & Instance Variables:\n",
    "\n",
    "* Use Function naming conventions.\n",
    "* Use leading underscores for non-public methods and instance variables.\n",
    "* You can use two leading underscores, if necessary, to use Python’s name mangling.\n",
    "\n",
    "\n",
    "#### Constants:\n",
    "\n",
    "* UPPERCASE Naming Convention with underscores.\n",
    "\n",
    "#### Inheritance:\n",
    "\n",
    "* Make sure your class’s attributes are either public or non-public.\n",
    "* Non-public attributes are ones not designed for third parties.\n",
    "* “private” is a term used in Python.\n",
    "* “subclass API” (aka. “protected”). Designed to be inherited from. Base classes.\n",
    "* Public attributes = no leading underscores, unless keyword conflicts.\n",
    "* Expose only attribute names for public data attributes.\n",
    "* subclassed classes can be named with double leading underscores, to use Python’s name mangler."
   ]
  }
 ],
 "metadata": {
  "kernelspec": {
   "display_name": "Python 3 (ipykernel)",
   "language": "python",
   "name": "python3"
  },
  "language_info": {
   "codemirror_mode": {
    "name": "ipython",
    "version": 3
   },
   "file_extension": ".py",
   "mimetype": "text/x-python",
   "name": "python",
   "nbconvert_exporter": "python",
   "pygments_lexer": "ipython3",
   "version": "3.11.4"
  }
 },
 "nbformat": 4,
 "nbformat_minor": 4
}
