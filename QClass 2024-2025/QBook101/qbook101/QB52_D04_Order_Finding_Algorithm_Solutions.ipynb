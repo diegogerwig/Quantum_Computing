{
 "cells": [
  {
   "cell_type": "markdown",
   "metadata": {},
   "source": [
    "<a href=\"https://qworld.net\" target=\"_blank\" align=\"left\"><img src=\"https://gitlab.com/qworld/qeducation/qbook101/raw/main/qworld/images/header.jpg\" align=\"left\"></a>\n",
    "$ \\newcommand{\\bra}[1]{\\langle #1|} $\n",
    "$ \\newcommand{\\ket}[1]{|#1\\rangle} $\n",
    "$ \\newcommand{\\braket}[2]{\\langle #1|#2\\rangle} $\n",
    "$ \\newcommand{\\dot}[2]{ #1 \\cdot #2} $\n",
    "$ \\newcommand{\\biginner}[2]{\\left\\langle #1,#2\\right\\rangle} $\n",
    "$ \\newcommand{\\mymatrix}[2]{\\left( \\begin{array}{#1} #2\\end{array} \\right)} $\n",
    "$ \\newcommand{\\myvector}[1]{\\mymatrix{c}{#1}} $\n",
    "$ \\newcommand{\\myrvector}[1]{\\mymatrix{r}{#1}} $\n",
    "$ \\newcommand{\\mypar}[1]{\\left( #1 \\right)} $\n",
    "$ \\newcommand{\\mybigpar}[1]{ \\Big( #1 \\Big)} $\n",
    "$ \\newcommand{\\sqrttwo}{\\frac{1}{\\sqrt{2}}} $\n",
    "$ \\newcommand{\\dsqrttwo}{\\dfrac{1}{\\sqrt{2}}} $\n",
    "$ \\newcommand{\\onehalf}{\\frac{1}{2}} $\n",
    "$ \\newcommand{\\donehalf}{\\dfrac{1}{2}} $\n",
    "$ \\newcommand{\\hadamard}{ \\mymatrix{rr}{ \\sqrttwo & \\sqrttwo \\\\ \\sqrttwo & -\\sqrttwo }} $\n",
    "$ \\newcommand{\\vzero}{\\myvector{1\\\\0}} $\n",
    "$ \\newcommand{\\vone}{\\myvector{0\\\\1}} $\n",
    "$ \\newcommand{\\stateplus}{\\myvector{ \\sqrttwo \\\\  \\sqrttwo } } $\n",
    "$ \\newcommand{\\stateminus}{ \\myrvector{ \\sqrttwo \\\\ -\\sqrttwo } } $\n",
    "$ \\newcommand{\\myarray}[2]{ \\begin{array}{#1}#2\\end{array}} $\n",
    "$ \\newcommand{\\X}{ \\mymatrix{cc}{0 & 1 \\\\ 1 & 0}  } $\n",
    "$ \\newcommand{\\Z}{ \\mymatrix{rr}{1 & 0 \\\\ 0 & -1}  } $\n",
    "$ \\newcommand{\\Htwo}{ \\mymatrix{rrrr}{ \\frac{1}{2} & \\frac{1}{2} & \\frac{1}{2} & \\frac{1}{2} \\\\ \\frac{1}{2} & -\\frac{1}{2} & \\frac{1}{2} & -\\frac{1}{2} \\\\ \\frac{1}{2} & \\frac{1}{2} & -\\frac{1}{2} & -\\frac{1}{2} \\\\ \\frac{1}{2} & -\\frac{1}{2} & -\\frac{1}{2} & \\frac{1}{2} } } $\n",
    "$ \\newcommand{\\CNOT}{ \\mymatrix{cccc}{1 & 0 & 0 & 0 \\\\ 0 & 1 & 0 & 0 \\\\ 0 & 0 & 0 & 1 \\\\ 0 & 0 & 1 & 0} } $\n",
    "$ \\newcommand{\\norm}[1]{ \\left\\lVert #1 \\right\\rVert } $\n",
    "$ \\newcommand{\\pstate}[1]{ \\lceil \\mspace{-1mu} #1 \\mspace{-1.5mu} \\rfloor } $\n",
    "$ \\newcommand{\\Y}{ \\mymatrix{rr}{0 & -i \\\\ i & 0} } $\n",
    "$ \\newcommand{\\S}{ \\mymatrix{rr}{1 & 0 \\\\ 0 & i} } $\n",
    "$ \\newcommand{\\T}{ \\mymatrix{rr}{1 & 0 \\\\ 0 & e^{i \\frac{\\pi}{4}}} } $\n",
    "$ \\newcommand{\\Sdg}{ \\mymatrix{rr}{1 & 0 \\\\ 0 & -i} } $ \n",
    "$ \\newcommand{\\Tdg}{ \\mymatrix{rr}{1 & 0 \\\\ 0 & e^{-i \\frac{\\pi}{4}}} } $\n",
    "$ \\newcommand{\\qgate}[1]{ \\mathop{\\textit{#1} } }$\n",
    "$\\newcommand{\\Mod}[1]{\\ (\\mathrm{mod}\\ #1)}$"
   ]
  },
  {
   "cell_type": "markdown",
   "metadata": {},
   "source": [
    "_prepared by Özlem Salehi and Abuzer Yakaryilmaz_\n",
    "<br><br>\n",
    "_Cirq adaptation by Claudia Zendejas-Morales_"
   ]
  },
  {
   "cell_type": "markdown",
   "metadata": {},
   "source": [
    "<font size=\"28px\" style=\"font-size:28px;\" align=\"left\"><b><font color=\"blue\"> Solutions for </font>Order Finding Algorithm</b></font>\n",
    "<br>\n",
    "<br><br>"
   ]
  },
  {
   "cell_type": "markdown",
   "metadata": {
    "jp-MarkdownHeadingCollapsed": true
   },
   "source": [
    "##### <font color=\"#08b806\">Please execute the following cell, it is necessary to distinguish between your local environment and Google Colab's"
   ]
  },
  {
   "cell_type": "code",
   "execution_count": null,
   "metadata": {},
   "outputs": [],
   "source": [
    "import IPython\n",
    "\n",
    "def in_colab():\n",
    "    try:\n",
    "        import google.colab\n",
    "        return True\n",
    "    except:\n",
    "        return False\n",
    "\n",
    "path_files = \"./\" if in_colab() else \"../qworld/include/\"\n",
    "\n",
    "if in_colab():\n",
    "    url = \"https://gitlab.com/qworld/qeducation/qbook101/raw/main/qworld/include/shor.py\"\n",
    "    !wget --no-cache -O shor.py {url}\n",
    "    \n",
    "    !pip install cirq"
   ]
  },
  {
   "cell_type": "markdown",
   "metadata": {},
   "source": [
    "<a name=\"task1\"></a>\n",
    "### Task 1\n",
    "\n",
    "Let $x=5$ and $N=21$. Plot $x^ i \\Mod{N}$ for $i$ values between $1$ and $50$ and find the order of $x$."
   ]
  },
  {
   "cell_type": "markdown",
   "metadata": {},
   "source": [
    "<h3>Solution</h3>"
   ]
  },
  {
   "cell_type": "code",
   "execution_count": null,
   "metadata": {},
   "outputs": [],
   "source": [
    "import matplotlib.pyplot as plt\n",
    "#Create an empty list\n",
    "l = []\n",
    "x=5\n",
    "N=21\n",
    "\n",
    "#Append x^i mod N values\n",
    "for i in range (50):\n",
    "    l.append((x**i) % N)\n",
    "\n",
    "\n",
    "plt.plot(l)\n",
    "plt.show()"
   ]
  },
  {
   "cell_type": "markdown",
   "metadata": {},
   "source": [
    "Let's check each integer and stop when we find an integer $r$ satisfying $x^r = 1 \\Mod{N}$\n",
    "\n",
    "$ 5^1 = 5 ~\\mod 21 $ \n",
    "\n",
    "$ 5^2 = 4 ~\\mod 21  $\n",
    "\n",
    "$ 5^3 = 20 \\mod 21 $\n",
    "\n",
    "$ 5^4 = 16 \\mod 21 $\n",
    "\n",
    "$ 5^5 = 17 \\mod 21 $\n",
    "\n",
    "$ 5^6 = 1 ~\\mod 21  $\n",
    "\n",
    "Hence the order $r$ is equal to 6."
   ]
  },
  {
   "cell_type": "markdown",
   "metadata": {},
   "source": [
    "<a name=\"task2\"></a>\n",
    "### Task 2 (on paper)\n",
    "\n",
    "Let $\\ket{v_0}=\\ket{1 \\Mod{N}}+\\ket{x\\Mod{N}}+\\ket{x^2\\Mod{N}}+ \\cdots + \\ket{x^{r-1}\\Mod{N}}$.\n",
    "\n",
    "Verify that $ \\ket{v_0} $ is an eigenvector of $ U_x $ with eigenvalue 1.\n",
    "\n",
    "Let $ \\omega = e^{2 \\pi i /r} $. \n",
    "\n",
    "We define $\\ket{v_1}=\\ket{1 \\Mod{N}}+ \\omega^{-1}\\ket{x\\Mod{N}}+\\omega^{-2}\\ket{x^2\\Mod{N}}+ \\cdots + \\omega^{-(r-1)}  \\ket{x^{r-1}\\Mod{N}}$\n",
    "\n",
    "Verify that $ \\ket{v_1} $ is also an eigenvector of $ U_x $ with eigenvalue $ \\omega $."
   ]
  },
  {
   "cell_type": "markdown",
   "metadata": {},
   "source": [
    "<h3>Solution</h3>"
   ]
  },
  {
   "cell_type": "markdown",
   "metadata": {},
   "source": [
    "\\begin{align*}\n",
    "U_x\\ket{v_0} &= U_x\\ket{1 \\Mod{N}} + U_x \\ket{x \\Mod{N}}+ \\cdots + U_x \\ket{x^{r-1} \\Mod{N}}\\\\\n",
    "&= \\ket{x \\Mod{N}} + \\ket{x^2\\Mod{N}}+ \\cdots + \\ket{x^{r-1} \\Mod{N}} + \\ket{x^{r} \\Mod{N}} \\\\\n",
    "&= \\ket{x \\Mod{N}} + \\ket{x^2\\Mod{N}}+ \\cdots + \\ket{x^{r-1} \\Mod{N}} + \\ket{1 \\Mod{N}} \\\\\n",
    "&= \\ket{v_0}\n",
    "\\end{align*}\n",
    "\n",
    "Thus, $\\ket{v_0}$ is an eigenvector of the operator $U_x$ with eigenvalue 1."
   ]
  },
  {
   "cell_type": "markdown",
   "metadata": {},
   "source": [
    "Now we check $\\ket{v_1}$.\n",
    "\n",
    "\\begin{align*}\n",
    "U_x\\ket{v_1} &= U_x\\ket{1 \\Mod{N}} + \\omega^{-1}U_x  \\ket{x \\Mod{N}}+ \\dots +\\omega^{-(r-1)} U_x \\ket{x^{r-1} \\Mod{N}}\\\\\n",
    "&= \\ket{x \\Mod{N}} + \\omega^{-1}\\ket{x^2 \\Mod{N}}+ \\dots + \\omega^{-(r-1)}\\ket{1 \\Mod{N}} \\\\\n",
    "&= \\omega( \\omega^{-1}\\ket{x \\Mod{N}} + \\omega^{-2}\\ket{x^2 \\Mod{N}}+ \\dots + \\omega^{-(r)}\\ket{1 \\Mod{N}}) \\\\\n",
    "&= \\omega\\ket{v_1}\n",
    "\\end{align*}\n",
    "\n",
    "The vector $\\ket{v_1}$ is also an eigenvector of the operator $U_x$ but with eigenvalue $\\omega$."
   ]
  },
  {
   "cell_type": "markdown",
   "metadata": {},
   "source": [
    "<a name=\"task3\"></a>\n",
    "### Task 3 (on paper)\n",
    "\n",
    "Show that $\\displaystyle \\frac{1}{\\sqrt{r}}\\sum_{s=0}^{r-1}\\ket{u_s}= \\ket{1}$."
   ]
  },
  {
   "cell_type": "markdown",
   "metadata": {},
   "source": [
    "<h3>Solution</h3>"
   ]
  },
  {
   "cell_type": "markdown",
   "metadata": {},
   "source": [
    "We check the summation $ \\ket{u_0} + \\cdots + \\ket{u_{r-1}} $."
   ]
  },
  {
   "cell_type": "markdown",
   "metadata": {},
   "source": [
    "$\n",
    "    \\begin{array}{rcl}\n",
    "    \\ket{u_0} & = & \n",
    "        \\dfrac{1}{\\sqrt{r}} \\mypar{\n",
    "        \\dfrac{ \\ket{1 \\Mod{N}} }{\\omega^0}+ \n",
    "        \\dfrac{ \\ket{x \\Mod{N}} }{\\omega^0}+ \n",
    "        \\dfrac{ \\ket{x^2\\Mod{N}} }{\\omega^0}+ \\cdots + \n",
    "        \\dfrac{ \\ket{x^{r-1}\\Mod{N}} }{\\omega^0}\n",
    "        }  \\\\\n",
    "    \\ket{u_1} & = & \n",
    "        \\dfrac{1}{\\sqrt{r}} \\mypar{\n",
    "        \\dfrac{ \\ket{1 \\Mod{N}} }{\\omega^0}+ \n",
    "        \\dfrac{ \\ket{x \\Mod{N}} }{\\omega^1}+ \n",
    "        \\dfrac{ \\ket{x^2\\Mod{N}} }{\\omega^2}+ \\cdots + \n",
    "        \\dfrac{ \\ket{x^{r-1}\\Mod{N}} }{\\omega^{r-1}}\n",
    "        }  \\\\\n",
    "    \\ket{u_2} & = & \n",
    "        \\dfrac{1}{\\sqrt{r}} \\mypar{\n",
    "        \\dfrac{ \\ket{1 \\Mod{N}} }{\\omega^0}+ \n",
    "        \\dfrac{ \\ket{x \\Mod{N}} }{\\omega^2}+ \n",
    "        \\dfrac{ \\ket{x^2\\Mod{N}} }{\\omega^4}+ \\cdots + \n",
    "        \\dfrac{ \\ket{x^{r-1}\\Mod{N}} }{\\omega^{2(r-1)}}\n",
    "        }  \\\\\n",
    "        \\vdots ~~~ & \\vdots & ~~~~~~~~~~~~~~ \\vdots \\\\\n",
    "     \\ket{u_{r-1}} & = & \n",
    "        \\dfrac{1}{\\sqrt{r}} \\mypar{\n",
    "        \\dfrac{ \\ket{1 \\Mod{N}} }{\\omega^{0}}+ \n",
    "        \\dfrac{ \\ket{x \\Mod{N}} }{\\omega^{r-1}}+ \n",
    "        \\dfrac{ \\ket{x^2\\Mod{N}} }{\\omega^{2(r-1)}}+ \\cdots + \n",
    "        \\dfrac{ \\ket{x^{r-1}\\Mod{N}} }{\\omega^{(r-1)(r-1)}}\n",
    "        }  \\\\\n",
    "    \\end{array}\n",
    "$"
   ]
  },
  {
   "cell_type": "markdown",
   "metadata": {},
   "source": [
    "You may notice that the pattern of $ \\omega $'s are the same as $ QFT^\\dagger $ matrix.\n",
    "\n",
    "Thus, the column summation (except the first one) is zero:\n",
    "\n",
    "$\n",
    "   \\dfrac{1}{\\omega^0} + \\dfrac{1}{\\omega^s} + \\dfrac{1}{\\omega^{2s}} + \\cdots + \\dfrac{1}{\\omega^{(r-1)s}} \n",
    "   = 1 + \\omega^{-s} + \\omega^{-2s} + \\cdots + \\omega^{-(r-1)s}\n",
    "   = \\dfrac{ 1 - \\omega^{-rs}}{1-\\omega^{-s}} = \\dfrac{1-1}{1-\\omega^{-s}} = 0.\n",
    "$\n",
    "\n",
    "The summation of the first column is $ \\dfrac{1}{\\sqrt{r}}\\mypar{ r\\ket{1} } = \\sqrt{r}\\ket{1} $.\n",
    "\n",
    "Hence $ \\dfrac{1}{\\sqrt{r}}\\sum_{s=0}^{r-1}\\ket{u_s}= \\dfrac{1}{\\sqrt{r}} \\mypar{\\sqrt{r}\\ket{1}} = \\ket{1}$."
   ]
  },
  {
   "cell_type": "markdown",
   "metadata": {},
   "source": [
    "<a name=\"task4\"></a>\n",
    "### Task 4\n",
    "\n",
    "Find the continued fractions expression for $\\frac{31}{13}$ and find the convergents first using pen and paper and then using the functions defined above."
   ]
  },
  {
   "cell_type": "markdown",
   "metadata": {},
   "source": [
    "<h3>Solution</h3>"
   ]
  },
  {
   "cell_type": "markdown",
   "metadata": {},
   "source": [
    "$\\frac{31}{13}$  can be expressed as $\\frac{31}{13}=2+\\frac{5}{13}$. Continuing like this,\n",
    "\n",
    "\\begin{align*}\n",
    "\t\t=2+\\frac{1}{2+\\frac{3}{5}} = 2+\\frac{1}{2+\\frac{1}{\\frac{5}{3}}}\n",
    "\t\t\\end{align*}\n",
    "        \n",
    "        "
   ]
  },
  {
   "cell_type": "markdown",
   "metadata": {},
   "source": [
    "The resulting expression will be \n",
    "\n",
    "\\begin{align*}\n",
    "2+\\frac{1}{2+\\frac{1}{1 + \\frac{1}{1+ \\frac{1}{2}}}}\n",
    "\\end{align*}\n",
    "\n",
    "with the continued fraction expression $[2,2,1,1,2]$. \n"
   ]
  },
  {
   "cell_type": "markdown",
   "metadata": {},
   "source": [
    "The convergents are $c_1=2$, $c_2=2 + \\frac{1}{2} = \\frac{5}{2} $, $c_3 = 2 + \\frac{1}{2 + \\frac{1}{1}} = \\frac{7}{3}$, $c_4 = 2+ \\frac{ 1}{2 + \\frac{1}{1 + \\frac{1}{1}}} = \\frac{12}{5}$, $c_5 = 2+\\frac{1}{2+\\frac{1}{1 + \\frac{1}{1+ \\frac{1}{2}}}}\n",
    " = \\frac{31}{13}$ "
   ]
  },
  {
   "cell_type": "markdown",
   "metadata": {},
   "source": [
    "Let's find the continued fractions expression and convergents for $\\frac{31}{13}$ using the functions defined in the notebook."
   ]
  },
  {
   "cell_type": "code",
   "execution_count": null,
   "metadata": {
    "scrolled": true
   },
   "outputs": [],
   "source": [
    "quantum_file = path_files+\"shor.py\"\n",
    "%run $quantum_file"
   ]
  },
  {
   "cell_type": "code",
   "execution_count": null,
   "metadata": {},
   "outputs": [],
   "source": [
    "cf=contFrac(31/13)\n",
    "print(cf)\n",
    "cv=convergents(cf)\n",
    "print(cv)"
   ]
  },
  {
   "cell_type": "markdown",
   "metadata": {},
   "source": [
    "<a name=\"task5\"></a>\n",
    "### Task 5\n",
    "\n",
    "You are given a function named `opUx` which returns the gate implementing $ U_x \\ket{y} \\rightarrow \\ket{xy {\\Mod{N}}}$.\n",
    "\n",
    "_In order to use the function you should pass $N$ and $x$ as parameter: `Ux = opUx(N,x)`._\n",
    "\n",
    "For $N=20$ and $x=3$, use phase estimation procedure to find the estimates for $\\frac{s}{r}$. \n",
    "\n",
    "Pick the correct values for $t$ and $L$. \n",
    "\n",
    "Use `myInvQFT` function you have already implemented [here](https://colab.research.google.com/drive/1C0_tK9KD7iHrsmwqdsHtG6i_J0CYs85o?usp=sharing#scrollTo=leUvkPgoA7mb). \n",
    "\n",
    "Detect the outcomes with peak frequencies (will be used in the next task)."
   ]
  },
  {
   "cell_type": "markdown",
   "metadata": {},
   "source": [
    "<h3>Solution</h3>"
   ]
  },
  {
   "cell_type": "markdown",
   "metadata": {},
   "source": [
    "We start with initializing the paramenters."
   ]
  },
  {
   "cell_type": "code",
   "execution_count": null,
   "metadata": {},
   "outputs": [],
   "source": [
    "from math import ceil, log2, pi\n",
    "# initialize the paramenters\n",
    "N = 20\n",
    "x = 3\n",
    "\n",
    "# L = ⌈log2(N)⌉\n",
    "L = ceil(log2(N))\n",
    "\n",
    "# let's pick error e=0.1\n",
    "e = 0.1\n",
    "# t = 2L + 1 + ⌈log2(2 + 1/(2e))⌉\n",
    "t = 2*L + 1 + ceil(log2(2 + 1/(2*e)))\n",
    "\n",
    "print(\"N =\", N)\n",
    "print(\"x =\", x)\n",
    "print(\"L =\", L)\n",
    "print(\"error =\", e)\n",
    "print(\"t =\", t)"
   ]
  },
  {
   "cell_type": "markdown",
   "metadata": {},
   "source": [
    "Define operator `Ux` as a gate in Cirq.\n",
    "\n",
    "Define the circuit for inverse QFT."
   ]
  },
  {
   "cell_type": "code",
   "execution_count": null,
   "metadata": {},
   "outputs": [],
   "source": [
    "import cirq\n",
    "from cirq import H, SWAP\n",
    "from cirq.circuits import InsertStrategy\n",
    "from math import pi\n",
    "import numpy as np\n",
    "\n",
    "\n",
    "def opUx(N, x):\n",
    "    \n",
    "    k = 1\n",
    "    while(N > 2**k):\n",
    "        k = k + 1\n",
    "    u = np.zeros([2**k, 2**k], dtype = int) \n",
    "    for i in range(N):\n",
    "        u[x*i % N][i] = 1\n",
    "    for i in range(N, 2**k):\n",
    "        u[i][i] = 1\n",
    "    return cirq.MatrixGate(u, name='Ux').controlled()\n",
    "\n",
    "\n",
    "def myInvQFT(qubits):\n",
    "\n",
    "    circuit = cirq.Circuit() # create a circuit\n",
    "    n = len(qubits)\n",
    "    # swap the qubits\n",
    "    for j in range(n//2): # integer division\n",
    "        circuit.append(SWAP.on(qubits[j],qubits[n-j-1]), strategy = InsertStrategy.NEW)\n",
    "    # inverted phase gates are applied in reverse order and before the hadamard gate\n",
    "    for i in range(n-1,-1,-1):\n",
    "        phase_divisor = 2**(n-i)\n",
    "        for j in range(n-1,i,-1):\n",
    "            circuit.append(cirq.CZPowGate(exponent = -2/phase_divisor).on(qubits[j],qubits[i]),\n",
    "                           strategy = InsertStrategy.NEW)\n",
    "            phase_divisor = phase_divisor / 2\n",
    "        circuit.append(H(qubits[i]), strategy = InsertStrategy.NEW) # strategy is for the circuit to look neat\n",
    "    \n",
    "    return circuit"
   ]
  },
  {
   "cell_type": "markdown",
   "metadata": {},
   "source": [
    "Now, we are ready to implement QPE algorithm.\n",
    "\n",
    "The first register has $t=14$ qubits.\n",
    "\n",
    "The second register has $ L = 5 $ qubits."
   ]
  },
  {
   "cell_type": "code",
   "execution_count": null,
   "metadata": {},
   "outputs": [],
   "source": [
    "# Quantum Phase Estimation Algorithm\n",
    "\n",
    "import cirq\n",
    "from cirq import X, measure\n",
    "\n",
    "\n",
    "circuit = cirq.Circuit()\n",
    "\n",
    "reg1 = [cirq.LineQubit(i) for i in range(t) ]\n",
    "reg2 = [cirq.LineQubit(i) for i in range(t, t+L) ]\n",
    "\n",
    "# Apply Hadamard gates to the qubits on the first register\n",
    "circuit.append(cirq.H.on_each(reg1))\n",
    "\n",
    "# set the last qubit in second register to |1>\n",
    "circuit.append(X.on_each(reg2[-1]))\n",
    "\n",
    "Ux = opUx(N, x)\n",
    "# apply CU^(2^j) operators\n",
    "for j in range(t):\n",
    "    Uxj = Ux**(2**j)\n",
    "    circuit.append(Uxj(reg1[t-j-1], *reg2))\n",
    "\n",
    "# the algorithm has been described for the qubit order q0⊗...⊗qt-1\n",
    "circuit += myInvQFT(reg1)\n",
    "\n",
    "# Measure\n",
    "circuit.append(measure(*reg1, key='result'))\n",
    "\n",
    "# Execute the circuit\n",
    "sim = cirq.Simulator()\n",
    "samples = sim.run(circuit, repetitions=1000)\n",
    "\n",
    "\n",
    "\n",
    "# default representation in Cirq is with decimal numbers\n",
    "# with this function we convert the decimal numbers into binary (bitstrings)\n",
    "def bitstring(bits):\n",
    "    return \"\".join(str(int(b)) for b in bits)\n",
    "\n",
    "\n",
    "\n",
    "print(\"outcomes in binary:\")\n",
    "print(samples.histogram(key='result', fold_func=bitstring))\n",
    "print()\n",
    "print(\"outcomes in decimal:\")\n",
    "outcomes = samples.histogram(key='result')\n",
    "print(outcomes) # output in decimal form, default in Cirq\n",
    "print()\n",
    "for outcome in outcomes:\n",
    "    print(outcome, \"\\tobserved\", outcomes[outcome], \"times\")"
   ]
  },
  {
   "cell_type": "markdown",
   "metadata": {},
   "source": [
    "The peaks occur at 0, 4096, 8192, 12288."
   ]
  },
  {
   "cell_type": "markdown",
   "metadata": {},
   "source": [
    "<a name=\"task6\"></a>\n",
    "### Task 6\n",
    "\n",
    "For each one of the possible outcomes in Task 5, try to find out the value of $r$ using continued fractions algorithm. \n",
    "\n",
    "You can use the functions defined above."
   ]
  },
  {
   "cell_type": "markdown",
   "metadata": {},
   "source": [
    "<h3>Solution</h3>"
   ]
  },
  {
   "cell_type": "markdown",
   "metadata": {},
   "source": [
    "The outcomes are 0, 4096, 8192 and 12288."
   ]
  },
  {
   "cell_type": "markdown",
   "metadata": {},
   "source": [
    "1) From 0, we don't get any meaningful result.\n",
    "\n",
    "2) Let's check $\\dfrac{4096}{2^{14}}$."
   ]
  },
  {
   "cell_type": "code",
   "execution_count": null,
   "metadata": {},
   "outputs": [],
   "source": [
    "quantum_file = path_files+\"shor.py\"\n",
    "%run $quantum_file"
   ]
  },
  {
   "cell_type": "code",
   "execution_count": null,
   "metadata": {},
   "outputs": [],
   "source": [
    "cf = contFrac(4096/2**14)\n",
    "cv = convergents(cf)\n",
    "print(cv)"
   ]
  },
  {
   "cell_type": "markdown",
   "metadata": {},
   "source": [
    "The candidate is $s'=1$ and $r'=4$. Indeed 4 is the answer. Let's check the other cases as well.\n",
    "\n",
    "3) We check $ \\dfrac{8192}{2^{14}} $."
   ]
  },
  {
   "cell_type": "code",
   "execution_count": null,
   "metadata": {},
   "outputs": [],
   "source": [
    "cf = contFrac(8192/2**14)\n",
    "cv = convergents(cf)\n",
    "print(cv)"
   ]
  },
  {
   "cell_type": "markdown",
   "metadata": {},
   "source": [
    "From 8192, we can not get the correct result. The reason is that $s=2$ and $r=4$ which are not relatively prime and as a result we get $s'=1$ and $r'=2$.\n",
    "\n",
    "4) We check $ \\dfrac{12288}{2^{14}} $."
   ]
  },
  {
   "cell_type": "code",
   "execution_count": null,
   "metadata": {},
   "outputs": [],
   "source": [
    "cf = contFrac(12288/2**14)\n",
    "cv = convergents(cf)\n",
    "print(cv)"
   ]
  },
  {
   "cell_type": "markdown",
   "metadata": {},
   "source": [
    "The candidate is $s'=3$ and $r'=4$. We get the correct result."
   ]
  }
 ],
 "metadata": {
  "kernelspec": {
   "display_name": "Python 3 (ipykernel)",
   "language": "python",
   "name": "python3"
  },
  "language_info": {
   "codemirror_mode": {
    "name": "ipython",
    "version": 3
   },
   "file_extension": ".py",
   "mimetype": "text/x-python",
   "name": "python",
   "nbconvert_exporter": "python",
   "pygments_lexer": "ipython3",
   "version": "3.11.4"
  }
 },
 "nbformat": 4,
 "nbformat_minor": 4
}
