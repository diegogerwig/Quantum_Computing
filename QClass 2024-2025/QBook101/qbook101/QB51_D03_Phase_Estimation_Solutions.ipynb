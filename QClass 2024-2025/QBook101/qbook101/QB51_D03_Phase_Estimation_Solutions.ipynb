{
 "cells": [
  {
   "cell_type": "markdown",
   "metadata": {},
   "source": [
    "<a href=\"https://qworld.net\" target=\"_blank\" align=\"left\"><img src=\"https://gitlab.com/qworld/qeducation/qbook101/raw/main/qworld/images/header.jpg\" align=\"left\"></a>\n",
    "$ \\newcommand{\\bra}[1]{\\langle #1|} $\n",
    "$ \\newcommand{\\ket}[1]{|#1\\rangle} $\n",
    "$ \\newcommand{\\braket}[2]{\\langle #1|#2\\rangle} $\n",
    "$ \\newcommand{\\dot}[2]{ #1 \\cdot #2} $\n",
    "$ \\newcommand{\\biginner}[2]{\\left\\langle #1,#2\\right\\rangle} $\n",
    "$ \\newcommand{\\mymatrix}[2]{\\left( \\begin{array}{#1} #2\\end{array} \\right)} $\n",
    "$ \\newcommand{\\myvector}[1]{\\mymatrix{c}{#1}} $\n",
    "$ \\newcommand{\\myrvector}[1]{\\mymatrix{r}{#1}} $\n",
    "$ \\newcommand{\\mypar}[1]{\\left( #1 \\right)} $\n",
    "$ \\newcommand{\\mybigpar}[1]{ \\Big( #1 \\Big)} $\n",
    "$ \\newcommand{\\sqrttwo}{\\frac{1}{\\sqrt{2}}} $\n",
    "$ \\newcommand{\\dsqrttwo}{\\dfrac{1}{\\sqrt{2}}} $\n",
    "$ \\newcommand{\\onehalf}{\\frac{1}{2}} $\n",
    "$ \\newcommand{\\donehalf}{\\dfrac{1}{2}} $\n",
    "$ \\newcommand{\\hadamard}{ \\mymatrix{rr}{ \\sqrttwo & \\sqrttwo \\\\ \\sqrttwo & -\\sqrttwo }} $\n",
    "$ \\newcommand{\\vzero}{\\myvector{1\\\\0}} $\n",
    "$ \\newcommand{\\vone}{\\myvector{0\\\\1}} $\n",
    "$ \\newcommand{\\stateplus}{\\myvector{ \\sqrttwo \\\\  \\sqrttwo } } $\n",
    "$ \\newcommand{\\stateminus}{ \\myrvector{ \\sqrttwo \\\\ -\\sqrttwo } } $\n",
    "$ \\newcommand{\\myarray}[2]{ \\begin{array}{#1}#2\\end{array}} $\n",
    "$ \\newcommand{\\X}{ \\mymatrix{cc}{0 & 1 \\\\ 1 & 0}  } $\n",
    "$ \\newcommand{\\Z}{ \\mymatrix{rr}{1 & 0 \\\\ 0 & -1}  } $\n",
    "$ \\newcommand{\\Htwo}{ \\mymatrix{rrrr}{ \\frac{1}{2} & \\frac{1}{2} & \\frac{1}{2} & \\frac{1}{2} \\\\ \\frac{1}{2} & -\\frac{1}{2} & \\frac{1}{2} & -\\frac{1}{2} \\\\ \\frac{1}{2} & \\frac{1}{2} & -\\frac{1}{2} & -\\frac{1}{2} \\\\ \\frac{1}{2} & -\\frac{1}{2} & -\\frac{1}{2} & \\frac{1}{2} } } $\n",
    "$ \\newcommand{\\CNOT}{ \\mymatrix{cccc}{1 & 0 & 0 & 0 \\\\ 0 & 1 & 0 & 0 \\\\ 0 & 0 & 0 & 1 \\\\ 0 & 0 & 1 & 0} } $\n",
    "$ \\newcommand{\\norm}[1]{ \\left\\lVert #1 \\right\\rVert } $\n",
    "$ \\newcommand{\\pstate}[1]{ \\lceil \\mspace{-1mu} #1 \\mspace{-1.5mu} \\rfloor } $\n",
    "$ \\newcommand{\\Y}{ \\mymatrix{rr}{0 & -i \\\\ i & 0} } $\n",
    "$ \\newcommand{\\S}{ \\mymatrix{rr}{1 & 0 \\\\ 0 & i} } $\n",
    "$ \\newcommand{\\T}{ \\mymatrix{rr}{1 & 0 \\\\ 0 & e^{i \\frac{\\pi}{4}}} } $\n",
    "$ \\newcommand{\\Sdg}{ \\mymatrix{rr}{1 & 0 \\\\ 0 & -i} } $ \n",
    "$ \\newcommand{\\Tdg}{ \\mymatrix{rr}{1 & 0 \\\\ 0 & e^{-i \\frac{\\pi}{4}}} } $\n",
    "$ \\newcommand{\\qgate}[1]{ \\mathop{\\\\textit{#1} } }$"
   ]
  },
  {
   "cell_type": "markdown",
   "metadata": {},
   "source": [
    "_prepared by Özlem Salehi and Abuzer Yakaryilmaz_\n",
    "<br><br>\n",
    "_Cirq adaptation by Claudia Zendejas-Morales_"
   ]
  },
  {
   "cell_type": "markdown",
   "metadata": {},
   "source": [
    "<font size=\"28px\" style=\"font-size:28px;\" align=\"left\"><b><font color=\"blue\"> Solutions for </font>Phase Estimation</b></font>\n",
    "<br>\n",
    "<br><br>"
   ]
  },
  {
   "cell_type": "markdown",
   "metadata": {
    "jp-MarkdownHeadingCollapsed": true
   },
   "source": [
    "##### <font color=\"#08b806\">Please execute the following cell, it is necessary to distinguish between your local environment and Google Colab's"
   ]
  },
  {
   "cell_type": "code",
   "execution_count": null,
   "metadata": {},
   "outputs": [],
   "source": [
    "import IPython\n",
    "\n",
    "def in_colab():\n",
    "    try:\n",
    "        import google.colab\n",
    "        return True\n",
    "    except:\n",
    "        return False\n",
    "\n",
    "if in_colab():\n",
    "    !pip install cirq"
   ]
  },
  {
   "cell_type": "markdown",
   "metadata": {},
   "source": [
    "<a name=\"task1\"></a>\n",
    "### Task 1 (on paper)\n",
    "\n",
    "\n",
    "Show that $\\ket{-}$ and $\\ket{+}$ are eigenvectors for the $X$ operator with eigenvalues -1 and 1 respectively."
   ]
  },
  {
   "cell_type": "markdown",
   "metadata": {},
   "source": [
    "<h3>Solution </h3>"
   ]
  },
  {
   "cell_type": "markdown",
   "metadata": {},
   "source": [
    "\n",
    "\n",
    "\\begin{align*}\n",
    "X \\ket{-} = X \\frac {\\ket{0} - \\ket{1}} {\\sqrt{2}}\n",
    "& =  \\frac {\\ket{1} - \\ket{0}} {\\sqrt{2}}\\\\\n",
    "& = -\\frac {\\ket{0} - \\ket{1}} {\\sqrt{2}}\\\\\n",
    "& = -\\ket{-}\n",
    "\\end{align*}\n",
    "\n",
    "\n",
    "\\begin{align*}\n",
    "X \\ket{+} = X \\frac {\\ket{0} + \\ket{1}} {\\sqrt{2}}\n",
    "& =  \\frac {\\ket{1} + \\ket{0}} {\\sqrt{2}}\\\\\n",
    "& = \\frac {\\ket{0} + \\ket{1}} {\\sqrt{2}}\\\\\n",
    "& = \\ket{+}\n",
    "\\end{align*}\n",
    "\n",
    "Hence $ \\ket{-}$ and $\\ket{+}$ are eigenvectors of $ X $ operator with the eigenvalues -1 and 1 respectively."
   ]
  },
  {
   "cell_type": "markdown",
   "metadata": {},
   "source": [
    "<a name=\"task2\"></a>\n",
    "### Task 2 (on paper)\n",
    "\n",
    "Consider the following quantum state where $ x=0 $ or $ 1 $. How can you find out the value of $x$ by applying a single operator?\n",
    "\n",
    "$$ \n",
    "\\frac {\\ket{0} + (-1)^x \\ket{1}} {\\sqrt{2}}\n",
    "$$\n"
   ]
  },
  {
   "cell_type": "markdown",
   "metadata": {},
   "source": [
    "<h3>Solution </h3>"
   ]
  },
  {
   "cell_type": "markdown",
   "metadata": {},
   "source": [
    "If our aim is to find out $ x $, then applying a Hadamard gate we can determine whether $ x=0 $ or $ 1 $ depending on the outcome. If the outcome is $ \\ket{0} $, then $ x=0 $ and if the outcome is $ \\ket{1} $, then $ x=1 $."
   ]
  },
  {
   "cell_type": "markdown",
   "metadata": {},
   "source": [
    "<a name=\"task3\"></a>\n",
    "### Task 3\n",
    "\n",
    "Pick $t=4$ and implement the phase estimation circuit to estimate $\\phi$.\n",
    "\n",
    "Use your `myInvQFT` method ([see previous notebook](D02_Quantum_Fourier_Transform.ipynb#task9)) for $ QFT^\\dagger $.\n",
    "\n",
    "\n",
    "Note that you should get an exact result since $t=4$ is precise enough."
   ]
  },
  {
   "cell_type": "markdown",
   "metadata": {},
   "source": [
    "<h3>Solution </h3>"
   ]
  },
  {
   "cell_type": "code",
   "execution_count": null,
   "metadata": {},
   "outputs": [],
   "source": [
    "import cirq\n",
    "from cirq import H, SWAP, CZPowGate\n",
    "from cirq.circuits import InsertStrategy\n",
    "\n",
    "def CU(power, qcontrol, target):\n",
    "    circuit = cirq.Circuit()\n",
    "    \n",
    "    circuit.append(CZPowGate(exponent = (2*5/16)*(2**power)).on(qcontrol, *target))\n",
    "    return circuit\n",
    "\n",
    "def myInvQFT(qubits):\n",
    "\n",
    "    circuit = cirq.Circuit() # create a circuit\n",
    "    \n",
    "    n = len(qubits)\n",
    "    \n",
    "    # swap the qubits\n",
    "    for j in range(n//2): # integer division\n",
    "        circuit.append(SWAP.on(qubits[j],qubits[n-j-1]), strategy = InsertStrategy.NEW)\n",
    "    \n",
    "    \n",
    "    # inverted phase gates are applied in reverse order and before the hadamard gate\n",
    "    \n",
    "    for i in range(n-1,-1,-1):\n",
    "        \n",
    "        phase_divisor = 2**(n-i)\n",
    "        for j in range(n-1,i,-1):\n",
    "            circuit.append(CZPowGate(exponent = -2/phase_divisor).on(qubits[j],qubits[i]),\n",
    "                           strategy = InsertStrategy.NEW)\n",
    "            phase_divisor = phase_divisor / 2\n",
    "        \n",
    "        circuit.append(H(qubits[i]), strategy = InsertStrategy.NEW) # strategy is for the circuit to look neat\n",
    "    \n",
    "    return circuit"
   ]
  },
  {
   "cell_type": "code",
   "execution_count": null,
   "metadata": {},
   "outputs": [],
   "source": [
    "import cirq\n",
    "from cirq import X, measure\n",
    "\n",
    "# Create circuit\n",
    "circuit = cirq.Circuit()\n",
    "\n",
    "t = 4 # Number of qubits in the control register\n",
    "n = 1 # Number of qubits in the register storing eigenvector\n",
    "\n",
    "# Create t control qubits\n",
    "control = [cirq.LineQubit(i) for i in range(t) ]\n",
    "\n",
    "# Create n target qubits\n",
    "target = [cirq.LineQubit(i) for i in range(t,t+n) ]\n",
    "\n",
    "# Apply Hadamard gates to the qubits on the first register (control)\n",
    "circuit.append(cirq.H.on_each(control))\n",
    "\n",
    "# Set the second register (target) to state |1> \n",
    "circuit.append(X.on_each(target))\n",
    "\n",
    "# apply CU^(2^j) operators\n",
    "for j in range(t):\n",
    "    circuit += CU(j, control[t-j-1], target)\n",
    "\n",
    "# print the circuit before InvQFT\n",
    "print(circuit)\n",
    "\n",
    "# the algorithm has been described for the qubit order q0⊗q1⊗q2⊗q3\n",
    "circuit += myInvQFT(control)\n",
    "\n",
    "# Measure\n",
    "circuit.append(measure(*control, key='result'))\n",
    "\n",
    "\n",
    "# Simulate the circuit\n",
    "sim = cirq.Simulator()\n",
    "results_sim = sim.simulate(circuit)\n",
    "circuit_state = results_sim.dirac_notation()\n",
    "\n",
    "print(circuit_state) # circuit state\n",
    "\n",
    "# Execute the circuit\n",
    "samples = sim.run(circuit, repetitions=1000)\n",
    "print()\n",
    "print(samples.histogram(key='result')) # output in decimal form, default in Cirq\n",
    "\n",
    "\n",
    "\n",
    "# default representation in Cirq is with decimal numbers\n",
    "# with this function we convert the decimal numbers into binary (bitstrings)\n",
    "def bitstring(bits):\n",
    "    return \"\".join(str(int(b)) for b in bits)\n",
    "\n",
    "print()\n",
    "print(samples.histogram(key='result', fold_func=bitstring)) # output should be {'0101': 1000} => 5 => phi = 5/16"
   ]
  },
  {
   "cell_type": "markdown",
   "metadata": {},
   "source": [
    "The output should be {'0101': 1000} $ \\Rightarrow $ 5 $ \\Rightarrow $ $ \\phi = 5/16 $."
   ]
  },
  {
   "cell_type": "markdown",
   "metadata": {},
   "source": [
    "<a name=\"task4\"></a>\n",
    "### Task 4\n",
    "\n",
    "Repeat Task 3 by using only three qubits on the first register ($t=3$).\n",
    "\n",
    "What do you expect to see?"
   ]
  },
  {
   "cell_type": "markdown",
   "metadata": {},
   "source": [
    "<h3>Solution </h3>"
   ]
  },
  {
   "cell_type": "code",
   "execution_count": null,
   "metadata": {},
   "outputs": [],
   "source": [
    "import cirq\n",
    "from cirq import H, SWAP, CZPowGate\n",
    "from cirq.circuits import InsertStrategy\n",
    "\n",
    "def CU(power, qcontrol, target):\n",
    "    circuit = cirq.Circuit()\n",
    "    \n",
    "    circuit.append(CZPowGate(exponent = (2*5/16)*(2**power)).on(qcontrol, *target))\n",
    "    return circuit\n",
    "\n",
    "def myInvQFT(qubits):\n",
    "\n",
    "    circuit = cirq.Circuit() # create a circuit\n",
    "    \n",
    "    n = len(qubits)\n",
    "    \n",
    "    # swap the qubits\n",
    "    for j in range(n//2): # integer division\n",
    "        circuit.append(SWAP.on(qubits[j],qubits[n-j-1]), strategy = InsertStrategy.NEW)\n",
    "    \n",
    "    \n",
    "    # inverted phase gates are applied in reverse order and before the hadamard gate\n",
    "    \n",
    "    for i in range(n-1,-1,-1):\n",
    "        \n",
    "        phase_divisor = 2**(n-i)\n",
    "        for j in range(n-1,i,-1):\n",
    "            circuit.append(CZPowGate(exponent = -2/phase_divisor).on(qubits[j],qubits[i]),\n",
    "                           strategy = InsertStrategy.NEW)\n",
    "            phase_divisor = phase_divisor / 2\n",
    "        \n",
    "        circuit.append(H(qubits[i]), strategy = InsertStrategy.NEW) # strategy is for the circuit to look neat\n",
    "    \n",
    "    return circuit"
   ]
  },
  {
   "cell_type": "code",
   "execution_count": null,
   "metadata": {},
   "outputs": [],
   "source": [
    "import cirq\n",
    "from cirq import X, measure\n",
    "\n",
    "# Create circuit\n",
    "circuit = cirq.Circuit()\n",
    "\n",
    "t = 3 # Number of qubits in the control register\n",
    "n = 1 # Number of qubits in the register storing eigenvector\n",
    "\n",
    "# Create t control qubits\n",
    "control = [cirq.LineQubit(i) for i in range(t) ]\n",
    "\n",
    "# Create n target qubits\n",
    "target = [cirq.LineQubit(i) for i in range(t,t+n) ]\n",
    "\n",
    "# Apply Hadamard gates to the qubits on the first register (control)\n",
    "circuit.append(cirq.H.on_each(control))\n",
    "\n",
    "# Set the second register (target) to state |1> \n",
    "circuit.append(X.on_each(target))\n",
    "\n",
    "# apply CU^(2^j) operators\n",
    "for j in range(t):\n",
    "    circuit += CU(j, control[t-j-1], target)\n",
    "\n",
    "# print the circuit before InvQFT\n",
    "print(circuit)\n",
    "\n",
    "# the algorithm has been described for the qubit order q0⊗q1⊗q2\n",
    "circuit += myInvQFT(control)\n",
    "\n",
    "# Measure\n",
    "circuit.append(measure(*control, key='result'))\n",
    "\n",
    "\n",
    "# Simulate the circuit\n",
    "sim = cirq.Simulator()\n",
    "results_sim = sim.simulate(circuit)\n",
    "circuit_state = results_sim.dirac_notation()\n",
    "\n",
    "print(circuit_state) # circuit state\n",
    "\n",
    "# Execute the circuit\n",
    "samples = sim.run(circuit, repetitions=1000)\n",
    "print()\n",
    "print(samples.histogram(key='result')) # output in decimal form, default in Cirq\n",
    "\n",
    "\n",
    "\n",
    "# default representation in Cirq is with decimal numbers\n",
    "# with this function we convert the decimal numbers into binary (bitstrings)\n",
    "def bitstring(bits):\n",
    "    return \"\".join(str(int(b)) for b in bits)\n",
    "\n",
    "print()\n",
    "print(samples.histogram(key='result', fold_func=bitstring)) # output should be {'0101': 1000} => 5 => phi = 5/16"
   ]
  },
  {
   "cell_type": "markdown",
   "metadata": {},
   "source": [
    "The most frequent outputs should be '010' and '011', which are 2 and 3 in decimal.\n",
    "\n",
    "Thus, $ \\dfrac{2}{8} <  \\phi < \\dfrac{3}{8} \\Rightarrow \\dfrac{4}{16} <  \\phi < \\dfrac{6}{16}  $."
   ]
  },
  {
   "cell_type": "markdown",
   "metadata": {},
   "source": [
    "<a name=\"task5\"></a>\n",
    "### Task 5\n",
    "\n",
    "Update $ CU $ with $\\phi=0.685$.\n",
    "\n",
    "Repeat Task 3 for different $t$ values between 1 and 10.\n",
    "- Execute your circuits 1000 times.\n",
    "- Pick the outcome with highest frequency.  "
   ]
  },
  {
   "cell_type": "markdown",
   "metadata": {},
   "source": [
    "<h3>Solution </h3>"
   ]
  },
  {
   "cell_type": "code",
   "execution_count": null,
   "metadata": {},
   "outputs": [],
   "source": [
    "import cirq\n",
    "from cirq import H, SWAP, CZPowGate\n",
    "from cirq.circuits import InsertStrategy\n",
    "\n",
    "def CU(power, qcontrol, target):\n",
    "    circuit = cirq.Circuit()\n",
    "    \n",
    "    circuit.append(CZPowGate(exponent = (2*0.685)*(2**power)).on(qcontrol, *target))\n",
    "    return circuit\n",
    "\n",
    "def myInvQFT(qubits):\n",
    "\n",
    "    circuit = cirq.Circuit() # create a circuit\n",
    "    \n",
    "    n = len(qubits)\n",
    "    \n",
    "    # swap the qubits\n",
    "    for j in range(n//2): # integer division\n",
    "        circuit.append(SWAP.on(qubits[j],qubits[n-j-1]), strategy = InsertStrategy.NEW)\n",
    "    \n",
    "    \n",
    "    # inverted phase gates are applied in reverse order and before the hadamard gate\n",
    "    \n",
    "    for i in range(n-1,-1,-1):\n",
    "        \n",
    "        phase_divisor = 2**(n-i)\n",
    "        for j in range(n-1,i,-1):\n",
    "            circuit.append(CZPowGate(exponent = -2/phase_divisor).on(qubits[j],qubits[i]),\n",
    "                           strategy = InsertStrategy.NEW)\n",
    "            phase_divisor = phase_divisor / 2\n",
    "        \n",
    "        circuit.append(H(qubits[i]), strategy = InsertStrategy.NEW) # strategy is for the circuit to look neat\n",
    "    \n",
    "    return circuit"
   ]
  },
  {
   "cell_type": "code",
   "execution_count": null,
   "metadata": {},
   "outputs": [],
   "source": [
    "import cirq\n",
    "from cirq import X, measure\n",
    "\n",
    "for t in range(1,11):\n",
    "    \n",
    "    # Create circuit\n",
    "    circuit = cirq.Circuit()\n",
    "\n",
    "    #t = t # Number of qubits in the control register\n",
    "    n = 1 # Number of qubits in the register storing eigenvector\n",
    "\n",
    "    # Create t control qubits\n",
    "    control = [cirq.LineQubit(i) for i in range(t) ]\n",
    "\n",
    "    # Create n target qubits\n",
    "    target = [cirq.LineQubit(i) for i in range(t,t+n) ]\n",
    "\n",
    "    # Apply Hadamard gates to the qubits on the first register (control)\n",
    "    circuit.append(cirq.H.on_each(control))\n",
    "\n",
    "    # Set the second register (target) to state |1> \n",
    "    circuit.append(X.on_each(target))\n",
    "\n",
    "    # apply CU^(2^j) operators\n",
    "    for j in range(t):\n",
    "        circuit += CU(j, control[t-j-1], target)\n",
    "\n",
    "    # the algorithm has been described for the qubit order q0⊗q1⊗q2⊗q3\n",
    "    circuit += myInvQFT(control)\n",
    "\n",
    "    # Measure\n",
    "    circuit.append(measure(*control, key='result'))\n",
    "\n",
    "    # Execute the circuit\n",
    "    sim = cirq.Simulator()\n",
    "    samples = sim.run(circuit, repetitions=1000)\n",
    "\n",
    "    #Most frequent observation\n",
    "    freq = list(samples.histogram(key='result').keys())[0]\n",
    "    print(t,\": phi is\", freq/2**t)\n"
   ]
  },
  {
   "cell_type": "markdown",
   "metadata": {},
   "source": [
    "<a name=\"task6\"></a>\n",
    "### Task 6\n",
    "\n",
    "Repeat Task 5 for $ CU2 $ and $ \\ket{11} $.\n",
    "\n",
    "_The unknown $ \\phi = 0.31415926535 $._"
   ]
  },
  {
   "cell_type": "markdown",
   "metadata": {},
   "source": [
    "<h3>Solution </h3>"
   ]
  },
  {
   "cell_type": "code",
   "execution_count": null,
   "metadata": {},
   "outputs": [],
   "source": [
    "import cirq\n",
    "from cirq import H, SWAP, CZPowGate\n",
    "from cirq.circuits import InsertStrategy\n",
    "\n",
    "def CU2(power, qcontrol, target):\n",
    "    circuit = cirq.Circuit()\n",
    "    \n",
    "    circuit.append(CZPowGate(exponent = (2*0.31415926535)*(2**power)).controlled().on(qcontrol, *target))\n",
    "    return circuit\n",
    "\n",
    "def myInvQFT(qubits):\n",
    "\n",
    "    circuit = cirq.Circuit() # create a circuit\n",
    "    \n",
    "    n = len(qubits)\n",
    "    \n",
    "    # swap the qubits\n",
    "    for j in range(n//2): # integer division\n",
    "        circuit.append(SWAP.on(qubits[j],qubits[n-j-1]), strategy = InsertStrategy.NEW)\n",
    "    \n",
    "    \n",
    "    # inverted phase gates are applied in reverse order and before the hadamard gate\n",
    "    \n",
    "    for i in range(n-1,-1,-1):\n",
    "        \n",
    "        phase_divisor = 2**(n-i)\n",
    "        for j in range(n-1,i,-1):\n",
    "            circuit.append(CZPowGate(exponent = -2/phase_divisor).on(qubits[j],qubits[i]),\n",
    "                           strategy = InsertStrategy.NEW)\n",
    "            phase_divisor = phase_divisor / 2\n",
    "        \n",
    "        circuit.append(H(qubits[i]), strategy = InsertStrategy.NEW) # strategy is for the circuit to look neat\n",
    "    \n",
    "    return circuit"
   ]
  },
  {
   "cell_type": "code",
   "execution_count": null,
   "metadata": {},
   "outputs": [],
   "source": [
    "import cirq\n",
    "from cirq import X, measure\n",
    "\n",
    "for t in range(1,11):\n",
    "    \n",
    "    # Create circuit\n",
    "    circuit = cirq.Circuit()\n",
    "\n",
    "    #t = t # Number of qubits in the control register\n",
    "    n = 2 # Number of qubits in the register storing eigenvector\n",
    "\n",
    "    # Create t control qubits\n",
    "    control = [cirq.LineQubit(i) for i in range(t) ]\n",
    "\n",
    "    # Create n target qubits\n",
    "    target = [cirq.LineQubit(i) for i in range(t,t+n) ]\n",
    "\n",
    "    # Apply Hadamard gates to the qubits on the first register (control)\n",
    "    circuit.append(cirq.H.on_each(control))\n",
    "\n",
    "    # Set the second register (target) to state |11> \n",
    "    circuit.append(X.on_each(target))\n",
    "\n",
    "    # apply CU^(2^j) operators\n",
    "    for j in range(t):\n",
    "        circuit += CU2(j, control[t-j-1], target)\n",
    "    \n",
    "    # the algorithm has been described for the qubit order q0⊗q1⊗q2⊗q3\n",
    "    circuit += myInvQFT(control)\n",
    "\n",
    "    # Measure\n",
    "    circuit.append(measure(*control, key='result'))\n",
    "\n",
    "    # Execute the circuit\n",
    "    sim = cirq.Simulator()\n",
    "    samples = sim.run(circuit, repetitions=1000)\n",
    "\n",
    "    #Most frequent observation\n",
    "    freq = list(samples.histogram(key='result').keys())[0]\n",
    "    print(t,\": phi is\", freq/2**t)\n"
   ]
  },
  {
   "cell_type": "markdown",
   "metadata": {},
   "source": [
    "_The unknown $ \\phi = 0.31415926535 $._"
   ]
  }
 ],
 "metadata": {
  "kernelspec": {
   "display_name": "Python 3 (ipykernel)",
   "language": "python",
   "name": "python3"
  },
  "language_info": {
   "codemirror_mode": {
    "name": "ipython",
    "version": 3
   },
   "file_extension": ".py",
   "mimetype": "text/x-python",
   "name": "python",
   "nbconvert_exporter": "python",
   "pygments_lexer": "ipython3",
   "version": "3.11.4"
  }
 },
 "nbformat": 4,
 "nbformat_minor": 4
}
