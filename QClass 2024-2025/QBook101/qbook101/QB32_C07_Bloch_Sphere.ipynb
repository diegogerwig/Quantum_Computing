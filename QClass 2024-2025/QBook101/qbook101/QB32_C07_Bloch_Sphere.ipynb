{
 "cells": [
  {
   "cell_type": "markdown",
   "metadata": {},
   "source": [
    "<a href=\"https://qworld.net\" target=\"_blank\" align=\"left\"><img src=\"https://gitlab.com/qworld/qeducation/qbook101/raw/main/qworld/images/header.jpg\" align=\"left\"></a>\n",
    "$ \\newcommand{\\bra}[1]{\\langle #1|} $\n",
    "$ \\newcommand{\\ket}[1]{|#1\\rangle} $\n",
    "$ \\newcommand{\\braket}[2]{\\langle #1|#2\\rangle} $\n",
    "$ \\newcommand{\\dot}[2]{ #1 \\cdot #2} $\n",
    "$ \\newcommand{\\inner}[2]{\\langle #1,#2\\rangle} $\n",
    "$ \\newcommand{\\biginner}[2]{\\left\\langle #1,#2\\right\\rangle} $\n",
    "$ \\newcommand{\\mymatrix}[2]{\\left( \\begin{array}{#1} #2\\end{array} \\right)} $\n",
    "$ \\newcommand{\\myvector}[1]{\\mymatrix{c}{#1}} $\n",
    "$ \\newcommand{\\myrvector}[1]{\\mymatrix{r}{#1}} $\n",
    "$ \\newcommand{\\mypar}[1]{\\left( #1 \\right)} $\n",
    "$ \\newcommand{\\mybigpar}[1]{ \\Big( #1 \\Big)} $\n",
    "$ \\newcommand{\\sqrttwo}{\\frac{1}{\\sqrt{2}}} $\n",
    "$ \\newcommand{\\dsqrttwo}{\\dfrac{1}{\\sqrt{2}}} $\n",
    "$ \\newcommand{\\onehalf}{\\frac{1}{2}} $\n",
    "$ \\newcommand{\\donehalf}{\\dfrac{1}{2}} $\n",
    "$ \\newcommand{\\hadamard}{ \\mymatrix{rr}{ \\sqrttwo & \\sqrttwo \\\\ \\sqrttwo & -\\sqrttwo }} $\n",
    "$ \\newcommand{\\vzero}{\\myvector{1\\\\0}} $\n",
    "$ \\newcommand{\\vone}{\\myvector{0\\\\1}} $\n",
    "$ \\newcommand{\\stateplus}{\\myvector{ \\sqrttwo \\\\  \\sqrttwo } } $\n",
    "$ \\newcommand{\\stateminus}{ \\myrvector{ \\sqrttwo \\\\ -\\sqrttwo } } $\n",
    "$ \\newcommand{\\myarray}[2]{ \\begin{array}{#1}#2\\end{array}} $\n",
    "$ \\newcommand{\\X}{ \\mymatrix{cc}{0 & 1 \\\\ 1 & 0}  } $\n",
    "$ \\newcommand{\\Z}{ \\mymatrix{rr}{1 & 0 \\\\ 0 & -1}  } $\n",
    "$ \\newcommand{\\Htwo}{ \\mymatrix{rrrr}{ \\frac{1}{2} & \\frac{1}{2} & \\frac{1}{2} & \\frac{1}{2} \\\\ \\frac{1}{2} & -\\frac{1}{2} & \\frac{1}{2} & -\\frac{1}{2} \\\\ \\frac{1}{2} & \\frac{1}{2} & -\\frac{1}{2} & -\\frac{1}{2} \\\\ \\frac{1}{2} & -\\frac{1}{2} & -\\frac{1}{2} & \\frac{1}{2} } } $\n",
    "$ \\newcommand{\\CNOT}{ \\mymatrix{cccc}{1 & 0 & 0 & 0 \\\\ 0 & 1 & 0 & 0 \\\\ 0 & 0 & 0 & 1 \\\\ 0 & 0 & 1 & 0} } $\n",
    "$ \\newcommand{\\norm}[1]{ \\left\\lVert #1 \\right\\rVert } $\n",
    "$ \\newcommand{\\pstate}[1]{ \\lceil \\mspace{-1mu} #1 \\mspace{-1.5mu} \\rfloor } $\n",
    "$ \\newcommand{\\len}[1]{\\|#1\\|} $\n",
    "$ \\newcommand{\\uniquerep}{\\cos\\mypar{\\frac{\\theta}{2}} \\ket{0} + e^{i\\phi} \\sin\\mypar{\\frac{\\theta}{2}} \\ket{1}} $"
   ]
  },
  {
   "cell_type": "markdown",
   "metadata": {},
   "source": [
    "_prepared by Maksim Dimitrijev and Abuzer Yakaryilmaz_\n",
    "<br><br>\n",
    "_Cirq adaptation by Claudia Zendejas-Morales_"
   ]
  },
  {
   "cell_type": "markdown",
   "metadata": {},
   "source": [
    "<font size=\"28px\" style=\"font-size:28px;\" align=\"left\"><b>Bloch sphere</b></font>\n",
    "<br>\n",
    "<br><br>"
   ]
  },
  {
   "cell_type": "markdown",
   "metadata": {
    "jp-MarkdownHeadingCollapsed": true
   },
   "source": [
    "##### <font color=\"#08b806\">Please execute the following cell, it is necessary to distinguish between your local environment and Google Colab's"
   ]
  },
  {
   "cell_type": "code",
   "execution_count": null,
   "metadata": {},
   "outputs": [],
   "source": [
    "import IPython\n",
    "\n",
    "def in_colab():\n",
    "    try:\n",
    "        import google.colab\n",
    "        return True\n",
    "    except:\n",
    "        return False\n",
    "\n",
    "SolutionToTask1 = lambda: IPython.display.display(IPython.display.Javascript('window.open(\"{url}\");'.format(url='https://colab.research.google.com/drive/1VplhWKJzZ0xElPacIMd5rvfPyhCUjDuD?usp=sharing#scrollTo=8ZSFOmno7u9k' if in_colab() else 'QB32_C07_Bloch_Sphere_Solutions.ipynb#task1')))\n",
    "SolutionToTask2 = lambda: IPython.display.display(IPython.display.Javascript('window.open(\"{url}\");'.format(url='https://colab.research.google.com/drive/1VplhWKJzZ0xElPacIMd5rvfPyhCUjDuD?usp=sharing#scrollTo=LmYy2aC07u9l' if in_colab() else 'QB32_C07_Bloch_Sphere_Solutions.ipynb#task2')))\n",
    "SolutionToTask3 = lambda: IPython.display.display(IPython.display.Javascript('window.open(\"{url}\");'.format(url='https://colab.research.google.com/drive/1VplhWKJzZ0xElPacIMd5rvfPyhCUjDuD?usp=sharing#scrollTo=kVNtrVjJ7u9l' if in_colab() else 'QB32_C07_Bloch_Sphere_Solutions.ipynb#task3')))\n",
    "SolutionToTask4 = lambda: IPython.display.display(IPython.display.Javascript('window.open(\"{url}\");'.format(url='https://colab.research.google.com/drive/1VplhWKJzZ0xElPacIMd5rvfPyhCUjDuD?usp=sharing#scrollTo=oY_-joLh7u9m' if in_colab() else 'QB32_C07_Bloch_Sphere_Solutions.ipynb#task4')))\n",
    "SolutionToTask5 = lambda: IPython.display.display(IPython.display.Javascript('window.open(\"{url}\");'.format(url='https://colab.research.google.com/drive/1VplhWKJzZ0xElPacIMd5rvfPyhCUjDuD?usp=sharing#scrollTo=43CaUb777u9m' if in_colab() else 'QB32_C07_Bloch_Sphere_Solutions.ipynb#task5')))\n",
    "\n",
    "if in_colab():\n",
    "    !pip install cirq"
   ]
  },
  {
   "cell_type": "markdown",
   "metadata": {},
   "source": [
    "##### The Bloch sphere is a unit sphere modified to represent the quantum states of a single qubit. Here is its representation with six reference points.\n",
    "\n",
    "<img src=\"https://gitlab.com/qworld/qeducation/qbook101/raw/main/qbook101/images/ch3/Bloch_sphere_six_states_wiki.jpg\" width=\"45%\" align=\"center\">\n",
    "\n",
    "<p style=\"font-size:10px;font-style:italic;text-align:right\">\n",
    "<a href=\"https://en.wikipedia.org/wiki/File:Six_states_Bloch_sphere.jpg\" target=\"_blank\">source of image</a> (license CC BY-SA 4.0)</p>"
   ]
  },
  {
   "cell_type": "markdown",
   "metadata": {},
   "source": [
    "- $ \\ket{0} $ and $ \\ket{1} $ are on the north and south poles, respectively.\n",
    "- $ \\ket{+} $ and $ \\ket{-} $ are on the $ x $-axis, where $ \\ket{+} = \\dfrac{\\ket{0}+\\ket{1}}{\\sqrt{2}} $ and $ \\ket{-} = \\dfrac{\\ket{0}-\\ket{1}}{\\sqrt{2}} $\n",
    "- $ \\ket{i} $ and $ \\ket{-i} $ are on the $ y $-axis, where $ \\ket{i} = \\dfrac{\\ket{0}+i\\ket{1}}{\\sqrt{2}} $ and $ \\ket{-i} = \\dfrac{\\ket{0}-i\\ket{1}}{\\sqrt{2}} $"
   ]
  },
  {
   "cell_type": "markdown",
   "metadata": {},
   "source": [
    "## Unique representation\n",
    "\n",
    "Any given quantum state $ \\ket{\\psi} = \\alpha\\ket{0} + \\beta\\ket{1} $ has a unique representation in the form of\n",
    "\n",
    "$ \\ket{\\Psi} = \\uniquerep $, \n",
    "\n",
    "after dropping the global phase, where $ \\alpha,\\beta \\in \\mathbb{C} $, $ \\theta \\in [0,\\pi] $, $ \\phi \\in [0,2\\pi) $, and $ \\phi $ is the relative (local) phase.\n",
    "\n",
    "The only exception is the set of $ \\{e^{i\\phi} \\ket{1} \\mid \\phi \\in [0,2\\pi] \\} $. Each state in this set is already in the above form, but any two of them differs from each other by a global phase. So, we cannot mention about the unique represention in this case. \n",
    "\n",
    "The quantum state $ \\ket{\\Psi} $ is visualized on the Bloch sphere as given below."
   ]
  },
  {
   "cell_type": "markdown",
   "metadata": {},
   "source": [
    "<img src=\"https://gitlab.com/qworld/qeducation/qbook101/raw/main/qbook101/images/ch3/Bloch_sphere_wiki.png\" width=\"30%\" align=\"center\">"
   ]
  },
  {
   "cell_type": "markdown",
   "metadata": {},
   "source": [
    "<p style=\"font-size:10px;font-style:italic;text-align:right\">\n",
    "<a href=\"https://commons.wikimedia.org/wiki/File:Bloch_sphere.svg\" target=\"_blank\">source of image</a> (license CC BY-SA 3.0) </p>"
   ]
  },
  {
   "cell_type": "markdown",
   "metadata": {},
   "source": [
    "## Visualize the Bloch Sphere in Cirq\n",
    "\n",
    "Cirq has a class called `BlochSphere` under `cirq_web` package to represent the Bloch sphere by using *Typescript* and *HTML*.\n",
    "\n",
    "The quantum states should be provided as `numpy array` or as a Python list.\n"
   ]
  },
  {
   "cell_type": "markdown",
   "metadata": {},
   "source": [
    "First we draw the Bloch sphere for the $\\ket{0}$ state. Note that you can rotate the sphere by dragging it."
   ]
  },
  {
   "cell_type": "code",
   "execution_count": null,
   "metadata": {},
   "outputs": [],
   "source": [
    "from cirq_web import BlochSphere\n",
    "\n",
    "sphere = BlochSphere(state_vector=[1, 0])\n",
    "sphere"
   ]
  },
  {
   "cell_type": "markdown",
   "metadata": {},
   "source": [
    "Below, we draw the Bloch sphere with quantum state $ \\ket{i} = \\dfrac{\\ket{0}+i\\ket{1}}{\\sqrt{2}} $."
   ]
  },
  {
   "cell_type": "code",
   "execution_count": null,
   "metadata": {},
   "outputs": [],
   "source": [
    "from cirq_web import BlochSphere\n",
    "import numpy as np\n",
    "\n",
    "sphere = BlochSphere(state_vector=[1, 1j]/np.sqrt(2))\n",
    "display(sphere)"
   ]
  },
  {
   "cell_type": "markdown",
   "metadata": {},
   "source": [
    "### Task 1\n",
    "\n",
    "Define all six reference quantum states (see above) as `np.array()`.\n",
    "\n",
    "Draw all of them in Cirq."
   ]
  },
  {
   "cell_type": "code",
   "execution_count": null,
   "metadata": {},
   "outputs": [],
   "source": [
    "#\n",
    "# your solution is here\n",
    "#\n"
   ]
  },
  {
   "cell_type": "markdown",
   "metadata": {},
   "source": [
    "To check out our solution, run the next cell:"
   ]
  },
  {
   "cell_type": "code",
   "execution_count": null,
   "metadata": {},
   "outputs": [],
   "source": [
    "SolutionToTask1()  # show solution for task 1"
   ]
  },
  {
   "cell_type": "markdown",
   "metadata": {},
   "source": [
    "### Task 2\n",
    "\n",
    "Randomly pick $ (\\theta,\\phi) $ and draw the state in Cirq."
   ]
  },
  {
   "cell_type": "code",
   "execution_count": null,
   "metadata": {},
   "outputs": [],
   "source": [
    "#\n",
    "# your solution is here\n",
    "#\n"
   ]
  },
  {
   "cell_type": "markdown",
   "metadata": {},
   "source": [
    "To check out our solution, run the next cell:"
   ]
  },
  {
   "cell_type": "code",
   "execution_count": null,
   "metadata": {},
   "outputs": [],
   "source": [
    "SolutionToTask2()  # show solution for task 2"
   ]
  },
  {
   "cell_type": "markdown",
   "metadata": {},
   "source": [
    "## Spherical coordinates\n",
    "\n",
    "For a given pair of $ (\\theta,\\phi) $, we can calculate its spherical coordinates $(x,y,z)$ as follows:\n",
    "\n",
    "- $ x = \\sin(\\theta)\\cos(\\phi) $\n",
    "- $ y = \\sin(\\theta)\\sin(\\phi) $\n",
    "- $ z = \\cos(\\theta) $"
   ]
  },
  {
   "cell_type": "markdown",
   "metadata": {},
   "source": [
    "### Task 3\n",
    "\n",
    "Randomly pick $ (\\theta,\\phi) $. \n",
    "\n",
    "Find its spherical coordinates $(x,y,z)$ in Python.\n",
    "\n",
    "Draw the state in Cirq with its projection.\n",
    "\n",
    "    BlochSphere(state_vector=state)\n",
    "\n",
    "Visually verify your calculations."
   ]
  },
  {
   "cell_type": "code",
   "execution_count": null,
   "metadata": {},
   "outputs": [],
   "source": [
    "#\n",
    "# your solution is here\n",
    "#\n"
   ]
  },
  {
   "cell_type": "markdown",
   "metadata": {},
   "source": [
    "To check out our solution, run the next cell:"
   ]
  },
  {
   "cell_type": "code",
   "execution_count": null,
   "metadata": {},
   "outputs": [],
   "source": [
    "SolutionToTask3()  # show solution for task 3"
   ]
  },
  {
   "cell_type": "markdown",
   "metadata": {},
   "source": [
    "## Orthogonality\n",
    "\n",
    "We know that $ \\ket{0} $ and $ \\ket{1} $ are orthogonal to each other. On the Bloch sphere, they are placed on the opposite side, and the angle between them is $  \\pi $ (180 degrees).\n",
    "\n",
    "What about the pairs $ \\{ \\ket{+},\\ket{-} \\} $ and $ \\{ \\ket{i},\\ket{-i} \\} $?"
   ]
  },
  {
   "cell_type": "markdown",
   "metadata": {},
   "source": [
    "### Task 4\n",
    "\n",
    "Show that $ \\ket{+} $ and $ \\ket{-} $ are orthogonal to each other.\n",
    "\n",
    "Show that $ \\ket{i} $ and $ \\ket{-i} $ are orthogonal to each other."
   ]
  },
  {
   "cell_type": "markdown",
   "metadata": {},
   "source": [
    "To check out our solution, run the next cell:"
   ]
  },
  {
   "cell_type": "code",
   "execution_count": null,
   "metadata": {},
   "outputs": [],
   "source": [
    "SolutionToTask4()  # show solution for task 4"
   ]
  },
  {
   "cell_type": "markdown",
   "metadata": {},
   "source": [
    "### Task 5\n",
    "\n",
    "Randomly pick a quantum state, say $ \\ket{u} $, in the form of unique representation.\n",
    "\n",
    "Draw $ \\ket{u} $ in Cirq.\n",
    "\n",
    "Calculate the quantum state, say $ \\ket{v} $, placed on the opposite side of $ \\ket{u} $ on the Bloch sphere.\n",
    "\n",
    "Draw $ \\ket{v} $ in Cirq.\n",
    "\n",
    "Visually verify that they are placed opposite to each other with angle $ \\pi $ in between.\n",
    "\n",
    "Calculate $ \\braket{u}{v} $ in Python and verify that the result is zero.\n",
    "\n",
    "Repeat this a couple of times."
   ]
  },
  {
   "cell_type": "code",
   "execution_count": null,
   "metadata": {},
   "outputs": [],
   "source": [
    "#\n",
    "# your solution is here\n",
    "#\n"
   ]
  },
  {
   "cell_type": "markdown",
   "metadata": {},
   "source": [
    "To check out our solution, run the next cell:"
   ]
  },
  {
   "cell_type": "code",
   "execution_count": null,
   "metadata": {},
   "outputs": [],
   "source": [
    "SolutionToTask5()  # show solution for task 5"
   ]
  },
  {
   "cell_type": "markdown",
   "metadata": {},
   "source": [
    "Let $ \\ket{u} = \\uniquerep $ with $ (\\theta,\\phi) $.\n",
    "\n",
    "Then, the quantum state on the opposite side on the Bloch sphere is\n",
    "\n",
    "$ \\ket{v} = \\sin \\mypar{ \\frac{\\theta}{2} } \\ket{0} +  e^{i(\\phi+\\pi)} \\cos \\mypar{ \\frac{\\theta}{2} } \\ket{1} $ \n",
    "with $ \\mypar{\\pi-\\theta,\\phi+\\pi} $.\n",
    "\n",
    "Observe that \n",
    "- $ \\cos \\mypar{ \\frac{\\pi-\\theta}{2} } = \\cos \\mypar{ \\frac{\\pi}{2} - \\frac{\\theta}{2} } = \\sin \\mypar{\\frac{\\theta}{2}} $ and \n",
    "- $ \\sin \\mypar{ \\frac{\\pi-\\theta}{2} } = \\sin \\mypar{ \\frac{\\pi}{2} - \\frac{\\theta}{2} } = \\cos \\mypar{\\frac{\\theta}{2}} $."
   ]
  },
  {
   "cell_type": "markdown",
   "metadata": {},
   "source": [
    "The inner product of the quantum states placed opposite sides on the Bloch sphere is\n",
    "\n",
    "$ \\begin{array}{rcl}\n",
    "\\braket{u}{v} & = & \\mypar{ \\cos\\mypar{ \\frac{\\theta}{2} } \\bra{0} + e^{-i\\phi} \\sin \\mypar{\\frac{\\theta}{2}} \\bra{1}  } \n",
    "\\mypar{ \\sin \\mypar{ \\frac{\\theta}{2} } \\ket{0} +  e^{i(\\phi+\\pi)} \\cos \\mypar{ \\frac{\\theta}{2} } \\ket{1} } \\\\\n",
    " & = &  \\cos\\mypar{ \\frac{\\theta}{2} } \\sin \\mypar{ \\frac{\\theta}{2} } + e^{-i\\phi + i\\phi + i\\pi } \\sin \\mypar{ \\frac{\\theta}{2} }\\cos \\mypar{ \\frac{\\theta}{2} } \\\\\n",
    " & = &  \\cos\\mypar{ \\frac{\\theta}{2} } \\sin \\mypar{ \\frac{\\theta}{2} } + e^{i\\pi } \\sin \\mypar{ \\frac{\\theta}{2} }\\cos \\mypar{ \\frac{\\theta}{2} } \\\\\n",
    " & = &  \\cos\\mypar{ \\frac{\\theta}{2} } \\sin \\mypar{ \\frac{\\theta}{2} } - \\sin \\mypar{ \\frac{\\theta}{2} }\\cos \\mypar{ \\frac{\\theta}{2} } \\\\\n",
    " & = & 0\n",
    "\\end{array}\n",
    "$\n"
   ]
  }
 ],
 "metadata": {
  "kernelspec": {
   "display_name": "Python 3 (ipykernel)",
   "language": "python",
   "name": "python3"
  },
  "language_info": {
   "codemirror_mode": {
    "name": "ipython",
    "version": 3
   },
   "file_extension": ".py",
   "mimetype": "text/x-python",
   "name": "python",
   "nbconvert_exporter": "python",
   "pygments_lexer": "ipython3",
   "version": "3.11.4"
  }
 },
 "nbformat": 4,
 "nbformat_minor": 4
}
