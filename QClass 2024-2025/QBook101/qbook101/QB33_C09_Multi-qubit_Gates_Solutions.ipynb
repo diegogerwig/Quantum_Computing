{
 "cells": [
  {
   "cell_type": "markdown",
   "metadata": {},
   "source": [
    "<a href=\"https://qworld.net\" target=\"_blank\" align=\"left\"><img src=\"https://gitlab.com/qworld/qeducation/qbook101/raw/main/qworld/images/header.jpg\" align=\"left\"></a>\n",
    "$ \\newcommand{\\bra}[1]{\\langle #1|} $\n",
    "$ \\newcommand{\\ket}[1]{|#1\\rangle} $\n",
    "$ \\newcommand{\\braket}[2]{\\langle #1|#2\\rangle} $\n",
    "$ \\newcommand{\\dot}[2]{ #1 \\cdot #2} $\n",
    "$ \\newcommand{\\biginner}[2]{\\left\\langle #1,#2\\right\\rangle} $\n",
    "$ \\newcommand{\\mymatrix}[2]{\\left( \\begin{array}{#1} #2\\end{array} \\right)} $\n",
    "$ \\newcommand{\\myvector}[1]{\\mymatrix{c}{#1}} $\n",
    "$ \\newcommand{\\myrvector}[1]{\\mymatrix{r}{#1}} $\n",
    "$ \\newcommand{\\mypar}[1]{\\left( #1 \\right)} $\n",
    "$ \\newcommand{\\mybigpar}[1]{ \\Big( #1 \\Big)} $\n",
    "$ \\newcommand{\\sqrttwo}{\\frac{1}{\\sqrt{2}}} $\n",
    "$ \\newcommand{\\dsqrttwo}{\\dfrac{1}{\\sqrt{2}}} $\n",
    "$ \\newcommand{\\onehalf}{\\frac{1}{2}} $\n",
    "$ \\newcommand{\\donehalf}{\\dfrac{1}{2}} $\n",
    "$ \\newcommand{\\hadamard}{ \\mymatrix{rr}{ \\sqrttwo & \\sqrttwo \\\\ \\sqrttwo & -\\sqrttwo }} $\n",
    "$ \\newcommand{\\vzero}{\\myvector{1\\\\0}} $\n",
    "$ \\newcommand{\\vone}{\\myvector{0\\\\1}} $\n",
    "$ \\newcommand{\\stateplus}{\\myvector{ \\sqrttwo \\\\  \\sqrttwo } } $\n",
    "$ \\newcommand{\\stateminus}{ \\myrvector{ \\sqrttwo \\\\ -\\sqrttwo } } $\n",
    "$ \\newcommand{\\myarray}[2]{ \\begin{array}{#1}#2\\end{array}} $\n",
    "$ \\newcommand{\\X}{ \\mymatrix{cc}{0 & 1 \\\\ 1 & 0}  } $\n",
    "$ \\newcommand{\\Z}{ \\mymatrix{rr}{1 & 0 \\\\ 0 & -1}  } $\n",
    "$ \\newcommand{\\Htwo}{ \\mymatrix{rrrr}{ \\frac{1}{2} & \\frac{1}{2} & \\frac{1}{2} & \\frac{1}{2} \\\\ \\frac{1}{2} & -\\frac{1}{2} & \\frac{1}{2} & -\\frac{1}{2} \\\\ \\frac{1}{2} & \\frac{1}{2} & -\\frac{1}{2} & -\\frac{1}{2} \\\\ \\frac{1}{2} & -\\frac{1}{2} & -\\frac{1}{2} & \\frac{1}{2} } } $\n",
    "$ \\newcommand{\\CNOT}{ \\mymatrix{cccc}{1 & 0 & 0 & 0 \\\\ 0 & 1 & 0 & 0 \\\\ 0 & 0 & 0 & 1 \\\\ 0 & 0 & 1 & 0} } $\n",
    "$ \\newcommand{\\norm}[1]{ \\left\\lVert #1 \\right\\rVert } $\n",
    "$ \\newcommand{\\pstate}[1]{ \\lceil \\mspace{-1mu} #1 \\mspace{-1.5mu} \\rfloor } $\n",
    "$ \\newcommand{\\Y}{ \\mymatrix{rr}{0 & -i \\\\ i & 0} } $\n",
    "$ \\newcommand{\\S}{ \\mymatrix{rr}{1 & 0 \\\\ 0 & i} } $\n",
    "$ \\newcommand{\\T}{ \\mymatrix{rr}{1 & 0 \\\\ 0 & e^{i \\frac{\\pi}{4}}} } $\n",
    "$ \\newcommand{\\Sdg}{ \\mymatrix{rr}{1 & 0 \\\\ 0 & -i} } $ \n",
    "$ \\newcommand{\\Tdg}{ \\mymatrix{rr}{1 & 0 \\\\ 0 & e^{-i \\frac{\\pi}{4}}} } $\n",
    "$ \\newcommand{\\qgate}[1]{ \\mathop{\\\\textit{#1} } }$"
   ]
  },
  {
   "cell_type": "markdown",
   "metadata": {},
   "source": [
    "_prepared by Maksim Dimitrijev and Abuzer Yakaryilmaz_\n",
    "<br><br>\n",
    "_Cirq adaptation by Claudia Zendejas-Morales_"
   ]
  },
  {
   "cell_type": "markdown",
   "metadata": {},
   "source": [
    "<font size=\"28px\" style=\"font-size:28px;\" align=\"left\"><b> <font color=\"blue\"> Solutions for </font>Multi-qubit gates</b></font>\n",
    "<br>\n",
    "<br><br>"
   ]
  },
  {
   "cell_type": "markdown",
   "metadata": {
    "jp-MarkdownHeadingCollapsed": true
   },
   "source": [
    "##### <font color=\"#08b806\">Please execute the following cell, it is necessary to distinguish between your local environment and Google Colab's"
   ]
  },
  {
   "cell_type": "code",
   "execution_count": null,
   "metadata": {},
   "outputs": [],
   "source": [
    "import IPython\n",
    "\n",
    "def in_colab():\n",
    "    try:\n",
    "        import google.colab\n",
    "        return True\n",
    "    except:\n",
    "        return False\n",
    "\n",
    "if in_colab():\n",
    "    !pip install cirq"
   ]
  },
  {
   "cell_type": "markdown",
   "metadata": {},
   "source": [
    "<a name=\"task1\"></a>\n",
    "### Task 1\n",
    "\n",
    "We have three qubits as q0⊗q1⊗q2.\n",
    "\n",
    "Below is the transitions of `SWAP` operator on q0 and q2. Complete the missing parts.\n",
    "\n",
    "- $ \\ket{000} \\rightarrow \\ket{?} $\n",
    "- $ \\ket{001} \\rightarrow \\ket{?} $\n",
    "- $ \\ket{010} \\rightarrow \\ket{?} $\n",
    "- $ \\ket{011} \\rightarrow \\ket{?} $\n",
    "- $ \\ket{100} \\rightarrow \\ket{?} $\n",
    "- $ \\ket{101} \\rightarrow \\ket{?} $\n",
    "- $ \\ket{110} \\rightarrow \\ket{?} $\n",
    "- $ \\ket{111} \\rightarrow \\ket{?} $\n",
    "\n",
    "Write the matrix of this operator."
   ]
  },
  {
   "cell_type": "markdown",
   "metadata": {},
   "source": [
    "<h3> Solution </h3>"
   ]
  },
  {
   "cell_type": "markdown",
   "metadata": {},
   "source": [
    "The values of q2 and q0 are swapped.\n",
    "\n",
    "- $ \\ket{000} \\rightarrow \\ket{000} $\n",
    "- $ \\ket{001} \\rightarrow \\ket{100} $\n",
    "- $ \\ket{010} \\rightarrow \\ket{010} $\n",
    "- $ \\ket{011} \\rightarrow \\ket{110} $\n",
    "- $ \\ket{100} \\rightarrow \\ket{001} $\n",
    "- $ \\ket{101} \\rightarrow \\ket{101} $\n",
    "- $ \\ket{110} \\rightarrow \\ket{011} $\n",
    "- $ \\ket{111} \\rightarrow \\ket{111} $\n",
    "\n",
    "Based on these transtions, we can easily build the matrix:\n",
    "\n",
    "$ \\mymatrix{cccc|cccc}{\n",
    "1 & 0 & 0 & 0 & 0 & 0 & 0 & 0 \\\\\n",
    "0 & 0 & 0 & 0 & 1 & 0 & 0 & 0 \\\\\n",
    "0 & 0 & 1 & 0 & 0 & 0 & 0 & 0 \\\\\n",
    "0 & 0 & 0 & 0 & 0 & 0 & 1 & 0 \\\\ \\hline\n",
    "0 & 1 & 0 & 0 & 0 & 0 & 0 & 0 \\\\\n",
    "0 & 0 & 0 & 0 & 0 & 1 & 0 & 0 \\\\\n",
    "0 & 0 & 0 & 1 & 0 & 0 & 0 & 0 \\\\\n",
    "0 & 0 & 0 & 0 & 0 & 0 & 0 & 1 \\\\\n",
    "} $"
   ]
  },
  {
   "cell_type": "markdown",
   "metadata": {},
   "source": [
    "<a name=\"task2\"></a>\n",
    "<h3> Task 2 </h3>\n",
    "\n",
    "Suppose that in Task 1 three qubits are placed on a line as q0---q1---q2, and `SWAP` operator is allowed only for neighbors, i.e., between 0 and 1 and between 1 and 2.\n",
    "\n",
    "Design a circuit swapping q0 and q2 but following neighborhood constraints for `SWAP` gates.\n",
    "\n",
    "Print the matrix of circuit and compare it with the solution of Task 1."
   ]
  },
  {
   "cell_type": "markdown",
   "metadata": {},
   "source": [
    "<h3> Solution </h3>"
   ]
  },
  {
   "cell_type": "code",
   "execution_count": null,
   "metadata": {},
   "outputs": [],
   "source": [
    "import cirq\n",
    "from cirq import SWAP\n",
    "\n",
    "circuit = cirq.Circuit()\n",
    "\n",
    "q0, q1, q2 = cirq.LineQubit.range(3) #create 3 qubits\n",
    "\n",
    "# we apply a series of SWAP operator\n",
    "\n",
    "# q0---q1---q2 => # q1---q0---q2\n",
    "circuit.append(SWAP.on(q0, q1))\n",
    "\n",
    "# q1---q0---q2 => q1---q2---q0\n",
    "circuit.append(SWAP.on(q1, q2))\n",
    "\n",
    "# q1---q2---q0 => q2---q1---q0\n",
    "circuit.append(SWAP.on(q0, q1))\n",
    "\n",
    "\n",
    "U = cirq.unitary(circuit) # read the matrix of circuit\n",
    "\n",
    "\n",
    "for row in U:\n",
    "    row_str = \"\"\n",
    "    for col in row:\n",
    "        # we have only 0-1s\n",
    "        row_str += str(round(col.real,0)) + \"   \"\n",
    "    print(row_str)"
   ]
  },
  {
   "cell_type": "markdown",
   "metadata": {},
   "source": [
    "<a name=\"task3\"></a>\n",
    "### Task 3\n",
    "\n",
    "For the gate `cirq.CX(q1, q0)`, list down the transitons and write down its matrix.\n",
    "\n",
    "Verify your matrix in Cirq, i.e., print the matrix of circuit implementing this gate."
   ]
  },
  {
   "cell_type": "markdown",
   "metadata": {},
   "source": [
    "<h3> Solution </h3>"
   ]
  },
  {
   "cell_type": "code",
   "execution_count": null,
   "metadata": {},
   "outputs": [],
   "source": [
    "import cirq\n",
    "from cirq import CNOT\n",
    "\n",
    "circuit = cirq.Circuit()\n",
    "\n",
    "q0, q1 = cirq.LineQubit.range(2) #create 2 qubits\n",
    "\n",
    "circuit.append(CNOT.on(q1, q0))\n",
    "\n",
    "U = cirq.unitary(circuit) # read the matrix of circuit\n",
    "\n",
    "\n",
    "for row in U:\n",
    "    row_str = \"\"\n",
    "    for col in row:\n",
    "        # we have only 0-1s\n",
    "        row_str += str(round(col.real,0)) + \"   \"\n",
    "    print(row_str)"
   ]
  },
  {
   "cell_type": "markdown",
   "metadata": {},
   "source": [
    "The transitions are as follows:\n",
    "\n",
    "- $ \\ket{00} \\rightarrow \\ket{00} $\n",
    "- $ \\ket{01} \\rightarrow \\ket{11} $\n",
    "- $ \\ket{10} \\rightarrow \\ket{10} $\n",
    "- $ \\ket{11} \\rightarrow \\ket{01} $"
   ]
  },
  {
   "cell_type": "markdown",
   "metadata": {},
   "source": [
    "<a name=\"task4\"></a>\n",
    "### Task 4\n",
    "\n",
    "Remember Pauli gate $ Y = \\Y $.\n",
    "\n",
    "For the gate `Y.on(q1).controlled_by(q0)`, list down the transitons and then write down its matrix.\n",
    "\n",
    "Verify your matrix in Cirq, i.e., print the matrix of circuit implementing this gate."
   ]
  },
  {
   "cell_type": "markdown",
   "metadata": {},
   "source": [
    "<h3> Solution </h3>"
   ]
  },
  {
   "cell_type": "code",
   "execution_count": null,
   "metadata": {},
   "outputs": [],
   "source": [
    "import cirq\n",
    "from cirq import Y\n",
    "\n",
    "circuit = cirq.Circuit()\n",
    "\n",
    "q0, q1 = cirq.LineQubit.range(2) #create 2 qubits\n",
    "\n",
    "circuit.append(Y.on(q1).controlled_by(q0))\n",
    "\n",
    "U = cirq.unitary(circuit) # read the matrix of circuit\n",
    "\n",
    "\n",
    "for row in U:\n",
    "    row_str = \"\"\n",
    "    for col in row:\n",
    "        # we have 0,1,i,-i\n",
    "        real = round(col.real,0)\n",
    "        imag = round(col.imag,0)\n",
    "        if real == 1:\n",
    "            row_str += \" 1 \"\n",
    "        elif imag == 1:\n",
    "            row_str += \" i \"\n",
    "        elif imag == -1:\n",
    "            row_str += \"-i \"\n",
    "        else:\n",
    "            row_str += \" 0 \"\n",
    "    print(row_str)"
   ]
  },
  {
   "cell_type": "markdown",
   "metadata": {},
   "source": [
    "The transitions are as follows:\n",
    "\n",
    "- $ \\ket{00} \\rightarrow ~~1\\ket{00} $\n",
    "- $ \\ket{01} \\rightarrow ~~1\\ket{01} $\n",
    "- $ \\ket{10} \\rightarrow ~~i\\ket{11} $\n",
    "- $ \\ket{11} \\rightarrow -i\\ket{10} $"
   ]
  },
  {
   "cell_type": "markdown",
   "metadata": {},
   "source": [
    "<a name=\"task5\"></a>\n",
    "### Task 5\n",
    "\n",
    "For the gate `H.on(q1).controlled_by(q0)`, list down the transitons and then write down its matrix.\n",
    "\n",
    "Verify your matrix in Cirq, i.e., print the matrix of circuit implementing this gate."
   ]
  },
  {
   "cell_type": "markdown",
   "metadata": {},
   "source": [
    "<h3> Solution </h3>"
   ]
  },
  {
   "cell_type": "code",
   "execution_count": null,
   "metadata": {},
   "outputs": [],
   "source": [
    "import cirq\n",
    "from cirq import H\n",
    "\n",
    "circuit = cirq.Circuit()\n",
    "\n",
    "q0, q1 = cirq.LineQubit.range(2) #create 2 qubits\n",
    "\n",
    "circuit.append(H.on(q1).controlled_by(q0))\n",
    "\n",
    "U = cirq.unitary(circuit) # read the matrix of circuit\n",
    "\n",
    "\n",
    "for row in U:\n",
    "    row_str = \"\"\n",
    "    for col in row:\n",
    "        # we have 0,1,0.707,-0.707\n",
    "        real = round(col.real,3)\n",
    "        if real == 1:\n",
    "            row_str += \"    1 \"\n",
    "        elif real == 0.707:\n",
    "            row_str += \" 0.707 \"\n",
    "        elif real == -0.707:\n",
    "            row_str += \"-0.707 \"\n",
    "        else:\n",
    "            row_str += \"    0 \"\n",
    "    print(row_str)"
   ]
  },
  {
   "cell_type": "markdown",
   "metadata": {},
   "source": [
    "The transitions are as follows:\n",
    "\n",
    "- $ \\ket{00} \\rightarrow \\ket{00} $\n",
    "- $ \\ket{01} \\rightarrow \\ket{01} $\n",
    "- $ \\ket{10} \\rightarrow \\frac{1}{\\sqrt{2}} \\ket{10} + \\frac{1}{\\sqrt{2}} \\ket{11} $\n",
    "- $ \\ket{11} \\rightarrow \\frac{1}{\\sqrt{2}} \\ket{10} - \\frac{1}{\\sqrt{2}} \\ket{11} $"
   ]
  },
  {
   "cell_type": "markdown",
   "metadata": {},
   "source": [
    "<a name=\"task6\"></a>\n",
    "### Task 6\n",
    "\n",
    "For the gate `H.on(q0).controlled_by(q1)`, list down the transitons and then write down its matrix.\n",
    "\n",
    "Verify your matrix in Cirq, i.e., print the matrix of circuit implementing this gate."
   ]
  },
  {
   "cell_type": "markdown",
   "metadata": {},
   "source": [
    "<h3> Solution </h3>"
   ]
  },
  {
   "cell_type": "code",
   "execution_count": null,
   "metadata": {},
   "outputs": [],
   "source": [
    "import cirq\n",
    "from cirq import H\n",
    "\n",
    "circuit = cirq.Circuit()\n",
    "\n",
    "q0, q1 = cirq.LineQubit.range(2) #create 2 qubits\n",
    "\n",
    "circuit.append(H.on(q0).controlled_by(q1))\n",
    "\n",
    "U = cirq.unitary(circuit) # read the matrix of circuit\n",
    "\n",
    "\n",
    "for row in U:\n",
    "    row_str = \"\"\n",
    "    for col in row:\n",
    "        # we have 0,1,0.707,-0.707\n",
    "        real = round(col.real,3)\n",
    "        if real == 1:\n",
    "            row_str += \"   1   \"\n",
    "        elif real == 0.707:\n",
    "            row_str += \" 0.707 \"\n",
    "        elif real == -0.707:\n",
    "            row_str += \"-0.707 \"\n",
    "        else:\n",
    "            row_str += \"   0   \"\n",
    "    print(row_str)"
   ]
  },
  {
   "cell_type": "markdown",
   "metadata": {},
   "source": [
    "The transitions are as follows:\n",
    "\n",
    "- $ \\ket{00} \\rightarrow \\ket{00} $\n",
    "- $ \\ket{01} \\rightarrow \\frac{1}{\\sqrt{2}} \\ket{01} + \\frac{1}{\\sqrt{2}} \\ket{11} $\n",
    "- $ \\ket{10} \\rightarrow \\ket{10} $\n",
    "- $ \\ket{11} \\rightarrow \\frac{1}{\\sqrt{2}} \\ket{01} - \\frac{1}{\\sqrt{2}} \\ket{11} $"
   ]
  },
  {
   "cell_type": "markdown",
   "metadata": {},
   "source": [
    "<a name=\"task7\"></a>\n",
    "### Task 7\n",
    "\n",
    "We define a gate as the multiplication of three `CSWAP` gates as follows:\n",
    "\n",
    "    SWAP.on(q0, q1).controlled_by(q2)\n",
    "    SWAP.on(q0, q2).controlled_by(q1)\n",
    "    SWAP.on(q1, q2).controlled_by(q0)\n",
    "\n",
    "For this gate, list down the transitons and then write down its matrix.\n",
    "\n",
    "Verify your matrix in Cirq, i.e., print the matrix of circuit implementing this gate."
   ]
  },
  {
   "cell_type": "markdown",
   "metadata": {},
   "source": [
    "<h3> Solution </h3>"
   ]
  },
  {
   "cell_type": "code",
   "execution_count": null,
   "metadata": {},
   "outputs": [],
   "source": [
    "import cirq\n",
    "from cirq import SWAP\n",
    "\n",
    "circuit = cirq.Circuit()\n",
    "\n",
    "q0, q1, q2 = cirq.LineQubit.range(3) #create 3 qubits\n",
    "\n",
    "circuit.append(SWAP.on(q0, q1).controlled_by(q2))\n",
    "circuit.append(SWAP.on(q0, q2).controlled_by(q1))\n",
    "circuit.append(SWAP.on(q1, q2).controlled_by(q0))\n",
    "\n",
    "U = cirq.unitary(circuit) # read the matrix of circuit\n",
    "\n",
    "for row in U:\n",
    "    row_str = \"\"\n",
    "    for col in row:\n",
    "        # we have only 0-1s\n",
    "        row_str += str(round(col.real,0)) + \"   \"\n",
    "    print(row_str)"
   ]
  },
  {
   "cell_type": "markdown",
   "metadata": {},
   "source": [
    "The transitions are as follows:\n",
    "\n",
    "- $ \\ket{000} \\rightarrow \\ket{000} $\n",
    "- $ \\ket{001} \\rightarrow \\ket{001} $\n",
    "- $ \\ket{010} \\rightarrow \\ket{010} $\n",
    "- $ \\ket{011} \\rightarrow \\ket{110} $\n",
    "- $ \\ket{100} \\rightarrow \\ket{100} $\n",
    "- $ \\ket{101} \\rightarrow \\ket{101} $\n",
    "- $ \\ket{110} \\rightarrow \\ket{011} $\n",
    "- $ \\ket{111} \\rightarrow \\ket{111} $"
   ]
  }
 ],
 "metadata": {
  "kernelspec": {
   "display_name": "Python 3 (ipykernel)",
   "language": "python",
   "name": "python3"
  },
  "language_info": {
   "codemirror_mode": {
    "name": "ipython",
    "version": 3
   },
   "file_extension": ".py",
   "mimetype": "text/x-python",
   "name": "python",
   "nbconvert_exporter": "python",
   "pygments_lexer": "ipython3",
   "version": "3.11.4"
  }
 },
 "nbformat": 4,
 "nbformat_minor": 4
}
