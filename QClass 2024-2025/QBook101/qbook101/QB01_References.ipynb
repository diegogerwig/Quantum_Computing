{
 "cells": [
  {
   "cell_type": "markdown",
   "id": "c2d56f8b",
   "metadata": {},
   "source": [
    "<font size=\"28px\" style=\"font-size:28px;\" align=\"left\"><b> References </b></font>\n",
    "<br>\n",
    "<br><br>"
   ]
  },
  {
   "cell_type": "markdown",
   "id": "0abc9e35",
   "metadata": {},
   "source": [
    "### Conventional Quantum Algorithms\n",
    "\n",
    "- Nielsen, Michael A., and Isaac Chuang. \"Quantum computation and quantum information.\" (2002): 558-559.\n",
    "\n",
    "- Kaye, Phillip, Raymond Laflamme, and Michele Mosca. An introduction to quantum computing. Oxford university press, 2007.\n",
    "\n",
    "- LaRose, Ryan. [QuIC Seminar 11 Simon’s Algorithm](https://www.ryanlarose.com/uploads/1/1/5/8/115879647/simon.pdf)\n",
    "\n",
    "- [Qiskit Textbook](https://github.com/qiskit-community/qiskit-textbook)"
   ]
  },
  {
   "cell_type": "markdown",
   "id": "de3a0158",
   "metadata": {},
   "source": [
    "### Solving Max-Cut problem using Grover's Search\n",
    "\n",
    "- The notebook material is based on the notebook available [here](http://github.com/quantum-challenge/2019/blob/master/problems/week3/week3_en.ipynb) made by Dr. Takahiko Satoh, Shin Nishio, Atsushi Matsuo, Yuri Kobayashi."
   ]
  },
  {
   "cell_type": "markdown",
   "id": "efb4060b",
   "metadata": {},
   "source": [
    "### Quantum Fourier Transform and Shor's algorithm\n",
    "\n",
    "- Nielsen, Michael A., and Isaac Chuang. \"Quantum computation and quantum information.\" (2002): 558-559.\n",
    "\n",
    "- Kaye, Phillip, Raymond Laflamme, and Michele Mosca. An introduction to quantum computing. Oxford university press, 2007.\n",
    "\n",
    "- [Shor’s Algorithm for Period Finding on a Quantum Computer](https://young.physics.ucsc.edu/150/shor.pdf) by \n",
    "Peter Young\n",
    "\n",
    "- [Shor's Algorithm](https://www.ryanlarose.com/uploads/1/1/5/8/115879647/shor3.pdf) by Ryan LaRose "
   ]
  },
  {
   "cell_type": "markdown",
   "id": "e681386a-0b50-4b62-9fed-a976f0cce753",
   "metadata": {},
   "source": [
    "### Postulates of Quantum Mechanics, and its Application to Qubits\n",
    "\n",
    "- Nielsen, Michael A., and Isaac Chuang. _Quantum computation and quantum information_. (2017): 80-96.\n",
    "\n",
    "- Kaye, Phillip, Raymond Laflamme, and Michele Mosca. _An introduction to quantum computing_. Oxford university press, 2007: 38-53."
   ]
  },
  {
   "cell_type": "code",
   "execution_count": null,
   "id": "aaee36a5",
   "metadata": {},
   "outputs": [],
   "source": []
  }
 ],
 "metadata": {
  "kernelspec": {
   "display_name": "Python 3 (ipykernel)",
   "language": "python",
   "name": "python3"
  },
  "language_info": {
   "codemirror_mode": {
    "name": "ipython",
    "version": 3
   },
   "file_extension": ".py",
   "mimetype": "text/x-python",
   "name": "python",
   "nbconvert_exporter": "python",
   "pygments_lexer": "ipython3",
   "version": "3.11.4"
  }
 },
 "nbformat": 4,
 "nbformat_minor": 5
}
