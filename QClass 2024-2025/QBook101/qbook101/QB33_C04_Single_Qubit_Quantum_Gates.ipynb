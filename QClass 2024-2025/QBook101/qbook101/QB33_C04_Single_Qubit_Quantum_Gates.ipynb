{
 "cells": [
  {
   "cell_type": "markdown",
   "metadata": {},
   "source": [
    "<a href=\"https://qworld.net\" target=\"_blank\" align=\"left\"><img src=\"https://gitlab.com/qworld/qeducation/qbook101/raw/main/qworld/images/header.jpg\" align=\"left\"></a>\n",
    "$ \\newcommand{\\bra}[1]{\\langle #1|} $\n",
    "$ \\newcommand{\\ket}[1]{|#1\\rangle} $\n",
    "$ \\newcommand{\\braket}[2]{\\langle #1|#2\\rangle} $\n",
    "$ \\newcommand{\\dot}[2]{ #1 \\cdot #2} $\n",
    "$ \\newcommand{\\biginner}[2]{\\left\\langle #1,#2\\right\\rangle} $\n",
    "$ \\newcommand{\\mymatrix}[2]{\\left( \\begin{array}{#1} #2\\end{array} \\right)} $\n",
    "$ \\newcommand{\\myvector}[1]{\\mymatrix{c}{#1}} $\n",
    "$ \\newcommand{\\myrvector}[1]{\\mymatrix{r}{#1}} $\n",
    "$ \\newcommand{\\mypar}[1]{\\left( #1 \\right)} $\n",
    "$ \\newcommand{\\mybigpar}[1]{ \\Big( #1 \\Big)} $\n",
    "$ \\newcommand{\\sqrttwo}{\\frac{1}{\\sqrt{2}}} $\n",
    "$ \\newcommand{\\dsqrttwo}{\\dfrac{1}{\\sqrt{2}}} $\n",
    "$ \\newcommand{\\onehalf}{\\frac{1}{2}} $\n",
    "$ \\newcommand{\\donehalf}{\\dfrac{1}{2}} $\n",
    "$ \\newcommand{\\hadamard}{ \\mymatrix{rr}{ \\sqrttwo & \\sqrttwo \\\\ \\sqrttwo & -\\sqrttwo }} $\n",
    "$ \\newcommand{\\vzero}{\\myvector{1\\\\0}} $\n",
    "$ \\newcommand{\\vone}{\\myvector{0\\\\1}} $\n",
    "$ \\newcommand{\\stateplus}{\\myvector{ \\sqrttwo \\\\  \\sqrttwo } } $\n",
    "$ \\newcommand{\\stateminus}{ \\myrvector{ \\sqrttwo \\\\ -\\sqrttwo } } $\n",
    "$ \\newcommand{\\myarray}[2]{ \\begin{array}{#1}#2\\end{array}} $\n",
    "$ \\newcommand{\\X}{ \\mymatrix{cc}{0 & 1 \\\\ 1 & 0}  } $\n",
    "$ \\newcommand{\\Z}{ \\mymatrix{rr}{1 & 0 \\\\ 0 & -1}  } $\n",
    "$ \\newcommand{\\Htwo}{ \\mymatrix{rrrr}{ \\frac{1}{2} & \\frac{1}{2} & \\frac{1}{2} & \\frac{1}{2} \\\\ \\frac{1}{2} & -\\frac{1}{2} & \\frac{1}{2} & -\\frac{1}{2} \\\\ \\frac{1}{2} & \\frac{1}{2} & -\\frac{1}{2} & -\\frac{1}{2} \\\\ \\frac{1}{2} & -\\frac{1}{2} & -\\frac{1}{2} & \\frac{1}{2} } } $\n",
    "$ \\newcommand{\\CNOT}{ \\mymatrix{cccc}{1 & 0 & 0 & 0 \\\\ 0 & 1 & 0 & 0 \\\\ 0 & 0 & 0 & 1 \\\\ 0 & 0 & 1 & 0} } $\n",
    "$ \\newcommand{\\norm}[1]{ \\left\\lVert #1 \\right\\rVert } $\n",
    "$ \\newcommand{\\pstate}[1]{ \\lceil \\mspace{-1mu} #1 \\mspace{-1.5mu} \\rfloor } $\n",
    "$ \\newcommand{\\Y}{ \\mymatrix{rr}{0 & -i \\\\ i & 0} } $\n",
    "$ \\newcommand{\\S}{ \\mymatrix{rr}{1 & 0 \\\\ 0 & i} } $\n",
    "$ \\newcommand{\\T}{ \\mymatrix{rr}{1 & 0 \\\\ 0 & e^{i \\frac{\\pi}{4}}} } $\n",
    "$ \\newcommand{\\Sdg}{ \\mymatrix{rr}{1 & 0 \\\\ 0 & -i} } $ \n",
    "$ \\newcommand{\\Tdg}{ \\mymatrix{rr}{1 & 0 \\\\ 0 & e^{-i \\frac{\\pi}{4}}} } $\n",
    "$ \\newcommand{\\qgate}[1]{ \\mathop{\\\\textit{#1} } }$"
   ]
  },
  {
   "cell_type": "markdown",
   "metadata": {},
   "source": [
    "_prepared by Maksim Dimitrijev and Abuzer Yakaryilmaz_\n",
    "<br><br>\n",
    "_Cirq adaptation by Claudia Zendejas-Morales_"
   ]
  },
  {
   "cell_type": "markdown",
   "metadata": {},
   "source": [
    "<font size=\"28px\" style=\"font-size:28px;\" align=\"left\"><b>Single-qubit quantum gates</b></font>\n",
    "<br>\n",
    "<br><br>"
   ]
  },
  {
   "cell_type": "markdown",
   "metadata": {
    "jp-MarkdownHeadingCollapsed": true
   },
   "source": [
    "##### <font color=\"#08b806\">Please execute the following cell, it is necessary to distinguish between your local environment and Google Colab's"
   ]
  },
  {
   "cell_type": "code",
   "execution_count": null,
   "metadata": {},
   "outputs": [],
   "source": [
    "import IPython\n",
    "\n",
    "def in_colab():\n",
    "    try:\n",
    "        import google.colab\n",
    "        return True\n",
    "    except:\n",
    "        return False\n",
    "\n",
    "SolutionToTask1 = lambda: IPython.display.display(IPython.display.Javascript('window.open(\"{url}\");'.format(url='https://colab.research.google.com/drive/1Q-WLTa7JTpvNUpeZNOh5MNO0Zb1reRz-?usp=sharing#scrollTo=m-v3sz_C_DnQ' if in_colab() else 'QB33_C04_Single_Qubit_Quantum_Gates_Solutions.ipynb#task1')))\n",
    "SolutionToTask2 = lambda: IPython.display.display(IPython.display.Javascript('window.open(\"{url}\");'.format(url='https://colab.research.google.com/drive/1Q-WLTa7JTpvNUpeZNOh5MNO0Zb1reRz-?usp=sharing#scrollTo=x88uNbLr_DnS' if in_colab() else 'QB33_C04_Single_Qubit_Quantum_Gates_Solutions.ipynb#task2')))\n",
    "SolutionToTask3 = lambda: IPython.display.display(IPython.display.Javascript('window.open(\"{url}\");'.format(url='https://colab.research.google.com/drive/1Q-WLTa7JTpvNUpeZNOh5MNO0Zb1reRz-?usp=sharing#scrollTo=VHk7kcl5_DnS' if in_colab() else 'QB33_C04_Single_Qubit_Quantum_Gates_Solutions.ipynb#task3')))\n",
    "SolutionToTask4 = lambda: IPython.display.display(IPython.display.Javascript('window.open(\"{url}\");'.format(url='https://colab.research.google.com/drive/1Q-WLTa7JTpvNUpeZNOh5MNO0Zb1reRz-?usp=sharing#scrollTo=lF3hsOE7_DnS' if in_colab() else 'QB33_C04_Single_Qubit_Quantum_Gates_Solutions.ipynb#task4')))\n",
    "\n",
    "if in_colab():\n",
    "    !pip install cirq"
   ]
  },
  {
   "cell_type": "markdown",
   "metadata": {},
   "source": [
    "##### In this notebook, we write quantum programs with single-qubit core quantum gates $ H, X, Y, Z, S, T $.\n",
    "\n",
    "We start with `Y` gate: $ Y = \\Y $.\n",
    "\n",
    "We apply it once in Cirq."
   ]
  },
  {
   "cell_type": "code",
   "execution_count": null,
   "metadata": {},
   "outputs": [],
   "source": [
    "import cirq\n",
    "from cirq import H, X, Y, Z, S, T # import the gates\n",
    "import numpy as np # we use \"numpy\" for mathmatical functions\n",
    "\n",
    "circuit = cirq.Circuit() # create a circuit\n",
    "\n",
    "q0 = cirq.LineQubit(0) # create a qubit\n",
    "\n",
    "circuit.append(Y(q0)) # append the Y gate applied to q0\n",
    "\n",
    "print(\"the circuit is\")\n",
    "print(circuit)\n",
    "print()\n",
    "\n",
    "U = cirq.unitary(Y) # read the unitary operator\n",
    "\n",
    "print(\"the matrix form of Y is\")\n",
    "for row in U:\n",
    "    row_str=\"\"\n",
    "    for col in row:\n",
    "        row_str += str(np.round(col,3))+\"  \"\n",
    "    print(row_str)\n",
    "print()\n",
    "\n",
    "# Simulate the circuit\n",
    "s = cirq.Simulator()\n",
    "results = s.simulate(circuit)\n",
    "\n",
    "print(\"the quantum state is\")\n",
    "# print the quantum state in ket\n",
    "print(results.dirac_notation())\n",
    "print()\n",
    "\n",
    "# draw the quantum state on Bloch sphere\n",
    "from cirq_web import BlochSphere\n",
    "sphere = BlochSphere(state_vector=results.state_vector())\n",
    "display(sphere)"
   ]
  },
  {
   "cell_type": "markdown",
   "metadata": {},
   "source": [
    "Observe that $ Y \\ket{0} $ and $ X \\ket{0} $ result in the quantum states differing by a global phase, i.e., $ i\\ket{1} $ and $\\ket{1}$, respectively.\n",
    "\n",
    "What happens if we apply `Y`-gate or `X`-gate to a quantum state in superposition?\n",
    "\n",
    "We can check it with states $ \\ket{+} $ and $ \\ket{-}$."
   ]
  },
  {
   "cell_type": "markdown",
   "metadata": {},
   "source": [
    "<h3> Task 1 </h3>\n",
    "\n",
    "We design two circuits in Cirq.\n",
    "\n",
    "Circuit I:\n",
    "- Start in $ \\ket{0} $.\n",
    "- Apply `H` gate and obtain $ \\ket{+} $\n",
    "- Apply `Y` gate\n",
    "\n",
    "Circuit II:\n",
    "- Start in $ \\ket{0} $.\n",
    "- Apply `H` gate and obtain $ \\ket{+} $\n",
    "- Apply `X` gate\n",
    "\n",
    "Visualize the final states on the Bloch sphere.\n",
    "\n",
    "Do they differ by a global phase? Or, are they separable states?\n",
    "\n",
    "Calculate the inner product of the final states."
   ]
  },
  {
   "cell_type": "code",
   "execution_count": null,
   "metadata": {},
   "outputs": [],
   "source": [
    "#\n",
    "# your solution is here\n",
    "#\n"
   ]
  },
  {
   "cell_type": "markdown",
   "metadata": {},
   "source": [
    "To check out our solution, run the next cell:"
   ]
  },
  {
   "cell_type": "code",
   "execution_count": null,
   "metadata": {},
   "outputs": [],
   "source": [
    "SolutionToTask1()  # show solution for task 1"
   ]
  },
  {
   "cell_type": "markdown",
   "metadata": {},
   "source": [
    "<h3> Task 2 </h3>\n",
    "\n",
    "We design two circuits in Cirq.\n",
    "\n",
    "Circuit I:\n",
    "- Start in $ \\ket{0} $.\n",
    "- Apply `X` gate\n",
    "- Apply `H` gate and obtain $ \\ket{-} $\n",
    "- Apply `Y` gate\n",
    "\n",
    "Circuit II:\n",
    "- Start in $ \\ket{0} $.\n",
    "- Apply `X` gate\n",
    "- Apply `H` gate and obtain $ \\ket{-} $\n",
    "- Apply `X` gate\n",
    "\n",
    "Visualize the final states on the Bloch sphere.\n",
    "\n",
    "Do they differ by a global phase? Or, are they separable states?\n",
    "\n",
    "Calculate the inner product of the final states."
   ]
  },
  {
   "cell_type": "code",
   "execution_count": null,
   "metadata": {},
   "outputs": [],
   "source": [
    "#\n",
    "# your solution is here\n",
    "#\n"
   ]
  },
  {
   "cell_type": "markdown",
   "metadata": {},
   "source": [
    "To check out our solution, run the next cell:"
   ]
  },
  {
   "cell_type": "code",
   "execution_count": null,
   "metadata": {},
   "outputs": [],
   "source": [
    "SolutionToTask2()  # show solution for task 2"
   ]
  },
  {
   "cell_type": "markdown",
   "metadata": {},
   "source": [
    "<h2> Phase gates </h2>\n",
    "\n",
    "We continue with ``the phase gates``. Such gates do not change the probabilities of the states to be observed, but change the relative phase. \n",
    "\n",
    "The `Z` gate: $ Z = \\Z $\n",
    "\n",
    "The `S` gate: $ S = \\S $\n",
    "\n",
    "The `S-dagger` gate: $ S^{\\dagger} = \\Sdg $\n",
    "\n",
    "The `T` gate: $ T = \\T $\n",
    "\n",
    "The `T-dagger` gate: $ T^{\\dagger} = \\Tdg $\n",
    "\n",
    "Observe that $ Z \\cdot Z = I $. Thus, $ Z^\\dagger = Z $."
   ]
  },
  {
   "cell_type": "markdown",
   "metadata": {},
   "source": [
    "<h3> Task 3 </h3>\n",
    "\n",
    "Verify that $ S^2 = Z $ and $ T^2 = S $.\n",
    "\n",
    "What are the relations between $ T^\\dagger $, $ S^\\dagger $, and $ Z^\\dagger $?"
   ]
  },
  {
   "cell_type": "markdown",
   "metadata": {},
   "source": [
    "To check out our solution, run the next cell:"
   ]
  },
  {
   "cell_type": "code",
   "execution_count": null,
   "metadata": {},
   "outputs": [],
   "source": [
    "SolutionToTask3()  # show solution for task 3"
   ]
  },
  {
   "cell_type": "markdown",
   "metadata": {},
   "source": [
    "In the next notebook, these gates will be explained geometrically, and so, these relations will be observed visually."
   ]
  },
  {
   "cell_type": "markdown",
   "metadata": {},
   "source": [
    "In Cirq, `Z`, `S`, and `T` gates are pre-defined gates. \n",
    "\n",
    "Cirq allows us to do power operations on ``the pauli gates``.\n",
    "\n",
    "Thus, the gates `S-dagger` and `T-dagger` can be defined as the powers of the `Z` gate:"
   ]
  },
  {
   "cell_type": "code",
   "execution_count": null,
   "metadata": {},
   "outputs": [],
   "source": [
    "import cirq\n",
    "from cirq import Z, S, T\n",
    "\n",
    "# S\n",
    "print(\"S is\")\n",
    "print(cirq.unitary(S))\n",
    "print()\n",
    "\n",
    "# S†: S-dagger \n",
    "Sdg = Z**(-1/2)\n",
    "print(\"S† is\")\n",
    "print(cirq.unitary(Sdg))\n",
    "print()\n",
    "\n",
    "# T\n",
    "print(\"T is\")\n",
    "print(cirq.unitary(T))\n",
    "print()\n",
    "\n",
    "# T†: T-dagger\n",
    "Tdg = Z**(-1/4)\n",
    "print(\"T† is\")\n",
    "print(cirq.unitary(Tdg))\n",
    "print()"
   ]
  },
  {
   "cell_type": "markdown",
   "metadata": {},
   "source": [
    "## Daggering gates\n",
    "\n",
    "In Cirq, we use also method `inverse()` to obtain the dagger of the gate:\n",
    "\n",
    "    cirq.inverse(U)\n",
    "    \n",
    "So, $ S^\\dagger $ or $ T^\\dagger $ can be obtain directly.   "
   ]
  },
  {
   "cell_type": "code",
   "execution_count": null,
   "metadata": {},
   "outputs": [],
   "source": [
    "import cirq\n",
    "from cirq import S, T\n",
    "\n",
    "# S†: S-dagger \n",
    "Sdg = cirq.inverse(S)\n",
    "print(\"S† is\")\n",
    "print(cirq.unitary(Sdg))\n",
    "print()\n",
    "\n",
    "# T†: T-dagger\n",
    "Tdg = cirq.inverse(T)\n",
    "print(\"T† is\")\n",
    "print(cirq.unitary(Tdg))\n",
    "print()"
   ]
  },
  {
   "cell_type": "markdown",
   "metadata": {},
   "source": [
    "## Sampling circuits\n",
    "\n",
    "We know that $ H (H \\ket{0}) = H\\ket{+} = \\ket{0} $.\n",
    "\n",
    "For each phase gate, say `G`, we design a circuit implementing $ HGH\\ket{0} $. Then, we measure it and collect statistics.\n",
    "\n",
    "We start with `Z` gate."
   ]
  },
  {
   "cell_type": "code",
   "execution_count": null,
   "metadata": {},
   "outputs": [],
   "source": [
    "import cirq\n",
    "from cirq import H, Z, measure\n",
    "\n",
    "circuit = cirq.Circuit()\n",
    "q0 = cirq.LineQubit(0)\n",
    "\n",
    "# Apply H\n",
    "circuit.append(H(q0))\n",
    "\n",
    "# apply Z gate\n",
    "circuit.append(Z(q0))\n",
    "\n",
    "# Apply H\n",
    "circuit.append(H(q0))\n",
    "\n",
    "circuit.append(measure(q0, key='result'))\n",
    "\n",
    "print(circuit)\n",
    "\n",
    "sim = cirq.Simulator()\n",
    "samples = sim.run(circuit, repetitions=1000)\n",
    "print(\"outcomes:\", samples.histogram(key='result'))\n"
   ]
  },
  {
   "cell_type": "markdown",
   "metadata": {},
   "source": [
    "<h3> Task 4 </h3>\n",
    "\n",
    "For each $ G \\in \\{ S, S^\\dagger,T,T^\\dagger \\} $:\n",
    "\n",
    "- design a circuit implementing $ HGH\\ket{0} $ followed by a measurement\n",
    "- print the circuit\n",
    "- run the circuit 1000 times and print the outcomes"
   ]
  },
  {
   "cell_type": "code",
   "execution_count": null,
   "metadata": {},
   "outputs": [],
   "source": [
    "#\n",
    "# your solution\n",
    "#\n"
   ]
  },
  {
   "cell_type": "markdown",
   "metadata": {},
   "source": [
    "To check out our solution, run the next cell:"
   ]
  },
  {
   "cell_type": "code",
   "execution_count": null,
   "metadata": {},
   "outputs": [],
   "source": [
    "SolutionToTask4()  # show solution for task 4"
   ]
  },
  {
   "cell_type": "markdown",
   "metadata": {},
   "source": [
    "<h3> Task 5 </h3>\n",
    "\n",
    "Do the calculations of Task 4 on a paper."
   ]
  }
 ],
 "metadata": {
  "kernelspec": {
   "display_name": "Python 3 (ipykernel)",
   "language": "python",
   "name": "python3"
  },
  "language_info": {
   "codemirror_mode": {
    "name": "ipython",
    "version": 3
   },
   "file_extension": ".py",
   "mimetype": "text/x-python",
   "name": "python",
   "nbconvert_exporter": "python",
   "pygments_lexer": "ipython3",
   "version": "3.11.4"
  }
 },
 "nbformat": 4,
 "nbformat_minor": 4
}
