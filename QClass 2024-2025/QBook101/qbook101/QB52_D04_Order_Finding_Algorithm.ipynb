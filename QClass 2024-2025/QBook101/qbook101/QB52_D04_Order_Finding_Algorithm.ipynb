{
 "cells": [
  {
   "cell_type": "markdown",
   "metadata": {},
   "source": [
    "<a href=\"https://qworld.net\" target=\"_blank\" align=\"left\"><img src=\"https://gitlab.com/qworld/qeducation/qbook101/raw/main/qworld/images/header.jpg\" align=\"left\"></a>\n",
    "$ \\newcommand{\\bra}[1]{\\langle #1|} $\n",
    "$ \\newcommand{\\ket}[1]{|#1\\rangle} $\n",
    "$ \\newcommand{\\braket}[2]{\\langle #1|#2\\rangle} $\n",
    "$ \\newcommand{\\dot}[2]{ #1 \\cdot #2} $\n",
    "$ \\newcommand{\\biginner}[2]{\\left\\langle #1,#2\\right\\rangle} $\n",
    "$ \\newcommand{\\mymatrix}[2]{\\left( \\begin{array}{#1} #2\\end{array} \\right)} $\n",
    "$ \\newcommand{\\myvector}[1]{\\mymatrix{c}{#1}} $\n",
    "$ \\newcommand{\\myrvector}[1]{\\mymatrix{r}{#1}} $\n",
    "$ \\newcommand{\\mypar}[1]{\\left( #1 \\right)} $\n",
    "$ \\newcommand{\\mybigpar}[1]{ \\Big( #1 \\Big)} $\n",
    "$ \\newcommand{\\sqrttwo}{\\frac{1}{\\sqrt{2}}} $\n",
    "$ \\newcommand{\\dsqrttwo}{\\dfrac{1}{\\sqrt{2}}} $\n",
    "$ \\newcommand{\\onehalf}{\\frac{1}{2}} $\n",
    "$ \\newcommand{\\donehalf}{\\dfrac{1}{2}} $\n",
    "$ \\newcommand{\\hadamard}{ \\mymatrix{rr}{ \\sqrttwo & \\sqrttwo \\\\ \\sqrttwo & -\\sqrttwo }} $\n",
    "$ \\newcommand{\\vzero}{\\myvector{1\\\\0}} $\n",
    "$ \\newcommand{\\vone}{\\myvector{0\\\\1}} $\n",
    "$ \\newcommand{\\stateplus}{\\myvector{ \\sqrttwo \\\\  \\sqrttwo } } $\n",
    "$ \\newcommand{\\stateminus}{ \\myrvector{ \\sqrttwo \\\\ -\\sqrttwo } } $\n",
    "$ \\newcommand{\\myarray}[2]{ \\begin{array}{#1}#2\\end{array}} $\n",
    "$ \\newcommand{\\X}{ \\mymatrix{cc}{0 & 1 \\\\ 1 & 0}  } $\n",
    "$ \\newcommand{\\Z}{ \\mymatrix{rr}{1 & 0 \\\\ 0 & -1}  } $\n",
    "$ \\newcommand{\\Htwo}{ \\mymatrix{rrrr}{ \\frac{1}{2} & \\frac{1}{2} & \\frac{1}{2} & \\frac{1}{2} \\\\ \\frac{1}{2} & -\\frac{1}{2} & \\frac{1}{2} & -\\frac{1}{2} \\\\ \\frac{1}{2} & \\frac{1}{2} & -\\frac{1}{2} & -\\frac{1}{2} \\\\ \\frac{1}{2} & -\\frac{1}{2} & -\\frac{1}{2} & \\frac{1}{2} } } $\n",
    "$ \\newcommand{\\CNOT}{ \\mymatrix{cccc}{1 & 0 & 0 & 0 \\\\ 0 & 1 & 0 & 0 \\\\ 0 & 0 & 0 & 1 \\\\ 0 & 0 & 1 & 0} } $\n",
    "$ \\newcommand{\\norm}[1]{ \\left\\lVert #1 \\right\\rVert } $\n",
    "$ \\newcommand{\\pstate}[1]{ \\lceil \\mspace{-1mu} #1 \\mspace{-1.5mu} \\rfloor } $\n",
    "$ \\newcommand{\\Y}{ \\mymatrix{rr}{0 & -i \\\\ i & 0} } $\n",
    "$ \\newcommand{\\S}{ \\mymatrix{rr}{1 & 0 \\\\ 0 & i} } $\n",
    "$ \\newcommand{\\T}{ \\mymatrix{rr}{1 & 0 \\\\ 0 & e^{i \\frac{\\pi}{4}}} } $\n",
    "$ \\newcommand{\\Sdg}{ \\mymatrix{rr}{1 & 0 \\\\ 0 & -i} } $ \n",
    "$ \\newcommand{\\Tdg}{ \\mymatrix{rr}{1 & 0 \\\\ 0 & e^{-i \\frac{\\pi}{4}}} } $\n",
    "$ \\newcommand{\\qgate}[1]{ \\mathop{\\textit{#1} } }$\n",
    "$\\newcommand{\\Mod}[1]{\\ (\\mathrm{mod}\\ #1)}$"
   ]
  },
  {
   "cell_type": "markdown",
   "metadata": {},
   "source": [
    "_prepared by Özlem Salehi and Abuzer Yakaryilmaz_\n",
    "<br><br>\n",
    "_Cirq adaptation by Claudia Zendejas-Morales_"
   ]
  },
  {
   "cell_type": "markdown",
   "metadata": {},
   "source": [
    "<font size=\"28px\" style=\"font-size:28px;\" align=\"left\"><b> Order Finding Algorithm </b></font>\n",
    "<br>\n",
    "<br><br>"
   ]
  },
  {
   "cell_type": "markdown",
   "metadata": {
    "jp-MarkdownHeadingCollapsed": true
   },
   "source": [
    "##### <font color=\"#08b806\">Please execute the following cell, it is necessary to distinguish between your local environment and Google Colab's"
   ]
  },
  {
   "cell_type": "code",
   "execution_count": null,
   "metadata": {},
   "outputs": [],
   "source": [
    "import IPython\n",
    "\n",
    "def in_colab():\n",
    "    try:\n",
    "        import google.colab\n",
    "        return True\n",
    "    except:\n",
    "        return False\n",
    "\n",
    "path_files = \"./\" if in_colab() else \"../qworld/include/\"\n",
    "\n",
    "SolutionToTask1 = lambda: IPython.display.display(IPython.display.Javascript('window.open(\"{url}\");'.format(url='https://colab.research.google.com/drive/1vmO57cdCWd9MPl4K9zQ5lx2pqnwv3Zz_?usp=sharing#scrollTo=V1hSncbJg9re' if in_colab() else 'QB52_D04_Order_Finding_Algorithm_Solutions.ipynb#task1')))\n",
    "SolutionToTask2 = lambda: IPython.display.display(IPython.display.Javascript('window.open(\"{url}\");'.format(url='https://colab.research.google.com/drive/1vmO57cdCWd9MPl4K9zQ5lx2pqnwv3Zz_?usp=sharing#scrollTo=zo5SZP_Gg9rf' if in_colab() else 'QB52_D04_Order_Finding_Algorithm_Solutions.ipynb#task2')))\n",
    "SolutionToTask3 = lambda: IPython.display.display(IPython.display.Javascript('window.open(\"{url}\");'.format(url='https://colab.research.google.com/drive/1vmO57cdCWd9MPl4K9zQ5lx2pqnwv3Zz_?usp=sharing#scrollTo=SBXhjqJAg9rf' if in_colab() else 'QB52_D04_Order_Finding_Algorithm_Solutions.ipynb#task3')))\n",
    "SolutionToTask4 = lambda: IPython.display.display(IPython.display.Javascript('window.open(\"{url}\");'.format(url='https://colab.research.google.com/drive/1vmO57cdCWd9MPl4K9zQ5lx2pqnwv3Zz_?usp=sharing#scrollTo=oSVPnHg5g9rg' if in_colab() else 'QB52_D04_Order_Finding_Algorithm_Solutions.ipynb#task4')))\n",
    "SolutionToTask5 = lambda: IPython.display.display(IPython.display.Javascript('window.open(\"{url}\");'.format(url='https://colab.research.google.com/drive/1vmO57cdCWd9MPl4K9zQ5lx2pqnwv3Zz_?usp=sharing#scrollTo=jCltmUh5g9rg' if in_colab() else 'QB52_D04_Order_Finding_Algorithm_Solutions.ipynb#task5')))\n",
    "SolutionToTask6 = lambda: IPython.display.display(IPython.display.Javascript('window.open(\"{url}\");'.format(url='https://colab.research.google.com/drive/1vmO57cdCWd9MPl4K9zQ5lx2pqnwv3Zz_?usp=sharing#scrollTo=0qR1Xnjjg9rh' if in_colab() else 'QB52_D04_Order_Finding_Algorithm_Solutions.ipynb#task6')))\n",
    "\n",
    "if in_colab():\n",
    "    url = \"https://gitlab.com/qworld/qeducation/qbook101/raw/main/qworld/include/shor.py\"\n",
    "    !wget --no-cache -O shor.py {url}\n",
    "    \n",
    "    !pip install cirq"
   ]
  },
  {
   "cell_type": "markdown",
   "metadata": {},
   "source": [
    "##### For positive integers $ x $ and $ N $ where $x<N$ with no common factors, order of $x$ is the smallest (least) positive integer $ r $ such that $x^r = 1\\Mod{N}$.\n",
    "\n",
    "In order finding algorithm, given $ x $ and $ N $, our goal is to find $ r $."
   ]
  },
  {
   "cell_type": "markdown",
   "metadata": {},
   "source": [
    "<h3>Task 1</h3>\n",
    "\n",
    "Let $x=5$ and $N=21$. Plot $x^ i \\Mod{N}$ for $i$ values between $1$ and $50$ and find the order of $x$."
   ]
  },
  {
   "cell_type": "code",
   "execution_count": null,
   "metadata": {},
   "outputs": [],
   "source": [
    "\n",
    "\n",
    "\n"
   ]
  },
  {
   "cell_type": "markdown",
   "metadata": {},
   "source": [
    "To check out our solution, run the next cell:"
   ]
  },
  {
   "cell_type": "code",
   "execution_count": null,
   "metadata": {},
   "outputs": [],
   "source": [
    "SolutionToTask1()  # show solution for task 1"
   ]
  },
  {
   "cell_type": "markdown",
   "metadata": {},
   "source": [
    "We do not know any classical algorithm solving this problem in polynomial time in the input size (the number of bits specifying the inputs ≈ $ \\log N $).\n",
    "\n",
    "On the other hand, it can be solved efficiently by using the phase estimation algorithm."
   ]
  },
  {
   "cell_type": "markdown",
   "metadata": {},
   "source": [
    "## Idea\n",
    "\n",
    "The pair $ (N,x) $ is given, where $ 1 < x < N $ and $ gcd(N,x) = 1 $ (they do not have any common factor greater than 1).\n",
    "\n",
    "Let $ L= \\big \\lceil  \\log N \\big \\rceil $\n",
    "\n",
    "Then, $ U_x $ is a classical reversible (and so quantum) operator which maps $ U_x \\ket{y} \\rightarrow \\ket{xy {\\Mod{N}}}$ where $y \\in \\{ 0, 1\\}^L$ and $ 0 \\leq  y\\leq N-1 $. \n",
    "\n",
    "We assume that $U \\ket{y} = \\ket{y}$ if $N \\leq y \\leq {2^L} - 1$.\n",
    "\n",
    "Even though we do not know the value of order $ r $, we know that $ U_x $ has some eigenvectors with eigenvalues having $ r $ as a part of phase. Thus, we may use phase estimation algorithm to find $ r $. "
   ]
  },
  {
   "cell_type": "markdown",
   "metadata": {},
   "source": [
    "<h3>Task 2 (on paper)</h3>\n",
    "\n",
    "Let $\\ket{v_0}=\\ket{1 \\Mod{N}}+\\ket{x\\Mod{N}}+\\ket{x^2\\Mod{N}}+ \\cdots + \\ket{x^{r-1}\\Mod{N}}$.\n",
    "\n",
    "Verify that $ \\ket{v_0} $ is an eigenvector of $ U_x $ with eigenvalue 1.\n",
    "\n",
    "Let $ \\omega = e^{2 \\pi i /r} $. \n",
    "\n",
    "We define $\\ket{v_1}=\\ket{1 \\Mod{N}}+ \\omega^{-1}\\ket{x\\Mod{N}}+\\omega^{-2}\\ket{x^2\\Mod{N}}+ \\cdots + \\omega^{-(r-1)}  \\ket{x^{r-1}\\Mod{N}}$\n",
    "\n",
    "Verify that $ \\ket{v_1} $ is also an eigenvector of $ U_x $ with eigenvalue $ \\omega $."
   ]
  },
  {
   "cell_type": "markdown",
   "metadata": {},
   "source": [
    "To check out our solution, run the next cell:"
   ]
  },
  {
   "cell_type": "code",
   "execution_count": null,
   "metadata": {},
   "outputs": [],
   "source": [
    "SolutionToTask2()  # show solution for task 2"
   ]
  },
  {
   "cell_type": "markdown",
   "metadata": {},
   "source": [
    "## A special set of eigenvectors\n",
    "\n",
    "Here are $ r $ eigenvectors of $ U_x $, where $ \\omega = e^{\\frac{2 \\pi i}{r}} $.\n",
    "\n",
    "$\n",
    "    \\begin{array}{rcl}\n",
    "    \\ket{u_0} & = & \n",
    "        \\dfrac{1}{\\sqrt{r}} \\mypar{\n",
    "        \\dfrac{ \\ket{1 \\Mod{N}} }{\\omega^0}+ \n",
    "        \\dfrac{ \\ket{x \\Mod{N}} }{\\omega^0}+ \n",
    "        \\dfrac{ \\ket{x^2\\Mod{N}} }{\\omega^0}+ \\cdots + \n",
    "        \\dfrac{ \\ket{x^{r-1}\\Mod{N}} }{\\omega^0}\n",
    "        }  \\\\\n",
    "    \\ket{u_1} & = & \n",
    "        \\dfrac{1}{\\sqrt{r}} \\mypar{\n",
    "        \\dfrac{ \\ket{1 \\Mod{N}} }{\\omega^0}+ \n",
    "        \\dfrac{ \\ket{x \\Mod{N}} }{\\omega^1}+ \n",
    "        \\dfrac{ \\ket{x^2\\Mod{N}} }{\\omega^2}+ \\cdots + \n",
    "        \\dfrac{ \\ket{x^{r-1}\\Mod{N}} }{\\omega^{r-1}}\n",
    "        }  \\\\\n",
    "    \\ket{u_2} & = & \n",
    "        \\dfrac{1}{\\sqrt{r}} \\mypar{\n",
    "        \\dfrac{ \\ket{1 \\Mod{N}} }{\\omega^0}+ \n",
    "        \\dfrac{ \\ket{x \\Mod{N}} }{\\omega^2}+ \n",
    "        \\dfrac{ \\ket{x^2\\Mod{N}} }{\\omega^4}+ \\cdots + \n",
    "        \\dfrac{ \\ket{x^{r-1}\\Mod{N}} }{\\omega^{2(r-1)}}\n",
    "        }  \\\\\n",
    "        \\vdots ~~~ & \\vdots & ~~~~~~~~~~~~~~ \\vdots \\\\\n",
    "     \\ket{u_{r-1}} & = & \n",
    "        \\dfrac{1}{\\sqrt{r}} \\mypar{\n",
    "        \\dfrac{ \\ket{1 \\Mod{N}} }{\\omega^{0}}+ \n",
    "        \\dfrac{ \\ket{x \\Mod{N}} }{\\omega^{r-1}}+ \n",
    "        \\dfrac{ \\ket{x^2\\Mod{N}} }{\\omega^{2(r-1)}}+ \\cdots + \n",
    "        \\dfrac{ \\ket{x^{r-1}\\Mod{N}} }{\\omega^{(r-1)(r-1)}}\n",
    "        }  \\\\\n",
    "    \\end{array}\n",
    "$"
   ]
  },
  {
   "cell_type": "markdown",
   "metadata": {},
   "source": [
    "Here each $ \\ket{u_s} $ is an eigenvector of $ U_x $ with eigenvalue $ \\omega^s = e^{ \\frac{2 \\pi i s}{r}} $, where  ($ 0 \\leq s \\leq r-1 $):\n",
    "\n",
    "$\n",
    "\\begin{array}{rcl}\n",
    "    U_x \\ket{u_s} & = & U_x \\dfrac{1}{\\sqrt{r}} \\mypar{\n",
    "        \\dfrac{ \\ket{1 \\Mod{N}} }{\\omega^{0}}+\n",
    "        \\dfrac{ \\ket{x \\Mod{N}} }{\\omega^{s}}+\n",
    "        \\dfrac{ \\ket{x^2\\Mod{N}} }{\\omega^{2s}}+ \\cdots +\n",
    "        \\dfrac{ \\ket{x^{r-1}\\Mod{N}} }{\\omega^{(r-1)s}} } \\\\\n",
    "        & = & \\dfrac{1}{\\sqrt{r}} \\mypar{\n",
    "        \\dfrac{ \\ket{x \\Mod{N}} }{\\omega^{0}}+\n",
    "        \\dfrac{ \\ket{x^2 \\Mod{N}} }{\\omega^{s}}+\n",
    "        \\dfrac{ \\ket{x^3\\Mod{N}} }{\\omega^{2s}}+ \\cdots +\n",
    "        \\dfrac{ \\ket{x^{r}\\Mod{N}} }{\\omega^{(r-1)s}} } \\\\\n",
    "        & = & \\dfrac{1}{\\sqrt{r}} \\mypar{\n",
    "        \\dfrac{ \\ket{1 \\Mod{N}} }{\\omega^{(r-1)s}}+\n",
    "        \\dfrac{ \\ket{x \\Mod{N}} }{\\omega^{0}}+\n",
    "        \\dfrac{ \\ket{x^2\\Mod{N}} }{\\omega^{s}}+ \\cdots +\n",
    "        \\dfrac{ \\ket{x^{r-1}\\Mod{N}} }{\\omega^{(r-2)s}} } \\\\\n",
    "        & = & \\dfrac{\\omega^s}{\\sqrt{r}} \\mypar{\n",
    "        \\dfrac{ \\ket{1 \\Mod{N}} }{\\omega^{rs}}+\n",
    "        \\dfrac{ \\ket{x \\Mod{N}} }{\\omega^{s}}+\n",
    "        \\dfrac{ \\ket{x^2\\Mod{N}} }{\\omega^{2s}}+ \\cdots +\n",
    "        \\dfrac{ \\ket{x^{r-1}\\Mod{N}} }{\\omega^{(r-1)s}} } \\\\\n",
    "        & = & \\dfrac{\\omega^s}{\\sqrt{r}} \\mypar{\n",
    "        \\dfrac{ \\ket{1 \\Mod{N}} }{\\omega^{0}}+\n",
    "        \\dfrac{ \\ket{x \\Mod{N}} }{\\omega^{s}}+\n",
    "        \\dfrac{ \\ket{x^2\\Mod{N}} }{\\omega^{2s}}+ \\cdots +\n",
    "        \\dfrac{ \\ket{x^{r-1}\\Mod{N}} }{\\omega^{(r-1)s}} } \\\\\n",
    "        & = & \\omega^s \\ket{u_s}\n",
    "\\end{array}\n",
    "$\n",
    "\n",
    "Remark that each $ \\ket{u_s} $ has length 1 and so a quantum state. Besides, they are pairwise orthonormal."
   ]
  },
  {
   "cell_type": "markdown",
   "metadata": {},
   "source": [
    "Information about $ r $ is encoded inside the eigenvalues of the operator $ U_x $ and we will use phase estimation algorithm to estimate $ \\frac{s}{r} $. In order to apply phase estimation algorithm, we need to prepare the second register to hold state $ \\ket{u_s} $,  but there is a problem. The eigenvector has the variable $ r $ while our aim is to find $ r $. How will we prepare the eigenvector? "
   ]
  },
  {
   "cell_type": "markdown",
   "metadata": {},
   "source": [
    "Instead, we will prepare a superposition of these eigenvectors $\\displaystyle \\frac{1}{\\sqrt{r}}\\sum_{s=0}^{r-1}\\ket{u_s}$."
   ]
  },
  {
   "cell_type": "markdown",
   "metadata": {},
   "source": [
    "<h3>Task 3 (on paper)</h3>\n",
    "\n",
    "Show that $\\displaystyle \\frac{1}{\\sqrt{r}}\\sum_{s=0}^{r-1}\\ket{u_s}= \\ket{1}$."
   ]
  },
  {
   "cell_type": "markdown",
   "metadata": {},
   "source": [
    "To check out our solution, run the next cell:"
   ]
  },
  {
   "cell_type": "code",
   "execution_count": null,
   "metadata": {},
   "outputs": [],
   "source": [
    "SolutionToTask3()  # show solution for task 3"
   ]
  },
  {
   "cell_type": "markdown",
   "metadata": {},
   "source": [
    "## Input vector\n",
    "\n",
    "Suppose that phase estimation algorithm takes state $\\ket{0}\\ket{u}$ to state $\\ket{\\tilde{\\phi_u}}\\ket{u}$. In this case given input $\\ket{0} \\sum_{u} c_u \\ket{u}$, algorithm outputs $\\sum_{u} c_u\\ket{\\tilde{\\phi_u}}\\ket{u}$. \n",
    "\n",
    "If $ t $ is chosen as previously, then it can be proven that the probability of measuring $\\phi_u$ accurate to $ n $ bits is at least $|c_u|^2(1- \\epsilon)$.\n",
    "\n",
    "Hence by combining this with Task 2, we can prepare the second register to hold state $\\ket{1}$ at the beginning of the algorithm."
   ]
  },
  {
   "cell_type": "markdown",
   "metadata": {},
   "source": [
    "<h2>Procedure </h2>\n",
    "\n",
    "We use two registers with $ t $ and $ L $ qubits.\n",
    "\n",
    "We pick $ t = 2L + 1 + \\big \\lceil \\log \\big(2 + \\frac{1}{2\\epsilon}\\big) \\big \\rceil  $. (Choice of $ t $ will become clear later on.)"
   ]
  },
  {
   "cell_type": "markdown",
   "metadata": {},
   "source": [
    "1) Initialize the registers as \n",
    "\n",
    "$\\displaystyle \\ket{\\psi_0} = \\frac{1}{\\sqrt{r}}\\sum_{s=0}^{r-1}\\ket{0}\\ket{u_s} =\\ket{0}\\ket{1} .$\n",
    "\t\t"
   ]
  },
  {
   "cell_type": "markdown",
   "metadata": {},
   "source": [
    "Note that here by $ \\ket{0} $, we denote $ \\ket{0}^{\\otimes t} $ and by $ \\ket{1} $ we denote $ \\ket{0}^{L-1}\\ket{1} $.\n",
    "\t\t"
   ]
  },
  {
   "cell_type": "markdown",
   "metadata": {},
   "source": [
    "2) Apply $ H $ and $ CU^{2^j} $ gates in the phase estimation algorithm.\n",
    "\n",
    "$ \\displaystyle\n",
    "\t\t\\ket{\\psi_1}=\\frac{1}{\\sqrt{r}}\\sum_{s=0}^{r-1}\\frac{1}{{2^{t/2}}}\\sum_{k=0}^{{2^t}-1}e^{\\frac{2{\\pi}i s k}{r}}\\ket{k}\\ket{u_s}\n",
    "$\n",
    "\t"
   ]
  },
  {
   "cell_type": "markdown",
   "metadata": {},
   "source": [
    "3) Apply Inverse QFT to the first register.\n",
    "\n",
    "$\\displaystyle \n",
    "\t\t\\frac{1}{\\sqrt{r}}\\sum_{s=0}^{r-1}\\ket{\\tilde{\\phi}}\\ket{u_s}\n",
    "$"
   ]
  },
  {
   "cell_type": "markdown",
   "metadata": {},
   "source": [
    "4) Measure the first register ($t$ qubits).\n",
    "\n",
    "For each $ s $ in the range $ 0,\\ldots, r-1 $, we obtain an estimate of the phase $\\tilde{\\phi} = \\frac{s}{r}$ accurate to $ 2L+1 $ bits with probability at least $ \\frac{1-\\epsilon}{r} $."
   ]
  },
  {
   "cell_type": "markdown",
   "metadata": {},
   "source": [
    "Note that if $r$ is not a power of 2, then it can not be expressed in the form $\\frac{x}{N}$ for some $ x $ and $ N=2^t $. \n"
   ]
  },
  {
   "cell_type": "markdown",
   "metadata": {},
   "source": [
    "5) Do post-processing by using classical computer.\n",
    "\n",
    "Now the question is how to find $ r $ from the estimate of $ s/r $?\n",
    "\n",
    "The answer is using continued fractions."
   ]
  },
  {
   "cell_type": "markdown",
   "metadata": {},
   "source": [
    "<h2>Continued Fractions</h2>\n",
    "\n",
    "Continued fractions is a representation of a real number by a sequence of (possibly infinite) integers by using expressions of the form:\n",
    "\n",
    "$\n",
    "\t[a_0,...a_n] = a_0 + \\frac{1}{a_1 + \\frac{1}{a_2 + \\frac{1}{...}}}.\n",
    "$\n",
    "\t"
   ]
  },
  {
   "cell_type": "markdown",
   "metadata": {},
   "source": [
    "The rationals $a_0,a_0+\\frac{1}{a_1},a_0+\\frac{1}{a_1+\\frac{1}{a_2}},...$ are called the convergents. All convergents  can be found using $O(L^3)$ operations where $ L $ is the number of bits needed to express $ m $ and $ n $ in $ \\frac{m}{n} $.\n",
    "\t"
   ]
  },
  {
   "cell_type": "markdown",
   "metadata": {},
   "source": [
    "### Example"
   ]
  },
  {
   "cell_type": "markdown",
   "metadata": {},
   "source": [
    "$\\frac{25}{11}$  can be expressed as $\\frac{25}{11}=2+\\frac{3}{11}$. Continuing like this,\n",
    "\n",
    "\\begin{align*}\n",
    "\t\t=2+\\frac{1}{3+\\frac{2}{3}} = 2+\\frac{1}{3+\\frac{1}{\\frac{3}{2}}}\n",
    "\t\t\\end{align*}\n",
    "        \n",
    "        \n",
    "\n",
    "The resulting expression will be \n",
    "\n",
    "\\begin{align*}\n",
    "2+\\frac{1}{3+\\frac{1}{1 + \\frac{1}{2}}}\n",
    "\\end{align*}\n",
    "\n",
    "with the continued fraction expression $[2,3,1,2]$. \n",
    "\n",
    "\n",
    "The convergents are $c_1=2$, $c_2=2 + \\frac{1}{3} = \\frac{7}{3} $, $c_3 = 2 + \\frac{1}{3 + \\frac{1}{1}} = \\frac{9}{4}$, $c_4 = 2+ \\frac{ 1}{3 + \\frac{1}{1 + \\frac{1}{2}}} = \\frac{25}{11}$"
   ]
  },
  {
   "cell_type": "markdown",
   "metadata": {},
   "source": [
    "We defined two functions to calculate continued fractions expression and the convergents, which will be useful in the following tasks. \n",
    "\n",
    "- <i>contFrac</i> takes a parameter $N$ and returns the continued fractions expressions of $N$ as a list\n",
    "- <i>convergents</i> takes as paremeter the continued fractions expression and returns the list of convergents"
   ]
  },
  {
   "cell_type": "markdown",
   "metadata": {},
   "source": [
    "Run the following cell to load the functions."
   ]
  },
  {
   "cell_type": "code",
   "execution_count": null,
   "metadata": {},
   "outputs": [],
   "source": [
    "quantum_file = path_files+\"shor.py\"\n",
    "%run $quantum_file"
   ]
  },
  {
   "cell_type": "markdown",
   "metadata": {},
   "source": [
    "Below you see example usage of <i>contFrac</i> and <i>convergents</i> methods."
   ]
  },
  {
   "cell_type": "code",
   "execution_count": null,
   "metadata": {},
   "outputs": [],
   "source": [
    "cf = contFrac(25/11)\n",
    "print(cf)"
   ]
  },
  {
   "cell_type": "code",
   "execution_count": null,
   "metadata": {},
   "outputs": [],
   "source": [
    "cv = convergents(cf)\n",
    "print(cv)"
   ]
  },
  {
   "cell_type": "code",
   "execution_count": null,
   "metadata": {},
   "outputs": [],
   "source": [
    "cv = convergents([1,4,2,1])\n",
    "print(cv)"
   ]
  },
  {
   "cell_type": "markdown",
   "metadata": {},
   "source": [
    "<h3>Task 4</h3>\n",
    "\n",
    "Find the continued fractions expression for $\\frac{31}{13}$ and the convergents first using pen and paper and then using the functions defined above."
   ]
  },
  {
   "cell_type": "code",
   "execution_count": null,
   "metadata": {},
   "outputs": [],
   "source": [
    "#Your code here\n",
    "\n"
   ]
  },
  {
   "cell_type": "markdown",
   "metadata": {},
   "source": [
    "To check out our solution, run the next cell:"
   ]
  },
  {
   "cell_type": "code",
   "execution_count": null,
   "metadata": {},
   "outputs": [],
   "source": [
    "SolutionToTask4()  # show solution for task 4"
   ]
  },
  {
   "cell_type": "markdown",
   "metadata": {},
   "source": [
    "### Choice of t (optional)\n",
    "\n",
    "Following theorem guarantees that the continued fractions algorithm yields a good estimate for $\\phi$.\n",
    "\n",
    "<b>Theorem:</b> \tSuppose $\\frac{s}{r}$ is a rational number so that  $\\displaystyle\\left |\\frac{s}{r}-\\phi \\right | \\leq \\frac{1}{2r^2}$. Then $\\displaystyle \\frac{s}{r}$ is a convergent of the continued fraction for $\\phi$, and thus can be computed in $O(L^3)$ operations, using continued fraction algorithm."
   ]
  },
  {
   "cell_type": "markdown",
   "metadata": {},
   "source": [
    "Remember that $\\phi$ is an approximation to $\\frac{s}{r}$ accurate to $2L+1$ bits due to our choice of $t$. Since $r\\leq N \\leq 2^L$, we get $\n",
    "\\left |\\frac{s}{r}-\\phi \\right | \\leq \\frac{1}{2^{2L+1}} \\leq \\frac{1}{2r^2}. $"
   ]
  },
  {
   "cell_type": "markdown",
   "metadata": {},
   "source": [
    "\t\n",
    "Now according to the theorem, $\\frac{s}{r}$ is a convergent of the continued fraction for $\\phi$.\n",
    "\t\n",
    "    "
   ]
  },
  {
   "cell_type": "markdown",
   "metadata": {},
   "source": [
    "Computing the convergents we have candidate values for $s$ and $r$ and then we can test if $x^r=1 \\Mod{N}$. (Remember that we have more than one convergent and we compute each one of them but not all of them will give us the correct $r$ value. So it might be the case that we fail in some cases)"
   ]
  },
  {
   "cell_type": "markdown",
   "metadata": {},
   "source": [
    "<h2> Modular Exponentiation</h2>\n",
    "\n",
    "In the phase estimation procedure, we have assumed that we were given operators $U$, $CU$ and their powers as blackbox functions. In reality, $ CU^{2^j} $ operators should be implemented efficiently to have a speedup against the classical algorithm. \n",
    "\n",
    "Note that to compute $x^{2^j}$, you don't need to perform $2^j$ multiplications. Once you obtain $x^2$, you can obtain $x^4$, $x^8$ so that you need only log$j$ multiplications. Nevertheless, multiplication involves implementation of addition and carries. \n",
    "\n",
    "The important thing is that it can be performed using $ O(L^3) $ gates by using a procedure known as modular exponentiation. This is a technical procedure and instead we will continue implementing $ CU^{2^j} $ operators with the built-in functionality of $Cirq$. \n",
    "\n",
    "_More details about modular exponentiation can be found in https://arxiv.org/pdf/1207.0511.pdf._"
   ]
  },
  {
   "cell_type": "markdown",
   "metadata": {},
   "source": [
    "<a id =\"task5\"></a>\n",
    "<h3>Task 5</h3>\n",
    "\n",
    "You are given a function named `opUx` which returns the gate implementing $ U_x \\ket{y} \\rightarrow \\ket{xy {\\Mod{N}}}$."
   ]
  },
  {
   "cell_type": "code",
   "execution_count": null,
   "metadata": {},
   "outputs": [],
   "source": [
    "import cirq\n",
    "import numpy as np\n",
    "\n",
    "def opUx(N, x):\n",
    "\n",
    "    k = 1\n",
    "    while(N > 2**k):\n",
    "        k = k + 1\n",
    "        \n",
    "    u = np.zeros([2**k, 2**k], dtype = int)\n",
    "\n",
    "    for i in range(N):\n",
    "        u[x*i % N][i] = 1\n",
    "    for i in range(N, 2**k):\n",
    "        u[i][i] = 1\n",
    "\n",
    "    return cirq.MatrixGate(u, name='Ux').controlled()\n"
   ]
  },
  {
   "cell_type": "markdown",
   "metadata": {},
   "source": [
    "_In order to use the function you should pass $N$ and $x$ as parameter: `Ux = opUx(N, x)`._"
   ]
  },
  {
   "cell_type": "markdown",
   "metadata": {},
   "source": [
    "For $N=20$ and $x=3$, use phase estimation procedure to find the estimates for $\\frac{s}{r}$. \n",
    "\n",
    "Pick the correct values for $t$ and $L$. \n",
    "\n",
    "Use `myInvQFT` function you have already implemented [here](https://colab.research.google.com/drive/1C0_tK9KD7iHrsmwqdsHtG6i_J0CYs85o?usp=sharing#scrollTo=leUvkPgoA7mb). \n",
    "\n",
    "Detect the outcomes with peak frequencies (will be used in the next task)."
   ]
  },
  {
   "cell_type": "code",
   "execution_count": null,
   "metadata": {},
   "outputs": [],
   "source": [
    "#\n",
    "# Your code here\n",
    "#"
   ]
  },
  {
   "cell_type": "markdown",
   "metadata": {},
   "source": [
    "To check out our solution, run the next cell:"
   ]
  },
  {
   "cell_type": "code",
   "execution_count": null,
   "metadata": {},
   "outputs": [],
   "source": [
    "SolutionToTask5()  # show solution for task 5"
   ]
  },
  {
   "cell_type": "markdown",
   "metadata": {},
   "source": [
    "<a id =\"task6\"></a>\n",
    "<h3>Task 6</h3>\n",
    "\n",
    "For each one of the possible outcomes in Task 5, try to find out the value of $r$ using continued fractions algorithm. \n",
    "\n",
    "You can use the functions defined above."
   ]
  },
  {
   "cell_type": "code",
   "execution_count": null,
   "metadata": {},
   "outputs": [],
   "source": [
    "#\n",
    "# Your code here\n",
    "#"
   ]
  },
  {
   "cell_type": "markdown",
   "metadata": {},
   "source": [
    "To check out our solution, run the next cell:"
   ]
  },
  {
   "cell_type": "code",
   "execution_count": null,
   "metadata": {},
   "outputs": [],
   "source": [
    "SolutionToTask6()  # show solution for task 6"
   ]
  },
  {
   "cell_type": "markdown",
   "metadata": {},
   "source": [
    "<h2>Remarks about the algorithm</h2>\n",
    "\t\n",
    "The algorithm might produce a bad estimate to $\\frac{s}{r}$ which occurs with probability at most $ \\epsilon $. We can decrease $ \\epsilon $ with the cost of increasing the size of the circuit.\n",
    "\n",
    "The numbers $s$ and $r$ may have a common factor, and we may get $r'$ (which is a factor of $r$) instead of $r$. Nevertheless, the number of primes which are less than $r$ is at least $\\frac{r}{2}\\log r$. With a constant number of repetitions of the algorithm, one can obtain $s$ and $r$ which are relatively prime with high probability.\n",
    "\n",
    "Overall, we have an algorithm which uses $O(L^3)$ gates, $ O(L) $ qubits and constant repetitions. \n",
    "- Hadamard operation at the beginning requires $ O(L) $ gates\n",
    "- $ O(L^2) $ gates are required by $QFT^\\dagger $\n",
    "- $ O(L^3) $ gates are needed for modular exponentiation\n",
    "- Continued fraction algorithm requires $ O(L^3) $ classical processing \n",
    "\n",
    "The best classical algorithm for order finding is of exponential time while we have a polynomial size quantum circuit for order finding. "
   ]
  }
 ],
 "metadata": {
  "kernelspec": {
   "display_name": "Python 3 (ipykernel)",
   "language": "python",
   "name": "python3"
  },
  "language_info": {
   "codemirror_mode": {
    "name": "ipython",
    "version": 3
   },
   "file_extension": ".py",
   "mimetype": "text/x-python",
   "name": "python",
   "nbconvert_exporter": "python",
   "pygments_lexer": "ipython3",
   "version": "3.11.4"
  }
 },
 "nbformat": 4,
 "nbformat_minor": 4
}
