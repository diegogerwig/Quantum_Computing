{
 "cells": [
  {
   "cell_type": "markdown",
   "metadata": {},
   "source": [
    "<a href=\"https://qworld.net\" target=\"_blank\" align=\"left\"><img src=\"https://gitlab.com/qworld/qeducation/qbook101/raw/main/qworld/images/header.jpg\" align=\"left\"></a>\n",
    "$ \\newcommand{\\bra}[1]{\\langle #1|} $\n",
    "$ \\newcommand{\\ket}[1]{|#1\\rangle} $\n",
    "$ \\newcommand{\\braket}[2]{\\langle #1|#2\\rangle} $\n",
    "$ \\newcommand{\\dot}[2]{ #1 \\cdot #2} $\n",
    "$ \\newcommand{\\biginner}[2]{\\left\\langle #1,#2\\right\\rangle} $\n",
    "$ \\newcommand{\\mymatrix}[2]{\\left( \\begin{array}{#1} #2\\end{array} \\right)} $\n",
    "$ \\newcommand{\\myvector}[1]{\\mymatrix{c}{#1}} $\n",
    "$ \\newcommand{\\myrvector}[1]{\\mymatrix{r}{#1}} $\n",
    "$ \\newcommand{\\mypar}[1]{\\left( #1 \\right)} $\n",
    "$ \\newcommand{\\mybigpar}[1]{ \\Big( #1 \\Big)} $\n",
    "$ \\newcommand{\\sqrttwo}{\\frac{1}{\\sqrt{2}}} $\n",
    "$ \\newcommand{\\dsqrttwo}{\\dfrac{1}{\\sqrt{2}}} $\n",
    "$ \\newcommand{\\onehalf}{\\frac{1}{2}} $\n",
    "$ \\newcommand{\\donehalf}{\\dfrac{1}{2}} $\n",
    "$ \\newcommand{\\hadamard}{ \\mymatrix{rr}{ \\sqrttwo & \\sqrttwo \\\\ \\sqrttwo & -\\sqrttwo }} $\n",
    "$ \\newcommand{\\vzero}{\\myvector{1\\\\0}} $\n",
    "$ \\newcommand{\\vone}{\\myvector{0\\\\1}} $\n",
    "$ \\newcommand{\\stateplus}{\\myvector{ \\sqrttwo \\\\  \\sqrttwo } } $\n",
    "$ \\newcommand{\\stateminus}{ \\myrvector{ \\sqrttwo \\\\ -\\sqrttwo } } $\n",
    "$ \\newcommand{\\myarray}[2]{ \\begin{array}{#1}#2\\end{array}} $\n",
    "$ \\newcommand{\\X}{ \\mymatrix{cc}{0 & 1 \\\\ 1 & 0}  } $\n",
    "$ \\newcommand{\\Z}{ \\mymatrix{rr}{1 & 0 \\\\ 0 & -1}  } $\n",
    "$ \\newcommand{\\Htwo}{ \\mymatrix{rrrr}{ \\frac{1}{2} & \\frac{1}{2} & \\frac{1}{2} & \\frac{1}{2} \\\\ \\frac{1}{2} & -\\frac{1}{2} & \\frac{1}{2} & -\\frac{1}{2} \\\\ \\frac{1}{2} & \\frac{1}{2} & -\\frac{1}{2} & -\\frac{1}{2} \\\\ \\frac{1}{2} & -\\frac{1}{2} & -\\frac{1}{2} & \\frac{1}{2} } } $\n",
    "$ \\newcommand{\\CNOT}{ \\mymatrix{cccc}{1 & 0 & 0 & 0 \\\\ 0 & 1 & 0 & 0 \\\\ 0 & 0 & 0 & 1 \\\\ 0 & 0 & 1 & 0} } $\n",
    "$ \\newcommand{\\norm}[1]{ \\left\\lVert #1 \\right\\rVert } $\n",
    "$ \\newcommand{\\pstate}[1]{ \\lceil \\mspace{-1mu} #1 \\mspace{-1.5mu} \\rfloor } $"
   ]
  },
  {
   "cell_type": "markdown",
   "metadata": {},
   "source": [
    "_prepared by Claudia Zendejas-Morales_"
   ]
  },
  {
   "cell_type": "markdown",
   "metadata": {},
   "source": [
    "<font size=\"28px\" style=\"font-size:28px;\" align=\"left\"><b> Qubit: Two-level Quantum System </b></font>\n",
    "<br>\n",
    "<br><br>"
   ]
  },
  {
   "cell_type": "markdown",
   "metadata": {
    "jp-MarkdownHeadingCollapsed": true
   },
   "source": [
    "##### <font color=\"#08b806\">Please execute the following cell, it is necessary to distinguish between your local environment and Google Colab's"
   ]
  },
  {
   "cell_type": "code",
   "execution_count": null,
   "metadata": {},
   "outputs": [],
   "source": [
    "import IPython\n",
    "\n",
    "def in_colab():\n",
    "    try:\n",
    "        import google.colab\n",
    "        return True\n",
    "    except:\n",
    "        return False\n",
    "\n",
    "SolutionToTask1 = lambda: IPython.display.display(IPython.display.Javascript('window.open(\"{url}\");'.format(url='https://colab.research.google.com/drive/1x-4FTi3w6qxJHYU45nVTlUnOaEXh921G?usp=sharing#scrollTo=VZKacNeyPMbN' if in_colab() else 'QB12_IQ02_Hilbert_Spaces_Solutions.ipynb#task1')))\n",
    "SolutionToTask2 = lambda: IPython.display.display(IPython.display.Javascript('window.open(\"{url}\");'.format(url='https://colab.research.google.com/drive/1x-4FTi3w6qxJHYU45nVTlUnOaEXh921G?usp=sharing#scrollTo=ITaFu21cPMbO' if in_colab() else 'QB12_IQ02_Hilbert_Spaces_Solutions.ipynb#task2')))"
   ]
  },
  {
   "cell_type": "markdown",
   "metadata": {},
   "source": [
    "# Hilbert Space"
   ]
  },
  {
   "cell_type": "markdown",
   "metadata": {},
   "source": [
    "A **Hilbert space** $\\mathscr{H}$ is a _vector space_ with an _inner product_. Hilbert spaces are also called _inner product spaces_.\n",
    "\n",
    "The Hilbert spaces that we are going to consider here will be those that go over the field of _complex numbers_, and that are _finite dimensional_, which simplifies the mathematics that we need.\n",
    "\n",
    "Since we consider $\\mathscr{H}$ finite-dimensional, we can choose a basis and alternatively represent vectors in this basis as finite column vectors, and represent operators with finite matrices as well.\n",
    "\n",
    "The Hilbert spaces of interest for quantum computing will typically have dimension $2^n$, for some positive integer $n$. This is because, as with classical information, we will construct larger state spaces by concatenating a string of smaller systems, usually of size two."
   ]
  },
  {
   "cell_type": "markdown",
   "metadata": {},
   "source": [
    "# Qubit"
   ]
  },
  {
   "cell_type": "markdown",
   "metadata": {},
   "source": [
    "A **qubit** is the basic unit of quantum information (the quantum version of the classic binary bit). A qubit is a two-state (or two-level) quantum mechanical system; therefore, qubits live within the Hilbert space of dimension $2$.\n",
    "\n",
    "The general quantum state of a qubit can be represented by a linear superposition of its two orthonormal basis states (or basis vectors). These vectors are usually denoted as \n",
    "\n",
    "$$\\ket{0}=\\mymatrix{r}{1 \\\\ 0}~~~~~~,~~~~~~~\\ket{1}=\\mymatrix{r}{0 \\\\ 1}$$\n",
    "\n",
    "These two states are called the computational basis and span the two-dimensional linear space of the qubit.\n",
    "\n",
    "A qubit is generally expressed as the superposition of the basis states:\n",
    "\n",
    "$$\\ket{\\psi}=\\alpha\\ket{0}+\\beta\\ket{1}$$\n",
    "\n",
    "where $\\alpha$ and $\\beta$ are complex numbers and $|\\alpha|^2+|\\beta|^2=1$."
   ]
  },
  {
   "cell_type": "markdown",
   "metadata": {},
   "source": [
    "<h3> Task 1 (on paper)</h3>\n",
    "\n",
    "Verify that the states that form the computational basis of a qubit are orthonormal to each other."
   ]
  },
  {
   "cell_type": "markdown",
   "metadata": {},
   "source": [
    "To check out our solution, run the next cell:"
   ]
  },
  {
   "cell_type": "code",
   "execution_count": null,
   "metadata": {},
   "outputs": [],
   "source": [
    "SolutionToTask1()  # show solution for task 1"
   ]
  },
  {
   "cell_type": "markdown",
   "metadata": {},
   "source": [
    "An $n$-qubit basis state is described by a $2^n$-dimensional vector. In the Dirac notation, we represent this vector by a binary string of length $n$, but the column vector representation would have $2^n$ components. For states on $2$ or $3$ qubits this is not terribly significant, but imagine writing an $8$-qubit state using column vectors, the column vectors would have $2^8 = 256$ components, which could be somewhat cumbersome to write out. That is why the use of Dirac notation is important.\n",
    "\n",
    "The system composed of two qubits $\\ket{\\psi}$ and $\\ket{\\phi}$ is $4$-dimensional, since the composite system is expressed as\n",
    "\n",
    "$$\\ket{\\psi}\\otimes\\ket{\\phi}=\\ket{\\psi}\\ket{\\phi}=\\ket{\\psi\\phi}$$\n",
    "\n",
    "where the $\\otimes$ symbol represents the tensor product of the two vectors $\\ket{\\psi}$ and $\\ket{\\phi}$.\n",
    "\n",
    "For example, if we have $\\beta=0$ for both qubits, then we have $\\ket{\\psi}=\\ket{0}$ and $\\ket{\\phi}=\\ket{0}$, thus the composite system can be written as\n",
    "\n",
    "$$\\ket{0}\\otimes\\ket{0}=\\ket{0}\\ket{0}=\\ket{00}$$"
   ]
  },
  {
   "cell_type": "markdown",
   "metadata": {},
   "source": [
    "<h3> Task 2 (on paper)</h3>\n",
    "\n",
    "Write the vectors of the $4$-dimensional Hilbert space, that is, the combinations of states for a $2$-qubit system."
   ]
  },
  {
   "cell_type": "markdown",
   "metadata": {},
   "source": [
    "To check out our solution, run the next cell:"
   ]
  },
  {
   "cell_type": "code",
   "execution_count": null,
   "metadata": {},
   "outputs": [],
   "source": [
    "SolutionToTask2()  # show solution for task 2"
   ]
  }
 ],
 "metadata": {
  "kernelspec": {
   "display_name": "Python 3 (ipykernel)",
   "language": "python",
   "name": "python3"
  },
  "language_info": {
   "codemirror_mode": {
    "name": "ipython",
    "version": 3
   },
   "file_extension": ".py",
   "mimetype": "text/x-python",
   "name": "python",
   "nbconvert_exporter": "python",
   "pygments_lexer": "ipython3",
   "version": "3.11.4"
  }
 },
 "nbformat": 4,
 "nbformat_minor": 4
}
