{
 "cells": [
  {
   "cell_type": "markdown",
   "metadata": {},
   "source": [
    "<a href=\"https://qworld.net\" target=\"_blank\" align=\"left\"><img src=\"https://gitlab.com/qworld/qeducation/qbook101/raw/main/qworld/images/header.jpg\" align=\"left\"></a>\n",
    "$ \\newcommand{\\bra}[1]{\\langle #1|} $\n",
    "$ \\newcommand{\\ket}[1]{|#1\\rangle} $\n",
    "$ \\newcommand{\\braket}[2]{\\langle #1|#2\\rangle} $\n",
    "$ \\newcommand{\\dot}[2]{ #1 \\cdot #2} $\n",
    "$ \\newcommand{\\inner}[2]{\\langle #1,#2\\rangle} $\n",
    "$ \\newcommand{\\biginner}[2]{\\left\\langle #1,#2\\right\\rangle} $\n",
    "$ \\newcommand{\\mymatrix}[2]{\\left( \\begin{array}{#1} #2\\end{array} \\right)} $\n",
    "$ \\newcommand{\\myvector}[1]{\\mymatrix{c}{#1}} $\n",
    "$ \\newcommand{\\myrvector}[1]{\\mymatrix{r}{#1}} $\n",
    "$ \\newcommand{\\mypar}[1]{\\left( #1 \\right)} $\n",
    "$ \\newcommand{\\mybigpar}[1]{ \\Big( #1 \\Big)} $\n",
    "$ \\newcommand{\\sqrttwo}{\\frac{1}{\\sqrt{2}}} $\n",
    "$ \\newcommand{\\dsqrttwo}{\\dfrac{1}{\\sqrt{2}}} $\n",
    "$ \\newcommand{\\onehalf}{\\frac{1}{2}} $\n",
    "$ \\newcommand{\\donehalf}{\\dfrac{1}{2}} $\n",
    "$ \\newcommand{\\hadamard}{ \\mymatrix{rr}{ \\sqrttwo & \\sqrttwo \\\\ \\sqrttwo & -\\sqrttwo }} $\n",
    "$ \\newcommand{\\vzero}{\\myvector{1\\\\0}} $\n",
    "$ \\newcommand{\\vone}{\\myvector{0\\\\1}} $\n",
    "$ \\newcommand{\\stateplus}{\\myvector{ \\sqrttwo \\\\  \\sqrttwo } } $\n",
    "$ \\newcommand{\\stateminus}{ \\myrvector{ \\sqrttwo \\\\ -\\sqrttwo } } $\n",
    "$ \\newcommand{\\myarray}[2]{ \\begin{array}{#1}#2\\end{array}} $\n",
    "$ \\newcommand{\\X}{ \\mymatrix{cc}{0 & 1 \\\\ 1 & 0}  } $\n",
    "$ \\newcommand{\\Z}{ \\mymatrix{rr}{1 & 0 \\\\ 0 & -1}  } $\n",
    "$ \\newcommand{\\Htwo}{ \\mymatrix{rrrr}{ \\frac{1}{2} & \\frac{1}{2} & \\frac{1}{2} & \\frac{1}{2} \\\\ \\frac{1}{2} & -\\frac{1}{2} & \\frac{1}{2} & -\\frac{1}{2} \\\\ \\frac{1}{2} & \\frac{1}{2} & -\\frac{1}{2} & -\\frac{1}{2} \\\\ \\frac{1}{2} & -\\frac{1}{2} & -\\frac{1}{2} & \\frac{1}{2} } } $\n",
    "$ \\newcommand{\\CNOT}{ \\mymatrix{cccc}{1 & 0 & 0 & 0 \\\\ 0 & 1 & 0 & 0 \\\\ 0 & 0 & 0 & 1 \\\\ 0 & 0 & 1 & 0} } $\n",
    "$ \\newcommand{\\norm}[1]{ \\left\\lVert #1 \\right\\rVert } $\n",
    "$ \\newcommand{\\pstate}[1]{ \\lceil \\mspace{-1mu} #1 \\mspace{-1.5mu} \\rfloor } $\n",
    "$ \\newcommand{\\len}[1]{\\|#1\\|} $"
   ]
  },
  {
   "cell_type": "markdown",
   "metadata": {},
   "source": [
    "_prepared by Özlem Salehi and Abuzer Yakaryilmaz_"
   ]
  },
  {
   "cell_type": "markdown",
   "metadata": {},
   "source": [
    "<font size=\"28px\" style=\"font-size:28px;\" align=\"left\"><b>Mathematical Notation</b></font>\n",
    "<br>\n",
    "<br><br>"
   ]
  },
  {
   "cell_type": "markdown",
   "metadata": {
    "jp-MarkdownHeadingCollapsed": true
   },
   "source": [
    "##### <font color=\"#08b806\">Please execute the following cell, it is necessary to distinguish between your local environment and Google Colab's"
   ]
  },
  {
   "cell_type": "code",
   "execution_count": null,
   "metadata": {},
   "outputs": [],
   "source": [
    "import IPython\n",
    "\n",
    "def in_colab():\n",
    "    try:\n",
    "        import google.colab\n",
    "        return True\n",
    "    except:\n",
    "        return False\n",
    "\n",
    "SolutionToTask1 = lambda: IPython.display.display(IPython.display.Javascript('window.open(\"{url}\");'.format(url='https://colab.research.google.com/drive/1LWNbgkZIRiA09HQ3wqygQpc8IlGkKT9w?usp=sharing#scrollTo=67V_vq4ddcI7' if in_colab() else 'QB31_C02_Mathematical_Notation_Solutions.ipynb#task1')))\n",
    "SolutionToTask2 = lambda: IPython.display.display(IPython.display.Javascript('window.open(\"{url}\");'.format(url='https://colab.research.google.com/drive/1LWNbgkZIRiA09HQ3wqygQpc8IlGkKT9w?usp=sharing#scrollTo=RzY2MM3FdcI7' if in_colab() else 'QB31_C02_Mathematical_Notation_Solutions.ipynb#task2')))\n",
    "SolutionToTask3 = lambda: IPython.display.display(IPython.display.Javascript('window.open(\"{url}\");'.format(url='https://colab.research.google.com/drive/1LWNbgkZIRiA09HQ3wqygQpc8IlGkKT9w?usp=sharing#scrollTo=htkXhAsSdcI8' if in_colab() else 'QB31_C02_Mathematical_Notation_Solutions.ipynb#task3')))\n",
    "SolutionToTask4 = lambda: IPython.display.display(IPython.display.Javascript('window.open(\"{url}\");'.format(url='https://colab.research.google.com/drive/1LWNbgkZIRiA09HQ3wqygQpc8IlGkKT9w?usp=sharing#scrollTo=u0Iztn3tdcI8' if in_colab() else 'QB31_C02_Mathematical_Notation_Solutions.ipynb#task4')))\n",
    "SolutionToTask5 = lambda: IPython.display.display(IPython.display.Javascript('window.open(\"{url}\");'.format(url='https://colab.research.google.com/drive/1LWNbgkZIRiA09HQ3wqygQpc8IlGkKT9w?usp=sharing#scrollTo=rmGCXXN-dcI8' if in_colab() else 'QB31_C02_Mathematical_Notation_Solutions.ipynb#task5')))\n",
    "SolutionToTask6 = lambda: IPython.display.display(IPython.display.Javascript('window.open(\"{url}\");'.format(url='https://colab.research.google.com/drive/1LWNbgkZIRiA09HQ3wqygQpc8IlGkKT9w?usp=sharing#scrollTo=WtlgXGYidcI8' if in_colab() else 'QB31_C02_Mathematical_Notation_Solutions.ipynb#task6')))"
   ]
  },
  {
   "cell_type": "markdown",
   "metadata": {},
   "source": [
    "##### In this notebook, we will review some mathematical terms and notations that will be useful in later notebooks. \n",
    "\n",
    "We are interested in the quantum system having $ n $ states, where $ n $ is a positive integer. Any quantum state of such system is a vector in $\\mathbb{C}^n$, the space of all $ n $-tuples of complex numbers. Together with inner product (see below), they form $n$-dimensional Hilbert space denoted $ \\mathcal{H}^n $."
   ]
  },
  {
   "cell_type": "markdown",
   "metadata": {},
   "source": [
    "## Dirac Notation"
   ]
  },
  {
   "cell_type": "markdown",
   "metadata": {},
   "source": [
    "Dirac notation is the standard way of representing quantum states in quantum mechanics and computing. The name is due to [Paul Dirac](https://en.wikipedia.org/wiki/Paul_Dirac).\n",
    "\n",
    "Column vectors are represented as $\\ket{ v }$, where $v$ is the label of the vector and $\\ket{~}$ is called _ket_.\n",
    "\n",
    "Let $ \\ket{v} = \\myvector{ \\alpha_1 \\\\ \\vdots \\\\ \\alpha_n } \\in \\mathbb{C}^n$ be a quantum state.\n",
    "\n",
    "The length of $ \\ket{v} $ is calculated as $ \\sqrt{ |\\alpha_1|^2 + \\cdots + |\\alpha_n|^2  } $, or equivalently \n",
    "$ \\sqrt{ \\alpha_1^* \\alpha_1 + \\cdots + \\alpha_n^* \\alpha_n } $.\n",
    "\n",
    "Inside of the square root can be represented as vector multiplication: $ \\myvector{ \\alpha_1^* ~~ \\cdots ~~ \\alpha_n^* } \\myvector{ \\alpha_1 \\\\ \\vdots \\\\ \\alpha_n }  $.  \n",
    "\n",
    "Here the row vector is the conjugate transpose of $ \\ket{v} $, and it is denoted as $ \\bra{v} $, where $\\bra{~}$ is called _bra_. Indeed, $ \\ket{v} $ is the conjugate transpose of $ \\bra{v} $, too.\n",
    "\n",
    "The vectors are also called the _dual_ vector of each other."
   ]
  },
  {
   "cell_type": "markdown",
   "metadata": {},
   "source": [
    "<h3> Task 1 </h3>\n",
    "\n",
    " Consider the quantum states $ \\ket{\\psi}=\\dsqrttwo \\ket{0} - \\dfrac{i}{\\sqrt{2}} \\ket{1} $ and $ \\ket{\\phi} = \\dsqrttwo \\ket{0} + \\dfrac{i}{\\sqrt{2}}\\ket{1}  $.  Compute $ \\bra{\\psi}$ and $\\bra{\\phi}$. "
   ]
  },
  {
   "cell_type": "markdown",
   "metadata": {},
   "source": [
    "To check out our solution, run the next cell:"
   ]
  },
  {
   "cell_type": "code",
   "execution_count": null,
   "metadata": {},
   "outputs": [],
   "source": [
    "SolutionToTask1()  # show solution for task 1"
   ]
  },
  {
   "cell_type": "markdown",
   "metadata": {},
   "source": [
    "## Inner product"
   ]
  },
  {
   "cell_type": "markdown",
   "metadata": {},
   "source": [
    "Inner product is a generalization of dot product over the complex numbers.\n",
    "\n",
    "Remember the dot product: For a given two $n$-dimensional real-valued column vectors $ u $ and $ v $, their dot product, denoted $ (u,v) $, is  \n",
    "\n",
    "$$ (u,v) = u^T \\cdot v, $$\n",
    "\n",
    "where $ u^T $ is the transpose of $ u $ and a row vector. Then, the length of $ v $, denoted $ \\len{v} $, is $ \\sqrt{ (v,v) } $. Moreover, $ u $ and $ v $ are orthogonal to each other ($ u \\perp v $) if and only if $ (u,v) = 0 $. \n",
    "\n",
    "\n",
    "For a given two $n$-dimensional complex-valued column vectors $ \\ket{u} $ and $ \\ket{v} $, their _inner product_, denoted $ \\inner{u}{v} $, is \n",
    "\n",
    "$$ \\inner{u}{v} = \\bra{u}\\ket{v}~~~\\mbox{or shortly}~~~\\inner{u}{v} = \\braket{u}{v}, $$\n",
    "where $ \\braket{~}{~} $ is called _braket_.\n",
    "\n",
    "Observe that $ \\braket{u}{v} = \\braket{v}{u}^* $. \n",
    "\n",
    "The length of $ \\ket{v} $ is $ \\len{\\ket{v}} = \\sqrt{\\braket{v}{v}} $. It is called _unit vector_ if $ \\len{\\ket{v}} $ or equivalently $ \\braket{v}{v} = 1 $.\n",
    "\n",
    "The column vectors $ \\ket{u} $ and $ \\ket{v} $ are orthogonal to each other if and only if $ \\braket{u}{v} = 0 $.\n",
    "\n",
    "A _quantum state_ is a unit vector, and vice versa."
   ]
  },
  {
   "cell_type": "markdown",
   "metadata": {},
   "source": [
    "<h3> Task 2 </h3>\n",
    "\n",
    "Compute $ \\braket{\\psi}{\\phi} $. What can you conclude about these quantum states? "
   ]
  },
  {
   "cell_type": "markdown",
   "metadata": {},
   "source": [
    "To check out our solution, run the next cell:"
   ]
  },
  {
   "cell_type": "code",
   "execution_count": null,
   "metadata": {},
   "outputs": [],
   "source": [
    "SolutionToTask2()  # show solution for task 2"
   ]
  },
  {
   "cell_type": "markdown",
   "metadata": {},
   "source": [
    "<h3> Task 3 </h3>\n",
    "\n",
    "Verify that $ \\ket{\\psi} $ and $ \\ket{\\phi} $ are valid quantum states."
   ]
  },
  {
   "cell_type": "markdown",
   "metadata": {},
   "source": [
    "To check out our solution, run the next cell:"
   ]
  },
  {
   "cell_type": "code",
   "execution_count": null,
   "metadata": {},
   "outputs": [],
   "source": [
    "SolutionToTask3()  # show solution for task 3"
   ]
  },
  {
   "cell_type": "markdown",
   "metadata": {},
   "source": [
    "## Basis states"
   ]
  },
  {
   "cell_type": "markdown",
   "metadata": {},
   "source": [
    "A set of unit vectors $ \\{ \\ket{v_1},\\ldots,\\ket{v_m} \\} $ form an _orthonormal set_ if they are pairwise orthogonal to each other, i.e., $ \\ket{v_j} \\perp \\ket{v_k} $ for all $ j \\neq k $.\n",
    "\n",
    "For an $n$-state quantum system (register), any orthonormal set of size $n$ can be the basis states:\n",
    "\n",
    "$$ \\{ \\ket{q_1},\\ldots,\\ket{q_n} \\} $$.\n",
    "\n",
    "Any quantum state can be written as a linear combination of the basis states:\n",
    "\n",
    "$$ \\ket{v} = \\alpha_1 \\ket{q_1}+\\cdots+\\alpha_n \\ket{q_n}~~~~\\mbox{for some } \\alpha_1,\\ldots,\\alpha_n \\in \\mathbb{C} \\mbox{ satisfying that } |\\alpha_1|^2 + \\cdots + |\\alpha_n|^2 = 1.  $$\n",
    "\n",
    "Usually, we use _the standard basis_:\n",
    "\n",
    "$$ \\ket{q_1} = \\myvector{1 \\\\ 0 \\\\ 0 \\\\ \\vdots \\\\ 0 \\\\ 0}, ~~ \\ket{q_2} = \\myvector{0 \\\\ 1 \\\\ 0 \\\\ \\vdots \\\\ 0 \\\\ 0}, ~~\\ldots, ~~ \\ket{q_n} = \\myvector{0 \\\\ 0 \\\\ 0 \\\\ \\vdots \\\\ 0 \\\\ 1}  $$.\n",
    "\n",
    "For a qubit, $ \\{ \\ket{0},\\ket{1} \\} $ is the standard basis, also called as _Z-basis_."
   ]
  },
  {
   "cell_type": "markdown",
   "metadata": {},
   "source": [
    "<h3> Task 4 </h3>\n",
    "\n",
    "Verify that $ \\{ \\ket{+},\\ket{-} \\} $ is a basis set for a qubit."
   ]
  },
  {
   "cell_type": "markdown",
   "metadata": {},
   "source": [
    "To check out our solution, run the next cell:"
   ]
  },
  {
   "cell_type": "code",
   "execution_count": null,
   "metadata": {},
   "outputs": [],
   "source": [
    "SolutionToTask4()  # show solution for task 4"
   ]
  },
  {
   "cell_type": "markdown",
   "metadata": {},
   "source": [
    "Indeed,  $ \\{ \\ket{+},\\ket{-} \\} $ is called _Hadamard basis_."
   ]
  },
  {
   "cell_type": "markdown",
   "metadata": {},
   "source": [
    "## Outer product and projective measurements\n",
    "\n",
    "Let $ \\ket{v} = \\myvector{ \\alpha_1 \\\\ \\vdots \\\\ \\alpha_n } $ be a quantum state. Observe that $ \\braket{q_k}{v} $ gives $ \\alpha_k $, the amplitude of the system being in $ \\ket{q_k} $.\n",
    "\n",
    "We can use the formula $ \\braket{q_k}{v} $ to calculate the probabilities of the system being in $ \\ket{q_k} $:\n",
    "\n",
    "$ \\braket{q_k}{v}^*\\braket{q_k}{v} = \\braket{v}{q_k}\\braket{q_k}{v} = \\bra{v}\\mypar{ \\ket{q_k}\\bra{q_k} }\\ket{v}  $.\n",
    "\n",
    "Here $  \\ket{q_k}\\bra{q_k} $ is called _outer product_, and it gives us a matrix. This matrix has all zeros except a single diagonal entry $ (k,k) $. Such matrix is called projection matrix. When measuring the system in the standard basis, the (projective) measurement operator has $ n $ elements, and one of them is this projection matrix. More precisely, the measurement operator is formed by $ n $ matrices: $ \\{ \\ket{q_1}\\bra{q_1},\\ket{q_2}\\bra{q_2},\\ldots,\\ket{q_n}\\bra{q_n}\\} $. Observe that the summation of all these matrices gives the identity matrix.\n",
    "\n",
    "Let $ n=5 $. Suppose that we split the basis set into two disjoint sets $ \\{ \\ket{q_2},\\ket{q_5} \\} $ and $ \\{ \\ket{q_1},\\ket{q_3},\\ket{q_4} \\} $, and we design a (projective) measurement operator to force the system to be observed in one of these cases. Then, our measurement operator has two elements: $ M_1 = \\ket{q_2}\\bra{q_2} + \\ket{q_5}\\bra{q_5} $ and $ M_2 = \\ket{q_1}\\bra{q_1} + \\ket{q_3}\\bra{q_3} + \\ket{q_4}\\bra{q_4} $. Both of them have all zeros except the diagonal entries corresponding to the specified states. If a quantum state, say $ \\ket{u} $, is measured with this operator, we can observe at most two outcomes. \n",
    "\n",
    "The probability of observing the system in $ \\{ \\ket{q_2},\\ket{q_5} \\} $ is calculated as $  \\bra{u} M_1 \\ket{u} $. If it is observed, the new state is normalized version of $ M_1 \\ket{u} $.\n",
    "\n",
    "Let $ \\ket{u} = \\myvector{\\alpha_1 \\\\ \\vdots \\\\ \\alpha_5} $. Then, $ \\bra{u}M_1\\ket{u} $ should gives us $ |\\alpha_2|^2 + |\\alpha_5|^2 $:\n",
    "\n",
    "$ \\bra{u}M_1\\ket{u} = \n",
    "\\myvector{ \\alpha_1^*~~ \\cdots ~~\\alpha_5^* } \\mymatrix{ccccc}{ 0 & 0 & 0 & 0 & 0 \\\\ 0 & 1 & 0 & 0 & 0 \\\\ 0 & 0 & 0 & 0 & 0 \\\\ 0 & 0 & 0 & 0 & 0 \\\\ 0 & 0 & 0 & 0 & 1  }  \\myvector{\\alpha_1 \\\\ \\vdots \\\\ \\alpha_5} \n",
    "= \\myvector{ \\alpha_1^*~~ \\alpha_2^*~~ \\alpha_3^*~~ \\alpha_4^*~~  ~~\\alpha_5^* } \\myvector{0 \\\\ \\alpha_2 \\\\ 0 \\\\ 0 \\\\ \\alpha_5} = \\alpha_2^*\\alpha_2 + \\alpha_5^*\\alpha_5 = |\\alpha_2|^2 + |\\alpha_5|^2.\n",
    "$\n",
    "\n",
    "Let $ p_1 = |\\alpha_2|^2 + |\\alpha_5|^2 $. If the system is observed in $ \\{ \\ket{q_2},\\ket{q_5} \\} $ ($ p_1 > 0 $), then the new quantum state is $ \\frac{1}{\\sqrt{p_1}} M_1\\ket{u} = \\frac{1}{\\sqrt{p_1}} \\myvector{0 \\\\ \\alpha_2 \\\\ 0 \\\\ 0 \\\\ \\alpha_5}  $.\n",
    "\n",
    "The case for $ \\{ \\ket{q_1},\\ket{q_3},\\ket{q_4} \\} $ is identical.\n",
    "\n",
    "Observe that $ M_1 + M_2 = I $."
   ]
  },
  {
   "cell_type": "markdown",
   "metadata": {},
   "source": [
    "## Unitary matrices"
   ]
  },
  {
   "cell_type": "markdown",
   "metadata": {},
   "source": [
    "The _conjugate transpose_ of a matrix $ A $, denoted by $A^\\dagger$ = $\\overline{A^{T}}$ where the entries of $\\overline{A}$ are the complex conjugate of the corresponding entries in A."
   ]
  },
  {
   "cell_type": "markdown",
   "metadata": {},
   "source": [
    "<h3> Task 5 </h3>\n",
    "\n",
    "Given $A=  \\mymatrix{cc}{3 + 7i & 0 \\\\ 2i & 4-i}$, compute $A^{\\dagger}$:\n"
   ]
  },
  {
   "cell_type": "markdown",
   "metadata": {},
   "source": [
    "To check out our solution, run the next cell:"
   ]
  },
  {
   "cell_type": "code",
   "execution_count": null,
   "metadata": {},
   "outputs": [],
   "source": [
    "SolutionToTask5()  # show solution for task 5"
   ]
  },
  {
   "cell_type": "markdown",
   "metadata": {},
   "source": [
    "If $A^{-1}$ = $A^\\dagger$, then A is called _unitary_. Alternatively, an $ n \\times n $ complex matrix is unitary if its column (also true for row) vectors form an orthonormal set, a set in which each vector in the set is a unit vector and each vector is orthogonal to each other.\n"
   ]
  },
  {
   "cell_type": "markdown",
   "metadata": {},
   "source": [
    "<h3> Task 6 </h3>\n",
    "\n",
    "Given $A=  \\frac{1}{2} \\mymatrix{cc}{1 + i & 1 - i \\\\ 1 - i & 1 + i}$, show that $A$ is unitary\n"
   ]
  },
  {
   "cell_type": "markdown",
   "metadata": {},
   "source": [
    "To check out our solution, run the next cell:"
   ]
  },
  {
   "cell_type": "code",
   "execution_count": null,
   "metadata": {},
   "outputs": [],
   "source": [
    "SolutionToTask6()  # show solution for task 6"
   ]
  }
 ],
 "metadata": {
  "kernelspec": {
   "display_name": "Python 3 (ipykernel)",
   "language": "python",
   "name": "python3"
  },
  "language_info": {
   "codemirror_mode": {
    "name": "ipython",
    "version": 3
   },
   "file_extension": ".py",
   "mimetype": "text/x-python",
   "name": "python",
   "nbconvert_exporter": "python",
   "pygments_lexer": "ipython3",
   "version": "3.11.4"
  }
 },
 "nbformat": 4,
 "nbformat_minor": 4
}
