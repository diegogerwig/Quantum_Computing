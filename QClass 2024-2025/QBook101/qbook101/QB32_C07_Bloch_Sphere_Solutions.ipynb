{
 "cells": [
  {
   "cell_type": "markdown",
   "metadata": {},
   "source": [
    "<a href=\"https://qworld.net\" target=\"_blank\" align=\"left\"><img src=\"https://gitlab.com/qworld/qeducation/qbook101/raw/main/qworld/images/header.jpg\" align=\"left\"></a>\n",
    "$ \\newcommand{\\bra}[1]{\\langle #1|} $\n",
    "$ \\newcommand{\\ket}[1]{|#1\\rangle} $\n",
    "$ \\newcommand{\\braket}[2]{\\langle #1|#2\\rangle} $\n",
    "$ \\newcommand{\\dot}[2]{ #1 \\cdot #2} $\n",
    "$ \\newcommand{\\inner}[2]{\\langle #1,#2\\rangle} $\n",
    "$ \\newcommand{\\biginner}[2]{\\left\\langle #1,#2\\right\\rangle} $\n",
    "$ \\newcommand{\\mymatrix}[2]{\\left( \\begin{array}{#1} #2\\end{array} \\right)} $\n",
    "$ \\newcommand{\\myvector}[1]{\\mymatrix{c}{#1}} $\n",
    "$ \\newcommand{\\myrvector}[1]{\\mymatrix{r}{#1}} $\n",
    "$ \\newcommand{\\mypar}[1]{\\left( #1 \\right)} $\n",
    "$ \\newcommand{\\mybigpar}[1]{ \\Big( #1 \\Big)} $\n",
    "$ \\newcommand{\\sqrttwo}{\\frac{1}{\\sqrt{2}}} $\n",
    "$ \\newcommand{\\dsqrttwo}{\\dfrac{1}{\\sqrt{2}}} $\n",
    "$ \\newcommand{\\onehalf}{\\frac{1}{2}} $\n",
    "$ \\newcommand{\\donehalf}{\\dfrac{1}{2}} $\n",
    "$ \\newcommand{\\hadamard}{ \\mymatrix{rr}{ \\sqrttwo & \\sqrttwo \\\\ \\sqrttwo & -\\sqrttwo }} $\n",
    "$ \\newcommand{\\vzero}{\\myvector{1\\\\0}} $\n",
    "$ \\newcommand{\\vone}{\\myvector{0\\\\1}} $\n",
    "$ \\newcommand{\\stateplus}{\\myvector{ \\sqrttwo \\\\  \\sqrttwo } } $\n",
    "$ \\newcommand{\\stateminus}{ \\myrvector{ \\sqrttwo \\\\ -\\sqrttwo } } $\n",
    "$ \\newcommand{\\myarray}[2]{ \\begin{array}{#1}#2\\end{array}} $\n",
    "$ \\newcommand{\\X}{ \\mymatrix{cc}{0 & 1 \\\\ 1 & 0}  } $\n",
    "$ \\newcommand{\\Z}{ \\mymatrix{rr}{1 & 0 \\\\ 0 & -1}  } $\n",
    "$ \\newcommand{\\Htwo}{ \\mymatrix{rrrr}{ \\frac{1}{2} & \\frac{1}{2} & \\frac{1}{2} & \\frac{1}{2} \\\\ \\frac{1}{2} & -\\frac{1}{2} & \\frac{1}{2} & -\\frac{1}{2} \\\\ \\frac{1}{2} & \\frac{1}{2} & -\\frac{1}{2} & -\\frac{1}{2} \\\\ \\frac{1}{2} & -\\frac{1}{2} & -\\frac{1}{2} & \\frac{1}{2} } } $\n",
    "$ \\newcommand{\\CNOT}{ \\mymatrix{cccc}{1 & 0 & 0 & 0 \\\\ 0 & 1 & 0 & 0 \\\\ 0 & 0 & 0 & 1 \\\\ 0 & 0 & 1 & 0} } $\n",
    "$ \\newcommand{\\norm}[1]{ \\left\\lVert #1 \\right\\rVert } $\n",
    "$ \\newcommand{\\pstate}[1]{ \\lceil \\mspace{-1mu} #1 \\mspace{-1.5mu} \\rfloor } $\n",
    "$ \\newcommand{\\len}[1]{\\|#1\\|} $\n",
    "$ \\newcommand{\\uniquerep}{\\cos\\mypar{\\frac{\\theta}{2}} \\ket{0} + e^{i\\phi} \\sin\\mypar{\\frac{\\theta}{2}} \\ket{1}} $"
   ]
  },
  {
   "cell_type": "markdown",
   "metadata": {},
   "source": [
    "_prepared by Abuzer Yakaryilmaz_\n",
    "<br><br>\n",
    "_Cirq adaptation by Claudia Zendejas-Morales_"
   ]
  },
  {
   "cell_type": "markdown",
   "metadata": {},
   "source": [
    "<font size=\"28px\" style=\"font-size:28px;\" align=\"left\"><b> <font color=\"blue\"> Solutions for </font>Bloch sphere</b></font>\n",
    "<br>\n",
    "<br><br>"
   ]
  },
  {
   "cell_type": "markdown",
   "metadata": {
    "jp-MarkdownHeadingCollapsed": true
   },
   "source": [
    "##### <font color=\"#08b806\">Please execute the following cell, it is necessary to distinguish between your local environment and Google Colab's"
   ]
  },
  {
   "cell_type": "code",
   "execution_count": null,
   "metadata": {},
   "outputs": [],
   "source": [
    "import IPython\n",
    "\n",
    "def in_colab():\n",
    "    try:\n",
    "        import google.colab\n",
    "        return True\n",
    "    except:\n",
    "        return False\n",
    "\n",
    "if in_colab():\n",
    "    !pip install cirq"
   ]
  },
  {
   "cell_type": "markdown",
   "metadata": {},
   "source": [
    "<a name=\"task1\"></a>\n",
    "### Task 1\n",
    "\n",
    "Define all six reference quantum states (see above) as `np.array()`.\n",
    "\n",
    "Draw all of them in Cirq."
   ]
  },
  {
   "cell_type": "markdown",
   "metadata": {},
   "source": [
    "<h3> Solution </h3>"
   ]
  },
  {
   "cell_type": "code",
   "execution_count": null,
   "metadata": {},
   "outputs": [],
   "source": [
    "from cirq_web import BlochSphere\n",
    "import numpy as np\n",
    "\n",
    "# Define all six reference quantum states \n",
    "all_states = [\n",
    "    np.array([1,0]), # |0>\n",
    "    np.array([0,1]), # |1>\n",
    "    np.array([1,1])/np.sqrt(2), # |+>\n",
    "    np.array([1,-1])/np.sqrt(2), # |->\n",
    "    np.array([1,1j])/np.sqrt(2), # |i>\n",
    "    np.array([1,-1j])/np.sqrt(2) # |-i>\n",
    "]\n",
    "\n",
    "for i in range(6):\n",
    "    state = all_states[i]\n",
    "    sphere = BlochSphere(state_vector=state, sphere_radius=3) # this radius is for visualization purposes\n",
    "    display(sphere)"
   ]
  },
  {
   "cell_type": "markdown",
   "metadata": {},
   "source": [
    "<a name=\"task2\"></a>\n",
    "<h3> Task 2 </h3>\n",
    "\n",
    "Randomly pick $ (\\theta,\\phi) $ and draw the state in Cirq."
   ]
  },
  {
   "cell_type": "markdown",
   "metadata": {},
   "source": [
    "<h3> Solution </h3>"
   ]
  },
  {
   "cell_type": "code",
   "execution_count": null,
   "metadata": {},
   "outputs": [],
   "source": [
    "from cirq_web import BlochSphere\n",
    "import numpy as np\n",
    "from random import randrange \n",
    "\n",
    "theta = randrange(18000)/100\n",
    "phi = randrange(36000)/100\n",
    "print(\"theta in degree is\",round(theta,1),\"| phi in degree is\",round(phi,1))\n",
    "\n",
    "theta_radian = theta*np.pi/180\n",
    "phi_radian = phi*np.pi/180\n",
    "print(\"theta in radian is\",round(theta_radian,2),\"| phi in radian is\",round(phi_radian,2))\n",
    "\n",
    "r1 = np.cos(theta_radian/2)\n",
    "r2 = np.sin(theta_radian/2)\n",
    "phase = complex(np.cos(phi_radian),np.sin(phi_radian))\n",
    "a = round(phase.real,3)\n",
    "b = round(phase.imag,3)\n",
    "print(\"quantum state is\",round(r1,3),\"|0> + (\",a,\"+\",b,\"j)\",round(r2,3),\"|1>\")\n",
    "\n",
    "state = [ r1,r2*phase ]\n",
    "\n",
    "sphere = BlochSphere(state_vector=state)\n",
    "display(sphere)"
   ]
  },
  {
   "cell_type": "markdown",
   "metadata": {},
   "source": [
    "<a name=\"task3\"></a>\n",
    "<h3> Task 3 </h3>\n",
    "\n",
    "Randomly pick $ (\\theta,\\phi) $. \n",
    "\n",
    "Find its spherical coordinates $(x,y,z)$ in Python.\n",
    "\n",
    "Draw the state in Cirq with its projection.\n",
    "\n",
    "    BlochSphere(state_vector=state)\n",
    "\n",
    "Visually verify your calculations."
   ]
  },
  {
   "cell_type": "markdown",
   "metadata": {},
   "source": [
    "<h3> Solution </h3>"
   ]
  },
  {
   "cell_type": "code",
   "execution_count": null,
   "metadata": {},
   "outputs": [],
   "source": [
    "from cirq_web import BlochSphere\n",
    "import numpy as np\n",
    "from random import randrange \n",
    "\n",
    "theta = randrange(18000)/100\n",
    "phi = randrange(36000)/100\n",
    "print(\"theta in degree is\",round(theta,1),\"| phi in degree is\",round(phi,1))\n",
    "\n",
    "theta_radian = theta*np.pi/180\n",
    "phi_radian = phi*np.pi/180\n",
    "print(\"theta in radian is\",round(theta_radian,2),\"| phi in radian is\",round(phi_radian,2))\n",
    "\n",
    "r1 = np.cos(theta_radian/2)\n",
    "r2 = np.sin(theta_radian/2)\n",
    "phase = complex(np.cos(phi_radian),np.sin(phi_radian))\n",
    "a = round(phase.real,3)\n",
    "b = round(phase.imag,3)\n",
    "print(\"quantum state is\",round(r1,3),\"|0> + (\",a,\"+\",b,\"j)\",round(r2,3),\"|1>\")\n",
    "\n",
    "x = np.sin(theta_radian)*np.cos(phi_radian)\n",
    "y = np.sin(theta_radian)*np.sin(phi_radian)\n",
    "z = np.cos(theta_radian)\n",
    "print(\"spherical coordinates: x =\",round(x,2),\"y =\",round(y,2),\"z =\",round(z,2))\n",
    "\n",
    "state = [ r1,r2*phase ]\n",
    "\n",
    "sphere = BlochSphere(state_vector=state)\n",
    "display(sphere)"
   ]
  },
  {
   "cell_type": "markdown",
   "metadata": {},
   "source": [
    "<a name=\"task4\"></a>\n",
    "<h3> Task 4 </h3>\n",
    "\n",
    "Show that $ \\ket{+} $ and $ \\ket{-} $ are orthogonal to each other.\n",
    "\n",
    "Show that $ \\ket{i} $ and $ \\ket{-i} $ are orthogonal to each other."
   ]
  },
  {
   "cell_type": "markdown",
   "metadata": {},
   "source": [
    "<h3> Solution </h3>\n",
    "\n",
    "$ \\braket{+}{-} = \\mypar{\\dfrac{\\bra{0}+\\bra{1} }{\\sqrt{2}}} \\mypar{ \\dfrac{ \\ket{0}-\\ket{1}}{\\sqrt{2}} }\n",
    "= \\dfrac{ \\braket{0}{0} - \\braket{0}{1} + \\braket{1}{0} - \\braket{1}{1}  }{2} = \\dfrac{1-0+0-1}{2} = 0.\n",
    "$\n",
    "\n",
    "$ \\braket{i}{-i} = \\mypar{\\dfrac{\\bra{0}-i\\bra{1} }{\\sqrt{2}}} \\mypar{ \\dfrac{ \\ket{0}-i\\ket{1}}{\\sqrt{2}} }\n",
    "= \\dfrac{ \\braket{0}{0} - i\\braket{0}{1} - i \\braket{1}{0} + i^2 \\braket{1}{1}  }{2} = \\dfrac{1-0+0-1}{2} = 0.\n",
    "$"
   ]
  },
  {
   "cell_type": "markdown",
   "metadata": {},
   "source": [
    "<a name=\"task5\"></a>\n",
    "<h3> Task 5 </h3>\n",
    "\n",
    "Randomly pick a quantum state, say $ \\ket{u} $, in the form of unique representation.\n",
    "\n",
    "Draw $ \\ket{u} $ in Cirq.\n",
    "\n",
    "Calculate the quantum state, say $ \\ket{v} $, placed on the opposite side of $ \\ket{u} $ on the Bloch sphere.\n",
    "\n",
    "Draw $ \\ket{v} $ in Cirq.\n",
    "\n",
    "Visually verify that they are placed opposite to each other with angle $ \\pi $ in between.\n",
    "\n",
    "Calculate $ \\braket{u}{v} $ in Python and verify that the result is zero.\n",
    "\n",
    "Repeat this a couple of times."
   ]
  },
  {
   "cell_type": "markdown",
   "metadata": {},
   "source": [
    "<h3> Solution </h3>"
   ]
  },
  {
   "cell_type": "code",
   "execution_count": null,
   "metadata": {},
   "outputs": [],
   "source": [
    "from cirq_web import BlochSphere\n",
    "import numpy as np\n",
    "from random import randrange \n",
    "\n",
    "##############################################################################\n",
    "##### Randomly pick a quantum state in the form of unique representation #####\n",
    "##############################################################################\n",
    "\n",
    "theta = randrange(18000)/100\n",
    "phi = randrange(36000)/100\n",
    "print(\"theta in degree is\",round(theta,1),\"| phi in degree is\",round(phi,1))\n",
    "\n",
    "theta_radian = theta*np.pi/180\n",
    "phi_radian = phi*np.pi/180\n",
    "print(\"theta in radian is\",round(theta_radian,2),\"| phi in radian is\",round(phi_radian,2))\n",
    "\n",
    "r1 = np.cos(theta_radian/2)\n",
    "r2 = np.sin(theta_radian/2)\n",
    "phase = complex(np.cos(phi_radian),np.sin(phi_radian))\n",
    "a = round(phase.real,3)\n",
    "b = round(phase.imag,3)\n",
    "print(\"quantum state is\",round(r1,3),\"|0> + (\",a,\"+\",b,\"j)\",round(r2,3),\"|1>\")\n",
    "print()\n",
    "\n",
    "###############################################################\n",
    "##### The quantum state opposite side on the Bloch sphere #####\n",
    "###############################################################\n",
    "\n",
    "opposite_theta = 180 - theta\n",
    "opposite_phi = phi + 180\n",
    "if opposite_phi >= 360:\n",
    "    opposite_phi = opposite_phi - 360\n",
    "\n",
    "print(\"opposite theta in degree is\",round(opposite_theta,1),\"| opposite phi in degree is\",round(opposite_phi,1))\n",
    "\n",
    "opposite_theta_radian = opposite_theta*np.pi/180\n",
    "opposite_phi_radian = opposite_phi*np.pi/180\n",
    "print(\"opposite theta in radian is\",round(opposite_theta_radian,2),\"| opposite phi in radian is\",round(opposite_phi_radian,2))\n",
    "\n",
    "op_r1 = np.cos(opposite_theta_radian/2)\n",
    "op_r2 = np.sin(opposite_theta_radian/2)\n",
    "op_phase = complex(np.cos(opposite_phi_radian),np.sin(opposite_phi_radian))\n",
    "op_a = round(op_phase.real,3)\n",
    "op_b = round(op_phase.imag,3)\n",
    "print(\"quantum state is\",round(op_r1,3),\"|0> + (\",op_a,\"+\",op_b,\"j)\",round(op_r2,3),\"|1>\")\n",
    "print()\n",
    "\n",
    "############# inner product <u|v> #############\n",
    "\n",
    "state = [ r1,r2*phase ]\n",
    "op_state = [ op_r1,op_r2*op_phase ]\n",
    "\n",
    "# we use \"np.conj()\" to conjugate a complex number\n",
    "inner_product = r1 * op_r1 + (r2*op_r2)*(np.conj(phase)*op_phase)\n",
    "\n",
    "print(\"inner product: <u|v> =\",round(inner_product.real,3),\"+\",round(inner_product.imag,3),\"j\")\n",
    "\n",
    "############# draw both states #############\n",
    "\n",
    "sphere_u = BlochSphere(state_vector=state)\n",
    "sphere_v = BlochSphere(state_vector=op_state)\n",
    "\n",
    "display(sphere_u, sphere_v)"
   ]
  }
 ],
 "metadata": {
  "kernelspec": {
   "display_name": "Python 3 (ipykernel)",
   "language": "python",
   "name": "python3"
  },
  "language_info": {
   "codemirror_mode": {
    "name": "ipython",
    "version": 3
   },
   "file_extension": ".py",
   "mimetype": "text/x-python",
   "name": "python",
   "nbconvert_exporter": "python",
   "pygments_lexer": "ipython3",
   "version": "3.11.4"
  }
 },
 "nbformat": 4,
 "nbformat_minor": 4
}
