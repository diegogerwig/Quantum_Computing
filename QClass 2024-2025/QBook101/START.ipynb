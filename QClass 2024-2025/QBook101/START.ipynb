{
 "cells": [
  {
   "cell_type": "markdown",
   "id": "f5abfbbb",
   "metadata": {},
   "source": [
    "<table width=\"100%\"><tr style=\"background-color:white;\">\n",
    "    <td style=\"text-align:left;padding:0px;width:142px'\">\n",
    "        <a href=\"https://qworld.net\" target=\"_blank\">\n",
    "            <img src=\"https://gitlab.com/qworld/qeducation/qbook101/raw/main/qworld/images/QWorld.png\"></a></td>\n",
    "    <td width=\"*\">&nbsp;&nbsp;&nbsp;&nbsp;&nbsp;&nbsp;</td>\n",
    "    <!-- ############################################# -->\n",
    "    <td style=\"padding:0px;width:90px;\">\n",
    "        <img align=\"right\" src=\"https://gitlab.com/qworld/qeducation/qbook101/raw/main/qworld/images/follow_us.png\" height=\"40px\"></td>\n",
    "    <td style=\"padding:0px;width:40px;\">\n",
    "        <a href=\"https://twitter.com/QWorld19\" target=\"_blank\">\n",
    "        <img align=\"right\" src=\"https://gitlab.com/qworld/qeducation/qbook101/raw/main/qworld/images/Twitter.png\" width=\"40px\"></a> </td>\n",
    "    <td style=\"padding:0px;width:5px;\"></td>\n",
    "    <td style=\"padding:0px;width:40px;\">\n",
    "        <a href=\"https://www.facebook.com/qworld19/\" target=\"_blank\">\n",
    "        <img align=\"right\" src=\"https://gitlab.com/qworld/qeducation/qbook101/raw/main/qworld/images/Fb.png\"></a></td>\n",
    "    <td style=\"padding:0px;width:5px;\"></td>\n",
    "    <td style=\"padding:0px;width:40px;\">\n",
    "        <a href=\"https://www.linkedin.com/company/qworld19\" target=\"_blank\">\n",
    "        <img align=\"right\" src=\"https://gitlab.com/qworld/qeducation/qbook101/raw/main/qworld/images/LinkedIn.png\"></a></td>\n",
    "    <td style=\"padding:0px;width:5px;\"></td>\n",
    "    <td style=\"padding:0px;width:40px;\">\n",
    "        <a href=\"https://youtube.com/QWorld19?sub_confirmation=1\" target=\"_blank\">\n",
    "        <img align=\"right\" src=\"https://gitlab.com/qworld/qeducation/qbook101/raw/main/qworld/images/YT.png\"></a></td>\n",
    "    <!-- ############################################# -->\n",
    "    <td style=\"padding:0px;width:60px;\">\n",
    "        <img align=\"right\" src=\"https://gitlab.com/qworld/qeducation/qbook101/raw/main/qworld/images/join.png\" height=\"40px\"></td>\n",
    "    <td style=\"padding:0px;width:40px;\">\n",
    "        <a href=\"https://discord.com/invite/akCvr7U87g\"\n",
    "           target=\"_blank\">\n",
    "        <img align=\"right\" src=\"https://gitlab.com/qworld/qeducation/qbook101/raw/main/qworld/images/Discord.png\"></a></td>\n",
    "    <!-- ############################################# -->\n",
    "    <td style=\"padding:0px;width:72px;\">\n",
    "        <img align=\"right\" src=\"https://gitlab.com/qworld/qeducation/qbook101/raw/main/qworld/images/w3.png\" height=\"40px\"></td>\n",
    "    <td style=\"padding:0px;width:40px;\">\n",
    "        <a href=\"https://qworld.net\" target=\"_blank\">\n",
    "        <img align=\"right\" src=\"https://gitlab.com/qworld/qeducation/qbook101/raw/main/qworld/images/www.png\"></a></td>\n",
    "</tr></table>"
   ]
  },
  {
   "cell_type": "markdown",
   "id": "905e8a4f",
   "metadata": {},
   "source": [
    "</br>\n",
    "</br>\n",
    "\n",
    "<h1 style=\"color: #cd7f32;\"> QBook101 Content </h1>\n",
    "\n",
    "</br>\n",
    "</br>"
   ]
  },
  {
   "cell_type": "markdown",
   "id": "876cb7af",
   "metadata": {},
   "source": [
    "<h2 style=\"color: #8A8A8A;\"> Fundamentals of Quantum Computers with Programming </h2>\n",
    "\n",
    "</br>"
   ]
  },
  {
   "cell_type": "markdown",
   "id": "947b55cd",
   "metadata": {},
   "source": [
    "<h2 style=\"color: #A9A9A9;\"> Chapter 1: Introduction </h2>"
   ]
  },
  {
   "cell_type": "markdown",
   "id": "9b155afe",
   "metadata": {},
   "source": [
    "### 1.1 Introduction to Programming in Python Applied to Math\n",
    "\n",
    "[How to Run the Notebooks](qbook101/QB11_IP01_How_to_Run_the_Notebooks.ipynb) &nbsp;|&nbsp;\n",
    "[Math with Python](qbook101/QB11_IP02_Math_with_Python.ipynb) &nbsp;|&nbsp;\n",
    "[More on Matrices with Python](qbook101/QB11_IP03_More_on_Matrices_with_Python.ipynb) &nbsp;|&nbsp;\n",
    "[Errors and Exceptions](qbook101/QB11_IP04_Errors_and_Exceptions.ipynb)\n",
    "\n",
    "\n",
    "### 1.2 Introduction to Quantum Mechanics\n",
    "\n",
    "[Dirac Notation (bra-ket notation)](qbook101/QB12_IQ01_Dirac_Notation.ipynb) &nbsp;|&nbsp;\n",
    "[Hilbert Spaces](qbook101/QB12_IQ02_Hilbert_Spaces.ipynb) &nbsp;|&nbsp;\n",
    "[Postulates of Quantum Mechanics and its Application to Qubits](qbook101/QB12_IQ03_Postulates_of_Quantum_Mechanics.ipynb)"
   ]
  },
  {
   "cell_type": "markdown",
   "id": "2ec80239",
   "metadata": {},
   "source": [
    "<h2 style=\"color: #A9A9A9;\"> Chapter 2: Classical and Quantum Systems with Real Numbers </h2>"
   ]
  },
  {
   "cell_type": "markdown",
   "id": "d70c513e",
   "metadata": {
    "jp-MarkdownHeadingCollapsed": true
   },
   "source": [
    "### 2.1 Basics of Classical Systems\n",
    "\n",
    "[One Bit](qbook101/QB21_CS04_One_Bit.ipynb)  &nbsp;|&nbsp;\n",
    "[Coin Flipping](qbook101/QB21_CS08_Coin_Flip.ipynb)  &nbsp;|&nbsp;\n",
    "[Coin Flipping Game](qbook101/QB21_CS12_Coin_Flip_Game.ipynb)  &nbsp;|&nbsp;\n",
    "[Probabilistic States](qbook101/QB21_CS16_Probabilistic_States.ipynb)  &nbsp;|&nbsp;\n",
    "[Probabilistic Operators](qbook101/QB21_CS20_Probabilistic_Operators.ipynb) &nbsp;|&nbsp;\n",
    "[Two Probabilistic Bits](qbook101/QB21_CS24_Two_Probabilistic_Bits.ipynb)\n",
    "\n",
    "[Exercises](qbook101/QB21_Exercises_Probabilistic_Systems.ipynb) &nbsp;|&nbsp;\n",
    "[Problem Set](qbook101/QB21_Problems_Probabilistic_Systems.ipynb)  &nbsp;|&nbsp;\n",
    "[_Correlation (advance)_](qbook101/QB21_CS28_Correlation.ipynb)  &nbsp;|&nbsp;\n",
    "[_Operators on Multiple Bits (advance)_](qbook101/QB21_CS40_Operators_on_Multiple_Bits.ipynb) \n",
    "\n",
    "### 2.2 Photons\n",
    "\n",
    "[Quantum Coin Flipping](qbook101/QB22_Photon20_Quantum_Coin_Flipping.ipynb)\n",
    "\n",
    "### 2.3 Basics of Quantum Systems\n",
    "\n",
    "[Hadamard Operator](qbook101/QB23_Q20_Hadamard.ipynb) &nbsp;|&nbsp;\n",
    "[One Qubit](qbook101/QB23_Q24_One_Qubit.ipynb) &nbsp;|&nbsp;\n",
    "[Quantum State](qbook101/QB23_Q28_Quantum_State.ipynb) &nbsp;|&nbsp;\n",
    "[Visualization of a (Real-Valued) Qubit](qbook101/QB23_Q32_Visualization_of_a_Qubit.ipynb) &nbsp;|&nbsp;\n",
    "[Superposition and Measurement](qbook101/QB23_Q36_Superposition_and_Measurement.ipynb) &nbsp;|&nbsp;\n",
    "[Exercises](qbook101/QB23_Exercises_Basics_of_Quantum_Systems.ipynb)\n",
    "\n",
    "### 2.4 Quantum Operators on a (real-valued) Qubit\n",
    "\n",
    "[Operations on the Unit Circle](qbook101/QB24_Q40_Operations_on_the_Unit_Circle.ipynb) &nbsp;|&nbsp;\n",
    "[Rotations](qbook101/QB24_Q44_Rotations.ipynb) &nbsp;|&nbsp;\n",
    "[Reflections](qbook101/QB24_Q48_Reflections.ipynb) &nbsp;|&nbsp; \n",
    "[Quantum Tomography](qbook101/QB24_Q52_Quantum_Tomography.ipynb) &nbsp;|&nbsp;\n",
    "[Exercises](qbook101/QB24_Exercises_Quantum_Operators_on_a_Real-Valued_Qubit.ipynb)\n",
    "\n",
    "### 2.5 Entanglement and Protocols\n",
    "\n",
    "[Two Qubits](qbook101/QB25_Q60_Two_Qubits.ipynb) &nbsp;|&nbsp;\n",
    "[Phase Kickback](qbook101/QB25_Q64_Phase_Kickback.ipynb) &nbsp;|&nbsp;\n",
    "[Entanglement and Superdense Coding](qbook101/QB25_Q72_Superdense_Coding.ipynb) &nbsp;|&nbsp;\n",
    "[Quantum Teleportation](qbook101/QB25_Q76_Quantum_Teleportation.ipynb) &nbsp;|&nbsp;\n",
    "[Multiple Control Constructions](qbook101/QB25_Q80_Multiple_Control_Constructions.ipynb) &nbsp;|&nbsp;\n",
    "[Exercises](qbook101/QB25_Exercises_Quantum_Correlation.ipynb)"
   ]
  },
  {
   "cell_type": "markdown",
   "id": "c3f0d232",
   "metadata": {},
   "source": [
    "<h2 style=\"color: #A9A9A9;\"> Chapter 3: Quantum Systems with Complex Numbers </h2>"
   ]
  },
  {
   "cell_type": "markdown",
   "id": "54d2f661",
   "metadata": {},
   "source": [
    "### 3.1 Introduction\n",
    "\n",
    "[Complex Numbers](qbook101/QB31_C01_Complex_Number_Basics.ipynb) &nbsp;|&nbsp;\n",
    "[Mathematical Notation](qbook101/QB31_C02_Mathematical_Notation.ipynb) &nbsp;|&nbsp;\n",
    "[Quantum States](qbook101/QB31_C02_Quantum_States_With_Complex_Numbers.ipynb) &nbsp;|&nbsp;\n",
    "[Briefly Unitary Operators](qbook101/QB31_C03_Briefly_Unitary_Operators.ipynb)\n",
    "\n",
    "### 3.2 Bloch Sphere\n",
    "\n",
    "[Global and Relative Phases](qbook101/QB32_C05_Global_And_Relative_Phases.ipynb) &nbsp;|&nbsp;\n",
    "[Unique Representation](qbook101/QB32_C06_Unique_Representation.ipynb) &nbsp;|&nbsp;\n",
    "[Bloch Sphere](qbook101/QB32_C07_Bloch_Sphere.ipynb)\n",
    "\n",
    "### 3.3 Complex-valued Quantum Operators\n",
    "\n",
    "[Single-Qubit Quantum Gates](qbook101/QB33_C04_Single_Qubit_Quantum_Gates.ipynb) &nbsp;|&nbsp; \n",
    "[Rotations on Bloch Sphere](qbook101/QB33_C08_Rotations_on_Bloch_Sphere.ipynb) &nbsp;|&nbsp; \n",
    "[Multi-Qubit Gates](qbook101/QB33_C09_Multi-qubit_Gates.ipynb)"
   ]
  },
  {
   "cell_type": "markdown",
   "id": "40741a70",
   "metadata": {},
   "source": [
    "</br>\n",
    "\n",
    "<h2 style=\"color: #8A8A8A;\"> Introduction to Quantum Algorithms </h2>\n",
    "\n",
    "</br>"
   ]
  },
  {
   "cell_type": "markdown",
   "id": "a914b278",
   "metadata": {},
   "source": [
    "<h2 style=\"color: #A9A9A9;\"> Chapter 4: Quantum Algorithms 1 </h2>"
   ]
  },
  {
   "cell_type": "markdown",
   "id": "c32fbada",
   "metadata": {},
   "source": [
    "### 4.1 Classical Gates\n",
    "\n",
    "[Classical Gates](qbook101/QB41_A01_Classical_Gates.ipynb)\n",
    "\n",
    "### 4.2 Conventional Quantum Algorithms in Qiskit I\n",
    "\n",
    "[Deutsch Algorithm](qbook101/QB43_A03_Deutsch_Algorithm.ipynb) &nbsp;|&nbsp;\n",
    "[Deutsch-Jozsa Algorithm](qbook101/QB43_A04_Deutsch_Jozsa_Algorithm.ipynb)\n",
    "\n",
    "### 4.3 Grover's Search Algorithm in Qiskit\n",
    "\n",
    "[Inversion About the Mean](qbook101/QB42_Q84_Inversion_About_the_Mean.ipynb) &nbsp;|&nbsp;\n",
    "[Grover's Search: One Qubit Representation](qbook101/QB42_Q88_Grovers_Search_One_Qubit_Representation.ipynb) &nbsp;|&nbsp;\n",
    "[Grover's Search: Implementation](qbook101/QB42_Q92_Grovers_Search_Implementation.ipynb)\n",
    "\n",
    "### 4.4 Solving Max-Cut problem using Grover's Search in Cirq\n",
    "\n",
    "[Grover Algorithm Revisited](qbook101/QB44_B01_Grover_Algorithm_Revisited.ipynb) &nbsp;|&nbsp;\n",
    "[Max-Cut Problem and Bipartite Graphs](qbook101/QB44_B02_Max_Cut_Problem.ipynb) &nbsp;|&nbsp;\n",
    "[Adders and Numbers Checking](qbook101/QB44_B03_Adders_And_Numbers_Checking.ipynb) &nbsp;|&nbsp;\n",
    "[Grover algorithm for Max-Cut Problem](qbook101/QB44_B04_Grover_Algorithm_For_Max-Cut_Problem.ipynb)\n",
    "\n",
    "### 4.5 Conventional Quantum Algorithms in Qiskit II\n",
    "\n",
    "[Bernstein-Vazirani Algorithm](qbook101/QB43_A05_Bernstein_Vazirani_Algorithm.ipynb) &nbsp;|&nbsp;\n",
    "[Simon's Algorithm](qbook101/QB43_A06_Simons_Algorithm.ipynb)\n"
   ]
  },
  {
   "cell_type": "markdown",
   "id": "93c99f32",
   "metadata": {},
   "source": [
    "<h2 style=\"color: #A9A9A9;\"> Chapter 5: Quantum Algorithms 2 </h2>"
   ]
  },
  {
   "cell_type": "markdown",
   "id": "1f014e25",
   "metadata": {},
   "source": [
    "### 5.1 Quantum Fourier Transform\n",
    "\n",
    "[Discrete Fourier Transform](qbook101/QB51_D01_Discrete_Fourier_Transform.ipynb) &nbsp;|&nbsp;\n",
    "[Quantum Fourier Transform](qbook101/QB51_D02_Quantum_Fourier_Transform.ipynb) &nbsp;|&nbsp;\n",
    "[Phase Estimation](qbook101/QB51_D03_Phase_Estimation.ipynb)\n",
    "\n",
    "### 5.2 Shor's Algorithm for Prime Factorization\n",
    "\n",
    "[Order Finding Algorithm](qbook101/QB52_D04_Order_Finding_Algorithm.ipynb) &nbsp;|&nbsp;\n",
    "[Shor's Algorithm](qbook101/QB52_D05_Shors_Algorithm.ipynb)&nbsp;|&nbsp;\n",
    "[Shor's Algorithm in More Detail](qbook101/QB52_D06_Shors_Algorithm_In_More_Detail.ipynb)"
   ]
  },
  {
   "cell_type": "markdown",
   "id": "67d77be7",
   "metadata": {},
   "source": [
    "</br>\n",
    "\n",
    "<h2 style=\"color: #A9A9A9;\"> Appendices </h2>\n",
    "\n",
    "</br>"
   ]
  },
  {
   "cell_type": "markdown",
   "id": "f0fe40c1",
   "metadata": {},
   "source": [
    "### A. Python Basics\n",
    "\n",
    "[Jupyter notebooks](qbook101/appendices/A_python/QB_A1_Python02_Into_Notebooks.ipynb) &nbsp;|&nbsp;\n",
    "[Variables](qbook101/appendices/A_python/QB_A2_Python08_Basics_Variables.ipynb) &nbsp;|&nbsp;\n",
    "[Loops](qbook101/appendices/A_python/QB_A3_Python12_Basics_Loops.ipynb) &nbsp;|&nbsp;\n",
    "[Conditionals](qbook101/appendices/A_python/QB_A4_Python16_Basics_Conditionals.ipynb) &nbsp;|&nbsp;\n",
    "[Lists](qbook101/appendices/A_python/QB_A5_Python20_Basics_Lists.ipynb) &nbsp;|&nbsp;\n",
    "[Python Reference](qbook101/appendices/A_python/QB_A6_Python04_Quick_Reference.ipynb) &nbsp;|&nbsp;\n",
    "[Drawing Reference](qbook101/appendices/A_python/QB_A7_Python06_Drawing.ipynb) &nbsp;|&nbsp;\n",
    "[Style Guide for Python Code - PEP8](qbook101/appendices/A_python/QB_A8_Style_Guide_for_Python_Code_PEP8.ipynb)\n",
    "\n",
    "### B. Math Basics\n",
    "\n",
    "[Vectors](qbook101/appendices/B_math/QB_B1_Math20_Vectors.ipynb) &nbsp;|&nbsp;\n",
    "[Dot Product](qbook101/appendices/B_math/QB_B2_Math24_Dot_Product.ipynb) &nbsp;|&nbsp;\n",
    "[Matrices](qbook101/appendices/B_math/QB_B3_Math28_Matrices.ipynb) &nbsp;|&nbsp;\n",
    "[Tensor Product](qbook101/appendices/B_math/QB_B4_Math32_Tensor_Product.ipynb) &nbsp;|&nbsp;\n",
    "[Exercises](qbook101/appendices/B_math/QB_B5_Exercises_Basic_Math.ipynb)\n",
    "\n",
    "### C. Qiskit Basics\n",
    "\n",
    "[Qiskit Installation and Test](qbook101/appendices/C_qiskit/QB_C1_Q04_Qiskit_installation_and_test.ipynb) &nbsp;|&nbsp;\n",
    "[First Quantum Programs with Qiskit](qbook101/appendices/C_qiskit/QB_C2_Q12_First_Quantum_Programs_with_Qiskit.ipynb) &nbsp;|&nbsp;\n",
    "[Qiskit Reference](qbook101/appendices/C_qiskit/QB_C3_Q01_Qiskit_Reference.ipynb)\n",
    "\n",
    "### D. Cirq Basics\n",
    "\n",
    "[Cirq Installation and Test](qbook101/appendices/D_cirq/QB_D1_B01_Cirq_Installation_and_Test.ipynb) &nbsp;|&nbsp;\n",
    "[Introduction to Cirq](qbook101/appendices/D_cirq/QB_D2_D00_Cirq_Introduction.ipynb)"
   ]
  },
  {
   "cell_type": "markdown",
   "id": "b0bdbdce",
   "metadata": {},
   "source": [
    "</br>\n",
    "\n",
    "<h2 style=\"color: #A9A9A9;\"> References </h2>\n",
    "\n",
    "</br>"
   ]
  },
  {
   "cell_type": "markdown",
   "id": "b5e7e797",
   "metadata": {},
   "source": [
    "[References](qbook101/QB01_References.ipynb)"
   ]
  }
 ],
 "metadata": {
  "kernelspec": {
   "display_name": "Python 3 (ipykernel)",
   "language": "python",
   "name": "python3"
  },
  "language_info": {
   "codemirror_mode": {
    "name": "ipython",
    "version": 3
   },
   "file_extension": ".py",
   "mimetype": "text/x-python",
   "name": "python",
   "nbconvert_exporter": "python",
   "pygments_lexer": "ipython3",
   "version": "3.11.4"
  }
 },
 "nbformat": 4,
 "nbformat_minor": 5
}
