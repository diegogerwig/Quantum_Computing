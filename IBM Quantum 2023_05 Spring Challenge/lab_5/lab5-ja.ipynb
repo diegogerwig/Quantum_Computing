{
 "cells": [
  {
   "cell_type": "markdown",
   "id": "e73fee7d",
   "metadata": {
    "slideshow": {
     "slide_type": "-"
    }
   },
   "source": [
    "# Challenge 5: 127 量子ビットを使う\n",
    "\n",
    "これまでのChallengeが解けたとのこと、おめでとうございます！Dyanmic circuitをうまく使えることがわかりましたね。\n",
    "ここまで来たご褒美として、127量子ビットデバイスの1つを使うことができます。\n",
    "\n",
    "\n",
    "注意事項として、Challengeの完了でバッジを獲得するには、5つのLabのうち4つを終了している必要があります。このように決定した理由は、このLabが (a)技術的に困難であり、 (b)当社の最先端のハードウェアを使用することが分かっているためで、意図的にこのように決定しました。100量子ビットを超えるデバイスを一般に公開すると、ジョブの実行に大きな遅れが生じる可能性があるというのが実情です。Challengeの終了までにジョブを成功させることができない可能性もあります（そうでないことを祈りますが！）。そのようなことがないように、私たちは舞台裏でできる限りのことをしていますが、しかし、今年のChallengeは過去最高の参加者数を記録しています。親切に、何度も回路を提出し、キューを詰まらせないようにしてください。\n",
    "\n",
    "まず、深呼吸してみましょう。では、始めましょう！\n",
    "\n",
    "実際の物理的なデバイスを扱うには、それなりの困難が伴うことは、すでにお分かりいただけたと思います。\n",
    "多数の量子ビットを使用する場合は、経路が長くなり、多くのエラーが発生しないようにする必要があるため、なおさらです。ここでは、ibm_sherbrookをデバイスとして使用します。\n",
    "\n",
    "この課題では、127量子ビットの完全なエンタングル状態、いわゆるGHZ状態を賢い方法で準備してもらいます。\n",
    "\n",
    "その後、エラー訂正の知識を127量子ビットのGHZ状態に適用し、54量子ビットのGHZ状態を作成するようガイドします。そのために、54量子ビットGHZ状態には偶数量子ビットを使用し、奇数量子ビットはスタビライザーとして使用することにします。\n",
    "\n",
    "*注：奇数量子ビットと偶数量子ビットの使い方が違っても、同じレジスターを使うことにします。これは、特にDepthを手動で最適化する場合に、最初の127量子ビットのGHZ状態を簡単に作成できるようにするためです。*"
   ]
  },
  {
   "cell_type": "code",
   "execution_count": null,
   "id": "f9407094",
   "metadata": {
    "slideshow": {
     "slide_type": "-"
    },
    "tags": []
   },
   "outputs": [],
   "source": [
    "# Importing all the parts we need\n",
    "from typing import List, Optional\n",
    "\n",
    "from qiskit import transpile, QuantumCircuit, QuantumRegister, ClassicalRegister\n",
    "from qiskit.result import marginal_counts\n",
    "\n",
    "import warnings\n",
    "\n",
    "warnings.filterwarnings(\"ignore\")\n",
    "\n",
    "import math\n",
    "\n",
    "pi = math.pi\n",
    "\n",
    "# Preparing registers\n",
    "quantum_register = QuantumRegister(127)\n",
    "classical_register = ClassicalRegister(127)\n",
    "\n",
    "# For simplicity we map the physical qubits to the logical qubits directly using the same number.\n",
    "initial_layout = [\n",
    "    0,\n",
    "    1,\n",
    "    2,\n",
    "    3,\n",
    "    4,\n",
    "    5,\n",
    "    6,\n",
    "    7,\n",
    "    8,\n",
    "    9,\n",
    "    10,\n",
    "    11,\n",
    "    12,\n",
    "    13,\n",
    "    14,\n",
    "    15,\n",
    "    16,\n",
    "    17,\n",
    "    18,\n",
    "    19,\n",
    "    20,\n",
    "    21,\n",
    "    22,\n",
    "    23,\n",
    "    24,\n",
    "    25,\n",
    "    26,\n",
    "    27,\n",
    "    28,\n",
    "    29,\n",
    "    30,\n",
    "    31,\n",
    "    32,\n",
    "    33,\n",
    "    34,\n",
    "    35,\n",
    "    36,\n",
    "    37,\n",
    "    38,\n",
    "    39,\n",
    "    40,\n",
    "    41,\n",
    "    42,\n",
    "    43,\n",
    "    44,\n",
    "    45,\n",
    "    46,\n",
    "    47,\n",
    "    48,\n",
    "    49,\n",
    "    50,\n",
    "    51,\n",
    "    52,\n",
    "    53,\n",
    "    54,\n",
    "    55,\n",
    "    56,\n",
    "    57,\n",
    "    58,\n",
    "    59,\n",
    "    60,\n",
    "    61,\n",
    "    62,\n",
    "    63,\n",
    "    64,\n",
    "    65,\n",
    "    66,\n",
    "    67,\n",
    "    68,\n",
    "    69,\n",
    "    70,\n",
    "    71,\n",
    "    72,\n",
    "    73,\n",
    "    74,\n",
    "    75,\n",
    "    76,\n",
    "    77,\n",
    "    78,\n",
    "    79,\n",
    "    80,\n",
    "    81,\n",
    "    82,\n",
    "    83,\n",
    "    84,\n",
    "    85,\n",
    "    86,\n",
    "    87,\n",
    "    88,\n",
    "    89,\n",
    "    90,\n",
    "    91,\n",
    "    92,\n",
    "    93,\n",
    "    94,\n",
    "    95,\n",
    "    96,\n",
    "    97,\n",
    "    98,\n",
    "    99,\n",
    "    100,\n",
    "    101,\n",
    "    102,\n",
    "    103,\n",
    "    104,\n",
    "    105,\n",
    "    106,\n",
    "    107,\n",
    "    108,\n",
    "    109,\n",
    "    110,\n",
    "    111,\n",
    "    112,\n",
    "    113,\n",
    "    114,\n",
    "    115,\n",
    "    116,\n",
    "    117,\n",
    "    118,\n",
    "    119,\n",
    "    120,\n",
    "    121,\n",
    "    122,\n",
    "    123,\n",
    "    124,\n",
    "    125,\n",
    "    126,\n",
    "]\n",
    "# The \"even\"\" qubits will be used for the 54 qubit GHZ-state\n",
    "ghz_qubits = [\n",
    "    0,\n",
    "    2,\n",
    "    4,\n",
    "    6,\n",
    "    8,\n",
    "    10,\n",
    "    12,\n",
    "    18,\n",
    "    20,\n",
    "    22,\n",
    "    24,\n",
    "    26,\n",
    "    28,\n",
    "    30,\n",
    "    32,\n",
    "    37,\n",
    "    39,\n",
    "    41,\n",
    "    43,\n",
    "    45,\n",
    "    47,\n",
    "    49,\n",
    "    51,\n",
    "    56,\n",
    "    58,\n",
    "    60,\n",
    "    62,\n",
    "    64,\n",
    "    66,\n",
    "    68,\n",
    "    70,\n",
    "    75,\n",
    "    77,\n",
    "    79,\n",
    "    81,\n",
    "    83,\n",
    "    85,\n",
    "    87,\n",
    "    89,\n",
    "    94,\n",
    "    96,\n",
    "    98,\n",
    "    100,\n",
    "    102,\n",
    "    104,\n",
    "    106,\n",
    "    108,\n",
    "    114,\n",
    "    116,\n",
    "    118,\n",
    "    120,\n",
    "    122,\n",
    "    124,\n",
    "    126,\n",
    "]\n",
    "# The \"odd\" qubits will be used as the stabilizers\n",
    "stabilizer_qubits = [\n",
    "    1,\n",
    "    3,\n",
    "    5,\n",
    "    7,\n",
    "    9,\n",
    "    11,\n",
    "    14,\n",
    "    15,\n",
    "    16,\n",
    "    17,\n",
    "    19,\n",
    "    21,\n",
    "    23,\n",
    "    25,\n",
    "    27,\n",
    "    29,\n",
    "    31,\n",
    "    33,\n",
    "    34,\n",
    "    35,\n",
    "    36,\n",
    "    38,\n",
    "    40,\n",
    "    42,\n",
    "    44,\n",
    "    46,\n",
    "    48,\n",
    "    50,\n",
    "    52,\n",
    "    53,\n",
    "    54,\n",
    "    55,\n",
    "    57,\n",
    "    59,\n",
    "    61,\n",
    "    63,\n",
    "    65,\n",
    "    67,\n",
    "    69,\n",
    "    71,\n",
    "    72,\n",
    "    73,\n",
    "    74,\n",
    "    76,\n",
    "    78,\n",
    "    80,\n",
    "    82,\n",
    "    84,\n",
    "    86,\n",
    "    88,\n",
    "    90,\n",
    "    91,\n",
    "    92,\n",
    "    93,\n",
    "    95,\n",
    "    97,\n",
    "    99,\n",
    "    101,\n",
    "    103,\n",
    "    105,\n",
    "    107,\n",
    "    109,\n",
    "    110,\n",
    "    111,\n",
    "    112,\n",
    "    115,\n",
    "    117,\n",
    "    119,\n",
    "    121,\n",
    "    123,\n",
    "    125,\n",
    "]"
   ]
  },
  {
   "cell_type": "markdown",
   "id": "9670bffa",
   "metadata": {
    "slideshow": {
     "slide_type": "-"
    },
    "tags": []
   },
   "source": [
    "## Step 1: 大きなGHZ状態を作る\n",
    "\n",
    "多くの量子アルゴリズムでは、複数の量子ビットを互いにエンタングルする必要があります。\n",
    "アルゴリズムでよく使われる状態の1つに、一般化されたGHZ状態があり、 $(\\alpha |00...0\\rangle + \\beta |11...1\\rangle)$ このとき $\\alpha = \\beta$ という状態です。\n",
    "\n",
    "GHZ状態は完全にエンタングルされており、任意の数の量子ビットに一般化することができます。ここでは、これを用いて127量子ビットのGHZ状態を作ることにします！\n",
    "**何個の量子ビットによるGHZ状態であっても、GHZ状態は測定されると、すべての量子ビットが0か1かのどちらかになっています。**\n",
    "\n",
    "ここでのchallengeは、127個の量子ビットを理論的にエンタングルさせることではなく、 _実際のデバイス上で_ エンタングルさせることです。つまり、デバイスのレイアウトを考慮する必要があります（例えば、互いに直接接続されていない量子ビットの間でCXゲートを使用しないなど）。また、ノイズを減らすために、回路の深さをできるだけ小さくするようにする必要があります。"
   ]
  },
  {
   "cell_type": "markdown",
   "id": "c77681b8",
   "metadata": {},
   "source": [
    "### Exercise 1\n",
    "\n",
    "アダマールゲートとCNOTゲートだけを使って、127量子ビットのデバイス `ibm_sherbrook` にGHZ状態を生成してください。できるだけ回路のDepthが小さくなるようにしてみてください。\n",
    "\n",
    "*ヒント：すべての量子ビットが互いに接続されている理想的なデバイスに対して、（最小のDepthで）どのように行うかを最初に考えることが助けになることがあります。*"
   ]
  },
  {
   "cell_type": "code",
   "execution_count": null,
   "id": "58360d4f",
   "metadata": {
    "slideshow": {
     "slide_type": "-"
    },
    "tags": []
   },
   "outputs": [],
   "source": [
    "def generate_ghz127():\n",
    "    qc = QuantumCircuit(quantum_register, classical_register)\n",
    "\n",
    "    ####### your code goes here #######\n",
    "\n",
    "    return qc\n",
    "\n",
    "\n",
    "ghz_circuit = generate_ghz127()\n",
    "print(ghz_circuit.depth())"
   ]
  },
  {
   "cell_type": "code",
   "execution_count": null,
   "id": "9990c68f",
   "metadata": {
    "slideshow": {
     "slide_type": "-"
    },
    "tags": []
   },
   "outputs": [],
   "source": [
    "# Submit your circuit\n",
    "\n",
    "from qc_grader.challenges.spring_2023 import grade_ex5a\n",
    "\n",
    "grade_ex5a(ghz_circuit)"
   ]
  },
  {
   "cell_type": "markdown",
   "id": "f145d72d",
   "metadata": {
    "slideshow": {
     "slide_type": "-"
    },
    "tags": []
   },
   "source": [
    "## Step 2: サイズを半分にする\n",
    "\n",
    "ここで、作成したGHZ状態を利用して、偶数量子ビットを使った縮小GHZ状態を形成したいと思います。そのためには、GHZ状態を崩壊させることなく測定できるように、奇数量子ビットのエンタングルメントを解消させる必要があります。\n",
    "\n",
    "量子ビットをアンエンタングルしたいので、Lab４でやったのと同じように、 **スタビライザー** を生成する方法で行います。スタビライザーは、接続されている両方の量子ビットが同じ値であれば0になり、異なる値であれば1になるはずです。\n",
    "\n",
    "このようなことをすることに何の意味があるのでしょうか？鋭い観察者はすでに気づいているかもしれませんが、このスタビライザーを使って、縮小されたGHZ状態にエラー訂正を適用することができるのです。"
   ]
  },
  {
   "cell_type": "markdown",
   "id": "33a23ab1",
   "metadata": {},
   "source": [
    "### Exercise 2\n",
    "\n",
    "スタビライザーを作るために、作られたGHZ状態の奇数量子ビットをアンエンタングルしてください。ここでも、回路のDepthをできるだけ小さくすることに挑戦できます。\n",
    "\n",
    "*ヒント：上記のGHZ状態の作り方を考慮に入れてください。アンエンタングリングの方法は、その作成方法に特化したものです。*"
   ]
  },
  {
   "cell_type": "code",
   "execution_count": null,
   "id": "8ef45f6c",
   "metadata": {
    "slideshow": {
     "slide_type": "-"
    },
    "tags": []
   },
   "outputs": [],
   "source": [
    "def deentangle_qubits():\n",
    "    qc = QuantumCircuit(quantum_register, classical_register)\n",
    "\n",
    "    ####### your code goes here #######\n",
    "\n",
    "    return qc\n",
    "\n",
    "\n",
    "unentangle_circuit = deentangle_qubits()\n",
    "print(unentangle_circuit.depth())\n",
    "\n",
    "complete_circuit = ghz_circuit.compose(unentangle_circuit)"
   ]
  },
  {
   "cell_type": "code",
   "execution_count": null,
   "id": "2131c150",
   "metadata": {
    "slideshow": {
     "slide_type": "-"
    },
    "tags": []
   },
   "outputs": [],
   "source": [
    "# Submit your circuit\n",
    "\n",
    "from qc_grader.challenges.spring_2023 import grade_ex5b\n",
    "\n",
    "grade_ex5b(complete_circuit)"
   ]
  },
  {
   "cell_type": "markdown",
   "id": "9db5aeae",
   "metadata": {
    "slideshow": {
     "slide_type": "-"
    },
    "tags": []
   },
   "source": [
    "よくできました。さて、すべての奇数量子ビットは偶数量子ビットとエンタングルしていないので、GHZ状態を壊すことなく測定することができます。"
   ]
  },
  {
   "cell_type": "code",
   "execution_count": null,
   "id": "6c57716b",
   "metadata": {
    "slideshow": {
     "slide_type": "-"
    },
    "tags": []
   },
   "outputs": [],
   "source": [
    "# Measuring stabilizers this can also be used in post processing to see what went wrong.\n",
    "\n",
    "\n",
    "def measure_stabilizers():\n",
    "    qc = QuantumCircuit(quantum_register, classical_register)\n",
    "    qc.measure(stabilizer_qubits, stabilizer_qubits)\n",
    "    return qc\n",
    "\n",
    "\n",
    "stabilizer_circuit = measure_stabilizers()"
   ]
  },
  {
   "cell_type": "markdown",
   "id": "4b2026fd",
   "metadata": {
    "slideshow": {
     "slide_type": "-"
    },
    "tags": []
   },
   "source": [
    "これらの測定結果は、54量子ビットのGHZ状態を改善するために使用することができますが、このアイデアは後で検討します。\n",
    "\n",
    "奇数量子ビットを測定した後、それらをリセットし、奇数量子ビットを潜在的な補助量子ビットとして使って、54量子ビットのGHZ状態をアルゴリズムに使用することができます。しかし、GHZ状態を使う前に、その実力を試してみましょう。\n",
    "\n",
    "54量子ビットのGHZ状態を測定する必要があります！"
   ]
  },
  {
   "cell_type": "code",
   "execution_count": null,
   "id": "3eaff012",
   "metadata": {
    "slideshow": {
     "slide_type": "-"
    },
    "tags": []
   },
   "outputs": [],
   "source": [
    "# Measuring the GHZ qubits\n",
    "\n",
    "\n",
    "def measure_ghz():\n",
    "    qc = QuantumCircuit(quantum_register, classical_register)\n",
    "    qc.measure(ghz_qubits, ghz_qubits)\n",
    "    return qc\n",
    "\n",
    "\n",
    "measure_circuit = measure_ghz()"
   ]
  },
  {
   "cell_type": "markdown",
   "id": "59a4920e",
   "metadata": {
    "slideshow": {
     "slide_type": "-"
    },
    "tags": []
   },
   "source": [
    "では、すべてをまとめて、テストできるようにしましょう。"
   ]
  },
  {
   "cell_type": "code",
   "execution_count": null,
   "id": "c1e64e74",
   "metadata": {
    "slideshow": {
     "slide_type": "-"
    },
    "tags": []
   },
   "outputs": [],
   "source": [
    "# Everything together\n",
    "\n",
    "simple_ghz = (\n",
    "    ghz_circuit.compose(unentangle_circuit)\n",
    "    .compose(stabilizer_circuit)\n",
    "    .compose(measure_circuit)\n",
    ")"
   ]
  },
  {
   "cell_type": "markdown",
   "id": "de7ae427",
   "metadata": {
    "slideshow": {
     "slide_type": "-"
    },
    "tags": []
   },
   "source": [
    "## Step 3: 準備し、実デバイスで実行する\n",
    "\n",
    "GHZ状態を実際のデバイス上で実行する準備が整いましたので、`ibm_sherbrooke`の出番です。\n",
    "\n",
    "127個の量子ビットを扱ったことのある人は、世界でもそう多くはないでしょう。あなたはすぐに、自分がその一人であると言える数少ない勇者の一人になるでしょう。量子コンピューターにとっては小さな一歩、あなたの履歴書にとっては大きな一歩です。\n",
    "\n",
    "冗談です :-P\n",
    "\n",
    "-----\n",
    "\n",
    "まず、必要なものをすべて準備します。\n"
   ]
  },
  {
   "cell_type": "code",
   "execution_count": null,
   "id": "129b5b44",
   "metadata": {
    "slideshow": {
     "slide_type": "-"
    },
    "tags": []
   },
   "outputs": [],
   "source": [
    "# Importing provider and getting access to the system\n",
    "from qiskit_ibm_provider import IBMProvider\n",
    "from qiskit import transpile\n",
    "\n",
    "\n",
    "provider = IBMProvider()\n",
    "\n",
    "\n",
    "hub = \"YOUR_HUB\"\n",
    "group = \"YOUR_GROUP\"\n",
    "project = \"YOUR_PROJECT\"\n",
    "\n",
    "backend_name = \"ibm_sherbrooke\"\n",
    "backend = provider.get_backend(backend_name, instance=f\"{hub}/{group}/{project}\")\n",
    "\n",
    "number_of_shots: int = 1024"
   ]
  },
  {
   "cell_type": "markdown",
   "id": "f0f0ad7d",
   "metadata": {
    "slideshow": {
     "slide_type": "-"
    },
    "tags": []
   },
   "source": [
    "まず、実際のデバイス用にトランスパイルすることから始めます。これは、あまり大きな変化はないはずです。なぜなら、回路を作るときに物理的なデバイスを念頭に置き、存在する接続だけを使用するようにした（はず）だからです。\n",
    "\n",
    "もしそうでなかったなら、今すぐ戻って修正するか、Discordに飛び込んで、そのプロセスをどのように考えるかについて他の人と話し合う良い機会だと思います。"
   ]
  },
  {
   "cell_type": "code",
   "execution_count": null,
   "id": "cb3a4b3d",
   "metadata": {
    "slideshow": {
     "slide_type": "-"
    },
    "tags": []
   },
   "outputs": [],
   "source": [
    "# First we transpile the GHZ-state for the actual device\n",
    "qc_transpiled = transpile(simple_ghz, backend, initial_layout=initial_layout)"
   ]
  },
  {
   "cell_type": "markdown",
   "id": "64ccc973",
   "metadata": {
    "slideshow": {
     "slide_type": "-"
    },
    "tags": []
   },
   "source": [
    "これで127量子ビットデバイスでジョブを実行する準備が整いました。将来、簡単に見つけられるように、ここにタグを追加しておきましょう。\n",
    "\n",
    "ジョブの実行には、他の人がどれだけジョブを実行しようとしているかにもよりますが、ある程度の時間がかかるでしょう。今日はもうコーヒーを飲まれましたか？それとも紅茶派ですか？Netflixで素晴らしい新番組があるそうですね。"
   ]
  },
  {
   "cell_type": "code",
   "execution_count": null,
   "id": "308bc730",
   "metadata": {
    "slideshow": {
     "slide_type": "-"
    },
    "tags": []
   },
   "outputs": [],
   "source": [
    "# Now we can run the job\n",
    "# We add memory=true to be easier able to analyse  how good the result were and the tags to make it easier to find it later.\n",
    "job = backend.run(\n",
    "    qc_transpiled,\n",
    "    shots=number_of_shots,\n",
    "    memory=True,\n",
    "    job_tags=[\"ghz_state\", \"spring_challenge\"],\n",
    ")\n",
    "\n",
    "job_id = job.job_id()\n",
    "print(job_id)"
   ]
  },
  {
   "cell_type": "markdown",
   "id": "9341b802",
   "metadata": {
    "slideshow": {
     "slide_type": "-"
    },
    "tags": []
   },
   "source": [
    "後で戻ってきて、ジョブを検索したい場合、IBM Quantum Computing Homepageで、上で使用したタグで見つけることができます。\n",
    "\n",
    "あなたのjobの名前（id）をコピーして、下のセルの *job_id* をあなたのものに置き換えてください。job IDは次のようなものです： *ch36cf1pleju56fajrqg*\n",
    "\n",
    "または、上記のセルのjob_idを直接使用することもできます。"
   ]
  },
  {
   "cell_type": "code",
   "execution_count": null,
   "id": "0b993112",
   "metadata": {
    "slideshow": {
     "slide_type": "-"
    },
    "tags": []
   },
   "outputs": [],
   "source": [
    "# Change job id to the id of your previous submitted job something like \"ch36cf1pleju56fajrqg\"\n",
    "# You only need to run this if you come back at a later time\n",
    "job = provider.backend.retrieve_job(job_id)\n",
    "job.status()"
   ]
  },
  {
   "cell_type": "code",
   "execution_count": null,
   "id": "7c59cf66",
   "metadata": {},
   "outputs": [],
   "source": [
    "# Getting the data of the job for testing\n",
    "data = job.result().get_memory()"
   ]
  },
  {
   "cell_type": "markdown",
   "id": "0ae6e04b",
   "metadata": {
    "slideshow": {
     "slide_type": "-"
    },
    "tags": []
   },
   "source": [
    "## Step 4: GHZ状態のテスト\n",
    "\n",
    "あなたはやり遂げました！127量子ビットマシンでGHZ状態の回路を走らせました。すごいですね!\n",
    "\n",
    "さて、GHZ状態の結果が出たので、次はそれを検証してみましょう。エラー緩和やエラー訂正は一切していませんので、まだまだ結果に改善が期待できます。\n",
    "\n",
    "結果がどの程度「良い」かを調べるには、さまざまな方法があります。生の結果を見ることもできますが、GHZ状態で使用される量子ビットは隣り合っていないので、少し煩わしいかもしれません。品質や、GHZ状態のエラーについて教えてくれる機能があれば便利です。"
   ]
  },
  {
   "cell_type": "markdown",
   "id": "6adcc2b0",
   "metadata": {},
   "source": [
    "### Exercise 3\n",
    "\n",
    "GHZ状態をテストするための関数を作成してください。\n",
    "\n",
    "Challengeの作成者として、私たちは、あなたが結果をどのようにテストしたいのか、ここでいくつかの自由を与えることにしました。 **あなたにとって** 理にかなった方法を見つけてください。関数の _出力が低いほど、_　GHZ状態が _良好である_ ことを示すことが重要です。\n",
    "\n",
    "*ヒント：この関数は作成したデータをテストするために作成する必要があるため、GHZ状態の一部である量子ビットのみをテストする必要があります。*\n"
   ]
  },
  {
   "cell_type": "code",
   "execution_count": null,
   "id": "5fd12309",
   "metadata": {
    "slideshow": {
     "slide_type": "-"
    },
    "tags": []
   },
   "outputs": [],
   "source": [
    "# A function to test the quality of a GHZ-state. The lower the better\n",
    "def test_ghz(data):\n",
    "    ghz_qubits = [\n",
    "        0,\n",
    "        2,\n",
    "        4,\n",
    "        6,\n",
    "        8,\n",
    "        10,\n",
    "        12,\n",
    "        18,\n",
    "        20,\n",
    "        22,\n",
    "        24,\n",
    "        26,\n",
    "        28,\n",
    "        30,\n",
    "        32,\n",
    "        37,\n",
    "        39,\n",
    "        41,\n",
    "        43,\n",
    "        45,\n",
    "        47,\n",
    "        49,\n",
    "        51,\n",
    "        56,\n",
    "        58,\n",
    "        60,\n",
    "        62,\n",
    "        64,\n",
    "        66,\n",
    "        68,\n",
    "        70,\n",
    "        75,\n",
    "        77,\n",
    "        79,\n",
    "        81,\n",
    "        83,\n",
    "        85,\n",
    "        81,\n",
    "        89,\n",
    "        94,\n",
    "        96,\n",
    "        98,\n",
    "        100,\n",
    "        102,\n",
    "        104,\n",
    "        106,\n",
    "        108,\n",
    "        114,\n",
    "        116,\n",
    "        118,\n",
    "        120,\n",
    "        122,\n",
    "        124,\n",
    "        126,\n",
    "    ]\n",
    "\n",
    "    ####### your code goes here #######\n",
    "\n",
    "\n",
    "test_ghz(data)"
   ]
  },
  {
   "cell_type": "markdown",
   "id": "eddbbd9f",
   "metadata": {
    "slideshow": {
     "slide_type": "-"
    },
    "tags": []
   },
   "source": [
    "これで、あなたが設計した関数に基づき、結果を評価する数字ができました。\n",
    "\n",
    "先に進む前に、自分のやり方について考えてみましょう。\n",
    "- 本当に良い状態の時の数値はどうでしょうか？\n",
    "- 本当に悪い状態の場合はどうでしょうか？\n",
    "- 「悪い状態」とはどのような状態なのでしょうか？\n",
    "- どうすれば、何を言っているのか理解しやすい関数を設計できるのか？\n",
    "\n",
    "これらの疑問は、IBMの研究者が日々考えていることであり、私たちのデバイスやサービスを可能な限り強く、わかりやすくするために、非常に高いモチベーションを保ち続けています。もし、あなたがこのような仕事に興味をお持ちなら、ぜひ教えてください！"
   ]
  },
  {
   "cell_type": "markdown",
   "id": "7b7b4690",
   "metadata": {},
   "source": [
    "それでは、テスト機能をテストして、それがすべきことをするかどうか見てみましょう。エラーの少ない良い状態には低い結果を、エラーの多い状態には高い結果を与えるべきであることを忘れないでください。"
   ]
  },
  {
   "cell_type": "code",
   "execution_count": null,
   "id": "17b365d2",
   "metadata": {
    "slideshow": {
     "slide_type": "-"
    },
    "tags": []
   },
   "outputs": [],
   "source": [
    "# Submit your circuit\n",
    "\n",
    "from qc_grader.challenges.spring_2023 import grade_ex5c\n",
    "\n",
    "# Since we test here a function, we do not need brackets after test_ghz, since the input is the function\n",
    "grade_ex5c(test_ghz)"
   ]
  },
  {
   "cell_type": "markdown",
   "id": "25ad62bb",
   "metadata": {},
   "source": [
    "\n",
    "さて、問題は、どうすれば改善できるかということです。\n",
    "\n",
    "まず、回路のDepthをもっと小さくしてみることです。トランスパイルされた回路のDepthを見てみましょう：\n"
   ]
  },
  {
   "cell_type": "code",
   "execution_count": null,
   "id": "1bd7edcb",
   "metadata": {
    "slideshow": {
     "slide_type": "-"
    },
    "tags": []
   },
   "outputs": [],
   "source": [
    "qc_transpiled.depth()"
   ]
  },
  {
   "cell_type": "markdown",
   "id": "b4a8bec6",
   "metadata": {
    "slideshow": {
     "slide_type": "-"
    },
    "tags": []
   },
   "source": [
    "トランスパイルプロセスで、Depthが2倍以上大きくなっていることがわかります。\n",
    "\n",
    "このDepthがどこから来たのか、その様子をみてみましょう。\n"
   ]
  },
  {
   "cell_type": "code",
   "execution_count": null,
   "id": "2e97400a",
   "metadata": {
    "slideshow": {
     "slide_type": "-"
    },
    "tags": []
   },
   "outputs": [],
   "source": [
    "qc_transpiled.draw()"
   ]
  },
  {
   "cell_type": "markdown",
   "id": "b8d0edaf",
   "metadata": {
    "slideshow": {
     "slide_type": "-"
    },
    "tags": []
   },
   "source": [
    "アダマールゲートとCXゲートが、他のゲートにトランスパイルされていることがわかります。IBMの量子デバイスはどれもアダマールゲートを直接サポートしていないので、アダマールゲートについては、驚くべきことではありません。アダマールゲートは常に3つの回転ゲートで構成されます。一方、ご覧のECRゲートは新しいもので、一部のデバイスでしか使われていません。これもCXゲートに似たエンタングルゲートですが、仕組みが少し違います。CXゲートは、ECRゲート１つとローカル回転ゲートだけで作ることができます。\n",
    "\n",
    "ECRゲートの詳細については、こちらをご覧ください.\n",
    ": https://qiskit.org/documentation/stable/0.39/stubs/qiskit.circuit.library.ECRGate.html \n",
    "\n",
    "\n",
    "Depthを減らすことは、エラー率を最小化するための最良の方法であることが多いです。ECRゲートが代わりに使われることがわかったところで、もっと良いDepthの回路を作ることはできないでしょうか？\n",
    "\n",
    "その疑問や、GHZ状態をより良くするための他の方法を探ることに興味がある方は、どうぞ先をお読みください。このLabの次の部分は、ボーナス・パートです。この後にExerciseはありません。これは、エラー訂正をどのように使うことができるかを示すための短い展望であると同時に、エラー訂正がなぜ難しいかを示すためのものです。\n"
   ]
  },
  {
   "cell_type": "markdown",
   "id": "d9a77d15",
   "metadata": {},
   "source": [
    "続けるにしても、続けないにしても、自分に拍手を送ってあげてください： あなたは今、IBM Quantum Challenge: Spring 2023を完了したところです！Discordで他のみんなに自慢してください。Discordでお会いしましょう！"
   ]
  },
  {
   "cell_type": "markdown",
   "id": "de53b4dd",
   "metadata": {
    "slideshow": {
     "slide_type": "-"
    },
    "tags": []
   },
   "source": [
    "# ボーナス: エラー訂正への道\n",
    "\n",
    "エラー訂正は、今でも活発で重要な研究テーマです。そのため、実機でのエラー訂正は、今回のGHZ状態の例のような単純なケースであっても、それほど簡単ではありません。このページでは、どのような方法が考えられるかについて、いくつかのガイダンスやヒントを提供しながら、独自のアイデアを生み出す機会を提供したいと思います。\n",
    "\n",
    "\n",
    "\n",
    "## Step 1: 実際の状態はどの程度よかったのか？\n",
    "\n",
    "エラーを修正する前に、まず状態がどの程度良かったかを知る必要がありますが、これさえも思ったほど簡単ではありません。\n",
    "\n",
    "あなたのGHZ状態がどれだけ優れているかをテストする最も簡単な方法は、偶数量子ビットのうち、どれだけが多数派と異なる結果を得たかを調べることです。この方法は、上記で使用した方が多いのではないでしょうか？\n",
    "\n",
    "しかし、これは必ずしもエラーの発生回数と相関があることを意味するものではありません。そして、GHZの良し悪しを知るには、エラーの発生数の方が重要であるとも言えます。\n",
    "\n",
    "\n",
    "**例 A** : この考えを説明するために、例えば、10個の一列に並んだ量子ビットで、GHZ状態を形成するとします：\n",
    "\n",
    "0 - 1 - 2 - 3 - 4 - 5 - 6 - 7 - 8 - 9\n",
    "\n",
    "ここで、読み出しではなく、量子ビット4と量子ビット5の間でエンタングルゲートを適用したときにエラーが発生したとすると、出力は次のようになります：\n",
    "\n",
    "0000011111 \n",
    "\n",
    "これは、「何個の量子ビットが同じ結果を出すか」という測定において、最悪の結果となります。\n",
    "\n",
    "このため、より多くのエラーが発生するようにすれば、「何個の量子ビットが同じ結果を持つか」をより正確に測定できる可能性がありますが、ほとんどの場合、その状態はあまり役に立たなくなります。\n",
    "\n",
    "もし上記のような状態が作られ、量子ビットの間で(機能する)スタビライザー測定が行われていたとしたら、量子ビット4と5の間の測定値が1になるだけです。そして、このエラーを修正するために、量子ビット5-9を反転させることが可能です。\n",
    "\n",
    "あなたのケースでエラーがどのように見えるかを知るには、実際のデバイスで実行した結果である生データを見て、GHZ状態をどのように構築したかを考慮するのが良いアイデアかもしれません。\n",
    "\n",
    "**例A** の場合、次のようなエラー訂正が考えられます："
   ]
  },
  {
   "cell_type": "code",
   "execution_count": null,
   "id": "fe95aa8e",
   "metadata": {
    "slideshow": {
     "slide_type": "-"
    },
    "tags": []
   },
   "outputs": [],
   "source": [
    "# Simple idea for Example A find where the error happened and flip accordingly\n",
    "def correct_ghz():\n",
    "    qc = QuantumCircuit(quantum_register, classical_register)\n",
    "\n",
    "    with qc.if_test((classical_register[9], 1)):\n",
    "        qc.x(quantum_register[9])\n",
    "\n",
    "    with qc.if_test((classical_register[8], 1)):\n",
    "        qc.x(quantum_register[8])\n",
    "\n",
    "    with qc.if_test((classical_register[8], 1)):\n",
    "        qc.x(quantum_register[9])\n",
    "\n",
    "    with qc.if_test((classical_register[7], 1)):\n",
    "        qc.x(quantum_register[9])\n",
    "\n",
    "    with qc.if_test((classical_register[7], 1)):\n",
    "        qc.x(quantum_register[8])\n",
    "\n",
    "    with qc.if_test((classical_register[7], 1)):\n",
    "        qc.x(quantum_register[7])\n",
    "\n",
    "    # ...\n",
    "\n",
    "    # qc.barrier()\n",
    "    return qc\n",
    "\n",
    "\n",
    "correcting_circuit = correct_ghz()"
   ]
  },
  {
   "cell_type": "markdown",
   "id": "f885b4ca",
   "metadata": {
    "slideshow": {
     "slide_type": "-"
    },
    "tags": []
   },
   "source": [
    "そして、もし今、私たちが上記のコードを私たちの54GHZのケースに適応させるなら、すべてを一緒に構築することができます："
   ]
  },
  {
   "cell_type": "code",
   "execution_count": null,
   "id": "f7d55227",
   "metadata": {
    "slideshow": {
     "slide_type": "-"
    },
    "tags": []
   },
   "outputs": [],
   "source": [
    "# Everything together corrected\n",
    "\n",
    "error_corrected_ghz = (\n",
    "    ghz_circuit.compose(unentangle_circuit)\n",
    "    .compose(stabilizer_circuit)\n",
    "    .compose(correcting_circuit)\n",
    "    .compose(measure_circuit)\n",
    ")"
   ]
  },
  {
   "cell_type": "markdown",
   "id": "31e44cd3",
   "metadata": {
    "slideshow": {
     "slide_type": "-"
    },
    "tags": []
   },
   "source": [
    "## Step 2: なぜ単一のスタビライザーだけでは不十分なのか\n",
    "\n",
    "エラー訂正のExerciseでは、スタビライザー量子ビットの測定から、1ビット、またはビット列全体を使用して、その演算を条件付けることができることを確認しました。\n",
    "\n",
    "スタビライザー測定は54ビットなので、ビット列全体を条件付けに使うのは現実的ではありません。なぜなら、2^54個の異なるビット列を考慮する必要があるからです。\n",
    "\n",
    "一方、1ビットだけを考慮する場合は、不可能であるか、または過度に複雑になる可能性があります。\n",
    "\n",
    "\n",
    "**例**: 再び10個の量子ビットを一列に接続し、それらでGHZ状態を形成します：\n",
    "\n",
    "0 - 1 - 2 - 3 - 4 - 5 - 6 - 7 - 8 - 9\n",
    "\n",
    "ここで、測定結果として0000010000が得られたと仮定します。\n",
    "\n",
    "この場合、スタビライザー測定では、1の右側と1の左側がともに値1になります。\n",
    "\n",
    "つまり、この場合、1つのスタビライザーを見ただけでは、5番の量子ビットを反転させればよい（他の量子ビットは反転させない）ことを知るには不十分であることがわかります。ただし、いくつかの量子ビットを何度も反転させてもよいという場合はこの限りではありませんが、それは理想的ではありません。\n",
    "\n",
    "そこで、この場合、スタビライザーの測定結果に関数を適用し、その結果を動的回路の条件として使用できれば理想的です。\n",
    "\n",
    "これは可能ですが、QiskitではなくOpen QASM3のコードで行う必要があり、このExerciseでは取り上げません。\n",
    "Open QASM3によるDynamic Circuitについてもっと知りたい場合は、ここで情報を得ることができます： \n",
    "\n",
    "https://quantum-computing.ibm.com/services/resources/docs/resources/manage/systems/dynamic-circuits/Dynamic-Circuits-basics-with-OpenQASM3\n",
    "\n",
    "以下は、Open QASM3のコードの簡単な例です："
   ]
  },
  {
   "cell_type": "code",
   "execution_count": null,
   "id": "2f6a1a2b",
   "metadata": {
    "slideshow": {
     "slide_type": "-"
    },
    "tags": []
   },
   "outputs": [],
   "source": [
    "from qiskit import qasm3, QuantumCircuit, transpile\n",
    "\n",
    "# Creating a bell circuit\n",
    "qc_bell = QuantumCircuit(2, 2)\n",
    "qc_bell.h(0)\n",
    "qc_bell.cx(0, 1)\n",
    "qc_bell.measure(0, 0)\n",
    "qc_bell.measure(0, 1)\n",
    "\n",
    "# Transpiling it for our device (as above it does not have the H- and CX- Gates)\n",
    "qc_bell = transpile(qc_bell, backend)\n",
    "\n",
    "# Generate qasm3 code before we can print it\n",
    "exporter = qasm3.Exporter(\n",
    "    includes=[], disable_constants=True, basis_gates=backend.configuration().basis_gates\n",
    ")\n",
    "print(qasm3_bell := exporter.dumps(qc_bell))\n",
    "\n",
    "# Draw a circuit as comparison\n",
    "qc_bell.draw(output=\"mpl\", idle_wires=False)"
   ]
  },
  {
   "cell_type": "markdown",
   "id": "39f80682",
   "metadata": {
    "slideshow": {
     "slide_type": "-"
    },
    "tags": []
   },
   "source": [
    "## Step 3: エラーを増やさないためにはどうするか？\n",
    "\n",
    "\n",
    "エラーが発生する原因はさまざまです。時間経過によるデコヒーレンスや、CX-Gateのようなエンタングルゲートで発生するエラーは、そのうちの2つです。この2つはスタビライザーにも当てはまるので、本末転倒にならないように、エラーを修正しようとすることでノイズを増やさないようにする必要があります。将来的には、一般的なエラーレートがさらに下がるので、それほど問題にはならないかもしれませんが、それでも考慮しなければならないことです。\n",
    "\n",
    "このことは、私たちにとってどのような意味を持つのでしょうか？\n",
    "\n",
    "スタビライザーを作成し、測定したい時について考えてみましょう。次の量子ビットのエンタングルに使われなくなった後、直接エンタングルを解くのでしょうか？ 回路全体がエンタングルされるまで待つのでしょうか？(これはもちろん、どのような種類のエラーを修正したいかによります。）また、スタビライザーをリセットして、後で新しいものを作る（同じ量子ビットを使う）、エラーを修正するために2つのフェーズを使う、ということも考えられます。\n",
    "\n",
    "そして、（スタビライザーを通して）量子ビットをエンタングルすることでエラーが発生する確率はどれくらいなのかを考え、スタビライザーをアンエンタングルすることでエラーが発生する確率と比較することができます。つまり、スタビライザーがあることで、かえって悪化しているのかも？\n",
    "\n",
    "その価値はいつあるのでしょうか？以下のコードで遊んでみて、印象やアイデアを得ることができます。ただし、これは将来、エラーレートがさらに低下したときに変更される可能性があります。"
   ]
  },
  {
   "cell_type": "code",
   "execution_count": null,
   "id": "a2afba89",
   "metadata": {
    "slideshow": {
     "slide_type": "-"
    },
    "tags": []
   },
   "outputs": [],
   "source": [
    "# All the probabilities here only consider errors introduced by the CX gate and assumes they are bit flip errors.\n",
    "\n",
    "# Probability for a single CX gate\n",
    "p1 = 0.01\n",
    "# Probability that there is an error after 2 CX gates (going through stabilizer)\n",
    "p2 = p1 * (1 - p1) + (1 - p1) * p\n",
    "# Probability that the stabilizer shows something wrong even though it is correct\n",
    "p3 = p1 * p1 + (1 - p1) * (1 - p1) * p1\n",
    "\n",
    "print(\"Probability of a single cx having an error: {}\".format(p1))\n",
    "print(\"Probability of having an error after 2 cx: {:.4f}\".format(p2))\n",
    "print(\"Probability of the stabilizer showing a non existent error: {:.4f}\".format(p3))"
   ]
  },
  {
   "cell_type": "markdown",
   "id": "ff778647",
   "metadata": {
    "slideshow": {
     "slide_type": "-"
    },
    "tags": []
   },
   "source": [
    "## Step 4: 何ができるでしょうか？\n",
    "\n",
    "あなたが試せる可能性はたくさんあります：\n",
    "\n",
    "\n",
    "\n",
    "- 複数のスタビライザーを使って何か良い論理的な機能を見つけ、QASM3を使ってみるのも良いでしょう。\n",
    "\n",
    "- スタビライザーをリセットして再利用することを考えることができます。\n",
    "\n",
    "- 例Aのようなシンプルな方法をうまく使えないか試すことができます（測定するタイミングを変えるなど）。\n",
    "\n",
    "- 自分自身のアイデアを見つけることができます！クリエイティブになりましょう！\n",
    "\n",
    "\n",
    "いずれも重要なのは、やみくもに量子コンピュータで試すのではなく、最初のGHZ状態を走らせたデータを使って、まず自分の考えを検証してみることです。\n",
    "\n",
    "上記でテストデータを作成しました： GHZ状態の出力と、スタビライザーの出力があります。\n",
    "\n",
    "あなたのアプローチが後処理としてうまくいかないのであれば、実機で動作させれば、すべての演算にさらなるエラーレートが発生するため、うまくいかないでしょう。\n",
    "\n",
    "手持ちのデータで理論的に動作するアルゴリズムができたら（テストによりGHZ状態が良くなったら）、以下のコードを使って、エラー訂正を含む回路全体を実機で動かしてみることができるようになります。\n",
    "\n",
    "*ヒント：上記のerror_correction関数を使用し、上記のerror_corrected_ghzも生成することを確認してください。"
   ]
  },
  {
   "cell_type": "code",
   "execution_count": null,
   "id": "fe76cf5d",
   "metadata": {
    "slideshow": {
     "slide_type": "-"
    },
    "tags": []
   },
   "outputs": [],
   "source": [
    "# First we transpile the GHZ-state for the actual device\n",
    "qc_corrected_transpiled = transpile(\n",
    "    error_corrected_ghz, backend, initial_layout=initial_layout\n",
    ")\n",
    "\n",
    "# Now we can run the job\n",
    "job_corrected = backend.run(\n",
    "    qc_corrected_transpiled,\n",
    "    dynamic=True,\n",
    "    shots=number_of_shots,\n",
    "    memory=True,\n",
    "    job_tags=[\"dynamic\", \"spring_challenge\"],\n",
    ")\n",
    "\n",
    "job_id = job_corrected.job_id()\n",
    "print(job_id)"
   ]
  },
  {
   "cell_type": "code",
   "execution_count": null,
   "id": "46993892",
   "metadata": {},
   "outputs": [],
   "source": [
    "job_corrected = provider.retrieve_job(job_id)\n",
    "job_corrected.status()"
   ]
  },
  {
   "cell_type": "code",
   "execution_count": null,
   "id": "5b137691",
   "metadata": {},
   "outputs": [],
   "source": [
    "# And get the results back\n",
    "counts_corrected = job_corrected.result().get_counts()"
   ]
  }
 ],
 "metadata": {
  "celltoolbar": "Slideshow",
  "kernelspec": {
   "display_name": "Python 3 (ipykernel)",
   "language": "python",
   "name": "python3"
  },
  "language_info": {
   "codemirror_mode": {
    "name": "ipython",
    "version": 3
   },
   "file_extension": ".py",
   "mimetype": "text/x-python",
   "name": "python",
   "nbconvert_exporter": "python",
   "pygments_lexer": "ipython3",
   "version": "3.10.8"
  },
  "vscode": {
   "interpreter": {
    "hash": "31f2aee4e71d21fbe5cf8b01ff0e069b9275f58929596ceb00d14d90e3e16cd6"
   }
  },
  "widgets": {
   "application/vnd.jupyter.widget-state+json": {
    "state": {},
    "version_major": 2,
    "version_minor": 0
   }
  }
 },
 "nbformat": 4,
 "nbformat_minor": 5
}
