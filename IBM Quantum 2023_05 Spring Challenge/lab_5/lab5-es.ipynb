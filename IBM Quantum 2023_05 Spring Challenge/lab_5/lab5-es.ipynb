{
 "cells": [
  {
   "cell_type": "markdown",
   "id": "6c0b91dd-fd14-4bd9-955c-bb7580ab71ed",
   "metadata": {},
   "source": [
    "# Desafío 5: Usar 127 Qubits\n",
    "\n",
    "¡Felicitaciones por resolver los desafíos anteriores! Has demostrado que puedes utilizar con éxito circuitos dinámicos.\n",
    "Como recompensa por llegar tan lejos, podrás usar uno de nuestros dispositivos de 127 qubits.\n",
    "\n",
    "Como recordatorio, para ganar una insignia por completar el Desafío, debes haber terminado 4 de los 5 laboratorios. Tomamos esa decisión a propósito, porque sabemos que este laboratorio (a) será desafiante técnicamente y (b) utilizará uno de nuestro hardware más avanzado. La verdad al lanzar dispositivos de más de 100 qubits para que los use el público es que puede haber retrasos significativos en su capacidad para ejecutar tus trabajos. Es posible (¡aunque esperamos que no!) que no realices tu trabajo con éxito al final del Desafío. Ten en cuenta que estamos haciendo todo lo posible tras bambalinas para que tu experiencia sea un éxito, pero también tenemos un número récord de participantes en el Desafío de este año. Se amable y no envíes tus circuitos una y otra vez, lo que obstruirá la fila.\n",
    "\n",
    "Está bien, toma una respiración profunda. ¡Aquí vamos!"
   ]
  },
  {
   "cell_type": "markdown",
   "id": "6d2618d2-cfb6-4902-8e0f-c7fab74a84a0",
   "metadata": {},
   "source": [
    "Ya has visto que trabajar con dispositivos físicos reales presenta su propio conjunto de desafíos.\n",
    "Esto es aún más cierto cuando deseas utilizar una gran cantidad de qubits, ya que las rutas pueden volverse largas y debes tener cuidado con la introducción de errores. Usaremos ibm_sherbrook como nuestro dispositivo.\n",
    "\n",
    "En este desafío, queremos que prepares un estado de 127 qubits completamente entrelazado, el llamado \"estado GHZ\", de una manera inteligente.\n",
    "\n",
    "Después de eso, te guiaremos para que apliques tu conocimiento de corrección de errores al estado GHZ de 127 qubits para luego crear un buen estado GHZ de 54 qubits. Para esto, usaremos los qubits pares para el estado GHZ de 54 qubits, lo que deja los qubits impares para usarlos como estabilizadores.\n",
    "\n",
    "*Nota: Usaremos el mismo registro para los qubits pares e impares, aunque se usarán de manera diferente. Hacemos esto porque facilitará la creación del estado GHZ inicial de 127 qubits, especialmente cuando deseas optimizar la profundidad manualmente.*"
   ]
  },
  {
   "cell_type": "code",
   "execution_count": null,
   "id": "ff5a01f6-c357-4d6d-8c86-95991b311231",
   "metadata": {
    "slideshow": {
     "slide_type": "-"
    },
    "tags": []
   },
   "outputs": [],
   "source": [
    "# Importing all the parts we need\n",
    "from typing import List, Optional\n",
    "\n",
    "from qiskit import transpile, QuantumCircuit, QuantumRegister, ClassicalRegister\n",
    "from qiskit.result import marginal_counts\n",
    "\n",
    "import warnings\n",
    "\n",
    "warnings.filterwarnings(\"ignore\")\n",
    "\n",
    "import math\n",
    "\n",
    "pi = math.pi\n",
    "\n",
    "# Preparing registers\n",
    "quantum_register = QuantumRegister(127)\n",
    "classical_register = ClassicalRegister(127)\n",
    "\n",
    "# For simplicity we map the physical qubits to the logical qubits directly using the same number.\n",
    "initial_layout = [\n",
    "    0,\n",
    "    1,\n",
    "    2,\n",
    "    3,\n",
    "    4,\n",
    "    5,\n",
    "    6,\n",
    "    7,\n",
    "    8,\n",
    "    9,\n",
    "    10,\n",
    "    11,\n",
    "    12,\n",
    "    13,\n",
    "    14,\n",
    "    15,\n",
    "    16,\n",
    "    17,\n",
    "    18,\n",
    "    19,\n",
    "    20,\n",
    "    21,\n",
    "    22,\n",
    "    23,\n",
    "    24,\n",
    "    25,\n",
    "    26,\n",
    "    27,\n",
    "    28,\n",
    "    29,\n",
    "    30,\n",
    "    31,\n",
    "    32,\n",
    "    33,\n",
    "    34,\n",
    "    35,\n",
    "    36,\n",
    "    37,\n",
    "    38,\n",
    "    39,\n",
    "    40,\n",
    "    41,\n",
    "    42,\n",
    "    43,\n",
    "    44,\n",
    "    45,\n",
    "    46,\n",
    "    47,\n",
    "    48,\n",
    "    49,\n",
    "    50,\n",
    "    51,\n",
    "    52,\n",
    "    53,\n",
    "    54,\n",
    "    55,\n",
    "    56,\n",
    "    57,\n",
    "    58,\n",
    "    59,\n",
    "    60,\n",
    "    61,\n",
    "    62,\n",
    "    63,\n",
    "    64,\n",
    "    65,\n",
    "    66,\n",
    "    67,\n",
    "    68,\n",
    "    69,\n",
    "    70,\n",
    "    71,\n",
    "    72,\n",
    "    73,\n",
    "    74,\n",
    "    75,\n",
    "    76,\n",
    "    77,\n",
    "    78,\n",
    "    79,\n",
    "    80,\n",
    "    81,\n",
    "    82,\n",
    "    83,\n",
    "    84,\n",
    "    85,\n",
    "    86,\n",
    "    87,\n",
    "    88,\n",
    "    89,\n",
    "    90,\n",
    "    91,\n",
    "    92,\n",
    "    93,\n",
    "    94,\n",
    "    95,\n",
    "    96,\n",
    "    97,\n",
    "    98,\n",
    "    99,\n",
    "    100,\n",
    "    101,\n",
    "    102,\n",
    "    103,\n",
    "    104,\n",
    "    105,\n",
    "    106,\n",
    "    107,\n",
    "    108,\n",
    "    109,\n",
    "    110,\n",
    "    111,\n",
    "    112,\n",
    "    113,\n",
    "    114,\n",
    "    115,\n",
    "    116,\n",
    "    117,\n",
    "    118,\n",
    "    119,\n",
    "    120,\n",
    "    121,\n",
    "    122,\n",
    "    123,\n",
    "    124,\n",
    "    125,\n",
    "    126,\n",
    "]\n",
    "# The \"even\"\" qubits will be used for the 54 qubit GHZ-state\n",
    "ghz_qubits = [\n",
    "    0,\n",
    "    2,\n",
    "    4,\n",
    "    6,\n",
    "    8,\n",
    "    10,\n",
    "    12,\n",
    "    18,\n",
    "    20,\n",
    "    22,\n",
    "    24,\n",
    "    26,\n",
    "    28,\n",
    "    30,\n",
    "    32,\n",
    "    37,\n",
    "    39,\n",
    "    41,\n",
    "    43,\n",
    "    45,\n",
    "    47,\n",
    "    49,\n",
    "    51,\n",
    "    56,\n",
    "    58,\n",
    "    60,\n",
    "    62,\n",
    "    64,\n",
    "    66,\n",
    "    68,\n",
    "    70,\n",
    "    75,\n",
    "    77,\n",
    "    79,\n",
    "    81,\n",
    "    83,\n",
    "    85,\n",
    "    87,\n",
    "    89,\n",
    "    94,\n",
    "    96,\n",
    "    98,\n",
    "    100,\n",
    "    102,\n",
    "    104,\n",
    "    106,\n",
    "    108,\n",
    "    114,\n",
    "    116,\n",
    "    118,\n",
    "    120,\n",
    "    122,\n",
    "    124,\n",
    "    126,\n",
    "]\n",
    "# The \"odd\" qubits will be used as the stabilizers\n",
    "stabilizer_qubits = [\n",
    "    1,\n",
    "    3,\n",
    "    5,\n",
    "    7,\n",
    "    9,\n",
    "    11,\n",
    "    14,\n",
    "    15,\n",
    "    16,\n",
    "    17,\n",
    "    19,\n",
    "    21,\n",
    "    23,\n",
    "    25,\n",
    "    27,\n",
    "    29,\n",
    "    31,\n",
    "    33,\n",
    "    34,\n",
    "    35,\n",
    "    36,\n",
    "    38,\n",
    "    40,\n",
    "    42,\n",
    "    44,\n",
    "    46,\n",
    "    48,\n",
    "    50,\n",
    "    52,\n",
    "    53,\n",
    "    54,\n",
    "    55,\n",
    "    57,\n",
    "    59,\n",
    "    61,\n",
    "    63,\n",
    "    65,\n",
    "    67,\n",
    "    69,\n",
    "    71,\n",
    "    72,\n",
    "    73,\n",
    "    74,\n",
    "    76,\n",
    "    78,\n",
    "    80,\n",
    "    82,\n",
    "    84,\n",
    "    86,\n",
    "    88,\n",
    "    90,\n",
    "    91,\n",
    "    92,\n",
    "    93,\n",
    "    95,\n",
    "    97,\n",
    "    99,\n",
    "    101,\n",
    "    103,\n",
    "    105,\n",
    "    107,\n",
    "    109,\n",
    "    110,\n",
    "    111,\n",
    "    112,\n",
    "    115,\n",
    "    117,\n",
    "    119,\n",
    "    121,\n",
    "    123,\n",
    "    125,\n",
    "]"
   ]
  },
  {
   "cell_type": "markdown",
   "id": "5ecb607c-a882-49c4-acce-d26d62c2cd69",
   "metadata": {
    "slideshow": {
     "slide_type": "-"
    },
    "tags": []
   },
   "source": [
    "## Paso 1: Crear un estado GHZ Grande\n",
    "\n",
    "En muchos algoritmos cuánticos se requiere entrelazar varios qubits entre sí. Un estado de uso frecuente en los algoritmos es el estado GHZ generalizado, el estado $(\\alpha |00...0\\rangle + \\beta |11...1\\rangle)$ con $\\alpha = \\beta$\n",
    "\n",
    "El estado GHZ está completamente entrelazado y se puede generalizar a cualquier número de qubits. ¡Lo usaremos para crear un estado GHZ de 127 qubits!\n",
    "**No importa cuántos qubits tenga el estado GHZ cuando sea medido, pues todos los qubits serán 0 o todos los qubits serán 1.**\n",
    "\n",
    "\n",
    "El desafío aquí no es entrelazar 127 qubits en teoría, sino en un dispositivo real. Esto significa que debes tener en cuenta el diseño del dispositivo (por ejemplo, evita usar compuertas CX entre qubits que no están conectados directamente entre sí). También debes intentar que la profundidad del circuito sea lo más baja posible para reducir el ruido."
   ]
  },
  {
   "cell_type": "markdown",
   "id": "cd7d72be",
   "metadata": {},
   "source": [
    "### Ejercicio 1\n",
    "\n",
    "Genera un estado GHZ de 127 qubits para el dispositivo de 127 qubits `ibm_sherbrook` utilizando solo compuertas Hadamard y CNOT. Trata de hacer esto con una profundidad del circuito lo más baja posible.\n",
    "\n",
    "*Hint: Puede ser útil pensar primero en cómo lo harías (con una profundidad mínima) para un dispositivo ideal en el que todos los qubits estén conectados entre sí.*"
   ]
  },
  {
   "cell_type": "code",
   "execution_count": null,
   "id": "432aaaed-a05b-4397-8cb8-5e9c93980473",
   "metadata": {
    "slideshow": {
     "slide_type": "-"
    },
    "tags": []
   },
   "outputs": [],
   "source": [
    "def generate_ghz127():\n",
    "    qc = QuantumCircuit(quantum_register, classical_register)\n",
    "\n",
    "    ####### your code goes here #######\n",
    "\n",
    "    \n",
    "    \n",
    "    \n",
    "    \n",
    "    \n",
    "    \n",
    "    \n",
    "    \n",
    "    \n",
    "    \n",
    "    \n",
    "    \n",
    "    \n",
    "    \n",
    "    \n",
    "    \n",
    "    \n",
    "    \n",
    "    \n",
    "    \n",
    "    \n",
    "    \n",
    "    \n",
    "    \n",
    "    \n",
    "    \n",
    "    \n",
    "    \n",
    "    \n",
    "    return qc\n",
    "\n",
    "\n",
    "ghz_circuit = generate_ghz127()\n",
    "print(ghz_circuit.depth())"
   ]
  },
  {
   "cell_type": "code",
   "execution_count": null,
   "id": "52436751",
   "metadata": {},
   "outputs": [],
   "source": [
    "# Submit your circuit\n",
    "\n",
    "from qc_grader.challenges.spring_2023 import grade_ex5a\n",
    "\n",
    "grade_ex5a(ghz_circuit)"
   ]
  },
  {
   "cell_type": "markdown",
   "id": "0bfdf52c-3579-46c3-9765-56eece914c79",
   "metadata": {
    "slideshow": {
     "slide_type": "-"
    },
    "tags": []
   },
   "source": [
    "## Paso 2: Reducir el tamaño a la mitad\n",
    "\n",
    "Ahora queremos usar el estado GHZ que creaste para formar un estado GHZ reducido solo usando los Qubits pares. Para ello, necesitaremos desentrelazar los qubits impares, de modo que puedan medirse sin dejar que el estado GHZ colapse.\n",
    "\n",
    "Como queremos desenredar los Qubits, podemos hacerlo de forma que se generen **estabilizadores**, similar a lo que hiciste en el Laboratorio 4. Los estabilizadores deben ser 0 si ambos qubits con los que están conectados tienen el mismo valor, y deben ser 1 si esos valores son diferentes.\n",
    "\n",
    "¿Cuál es el punto de hacer esto? Es posible que el observador astuto ya se haya dado cuenta: podemos usar estos estabilizadores para aplicar la corrección de errores al estado GHZ reducido."
   ]
  },
  {
   "cell_type": "markdown",
   "id": "86c18247",
   "metadata": {},
   "source": [
    "### Ejercicio 2\n",
    "\n",
    "Desentrelaza los qubits impares del estado GHZ creado para crear estabilizadores. Nuevamente, puedes desafiarte a tí mismo para hacer que la profundidad del circuito sea lo más pequeña posible.\n",
    "\n",
    "*Hint: Ten en cuenta cómo creaste tu estado GHZ arriba. Tu método de desentrelazar es específico de cómo fue creado.*"
   ]
  },
  {
   "cell_type": "code",
   "execution_count": null,
   "id": "9e9bd773-9908-4acc-b0ce-64cf5eb1db54",
   "metadata": {
    "slideshow": {
     "slide_type": "-"
    },
    "tags": []
   },
   "outputs": [],
   "source": [
    "def deentangle_qubits():\n",
    "    qc = QuantumCircuit(quantum_register, classical_register)\n",
    "\n",
    "    ####### your code goes here #######\n",
    "\n",
    "    \n",
    "    \n",
    "    \n",
    "    \n",
    "    \n",
    "    \n",
    "    \n",
    "    \n",
    "    \n",
    "    \n",
    "    \n",
    "    \n",
    "    \n",
    "    \n",
    "    \n",
    "    \n",
    "    \n",
    "    \n",
    "    \n",
    "    \n",
    "    \n",
    "    \n",
    "    \n",
    "    \n",
    "    \n",
    "    \n",
    "    \n",
    "    \n",
    "    \n",
    "    \n",
    "    \n",
    "    \n",
    "    \n",
    "    \n",
    "    \n",
    "    \n",
    "    \n",
    "    \n",
    "    \n",
    "    return qc\n",
    "\n",
    "\n",
    "unentangle_circuit = deentangle_qubits()\n",
    "print(unentangle_circuit.depth())\n",
    "\n",
    "complete_circuit = ghz_circuit.compose(unentangle_circuit)"
   ]
  },
  {
   "cell_type": "code",
   "execution_count": null,
   "id": "eec56294",
   "metadata": {},
   "outputs": [],
   "source": [
    "# Submit your circuit\n",
    "\n",
    "from qc_grader.challenges.spring_2023 import grade_ex5b\n",
    "\n",
    "grade_ex5b(complete_circuit)"
   ]
  },
  {
   "cell_type": "markdown",
   "id": "92bd8827-441d-4006-8d85-eb7a289bd64f",
   "metadata": {
    "slideshow": {
     "slide_type": "-"
    },
    "tags": []
   },
   "source": [
    "Buen trabajo. Ahora que todos los qubits impares están desentrelazados de los qubits pares, podemos medirlos sin colapsar el estado GHZ."
   ]
  },
  {
   "cell_type": "code",
   "execution_count": null,
   "id": "e3148f17-d168-4a9d-a0d8-82213cefd329",
   "metadata": {
    "slideshow": {
     "slide_type": "-"
    },
    "tags": []
   },
   "outputs": [],
   "source": [
    "# Measuring stabilizers this can also be used in post processing to see what went wrong.\n",
    "\n",
    "\n",
    "def measure_stabilizers():\n",
    "    qc = QuantumCircuit(quantum_register, classical_register)\n",
    "    qc.measure(stabilizer_qubits, stabilizer_qubits)\n",
    "    return qc\n",
    "\n",
    "\n",
    "stabilizer_circuit = measure_stabilizers()"
   ]
  },
  {
   "cell_type": "markdown",
   "id": "606df18e-ae9b-41ae-bd0e-cd5b6698cf9d",
   "metadata": {
    "slideshow": {
     "slide_type": "-"
    },
    "tags": []
   },
   "source": [
    "Estos resultados de medición podrían usarse para mejorar el estado GHZ de 54 qubits, pero exploraremos esa idea más adelante.\n",
    "\n",
    "Después de haber medido los qubits impares, puedes restablecerlos y usar el estado de 54 GHZ en tu algoritmo, usando los qubits impares como posibles qubits auxiliares. Sin embargo, antes de usar tu estado GHZ, probemos qué tan bueno es.\n",
    "\n",
    "¡Necesitamos medir el estado GHZ de 54 qubits!"
   ]
  },
  {
   "cell_type": "code",
   "execution_count": null,
   "id": "0225debb-1fdc-4210-bd7a-9717386e63d5",
   "metadata": {
    "slideshow": {
     "slide_type": "-"
    },
    "tags": []
   },
   "outputs": [],
   "source": [
    "# Measuring the GHZ qubits\n",
    "\n",
    "\n",
    "def measure_ghz():\n",
    "    qc = QuantumCircuit(quantum_register, classical_register)\n",
    "    qc.measure(ghz_qubits, ghz_qubits)\n",
    "    return qc\n",
    "\n",
    "\n",
    "measure_circuit = measure_ghz()"
   ]
  },
  {
   "cell_type": "markdown",
   "id": "626508af-7785-49d6-9af1-aae36925908c",
   "metadata": {
    "slideshow": {
     "slide_type": "-"
    },
    "tags": []
   },
   "source": [
    "Ahora pongamos todo junto, para que podamos probarlo."
   ]
  },
  {
   "cell_type": "code",
   "execution_count": null,
   "id": "d0ed3661-c930-43b8-8096-dd1379faf9cb",
   "metadata": {
    "slideshow": {
     "slide_type": "-"
    },
    "tags": []
   },
   "outputs": [],
   "source": [
    "# Everything together\n",
    "\n",
    "simple_ghz = (\n",
    "    ghz_circuit.compose(unentangle_circuit)\n",
    "    .compose(stabilizer_circuit)\n",
    "    .compose(measure_circuit)\n",
    ")"
   ]
  },
  {
   "cell_type": "markdown",
   "id": "6e8f6b50-781f-4e03-951e-94fe73136bea",
   "metadata": {
    "slideshow": {
     "slide_type": "-"
    },
    "tags": []
   },
   "source": [
    "## Paso 3: Preparar y ejecutar en el Dispositivo\n",
    "\n",
    "Ahora estamos listos para ejecutar nuestro estado GHZ en un dispositivo real, y para eso es el momento de `ibm_sherbrooke`\n",
    "\n",
    "No hay muchas personas en el mundo que hayan trabajado con 127 qubits. Pronto serás una de las pocas almas valientes en decir que lo ha hecho. Un pequeño paso para la computación cuántica, un gran salto para tu CV.\n",
    "\n",
    "Es broma :-P\n",
    "\n",
    "-----\n",
    "\n",
    "Primero preparamos todo lo que necesitamos:"
   ]
  },
  {
   "cell_type": "code",
   "execution_count": null,
   "id": "e7472b15-0be2-447b-9b66-6e57ca915fab",
   "metadata": {
    "slideshow": {
     "slide_type": "-"
    },
    "tags": []
   },
   "outputs": [],
   "source": [
    "# Importing provider and getting access to the system\n",
    "from qiskit_ibm_provider import IBMProvider\n",
    "from qiskit import transpile\n",
    "\n",
    "\n",
    "provider = IBMProvider()\n",
    "\n",
    "hub=\"qc-spring-23-2\"\n",
    "group=\"group-1\"\n",
    "project=\"recadoVo68Ok7S9J0\"\n",
    "\n",
    "backend_name = \"ibm_sherbrooke\"\n",
    "backend = provider.get_backend(backend_name, instance=f\"{hub}/{group}/{project}\")\n",
    "\n",
    "number_of_shots: int = 1024"
   ]
  },
  {
   "cell_type": "markdown",
   "id": "51277fb1-4759-456b-8b04-1c9a720cf4c8",
   "metadata": {
    "slideshow": {
     "slide_type": "-"
    },
    "tags": []
   },
   "source": [
    "Comenzamos transpilándolo para el dispositivo real. Esto no debería causar demasiados cambios, ya que (debes haber) tenido en mente el dispositivo físico cuando hiciste el circuito originalmente, y solo usaste las conexiones que existen.\n",
    "\n",
    "Si no lo hiciste, ahora es un buen momento para regresar y arreglarlo, o saltar a Discord para hablar con otros sobre cómo pensar en ese proceso."
   ]
  },
  {
   "cell_type": "code",
   "execution_count": null,
   "id": "770c2477-0c21-4dd0-8ccb-96268b88f323",
   "metadata": {
    "slideshow": {
     "slide_type": "-"
    },
    "tags": []
   },
   "outputs": [],
   "source": [
    "# First we transpile the GHZ-state for the actual device\n",
    "qc_transpiled = transpile(simple_ghz, backend, initial_layout=initial_layout)"
   ]
  },
  {
   "cell_type": "markdown",
   "id": "3d20d85e-cef3-4b4d-a206-1ee9f452fcb0",
   "metadata": {
    "slideshow": {
     "slide_type": "-"
    },
    "tags": []
   },
   "source": [
    "Ahora estamos listos para ejecutar el trabajo en el dispositivo de 127 qubits. Agreguemos algunas etiquetas aquí para que sea más fácil encontrarlas en el futuro.\n",
    "\n",
    "Ejecutar el trabajo (job) llevará algún tiempo, dependiendo de cuántas otras personas estén en la fila tratando de ejecutar sus trabajos. ¿Ya tomaste tu café hoy? O tal vez eres más un bebedor de té. Escuché que hay un gran programa nuevo en Netflix."
   ]
  },
  {
   "cell_type": "code",
   "execution_count": null,
   "id": "2f71e153-d6ee-4502-b60f-35b61f0ef555",
   "metadata": {
    "slideshow": {
     "slide_type": "-"
    },
    "tags": []
   },
   "outputs": [],
   "source": [
    "# Now we can run the job\n",
    "# We add memory=true to be easier able to analyse  how good the result were and the tags to make it easier to find it later.\n",
    "job = backend.run(\n",
    "    qc_transpiled,\n",
    "    shots=number_of_shots,\n",
    "    memory=True,\n",
    "    job_tags=[\"ghz_state\", \"spring_challenge\"],\n",
    ")\n",
    "\n",
    "job_id = job.job_id()\n",
    "print(job_id)"
   ]
  },
  {
   "cell_type": "markdown",
   "id": "e2dc42bd-580a-427e-92c7-edc47de5aa84",
   "metadata": {
    "slideshow": {
     "slide_type": "-"
    },
    "tags": []
   },
   "source": [
    "En caso de que regreses más tarde y desees recuperar un trabajo (job), puedes encontrarlo en la página de inicio de IBM Quantum Computing con las etiquetas utilizadas anteriormente.\n",
    "\n",
    "Copia el nombre de su trabajo (su id) y reemplaza el *job_id* en la celda de abajo con el suyo. Una identificación de trabajo debería verse así: *ch36cf1pleju56fajrqg*\n",
    "\n",
    "O simplemente puedes usar directamente el job_id de la celda anterior."
   ]
  },
  {
   "cell_type": "code",
   "execution_count": null,
   "id": "ae75b448-c873-4d8c-b6ff-234881030e61",
   "metadata": {
    "slideshow": {
     "slide_type": "-"
    },
    "tags": []
   },
   "outputs": [],
   "source": [
    "# Change job id to the id of your previous submitted job something like \"ch36cf1pleju56fajrqg\"\n",
    "# You only need to run this if you come back at a later time\n",
    "job = provider.backend.retrieve_job(job_id)\n",
    "job.status()"
   ]
  },
  {
   "cell_type": "code",
   "execution_count": null,
   "id": "6fba92ed-8722-4bf7-a951-06ff79c74b27",
   "metadata": {},
   "outputs": [],
   "source": [
    "# Getting the data of the job for testing\n",
    "data = job.result().get_memory()"
   ]
  },
  {
   "cell_type": "markdown",
   "id": "6196bb31-15ed-43f4-a36f-920989715c02",
   "metadata": {
    "slideshow": {
     "slide_type": "-"
    },
    "tags": []
   },
   "source": [
    "## Paso 4: Probar del estado GHZ\n",
    "\n",
    "¡Lo hiciste! Has ejecutado un circuito de estado GHZ en una máquina de 127 qubits. ¡¡¡Eso es genial!!!\n",
    "\n",
    "Ahora que tienes los resultados de tu estado GHZ, es hora de examinarlos. No agregamos ninguna mitigación o corrección de errores, por lo que debes esperar resultados que aún se pueden mejorar.\n",
    "\n",
    "Hay diferentes formas de probar qué tan \"buenos\" son los resultados. Puedes simplemente mirar los resultados sin procesar, pero dado que los qubits que se usan para el estado GHZ no están uno al lado del otro, esto puede ser un poco molesto. Sería útil tener una función que nos informe sobre la calidad o sobre los errores en el estado GHZ."
   ]
  },
  {
   "cell_type": "markdown",
   "id": "afce684a-490f-4460-8f4b-ed2bd6324cb7",
   "metadata": {},
   "source": [
    "### Ejercicio 3\n",
    "\n",
    "Crea una función para probar el estado GHZ.\n",
    "\n",
    "Como autores del Desafío, decidimos darte algo de libertad aquí sobre cómo quieres probar tus resultados. Encuentra una manera que tenga sentido **para ti.** Es importante decir que cuanto _menor sea la salida_ de tu función, _mejor_ será su estado GHZ.\n",
    "\n",
    "*Hint: esta función debe realizarse para probar los datos que hemos creado, por lo que solo necesitas probar los qubits que forman parte del estado GHZ*"
   ]
  },
  {
   "cell_type": "code",
   "execution_count": null,
   "id": "7e7f0ff0-ba28-4c1f-bcac-1d439e0a560f",
   "metadata": {
    "slideshow": {
     "slide_type": "-"
    },
    "tags": []
   },
   "outputs": [],
   "source": [
    "# A function to test the quality of a GHZ-state. The lower the better\n",
    "def test_ghz(data):\n",
    "    ghz_qubits = [\n",
    "        0,\n",
    "        2,\n",
    "        4,\n",
    "        6,\n",
    "        8,\n",
    "        10,\n",
    "        12,\n",
    "        18,\n",
    "        20,\n",
    "        22,\n",
    "        24,\n",
    "        26,\n",
    "        28,\n",
    "        30,\n",
    "        32,\n",
    "        37,\n",
    "        39,\n",
    "        41,\n",
    "        43,\n",
    "        45,\n",
    "        47,\n",
    "        49,\n",
    "        51,\n",
    "        56,\n",
    "        58,\n",
    "        60,\n",
    "        62,\n",
    "        64,\n",
    "        66,\n",
    "        68,\n",
    "        70,\n",
    "        75,\n",
    "        77,\n",
    "        79,\n",
    "        81,\n",
    "        83,\n",
    "        85,\n",
    "        81,\n",
    "        89,\n",
    "        94,\n",
    "        96,\n",
    "        98,\n",
    "        100,\n",
    "        102,\n",
    "        104,\n",
    "        106,\n",
    "        108,\n",
    "        114,\n",
    "        116,\n",
    "        118,\n",
    "        120,\n",
    "        122,\n",
    "        124,\n",
    "        126,\n",
    "    ]\n",
    "\n",
    "    ####### your code goes here #######\n",
    "    \n",
    "    \n",
    "    \n",
    "    \n",
    "    \n",
    "    \n",
    "    \n",
    "    \n",
    "    \n",
    "    \n",
    "    \n",
    "    \n",
    "    \n",
    "    \n",
    "    \n",
    "    \n",
    "    \n",
    "    \n",
    "    \n",
    "    \n",
    "    \n",
    "    \n",
    "    \n",
    "    \n",
    "    \n",
    "    \n",
    "    \n",
    "    \n",
    "    \n",
    "    \n",
    "    \n",
    "    \n",
    "    \n",
    "    \n",
    "    \n",
    "\n",
    "\n",
    "test_ghz(data)"
   ]
  },
  {
   "cell_type": "markdown",
   "id": "78ed4b94-2f2a-4f95-9bd7-ae9594b13f12",
   "metadata": {
    "slideshow": {
     "slide_type": "-"
    },
    "tags": []
   },
   "source": [
    "Ahora tienes un número que califica tus resultados, según una función que diseñaste.\n",
    "\n",
    "Antes de continuar, piensa en tu método.\n",
    "- ¿Cuál sería el número para un estado realmente bueno?\n",
    "- ¿Qué hay de un estado realmente malo?\n",
    "- ¿Qué aspecto tiene un \"mal estado\"?\n",
    "- ¿Cómo puedes diseñar una función que sea fácil para que alguien entienda lo que le está diciendo?\n",
    "\n",
    "Todas estas son preguntas en las que los investigadores de IBM piensan a diario y nos mantienen extremadamente motivados para continuar haciendo que nuestros dispositivos y servicios sean lo más posiblemente fuertes y fáciles de entender. Si este tipo de trabajo también te interesa, ¡háznoslo saber!"
   ]
  },
  {
   "cell_type": "markdown",
   "id": "232165a6-8bd8-4fd9-99e6-eea55a661953",
   "metadata": {},
   "source": [
    "Ahora probemos tu función de prueba y veamos si hace lo que debería. Recuerda, debería dar resultados bajos para estados buenos, que tienen menos errores, y resultados altos para estados con muchos errores."
   ]
  },
  {
   "cell_type": "code",
   "execution_count": null,
   "id": "b6bbc4fe-94f6-4131-95ec-a8243482bb17",
   "metadata": {
    "slideshow": {
     "slide_type": "-"
    },
    "tags": []
   },
   "outputs": [],
   "source": [
    "# Submit your circuit\n",
    "\n",
    "from qc_grader.challenges.spring_2023 import grade_ex5c\n",
    "\n",
    "# Since we test here a function, we do not need brackets after test_ghz, since the input is the function\n",
    "grade_ex5c(test_ghz)"
   ]
  },
  {
   "cell_type": "markdown",
   "id": "f278f65b-4896-46b3-aa7c-bfea2ed866b1",
   "metadata": {
    "slideshow": {
     "slide_type": "-"
    },
    "tags": []
   },
   "source": [
    "Ahora la pregunta es: ¿cómo podemos mejorarlo?\n",
    "\n",
    "Uno de los primeros pasos sería tratar de disminuir aún más la profundidad del circuito. Veamos la profundidad de su circuito transpilado:"
   ]
  },
  {
   "cell_type": "code",
   "execution_count": null,
   "id": "7d2ce1e5-8fc7-4ad6-ac80-04688c897285",
   "metadata": {
    "slideshow": {
     "slide_type": "-"
    },
    "tags": []
   },
   "outputs": [],
   "source": [
    "qc_transpiled.depth()"
   ]
  },
  {
   "cell_type": "markdown",
   "id": "3322071d-a207-494e-ac17-a039a6a31743",
   "metadata": {
    "slideshow": {
     "slide_type": "-"
    },
    "tags": []
   },
   "source": [
    "Podemos ver que la profundidad aumentó durante el proceso de transpilación, en más de un factor de 2.\n",
    "\n",
    "Echa un vistazo a cómo se ve, para ver de dónde viene esta profundidad adicional:"
   ]
  },
  {
   "cell_type": "code",
   "execution_count": null,
   "id": "f6d42633-03fc-405b-af40-970e70e48c2d",
   "metadata": {
    "slideshow": {
     "slide_type": "-"
    },
    "tags": []
   },
   "outputs": [],
   "source": [
    "qc_transpiled.draw()"
   ]
  },
  {
   "cell_type": "markdown",
   "id": "edaa3f49-6fe8-498a-979f-f84a3b6cbfe9",
   "metadata": {
    "slideshow": {
     "slide_type": "-"
    },
    "tags": []
   },
   "source": [
    "Lo que vemos es que la compuerta Hadamard y la compuerta CX se transpilaron a otras compuertas. Esto no es sorprendente para la compuerta Hadamard, ya que ninguno de los dispositivos IBM Quantum la admite directamente. Una Hadamard siempre se construye usando 3 rotaciones. Por otro lado, la compuerta ECR que ves es nueva y solo se usa en algunos dispositivos. También es una compuerta de entrelazamiento, similar a la compuerta CX, pero funciona un poco diferente. Se puede hacer una compuerta CX usando solo una compuerta ECR y rotaciones locales.\n",
    "\n",
    "Puede encontrar más información sobre la compuerta ECR aquí:\n",
    "https://qiskit.org/documentation/stable/0.39/stubs/qiskit.circuit.library.ECRGate.html \n",
    "\n",
    "\n",
    "Reducir la profundidad suele ser la mejor manera de minimizar la tasa de error. Ahora que sabes que en su lugar se usa la compuerta ECR, ¿podrías hacer un circuito con una mejor profundidad?\n",
    "\n",
    "Si estás interesado en explorar esa pregunta y otros métodos para mejorar el estado GHZ, no dudes en seguir leyendo. La siguiente parte del laboratorio es extra: no quedan ejercicios. Se entiende como una breve perspectiva para mostrar cómo se podría usar la corrección de errores, pero también para mostrar por qué la corrección de errores puede ser difícil.\n"
   ]
  },
  {
   "cell_type": "markdown",
   "id": "0d92d49b-f0e9-491d-9178-b6535bb9f00c",
   "metadata": {},
   "source": [
    "Ya sea que elijas continuar o no, date un aplauso: **¡Acabas de completar el IBM Quantum Challenge: Spring de 2023!** ¡Presume de ello con todos los demás en Discord, nos vemos allí!"
   ]
  },
  {
   "cell_type": "markdown",
   "id": "9a82183f-8bc3-45e8-a7a0-d08a3e21824b",
   "metadata": {
    "slideshow": {
     "slide_type": "-"
    },
    "tags": []
   },
   "source": [
    "# Extra: La Manera de Corregir Errores\n",
    "\n",
    "La corrección de errores sigue siendo un tema de investigación activo e importante. Por lo tanto, corregir errores en un dispositivo real, incluso en un caso simple como nuestro ejemplo de estado GHZ, no es tan sencillo y queremos darle la oportunidad de generar tus propias ideas, mientras te brindamos orientación y sugerencias sobre qué posibles formas podrían ser.\n",
    "\n",
    "\n",
    "\n",
    "## Paso 1: ¿Qué tan bueno es el Estado actual?\n",
    "\n",
    "Antes de que podamos corregir cualquier error, primero debemos saber qué tan bueno era el estado, e incluso esto no es tan sencillo como podría pensarse.\n",
    "\n",
    "\n",
    "La forma más sencilla de probar qué tan bueno fue tu estado GHZ es probar cuántos de los qubits pares tienen resultados diferentes de la mayoría. Esto es lo que probablemente hayas usado arriba.\n",
    "\n",
    "\n",
    "Sin embargo, esto no significa necesariamente que esto también se correlacionó con la cantidad de errores que ocurrieron. Y uno podría decir que la cantidad de errores que ocurrieron es más importante, para decir qué tan bueno es el estado GHZ.\n",
    "\n",
    "\n",
    "**Ejemplo A** para ilustrar este pensamiento: Digamos que tenemos 10 qubits conectados en una línea y formamos un estado GHZ con ellos:\n",
    "\n",
    "0 - 1 - 2 - 3 - 4 - 5 - 6 - 7 - 8 - 9\n",
    "\n",
    "Si ahora decimos que el error no ocurrió en la lectura, pero al aplicar la compuerta entrelazadora entre el qubit 4 y el qubit 5, la salida podría verse así:\n",
    "\n",
    "0000011111 \n",
    "\n",
    "Este sería el peor resultado posible para la medición de \"cuántos qubits tienen el mismo resultado\".\n",
    "\n",
    "Por esta razón, una ejecución en la que se produjeron más errores podría conducir a una mejor medida de \"cuántos qubits tienen el mismo resultado\", aunque lo más probable es que ese estado sea mucho menos útil.\n",
    "\n",
    "Si se hubiera creado el estado anterior y tuvieras mediciones estabilizadoras (en funcionamiento) entre los qubits, solo tendrías el qubit 4 y el 5 con 1. Y para corregir ese error, podrías simplemente voltear los qubits del 5 al 9.\n",
    "\n",
    "\n",
    "Para tener una primera idea de cómo se ven los errores en tu caso, podría ser una buena idea mirar los datos sin procesar, los resultados que obtuviste al ejecutarlos en el dispositivo real y tener en cuenta cómo construiste el estado GHZ.\n",
    "\n",
    "\n",
    "Para el **Ejemplo A**, tal vez podríamos encontrar una corrección de errores que se vería así:\n"
   ]
  },
  {
   "cell_type": "code",
   "execution_count": null,
   "id": "4d96b276-ccbd-4183-8d44-6055cea976b7",
   "metadata": {
    "slideshow": {
     "slide_type": "-"
    },
    "tags": []
   },
   "outputs": [],
   "source": [
    "# Simple idea for Example A find where the error happened and flip accordingly\n",
    "def correct_ghz():\n",
    "    qc = QuantumCircuit(quantum_register, classical_register)\n",
    "\n",
    "    with qc.if_test((classical_register[9], 1)):\n",
    "        qc.x(quantum_register[9])\n",
    "\n",
    "    with qc.if_test((classical_register[8], 1)):\n",
    "        qc.x(quantum_register[8])\n",
    "\n",
    "    with qc.if_test((classical_register[8], 1)):\n",
    "        qc.x(quantum_register[9])\n",
    "\n",
    "    with qc.if_test((classical_register[7], 1)):\n",
    "        qc.x(quantum_register[9])\n",
    "\n",
    "    with qc.if_test((classical_register[7], 1)):\n",
    "        qc.x(quantum_register[8])\n",
    "\n",
    "    with qc.if_test((classical_register[7], 1)):\n",
    "        qc.x(quantum_register[7])\n",
    "\n",
    "    # ...\n",
    "\n",
    "    # qc.barrier()\n",
    "    return qc\n",
    "\n",
    "\n",
    "correcting_circuit = correct_ghz()"
   ]
  },
  {
   "cell_type": "markdown",
   "id": "76751955-fa29-40d8-a033-0949d94af4f2",
   "metadata": {
    "slideshow": {
     "slide_type": "-"
    },
    "tags": []
   },
   "source": [
    "Y si ahora adaptáramos el código anterior a nuestro caso de GHZ de 54, podríamos construir todo junto:"
   ]
  },
  {
   "cell_type": "code",
   "execution_count": null,
   "id": "ff234bbb-4ef5-461e-b6e0-2d23ba62ddba",
   "metadata": {
    "slideshow": {
     "slide_type": "-"
    },
    "tags": []
   },
   "outputs": [],
   "source": [
    "# Everything together corrected\n",
    "\n",
    "error_corrected_ghz = (\n",
    "    ghz_circuit.compose(unentangle_circuit)\n",
    "    .compose(stabilizer_circuit)\n",
    "    .compose(correcting_circuit)\n",
    "    .compose(measure_circuit)\n",
    ")"
   ]
  },
  {
   "cell_type": "markdown",
   "id": "c71cfe66-a165-47d6-b8d2-b819c4b0ccb4",
   "metadata": {
    "slideshow": {
     "slide_type": "-"
    },
    "tags": []
   },
   "source": [
    "## Paso 2: Por qué considerar estabilizadores individuales podría no ser suficiente.\n",
    "\n",
    "En el ejercicio de corrección de errores, hemos visto que puedes usar bits individuales o toda la cadena de bits de la medición de los qubits estabilizadores para condicionar las operaciones en ellos.\n",
    "\n",
    "Dado que nuestras mediciones de estabilizador tienen una longitud de 54 bits, no es factible usar cadenas de bits completas para condicionarlas, ya que esto necesitaría 2^54 cadenas de bits diferentes que deben tenerse en cuenta.\n",
    "\n",
    "\n",
    "Por otro lado, si solo consideramos un solo bit, podría no ser posible/demasiado complicado.\n",
    "\n",
    "\n",
    "**Ejemplo B**: Tenemos nuevamente 10 qubits conectados en una línea y formamos un estado GHZ con ellos:\n",
    "\n",
    "0 - 1 - 2 - 3 - 4 - 5 - 6 - 7 - 8 - 9\n",
    "\n",
    "Ahora asumimos que obtenemos como resultado de la medición 0000010000\n",
    "\n",
    "Si tenemos medidas de estabilizadores, en este caso el de la derecha del 1 y el de la izquierda del 1 tendrían ambos valor 1.\n",
    "\n",
    "Esto significa que, en este caso, mirar un solo estabilizador no sería suficiente para saber que solo necesitas invertir el qubit número 5 (y ningún otro), a menos que estemos de acuerdo con voltear algunos qubits varias veces, lo cual no es lo ideal.\n",
    "\n",
    "Entonces, en este caso, sería ideal si pudiéramos aplicar funciones a los resultados de medición de los estabilizadores y usar sus resultados como condiciones en los circuitos dinámicos.\n",
    "\n",
    "Esto es posible, sin embargo, debe hacerse en el código Open QASM3, en lugar de en Qiskit, que no se tratará en este ejercicio.\n",
    "Si estás interesado en obtener más información sobre los circuitos dinámicos con Open QASM3, puedes encontrar información al respecto aquí:\n",
    "\n",
    "https://quantum-computing.ibm.com/services/resources/docs/resources/manage/systems/dynamic-circuits/Dynamic-Circuits-basics-with-OpenQASM3\n",
    "\n",
    "\n",
    "A continuación se muestra un ejemplo simple para mostrarte cómo se ve el código Open QASM3:\n"
   ]
  },
  {
   "cell_type": "code",
   "execution_count": null,
   "id": "4e502711-6741-4082-a055-ff4f03dbef11",
   "metadata": {
    "slideshow": {
     "slide_type": "-"
    },
    "tags": []
   },
   "outputs": [],
   "source": [
    "from qiskit import qasm3, QuantumCircuit, transpile\n",
    "\n",
    "# Creating a bell circuit\n",
    "qc_bell = QuantumCircuit(2, 2)\n",
    "qc_bell.h(0)\n",
    "qc_bell.cx(0, 1)\n",
    "qc_bell.measure(0, 0)\n",
    "qc_bell.measure(0, 1)\n",
    "\n",
    "# Transpiling it for our device (as above it does not have the H- and CX- Gates)\n",
    "qc_bell = transpile(qc_bell, backend)\n",
    "\n",
    "# Generate qasm3 code before we can print it\n",
    "exporter = qasm3.Exporter(\n",
    "    includes=[], disable_constants=True, basis_gates=backend.configuration().basis_gates\n",
    ")\n",
    "print(qasm3_bell := exporter.dumps(qc_bell))\n",
    "\n",
    "# Draw a circuit as comparison\n",
    "qc_bell.draw(output=\"mpl\", idle_wires=False)"
   ]
  },
  {
   "cell_type": "markdown",
   "id": "9ff29862-0ee6-45d4-89cb-b1081041c84f",
   "metadata": {
    "slideshow": {
     "slide_type": "-"
    },
    "tags": []
   },
   "source": [
    "## Paso 3: Cómo no introducir más Errores\n",
    "\n",
    "Hay diferentes razones que pueden conducir a errores. La decoherencia a lo largo del tiempo y los errores introducidos en compuertas entrelazadas como la compuerta CX son dos de ellos. Ambos también pueden aplicarse a los estabilizadores y tenemos que asegurarnos de no introducir más ruido en nuestros intentos de corregirlo, ya que eso anularía todo el propósito. Esto podría ser un problema menor en el futuro, cuando la tasa de error general baje aún más, pero aún es algo que debe tenerse en cuenta.\n",
    "\n",
    "¿Qué significa esto para nosotros?\n",
    "\n",
    "Bueno, uno puede pensar en cuándo queremos crear y medir los estabilizadores. ¿Los desentrelazamos directamente después de que ya no se usan para entrelazar el próximo qubit? ¿Esperamos hasta que todo el circuito esté entrelazado? (Esto, por supuesto, depende de qué tipo de errores queramos corregir). También podemos pensar en resetear los estabilizadores y crear otros nuevos más tarde (utilizando los mismos qubits) y utilizar 2 fases en las que intentamos corregir errores.\n",
    "\n",
    "\n",
    "\n",
    "Y podemos pensar cuál es la probabilidad de que se produzca un error al entrelazar un qubit (a través del estabilizador) y compararlo con la probabilidad de que se introduzca un error en el estabilizador al desentrelazarlo. Entonces, ¿tal vez tener los estabilizadores solo lo empeora?\n",
    "\n",
    "¿Cuándo vale la pena esto? Puedes jugar con el código a continuación para obtener algunas impresiones e ideas, nuevamente, esto es algo que puede cambiar en el futuro, cuando las tasas de error disminuyan aún más."
   ]
  },
  {
   "cell_type": "code",
   "execution_count": null,
   "id": "2e2e7294-df6e-4d99-bcce-5469c09a40df",
   "metadata": {
    "slideshow": {
     "slide_type": "-"
    },
    "tags": []
   },
   "outputs": [],
   "source": [
    "# All the probabilities here only consider errors introduced by the CX gate and assumes they are bit flip errors.\n",
    "\n",
    "# Probability for a single CX gate\n",
    "p1 = 0.01\n",
    "# Probability that there is an error after 2 CX gates (going through stabilizer)\n",
    "p2 = p1 * (1 - p1) + (1 - p1) * p1\n",
    "# Probability that the stabilizer shows something wrong even though it is correct\n",
    "p3 = p1 * p1 + (1 - p1) * (1 - p1) * p1\n",
    "\n",
    "print(\"Probability of a single cx having an error: {}\".format(p1))\n",
    "print(\"Probability of having an error after 2 cx: {:.4f}\".format(p2))\n",
    "print(\"Probability of the stabilizer showing a non existent error: {:.4f}\".format(p3))"
   ]
  },
  {
   "cell_type": "markdown",
   "id": "a122c390-a440-4ad0-9838-deb55ecd1d17",
   "metadata": {
    "slideshow": {
     "slide_type": "-"
    },
    "tags": []
   },
   "source": [
    "## Paso 4: ¿Qué se puede hacer?\n",
    "\n",
    "Hay muchas posibilidades que puedes probar:\n",
    "\n",
    "\n",
    "\n",
    "- Puedes intentar encontrar algunas buenas funciones lógicas usando varios estabilizadores y usar QASM3\n",
    "\n",
    "- Puedes pensar en restablecer los estabilizadores y reutilizarlos.\n",
    "\n",
    "- Puedes probar si el enfoque simple como se ve en el ejemplo A podría funcionar (cambiando el momento en que se realizan las mediciones).\n",
    "\n",
    "- ¡Puedes encontrar tu propia idea! ¡sé creativo!\n",
    "\n",
    "\n",
    "Lo que es importante para todos ellos es que no solo comiences a probar ciegamente en la computadora cuántica, sino que primero intentes verificar tus ideas utilizando los datos al dejar que el estado GHZ inicial se ejecute en el dispositivo.\n",
    "\n",
    "Has creado datos de prueba arriba: tienes la salida del estado GHZ y también la salida de los estabilizadores.\n",
    "\n",
    "\n",
    "Si tu enfoque no funciona como posprocesamiento, entonces ejecutarlo en el dispositivo real, donde todas las operaciones tienen una tasa de error adicional, tampoco funcionará.\n",
    "\n",
    "Cuando tienes un algoritmo que funciona en teoría con los datos que tienes y generaste un mejor estado GHZ de acuerdo con tu prueba, puedes usar el código a continuación para intentar que todo tu circuito, incluida la corrección de errores, se ejecute en el dispositivo real.\n",
    "\n",
    "*Hint: asegúrate de usar la función error_correction anterior y también genera el error_corrected_ghz anterior.*"
   ]
  },
  {
   "cell_type": "code",
   "execution_count": null,
   "id": "e073f632-2e2d-4d53-b615-d86c8ef5c5e2",
   "metadata": {
    "slideshow": {
     "slide_type": "-"
    },
    "tags": []
   },
   "outputs": [],
   "source": [
    "# First we transpile the GHZ-state for the actual device\n",
    "qc_corrected_transpiled = transpile(\n",
    "    error_corrected_ghz, backend, initial_layout=initial_layout\n",
    ")\n",
    "\n",
    "# Now we can run the job\n",
    "job_corrected = backend.run(\n",
    "    qc_corrected_transpiled,\n",
    "    dynamic=True,\n",
    "    shots=number_of_shots,\n",
    "    memory=True,\n",
    "    job_tags=[\"dynamic\", \"spring_challenge\"],\n",
    ")\n",
    "\n",
    "job_id = job_corrected.job_id()\n",
    "print(job_id)"
   ]
  },
  {
   "cell_type": "code",
   "execution_count": null,
   "id": "0ec3e8e8-d13e-49d3-bb33-7c4e60e05d7d",
   "metadata": {},
   "outputs": [],
   "source": [
    "job_corrected = provider.retrieve_job(job_id)\n",
    "job_corrected.status()"
   ]
  },
  {
   "cell_type": "code",
   "execution_count": null,
   "id": "3fceaaeb-b626-47c2-9170-051619755ec5",
   "metadata": {},
   "outputs": [],
   "source": [
    "# And get the results back\n",
    "counts_corrected = job_corrected.result().get_counts()"
   ]
  }
 ],
 "metadata": {
  "celltoolbar": "Slideshow",
  "kernelspec": {
   "display_name": "Python 3 (ipykernel)",
   "language": "python",
   "name": "python3"
  },
  "language_info": {
   "codemirror_mode": {
    "name": "ipython",
    "version": 3
   },
   "file_extension": ".py",
   "mimetype": "text/x-python",
   "name": "python",
   "nbconvert_exporter": "python",
   "pygments_lexer": "ipython3",
   "version": "3.10.8"
  },
  "widgets": {
   "application/vnd.jupyter.widget-state+json": {
    "state": {},
    "version_major": 2,
    "version_minor": 0
   }
  }
 },
 "nbformat": 4,
 "nbformat_minor": 5
}
