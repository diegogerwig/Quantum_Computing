{
 "cells": [
  {
   "cell_type": "markdown",
   "id": "0ac9dd0b-210c-470e-8313-5cf7f7c57b65",
   "metadata": {},
   "source": [
    "# Lab 2: Quantum teleportation"
   ]
  },
  {
   "cell_type": "markdown",
   "id": "f2f7c4d2",
   "metadata": {},
   "source": [
    "앨리스와 밥이 고생중인 문제를 해결할 양자 전송( Quantum Teleportation) 연구소에 오신 것을 환영합니다. 안심하세요! 두 사람의 관계에 대한 문제가 아니니까요. 앨리스는 알 수 없는 상태의 큐비트 $\\lvert \\psi \\rangle$를 가지고 있고, 이 양자 상태를 밥에게 전송하고 싶습니다. 하지만, 그들은 매우 멀리 떨어져 있고 양자 정보를 직접 전달할 적절한 수단이 없으며, 고전적인 정보만 전달할 수 있습니다. 앨리스는 목표를 달성할 수 있을 까요?\n",
    "\n",
    "앨리스와 밥이 얽힌 큐비트 쌍을 공유하게 된다면, 고전적인 두 비트의 정보를 전송하는 것으로 큐비트 상태를 밥에게 전달할 수 있다는 것이 밝혀졌습니다. 이 과정의 마지막에 밥이 $\\lvert \\psi \\rangle$를 갖게 되고, 앨리스는 더 이상 갖고 있지 않게 되기 때문에 순간이동으로 알려져 있습니다."
   ]
  },
  {
   "cell_type": "markdown",
   "id": "11a966b2-a7c1-4584-87b2-1b8e4277f997",
   "metadata": {},
   "source": [
    "## 배경지식\n",
    "\n",
    "양자 전송은 얽힘과 고전적인 통신을 사용하여 한 큐비트에서 다른 큐비트로 양자 정보를 전송할 수 있는 프로토콜이며, 1993년에 Charles Bennett, Claude Crépeau, Richard Jozsa, Asher Peres, William Wootters가 제안했다. 이 과정은 큐비트 자체를 전송하지 않으면서 소스 큐비트에서 대상 큐비트로 양자 상태를 전송합니다.\n",
    "\n",
    "이 프로토콜은 세 개의 큐비트를 필요로 합니다:\n",
    "\n",
    "1. 전송 대상 큐비트 (앨리스의 큐비트)\n",
    "2. 얽혀 있는 큐비트 쌍의 반쪽 (앨리스의 두번째 큐비트)\n",
    "3. 얽혀 있는 큐비트 쌍의 나머지 반쪽 (밥의 큐비트)\n",
    "\n",
    "프로토콜의 진행은 다음과 요약할 수 있습니다:\n",
    "\n",
    "1. 벨 쌍(Bell Pair)이라 불리는 얽힌 큐비트 쌍을 만들어서 엘리스와 밥에게 나눠줍니다.\n",
    "2. 앨리스가 그녀의 두개의 큐비트에 대해 벨 기저 측정 (Bell basis measurement)를 진행합니다.\n",
    "3. 앨리스가 측정으로 얻은 고전 비트를 밥에게 전달합니다.\n",
    "4. 밥이 앨리스에게 전달받은 비트 정보를 기반으로 벨 쌍의 반쪽에 적절한 양자 게이트 연산을 적용한 후 측정하여 엘리스가 전송한 양자 상태를 얻습니다."
   ]
  },
  {
   "cell_type": "markdown",
   "id": "a26fb942-ca66-4bea-85f5-f8f13d013d5e",
   "metadata": {},
   "source": [
    "## 구현\n",
    "\n",
    "양자 비트를 전송하기 위해 앨리스와 밥은 얽힌 큐비트 한 쌍을 누군가가 제공해 주어야 합니다. \u001d\n",
    " 다음, 앨리스는 자신의 큐비트에 대한 특정 연산을 수행하고 고전적인 통신 채널을 통해 밥과 측정 결과를 공유합니다. 최종적으로, 밥은 앨리스가 전송한 양자 상태를 얻기 위해 그가 가진 얽힌 큐비트에 일련의 연산을 수행합니다. 이제 각 단계를 자세히 살펴봅시다. "
   ]
  },
  {
   "cell_type": "markdown",
   "id": "71cdf58d-0d4d-43f0-b427-3a3ebca842f5",
   "metadata": {
    "tags": []
   },
   "source": [
    "양자 회로는 3개의 큐비트와 3개의 고전적인 비트로 구성됩니다. 큐비트의 이름은 다음과 같습니다:\n",
    "\n",
    "- $s$: $\\lvert \\psi \\rangle$ 상태를 지닌 \"source\" 큐비트로, 밥에게 전달하고자 하는 대상.\n",
    "- $a$: 얽혀있는 큐비트 쌍 중 앨리스가 가진 반쪽의 정보를 담을 큐비트\n",
    "- $b$: 얽혀있는 큐비트 쌍 중 밥이 가진 반쪽의 정보를 담을 큐비트\n",
    "\n",
    "전송 프로토콜 자체는 2개의 고전적인 비트가 필요하며, 밥의 큐비트의 최종 상태를 측정하는 데 사용할 세 번째 고전 비트가 추가로 필요합니다. 고전 비트들의 이름은 다음과 같습니다:\n",
    "- $c0$: 앨리스가 $a$의 측정에 사용할 고전 비트\n",
    "- $c1$: 앨리스가 $s$의 측정에 사용할 고전 비트\n",
    "- $c2$: 밥이 $b$의 측정에 사용할 고전 비트"
   ]
  },
  {
   "cell_type": "markdown",
   "id": "bad695dc",
   "metadata": {},
   "source": [
    "### 연습 1\n",
    "\n",
    "큐비트 2개를 사용하여 얽힌 벨 쌍 상태 $\\frac{\\lvert 00 \\rangle + \\lvert 11 \\rangle}{\\sqrt{2}}$를 생성합니다. 큐비트 𝑎는 앨리스에게, 큐비트 𝑏는 밥에게 할당 됩니다.\n",
    "\n",
    "*힌트*: 이 상태는 하다마드 게이트와 CNOT 게이트를 사용해서 구현됩니다. "
   ]
  },
  {
   "cell_type": "code",
   "execution_count": null,
   "id": "d9a9810a-8ec5-4e0e-823d-6865e810b34d",
   "metadata": {
    "tags": []
   },
   "outputs": [],
   "source": [
    "from qiskit import QuantumCircuit, QuantumRegister, ClassicalRegister\n",
    "from qiskit.circuit import Qubit, Clbit\n",
    "\n",
    "\n",
    "def create_bell_pair(qr: QuantumRegister, cr: ClassicalRegister) -> QuantumCircuit:\n",
    "    \"\"\"Creates a bell pair between qubits a and b.\"\"\"\n",
    "    qc = QuantumCircuit(qr, cr)\n",
    "    # unpack qubits\n",
    "    # the first qubit is s but we won't be using it in this exercise\n",
    "    _, a, b = qr\n",
    "\n",
    "    ####### your code goes here #######\n",
    "\n",
    "    return qc"
   ]
  },
  {
   "cell_type": "code",
   "execution_count": null,
   "id": "7897fcca-e31a-4b44-9e19-16fbeb85a20d",
   "metadata": {
    "tags": []
   },
   "outputs": [],
   "source": [
    "qr = QuantumRegister(3, name=\"q\")\n",
    "cr = ClassicalRegister(3, name=\"c\")\n",
    "qc = create_bell_pair(qr, cr)\n",
    "\n",
    "qc.draw(\"mpl\")"
   ]
  },
  {
   "cell_type": "code",
   "execution_count": null,
   "id": "d00f07df-5245-47c7-858b-3ae6cbafc475",
   "metadata": {
    "tags": []
   },
   "outputs": [],
   "source": [
    "# Submit your circuit\n",
    "\n",
    "from qc_grader.challenges.spring_2023 import grade_ex2a\n",
    "\n",
    "grade_ex2a(qc)"
   ]
  },
  {
   "cell_type": "markdown",
   "id": "b6b5ec32-e8ae-4475-a0ea-5314acf49a4f",
   "metadata": {},
   "source": [
    "이제 앨리스는 $a$, 밥은 $b$를 그들이 헤어지기 전 나누어 가졌다고 가정합시다. 어쩌면 앨리스와 밥은 진짜 관계에 문제가 있는 것이었을 지도 모르겠네요 😉."
   ]
  },
  {
   "cell_type": "markdown",
   "id": "6ba11110",
   "metadata": {},
   "source": [
    "### 연습 2\n",
    "\n",
    "프로토콜의 다음 단계를 실행해 봅시다:\n",
    "1. 앨리스는 CNOT 게이트를 큐비트 $a$에 밥에게 전송하고 싶은 상태인 $\\lvert \\psi \\rangle$를 지닌 큐비트 $s$를 제어 큐비트로 설정하여 적용합니다. \n",
    "2. 앨리스는 하다마드 게이트를 $s$에 적용합니다.  \n"
   ]
  },
  {
   "cell_type": "code",
   "execution_count": null,
   "id": "34d7bcd6-166b-4745-8ede-f8aa1872d434",
   "metadata": {
    "tags": []
   },
   "outputs": [],
   "source": [
    "def alice_gates(qr: QuantumRegister, cr: ClassicalRegister):\n",
    "    \"\"\"Creates Alices's gates\"\"\"\n",
    "    qc = create_bell_pair(qr, cr)\n",
    "    qc.barrier()  # Use barrier to separate steps\n",
    "    s, a, b = qr\n",
    "\n",
    "    ####### your code goes here #######\n",
    "\n",
    "    return qc"
   ]
  },
  {
   "cell_type": "code",
   "execution_count": null,
   "id": "3a5096db-1b92-45df-ac1b-52392356b543",
   "metadata": {
    "tags": []
   },
   "outputs": [],
   "source": [
    "qc = alice_gates(qr, cr)\n",
    "qc.draw(\"mpl\")"
   ]
  },
  {
   "cell_type": "code",
   "execution_count": null,
   "id": "66cead66-9c0e-4e7c-a196-efa456e6764b",
   "metadata": {
    "tags": []
   },
   "outputs": [],
   "source": [
    "# Submit your circuit\n",
    "\n",
    "from qc_grader.challenges.spring_2023 import grade_ex2b\n",
    "\n",
    "grade_ex2b(qc)"
   ]
  },
  {
   "cell_type": "markdown",
   "id": "2d45bf84-f32b-4dd9-8e73-b8ec920e8b39",
   "metadata": {
    "tags": []
   },
   "source": [
    "### 연습 3\n",
    "\n",
    "이제 앨리스는 가지고 있는 두 큐비트에 대해 측정을 수행하고 결과를 두 개의 클래식 비트에 저장합니다. 이어서, 앨리스는 이 결과를 밥에게 전송합니다. \n",
    "\n",
    "이어지는 코드셀을 완성하여 앨리스는 큐비트 $a$를 고전 비트 $c0$에, 큐비트 $s$를 고전 비트 $c1$로 측정하도록 합시다.\n"
   ]
  },
  {
   "cell_type": "code",
   "execution_count": null,
   "id": "345bc52c-7745-46a3-90e7-a0e6a03604d5",
   "metadata": {
    "tags": []
   },
   "outputs": [],
   "source": [
    "def measure_and_send(qr: QuantumRegister, cr: ClassicalRegister):\n",
    "    \"\"\"Measures qubits a & b and 'sends' the results to Bob\"\"\"\n",
    "    qc = alice_gates(qr, cr)\n",
    "    qc.barrier()  # Use barrier to separate steps\n",
    "    s, a, b = qr\n",
    "    c0, c1, c2 = cr\n",
    "\n",
    "    ####### your code goes here #######\n",
    "\n",
    "    return qc"
   ]
  },
  {
   "cell_type": "code",
   "execution_count": null,
   "id": "b1c3ec5d-ce66-455c-a2fe-6cca03dd87f4",
   "metadata": {
    "tags": []
   },
   "outputs": [],
   "source": [
    "qc = measure_and_send(qr, cr)\n",
    "qc.draw(\"mpl\", cregbundle=False)"
   ]
  },
  {
   "cell_type": "code",
   "execution_count": null,
   "id": "76b0c0b2-ed71-4eb7-b4d9-9b725a22fccb",
   "metadata": {
    "tags": []
   },
   "outputs": [],
   "source": [
    "# Submit your circuit\n",
    "\n",
    "from qc_grader.challenges.spring_2023 import grade_ex2c\n",
    "\n",
    "grade_ex2c(qc)"
   ]
  },
  {
   "cell_type": "markdown",
   "id": "1fec0216-f312-430e-9940-0ab0ffd1beca",
   "metadata": {},
   "source": [
    "### 연습 4\n",
    "\n",
    "이 단계에서, 큐비트 $b$를 가지고 있는 밥은, 앨리스로 받은 고전 비트의 정보에 따라 특정한 양자 게이트를 양자 회로에 추가합니다:\n",
    "\n",
    "- 비트가 `00`이면 어떠한 양자 게이트도 추가하지 않습니다. \n",
    "- 비트가 `01`이면 𝑋 게이트(Pauli-X 또는 비트 플립 게이트라고도 함)를 적용 합니다. \n",
    "- 전달 받은 비트가 `01`이라면 𝑍 게이트(Pauli-Z 또는 위상 플립 게이트라고도 함)를 적용해야 합니다. \n",
    "- 마지막으로 비트가 `11`이면 𝑍 및 𝑋 게이트를 차례로 적용하는 결합된 𝑍𝑋 게이트를 적용합니다. \n"
   ]
  },
  {
   "cell_type": "code",
   "execution_count": null,
   "id": "e61ddfa4-e536-46dd-b5a7-efe15f3ad617",
   "metadata": {
    "tags": []
   },
   "outputs": [],
   "source": [
    "def bob_gates(qr: QuantumRegister, cr: ClassicalRegister):\n",
    "    \"\"\"Uses qc.if_test to control which gates are dynamically added\"\"\"\n",
    "    qc = measure_and_send(qr, cr)\n",
    "    qc.barrier()  # Use barrier to separate steps\n",
    "    s, a, b = qr\n",
    "    c0, c1, c2 = cr\n",
    "\n",
    "    ####### your code goes here #######\n",
    "\n",
    "    return qc"
   ]
  },
  {
   "cell_type": "code",
   "execution_count": null,
   "id": "ff619db6-282a-450e-9b7c-38b2838cfdeb",
   "metadata": {
    "tags": []
   },
   "outputs": [],
   "source": [
    "qc = bob_gates(qr, cr)\n",
    "qc.draw(\"mpl\", cregbundle=False)"
   ]
  },
  {
   "cell_type": "code",
   "execution_count": null,
   "id": "8ab0270f-f909-4239-bb52-e36410497c21",
   "metadata": {
    "tags": []
   },
   "outputs": [],
   "source": [
    "# Submit your circuit\n",
    "\n",
    "from qc_grader.challenges.spring_2023 import grade_ex2d\n",
    "\n",
    "grade_ex2d(qc)"
   ]
  },
  {
   "cell_type": "markdown",
   "id": "74dc4ac1-d643-468e-a13c-509e2a12d77b",
   "metadata": {},
   "source": [
    "이제 밥은 자신의 큐비트를 클래식 비트 $c2$로 측정합니다. 이 양자 회로에 대해 측정을 여러번 반복한 후 측정된 결과의 통계값을 분석하여 순간 이동이 잘 작동했는지 확인할 수 있습니다. "
   ]
  },
  {
   "cell_type": "code",
   "execution_count": null,
   "id": "6223a197-48b8-4b7b-889c-4bf317793a27",
   "metadata": {
    "tags": []
   },
   "outputs": [],
   "source": [
    "teleportation_circuit = bob_gates(qr, cr)\n",
    "s, a, b = qr\n",
    "c0, c1, c2 = cr\n",
    "teleportation_circuit.measure(b, c2)\n",
    "teleportation_circuit.draw(\"mpl\")"
   ]
  },
  {
   "cell_type": "markdown",
   "id": "3780a15e-4a86-4d5a-af4c-8662f4462fb9",
   "metadata": {},
   "source": [
    "순간이동 회로가 완성되었으니, 이제 ~~캡틴 Kirk를 이상한 행성의 표면으로 전송~~ 양자 상태를 생성하고 순간이동한 다음 시뮬레이터에서 회로를 실행해 봅시다."
   ]
  },
  {
   "cell_type": "markdown",
   "id": "977a9fe6",
   "metadata": {},
   "source": [
    "### 연습 5\n",
    "\n",
    "다음 코드 셀에서 전체 양자 순간이동 회로를 다음의 단계로 `teleport_superposition_circuit` 라는 이름으로 작성합니다. \n",
    "\n",
    "- 상태 준비 회로를 작성합니다. 큐비트 $s$를 각도 $\\pi / 4$로 $R_x$ 회전을 적용하여 준비합니다.\n",
    "- 상태 준비 회로와 앞서 제작한 양자 전송 회로와 결합합니다.\n"
   ]
  },
  {
   "cell_type": "code",
   "execution_count": null,
   "id": "89fa5bdb-eb09-4fb8-9913-6fd6bb9f8ad2",
   "metadata": {
    "tags": []
   },
   "outputs": [],
   "source": [
    "import math\n",
    "\n",
    "teleport_superposition_circuit: QuantumCircuit\n",
    "\n",
    "####### your code goes here #######\n",
    "\n",
    "\n",
    "# Uncomment this line to draw your circuit\n",
    "teleport_superposition_circuit.draw(\"mpl\", cregbundle=False)"
   ]
  },
  {
   "cell_type": "code",
   "execution_count": null,
   "id": "1e0ef91c-964a-4fd6-ab52-36c859b69b13",
   "metadata": {
    "tags": []
   },
   "outputs": [],
   "source": [
    "from qiskit import transpile\n",
    "from qiskit_aer import AerSimulator\n",
    "from qiskit.visualization import plot_histogram\n",
    "\n",
    "sim = AerSimulator()\n",
    "transpiled_circuit = transpile(teleport_superposition_circuit, sim)\n",
    "\n",
    "# run job\n",
    "shots = 1000\n",
    "job = sim.run(transpiled_circuit, shots=shots, dynamic=True)\n",
    "\n",
    "# Get the results and display them\n",
    "exp_result = job.result()\n",
    "exp_counts = exp_result.get_counts()\n",
    "plot_histogram(exp_counts)"
   ]
  },
  {
   "cell_type": "markdown",
   "id": "80e72c0a-8a4e-4d29-92a7-022d3882552a",
   "metadata": {},
   "source": [
    "이제 밥의 측정 분포 결과만을 얻기 위해 다른 측정된 비트에 대해 한계화(marginalizing)합니다."
   ]
  },
  {
   "cell_type": "code",
   "execution_count": null,
   "id": "96a1fd3b-693b-4cd4-bb51-96f676dd1759",
   "metadata": {
    "tags": []
   },
   "outputs": [],
   "source": [
    "# trace out Bob's results on qubit 2\n",
    "from qiskit.result import marginal_counts\n",
    "\n",
    "bobs_counts = marginal_counts(exp_counts, [qr.index(b)])\n",
    "plot_histogram(bobs_counts)"
   ]
  },
  {
   "cell_type": "markdown",
   "id": "6a33717b",
   "metadata": {},
   "source": [
    "한계 분포(marginal distribution)은 이상적인 결과에 가까울 것입니다. "
   ]
  },
  {
   "cell_type": "code",
   "execution_count": null,
   "id": "475e3774-da15-483b-9d2d-af54a8e0e568",
   "metadata": {
    "tags": []
   },
   "outputs": [],
   "source": [
    "from qc_grader.challenges.spring_2023 import grade_ex2e\n",
    "\n",
    "grade_ex2e(bobs_counts)"
   ]
  },
  {
   "cell_type": "markdown",
   "id": "9baa3099-7577-4bf9-9d1f-e0c54dc384b8",
   "metadata": {},
   "source": [
    "이제 ~~커크 선장~~ 앨리스의 큐비트가 안전하게 전송되었다고 확인했으니, 이 양자 전송 회로를 실제 하드웨어에서 실행해 봅시다."
   ]
  },
  {
   "cell_type": "code",
   "execution_count": null,
   "id": "ca2f737c-a21f-4727-b14d-0e7e315631ba",
   "metadata": {
    "tags": []
   },
   "outputs": [],
   "source": [
    "from qiskit_ibm_provider import IBMProvider\n",
    "\n",
    "provider = IBMProvider()"
   ]
  },
  {
   "cell_type": "code",
   "execution_count": null,
   "id": "da33a9fb-6b6c-48a4-a1b0-dfca70474e22",
   "metadata": {
    "tags": []
   },
   "outputs": [],
   "source": [
    "hub = \"YOUR_HUB\"\n",
    "group = \"YOUR_GROUP\"\n",
    "project = \"YOUR_PROJECT\"\n",
    "\n",
    "backend_name = \"ibm_peekskill\"\n",
    "backend = provider.get_backend(backend_name, instance=f\"{hub}/{group}/{project}\")"
   ]
  },
  {
   "cell_type": "code",
   "execution_count": null,
   "id": "fe48f446-849f-46e9-b0a4-1dd5225db403",
   "metadata": {
    "tags": []
   },
   "outputs": [],
   "source": [
    "# backend.target.add_instruction(IfElseOp, name=\"if_else\") # Uncomment if necessary\n",
    "qc_transpiled = transpile(teleport_superposition_circuit, backend)"
   ]
  },
  {
   "cell_type": "code",
   "execution_count": null,
   "id": "cee84182-a90d-44b7-b44d-87309202cbc3",
   "metadata": {
    "tags": []
   },
   "outputs": [],
   "source": [
    "job = backend.run(qc_transpiled, shots=1000, dynamic=True)\n",
    "job_id = job.job_id()\n",
    "print(job_id)"
   ]
  },
  {
   "cell_type": "markdown",
   "id": "c7e47cc1",
   "metadata": {},
   "source": [
    "실제 백엔드에 실행하는데에는 시간이 필요하므로 일반적으로 job_id를 통해 작업을 시간이 지난 후 불러들여서 사용합니다. \n",
    "다음의 코드는 job_id를 통해 작업을 불러들이고 실행 상태를 점검합니다. 사용법은 다음과 같습니다."
   ]
  },
  {
   "cell_type": "code",
   "execution_count": null,
   "id": "aedeec1b",
   "metadata": {},
   "outputs": [],
   "source": [
    "retrieve_job = provider.retrieve_job(job.job_id())\n",
    "retrieve_job.status()"
   ]
  },
  {
   "cell_type": "markdown",
   "id": "13bd0ea5",
   "metadata": {},
   "source": [
    "작업이 완료되었다면 결과를 불러들여봅시다."
   ]
  },
  {
   "cell_type": "code",
   "execution_count": null,
   "id": "fc8458f1-43fd-48b2-a50c-65771262cbf1",
   "metadata": {
    "tags": []
   },
   "outputs": [],
   "source": [
    "# Get the results and display them\n",
    "exp_result = retrieve_job.result()\n",
    "exp_counts = exp_result.get_counts()\n",
    "plot_histogram(exp_counts)"
   ]
  },
  {
   "cell_type": "code",
   "execution_count": null,
   "id": "88ddf3c8-732f-4825-a1b1-376bce0ab614",
   "metadata": {},
   "outputs": [],
   "source": [
    "# trace out Bob's results on qubit 2\n",
    "from qiskit.result import marginal_counts\n",
    "\n",
    "bobs_qubit = 2\n",
    "bobs_counts = marginal_counts(exp_counts, [bobs_qubit])\n",
    "plot_histogram(bobs_counts)"
   ]
  }
 ],
 "metadata": {
  "kernelspec": {
   "display_name": "Python 3 (ipykernel)",
   "language": "python",
   "name": "python3"
  },
  "language_info": {
   "codemirror_mode": {
    "name": "ipython",
    "version": 3
   },
   "file_extension": ".py",
   "mimetype": "text/x-python",
   "name": "python",
   "nbconvert_exporter": "python",
   "pygments_lexer": "ipython3",
   "version": "3.9.0"
  },
  "widgets": {
   "application/vnd.jupyter.widget-state+json": {
    "state": {},
    "version_major": 2,
    "version_minor": 0
   }
  }
 },
 "nbformat": 4,
 "nbformat_minor": 5
}
