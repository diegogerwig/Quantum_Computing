{
 "cells": [
  {
   "cell_type": "markdown",
   "metadata": {
    "slideshow": {
     "slide_type": "-"
    }
   },
   "source": [
    "# Lab 4: エラー訂正\n",
    "\n",
    "Dynamic Circuitは、量子コンピューターのエラー訂正にも大きく貢献する可能性があります。もし量子エラー訂正についてご存じなくてもご安心ください。まず古典データでこの概念を紹介し、量子コンピューターに応用していきます。\n",
    "\n",
    "量子コンピューターでは、物理的な量子ビットがノイズの影響を受けやすいため、エラー訂正が重要です。これは回路を実行する際には常に小さな確率でエラーが発生することを意味します。エラー訂正は、発生したエラーを修正することでこの小さな確率の事象に対処し、最終的に正しい結果を得ることを可能にします。\n",
    "\n",
    "量子エラー訂正をより学びたい、演習をしたい方向けに、[**Qiskitテキストブックは素晴らしいトピックを用意しています**](https://ja.learn.qiskit.org/course/quantum-hardware/introduction-to-quantum-error-correction-via-the-repetition-code)。\n",
    "\n",
    "それでは必要なものを用意して始めましょう。"
   ]
  },
  {
   "cell_type": "code",
   "execution_count": null,
   "metadata": {
    "slideshow": {
     "slide_type": "-"
    },
    "tags": []
   },
   "outputs": [],
   "source": [
    "# Importing all the parts we will need.\n",
    "from typing import List, Optional\n",
    "\n",
    "from qiskit import transpile, QuantumCircuit, QuantumRegister, ClassicalRegister, Aer\n",
    "from qiskit.providers.fake_provider import FakeManilaV2\n",
    "from qiskit.visualization import plot_histogram\n",
    "\n",
    "\n",
    "import warnings\n",
    "\n",
    "warnings.filterwarnings(\"ignore\")\n",
    "\n",
    "import math\n",
    "\n",
    "pi = math.pi"
   ]
  },
  {
   "cell_type": "markdown",
   "metadata": {
    "slideshow": {
     "slide_type": "-"
    },
    "tags": []
   },
   "source": [
    "## 古典エラー訂正\n",
    "\n",
    "そもそも、なぜエラー訂正が生まれたのでしょうか？\n",
    "\n",
    "例えば、電波が悪い時に電話で誰かと話すシーンを考えてみてください。せっかくはっきり話そうとしているのに、メッセージが変わってしまったり、台無しになってしまったりすることがあります。「フレッドとのランチを金曜の予定に入れよう(Let's put lunch with Fred)」が、「金曜にフレッドを殴ろう(Let's punch Fred)」に変わってしまうのです。フレッドの週末は一気に悪くなってしまいました。\n",
    "\n",
    "メッセージを送るとき、たとえビットのような単純なものであっても、常に小さなエラーが発生する可能性があります。1ビットのデータを有線で送信する場合、ビットが反転してしまい、受信者が「0」の代わりに「1」を受け取るという可能性が少しはあるかもしれません。ケーブルが古く、腐食している場合、このようなことが起こりやすくなります。また、データを保存する際にも、CDに傷がつくのと同じようなことが起こる可能性があります。最悪の場合、プロセッサーで計算中にエラーが発生することもあります。\n",
    "\n",
    "このようなエラーの可能性は、古典情報の問題点として知られています。\n",
    "\n",
    "ビットが誤って反転する（AKAエラーが発生する）確率を10％とします。これは、1ビットのデータを送信するごとに、1/10の確率で受信したビットが正しくないことを意味します。`0`のメッセージを10回送信しても、受信したメッセージは「`0001000000`」と表示されるかもしれないのです。問題なのはもうお分かりですね。\n",
    "\n",
    "最も簡単な解決策の1つは、反復を使うことです。私のビットデータ「`1`」は「`111`」とエンコードされ、同様に「`0`」は「`000`」とエンコードされます。各ビットのデータは、1ビットではなく3ビットでエンコードされます。\n",
    "\n",
    "これが何の役に立つのでしょう？\n",
    "\n",
    "もし今、「`000`」を送信してエラーが発生した場合、受信者には「`001`」と表示されるかもしれません。受信者は「`000`」か「`111`」のどちらかが送られてくるはずだと知っているので、おそらく送られたのは「`000`」で、1ビットだけ反転したのだろうと推論することができます。エラーが修正されました！\n",
    "\n",
    "しかし、複数のエラーが発生した場合はどうでしょう？私たちのメッセージは「`011`」に変わり、受信者は私たちが「`111`」を送るつもりだったと思い込んでしまいます。本当のエラーです！繰り返しを使うことで、そのようなことが起こる可能性を減らすことはできますが、ゼロにするわけではありません。では、具体的にどれくらいの確率でエラーを減らすことができるのでしょうか？調べてみましょう！\n",
    "\n",
    "以下のコードで、エラーがどのように変化するか、自分で確率を求めることができます。"
   ]
  },
  {
   "cell_type": "code",
   "execution_count": null,
   "metadata": {
    "slideshow": {
     "slide_type": "-"
    },
    "tags": []
   },
   "outputs": [],
   "source": [
    "# Probability for a 000 message to contain one error:\n",
    "p1 = 0.10\n",
    "\n",
    "# Calculating the probability of a message containing 2 or 3 errors:\n",
    "p3 = 3 * p1 * p1 * (1 - p1) + p1 * p1 * p1\n",
    "\n",
    "print(\"Percent chance the 000 message has one error: {}\".format(p1 * 100))\n",
    "print(\"Percent chance the 000 message has 2 or 3 errors: {:.4f}\".format(p3 * 100))"
   ]
  },
  {
   "cell_type": "markdown",
   "metadata": {
    "slideshow": {
     "slide_type": "-"
    },
    "tags": []
   },
   "source": [
    "反復を用いることで、メッセージを台無しにするエラーの可能性を2.8％にまで減らすことができます（2ビット以上が反転した場合）。これは、1ビットしか使わない場合の10％よりもずっと良い結果です。しかし、これは10％という作り出したエラーに過ぎません。あなたもエラー率を設定できます。試してみてください。エラーの割合`p1`を変えて、2つ以上のエラーが発生する確率にどのような影響を与えるか見てみましょう。\n",
    "\n",
    "繰り返しがどのように役立つかを知っている私たちは、上のメッセージを「エンコード」する簡単なプログラムを実装することができます。1ビットを3ビットに変換するエンコードです。そして、3ビットを1ビットに戻す、つまり「デコード」するプログラムも作れます。実際、始めに取り組むexerciseとしては良さそうです。"
   ]
  },
  {
   "cell_type": "markdown",
   "metadata": {},
   "source": [
    "### Exercise 1\n",
    "\n",
    "入門編として、量子ビット0、1、2を使った3ビットの状態を、以下のルールに従って量子ビット4の1ビットにデコードする「デコーダー」を作ってみましょう。\n",
    "\n",
    "- 000->0\n",
    "- 001->0\n",
    "- 010->0\n",
    "- 100->0\n",
    "- 111->1\n",
    "- 110->1\n",
    "- 101->1\n",
    "- 011->1\n",
    "\n",
    "_ヒント: ビットを反転させるだけなので、位相を導入するようなゲートは必要ありません。必要なのは[**基本ゲート**](https://qiskit.org/documentation/apidoc/circuit_library.html#standard-gates)だけです。_"
   ]
  },
  {
   "cell_type": "code",
   "execution_count": null,
   "metadata": {
    "slideshow": {
     "slide_type": "-"
    },
    "tags": []
   },
   "outputs": [],
   "source": [
    "# Creating a simple decoder for the classical case\n",
    "def create_decoder(qr: QuantumRegister, cr: ClassicalRegister) -> QuantumCircuit:\n",
    "    # Expect a bit being encoded in the first 3 qubits and decode it into the 4th qubit\n",
    "    # Make sure values of the first 3 qubit stays the same\n",
    "\n",
    "    qc = QuantumCircuit(qr, cr)\n",
    "    q0, q1, q2, q3 = qr\n",
    "    (c0,) = cr\n",
    "\n",
    "    ####### your code goes here #######\n",
    "\n",
    "    return qc"
   ]
  },
  {
   "cell_type": "markdown",
   "metadata": {
    "slideshow": {
     "slide_type": "-"
    },
    "tags": []
   },
   "source": [
    "では、1をエンコードした場合のデコードの様子を確認してみましょう。\n",
    "\n",
    "いろいろな入力（エラーも含む）で遊んでみて、エラー訂正回路がどのような動作をするのか試してみましょう。"
   ]
  },
  {
   "cell_type": "code",
   "execution_count": null,
   "metadata": {
    "slideshow": {
     "slide_type": "-"
    },
    "tags": []
   },
   "outputs": [],
   "source": [
    "# We expect a bit being encoded in the first 3 qubits and decode it into the 4th qubit\n",
    "qr = QuantumRegister(4)\n",
    "cr = ClassicalRegister(1)\n",
    "\n",
    "q0, q1, q2, q3 = qr\n",
    "\n",
    "# To encode a 1. Change them to test the other encodings.\n",
    "encoder = QuantumCircuit(qr, cr)\n",
    "encoder.x(q0)\n",
    "encoder.x(q1)\n",
    "encoder.x(q2)\n",
    "\n",
    "decoder = create_decoder(qr, cr)\n",
    "qc1 = encoder.compose(decoder)\n",
    "\n",
    "qc1.draw(\"mpl\")"
   ]
  },
  {
   "cell_type": "markdown",
   "metadata": {
    "slideshow": {
     "slide_type": "-"
    }
   },
   "source": [
    "デコーダーが正しく動作していると思ったら、以下のコードでテストしてください。"
   ]
  },
  {
   "cell_type": "code",
   "execution_count": null,
   "metadata": {
    "slideshow": {
     "slide_type": "-"
    },
    "tags": []
   },
   "outputs": [],
   "source": [
    "# Submit your circuit\n",
    "from qc_grader.challenges.spring_2023 import grade_ex4a\n",
    "\n",
    "grade_ex4a(create_decoder(qr, cr))"
   ]
  },
  {
   "cell_type": "markdown",
   "metadata": {
    "slideshow": {
     "slide_type": "-"
    }
   },
   "source": [
    "# 量子の場合\n",
    "\n",
    "## 量子の場合は何が複雑なのか\n",
    "\n",
    "古典の場合、このような誤り訂正符号を持つことは、ビットを数回繰り返すだけなので比較的簡単です。\n",
    "\n",
    "もちろん、もっと複雑な符号も存在しますが、最終的にはすべての符号が情報を繰り返すことによってある種の冗長性を持つことになります。\n",
    "\n",
    "しかし量子の場合、以下の2つの理由からそれを実現することができません。\n",
    "\n",
    "1. 複製不可能定理から量子ビットをコピーすることはできない。\n",
    "\n",
    "2. 量子ビットを測定すると、その状態が崩れてしまうのでもつれた量子ビットを扱うときは注意が必要。\n",
    "\n",
    "これは少しがっかりするような話ですが、それでもエラー訂正は可能です。\n",
    "\n",
    "しかし、情報を保存するために、いくつかの量子ビットが必要なだけでなく（上で説明したような反復）、いわゆる**スタビライザー**として使用する、いくつかの追加のアンシラ（補助）量子ビットが必要です。\n",
    "\n",
    "補助量子ビット自体は、状態を保存する量子ビットとエンタングルしないという考え方ですが、測定時に起こりうるエラーについてヒントを与えてくれます。\n",
    "\n",
    "2つの量子ビットを使用します。エンコードに使用するものと、スタビライザーに使用するものです。"
   ]
  },
  {
   "cell_type": "markdown",
   "metadata": {
    "slideshow": {
     "slide_type": "-"
    },
    "tags": []
   },
   "source": [
    "# ビット反転反復符号の実装\n",
    "\n",
    "エラー訂正の実装から始められるように、すべてを準備しましょう。"
   ]
  },
  {
   "cell_type": "code",
   "execution_count": null,
   "metadata": {
    "slideshow": {
     "slide_type": "-"
    },
    "tags": []
   },
   "outputs": [],
   "source": [
    "# Setup a base quantum circuit for our experiments\n",
    "encoding = QuantumRegister(3)\n",
    "stabilizer = QuantumRegister(2)\n",
    "\n",
    "encoding_q0, encoding_q1, encoding_q2 = encoding\n",
    "stabilizer_q0, stabilizer_q1 = stabilizer\n",
    "\n",
    "# Results of the encoding\n",
    "results = ClassicalRegister(3)\n",
    "\n",
    "result_b0, result_b1, result_b2 = results\n",
    "\n",
    "# For measuring the stabilizer\n",
    "syndrome = ClassicalRegister(2)\n",
    "\n",
    "syndrome_b0, syndrome_b1 = syndrome\n",
    "\n",
    "# The actual qubit which is encoded\n",
    "state = encoding[0]\n",
    "\n",
    "# The ancillas used for encoding the state\n",
    "ancillas = encoding[1:]\n",
    "\n",
    "\n",
    "# Initializing\n",
    "def initialize_circuit() -> QuantumCircuit:\n",
    "    return QuantumCircuit(encoding, stabilizer, results, syndrome)"
   ]
  },
  {
   "cell_type": "markdown",
   "metadata": {
    "slideshow": {
     "slide_type": "-"
    },
    "tags": []
   },
   "source": [
    "## 量子ビットの初期化\n",
    "\n",
    "量子状態をエラーから守るために、最初に備えておく必要があります。\n",
    "一般に状態$$|\\Psi_0\\rangle \\rightarrow |\\Psi_1\\rangle = (\\alpha |0\\rangle + \\beta |1\\rangle)$$を作り出すことが可能です。\n",
    "以下の回路で物理的な状態$$|\\Psi_1\\rangle = |1\\rangle$$を準備します。"
   ]
  },
  {
   "cell_type": "code",
   "execution_count": null,
   "metadata": {
    "slideshow": {
     "slide_type": "-"
    },
    "tags": []
   },
   "outputs": [],
   "source": [
    "initial_state = initialize_circuit()\n",
    "\n",
    "initial_state.x(encoding[0])\n",
    "\n",
    "initial_state.draw(output=\"mpl\")"
   ]
  },
  {
   "cell_type": "markdown",
   "metadata": {
    "slideshow": {
     "slide_type": "-"
    }
   },
   "source": [
    "## 量子ビットのエンコード\n",
    "\n",
    "古典の場合と同様に初期化された量子ビットを保存するために繰り返しを用いたくなります。\n",
    "\n",
    "やりたいことは、状態$|\\Psi_1\\rangle = (\\alpha |0\\rangle + \\beta |1\\rangle)$から状態$ (\\alpha |000\\rangle + \\beta |111\\rangle)$へのマッピングをエンコーディング$U_{en}|\\Psi_0\\rangle$で実行することです。\n",
    "\n",
    "この状態はエンタングル状態で、1つの量子ビットが測定されると他の2つの量子ビットの出力も確定します。\n",
    "\n",
    "故に、初めの1量子ビット状態から3量子ビットのエンタングル状態を作るためにCXゲートを使います。"
   ]
  },
  {
   "cell_type": "code",
   "execution_count": null,
   "metadata": {
    "slideshow": {
     "slide_type": "-"
    },
    "tags": []
   },
   "outputs": [],
   "source": [
    "# Encoding using bit flip code\n",
    "def encode_bit_flip(qc, state, ancillas):\n",
    "    qc.barrier(state, *ancillas)\n",
    "    for ancilla in ancillas:\n",
    "        qc.cx(state, ancilla)\n",
    "    return qc\n",
    "\n",
    "\n",
    "# The circuit encoding our qubit\n",
    "encoding_circuit = encode_bit_flip(initialize_circuit(), state, ancillas)\n",
    "\n",
    "# The circuit including all parts so far\n",
    "complete_circuit = initial_state.compose(encoding_circuit)\n",
    "complete_circuit.draw(output=\"mpl\")"
   ]
  },
  {
   "cell_type": "markdown",
   "metadata": {
    "slideshow": {
     "slide_type": "-"
    }
   },
   "source": [
    "## デコード回路の準備\n",
    "\n",
    "元々の状態へデコードするために、逆の操作を実行するデコーダーを構築しなければなりません。つまり$ (\\alpha |000\\rangle + \\beta |111\\rangle)$を$|\\Psi_1\\rangle = (\\alpha |0\\rangle + \\beta |1\\rangle)$ へマッピングするデコーダー$U_{de}|\\Psi_0\\rangle$です。\n",
    "\n",
    "全く逆の操作なので、エンコーダーを逆転させればよいです。\n",
    "\n",
    "$U_{de} = U_{en}^\\dagger$"
   ]
  },
  {
   "cell_type": "code",
   "execution_count": null,
   "metadata": {
    "slideshow": {
     "slide_type": "-"
    },
    "tags": []
   },
   "outputs": [],
   "source": [
    "# Decoding (doing the reverse)\n",
    "def decode_bit_flip(qc, state, ancillas):\n",
    "    qc.barrier(state, *ancillas)\n",
    "    for ancilla in ancillas:\n",
    "        qc.cx(state, ancilla)\n",
    "    return qc\n",
    "\n",
    "\n",
    "decoding_circuit = decode_bit_flip(initialize_circuit(), state, ancillas)\n",
    "\n",
    "decoding_circuit.draw(output=\"mpl\")"
   ]
  },
  {
   "cell_type": "markdown",
   "metadata": {
    "slideshow": {
     "slide_type": "-"
    }
   },
   "source": [
    "## スタビライザーの測定\n",
    "\n",
    "$A$をターゲット、$B$をソースとするCXゲートを用いることで、量子ビット$A$を別の量子ビット$B$とエンタングルさせることができることを先ほど確認しました（$B$がすでに重ね合わせやエンタングル状態にある場合）。\n",
    "\n",
    "その後、$A$をターゲットとして、$B$（あるいは、$A$と完全にエンタングル、相関する別の量子ビット）をソースとする別のCXゲートを使うことで、再びエンタングルメントを解くことができます。\n",
    "\n",
    "スタビライザーを測定して、発生した潜在的なエラーを把握したいので、スタビライザーが状態をエンコードする量子ビットとエンタングルしていないことが重要です。\n",
    "\n",
    "この事実を知れば、各スタビライザーに偶数個のCXゲートを適用する必要があることは明らかです。スタビライザーが有用であるためには、ビット反転エラーが発生したかどうか、そして3つのエンコーディング量子ビットのうちどの量子ビットで発生したかを測定する必要があります。"
   ]
  },
  {
   "cell_type": "markdown",
   "metadata": {},
   "source": [
    "### Exercise 2\n",
    "\n",
    "単一ビット反転エラーを検出する測定ができるように、シンドロームビットを計算してください。シンドロームビットを測定し、スタビライザー量子ビットを`0`状態にリセットするコードを用意しました。\n",
    "\n",
    "さまざまな方法があるので、できるだけ単純な符号化でスタビライザーを手に入れましょう。\n",
    "\n",
    "`00` -> エラーなし \n",
    "\n",
    "`01` -> 量子ビット0（1番目の量子ビット）にエラーあり\n",
    "\n",
    "`10` -> 量子ビット1（2番目の量子ビット）にエラーあり\n",
    "\n",
    "`11` -> 量子ビット2（3番目の量子ビット）にエラーあり\n",
    "\n",
    "*ヒント：3つのエンコーディング量子ビットは完全に相関しているはずですが、もしそうでない場合、そのうちの1つにビット反転エラーが発生しています。*\n"
   ]
  },
  {
   "cell_type": "code",
   "execution_count": null,
   "metadata": {
    "slideshow": {
     "slide_type": "-"
    },
    "tags": []
   },
   "outputs": [],
   "source": [
    "# Add functions such that the classical bits can be used to see which qubit is flipped in the case a single qubit is flipped.\n",
    "# Use 2 classical bits for it.\n",
    "# 0 = 00 = no qubit flipped\n",
    "# 1 = 01 = first qubit (qubit 0) flipped\n",
    "# 2 = 10 second qubit (qubit 1) flipped\n",
    "# 3 = 11 = third qubit (qubit 2) flipped\n",
    "def measure_syndrome_bit(qc, encoding, stabilizer):\n",
    "    qc.barrier()\n",
    "    encoding_q0, encoding_q1, encoding_q2 = encoding\n",
    "    stabilizer_q0, stabilizer_q1 = stabilizer\n",
    "\n",
    "    ####### your code goes here #######\n",
    "\n",
    "    ####### don't edit the code below #######\n",
    "    qc.barrier()\n",
    "    qc.measure(stabilizer, syndrome)\n",
    "    with qc.if_test((syndrome_b0, 1)):\n",
    "        qc.x(stabilizer_q0)\n",
    "    with qc.if_test((syndrome_b1, 1)):\n",
    "        qc.x(stabilizer_q1)\n",
    "\n",
    "    return qc\n",
    "\n",
    "\n",
    "syndrome_circuit = measure_syndrome_bit(initialize_circuit(), encoding, stabilizer)\n",
    "\n",
    "complete_circuit = initial_state.compose(encoding_circuit).compose(syndrome_circuit)\n",
    "complete_circuit.draw(\"mpl\")"
   ]
  },
  {
   "cell_type": "code",
   "execution_count": null,
   "metadata": {
    "slideshow": {
     "slide_type": "-"
    },
    "tags": []
   },
   "outputs": [],
   "source": [
    "# Submit your circuit\n",
    "from qc_grader.challenges.spring_2023 import grade_ex4b\n",
    "\n",
    "grade_ex4b(complete_circuit)"
   ]
  },
  {
   "cell_type": "markdown",
   "metadata": {
    "slideshow": {
     "slide_type": "-"
    },
    "tags": []
   },
   "source": [
    "## エラー訂正\n",
    "\n",
    "これでスタビライザーを構築し、それを測定することでエラーシンドロームを取得できるようになりました。もちろん、エラーが発生したことを示すだけでなく、エラーの修正もできるようにしたいです。\n",
    "\n",
    "そこでDynamic Circuitを使い、シンドロームの測定値を用いて、潜在的なエラーを修正することにします。古典のケースと同様に、最大でも1つのエラーしか修正できません。それ以上のエラーを修正したい場合は、5エンコード量子ビット以上の長いコードが必要です。\n",
    "\n",
    "上記のようにうまい方法のシンドローム測定を選んだので、1つのエラーの場合、どの量子ビットが反転しているかが正確に分かるので、エラーを修正するのは非常に簡単です。"
   ]
  },
  {
   "cell_type": "markdown",
   "metadata": {},
   "source": [
    "### Exercise 3\n",
    "\n",
    "測定されたシンドロームに応じてエラーを修正してください。"
   ]
  },
  {
   "cell_type": "code",
   "execution_count": null,
   "metadata": {
    "slideshow": {
     "slide_type": "-"
    },
    "tags": []
   },
   "outputs": [],
   "source": [
    "# Correct the errors, remember how we encoded the errors above!\n",
    "def apply_correction_bit(qc, encoding, syndrome):\n",
    "    qc.barrier()\n",
    "    encoding_q0, encoding_q1, encoding_q2 = encoding\n",
    "\n",
    "    ####### your code goes here #######\n",
    "\n",
    "    return qc\n",
    "\n",
    "\n",
    "correction_circuit = apply_correction_bit(initialize_circuit(), encoding, syndrome)\n",
    "complete_circuit = (\n",
    "    initial_state.compose(encoding_circuit)\n",
    "    .compose(syndrome_circuit)\n",
    "    .compose(correction_circuit)\n",
    ")\n",
    "complete_circuit.draw(output=\"mpl\")"
   ]
  },
  {
   "cell_type": "markdown",
   "metadata": {
    "slideshow": {
     "slide_type": "-"
    },
    "tags": []
   },
   "source": [
    "あとは、エンコード量子ビットを測定するのみです。測定前にデコーダー回路を適用して、初期状態を復元します。\n",
    "\n",
    "もし、何もエラーがなく完璧に動作するのであれば、最初の量子ビットを測定するだけでよいのですが、必ずしもそうではないので、すべての量子ビットを測定して、何か悪いことが起きていないかどうかを確認します。"
   ]
  },
  {
   "cell_type": "code",
   "execution_count": null,
   "metadata": {
    "slideshow": {
     "slide_type": "-"
    },
    "tags": []
   },
   "outputs": [],
   "source": [
    "def apply_final_readout(qc, encoding, results):\n",
    "    qc.barrier(encoding)\n",
    "    qc.measure(encoding, results)\n",
    "    return qc\n",
    "\n",
    "\n",
    "measuring_circuit = apply_final_readout(initialize_circuit(), encoding, results)\n",
    "complete_circuit = (\n",
    "    initial_state.compose(encoding_circuit)\n",
    "    .compose(syndrome_circuit)\n",
    "    .compose(correction_circuit)\n",
    "    .compose(decoding_circuit)\n",
    "    .compose(measuring_circuit)\n",
    ")\n",
    "complete_circuit.draw(output=\"mpl\")"
   ]
  },
  {
   "cell_type": "code",
   "execution_count": null,
   "metadata": {},
   "outputs": [],
   "source": [
    "# Submit your circuit\n",
    "from qc_grader.challenges.spring_2023 import grade_ex4c\n",
    "\n",
    "grade_ex4c(complete_circuit)"
   ]
  },
  {
   "cell_type": "markdown",
   "metadata": {
    "slideshow": {
     "slide_type": "-"
    }
   },
   "source": [
    "## テストの準備\n",
    " \n",
    "これですべてが揃ったので、正しい出力が得られるかどうかをテストすることができます。\n",
    "\n",
    "実装が正しいことを確認するために、エラーなしで最初のテストを行います。"
   ]
  },
  {
   "cell_type": "code",
   "execution_count": null,
   "metadata": {},
   "outputs": [],
   "source": [
    "# We first choose a simulator as our backend without any noise\n",
    "backend = Aer.get_backend(\"qasm_simulator\")\n",
    "# We run the simulation and get the counts\n",
    "counts = backend.run(complete_circuit, shots=1000).result().get_counts()\n",
    "# And now we plot a histogram to see the possible outcomes and corresponding probabilities\n",
    "plot_histogram(counts)"
   ]
  },
  {
   "cell_type": "markdown",
   "metadata": {
    "slideshow": {
     "slide_type": "-"
    }
   },
   "source": [
    "正しい結果が得られていることがわかります（初期量子ビットを1の状態で初期化したので、`00 001`が得られるはずです）。\n",
    "\n",
    "エンコードに使用した他の量子ビットは、予想通り処理後`0`の状態になっているのがわかりますね。\n",
    "\n",
    "\n",
    "さて、この回路がノイズなしで動作することがわかったので、ノイズを追加してみましょう！\n",
    "\n",
    "そのために、ノイズを含むibm_manilaバックエンドをシミュレートするシミュレータを使用します：\n",
    "\n",
    "*注：このバックエンドはレイアウトが単純なので選びました。レイアウトについては、後ほど詳しく見ていきます。"
   ]
  },
  {
   "cell_type": "code",
   "execution_count": null,
   "metadata": {},
   "outputs": [],
   "source": [
    "# We choose a simulator for Manila a 5 qubit device, includes errors\n",
    "backend = FakeManilaV2()\n",
    "# We run the simulation and get the counts\n",
    "counts = backend.run(complete_circuit, shots=1000).result().get_counts()\n",
    "# We plot a histogram to see the possible outcomes and corresponding probabilities\n",
    "plot_histogram(counts)"
   ]
  },
  {
   "cell_type": "markdown",
   "metadata": {
    "slideshow": {
     "slide_type": "-"
    }
   },
   "source": [
    "間違った結果も出ますが、全体としてはほとんどの結果が正しいです。これは良い兆候であり、ノイズがあっても我々のコードが動作することを意味します。\n",
    "\n",
    "しかし、エラー訂正なしの場合との比較がないのでこのスキームの良さはわかりません。なのでエラー訂正のステップがない場合どの程度の性能があるのかを見てみましょう："
   ]
  },
  {
   "cell_type": "code",
   "execution_count": null,
   "metadata": {},
   "outputs": [],
   "source": [
    "qc3 = (\n",
    "    initial_state.compose(encoding_circuit)\n",
    "    .compose(syndrome_circuit)\n",
    "    .compose(decoding_circuit)\n",
    "    .compose(measuring_circuit)\n",
    ")\n",
    "\n",
    "\n",
    "# We choose a again FakeManila\n",
    "backend = FakeManilaV2()\n",
    "# let the simulation run\n",
    "counts = backend.run(qc3, shots=1000).result().get_counts()\n",
    "# and plot our results\n",
    "plot_histogram(counts)"
   ]
  },
  {
   "cell_type": "markdown",
   "metadata": {
    "slideshow": {
     "slide_type": "-"
    }
   },
   "source": [
    "結果はほぼ同じか、あるいは若干悪くなっていることがわかります。これはエンコード量子ビットを作成後、使用していないためです。\n",
    "\n",
    "これらの量子ビットを使って計算をすると、通常は何らかの誤差が生じますが、今回はそのようなことはありません。\n",
    "\n",
    "一方、エラー訂正の部分は、時間のかかる演算を行うため、エラーが発生する可能性があります。\n",
    "\n",
    "テスト目的に、制御された方法でエラーを発生させる回路を作成します：\n",
    "\n",
    "- 修正対象であるビット反転エラーを導入したい。\n",
    "\n",
    "- 3エンコード量子ビットのエラーが互いに独立であるようにしたい。\n",
    "\n",
    "- エラーが発生する確率を選択できるようにしたい。\n",
    "\n",
    "- 入力はパーセンテージで、出力はその確率でエラーを発生させる回路にしたい。"
   ]
  },
  {
   "cell_type": "markdown",
   "metadata": {},
   "source": [
    "### Exercise 4\n",
    "\n",
    "上で定義したノイズを追加する回路を構築してください。"
   ]
  },
  {
   "cell_type": "code",
   "execution_count": null,
   "metadata": {
    "slideshow": {
     "slide_type": "-"
    },
    "tags": []
   },
   "outputs": [],
   "source": [
    "# Add some errors as defined above (only add errors to the encoding qubits)\n",
    "def make_some_noise(qc, encoding, syndrome, error_percentage):\n",
    "    encoding_q0, encoding_q1, encoding_q2 = encoding\n",
    "    syndrome_b0, syndrome_b1 = syndrome\n",
    "\n",
    "    ####### your code goes here #######\n",
    "\n",
    "    return qc\n",
    "\n",
    "\n",
    "# Constructing a circuit with 10% error rate (for each of the encoding qubit)\n",
    "noise_circuit = make_some_noise(initialize_circuit(), encoding, syndrome, 10)\n",
    "noise_circuit.draw(output=\"mpl\")"
   ]
  },
  {
   "cell_type": "markdown",
   "metadata": {
    "slideshow": {
     "slide_type": "-"
    }
   },
   "source": [
    "以下のコードを使用して、10%のエラー率を導入する回路を作成し、関数をテストしてください。"
   ]
  },
  {
   "cell_type": "code",
   "execution_count": null,
   "metadata": {
    "slideshow": {
     "slide_type": "-"
    },
    "tags": []
   },
   "outputs": [],
   "source": [
    "# Submit your circuit\n",
    "from qc_grader.challenges.spring_2023 import grade_ex4d\n",
    "\n",
    "grade_ex4d(noise_circuit)"
   ]
  },
  {
   "cell_type": "markdown",
   "metadata": {
    "slideshow": {
     "slide_type": "-"
    }
   },
   "source": [
    "10％の確率でエラーを導入した場合、エラー訂正がどれだけうまく動くか検証します。"
   ]
  },
  {
   "cell_type": "code",
   "execution_count": null,
   "metadata": {},
   "outputs": [],
   "source": [
    "qc4 = (\n",
    "    initial_state.compose(encoding_circuit)\n",
    "    .compose(noise_circuit)\n",
    "    .compose(syndrome_circuit)\n",
    "    .compose(correction_circuit)\n",
    "    .compose(decoding_circuit)\n",
    "    .compose(measuring_circuit)\n",
    ")\n",
    "\n",
    "\n",
    "# We choose again FakeManila\n",
    "backend = FakeManilaV2()\n",
    "# let the simulation run\n",
    "counts = backend.run(qc4, shots=1000).result().get_counts()\n",
    "# and plot our results\n",
    "plot_histogram(counts)"
   ]
  },
  {
   "cell_type": "markdown",
   "metadata": {
    "slideshow": {
     "slide_type": "-"
    }
   },
   "source": [
    "結果は悪化してしまいましたが、ほとんどの場合、`001`が取得出来ていることが分かります。\n",
    "\n",
    "これで、最初の誤り訂正符号を作成し、テストすることに成功しました。\n",
    "\n",
    "\n",
    "もし位相エラーも補正したいのであれば、別の方式とより多くの量子ビットが必要です。\n",
    "\n",
    "エラー訂正についてもっと知りたい方は、こちらもご覧ください： \n",
    "\n",
    "https://learn.qiskit.org/course/ch-labs/lab-10-quantum-error-correction"
   ]
  },
  {
   "cell_type": "markdown",
   "metadata": {
    "slideshow": {
     "slide_type": "-"
    }
   },
   "source": [
    "# Short Outlook: エラー訂正とハードウェアレイアウト\n",
    "\n",
    "上記では、すでにシミュレートされたハードウェアのシミュレーターを使用しましたが、実機でより複雑なものを実行したい場合は、レイアウトも考慮する必要があります。\n",
    "\n",
    "\n",
    "デバイスのレイアウトは重要です。理想的なケースのようにすべての量子ビットが互いに接続されているわけではないので、レイアウトを考えなければ、3つのcx演算からなるスワップ演算がたくさん使われることになります。もちろん、エラーも発生します。\n",
    "\n",
    "\n",
    "\n",
    "実機で次のような量子ビットの並びがあるとします。\n",
    "\n",
    "    0 - 1 - 2 - 3 - 4 \n",
    "\n",
    "この物理量子ビットを、エラー訂正回路で使用した論理量子ビットにどのようにマッピングするのでしょうか？\n",
    "\n",
    "ここでは、量子ビットの最初の接続（エンタングル）は、エラー訂正部分よりも「簡単」だと仮定します。エラー訂正部分は何度か繰り返したいので、エラー訂正部分のみを考えて、これらの量子ビットをどのようにマッピングするのでしょうか？\n",
    "\n",
    "\n",
    "\n",
    "以下のコードで、レイアウトの違いで異なる回路になることを確認できます。"
   ]
  },
  {
   "cell_type": "code",
   "execution_count": null,
   "metadata": {
    "slideshow": {
     "slide_type": "-"
    },
    "tags": []
   },
   "outputs": [],
   "source": [
    "from qiskit.circuit import IfElseOp\n",
    "\n",
    "# Fill in a better layout to test!!\n",
    "initial_layout = [0, 1, 2, 3, 4]\n",
    "\n",
    "# We use Manila as our potential backend, since it has the wanted layout\n",
    "backend = FakeManilaV2()\n",
    "\n",
    "# Temporary workaround for fake backends. For real backends this is not required.\n",
    "backend.target.add_instruction(IfElseOp, name=\"if_else\")\n",
    "\n",
    "# And now we transpile the circuit for the backend.\n",
    "qc_transpiled = transpile(complete_circuit, backend, initial_layout=initial_layout)\n",
    "\n",
    "qc_transpiled.draw()"
   ]
  },
  {
   "cell_type": "markdown",
   "metadata": {
    "slideshow": {
     "slide_type": "-"
    }
   },
   "source": [
    "完璧なレイアウトはありません。特に、3つの量子ビットをエンタングルさせるために、最初のうちはエラー訂正とは異なる接続が必要なためです。\n",
    "\n",
    "\n",
    "[0, 4, 2, 1, 3]というレイアウトは、訂正に必要なすべてのCXゲートを直接接続することができ、その部分は何度も実行される可能性があるため、理にかなっています。\n",
    "\n",
    "\n",
    "また、回路を構成するために最初にスタビライザーとして使用される量子ビットを使用することができるので、これらの量子ビットで初期設定（エンタングル）をどのようにうまく行うことができるかを考える余地もあります。\n",
    "\n",
    "\n",
    "\n",
    "場合によってかなり異なることを示すために、次のレイアウトを見てみましょう。どのように量子ビットをマッピングするのでしょうか？\n",
    "\n",
    "\n",
    "    2 - 3 - 4 \n",
    "            |\n",
    "           15\n",
    "            |\n",
    "           22\n",
    "\n",
    "上記と同様に[2, 4, 22, 3, 15]のレイアウトが理にかなっていると言えるでしょう。必要なCXゲートをすべて直接接続することができるからです。\n",
    "\n",
    "どちらのレイアウトも単純な線であるため、これらのレイアウト間に差異はないことがわかります。しかし、IBM_Quitoのバックエンドを見ると、他の5量子ビットデバイスもあることがわかります。Manilaを選んだのは、exerciseに適していたからです。\n",
    "\n",
    "\n",
    "これらの小さな例は、実際のハードウェアでは、量子ビットのレイアウトに注意しなければならないことを示すものです！\n",
    "\n",
    "**このことはbonus exerciseで特に重要になります！**。"
   ]
  },
  {
   "cell_type": "code",
   "execution_count": null,
   "metadata": {},
   "outputs": [],
   "source": []
  }
 ],
 "metadata": {
  "celltoolbar": "Slideshow",
  "kernelspec": {
   "display_name": "Python 3",
   "language": "python",
   "name": "python3"
  },
  "language_info": {
   "codemirror_mode": {
    "name": "ipython",
    "version": 3
   },
   "file_extension": ".py",
   "mimetype": "text/x-python",
   "name": "python",
   "nbconvert_exporter": "python",
   "pygments_lexer": "ipython3",
   "version": "3.8.5"
  },
  "vscode": {
   "interpreter": {
    "hash": "31f2aee4e71d21fbe5cf8b01ff0e069b9275f58929596ceb00d14d90e3e16cd6"
   }
  },
  "widgets": {
   "application/vnd.jupyter.widget-state+json": {
    "state": {},
    "version_major": 2,
    "version_minor": 0
   }
  }
 },
 "nbformat": 4,
 "nbformat_minor": 5
}
