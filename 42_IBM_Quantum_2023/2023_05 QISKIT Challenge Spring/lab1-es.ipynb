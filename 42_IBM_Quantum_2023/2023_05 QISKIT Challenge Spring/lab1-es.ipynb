{
 "cells": [
  {
   "cell_type": "markdown",
   "id": "dfb2ccb8",
   "metadata": {},
   "source": [
    "# IBM Quantum Challenge: Spring 2023"
   ]
  },
  {
   "cell_type": "markdown",
   "id": "f5055920",
   "metadata": {},
   "source": [
    "## Primeros Pasos"
   ]
  },
  {
   "cell_type": "markdown",
   "id": "cb7408b2",
   "metadata": {},
   "source": [
    "¡Bienvenido al IBM Quantum Challenge: Spring 2023!\n",
    "\n",
    "Esta iteración del IBM Quantum Challenge está dedicada a los circuitos dinámicos. Actualmente estás en el primer laboratorio del desafío. A medida que avances en los laboratorios, se te pedirá que completes algunos ejercicios. En esta sección introductoria, te daremos una breve descripción de cómo completar los ejercicios. Incluso si has participado en desafíos anteriores, es posible que desees revisar este material.\n",
    "\n",
    "Todos los laboratorios contendrán una mezcla de contenido de tutoriales, bloques de código preescritos y bloques de código de ejercicio que requerirán que completes su propio código Qiskit. El código requerido para completar el ejercicio debe escribirse debajo de la línea que tiene el comentario _\"### Your code goes here ###\"_.\n",
    "\n",
    "Si nunca antes has sido parte de un Desafío (Challenge), es importante tener en cuenta que debes ejecutar cada celda de código, incluso si no escribiste ningún código nuevo dentro. Esto asegura que cuando envíes tus respuestas ejecutando el calificador (grader), todo esté actualizado."
   ]
  },
  {
   "cell_type": "markdown",
   "id": "46e89268",
   "metadata": {
    "tags": []
   },
   "source": [
    "### Ejercicio de Muestra\n",
    "\n",
    "En la siguiente celda, construimos un circuito con un solo qubit y un solo bit clásico. Tu primera tarea es ejecutar una compuerta Hadamard en el qubit y luego medirlo, almacenando el resultado en el bit clásico. Hemos completado el código por tí, todo lo que necesitas hacer es eliminar el `#` al comienzo de ambas líneas."
   ]
  },
  {
   "cell_type": "code",
   "execution_count": null,
   "id": "ecbcd8d6-817f-4f58-89ef-528babd8b1a5",
   "metadata": {
    "tags": []
   },
   "outputs": [],
   "source": [
    "from qiskit import QuantumCircuit, QuantumRegister, ClassicalRegister\n",
    "\n",
    "qr = QuantumRegister(1)\n",
    "cr = ClassicalRegister(1)\n",
    "qc = QuantumCircuit(qr, cr)\n",
    "\n",
    "####### your code goes here #######\n",
    "\n",
    "qc.h(qr[0])\n",
    "qc.measure(qr[0], cr[0])\n",
    "\n",
    "qc.draw(\"mpl\")"
   ]
  },
  {
   "cell_type": "markdown",
   "id": "d1e56990",
   "metadata": {},
   "source": [
    "¡Buen trabajo! Después de cada ejercicio necesitaremos averiguar si lo que escribiste es correcto. Para hacer esto, simplemente ejecute una celda calificadora.\n",
    "\n",
    "Probémoslo. En la siguiente celda, te pedimos que establezcas un valor entero para la variable `answer_0`. Si el número entero está entre 1 y 5, el calificador (grader) te devolverá un mensaje felicitándote por encontrar la respuesta correcta. Si ingresas cualquier otro número, obtendrás el mensaje opuesto.\n",
    "\n",
    "Establece la respuesta como desees y, a continuación, ejecuta la celda del calificador para ver los resultados. Puedes intentar esto varias veces con diferentes números para divertirte."
   ]
  },
  {
   "cell_type": "code",
   "execution_count": null,
   "id": "a5100dd1",
   "metadata": {
    "tags": []
   },
   "outputs": [],
   "source": [
    "answer_0: int\n",
    "answer_0 = 3\n",
    "\n",
    "##### Hint: Recuerda ejecutar esta celda después de cambiar tu valor ###"
   ]
  },
  {
   "cell_type": "code",
   "execution_count": null,
   "id": "35f09765",
   "metadata": {
    "tags": []
   },
   "outputs": [],
   "source": [
    "# Celda Calificadora: ejecuta esto para enviar tu respuesta\n",
    "\n",
    "from qc_grader.challenges.spring_2023 import grade_ex1a\n",
    "\n",
    "grade_ex1a(answer_0)"
   ]
  },
  {
   "cell_type": "markdown",
   "id": "a95432dc",
   "metadata": {},
   "source": [
    "Ahora ya está todo listo para comenzar este desafío. ¡Buena suerte y diviertete!"
   ]
  },
  {
   "cell_type": "markdown",
   "id": "312c9431-a3fc-4448-9001-fb9d41ea6a44",
   "metadata": {},
   "source": [
    "# Introducción a los Circuitos Dinámicos y Repetir hasta el éxito"
   ]
  },
  {
   "cell_type": "markdown",
   "id": "f7212735",
   "metadata": {},
   "source": [
    "## Introducción"
   ]
  },
  {
   "cell_type": "markdown",
   "id": "d3fb8748",
   "metadata": {},
   "source": [
    "Según el [libro de texto de Qiskit,](https://learn.qiskit.org/course/ch-algorithms/quantum-circuits)\n",
    ">_\"Un circuito cuántico es una rutina computacional que consta de operaciones cuánticas coherentes en qubits... Es una secuencia ordenada de compuertas cuánticas, mediciones y restablecimientos, todos los cuales pueden condicionarse y utilizar datos de la computación clásica en tiempo real.\"_\n",
    "\n",
    "Es posible que no estés familiarizado con la última parte de la definición, pero tiene mucho que ver con los circuitos dinámicos. Por lo general, cuando hablamos de circuitos cuánticos, nos referimos a circuitos cuánticos _estáticos_, incluso si no lo decimos explícitamente. Entonces, ¿qué son los circuitos dinámicos?\n",
    "\n",
    "Los **circuitos dinámicos** son circuitos cuánticos que contienen mediciones en medio del circuito donde los resultados de esas mediciones se usan para condicionar compuertas cuánticas más adelante en el circuito. La capacidad de condicionar futuras operaciones cuánticas en los resultados de las mediciones clásicas se conoce como feedforward clásico.\n",
    "\n",
    "¿Por qué necesitamos feedforward clásico? Un ejemplo puede ayudar: Considera la operación de restablecimiento condicional, que puede sonarte familiar si alguna vez usaste la operación [`reset`](https://qiskit.org/documentation/stubs/qiskit.circuit.QuantumCircuit.reset.html) en Qiskit. Si bien la operación de restablecimiento es una operación no unitaria que restablece el qubit al estado cero sin importar el estado inicial, la operación de restablecimiento condicional se realiza en un qubit ya medido para restablecerlo a cero mediante la aplicación de una compuerta bit-flip X solo si el qubit está en el estado uno, según lo determinado a partir de su valor medido. El restablecimiento condicional puede ser una forma más rápida y menos propensa a errores de restablecer un qubit si ya se ha medido."
   ]
  },
  {
   "cell_type": "markdown",
   "id": "60ea3680",
   "metadata": {},
   "source": [
    "<center>\n",
    "<img src=\"resources/sketch-1.png\" width=\"50%\">\n",
    "</center>"
   ]
  },
  {
   "cell_type": "markdown",
   "id": "caea194a",
   "metadata": {},
   "source": [
    "Dicho de otra manera, los circuitos dinámicos son circuitos cuánticos que incluyen flujo de control, como declaraciones if y bucles while, donde los predicados se calculan a partir de los resultados de mediciones de qubit anteriores y las operaciones condicionales incluyen compuertas cuánticas."
   ]
  },
  {
   "cell_type": "markdown",
   "id": "b52cef83-0393-4aba-9df0-ff54dff0bc04",
   "metadata": {},
   "source": [
    "## Hola Mundo de los Circuitos Dinámicos"
   ]
  },
  {
   "cell_type": "markdown",
   "id": "1291e604",
   "metadata": {},
   "source": [
    "El hardware de IBM Quantum ya admitía mediciones de circuito medio (mid-circuit) y restablecimiento desde hace algún tiempo. Sin embargo, agregar soporte para feedforward clásico requirió un rediseño significativo de los sistemas de control y la pila de software asociada. El soporte completo para circuitos dinámicos se introdujo solo el año pasado (2022).\n",
    "\n",
    "En Qiskit, la sintaxis para programar circuitos dinámicos ha pasado por varias iteraciones y aún no se ha implementado el soporte completo. Actualmente, la única forma de acceder a todas las capacidades de los circuitos dinámicos es enviar programas escritos en OpenQASM 3. Sin embargo, en este desafío trabajaremos con lo que está disponible actualmente en Qiskit.\n",
    "\n",
    "Una versión anterior de Qiskit introdujo la instrucción [`c_if()`](https://qiskit.org/documentation/stubs/qiskit.circuit.Instruction.c_if.html), pero esta sintaxis quedará obsoleta en favor del método más flexible [`if_test()`](https://qiskit.org/documentation/stubs/qiskit.circuit.QuantumCircuit.if_test.html) de QuantumCircuit, que es el método que usaremos principalmente en este desafío.\n",
    "\n",
    "Para comenzar, vamos a revisar un ejemplo simple en el que usaremos esta función. Construiremos un circuito que demuestre la operación de restablecimiento condicional siguiendo los siguientes pasos:\n",
    "\n",
    "1. Inicializa un circuito con 1 qubit y 2 bits clásicos. ($q_{0}$, $b_{0}$ y $b_{1}$)\n",
    "2. Aplica una compuerta Hadamard a $q_{0}$.\n",
    "3. Mide ese qubit y guarda el resultado en $b_{0}$.\n",
    "4. Comienza un bloque `if_test` condicionado a que $b_{0}$ sea igual a 1.\n",
    "5. En el bloque `if_test`, especifica la operación a realizar si se cumple la condición, en este caso, cambiando $q_{0}$ al estado 0.\n",
    "6. Vuelve a medir $q_0$ en $b_{1}$ para comprobar que siempre obtenemos 0."
   ]
  },
  {
   "cell_type": "code",
   "execution_count": null,
   "id": "10d6953d",
   "metadata": {
    "tags": []
   },
   "outputs": [],
   "source": [
    "from qiskit import QuantumCircuit\n",
    "from qiskit.circuit import QuantumRegister, ClassicalRegister\n",
    "\n",
    "qr = QuantumRegister(1)\n",
    "cr = ClassicalRegister(2)\n",
    "qc = QuantumCircuit(qr, cr)\n",
    "\n",
    "# unpack the qubit and classical bits from the registers\n",
    "(q0,) = qr\n",
    "b0, b1 = cr\n",
    "\n",
    "# apply Hadamard\n",
    "qc.h(q0)\n",
    "# measure\n",
    "qc.measure(q0, b0)\n",
    "\n",
    "# begin if test block. the contents of the block are executed if b0 == 1\n",
    "with qc.if_test((b0, 1)):\n",
    "    # if the condition is satisfied (b0 == 1), then flip the bit back to 0\n",
    "    qc.x(q0)\n",
    "# finally, measure q0 again\n",
    "qc.measure(q0, b1)\n",
    "\n",
    "qc.draw(output=\"mpl\", idle_wires=False)"
   ]
  },
  {
   "cell_type": "markdown",
   "id": "fa3da6a2",
   "metadata": {},
   "source": [
    "Ahora que nuestro circuito está construido, ejecutémoslo varias veces para ver si siempre obtenemos el resultado esperado. La primera medición puede ser 0 o 1, pero la segunda medición siempre debe ser 0."
   ]
  },
  {
   "cell_type": "code",
   "execution_count": null,
   "id": "06a4eee8",
   "metadata": {
    "tags": []
   },
   "outputs": [],
   "source": [
    "from qiskit_aer import AerSimulator\n",
    "\n",
    "# initialize the simulator\n",
    "backend_sim = AerSimulator()\n",
    "\n",
    "# run the circuit\n",
    "reset_sim_job = backend_sim.run(qc)\n",
    "# get the results\n",
    "reset_sim_result = reset_sim_job.result()\n",
    "# retrieve the bitstring counts\n",
    "reset_sim_counts = reset_sim_result.get_counts()\n",
    "\n",
    "print(f\"Counts: {reset_sim_counts}\")"
   ]
  },
  {
   "cell_type": "markdown",
   "id": "388ce901",
   "metadata": {},
   "source": [
    "Como era de esperar, el primer bit es a veces 0 y a veces 1, pero el segundo bit siempre es 0 (recuerda que Qiskit usa el ordenamiento de bits little-endian, de modo que el bit más a la derecha es el primer bit y el bit más a la izquierda es el último bit)."
   ]
  },
  {
   "cell_type": "code",
   "execution_count": null,
   "id": "439359c9",
   "metadata": {
    "tags": []
   },
   "outputs": [],
   "source": [
    "from qiskit.visualization import *\n",
    "\n",
    "# plot histogram\n",
    "plot_histogram(reset_sim_counts)"
   ]
  },
  {
   "cell_type": "markdown",
   "id": "de501c69",
   "metadata": {},
   "source": [
    "¡Ahora estás listo para construir tu primer circuito dinámico!"
   ]
  },
  {
   "cell_type": "markdown",
   "id": "f62264b8",
   "metadata": {},
   "source": [
    "### **Ejercicio 1**"
   ]
  },
  {
   "cell_type": "code",
   "execution_count": 12,
   "id": "97acd850",
   "metadata": {
    "tags": []
   },
   "outputs": [
    {
     "data": {
      "image/png": "[encoded data removed]",
      "text/plain": [
       "<Figure size 574.589x367.889 with 1 Axes>"
      ]
     },
     "execution_count": 12,
     "metadata": {},
     "output_type": "execute_result"
    }
   ],
   "source": [
    "qr = QuantumRegister(2)\n",
    "cr = ClassicalRegister(2)\n",
    "qc = QuantumCircuit(qr, cr)\n",
    "\n",
    "q0, q1 = qr\n",
    "b0, b1 = cr\n",
    "\n",
    "qc.h(q0)\n",
    "qc.measure(q0, b0)\n",
    "\n",
    "####### your code goes here #######\n",
    "\n",
    "with qc.if_test((cr[0], 0)) as else_:\n",
    "    qc.x(1)\n",
    "with else_:\n",
    "    qc.h(1)\n",
    "    qc.z(1)\n",
    "\n",
    "qc.measure(q1, b1)\n",
    "qc.draw(output=\"mpl\", idle_wires=False)"
   ]
  },
  {
   "cell_type": "markdown",
   "id": "da73cc7b",
   "metadata": {},
   "source": [
    "Nivelemos las cosas. Tu primera tarea será diseñar un circuito de dos qubits. En este caso, el objetivo será actuar de manera diferente sobre $q_{1}$ dependiendo del valor de $q_{0}$. Si la medición en $q_{0}$ es 0, aplica una compuerta $X$ en $q_{1}$. Si se lee 1, aplica una Hadamard en $q_{1}$ en su lugar.\n",
    "\n",
    "Para que el valor de $q_{0}$ sea aleatorio, lo primero que haremos será aplicar una Hadamard en ese qubit. A continuación, mediremos $q_{0}$ en $b_{0}$. Después de eso, debería ocurrir la magia dinámica y, finalmente, se mide $q_{1}$."
   ]
  },
  {
   "cell_type": "markdown",
   "id": "fd70af27",
   "metadata": {},
   "source": [
    "Para este ejercicio, te recomendamos que leas la documentación de [`if_test()`](https://qiskit.org/documentation/stubs/qiskit.circuit.QuantumCircuit.if_test.html)."
   ]
  },
  {
   "cell_type": "markdown",
   "id": "fff212ad",
   "metadata": {},
   "source": [
    "Opcionalmente, puedes ejecutar la siguiente celda para verificar si tu circuito se comporta como se esperaba.\n",
    ">Tip: Piensa en los posibles resultados del circuito antes de ejecutarlo."
   ]
  },
  {
   "cell_type": "code",
   "execution_count": 13,
   "id": "e25f4018",
   "metadata": {
    "tags": []
   },
   "outputs": [
    {
     "name": "stdout",
     "output_type": "stream",
     "text": [
      "Counts: {'01': 240, '11': 270, '10': 514}\n"
     ]
    }
   ],
   "source": [
    "backend_sim = AerSimulator()\n",
    "\n",
    "job_1 = backend_sim.run(qc)\n",
    "result_1 = job_1.result()\n",
    "counts_1 = result_1.get_counts()\n",
    "\n",
    "print(f\"Counts: {counts_1}\")"
   ]
  },
  {
   "cell_type": "code",
   "execution_count": 14,
   "id": "52ffa93c",
   "metadata": {
    "tags": []
   },
   "outputs": [
    {
     "name": "stdout",
     "output_type": "stream",
     "text": [
      "Submitting your answer. Please wait...\n",
      "Congratulations 🎉! Your answer is correct and has been submitted.\n"
     ]
    }
   ],
   "source": [
    "# Submit your circuit\n",
    "\n",
    "from qc_grader.challenges.spring_2023 import grade_ex1b\n",
    "\n",
    "grade_ex1b(qc)"
   ]
  },
  {
   "cell_type": "markdown",
   "id": "accf02df-d743-4550-a165-eb7fa5563b92",
   "metadata": {},
   "source": [
    "## Repetir hasta el éxito"
   ]
  },
  {
   "cell_type": "markdown",
   "id": "5b636a19",
   "metadata": {},
   "source": [
    "A veces, el resultado de un proceso es aleatorio y el resultado que obtienes no es el que deseabas. ¿Qué puedes hacer en este caso? Bueno, ¡puedes intentarlo de nuevo! Siempre que haya alguna probabilidad distinta de cero de tu resultado deseado, se garantiza que repetir el proceso devolverá el resultado que deseabas, eventualmente. A menudo, solo se necesitarán unas pocas repeticiones.\n",
    "\n",
    "En esta sección, usaremos la idea de repetir hasta el éxito para construir una compuerta $R_X(\\theta)$ a partir del conjunto finito de compuertas $\\{H,\\,X,\\,S,\\,\\text{Toffoli} \\}$, donde $\\theta / \\pi$ es un número irracional. Específicamente, tendremos $\\cos\\theta = \\frac35$. Esta construcción es una adaptación de Nielsen y Chuang, _Quantum Computation and Quantum Information_, edición del 10<sup>o</sup> aniversario, ejercicio 4.41, y demuestra la universalidad del conjunto de compuertas finitas dado anteriormente.\n",
    "\n",
    "La forma en que funciona la construcción es que construiremos un circuito que actúa sobre 3 qubits. Uno de los qubits es el qubit de destino y nuestro objetivo es realizar $R_X(\\theta)$ en este qubit de destino. Los otros dos qubits son qubits \"síndrome\" (\"syndrome\") que mediremos y los resultados de la medición nos dirán si nuestra operación fue exitosa o no. Si ambos qubits del síndrome leen 0, sabremos que la compuerta se realizó con éxito. De lo contrario, restableceremos los qubits y volveremos a intentarlo. Necesitaremos circuitos dinámicos para condicionar las repeticiones del circuito a los resultados de la medición."
   ]
  },
  {
   "cell_type": "markdown",
   "id": "319aa2d5",
   "metadata": {},
   "source": [
    "### Ejercicio 2"
   ]
  },
  {
   "cell_type": "markdown",
   "id": "e744fd1b",
   "metadata": {},
   "source": [
    "Your first task of this section will be to create a function that returns that circuit. Here there's an image of how the circuit should look like:\n",
    "Tu primera tarea de esta sección será crear una función que devuelva ese circuito. Aquí hay una imagen de cómo debería verse el circuito:"
   ]
  },
  {
   "cell_type": "markdown",
   "id": "1eaf0de0",
   "metadata": {},
   "source": [
    "<center>\n",
    "<img src=\"resources/circuitRx.png\">\n",
    "</center>"
   ]
  },
  {
   "cell_type": "markdown",
   "id": "a0057b5c",
   "metadata": {},
   "source": [
    "Para facilitarte las cosas, configuraremos el circuito \"base\" para tí con los elementos necesarios. Las funciones que escribiremos en este laboratorio tomarán un circuito como entrada y lo modificarán en su lugar. Siempre que necesitemos un circuito nuevo, simplemente haremos una copia del circuito base."
   ]
  },
  {
   "cell_type": "code",
   "execution_count": 15,
   "id": "a5587d76",
   "metadata": {
    "tags": []
   },
   "outputs": [],
   "source": [
    "controls = QuantumRegister(2, name=\"control\")\n",
    "target = QuantumRegister(1, name=\"target\")\n",
    "\n",
    "mid_measure = ClassicalRegister(2, name=\"mid\")\n",
    "final_measure = ClassicalRegister(1, name=\"final\")\n",
    "\n",
    "base = QuantumCircuit(controls, target, mid_measure, final_measure)"
   ]
  },
  {
   "cell_type": "markdown",
   "id": "976de85c",
   "metadata": {},
   "source": [
    "En la siguiente celda, completa la función `trial` para que construyas el circuito siguiendo los siguientes pasos:\n",
    "\n",
    "1. Aplica una compuerta Hadamard a cada qubit del registro de control, así como al qubit objetivo.\n",
    "2. Aplica la compuerta Toffoli (controlled-controlled-not) entre el registro de control y el qubit objetivo. Esto se puede lograr usando el método `ccx` de QuantumCircuit, o importando y usando `CCXGate` desde `qiskit.circuit.library`.\n",
    "3. Aplica una compuerta $S$ al qubit objetivo.\n",
    "from qiskit.circuit.library import CCXGate6. Mide el registro de control en el registro clásico.from qiskit.circuit.library import CCXGate6. Mide el registro de control en el registro clásico."
   ]
  },
  {
   "cell_type": "code",
   "execution_count": 29,
   "id": "fc47a87d",
   "metadata": {
    "tags": []
   },
   "outputs": [
    {
     "data": {
      "image/png": "[encoded data removed]",
      "text/plain": [
       "<Figure size 787.878x535.111 with 1 Axes>"
      ]
     },
     "execution_count": 29,
     "metadata": {},
     "output_type": "execute_result"
    }
   ],
   "source": [
    "from qiskit.circuit.library import CCXGate\n",
    "\n",
    "def trial(\n",
    "    circuit: QuantumCircuit,\n",
    "    target: QuantumRegister,\n",
    "    controls: QuantumRegister,\n",
    "    measures: ClassicalRegister,\n",
    "):\n",
    "    \"\"\"Probabilistically perform Rx(theta) on the target, where cos(theta) = 3/5.\"\"\"\n",
    "\n",
    "    ####### your code goes here #######\n",
    "    \n",
    "    circuit.h(controls)\n",
    "    circuit.h(target)\n",
    "    \n",
    "    circuit.append(CCXGate(), [controls[0], controls[1], target[0]])\n",
    "    circuit.s(target)\n",
    "    circuit.append(CCXGate(), [controls[0], controls[1], target[0]])\n",
    "   \n",
    "    circuit.h(controls)\n",
    "    circuit.h(target)\n",
    "\n",
    "    circuit.measure(controls, measures)\n",
    "\n",
    "           \n",
    "qc = base.copy_empty_like()\n",
    "trial(qc, target, controls, mid_measure)\n",
    "qc.draw(\"mpl\", cregbundle=False)"
   ]
  },
  {
   "cell_type": "code",
   "execution_count": 30,
   "id": "029c1c44",
   "metadata": {
    "tags": []
   },
   "outputs": [
    {
     "name": "stdout",
     "output_type": "stream",
     "text": [
      "Submitting your answer. Please wait...\n",
      "Congratulations 🎉! Your answer is correct and has been submitted.\n"
     ]
    }
   ],
   "source": [
    "# Submit your circuit\n",
    "from qc_grader.challenges.spring_2023 import grade_ex1c\n",
    "\n",
    "grade_ex1c(qc)"
   ]
  },
  {
   "cell_type": "markdown",
   "id": "72855e8b",
   "metadata": {},
   "source": [
    "### Ejercicio 3"
   ]
  },
  {
   "cell_type": "markdown",
   "id": "e421924e",
   "metadata": {},
   "source": [
    "Tu próxima tarea será verificar las mediciones. Si ambas mediciones de los bits de control devuelven $|{0}\\rangle$, la compuerta aplicada es $R_X(\\theta)$ donde $\\cos(\\theta) = \\frac{3}{5}$. Si alguna de las medidas es $|{1}\\rangle$, entonces la compuerta aplicada es simplemente $X$, lo que indica una falla. Por lo tanto, podemos saber a partir de las mediciones si aplicamos la compuerta correcta, sin alterar la coherencia del qubit objetivo."
   ]
  },
  {
   "cell_type": "markdown",
   "id": "7c1a4ee1",
   "metadata": {},
   "source": [
    "Si hay una falla, debemos restablecer el qubit y comenzar de nuevo. Dado que sabemos lo que se aplica en caso de falla, podemos usar este conocimiento para realizar el restablecimiento de manera eficiente, sin usar un restablecimiento de hardware general. Para los dos qubits auxiliares, esta es solo una compuerta $X$ condicionada a que su respectiva medida sea $1$."
   ]
  },
  {
   "cell_type": "markdown",
   "id": "a40077b6",
   "metadata": {},
   "source": [
    "En la siguiente celda, rellena la función `reset_controls` para que modifique el circuito siguiendo los siguientes pasos:\n",
    "\n",
    "1. Si el primer bit del registro `measures` es igual a 1, aplica una compuerta $X$ al primer qubit de control.\n",
    "2. Si el segundo bit del registro `measures` es igual a 1, aplica una compuerta $X$ al segundo qubit de control."
   ]
  },
  {
   "cell_type": "code",
   "execution_count": 36,
   "id": "73ba4506",
   "metadata": {
    "tags": []
   },
   "outputs": [
    {
     "data": {
      "image/png": "[encoded data removed]",
      "text/plain": [
       "<Figure size 1289.54x535.111 with 1 Axes>"
      ]
     },
     "execution_count": 36,
     "metadata": {},
     "output_type": "execute_result"
    }
   ],
   "source": [
    "def reset_controls(\n",
    "    circuit: QuantumCircuit, controls: QuantumRegister, measures: ClassicalRegister\n",
    "):\n",
    "    \"\"\"Reset the control qubits if they are in |1>.\"\"\"\n",
    "\n",
    "    ####### your code goes here #######\n",
    "    \n",
    "    with circuit.if_test((measures[0], 1)):\n",
    "        circuit.x(controls[0])\n",
    "    with circuit.if_test((measures[1], 1)):\n",
    "        circuit.x(controls[1])\n",
    "    \n",
    "qc = base.copy_empty_like()\n",
    "trial(qc, target, controls, mid_measure)\n",
    "reset_controls(qc, controls, mid_measure)\n",
    "qc.measure(controls, mid_measure)\n",
    "qc.draw(\"mpl\", cregbundle=False)"
   ]
  },
  {
   "cell_type": "code",
   "execution_count": 37,
   "id": "e6443405",
   "metadata": {
    "tags": []
   },
   "outputs": [
    {
     "name": "stdout",
     "output_type": "stream",
     "text": [
      "Submitting your answer. Please wait...\n",
      "Congratulations 🎉! Your answer is correct and has been submitted.\n"
     ]
    }
   ],
   "source": [
    "# Submit your circuit\n",
    "from qc_grader.challenges.spring_2023 import grade_ex1d\n",
    "\n",
    "grade_ex1d(qc)"
   ]
  },
  {
   "cell_type": "markdown",
   "id": "6c2c844e",
   "metadata": {},
   "source": [
    "Ahora todo lo que queda por hacer es repetir la ejecución del circuito si las condiciones no se cumplieron.\n",
    "En el ejercicio final, necesitarás solucionar dos problemas en nuestro soporte actual para circuitos dinámicos.\n",
    "\n",
    "El primer problema es que Qiskit actualmente no admite la realización de operaciones aritméticas o lógicas en bits clásicos. En particular, no admite comprobar que un registro clásico *no* tiene un cierto valor. En nuestra situación, necesitamos repetir la prueba solo si la medición del circuito medio *no* fue la cadena de bits `00`. Para solucionar este problema, crearemos una instrucción if condicionada a que la medición sea igual a `00`, **pasaremos** un bloque vacío y luego usaremos la rama **else** para realizar la lógica que queremos para el caso de que la medición *no* sea `00`.\n",
    "\n",
    "El segundo problema es que nuestro hardware actualmente no admite bucles. Por lo tanto, no podemos ejecutar un verdadero bucle de repetición hasta el éxito. Solucionaremos este problema simplemente repitiendo nuestro circuito de prueba un número fijo de veces."
   ]
  },
  {
   "cell_type": "markdown",
   "id": "1a3c5b4e",
   "metadata": {},
   "source": [
    "### Ejercicio 4\n",
    "\n",
    "En la celda de código a continuación, completa el bloque `else` con la lógica que se debe realizar en caso de que la medición del síndrome indique que necesitamos repetir la prueba:\n",
    "\n",
    "1. Restablece el qubit objetivo al estado cero. Recuerda, ya sabemos que está en el estado 1.\n",
    "2. Vuelve a llamar a la función `trial` en el circuito."
   ]
  },
  {
   "cell_type": "code",
   "execution_count": 39,
   "id": "4be1b959",
   "metadata": {
    "tags": []
   },
   "outputs": [
    {
     "data": {
      "image/png": "[encoded data removed]",
      "text/plain": [
       "<Figure size 1540.38x535.111 with 1 Axes>"
      ]
     },
     "execution_count": 39,
     "metadata": {},
     "output_type": "execute_result"
    }
   ],
   "source": [
    "# Set the maximum number of trials\n",
    "max_trials = 2\n",
    "\n",
    "# Create a clean circuit with the same structure (bits, registers, etc)\n",
    "# as the initial base we set up.\n",
    "circuit = base.copy_empty_like()\n",
    "\n",
    "# The first trial does not need to reset its inputs, since the controls\n",
    "# are guaranteed to start in the |0> state.\n",
    "trial(circuit, target, controls, mid_measure)\n",
    "\n",
    "# Manually add the rest of the trials.  In the future, we will be\n",
    "# able to use a dynamic `while` loop to do this, but for now, we\n",
    "# statically add each loop iteration with a manual condition check\n",
    "# on each one.  This involves more classical synchronizations than\n",
    "# the while loop, but will suffice for now.\n",
    "for _ in range(max_trials - 1):\n",
    "    reset_controls(circuit, controls, mid_measure)\n",
    "    with circuit.if_test((mid_measure, 0b00)) as else_:\n",
    "        # This is the success path, but Qiskit can't directly\n",
    "        # represent a negative condition yet, so we have an\n",
    "        # empty `true` block in order to use the `else` branch.\n",
    "        pass\n",
    "    with else_:\n",
    "        ####### your code goes here #######\n",
    "        circuit.x(target)\n",
    "\n",
    "        trial(circuit, target, controls, mid_measure)\n",
    "\n",
    "# We need to measure the control qubits again to ensure we\n",
    "# get their final results; this is a hardware limitation.\n",
    "circuit.measure(controls, mid_measure)\n",
    "\n",
    "# Finally, let's measure our target, to check that we're\n",
    "# getting the rotation we desired.\n",
    "circuit.measure(target, final_measure)\n",
    "\n",
    "circuit.draw(\"mpl\", cregbundle=False)"
   ]
  },
  {
   "cell_type": "code",
   "execution_count": 40,
   "id": "973b441d",
   "metadata": {
    "tags": []
   },
   "outputs": [
    {
     "name": "stdout",
     "output_type": "stream",
     "text": [
      "Submitting your answer. Please wait...\n",
      "Congratulations 🎉! Your answer is correct and has been submitted.\n"
     ]
    }
   ],
   "source": [
    "# Submit your circuit\n",
    "from qc_grader.challenges.spring_2023 import grade_ex1e\n",
    "\n",
    "grade_ex1e(circuit)"
   ]
  },
  {
   "cell_type": "markdown",
   "id": "0f84bb06",
   "metadata": {},
   "source": [
    "Ejecutemos el circuito en un simulador."
   ]
  },
  {
   "cell_type": "code",
   "execution_count": 41,
   "id": "f576413c",
   "metadata": {
    "tags": []
   },
   "outputs": [
    {
     "data": {
      "image/png": "[encoded data removed]",
      "text/plain": [
       "<Figure size 700x500 with 1 Axes>"
      ]
     },
     "execution_count": 41,
     "metadata": {},
     "output_type": "execute_result"
    }
   ],
   "source": [
    "sim = AerSimulator()\n",
    "job = sim.run(circuit, shots=1000)\n",
    "result = job.result()\n",
    "counts = result.get_counts()\n",
    "\n",
    "plot_histogram(counts)"
   ]
  },
  {
   "cell_type": "markdown",
   "id": "1971f98e",
   "metadata": {},
   "source": [
    "Un resultado exitoso es aquel en el que las mediciones en los dos controles terminan en el estado `00`. Si tienes problemas, te alentamos a que publiques tus resultados en el Canal de Discord y trates de comprender, en colaboración con otros participantes, qué significan tus resultados y por qué los estás obteniendo."
   ]
  },
  {
   "cell_type": "markdown",
   "id": "17cb07ef",
   "metadata": {},
   "source": [
    "## Ejecutar en hardware\n",
    "\n",
    "¡Intentemos ejecutar el circuito que hicimos en hardware real! Para esto, usaremos el dispositivo Peekskill de 27 qubits, que ha sido ajustado específicamente para circuitos dinámicos. Pero recuerda, la ejecución en hardware real lleva tiempo y, a veces, tiene errores. **No** ejecutes estas celdas una y otra vez, ya que eso generará un retraso para todos los demás participantes del Desafío."
   ]
  },
  {
   "cell_type": "code",
   "execution_count": 42,
   "id": "f917e10b",
   "metadata": {
    "tags": []
   },
   "outputs": [],
   "source": [
    "from qiskit_ibm_provider import IBMProvider\n",
    "\n",
    "provider = IBMProvider()"
   ]
  },
  {
   "cell_type": "code",
   "execution_count": 45,
   "id": "691dd8d8",
   "metadata": {
    "tags": []
   },
   "outputs": [],
   "source": [
    "hub=\"qc-spring-23-2\"\n",
    "group=\"group-1\"\n",
    "project=\"recadoVo68Ok7S9J0\"\n",
    "\n",
    "backend_name = \"ibm_peekskill\"\n",
    "backend = provider.get_backend(backend_name, instance=f\"{hub}/{group}/{project}\")"
   ]
  },
  {
   "cell_type": "code",
   "execution_count": 46,
   "id": "57735462",
   "metadata": {
    "tags": []
   },
   "outputs": [],
   "source": [
    "from qiskit import transpile\n",
    "\n",
    "qc_transpiled = transpile(circuit, backend)\n",
    "job = backend.run(qc_transpiled, shots=1000, dynamic=True)"
   ]
  },
  {
   "cell_type": "code",
   "execution_count": null,
   "id": "24d581e2-b5f9-4fc9-b200-5c61ec878072",
   "metadata": {
    "tags": []
   },
   "outputs": [],
   "source": [
    "\n",
    "counts = job.result().get_counts()\n",
    "\n",
    "plot_histogram(counts)"
   ]
  },
  {
   "cell_type": "markdown",
   "id": "6acb6b58",
   "metadata": {},
   "source": [
    "## ¡Felicidades!\n",
    "\n",
    "¡Llegaste al final del primer laboratorio! Ahora que sabes más sobre circuitos dinámicos, es hora de pasar al siguiente laboratorio y comenzar a aprender sobre algunas aplicaciones y propiedades más avanzadas. ¡Buena suerte!"
   ]
  }
 ],
 "metadata": {
  "kernelspec": {
   "display_name": "Python 3 (ipykernel)",
   "language": "python",
   "name": "python3"
  },
  "language_info": {
   "codemirror_mode": {
    "name": "ipython",
    "version": 3
   },
   "file_extension": ".py",
   "mimetype": "text/x-python",
   "name": "python",
   "nbconvert_exporter": "python",
   "pygments_lexer": "ipython3",
   "version": "3.10.8"
  },
  "widgets": {
   "application/vnd.jupyter.widget-state+json": {
    "state": {},
    "version_major": 2,
    "version_minor": 0
   }
  }
 },
 "nbformat": 4,
 "nbformat_minor": 5
}
