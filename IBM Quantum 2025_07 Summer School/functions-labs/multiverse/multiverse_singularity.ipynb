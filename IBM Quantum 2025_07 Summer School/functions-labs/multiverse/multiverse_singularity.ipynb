{
 "cells": [
  {
   "cell_type": "markdown",
   "id": "d76b4b60-19a6-486a-af14-db875411b6db",
   "metadata": {},
   "source": [
    "# Lab 1: 'Singularity Machine Learning - Classification' by Multiverse Computing\n",
    "\n",
    "Welcome to this hands-on lab exploring the power of the 'Singularity Machine Learning - Classification' function. In this session, you'll walk through a real-world machine learning task—grid stability classification—leveraging both classical and quantum-enhanced techniques. You'll gain experience using a hybrid workflow that seamlessly integrates scikit-learn preprocessing with quantum ensemble classifiers hosted on IBM's serverless infrastructure. Whether running simulations or real quantum hardware, this lab gives you a practical glimpse into how scalable quantum machine learning can accelerate real-world applications. Beyond just building models, the goal of this notebook is to familiarize you with the capabilities of the QuantumEnhancedEnsembleClassifier and help you develop intuition around its features and advantages. You'll begin by establishing a classical benchmark using AdaBoost, then proceed through three exercises that demonstrate key functionalities: running the quantum classifier with a simulated quantum backend, simulating a heterogeneous ensemble with diverse learners, and finally executing the classifier on real quantum hardware. Each step is designed to build your confidence with the tool and deepen your understanding of where and how quantum optimization can offer meaningful benefits. Let’s dive in!"
   ]
  },
  {
   "cell_type": "markdown",
   "id": "558ef023-4465-4b0e-b1b7-dd185e6aff9b",
   "metadata": {},
   "source": [
    "# Table of Contents\n",
    "\n",
    "* [Setup](#setup)\n",
    "* [Imports](#imports)\n",
    "* [Initialize the 'Singularity Machine Learning - Classification' Function](#initialize-the-singularity-machine-learning---classification-function)\n",
    "    * [Set Static Variables and IBM Token](#set-static-variables-and-ibm-token)\n",
    "    * [Load the 'Singularity Machine Learning - Classification' Function and Client](#load-the-singularity-machine-learning---classification-function-and-client)\n",
    "* [Define Helper Functions](#define-helper-functions)\n",
    "* [Load the Dataset](#load-the-dataset)\n",
    "* [AdaBoostClassifier](#adaboostclassifier)\n",
    "* [QuantumEnhancedEnsembleClassifier](#quantumenhancedensembleclassifier)\n",
    "    * [Introduction](#introduction)\n",
    "  * [Understanding the Optimization Parameters](#understanding-the-optimization-parameters)\n",
    "* [Part 1: Simulated Quantum Classifier](#part-1-simulated-quantum-classifier)\n",
    "    * [Execute the Job](#execute-the-job)\n",
    "    * [Monitor Job Execution](#monitor-job-execution)\n",
    "    * [Retrieve and Analyze the Results](#retrieve-and-analyze-the-results)\n",
    "* [Part 2: Simulated Heterogenous Quantum Classifier](#part-2-simulated-heterogenous-quantum-classifier)\n",
    "    * [Execute the Job](#execute-the-job)\n",
    "    * [Monitor Job Execution](#monitor-job-execution)\n",
    "    * [Retrieve and Analyze the Results](#retrieve-and-analyze-the-results)\n",
    "* [Part 3: Quantum Classifier on Real Quantum Hardware](#part-3-quantum-classifier-on-real-quantum-hardware)\n",
    "    * [Execute the Job](#execute-the-job)\n",
    "    * [Monitor Job Execution](#monitor-job-execution)\n",
    "    * [Retrieve and Analyze the Results](#retrieve-and-analyze-the-results)\n",
    "    * [Visualization: Classical vs Quantum F1 Score](#visualization-classical-vs-quantum-f1-score)\n",
    "* [Clean up Shared Directory](#clean-up-shared-directory)\n",
    "* [Scaling Benefits and Enhancements](#scaling-benefits-and-enhancements)\n",
    "* [References](#references)\n",
    "* [Additional information](#additional-information)\n",
    "* [Qiskit packages versions](#qiskit-packages-versions)\n"
   ]
  },
  {
   "cell_type": "markdown",
   "id": "8384bcd7-8360-45e7-a237-25c2e643c962",
   "metadata": {},
   "source": [
    "# Setup"
   ]
  },
  {
   "cell_type": "code",
   "execution_count": null,
   "id": "e4bbb589-d6aa-4131-85b3-fc9b9147bac1",
   "metadata": {
    "scrolled": true
   },
   "outputs": [],
   "source": [
    "# Install dependencies\n",
    "%pip install \"qiskit[visualization]~=2.1.0\" \"qiskit-serverless~=0.24.0\" \"qiskit-ibm-catalog~=0.8.0\" \"scikit-learn==1.5.2\" \"pandas>=2.0.0,<3.0.0\" \"imbalanced-learn~=0.12.3\" "
   ]
  },
  {
   "cell_type": "code",
   "execution_count": null,
   "id": "7be03466-6b0e-4f79-9998-47923c7133af",
   "metadata": {},
   "outputs": [],
   "source": [
    "# Imports\n",
    "\n",
    "import sys\n",
    "import os\n",
    "import tarfile\n",
    "import time\n",
    "import numpy as np\n",
    "import pandas as pd\n",
    "import matplotlib.pyplot as plt\n",
    "from qiskit_serverless import IBMServerlessClient, QiskitFunction\n",
    "from typing import Tuple\n",
    "from sklearn.model_selection import train_test_split\n",
    "from imblearn.over_sampling import RandomOverSampler\n",
    "from sklearn.metrics import accuracy_score, f1_score, precision_score, recall_score\n",
    "from sklearn.ensemble import AdaBoostClassifier\n",
    "from grader import grade_exercise_1, grade_exercise_2, grade_exercise_3"
   ]
  },
  {
   "cell_type": "markdown",
   "id": "d888e7b0",
   "metadata": {},
   "source": [
    "<div class=\"alert alert-block alert-warning\">\n",
    "\n",
    "**Exclusive Access to Qiskit Functions**\n",
    "\n",
    "As part of Qiskit Global Summer School (QGSS), participants with a Premium or Flex Plan have limited-time trial access to Qiskit Functions. Access is exclusive and subject to your organization’s administrator approval. Complete [this form](https://airtable.com/appj8IrSNZGz4l4BB/pag8WgWdUr5uSJGZA/form) to request access.\n",
    "\n",
    "If you encounter the error `QiskitServerlessException: Credentials couldn't be verified`. in the cell below, it means your access to Qiskit Functions is not yet active. Please check back later after your request has been processed.\n",
    "\n",
    "**Note: Running this lab will consume QPU time from your organization’s account. Estimated QPU usage is provided before each cell that executes on a QPU. Please monitor your usage and consult your organization admin if you’re unsure about your allocated QPU time for QGSS Functions labs.**\n",
    "\n",
    "</div>"
   ]
  },
  {
   "cell_type": "markdown",
   "id": "0ced1098",
   "metadata": {},
   "source": [
    "# Initialize the 'Singularity Machine Learning - Classification' Function\n",
    "\n",
    "We will start by initializing the IBM Qiskit Serverless client and retrieve the function from the Multiverse Computing workspace. Qiskit Serverless offers a flexible and scalable way to run Qiskit programs without worrying about the underlying infrastructure. It allows you to offload complex quantum-classical workflows to the cloud, automatically managing resources across CPUs, GPUs, and QPUs. This makes it easier to focus on your algorithm logic while benefiting from remote, managed execution on the IBM Quantum Platform.\n",
    "\n",
    "By loading the 'Singularity Machine Learning - Classification' function, we gain access to a powerful quantum-enhanced classifier that can be used for hybrid workflows. This function encapsulates both classical and quantum components, allowing us to train, optimize, and predict with ensemble methods enhanced by quantum processing. For full details, please refer to our documentation: <https://docs.quantum.ibm.com/guides/multiverse-computing-singularity>.\n",
    "\n",
    "Let’s get started by connecting to the serverless environment and loading the function."
   ]
  },
  {
   "cell_type": "code",
   "execution_count": null,
   "id": "5afcc794",
   "metadata": {},
   "outputs": [],
   "source": [
    "print(\"Using IBM Qiskit Serverless...\\n\")\n",
    "\n",
    "# Load the IBM Serverless Client\n",
    "your_api_key = \"deleteThisAndPasteYourAPIKeyHere\"\n",
    "your_crn = \"deleteThisAndPasteYourCRNHere\"\n",
    "\n",
    "client = IBMServerlessClient(\n",
    "    channel=\"ibm_quantum_platform\",\n",
    "    token=your_api_key,\n",
    "    instance=your_crn,\n",
    ")\n",
    "# You should see a list of Qiskit Functions available to you\n",
    "# If you encounter the error `QiskitServerlessException: Credentials couldn't be verified`,\n",
    "# it means your access is not yet active\n",
    "client.list()"
   ]
  },
  {
   "cell_type": "code",
   "execution_count": null,
   "id": "bc3b277f",
   "metadata": {},
   "outputs": [],
   "source": [
    "# Load the Multiverse Singularity function\n",
    "\n",
    "singularity = client.get(\"multiverse/singularity\")"
   ]
  },
  {
   "cell_type": "code",
   "execution_count": null,
   "id": "0ca209ef-508d-4917-a4a7-e2c187817aab",
   "metadata": {},
   "outputs": [],
   "source": [
    "# Define static variables\n",
    "\n",
    "RANDOM_STATE: int = 123\n",
    "TRAIN_PATH = \"data/grid_stability/train.csv\"\n",
    "TEST_PATH = \"data/grid_stability/test.csv\""
   ]
  },
  {
   "cell_type": "markdown",
   "id": "ddbb1cc7-ff26-45e3-9da3-d14c9e04334e",
   "metadata": {},
   "source": [
    "# Define Helper Functions\n",
    "\n",
    "To streamline the workflow, we define a set of helper functions used for data handling and evaluation throughout this lab. These functions enable a smooth interface between local data processing and remote execution with Qiskit Serverless."
   ]
  },
  {
   "cell_type": "code",
   "execution_count": null,
   "id": "1d0eb03d-d530-4da2-9314-f4305daded2e",
   "metadata": {},
   "outputs": [],
   "source": [
    "def load_data(data_path: str) -> Tuple[np.ndarray, np.ndarray]:\n",
    "    \"\"\"Load data from the given path to X and y arrays.\"\"\"\n",
    "    df: pd.DataFrame = pd.read_csv(data_path)\n",
    "    return df.iloc[:, :-1].values, df.iloc[:, -1].values\n",
    "\n",
    "\n",
    "def make_tarfile(file_path, tar_file_name):\n",
    "    \"\"\"Create a tar file from the given file.\"\"\"\n",
    "    with tarfile.open(tar_file_name, \"w\") as tar:\n",
    "        tar.add(file_path, arcname=os.path.basename(file_path))\n",
    "\n",
    "\n",
    "def upload_data(name: str, data: np.ndarray, client: IBMServerlessClient, function: QiskitFunction):\n",
    "    \"\"\"Save the data to a file, create a tar file, upload it, and remove the files.\"\"\"\n",
    "    np.save(name, data)\n",
    "    make_tarfile(name, f\"{name}.tar\")\n",
    "    client.file_upload(f\"{name}.tar\", function)\n",
    "\n",
    "    \n",
    "def evaluate_predictions(predictions, y_true, start_time=None, end_time=None):\n",
    "    accuracy = accuracy_score(y_true, predictions)\n",
    "    precision = precision_score(y_true, predictions)\n",
    "    recall = recall_score(y_true, predictions)\n",
    "    f1 = f1_score(y_true, predictions)\n",
    "    if start_time is not None and end_time is not None:\n",
    "        print(\"Time taken (s):\", end_time - start_time)\n",
    "    print(\"Accuracy:\", accuracy)\n",
    "    print(\"Precision:\", precision)\n",
    "    print(\"Recall:\", recall)\n",
    "    print(\"F1:\", f1)\n",
    "    return accuracy, precision, recall, f1"
   ]
  },
  {
   "cell_type": "markdown",
   "id": "11248574-3d1d-42c7-8cc2-df567361a3dd",
   "metadata": {},
   "source": [
    "# Load the Dataset \n",
    "\n",
    "Next, we load and preprocess the dataset used for training and evaluating our quantum-enhanced classifier. The dataset consists of labeled samples for a grid stability classification task, where the goal is to predict system stability based on sensor inputs.\n",
    "\n",
    "We begin by reading the training and test data from CSV files and then split the training set further to create a validation set. To address class imbalance—a common issue in real-world datasets—we apply random over-sampling to augment the minority class, ensuring that the classifier is not biased toward the dominant label.\n",
    "\n",
    "Once prepared, the datasets are serialized as NumPy arrays and uploaded to the Qiskit Serverless environment. This allows the remote 'Singularity Machine Learning - Classification' function to access and operate on the data during distributed execution."
   ]
  },
  {
   "cell_type": "code",
   "execution_count": null,
   "id": "b65a37e9-85cd-444a-bffe-b0e5fe885aaf",
   "metadata": {
    "scrolled": true
   },
   "outputs": [],
   "source": [
    "# Load and upload the data\n",
    "X_train, y_train = load_data(TRAIN_PATH)\n",
    "X_test, y_test = load_data(TEST_PATH)\n",
    "X_train, X_val, y_train, y_val = train_test_split(\n",
    "    X_train, y_train, test_size=0.2, random_state=RANDOM_STATE\n",
    ")\n",
    "# Balance the dataset through over-sampling of the positive class\n",
    "ros = RandomOverSampler(random_state=RANDOM_STATE)\n",
    "X_train, y_train = ros.fit_resample(X_train, y_train)"
   ]
  },
  {
   "cell_type": "code",
   "execution_count": null,
   "id": "2b4a1baf-ced0-4934-8d13-91c665525ec0",
   "metadata": {},
   "outputs": [],
   "source": [
    "print(\"-- Uploading data --\")\n",
    "upload_data(\"grid_stability_X_train.npy\", X_train, client, singularity)\n",
    "upload_data(\"grid_stability_y_train.npy\", y_train, client, singularity)\n",
    "upload_data(\"grid_stability_X_test.npy\", X_test, client, singularity)\n",
    "print(\"Data uploaded!\\n\")"
   ]
  },
  {
   "cell_type": "markdown",
   "id": "b4d2d1a1-0943-486e-9b14-997d66b58666",
   "metadata": {},
   "source": [
    "# AdaBoostClassifier\n",
    "\n",
    "Now that the data is ready, let's begin by using the AdaBoostClassifier, a well-established ensemble method in classical machine learning. AdaBoost works by combining multiple weak learners into a single strong classifier, iteratively improving performance by focusing more on difficult-to-classify samples.\n",
    "\n",
    "In this lab, we train the AdaBoost model using the balanced training set and evaluate it on the test set. This provides a strong baseline for comparison with the quantum-enhanced classifier we'll use later. The number of estimators is set to 75 to allow the ensemble to generalize well without overfitting.\n",
    "\n",
    "After training, we generate predictions on the test set and compute key performance metrics—accuracy, precision, recall, and F1-score—to assess how well the model performs on this grid stability classification task."
   ]
  },
  {
   "cell_type": "code",
   "execution_count": null,
   "id": "1678bce5-e4e4-4836-b8f1-37f332ce5157",
   "metadata": {},
   "outputs": [],
   "source": [
    "classifier = AdaBoostClassifier(n_estimators=75, random_state=RANDOM_STATE)\n",
    "classifier.fit(X_train, y_train)\n",
    "predictions = classifier.predict(X_test)"
   ]
  },
  {
   "cell_type": "code",
   "execution_count": null,
   "id": "89cef1ac-af1c-4b7a-b313-0077afd5603a",
   "metadata": {},
   "outputs": [],
   "source": [
    "evaluate_predictions(predictions, y_test)"
   ]
  },
  {
   "cell_type": "markdown",
   "id": "70ff8fc5-90ec-42a2-91fa-71f0d507ec1d",
   "metadata": {},
   "source": [
    "# QuantumEnhancedEnsembleClassifier\n",
    "\n",
    "### Introduction\n",
    "\n",
    "The `QuantumEnhancedEnsembleClassifier` is a hybrid machine learning model from Multiverse Computing's 'Singularity Machine Learning - Classification' Function, combining classical ensemble methods—like boosting and bagging—with quantum optimization algorithms such as QAOA. Unlike classical ensembles, which become increasingly expensive to train as the number of learners grows, this quantum classifier demonstrates favorable scalability properties: training time remains comparatively stable as the number of learners (and thus qubits) increases. This makes it especially well-suited for problems that require large ensembles—where classical models tend to struggle with optimization costs that scale exponentially. Additionally, unlike traditional quantum models such as QSVMs, which are often constrained by dataset size, this classifier is designed to operate independently of the number of data points and features—limited primarily by available hardware infrastructure—making it well-suited for processing large-scale, high-dimensional datasets. As quantum hardware scales, so too will the accuracy and performance of this model—offering a compelling trajectory for future real-world quantum advantage. In this notebook, we demonstrate its use in both classical simulation and real quantum execution, showcasing its potential and flexibility.\n",
    "\n",
    "![Diagram](diagram.png)\n",
    "\n",
    "---\n",
    "\n",
    "## Understanding the Optimization Parameters\n",
    "\n",
    "To effectively use the `QuantumEnhancedEnsembleClassifier`, it's important to understand the role of several key parameters that influence model training and optimization. Please refer to the [documentation](https://docs.quantum.ibm.com/guides/multiverse-computing-singularity) for details on the usage and parameters for this function. \n",
    "\n",
    "Some of the key parameters, also used in this lab, are explained below:\n",
    "\n",
    "- **`regularization`**  \n",
    "  This parameter controls the complexity of the final ensemble. A higher value penalizes large or complex learner combinations, promoting simpler models and reducing the risk of overfitting. \n",
    "\n",
    "- **`num_solutions`**  \n",
    "  Defines the number of candidate ensemble configurations that the optimizer evaluates. Higher values lead to more exhaustive searches and can uncover better-performing ensembles, but at the cost of increased runtime. For demonstration, values around `100,000` balance exploration and performance.\n",
    "\n",
    "- **`simulator`**  \n",
    "  Setting this to `True` enables classical optimization—faster and well-suited for quick experimentation but does not benefit from the scalability advantages of quantum computation. Setting it to `False` activates quantum optimization via QAOA, ideal for larger ensembles.\n",
    "\n",
    "- **`classical_optimizer_options`**  \n",
    "  These options define the behavior of the underlying classical optimizer used in QAOA. For instance, `{\"maxiter\": 10}` limits the number of optimization iterations—useful for short demos, but convergence usually improves with `60+` iterations in real applications.\n",
    "\n",
    "These parameters give you flexibility to balance speed, accuracy, and compute resource use. In the following sections, you'll experiment with both classical and quantum setups to see these trade-offs in action.\n"
   ]
  },
  {
   "cell_type": "markdown",
   "id": "2f72e8b3-9e7a-41ab-a6b0-de00c0547697",
   "metadata": {},
   "source": [
    "# Part 1: Simulated Quantum Classifier\n",
    "\n",
    "### Execute the Job\n",
    "\n",
    "Now let’s begin experimenting with the `QuantumEnhancedEnsembleClassifier` provided by the Singularity Qiskit Function. This classifier integrates classical ensemble learning with quantum-inspired optimization to intelligently combine multiple learners.\n",
    "\n",
    "In this exercise, we configure the model to use classical optimization using our simulator. This allows you to test the optimization logic without invoking real quantum hardware. For demonstration purposes, we set `num_learners` to `15`, which controls how many weak learners the ensemble will combine. Note that the simulator mode is not designed for scalability—larger values of `num_learners` may significantly increase runtime or hit performance limits.\n",
    "\n",
    "This setup provides a quick, low-cost way to validate the workflow and gain insights into the expected performance before scaling up with quantum optimization.\n"
   ]
  },
  {
   "cell_type": "markdown",
   "id": "626fb97a-a5e1-4c30-b313-8ba9914107f0",
   "metadata": {},
   "source": [
    "<div class=\"alert alert-block alert-success\">\n",
    "  <strong>Exercise 1:</strong>  \n",
    "  Fill in the <code>#TODO</code> sections to enable the simulator for classical optimization.\n",
    "</div>"
   ]
  },
  {
   "cell_type": "markdown",
   "id": "c95c95ba-8d72-4353-be44-cf1211d14e88",
   "metadata": {},
   "source": [
    "<div class=\"alert alert-block alert-info\">\n",
    "  <strong>💡 Tip:</strong> Refer to the documentation \n",
    "  <a href=\"https://docs.quantum.ibm.com/guides/multiverse-computing-singularity\" target=\"_blank\">here</a> on how to enable the simulator.\n",
    "</div>"
   ]
  },
  {
   "cell_type": "markdown",
   "id": "f381f005",
   "metadata": {},
   "source": [
    "<div class=\"alert alert-block alert-warning\">\n",
    "  <strong>⚠️ Warning:</strong> Use a simulator for this exercise to avoid consuming QPU time.\n",
    "</div>"
   ]
  },
  {
   "cell_type": "code",
   "execution_count": null,
   "id": "f75ad675-1458-4a45-b285-8b9b699a09fa",
   "metadata": {},
   "outputs": [],
   "source": [
    "optimizer_options_ex1 = {\n",
    "    ### TODO: Write your code below here ###\n",
    "    \n",
    "    ### Don't change any code past this line ###\n",
    "    \"num_solutions\": 100000,\n",
    "}"
   ]
  },
  {
   "cell_type": "code",
   "execution_count": null,
   "id": "0d538220-5bd5-4660-8a0b-2defe2b03e52",
   "metadata": {},
   "outputs": [],
   "source": [
    "grade_exercise_1(optimizer_options_ex1)"
   ]
  },
  {
   "cell_type": "code",
   "execution_count": null,
   "id": "b56a4247-8ab0-49b6-aca1-d32816dd6040",
   "metadata": {},
   "outputs": [],
   "source": [
    "# Create, fit, and predict\n",
    "print(\"-- Creating, fitting, and predicting --\")\n",
    "start = time.time()\n",
    "job = singularity.run(\n",
    "    action=\"create_fit_predict\",\n",
    "    name=\"classifier_for_grid_stability\",\n",
    "    quantum_classifier=\"QuantumEnhancedEnsembleClassifier\",\n",
    "    num_learners=15, \n",
    "    regularization=15,\n",
    "    optimizer_options=optimizer_options_ex1,\n",
    "    backend_name= None, \n",
    "    instance=your_crn,\n",
    "    random_state=RANDOM_STATE,\n",
    "    X_train=\"grid_stability_X_train.npy\",\n",
    "    y_train=\"grid_stability_y_train.npy\",\n",
    "    X_test=\"grid_stability_X_test.npy\",\n",
    "    fit_params={\n",
    "        \"validation_data\": (X_val, y_val),\n",
    "    },\n",
    "    options={\n",
    "        \"save\": False,\n",
    "    }\n",
    ")"
   ]
  },
  {
   "cell_type": "markdown",
   "id": "bc7455a7-d994-461e-8d39-b8925f88d3b6",
   "metadata": {},
   "source": [
    "### Monitor Job Execution\n",
    "\n",
    "Now that the job has been submitted, we can print `job` to save the JobID, and monitor the status of the execution using `job.status()`. The cell can be re-ran again to ping for the latest status. If the job fails, we can obtain information about the reason it did so using `job.error_message()`. \n",
    "\n"
   ]
  },
  {
   "cell_type": "code",
   "execution_count": null,
   "id": "7c4d238e-8aeb-47af-97cc-70589bd6bbf1",
   "metadata": {},
   "outputs": [],
   "source": [
    "job"
   ]
  },
  {
   "cell_type": "code",
   "execution_count": null,
   "id": "efcb8447-9fbc-4e0a-a08b-8e668f1008f4",
   "metadata": {},
   "outputs": [],
   "source": [
    "job.status()"
   ]
  },
  {
   "cell_type": "code",
   "execution_count": null,
   "id": "9aa6e435-8447-4ac5-8c83-17f7a99ca113",
   "metadata": {},
   "outputs": [],
   "source": [
    "error_message = job.error_message()\n",
    "print(error_message)"
   ]
  },
  {
   "cell_type": "markdown",
   "id": "8c871230-39c9-4f0a-934b-b5f849e42cc1",
   "metadata": {},
   "source": [
    "### Retrieve and Analyze the Results\n",
    "\n",
    "Once the job has been submitted and completed, we can retrieve the results using `job.result()`. We can then evaluate the results using our previously defined helper function and ensure it matches our expectation."
   ]
  },
  {
   "cell_type": "code",
   "execution_count": null,
   "id": "1fa3df38-30f5-4c8d-b96c-0278e56b5e13",
   "metadata": {
    "scrolled": true
   },
   "outputs": [],
   "source": [
    "# Get the job status, logs, and result\n",
    "result = job.result()\n",
    "status = job.status()\n",
    "error_message = job.error_message()\n",
    "end = time.time()\n",
    "\n",
    "print(\"Job status: \", status)\n",
    "print(\"Error message: \", error_message)\n",
    "print(\"Action status: \", result[\"status\"])\n",
    "print(\"Action message: \", result[\"message\"])\n",
    "print(\"Action result: \", result[\"data\"])"
   ]
  },
  {
   "cell_type": "code",
   "execution_count": null,
   "id": "5971254a-a095-47c6-a670-924fca44e776",
   "metadata": {},
   "outputs": [],
   "source": [
    "predictions = result[\"data\"][\"predictions\"]\n",
    "evaluate_predictions(predictions, y_test, start, end)"
   ]
  },
  {
   "cell_type": "markdown",
   "id": "3bbd8fc4-e538-40a0-8f9f-0aa0ce58ce49",
   "metadata": {},
   "source": [
    "# Part 2: Simulated Heterogenous Quantum Classifier\n",
    "\n",
    "### Execute the Job\n",
    "\n",
    "In this section, we simulate a heterogeneous quantum ensemble using classical resources. Unlike the standard simulated classifier, the heterogeneous variant allows us to define a mix of different learner types within the ensemble—such as decision trees, k-nearest neighbors, or logistic regression—each contributing a unique inductive bias. This strategy can enhance model diversity and improve generalization, particularly on complex datasets with varied feature relationships."
   ]
  },
  {
   "cell_type": "markdown",
   "id": "ec7a62df-c085-4901-9355-c3a4349de517",
   "metadata": {},
   "source": [
    "<div class=\"alert alert-block alert-success\">\n",
    "  <strong>Exercise 2:</strong>  \n",
    "  Fill in the <code>#TODO</code> sections to create a job that uses two unique learners, with an equal proportion distributed between them. \n",
    "</div>"
   ]
  },
  {
   "cell_type": "markdown",
   "id": "6ae17dcc-02cd-4196-8a44-b15846665d14",
   "metadata": {},
   "source": [
    "<div class=\"alert alert-block alert-info\">\n",
    "  <strong>💡 Tip:</strong> Refer to the documentation \n",
    "  <a href=\"https://docs.quantum.ibm.com/guides/multiverse-computing-singularity\" target=\"_blank\">here</a> on how to specify different learners. Observe how this influenced the results. Once you have passed the exercise grader, feel free to experiment with different learners to learn how this impacts the performance.\n",
    "</div>"
   ]
  },
  {
   "cell_type": "code",
   "execution_count": null,
   "id": "aeff5ae8-0335-4f62-b2aa-badc898d8938",
   "metadata": {},
   "outputs": [],
   "source": [
    "### TODO: Write your code below here ###\n",
    "learners_types_solution =\n",
    "learners_proportions_solution =\n",
    "### Don't change any code past this line ###"
   ]
  },
  {
   "cell_type": "code",
   "execution_count": null,
   "id": "1177332b-a65c-4c98-af2a-f8757033bed8",
   "metadata": {},
   "outputs": [],
   "source": [
    "grade_exercise_2(learners_types_solution, learners_proportions_solution)"
   ]
  },
  {
   "cell_type": "markdown",
   "id": "f043351c",
   "metadata": {},
   "source": [
    "<div class=\"alert alert-block alert-warning\">\n",
    "  <strong>⚠️ Warning:</strong> Note that for this exercise, we again use a simulator to avoid consuming QPU time.\n",
    "</div>"
   ]
  },
  {
   "cell_type": "code",
   "execution_count": null,
   "id": "78685382-aaa2-4e54-a1c5-7ecaae8bca9a",
   "metadata": {},
   "outputs": [],
   "source": [
    "# Create, fit, and predict\n",
    "print(\"-- Creating, fitting, and predicting --\")\n",
    "start = time.time()\n",
    "job = singularity.run(\n",
    "    action=\"create_fit_predict\",\n",
    "    name=\"classifier_for_grid_stability\",\n",
    "    quantum_classifier=\"QuantumEnhancedEnsembleClassifier\",\n",
    "    num_learners=15, \n",
    "    regularization=15,\n",
    "    learners_types=learners_types_solution,\n",
    "    learners_proportions=learners_proportions_solution,\n",
    "    optimizer_options={\n",
    "        \"num_solutions\": 100000,\n",
    "        \"simulator\": True, \n",
    "    },\n",
    "    backend_name= None, \n",
    "    instance=your_crn,\n",
    "    random_state=RANDOM_STATE,\n",
    "    X_train=\"grid_stability_X_train.npy\",\n",
    "    y_train=\"grid_stability_y_train.npy\",\n",
    "    X_test=\"grid_stability_X_test.npy\",\n",
    "    fit_params={\n",
    "        \"validation_data\": (X_val, y_val),\n",
    "    },\n",
    "    options={\n",
    "        \"save\": False,\n",
    "    }\n",
    ")"
   ]
  },
  {
   "cell_type": "markdown",
   "id": "5163dd55-b248-4a18-a7ed-14d74d6ca717",
   "metadata": {},
   "source": [
    "### Monitor Job Execution\n",
    "\n",
    "Now that the job has been submitted, we can print `job` to save the JobID, and monitor the status of the execution using `job.status()`. The cell can be re-ran again to ping for the latest status. If the job fails, we can obtain information about the reason it did so using `job.error_message()`. "
   ]
  },
  {
   "cell_type": "code",
   "execution_count": null,
   "id": "f3e2de58-f4bf-4c19-bff9-0ecf329207f4",
   "metadata": {},
   "outputs": [],
   "source": [
    "job"
   ]
  },
  {
   "cell_type": "code",
   "execution_count": null,
   "id": "ccf9c752-bd6e-4b52-8fbf-738c46e90d48",
   "metadata": {},
   "outputs": [],
   "source": [
    "job.status()"
   ]
  },
  {
   "cell_type": "code",
   "execution_count": null,
   "id": "2c48ebb4-ea21-400c-a0cd-cb623311689a",
   "metadata": {},
   "outputs": [],
   "source": [
    "error_message = job.error_message()\n",
    "print(error_message)"
   ]
  },
  {
   "cell_type": "markdown",
   "id": "93d57f45-b6bc-4b0a-bb65-7938729c068a",
   "metadata": {},
   "source": [
    "### Retrieve and Analyze the Results\n",
    "\n",
    "Once the job has been submitted and completed, we can retrieve the results using `job.result()`. We can then evaluate the results using our previously defined helper function and ensure it matches our expectation."
   ]
  },
  {
   "cell_type": "code",
   "execution_count": null,
   "id": "5c36bb11-99fa-42ef-9b5c-848807d2df5d",
   "metadata": {},
   "outputs": [],
   "source": [
    "# Get the job status, error affecting the job (if any), and result\n",
    "result = job.result()\n",
    "status = job.status()\n",
    "error_message = job.error_message()\n",
    "end = time.time()\n",
    "\n",
    "print(\"Job status: \", status)\n",
    "print(\"Error message: \", error_message)\n",
    "print(\"Action status: \", result[\"status\"])\n",
    "print(\"Action message: \", result[\"message\"])\n",
    "print(\"Action result: \", result[\"data\"])"
   ]
  },
  {
   "cell_type": "code",
   "execution_count": null,
   "id": "fa057161-7912-4159-8465-f654f1a57925",
   "metadata": {},
   "outputs": [],
   "source": [
    "predictions = result[\"data\"][\"predictions\"]\n",
    "evaluate_predictions(predictions, y_test, start, end)"
   ]
  },
  {
   "cell_type": "markdown",
   "id": "4ce0ffe5-5a6e-4122-95e1-2e8da7711671",
   "metadata": {},
   "source": [
    "# Part 3: Quantum Classifier on Real Quantum Hardware\n",
    "\n",
    "### Execute the Job\n",
    "\n",
    "Next, let's use real quantum hardware to perform the evaluation. This approach offers multiple advantages, the most significant being better scalability as the number of learners increases. Unlike the simulator mode, which uses classical resources, real quantum optimization can efficiently handle larger ensembles and more complex search spaces.\n",
    "\n",
    "To enable quantum optimization, set the `simulator` flag to `False` in the `optimizer_options`. Also include a `classical_optimizer_options` parameter to control the convergence behavior. While quantum algorithms like QAOA generally benefit from `maxiter` values of 60 or more, for demonstration purposes we limit it to `10` to ensure shorter runtimes—approximately 10 minutes is expected.\n",
    "\n",
    "This section showcases how hybrid quantum-classical workflows can be executed at scale using Qiskit Serverless, bridging the gap between research and production-ready quantum applications.\n"
   ]
  },
  {
   "cell_type": "markdown",
   "id": "fe9b2fc7-7fb5-4bd0-8077-f08ed4ccd328",
   "metadata": {},
   "source": [
    "<div class=\"alert alert-block alert-success\">\n",
    "  <strong>Exercise 3:</strong>  \n",
    "  Fill in the <code>#TODO</code> sections to specify the optimizer options, for a job that runs the <code>QuantumEnhancedEnsembleClassifier</code> on real quantum hardware. Limit the number of iterations in the optimization to <code>10</code> to ensure it finishes in a reasonable amount of time (expected: ~10 minutes).\n",
    "</div>"
   ]
  },
  {
   "cell_type": "markdown",
   "id": "a36e0b91-3778-4800-ad46-5775ea0f9c57",
   "metadata": {},
   "source": [
    "<div class=\"alert alert-block alert-info\">\n",
    "  <strong>💡 Tip:</strong> Use a similar configuration as the one used in <em>Part 1: Simulated Quantum Classifier</em>. Once you have passed the exercise, feel free to experiment with different parameters such as <code>regularization</code>, <code>num_learners</code>, or <code>num_solutions</code> to explore how they influence performance and optimization time. Refer to the documentation \n",
    "  <a href=\"https://docs.quantum.ibm.com/guides/multiverse-computing-singularity\" target=\"_blank\">here</a> for examples.\n",
    "</div>"
   ]
  },
  {
   "cell_type": "code",
   "execution_count": null,
   "id": "52684725-3c08-41d5-9e13-f723902b5fdf",
   "metadata": {},
   "outputs": [],
   "source": [
    "optimizer_options_ex3 = {\n",
    "    ### TODO: Write your code below here ###\n",
    "    \n",
    "    ### Don't change any code past this line ###\n",
    "}"
   ]
  },
  {
   "cell_type": "code",
   "execution_count": null,
   "id": "85e0ae79-cf8c-4af2-a301-acf172130b81",
   "metadata": {},
   "outputs": [],
   "source": [
    "grade_exercise_3(optimizer_options_ex3)"
   ]
  },
  {
   "cell_type": "markdown",
   "id": "991ac57a",
   "metadata": {},
   "source": [
    "<div class=\"alert alert-block alert-warning\">\n",
    "\n",
    "**⚠️ Warning: QPU Time Consumption**\n",
    "\n",
    "Running the cell below will submit a job to a QPU and consume real QPU time. Please ensure you intend to proceed.\n",
    "\n",
    "**Estimated QPU runtime:** 2 minutes 47 seconds (based on tests on `ibm_brisbane`)\n",
    "\n",
    "</div>"
   ]
  },
  {
   "cell_type": "code",
   "execution_count": null,
   "id": "d05c8e89-bf02-425b-93c9-dfca650aceb8",
   "metadata": {},
   "outputs": [],
   "source": [
    "# Create, fit, and predict\n",
    "print(\"-- Creating, fitting, and predicting --\")\n",
    "start = time.time()\n",
    "job = singularity.run(\n",
    "    action=\"create_fit_predict\",\n",
    "    name=\"classifier_for_grid_stability\",\n",
    "    quantum_classifier=\"QuantumEnhancedEnsembleClassifier\",\n",
    "    num_learners=75,\n",
    "    regularization=15,\n",
    "    optimizer_options=optimizer_options_ex3,\n",
    "    backend_name=None,\n",
    "    instance=your_crn,\n",
    "    random_state=RANDOM_STATE,\n",
    "    X_train=\"grid_stability_X_train.npy\",\n",
    "    y_train=\"grid_stability_y_train.npy\",\n",
    "    X_test=\"grid_stability_X_test.npy\",\n",
    "    fit_params={\n",
    "        \"validation_data\": (X_val, y_val),\n",
    "    },\n",
    "    options={\n",
    "        \"save\": False,\n",
    "    }\n",
    ")"
   ]
  },
  {
   "cell_type": "markdown",
   "id": "0eae92b1-ae88-46f9-a920-53dc21a38966",
   "metadata": {},
   "source": [
    "### Monitor Job Execution\n",
    "\n",
    "Now that the job has been submitted, we can print `job` to save the JobID, and monitor the status of the execution using `job.status()`. The cell can be re-ran again to ping for the latest status. If the job fails, we can obtain information about the reason it did so using `job.error_message()`. "
   ]
  },
  {
   "cell_type": "code",
   "execution_count": null,
   "id": "3cecdfaa-7f92-4f87-8785-bfda37d5cdf7",
   "metadata": {},
   "outputs": [],
   "source": [
    "job"
   ]
  },
  {
   "cell_type": "code",
   "execution_count": null,
   "id": "f54c55a5-47a1-475e-8aad-5cbf43221d90",
   "metadata": {},
   "outputs": [],
   "source": [
    "job.status()"
   ]
  },
  {
   "cell_type": "code",
   "execution_count": null,
   "id": "ab06aca1-a44a-4ff5-89ff-cfd4c10eda27",
   "metadata": {},
   "outputs": [],
   "source": [
    "error_message = job.error_message()\n",
    "print(error_message)"
   ]
  },
  {
   "cell_type": "markdown",
   "id": "f473f36b-9492-4408-972a-c36579ba70c1",
   "metadata": {},
   "source": [
    "### Retrieve and Analyze the Results\n",
    "\n",
    "Once the job has been submitted and completed, we can retrieve the results using `job.result()`. We can then evaluate the results using our previously defined helper function and ensure it matches our expectation."
   ]
  },
  {
   "cell_type": "code",
   "execution_count": null,
   "id": "527bd350-d77f-4965-9608-910597e639a3",
   "metadata": {
    "scrolled": true
   },
   "outputs": [],
   "source": [
    "# Get the job status, logs, and result\n",
    "result = job.result()\n",
    "status = job.status()\n",
    "error_message = job.error_message()\n",
    "end = time.time()\n",
    "\n",
    "print(\"Job status: \", status)\n",
    "print(\"Error message: \", error_message)\n",
    "print(\"Action status: \", result[\"status\"])\n",
    "print(\"Action message: \", result[\"message\"])\n",
    "print(\"Action result: \", result[\"data\"])"
   ]
  },
  {
   "cell_type": "code",
   "execution_count": null,
   "id": "575e80bf-2582-4440-b106-244e9a8b1d3d",
   "metadata": {},
   "outputs": [],
   "source": [
    "predictions = result[\"data\"][\"predictions\"]\n",
    "evaluate_predictions(predictions, y_test, start, end)"
   ]
  },
  {
   "cell_type": "markdown",
   "id": "8edfc660-a359-4bf3-be15-34d8b953d169",
   "metadata": {},
   "source": [
    "### Visualization: Classical vs Quantum F1 Score\n",
    "\n",
    "To summarize our experiments, let’s compare the F1 scores of the classical and quantum classifiers. F1 score is a balanced metric that considers both precision and recall, making it especially useful in imbalanced classification tasks like this one. This visualization helps highlight the performance gains introduced by quantum optimization."
   ]
  },
  {
   "cell_type": "code",
   "execution_count": null,
   "id": "73385e5e-c705-4b9d-9e5e-fb7b2d529401",
   "metadata": {},
   "outputs": [],
   "source": [
    "# Collect F1 scores from both experiments\n",
    "labels = [\"AdaBoost (Classical)\", \"Quantum Classifier\"]\n",
    "f1_scores = []\n",
    "\n",
    "# Recalculate F1 for AdaBoost\n",
    "_, _, _, f1_ada = evaluate_predictions(classifier.predict(X_test), y_test)\n",
    "f1_scores.append(f1_ada)\n",
    "\n",
    "# Use F1 score from the quantum job\n",
    "_, _, _, f1_quantum = evaluate_predictions(predictions, y_test)\n",
    "f1_scores.append(f1_quantum)\n",
    "\n",
    "# Create the bar chart\n",
    "plt.figure(figsize=(8, 5))\n",
    "plt.bar(labels, f1_scores, color=[\"#808080\", \"#8A2BE2\"])\n",
    "plt.ylabel(\"F1 Score\")\n",
    "plt.title(\"F1 Score Comparison: Classical vs Quantum Classifier\")\n",
    "plt.ylim(0, 1.0)\n",
    "for i, f1 in enumerate(f1_scores):\n",
    "    plt.text(i, f1 + 0.01, f\"{f1:.3f}\", ha='center', va='bottom', fontweight='bold')\n",
    "plt.grid(axis=\"y\", linestyle=\"--\", alpha=0.7)\n",
    "plt.tight_layout()\n",
    "plt.show()"
   ]
  },
  {
   "cell_type": "markdown",
   "id": "2b0f0e89-0a1e-4dab-8086-d007da0f5038",
   "metadata": {},
   "source": [
    "# Clean up Shared Directory\n",
    "\n",
    "After completing all remote executions, it's important to clean up any temporary files that were uploaded to the Qiskit Serverless environment. This helps maintain a tidy workspace and avoids unnecessary storage usage in shared or limited environments.\n",
    "\n",
    "In this step, we remove the uploaded `.tar` archives corresponding to the training and test datasets using the `client.file_delete()` method. These files are no longer needed after the jobs have completed and results have been retrieved.\n",
    "\n",
    "Cleaning up is a good practice, especially when working with multiple users or when automating workflows in production."
   ]
  },
  {
   "cell_type": "code",
   "execution_count": null,
   "id": "f28012db-3530-4e01-9975-39504f15e5b6",
   "metadata": {},
   "outputs": [],
   "source": [
    "# Clean up the shared data directory\n",
    "file_names = [\n",
    "    \"grid_stability_X_train.npy\",\n",
    "    \"grid_stability_y_train.npy\",\n",
    "    \"grid_stability_X_test.npy\",\n",
    "]\n",
    "\n",
    "for name in file_names:\n",
    "    tar_name = f\"{name}.tar\"\n",
    "    client.file_delete(tar_name, singularity)\n",
    "    if os.path.exists(name):\n",
    "        os.remove(name)\n",
    "    if os.path.exists(tar_name):\n",
    "        os.remove(tar_name)"
   ]
  },
  {
   "cell_type": "markdown",
   "id": "bc04cbda-fd17-4463-85b5-18275a666cc4",
   "metadata": {},
   "source": [
    "# Scaling Benefits and Enhancements\n",
    "\n",
    "The true power of the `QuantumEnhancedEnsembleClassifier` comes into play in scenarios that involve **large ensemble sizes** or **high-dimensional optimization**. While in this lab we limited the number of learners and iterations (`maxiter = 10`) to ensure the job completes in under 30 minutes, it's important to note that quantum optimization algorithms like QAOA typically require 60 or more iterations to converge effectively. This setting provides only a glimpse of the potential performance gains.\n",
    "\n",
    "In classical ensemble optimization, the training time scales poorly—often exponentially—as the number of learners increases. This makes it impractical for large ensemble configurations due to the combinatorial nature of selecting optimal learners. On the other hand, quantum optimization is expected to scale much more favorably as you increase the number of learners or the problem size (e.g., qubits). In practice, this means quantum methods can remain efficient even when classical methods become infeasible."
   ]
  },
  {
   "cell_type": "markdown",
   "id": "ee0bd48b",
   "metadata": {},
   "source": [
    "# Feedback Survey\n",
    "\n",
    "We’d love to hear about your experience using the Qiskit Function! Your feedback is valuable and will help Qiskit Function providers enhance their tools and services. Please take a moment to share your thoughts by completing our short 2 min [feedback survey](https://airtable.com/app6VujlNUHZuOnAF/pagpw6TgP9UEt4TAT/form)."
   ]
  },
  {
   "cell_type": "markdown",
   "id": "5907411a-bd3e-4dca-b81b-4ab1d666a6ec",
   "metadata": {},
   "source": [
    "# References\n",
    "\n",
    "1. Qiskit Function:\n",
    "   - [Qiskit Function Tutorial](https://docs.quantum.ibm.com/guides/functions)\n",
    "   - [Qiskit Serverless Documentation](https://qiskit.github.io/qiskit-serverless/index.html)\n",
    "\n",
    "2. Papers:\n",
    "   - [Neven et al. 2008: Training a Binary Classifier with the Quantum Adiabatic Algorithm](https://arxiv.org/abs/0811.0416)\n",
    "   - [Neven et al. 2012: QBoost: Large Scale Classifier Training with Adiabatic Quantum Optimization](http://proceedings.mlr.press/v25/neven12/neven12.pdf)\n"
   ]
  },
  {
   "cell_type": "markdown",
   "id": "74708eab-9f0d-4c41-900e-726c2ce399a6",
   "metadata": {},
   "source": [
    "# Additional information\n",
    "\n",
    "**Created by:** Sepehr Hosseini, Pablo Lauret\n",
    "\n",
    "**Advised by:** Junye Huang\n",
    "\n",
    "**Version:** 1.0.0"
   ]
  },
  {
   "cell_type": "markdown",
   "id": "04c58c5f-e471-4fc8-8318-1c60f46b05ee",
   "metadata": {},
   "source": [
    "# Qiskit packages versions"
   ]
  },
  {
   "cell_type": "code",
   "execution_count": null,
   "id": "1de25001-bad2-4b1c-a0a9-8da0cfced98d",
   "metadata": {},
   "outputs": [],
   "source": [
    "import qiskit\n",
    "import qiskit_serverless\n",
    "import qiskit_ibm_catalog\n",
    "\n",
    "print(f'Qiskit: {qiskit.__version__}')\n",
    "print(f'Qiskit Serverless: {qiskit_serverless.__version__}')\n",
    "print(f'Qiskit IBM Catalog: {qiskit_ibm_catalog.__version__}')"
   ]
  }
 ],
 "metadata": {
  "kernelspec": {
   "display_name": ".venv",
   "language": "python",
   "name": "python3"
  },
  "language_info": {
   "codemirror_mode": {
    "name": "ipython",
    "version": 3
   },
   "file_extension": ".py",
   "mimetype": "text/x-python",
   "name": "python",
   "nbconvert_exporter": "python",
   "pygments_lexer": "ipython3",
   "version": "3.11.0"
  }
 },
 "nbformat": 4,
 "nbformat_minor": 5
}
