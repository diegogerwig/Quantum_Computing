{
 "cells": [
  {
   "cell_type": "markdown",
   "id": "aabd40ba",
   "metadata": {},
   "source": [
    "# Lab : Iskay Quantum Optimizer - A Qiskit Function by Kipu Quantum\n",
    "\n",
    "In this lab we will learn how to use the Iskay optimizer by Kipu Quantum in a practical and simple manner. We will need the basic tools explained during the first few lessons and labs of the QGSS.\n",
    "\n",
    "Iskay leverages Kipu's cutting-edge BF-DCQO algorithm [[1](https://journals.aps.org/prresearch/abstract/10.1103/PhysRevResearch.7.L022010),[2](https://doi.org/10.48550/arXiv.2409.04477)], to tackle unconstrained binary optimization problems. For example, in the commonly used Quadratic Unconstrained Binary Optimization (QUBO) formulation, as well as higher-order (HUBO). BF-DCQO is a non-variational quantum algorithm, which requires fewer computational resources than common variational algorithms, such as QAOA.\n",
    "\n",
    "In Iskay, only the objective function is needed as input to automatically deliver problem solutions. It can handle optimization problems involving up to 156 qubits, enabling the use of all qubits of the IBM quantum devices. The Optimizer uses a 1-to-1 mapping between classical variables and qubits, which allows us to tackle optimization problems with up to 156 binary variables.\n",
    "\n",
    "This lab is structure as follows\n",
    "\n",
    "0. [Setup](#setup)\n",
    "1. [Introduction](#introduction)  \n",
    "    - [How does the Quantum Optimizer work?](#how_it_works)\n",
    "    - [Workflow](#workflow)  \n",
    "2. [Getting familiar with Iskay](#getting_familiar)\n",
    "    * [Exercise 1a: Define problem graph](#exercise_1a)\n",
    "    * [Exercise 1b: Extract the Ising fields](#exercise_1b)\n",
    "    * [Exercise 1c/1d: Accessing Iskay](#exercise_1c)\n",
    "    * [Exercise 1e: Retrieve and analyze results](#exercise_1e)\n",
    "    * [Exercise 1f: Verifying optimality](#exercise_1f)\n",
    "3. [HUBO problems](#hubo) \n",
    "    * [Exercise 2a: Find the challenging instance](#exercise_2a) \n",
    "    * [Exercise 2b: Characterizing the instance](#exercise_2b) \n",
    "    * [Exercise 2c: Solving it with Iskay](#exercise_2c)\n",
    "4. [Concluding remarks](#conclusion)\n",
    "---\n",
    "<Admonition type=\"note\">\n",
    "  Qiskit Functions are an experimental feature available only to IBM Quantum™ Premium and Flex Plan users. They are in preview release status and subject to change.\n",
    "</Admonition>"
   ]
  },
  {
   "cell_type": "markdown",
   "id": "44ee6116",
   "metadata": {},
   "source": [
    "<a id=\"setup\"></a>\n",
    "\n",
    "## 0. Setup"
   ]
  },
  {
   "cell_type": "code",
   "execution_count": null,
   "id": "cf0d3fcc",
   "metadata": {},
   "outputs": [],
   "source": [
    "# Install dependencies\n",
    "%pip install \"qiskit[visualization]\" qiskit-ibm-runtime qiskit-ibm-catalog networkx"
   ]
  },
  {
   "cell_type": "code",
   "execution_count": null,
   "id": "92a20e3f",
   "metadata": {},
   "outputs": [],
   "source": [
    "# Imports\n",
    "\n",
    "import networkx as nx\n",
    "from rustworkx.visualization import mpl_draw as draw_graph\n",
    "from qiskit_ibm_catalog import QiskitFunctionsCatalog\n",
    "from qiskit_ibm_runtime import QiskitRuntimeService\n",
    "import time\n",
    "\n",
    "from grader_iskay import (\n",
    "    grade_lab_iskay_ex1a,\n",
    "    grade_lab_iskay_ex1b,\n",
    "    grade_lab_iskay_ex1c,\n",
    "    grade_lab_iskay_ex1d,\n",
    "    grade_lab_iskay_ex1e,\n",
    "    grade_lab_iskay_ex1f,\n",
    "    grade_lab_iskay_ex2a,\n",
    "    grade_lab_iskay_ex2b,\n",
    "    grade_lab_iskay_ex2c\n",
    ")"
   ]
  },
  {
   "cell_type": "markdown",
   "id": "18ab46d1",
   "metadata": {},
   "source": [
    "<div class=\"alert alert-block alert-warning\">\n",
    "\n",
    "**Exclusive Access to Qiskit Functions**\n",
    "\n",
    "As part of Qiskit Global Summer School (QGSS), participants with a Premium or Flex Plan have limited-time trial access to Qiskit Functions. Access is exclusive and subject to your organization’s administrator approval. Complete [this form](https://airtable.com/appj8IrSNZGz4l4BB/pag8WgWdUr5uSJGZA/form) to request access.\n",
    "\n",
    "If you encounter the error `QiskitServerlessException: Credentials couldn't be verified`. in the cell below, it means your access to Qiskit Functions is not yet active. Please check back later after your request has been processed.\n",
    "\n",
    "**Note: Running this lab will consume QPU time from your organization’s account. Estimated QPU usage is provided before each cell that executes on a QPU. Please monitor your usage and consult your organization admin if you’re unsure about your allocated QPU time for QGSS Functions labs.**\n",
    "\n",
    "</div>"
   ]
  },
  {
   "cell_type": "code",
   "execution_count": null,
   "id": "9c5aa61c",
   "metadata": {},
   "outputs": [],
   "source": [
    "# Load the Qiskit Functions Catalog\n",
    "your_api_key = \"deleteThisAndPasteYourAPIKeyHere\"\n",
    "your_crn = \"deleteThisAndPasteYourCRNHere\"\n",
    "\n",
    "catalog = QiskitFunctionsCatalog(\n",
    "    channel=\"ibm_quantum_platform\",\n",
    "    token=your_api_key,\n",
    "    instance=your_crn,\n",
    ")\n",
    "# You should see a list of Qiskit Functions available to you\n",
    "# If you encounter the error `QiskitServerlessException: Credentials couldn't be verified`,\n",
    "# it means your access is not yet active\n",
    "catalog.list()"
   ]
  },
  {
   "cell_type": "markdown",
   "id": "86275eb0",
   "metadata": {},
   "source": [
    "<a id=\"introduction\"></a>\n",
    "\n",
    "## 1. Introduction\n",
    "\n",
    "The Optimizer is a ready-to-use implementation of cutting-edge quantum optimization algorithms. It solves optimization problems by running highly-compressed quantum circuits on quantum hardware. This compression is achieved by introducing **counterdiabatic** terms into the underlying time evolution of the quantum system. The algorithm executes several iterations of hardware runs to obtain the final solutions and combines it with post-processing. These steps are seamlessly integrated into the Optimizer's workflow and are executed automatically.\n",
    "\n",
    "![Workflow](https://docs.quantum.ibm.com/images/guides/kipu-optimization/workflow.svg \"Workflow of the Quantum Optimizer\")\n",
    "\n",
    "<a id=\"how_it_works\"></a>\n",
    "### 1.1 How does the Quantum Optimizer work?\n",
    "This section outlines the basics of the implemented BF-DCQO algorithm. An introduction to the algorithm can also be found on the [Qiskit YouTube channel.](https://www.youtube.com/watch?v=33QmsXhIlpU&t=1223s)\n",
    "\n",
    "The algorithm is based on the time evolution of a quantum system which is transformed over time, where the problem solution is encoded in the ground state of the quantum system at the end of the evolution. According to the [adiabatic theorem](https://en.wikipedia.org/wiki/Adiabatic_theorem), this evolution has to be slow to ensure the system remains in its ground state. Digitizing this evolution is the basis of digitized quantum adiabatic computation (DQA) and the infamous QAOA algorithm. However, the required slow evolution is not feasible for increasing problem sizes since it results in an increasing circuit depth. By using counterdiabatic protocols, we can suppress unwanted excitations occurring during short evolution times while remaining in the ground state. Here, digitizing this shorter evolution time results in quantum circuits with shorter depth and fewer entangling gates.\n",
    "\n",
    "The circuits of the BF-DCQO algorithms typically use up to ten times fewer entangling gates than DQA, and three to four times fewer entangling gates than standard QAOA implementations. Because of the smaller number of gates, fewer errors occur during the circuit execution on hardware. Hence, the optimizer does not require using techniques like error suppression or error mitigation. Implementing them in future versions can enhance the solution quality even further.\n",
    "\n",
    "Although the BF-DCQO algorithm uses iterations, it is non-variational. After each iteration of the algorithm, the distribution of states is measured. The obtained distribution is used to calculate a so-called bias-field. The bias-field allows starting the next iteration from an energy state near the previously found solution. In this way, the algorithm moves with each iteration to solutions of lower energy. Typically, approximately ten iterations are sufficient to converge to a solution, in total requiring a much lower number of iterations than variational algorithms, which is on the order of  approximately 100 iterations.\n",
    "\n",
    "The optimizer combines the BF-DCQO algorithm with classical post-processing. After measuring the distribution of states, a local search is performed. During the local search, the bits of the measured solution are randomly flipped. After the flip, the energy of the new bitstring is evaluated. If the energy is lower, the bitstring is kept as the new solution. The local search only scales linearly with the number of qubits; hence, it is computationally cheap. Since the post-processing corrects local bitflips, it compensates for bit-flip errors that often are the result of hardware imperfections and readout errors.\n",
    "\n",
    "<a id=\"workflow\"></a>\n",
    "### 1.2 Workflow\n",
    "\n",
    "A schematic of the workflow of the Quantum Optimizer follows.\n",
    "\n",
    "By using the Quantum Optimizer, solving an optimization problem on quantum hardware can be reduced to\n",
    "* Formulate the objective function of the problem\n",
    "* Access the Optimizer via Qiskit Functions\n",
    "* Run the Optimizer and collect the result\n",
    "\n"
   ]
  },
  {
   "cell_type": "markdown",
   "id": "82fc2474",
   "metadata": {},
   "source": [
    "<a id=\"getting_familiar\"></a>\n",
    "\n",
    "## 2. Getting familiar with Iskay\n",
    "\n",
    "First, we will tackle Max-Cut, a problem we already know from the first week of QGSS. In simple words, the Max-Cut problem asks: given a graph, how can we partition its vertices into two sets so that the total weight of edges between the sets is as large as possible? The problem is NP-hard in general."
   ]
  },
  {
   "cell_type": "markdown",
   "id": "b68837d8",
   "metadata": {},
   "source": [
    "<a id=\"exercise_1a\"></a>\n",
    "<div class=\"alert alert-block alert-success\">\n",
    "    \n",
    "<b>Exercise 1a: Define problem graph</b> \n",
    "\n",
    "**Your Goal:** Build a graph that represents the combinatorial optimization problem\n",
    "\n",
    "In this exercise you must create a 50 qubit 3-regular graph. You can take as template the labs from the first week. Use the ```networkx.random_regular_graph``` function"
   ]
  },
  {
   "cell_type": "code",
   "execution_count": null,
   "id": "9419a719",
   "metadata": {},
   "outputs": [],
   "source": [
    "# Create a random 3-regular graph. Do not change the seed or number of nodes.\n",
    "seed = 0\n",
    "num_nodes = 50\n",
    "\n",
    "# ---- TODO : Task 1 ---\n",
    "# Use NetworkX to create a random 3-regular graph with the specified number of nodes and seed.\n",
    "graph = \n",
    "\n",
    "# --- End of TODO ---\n",
    "\n",
    "nx.draw(\n",
    "    graph,\n",
    "    with_labels=True,\n",
    "    edge_color='gray',\n",
    "    node_size=100\n",
    ")"
   ]
  },
  {
   "cell_type": "code",
   "execution_count": null,
   "id": "2ebb8cd9",
   "metadata": {},
   "outputs": [],
   "source": [
    "grade_lab_iskay_ex1a(graph)"
   ]
  },
  {
   "cell_type": "markdown",
   "id": "8c12dbd1",
   "metadata": {},
   "source": [
    "<a id=\"exercise_1b\"></a>\n",
    "<div class=\"alert alert-block alert-success\">\n",
    "    \n",
    "<b>Exercise 1b: Extract the Ising fields </b> \n",
    "\n",
    "**Your Goal:** Build the dictionary of the Ising fields, which represent the objective function. Use 0.5 as the coupling stengths.\n",
    "\n",
    "In this exercise you must obtain a dictionary of tuples and coefficients, which represents the problem. For example, \n",
    "\n",
    "```python  \n",
    "'(0,)': 1.5,\n",
    "'(1,)': 2,\n",
    "'(2,)': 1.3,\n",
    "'(0, 3)': 2.5,\n",
    "'(1, 4)': 3.5,\n",
    "```  \n",
    "\n",
    "represents a graph of five nodes, where nodes 0,1,2 have specific weights and both (0,3) and (1,4) are connected. Note that these fields can also be used to easily build the Hamiltonian.\n"
   ]
  },
  {
   "cell_type": "code",
   "execution_count": null,
   "id": "64f19c89",
   "metadata": {},
   "outputs": [],
   "source": [
    "# Create the objective function for MaxCut in Ising formulation\n",
    "def graph_to_ising_maxcut(graph):\n",
    "    # Initialize the linear and quadratic coefficients\n",
    "    objective_func = {}\n",
    "\n",
    "    # ---- TODO : Task 2 ---\n",
    "\n",
    "\n",
    "    # --- End of TODO ---\n",
    "    \n",
    "    return objective_func\n",
    "\n",
    "objective_func = graph_to_ising_maxcut(graph)"
   ]
  },
  {
   "cell_type": "code",
   "execution_count": null,
   "id": "14b9fff3",
   "metadata": {},
   "outputs": [],
   "source": [
    "grade_lab_iskay_ex1b(objective_func, graph)"
   ]
  },
  {
   "cell_type": "markdown",
   "id": "cab2b861",
   "metadata": {},
   "source": [
    "<a id=\"exercise_1c\"></a>\n",
    "<div class=\"alert alert-block alert-success\">\n",
    "    \n",
    "<b>Exercise 1c/1d: Accessing Iskay </b> \n",
    "\n",
    "**Your Goal:** Solve the problem using Iskay\n",
    "\n",
    "In this exercise you must\n",
    "- Load Iskay Optimizer from the Qiskit functions catalog. Check the [documentation](https://quantum.cloud.ibm.com/docs/en/guides/kipu-optimization)\n",
    "- Get the name of the least busy backend\n",
    "- Create a job "
   ]
  },
  {
   "cell_type": "code",
   "execution_count": null,
   "id": "256dcc01",
   "metadata": {},
   "outputs": [],
   "source": [
    "# ---- TODO : Task 3 ---\n",
    "optimizer = \n",
    "# --- End of TODO ---"
   ]
  },
  {
   "cell_type": "code",
   "execution_count": null,
   "id": "1f9b2808",
   "metadata": {},
   "outputs": [],
   "source": [
    "grade_lab_iskay_ex1c(optimizer)"
   ]
  },
  {
   "cell_type": "code",
   "execution_count": null,
   "id": "0e0d06a5",
   "metadata": {},
   "outputs": [],
   "source": [
    "service = QiskitRuntimeService(\n",
    "    channel=\"ibm_quantum_platform\",\n",
    "    token=your_api_key,\n",
    "    instance=your_crn,\n",
    ")\n",
    "\n",
    "# ---- TODO : Task 3 ---\n",
    "least_busy_backend = \n",
    "least_busy_backend_name = \n",
    "# --- End of TODO ---\n",
    "\n",
    "print(f\"Least busy backend: {least_busy_backend_name}\")"
   ]
  },
  {
   "cell_type": "markdown",
   "id": "95a0c82c",
   "metadata": {},
   "source": [
    "We are going to do 10 iterations with 2500 shots each. This gives a total of 25000 shots. "
   ]
  },
  {
   "cell_type": "code",
   "execution_count": null,
   "id": "bdcfac97",
   "metadata": {},
   "outputs": [],
   "source": [
    "# Setup options to run the optimizer\n",
    "options = {\"shots\": 2_500, \"num_iterations\": 10, \"use_session\": True}\n",
    "\n",
    "# ---- TODO : Task 4 ---\n",
    "# Prepare the arguments for the optimizer\n",
    "arguments = {\n",
    "    'problem': ,\n",
    "    'problem_type': ,\n",
    "    'instance': ,\n",
    "    'backend_name': ,\n",
    "    'options': ,\n",
    "}\n",
    "# --- End of TODO ---"
   ]
  },
  {
   "cell_type": "code",
   "execution_count": null,
   "id": "e442744f",
   "metadata": {},
   "outputs": [],
   "source": [
    "grade_lab_iskay_ex1d(arguments)"
   ]
  },
  {
   "cell_type": "markdown",
   "id": "24628c38",
   "metadata": {},
   "source": [
    "<div class=\"alert alert-block alert-warning\">\n",
    "\n",
    "**⚠️ Warning: QPU Time Consumption**\n",
    "\n",
    "Running the cell below will submit a job to a QPU and consume real QPU time. Please ensure you intend to proceed.\n",
    "\n",
    "**Estimated QPU runtime:** 2 minutes 35 seconds (based on tests on `ibm_brussels`)\n",
    "\n",
    "</div>"
   ]
  },
  {
   "cell_type": "code",
   "execution_count": null,
   "id": "189be184",
   "metadata": {},
   "outputs": [],
   "source": [
    "# Run the optimizer\n",
    "job = optimizer.run(**arguments)\n",
    "job_id = job.job_id\n",
    "\n",
    "print(f\"Job ID: {job_id}\")"
   ]
  },
  {
   "cell_type": "markdown",
   "id": "7508267b",
   "metadata": {},
   "source": [
    "<a id=\"exercise_1e\"></a>\n",
    "<div class=\"alert alert-block alert-success\">\n",
    "    \n",
    "<b>Exercise 1e: Retrieve and analyze results </b> \n",
    "\n",
    "**Your Goal:** Understand the structure from the results and plot the optimal solution found\n",
    "\n",
    "In this exercise you must\n",
    "- Use the job id to retrieve the results. The status of the task can be checked with ```job.status()```\n",
    "- Get the max-cut solution bitstring as well as its cost"
   ]
  },
  {
   "cell_type": "code",
   "execution_count": null,
   "id": "0a55f4a0",
   "metadata": {},
   "outputs": [],
   "source": [
    "# Load the job from the job ID\n",
    "# job = catalog.job(job_id)\n",
    "\n",
    "while True:\n",
    "    print(f\"Waiting for job {job_id} to complete... (status: {job.status()})\",  end='\\r', flush=True)\n",
    "    if job.status() in ['DONE', 'CANCELED', 'ERROR']:\n",
    "        print(f\"Job {job_id} completed with status: {job.status()}\")\n",
    "        break\n",
    "    time.sleep(30)"
   ]
  },
  {
   "cell_type": "code",
   "execution_count": null,
   "id": "6df659c3",
   "metadata": {},
   "outputs": [],
   "source": [
    "# Retrieve the results\n",
    "# ---- TODO : Task 5 ---\n",
    "result = \n",
    "maxcut_solution = \n",
    "cost = \n",
    "# --- End of TODO ---\n",
    "\n",
    "print(\"Max-Cut solution:\", maxcut_solution)"
   ]
  },
  {
   "cell_type": "markdown",
   "id": "25bc3258",
   "metadata": {},
   "source": [
    "The solution dictionary indicates the orientation of each qubits. In terms of the graph, it indicates the bipartition: all nodes pointing up (+1) are part of one partition, whereas the ones point down (-1) are part of the other partition. Since the goal of the max-cut problem is to increate the number of connections between these two partitions, we can nicely visualize it. But first, let's check that the cost to the associated Hamiltonian is the right one."
   ]
  },
  {
   "cell_type": "code",
   "execution_count": null,
   "id": "800021bf",
   "metadata": {},
   "outputs": [],
   "source": [
    "grade_lab_iskay_ex1e(result)"
   ]
  },
  {
   "cell_type": "markdown",
   "id": "1fe5bb8f",
   "metadata": {},
   "source": [
    "Use the following code to plot the solution obtained from hardware using BF-DCQO"
   ]
  },
  {
   "cell_type": "code",
   "execution_count": null,
   "id": "b9f650e4",
   "metadata": {},
   "outputs": [],
   "source": [
    "# Choose which nodes to highlight\n",
    "special_nodes = {idx for idx, s in enumerate(maxcut_solution_bitstring) if s == \"1\"}\n",
    "\n",
    "# Build a list of colors, one per node, in graph.nodes() order\n",
    "color_map = []\n",
    "for node in graph.nodes():\n",
    "    if node in special_nodes:\n",
    "        color_map.append('red')\n",
    "    else:\n",
    "        color_map.append('skyblue')\n",
    "\n",
    "# Draw, passing the color list\n",
    "nx.draw(\n",
    "    graph,\n",
    "    with_labels=True,\n",
    "    node_color=color_map,\n",
    "    edge_color='gray',\n",
    "    node_size=100\n",
    ")"
   ]
  },
  {
   "cell_type": "markdown",
   "id": "28e3f16a",
   "metadata": {},
   "source": [
    "<a id=\"exercise_1f\"></a>\n",
    "<div class=\"alert alert-block alert-success\">\n",
    "    \n",
    "<b>[Optional] Exercise 1f: Verifying optimality </b> \n",
    "\n",
    "**Your Goal:** Find the cut value and check the optimality of the obtained solution\n",
    "\n",
    "In this exercise you must\n",
    "- Use the graph to find the cut value, i.e. how many edges are connecting the two partitions\n",
    "- Verify optimality of the obtained solution. \n",
    "\n",
    "<div class=\"alert alert-block alert-warning\">\n",
    "<b> ⚠️ Warning: Problem beyond brute force</b>\n",
    "\n",
    "Despite this is an example problem of relatively small size (50 qubits), it is already beyond brute force approach. Therefore, do not search all possible combinations. Instead, rely on heuristics or exact solvers.\n",
    "\n",
    "</div>"
   ]
  },
  {
   "cell_type": "code",
   "execution_count": null,
   "id": "eac7e997",
   "metadata": {},
   "outputs": [],
   "source": [
    "# Calculate the cut value\n",
    "\n",
    "def cut_value(graph: nx.Graph, x: dict) -> int:\n",
    "\n",
    "    # ---- TODO : Task 6 ---\n",
    "    return \n",
    "    # --- End of TODO ---\n",
    "\n",
    "\n",
    "cut = cut_value(graph, maxcut_solution)"
   ]
  },
  {
   "cell_type": "code",
   "execution_count": null,
   "id": "0280ac1f",
   "metadata": {},
   "outputs": [],
   "source": [
    "grade_lab_iskay_ex1f(cut)"
   ]
  },
  {
   "cell_type": "markdown",
   "id": "07bf5000",
   "metadata": {},
   "source": [
    "Now we can verify the optimality of the solution. This part is free and will not be graded. Are you able to verify the solution without brute-force?\n",
    "<div class=\"alert alert-info\">\n",
    "<details>\n",
    "    <summary> <b>Hint</b> 💡: (Click to expand)</summary>\n",
    "    Check qiskit optimization at https://qiskit-community.github.io/qiskit-optimization/\n",
    "</details>\n",
    "</div>"
   ]
  },
  {
   "cell_type": "markdown",
   "id": "d2c65c4b",
   "metadata": {},
   "source": [
    "## 3. HUBO problems \n",
    "\n",
    "Higher order binary unconstrained optimization (HUBO) problems extend the familiar QUBO problems by allowing objective functions to include terms that involve interactions among three or more binary variables. Formally, a HUBO problem aims to optimize the cost function\n",
    "\n",
    "$$\n",
    "f(x) = \\sum_i a_i x_i + \\sum_{i<j} b_{ij} x_i x_j + \\sum_{i<j<k} c_{ijk} x_i x_j x_k + \\dots\n",
    "$$\n",
    "\n",
    "with binary variables $x_i \\in \\{0,1\\}$. The higher order couplings $c_{ijk\\cdots}$ introduce a new layer of complexity to the problem, which typically results in landscapes that are harder to navigate due to increades ruggedness. \n",
    "\n",
    "Higher-order interactions arise naturally in many industrial settings. For example, a possible formulation of the protein folding problem requires up to 5-local couplings, meaning that there are terms of the type $c_{ijklm}  x_i x_j x_k x_l x_m$. Another key benchmark example is the Max-k-SAT problem, which includes up to k-local couplings, as well as the dynamical portfolio optimization admits a HUBO formulation as well. \n",
    "\n",
    "HUBO problems may be challenging for classical solvers since many of them require classical reduction techniques, i.e. converting higher-order terms into quadratic ones by introducing auxiliary variables and penalty terms. While this maps a HUBO to a QUBO, it typically increases problem size proportional to the number of higher-order interactions and requires delicate tuning of penalty strengths.\n",
    "\n",
    "In this lab, your goal is to add a datapoint to an existing public benchmark. To do this, you will need to determine which problem from this public benchmark is worth tackling with Iskay. "
   ]
  },
  {
   "cell_type": "markdown",
   "id": "36bf3ead",
   "metadata": {},
   "source": [
    "<a id=\"exercise_2a\"></a>\n",
    "<div class=\"alert alert-block alert-success\">\n",
    "    \n",
    "<b>Exercise 2a: Find the challenging instance </b> \n",
    "\n",
    "**Your Goal:** Search for the challenging HUBO instance and provide the index\n",
    "\n",
    "In this exercise you must go to [this paper](https://www.nature.com/articles/s41534-024-00825-w) and find the challenging instance, where no quantum algorithm could find the optimal solution. \n",
    "\n",
    "\n",
    "</div>\n",
    "\n",
    "<div class=\"alert alert-info\">\n",
    "<details>\n",
    "    <summary> <b>Hint</b> 💡: (Click to expand)</summary>\n",
    "    See Table 4 \n",
    "</details>\n",
    "</div>"
   ]
  },
  {
   "cell_type": "code",
   "execution_count": null,
   "id": "9725b8dc",
   "metadata": {},
   "outputs": [],
   "source": [
    "# Find the index of the challenging instance\n",
    "# ---- TODO : Task 7 ---\n",
    "idx = \n",
    "# --- End of TODO ---"
   ]
  },
  {
   "cell_type": "code",
   "execution_count": null,
   "id": "662a9469",
   "metadata": {},
   "outputs": [],
   "source": [
    "grade_lab_iskay_ex2a(idx)"
   ]
  },
  {
   "cell_type": "markdown",
   "id": "44124ba2",
   "metadata": {},
   "source": [
    "<a id=\"exercise_2b\"></a>\n",
    "<div class=\"alert alert-block alert-success\">\n",
    "    \n",
    "<b>Exercise 2b: Characterizing the instance </b> \n",
    "\n",
    "**Your Goal:** Check the amount of Hamiltonian terms and their locality\n",
    "\n",
    "In this exercise you must provide how many one-, two-, and three-local terms are present in the Hamiltonian (cost function). "
   ]
  },
  {
   "cell_type": "code",
   "execution_count": null,
   "id": "84d415bc",
   "metadata": {},
   "outputs": [],
   "source": [
    "# Load the instance as an objective function \n",
    "\n",
    "with open(f'data/ibm_washington.txt', 'r') as file:\n",
    "    content = file.read()\n",
    "\n",
    "objective_func = {}\n",
    "\n",
    "for list_of_fields in eval(content):\n",
    "    for field in list_of_fields:\n",
    "        for key,val in field.items():\n",
    "            if isinstance(key, tuple):\n",
    "                objective_func[str(tuple(sorted(key)))] = val\n",
    "            elif isinstance(key, int):\n",
    "                objective_func[str((key,))] = val\n",
    "\n",
    "\n",
    "# ---- TODO : Task 8 ---\n",
    "one_local_terms = \n",
    "two_local_terms = \n",
    "three_local_terms = \n",
    "# --- End of TODO ---\n",
    "\n",
    "print(f\"One-local terms: {one_local_terms}\")\n",
    "print(f\"Two-local terms: {two_local_terms}\")\n",
    "print(f\"Three-local terms: {three_local_terms}\")"
   ]
  },
  {
   "cell_type": "code",
   "execution_count": null,
   "id": "ab53aaa6",
   "metadata": {},
   "outputs": [],
   "source": [
    "grade_lab_iskay_ex2b(one_local_terms, two_local_terms, three_local_terms)"
   ]
  },
  {
   "cell_type": "markdown",
   "id": "061b9377",
   "metadata": {},
   "source": [
    "<a id=\"exercise_2c\"></a>\n",
    "<div class=\"alert alert-block alert-success\">\n",
    "    \n",
    "<b>Exercise 2c: Solving it with Iskay </b> \n",
    "\n",
    "**Your Goal:** Use the Iskay optimizer to tackle this instance\n",
    "\n",
    "Particularly, set the parameters\n",
    "- shots per iteration : 10000\n",
    "- number of iterations : 10\n",
    "- problem type : spin\n",
    "- backend : Use the best backend available in your plan for better results. "
   ]
  },
  {
   "cell_type": "code",
   "execution_count": null,
   "id": "9512058c",
   "metadata": {},
   "outputs": [],
   "source": [
    "# Setup options to run the optimizer\n",
    "options = {\"shots\": 10_000, \"num_iterations\": 10, \"use_session\": True}\n",
    "\n",
    "# ---- TODO : Task 9 ---\n",
    "# Prepare the arguments for the optimizer\n",
    "arguments = {\n",
    "    'problem': ,\n",
    "    'problem_type': ,\n",
    "    'instance': ,\n",
    "    'backend_name': ,\n",
    "    'options': ,\n",
    "}\n",
    "# --- End of TODO ---"
   ]
  },
  {
   "cell_type": "code",
   "execution_count": null,
   "id": "ed6d69f9",
   "metadata": {},
   "outputs": [],
   "source": [
    "grade_lab_iskay_ex2c(arguments)"
   ]
  },
  {
   "cell_type": "markdown",
   "id": "5ac27441",
   "metadata": {},
   "source": [
    "<div class=\"alert alert-block alert-warning\">\n",
    "\n",
    "**⚠️ Warning: QPU Time Consumption**\n",
    "\n",
    "Running the cell below will submit a job to a QPU and consume real QPU time. Please ensure you intend to proceed.\n",
    "\n",
    "**Estimated QPU runtime:** 7 minutes 1 seconds (based on tests on `ibm_brussles`)\n",
    "\n",
    "</div>"
   ]
  },
  {
   "cell_type": "code",
   "execution_count": null,
   "id": "a467d61c",
   "metadata": {},
   "outputs": [],
   "source": [
    "# Run the optimizer\n",
    "\n",
    "# ---- TODO : Task 10 ---\n",
    "job = \n",
    "job_id = \n",
    "# --- End of TODO ---\n",
    "\n",
    "print(f\"Job ID: {job_id}\")"
   ]
  },
  {
   "cell_type": "code",
   "execution_count": null,
   "id": "61c123fd",
   "metadata": {},
   "outputs": [],
   "source": [
    "# Load the job from the job ID \n",
    "# job = catalog.job(job_id)\n",
    "\n",
    "while True:\n",
    "    print(f\"Waiting for job {job_id} to complete... (status: {job.status()})\",  end='\\r', flush=True)\n",
    "    if job.status() in ['DONE', 'CANCELED', 'ERROR']:\n",
    "        print(f\"Job {job_id} completed with status: {job.status()}\")\n",
    "        break\n",
    "    time.sleep(30)"
   ]
  },
  {
   "cell_type": "code",
   "execution_count": null,
   "id": "d955c137",
   "metadata": {},
   "outputs": [],
   "source": [
    "cost = job.result()[\"solution_info\"][\"cost\"]\n",
    "print(\"Obtained best cost:\", cost)"
   ]
  },
  {
   "cell_type": "markdown",
   "id": "5385294b",
   "metadata": {},
   "source": [
    "How do your results compare to this small benchmark? Add a new column with your results! The obtained results depend on the Hardware used. Here we also include our internal test on different IBM devices, compared to the ones from Table 4 from the reference paper. \n",
    "\n",
    "|  | Reference | Iskay (IBM Torino) | Iskay (IBM Fez) | Iskay (IBM Marrakesh) | Quantum Annealing | QAOA | Iskay (QGSS lab)\n",
    "|----------|----------|----------|----------|----------|----------|----------|----------|\n",
    "| Energy   |  -198    |  -194    | -196     | -198     | -194     | -128     |  Your result here    | \n"
   ]
  },
  {
   "cell_type": "markdown",
   "id": "e46819e8",
   "metadata": {},
   "source": [
    "<a id=\"conclusion\"></a>\n",
    "\n",
    "# 4. Concluding remarks\n",
    "\n",
    "Congratulations that you have made it to this point of the lab. \n",
    "\n",
    "We have learned how to use Iskay Optimizer at the basic level and even tackle slightly challenging problems. Iskay optimizer is based on BF-DCQO, which is an algorithm developed by Kipu Quantum to tackle unconstrained binary optimization problems. This algortihm has been fine tuned as a problem- and hardware- specific method, such that it has shown evidence of [runtime advantage](https://arxiv.org/abs/2505.08663) with respect to specific classical solvers. Additionally, it has been [tested on all-to-all](https://arxiv.org/abs/2506.07866) connected quantum devices as well as [combined with analog devices](https://arxiv.org/abs/2506.20655), such as quantum annealers. As next steps, we encourage you to test other types of problems and give us feedback through Discord."
   ]
  },
  {
   "cell_type": "markdown",
   "id": "39cc9c50",
   "metadata": {},
   "source": [
    "# Feedback Survey\n",
    "\n",
    "We’d love to hear about your experience using the Qiskit Function! Your feedback is valuable and will help Qiskit Function providers enhance their tools and services. Please take a moment to share your thoughts by completing our short 2 min [feedback survey](https://airtable.com/app6VujlNUHZuOnAF/pagpw6TgP9UEt4TAT/form)."
   ]
  },
  {
   "cell_type": "markdown",
   "id": "50f67774",
   "metadata": {},
   "source": [
    "# References\n",
    "\n",
    "[1] Cadavid AG, Dalal A, Simen A, Solano E, Hegade NN. Bias-field Digitized Counterdiabatic Quantum Optimization. Phys. Rev. Research <a href=\"https://journals.aps.org/prresearch/abstract/10.1103/PhysRevResearch.7.L022010\">7:L022010</a>. 2025 Apr 9.\n",
    "\n",
    "[2] Romero SV, Visuri AM, Cadavid AG, Solano E, Hegade NN. Bias-Field Digitized Counterdiabatic Quantum Algorithm for Higher-Order Binary Optimization. arXiv preprint <a href=\"https://arxiv.org/abs/2409.04477\">arXiv:2409.04477</a>. 2024 Sep 5.\n",
    "\n",
    "[3] Chandarana P, Cadavid AG, Romero SV, Simen A, Solano E, Hegade NN. Runtime Quantum Advantage with Digital Quantum Optimization. arXiv preprint <a href=\"https://arxiv.org/abs/2505.08663\">arXiv:2505.08663</a>. 2025 May 13.\n",
    "\n",
    "[4] Romero SV, Cadavid AG, Solano E, Hegade NN. Sequential Quantum Computing. arXiv preprint <a href=\"https://arxiv.org/abs/2506.20655\">arXiv:2506.20655</a>. 2025 Jun 25.\n"
   ]
  },
  {
   "cell_type": "markdown",
   "id": "73240d8b",
   "metadata": {},
   "source": [
    "# Additional information\n",
    "\n",
    "**Created by:** Alejandro Gomez Cadavid\n",
    "\n",
    "**Advised by:** Junye Huang\n",
    "\n",
    "**Version:** 1.0.0"
   ]
  },
  {
   "cell_type": "code",
   "execution_count": null,
   "id": "9cbb026b",
   "metadata": {},
   "outputs": [],
   "source": [
    "import qiskit\n",
    "import qiskit_ibm_runtime\n",
    "import qiskit_ibm_catalog\n",
    "\n",
    "print(f'Qiskit: {qiskit.__version__}')\n",
    "print(f'Qiskit IBM Runtime: {qiskit_ibm_runtime.__version__}')\n",
    "print(f'Qiskit IBM Catalog: {qiskit_ibm_catalog.__version__}')"
   ]
  }
 ],
 "metadata": {
  "kernelspec": {
   "display_name": ".venv",
   "language": "python",
   "name": "python3"
  },
  "language_info": {
   "codemirror_mode": {
    "name": "ipython",
    "version": 3
   },
   "file_extension": ".py",
   "mimetype": "text/x-python",
   "name": "python",
   "nbconvert_exporter": "python",
   "pygments_lexer": "ipython3",
   "version": "3.11.0"
  }
 },
 "nbformat": 4,
 "nbformat_minor": 5
}
