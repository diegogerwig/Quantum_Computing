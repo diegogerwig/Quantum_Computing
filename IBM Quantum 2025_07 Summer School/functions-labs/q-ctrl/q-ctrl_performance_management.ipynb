{
 "cells": [
  {
   "cell_type": "markdown",
   "metadata": {},
   "source": [
    "# Lab: Experience Q-CTRL's Performance Management Qiskit Functions!"
   ]
  },
  {
   "cell_type": "markdown",
   "metadata": {},
   "source": [
    "# Table of Contents\n",
    "\n",
    "* [Function description and details](#function-description-and-details)\n",
    "* [Setup](#setup)\n",
    "* [Part 1: Try out the Sampler](#exercise1)\n",
    "* [Part 2: Try out the Estimator](#exercise2)"
   ]
  },
  {
   "cell_type": "markdown",
   "metadata": {},
   "source": [
    "Welcome to Qiskit Global Summer School. We’re delighted that you are interested in using Q-CTRL’s Fire Opal Performance Management Function. <br>\n",
    "\n",
    "[Fire Opal Performance Management](https://docs.quantum.ibm.com/guides/q-ctrl-performance-management) makes it simple for anyone to achieve meaningful results from quantum computers at scale without needing to be quantum hardware experts. When running circuits with Fire Opal Performance Management, AI-driven error suppression techniques are automatically applied, enabling the scaling of larger problems with more gates and qubits. This approach reduces the number of shots required to reach the correct answer, with no added overhead — resulting in significant savings in both compute time and cost. <br>\n",
    "\n",
    "Performance Management suppresses errors and increases the probability of getting the correct answer on noisy hardware. In other words, it increases the signal-to-noise ratio, allowing for faster convergence on the correct result with less shots. By getting the right answer faster, you save significant compute runtime. Learn more [here](https://docs.quantum.ibm.com/guides/q-ctrl-performance-management).\n",
    "<br>"
   ]
  },
  {
   "cell_type": "markdown",
   "metadata": {},
   "source": [
    "<br> <br> <hr/>"
   ]
  },
  {
   "cell_type": "markdown",
   "metadata": {},
   "source": [
    "# Function description and details\n",
    "\n",
    "Fire Opal Performance Management has two options for execution that are similar to the Qiskit Runtime primitives, so you can easily swap in the Q-CTRL Sampler and Estimator. The general workflow for using the Performance Management function is:\n",
    "\n",
    "Define your circuit (and operators in the case of the Estimator).\n",
    "1. Run the circuit.\n",
    "2. Retrieve the results.\n",
    "3. To reduce hardware noise, Fire Opal employs a range of AI-driven error suppression techniques depicted in the following image. With Fire Opal, the entire pipeline is completely automated with zero need for configuration.\n",
    "\n",
    "Fire Opal's pipeline eliminates the need for additional overhead, such as increased quantum runtime or extra physical qubits. Note that classical processing time remains a factor (refer to the [Benchmarks](https://docs.quantum.ibm.com/guides/q-ctrl-performance-management#benchmarks) section for estimates, where \"Total time\" reflects both classical and quantum processing). In contrast to error mitigation, which requires overhead in the form of sampling, Fire Opal's error suppression works at the gate level to address various sources of noise and to prevent the likelihood of an error occurring. By suppressing errors, the need for expensive post-processing is eliminated.\n",
    "\n",
    "The function offers two primitives, Sampler and Estimator, and the inputs and outputs of both extend the implemented spec for [Qiskit Runtime V2 primitives](https://docs.quantum.ibm.com/guides/primitive-input-output). For details on Estimator inputs and outputs, refer to details [here](https://docs.quantum.ibm.com/guides/q-ctrl-performance-management#estimator-inputs). For details on Sampler inputs and outputs, refer to details [here](https://docs.quantum.ibm.com/guides/q-ctrl-performance-management#sampler-inputss). <br>\n",
    "\n",
    "For details on the full Performance Management pipeline, refer to the [published paper](https://journals.aps.org/prapplied/abstract/10.1103/PhysRevApplied.20.024034). <br>\n",
    "\n",
    "For details on benchmarks, refer to details [here](https://docs.quantum.ibm.com/guides/q-ctrl-performance-management#benchmarks). <br>\n",
    "\n",
    "Additional details in [Q-CTRL's Performance Management Qiskit Functions documentation](https://docs.quantum.ibm.com/guides/q-ctrl-performance-management#benchmarks)<br> <br> "
   ]
  },
  {
   "cell_type": "markdown",
   "metadata": {},
   "source": [
    "<br> <br> <hr/>"
   ]
  },
  {
   "cell_type": "markdown",
   "metadata": {},
   "source": [
    "# Setup"
   ]
  },
  {
   "cell_type": "markdown",
   "metadata": {},
   "source": [
    "<div class=\"alert alert-block alert-warning\">\n",
    "\n",
    "**Use Qiskit v1.4.3**\n",
    "\n",
    "Q-CTRL Performance Management function currently only supports Qiskit version up to Qiskit `1.4.3`. If you are using Qiskit v2, please downgrade to `1.4.3` or create a fresh Python environment and install Qiskit `1.4.3`. Support for Qiskit v2 will be added after Qiskit Global Summer School.\n",
    "\n",
    "</div>"
   ]
  },
  {
   "cell_type": "code",
   "execution_count": null,
   "metadata": {},
   "outputs": [],
   "source": [
    "# Install dependencies\n",
    "%pip install --force-reinstall \"qiskit[visualization]\"~=1.4.3 qiskit-aer qiskit-ibm-catalog qiskit-ibm-runtime"
   ]
  },
  {
   "cell_type": "code",
   "execution_count": null,
   "metadata": {},
   "outputs": [],
   "source": [
    "# Verify that Qiskit version is 1.4.3\n",
    "\n",
    "import qiskit\n",
    "\n",
    "qiskit.__version__"
   ]
  },
  {
   "cell_type": "code",
   "execution_count": null,
   "metadata": {},
   "outputs": [],
   "source": [
    "# Imports\n",
    "\n",
    "# Import common packages first\n",
    "import numpy as np\n",
    "import matplotlib.pyplot as plt\n",
    "\n",
    "# Import qiskit classes\n",
    "from qiskit import QuantumCircuit\n",
    "from qiskit.circuit.library import iqp\n",
    "from qiskit.quantum_info import random_hermitian, SparsePauliOp\n",
    "from qiskit.transpiler.preset_passmanagers import generate_preset_pass_manager\n",
    "\n",
    "# Import qiskit ecosystems\n",
    "from qiskit_ibm_catalog import QiskitFunctionsCatalog\n",
    "from qiskit_ibm_runtime import SamplerV2 as Sampler\n",
    "from qiskit_ibm_runtime import QiskitRuntimeService\n",
    "\n",
    "\n",
    "# Grader\n",
    "from grader import grade_ex1, grade_ex2"
   ]
  },
  {
   "cell_type": "markdown",
   "metadata": {},
   "source": [
    "<div class=\"alert alert-block alert-warning\">\n",
    "\n",
    "**Exclusive Access to Qiskit Functions**\n",
    "\n",
    "As part of Qiskit Global Summer School (QGSS), participants with a Premium or Flex Plan have limited-time trial access to Qiskit Functions. Access is exclusive and subject to your organization’s administrator approval. Complete [this form](https://airtable.com/appj8IrSNZGz4l4BB/pag8WgWdUr5uSJGZA/form) to request access.\n",
    "\n",
    "If you encounter the error `QiskitServerlessException: Credentials couldn't be verified`. in the cell below, it means your access to Qiskit Functions is not yet active. Please check back later after your request has been processed.\n",
    "\n",
    "**Note: Running this lab will consume QPU time from your organization’s account. Estimated QPU usage is provided before each cell that executes on a QPU. Please monitor your usage and consult your organization admin if you’re unsure about your allocated QPU time for QGSS Functions labs.**\n",
    "\n",
    "</div>"
   ]
  },
  {
   "cell_type": "code",
   "execution_count": null,
   "metadata": {},
   "outputs": [],
   "source": [
    "# Load the Qiskit Functions Catalog\n",
    "your_api_key = \"deleteThisAndPasteYourAPIKeyHere\"\n",
    "your_crn = \"deleteThisAndPasteYourCRNHere\"\n",
    "\n",
    "catalog = QiskitFunctionsCatalog(\n",
    "    channel=\"ibm_quantum_platform\",\n",
    "    token=your_api_key,\n",
    "    instance=your_crn,\n",
    ")\n",
    "# You should see a list of Qiskit Functions available to you\n",
    "# If you encounter the error `QiskitServerlessException: Credentials couldn't be verified`,\n",
    "# it means your access is not yet active\n",
    "catalog.list()"
   ]
  },
  {
   "cell_type": "code",
   "execution_count": null,
   "metadata": {},
   "outputs": [],
   "source": [
    "# Load and access Q-CTRL Performance Management function\n",
    "perf_mgmt = catalog.load(\"q-ctrl/performance-management\")"
   ]
  },
  {
   "cell_type": "markdown",
   "metadata": {},
   "source": [
    "<br> <br> <hr/>"
   ]
  },
  {
   "cell_type": "markdown",
   "metadata": {},
   "source": [
    "<a id=\"exercise1\"></a>\n",
    "<div class=\"alert alert-block alert-success\">\n",
    "\n",
    "<b> Exercise 1: Try out Sampler primitive.</b>\n",
    "\n",
    "</div>"
   ]
  },
  {
   "cell_type": "markdown",
   "metadata": {},
   "source": [
    "Use Fire Opal Performance Management's Sampler primitive to run a Bernstein–Vazirani circuit. This algorithm, used to find a hidden string from the outputs of a black box function, is a common benchmarking algorithm because there is a single correct answer."
   ]
  },
  {
   "cell_type": "markdown",
   "metadata": {},
   "source": [
    "#### 1. Create the circuit"
   ]
  },
  {
   "cell_type": "markdown",
   "metadata": {},
   "source": [
    "<b>Getting the best results:</b> \n",
    "\n",
    "Quantum hardware performance can vary due to device fluctuations and architecture. To maximize your experience in this exercise:\n",
    "* **Start small**: Try ~20 qubits to explore Fire Opal's capabilities\n",
    "* **Scale thoughtfully**: Larger circuits (30+ qubits) may require 10k+ shots for greater reliability\n",
    "* **Device matters**: Performance may differ by device. The latest Heron devices often provide greater stability and accuracy.\n",
    "\n",
    "Check our [benchmarks](https://docs.quantum.ibm.com/guides/q-ctrl-performance-management#benchmarks) for detailed performance guidance."
   ]
  },
  {
   "cell_type": "markdown",
   "metadata": {},
   "source": [
    "<a id=\"exercise2\"></a>\n",
    "<div class=\"alert alert-block alert-warning\">\n",
    "\n",
    "Note: The Q-CTRL Performance Management function accepts abstract circuits, in contrast to the native Qiskit Runtime primitives, which only accept circuits that are written in the target backend’s Instruction Set Architecture (ISA). For best results, circuits should *not* be transpiled before submitting via the Performance Management function.\n",
    "\n",
    "</div>"
   ]
  },
  {
   "cell_type": "code",
   "execution_count": null,
   "metadata": {},
   "outputs": [],
   "source": [
    "# ---- TODO: Exercise 1.1 ----\n",
    "\n",
    "circuit_width =\n",
    "hidden_bitstring =\n",
    "shot_count =\n",
    "\n",
    "# ---- End of TODO ----"
   ]
  },
  {
   "cell_type": "code",
   "execution_count": null,
   "metadata": {},
   "outputs": [],
   "source": [
    "# Create Bernstein-Vazirani (BV) circuit and Sampler PUB\n",
    "\n",
    "# Create circuit, reserving one ancilla qubit for BV oracle\n",
    "bv_circuit = QuantumCircuit(circuit_width + 1, circuit_width)\n",
    "bv_circuit.x(circuit_width)\n",
    "bv_circuit.h(range(circuit_width + 1))\n",
    "for input_qubit, bit in enumerate(reversed(hidden_bitstring)):\n",
    "    if bit == \"1\":\n",
    "        bv_circuit.cx(input_qubit, circuit_width)\n",
    "bv_circuit.barrier()\n",
    "bv_circuit.h(range(circuit_width + 1))\n",
    "bv_circuit.barrier()\n",
    "for input_qubit in range(circuit_width):\n",
    "    bv_circuit.measure(input_qubit, input_qubit)\n",
    "\n",
    "# Create PUB tuple\n",
    "sampler_pubs = [(bv_circuit,)]"
   ]
  },
  {
   "cell_type": "markdown",
   "metadata": {},
   "source": [
    "Now try it out yourself in real-time by running the circuit in the below steps!"
   ]
  },
  {
   "cell_type": "markdown",
   "metadata": {},
   "source": [
    "#### 2. Run the circuit\n",
    "Run the circuit and optionally define the backend and number of shots."
   ]
  },
  {
   "cell_type": "code",
   "execution_count": null,
   "metadata": {},
   "outputs": [],
   "source": [
    "# ---- TODO: Exercise 1.2 ----\n",
    "backend_name = \"<YOUR_BACKEND_NAME>\"\n",
    "\n",
    "options_ex1 = {\n",
    "    'primitive': ,\n",
    "    'pubs': ,\n",
    "    'backend_name': backend_name,\n",
    "    'options': ,\n",
    "}\n",
    "\n",
    "# ---- End of TODO ----"
   ]
  },
  {
   "cell_type": "code",
   "execution_count": null,
   "metadata": {},
   "outputs": [],
   "source": [
    "# Check your answer using following code\n",
    "grade_ex1(circuit_width, hidden_bitstring, shot_count, options_ex1)"
   ]
  },
  {
   "cell_type": "markdown",
   "metadata": {},
   "source": [
    "<div class=\"alert alert-block alert-warning\">\n",
    "\n",
    "**⚠️ Warning: QPU Time Consumption**\n",
    "\n",
    "Running the cell below will submit a job to a QPU and consume real QPU time. Please ensure you intend to proceed.\n",
    "\n",
    "**Estimated QPU runtime:** 15 seconds (based on tests on `ibm_fez`)\n",
    "\n",
    "</div>"
   ]
  },
  {
   "cell_type": "code",
   "execution_count": null,
   "metadata": {},
   "outputs": [],
   "source": [
    "# Run the circuit using the sampler\n",
    "\n",
    "qctrl_sampler_job = perf_mgmt.run(**options_ex1)"
   ]
  },
  {
   "cell_type": "markdown",
   "metadata": {},
   "source": [
    "<a id=\"tips\"></a>\n",
    "<div class=\"alert alert-block alert-info\">\n",
    "    \n",
    "<b> Tips:</b> \n",
    "\n",
    "* Check your Qiskit Function workload's [status](https://quantum.cloud.ibm.com/docs/en/guides/functions#check-job-status) or return [results](https://quantum.cloud.ibm.com/docs/en/guides/functions#retrieve-results) with: `qctrl_sampler_job.status()`\n",
    "    \n",
    "</div>"
   ]
  },
  {
   "cell_type": "code",
   "execution_count": null,
   "metadata": {},
   "outputs": [],
   "source": [
    "qctrl_sampler_job.status()"
   ]
  },
  {
   "cell_type": "markdown",
   "metadata": {},
   "source": [
    "#### 3. Retrieve the result"
   ]
  },
  {
   "cell_type": "code",
   "execution_count": null,
   "metadata": {},
   "outputs": [],
   "source": [
    "# Retrieve the job results\n",
    "sampler_result = qctrl_sampler_job.result()"
   ]
  },
  {
   "cell_type": "code",
   "execution_count": null,
   "metadata": {},
   "outputs": [],
   "source": [
    "# Get results for the first (and only) PUB\n",
    "pub_result = sampler_result[0]\n",
    "counts = pub_result.data.c.get_counts()\n",
    "\n",
    "print(f\"Counts for the meas output register: {counts}\")\n",
    "\n",
    "if hidden_bitstring not in counts:\n",
    "    print(\"The hidden_bitstring has 0% probability.\")\n",
    "else:\n",
    "    print(\n",
    "        f\"Success probability: {(100 * counts.get(hidden_bitstring, 0) / shot_count):.2f}%\"\n",
    "    )"
   ]
  },
  {
   "cell_type": "markdown",
   "metadata": {},
   "source": [
    "(Optional) Plot the bitstring with the highest counts to see if the hidden bitstring was the mode."
   ]
  },
  {
   "cell_type": "code",
   "execution_count": null,
   "metadata": {},
   "outputs": [],
   "source": [
    "def plot_top_bitstrings(counts_dict, hidden_bitstring=None):\n",
    "    # Sort and take the top 100 bitstrings\n",
    "    top_100 = sorted(counts_dict.items(), key=lambda x: x[1], reverse=True)[\n",
    "        :100\n",
    "    ]\n",
    "    if not top_100:\n",
    "        print(\"No bitstrings found in the input dictionary.\")\n",
    "        return\n",
    "\n",
    "    # Unzip the bitstrings and their counts\n",
    "    bitstrings, counts = zip(*top_100)\n",
    "\n",
    "    # Assign colors: purple if the bitstring matches hidden_bitstring, otherwise gray\n",
    "    colors = [\n",
    "        \"#680CE9\" if bit == hidden_bitstring else \"gray\" for bit in bitstrings\n",
    "    ]\n",
    "\n",
    "    # Create the bar plot\n",
    "    plt.figure(figsize=(15, 8))\n",
    "    plt.bar(\n",
    "        range(len(bitstrings)), counts, tick_label=bitstrings, color=colors\n",
    "    )\n",
    "\n",
    "    # Rotate the bitstrings for better readability\n",
    "    plt.xticks(rotation=90, fontsize=8)\n",
    "    plt.xlabel(\"Bitstrings\")\n",
    "    plt.ylabel(\"Counts\")\n",
    "    plt.title(\"Top 100 Bitstrings by Counts\")\n",
    "\n",
    "    # Show the plot\n",
    "    plt.tight_layout()\n",
    "    plt.show()"
   ]
  },
  {
   "cell_type": "markdown",
   "metadata": {},
   "source": [
    "The hidden bitstring is highlighted in purple, and it should be the bitstring with the highest number of counts."
   ]
  },
  {
   "cell_type": "code",
   "execution_count": null,
   "metadata": {},
   "outputs": [],
   "source": [
    "plot_top_bitstrings(counts, hidden_bitstring)"
   ]
  },
  {
   "cell_type": "markdown",
   "metadata": {},
   "source": [
    "#### Optional: Compare Fire Opal to IBM Qiskit Runtime"
   ]
  },
  {
   "cell_type": "markdown",
   "metadata": {},
   "source": [
    "If you are seeking a comparison, you may run the same program using Qiskit, without realizing the error suppression benefits Fire Opal includes. The code below uses Qiskit on the same IBM backend as previously to obtain this one-to-one comparison. Note that this job too is subject to the device queue and therefore may take anywhere from seconds to potentially hours."
   ]
  },
  {
   "cell_type": "code",
   "execution_count": null,
   "metadata": {},
   "outputs": [],
   "source": [
    "service = QiskitRuntimeService(\n",
    "    channel=\"ibm_quantum_platform\",\n",
    "    token=your_api_key,\n",
    "    instance=your_crn,\n",
    ")\n",
    "backend = service.backend(backend_name)\n",
    "sampler = Sampler(backend)\n",
    "\n",
    "pass_manager = generate_preset_pass_manager(backend=backend)\n",
    "isa_circuit = pass_manager.run(bv_circuit)"
   ]
  },
  {
   "cell_type": "code",
   "execution_count": null,
   "metadata": {},
   "outputs": [],
   "source": [
    "ibm_sampler_job = sampler.run([isa_circuit], shots=shot_count)"
   ]
  },
  {
   "cell_type": "markdown",
   "metadata": {},
   "source": [
    "<a id=\"tips\"></a>\n",
    "<div class=\"alert alert-block alert-info\">\n",
    "    \n",
    "<b> Tips:</b> \n",
    "\n",
    "* Check your IBM job's [status](https://quantum.cloud.ibm.com/docs/en/guides/monitor-job#monitor-a-job) or return [results](https://quantum.cloud.ibm.com/docs/en/guides/monitor-job#monitor-a-job) with: `ibm_sampler_job.status()`\n",
    "    \n",
    "</div>"
   ]
  },
  {
   "cell_type": "code",
   "execution_count": null,
   "metadata": {},
   "outputs": [],
   "source": [
    "# Retrieve the job results\n",
    "ibm_sampler_result = ibm_sampler_job.result()"
   ]
  },
  {
   "cell_type": "code",
   "execution_count": null,
   "metadata": {},
   "outputs": [],
   "source": [
    "# Get results for the first (and only) PUB\n",
    "ibm_pub_result = ibm_sampler_result[0]\n",
    "ibm_counts = ibm_pub_result.data.c.get_counts()\n",
    "\n",
    "if hidden_bitstring not in ibm_counts:\n",
    "    print(\"The hidden_bitstring has 0% probability.\")\n",
    "else:\n",
    "    print(\n",
    "        f\"Success probability: {(100 * ibm_counts.get(hidden_bitstring, 0) / shot_count):.2f}%\"\n",
    "    )"
   ]
  },
  {
   "cell_type": "code",
   "execution_count": null,
   "metadata": {},
   "outputs": [],
   "source": [
    "# Plot the top bitstrings for comparison\n",
    "plot_top_bitstrings(ibm_counts, hidden_bitstring)"
   ]
  },
  {
   "cell_type": "markdown",
   "metadata": {},
   "source": [
    "<a id=\"exercise2\"></a>\n",
    "<div class=\"alert alert-block alert-success\">\n",
    "\n",
    "<b> Exercise 2: Try out Estimator primitive.</b>\n",
    "\n",
    "</div>"
   ]
  },
  {
   "cell_type": "markdown",
   "metadata": {},
   "source": [
    "Use Fire Opal Performance Management's Estimator primitive to determine the expectation value of a single circuit-observable pair.\n",
    "\n",
    "In addition to the `qiskit-ibm-catalog` and `qiskit` packages, you will also use the numpy package to run this example. You can install this package by uncommenting the following cell if you are running this example in a notebook using the IPython kernel."
   ]
  },
  {
   "cell_type": "markdown",
   "metadata": {},
   "source": [
    "#### 1. Create the circuit\n",
    "\n",
    "The Estimator has efficient grouping of observables - it tries to minimize the number of circuits sent for execution, by grouping qubit-wise commuting observables together.\n",
    "\n",
    "Commuting observables are quantum operators (represented here as Pauli strings) that can be measured together because the order in which you apply them doesn’t matter - their measurements don’t interfere with each other. Mathematically, two observables `A` and `B` commute if `AB = BA`.\n",
    "\n",
    "For example, the Pauli operators \"Z\" and \"I\" commute, so observables like \"ZIII\" and \"IZIZ\" commute with each other. This property allows quantum algorithms to group and measure them efficiently in a single circuit.\n",
    "\n",
    "In the below exercise, try creating a circuit with `n_qubits`, and create a set of commuting observables using `SparsePauliOp`."
   ]
  },
  {
   "cell_type": "code",
   "execution_count": null,
   "metadata": {},
   "outputs": [],
   "source": [
    "# ---- TODO: Exercise 2.1 ----\n",
    "\n",
    "n_qubits =\n",
    "seed =\n",
    "observable =\n",
    "\n",
    "# ---- End of TODO ----"
   ]
  },
  {
   "cell_type": "code",
   "execution_count": null,
   "metadata": {},
   "outputs": [],
   "source": [
    "# Create the estimator circuit and estimator PUB\n",
    "\n",
    "mat = np.real(random_hermitian(n_qubits, seed=seed))\n",
    "circuit = iqp(mat)\n",
    "\n",
    "# Create PUB tuple\n",
    "estimator_pubs = [(circuit, observable)]"
   ]
  },
  {
   "cell_type": "markdown",
   "metadata": {},
   "source": [
    "Now try it out yourself in real-time by running the circuit in the below steps!"
   ]
  },
  {
   "cell_type": "markdown",
   "metadata": {},
   "source": [
    "#### 2. Run the circuit\n",
    "Run the circuit and optionally define the backend and number of shots."
   ]
  },
  {
   "cell_type": "code",
   "execution_count": null,
   "metadata": {},
   "outputs": [],
   "source": [
    "# ---- TODO: Exercise 2.2 ----\n",
    "# Create options for the Estimator function\n",
    "\n",
    "options_ex2 = {\n",
    "    'primitive': ,\n",
    "    'pubs': ,\n",
    "    'backend_name': ,\n",
    "}\n",
    "\n",
    "# ---- End of TODO ---"
   ]
  },
  {
   "cell_type": "code",
   "execution_count": null,
   "metadata": {},
   "outputs": [],
   "source": [
    "# Check your answer using following code\n",
    "grade_ex2(n_qubits, observable, options_ex2)"
   ]
  },
  {
   "cell_type": "markdown",
   "metadata": {},
   "source": [
    "<div class=\"alert alert-block alert-warning\">\n",
    "\n",
    "**⚠️ Warning: QPU Time Consumption**\n",
    "\n",
    "Running the cell below will submit a job to a QPU and consume real QPU time. Please ensure you intend to proceed.\n",
    "\n",
    "**Estimated QPU runtime:** 17 seconds (based on tests on `ibm_fez`)\n",
    "\n",
    "</div>"
   ]
  },
  {
   "cell_type": "code",
   "execution_count": null,
   "metadata": {},
   "outputs": [],
   "source": [
    "# Run the circuit using the estimator\n",
    "\n",
    "qctrl_estimator_job = perf_mgmt.run(**options_ex2)"
   ]
  },
  {
   "cell_type": "markdown",
   "metadata": {},
   "source": [
    "<a id=\"tips\"></a>\n",
    "<div class=\"alert alert-block alert-info\">\n",
    "    \n",
    "<b> Tips:</b> \n",
    "\n",
    "* Check your Qiskit Function workload's [status](https://quantum.cloud.ibm.com/docs/en/guides/functions#check-job-status) or return [results](https://quantum.cloud.ibm.com/docs/en/guides/functions#retrieve-results) with: `qctrl_estimator_job.status()`\n",
    "    \n",
    "</div>"
   ]
  },
  {
   "cell_type": "code",
   "execution_count": null,
   "metadata": {},
   "outputs": [],
   "source": [
    "qctrl_estimator_job.status()"
   ]
  },
  {
   "cell_type": "markdown",
   "metadata": {},
   "source": [
    "#### 3. Retrieve the result"
   ]
  },
  {
   "cell_type": "code",
   "execution_count": null,
   "metadata": {},
   "outputs": [],
   "source": [
    "# Retrieve the counts from the result list\n",
    "result = qctrl_estimator_job.result()"
   ]
  },
  {
   "cell_type": "markdown",
   "metadata": {},
   "source": [
    "The results have the same format as an [Estimator result](https://docs.quantum.ibm.com/guides/primitive-input-output#estimator-output):"
   ]
  },
  {
   "cell_type": "code",
   "execution_count": null,
   "metadata": {},
   "outputs": [],
   "source": [
    "print(\n",
    "    f\"The result of the submitted job had {len(result)} PUB and has a value:\\n {result}\\n\"\n",
    ")\n",
    "print(\n",
    "    f\"The associated PubResult of this job has the following DataBins:\\n {result[0].data}\\n\"\n",
    ")\n",
    "print(f\"And this DataBin has attributes: {result[0].data.keys()}\")\n",
    "print(\n",
    "    f\"The expectation values measured from this PUB are: \\n{result[0].data.evs}\"\n",
    ")"
   ]
  },
  {
   "cell_type": "markdown",
   "metadata": {},
   "source": [
    "<br> <br> <hr/>"
   ]
  },
  {
   "cell_type": "markdown",
   "metadata": {},
   "source": [
    "# Feedback Survey\n",
    "\n",
    "We’d love to hear about your experience using the Qiskit Function! Your feedback is valuable and will help Qiskit Function providers enhance their tools and services. Please take a moment to share your thoughts by completing our short 2 min [feedback survey](https://airtable.com/app6VujlNUHZuOnAF/pagpw6TgP9UEt4TAT/form)."
   ]
  },
  {
   "cell_type": "markdown",
   "metadata": {},
   "source": [
    "# Get support\n",
    "For any questions or issues, contact the Q-CTRL team at [support@q-ctrl.com](mailto:support@q-ctrl.com?subject=QGSS:%20requesting%20support)."
   ]
  },
  {
   "cell_type": "markdown",
   "metadata": {},
   "source": [
    "# References\n",
    "\n",
    "1. Learn more with [Q-CTRL's Performance Management function documentation](https://docs.quantum.ibm.com/guides/q-ctrl-performance-management)\n",
    "2. For a detailed summary of the full Optimization Solver workflow, refer to the [published paper](https://journals.aps.org/prapplied/abstract/10.1103/PhysRevApplied.20.024034).\n",
    "3. Learn more about the underlying technology at [Q-CTRL Fire Opal](https://q-ctrl.com/fire-opal)."
   ]
  },
  {
   "cell_type": "markdown",
   "metadata": {},
   "source": [
    "# Additional information\n",
    "\n",
    "**Created by:** Alex Shih, You Quan Chong\n",
    "\n",
    "**Advised by:** Junye Huang\n",
    "\n",
    "**Version:** 1.0.0"
   ]
  },
  {
   "cell_type": "markdown",
   "metadata": {},
   "source": [
    "# Qiskit packages versions"
   ]
  },
  {
   "cell_type": "code",
   "execution_count": null,
   "metadata": {},
   "outputs": [],
   "source": [
    "import qiskit\n",
    "import qiskit_ibm_catalog\n",
    "\n",
    "print(f'Qiskit: {qiskit.__version__}')\n",
    "print(f'Qiskit IBM Catalog: {qiskit_ibm_catalog.__version__}')"
   ]
  }
 ],
 "metadata": {
  "kernelspec": {
   "display_name": "Python 3 (ipykernel)",
   "language": "python",
   "name": "python3"
  },
  "language_info": {
   "codemirror_mode": {
    "name": "ipython",
    "version": 3
   },
   "file_extension": ".py",
   "mimetype": "text/x-python",
   "name": "python",
   "nbconvert_exporter": "python",
   "pygments_lexer": "ipython3",
   "version": "3.10.9"
  }
 },
 "nbformat": 4,
 "nbformat_minor": 4
}
