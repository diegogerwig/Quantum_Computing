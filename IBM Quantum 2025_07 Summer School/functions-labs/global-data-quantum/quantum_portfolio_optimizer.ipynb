{
 "cells": [
  {
   "cell_type": "markdown",
   "metadata": {},
   "source": [
    "# Optimize a portfolio with the Quantum Portfolio Optimizer Qiskit function"
   ]
  },
  {
   "cell_type": "markdown",
   "metadata": {},
   "source": [
    "This exercise demonstrates how to use Qiskit’s quantum portfolio optimizer function to solve financial portfolio optimization problems. We show how to formulate and solve dynamic portfolio optimization problems in a simple and accessible way, making it suitable for execution on a quantum computer or simulator with no quantum computing expertise required. The objective is to illustrate how quantum algorithms apply to real-world financial problems using intuitive tools and workflows provided by Qiskit.\n",
    "\n",
    "In this exercise, we also show how to fine-tune the quantum portfolio optimizer settings. Although this fine-tuning is not necessary for basic usage, these advanced options provide insights into how experienced users can leverage quantum computing to improve efficiency and accuracy. For further details, consult the [documentation](https://docs.quantum.ibm.com/guides/global-data-quantum-optimizer) of the global data quantum portfolio optimizer.\n"
   ]
  },
  {
   "cell_type": "markdown",
   "metadata": {},
   "source": [
    "## Table of Contents\n",
    "\n",
    "- [Function Description](#function-description)\n",
    "- [DPO Job Execution Example](#dpo-job-execution-example)\n",
    "- [Exercise 1: DPO Job Execution](#exercise-1-dpo-job-execution)\n",
    "- [Exercise 2: Resuming Job Execution](#exercise-2-resuming-job-execution)\n"
   ]
  },
  {
   "cell_type": "markdown",
   "metadata": {},
   "source": [
    "## Setup"
   ]
  },
  {
   "cell_type": "code",
   "execution_count": null,
   "metadata": {},
   "outputs": [],
   "source": [
    "# Install dependencies\n",
    "%pip install \"qiskit[visualization]\"~=2.1.0 qiskit-serverless~=0.24.0 qiskit-ibm-catalog~=0.8.0 yfinance==0.2.60 pandas==2.1.4"
   ]
  },
  {
   "cell_type": "code",
   "execution_count": null,
   "metadata": {},
   "outputs": [],
   "source": [
    "# Imports\n",
    "import yfinance as yf\n",
    "import pandas as pd\n",
    "from qiskit_ibm_catalog import QiskitFunctionsCatalog\n",
    "from grader import grade_ex1a, grade_ex1b, grade_ex2"
   ]
  },
  {
   "cell_type": "markdown",
   "metadata": {},
   "source": [
    "<div class=\"alert alert-block alert-warning\">\n",
    "\n",
    "**Exclusive Access to Qiskit Functions**\n",
    "\n",
    "As part of Qiskit Global Summer School (QGSS), participants with a Premium or Flex Plan have limited-time trial access to Qiskit Functions. Access is exclusive and subject to your organization’s administrator approval. Complete [this form](https://airtable.com/appj8IrSNZGz4l4BB/pag8WgWdUr5uSJGZA/form) to request access.\n",
    "\n",
    "If you encounter the error `QiskitServerlessException: Credentials couldn't be verified`. in the cell below, it means your access to Qiskit Functions is not yet active. Please check back later after your request has been processed.\n",
    "\n",
    "**Note: Running this lab will consume QPU time from your organization’s account. Estimated QPU usage is provided before each cell that executes on a QPU. Please monitor your usage and consult your organization admin if you’re unsure about your allocated QPU time for QGSS Functions labs.**\n",
    "\n",
    "</div>"
   ]
  },
  {
   "cell_type": "code",
   "execution_count": null,
   "metadata": {},
   "outputs": [],
   "source": [
    "# Load the Qiskit Functions Catalog\n",
    "your_api_key = \"deleteThisAndPasteYourAPIKeyHere\"\n",
    "your_crn = \"deleteThisAndPasteYourCRNHere\"\n",
    "\n",
    "catalog = QiskitFunctionsCatalog(\n",
    "    channel=\"ibm_quantum_platform\",\n",
    "    token=your_api_key,\n",
    "    instance=your_crn,\n",
    ")\n",
    "# You should see a list of Qiskit Functions available to you\n",
    "# If you encounter the error `QiskitServerlessException: Credentials couldn't be verified`,\n",
    "# it means your access is not yet active\n",
    "catalog.list()"
   ]
  },
  {
   "cell_type": "code",
   "execution_count": null,
   "metadata": {},
   "outputs": [],
   "source": [
    "# Load Global Data Quantum Quantum Portfolio Optimizer function\n",
    "dpo_solver = catalog.load(\"global-data-quantum/quantum-portfolio-optimizer\")"
   ]
  },
  {
   "cell_type": "markdown",
   "metadata": {},
   "source": [
    "## Function Description"
   ]
  },
  {
   "cell_type": "markdown",
   "metadata": {},
   "source": [
    "The dynamic portfolio optimization problem involves determining the optimal investment strategy over multiple time periods in order to maximize the expected return of the portfolio and minimize risks, often under certain constraints such as transaction costs, or risk aversion. Unlike standard portfolio optimization, which considers a single time to rebalance the portfolio, the dynamic version accounts for the evolving nature of assets and rebalance the investment based on changes in asset performance over time.\n",
    "\n",
    "To solve the dynamic portfolio optimization problem, we formulate it as a QUBO (Quadratic Unconstrained Binary Optimization) problem. In this approach, the variables are discretized based on the number of assets in the portfolio, the number of time steps considered, and the number of resolution bits used to define the investment strategy.\n",
    "\n",
    "Following the formulation described in our [manuscript](https://arxiv.org/pdf/2412.19150), the QUBO problem is framed as a multi-objective optimization task, aiming to maximize the expected return, minimize risks, and reduce transaction costs (expenses associated with changing positions over time). Additionally, we introduce a penalty term to enforce the maximum investment per asset.\n",
    "\n",
    "The final goal is to obtain a binary string as a solution, indicating how much to invest in each asset at each point in time. To illustrate this, consider a simplified case with 3 assets and 3 time steps. \n",
    "\n",
    "| Date       | META (%) | AAPL (%) | GOOGL (%) |\n",
    "|------------|----------|----------|------------|\n",
    "| 2024-07-01 | 16.67    | 50.00    | 33.33      |\n",
    "| 2024-08-01 | 50.00    | 50.00    | 0.00       |\n",
    "| 2024-09-01 | 42.86    | 42.86    | 14.29      |\n",
    "\n"
   ]
  },
  {
   "cell_type": "markdown",
   "metadata": {},
   "source": [
    "## DPO Job Execution Example"
   ]
  },
  {
   "cell_type": "markdown",
   "metadata": {},
   "source": [
    "In the cells below, we show how to solve a dynamic portfolio optimization problem using the quantum portfolio optimizer Qiskit Function. Specifically, we model and solve a three-period portfolio allocation problem involving three financial assets. The optimization can be performed using a binary encoding with a resolution of two bits, providing a simple yet insightful framework to understand how to leverage the capabilities of a quantum investment portfolio optimizer. This exercise is designed to introduce key concepts in quantum finance while leveraging Qiskit’s functions for implementing quantum algorithms in a practical financial context."
   ]
  },
  {
   "cell_type": "markdown",
   "metadata": {},
   "source": [
    "First, we have to load the historical data of the assets. For this example, we  build our portfolio using three major technology companies: Meta Platforms Inc. (ticker: META), Apple Inc. (ticker: AAPL), and Alphabet Inc. (ticker: GOOGL). These assets serve as the basis for constructing and optimizing our portfolio over three time periods."
   ]
  },
  {
   "cell_type": "markdown",
   "metadata": {},
   "source": [
    "To work with the data effectively, it must be structured as a JSON object that maps each asset's ticker symbol to a dictionary of closing prices by date. Each date should follow the YYYY-MM-DD format, and prices can be either normalized or raw. All assets must share the same set of dates to ensure consistency; if any asset is missing data for a given date, the missing value should be filled—typically using forward fill with the last known price.\n",
    "\n",
    "To simplify the process, we use the provided function, which only requires the date range and the list of asset tickers. It automatically downloads the data, aligns the dates, fills missing values, and returns the data in the correct JSON format."
   ]
  },
  {
   "cell_type": "markdown",
   "metadata": {},
   "source": [
    "<a id=\"Example\"></a>\n",
    "<div class=\"alert alert-block alert-success\">\n",
    "\n",
    "<b>Example:</b> Follow the example to learn how to use the tool. It is not necessary to execute it, but doing so can help confirm that everything is correctly configured.\n",
    "\n",
    "</div>\n"
   ]
  },
  {
   "cell_type": "code",
   "execution_count": null,
   "metadata": {},
   "outputs": [],
   "source": [
    "def load_asset_data(symbols, start_date, end_date):\n",
    "    \"\"\"\n",
    "    Downloads and prepares historical close price data for the given list of asset symbols.\n",
    "    Also includes weekends by forward-filling the last known value.\n",
    "\n",
    "    Parameters:\n",
    "    - symbols (list of str): Ticker symbols (e.g., ['META', 'AAPL', 'GOOGL'])\n",
    "    - start_date (str): Start date in 'YYYY-MM-DD' format\n",
    "    - end_date (str): End date in 'YYYY-MM-DD' format\n",
    "\n",
    "    Returns:\n",
    "    - assets (dict): Dictionary representation of the DataFrame with prices per date and symbol\n",
    "    \"\"\"\n",
    "    series_list = []\n",
    "    symbol_names = [symbol.replace(\".\", \"_\") for symbol in symbols]\n",
    "\n",
    "    # Create a full date index including weekends\n",
    "    full_index = pd.date_range(start=start_date, end=end_date, freq='D')\n",
    "\n",
    "    for symbol, name in zip(symbols, symbol_names):\n",
    "        print(f\"Downloading data for {symbol}...\")\n",
    "        data = yf.download(symbol, start=start_date, end=end_date)[\"Close\"]\n",
    "        data.name = name\n",
    "\n",
    "        # Reindex to include weekends\n",
    "        data = data.reindex(full_index)\n",
    "\n",
    "        # Fill missing values (e.g., weekends or holidays) by forward/backward fill\n",
    "        data.ffill(inplace=True)\n",
    "        data.bfill(inplace=True)\n",
    "\n",
    "        series_list.append(data)\n",
    "\n",
    "    # Combine all series into a single DataFrame\n",
    "    df = pd.concat(series_list, axis=1)\n",
    "\n",
    "    # Convert index to string for consistency\n",
    "    df.index = df.index.astype(str)\n",
    "\n",
    "    # Convert DataFrame to dictionary\n",
    "    assets = df.to_dict()\n",
    "    return assets"
   ]
  },
  {
   "cell_type": "markdown",
   "metadata": {},
   "source": [
    "<div class=\"alert alert-block alert-info\">\n",
    "\n",
    "<b>Tip:</b> \n",
    "\n",
    "You can reuse this function to efficiently solve the upcoming exercises.\n",
    "\n",
    "</div>"
   ]
  },
  {
   "cell_type": "markdown",
   "metadata": {},
   "source": [
    "Now it's time to define the date range over which we want to obtain historical data for our assets. To do this, we first need to specify the time window considered in each time step (`dt`). This is important because we need, at a minimum, the closing prices for ``(nt + 1) * dt`` days, where `nt` is the number of time steps in our portfolio optimization problem.\n",
    "\n",
    "The time window (`dt`) we use is one month (30 days). Since our problem has 3 time steps (`nt = 3`), we need data covering 4 months in total. For example, we collect data from July 1, 2022, to November 1, 2022."
   ]
  },
  {
   "cell_type": "code",
   "execution_count": null,
   "metadata": {},
   "outputs": [],
   "source": [
    "# Define the list of asset symbols \n",
    "symbols = [\n",
    "    \"META\", \"AAPL\", \"GOOGL\",    \n",
    "]\n",
    "# Define the start and end dates for the portfolio data\n",
    "start_date = \"2024-07-01\"\n",
    "end_date = \"2024-11-01\"\n",
    "\n",
    "# get the asset data dictionary\n",
    "assets = load_asset_data(symbols, start_date, end_date)"
   ]
  },
  {
   "cell_type": "markdown",
   "metadata": {},
   "source": [
    "Next, we need to define the maximum amount to invest at each time step. Since we are using a 2-bit resolution, the maximum investment amount per time step cannot exceed `(2**(nq) - 1) * n_assets  = 9`. So for this case we fix the maximum amount to 7 (i.e., we allow for a maximum investment per asset of 7/9 ~ 77%)."
   ]
  },
  {
   "cell_type": "code",
   "execution_count": null,
   "metadata": {},
   "outputs": [],
   "source": [
    "# define max investment parameter\n",
    "max_investment = 7"
   ]
  },
  {
   "cell_type": "markdown",
   "metadata": {},
   "source": [
    "Since we use the Differential Evolution algorithm as our classical optimizer, we need to define the number of generations and the population size (number of individuals) for the optimization process.\n",
    "\n",
    "Note that the total amount of circuits is ``(num_generations + 1) * population_size``. In this case, to avoid taking large computation time,  we execute 60 circuits."
   ]
  },
  {
   "cell_type": "code",
   "execution_count": null,
   "metadata": {},
   "outputs": [],
   "source": [
    "# define the number of generations and the population size\n",
    "num_generations = 5\n",
    "population_size = 10"
   ]
  },
  {
   "cell_type": "markdown",
   "metadata": {},
   "source": [
    "Finally, we just need to set all the required parameters and pass them appropriately into the quantum portfolio optimizer function."
   ]
  },
  {
   "cell_type": "code",
   "execution_count": null,
   "metadata": {},
   "outputs": [],
   "source": [
    "nt = 3 # Define the number of time steps\n",
    "nq = 2 # Define the number of resolution bits\n",
    "dt = 30 # Define the time window size\n",
    "\n",
    "max_parallel_jobs = 3 # Define the amount of parallel jobs executed in the QPU. Maximum parallel jobs available for open plan is 3.\n",
    "max_batchsize = 4 # Define the number of circuits per job. Note that estimator_shots*max_batchsize should be less than 10_000_000.\n",
    "\n",
    "estimator_shots = 5_000 # Define the number of shots for the estimator. \n",
    "sampler_shots = 10_000 # Define the number of samples of the optimized circuit.\n",
    "\n",
    "ansatz = 'real_amplitudes' # Define the ansatz to be used in the optimization\n",
    "multiple_passmanager = False # Specify not using  multiple passmanager option \n",
    "\n",
    "apply_postprocess = True # Specify if apply SQD-Based postprocess. \n",
    "\n",
    "backend_name = None # Chooses the least busy backend available for the instance.\n",
    "\n",
    "qubo_settings = {\n",
    "    'nt': nt,\n",
    "    'nq': nq,\n",
    "    'dt': dt,\n",
    "    'max_investment': max_investment,\n",
    "}\n",
    "\n",
    "optimizer_settings = {\n",
    "    'de_optimizer_settings': {\n",
    "        'num_generations': num_generations,\n",
    "        'population_size': population_size,\n",
    "        'max_parallel_jobs': max_parallel_jobs, \n",
    "        'max_batchsize': max_batchsize,\n",
    "    },\n",
    "    'optimizer': 'differential_evolution', \n",
    "    'primitive_settings':  {\n",
    "        'estimator_shots': estimator_shots,\n",
    "        'sampler_shots': sampler_shots,\n",
    "    }                \n",
    "}\n",
    "\n",
    "ansatz_settings = {\n",
    "    'ansatz': ansatz,\n",
    "    'multiple_passmanager': multiple_passmanager,\n",
    "}"
   ]
  },
  {
   "cell_type": "markdown",
   "metadata": {},
   "source": [
    "<div class=\"alert alert-block alert-warning\">\n",
    "\n",
    "**⚠️ Warning: QPU Time Consumption**\n",
    "\n",
    "Running the cell below will submit a job to a QPU and consume real QPU time. Please ensure you intend to proceed.\n",
    "\n",
    "**Estimated QPU runtime:** 3 minutes 50 seconds (based on tests on `ibm_brussels`)\n",
    "\n",
    "</div>"
   ]
  },
  {
   "cell_type": "code",
   "execution_count": null,
   "metadata": {},
   "outputs": [],
   "source": [
    "dpo_job = dpo_solver.run(\n",
    "    assets=assets, \n",
    "    qubo_settings=qubo_settings, \n",
    "    optimizer_settings=optimizer_settings, \n",
    "    ansatz_settings=ansatz_settings, \n",
    "    backend_name=backend_name, \n",
    "    apply_postprocess=apply_postprocess\n",
    ")"
   ]
  },
  {
   "cell_type": "code",
   "execution_count": null,
   "metadata": {},
   "outputs": [],
   "source": [
    "# Get the results of the job\n",
    "dpo_result = dpo_job.result()\n",
    "\n",
    "# Show the solution strategy\n",
    "dpo_result['result']"
   ]
  },
  {
   "cell_type": "markdown",
   "metadata": {},
   "source": [
    "Next we show how to access the metrics associated with the solution of the job. Specifically, we access the following metrics: Deviation from maximum investment, Sharpe ratio, and investment return."
   ]
  },
  {
   "cell_type": "code",
   "execution_count": null,
   "metadata": {},
   "outputs": [],
   "source": [
    "# Convert metadata to a DataFrame, excluding 'session_id'\n",
    "df = pd.DataFrame(dpo_result['metadata']['all_samples_metrics'])\n",
    "\n",
    "# Find the minimum objective cost\n",
    "min_cost = df['objective_costs'].min()\n",
    "\n",
    "# Extract the row with the lowest cost\n",
    "best_row = df[df['objective_costs'] == min_cost].iloc[0]\n",
    "\n",
    "# Display the results associated with the best investment\n",
    "print(\"Best Investment Strategy:\")\n",
    "print(f\"  - Deviation from maximum investment: {best_row['rest_breaches']}%\")\n",
    "print(f\"  - Sharpe Ratio: {best_row['sharpe_ratios']:.2f}\")\n",
    "print(f\"  - Return: {best_row['returns']}\")"
   ]
  },
  {
   "cell_type": "markdown",
   "metadata": {},
   "source": [
    "## Exercise 1: DPO Job Execution\n",
    "In this exercise, we perform a portfolio optimization using three financial assets, four time steps of 30 days of time window, and a 2-bit resolution. This time, we use the Optimized Real Amplitudes Ansatz. The population size and number of generations are chosen to ensure that a total of 70 quantum circuits are executed during the optimization process. Additionally, we allow for a maximum investment per asset of 6/9 (approximately 66%).\n",
    "\n",
    "The portfolio selected for this exercise are:\n",
    "- [NVIDIA Corporation](https://finance.yahoo.com/quote/NVDA/)\n",
    "- [Tesla, Inc.](https://finance.yahoo.com/quote/TSLA/)\n",
    "- [Amazon.com, Inc.](https://finance.yahoo.com/quote/AMZN/)"
   ]
  },
  {
   "cell_type": "markdown",
   "metadata": {},
   "source": [
    "<a id=\"Exercise1\"></a>\n",
    "<div class=\"alert alert-block alert-success\">\n",
    "\n",
    "<b>Exercise 1:</b> Follow the instructions in the cells below to perform portfolio optimization.\n",
    "\n",
    "</div>\n"
   ]
  },
  {
   "cell_type": "markdown",
   "metadata": {},
   "source": [
    "<a id=\"tips\"></a>\n",
    "<div class=\"alert alert-block alert-info\">\n",
    "    \n",
    "<b>Tips:</b> \n",
    "\n",
    "Visit the links to the asset pages on Yahoo Finance to check the ticker names.\n",
    "\n",
    "</div>\n"
   ]
  },
  {
   "cell_type": "code",
   "execution_count": null,
   "metadata": {},
   "outputs": [],
   "source": [
    "### TODO: Write your code below here ###\n",
    "\n",
    "# Fill the missing asset tickers of the portfolio\n",
    "symbols = []\n",
    "\n",
    "# Define the QUBO problem specification parameters (nt, nq, dt, )\n",
    "#  - Set max_investment to approximately 66% of maximum investment per asset. (See example above)\n",
    "#  - Set nt to four time steps.\n",
    "#  - Set nq to two resolution bits.\n",
    "#  - Set dt to 30 days.\n",
    "\n",
    "qubo_settings = {\n",
    "    'nt': ,  # Number of time steps\n",
    "    'nq': ,  # Number of resolution bits\n",
    "    'dt': ,  # Time window size in days\n",
    "    'max_investment': ,  # Set max investment to approximately 66% of maximum investment per asset\n",
    "}\n",
    "\n",
    "# Define the end dates for the portfolio data so that it fills the required amount of days according to the time window size and the number of time steps.\n",
    "start_date = \"2024-07-01\"\n",
    "end_date = \"\"\n",
    "\n",
    "# get the asset data dictionary"
   ]
  },
  {
   "cell_type": "code",
   "execution_count": null,
   "metadata": {},
   "outputs": [],
   "source": [
    "# Knowing that we want to run at most 70 quantum circuits:\n",
    "# set the population size and the number of generations for the Differential Evolution algorithm accordingly. \n",
    "# remember that the number of circuits is calculated as (num_generations + 1) * population_size.\n",
    "\n",
    "### TODO: Write your code below here ###\n",
    "\n",
    "num_generations = \n",
    "population_size = "
   ]
  },
  {
   "cell_type": "code",
   "execution_count": null,
   "metadata": {},
   "outputs": [],
   "source": [
    "max_parallel_jobs = 3 # Define the amount of parallel jobs executed in the QPU. Maximum parallel jobs available for open plan is 3.\n",
    "max_batchsize = 4 # Define the number of circuits per job.\n",
    "\n",
    "estimator_shots = 25_000 # Define the number of shots for the estimator. \n",
    "sampler_shots = 100_000 # Define the number of samples of the optimized circuit.\n",
    "\n",
    "# Now complete the configuration by defining the remaining parameters. \n",
    "# Remember We use:\n",
    "#  - Optimized Real Amplitudes ansatz. \n",
    "#  - Not enable the multiple passmanager option. \n",
    "#  - Apply Postprocessing based on SQD. \n",
    "#  - The backend with the least load available to ensure more efficient execution.\n",
    "\n",
    "### TODO: Write your code below here ###\n",
    "\n",
    "optimizer_settings_ex1 = {\n",
    "    'de_optimizer_settings': {\n",
    "        'num_generations': ,\n",
    "        'population_size': ,\n",
    "        'max_parallel_jobs': , \n",
    "        'max_batchsize': ,\n",
    "    },\n",
    "    'optimizer': 'differential_evolution', \n",
    "    'primitive_settings':  {\n",
    "        'estimator_shots': ,\n",
    "        'sampler_shots': ,\n",
    "    }                \n",
    "}\n",
    "\n",
    "ansatz_settings = {\n",
    "    'ansatz': ,\n",
    "    'multiple_passmanager': ,\n",
    "}"
   ]
  },
  {
   "cell_type": "code",
   "execution_count": null,
   "metadata": {},
   "outputs": [],
   "source": [
    "grade_ex1a(qubo_settings, optimizer_settings_ex1, ansatz_settings, apply_postprocess, assets)"
   ]
  },
  {
   "cell_type": "code",
   "execution_count": null,
   "metadata": {},
   "outputs": [],
   "source": [
    "your_api_key = \"deleteThisAndPasteYourAPIKeyHere\"\n",
    "your_crn = \"deleteThisAndPasteYourCRNHere\"\n",
    "\n",
    "catalog = QiskitFunctionsCatalog(\n",
    "    channel=\"ibm_quantum_platform\",\n",
    "    token=your_api_key,\n",
    "    instance=your_crn,\n",
    ")\n",
    "dpo_solver = catalog.load(\"global-data-quantum/quantum-portfolio-optimizer\")"
   ]
  },
  {
   "cell_type": "markdown",
   "metadata": {},
   "source": [
    "<div class=\"alert alert-block alert-warning\">\n",
    "\n",
    "**⚠️ Warning: QPU Time Consumption**\n",
    "\n",
    "Running the cell below will submit a job to a QPU and consume real QPU time. Please ensure you intend to proceed.\n",
    "\n",
    "**Estimated QPU runtime:** 4 minutes 20 seconds (based on tests on `ibm_brussels`)\n",
    "\n",
    "</div>"
   ]
  },
  {
   "cell_type": "code",
   "execution_count": null,
   "metadata": {},
   "outputs": [],
   "source": [
    "# Execute the job.\n",
    "\n",
    "### TODO: Write your code below here ###\n",
    "\n",
    "dpo_job = dpo_solver.run(\n",
    "    assets= ,\n",
    "    qubo_settings= , \n",
    "    optimizer_settings= , \n",
    "    ansatz_settings= , \n",
    "    backend_name= , \n",
    "    apply_postprocess= ,\n",
    ")"
   ]
  },
  {
   "cell_type": "code",
   "execution_count": null,
   "metadata": {},
   "outputs": [],
   "source": [
    "dpo_job.status() # Check the status is DONE before getting the result"
   ]
  },
  {
   "cell_type": "markdown",
   "metadata": {},
   "source": [
    "Now, let's display the following key performance metrics: return, Sharpe ratio, deviation from the investment restriction, and transaction costs."
   ]
  },
  {
   "cell_type": "code",
   "execution_count": null,
   "metadata": {},
   "outputs": [],
   "source": [
    "### TODO: Write your code below here ###\n",
    "\n",
    "# Get the results of the job\n",
    "dpo_result = "
   ]
  },
  {
   "cell_type": "code",
   "execution_count": null,
   "metadata": {},
   "outputs": [],
   "source": [
    "grade_ex1b(dpo_result)"
   ]
  },
  {
   "cell_type": "code",
   "execution_count": null,
   "metadata": {},
   "outputs": [],
   "source": [
    "\n",
    "# Convert metadata to a DataFrame, excluding 'session_id'\n",
    "df = pd.DataFrame(dpo_result['metadata']['all_samples_metrics'])\n",
    "\n",
    "# Find the minimum objective cost\n",
    "min_cost = df['objective_costs'].min()\n",
    "\n",
    "# Extract the row with the lowest cost\n",
    "best_row = df[df['objective_costs'] == min_cost].iloc[0]\n",
    "\n",
    "# Display the results associated with the best investment\n",
    "print(\"Best Investment Strategy:\")\n",
    "print(f\"  - Deviation from maximum investment: {best_row['rest_breaches']}%\")\n",
    "print(f\"  - Sharpe Ratio: {best_row['sharpe_ratios']:.2f}\")\n",
    "print(f\"  - Transaction Costs: {best_row['transaction_costs']}\")"
   ]
  },
  {
   "cell_type": "markdown",
   "metadata": {},
   "source": [
    "## Exercise 2: Resuming Job Execution\n",
    "This function allows you to resume a previous execution (either because it was interrupted or because you want to perform additional runs to improve the result). In this exercise, we resume the previous optimization and add two more generations to continue refining the portfolio solution"
   ]
  },
  {
   "cell_type": "markdown",
   "metadata": {},
   "source": [
    "To do this, we use the argument `previous_session_id`, which is a list of session IDs from which the execution is being resumed. Then, we need to provide exactly the same parameters as in the previous function call, but with two additional generations compared to the original example."
   ]
  },
  {
   "cell_type": "markdown",
   "metadata": {},
   "source": [
    "<a id=\"Exercise2\"></a>\n",
    "<div class=\"alert alert-block alert-success\">\n",
    "\n",
    "<b>Exercise 2:</b> Modify the number of generations to perform a warm restart and extend the execution.\n",
    "\n",
    "</div>\n"
   ]
  },
  {
   "cell_type": "code",
   "execution_count": null,
   "metadata": {},
   "outputs": [],
   "source": [
    "num_generations_ex1 = optimizer_settings_ex1['de_optimizer_settings']['num_generations']"
   ]
  },
  {
   "cell_type": "code",
   "execution_count": null,
   "metadata": {},
   "outputs": [],
   "source": [
    "# First we take the session id from the previous job.\n",
    "session_id = dpo_result['metadata']['session_id']\n",
    "\n",
    "# Change the number of generations by adding 2 to the previous number of generations.\n",
    "\n",
    "### TODO: Write your code below here ###\n",
    "\n",
    "optimizer_settings = optimizer_settings_ex1\n",
    "optimizer_settings['de_optimizer_settings']['num_generations'] = \n",
    "\n",
    "# Execute the job again introducing the new number of generations and the session id in the `previous_session_id` list.\n",
    "\n",
    "### TODO: Write your code below here ###\n",
    "\n",
    "previous_session_id =  # Load session id from the output of the previous exercise dpo_job."
   ]
  },
  {
   "cell_type": "code",
   "execution_count": null,
   "metadata": {},
   "outputs": [],
   "source": [
    "grade_ex2(qubo_settings, optimizer_settings, ansatz_settings, apply_postprocess, assets, num_generations_ex1, previous_session_id)"
   ]
  },
  {
   "cell_type": "markdown",
   "metadata": {},
   "source": [
    "<div class=\"alert alert-block alert-warning\">\n",
    "\n",
    "**⚠️ Warning: QPU Time Consumption**\n",
    "\n",
    "Running the cell below will submit a job to a QPU and consume real QPU time. Please ensure you intend to proceed.\n",
    "\n",
    "**Estimated QPU runtime:** 1 minutes 30 seconds (based on tests on `ibm_brussels`)\n",
    "\n",
    "</div>"
   ]
  },
  {
   "cell_type": "code",
   "execution_count": null,
   "metadata": {},
   "outputs": [],
   "source": [
    "dpo_job = dpo_solver.run(\n",
    "    assets=assets, \n",
    "    qubo_settings=qubo_settings, \n",
    "    optimizer_settings=optimizer_settings, \n",
    "    ansatz_settings=ansatz_settings, \n",
    "    backend_name=backend_name, \n",
    "    apply_postprocess=apply_postprocess,\n",
    "    previous_session_id=previous_session_id\n",
    ")"
   ]
  },
  {
   "cell_type": "code",
   "execution_count": null,
   "metadata": {},
   "outputs": [],
   "source": [
    "dpo_job.status() # Check the status is DONE "
   ]
  },
  {
   "cell_type": "markdown",
   "metadata": {},
   "source": [
    "# Feedback Survey\n",
    "\n",
    "We’d love to hear about your experience using the Qiskit Function! Your feedback is valuable and will help Qiskit Function providers enhance their tools and services. Please take a moment to share your thoughts by completing our short 2 min [feedback survey](https://airtable.com/app6VujlNUHZuOnAF/pagpw6TgP9UEt4TAT/form)."
   ]
  },
  {
   "cell_type": "markdown",
   "metadata": {},
   "source": [
    "# References\n",
    "\n",
    "1. [Quantum Portfolio Optimizater Tutorial](https://quantum.cloud.ibm.com/docs/en/tutorials/global-data-quantum-optimizer)\n",
    "2. [Quantum Portfolio Optimizer Documentation](https://quantum.cloud.ibm.com/docs/en/guides/global-data-quantum-optimizer)\n",
    "3. [Scaling the Variational Quantum Eigensolver for Dynamic Portfolio Optimization](https://arxiv.org/abs/2412.19150)\n",
    "4. [Qiskit Serverless Documentation](https://qiskit.github.io/qiskit-serverless/index.html)"
   ]
  },
  {
   "cell_type": "markdown",
   "metadata": {},
   "source": [
    "# Additional Information\n",
    "**Created by**: Manuel Martín-Cordero, Álvaro Nodar  \n",
    "**Advised by**: Junye Huang\n",
    "\n",
    "**Version**: 1.0.0"
   ]
  },
  {
   "cell_type": "markdown",
   "metadata": {},
   "source": [
    "## Qiskit packages versions"
   ]
  },
  {
   "cell_type": "code",
   "execution_count": null,
   "metadata": {},
   "outputs": [],
   "source": [
    "import qiskit\n",
    "import qiskit_ibm_catalog\n",
    "\n",
    "print(f'Qiskit: {qiskit.__version__}')\n",
    "print(f'Qiskit IBM Catalog: {qiskit_ibm_catalog.__version__}')"
   ]
  }
 ],
 "metadata": {
  "kernelspec": {
   "display_name": "base",
   "language": "python",
   "name": "python3"
  },
  "language_info": {
   "codemirror_mode": {
    "name": "ipython",
    "version": 3
   },
   "file_extension": ".py",
   "mimetype": "text/x-python",
   "name": "python",
   "nbconvert_exporter": "python",
   "pygments_lexer": "ipython3",
   "version": "3.11.7"
  }
 },
 "nbformat": 4,
 "nbformat_minor": 2
}
