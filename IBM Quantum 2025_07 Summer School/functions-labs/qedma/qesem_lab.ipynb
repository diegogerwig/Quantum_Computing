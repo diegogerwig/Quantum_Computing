{
 "cells": [
  {
   "attachments": {},
   "cell_type": "markdown",
   "metadata": {},
   "source": [
    "\n",
    "<div style=\"background-color: black; color: white; padding: 6px; border-radius: 8px;font-size: 1.5em;\">\n",
    "<img src=\"Title2.png\" alt=\"\" style=\"height: 10em; margin-right: 10px;\">\n",
    "</div>\n"
   ]
  },
  {
   "cell_type": "markdown",
   "metadata": {},
   "source": [
    "### Abstract\n",
    "In this lab, you will learn about **Quantum Error Suppression and Error Mitigation (QESEM)** through hands-on experiments.  \n",
    "With QESEM, users can run quantum circuits on noisy QPUs and obtain highly accurate, error-free results with minimal QPU time overhead, close to theoretical limits.  \n",
    "When executing a circuit, QESEM runs a device characterization protocol tailored to your circuit, yielding a reliable noise model for the errors occurring in the circuit. Based on the characterization, QESEM first implements noise-aware transpilation to map the input circuit onto a set of physical qubits and gates, which minimizes the noise affecting the target observable. These include the natively available gates (CX/CZ on IBM® devices), as well as additional gates optimized by QESEM, forming QESEM’s extended gate set. QESEM then runs a set of characterization-based error suppression (ES) and error mitigation (EM) circuits on the QPU and collects their measurement outcomes. These are then classically post-processed to provide an unbiased expectation value and an error bar for each observable, corresponding to the requested accuracy.\n",
    "\n",
    "<div>\n",
    "<img src=\"qesem_workflow.svg\" width=\"800\"/>\n",
    "</div>"
   ]
  },
  {
   "cell_type": "markdown",
   "metadata": {},
   "source": [
    "## Setup"
   ]
  },
  {
   "cell_type": "code",
   "execution_count": null,
   "metadata": {},
   "outputs": [],
   "source": [
    "# Install dependencies\n",
    "%pip install \"qiskit[visualization]>=2.0.0\" \"qiskit-ibm-runtime>=0.40.0\" \"qiskit-ibm-catalog>=0.8.0\" \"qiskit-aer>=0.17.1\" \"jupyter>=1.1.1\" \"networkx>=3.5\" \"tqdm>=4.67.1\" \"scipy\""
   ]
  },
  {
   "cell_type": "code",
   "execution_count": null,
   "metadata": {
    "jupyter": {
     "is_executing": true
    }
   },
   "outputs": [],
   "source": [
    "# Imports\n",
    "\n",
    "%matplotlib inline   \n",
    "\n",
    "import qiskit\n",
    "from qiskit.quantum_info import Pauli, SparsePauliOp, Statevector\n",
    "from qiskit_ibm_runtime.fake_provider import FakeFez\n",
    "from qiskit.visualization import circuit_drawer\n",
    "from qiskit import transpile, QuantumCircuit\n",
    "from qiskit.converters import circuit_to_dag, dag_to_circuit\n",
    "from qiskit_aer import AerSimulator\n",
    "from qiskit_aer.noise import NoiseModel\n",
    "from qiskit_ibm_catalog import QiskitFunctionsCatalog\n",
    "from qiskit_ibm_runtime import QiskitRuntimeService\n",
    "\n",
    "import matplotlib.pyplot as plt\n",
    "import pylatexenc\n",
    "import networkx as nx\n",
    "from scipy.optimize import curve_fit\n",
    "from matplotlib.ticker import MaxNLocator\n",
    "from tqdm import tqdm\n",
    "import numpy as np\n",
    "import json\n",
    "\n",
    "import time\n",
    "from datetime import datetime\n",
    "from IPython.display import display, Math\n",
    "\n",
    "from grader import *"
   ]
  },
  {
   "cell_type": "markdown",
   "metadata": {},
   "source": [
    "<div class=\"alert alert-block alert-warning\">\n",
    "\n",
    "**Exclusive Access to Qiskit Functions**\n",
    "\n",
    "As part of Qiskit Global Summer School (QGSS), participants with a Premium or Flex Plan have limited-time trial access to Qiskit Functions. Access is exclusive and subject to your organization’s administrator approval. Complete [this form](https://airtable.com/appj8IrSNZGz4l4BB/pag8WgWdUr5uSJGZA/form) to request access.\n",
    "\n",
    "If you encounter the error `QiskitServerlessException: Credentials couldn't be verified`. in the cell below, it means your access to Qiskit Functions is not yet active. Please check back later after your request has been processed.\n",
    "\n",
    "**Note: Running this lab will consume QPU time from your organization’s account. Estimated QPU usage is provided before each cell that executes on a QPU. Please monitor your usage and consult your organization admin if you’re unsure about your allocated QPU time for QGSS Functions labs.**\n",
    "\n",
    "</div>"
   ]
  },
  {
   "cell_type": "code",
   "execution_count": null,
   "metadata": {},
   "outputs": [],
   "source": [
    "# Load the Qiskit Functions Catalog\n",
    "your_api_key = \"deleteThisAndPasteYourAPIKeyHere\"\n",
    "your_crn = \"deleteThisAndPasteYourCRNHere\"\n",
    "\n",
    "catalog = QiskitFunctionsCatalog(\n",
    "    channel=\"ibm_quantum_platform\",\n",
    "    token=your_api_key,\n",
    "    instance=your_crn,\n",
    ")\n",
    "# You should see a list of Qiskit Functions available to you\n",
    "# If you encounter the error `QiskitServerlessException: Credentials couldn't be verified`,\n",
    "# it means your access is not yet active\n",
    "catalog.list()"
   ]
  },
  {
   "cell_type": "code",
   "execution_count": null,
   "metadata": {},
   "outputs": [],
   "source": [
    "# Load Qedma QESEM function\n",
    "qesem_function = catalog.load(\"qedma/qesem\")"
   ]
  },
  {
   "cell_type": "markdown",
   "metadata": {},
   "source": [
    "## Learning Objectives"
   ]
  },
  {
   "cell_type": "markdown",
   "metadata": {},
   "source": [
    "We'll explore:\n",
    "\n",
    "1. **Why do we need error mitigation?** - See how quantum noise affects different types of measurements\n",
    "2. **Kicked Ising circuits** - Our main example is the Kicked Ising chain, a benchmark model in quantum dynamics\n",
    "3. **Using QESEM** - Use QESEM to mitigate the noise"
   ]
  },
  {
   "cell_type": "markdown",
   "metadata": {
    "jp-MarkdownHeadingCollapsed": true
   },
   "source": [
    "# Table of Contents\n",
    "\n",
    "1. [Section 1: Understanding the Importance of Error Mitigation](#Section-1:-Understanding-the-Importance-of-Error-Mitigation)\n",
    "   - [1.1 Use Case: Kicked Ising](#1.1-Use-Case:-Kicked-Ising)\n",
    "   - [1.2 Exercise 1: Comparing Ideal and Noisy Values](#1.2-Exercise-1:-Comparing-Ideal-and-Noisy-Values)\n",
    "     <!-- - [a. Trotter Circuit Visualization](#exercise-1a)\n",
    "     - [b. Ideal VS Noisy](#exercise-1b)\n",
    "       - [i. Total Magnetization](#exercise-1b-i)\n",
    "       - [ii. Heavy Weight (zzz)](#exercise-1b-ii) -->\n",
    "2. [Section 2: Introduction to QESEM](#Section-2:-Introduction-to-QESEM)\n",
    "   - [QESEM Function Parameters Reference](#QESEM-Function-Parameters-Reference)\n",
    "   - [2.1 Exercise 2: Applying QESEM on a simple circuit](#2.1-Exercise-2:-Applying-QESEM-on-a-simple-circuit)\n",
    "     <!-- - [a. Time Estimation (Analytical + Empirical)](#exercise-2a)\n",
    "     - [b. Execution](#exercise-2b)\n",
    "     - [c. Reading Results](#exercise-2c)\n",
    "     - [d. Execution Metrics](#exercise-2d) -->\n",
    "   - [2.2 Key Concepts](#2.2-Key-Concepts)\n",
    "     - [2.2.1 Volume and Active Volume](#2.2.1-Volume-and-Active-Volume)\n",
    "     - [2.2.2 QESEM Runtime Overhead](#2.2.2-QESEM-Runtime-Overhead)\n",
    "   - [2.3 Exercise 3: QPU time vs. Active Volume](#2.3-Exercise-3:-QPU-time-vs.-Active-Volume)\n",
    "     <!-- - [a. Observables vs QPU Time](#exercise-3a)\n",
    "     - [b. Influence of Angles](#exercise-3b) -->\n",
    "   - [2.4 Exercise 4: Exploring the $T\\propto\\frac{1}{\\varepsilon^2}$ Relationship](#2.4-Exercise-4:-Exploring-the-$T-\\propto-\\frac{1}{\\varepsilon^2}$-Relationship)\n",
    "     <!-- - [a. Mitigation Overhead vs 𝜖](#exercise-4a) -->"
   ]
  },
  {
   "cell_type": "markdown",
   "metadata": {},
   "source": [
    "# Section 1: Understanding the Importance of Error Mitigation"
   ]
  },
  {
   "cell_type": "markdown",
   "metadata": {},
   "source": [
    "Quantum computers are inherently noisy devices. Even small amounts of noise can significantly affect quantum computations, especially as circuit depth increases. In this section, we'll:\n",
    "\n",
    "1. **Build a circuit** for the Kicked Ising model\n",
    "2. **Learn the effects of noise** on different types of quantum observables"
   ]
  },
  {
   "cell_type": "markdown",
   "metadata": {},
   "source": [
    "## 1.1 Use Case: Kicked Ising\n",
    "\n",
    "The **Kicked Ising Model** is a paradigmatic quantum spin chain model used to study quantum chaos, entanglement, and non-equilibrium dynamics. It consists of spin-1/2 particles (qubits) with nearest-neighbor interactions on a graph, and a periodically applied \"kick\".\n",
    "\n",
    "### Model Definition\n",
    "\n",
    "The time evolution of the kicked Ising model is governed by a periodically time-dependent Hamiltonian. The unitary evolution over one period $T$, on a 1D lattice of size $n$, is given by:\n",
    "\n",
    "$$\n",
    "U = \\exp\\left(-i J \\sum_{j=0}^{n-2} \\sigma_j^z \\sigma_{j+1}^z \\right) \\exp\\left(-i h_x \\sum_{j=0}^{n-1} \\sigma_j^x \\right)\n",
    "$$\n",
    "\n",
    "where $\\sigma_j^x, \\sigma_j^z$ are Pauli matrices acting on site $j$, and $J, h_x$ are constants.\n",
    "\n",
    "### Physical Significance\n",
    "\n",
    "- **Quantum Chaos:** The kicked Ising model exhibits rich quantum chaotic behavior, making it a benchmark for studies of thermalization and information scrambling in many-body quantum systems.\n",
    "- **Floquet Systems:** Since the system is driven periodically, it is a canonical example of a **Floquet system**, where stroboscopic (periodic) dynamics are studied.\n",
    "- **Entanglement & Quantum Information:** The model is widely used to investigate entanglement growth, operator spreading, and out-of-time-ordered correlators (OTOCs).\n",
    "\n",
    "### Applications\n",
    "\n",
    "- Modeling non-equilibrium quantum dynamics.\n",
    "- Studying quantum information scrambling and entanglement spreading.\n",
    "- Exploring the transition between integrability and chaos in quantum systems.\n",
    "\n",
    "---\n",
    "\n",
    "**References:**\n",
    "- Prosen, T. (2007). \"Chaos and complexity in a kicked Ising spin chain.\" *Phys. Rev. E* 65, 036208.\n",
    "- [Wikipedia: Kicked Ising Model](https://en.wikipedia.org/wiki/Kicked_Ising_model)"
   ]
  },
  {
   "cell_type": "markdown",
   "metadata": {},
   "source": [
    "<div class=\"alert alert-block alert-info\">\n",
    "<b>Note:</b>\n",
    "\n",
    "While in this lab we focus on exploring a 1D Kicked Ising model for simplicity, the QESEM qiskit function can work on arbitrary circuits defined on the heavy-hex lattice connectivity\n",
    "available on IBM systems.\n",
    "\n",
    "</div>"
   ]
  },
  {
   "cell_type": "markdown",
   "metadata": {},
   "source": [
    "## 1.2 Exercise 1: Comparing Ideal and Noisy Values"
   ]
  },
  {
   "cell_type": "markdown",
   "metadata": {},
   "source": [
    "This exercise demonstrates how quantum noise degrades computation results by comparing three scenarios:\n",
    "\n",
    "**What We'll Do:**\n",
    "- **Build Kicked Ising Circuits**: Create quantum circuits simulating time evolution with increasing number of Trotter steps  \n",
    "- **Measure Observables**:  \n",
    "  - **Z Correlation Operators**: Evaluate  $\\left\\langle Z_0 Z_1 \\dots Z_{n-1} \\right\\rangle$ and $\\left\\langle Z_0 Z_1 \\dots Z_{4} \\right\\rangle$ to probe global multi-qubit correlations  \n",
    "- **Compare Results**: Ideal expectation values to noisy ones\n"
   ]
  },
  {
   "cell_type": "markdown",
   "metadata": {},
   "source": [
    "### Step 1: Preparing Kicked-Ising circuit "
   ]
  },
  {
   "cell_type": "markdown",
   "metadata": {
    "vscode": {
     "languageId": "raw"
    }
   },
   "source": [
    "kicked_ising_1D: Creates a quantum circuit that implements the Kicked Ising model. It applies alternating layers of RX gates (transverse field) and RZZ gates (interaction terms) to simulate the time evolution of the system.  \n",
    "\n",
    "remove_idle_qubits: Removes unused qubits from a quantum circuit"
   ]
  },
  {
   "cell_type": "code",
   "execution_count": null,
   "metadata": {},
   "outputs": [],
   "source": [
    "def kicked_ising_1D(num_qubits: int, theta_x: float, theta_zz: float, s: int) -> QuantumCircuit:\n",
    "    \"\"\"\n",
    "    Parameters:\n",
    "        num_qubits (int): number of qubits on chain. \n",
    "        theta_x (float): Angle for RX gates.\n",
    "        theta_zz (float): Angle for RZZ gates.\n",
    "        s (int): Number of steps.\n",
    "    \n",
    "    Returns:\n",
    "        QuantumCircuit: The resulting quantum circuit.\n",
    "    \"\"\"\n",
    "    graph = nx.path_graph(num_qubits)\n",
    "    qc = QuantumCircuit(num_qubits)\n",
    "\n",
    "    # Precompute edge layers (alternating non-overlapping pairs)\n",
    "    edges = list(graph.edges())\n",
    "    even_edges = [(u, v) for (u, v) in edges if u % 2 == 0]\n",
    "    odd_edges  = [(u, v) for (u, v) in edges if u % 2 == 1]\n",
    "\n",
    "    for step in range(s):\n",
    "        # RX on all qubits\n",
    "        for q in range(num_qubits):\n",
    "            qc.rx(theta_x, q)\n",
    "        \n",
    "        # Apply even and odd layers separately\n",
    "        for edge_layer in [even_edges, odd_edges]:\n",
    "            for u, v in edge_layer:\n",
    "                qc.rzz(theta_zz, u, v)\n",
    "\n",
    "        if step < s-1:\n",
    "            qc.barrier()\n",
    "    \n",
    "    return qc\n",
    "\n",
    "def remove_idle_qubits(qc:QuantumCircuit):\n",
    "    \"\"\"\n",
    "    Removes qubits that are idle throughout the circuit\n",
    "    \"\"\"\n",
    "    used = ({q for op in qc for q in op.qubits})\n",
    "    dag = circuit_to_dag(qc)\n",
    "    for q in set (qc.qubits) - used:\n",
    "        dag.remove_qubits (q)\n",
    "    return dag_to_circuit(dag)"
   ]
  },
  {
   "cell_type": "markdown",
   "metadata": {},
   "source": [
    "### Step 2: Kicked Ising Circuit Visualization  "
   ]
  },
  {
   "cell_type": "markdown",
   "metadata": {
    "vscode": {
     "languageId": "raw"
    }
   },
   "source": [
    "Here we set up the circuit experiment parameters and create a visualization of the circuit.\n"
   ]
  },
  {
   "cell_type": "code",
   "execution_count": null,
   "metadata": {},
   "outputs": [],
   "source": [
    "n_qubits_ex1 = 20\n",
    "n_steps = 3  \n",
    "\n",
    "circ = kicked_ising_1D(n_qubits_ex1, theta_x=np.pi/6, theta_zz=np.pi/3, s=n_steps)\n",
    "\n",
    "print(f\"Circuit 2q layers: {circ.depth(filter_function=lambda instr: len(instr.qubits) == 2)}\")     \n",
    "print(f\"\\nCircuit structure:\")\n",
    "\n",
    "circ.draw('mpl', scale=0.8, fold=-1)\n",
    "plt.show()"
   ]
  },
  {
   "cell_type": "markdown",
   "metadata": {},
   "source": [
    "### Step 3: Simulation Parameters\n",
    "\n",
    "Here we define: \n",
    "\n",
    "1. A list of circuits to simulate (corresponding to the different number of time steps)\n",
    "2. A list of observables to measure: $\\langle Z_0...Z_4 \\rangle$ and $\\langle Z_0...Z_{n-1} \\rangle$ and their labels \n"
   ]
  },
  {
   "cell_type": "code",
   "execution_count": null,
   "metadata": {},
   "outputs": [],
   "source": [
    "steps_range = range(1,9)\n",
    "\n",
    "circs_ex1=[]        \n",
    "for n_steps in (steps_range):  \n",
    "    circs_ex1.append(kicked_ising_1D(n_qubits_ex1,  theta_x=np.pi*0.14, theta_zz=np.pi*0.05, s=n_steps))   \n",
    "\n",
    "# Prepare pairs of  (observables , labels)\n",
    "observable_label_pairs = [\n",
    "  (SparsePauliOp.from_sparse_list([(\"Z\"*5, range(5),1)], n_qubits_ex1),  r\"$Z_0Z_1...Z_{4}$)\"),\n",
    "  (SparsePauliOp.from_sparse_list([(\"Z\"*n_qubits_ex1, range(n_qubits_ex1),1)], n_qubits_ex1),  r\"$Z_0Z_1...Z_{n-1}$\")\n",
    "]"
   ]
  },
  {
   "cell_type": "markdown",
   "metadata": {},
   "source": [
    "### Step 4: Compute ideal values"
   ]
  },
  {
   "cell_type": "markdown",
   "metadata": {},
   "source": [
    "Here we compute the ideal expectation values for each observable using exact simulation with statevectors. <br>\n",
    "This gives us the theoretical values that we would obtain on a perfect quantum computer without any noise.\n",
    "\n",
    "The following dictionary holds the ideal/noisy expectation values for every observable per step:<br>\n",
    "graphs[\"ideal\" or \"noisy\"][observable label] = [Expectation of observable at steps_range[0], Expectation of observable at steps_range[1], ....]"
   ]
  },
  {
   "cell_type": "markdown",
   "metadata": {},
   "source": [
    "<div class=\"alert alert-block alert-success\">\n",
    "\n",
    "<b>[Ungraded] Exercise 1.1:</b>\n",
    "\n",
    "Complete the code for computing the ideal expectation value of `obs` after running the circuit `circ`\n",
    "\n",
    "Hint: [Statevector Documentation](https://quantum.cloud.ibm.com/docs/en/api/qiskit/qiskit.quantum_info.Statevector)\n",
    "\n",
    "</div>"
   ]
  },
  {
   "cell_type": "code",
   "execution_count": null,
   "metadata": {},
   "outputs": [],
   "source": [
    "graphs={'ideal':{}}\n",
    "graphs['ideal']['steps_range'] = steps_range\n",
    "for circ in tqdm(circs_ex1):                       # loop over circuits [one step circuit, two steps circuit ,....]\n",
    "    for obs, label in observable_label_pairs:  # loop over observables and their label\n",
    "        if label not in graphs['ideal']:       # create list of ideal expectation values for every circuit\n",
    "            graphs['ideal'][label]=[]\n",
    "        # ---- TODO: Exercise 1.1 ---- \n",
    "        ideal_value = \n",
    "        # ---- End of TODO ----\n",
    "        graphs['ideal'][label].append(ideal_value)"
   ]
  },
  {
   "cell_type": "code",
   "execution_count": null,
   "metadata": {},
   "outputs": [],
   "source": [
    "# Function to draw graphs from \"graphs\" object\n",
    "\n",
    "def graph_plots(graphs):\n",
    "    \"\"\"\n",
    "    Input: graphs object (dictionary)\n",
    "    Display graphs of noisy (optional) and ideal values vs step \n",
    "    \"\"\"\n",
    "    fig, axs = plt.subplots(1,2 ,figsize=(15, 4))\n",
    "    fig.subplots_adjust(wspace=0.5, hspace=0.3)\n",
    "    \n",
    "    j=0  # axis index\n",
    "    for obs, obs_label in observable_label_pairs:\n",
    "        ax=axs[j]\n",
    "        ax.set_title(\"Kicked Ising Model - ideal vs noisy\")\n",
    "        ax.set_ylabel(r\"$\\langle$\"+obs_label+r\"$\\rangle$\")\n",
    "        ax.xaxis.set_major_locator(MaxNLocator(integer=True))    # Makes x axis integers\n",
    "        ax.set_xlabel(\"Steps\")\n",
    "        ax.plot(graphs['ideal']['steps_range'], graphs['ideal'][obs_label], label='Ideal values', marker='.', color='black')\n",
    "        if 'noisy' in graphs:   # Plot the noisy graph if it exists.\n",
    "            ax.errorbar(graphs['noisy']['steps_range'], graphs['noisy'][obs_label], np.array(graphs['noisy_std'][obs_label])**0.5, label='Noisy values', marker='.', capsize=3)\n",
    "        ax.legend()\n",
    "        ax.grid()\n",
    "        j=j+1\n",
    "            \n",
    "    plt.show()\n",
    "\n",
    "# Running the function\n",
    "graph_plots(graphs)"
   ]
  },
  {
   "cell_type": "markdown",
   "metadata": {},
   "source": [
    "<div class=\"alert alert-block alert-info\">\n",
    "<b>Build Intuition:</b>\n",
    "    \n",
    "Which of the two observables will be more affected by noise?\n",
    "</div>"
   ]
  },
  {
   "cell_type": "markdown",
   "metadata": {},
   "source": [
    "### Step 5: Compute noisy values with error bars"
   ]
  },
  {
   "cell_type": "markdown",
   "metadata": {},
   "source": [
    "Let's add **realistic quantum noise** to our simulation. We'll use an AerSimulator based on IBM's Fake Fez backend, which includes realistic noise models based on actual quantum hardware. <br>"
   ]
  },
  {
   "cell_type": "code",
   "execution_count": null,
   "metadata": {},
   "outputs": [],
   "source": [
    "GPU = 'GPU' in AerSimulator().available_devices()     # Use GPU if available.\n",
    "fake_backend = FakeFez()\n",
    "basis_gates = fake_backend.configuration().basis_gates\n",
    "\n",
    "noisy_backend =  AerSimulator(\n",
    "    method='matrix_product_state',\n",
    "    noise_model=NoiseModel.from_backend(fake_backend),\n",
    "    basis_gates=basis_gates,\n",
    "    coupling_map=fake_backend.configuration().coupling_map,\n",
    "    properties=fake_backend.properties(),\n",
    "    device='GPU'*GPU + 'CPU'*(1-GPU),\n",
    ")\n",
    "\n",
    "num_shots = 1000     #### <------ Edit if too slow"
   ]
  },
  {
   "cell_type": "markdown",
   "metadata": {},
   "source": [
    "Let's compute the noisy expectation values by running the circuits on the noisy simulator with finite shots. We calculate both the expectation values and their standard deviations to understand the statistical uncertainty in our measurements."
   ]
  },
  {
   "cell_type": "markdown",
   "metadata": {},
   "source": [
    "<div class=\"alert alert-block alert-success\">\n",
    "<b>[Ungraded] Exercise 1.2:</b>\n",
    "\n",
    "Complete the code for running \"num_shots\" shots of \"transpiled_circ\" on \"noisy_backend\" and extract the \"counts\" dictionary from the result.\n",
    "\n",
    "Change the number of shots if the simulation is too slow.\n",
    "    \n",
    "**Hint:** [AerSimulator Documentation](https://qiskit.github.io/qiskit-aer/tutorials/1_aersimulator.html)\n",
    "</div>"
   ]
  },
  {
   "cell_type": "code",
   "execution_count": null,
   "metadata": {
    "lines_to_next_cell": 2
   },
   "outputs": [],
   "source": [
    "graphs['noisy'] = {'steps_range':steps_range}\n",
    "graphs['noisy_std'] = {}\n",
    "\n",
    "for circ in tqdm(circs_ex1):       \n",
    "    transpiled_circ = transpile(circ, basis_gates=basis_gates, coupling_map=fake_backend.coupling_map)    \n",
    "    transpiled_circ = remove_idle_qubits(transpiled_circ)\n",
    "\n",
    "    transpiled_circ.measure_all()\n",
    "    # ---- TODO: Exercise 1.2 ---- \n",
    "    counts =  \n",
    "    # ---- End of TODO ----\n",
    "\n",
    "    for obs, label in observable_label_pairs:\n",
    "        if label not in graphs['noisy']:\n",
    "            graphs['noisy'][label]=[]\n",
    "            graphs['noisy_std'][label]=[]\n",
    "    \n",
    "        noisy_obs_expectation = qiskit.result.sampled_expectation_value(counts,obs)                 # Convert counts to expectation value\n",
    "        noisy_obs_variance = (1-qiskit.result.sampled_expectation_value(counts,obs)**2)/num_shots   # Only true for Paulis: P^2=I\n",
    "        graphs['noisy'][label].append(noisy_obs_expectation)\n",
    "        graphs['noisy_std'][label].append((noisy_obs_variance)**0.5)   "
   ]
  },
  {
   "cell_type": "markdown",
   "metadata": {},
   "source": [
    "### Step 6: Plot the results"
   ]
  },
  {
   "cell_type": "markdown",
   "metadata": {},
   "source": [
    "Finally, we visualize the results by plotting both the ideal and noisy expectation values as a function of the number of Trotter steps."
   ]
  },
  {
   "cell_type": "code",
   "execution_count": null,
   "metadata": {},
   "outputs": [],
   "source": [
    "graph_plots(graphs)"
   ]
  },
  {
   "cell_type": "markdown",
   "metadata": {},
   "source": [
    "<div class=\"alert alert-block alert-info\">\n",
    "<b>Build Intuition:</b>\n",
    "    \n",
    "- As circuits get deeper, quantum noise accumulates and the gap between ideal and noisy values grows. QESEM allows to run deeper circuits and still get meaningful results.\n",
    "- The decay of the noisy value is controlled by the number of noisy operations the observable is sensitive to. The $\\langle Z0...Z19 \\rangle$ observable decays much more than $\\langle Z0...Z4 \\rangle$ because its lightcone spans the entire circuit."
   ]
  },
  {
   "cell_type": "markdown",
   "metadata": {},
   "source": [
    "# Section 2: Introduction to QESEM"
   ]
  },
  {
   "cell_type": "markdown",
   "metadata": {},
   "source": [
    "Now that we've seen how dramatically noise affects quantum computations, let's explore **QESEM** - a powerful technique to reduce these errors.\n",
    "\n",
    "### How QESEM Works\n",
    "\n",
    "QESEM combines two approaches:\n",
    "\n",
    "1. **Error Suppression**: Reduce the unitary part of the noise. It is based on QESEM's characterization.\n",
    "2. **Error Mitigation**: Use classical post-processing to estimate what the results would have been without noise."
   ]
  },
  {
   "cell_type": "markdown",
   "metadata": {},
   "source": [
    "### QESEM Function Parameters Reference\n",
    "During this section we will guide you through the main function parameters and explain each one.  \n",
    "There are more advanced parameters which we won't cover, see an elaborate explanation about all the function parameters [here](https://docs.quantum.ibm.com/guides/qedma-qesem#function-parameters)."
   ]
  },
  {
   "cell_type": "markdown",
   "metadata": {},
   "source": [
    "## 2.1 Exercise 2: Applying QESEM on a simple circuit"
   ]
  },
  {
   "cell_type": "markdown",
   "metadata": {},
   "source": [
    "### Step 1: Initialize QESEM Function"
   ]
  },
  {
   "cell_type": "code",
   "execution_count": null,
   "metadata": {},
   "outputs": [],
   "source": [
    "# Load the Qiskit Functions Catalog\n",
    "# your_api_key = \"deleteThisAndPasteYourAPIKeyHere\"\n",
    "# your_crn = \"deleteThisAndPasteYourCRNHere\"\n",
    "\n",
    "# catalog = QiskitFunctionsCatalog(\n",
    "#     channel=\"ibm_quantum_platform\",\n",
    "#     token=your_api_key,\n",
    "#     instance=your_crn,\n",
    "# )\n",
    "\n",
    "qesem_function = catalog.load(\"qedma/qesem\")"
   ]
  },
  {
   "cell_type": "markdown",
   "metadata": {},
   "source": [
    "### Step 2: Prepare Circuit and Observables\n",
    "The following circuit prepares the state $|\\psi\\rangle = 0.6|0000\\rangle+0.8|1111\\rangle $\n",
    "\n",
    "We will measure two observables:<br>\n",
    "avg_magnetization_ex2 = $\\frac{1}{4} \\sum_j Z_j$ <br>\n",
    "all_z_ex2 = $Z_0...Z_3$"
   ]
  },
  {
   "cell_type": "code",
   "execution_count": null,
   "metadata": {},
   "outputs": [],
   "source": [
    "circ_ex2 = qiskit.QuantumCircuit(4)\n",
    "circ_ex2.ry(0.927*2, 0)   \n",
    "circ_ex2.cx(0, 1)\n",
    "circ_ex2.cx(1, 2)\n",
    "circ_ex2.cx(2, 3)\n",
    "\n",
    "circ_ex2.draw(\"mpl\", scale=0.7)\n",
    "plt.show()\n",
    "\n",
    "avg_magnetization_ex2 = SparsePauliOp.from_sparse_list(\n",
    "    [(\"Z\", [q], 1 / 4) for q in range(4)], num_qubits=4)\n",
    "\n",
    "all_z_ex2 = SparsePauliOp.from_sparse_list(\n",
    "    [(\"Z\"*4, range(4),1)], 4)\n",
    "\n",
    "obs_list_ex2 =  [avg_magnetization_ex2, all_z_ex2]"
   ]
  },
  {
   "cell_type": "markdown",
   "metadata": {},
   "source": [
    "### Step 3: Empirical Time Estimation\n",
    "\n",
    "Users would typically want to know how much QPU time is required for their experiment.\n",
    "However, this is considered a hard problem for classical computers.<br>\n",
    "QESEM offers two modes of time estimation to inform users about the feasibility of their experiments:\n",
    "1. Analytical time estimation - gives a very rough estimation and requires no QPU time. This can be used to test if a transpilation pass would potentially reduce the QPU time. \n",
    "2. Empirical time estimation (demonstrated here) - gives a pretty good estimation and uses a few minutes of QPU time.\n",
    "\n",
    "In both cases, QESEM outputs the time estimation for reaching the required precision for <b>all</b> observables. "
   ]
  },
  {
   "cell_type": "markdown",
   "metadata": {},
   "source": [
    "<div class=\"alert alert-block alert-warning\">\n",
    "\n",
    "**⚠️ Warning: QPU Time Consumption**\n",
    "\n",
    "Running the cell below may submit a job to a QPU and consume real QPU time. Please ensure you intend to proceed. For learning purposes, you can use a fake QPU.\n",
    "\n",
    "**Estimated QPU runtime:** 0 minutes 0 seconds (based on tests on `fake_fez`)\n",
    "\n",
    "</div>"
   ]
  },
  {
   "cell_type": "code",
   "execution_count": null,
   "metadata": {},
   "outputs": [],
   "source": [
    "# Start a job for empirical time estimation\n",
    "\n",
    "estimation_job_ex2 = qesem_function.run(\n",
    "    pubs=[(circ_ex2, obs_list_ex2)],\n",
    "    instance=your_crn,\n",
    "    backend_name='fake_fez',  # E.g. \"ibm_brisbane\"\n",
    "    options={\n",
    "        \"estimate_time_only\": \"empirical\",  # \"empirical\" - gets actual time estimates without running full mitigation\n",
    "        \"default_precision\": 0.01,          # Default precision for all observable. Precision per observable can be defined in the pubs parameter.\n",
    "        \"max_execution_time\": 120,          # Limits the QPU time, specified in seconds.\n",
    "    }\n",
    ")"
   ]
  },
  {
   "cell_type": "code",
   "execution_count": null,
   "metadata": {},
   "outputs": [],
   "source": [
    "# Get the result object (blocking method). Use job.status() in a loop for non-blocking. \n",
    "# This takes a 1-3 minutes\n",
    "result = estimation_job_ex2.result()   "
   ]
  },
  {
   "cell_type": "code",
   "execution_count": null,
   "metadata": {},
   "outputs": [],
   "source": [
    "print (f\"Empirical time estimation (sec): {result[0].metadata['time_estimation_sec']}\")"
   ]
  },
  {
   "cell_type": "markdown",
   "metadata": {
    "vscode": {
     "languageId": "raw"
    }
   },
   "source": [
    "### Step 4: Use QESEM to estimate the expectation values"
   ]
  },
  {
   "cell_type": "markdown",
   "metadata": {},
   "source": [
    "<div class=\"alert alert-block alert-success\">\n",
    "<b>Exercise 2:</b>\n",
    "\n",
    "Use QESEM to estimate the expectation values of `avg_magnetization_ex2` and `all_z_ex2` observables on the state generated by `circ_ex2`.\n",
    "Set the precision to `0.1`, use `fake_fez` as the backend, and set the maximum QPU time to `15` minutes (`900` seconds).\n",
    "\n",
    "**Hint:** Remove the options key `estimate_time_only`\n",
    "</div>"
   ]
  },
  {
   "cell_type": "code",
   "execution_count": null,
   "metadata": {},
   "outputs": [],
   "source": [
    "# choose parameters for the QESEM job:\n",
    "\n",
    "# job_ex2 = qesem_function.run(\n",
    "#     pubs=pubs_ex2,\n",
    "#     instance=instance_ex2,\n",
    "#     backend_name=backend_name_ex2,  \n",
    "#     options= options_ex2\n",
    "# )\n",
    "\n",
    "# ---- TODO: Exercise 2 ---- \n",
    "pubs_ex2 = \n",
    "instance_ex2=\n",
    "backend_name_ex2=\n",
    "options_ex2={}\n",
    "# ---- End of TODO ----"
   ]
  },
  {
   "cell_type": "markdown",
   "metadata": {},
   "source": [
    "### Test parameters"
   ]
  },
  {
   "cell_type": "code",
   "execution_count": null,
   "metadata": {},
   "outputs": [],
   "source": [
    "message = grade_ex2(\n",
    "    pubs_ex2= pubs_ex2,\n",
    "    backend_name_ex2=backend_name_ex2,\n",
    "    options_ex2=options_ex2\n",
    ")\n",
    "print (message)"
   ]
  },
  {
   "cell_type": "markdown",
   "metadata": {},
   "source": [
    "### Start a job only if parameter check passed"
   ]
  },
  {
   "cell_type": "markdown",
   "metadata": {},
   "source": [
    "<div class=\"alert alert-block alert-warning\">\n",
    "\n",
    "**⚠️ Warning: QPU Time Consumption**\n",
    "\n",
    "Running the cell below may submit a job to a QPU and consume real QPU time. Please ensure you intend to proceed. For learning purposes, you can use a fake QPU.\n",
    "\n",
    "**Estimated QPU runtime:** 0 minutes 0 seconds (based on tests on `fake_fez`)\n",
    "\n",
    "</div>"
   ]
  },
  {
   "cell_type": "code",
   "execution_count": null,
   "metadata": {},
   "outputs": [],
   "source": [
    "if message == correct_message:     # Run the job only if parameters are correct\n",
    "    # Start a job\n",
    "    job_ex2 = qesem_function.run(\n",
    "        pubs=pubs_ex2,\n",
    "        instance=instance_ex2,\n",
    "        backend_name=backend_name_ex2,  \n",
    "        options= options_ex2\n",
    "    )\n",
    "    print (\"Job sent.\")\n",
    "else:\n",
    "    print (\"Parameter check failed, job did not start.\")"
   ]
  },
  {
   "cell_type": "markdown",
   "metadata": {},
   "source": [
    "### Step 5: Reading the results"
   ]
  },
  {
   "cell_type": "code",
   "execution_count": null,
   "metadata": {
    "lines_to_next_cell": 2
   },
   "outputs": [],
   "source": [
    "result = job_ex2.result()  # Blocking - takes 3-5 minutes\n",
    "noisy_results = result[0].metadata[\"noisy_results\"]\n",
    "for en,obs in enumerate(obs_list_ex2):\n",
    "    print (\"-\"*10)\n",
    "    print (\"Observable: \"+['Average Magnetization','ZZZZ'][en])\n",
    "    print (f\"Ideal: {Statevector(circ_ex2).expectation_value(obs).real}\")\n",
    "    print (f\"Noisy: {noisy_results.evs[en]} \\u00B1 {noisy_results.stds[en]}\")\n",
    "    print (f\"QESEM: {result[0].data.evs[en]} \\u00B1 {result[0].data.stds[en]}\")\n",
    "    \n",
    "print (\"-\"*10)\n",
    "print (f\"Gate fidelities found: {result[0].metadata['gate_fidelities']}\")    # Some of the data gathered during a QESEM run."
   ]
  },
  {
   "cell_type": "code",
   "execution_count": null,
   "metadata": {},
   "outputs": [],
   "source": [
    "# Results as a graph\n",
    "x = np.arange(2)  # Column position\n",
    "width = 0.06       \n",
    "\n",
    "fig, ax = plt.subplots(figsize=(4,2.5*1.5))\n",
    "\n",
    "# Plot the bars side by side\n",
    "ax.bar(x - width,   [Statevector(circ_ex2).expectation_value(obs).real for obs in [avg_magnetization_ex2, all_z_ex2]], width, label='Ideal')\n",
    "ax.bar(x,           noisy_results.evs, width, label='Noisy',  yerr=noisy_results.stds,  capsize=6)\n",
    "ax.bar(x + width,   result[0].data.evs,   width, label='QESEM', yerr=result[0].data.stds,  capsize=6)\n",
    "\n",
    "ax.set_xticks(x)\n",
    "ax.set_xticklabels(['Average Magnetization','ZZZZ'])\n",
    "ax.set_title(r\"Comparing Ideal, Noisy and QESEM for $|\\psi\\rangle = 0.6|0000\\rangle+0.8|1111\\rangle$ \")\n",
    "ax.legend()\n",
    "\n",
    "plt.tight_layout()\n",
    "plt.grid(axis='y')\n",
    "plt.axhline(0, color='black', linewidth=2.5)  # y=0, bold black line\n",
    "plt.show()"
   ]
  },
  {
   "cell_type": "markdown",
   "metadata": {},
   "source": [
    "## 2.2 Key Concepts"
   ]
  },
  {
   "cell_type": "markdown",
   "metadata": {},
   "source": [
    "### 2.2.1 Volume and Active Volume"
   ]
  },
  {
   "cell_type": "markdown",
   "metadata": {},
   "source": [
    "A key figure of merit for quantifying the hardness of both error mitigation and classical simulation for a given circuit and observable is **active volume**: The number of two-qubit gates affecting the observable in the circuit. Different circuits and observables have different **active volumes**, which affects how hard they are to error-mitigate.\n",
    "\n",
    "The active volume depends on:\n",
    "- Circuit depth and width\n",
    "- Observable weight (number of non-identity Pauli operators)\n",
    "- Circuit structure (light cone of the observable)\n",
    "\n",
    "For further details, see the talk from the [2024 IBM Quantum Summit](https://www.youtube.com/watch?v=Hd-IGvuARfE&t=1730s&ab_channel=IBMResearch).\n",
    "\n",
    "<div>\n",
    "<img src=\"active_vol.svg\" />\n",
    "</div>"
   ]
  },
  {
   "cell_type": "markdown",
   "metadata": {},
   "source": [
    "### 2.2.2 QESEM Runtime Overhead"
   ]
  },
  {
   "cell_type": "markdown",
   "metadata": {},
   "source": [
    "The QPU time behaves roughly like:\n",
    "$$T_{QPU} \\approx \\left(\\frac{A}{\\epsilon^2}\\right) \\times e^{C \\times IF \\times V_{active}} + B$$  \n",
    "- B overhead of gate optimization and error characterization\n",
    "- precision $\\epsilon$ absolute error in expectation value\n",
    "- $ IF \\times V_{active} $ infidelity-per-gate times active volume. The active volume only includes gates within the active light-cone.\n",
    "\n",
    "The **overhead** of error mitigation tells us how many additional quantum resources we need to achieve a target precision."
   ]
  },
  {
   "cell_type": "markdown",
   "metadata": {},
   "source": [
    "## 2.3 Exercise 3: QPU time vs. Active Volume\n",
    "In this section we'll fix the number of steps and the precision, and compare the QPU time for the two observables in Exercise 1. \n"
   ]
  },
  {
   "cell_type": "markdown",
   "metadata": {},
   "source": [
    "<div class=\"alert alert-block alert-success\">\n",
    "<b>Exercise 3:</b>\n",
    "\n",
    "Use QESEM's **analytical** time estimation for measuring the expectation of $\\langle Z_0...Z_4\\rangle$ and $\\langle Z_0...Z_{n-1}\\rangle$ of the state generated by a few steps of the Kicked Ising model.\n",
    "\n",
    "Set the `default_precision` to `0.02`.\n",
    "\n",
    "</div>"
   ]
  },
  {
   "cell_type": "code",
   "execution_count": null,
   "metadata": {},
   "outputs": [],
   "source": [
    "# Set the options parameter for the QESEM job by the instruction:\n",
    "\n",
    "# ---- TODO: Exercise 3 ---- \n",
    "options_ex3={\n",
    "    \"estimate_time_only\": ,\n",
    "    \"default_precision\": ,\n",
    "}\n",
    "# ---- End of TODO ----"
   ]
  },
  {
   "cell_type": "markdown",
   "metadata": {},
   "source": [
    "### Test parameters"
   ]
  },
  {
   "cell_type": "code",
   "execution_count": null,
   "metadata": {},
   "outputs": [],
   "source": [
    "message = grade_ex3(options_ex3)\n",
    "print (message)"
   ]
  },
  {
   "cell_type": "markdown",
   "metadata": {},
   "source": [
    "### Start a jobs only if parameter check passed"
   ]
  },
  {
   "cell_type": "markdown",
   "metadata": {},
   "source": [
    "<div class=\"alert alert-block alert-warning\">\n",
    "\n",
    "**⚠️ Warning: QPU Time Consumption**\n",
    "\n",
    "Running the cell below may submit a job to a QPU and consume real QPU time. Please ensure you intend to proceed. For learning purposes, you can use a fake QPU.\n",
    "\n",
    "**Estimated QPU runtime:** 0 minutes 0 seconds (based on tests on `fake_fez`)\n",
    "\n",
    "</div>"
   ]
  },
  {
   "cell_type": "code",
   "execution_count": null,
   "metadata": {},
   "outputs": [],
   "source": [
    "if message == correct_message:\n",
    "    print(\"Starting jobs\")\n",
    "    selected_step = 6   # number of steps in the circuit. \n",
    "    num_qubits_ex3 = 20\n",
    "    \n",
    "    \n",
    "    circ = kicked_ising_1D(num_qubits_ex3, theta_x=np.pi*0.14, theta_zz=np.pi*0.05, s=selected_step)\n",
    "    \n",
    "    # Prepare pairs of  (observables , labels)\n",
    "    observable_label_pairs_ex3 = [\n",
    "        (SparsePauliOp.from_sparse_list([(\"Z\"*5, range(5),1)], num_qubits_ex3),  r\"$Z_0Z_1...Z_{4}$\"),\n",
    "        (SparsePauliOp.from_sparse_list([(\"Z\"*num_qubits_ex3, range(num_qubits_ex3),1)], num_qubits_ex3),  r\"$Z_0Z_1...Z_{n-1}$\")\n",
    "    ] \n",
    "    \n",
    "    volume_jobs = []\n",
    "    for observable, obs_label in observable_label_pairs_ex3:\n",
    "        # run analytical time estimation on each observable separately\n",
    "        job = qesem_function.run(\n",
    "            pubs=[(circ, [observable])],\n",
    "            instance=your_crn,\n",
    "            backend_name=\"fake_fez\",  \n",
    "            options=options_ex3\n",
    "        )\n",
    "        volume_jobs.append(job)\n",
    "else:\n",
    "    print (\"Parameters check failed. Jobs did not start\")"
   ]
  },
  {
   "cell_type": "code",
   "execution_count": null,
   "metadata": {},
   "outputs": [],
   "source": [
    "# Print the analytical time estimation. Takes about 3 minutes\n",
    "job_index=0\n",
    "for observable, obs_label in observable_label_pairs_ex3:\n",
    "    # Get the result and extract time estimation\n",
    "    result = volume_jobs[job_index].result()\n",
    "    job_index+=1\n",
    "    print (f\"Analytical time estimation for observable {obs_label}: {result[0].metadata['time_estimation_sec']/60} min\")"
   ]
  },
  {
   "cell_type": "markdown",
   "metadata": {},
   "source": [
    "<div class=\"alert alert-block alert-info\">\n",
    "<b>Build Intuition:</b> \n",
    "\n",
    "While the analytical time estimation is very rough (resolution of 30 minutes) and pessimistic, it still captures the difference in the active volumes of the two observables fairly quickly, and without using any QPU time.\n",
    "</div>"
   ]
  },
  {
   "cell_type": "markdown",
   "metadata": {},
   "source": [
    "## 2.4 Exercise 4: Exploring the $T \\propto \\frac{1}{\\varepsilon^2}$ Relationship"
   ]
  },
  {
   "cell_type": "markdown",
   "metadata": {},
   "source": [
    "In this exercise, we will investigate **how QPU time scales with precision requirements**.\n",
    "### Step 1: Create and visualize the test circuit\n",
    "\n",
    "We'll create a single Kicked Ising circuit to test the precision-time relationship. This circuit will have enough complexity to show clear scaling behavior while remaining manageable for the experiment."
   ]
  },
  {
   "cell_type": "markdown",
   "metadata": {},
   "source": [
    "<div class=\"alert alert-block alert-success\">\n",
    "<b>Exercise 4.1:</b>\n",
    "\n",
    "Complete the code. Use the function `kicked_ising_1D()` defined in Exercise 1 to create the circuit `circ_ex4`. Be sure to use the variables defined below `n_qubits_ex4`, `n_steps_ex4`, `theta_x_ex4`, `theta_zz_ex4`.\n",
    "</div>"
   ]
  },
  {
   "cell_type": "code",
   "execution_count": null,
   "metadata": {},
   "outputs": [],
   "source": [
    "n_qubits_ex4 = 5           # Number of qubits (enough to see scaling effects)\n",
    "n_steps_ex4 = 10           # Number of Trotter steps (creates sufficient circuit depth)\n",
    "theta_x_ex4 = np.pi/6      # Rotation angle for X gates (transverse field strength)\n",
    "theta_zz_ex4 = np.pi/3     # Rotation angle for ZZ gates (interaction strength)\n",
    "\n",
    "# Create the Kicked Ising circuit that will be used for precision testing\n",
    "# ---- TODO: Exercise 4.1 ---- \n",
    "circ_ex4 = \n",
    "# ---- End of TODO ----"
   ]
  },
  {
   "cell_type": "code",
   "execution_count": null,
   "metadata": {},
   "outputs": [],
   "source": [
    "message = grade_ex_4_1(circ_ex4)\n",
    "print (message)"
   ]
  },
  {
   "cell_type": "code",
   "execution_count": null,
   "metadata": {},
   "outputs": [],
   "source": [
    "print(f\"Circuit 2q layers: {circ_ex4.depth(filter_function=lambda instr: len(instr.qubits) == 2)}\")     \n",
    "print(f\"\\nCircuit structure:\")\n",
    "\n",
    "circuit_drawer = circ_ex4.draw('mpl', scale=1, fold=-1)\n",
    "plt.show()"
   ]
  },
  {
   "cell_type": "markdown",
   "metadata": {},
   "source": [
    "### Step 2: Submit time estimation jobs with different precision values\n",
    "\n",
    "We'll submit multiple QESEM jobs, each with a different precision requirement (ε). The range from 0.005 to 0.06 covers both high-precision (expensive) and moderate-precision (cheaper) regimes.\n",
    "\n",
    "The observable: $\\langle Z_0...Z_4 \\rangle$. <br>\n",
    "\n",
    "\n",
    "**Empirical time estimation**: We will use \"empirical\" time estimation this setting performs a small execution on the QPU without running full mitigation. This usually takes a few minutes per estimation and is more reliable than the \"analytical\" estimation."
   ]
  },
  {
   "cell_type": "code",
   "execution_count": null,
   "metadata": {},
   "outputs": [],
   "source": [
    "backend_name_fake = \"fake_fez\"\n",
    "precisions_ex4 = [0.005, 0.01, 0.03, 0.05] \n",
    "observable_ex4 = qiskit.quantum_info.SparsePauliOp.from_sparse_list([(\"Z\"*n_qubits_ex4, range(n_qubits_ex4),1)], n_qubits_ex4) # Z_0..Z_{n-1}\n",
    "\n",
    "# Initialize list to store job IDs\n",
    "jobs_ex4 = []"
   ]
  },
  {
   "cell_type": "markdown",
   "metadata": {},
   "source": [
    "<div class=\"alert alert-block alert-warning\">\n",
    "\n",
    "**⚠️ Warning: QPU Time Consumption**\n",
    "\n",
    "Running the cell below may submit a job to a QPU and consume real QPU time. Please ensure you intend to proceed. For learning purposes, you can use a fake QPU.\n",
    "\n",
    "**Estimated QPU runtime:** 0 minutes 0 seconds (based on tests on `fake_fez`)\n",
    "\n",
    "</div>"
   ]
  },
  {
   "cell_type": "code",
   "execution_count": null,
   "metadata": {},
   "outputs": [],
   "source": [
    "if message == correct_message:\n",
    "    # Loop through each precision value\n",
    "    for precision in precisions_ex4:\n",
    "        print(f\"Submitting job with precision: {precision:.3f}\")\n",
    "        \n",
    "        # Start a job with current precision\n",
    "        job = qesem_function.run(\n",
    "            pubs=[(circ_ex4, [observable_ex4], [], precision)],\n",
    "            instance=your_crn,\n",
    "            backend_name=backend_name_fake,  # E.g. \"ibm_brisbane\"\n",
    "            options={\n",
    "                \"estimate_time_only\": \"empirical\",  # \"empirical\" - gets actual time estimates without running full mitigation\n",
    "                \"max_execution_time\": 240,          # limits the QPU time, specified in seconds.\n",
    "            }\n",
    "        )\n",
    "        \n",
    "        # Store the job ID\n",
    "        jobs_ex4.append(job)\n",
    "        print(f\"Job submitted with ID: {job.job_id}\")\n",
    "    \n",
    "    print(f\"\\nAll jobs submitted!\")\n",
    "    \n",
    "    start_time = time.time()\n",
    "else:\n",
    "    print (\"Parameter check failed. Jobs did not start\")"
   ]
  },
  {
   "cell_type": "markdown",
   "metadata": {},
   "source": [
    "### Step 3: Monitor job progress\n",
    "\n",
    "Since time estimation jobs can take several minutes to complete, we'll monitor their progress. This gives us real-time feedback on when all jobs are finished. Might take approximately 14 minutes (tested on fake_fez)."
   ]
  },
  {
   "cell_type": "code",
   "execution_count": null,
   "metadata": {},
   "outputs": [],
   "source": [
    "print(\"Monitoring job completion...   (this takes around 14 minutes, tested on fake_fez, you may break and return later)\")\n",
    "print(f\"Total jobs: {len(jobs_ex4)}\")\n",
    "print(\"-\" * 30)\n",
    "\n",
    "while True:  # Each job performs device characterization to estimate QPU time requirements\n",
    "    # Count how many jobs are done\n",
    "    done_count = 0\n",
    "    for job in jobs_ex4:  # Jobs with smaller ε values may take longer to process\n",
    "        if job.status() == \"DONE\":\n",
    "            done_count += 1\n",
    "    \n",
    "    # Show current status\n",
    "    elapsed_time = time.time() - start_time\n",
    "    timestamp = datetime.now().strftime('%H:%M:%S')\n",
    "    print(f\"[{timestamp}] {done_count}/{len(jobs_ex4)} jobs completed (elapsed: {elapsed_time/60:.1f} min)\")\n",
    "    \n",
    "    # Check if all jobs are done\n",
    "    if done_count == len(jobs_ex4):\n",
    "        print(f\"\\nAll jobs completed!\")\n",
    "        break\n",
    "    \n",
    "    # Wait 1 minute before next check\n",
    "    time.sleep(60)\n",
    "\n",
    "end_time = time.time()\n",
    "print(f\"Total time: {(end_time - start_time)/60:.1f} minutes\")"
   ]
  },
  {
   "cell_type": "markdown",
   "metadata": {
    "vscode": {
     "languageId": "raw"
    }
   },
   "source": [
    "### Step 4: Extract time estimation results\n",
    "\n",
    "Once all jobs are complete, we extract the QPU time estimates from each job's metadata. These time estimates represent how long QESEM would need to achieve the requested precision."
   ]
  },
  {
   "cell_type": "code",
   "execution_count": null,
   "metadata": {},
   "outputs": [],
   "source": [
    "# Once jobs are complete, extract time estimations\n",
    "time_estimations = []\n",
    "\n",
    "print(\"\\nExtracting time estimations from jobs...\")\n",
    "for i, job in enumerate(jobs_ex4):  # Loop through all completed jobs\n",
    "    print(f\"Getting time estimation for job {i+1}\")\n",
    "    \n",
    "    # Get the result and extract time estimation\n",
    "    time_estimate_result = job.result()\n",
    "    time_estimation_sec = time_estimate_result[0].metadata['time_estimation_sec']\n",
    "    \n",
    "    # Store the time estimation\n",
    "    time_estimations.append(time_estimation_sec)\n",
    "    print(f\"Time estimation: {time_estimation_sec} seconds\")\n",
    "\n",
    "print(f\"\\nAll time estimations extracted!\")"
   ]
  },
  {
   "cell_type": "markdown",
   "metadata": {
    "vscode": {
     "languageId": "raw"
    }
   },
   "source": [
    "\n",
    "### Step 5: Visualize the results\n",
    "\n",
    "We'll create a standard linear plot to visualize how QPU time varies with precision. This gives us an intuitive view of the relationship.\n",
    "\n",
    "**Expected Pattern**: Time estimates should increase dramatically as precision requirements become more stringent (smaller ε)."
   ]
  },
  {
   "cell_type": "code",
   "execution_count": null,
   "metadata": {},
   "outputs": [],
   "source": [
    "# Define the plotting function to visualize QPU time vs precision\n",
    "def plot_qpu_time_vs_precision(precisions, time_estimations_sec, title_suffix=\"\"):\n",
    "    \"\"\"\n",
    "    Plot QPU time estimation vs precision with curve fitting\n",
    "    \n",
    "    Args:\n",
    "        precisions: Array of precision values (ε)\n",
    "        time_estimations_sec: Array of time estimations in seconds\n",
    "        title_suffix: Optional suffix to add to the plot title\n",
    "    \"\"\"\n",
    "    # Convert time estimations from seconds to minutes\n",
    "    time_estimations_min = np.array(time_estimations_sec) / 60\n",
    "\n",
    "    # Define the fitting function: T = A/precision^2 + B\n",
    "    def fit_function(precision, A, B):\n",
    "        return A / (precision**2) + B\n",
    "\n",
    "    # Perform the curve fit using time\n",
    "    popt, pcov = curve_fit(fit_function, precisions, time_estimations_min)\n",
    "    A_fit, B_fit = popt\n",
    "\n",
    "    # Create a smooth curve for plotting the fit\n",
    "    precision_smooth = np.linspace(min(precisions), max(precisions), 100)\n",
    "    time_fit = fit_function(precision_smooth, A_fit, B_fit)\n",
    "\n",
    "    plt.figure(figsize=(8, 5))\n",
    "    plt.plot(precisions, time_estimations_min, 'o', markersize=8, color='blue', label='Data')\n",
    "    plt.plot(precision_smooth, time_fit, '-', linewidth=2, color='red', label=f'Fit: T = {A_fit:.3f}/ε² + {B_fit:.1f}')\n",
    "    plt.xlabel('Precision (ε)', fontsize=12)\n",
    "    plt.ylabel('QPU Time Estimation (minutes)', fontsize=12)\n",
    "    plt.title(f'QESEM QPU Time Estimation vs Precision{title_suffix}', fontsize=14)\n",
    "\n",
    "    plt.locator_params(axis='y', nbins=10)  # Increase number of y-axis ticks\n",
    "    plt.grid(True, alpha=0.3)\n",
    "    plt.legend()\n",
    "\n",
    "    # Display fit parameters\n",
    "    print(f\"Fitted parameters:\")\n",
    "    print(f\"A = {A_fit:.3f}\")\n",
    "    print(f\"B = {B_fit:.2f}\")\n",
    "    print(f\"Function: T = {A_fit:.3f}/ε² + {B_fit:.2f}\")\n",
    "    print(f\"Data points: {len(precisions)}\")\n",
    "\n",
    "    plt.tight_layout()\n",
    "    plt.show()\n",
    "\n",
    "# Create the initial plot with Steps 2-5 data\n",
    "plot_qpu_time_vs_precision(precisions_ex4, time_estimations)"
   ]
  },
  {
   "cell_type": "markdown",
   "metadata": {},
   "source": [
    "And indeed we can see the expected functional dependence of:\n",
    "$$T_{QPU} \\approx \\frac{\\tilde{A}}{\\epsilon^2} + B$$\n",
    "Where:\n",
    "- $\\tilde A={A} \\times e^{C \\times IF \\times V_{active}}$\n",
    "- $A$ is a constant that depends on the circuit and the expectation value\n",
    "- $B$ is overhead due to gate optimization and error characterization\n",
    "- $C$ is a constant between 2-4 that depends on the details of the error mitigation method. "
   ]
  },
  {
   "cell_type": "markdown",
   "metadata": {},
   "source": [
    "### Step 6: Execute with error mitigation on a real hardware\n",
    "\n",
    "Now let's run the actual QESEM error mitigation on our circuit."
   ]
  },
  {
   "cell_type": "markdown",
   "metadata": {},
   "source": [
    "<div class=\"alert alert-block alert-success\">\n",
    "<b> Exercise 4.2:</b>\n",
    "\n",
    "Look at the results of the QPU time vs precision graph above and think which precision you would like for your execution on real quantum hardware.\n",
    "Complete the QESEM job parameters accordingly.\n",
    "\n",
    "We will run an empirical time estimation for your desired precision to predict QPU resource requirements before running the full QESEM mitigation. This will take less than 5 minutes QPU time.\n",
    "    \n",
    "</div>"
   ]
  },
  {
   "cell_type": "markdown",
   "metadata": {},
   "source": [
    "<div class=\"alert alert-block alert-info\">\n",
    "<b>Tip:</b> Use a moderate precision for reasonable execution time while still demonstrating the mitigation capabilities.\n",
    "</div>"
   ]
  },
  {
   "cell_type": "markdown",
   "metadata": {},
   "source": [
    "<div class=\"alert alert-block alert-warning\">\n",
    "\n",
    "**⚠️ Warning: QPU Time Consumption**\n",
    "\n",
    "This exercise should use use a real QPU (e.g. `ibm_fez). Please ensure you intend to proceed. \n",
    "\n",
    "**Estimated QPU runtime:** 1 minutes 45 seconds (based on tests on `ibm_fez`)\n",
    "\n",
    "</div>"
   ]
  },
  {
   "cell_type": "code",
   "execution_count": null,
   "metadata": {},
   "outputs": [],
   "source": [
    "# ---- TODO: Exercise 4.2 ---- \n",
    "precision_ex4 =\n",
    "pubs_ex4 = [( , , [], precision_ex4)]  # Complete the pubs\n",
    "instance_ex4 =\n",
    "backend_name_ex4 =\n",
    "options_ex4 = {\n",
    "    \"estimate_time_only\": ,\n",
    "    \"max_execution_time\": ,\n",
    "    \"execution_mode\":  # \"batch\" or \"session\" for less QPU time or faster execution\n",
    "}\n",
    "# ---- End of TODO ----"
   ]
  },
  {
   "cell_type": "markdown",
   "metadata": {},
   "source": [
    "### Test parameters"
   ]
  },
  {
   "cell_type": "code",
   "execution_count": null,
   "metadata": {},
   "outputs": [],
   "source": [
    "message = grade_ex_4_2(\n",
    "    precision_ex4= precision_ex4,\n",
    "    pubs_ex4= pubs_ex4,\n",
    "    backend_name_ex4=backend_name_ex4,\n",
    "    options_ex4=options_ex4\n",
    ")\n",
    "print(message)"
   ]
  },
  {
   "cell_type": "markdown",
   "metadata": {},
   "source": [
    "### Start a job only if parameter check passed"
   ]
  },
  {
   "cell_type": "code",
   "execution_count": null,
   "metadata": {},
   "outputs": [],
   "source": [
    "if message == correct_message:     # Run the job only if parameters are correct\n",
    "    # Start a job\n",
    "    # Get time estimation first (quick empirical check)\n",
    "    time_est_job = qesem_function.run(\n",
    "        pubs = pubs_ex4,\n",
    "        instance = instance_ex4,\n",
    "        backend_name = backend_name_ex4,\n",
    "        options = options_ex4\n",
    "    )\n",
    "\n",
    "    print(f\"Time estimation job submitted: {time_est_job.job_id}\")\n",
    "    print(f\"with precision: {precision_ex4}\")\n",
    "    \n",
    "else:\n",
    "    print (message)\n",
    "    print (\"Parameter check failed. Job did not start.\")"
   ]
  },
  {
   "cell_type": "markdown",
   "metadata": {},
   "source": [
    "<a id=\"tips\"></a>\n",
    "<div class=\"alert alert-block alert-info\">\n",
    "    \n",
    "<b> Tip:</b> Use this code cell to check your job's status."
   ]
  },
  {
   "cell_type": "code",
   "execution_count": null,
   "metadata": {},
   "outputs": [],
   "source": [
    "time_est_job.status()"
   ]
  },
  {
   "cell_type": "markdown",
   "metadata": {},
   "source": [
    "Extract the time estimation from Step 6a and add it to our precision vs. QPU time graph to see how the new data point fits the T ∝ 1/ε² relationship."
   ]
  },
  {
   "cell_type": "code",
   "execution_count": null,
   "metadata": {},
   "outputs": [],
   "source": [
    "# Get the time estimation result\n",
    "time_est_result = time_est_job.result()\n",
    "step6_time_estimation = time_est_result[0].metadata['time_estimation_sec']\n",
    "\n",
    "print(f\"Step 6 time estimation: {step6_time_estimation} seconds\")\n",
    "\n",
    "# Add the new data point to existing arrays\n",
    "precisions_updated = np.append(precisions_ex4, precision_ex4)\n",
    "time_estimations_updated = np.append(time_estimations, step6_time_estimation)\n",
    "\n",
    "# Plot the updated graph with the new data point\n",
    "print(\"\\nUpdated graph with Step 6 data point:\")\n",
    "plot_qpu_time_vs_precision(precisions_updated, time_estimations_updated, \" (Including Step 6)\")"
   ]
  },
  {
   "cell_type": "markdown",
   "metadata": {},
   "source": [
    "<div class=\"alert alert-block alert-success\">\n",
    "    \n",
    "<b> Exercise 4.3:</b> \n",
    "\n",
    "If you are satisfied with the time estimation go ahead and run the full QESEM error mitigation on our 5-qubit, 10-step Kicked Ising circuit with precision ε. This will take QPU time according to your estimation result.\n",
    "Complete the QESEM job parameters accordingly.   \n",
    "    \n",
    "</div>"
   ]
  },
  {
   "cell_type": "markdown",
   "metadata": {},
   "source": [
    "<a id=\"tips\"></a>\n",
    "<div class=\"alert alert-block alert-info\">\n",
    "    \n",
    "<b> Tip:</b> Use `max_execution_time` option, this allows you to limit the QPU time, specified in seconds. After the time limit is reached, QESEM stops sending new circuits. Circuits that have already been sent continue running, you can see detailed explanation [here](https://docs.quantum.ibm.com/guides/qedma-qesem#function-parameters).\n",
    "\n",
    "Note: QESEM will end its run when it reaches the target precision or when it reaches `max_execution_time`, whichever comes first."
   ]
  },
  {
   "cell_type": "code",
   "execution_count": null,
   "metadata": {},
   "outputs": [],
   "source": [
    "precision_ex4_miti = precision_ex4\n",
    "pubs_ex4_miti = pubs_ex4\n",
    "instance_ex4_miti = instance_ex4\n",
    "backend_name_ex4_miti = backend_name_ex4\n",
    "\n",
    "# ---- TODO: Exercise 4.3 ---- \n",
    "options_ex4_miti = {\n",
    "    \"max_execution_time\": ,  # In seconds\n",
    "    \"execution_mode\":        # \"batch\" or \"session\" for less QPU time or faster execution\n",
    "}\n",
    "# ---- End of TODO ----"
   ]
  },
  {
   "cell_type": "markdown",
   "metadata": {},
   "source": [
    "### Test parameters"
   ]
  },
  {
   "cell_type": "code",
   "execution_count": null,
   "metadata": {},
   "outputs": [],
   "source": [
    "message = grade_ex_4_3(\n",
    "    precision_ex4= precision_ex4_miti,\n",
    "    pubs_ex4= pubs_ex4_miti,\n",
    "    backend_name_ex4=backend_name_ex4_miti,\n",
    "    options_ex4=options_ex4_miti\n",
    ")\n",
    "print(message)"
   ]
  },
  {
   "cell_type": "markdown",
   "metadata": {},
   "source": [
    "### Start a job only if parameter check passed"
   ]
  },
  {
   "cell_type": "markdown",
   "metadata": {},
   "source": [
    "<div class=\"alert alert-block alert-warning\">\n",
    "\n",
    "**⚠️ Warning: QPU Time Consumption**\n",
    "\n",
    "Running the cell below may submit a job to a QPU and consume real QPU time. Please ensure you intend to proceed.\n",
    "\n",
    "**Estimated QPU runtime:** 3 minutes 0 seconds (based on tests on `ibm_fez`)\n",
    "\n",
    "</div>"
   ]
  },
  {
   "cell_type": "markdown",
   "metadata": {},
   "source": [
    "<div class=\"alert alert-block alert-warning\">\n",
    "<b>Warning:</b> The QPU time estimation changes from one backend to another. Therefore, when executing the QESEM function, make sure to run it on the same backend that was selected when obtaining the QPU time estimation."
   ]
  },
  {
   "cell_type": "code",
   "execution_count": null,
   "metadata": {},
   "outputs": [],
   "source": [
    "if message == correct_message:     # Run the job only if parameters are correct\n",
    "    # Start a job\n",
    "    # Submit actual mitigation job\n",
    "    mitigation_job = qesem_function.run(\n",
    "        pubs=pubs_ex4_miti,\n",
    "        instance=instance_ex4_miti,\n",
    "        backend_name=backend_name_ex4_miti,\n",
    "        options=options_ex4_miti\n",
    "    )\n",
    "    print(f\"QESEM mitigation job submitted: {mitigation_job.job_id}\")\n",
    "    print(\"Job is running... This may take several minutes.\")\n",
    "    \n",
    "else:\n",
    "    print (message)\n",
    "    print (\"Parameter check failed, job did not start.\")"
   ]
  },
  {
   "cell_type": "markdown",
   "metadata": {},
   "source": [
    "<a id=\"tips\"></a>\n",
    "<div class=\"alert alert-block alert-info\">\n",
    "    \n",
    "<b> Tip:</b> Use this code cell to check your job's status.\n",
    "\n",
    "</div>"
   ]
  },
  {
   "cell_type": "code",
   "execution_count": null,
   "metadata": {},
   "outputs": [],
   "source": [
    "mitigation_job.status()"
   ]
  },
  {
   "cell_type": "markdown",
   "metadata": {},
   "source": [
    "Extract and analyze the QESEM results, comparing ideal, noisy, and error-mitigated expectation values to demonstrate the effectiveness of QESEM.\n"
   ]
  },
  {
   "cell_type": "code",
   "execution_count": null,
   "metadata": {},
   "outputs": [],
   "source": [
    "# Read and analyze results\n",
    "print(\"Reading QESEM results...\")\n",
    "\n",
    "# Get the mitigated results\n",
    "qesem_result = mitigation_job.result()\n",
    "print(f\"Job completed successfully!\")\n",
    "\n",
    "# Extract results for our observable\n",
    "pub_result = qesem_result[0]\n",
    "mitigated_expectation = pub_result.data.evs[0] \n",
    "mitigated_std = pub_result.data.stds[0]\n",
    "\n",
    "# Get noisy results for comparison\n",
    "noisy_results = pub_result.metadata[\"noisy_results\"]\n",
    "noisy_expectation = noisy_results.evs[0]\n",
    "noisy_std = noisy_results.stds[0]\n",
    "\n",
    "# Calculate ideal value for comparison\n",
    "ideal_expectation = Statevector(circ_ex4).expectation_value(observable_ex4).real\n",
    "\n",
    "# Display comprehensive results summary\n",
    "print(\"\\n\" + \"=\"*60)\n",
    "print(\"EXERCISE 4 - QESEM RESULTS SUMMARY\")\n",
    "print(\"=\"*60)\n",
    "print(f\"Observable: Global Z measurement (Z^⊗{n_qubits_ex4})\")\n",
    "print(f\"Circuit: {n_steps_ex4}-step Kicked Ising, {n_qubits_ex4} qubits\")\n",
    "print(f\"Precision target: {precision_ex4}\")\n",
    "print(\"-\"*60)\n",
    "print(f\"Ideal value:      {ideal_expectation:.6f}\")\n",
    "print(f\"Noisy value:      {noisy_expectation:.6f} ± {noisy_std:.6f}\")\n",
    "print(f\"QESEM value:      {mitigated_expectation:.6f} ± {mitigated_std:.6f}\")\n",
    "print(\"-\"*60)\n",
    "print(f\"Noisy error:      {abs(noisy_expectation - ideal_expectation):.6f}\")\n",
    "print(f\"QESEM error:      {abs(mitigated_expectation - ideal_expectation):.6f}\")\n",
    "print(f\"Error reduction:  {abs(noisy_expectation - ideal_expectation)/abs(mitigated_expectation - ideal_expectation if mitigated_expectation != ideal_expectation else 1):.1f}x\")\n",
    "print(\"-\"*60)\n",
    "print(f\"QESEM within target precision: {'✓' if abs(mitigated_expectation - ideal_expectation) <= precision_ex4 else '✗'}\")\n",
    "print(\"-\"*60)\n",
    "# Additional detailed metrics\n",
    "print(f\"Total QPU time: \\n {pub_result.metadata['total_qpu_time']:.6f}\")\n",
    "print(f\"Gates fidelity measured during the experiment: \\n {pub_result.metadata['gate_fidelities']}\")\n",
    "print(f\"Total shots / mitigation shots: \\n {pub_result.metadata['total_shots']} / {pub_result.metadata['mitigation_shots']}\")\n",
    "print(\"=\"*60)"
   ]
  },
  {
   "cell_type": "markdown",
   "metadata": {},
   "source": [
    "# Pretzel Example (optional)\n",
    "We've added a 28 circuit for users who would like to experiment with QESEM on higher volume circuits. <br>"
   ]
  },
  {
   "cell_type": "markdown",
   "metadata": {},
   "source": [
    "<div class=\"alert alert-block alert-warning\">\n",
    "<b>Warning:</b> Please limit the QPU time according to your resources.\n",
    "</div>"
   ]
  },
  {
   "cell_type": "code",
   "execution_count": null,
   "metadata": {},
   "outputs": [],
   "source": [
    "# Loading a 6 steps of Kicked Ising Model on a pretzel \n",
    "pretzel_qc = QuantumCircuit.from_qasm_file(\"pretzel6.qasm\")    \n",
    "# Defining observable\n",
    "avg_magnetization = qiskit.quantum_info.SparsePauliOp.from_sparse_list(\n",
    "    [(\"Z\", [q], 1 / 28) for q in range(28)], 28\n",
    ")"
   ]
  },
  {
   "cell_type": "markdown",
   "metadata": {},
   "source": [
    "# Feedback Survey\n",
    "\n",
    "We’d love to hear about your experience using the Qiskit Function! Your feedback is valuable and will help Qiskit Function providers enhance their tools and services. Please take a moment to share your thoughts by completing our short 2 min [feedback survey](https://airtable.com/app6VujlNUHZuOnAF/pagpw6TgP9UEt4TAT/form)."
   ]
  },
  {
   "cell_type": "markdown",
   "metadata": {},
   "source": [
    "## Environment Check: Package Versions\n",
    "\n",
    "Let's verify that all required packages are installed and check their versions:"
   ]
  },
  {
   "cell_type": "code",
   "execution_count": null,
   "metadata": {},
   "outputs": [],
   "source": [
    "import qiskit\n",
    "import qiskit_ibm_runtime\n",
    "import qiskit_ibm_catalog\n",
    "import qiskit_aer\n",
    "import matplotlib\n",
    "import networkx\n",
    "import tqdm\n",
    "import numpy\n",
    "import scipy\n",
    "import pylatexenc\n",
    "import IPython\n",
    "\n",
    "print(\"Main Qiskit Packages:\")\n",
    "print(f\"Qiskit: {qiskit.__version__}\")\n",
    "print(f\"Qiskit IBM Runtime: {qiskit_ibm_runtime.__version__}\")\n",
    "print(f\"Qiskit IBM Catalog: {qiskit_ibm_catalog.__version__}\")\n",
    "print(f\"Qiskit Aer: {qiskit_aer.__version__}\")\n",
    "\n",
    "print(\"\\nScientific:\")\n",
    "print(f\"NumPy: {numpy.__version__}\")\n",
    "print(f\"SciPy: {scipy.__version__}\")\n",
    "print(f\"Matplotlib: {matplotlib.__version__}\")\n",
    "\n",
    "print(\"\\nUtilities:\")\n",
    "print(f\"NetworkX: {networkx.__version__}\")\n",
    "print(f\"tqdm: {tqdm.__version__}\")\n",
    "print(f\"pylatexenc: {pylatexenc.__version__}\")\n",
    "print(f\"IPython/Jupyter: {IPython.__version__}\")"
   ]
  },
  {
   "cell_type": "markdown",
   "metadata": {},
   "source": [
    "# Additional information\n",
    "\n",
    "**Created by:** Yosi Atia, Tali Shnaider\n",
    "\n",
    "**Advised by:** Ori Alberton, Eyal Bairey, Asaf Berkovitch, Assaf Zubida\n",
    "\n",
    "**Version:** 1.0.0"
   ]
  }
 ],
 "metadata": {
  "jupytext": {
   "formats": "ipynb,py:percent"
  },
  "kernelspec": {
   "display_name": "summer school 3",
   "language": "python",
   "name": "your-poetry-env"
  },
  "language_info": {
   "codemirror_mode": {
    "name": "ipython",
    "version": 3
   },
   "file_extension": ".py",
   "mimetype": "text/x-python",
   "name": "python",
   "nbconvert_exporter": "python",
   "pygments_lexer": "ipython3",
   "version": "3.13.5"
  }
 },
 "nbformat": 4,
 "nbformat_minor": 4
}
