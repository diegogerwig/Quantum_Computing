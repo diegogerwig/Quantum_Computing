{
 "cells": [
  {
   "cell_type": "markdown",
   "metadata": {},
   "source": [
    "# Qiskit Function - Practical Application of Handover Iterative VQE (HI-VQE) Chemistry for C=C torsional deformation of $C_{2}H_{4}$"
   ]
  },
  {
   "cell_type": "markdown",
   "metadata": {},
   "source": [
    "# Table of Contents\n",
    "\n",
    "* [Overview](#overview)\n",
    "* [Setup](#setup)\n",
    "* [Part 1: Introduction to HI-VQE](#part-1-introduction-to-hi-vqe)\n",
    "    * [Exercise 1](#exercise1)\n",
    "* [Part 2: Accurate Ground State Energy](#part-2-accurate-ground-state-energy)\n",
    "    * [Exercise 2](#exercise2)\n",
    "* [Part 3: Torsional Potential Energy](#part-3-torsional-potential-energy)\n",
    "    * [Exercise 3](#exercise3)"
   ]
  },
  {
   "cell_type": "markdown",
   "metadata": {},
   "source": [
    "# Overview"
   ]
  },
  {
   "cell_type": "markdown",
   "metadata": {},
   "source": [
    "The **Handover Iterative VQE (HI-VQE)** method is designed to efficiently build accurate ground state subspace Hamiltonian to avoid diagonalization of full space Hamiltonian matrix, leveraging significant sparsity of full space Hamiltonian observed in quantum chemistry systems. The handover approach ensure the accurate energy estimation sampled from quantum circuits as important and core states of electronic configurations. The quantum circuit parameters are also iteratively revised to navigate to core states enabling robust and reliable calculations even in the presence of quantum noise. \n",
    "\n",
    "This notebook guides you how to utilize HI-VQE Chemistry;you'll learn how the HI-VQE function works with the input parameters and setup to explore its application to chemically intriguing molecules. \n",
    "\n",
    "The notebook is structured as follows:\n",
    "\n",
    "- **Part 1: Introduction to HI-VQE**\n",
    "    In Part 1, you will learn about the HI-VQE algorithm, covering how it works, what problems it's useful for, and what makes it unique.\n",
    "\n",
    "- **Part 2: Ground State Energy calculation**  \n",
    "    In Part 2, you will learn how to use the HI-VQE Chemistry to set up and execute the Quantum Chemistry calculations with the $C_2H_4$ (Ethylene) molecule in a given basis. This section will provide you with hands-on experience for HI-VQE Chemistry, focusing on **energy estimation** based on the subspace obtained from quantum samples and energy obtained from classical solvers as handover process. You will be tasked with tuning parameters to improve the performance of HI-VQE and achieve a closer approximation of the molecule's ground state energy. **Your goal** is to refine the parameters to enhance accuracy while considering noise and other quantum device constraints.\n",
    "\n",
    "- **Part 3: Torsion Potential Energy calculations**  \n",
    "    Once you've completed the **Part 2**, you'll move on to calculation of torsional deformation and corresponding energy profile of $C_2H_4$. \n",
    "    \n",
    "    You will be tasked with tuning parameters to improve the performance of HI-VQE and achieve a closer approximation of the molecule's ground state energy and potential energy surface upon torsion deformation ."
   ]
  },
  {
   "cell_type": "markdown",
   "metadata": {},
   "source": [
    "# Setup"
   ]
  },
  {
   "cell_type": "code",
   "execution_count": null,
   "metadata": {},
   "outputs": [],
   "source": [
    "# Install dependencies\n",
    "%pip install \"qiskit[visualization]\" qiskit_ibm_runtime qiskit_ibm_catalog py3Dmol ipywidgets "
   ]
  },
  {
   "cell_type": "code",
   "execution_count": null,
   "metadata": {},
   "outputs": [],
   "source": [
    "# Imports\n",
    "\n",
    "# Import common libraries\n",
    "import reprlib\n",
    "import py3Dmol\n",
    "import matplotlib.pyplot as plt\n",
    "import numpy as np\n",
    "import ipywidgets as widgets\n",
    "from IPython.display import display, clear_output\n",
    "\n",
    "# Import qiskit ecosystems\n",
    "from qiskit_ibm_runtime import QiskitRuntimeService\n",
    "from qiskit_ibm_catalog import QiskitFunctionsCatalog\n",
    "\n",
    "# Grader\n",
    "from grader import grade_ex1a, grade_ex1b, grade_ex2a, grade_ex2b, grade_ex3\n",
    "\n",
    "# Define the function to visualize the geometries\n",
    "def VISUALIZE_GEOMETRIES(structure_names, xyz_strings):\n",
    "    mol_selector = widgets.SelectionSlider(\n",
    "        options=[(name, idx) for idx, name in enumerate(structure_names)],\n",
    "        description='Geometry:',\n",
    "        style={'description_width': '150px'},\n",
    "        layout=widgets.Layout(\n",
    "            width='500px',\n",
    "            border='2px solid black',\n",
    "            padding='10px'\n",
    "        ),\n",
    "        continuous_update=False\n",
    "    )\n",
    "    output = widgets.Output()\n",
    "    output.layout = widgets.Layout(\n",
    "        border='2px solid black', \n",
    "        padding='5px', \n",
    "        width='500px', height='320px'\n",
    "    )\n",
    "\n",
    "    def show_molecule(index):\n",
    "        with output:\n",
    "            clear_output(wait=True)\n",
    "            viewer = py3Dmol.view(width=400, height=300)\n",
    "            viewer.layout.border = '10px solid black'\n",
    "            viewer.addModel(xyz_strings[index], 'xyz')\n",
    "            viewer.setStyle({}, {'stick': {}, 'sphere': {'radius': 0.4}})\n",
    "            viewer.zoom(2)\n",
    "            viewer.show()\n",
    "\n",
    "    def on_value_change(change):\n",
    "        if change['name'] == 'value' and change['type'] == 'change':\n",
    "            index = change['new']\n",
    "            show_molecule(index)\n",
    "\n",
    "    mol_selector.observe(on_value_change)\n",
    "\n",
    "    display(mol_selector, output)\n",
    "    show_molecule(0)"
   ]
  },
  {
   "cell_type": "markdown",
   "metadata": {},
   "source": [
    "<div class=\"alert alert-block alert-warning\">\n",
    "\n",
    "**Exclusive Access to Qiskit Functions**\n",
    "\n",
    "As part of Qiskit Global Summer School (QGSS), participants with a Premium or Flex Plan have limited-time trial access to Qiskit Functions. Access is exclusive and subject to your organization’s administrator approval. Complete [this form](https://airtable.com/appj8IrSNZGz4l4BB/pag8WgWdUr5uSJGZA/form) to request access.\n",
    "\n",
    "If you encounter the error `QiskitServerlessException: Credentials couldn't be verified`. in the cell below, it means your access to Qiskit Functions is not yet active. Please check back later after your request has been processed.\n",
    "\n",
    "**Note: Running this lab will consume QPU time from your organization’s account. Estimated QPU usage is provided before each cell that executes on a QPU. Please monitor your usage and consult your organization admin if you’re unsure about your allocated QPU time for QGSS Functions labs.**\n",
    "\n",
    "</div>"
   ]
  },
  {
   "cell_type": "code",
   "execution_count": null,
   "metadata": {},
   "outputs": [],
   "source": [
    "# Load the Qiskit Functions Catalog\n",
    "your_api_key = \"deleteThisAndPasteYourAPIKeyHere\"\n",
    "your_crn = \"deleteThisAndPasteYourCRNHere\"\n",
    "\n",
    "catalog = QiskitFunctionsCatalog(\n",
    "    channel=\"ibm_quantum_platform\",\n",
    "    token=your_api_key,\n",
    "    instance=your_crn,\n",
    ")\n",
    "# You should see a list of Qiskit Functions available to you\n",
    "# If you encounter the error `QiskitServerlessException: Credentials couldn't be verified`,\n",
    "# it means your access is not yet active\n",
    "catalog.list()"
   ]
  },
  {
   "cell_type": "code",
   "execution_count": null,
   "metadata": {},
   "outputs": [],
   "source": [
    "# Load Qunova HI-VQE function\n",
    "function = catalog.load(\"qunova/hivqe-chemistry\")"
   ]
  },
  {
   "cell_type": "code",
   "execution_count": null,
   "metadata": {},
   "outputs": [],
   "source": [
    "# You'll need to specify the credentials when initializing QiskitRuntimeService, if they were not previously saved.\n",
    "service = QiskitRuntimeService(\n",
    "    channel=\"ibm_quantum_platform\",\n",
    "    token=your_api_key,\n",
    "    instance=your_crn,\n",
    ")\n",
    "backend = service.least_busy(operational=True, simulator=False)\n",
    "backend_name = backend.name\n",
    "print(f\"Using the least busy backend: {backend_name}\")"
   ]
  },
  {
   "cell_type": "markdown",
   "metadata": {},
   "source": [
    "# Part 1: Introduction to HI-VQE"
   ]
  },
  {
   "cell_type": "markdown",
   "metadata": {},
   "source": [
    "HI‑VQE (Handover Iterative Variational Quantum Eigensolver) is a hybrid quantum-classical algorithm designed to help solve one of the most important problems in quantum chemistry: finding a chemical system's lowest energy state, which we call the ground state.\n",
    "This is essential for predicting how molecules behave, how they bond, and how chemical reactions happen. But exactly calculating the ground state is extremely hard for big molecules, because the number of possible ways electrons can arrange themselves (called electron configurations) grows exponentially as systems get larger.\n",
    "\n",
    "Instead of trying every possible configuration (which would be too slow and costly), HI‑VQE cleverly **focuses only on the important ones**, as only a subset of configurations are crucial for modelling the ground state of many chemical systems. It does this using both classical and quantum computing:\n",
    "\n",
    "1. Specify the desired chemical system using some chemistry software on a classical computer.\n",
    "\n",
    "2. Use a quantum computer to generate promising electron configurations, essentially asking the quantum device to identify the subset of configurations that are important for the ground state.\n",
    "\n",
    "3. Check and filter the sampled configurations using classical tools to remove invalid or unimportant ones.\n",
    "\n",
    "4. Build a simplified model (a “subspace”) from the best configurations found so far.\n",
    "\n",
    "5. Solve this simplified problem classically by calculating the energy for just this smaller group of configurations.\n",
    "\n",
    "6. Repeat the process from Step 2, gradually improving the accuracy by updating the quantum circuit and refining the subspace, until the energy estimate stops changing much.\n",
    "\n",
    "By focusing on a small number of meaningful configurations, HI‑VQE avoids wasting time and resources on unimportant ones and can handle larger molecules than many other quantum chemistry methods. Users can choose different quantum circuits and tune how the algorithm behaves based on the system they’re studying. Additionally, even though today’s quantum devices are noisy, HI‑VQE is designed to handle errors and still produce useful results.\n",
    "\n",
    "HI‑VQE differs from other methods through the novel combination of the following techniques:\n",
    "\n",
    "- **Subspace construction:** It builds and updates a compact “subspace” of only the most relevant configurations.\n",
    "\n",
    "- **Screening and pruning:** It estimates which configurations matter the most and keeps the \"subspace\" lean.\n",
    "\n",
    "- **Hybrid iteration:** It alternates between quantum and classical steps, letting each type of computer do what it’s best at.\n",
    "\n",
    "- **Configuration expansion:** It can generate new candidate configurations classically, adding variety to the quantum-generated ones.\n",
    "\n",
    "Once HI‑VQE finishes, you get:\n",
    "\n",
    "- An approximate ground state wave function,\n",
    "\n",
    "- The corresponding ground state energy, and\n",
    "\n",
    "- An estimate of how accurate the result is.\n",
    "\n",
    "These results are useful for studying chemical systems, mapping potential energy surfaces, and exploring reactions and material behavior."
   ]
  },
  {
   "cell_type": "markdown",
   "metadata": {},
   "source": [
    "Define all geometries and reference data for $C_{2}H_{4}$ ground state and torsional deformation to be utilized in the following tasks. In this practice, you can obtain ground state energy using 12 electrons with 12 orbitals to utilize 24 qubits."
   ]
  },
  {
   "cell_type": "code",
   "execution_count": null,
   "metadata": {},
   "outputs": [],
   "source": [
    "rhf_energies = {\n",
    "    \"Optimized geometry\":-78.0396545776652,\n",
    "    \"30deg-torsion\": -78.0192613144388,\n",
    "    \"45deg-torsion\": -77.9941686599885,\n",
    "    \"60deg-torsion\": -77.9598374283669,\n",
    "    \"90deg-torsion\": -77.8675828498107,\n",
    "}\n",
    "\n",
    "exact_energies_24qubits = {\n",
    "    \"Optimized geometry\":-78.0788722041575,\n",
    "    \"30deg-torsion\": -78.0602772472799,\n",
    "    \"45deg-torsion\": -78.03806395985646,\n",
    "    \"60deg-torsion\": -78.0094172772050,\n",
    "    \"90deg-torsion\": -77.9637383376237,\n",
    "}\n",
    "\n",
    "xyz_strings = [\n",
    "\"\"\"6\n",
    "Optimized geometry\n",
    "C     -0.000000     0.000000     0.666700\n",
    "C      0.000000     0.000000    -0.666700\n",
    "H     -0.000000     0.931265     1.241297\n",
    "H     -0.000000    -0.931265     1.241297\n",
    "H     -0.000000    -0.931265    -1.241297\n",
    "H      0.000000     0.931265    -1.241297\"\"\",\n",
    "\"\"\"6\n",
    "30deg-torsion\n",
    "C      0.000000    -0.000000     0.670241\n",
    "C      0.000000    -0.000000    -0.670241\n",
    "H     -0.240927     0.899153     1.248661\n",
    "H      0.240927    -0.899153     1.248661\n",
    "H     -0.240927    -0.899153    -1.248661\n",
    "H      0.240927     0.899153    -1.248661\"\"\",\n",
    "\"\"\"6\n",
    "45deg-torsion\n",
    "C      0.000000    -0.000000     0.674960\n",
    "C      0.000000    -0.000000    -0.674960\n",
    "H     -0.355980     0.859414     1.257953\n",
    "H      0.355980    -0.859414     1.257953\n",
    "H     -0.355980    -0.859414    -1.257953\n",
    "H      0.355980     0.859414    -1.257953\"\"\",\n",
    "\"\"\"6\n",
    "60deg-torsion\n",
    "C      0.000000    -0.000000     0.682204\n",
    "C      0.000000    -0.000000    -0.682204\n",
    "H     -0.464596     0.804705     1.270962\n",
    "H      0.464596    -0.804705     1.270962\n",
    "H     -0.464596    -0.804705    -1.270962\n",
    "H      0.464596     0.804705    -1.270962\"\"\",\n",
    "\"\"\"6\n",
    "90deg-torsion\n",
    "C     -0.000000     0.000000     0.708799\n",
    "C      0.000000     0.000000    -0.708799\n",
    "H     -0.655845     0.655846     1.306020\n",
    "H      0.655845    -0.655846     1.306020\n",
    "H     -0.655845    -0.655846    -1.306020\n",
    "H      0.655845     0.655846    -1.306020\"\"\",\n",
    "]\n",
    "\n",
    "structure_names = []\n",
    "molecular_geometries = []\n",
    "for xyz_string in xyz_strings:\n",
    "    structure_name = xyz_string.split(\"\\n\")[1]\n",
    "    structure_names.append(structure_name)\n",
    "    xyz_data = \";\".join(xyz_string.split(\"\\n\")[2:])\n",
    "    molecular_geometries.append(xyz_data)"
   ]
  },
  {
   "cell_type": "markdown",
   "metadata": {},
   "source": [
    "<a id=\"exercise1\"></a>\n",
    "<div class=\"alert alert-block alert-success\">\n",
    "    \n",
    "<b> Exercise 1:</b> \n",
    "\n",
    "Submit the first $C{_2}H{_4}$ geometry for 24 qubits and 12 electrons with `ccpvdz` and obtain ground state energy using HI-VQE Chemistry function. You will use 6 occupied spatial orbitals out of 8 occupied orbitals with 6 virtual spatial orbitals. `active orbital` and `frozen orbital` should be supplied as orbital indices in zero base indexing.\n",
    "\n",
    "</div>"
   ]
  },
  {
   "cell_type": "code",
   "execution_count": null,
   "metadata": {},
   "outputs": [],
   "source": [
    "### Write your code below here ###\n",
    "molecule_options = {\n",
    "    \"basis\": ..., # TODO set basis\n",
    "    \"active_orbitals\": ..., # TODO set active orbitals\n",
    "    \"frozen_orbitals\": ..., # TODO set frozen orbitals\n",
    "}\n",
    "\n",
    "### Don't change any code past this line ###\n",
    "\n",
    "hivqe_options = {\"shots\": 1000, \"max_iter\": 40}\n",
    "max_states = 2000\n",
    "classical_expansion_states = 10"
   ]
  },
  {
   "cell_type": "code",
   "execution_count": null,
   "metadata": {},
   "outputs": [],
   "source": [
    "grade_ex1a(molecule_options)"
   ]
  },
  {
   "cell_type": "markdown",
   "metadata": {},
   "source": [
    "<div class=\"alert alert-block alert-warning\">\n",
    "\n",
    "**⚠️ Warning: QPU Time Consumption**\n",
    "\n",
    "Running the cell below will submit a job to a QPU and consume real QPU time. Please ensure you intend to proceed.\n",
    "\n",
    "**Estimated QPU runtime:** 1 minutes 22 seconds (based on tests on `ibm_fez`)\n",
    "\n",
    "</div>"
   ]
  },
  {
   "cell_type": "code",
   "execution_count": null,
   "metadata": {},
   "outputs": [],
   "source": [
    "# Run HI-VQE\n",
    "job = function.run(\n",
    "    geometry=molecular_geometries[0],\n",
    "    backend_name=backend_name,\n",
    "    max_states=max_states,\n",
    "    max_expansion_states=classical_expansion_states,\n",
    "    molecule_options=molecule_options,\n",
    "    hivqe_options=hivqe_options,\n",
    "    use_session=True,\n",
    ")\n",
    "\n",
    "job_id = job.job_id\n",
    "job_status = job.status()\n",
    "print(f\"Optimized geometry HI-VQE Job ID: {job_id}, status: {job_status}\")\n",
    "\n",
    "ex1_job_id = {\"ex1b_job_id\": job_id}"
   ]
  },
  {
   "cell_type": "code",
   "execution_count": null,
   "metadata": {},
   "outputs": [],
   "source": [
    "job_id = ex1_job_id[\"ex1b_job_id\"]\n",
    "job = catalog.job(job_id)\n",
    "job_status = job.status()\n",
    "\n",
    "if job_status == 'DONE':\n",
    "    job_result = job.result()\n",
    "    print(f\"Optimized geometry HI-VQE energy: {job_result['energy']}\")\n",
    "else:\n",
    "    print(f\"Waiting for job to complete: {job_id}, status: {job_status}\")"
   ]
  },
  {
   "cell_type": "code",
   "execution_count": null,
   "metadata": {},
   "outputs": [],
   "source": [
    "# Submit your answer using following code\n",
    "ex1b_answer = {\n",
    "    \"hivqe_energy\": ..., # TODO get hivqe energy\n",
    "}"
   ]
  },
  {
   "cell_type": "code",
   "execution_count": null,
   "metadata": {},
   "outputs": [],
   "source": [
    "grade_ex1b(ex1b_answer)"
   ]
  },
  {
   "cell_type": "markdown",
   "metadata": {},
   "source": [
    "# Part 2: Accurate Ground State Energy"
   ]
  },
  {
   "cell_type": "markdown",
   "metadata": {},
   "source": [
    "Ethylene ($C_{2}H_{4}$) is a fundamental molecule in organic and theoretical chemistry. With 16 electrons and a simple planar structure, it provides a clean system to study π-bonding, electronic excitation, and torsional barriers using quantum chemical methods.\n",
    "\n",
    "Geometry and Bonding\n",
    "\n",
    "- **Geometry**: Planar molecule with sp² hybridized carbon atoms.\n",
    "- **Bonding**:\n",
    "    - Each carbon forms 3 σ-bonds:\n",
    "        - 2 with hydrogen atoms.\n",
    "        - 1 with the other carbon atom.\n",
    "    - The **π bond** between carbons arises from sideways overlap of unhybridized 2p orbitals.\n",
    "- **Electronic Structure**\n",
    "    - The π and π* orbitals are well-separated from the σ-framework.\n",
    "    - Ideal for studying **active space** approaches in multireference methods.\n",
    "    - The π → π* excitation is a **benchmark** low-lying singlet excited state. This makes ethylene highly valuable for benchmarking excited-state computational methods.\n",
    "\n",
    "- **Torsional Barrier**\n",
    "    - Rotation around the C=C bond breaks the π-overlap, creating a **torsional barrier**.\n",
    "    - Useful for exploring **correlation effects** and **orbital symmetry breaking**."
   ]
  },
  {
   "cell_type": "markdown",
   "metadata": {},
   "source": [
    "<a id=\"exercise2\"></a>\n",
    "<div class=\"alert alert-block alert-success\">\n",
    "    \n",
    "<b> Exercise 2:</b> \n",
    "\n",
    "Submit calculations with several `max_states` value to obtain chemically accurate result (less than 1.6 mHa difference from exact result) and submit the best `max_states` as the answer of the exercise2. Note that you should use the same `molecule_options` obtained from the exercise1.\n",
    "    \n",
    "</div>"
   ]
  },
  {
   "cell_type": "code",
   "execution_count": null,
   "metadata": {},
   "outputs": [],
   "source": [
    "### Write your code below here ###\n",
    "\n",
    "max_states_list = [ , , , ] #TODO use max_states list between 2000 and 5000\n",
    "molecule_options = {\n",
    "    \"basis\": ..., # TODO set basis\n",
    "    \"active_orbitals\": ..., # TODO set active orbitals\n",
    "    \"frozen_orbitals\": ..., # TODO set frozen orbitals\n",
    "}"
   ]
  },
  {
   "cell_type": "code",
   "execution_count": null,
   "metadata": {},
   "outputs": [],
   "source": [
    "ex2a_answer = {\n",
    "    \"max_states_list\": max_states_list,\n",
    "    \"basis\": molecule_options[\"basis\"],\n",
    "    \"active_orbitals\": molecule_options[\"active_orbitals\"],\n",
    "    \"frozen_orbitals\": molecule_options[\"frozen_orbitals\"],\n",
    "}\n",
    "\n",
    "grade_ex2a(ex2a_answer)"
   ]
  },
  {
   "cell_type": "markdown",
   "metadata": {},
   "source": [
    "<div class=\"alert alert-block alert-warning\">\n",
    "\n",
    "**⚠️ Warning: QPU Time Consumption**\n",
    "\n",
    "Running the cell below will submit multiple jobs to a QPU and consume real QPU time. Please ensure you intend to proceed.\n",
    "\n",
    "**Estimated QPU runtime:** 6 minutes 2 seconds (based on tests on `ibm_fez`)\n",
    "\n",
    "\n",
    "</div>"
   ]
  },
  {
   "cell_type": "code",
   "execution_count": null,
   "metadata": {},
   "outputs": [],
   "source": [
    "### Don't change any code past this line ###\n",
    "\n",
    "ex2_job_ids = {}\n",
    "for max_states in max_states_list:\n",
    "    hivqe_options = {\"shots\": 1000, \"max_iter\": 40}\n",
    "    classical_expansion_states = 10\n",
    "    \n",
    "    # Run HI-VQE\n",
    "    job = function.run(\n",
    "        geometry=molecular_geometries[0],\n",
    "        backend_name=backend_name,\n",
    "        max_states=max_states,\n",
    "        max_expansion_states=classical_expansion_states,\n",
    "        molecule_options=molecule_options,\n",
    "        hivqe_options=hivqe_options,\n",
    "        use_session=True,\n",
    "    )\n",
    "\n",
    "    job_id = job.job_id\n",
    "    ex2_job_ids[max_states] = job_id"
   ]
  },
  {
   "cell_type": "markdown",
   "metadata": {},
   "source": [
    "<a id=\"tips\"></a>\n",
    "<div class=\"alert alert-block alert-info\">\n",
    "    \n",
    "<b> Tips:</b> \n",
    "\n",
    "The `max_states` variable defines the maximum number of states retained in the subspace for diagonalization. It also serves as a threshold for selecting and screening the most relevant states. While smaller values reduce memory usage and computational cost, setting it too low may exclude important states, so it should be chosen carefully based on the problem size and accuracy requirements.\n",
    "\n",
    "</div>"
   ]
  },
  {
   "cell_type": "code",
   "execution_count": null,
   "metadata": {},
   "outputs": [],
   "source": [
    "opt_hivqe_energies = {}\n",
    "\n",
    "for max_state, job_id in ex2_job_ids.items():\n",
    "    job = catalog.job(job_id)\n",
    "    job_status = job.status()\n",
    "    print(f\"Optimized geometry HI-VQE Job ID: {job_id}, status: {job_status}\")\n",
    "    if job_status == 'DONE':\n",
    "        result = job.result()\n",
    "        energy = result['energy']\n",
    "        print(f\"HI-VQE energy: {energy}\")\n",
    "        opt_hivqe_energies[max_state]= energy"
   ]
  },
  {
   "cell_type": "code",
   "execution_count": null,
   "metadata": {},
   "outputs": [],
   "source": [
    "opt_hivqe_energy_values = list(opt_hivqe_energies.values())\n",
    "\n",
    "if len(ex2_job_ids) == len(opt_hivqe_energies):\n",
    "    print(\"All jobs are done\")\n",
    "    # Plot results for the optimized geometry\n",
    "    rhf_energy = rhf_energies[\"Optimized geometry\"]\n",
    "    exact_energy = exact_energies_24qubits[\"Optimized geometry\"]\n",
    "    fig,axs = plt.subplots(1,2,figsize=(10, 4))\n",
    "\n",
    "    axs[0].plot(max_states_list, opt_hivqe_energy_values, 'o-', label='HI-VQE final energy', color='blue')\n",
    "    axs[0].set_xlabel('max_states', fontsize=16)\n",
    "    axs[0].set_ylabel('Energy (Ha)', fontsize=16)\n",
    "    axs[0].set_title('HI-VQE energy vs max_states', fontsize=16)\n",
    "    axs[0].legend(fontsize=16)\n",
    "    axs[0].grid(color='gray', linestyle='--', linewidth=0.7, alpha=0.7)\n",
    "\n",
    "    axs[1].plot(max_states_list, np.array(opt_hivqe_energy_values)-exact_energy, 'o-', label='Exact - HI-VQE Error', color='green')\n",
    "    axs[1].set_xlabel('max_states', fontsize=16)\n",
    "    axs[1].set_ylabel('Error (Ha)', fontsize=16)\n",
    "    axs[1].set_title('HI-VQE error vs max_states', fontsize=16)\n",
    "    axs[1].axhline(y=0.0016, color='red', linestyle='--', linewidth=3.0, alpha=0.7)\n",
    "    axs[1].legend(fontsize=16)\n",
    "    plt.tight_layout()\n",
    "    plt.grid(color='gray', linestyle='--', linewidth=0.7, alpha=0.7)\n",
    "    plt.show()"
   ]
  },
  {
   "cell_type": "code",
   "execution_count": null,
   "metadata": {},
   "outputs": [],
   "source": [
    "# Submit your answer using following code\n",
    "ex2b_answer = {\n",
    "    \"max_states\": ..., #TODO set max_states\n",
    "    \"hivqe_energy\": ... #TODO set hivqe energy\n",
    "}"
   ]
  },
  {
   "cell_type": "code",
   "execution_count": null,
   "metadata": {},
   "outputs": [],
   "source": [
    "# grader set up\n",
    "grade_ex2b(ex2b_answer)"
   ]
  },
  {
   "cell_type": "markdown",
   "metadata": {},
   "source": [
    "# Part 3: Torsional Potential Energy"
   ]
  },
  {
   "cell_type": "markdown",
   "metadata": {},
   "source": [
    "### What is the torsional potential energy surface (PES) \n",
    "\n",
    "The torsional PES of ethylene serves as a textbook example of π-bonding and conjugation effects in unsaturated hydrocarbons. The following image shows that in the 0° conformation, the p-orbitals on each carbon overlap maximally, forming a strong π bond. Upon 90° rotation, the p-orbitals become orthogonal, and the overlap vanishes, effectively breaking the π bond. This results in a significant energy barrier, which is clearly seen on the torsional PES.\n",
    "\n",
    "Accurately predicting the torsional PES of simple systems like ethylene also holds significant industrial value, as it lays the groundwork for:\n",
    "\n",
    "\n",
    "- **Polymer and material design:** Ethylene is the monomeric unit of polyethylene. Understanding the torsional behavior informs flexibility, crystallinity, and thermal properties of the polymer chains.\n",
    "- **Catalysis and reaction mechanisms:** Ethylene is a key feedstock in petrochemical industries. In transition metal catalysis, such as Ziegler–Natta or metallocene catalysts, the ability of ethylene to rotate (or resist rotation) upon coordination impacts the stereochemistry and activity of the polymerization reaction.\n",
    "- **Surface chemistry and adsorption modeling:** In catalysis on metal surfaces or zeolites, ethylene’s torsion affects how it binds and reacts. Accurate PES modeling is vital in surface science and heterogeneous catalysis.\n",
    "\n",
    "![Alt text](slide1.png)"
   ]
  },
  {
   "cell_type": "markdown",
   "metadata": {},
   "source": [
    "Examine the molecular geometry with torsion of C=C bond"
   ]
  },
  {
   "cell_type": "code",
   "execution_count": null,
   "metadata": {},
   "outputs": [],
   "source": [
    "VISUALIZE_GEOMETRIES(structure_names, xyz_strings)"
   ]
  },
  {
   "cell_type": "markdown",
   "metadata": {},
   "source": [
    "<a id=\"exercise3\"></a>\n",
    "<div class=\"alert alert-block alert-success\">\n",
    "    \n",
    "<b> Exercise 3:</b> \n",
    "\n",
    "Apply max_states value to obtain from the previous HI-VQE exercise calculation and run with 5 different molecular geometry calculations to get torsional deformation PES curve for C=C of $C_{2}H_{4}$\n",
    "    \n",
    "</div>"
   ]
  },
  {
   "cell_type": "code",
   "execution_count": null,
   "metadata": {},
   "outputs": [],
   "source": [
    "### Write your code below here ###\n",
    "\n",
    "max_states = ... #TODO set max_states\n",
    "molecule_options = {\n",
    "    \"basis\": ..., #TODO set basis\n",
    "    \"active_orbitals\": ..., #TODO set active orbitals\n",
    "    \"frozen_orbitals\": ..., #TODO set frozen orbitals\n",
    "}"
   ]
  },
  {
   "cell_type": "markdown",
   "metadata": {},
   "source": [
    "<div class=\"alert alert-block alert-warning\">\n",
    "\n",
    "**⚠️ Warning: QPU Time Consumption**\n",
    "\n",
    "Running the cell below will submit multiple jobs to a QPU and consume real QPU time. Please ensure you intend to proceed.\n",
    "\n",
    "**Estimated QPU runtime:** 5 minutes 50 seconds (based on tests on `ibm_fez`)\n",
    "\n",
    "\n",
    "</div>"
   ]
  },
  {
   "cell_type": "code",
   "execution_count": null,
   "metadata": {},
   "outputs": [],
   "source": [
    "### Don't change any code past this line ###\n",
    "classical_expansion_states = 10\n",
    "\n",
    "ex3_job_ids = {}\n",
    "for structure_name, molecular_geometry in zip(structure_names, molecular_geometries):\n",
    "    \n",
    "    hivqe_options = {\"shots\": 1000, \"max_iter\": 40}\n",
    "\n",
    "    # Run HI-VQE\n",
    "    job = function.run(\n",
    "        geometry=molecular_geometry,\n",
    "        backend_name=backend_name,\n",
    "        max_states=max_states,\n",
    "        max_expansion_states=classical_expansion_states,\n",
    "        molecule_options=molecule_options,\n",
    "        hivqe_options=hivqe_options,\n",
    "        use_session=True,\n",
    "    )\n",
    "    print(f\"{structure_name} HI-VQE Job id: {job.job_id} and status: {job.status()}\")\n",
    "    ex3_job_ids[structure_name] = job.job_id"
   ]
  },
  {
   "cell_type": "code",
   "execution_count": null,
   "metadata": {},
   "outputs": [],
   "source": [
    "hivqe_energies_24qubits = {}\n",
    "\n",
    "for structure_name, job_id in ex3_job_ids.items():\n",
    "    job = catalog.job(job_id)\n",
    "    job_status = job.status()\n",
    "    print(f\"{structure_name} HI-VQE Job status:\", job_status)\n",
    "    if job_status == 'DONE':\n",
    "        result = job.result()\n",
    "        energy = result['energy']\n",
    "        print(f\"HI-VQE energy: {energy}\")\n",
    "        hivqe_energies_24qubits[structure_name]= energy"
   ]
  },
  {
   "cell_type": "code",
   "execution_count": null,
   "metadata": {},
   "outputs": [],
   "source": [
    "\n",
    "rhf_energy_min = min([v for k,v in rhf_energies.items()])\n",
    "rhf_energy_rel = np.array([v for k,v in rhf_energies.items()]) - rhf_energy_min\n",
    "rhf_energy_rel_kcalmol = rhf_energy_rel * 627.509\n",
    "\n",
    "exact_energies_24qubits_min = min([v for k,v in exact_energies_24qubits.items()])\n",
    "exact_energies_24qubits_rel = np.array([v for k,v in exact_energies_24qubits.items()]) - exact_energies_24qubits_min\n",
    "exact_energies_24qubits_rel_kcalmol = exact_energies_24qubits_rel * 627.509\n",
    "\n",
    "num_hivqe_energies = len([v for k,v in hivqe_energies_24qubits.items()])\n",
    "num_rhf_energies = len([v for k,v in rhf_energies.items()])\n",
    "num_exact_energies = len([v for k,v in exact_energies_24qubits.items()])\n",
    "\n",
    "if num_hivqe_energies == num_exact_energies:\n",
    "    hivqe_energies_24qubits_min = min([v for k,v in hivqe_energies_24qubits.items()])\n",
    "    hivqe_energies_24qubits_rel = np.array([v for k,v in hivqe_energies_24qubits.items()]) - hivqe_energies_24qubits_min\n",
    "    hivqe_energies_24qubits_rel_kcalmol = hivqe_energies_24qubits_rel * 627.509\n",
    "else:\n",
    "    print(\"Error: Number of structures in hivqe_energies_24qubits and rhf_energies do not match\")\n",
    "    \n",
    "structure_names_symmetric = structure_names + structure_names[-2::-1]\n",
    "rhf_energy_symmetric = np.concatenate([rhf_energy_rel_kcalmol, rhf_energy_rel_kcalmol[-2::-1]])\n",
    "exact_energy_symmetric = np.concatenate([exact_energies_24qubits_rel_kcalmol, exact_energies_24qubits_rel_kcalmol[-2::-1]])\n",
    "if num_hivqe_energies == num_exact_energies:\n",
    "    hivqe_energy_symmetric = np.concatenate([hivqe_energies_24qubits_rel_kcalmol, hivqe_energies_24qubits_rel_kcalmol[-2::-1]])\n",
    "\n",
    "fig, ax = plt.subplots(figsize=(10, 6))\n",
    "plt.plot(structure_names_symmetric, rhf_energy_symmetric, 'o-', label=\"RHF\", color=\"blue\", linewidth=2)\n",
    "plt.plot(structure_names_symmetric, exact_energy_symmetric, 'o-', label=\"Exact\", color=\"green\", linewidth=2)\n",
    "if num_hivqe_energies == num_exact_energies:\n",
    "    plt.plot(structure_names_symmetric, hivqe_energy_symmetric, 'o-', label=\"HI-VQE\", color=\"red\", linewidth=2)\n",
    "\n",
    "plt.xlabel(\"Torsion angle (deg)\", fontsize=16)\n",
    "plt.ylabel(\"Relative energy (kcal/mol)\", fontsize=16)\n",
    "plt.title(\"Torsional PES curve for $C_{2}H_{4}$, C=C bond\",fontsize=16)\n",
    "plt.xticks(rotation=30, fontsize=14)\n",
    "plt.grid(color='gray', linestyle='--', linewidth=0.7, alpha=0.7)  # Add this line\n",
    "plt.legend(fontsize=16)\n",
    "plt.savefig(\"Torsional_PES_curve_C2H4_C=C_bond.png\", dpi=300, bbox_inches=\"tight\")\n",
    "plt.show()"
   ]
  },
  {
   "cell_type": "code",
   "execution_count": null,
   "metadata": {},
   "outputs": [],
   "source": [
    "# Submit your answer using following code\n",
    "\n",
    "hivqe_energies_24qubits = ... #TODO provide above results for hivqe energies in dictionary format\n",
    "\n",
    "en_diff = []\n",
    "for k,v in hivqe_energies_24qubits.items():\n",
    "    en_diff.append(v-exact_energies_24qubits[k])\n",
    "max_en_diff = max(en_diff)\n",
    "\n",
    "ex3_answer = max_en_diff"
   ]
  },
  {
   "cell_type": "code",
   "execution_count": null,
   "metadata": {},
   "outputs": [],
   "source": [
    "grade_ex3(ex3_answer)"
   ]
  },
  {
   "cell_type": "markdown",
   "metadata": {},
   "source": [
    "<a id=\"tips\"></a>\n",
    "<div class=\"alert alert-block alert-info\">\n",
    "    \n",
    "<b> Tips:</b> \n",
    "\n",
    "You may notice that the solution to Exercise 2 can be directly leveraged to address Exercise 3, even when the system involves inaccuracies in torsional geometry. This is because changes in molecular geometry lead to variations in correlation energies, which in turn require different values for `max_state`. The `max_state` parameter in HI-VQE limits the size of the subspace matrix, enabling efficient selection of the most relevant states from the full Hilbert space. However, it is not intended to be fixed across all systems. Therefore, the convergence tests performed with various `max_state` values in Exercise 2 provide valuable insight for tackling new chemical systems, helping ensure accurate results despite geometric perturbations.\n",
    "    \n",
    "</div>"
   ]
  },
  {
   "cell_type": "markdown",
   "metadata": {},
   "source": [
    "# Feedback Survey\n",
    "\n",
    "We’d love to hear about your experience using the Qiskit Function! Your feedback is valuable and will help Qiskit Function providers enhance their tools and services. Please take a moment to share your thoughts by completing our short 2 min [feedback survey](https://airtable.com/app6VujlNUHZuOnAF/pagpw6TgP9UEt4TAT/form)."
   ]
  },
  {
   "cell_type": "markdown",
   "metadata": {},
   "source": [
    "# References\n",
    "\n",
    "1. HI-VQE Chemistry Qiskit Function Tutorial: https://docs.quantum.ibm.com/guides/qunova-chemistry\n",
    "2. Arxiv paper describing HI-VQE function: https://arxiv.org/abs/2503.06292"
   ]
  },
  {
   "cell_type": "markdown",
   "metadata": {},
   "source": [
    "# Additional information\n",
    "\n",
    "**Created by:** Pilsun Yoo\n",
    "\n",
    "**Advised by:** Junye Huang\n",
    "\n",
    "**Version:** 1.0.0"
   ]
  },
  {
   "cell_type": "markdown",
   "metadata": {},
   "source": [
    "# Qiskit packages versions"
   ]
  },
  {
   "cell_type": "code",
   "execution_count": null,
   "metadata": {},
   "outputs": [],
   "source": [
    "import qiskit\n",
    "import qiskit_ibm_runtime\n",
    "import qiskit_ibm_catalog\n",
    "\n",
    "print(f'Qiskit: {qiskit.__version__}')\n",
    "print(f'Qiskit IBM Runtime: {qiskit_ibm_runtime.__version__}')\n",
    "print(f'Qiskit IBM Catalog: {qiskit_ibm_catalog.__version__}')"
   ]
  }
 ],
 "metadata": {
  "kernelspec": {
   "display_name": "base",
   "language": "python",
   "name": "python3"
  },
  "language_info": {
   "codemirror_mode": {
    "name": "ipython",
    "version": 3
   },
   "file_extension": ".py",
   "mimetype": "text/x-python",
   "name": "python",
   "nbconvert_exporter": "python",
   "pygments_lexer": "ipython3",
   "version": "3.12.2"
  }
 },
 "nbformat": 4,
 "nbformat_minor": 4
}
