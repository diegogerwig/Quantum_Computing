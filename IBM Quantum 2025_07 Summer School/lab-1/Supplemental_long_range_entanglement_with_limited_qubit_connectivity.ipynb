{
 "cells": [
  {
   "cell_type": "markdown",
   "id": "ba4719fa",
   "metadata": {
    "heading_collapsed": true,
    "id": "ba4719fa"
   },
   "source": [
    "# Long-range entanglement with limited qubit connectivity [Abstracted Version]\n",
    "\n",
    "This tutorial is based on the IBM Quantum Learning tutorial, \"[Long-range entanglement with dynamic circuits\n",
    "](https://quantum.cloud.ibm.com/docs/en/tutorials/long-range-entanglement#long-range-entanglement-with-dynamic-circuits)\". It covers the core idea from the original: using a **measurement-based implementation with dynamic circuits** to entangle qubits, which helps optimize QPU (Quantum Processing Unit) usage. \n",
    "\n",
    "This notebook aims to provide a starting point for the Lab 1 open challenge by demonstrating how to create long-range entanglement between physically non-directly connected qubits. The ideas and results presented build upon the work in the paper by Elisa Bäumer et al. [1]. You can find a more high level explanation in [this blog post.](https://www.ibm.com/quantum/blog/long-range-entanglement)\n",
    "\n",
    "Usage estimate: ~30 seconds on ibm_torino. (NOTE: This is an estimate only. Your runtime may vary.)\n",
    "\n",
    "<div class=\"alert alert-block alert-warning\">\n",
    "<b>Resource limit</b>\n",
    "\n",
    "The original tutorial consumes roughly 90 min QPU time accordingly. Please use this tutorial to save your resource.\n",
    "\n",
    "</div>"
   ]
  },
  {
   "cell_type": "markdown",
   "id": "1f0b8be3",
   "metadata": {
    "id": "1f0b8be3"
   },
   "source": [
    "## Requirements\n",
    "\n",
    "Before starting this tutorial, ensure that you have the following installed:\n"
   ]
  },
  {
   "cell_type": "code",
   "execution_count": null,
   "id": "a56db8a0-9fc7-40e9-b72c-0dfaab0d6dbc",
   "metadata": {
    "id": "a56db8a0-9fc7-40e9-b72c-0dfaab0d6dbc"
   },
   "outputs": [],
   "source": [
    "!pip install -U 'qiskit[visualization]' matplotlib numpy qiskit-ibm-runtime"
   ]
  },
  {
   "cell_type": "markdown",
   "id": "c75dbecb-c273-4955-991e-557f9b5a41df",
   "metadata": {
    "hidden": true,
    "id": "c75dbecb-c273-4955-991e-557f9b5a41df"
   },
   "source": [
    "In this tutorial, you will run a gate teleportation circuit in three different setups. We will always assume a line of n qubits, where we want to apply a CNOT gate between the two end qubits, with n-2 ancilla qubits in between.\n",
    "\n",
    "The three approaches are:\n",
    "* **Unitary-based implementation**: This method uses SWAP gates to bring the qubits to the middle to apply the CNOT.\n",
    "* **Measurement-based implementation (with dynamic circuits)**: This method uses measurement and real-time feedforward of information during the quantum computation.\n",
    "\n",
    "As a starting point for this extrachallenge, this notebook will demonstrate the implementation of a Bell state between the qubit pairs **[0,1]**, **[0,3]**, and **[0,15]** of an Eagle processor in the two given ways and compare the results.\n",
    "\n",
    "### Import Necessary Libraries\n",
    "Before we begin, we need to import the main functions from Qiskit."
   ]
  },
  {
   "cell_type": "code",
   "execution_count": 1,
   "id": "9d02f8a1-3069-4507-91ed-73b7f6610f39",
   "metadata": {
    "hidden": true,
    "id": "9d02f8a1-3069-4507-91ed-73b7f6610f39"
   },
   "outputs": [],
   "source": [
    "import os\n",
    "\n",
    "import numpy as np\n",
    "from numpy import pi\n",
    "import matplotlib.pyplot as plt\n",
    "\n",
    "\n",
    "# Importing standard Qiskit libraries\n",
    "from qiskit import QuantumCircuit, QuantumRegister, ClassicalRegister, transpile\n",
    "from qiskit.primitives import BitArray\n",
    "from qiskit.visualization import *\n",
    "\n",
    "from qiskit_ibm_runtime import QiskitRuntimeService\n",
    "\n",
    "from qiskit.circuit import Gate\n",
    "from qiskit.circuit.library import XGate\n",
    "\n",
    "from qiskit.providers.backend import BackendV2 as Backend\n",
    "from qiskit.transpiler import CouplingMap, InstructionDurations\n",
    "from qiskit.transpiler.passmanager import PassManager\n",
    "from qiskit.transpiler.preset_passmanagers import generate_preset_pass_manager\n",
    "\n",
    "from qiskit_ibm_runtime import QiskitRuntimeService, Options\n",
    "from qiskit_ibm_runtime import Session, Batch, SamplerV2 as Sampler\n",
    "\n",
    "from qiskit_ibm_runtime.transpiler.passes.scheduling import (\n",
    "    DynamicCircuitInstructionDurations,\n",
    "    ALAPScheduleAnalysis,\n",
    "    PadDynamicalDecoupling,\n",
    ")\n",
    "\n",
    "%matplotlib inline\n",
    "\n",
    "import warnings\n",
    "warnings.filterwarnings(\"ignore\")"
   ]
  },
  {
   "cell_type": "markdown",
   "id": "4f79adf3-0bee-49cb-a166-e5cd4cc04bc3",
   "metadata": {
    "id": "4f79adf3-0bee-49cb-a166-e5cd4cc04bc3"
   },
   "source": [
    "### Set Up and Prepare the IBM Quantum Backend\n",
    "\n",
    "To run circuits on a real quantum computer, we first connect to the IBM Quantum service using `QiskitRuntimeService`. Then, from the available backends, we select the specific hardware we will use for this experiment.\n",
    "\n",
    "Here, we will select least busy 127-qubit Eagle processor, as our backend."
   ]
  },
  {
   "cell_type": "code",
   "execution_count": 4,
   "id": "3fcZL3i-akFF",
   "metadata": {
    "id": "3fcZL3i-akFF"
   },
   "outputs": [],
   "source": [
    "# Save your API token to track your progress and have access to the quantum computers\n",
    "\n",
    "#your_token=\"your_token\"\n",
    "#your_instace=\"your_crn\"\n",
    "\n",
    "QiskitRuntimeService.save_account(\n",
    "    channel=\"ibm_cloud\",\n",
    "    token=\"your_token\",\n",
    "    instance=\"your_crn\",\n",
    "    set_as_default=True,\n",
    "    overwrite=True,\n",
    ")"
   ]
  },
  {
   "cell_type": "code",
   "execution_count": 5,
   "id": "1c307e21-7300-4e4e-84b5-59b1d47d7a3b",
   "metadata": {
    "colab": {
     "base_uri": "https://localhost:8080/"
    },
    "id": "1c307e21-7300-4e4e-84b5-59b1d47d7a3b",
    "outputId": "4c29119e-0451-4e74-ef45-888a2b62c194"
   },
   "outputs": [],
   "source": [
    "from qiskit_ibm_runtime import QiskitRuntimeService\n",
    "from typing import Any, List, Dict, Union, Optional, Callable, Tuple\n",
    "from qiskit.circuit import IfElseOp\n",
    "\n",
    "service = QiskitRuntimeService()\n"
   ]
  },
  {
   "cell_type": "markdown",
   "id": "11e35681-d7d0-4d5d-8764-5517181d91d0",
   "metadata": {
    "id": "11e35681-d7d0-4d5d-8764-5517181d91d0"
   },
   "source": [
    "### **Set Primary Parameters**\n",
    "\n",
    "In this section, we define some common parameters that will be used throughout the experiment. These parameters need to be configured for a particular backend. For instance, the **`COUPLING_MAP`** defines the physical connectivity between qubits, which determines where two-qubit gates like CNOT can be applied.\n",
    "\n",
    "Here, we will filter the full `COUPLING_MAP` to create a linear map, `COUPLING_MAP_1D`, which only includes the connections along our specified `QUBIT_LINE`.\n"
   ]
  },
  {
   "cell_type": "code",
   "execution_count": 6,
   "id": "4fc13eba-bc50-4607-88f9-8ada04b69794",
   "metadata": {
    "colab": {
     "base_uri": "https://localhost:8080/"
    },
    "id": "4fc13eba-bc50-4607-88f9-8ada04b69794",
    "outputId": "cb4518a7-1dfe-41c1-f396-3220bd2e3879"
   },
   "outputs": [
    {
     "name": "stdout",
     "output_type": "stream",
     "text": [
      "Machine is set to: ibm_torino\n",
      "Maximum number of qubits between CNOT for ibm_torino is 9 with the given qubit line.\n"
     ]
    }
   ],
   "source": [
    "def coupling_map_from_qubit_line(coupling_map:List[List[int]],\n",
    "                                 qubit_line: List[List[int]]) -> List[List[int]]:\n",
    "    \"\"\"\n",
    "     Modify the full coupling map to force linearity in the qubit layout\n",
    "    \"\"\"\n",
    "    new_coupling_map = []\n",
    "    line_edge_list = []\n",
    "    for i in range(len(qubit_line)-1):\n",
    "        line_edge_list.append([qubit_line[i],qubit_line[i+1]])\n",
    "\n",
    "    for edge in coupling_map:\n",
    "        u,v = edge\n",
    "        edge_rev = [v,u]\n",
    "        if (edge in line_edge_list) or (edge_rev in line_edge_list):\n",
    "            new_coupling_map.append(edge)\n",
    "    return new_coupling_map\n",
    "\n",
    "\n",
    "# Set which quantum computer to use\n",
    "backend = service.least_busy(operational=True)\n",
    "backend.target.add_instruction(IfElseOp, name=\"if_else\")\n",
    "\n",
    "MACHINE_NAME = backend.name\n",
    "\n",
    "#update qubit line according to your backend connectivity, here I used ibm_torino\n",
    "qubit_lines = {backend.name:[0,1,2,3,4,16,23, 24, 25, 35, 44]}\n",
    "\n",
    "# Set qubit line and coupling map\n",
    "QUBIT_LINE = qubit_lines[MACHINE_NAME]\n",
    "COUPLING_MAP_FULL = [list(edge) for edge in list(QiskitRuntimeService().backend(MACHINE_NAME).coupling_map)]\n",
    "COUPLING_MAP_1D = coupling_map_from_qubit_line(COUPLING_MAP_FULL, QUBIT_LINE)\n",
    "MAX_POSSIBLE_QUBITS_BTW_CNOT = len(QUBIT_LINE) - 2\n",
    "\n",
    "\n",
    "print(f\"Machine is set to: {MACHINE_NAME}\")\n",
    "print(f\"Maximum number of qubits between CNOT for {MACHINE_NAME} is {MAX_POSSIBLE_QUBITS_BTW_CNOT} with the given qubit line.\")"
   ]
  },
  {
   "cell_type": "code",
   "execution_count": 7,
   "id": "c7718980-3efe-4810-afb0-29f8d252a2ed",
   "metadata": {
    "id": "c7718980-3efe-4810-afb0-29f8d252a2ed"
   },
   "outputs": [],
   "source": [
    "OPTIMIZATION_LEVEL = 3\n",
    "# Set to True to use dynamical decoupling\n",
    "SHOTS = 1024\n",
    "sampler = Sampler(mode=backend)\n",
    "sampler.options.experimental = {\"execution_path\" : \"gen3-experimental\"}"
   ]
  },
  {
   "cell_type": "markdown",
   "id": "ab818e7a-14d7-441f-add8-fa49ebc00551",
   "metadata": {
    "id": "ab818e7a-14d7-441f-add8-fa49ebc00551"
   },
   "source": [
    "### Prepare for Dynamic Decoupling\n",
    "\n",
    "During a quantum computation, qubits in an idle state (waiting for their next operation) are susceptible to losing their quantum state due to environmental interactions (decoherence). **Dynamic Decoupling** is a technique that reduces the impact of this noise by applying a specific sequence of pulses (here, two X-gates) to the idle qubits, improving overall fidelity.\n",
    "\n",
    "We will prepare to apply this using the `PadDynamicalDecoupling` pass."
   ]
  },
  {
   "cell_type": "code",
   "execution_count": 8,
   "id": "be0b6bef-8f13-4a78-a2a3-d525215adaa9",
   "metadata": {
    "id": "be0b6bef-8f13-4a78-a2a3-d525215adaa9"
   },
   "outputs": [],
   "source": [
    "from qiskit_ibm_runtime.transpiler.passes.scheduling import (\n",
    "    ASAPScheduleAnalysis,\n",
    "    PadDynamicalDecoupling,\n",
    ")\n",
    "from qiskit.circuit.library import XGate\n",
    "durations = backend.target.durations()\n",
    "\n",
    "# This is the sequence we'll apply to idling qubits\n",
    "dd_sequence = [XGate(), XGate()]\n",
    "\n",
    "# Run scheduling and dynamic decoupling passes on circuit\n",
    "pm_dd = PassManager([ASAPScheduleAnalysis(durations), PadDynamicalDecoupling(durations, dd_sequence)])"
   ]
  },
  {
   "cell_type": "markdown",
   "id": "1439e5e6-af49-4b7a-95ba-ac7cc75a31e7",
   "metadata": {
    "heading_collapsed": true,
    "id": "1439e5e6-af49-4b7a-95ba-ac7cc75a31e7"
   },
   "source": [
    "#### Unitary-based implementation swapping the qubits to the middle\n",
    "\n",
    "First, examine the case where a long-range CNOT gate is implemented using nearest-neighbor connections and unitary gates. In the following figure, on the left is a circuit for a long-range CNOT gate spanning a 1D chain of n-qubits subject to nearest-neighbor connections only. On the right is an equivalent unitary decomposition implementable with local CNOT gates, circuit depth O(n).\n",
    "\n",
    "![image.png](https://learning-api.quantum.ibm.com/assets/19afd12f-2ba1-4d1e-9ac7-4801b8049a64)\n",
    "\n",
    "The circuit on the right can be implemented as follows:\n"
   ]
  },
  {
   "cell_type": "code",
   "execution_count": 9,
   "id": "a25f7b2f-18c3-4bc4-8a31-06f8aac5e45c",
   "metadata": {
    "id": "a25f7b2f-18c3-4bc4-8a31-06f8aac5e45c"
   },
   "outputs": [],
   "source": [
    "def CNOT_unitary(qc: QuantumCircuit, control_qubit: int, target_qubit: int) -> QuantumCircuit:\n",
    "    \"\"\"Generate a CNOT gate bewteen data qubit control_qubit and data qubit target_qubit using local CNOTs\n",
    "\n",
    "    Assumes that the long-range CNOT gate will be spanning a 1D chain of n-qubits subject to nearest-neighbor\n",
    "    connections only with the chain starting at the control qubit and finishing at the target qubit.\n",
    "\n",
    "    Assumes that control_qubit < target_qubit (as integers) and that the provided circuit qc has |0> set\n",
    "    qubits control_qubit+1, ..., target_qubit-1\n",
    "\n",
    "    Args:\n",
    "        qc (QuantumCicruit) : A Quantum Circuit to add the long range localized unitary CNOT\n",
    "        control_qubit (int) : The qubit used as the control.\n",
    "        target_qubi (int) : The qubit targeted by the gate.\n",
    "\n",
    "    Example:\n",
    "\n",
    "        qc = QuantumCircuit(8,2)\n",
    "        qc = CNOT_unitary(qc, 0, 7)\n",
    "\n",
    "    Returns:\n",
    "        QuantumCircuit\n",
    "\n",
    "    \"\"\"\n",
    "    assert target_qubit > control_qubit\n",
    "    n = target_qubit - control_qubit - 1\n",
    "    k = int(n/2)\n",
    "    qc.barrier()\n",
    "    for i in range(control_qubit, control_qubit + k):\n",
    "        qc.cx(i,i+1)\n",
    "        qc.cx(i+1,i)\n",
    "        qc.cx(-i-1,-i-2)\n",
    "        qc.cx(-i-2,-i-1)\n",
    "    if n%2==1:\n",
    "        qc.cx(k+2,k+1)\n",
    "        qc.cx(k+1,k+2)\n",
    "    qc.barrier()\n",
    "    qc.cx(k,k+1)\n",
    "    for i in range(control_qubit, control_qubit + k):\n",
    "        qc.cx(k-i,k-1-i)\n",
    "        qc.cx(k-1-i,k-i)\n",
    "        qc.cx(k+i+1,k+i+2)\n",
    "        qc.cx(k+i+2,k+i+1)\n",
    "    if n%2==1:\n",
    "        qc.cx(-2,-1)\n",
    "        qc.cx(-1,-2)\n",
    "    qc.barrier()\n",
    "    return qc"
   ]
  },
  {
   "cell_type": "markdown",
   "id": "1f566ac4-b8d2-4565-977f-43717f3e40ab",
   "metadata": {
    "id": "1f566ac4-b8d2-4565-977f-43717f3e40ab"
   },
   "source": [
    "#### Long-range measurement-based CNOT with feedforward\n",
    "\n",
    "Finally, examine the case where a long-range CNOT gate is implemented using measurement-based CNOT with feedforward (dynamic circuits). In the following figure, on the left is a circuit for a long-range CNOT gate spanning a 1D chain of n-qubits subject to nearest-neighbor connections only. On the right is an equivalent implementable with local CNOT gates, measurement-based CNOT with feedforward (dynamic circuits).\n",
    "\n",
    "![image.png](https://learning-api.quantum.ibm.com/assets/a1d03a10-bca6-45aa-a80b-d6ba85a88408)\n",
    "\n",
    "The circuit on the right can be implemented as follows:"
   ]
  },
  {
   "cell_type": "code",
   "execution_count": 10,
   "id": "5c864fcf-0b77-44df-9750-0cd510640305",
   "metadata": {
    "hidden": true,
    "id": "5c864fcf-0b77-44df-9750-0cd510640305"
   },
   "outputs": [],
   "source": [
    "from qiskit.circuit.classical import expr\n",
    "\n",
    "def CNOT_dyn(qc: QuantumCircuit,\n",
    "             control_qubit: int,\n",
    "             target_qubit: int,\n",
    "             c1: Optional[ClassicalRegister]=None,\n",
    "             c2: Optional[ClassicalRegister]=None,\n",
    "             add_barriers: Optional[bool]=True) -> QuantumCircuit:\n",
    "    \"\"\"Generate a CNOT gate bewteen data qubit control_qubit and data qubit target_qubit using Bell Pairs.\n",
    "\n",
    "    Post processing is used to enable the CNOT gate via the provided classicial registers c1 and c2\n",
    "\n",
    "    Assumes that the long-range CNOT gate will be spanning a 1D chain of n-qubits subject to nearest-neighbor\n",
    "    connections only with the chain starting at the control qubit and finishing at the target qubit.\n",
    "\n",
    "    Assumes that control_qubit < target_qubit (as integers) and that the provided circuit qc has |0> set\n",
    "    qubits control_qubit+1, ..., target_qubit-1\n",
    "\n",
    "    n = target_qubit - control_qubit - 1 : Number of qubits between the target and control qubits\n",
    "    k = int(n/2) : Number of Bell pairs created\n",
    "\n",
    "    Args:\n",
    "        qc (QuantumCicruit) : A Quantum Circuit to add the long range localized unitary CNOT\n",
    "        control_qubit (int) : The qubit used as the control.\n",
    "        target_qubi (int) : The qubit targeted by the gate.\n",
    "\n",
    "    Optional Args:\n",
    "        c1 (ClassicialRegister) : Default = None. Required if n > 1. Register requires k bits\n",
    "        c2 (ClassicalRegister) : Default = None. Required if n > 0. Register requires n - k bits\n",
    "        add_barriers (bool) : Default = True. Include barriers before and after long range CNOT\n",
    "\n",
    "    Note: This approached uses two if_test statements. A better (more performant) approach is\n",
    "    to have the parity values combined into a single classicial register and then use a switch\n",
    "    statement. This was done in the associated paper my modifying the qasm file directly. The ability\n",
    "    to use a switch statement via Qiakit in this way is a future release capability.\n",
    "\n",
    "    Returns:\n",
    "        QuantumCircuit\n",
    "    \"\"\"\n",
    "    assert target_qubit > control_qubit\n",
    "    n = target_qubit - control_qubit - 1\n",
    "    t = int(n/2)\n",
    "\n",
    "    if add_barriers is True:\n",
    "        qc.barrier()\n",
    "\n",
    "    # Deteremine where to start the bell pairs and\n",
    "    # add an extra CNOT when n is odd\n",
    "    if n%2 == 0:\n",
    "        x0 = 1\n",
    "    else:\n",
    "        x0 = 2\n",
    "        qc.cx(0,1)\n",
    "\n",
    "    # Create t Bell pairs\n",
    "    for i in range(t):\n",
    "        qc.h(x0+2*i)\n",
    "        qc.cx(x0+2*i,x0+2*i+1)\n",
    "\n",
    "    # Entangle Bell pairs and data qubits and measure\n",
    "    for i in range(t+1):\n",
    "        qc.cx(x0-1+2*i,x0+2*i)\n",
    "\n",
    "    for i in range(1,t+x0):\n",
    "        if (i==1):\n",
    "            qc.h(2*i+1-x0)\n",
    "            qc.measure(2*i+1-x0, c2[i-1])\n",
    "            parity_control = expr.lift(c2[i-1])\n",
    "        else:\n",
    "            qc.h(2*i+1-x0)\n",
    "            qc.measure(2*i+1-x0, c2[i-1])\n",
    "            parity_control = expr.bit_xor(c2[i-1], parity_control)\n",
    "\n",
    "    for i in range(t):\n",
    "        if (i==0):\n",
    "            qc.measure(2*i+x0, c1[i])\n",
    "            parity_target = expr.lift(c1[i])\n",
    "        else:\n",
    "            qc.measure(2*i+x0, c1[i])\n",
    "            parity_target = expr.bit_xor(c1[i], parity_target)\n",
    "\n",
    "    if (n>0):\n",
    "        with qc.if_test(parity_control):\n",
    "            qc.z(0)\n",
    "\n",
    "    if (n>1):\n",
    "        with qc.if_test(parity_target):\n",
    "            qc.x(-1)\n",
    "\n",
    "    if add_barriers is True:\n",
    "        qc.barrier()\n",
    "    return qc"
   ]
  },
  {
   "cell_type": "markdown",
   "id": "56e24063-c151-4388-8287-aecdac27796d",
   "metadata": {
    "id": "56e24063-c151-4388-8287-aecdac27796d"
   },
   "source": [
    "### **Create the Experiment Circuits**\n",
    "\n",
    "Now, we will create the circuits for our experiment using the three methods defined above (`CNOT_unitary`, `CNOT_dyn`) and a reference circuit with a direct CNOT. We will create circuits for the **[0,3]** and **[0,16]** qubit pairs to compare performance over different distances.\n",
    "\n",
    "We use `generate_preset_pass_manager` to optimize (transpile) each circuit for the backend's specific qubit layout and coupling map. Finally, we apply dynamic decoupling by running them through `pm_dd.run`.\n",
    "\n",
    "All circuits will be saved into `circuits`."
   ]
  },
  {
   "cell_type": "code",
   "execution_count": 12,
   "id": "6487063b-811b-49c5-b734-469d0c9fa3af",
   "metadata": {
    "id": "6487063b-811b-49c5-b734-469d0c9fa3af"
   },
   "outputs": [],
   "source": [
    "# Reference Circuit (0 & 1)\n",
    "circuits = []\n",
    "layout = QUBIT_LINE[:2]\n",
    "pm = generate_preset_pass_manager(coupling_map = COUPLING_MAP_1D,\n",
    "                                    initial_layout = layout,\n",
    "                                    optimization_level = 3,\n",
    "                                    backend = backend)\n",
    "\n",
    "qr = QuantumRegister(2, name=\"q\")         # Circuit with n qubits between control and target\n",
    "cr = ClassicalRegister(2, name=\"cr\")\n",
    "\n",
    "ref_circ = QuantumCircuit(qr,cr)\n",
    "ref_circ.h(0)\n",
    "ref_circ.cx(0,1)\n",
    "ref_circ.measure(qr,cr)\n",
    "circuits.append(pm_dd.run(pm.run(ref_circ)))"
   ]
  },
  {
   "cell_type": "code",
   "execution_count": 13,
   "id": "f7f32034-79b9-43b3-b4f4-e3ddb372e3f5",
   "metadata": {
    "id": "f7f32034-79b9-43b3-b4f4-e3ddb372e3f5"
   },
   "outputs": [],
   "source": [
    "#[0,3]\n",
    "n=2\n",
    "layout = QUBIT_LINE[:n+2]\n",
    "\n",
    "qr = QuantumRegister(n+2, name=\"q\")         # Circuit with n qubits between control and target\n",
    "cr = ClassicalRegister(2, name=\"cr\")        # Classicial register for measuring long range CNOT\n",
    "\n",
    "k = int(n/2)                                # Number of Bell States to be used\n",
    "c1 = ClassicalRegister(k,   name=\"c1\")\n",
    "c2 = ClassicalRegister(n-k, name=\"c2\")      # Classicial register needed for post processing\n",
    "\n",
    "pm = generate_preset_pass_manager(coupling_map = COUPLING_MAP_1D,\n",
    "                                    initial_layout = layout,\n",
    "                                    optimization_level = 3,\n",
    "                                    backend = backend)\n",
    "\n",
    "#pm.scheduling = PassManager(\n",
    "#    [\n",
    "#        ALAPScheduleAnalysis(durations),\n",
    "#        PadDynamicalDecoupling(durations, dd_sequence),\n",
    "#    ]\n",
    "#)\n",
    "    \n",
    "circuit = QuantumCircuit(qr, cr, c1,c2, name=\"CNOT\")\n",
    "circuit.h(0)\n",
    "circuit = CNOT_unitary(circuit,0,3,)\n",
    "circuit.measure([0,3],[0,1])\n",
    "circuits.append(pm_dd.run(pm.run(circuit)))\n",
    "\n",
    "\n",
    "circuit = QuantumCircuit(qr, cr, c1,c2, name=\"CNOT\")\n",
    "circuit.h(0)\n",
    "circuit = CNOT_dyn(circuit,0,3,c1,c2)\n",
    "circuit.measure([0,3],cr)\n",
    "circuits.append(pm_dd.run(pm.run(circuit)))"
   ]
  },
  {
   "cell_type": "code",
   "execution_count": 23,
   "id": "05a25023-0b3f-48a6-9782-4b7eb26151c0",
   "metadata": {
    "id": "05a25023-0b3f-48a6-9782-4b7eb26151c0"
   },
   "outputs": [],
   "source": [
    "#[0,15]\n",
    "\n",
    "n=4\n",
    "layout = QUBIT_LINE[:n+2]\n",
    "\n",
    "qr = QuantumRegister(n+2, name=\"q\")         # Circuit with n qubits between control and target\n",
    "cr = ClassicalRegister(2, name=\"cr\")        # Classicial register for measuring long range CNOT\n",
    "\n",
    "k = int(n/2)                                # Number of Bell States to be used\n",
    "c1 = ClassicalRegister(k,   name=\"c1\")\n",
    "c2 = ClassicalRegister(n-k, name=\"c2\")      # Classicial register needed for post processing\n",
    "\n",
    "pm = generate_preset_pass_manager(coupling_map = COUPLING_MAP_1D,\n",
    "                                    initial_layout = layout,\n",
    "                                    optimization_level = 3,\n",
    "                                    backend = backend)\n",
    "circuit = QuantumCircuit(qr, cr, c1,c2, name=\"CNOT\")\n",
    "circuit.h(0)\n",
    "circuit = CNOT_unitary(circuit,0,n+1)\n",
    "circuit.measure([0,n+1],cr)\n",
    "circuits.append(pm_dd.run(pm.run(circuit)))\n",
    "\n",
    "\n",
    "circuit = QuantumCircuit(qr, cr, c1,c2, name=\"CNOT\")\n",
    "circuit.h(0)\n",
    "circuit = CNOT_dyn(circuit,0,n+1,c1,c2)\n",
    "circuit.measure([0,n+1],cr)\n",
    "circuits.append(pm_dd.run(pm.run(circuit)))"
   ]
  },
  {
   "cell_type": "markdown",
   "id": "210a251f-a4b0-43f1-b081-67da215719bb",
   "metadata": {
    "id": "210a251f-a4b0-43f1-b081-67da215719bb"
   },
   "source": [
    "### Execute using Qiskit Primitives\n",
    "\n",
    "All the prepared circuits are now executed on the backend using the `Sampler` primitive. The `Sampler` is responsible for running circuits and returning the measurement outcomes as a probability distribution.\n",
    "\n",
    "Using a `Session` context manager allows us to efficiently group and manage multiple jobs. Each circuit will be run for **1024 shots** to gather reliable statistics.\n",
    "\n"
   ]
  },
  {
   "cell_type": "code",
   "execution_count": 14,
   "id": "9b960de5",
   "metadata": {
    "id": "9b960de5"
   },
   "outputs": [],
   "source": [
    "job_ids = []\n",
    "\n",
    "\n",
    "job = sampler.run(circuits, shots=1024)\n",
    "\n",
    "job_id = job.job_id()"
   ]
  },
  {
   "cell_type": "code",
   "execution_count": null,
   "id": "sp8m1s7Abfmi",
   "metadata": {
    "colab": {
     "base_uri": "https://localhost:8080/",
     "height": 35
    },
    "id": "sp8m1s7Abfmi",
    "outputId": "a4763046-8fed-4a7f-965c-df505f275132"
   },
   "outputs": [],
   "source": [
    "job.status()"
   ]
  },
  {
   "cell_type": "code",
   "execution_count": 35,
   "id": "13158a17-2d4c-4610-89eb-2a535fb41763",
   "metadata": {
    "id": "13158a17-2d4c-4610-89eb-2a535fb41763"
   },
   "outputs": [],
   "source": [
    "from qiskit_ibm_runtime import QiskitRuntimeService\n",
    "job = service.job(job_id)\n",
    "job_result = job.result()"
   ]
  },
  {
   "cell_type": "markdown",
   "id": "f0779516-c215-4e58-ba0f-fd6b604f8c44",
   "metadata": {
    "id": "f0779516-c215-4e58-ba0f-fd6b604f8c44"
   },
   "source": [
    "### Analyze and Visualize the Results\n",
    "\n",
    "Once the job is complete, we retrieve the measurement `counts` from the results of each circuit.\n",
    "\n",
    "Using `plot_histogram`, we can visualize and compare the results for each method (Unitary, Dynamic) and distance ([0,1], [0,3], [0,15]) in a single histogram. For an ideal Bell state, we expect to measure the `00` and `11` states with roughly 50% probability each. The histogram allows us to see how close each method came to this ideal outcome in a noisy environment."
   ]
  },
  {
   "cell_type": "code",
   "execution_count": 36,
   "id": "9037aa42-7d3f-45ed-8d8e-1147879172dc",
   "metadata": {
    "id": "9037aa42-7d3f-45ed-8d8e-1147879172dc"
   },
   "outputs": [],
   "source": [
    "counts = []\n",
    "for result in job_result:\n",
    "    counts.append(result.data.cr.get_counts())"
   ]
  },
  {
   "cell_type": "code",
   "execution_count": 37,
   "id": "3779952e-6035-4f5c-b8d3-b543b05f3202",
   "metadata": {
    "colab": {
     "base_uri": "https://localhost:8080/",
     "height": 487
    },
    "id": "3779952e-6035-4f5c-b8d3-b543b05f3202",
    "outputId": "adbfcda8-84d2-459c-af02-65ac64c75e5e"
   },
   "outputs": [
    {
     "data": {
      "image/png": "[encoded data removed]",
      "text/plain": [
       "<Figure size 640x480 with 1 Axes>"
      ]
     },
     "execution_count": 37,
     "metadata": {},
     "output_type": "execute_result"
    }
   ],
   "source": [
    "from qiskit.visualization import plot_histogram\n",
    "\n",
    "plot_histogram(counts, legend=['0&1', '0&3 Uni', '0&3 Dyn', '0&15 Uni', '0&15 Dyn'])"
   ]
  },
  {
   "cell_type": "markdown",
   "id": "f3809ec3-742c-4388-b0c1-7fec552c248b",
   "metadata": {
    "id": "f3809ec3-742c-4388-b0c1-7fec552c248b"
   },
   "source": [
    "## References\n",
    "\n",
    "[1] Efficient Long-Range Entanglement using Dynamic Circuits, by\n",
    "*Elisa Bäumer, Vinay Tripathi, Derek S. Wang, Patrick Rall, Edward H. Chen, Swarnadeep Majumder, Alireza Seif, Zlatko K. Minev*. IBM Quantum, (2023).\n",
    "https://arxiv.org/abs/2308.13065\n"
   ]
  },
  {
   "cell_type": "code",
   "execution_count": null,
   "id": "ea9ea4f2-0d9f-4c42-85c7-305a37a21eb9",
   "metadata": {
    "id": "ea9ea4f2-0d9f-4c42-85c7-305a37a21eb9"
   },
   "outputs": [],
   "source": []
  }
 ],
 "metadata": {
  "colab": {
   "provenance": []
  },
  "kernelspec": {
   "display_name": "Python 3 (ipykernel)",
   "language": "python",
   "name": "python3"
  },
  "language_info": {
   "codemirror_mode": {
    "name": "ipython",
    "version": 3
   },
   "file_extension": ".py",
   "mimetype": "text/x-python",
   "name": "python",
   "nbconvert_exporter": "python",
   "pygments_lexer": "ipython3",
   "version": "3.11.11"
  },
  "widgets": {
   "application/vnd.jupyter.widget-state+json": {
    "state": {},
    "version_major": 2,
    "version_minor": 0
   }
  }
 },
 "nbformat": 4,
 "nbformat_minor": 5
}
